{
 "cells": [
  {
   "cell_type": "markdown",
   "id": "c6b0f006",
   "metadata": {
    "id": "hDICIZDoEMdc",
    "papermill": {
     "duration": 0.004293,
     "end_time": "2025-02-03T21:06:23.816644",
     "exception": false,
     "start_time": "2025-02-03T21:06:23.812351",
     "status": "completed"
    },
    "tags": []
   },
   "source": [
    "<h1>Activity: Conditional Statements</h1>"
   ]
  },
  {
   "cell_type": "markdown",
   "id": "8b81af57",
   "metadata": {
    "id": "zNXnshsCEQRg",
    "papermill": {
     "duration": 0.003375,
     "end_time": "2025-02-03T21:06:23.823945",
     "exception": false,
     "start_time": "2025-02-03T21:06:23.820570",
     "status": "completed"
    },
    "tags": []
   },
   "source": [
    "## Introduction \n",
    "\n",
    "In this lab, you will practice using Python operators to perform operations between two variables and write conditional statements.\n",
    "\n",
    "As a data analyst, you'll use conditional statements in your approach to many different tasks using Python. Using Boolean values, conditional statements will determine how a code block is executed based on how a condition is met.\n",
    "\n",
    "While continuing work for the movie theater, you're now examining marketing campaigns. Specifically, you'll be analyzing user behavior to determine when a customer's activity has prompted a marketing email.\n"
   ]
  },
  {
   "cell_type": "markdown",
   "id": "a88a3cb1",
   "metadata": {
    "id": "JGDxCJDlEYjv",
    "papermill": {
     "duration": 0.003325,
     "end_time": "2025-02-03T21:06:23.830919",
     "exception": false,
     "start_time": "2025-02-03T21:06:23.827594",
     "status": "completed"
    },
    "tags": []
   },
   "source": [
    "## Tips for completing this lab\n",
    "\n",
    "As you navigate this lab, keep the following tips in mind:\n",
    "\n",
    "- `### YOUR CODE HERE ###` indicates where you should write code. Be sure to replace this with your own code before running the code cell.\n",
    "- Feel free to open the hints for additional guidance as you work on each task.\n",
    "- To enter your answer to a question, double-click the markdown cell to edit. Be sure to replace the \"[Double-click to enter your responses here.]\" with your own answer.\n",
    "- You can save your work manually by clicking File and then Save in the menu bar at the top of the notebook.\n",
    "- You can download your work locally by clicking File and then Download and then specifying your preferred file format in the menu bar at the top of the notebook."
   ]
  },
  {
   "cell_type": "markdown",
   "id": "7d2769a0",
   "metadata": {
    "id": "c0xlgrSZEiIn",
    "papermill": {
     "duration": 0.003637,
     "end_time": "2025-02-03T21:06:23.838135",
     "exception": false,
     "start_time": "2025-02-03T21:06:23.834498",
     "status": "completed"
    },
    "tags": []
   },
   "source": [
    "## Task 1: Define a comparator function\n",
    "\n",
    "You are a data professional for a movie theater, and your task is to use customers' purchasing data to determine whether or not to send them a marketing email.\n",
    "\n",
    "*   Define a function called `send_email` that accepts the following arguments:\n",
    "    *  `num_visits` - the number of times a customer has visited the theater\n",
    "    *  `visits_email` - the minimum number of visits the customer must have made for them to receive a marketing email\n",
    "*   The function must print either: `Send email.` or `Not enough visits.`\n",
    "\n",
    "*Example:*\n",
    "\n",
    "```\n",
    " [IN] send_email(num_visits=3, visits_email=5)\n",
    "[OUT] 'Not enough visits.'\n",
    "\n",
    " [IN] send_email(num_visits=5, visits_email=5)\n",
    "[OUT] 'Send email.'\n",
    "```\n",
    "\n",
    "**Note that there is more than one way to solve this problem.**\n"
   ]
  },
  {
   "cell_type": "code",
   "execution_count": 1,
   "id": "3483c1b8",
   "metadata": {
    "execution": {
     "iopub.execute_input": "2025-02-03T21:06:23.846912Z",
     "iopub.status.busy": "2025-02-03T21:06:23.846473Z",
     "iopub.status.idle": "2025-02-03T21:06:23.852926Z",
     "shell.execute_reply": "2025-02-03T21:06:23.851810Z"
    },
    "id": "WLrIuaPHEAWI",
    "papermill": {
     "duration": 0.013018,
     "end_time": "2025-02-03T21:06:23.854933",
     "exception": false,
     "start_time": "2025-02-03T21:06:23.841915",
     "status": "completed"
    },
    "tags": []
   },
   "outputs": [],
   "source": [
    "### YOUR CODE HERE ###\n",
    "def send_email(num_visits, visits_email):\n",
    "    '''\n",
    "    identifies if a customer visiting a movie theater is eligible for marketing emails\n",
    "    uses the number of visits made and a visit threshold as the branching factor\n",
    "    \n",
    "    parameters:\n",
    "        num_visits (int): the # of times a cx has visited the movie theater\n",
    "        visits_email (int): threshold to send the marketing email\n",
    "        \n",
    "    returns:\n",
    "        print() --> 'Send email'\n",
    "        print() --> 'Not enough visits'\n",
    "    '''\n",
    "    \n",
    "    \n",
    "    # \n",
    "    if num_visits >= visits_email:\n",
    "        print('Send email')\n",
    "        \n",
    "    else:\n",
    "        print('Not enough visits')\n"
   ]
  },
  {
   "cell_type": "markdown",
   "id": "c725ffbf",
   "metadata": {
    "id": "kHXuuv-xJa9F",
    "papermill": {
     "duration": 0.003718,
     "end_time": "2025-02-03T21:06:23.862596",
     "exception": false,
     "start_time": "2025-02-03T21:06:23.858878",
     "status": "completed"
    },
    "tags": []
   },
   "source": [
    "<details>\n",
    "  <summary><h4><strong>Hint 1</strong></h4></summary>\n",
    "\n",
    "Consider the syntax for defining a function. Remember: a function definition statement must include a `def` keyword, the function's name, and its arguments, followed by a colon.\n",
    "\n",
    "</details>"
   ]
  },
  {
   "cell_type": "markdown",
   "id": "c1f373f2",
   "metadata": {
    "id": "_IDyvPuIJkpe",
    "papermill": {
     "duration": 0.003509,
     "end_time": "2025-02-03T21:06:23.870230",
     "exception": false,
     "start_time": "2025-02-03T21:06:23.866721",
     "status": "completed"
    },
    "tags": []
   },
   "source": [
    "<details>\n",
    "  <summary><h4><strong>Hint 2</strong></h4></summary>\n",
    "\n",
    "Recall Python's conditional and comparison operators.\n",
    "Check your indentation. Is your code indented properly?\n",
    "\n",
    "</details>"
   ]
  },
  {
   "cell_type": "markdown",
   "id": "e3643e3b",
   "metadata": {
    "id": "mZO3bM9dKm8Q",
    "papermill": {
     "duration": 0.003378,
     "end_time": "2025-02-03T21:06:23.877361",
     "exception": false,
     "start_time": "2025-02-03T21:06:23.873983",
     "status": "completed"
    },
    "tags": []
   },
   "source": [
    "<details>\n",
    "  <summary><h4><strong>Hint 3</strong></h4></summary>\n",
    "\n",
    "One approach is to compare `num_visits` to `visits_email` using the `>=` comparator.\n",
    "If `num_visits >= visits_email`, print `Send email.` Otherwise, print `Not enough visits.`.\n",
    "\n",
    "</details>"
   ]
  },
  {
   "cell_type": "markdown",
   "id": "36be49e9",
   "metadata": {
    "id": "Fxm8NLUfI8L2",
    "papermill": {
     "duration": 0.003303,
     "end_time": "2025-02-03T21:06:23.884262",
     "exception": false,
     "start_time": "2025-02-03T21:06:23.880959",
     "status": "completed"
    },
    "tags": []
   },
   "source": [
    "### Test your function\n",
    "Test your function against the following cases by running the cell below."
   ]
  },
  {
   "cell_type": "code",
   "execution_count": 2,
   "id": "74851132",
   "metadata": {
    "execution": {
     "iopub.execute_input": "2025-02-03T21:06:23.892770Z",
     "iopub.status.busy": "2025-02-03T21:06:23.892383Z",
     "iopub.status.idle": "2025-02-03T21:06:23.898185Z",
     "shell.execute_reply": "2025-02-03T21:06:23.897079Z"
    },
    "executionInfo": {
     "elapsed": 218,
     "status": "ok",
     "timestamp": 1679692888213,
     "user": {
      "displayName": "Matteo Riotto",
      "userId": "15211004813978485634"
     },
     "user_tz": 420
    },
    "id": "2dvkckG-IDEn",
    "outputId": "6f6e1d1c-639a-4ec8-a264-5c5924a9d55d",
    "papermill": {
     "duration": 0.012157,
     "end_time": "2025-02-03T21:06:23.900072",
     "exception": false,
     "start_time": "2025-02-03T21:06:23.887915",
     "status": "completed"
    },
    "tags": []
   },
   "outputs": [
    {
     "name": "stdout",
     "output_type": "stream",
     "text": [
      "Not enough visits\n",
      "Send email\n",
      "Send email\n"
     ]
    }
   ],
   "source": [
    "send_email(num_visits=3, visits_email=5)    # Should print 'Not enough visits.'\n",
    "send_email(num_visits=5, visits_email=5)    # Should print 'Send email.'\n",
    "send_email(num_visits=15, visits_email=10)  # Should print 'Send email.'"
   ]
  },
  {
   "cell_type": "markdown",
   "id": "8c6b73d7",
   "metadata": {
    "id": "7bMPSeGlJS_P",
    "papermill": {
     "duration": 0.003513,
     "end_time": "2025-02-03T21:06:23.907664",
     "exception": false,
     "start_time": "2025-02-03T21:06:23.904151",
     "status": "completed"
    },
    "tags": []
   },
   "source": [
    "## Task 2: Add logical branching to your function\n",
    "\n",
    "The theater is offering a promotion where customers who have visited the theater more than a designated number of times will also receive a coupon with their email. Update the function that you created above to include additional logical branching.\n",
    "\n",
    "*   Include an additional argument `visits_coupon` that represents the minimum number of visits the customer must have made for them to receive a coupon with their email.\n",
    "\n",
    "*   The function must print one of three possible messages:\n",
    "    1. `Send email with coupon.`\n",
    "    2. `Send email only.`\n",
    "    3. `Not enough visits.`\n",
    "    \n",
    "The minimum number of visits to receive a coupon will always be greater than the number to receive an email only. \n",
    "\n",
    "*Example:*\n",
    "\n",
    "```\n",
    " [IN] send_email(num_visits=3, visits_email=5, visits_coupon=8)\n",
    "[OUT] 'Not enough visits.'\n",
    "\n",
    " [IN] send_email(num_visits=5, visits_email=5, visits_coupon=8)\n",
    "[OUT] `Send email only.`\n",
    "\n",
    " [IN] send_email(num_visits=8, visits_email=5, visits_coupon=8)\n",
    "[OUT] `Send email with coupon.`\n",
    "```\n",
    "\n",
    "**Note that there is more than one way to solve this problem.**"
   ]
  },
  {
   "cell_type": "code",
   "execution_count": 3,
   "id": "942d6aa5",
   "metadata": {
    "execution": {
     "iopub.execute_input": "2025-02-03T21:06:23.916267Z",
     "iopub.status.busy": "2025-02-03T21:06:23.915948Z",
     "iopub.status.idle": "2025-02-03T21:06:23.921066Z",
     "shell.execute_reply": "2025-02-03T21:06:23.919942Z"
    },
    "id": "MmhBLmoQIO3t",
    "papermill": {
     "duration": 0.011505,
     "end_time": "2025-02-03T21:06:23.922918",
     "exception": false,
     "start_time": "2025-02-03T21:06:23.911413",
     "status": "completed"
    },
    "tags": []
   },
   "outputs": [],
   "source": [
    "### YOUR CODE HERE ###\n",
    "def send_email(num_visits, visits_email, visits_coupon):\n",
    "    '''\n",
    "    identifies if a customer visiting a movie theater is eligible for \n",
    "    1. marketing emails \n",
    "    2. coupons\n",
    "    uses the number of visits made and a visit threshold and coupon threshold\n",
    "    as the branching factors\n",
    "    \n",
    "    parameters:\n",
    "        num_visits (int): the # of times a cx has visited the movie theater\n",
    "        visits_email (int): threshold to send the marketing email\n",
    "        visits_coupon (int): threshold to send the coupons\n",
    "        \n",
    "    returns:\n",
    "        print() --> 'Send email with coupon'\n",
    "        print() --> 'Send email'\n",
    "        print() --> 'Not enough visits'\n",
    "    '''\n",
    "    \n",
    "    \n",
    "    # determine cx eligibility for email\n",
    "    if num_visits >= visits_email:\n",
    "        \n",
    "        # determine cx eligibility for email WITH coupon\n",
    "        if num_visits >= visits_coupon:\n",
    "            print('Send email with coupon')\n",
    "            \n",
    "        else:\n",
    "            print('Send email')\n",
    "        \n",
    "    else:\n",
    "        print('Not enough visits')\n"
   ]
  },
  {
   "cell_type": "markdown",
   "id": "39b2ba1b",
   "metadata": {
    "id": "XLFF5KvCWJI_",
    "papermill": {
     "duration": 0.00354,
     "end_time": "2025-02-03T21:06:23.930589",
     "exception": false,
     "start_time": "2025-02-03T21:06:23.927049",
     "status": "completed"
    },
    "tags": []
   },
   "source": [
    "<details>\n",
    "  <summary><h4><strong>Hint 1</strong></h4></summary>\n",
    "\n",
    "Refer to what you've learned about conditional statements, logical operators, and comparison operators.\n",
    "\n",
    "</details>"
   ]
  },
  {
   "cell_type": "markdown",
   "id": "c885b29c",
   "metadata": {
    "id": "5NMzbKu4WJAH",
    "papermill": {
     "duration": 0.003472,
     "end_time": "2025-02-03T21:06:23.937839",
     "exception": false,
     "start_time": "2025-02-03T21:06:23.934367",
     "status": "completed"
    },
    "tags": []
   },
   "source": [
    "<details>\n",
    "    <summary><h4><strong>Hint 2</strong></h4></summary>\n",
    "\n",
    "Make sure your `if`, `elif`, and `else` statements are indented properly beneath the function's definition line.\n",
    "\n",
    "Make sure your print statements are indented properly beneath each conditional statement.\n",
    "\n",
    "Check syntax.\n",
    "\n",
    "</details>"
   ]
  },
  {
   "cell_type": "markdown",
   "id": "28a9f663",
   "metadata": {
    "id": "hEJoR9FQWI2Q",
    "papermill": {
     "duration": 0.003522,
     "end_time": "2025-02-03T21:06:23.945123",
     "exception": false,
     "start_time": "2025-02-03T21:06:23.941601",
     "status": "completed"
    },
    "tags": []
   },
   "source": [
    "<details>\n",
    "  <summary><h4><strong>Hint 3</strong></h4></summary>\n",
    "\n",
    "One approach is to compare `num_visits` to both `visits_coupon` and `visits_email` using the `>=` comparator:\n",
    "\n",
    "If `num_visits >= visits_coupon`, print `Send email with coupon.`\n",
    "Or else if `num_visits >= visits_email`, print `Send email only.`\n",
    "Otherwise, print `Not enough visits.`\n",
    "\n",
    "</details>"
   ]
  },
  {
   "cell_type": "markdown",
   "id": "82030a2f",
   "metadata": {
    "id": "62ce0lVDXrHy",
    "papermill": {
     "duration": 0.003419,
     "end_time": "2025-02-03T21:06:23.952410",
     "exception": false,
     "start_time": "2025-02-03T21:06:23.948991",
     "status": "completed"
    },
    "tags": []
   },
   "source": [
    "### Test your function\n",
    "Test your function against the following cases by running the cell below."
   ]
  },
  {
   "cell_type": "code",
   "execution_count": 4,
   "id": "01604a98",
   "metadata": {
    "execution": {
     "iopub.execute_input": "2025-02-03T21:06:23.961122Z",
     "iopub.status.busy": "2025-02-03T21:06:23.960778Z",
     "iopub.status.idle": "2025-02-03T21:06:23.966955Z",
     "shell.execute_reply": "2025-02-03T21:06:23.966001Z"
    },
    "id": "Mc1hIWuPQwAt",
    "papermill": {
     "duration": 0.012398,
     "end_time": "2025-02-03T21:06:23.968517",
     "exception": false,
     "start_time": "2025-02-03T21:06:23.956119",
     "status": "completed"
    },
    "tags": []
   },
   "outputs": [
    {
     "name": "stdout",
     "output_type": "stream",
     "text": [
      "Not enough visits\n",
      "Send email\n",
      "Send email\n",
      "Send email with coupon\n",
      "Send email with coupon\n"
     ]
    }
   ],
   "source": [
    "send_email(num_visits=3, visits_email=5, visits_coupon=8)   # Should print 'Not enough visits.'\n",
    "send_email(num_visits=5, visits_email=5, visits_coupon=8)   # Should print 'Send email only.'\n",
    "send_email(num_visits=6, visits_email=5, visits_coupon=8)   # Should print 'Send email only.'\n",
    "send_email(num_visits=8, visits_email=5, visits_coupon=8)   # Should print 'Send email with coupon.'\n",
    "send_email(num_visits=10, visits_email=5, visits_coupon=8)  # Should print 'Send email with coupon.'"
   ]
  },
  {
   "cell_type": "markdown",
   "id": "9f2f4ffa",
   "metadata": {
    "id": "qh7KEbhDeG4y",
    "papermill": {
     "duration": 0.003742,
     "end_time": "2025-02-03T21:06:23.976336",
     "exception": false,
     "start_time": "2025-02-03T21:06:23.972594",
     "status": "completed"
    },
    "tags": []
   },
   "source": [
    "## Conclusion\n",
    "\n",
    "**What are your key takeaways from this lab?**"
   ]
  },
  {
   "cell_type": "markdown",
   "id": "878b7218",
   "metadata": {
    "id": "E9YK1u7eegVe",
    "papermill": {
     "duration": 0.003546,
     "end_time": "2025-02-03T21:06:23.983727",
     "exception": false,
     "start_time": "2025-02-03T21:06:23.980181",
     "status": "completed"
    },
    "tags": []
   },
   "source": [
    "* figure out how branching works with if - elif - else\n",
    "* breakdown problem into smaller problem chunks and work the way up\n",
    "* use of mathematical and logical operators"
   ]
  },
  {
   "cell_type": "markdown",
   "id": "de549b1f",
   "metadata": {
    "papermill": {
     "duration": 0.003469,
     "end_time": "2025-02-03T21:06:23.990966",
     "exception": false,
     "start_time": "2025-02-03T21:06:23.987497",
     "status": "completed"
    },
    "tags": []
   },
   "source": [
    "**Congratulations!** You've completed this lab. However, you may not notice a green check mark next to this item on Coursera's platform. Please continue your progress regardless of the check mark. Just click on the \"save\" icon at the top of this notebook to ensure your work has been logged."
   ]
  }
 ],
 "metadata": {
  "colab": {
   "provenance": []
  },
  "kaggle": {
   "accelerator": "none",
   "dataSources": [],
   "isGpuEnabled": false,
   "isInternetEnabled": true,
   "language": "python",
   "sourceType": "notebook"
  },
  "kernelspec": {
   "display_name": "Python 3",
   "language": "python",
   "name": "python3"
  },
  "language_info": {
   "codemirror_mode": {
    "name": "ipython",
    "version": 3
   },
   "file_extension": ".py",
   "mimetype": "text/x-python",
   "name": "python",
   "nbconvert_exporter": "python",
   "pygments_lexer": "ipython3",
   "version": "3.10.12"
  },
  "papermill": {
   "default_parameters": {},
   "duration": 3.397895,
   "end_time": "2025-02-03T21:06:24.414521",
   "environment_variables": {},
   "exception": null,
   "input_path": "__notebook__.ipynb",
   "output_path": "__notebook__.ipynb",
   "parameters": {},
   "start_time": "2025-02-03T21:06:21.016626",
   "version": "2.6.0"
  }
 },
 "nbformat": 4,
 "nbformat_minor": 5
}

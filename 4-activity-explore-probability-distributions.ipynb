{
 "cells": [
  {
   "cell_type": "markdown",
   "id": "d7e086d1",
   "metadata": {
    "id": "ePeImos0HYMu",
    "papermill": {
     "duration": 0.01347,
     "end_time": "2025-02-08T04:53:55.022140",
     "exception": false,
     "start_time": "2025-02-08T04:53:55.008670",
     "status": "completed"
    },
    "tags": []
   },
   "source": [
    "# Activity: Explore probability distributions"
   ]
  },
  {
   "cell_type": "markdown",
   "id": "a9351e21",
   "metadata": {
    "id": "IpCK6RfdHfW8",
    "papermill": {
     "duration": 0.012382,
     "end_time": "2025-02-08T04:53:55.047995",
     "exception": false,
     "start_time": "2025-02-08T04:53:55.035613",
     "status": "completed"
    },
    "tags": []
   },
   "source": [
    "## **Introduction**\n",
    "\n",
    "The ability to determine which type of probability distribution best fits data, calculate z-score, and detect outliers are essential skills in data work. These capabilities enable data professionals to understand how their data is distributed and identify data points that need further examination.\n",
    "\n",
    "In this activity, you are a member of an analytics team for the United States Environmental Protection Agency (EPA). The data includes information about more than 200 sites, identified by state, county, city, and local site names. One of your main goals is to determine which regions need support to make air quality improvements. Given that carbon monoxide is a major air pollutant, you will investigate data from the Air Quality Index (AQI) with respect to carbon monoxide."
   ]
  },
  {
   "cell_type": "markdown",
   "id": "bb127ce2",
   "metadata": {
    "id": "0HjDwXh3HkpB",
    "papermill": {
     "duration": 0.011962,
     "end_time": "2025-02-08T04:53:55.072368",
     "exception": false,
     "start_time": "2025-02-08T04:53:55.060406",
     "status": "completed"
    },
    "tags": []
   },
   "source": [
    "## **Step 1: Imports** "
   ]
  },
  {
   "cell_type": "markdown",
   "id": "caf6182f",
   "metadata": {
    "id": "2bqq2KoNMb8q",
    "papermill": {
     "duration": 0.01183,
     "end_time": "2025-02-08T04:53:55.096485",
     "exception": false,
     "start_time": "2025-02-08T04:53:55.084655",
     "status": "completed"
    },
    "tags": []
   },
   "source": [
    "Import relevant libraries, packages, and modules. For this lab, you will need `numpy`, `pandas`, `matplotlib.pyplot`, `statsmodels.api`, and `scipy`."
   ]
  },
  {
   "cell_type": "code",
   "execution_count": 1,
   "id": "65b7277a",
   "metadata": {
    "execution": {
     "iopub.execute_input": "2025-02-08T04:53:55.122986Z",
     "iopub.status.busy": "2025-02-08T04:53:55.122634Z",
     "iopub.status.idle": "2025-02-08T04:53:59.143100Z",
     "shell.execute_reply": "2025-02-08T04:53:59.142186Z"
    },
    "id": "GsZlNee8MXP8",
    "papermill": {
     "duration": 4.035826,
     "end_time": "2025-02-08T04:53:59.144902",
     "exception": false,
     "start_time": "2025-02-08T04:53:55.109076",
     "status": "completed"
    },
    "tags": []
   },
   "outputs": [],
   "source": [
    "# Import relevant libraries, packages, and modules.\n",
    "\n",
    "### YOUR CODE HERE ###\n",
    "\n",
    "import numpy as np\n",
    "import pandas as pd\n",
    "import matplotlib.pyplot as plt\n",
    "import statsmodels.api as sm\n",
    "from scipy import stats"
   ]
  },
  {
   "cell_type": "markdown",
   "id": "056c6af8",
   "metadata": {
    "id": "jr7pHKQRMjoq",
    "papermill": {
     "duration": 0.012247,
     "end_time": "2025-02-08T04:53:59.170118",
     "exception": false,
     "start_time": "2025-02-08T04:53:59.157871",
     "status": "completed"
    },
    "tags": []
   },
   "source": [
    "A subset of data was taken from the air quality data collected by the EPA, then transformed to suit the purposes of this lab. This subset is a .csv file named `modified_c4_epa_air_quality.csv`. As shown in this cell, the dataset has been automatically loaded in for you. You do not need to download the .csv file, or provide more code, in order to access the dataset and proceed with this lab. Please continue with this activity by completing the following instructions."
   ]
  },
  {
   "cell_type": "code",
   "execution_count": 2,
   "id": "0e93458b",
   "metadata": {
    "execution": {
     "iopub.execute_input": "2025-02-08T04:53:59.195809Z",
     "iopub.status.busy": "2025-02-08T04:53:59.195322Z",
     "iopub.status.idle": "2025-02-08T04:53:59.213295Z",
     "shell.execute_reply": "2025-02-08T04:53:59.212284Z"
    },
    "id": "H5ugMTQzNs3K",
    "papermill": {
     "duration": 0.032817,
     "end_time": "2025-02-08T04:53:59.215067",
     "exception": false,
     "start_time": "2025-02-08T04:53:59.182250",
     "status": "completed"
    },
    "tags": []
   },
   "outputs": [],
   "source": [
    "# RUN THIS CELL TO IMPORT YOUR DATA.\n",
    "\n",
    "### YOUR CODE HERE ###\n",
    "data = pd.read_csv('/kaggle/input/google-adv-data-analytics-stats-datasets/4_modified_c4_epa_air_quality.csv')\n"
   ]
  },
  {
   "cell_type": "markdown",
   "id": "b457a68a",
   "metadata": {
    "id": "_CqNLb1Xzrjl",
    "papermill": {
     "duration": 0.011952,
     "end_time": "2025-02-08T04:53:59.239581",
     "exception": false,
     "start_time": "2025-02-08T04:53:59.227629",
     "status": "completed"
    },
    "tags": []
   },
   "source": [
    "<details><summary><h4><strong>Hint 1</strong></h4></summary>\n",
    "\n",
    "Refer to what you learned about loading data in Python.\n",
    "    \n",
    "  \n",
    "</details>"
   ]
  },
  {
   "cell_type": "markdown",
   "id": "8c50b0fe",
   "metadata": {
    "id": "TKLR_AKezrjn",
    "papermill": {
     "duration": 0.01183,
     "end_time": "2025-02-08T04:53:59.263806",
     "exception": false,
     "start_time": "2025-02-08T04:53:59.251976",
     "status": "completed"
    },
    "tags": []
   },
   "source": [
    "<details><summary><h4><strong>Hint 2</strong></h4></summary>\n",
    "\n",
    "There is a function in the `pandas` library that allows you to load data from a .csv file into a DataFrame.\n",
    "    \n",
    "  \n",
    "</details>"
   ]
  },
  {
   "cell_type": "markdown",
   "id": "e78e34e3",
   "metadata": {
    "id": "L41MRy4Yzrjp",
    "papermill": {
     "duration": 0.012842,
     "end_time": "2025-02-08T04:53:59.288811",
     "exception": false,
     "start_time": "2025-02-08T04:53:59.275969",
     "status": "completed"
    },
    "tags": []
   },
   "source": [
    "<details><summary><h4><strong>Hint 3</strong></h4></summary>\n",
    "\n",
    "Use the `read_csv()` function and pass in the name of the csv file as a string.\n",
    "    \n",
    "</details>"
   ]
  },
  {
   "cell_type": "markdown",
   "id": "2e6ac8c4",
   "metadata": {
    "id": "4QfLAVCkHmeQ",
    "papermill": {
     "duration": 0.012121,
     "end_time": "2025-02-08T04:53:59.313218",
     "exception": false,
     "start_time": "2025-02-08T04:53:59.301097",
     "status": "completed"
    },
    "tags": []
   },
   "source": [
    "## **Step 2: Data exploration** "
   ]
  },
  {
   "cell_type": "markdown",
   "id": "a7120162",
   "metadata": {
    "id": "fuauZV55QESy",
    "papermill": {
     "duration": 0.011927,
     "end_time": "2025-02-08T04:53:59.337463",
     "exception": false,
     "start_time": "2025-02-08T04:53:59.325536",
     "status": "completed"
    },
    "tags": []
   },
   "source": [
    "Display the first 10 rows of the data to get a sense of how the data is structured."
   ]
  },
  {
   "cell_type": "code",
   "execution_count": 3,
   "id": "d7709b33",
   "metadata": {
    "execution": {
     "iopub.execute_input": "2025-02-08T04:53:59.363176Z",
     "iopub.status.busy": "2025-02-08T04:53:59.362819Z",
     "iopub.status.idle": "2025-02-08T04:53:59.389949Z",
     "shell.execute_reply": "2025-02-08T04:53:59.388953Z"
    },
    "id": "ngwYbaEwPjTb",
    "papermill": {
     "duration": 0.041956,
     "end_time": "2025-02-08T04:53:59.391702",
     "exception": false,
     "start_time": "2025-02-08T04:53:59.349746",
     "status": "completed"
    },
    "tags": []
   },
   "outputs": [
    {
     "data": {
      "text/html": [
       "<div>\n",
       "<style scoped>\n",
       "    .dataframe tbody tr th:only-of-type {\n",
       "        vertical-align: middle;\n",
       "    }\n",
       "\n",
       "    .dataframe tbody tr th {\n",
       "        vertical-align: top;\n",
       "    }\n",
       "\n",
       "    .dataframe thead th {\n",
       "        text-align: right;\n",
       "    }\n",
       "</style>\n",
       "<table border=\"1\" class=\"dataframe\">\n",
       "  <thead>\n",
       "    <tr style=\"text-align: right;\">\n",
       "      <th></th>\n",
       "      <th>date_local</th>\n",
       "      <th>state_name</th>\n",
       "      <th>county_name</th>\n",
       "      <th>city_name</th>\n",
       "      <th>local_site_name</th>\n",
       "      <th>parameter_name</th>\n",
       "      <th>units_of_measure</th>\n",
       "      <th>aqi_log</th>\n",
       "    </tr>\n",
       "  </thead>\n",
       "  <tbody>\n",
       "    <tr>\n",
       "      <th>0</th>\n",
       "      <td>2018-01-01</td>\n",
       "      <td>Arizona</td>\n",
       "      <td>Maricopa</td>\n",
       "      <td>Buckeye</td>\n",
       "      <td>BUCKEYE</td>\n",
       "      <td>Carbon monoxide</td>\n",
       "      <td>Parts per million</td>\n",
       "      <td>2.079442</td>\n",
       "    </tr>\n",
       "    <tr>\n",
       "      <th>1</th>\n",
       "      <td>2018-01-01</td>\n",
       "      <td>Ohio</td>\n",
       "      <td>Belmont</td>\n",
       "      <td>Shadyside</td>\n",
       "      <td>Shadyside</td>\n",
       "      <td>Carbon monoxide</td>\n",
       "      <td>Parts per million</td>\n",
       "      <td>1.791759</td>\n",
       "    </tr>\n",
       "    <tr>\n",
       "      <th>2</th>\n",
       "      <td>2018-01-01</td>\n",
       "      <td>Wyoming</td>\n",
       "      <td>Teton</td>\n",
       "      <td>Not in a city</td>\n",
       "      <td>Yellowstone National Park - Old Faithful Snow ...</td>\n",
       "      <td>Carbon monoxide</td>\n",
       "      <td>Parts per million</td>\n",
       "      <td>1.098612</td>\n",
       "    </tr>\n",
       "    <tr>\n",
       "      <th>3</th>\n",
       "      <td>2018-01-01</td>\n",
       "      <td>Pennsylvania</td>\n",
       "      <td>Philadelphia</td>\n",
       "      <td>Philadelphia</td>\n",
       "      <td>North East Waste (NEW)</td>\n",
       "      <td>Carbon monoxide</td>\n",
       "      <td>Parts per million</td>\n",
       "      <td>1.386294</td>\n",
       "    </tr>\n",
       "    <tr>\n",
       "      <th>4</th>\n",
       "      <td>2018-01-01</td>\n",
       "      <td>Iowa</td>\n",
       "      <td>Polk</td>\n",
       "      <td>Des Moines</td>\n",
       "      <td>CARPENTER</td>\n",
       "      <td>Carbon monoxide</td>\n",
       "      <td>Parts per million</td>\n",
       "      <td>1.386294</td>\n",
       "    </tr>\n",
       "    <tr>\n",
       "      <th>5</th>\n",
       "      <td>2018-01-01</td>\n",
       "      <td>Hawaii</td>\n",
       "      <td>Honolulu</td>\n",
       "      <td>Not in a city</td>\n",
       "      <td>Kapolei</td>\n",
       "      <td>Carbon monoxide</td>\n",
       "      <td>Parts per million</td>\n",
       "      <td>2.708050</td>\n",
       "    </tr>\n",
       "    <tr>\n",
       "      <th>6</th>\n",
       "      <td>2018-01-01</td>\n",
       "      <td>Hawaii</td>\n",
       "      <td>Honolulu</td>\n",
       "      <td>Not in a city</td>\n",
       "      <td>Kapolei</td>\n",
       "      <td>Carbon monoxide</td>\n",
       "      <td>Parts per million</td>\n",
       "      <td>1.098612</td>\n",
       "    </tr>\n",
       "    <tr>\n",
       "      <th>7</th>\n",
       "      <td>2018-01-01</td>\n",
       "      <td>Pennsylvania</td>\n",
       "      <td>Erie</td>\n",
       "      <td>Erie</td>\n",
       "      <td>NaN</td>\n",
       "      <td>Carbon monoxide</td>\n",
       "      <td>Parts per million</td>\n",
       "      <td>1.098612</td>\n",
       "    </tr>\n",
       "    <tr>\n",
       "      <th>8</th>\n",
       "      <td>2018-01-01</td>\n",
       "      <td>Hawaii</td>\n",
       "      <td>Honolulu</td>\n",
       "      <td>Honolulu</td>\n",
       "      <td>Honolulu</td>\n",
       "      <td>Carbon monoxide</td>\n",
       "      <td>Parts per million</td>\n",
       "      <td>1.791759</td>\n",
       "    </tr>\n",
       "    <tr>\n",
       "      <th>9</th>\n",
       "      <td>2018-01-01</td>\n",
       "      <td>Colorado</td>\n",
       "      <td>Larimer</td>\n",
       "      <td>Fort Collins</td>\n",
       "      <td>Fort Collins - CSU - S. Mason</td>\n",
       "      <td>Carbon monoxide</td>\n",
       "      <td>Parts per million</td>\n",
       "      <td>1.945910</td>\n",
       "    </tr>\n",
       "  </tbody>\n",
       "</table>\n",
       "</div>"
      ],
      "text/plain": [
       "   date_local    state_name   county_name      city_name  \\\n",
       "0  2018-01-01       Arizona      Maricopa        Buckeye   \n",
       "1  2018-01-01          Ohio       Belmont      Shadyside   \n",
       "2  2018-01-01       Wyoming         Teton  Not in a city   \n",
       "3  2018-01-01  Pennsylvania  Philadelphia   Philadelphia   \n",
       "4  2018-01-01          Iowa          Polk     Des Moines   \n",
       "5  2018-01-01        Hawaii      Honolulu  Not in a city   \n",
       "6  2018-01-01        Hawaii      Honolulu  Not in a city   \n",
       "7  2018-01-01  Pennsylvania          Erie           Erie   \n",
       "8  2018-01-01        Hawaii      Honolulu       Honolulu   \n",
       "9  2018-01-01      Colorado       Larimer   Fort Collins   \n",
       "\n",
       "                                     local_site_name   parameter_name  \\\n",
       "0                                            BUCKEYE  Carbon monoxide   \n",
       "1                                          Shadyside  Carbon monoxide   \n",
       "2  Yellowstone National Park - Old Faithful Snow ...  Carbon monoxide   \n",
       "3                             North East Waste (NEW)  Carbon monoxide   \n",
       "4                                          CARPENTER  Carbon monoxide   \n",
       "5                                            Kapolei  Carbon monoxide   \n",
       "6                                            Kapolei  Carbon monoxide   \n",
       "7                                                NaN  Carbon monoxide   \n",
       "8                                           Honolulu  Carbon monoxide   \n",
       "9                      Fort Collins - CSU - S. Mason  Carbon monoxide   \n",
       "\n",
       "    units_of_measure   aqi_log  \n",
       "0  Parts per million  2.079442  \n",
       "1  Parts per million  1.791759  \n",
       "2  Parts per million  1.098612  \n",
       "3  Parts per million  1.386294  \n",
       "4  Parts per million  1.386294  \n",
       "5  Parts per million  2.708050  \n",
       "6  Parts per million  1.098612  \n",
       "7  Parts per million  1.098612  \n",
       "8  Parts per million  1.791759  \n",
       "9  Parts per million  1.945910  "
      ]
     },
     "execution_count": 3,
     "metadata": {},
     "output_type": "execute_result"
    }
   ],
   "source": [
    "# Display first 10 rows of the data.\n",
    "\n",
    "### YOUR CODE HERE ###\n",
    "\n",
    "data.head(10)"
   ]
  },
  {
   "cell_type": "markdown",
   "id": "f83cffac",
   "metadata": {
    "id": "W3KyiRiUy9c1",
    "papermill": {
     "duration": 0.012558,
     "end_time": "2025-02-08T04:53:59.419652",
     "exception": false,
     "start_time": "2025-02-08T04:53:59.407094",
     "status": "completed"
    },
    "tags": []
   },
   "source": [
    "<details><summary><h4><strong>Hint 1</strong></h4></summary>\n",
    "\n",
    "Refer to what you learned about exploring datasets in Python.\n",
    "    \n",
    "  \n",
    "</details>"
   ]
  },
  {
   "cell_type": "markdown",
   "id": "8c0f01e0",
   "metadata": {
    "id": "pTNSUHuuy9c3",
    "papermill": {
     "duration": 0.012055,
     "end_time": "2025-02-08T04:53:59.444266",
     "exception": false,
     "start_time": "2025-02-08T04:53:59.432211",
     "status": "completed"
    },
    "tags": []
   },
   "source": [
    "<details><summary><h4><strong>Hint 2</strong></h4></summary>\n",
    "\n",
    "There is a function in the `pandas` library that allows you to display a specific number of rows from the top of a DataFrame.\n",
    "    \n",
    "  \n",
    "</details>"
   ]
  },
  {
   "cell_type": "markdown",
   "id": "9fb17f65",
   "metadata": {
    "id": "T1bkcUbry9c5",
    "papermill": {
     "duration": 0.011954,
     "end_time": "2025-02-08T04:53:59.468609",
     "exception": false,
     "start_time": "2025-02-08T04:53:59.456655",
     "status": "completed"
    },
    "tags": []
   },
   "source": [
    "<details><summary><h4><strong>Hint 3</strong></h4></summary>\n",
    "\n",
    "Use the `head()` function and pass in how many rows from the top of the DataFrame you want to display.\n",
    "    \n",
    "</details>"
   ]
  },
  {
   "cell_type": "markdown",
   "id": "bd9eab48",
   "metadata": {
    "id": "nV2QIMFBqtOP",
    "papermill": {
     "duration": 0.012091,
     "end_time": "2025-02-08T04:53:59.493923",
     "exception": false,
     "start_time": "2025-02-08T04:53:59.481832",
     "status": "completed"
    },
    "tags": []
   },
   "source": [
    "The `aqi_log` column represents AQI readings that were transformed logarithmically to suit the objectives of this lab. Taking a logarithm of the aqi to get a bell-shaped distribution is outside the scope of this course, but is helpful to see the normal distribution."
   ]
  },
  {
   "cell_type": "markdown",
   "id": "9eb76e4a",
   "metadata": {
    "id": "tBGSJbISFrS-",
    "papermill": {
     "duration": 0.0121,
     "end_time": "2025-02-08T04:53:59.518524",
     "exception": false,
     "start_time": "2025-02-08T04:53:59.506424",
     "status": "completed"
    },
    "tags": []
   },
   "source": [
    "To better understand the quantity of data you are working with, display the number of rows and the number of columns."
   ]
  },
  {
   "cell_type": "code",
   "execution_count": 4,
   "id": "b2be6544",
   "metadata": {
    "execution": {
     "iopub.execute_input": "2025-02-08T04:53:59.544984Z",
     "iopub.status.busy": "2025-02-08T04:53:59.544610Z",
     "iopub.status.idle": "2025-02-08T04:53:59.550282Z",
     "shell.execute_reply": "2025-02-08T04:53:59.549300Z"
    },
    "id": "GuODVFHZF1mu",
    "papermill": {
     "duration": 0.020844,
     "end_time": "2025-02-08T04:53:59.551866",
     "exception": false,
     "start_time": "2025-02-08T04:53:59.531022",
     "status": "completed"
    },
    "tags": []
   },
   "outputs": [
    {
     "data": {
      "text/plain": [
       "(260, 8)"
      ]
     },
     "execution_count": 4,
     "metadata": {},
     "output_type": "execute_result"
    }
   ],
   "source": [
    "# Display number of rows, number of columns.\n",
    "\n",
    "### YOUR CODE HERE ###\n",
    "\n",
    "data.shape"
   ]
  },
  {
   "cell_type": "markdown",
   "id": "881b73d7",
   "metadata": {
    "id": "ffB-xBf9z9jr",
    "papermill": {
     "duration": 0.012175,
     "end_time": "2025-02-08T04:53:59.576801",
     "exception": false,
     "start_time": "2025-02-08T04:53:59.564626",
     "status": "completed"
    },
    "tags": []
   },
   "source": [
    "<details><summary><h4><strong>Hint 1</strong></h4></summary>\n",
    "\n",
    "Refer to what you learned about exploring datasets in Python.\n",
    "    \n",
    "</details>"
   ]
  },
  {
   "cell_type": "markdown",
   "id": "1866d099",
   "metadata": {
    "id": "w8qTKbogz9jt",
    "papermill": {
     "duration": 0.012107,
     "end_time": "2025-02-08T04:53:59.601460",
     "exception": false,
     "start_time": "2025-02-08T04:53:59.589353",
     "status": "completed"
    },
    "tags": []
   },
   "source": [
    "<details><summary><h4><strong>Hint 2</strong></h4></summary>\n",
    "\n",
    "Every DataFrame in `pandas` has a property that gives you access to the number of rows and number of columns in that DataFrame.\n",
    "  \n",
    "</details>"
   ]
  },
  {
   "cell_type": "markdown",
   "id": "d689b334",
   "metadata": {
    "id": "MT8owfOfz9ju",
    "papermill": {
     "duration": 0.012217,
     "end_time": "2025-02-08T04:53:59.626152",
     "exception": false,
     "start_time": "2025-02-08T04:53:59.613935",
     "status": "completed"
    },
    "tags": []
   },
   "source": [
    "<details><summary><h4><strong>Hint 3</strong></h4></summary>\n",
    "\n",
    "Call the `shape` property of the DataFrame, which will display the number of rows and the number of columns as a tuple.\n",
    "    \n",
    "</details>"
   ]
  },
  {
   "cell_type": "markdown",
   "id": "3d333c5b",
   "metadata": {
    "id": "1GOeL7M5_551",
    "papermill": {
     "duration": 0.012103,
     "end_time": "2025-02-08T04:53:59.650666",
     "exception": false,
     "start_time": "2025-02-08T04:53:59.638563",
     "status": "completed"
    },
    "tags": []
   },
   "source": [
    "Now, you want to find out whether `aqi_log` fits a specific type of probability distribution. Create a histogram to visualize the distribution of `aqi_log`. Then, based on its shape, visually determine if it resembles a particular distribution."
   ]
  },
  {
   "cell_type": "code",
   "execution_count": 5,
   "id": "4212799d",
   "metadata": {
    "execution": {
     "iopub.execute_input": "2025-02-08T04:53:59.676740Z",
     "iopub.status.busy": "2025-02-08T04:53:59.676374Z",
     "iopub.status.idle": "2025-02-08T04:54:00.051727Z",
     "shell.execute_reply": "2025-02-08T04:54:00.048854Z"
    },
    "id": "c_5_FpSOC4A9",
    "papermill": {
     "duration": 0.391837,
     "end_time": "2025-02-08T04:54:00.054853",
     "exception": false,
     "start_time": "2025-02-08T04:53:59.663016",
     "status": "completed"
    },
    "tags": []
   },
   "outputs": [
    {
     "data": {
      "text/plain": [
       "<Axes: >"
      ]
     },
     "execution_count": 5,
     "metadata": {},
     "output_type": "execute_result"
    },
    {
     "data": {
      "image/png": "[encoded data removed]",
      "text/plain": [
       "<Figure size 640x480 with 1 Axes>"
      ]
     },
     "metadata": {},
     "output_type": "display_data"
    }
   ],
   "source": [
    "# Create a histogram to visualize distribution of aqi_log.\n",
    "\n",
    "### YOUR CODE HERE ###\n",
    "\n",
    "data['aqi_log'].hist()"
   ]
  },
  {
   "cell_type": "markdown",
   "id": "a9fae44d",
   "metadata": {
    "id": "wJd4DVZEDL1W",
    "papermill": {
     "duration": 0.020733,
     "end_time": "2025-02-08T04:54:00.093398",
     "exception": false,
     "start_time": "2025-02-08T04:54:00.072665",
     "status": "completed"
    },
    "tags": []
   },
   "source": [
    "<details><summary><h4><strong>Hint 1</strong></h4></summary>\n",
    "\n",
    "Refer to the video about creating a histogram to visualize the distribution of a particular variable in the data.\n",
    "    \n",
    "  \n",
    "</details>"
   ]
  },
  {
   "cell_type": "markdown",
   "id": "00c02fa5",
   "metadata": {
    "id": "SlXo2T5_I_5s",
    "papermill": {
     "duration": 0.020407,
     "end_time": "2025-02-08T04:54:00.129956",
     "exception": false,
     "start_time": "2025-02-08T04:54:00.109549",
     "status": "completed"
    },
    "tags": []
   },
   "source": [
    "<details><summary><h4><strong>Hint 2</strong></h4></summary>\n",
    "\n",
    "There is a function in the `matplotlib` library that can be called to create a histogram.\n",
    "    \n",
    "  \n",
    "</details>"
   ]
  },
  {
   "cell_type": "markdown",
   "id": "80c4c2c3",
   "metadata": {
    "id": "jVgw1RSpSF_0",
    "papermill": {
     "duration": 0.018473,
     "end_time": "2025-02-08T04:54:00.166378",
     "exception": false,
     "start_time": "2025-02-08T04:54:00.147905",
     "status": "completed"
    },
    "tags": []
   },
   "source": [
    "<details><summary><h4><strong>Hint 3</strong></h4></summary>\n",
    "\n",
    "The `hist()` function can be called directly on the `aqi_log` column from the data. \n",
    "\n",
    "A semicolon can be used at the end as a quick way to make sure only the plot gets displayed (other text does not get displayed).\n",
    "    \n",
    "</details>"
   ]
  },
  {
   "cell_type": "markdown",
   "id": "84caf65c",
   "metadata": {
    "id": "sGlw_4gfuSbS",
    "papermill": {
     "duration": 0.012771,
     "end_time": "2025-02-08T04:54:00.192433",
     "exception": false,
     "start_time": "2025-02-08T04:54:00.179662",
     "status": "completed"
    },
    "tags": []
   },
   "source": [
    "**Question:** What do you observe about the shape of the distribution from the histogram? "
   ]
  },
  {
   "cell_type": "markdown",
   "id": "74acd168",
   "metadata": {
    "id": "7syfcROm10b0",
    "papermill": {
     "duration": 0.016314,
     "end_time": "2025-02-08T04:54:00.221848",
     "exception": false,
     "start_time": "2025-02-08T04:54:00.205534",
     "status": "completed"
    },
    "tags": []
   },
   "source": [
    "* the distribution of aqi has a right skew\n",
    "* we can further check using the empirical rule to see if it conforms a standard distribution"
   ]
  },
  {
   "cell_type": "markdown",
   "id": "21982408",
   "metadata": {
    "id": "79fCHMhDHqf5",
    "papermill": {
     "duration": 0.019719,
     "end_time": "2025-02-08T04:54:00.257720",
     "exception": false,
     "start_time": "2025-02-08T04:54:00.238001",
     "status": "completed"
    },
    "tags": []
   },
   "source": [
    "## **Step 3: Statistical tests**\n",
    "\n",
    "Use the empirical rule to observe the data, then test and verify that it is normally distributed.\n"
   ]
  },
  {
   "cell_type": "markdown",
   "id": "b08c345e",
   "metadata": {
    "id": "Yn0a1mcrld2y",
    "papermill": {
     "duration": 0.01301,
     "end_time": "2025-02-08T04:54:00.286281",
     "exception": false,
     "start_time": "2025-02-08T04:54:00.273271",
     "status": "completed"
    },
    "tags": []
   },
   "source": [
    " As you have learned, the empirical rule states that, for every normal distribution: \n",
    "- 68% of the data fall within 1 standard deviation of the mean\n",
    "- 95% of the data fall within 2 standard deviations of the mean\n",
    "- 99.7% of the data fall within 3 standard deviations of the mean\n"
   ]
  },
  {
   "cell_type": "markdown",
   "id": "5270833e",
   "metadata": {
    "id": "Q6rEDaEJnFgU",
    "papermill": {
     "duration": 0.012588,
     "end_time": "2025-02-08T04:54:00.311847",
     "exception": false,
     "start_time": "2025-02-08T04:54:00.299259",
     "status": "completed"
    },
    "tags": []
   },
   "source": [
    "First, define two variables to store the mean and standard deviation, respectively, for `aqi_log`. Creating these variables will help you easily access these measures as you continue with the calculations involved in applying the empirical rule. "
   ]
  },
  {
   "cell_type": "code",
   "execution_count": 6,
   "id": "d157265d",
   "metadata": {
    "execution": {
     "iopub.execute_input": "2025-02-08T04:54:00.339053Z",
     "iopub.status.busy": "2025-02-08T04:54:00.338689Z",
     "iopub.status.idle": "2025-02-08T04:54:00.344839Z",
     "shell.execute_reply": "2025-02-08T04:54:00.343668Z"
    },
    "id": "Bl8hZPnrmevm",
    "papermill": {
     "duration": 0.021747,
     "end_time": "2025-02-08T04:54:00.346587",
     "exception": false,
     "start_time": "2025-02-08T04:54:00.324840",
     "status": "completed"
    },
    "tags": []
   },
   "outputs": [
    {
     "name": "stdout",
     "output_type": "stream",
     "text": [
      "1.766921092998558\n"
     ]
    }
   ],
   "source": [
    "# Define variable for aqi_log mean.\n",
    "\n",
    "### YOUR CODE HERE ###\n",
    "aqi_log_mean = np.mean(data['aqi_log'])\n",
    "\n",
    "# Print out the mean.\n",
    "\n",
    "### YOUR CODE HERE ###\n",
    "\n",
    "print(aqi_log_mean)\n"
   ]
  },
  {
   "cell_type": "code",
   "execution_count": 7,
   "id": "9f0d5ce1",
   "metadata": {
    "execution": {
     "iopub.execute_input": "2025-02-08T04:54:00.374520Z",
     "iopub.status.busy": "2025-02-08T04:54:00.374097Z",
     "iopub.status.idle": "2025-02-08T04:54:00.379106Z",
     "shell.execute_reply": "2025-02-08T04:54:00.378147Z"
    },
    "id": "tIzj5aGAoU_L",
    "papermill": {
     "duration": 0.02103,
     "end_time": "2025-02-08T04:54:00.380703",
     "exception": false,
     "start_time": "2025-02-08T04:54:00.359673",
     "status": "completed"
    },
    "tags": []
   },
   "outputs": [
    {
     "name": "stdout",
     "output_type": "stream",
     "text": [
      "0.7133397749006614\n"
     ]
    }
   ],
   "source": [
    "# Define variable for aqi_log standard deviation.\n",
    "\n",
    "### YOUR CODE HERE ###\n",
    "aqi_log_std_dev = np.std(data['aqi_log'])\n",
    "\n",
    "\n",
    "# Print out the standard deviation.\n",
    "\n",
    "### YOUR CODE HERE ###\n",
    "\n",
    "print(aqi_log_std_dev)"
   ]
  },
  {
   "cell_type": "markdown",
   "id": "68f21902",
   "metadata": {
    "id": "4ZZsE_EmrYrt",
    "papermill": {
     "duration": 0.068775,
     "end_time": "2025-02-08T04:54:00.462697",
     "exception": false,
     "start_time": "2025-02-08T04:54:00.393922",
     "status": "completed"
    },
    "tags": []
   },
   "source": [
    "<details><summary><h4><strong>Hint 1</strong></h4></summary>\n",
    "\n",
    "Refer to the lesson about calculating the mean and standard deviation for a particular variable in the data.\n",
    "    \n",
    "  \n",
    "</details>"
   ]
  },
  {
   "cell_type": "markdown",
   "id": "0ccb741a",
   "metadata": {
    "id": "TlK7wxJlrYrv",
    "papermill": {
     "duration": 0.012887,
     "end_time": "2025-02-08T04:54:00.488805",
     "exception": false,
     "start_time": "2025-02-08T04:54:00.475918",
     "status": "completed"
    },
    "tags": []
   },
   "source": [
    "<details><summary><h4><strong>Hint 2</strong></h4></summary>\n",
    "\n",
    "There are functions in the `numpy` library that can be called to calculate mean and standard deviation, respectively.\n",
    "    \n",
    "  \n",
    "</details>"
   ]
  },
  {
   "cell_type": "markdown",
   "id": "f80b1d9a",
   "metadata": {
    "id": "wsOOmZ8VrYrw",
    "papermill": {
     "duration": 0.012777,
     "end_time": "2025-02-08T04:54:00.514634",
     "exception": false,
     "start_time": "2025-02-08T04:54:00.501857",
     "status": "completed"
    },
    "tags": []
   },
   "source": [
    "<details><summary><h4><strong>Hint 3</strong></h4></summary>\n",
    "\n",
    "The `mean()` function can be called directly on the `aqi_log` column from the data to compute the mean.\n",
    "\n",
    "The `std()` function can be called directly on the `aqi_log` column from the data to compute the standard deviation.\n",
    "    \n",
    "</details>"
   ]
  },
  {
   "cell_type": "markdown",
   "id": "69c7f2b7",
   "metadata": {
    "id": "Bajx-iIspBLq",
    "papermill": {
     "duration": 0.012733,
     "end_time": "2025-02-08T04:54:00.540516",
     "exception": false,
     "start_time": "2025-02-08T04:54:00.527783",
     "status": "completed"
    },
    "tags": []
   },
   "source": [
    "Now, check the first part of the empirical rule: whether 68% of the `aqi_log` data falls within 1 standard deviation of the mean.\n",
    "\n",
    "To compute the actual percentage of the data that satisfies this criteria, define the lower limit (for example, 1 standard deviation below the mean) and the upper limit (for example, 1 standard deviation above the mean). This will enable you to create a range and confirm whether each value falls within it."
   ]
  },
  {
   "cell_type": "code",
   "execution_count": 8,
   "id": "3f62ad9e",
   "metadata": {
    "execution": {
     "iopub.execute_input": "2025-02-08T04:54:00.568198Z",
     "iopub.status.busy": "2025-02-08T04:54:00.567849Z",
     "iopub.status.idle": "2025-02-08T04:54:00.574197Z",
     "shell.execute_reply": "2025-02-08T04:54:00.573161Z"
    },
    "id": "cyHe7ElJpwk7",
    "papermill": {
     "duration": 0.022011,
     "end_time": "2025-02-08T04:54:00.575878",
     "exception": false,
     "start_time": "2025-02-08T04:54:00.553867",
     "status": "completed"
    },
    "tags": []
   },
   "outputs": [
    {
     "name": "stdout",
     "output_type": "stream",
     "text": [
      "lower limit 1 stddev: 1.0535813180978966\n",
      "upper limit 1 stddev: 2.4802608678992195\n"
     ]
    }
   ],
   "source": [
    "# Define variable for lower limit, 1 standard deviation below the mean.\n",
    "\n",
    "### YOUR CODE HERE ###\n",
    "lower_limit = aqi_log_mean - aqi_log_std_dev\n",
    "\n",
    "\n",
    "# Define variable for upper limit, 1 standard deviation above the mean.\n",
    "\n",
    "### YOUR CODE HERE ###\n",
    "\n",
    "upper_limit = aqi_log_mean + aqi_log_std_dev\n",
    "\n",
    "\n",
    "# Display lower_limit, upper_limit.\n",
    "\n",
    "### YOUR CODE HERE ###\n",
    "\n",
    "print('lower limit 1 stddev:', lower_limit)\n",
    "print('upper limit 1 stddev:', upper_limit)"
   ]
  },
  {
   "cell_type": "markdown",
   "id": "34c6114f",
   "metadata": {
    "id": "c9z9BjbrsRVd",
    "papermill": {
     "duration": 0.012942,
     "end_time": "2025-02-08T04:54:00.602809",
     "exception": false,
     "start_time": "2025-02-08T04:54:00.589867",
     "status": "completed"
    },
    "tags": []
   },
   "source": [
    "<details><summary><h4><strong>Hint 1</strong></h4></summary>\n",
    "\n",
    "Refer to the video about using the empirical rule.\n",
    "    \n",
    "  \n",
    "</details>"
   ]
  },
  {
   "cell_type": "markdown",
   "id": "297f51a9",
   "metadata": {
    "id": "GCpWM5DVsRVf",
    "papermill": {
     "duration": 0.012877,
     "end_time": "2025-02-08T04:54:00.629077",
     "exception": false,
     "start_time": "2025-02-08T04:54:00.616200",
     "status": "completed"
    },
    "tags": []
   },
   "source": [
    "<details><summary><h4><strong>Hint 2</strong></h4></summary>\n",
    "\n",
    "The lower limit here is $mean - 1 * std$.\n",
    "\n",
    "The upper limit here is $mean + 1 * std$.\n",
    "\n",
    "The `print` function can be called to display.\n",
    "    \n",
    "  \n",
    "</details>"
   ]
  },
  {
   "cell_type": "markdown",
   "id": "85c77ec9",
   "metadata": {
    "id": "xR5rVWZlsRVg",
    "papermill": {
     "duration": 0.012809,
     "end_time": "2025-02-08T04:54:00.655208",
     "exception": false,
     "start_time": "2025-02-08T04:54:00.642399",
     "status": "completed"
    },
    "tags": []
   },
   "source": [
    "<details><summary><h4><strong>Hint 3</strong></h4></summary>\n",
    "\n",
    "Use the variables that you defined for mean and standard deviation of `aqi_log`, ensuring the spelling is correct. \n",
    "\n",
    "Call the `print` function and pass in the values one after the other, with a comma between them.\n",
    "    \n",
    "</details>"
   ]
  },
  {
   "cell_type": "code",
   "execution_count": 9,
   "id": "a5204785",
   "metadata": {
    "execution": {
     "iopub.execute_input": "2025-02-08T04:54:00.683119Z",
     "iopub.status.busy": "2025-02-08T04:54:00.682784Z",
     "iopub.status.idle": "2025-02-08T04:54:00.689001Z",
     "shell.execute_reply": "2025-02-08T04:54:00.688029Z"
    },
    "id": "3nsfy9M2uYmJ",
    "papermill": {
     "duration": 0.022028,
     "end_time": "2025-02-08T04:54:00.690459",
     "exception": false,
     "start_time": "2025-02-08T04:54:00.668431",
     "status": "completed"
    },
    "tags": []
   },
   "outputs": [
    {
     "name": "stdout",
     "output_type": "stream",
     "text": [
      "76.15384615384615 %\n"
     ]
    }
   ],
   "source": [
    "# Display the actual percentage of data that falls within 1 standard deviation of the mean.\n",
    "\n",
    "### YOUR CODE HERE ### \n",
    "\n",
    "\n",
    "print( ((data['aqi_log'] >= lower_limit) & (data['aqi_log'] <= upper_limit)).mean()*100, '%')"
   ]
  },
  {
   "cell_type": "markdown",
   "id": "62f8cba5",
   "metadata": {
    "id": "pwOc5HJBwRv4",
    "papermill": {
     "duration": 0.013389,
     "end_time": "2025-02-08T04:54:00.717468",
     "exception": false,
     "start_time": "2025-02-08T04:54:00.704079",
     "status": "completed"
    },
    "tags": []
   },
   "source": [
    "<details><summary><h4><strong>Hint 1</strong></h4></summary>\n",
    "\n",
    "Refer to the video about using the empirical rule.\n",
    "    \n",
    "</details>"
   ]
  },
  {
   "cell_type": "markdown",
   "id": "946d84db",
   "metadata": {
    "id": "1pBnufWBwRv6",
    "papermill": {
     "duration": 0.012925,
     "end_time": "2025-02-08T04:54:00.743864",
     "exception": false,
     "start_time": "2025-02-08T04:54:00.730939",
     "status": "completed"
    },
    "tags": []
   },
   "source": [
    "<details><summary><h4><strong>Hint 2</strong></h4></summary>\n",
    "\n",
    "The `>=` operator can be used to confirm whether one value is greater than or equal to another value.\n",
    "\n",
    "The `<=` operator can be used to check whether one value is less than or equal to another value.\n",
    "\n",
    "The `&` operator can be used to check if one condition and another condition is met. \n",
    "    \n",
    "</details>"
   ]
  },
  {
   "cell_type": "markdown",
   "id": "c74cc396",
   "metadata": {
    "id": "Un2pdnEFwRv8",
    "papermill": {
     "duration": 0.012915,
     "end_time": "2025-02-08T04:54:00.770207",
     "exception": false,
     "start_time": "2025-02-08T04:54:00.757292",
     "status": "completed"
    },
    "tags": []
   },
   "source": [
    "<details><summary><h4><strong>Hint 3</strong></h4></summary>\n",
    "\n",
    "The `mean()` function can be used to compute the proportion of the data that satisfies the specified conditions. \n",
    "\n",
    "Multiplying that proportion by $100$ can get you the percentage.\n",
    "    \n",
    "</details>"
   ]
  },
  {
   "cell_type": "markdown",
   "id": "49fca404",
   "metadata": {
    "id": "ifuD1yuRx399",
    "papermill": {
     "duration": 0.012969,
     "end_time": "2025-02-08T04:54:00.796718",
     "exception": false,
     "start_time": "2025-02-08T04:54:00.783749",
     "status": "completed"
    },
    "tags": []
   },
   "source": [
    "Now, consider the second part of the empirical rule: whether 95% of the `aqi_log` data falls within 2 standard deviations of the mean.\n",
    "\n",
    "To compute the actual percentage of the data that satisfies this criteria, define the lower limit (for example, 2 standard deviations below the mean) and the upper limit (for example, 2 standard deviations above the mean). This will enable you to create a range and confirm whether each value falls within it."
   ]
  },
  {
   "cell_type": "code",
   "execution_count": 10,
   "id": "4604d3bb",
   "metadata": {
    "execution": {
     "iopub.execute_input": "2025-02-08T04:54:00.824795Z",
     "iopub.status.busy": "2025-02-08T04:54:00.824396Z",
     "iopub.status.idle": "2025-02-08T04:54:00.830592Z",
     "shell.execute_reply": "2025-02-08T04:54:00.829507Z"
    },
    "id": "whe6r6J8x39_",
    "papermill": {
     "duration": 0.02202,
     "end_time": "2025-02-08T04:54:00.832081",
     "exception": false,
     "start_time": "2025-02-08T04:54:00.810061",
     "status": "completed"
    },
    "tags": []
   },
   "outputs": [
    {
     "name": "stdout",
     "output_type": "stream",
     "text": [
      "lower limit 2 stddev: 0.3402415431972352\n",
      "upper limit 2 stddev: 3.193600642799881\n"
     ]
    }
   ],
   "source": [
    "# Define variable for lower limit, 2 standard deviations below the mean.\n",
    "\n",
    "### YOUR CODE HERE ###\n",
    "\n",
    "lower_limit = aqi_log_mean - (2 * aqi_log_std_dev)\n",
    "\n",
    "\n",
    "# Define variable for upper limit, 2 standard deviations below the mean.\n",
    "\n",
    "### YOUR CODE HERE ###\n",
    "\n",
    "upper_limit = aqi_log_mean + (2 * aqi_log_std_dev)\n",
    "\n",
    "\n",
    "# Display lower_limit, upper_limit.\n",
    "\n",
    "### YOUR CODE HERE ###\n",
    "\n",
    "print('lower limit 2 stddev:', lower_limit)\n",
    "print('upper limit 2 stddev:', upper_limit)"
   ]
  },
  {
   "cell_type": "markdown",
   "id": "fd72d505",
   "metadata": {
    "id": "BkF1KJcXx3-A",
    "papermill": {
     "duration": 0.013505,
     "end_time": "2025-02-08T04:54:00.859217",
     "exception": false,
     "start_time": "2025-02-08T04:54:00.845712",
     "status": "completed"
    },
    "tags": []
   },
   "source": [
    "<details><summary><h4><strong>Hint 1</strong></h4></summary>\n",
    "\n",
    "Refer to the video about using the empirical rule.\n",
    "    \n",
    "  \n",
    "</details>"
   ]
  },
  {
   "cell_type": "markdown",
   "id": "569950ae",
   "metadata": {
    "id": "vQMEF3RUx3-C",
    "papermill": {
     "duration": 0.012924,
     "end_time": "2025-02-08T04:54:00.885598",
     "exception": false,
     "start_time": "2025-02-08T04:54:00.872674",
     "status": "completed"
    },
    "tags": []
   },
   "source": [
    "<details><summary><h4><strong>Hint 2</strong></h4></summary>\n",
    "\n",
    "The lower limit here is $mean - 2 * std$.\n",
    "\n",
    "The upper limit here is $mean + 2 * std$.\n",
    "\n",
    "The `print` function can be called to display.\n",
    "    \n",
    "  \n",
    "</details>"
   ]
  },
  {
   "cell_type": "markdown",
   "id": "05a7afa7",
   "metadata": {
    "id": "UoZJxgxgx3-C",
    "papermill": {
     "duration": 0.013007,
     "end_time": "2025-02-08T04:54:00.911840",
     "exception": false,
     "start_time": "2025-02-08T04:54:00.898833",
     "status": "completed"
    },
    "tags": []
   },
   "source": [
    "<details><summary><h4><strong>Hint 3</strong></h4></summary>\n",
    "\n",
    "Use the variables that you defined for mean and standard deviation of `aqi_log`, ensuring the spelling is correct. \n",
    "\n",
    "Call the `print` function and pass in the values one after the other, with a comma between them.\n",
    "    \n",
    "</details>"
   ]
  },
  {
   "cell_type": "code",
   "execution_count": 11,
   "id": "104adcf2",
   "metadata": {
    "execution": {
     "iopub.execute_input": "2025-02-08T04:54:00.940959Z",
     "iopub.status.busy": "2025-02-08T04:54:00.940604Z",
     "iopub.status.idle": "2025-02-08T04:54:00.946033Z",
     "shell.execute_reply": "2025-02-08T04:54:00.944939Z"
    },
    "id": "7CbBgCm3x3-D",
    "papermill": {
     "duration": 0.021295,
     "end_time": "2025-02-08T04:54:00.947615",
     "exception": false,
     "start_time": "2025-02-08T04:54:00.926320",
     "status": "completed"
    },
    "tags": []
   },
   "outputs": [
    {
     "name": "stdout",
     "output_type": "stream",
     "text": [
      "2 std dev percent: 95.76923076923077 %\n"
     ]
    }
   ],
   "source": [
    "# Display the actual percentage of data that falls within 2 standard deviations of the mean.\n",
    "\n",
    "### YOUR CODE HERE ### \n",
    "\n",
    "print( '2 std dev percent:', ((data['aqi_log'] >= lower_limit) & (data['aqi_log'] <= upper_limit)).mean()*100, '%')"
   ]
  },
  {
   "cell_type": "markdown",
   "id": "a3d46a3f",
   "metadata": {
    "id": "7nzu0vkox3-E",
    "papermill": {
     "duration": 0.013142,
     "end_time": "2025-02-08T04:54:00.974998",
     "exception": false,
     "start_time": "2025-02-08T04:54:00.961856",
     "status": "completed"
    },
    "tags": []
   },
   "source": [
    "<details><summary><h4><strong>Hint 1</strong></h4></summary>\n",
    "\n",
    "Refer to the video section about using the empirical rule.\n",
    "    \n",
    "</details>"
   ]
  },
  {
   "cell_type": "markdown",
   "id": "4ad050ad",
   "metadata": {
    "id": "RlPzPSGox3-F",
    "papermill": {
     "duration": 0.01333,
     "end_time": "2025-02-08T04:54:01.001865",
     "exception": false,
     "start_time": "2025-02-08T04:54:00.988535",
     "status": "completed"
    },
    "tags": []
   },
   "source": [
    "<details><summary><h4><strong>Hint 2</strong></h4></summary>\n",
    "\n",
    "The `>=` operator can be used to confirm whether one value is greater than or equal to another value.\n",
    "\n",
    "The `<=` operator can be used to check whether one value is less than or equal to another value.\n",
    "\n",
    "The `&` operator can be used to check if one condition and another condition is met. \n",
    "    \n",
    "</details>"
   ]
  },
  {
   "cell_type": "markdown",
   "id": "b2c5aaae",
   "metadata": {
    "id": "DeUUteBqx3-F",
    "papermill": {
     "duration": 0.013135,
     "end_time": "2025-02-08T04:54:01.028407",
     "exception": false,
     "start_time": "2025-02-08T04:54:01.015272",
     "status": "completed"
    },
    "tags": []
   },
   "source": [
    "<details><summary><h4><strong>Hint 3</strong></h4></summary>\n",
    "\n",
    "The `mean()` function can be used to compute the proportion of the data that satisfies the specified conditions. \n",
    "\n",
    "Multiplying that proportion by $100$ can get you the percentage.\n",
    "    \n",
    "</details>"
   ]
  },
  {
   "cell_type": "markdown",
   "id": "bb7a0b4f",
   "metadata": {
    "id": "iDwqzZv7yRU2",
    "papermill": {
     "duration": 0.013278,
     "end_time": "2025-02-08T04:54:01.055284",
     "exception": false,
     "start_time": "2025-02-08T04:54:01.042006",
     "status": "completed"
    },
    "tags": []
   },
   "source": [
    "Now, consider the third part of the empirical rule:whether 99.7% of the `aqi_log` data falls within 3 standard deviations of the mean.\n",
    "\n",
    "To compute the actual percentage of the data that satisfies this criteria, define the lower limit (for example, 3 standard deviations below the mean) and the upper limit (for example, 3 standard deviations above the mean). This will enable you to create a range and confirm whether each value falls within it."
   ]
  },
  {
   "cell_type": "code",
   "execution_count": 12,
   "id": "2b6e78b6",
   "metadata": {
    "execution": {
     "iopub.execute_input": "2025-02-08T04:54:01.083572Z",
     "iopub.status.busy": "2025-02-08T04:54:01.083175Z",
     "iopub.status.idle": "2025-02-08T04:54:01.089197Z",
     "shell.execute_reply": "2025-02-08T04:54:01.088207Z"
    },
    "id": "LIgS7jmXyRU4",
    "papermill": {
     "duration": 0.022058,
     "end_time": "2025-02-08T04:54:01.090858",
     "exception": false,
     "start_time": "2025-02-08T04:54:01.068800",
     "status": "completed"
    },
    "tags": []
   },
   "outputs": [
    {
     "name": "stdout",
     "output_type": "stream",
     "text": [
      "lower limit 3 stddev: -0.37309823170342615\n",
      "upper limit 3 stddev: 3.9069404177005422\n"
     ]
    }
   ],
   "source": [
    "# Define variable for lower limit, 3 standard deviations below the mean.\n",
    "\n",
    "### YOUR CODE HERE ###\n",
    "\n",
    "lower_limit = aqi_log_mean - (3 * aqi_log_std_dev)\n",
    "\n",
    "\n",
    "# Define variable for upper limit, 3 standard deviations above the mean.\n",
    "\n",
    "### YOUR CODE HERE ###\n",
    "\n",
    "upper_limit = aqi_log_mean + (3 * aqi_log_std_dev)\n",
    "\n",
    "\n",
    "# Display lower_limit, upper_limit.\n",
    "\n",
    "### YOUR CODE HERE ###\n",
    "\n",
    "print('lower limit 3 stddev:', lower_limit)\n",
    "print('upper limit 3 stddev:', upper_limit)"
   ]
  },
  {
   "cell_type": "markdown",
   "id": "e56b3058",
   "metadata": {
    "id": "7cx24tSdyRU6",
    "papermill": {
     "duration": 0.013305,
     "end_time": "2025-02-08T04:54:01.117778",
     "exception": false,
     "start_time": "2025-02-08T04:54:01.104473",
     "status": "completed"
    },
    "tags": []
   },
   "source": [
    "<details><summary><h4><strong>Hint 1</strong></h4></summary>\n",
    "\n",
    "Refer to the video about using the empirical rule.\n",
    "    \n",
    "  \n",
    "</details>"
   ]
  },
  {
   "cell_type": "markdown",
   "id": "abb6ee91",
   "metadata": {
    "id": "-z7MazcxyRU7",
    "papermill": {
     "duration": 0.013044,
     "end_time": "2025-02-08T04:54:01.144460",
     "exception": false,
     "start_time": "2025-02-08T04:54:01.131416",
     "status": "completed"
    },
    "tags": []
   },
   "source": [
    "<details><summary><h4><strong>Hint 2</strong></h4></summary>\n",
    "\n",
    "The lower limit here is $mean - 3 * std$.\n",
    "\n",
    "The upper limit here is $mean + 3 * std$.\n",
    "\n",
    "The `print` function can be called to display.\n",
    "    \n",
    "  \n",
    "</details>"
   ]
  },
  {
   "cell_type": "markdown",
   "id": "1c857a57",
   "metadata": {
    "id": "h0Yw666eyRU7",
    "papermill": {
     "duration": 0.013228,
     "end_time": "2025-02-08T04:54:01.171288",
     "exception": false,
     "start_time": "2025-02-08T04:54:01.158060",
     "status": "completed"
    },
    "tags": []
   },
   "source": [
    "<details><summary><h4><strong>Hint 3</strong></h4></summary>\n",
    "\n",
    "Use the variables that you defined for mean and standard deviation of `aqi_log`, ensuring the spelling is correct. \n",
    "\n",
    "Call the `print` function and pass in the values one after the other, with a comma between them.\n",
    "    \n",
    "</details>"
   ]
  },
  {
   "cell_type": "code",
   "execution_count": 13,
   "id": "0b47307d",
   "metadata": {
    "execution": {
     "iopub.execute_input": "2025-02-08T04:54:01.199178Z",
     "iopub.status.busy": "2025-02-08T04:54:01.198857Z",
     "iopub.status.idle": "2025-02-08T04:54:01.205591Z",
     "shell.execute_reply": "2025-02-08T04:54:01.204461Z"
    },
    "id": "2YNWONRKyRU9",
    "papermill": {
     "duration": 0.022629,
     "end_time": "2025-02-08T04:54:01.207305",
     "exception": false,
     "start_time": "2025-02-08T04:54:01.184676",
     "status": "completed"
    },
    "tags": []
   },
   "outputs": [
    {
     "name": "stdout",
     "output_type": "stream",
     "text": [
      "3 std dev percent: 99.61538461538461 %\n"
     ]
    }
   ],
   "source": [
    "# Display the actual percentage of data that falls within 3 standard deviations of the mean.\n",
    "\n",
    "### YOUR CODE HERE ### \n",
    "\n",
    "print( '3 std dev percent:', ((data['aqi_log'] >= lower_limit) & (data['aqi_log'] <= upper_limit)).mean()*100, '%')"
   ]
  },
  {
   "cell_type": "markdown",
   "id": "5bdfb84f",
   "metadata": {
    "id": "6gQL-S4qyRU-",
    "papermill": {
     "duration": 0.013245,
     "end_time": "2025-02-08T04:54:01.234409",
     "exception": false,
     "start_time": "2025-02-08T04:54:01.221164",
     "status": "completed"
    },
    "tags": []
   },
   "source": [
    "<details><summary><h4><strong>Hint 1</strong></h4></summary>\n",
    "\n",
    "Refer to the video about using the empirical rule.\n",
    "    \n",
    "</details>"
   ]
  },
  {
   "cell_type": "markdown",
   "id": "d1847737",
   "metadata": {
    "id": "Msi9Bg4iyRU-",
    "papermill": {
     "duration": 0.013346,
     "end_time": "2025-02-08T04:54:01.261702",
     "exception": false,
     "start_time": "2025-02-08T04:54:01.248356",
     "status": "completed"
    },
    "tags": []
   },
   "source": [
    "<details><summary><h4><strong>Hint 2</strong></h4></summary>\n",
    "\n",
    "The `>=` operator can be used to confirm whether one value is greater than or equal to another value.\n",
    "\n",
    "The `<=` operator can be used to check whether one value is less than or equal to another value.\n",
    "\n",
    "The `&` operator can be used to check if one condition and another condition is met. \n",
    "    \n",
    "</details>"
   ]
  },
  {
   "cell_type": "markdown",
   "id": "ccbb0fc0",
   "metadata": {
    "id": "MYQsEPvUyRU-",
    "papermill": {
     "duration": 0.013267,
     "end_time": "2025-02-08T04:54:01.288621",
     "exception": false,
     "start_time": "2025-02-08T04:54:01.275354",
     "status": "completed"
    },
    "tags": []
   },
   "source": [
    "<details><summary><h4><strong>Hint 3</strong></h4></summary>\n",
    "\n",
    "The `mean()` function can be used to compute the proportion of the data that satisfies the specified conditions. \n",
    "\n",
    "Multiplying that proportion by $100$ can get you the percentage.\n",
    "    \n",
    "</details>"
   ]
  },
  {
   "cell_type": "markdown",
   "id": "2cb50ab9",
   "metadata": {
    "id": "WMs52bG7Htuc",
    "papermill": {
     "duration": 0.013257,
     "end_time": "2025-02-08T04:54:01.315576",
     "exception": false,
     "start_time": "2025-02-08T04:54:01.302319",
     "status": "completed"
    },
    "tags": []
   },
   "source": [
    "## **Step 4: Results and evaluation** "
   ]
  },
  {
   "cell_type": "markdown",
   "id": "eadfad93",
   "metadata": {
    "id": "33nFzX120u2z",
    "papermill": {
     "duration": 0.013421,
     "end_time": "2025-02-08T04:54:01.342687",
     "exception": false,
     "start_time": "2025-02-08T04:54:01.329266",
     "status": "completed"
    },
    "tags": []
   },
   "source": [
    "**Question:** What results did you attain by applying the empirical rule? "
   ]
  },
  {
   "cell_type": "markdown",
   "id": "13747691",
   "metadata": {
    "id": "MDp6w9Yu11lm",
    "papermill": {
     "duration": 0.013221,
     "end_time": "2025-02-08T04:54:01.369553",
     "exception": false,
     "start_time": "2025-02-08T04:54:01.356332",
     "status": "completed"
    },
    "tags": []
   },
   "source": [
    "* 76.15% of the sample aqi values falls within 1 std dev of the mean\n",
    "* 95.77% of the sample aqi values data falls within 2 std dev  of the mean\n",
    "* 99.62% of the sample aqi values data falls within 3 std dev of the mean\n",
    "\n",
    "The distribution can be said to be approximately normal"
   ]
  },
  {
   "cell_type": "markdown",
   "id": "1a9ac4b9",
   "metadata": {
    "id": "yGVspw1N6Zom",
    "papermill": {
     "duration": 0.01389,
     "end_time": "2025-02-08T04:54:01.397073",
     "exception": false,
     "start_time": "2025-02-08T04:54:01.383183",
     "status": "completed"
    },
    "tags": []
   },
   "source": [
    "**Question:** How would you use z-score to find outliers? "
   ]
  },
  {
   "cell_type": "markdown",
   "id": "1288b0de",
   "metadata": {
    "id": "1tFlqjv112BU",
    "papermill": {
     "duration": 0.013403,
     "end_time": "2025-02-08T04:54:01.424668",
     "exception": false,
     "start_time": "2025-02-08T04:54:01.411265",
     "status": "completed"
    },
    "tags": []
   },
   "source": [
    "* any z-scores of the data points above or below 3  std dev can be considered as outliers"
   ]
  },
  {
   "cell_type": "markdown",
   "id": "1c49bef0",
   "metadata": {
    "id": "OiBYE9FW8bSf",
    "papermill": {
     "duration": 0.013345,
     "end_time": "2025-02-08T04:54:01.451780",
     "exception": false,
     "start_time": "2025-02-08T04:54:01.438435",
     "status": "completed"
    },
    "tags": []
   },
   "source": [
    "Compute the z-score for every `aqi_log` value. Then, add a column named `z_score` in the data to store those results. "
   ]
  },
  {
   "cell_type": "code",
   "execution_count": 14,
   "id": "6ef33302",
   "metadata": {
    "execution": {
     "iopub.execute_input": "2025-02-08T04:54:01.480470Z",
     "iopub.status.busy": "2025-02-08T04:54:01.480083Z",
     "iopub.status.idle": "2025-02-08T04:54:01.495555Z",
     "shell.execute_reply": "2025-02-08T04:54:01.494582Z"
    },
    "id": "EGh6jJ-a9bph",
    "papermill": {
     "duration": 0.031625,
     "end_time": "2025-02-08T04:54:01.497402",
     "exception": false,
     "start_time": "2025-02-08T04:54:01.465777",
     "status": "completed"
    },
    "tags": []
   },
   "outputs": [
    {
     "data": {
      "text/html": [
       "<div>\n",
       "<style scoped>\n",
       "    .dataframe tbody tr th:only-of-type {\n",
       "        vertical-align: middle;\n",
       "    }\n",
       "\n",
       "    .dataframe tbody tr th {\n",
       "        vertical-align: top;\n",
       "    }\n",
       "\n",
       "    .dataframe thead th {\n",
       "        text-align: right;\n",
       "    }\n",
       "</style>\n",
       "<table border=\"1\" class=\"dataframe\">\n",
       "  <thead>\n",
       "    <tr style=\"text-align: right;\">\n",
       "      <th></th>\n",
       "      <th>date_local</th>\n",
       "      <th>state_name</th>\n",
       "      <th>county_name</th>\n",
       "      <th>city_name</th>\n",
       "      <th>local_site_name</th>\n",
       "      <th>parameter_name</th>\n",
       "      <th>units_of_measure</th>\n",
       "      <th>aqi_log</th>\n",
       "      <th>z_score</th>\n",
       "    </tr>\n",
       "  </thead>\n",
       "  <tbody>\n",
       "    <tr>\n",
       "      <th>0</th>\n",
       "      <td>2018-01-01</td>\n",
       "      <td>Arizona</td>\n",
       "      <td>Maricopa</td>\n",
       "      <td>Buckeye</td>\n",
       "      <td>BUCKEYE</td>\n",
       "      <td>Carbon monoxide</td>\n",
       "      <td>Parts per million</td>\n",
       "      <td>2.079442</td>\n",
       "      <td>0.437265</td>\n",
       "    </tr>\n",
       "    <tr>\n",
       "      <th>1</th>\n",
       "      <td>2018-01-01</td>\n",
       "      <td>Ohio</td>\n",
       "      <td>Belmont</td>\n",
       "      <td>Shadyside</td>\n",
       "      <td>Shadyside</td>\n",
       "      <td>Carbon monoxide</td>\n",
       "      <td>Parts per million</td>\n",
       "      <td>1.791759</td>\n",
       "      <td>0.034753</td>\n",
       "    </tr>\n",
       "    <tr>\n",
       "      <th>2</th>\n",
       "      <td>2018-01-01</td>\n",
       "      <td>Wyoming</td>\n",
       "      <td>Teton</td>\n",
       "      <td>Not in a city</td>\n",
       "      <td>Yellowstone National Park - Old Faithful Snow ...</td>\n",
       "      <td>Carbon monoxide</td>\n",
       "      <td>Parts per million</td>\n",
       "      <td>1.098612</td>\n",
       "      <td>-0.935070</td>\n",
       "    </tr>\n",
       "    <tr>\n",
       "      <th>3</th>\n",
       "      <td>2018-01-01</td>\n",
       "      <td>Pennsylvania</td>\n",
       "      <td>Philadelphia</td>\n",
       "      <td>Philadelphia</td>\n",
       "      <td>North East Waste (NEW)</td>\n",
       "      <td>Carbon monoxide</td>\n",
       "      <td>Parts per million</td>\n",
       "      <td>1.386294</td>\n",
       "      <td>-0.532557</td>\n",
       "    </tr>\n",
       "    <tr>\n",
       "      <th>4</th>\n",
       "      <td>2018-01-01</td>\n",
       "      <td>Iowa</td>\n",
       "      <td>Polk</td>\n",
       "      <td>Des Moines</td>\n",
       "      <td>CARPENTER</td>\n",
       "      <td>Carbon monoxide</td>\n",
       "      <td>Parts per million</td>\n",
       "      <td>1.386294</td>\n",
       "      <td>-0.532557</td>\n",
       "    </tr>\n",
       "  </tbody>\n",
       "</table>\n",
       "</div>"
      ],
      "text/plain": [
       "   date_local    state_name   county_name      city_name  \\\n",
       "0  2018-01-01       Arizona      Maricopa        Buckeye   \n",
       "1  2018-01-01          Ohio       Belmont      Shadyside   \n",
       "2  2018-01-01       Wyoming         Teton  Not in a city   \n",
       "3  2018-01-01  Pennsylvania  Philadelphia   Philadelphia   \n",
       "4  2018-01-01          Iowa          Polk     Des Moines   \n",
       "\n",
       "                                     local_site_name   parameter_name  \\\n",
       "0                                            BUCKEYE  Carbon monoxide   \n",
       "1                                          Shadyside  Carbon monoxide   \n",
       "2  Yellowstone National Park - Old Faithful Snow ...  Carbon monoxide   \n",
       "3                             North East Waste (NEW)  Carbon monoxide   \n",
       "4                                          CARPENTER  Carbon monoxide   \n",
       "\n",
       "    units_of_measure   aqi_log   z_score  \n",
       "0  Parts per million  2.079442  0.437265  \n",
       "1  Parts per million  1.791759  0.034753  \n",
       "2  Parts per million  1.098612 -0.935070  \n",
       "3  Parts per million  1.386294 -0.532557  \n",
       "4  Parts per million  1.386294 -0.532557  "
      ]
     },
     "execution_count": 14,
     "metadata": {},
     "output_type": "execute_result"
    }
   ],
   "source": [
    "# Compute the z-score for every aqi_log value, and add a column named z_score in the data to store those results.\n",
    "\n",
    "### YOUR CODE HERE ###\n",
    "\n",
    "data['z_score'] = stats.zscore(data[\"aqi_log\"], ddof=1)\n",
    "\n",
    "\n",
    "# Display the first 5 rows to ensure that the new column was added.\n",
    "\n",
    "### YOUR CODE HERE ###\n",
    "\n",
    "data.head()"
   ]
  },
  {
   "cell_type": "markdown",
   "id": "92e3b4d3",
   "metadata": {
    "id": "INyNi88Q9oE0",
    "papermill": {
     "duration": 0.013592,
     "end_time": "2025-02-08T04:54:01.524970",
     "exception": false,
     "start_time": "2025-02-08T04:54:01.511378",
     "status": "completed"
    },
    "tags": []
   },
   "source": [
    "<details><summary><h4><strong>Hint 1</strong></h4></summary>\n",
    "\n",
    "Refer to the video about calculating z-score.\n",
    "    \n",
    "</details>"
   ]
  },
  {
   "cell_type": "markdown",
   "id": "a6a7c8a2",
   "metadata": {
    "id": "aDxFLj8X9oE1",
    "papermill": {
     "duration": 0.013452,
     "end_time": "2025-02-08T04:54:01.552270",
     "exception": false,
     "start_time": "2025-02-08T04:54:01.538818",
     "status": "completed"
    },
    "tags": []
   },
   "source": [
    "<details><summary><h4><strong>Hint 2</strong></h4></summary>\n",
    "\n",
    "There is a function in the `stats` module of the `scipy` library that you can call to calculate z-score.\n",
    "    \n",
    "</details>"
   ]
  },
  {
   "cell_type": "markdown",
   "id": "16a1c51b",
   "metadata": {
    "id": "lqtjeWf59oE1",
    "papermill": {
     "duration": 0.013439,
     "end_time": "2025-02-08T04:54:01.579542",
     "exception": false,
     "start_time": "2025-02-08T04:54:01.566103",
     "status": "completed"
    },
    "tags": []
   },
   "source": [
    "<details><summary><h4><strong>Hint 3</strong></h4></summary>\n",
    "\n",
    "Call the `zscore()` function and pass in the `aqi` column from the data.\n",
    "    \n",
    "</details>"
   ]
  },
  {
   "cell_type": "markdown",
   "id": "ba27fcec",
   "metadata": {
    "id": "0A4dXHJz-r4q",
    "papermill": {
     "duration": 0.013529,
     "end_time": "2025-02-08T04:54:01.607025",
     "exception": false,
     "start_time": "2025-02-08T04:54:01.593496",
     "status": "completed"
    },
    "tags": []
   },
   "source": [
    "Identify the parts of the data where `aqi_log` is above or below 3 standard deviations of the mean."
   ]
  },
  {
   "cell_type": "code",
   "execution_count": 15,
   "id": "dee4ff9d",
   "metadata": {
    "execution": {
     "iopub.execute_input": "2025-02-08T04:54:01.635796Z",
     "iopub.status.busy": "2025-02-08T04:54:01.635432Z",
     "iopub.status.idle": "2025-02-08T04:54:01.651686Z",
     "shell.execute_reply": "2025-02-08T04:54:01.650621Z"
    },
    "id": "uZKI5h2q-5TI",
    "papermill": {
     "duration": 0.032632,
     "end_time": "2025-02-08T04:54:01.653422",
     "exception": false,
     "start_time": "2025-02-08T04:54:01.620790",
     "status": "completed"
    },
    "tags": []
   },
   "outputs": [
    {
     "data": {
      "text/html": [
       "<div>\n",
       "<style scoped>\n",
       "    .dataframe tbody tr th:only-of-type {\n",
       "        vertical-align: middle;\n",
       "    }\n",
       "\n",
       "    .dataframe tbody tr th {\n",
       "        vertical-align: top;\n",
       "    }\n",
       "\n",
       "    .dataframe thead th {\n",
       "        text-align: right;\n",
       "    }\n",
       "</style>\n",
       "<table border=\"1\" class=\"dataframe\">\n",
       "  <thead>\n",
       "    <tr style=\"text-align: right;\">\n",
       "      <th></th>\n",
       "      <th>date_local</th>\n",
       "      <th>state_name</th>\n",
       "      <th>county_name</th>\n",
       "      <th>city_name</th>\n",
       "      <th>local_site_name</th>\n",
       "      <th>parameter_name</th>\n",
       "      <th>units_of_measure</th>\n",
       "      <th>aqi_log</th>\n",
       "      <th>z_score</th>\n",
       "    </tr>\n",
       "  </thead>\n",
       "  <tbody>\n",
       "    <tr>\n",
       "      <th>244</th>\n",
       "      <td>2018-01-01</td>\n",
       "      <td>Arizona</td>\n",
       "      <td>Maricopa</td>\n",
       "      <td>Phoenix</td>\n",
       "      <td>WEST PHOENIX</td>\n",
       "      <td>Carbon monoxide</td>\n",
       "      <td>Parts per million</td>\n",
       "      <td>3.931826</td>\n",
       "      <td>3.029044</td>\n",
       "    </tr>\n",
       "  </tbody>\n",
       "</table>\n",
       "</div>"
      ],
      "text/plain": [
       "     date_local state_name county_name city_name local_site_name  \\\n",
       "244  2018-01-01    Arizona    Maricopa   Phoenix    WEST PHOENIX   \n",
       "\n",
       "      parameter_name   units_of_measure   aqi_log   z_score  \n",
       "244  Carbon monoxide  Parts per million  3.931826  3.029044  "
      ]
     },
     "execution_count": 15,
     "metadata": {},
     "output_type": "execute_result"
    }
   ],
   "source": [
    "# Display data where `aqi_log` is above or below 3 standard deviations of the mean\n",
    "\n",
    "### YOUR CODE HERE ###\n",
    "\n",
    "data[(data['z_score'] < -3) | (data['z_score'] > 3)]"
   ]
  },
  {
   "cell_type": "markdown",
   "id": "b3308710",
   "metadata": {
    "id": "zL5i0J4KDLlg",
    "papermill": {
     "duration": 0.014217,
     "end_time": "2025-02-08T04:54:01.681961",
     "exception": false,
     "start_time": "2025-02-08T04:54:01.667744",
     "status": "completed"
    },
    "tags": []
   },
   "source": [
    "<details><summary><h4><strong>Hint 1</strong></h4></summary>\n",
    "\n",
    "Refer to the video about outlier detection.\n",
    "    \n",
    "</details>"
   ]
  },
  {
   "cell_type": "markdown",
   "id": "4929191e",
   "metadata": {
    "id": "5aY_4E5LDLli",
    "papermill": {
     "duration": 0.013822,
     "end_time": "2025-02-08T04:54:01.710152",
     "exception": false,
     "start_time": "2025-02-08T04:54:01.696330",
     "status": "completed"
    },
    "tags": []
   },
   "source": [
    "<details><summary><h4><strong>Hint 2</strong></h4></summary>\n",
    "\n",
    "The `>` operator can be used to evaluate whether one value is greater than another value. \n",
    "\n",
    "The `<` operator can be used to evaluate whether one value is less than another value. \n",
    "\n",
    "The `|` operator can used to evaluate whether one condition or another condition is met.  \n",
    "    \n",
    "</details>"
   ]
  },
  {
   "cell_type": "markdown",
   "id": "7560ed06",
   "metadata": {
    "id": "g5K4uBV3DLlj",
    "papermill": {
     "duration": 0.013668,
     "end_time": "2025-02-08T04:54:01.738417",
     "exception": false,
     "start_time": "2025-02-08T04:54:01.724749",
     "status": "completed"
    },
    "tags": []
   },
   "source": [
    "<details><summary><h4><strong>Hint 3</strong></h4></summary>\n",
    "\n",
    "To index the DataFrame, place a pair of parantheses around the evaluation of the two conditions and pass that into a pair of square brackets. This will allow you to get all rows in the data where the specified criteria is met.\n",
    "\n",
    "Make sure the spelling of the column matches the name you specified when creating that column. \n",
    "    \n",
    "</details>"
   ]
  },
  {
   "cell_type": "markdown",
   "id": "5a8e3fff",
   "metadata": {
    "id": "KKE1k3i4_gHK",
    "papermill": {
     "duration": 0.013632,
     "end_time": "2025-02-08T04:54:01.766186",
     "exception": false,
     "start_time": "2025-02-08T04:54:01.752554",
     "status": "completed"
    },
    "tags": []
   },
   "source": [
    "**Question:** What do you observe about potential outliers based on the calculations?\n"
   ]
  },
  {
   "cell_type": "markdown",
   "id": "9fb3e92a",
   "metadata": {
    "id": "VUJidfrT12kv",
    "papermill": {
     "duration": 0.014104,
     "end_time": "2025-02-08T04:54:01.794375",
     "exception": false,
     "start_time": "2025-02-08T04:54:01.780271",
     "status": "completed"
    },
    "tags": []
   },
   "source": [
    "* only 1 outlier lies above the upper limit\n",
    "* this outlier indicates that the record (city) has worse air quality when compared to the rest of the sample"
   ]
  },
  {
   "cell_type": "markdown",
   "id": "1e730e5a",
   "metadata": {
    "id": "WkzrnFdy7nQL",
    "papermill": {
     "duration": 0.013934,
     "end_time": "2025-02-08T04:54:01.822652",
     "exception": false,
     "start_time": "2025-02-08T04:54:01.808718",
     "status": "completed"
    },
    "tags": []
   },
   "source": [
    "**Question:** Why is outlier detection an important part of this project? "
   ]
  },
  {
   "cell_type": "markdown",
   "id": "ac7de37e",
   "metadata": {
    "id": "zGDvFeUc13Aj",
    "papermill": {
     "duration": 0.013794,
     "end_time": "2025-02-08T04:54:01.850732",
     "exception": false,
     "start_time": "2025-02-08T04:54:01.836938",
     "status": "completed"
    },
    "tags": []
   },
   "source": [
    "outliers can inform us:\n",
    "1. there are errors in the data\n",
    "2. there are certain selective cases which are concerning "
   ]
  },
  {
   "cell_type": "markdown",
   "id": "539b38cd",
   "metadata": {
    "id": "W1bNKZYNHjDr",
    "papermill": {
     "duration": 0.014095,
     "end_time": "2025-02-08T04:54:01.879761",
     "exception": false,
     "start_time": "2025-02-08T04:54:01.865666",
     "status": "completed"
    },
    "tags": []
   },
   "source": [
    "## **Considerations**"
   ]
  },
  {
   "cell_type": "markdown",
   "id": "da16019f",
   "metadata": {
    "id": "kecJlWA815Ld",
    "papermill": {
     "duration": 0.013612,
     "end_time": "2025-02-08T04:54:01.907479",
     "exception": false,
     "start_time": "2025-02-08T04:54:01.893867",
     "status": "completed"
    },
    "tags": []
   },
   "source": [
    "**What are some key takeaways that you learned during this lab?**"
   ]
  },
  {
   "cell_type": "markdown",
   "id": "6a28c728",
   "metadata": {
    "id": "WviSDGgi17BQ",
    "papermill": {
     "duration": 0.015087,
     "end_time": "2025-02-08T04:54:01.936626",
     "exception": false,
     "start_time": "2025-02-08T04:54:01.921539",
     "status": "completed"
    },
    "tags": []
   },
   "source": [
    "* histogram can visualize distributions\n",
    "* z scores can help in outlier detection if the concerned variables are "
   ]
  },
  {
   "cell_type": "markdown",
   "id": "adc4f8b5",
   "metadata": {
    "id": "XQ5JZ-MP17YU",
    "papermill": {
     "duration": 0.013575,
     "end_time": "2025-02-08T04:54:01.964290",
     "exception": false,
     "start_time": "2025-02-08T04:54:01.950715",
     "status": "completed"
    },
    "tags": []
   },
   "source": [
    "**What summary would you provide to stakeholders? Consider the distribution of the data and which sites would benefit from additional research.**"
   ]
  },
  {
   "cell_type": "markdown",
   "id": "2adfd27b",
   "metadata": {
    "id": "5eJaCTo_19Y4",
    "papermill": {
     "duration": 0.01372,
     "end_time": "2025-02-08T04:54:01.992002",
     "exception": false,
     "start_time": "2025-02-08T04:54:01.978282",
     "status": "completed"
    },
    "tags": []
   },
   "source": [
    "* need to find the methods which determined the aqi of the outlier city, if the collection methods and the recorded value is unbiased, necessary action need to be taken to get the aqi levels of the outlier city."
   ]
  },
  {
   "cell_type": "markdown",
   "id": "06dec2a4",
   "metadata": {
    "id": "K2AW3yb9QtIF",
    "papermill": {
     "duration": 0.014294,
     "end_time": "2025-02-08T04:54:02.020366",
     "exception": false,
     "start_time": "2025-02-08T04:54:02.006072",
     "status": "completed"
    },
    "tags": []
   },
   "source": [
    "**Reference**\n",
    "\n",
    "US EPA, OAR. 2014, July 8. [Air Data: Air Quality Data Collected at Outdoor Monitors Across the US](https://www.epa.gov/outdoor-air-quality-data). "
   ]
  },
  {
   "cell_type": "markdown",
   "id": "f19e04e8",
   "metadata": {
    "papermill": {
     "duration": 0.013875,
     "end_time": "2025-02-08T04:54:02.048519",
     "exception": false,
     "start_time": "2025-02-08T04:54:02.034644",
     "status": "completed"
    },
    "tags": []
   },
   "source": [
    "**Congratulations!** You've completed this lab. However, you may not notice a green check mark next to this item on Coursera's platform. Please continue your progress regardless of the check mark. Just click on the \"save\" icon at the top of this notebook to ensure your work has been logged."
   ]
  }
 ],
 "metadata": {
  "colab": {
   "collapsed_sections": [],
   "provenance": []
  },
  "kaggle": {
   "accelerator": "none",
   "dataSources": [
    {
     "datasetId": 6625193,
     "sourceId": 10692443,
     "sourceType": "datasetVersion"
    }
   ],
   "dockerImageVersionId": 30886,
   "isGpuEnabled": false,
   "isInternetEnabled": true,
   "language": "python",
   "sourceType": "notebook"
  },
  "kernelspec": {
   "display_name": "Python 3",
   "language": "python",
   "name": "python3"
  },
  "language_info": {
   "codemirror_mode": {
    "name": "ipython",
    "version": 3
   },
   "file_extension": ".py",
   "mimetype": "text/x-python",
   "name": "python",
   "nbconvert_exporter": "python",
   "pygments_lexer": "ipython3",
   "version": "3.10.12"
  },
  "papermill": {
   "default_parameters": {},
   "duration": 10.516137,
   "end_time": "2025-02-08T04:54:02.783263",
   "environment_variables": {},
   "exception": null,
   "input_path": "__notebook__.ipynb",
   "output_path": "__notebook__.ipynb",
   "parameters": {},
   "start_time": "2025-02-08T04:53:52.267126",
   "version": "2.6.0"
  }
 },
 "nbformat": 4,
 "nbformat_minor": 5
}

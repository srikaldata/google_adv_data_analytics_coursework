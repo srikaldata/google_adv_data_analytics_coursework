{
 "cells": [
  {
   "cell_type": "markdown",
   "id": "f8439c9e",
   "metadata": {
    "id": "-Lwnt5KN31Fq",
    "papermill": {
     "duration": 0.00969,
     "end_time": "2025-02-04T04:23:28.907289",
     "exception": false,
     "start_time": "2025-02-04T04:23:28.897599",
     "status": "completed"
    },
    "tags": []
   },
   "source": [
    "<h1>Activity: Dictionaries and sets</h1>"
   ]
  },
  {
   "cell_type": "markdown",
   "id": "16a828f3",
   "metadata": {
    "id": "g3HOxOPG39KQ",
    "papermill": {
     "duration": 0.008096,
     "end_time": "2025-02-04T04:23:28.924157",
     "exception": false,
     "start_time": "2025-02-04T04:23:28.916061",
     "status": "completed"
    },
    "tags": []
   },
   "source": [
    "## Introduction\n",
    "\n",
    "In this lab, you will practice creating, modifying, and working with data structures in Python. This will develop your knowledge of different kinds of data structures and the different operations that you can perform with them to answer questions about the data. This will help you prepare for projects you may encounter where you will need to use data structures to store and keep track of data.\n",
    "\n",
    "In your work as an analyst, you are continuing your research into air quality data collected by the U.S. Environmental Protection Agency (EPA). The air quality index (AQI) is a number that runs from 0 to 500. The higher the AQI value, the greater the level of air pollution and the greater the health concern. For example, an AQI value of 50 or below represents good air quality, while an AQI value over 300 represents hazardous air quality. Refer to this guide from [AirNow.gov](https://www.airnow.gov/aqi/aqi-basics/) for more information.\n",
    "\n",
    "In this activity, you will create, modify, and update dictionaries and sets. You will also be working with more data than in previous labs to more closely resemble situations encountered by working data professionals."
   ]
  },
  {
   "cell_type": "markdown",
   "id": "08390bde",
   "metadata": {
    "id": "nWswZUkx388N",
    "papermill": {
     "duration": 0.00804,
     "end_time": "2025-02-04T04:23:28.940604",
     "exception": false,
     "start_time": "2025-02-04T04:23:28.932564",
     "status": "completed"
    },
    "tags": []
   },
   "source": [
    "## Tips for completing this lab\n",
    "\n",
    "As you navigate this lab, keep the following tips in mind:\n",
    "\n",
    "- `### YOUR CODE HERE ###` indicates where you should write code. Be sure to replace this with your own code before running the code cell.\n",
    "- Feel free to open the hints for additional guidance as you work on each task.\n",
    "- To enter your answer to a question, double-click the markdown cell to edit. Be sure to replace the \"[Double-click to enter your responses here.]\" with your own answer.\n",
    "- You can save your work manually by clicking File and then Save in the menu bar at the top of the notebook.\n",
    "- You can download your work locally by clicking File and then Download and then specifying your preferred file format in the menu bar at the top of the notebook.\n",
    "\n"
   ]
  },
  {
   "cell_type": "code",
   "execution_count": 1,
   "id": "e33f39c6",
   "metadata": {
    "execution": {
     "iopub.execute_input": "2025-02-04T04:23:28.959137Z",
     "iopub.status.busy": "2025-02-04T04:23:28.958630Z",
     "iopub.status.idle": "2025-02-04T04:23:30.070539Z",
     "shell.execute_reply": "2025-02-04T04:23:30.068999Z"
    },
    "papermill": {
     "duration": 1.123577,
     "end_time": "2025-02-04T04:23:30.072602",
     "exception": false,
     "start_time": "2025-02-04T04:23:28.949025",
     "status": "completed"
    },
    "tags": []
   },
   "outputs": [],
   "source": [
    "import string\n",
    "import random\n",
    "import numpy as np\n",
    "import pandas as pd\n",
    "\n",
    "# LAB-107, LAB-108\n",
    "def fetch_epa(key):  \n",
    "    '''\n",
    "    Imports EPA data from adacert github and creates a dictionary with three keys:\n",
    "        state: a list of the states\n",
    "        county: a list of the counties\n",
    "        aqi: a list of the aqi\n",
    "    \n",
    "    Returns the values at a given key.\n",
    "    '''\n",
    "    epa = pd.read_csv('https://raw.githubusercontent.com/adacert/EPA/main/c2_epa_air_quality.csv')\n",
    "    state = epa['state_name'].to_list()\n",
    "    county = epa['county_name'].to_list()\n",
    "    aqi = epa['aqi'].to_list()\n",
    "    epa_dict = dict(state = state,\n",
    "                    county = county,\n",
    "                    aqi = aqi)\n",
    "    \n",
    "    return epa_dict[key]\n",
    "\n",
    "\n",
    "# LAB-099, LAB-100\n",
    "def id_gen(n_chars_id, n_samples):  \n",
    "    '''\n",
    "    Return a list of `n_samples` elements where each element is a string \n",
    "    of len(`n_chars_id`) random lowercase characters and digits. \n",
    "    '''\n",
    "    ids = []\n",
    "    seed = 0\n",
    "    for i in range(n_samples):\n",
    "        random.seed(seed)\n",
    "        id = ''.join(random.choices(string.ascii_lowercase +\n",
    "                             string.digits, k=n_chars_id))\n",
    "        ids.append(id)\n",
    "        seed+=1\n",
    "    return ids\n",
    "\n",
    "\n",
    "# LAB-099, LAB-100\n",
    "def lists_gen(n_chars_id, n_pool, n_feedback_ids, n_verified_ids):  \n",
    "    '''\n",
    "    Return two lists: `verified_ids` and `feedback_ids`\n",
    "    '''\n",
    "    seed = 0\n",
    "    pool = id_gen(n_chars_id, n_pool) \n",
    "    verified_ids = random.sample(pool, k=n_verified_ids)\n",
    "    feedback_ids = random.sample(pool, k=n_feedback_ids)\n",
    "    return verified_ids, feedback_ids\n",
    "\n",
    "\n",
    "# LAB-099, LAB-100\n",
    "def sales_data_generator(n_customers, seed):\n",
    "    '''\n",
    "    Returns a list of sales prices for n customers.\n",
    "    Each customer has 0-6 purchases in their list.\n",
    "    '''\n",
    "    random.seed(seed)\n",
    "    sales = []      \n",
    "    for customer in range(n_customers):\n",
    "        customer_sales = []\n",
    "        n_sales = random.randint(0, 6)  # Random 0-6 number of sales for each cust.\n",
    "        for sale in range(n_sales):     # Each sale price random from a lognormal dist.\n",
    "            customer_sales.append(round(random.lognormvariate(2.5, 1.5), 2))\n",
    "        sales.append(customer_sales)\n",
    "    \n",
    "    return sales"
   ]
  },
  {
   "cell_type": "markdown",
   "id": "7c3aee95",
   "metadata": {
    "id": "JlXRqG234ys5",
    "papermill": {
     "duration": 0.008055,
     "end_time": "2025-02-04T04:23:30.089532",
     "exception": false,
     "start_time": "2025-02-04T04:23:30.081477",
     "status": "completed"
    },
    "tags": []
   },
   "source": [
    "# Task 1: Create a dictionary to store information</h2></summary>\n",
    "\n",
    "Dictionaries are useful when you need a data structure to store information that can be referenced or looked up.\n",
    "\n",
    "In this task you'll begin with three `list` objects:\n",
    "\n",
    "* `state_list` - an ordered list of the state where each data point was recorded\n",
    "* `county_list` - an ordered list of the county where each data point was recorded\n",
    "* `aqi_list` - an ordered list of AQI records\n",
    "\n",
    "As a refresher, here is an example table of some of the information contained in these variables:\n",
    "\n",
    "| state_name | county_name | aqi |\n",
    "| --- | --- | --- |\n",
    "| Arizona | Maricopa | 9 |\n",
    "| California | Alameda | 11 |\n",
    "| California | Sacramento | 35 |\n",
    "| Kentucky | Jefferson | 6 |\n",
    "| Louisiana | East Baton Rouge | 5 |\n",
    "\n",
    "\n",
    "</details>\n",
    "\n",
    "**Reminder:** This lab uses more data than the last one. This table is just a small sample of the information contained in the three lists that are provided for this activity. "
   ]
  },
  {
   "cell_type": "markdown",
   "id": "1453aded",
   "metadata": {
    "id": "Xnom2939uK6t",
    "papermill": {
     "duration": 0.008618,
     "end_time": "2025-02-04T04:23:30.108166",
     "exception": false,
     "start_time": "2025-02-04T04:23:30.099548",
     "status": "completed"
    },
    "tags": []
   },
   "source": [
    "## 1a: Create a list of tuples\n",
    "\n",
    "Begin with an intermediary step to prepare the information to be put in a dictionary.\n",
    "\n",
    "* Convert `state_list`, `county_list`, and `aqi_list` to a list of tuples, where each tuple contains information for a single record: `(state, county, aqi)`.\n",
    "\n",
    "* Assign the result to a variable called `epa_tuples`.\n",
    "\n"
   ]
  },
  {
   "cell_type": "code",
   "execution_count": 2,
   "id": "82ff60a2",
   "metadata": {
    "execution": {
     "iopub.execute_input": "2025-02-04T04:23:30.127464Z",
     "iopub.status.busy": "2025-02-04T04:23:30.126939Z",
     "iopub.status.idle": "2025-02-04T04:23:30.624546Z",
     "shell.execute_reply": "2025-02-04T04:23:30.623655Z"
    },
    "id": "ifs5GtHdctXg",
    "papermill": {
     "duration": 0.508656,
     "end_time": "2025-02-04T04:23:30.626221",
     "exception": false,
     "start_time": "2025-02-04T04:23:30.117565",
     "status": "completed"
    },
    "tags": []
   },
   "outputs": [],
   "source": [
    "# RUN THIS CELL TO IMPORT YOUR DATA\n",
    "#import ada_c2_labs as lab\n",
    "#state_list = lab.fetch_epa('state')\n",
    "#county_list = lab.fetch_epa('county')\n",
    "#aqi_list = lab.fetch_epa('aqi')\n",
    "\n",
    "state_list = fetch_epa('state')\n",
    "county_list = fetch_epa('county')\n",
    "aqi_list = fetch_epa('aqi')"
   ]
  },
  {
   "cell_type": "code",
   "execution_count": 3,
   "id": "7b11043f",
   "metadata": {
    "execution": {
     "iopub.execute_input": "2025-02-04T04:23:30.644493Z",
     "iopub.status.busy": "2025-02-04T04:23:30.644149Z",
     "iopub.status.idle": "2025-02-04T04:23:30.648653Z",
     "shell.execute_reply": "2025-02-04T04:23:30.647580Z"
    },
    "id": "UFDv3-UMSSQ1",
    "papermill": {
     "duration": 0.015378,
     "end_time": "2025-02-04T04:23:30.650310",
     "exception": false,
     "start_time": "2025-02-04T04:23:30.634932",
     "status": "completed"
    },
    "tags": []
   },
   "outputs": [],
   "source": [
    "### YOUR CODE HERE ###\n",
    "epa_tuples = list(zip(state_list, county_list,aqi_list))"
   ]
  },
  {
   "cell_type": "markdown",
   "id": "c55e5d0b",
   "metadata": {
    "id": "Jj_vkIbrfOFN",
    "papermill": {
     "duration": 0.008009,
     "end_time": "2025-02-04T04:23:30.667021",
     "exception": false,
     "start_time": "2025-02-04T04:23:30.659012",
     "status": "completed"
    },
    "tags": []
   },
   "source": [
    "<details><summary><h4>Hint 1</h4></summary>\n",
    "\n",
    "Refer to what you learned about element-wise combination of iterable objects.\n",
    "\n",
    "</details>"
   ]
  },
  {
   "cell_type": "markdown",
   "id": "1a0188f2",
   "metadata": {
    "id": "NxWv7DjUffHi",
    "papermill": {
     "duration": 0.007782,
     "end_time": "2025-02-04T04:23:30.683082",
     "exception": false,
     "start_time": "2025-02-04T04:23:30.675300",
     "status": "completed"
    },
    "tags": []
   },
   "source": [
    "<details><summary><h4>Hint 2</h4></summary>\n",
    "\n",
    "It's possible to create a list of tuples using a loop, but there's a much simpler way of accomplishing the task using a built-in Python function.\n",
    "\n",
    "</details>"
   ]
  },
  {
   "cell_type": "markdown",
   "id": "c01dfce7",
   "metadata": {
    "id": "-QK1uv6Gf998",
    "papermill": {
     "duration": 0.007847,
     "end_time": "2025-02-04T04:23:30.699103",
     "exception": false,
     "start_time": "2025-02-04T04:23:30.691256",
     "status": "completed"
    },
    "tags": []
   },
   "source": [
    "<details><summary><h4>Hint 3</h4></summary>\n",
    "\n",
    "The `zip()` function accepts any number of iterable objects as arguments. If the arguments are all of equal length, the function returns an iterator object of tuples, where each tuple contains `element[i]` of each argument.\n",
    "\n",
    "You can then either loop over the iterator object or pass it to the `list()` function to unpack its values.\n",
    "\n",
    "Refer to the [zip() Python documentation](https://docs.python.org/3/library/functions.html#zip) for more information.\n",
    "\n",
    "</details>"
   ]
  },
  {
   "cell_type": "markdown",
   "id": "9782af51",
   "metadata": {
    "id": "tKtXEIRrgiY0",
    "papermill": {
     "duration": 0.008058,
     "end_time": "2025-02-04T04:23:30.715882",
     "exception": false,
     "start_time": "2025-02-04T04:23:30.707824",
     "status": "completed"
    },
    "tags": []
   },
   "source": [
    "## 1b: Create a dictionary\n",
    "\n",
    "Now that you have a list of tuples containing AQI records, use it to create a dictionary that allows you to look up a state and get all the county-AQI pairs associated with that state.\n",
    "\n",
    "* Create a dictionary called `aqi_dict`:\n",
    "    * Use a loop to unpack information from each tuple in `epa_tuples`.\n",
    "    * Your dictionary's keys should be states.\n",
    "    * The value at each key should be a list of tuples, where each tuple is a county-AQI pair of a record from a given state.\n",
    "\n",
    "*Example:*\n",
    "```\n",
    "[IN]  aqi_dict['Vermont']\n",
    "[OUT] [('Chittenden', 18.0),\n",
    "       ('Chittenden', 20.0),\n",
    "       ('Chittenden', 3.0),\n",
    "       ('Chittenden', 49.0),\n",
    "       ('Rutland', 15.0),\n",
    "       ('Chittenden', 3.0),\n",
    "       ('Chittenden', 6.0),\n",
    "       ('Rutland', 3.0),\n",
    "       ('Rutland', 6.0),\n",
    "       ('Chittenden', 5.0),\n",
    "       ('Chittenden', 2.0)]\n",
    "```"
   ]
  },
  {
   "cell_type": "code",
   "execution_count": 4,
   "id": "35ebaf5f",
   "metadata": {
    "execution": {
     "iopub.execute_input": "2025-02-04T04:23:30.733689Z",
     "iopub.status.busy": "2025-02-04T04:23:30.733317Z",
     "iopub.status.idle": "2025-02-04T04:23:30.740553Z",
     "shell.execute_reply": "2025-02-04T04:23:30.739330Z"
    },
    "id": "5wf42bG-d6wC",
    "papermill": {
     "duration": 0.018114,
     "end_time": "2025-02-04T04:23:30.742309",
     "exception": false,
     "start_time": "2025-02-04T04:23:30.724195",
     "status": "completed"
    },
    "tags": []
   },
   "outputs": [
    {
     "name": "stdout",
     "output_type": "stream",
     "text": [
      "dict_keys(['Arizona', 'California', 'Colorado', 'Florida', 'Hawaii', 'Illinois', 'Indiana', 'Kentucky', 'Louisiana', 'Maryland', 'Massachusetts', 'Michigan', 'Minnesota', 'Missouri', 'New Jersey', 'New Mexico', 'New York', 'North Carolina', 'Ohio', 'Oklahoma', 'Oregon', 'Pennsylvania', 'Tennessee', 'Texas', 'Utah', 'Vermont', 'Virginia', 'Washington', 'Wisconsin', 'Iowa', 'Kansas', 'Montana', 'Nevada', 'West Virginia', 'Puerto Rico', 'Alabama', 'District Of Columbia', 'Georgia', 'Nebraska', 'Country Of Mexico', 'Connecticut', 'Alaska'])\n"
     ]
    }
   ],
   "source": [
    "### YOUR CODE HERE ###\n",
    "aqi_dict = {}\n",
    "\n",
    "for state, county, aqi in epa_tuples:\n",
    "    if state in aqi_dict:\n",
    "        aqi_dict[state].append((county,aqi))\n",
    "    else:\n",
    "        aqi_dict[state] = [(county, aqi)]\n",
    "\n",
    "print(aqi_dict.keys())"
   ]
  },
  {
   "cell_type": "markdown",
   "id": "aee23db1",
   "metadata": {
    "id": "Tndsby6dn4c4",
    "papermill": {
     "duration": 0.008144,
     "end_time": "2025-02-04T04:23:30.759320",
     "exception": false,
     "start_time": "2025-02-04T04:23:30.751176",
     "status": "completed"
    },
    "tags": []
   },
   "source": [
    "<details><summary><h4>Hint 1</h4></summary>\n",
    "\n",
    "Refer to what you learned about unpacking tuples in loops and creating dictionaries.\n",
    "\n",
    "</details>"
   ]
  },
  {
   "cell_type": "markdown",
   "id": "e60f0302",
   "metadata": {
    "id": "zJ45IKZ0oA4Z",
    "papermill": {
     "duration": 0.008148,
     "end_time": "2025-02-04T04:23:30.775912",
     "exception": false,
     "start_time": "2025-02-04T04:23:30.767764",
     "status": "completed"
    },
    "tags": []
   },
   "source": [
    "<details><summary><h4>Hint 2</h4></summary>\n",
    "\n",
    "There are 3 elements in each tuple in `epa_tuples`. Therefore, for each iteration of your loop, you'll need to unpack these 3 elements into their own variables.\n",
    "\n",
    "</details>"
   ]
  },
  {
   "cell_type": "markdown",
   "id": "93bf48d4",
   "metadata": {
    "id": "6IzSWU-sodMQ",
    "papermill": {
     "duration": 0.008786,
     "end_time": "2025-02-04T04:23:30.793231",
     "exception": false,
     "start_time": "2025-02-04T04:23:30.784445",
     "status": "completed"
    },
    "tags": []
   },
   "source": [
    "<details><summary><h4>Hint 3</h4></summary>\n",
    "\n",
    "With each loop iteration, check whether the state is already a key in `aqi_dict`. Then, use conditional logic:\n",
    "* If it is, append the county and AQI as a tuple to the list at that state's value.\n",
    "* If it's not, assign the state as a new key in `aqi_dict`, with a value that is a list containing the county-AQI tuple.\n",
    "\n",
    "</details>"
   ]
  },
  {
   "cell_type": "markdown",
   "id": "aa160178",
   "metadata": {
    "id": "igHmjfKI0eHK",
    "papermill": {
     "duration": 0.008155,
     "end_time": "2025-02-04T04:23:30.810691",
     "exception": false,
     "start_time": "2025-02-04T04:23:30.802536",
     "status": "completed"
    },
    "tags": []
   },
   "source": [
    "# Task 2: Use the dictionary to retrieve information\n",
    "\n",
    "Now that you have a dictionary of county-AQI readings by state, you can use it to retrieve information and draw further insight from your data."
   ]
  },
  {
   "cell_type": "markdown",
   "id": "70cd0ad9",
   "metadata": {
    "id": "cGZhPv6g06W4",
    "papermill": {
     "duration": 0.008036,
     "end_time": "2025-02-04T04:23:30.827168",
     "exception": false,
     "start_time": "2025-02-04T04:23:30.819132",
     "status": "completed"
    },
    "tags": []
   },
   "source": [
    "## 2a: Calculate how many readings were recorded in the state of Arizona\n",
    "\n",
    "Use your Python skills to calculate the number of readings that were recorded in the state of Arizona.\n",
    "\n",
    "*Expected output:*\n",
    "```\n",
    "[OUT] 72\n",
    "```"
   ]
  },
  {
   "cell_type": "code",
   "execution_count": 5,
   "id": "ad6e057d",
   "metadata": {
    "execution": {
     "iopub.execute_input": "2025-02-04T04:23:30.845267Z",
     "iopub.status.busy": "2025-02-04T04:23:30.844938Z",
     "iopub.status.idle": "2025-02-04T04:23:30.849813Z",
     "shell.execute_reply": "2025-02-04T04:23:30.848926Z"
    },
    "id": "E14DYfPFzk5K",
    "papermill": {
     "duration": 0.015636,
     "end_time": "2025-02-04T04:23:30.851392",
     "exception": false,
     "start_time": "2025-02-04T04:23:30.835756",
     "status": "completed"
    },
    "tags": []
   },
   "outputs": [
    {
     "name": "stdout",
     "output_type": "stream",
     "text": [
      "72\n"
     ]
    }
   ],
   "source": [
    "### YOUR CODE HERE ###\n",
    "print(len(aqi_dict['Arizona']))"
   ]
  },
  {
   "cell_type": "markdown",
   "id": "547637f9",
   "metadata": {
    "id": "JQacJGL09nn2",
    "papermill": {
     "duration": 0.00803,
     "end_time": "2025-02-04T04:23:30.868142",
     "exception": false,
     "start_time": "2025-02-04T04:23:30.860112",
     "status": "completed"
    },
    "tags": []
   },
   "source": [
    "<details><summary><h4>Hint</h4></summary>\n",
    "\n",
    "Because you only need a count of records, try using the `len()` function to check how many records are in the list that represents the value associated with the `'Arizona'` key.\n",
    "\n",
    "</details>"
   ]
  },
  {
   "cell_type": "markdown",
   "id": "31c7d0d8",
   "metadata": {
    "id": "vWGIlgb29Nzd",
    "papermill": {
     "duration": 0.008049,
     "end_time": "2025-02-04T04:23:30.884555",
     "exception": false,
     "start_time": "2025-02-04T04:23:30.876506",
     "status": "completed"
    },
    "tags": []
   },
   "source": [
    "## 2b: Calculate the mean AQI from the state of California\n",
    "\n",
    "Use your Python skills to calculate the mean of the AQI readings that were recorded in the state of California. Note that there are many different approaches you can take. Be creative!\n",
    "\n",
    "*Expected output:*\n",
    "```\n",
    "[OUT] 9.412280701754385\n",
    "```"
   ]
  },
  {
   "cell_type": "code",
   "execution_count": 6,
   "id": "210dbb68",
   "metadata": {
    "execution": {
     "iopub.execute_input": "2025-02-04T04:23:30.902538Z",
     "iopub.status.busy": "2025-02-04T04:23:30.902202Z",
     "iopub.status.idle": "2025-02-04T04:23:30.907539Z",
     "shell.execute_reply": "2025-02-04T04:23:30.906387Z"
    },
    "id": "Rb9y0usK0Ebn",
    "papermill": {
     "duration": 0.016267,
     "end_time": "2025-02-04T04:23:30.909184",
     "exception": false,
     "start_time": "2025-02-04T04:23:30.892917",
     "status": "completed"
    },
    "tags": []
   },
   "outputs": [
    {
     "name": "stdout",
     "output_type": "stream",
     "text": [
      "9.412280701754385\n"
     ]
    }
   ],
   "source": [
    "### YOUR CODE HERE ###\n",
    "print(sum([aqi for county,aqi in aqi_dict['California']]) / len(aqi_dict['California']))"
   ]
  },
  {
   "cell_type": "markdown",
   "id": "fd4bc7f9",
   "metadata": {
    "id": "M5wrWklg-caP",
    "papermill": {
     "duration": 0.008291,
     "end_time": "2025-02-04T04:23:30.926961",
     "exception": false,
     "start_time": "2025-02-04T04:23:30.918670",
     "status": "completed"
    },
    "tags": []
   },
   "source": [
    "<details><summary><h4>Hint 1</h4></summary>\n",
    "\n",
    "When you look up a state as a key in `aqi_dict`, its corresponding value is a list of tuples. Consider using a list comprehension to unpack the data contained in each tuple so you can perform operations on it.\n",
    "\n",
    "</details>"
   ]
  },
  {
   "cell_type": "markdown",
   "id": "31c752b5",
   "metadata": {
    "id": "S2AJij6g_cy6",
    "papermill": {
     "duration": 0.008264,
     "end_time": "2025-02-04T04:23:30.943660",
     "exception": false,
     "start_time": "2025-02-04T04:23:30.935396",
     "status": "completed"
    },
    "tags": []
   },
   "source": [
    "<details><summary><h4>Hint 2</h4></summary>\n",
    "\n",
    "If you can create a list of just the AQI values from each tuple in the values of the 'California' key, then you can calculate the mean of the list in the next step.\n",
    "\n",
    "</details>"
   ]
  },
  {
   "cell_type": "markdown",
   "id": "a7d06b55",
   "metadata": {
    "id": "IA7ArHMU_5w4",
    "papermill": {
     "duration": 0.008158,
     "end_time": "2025-02-04T04:23:30.960263",
     "exception": false,
     "start_time": "2025-02-04T04:23:30.952105",
     "status": "completed"
    },
    "tags": []
   },
   "source": [
    "<details><summary><h4>Hint 3</h4></summary>\n",
    "\n",
    "One way to construct your list is:\n",
    "```\n",
    "[aqi for county, aqi in aqi_dict['California']]\n",
    "```\n",
    "Then, you can sum all the elements in the list and divide by the length of the list to calculate the mean.\n",
    "\n",
    "</details>"
   ]
  },
  {
   "cell_type": "markdown",
   "id": "5cfde70f",
   "metadata": {
    "id": "QK6P3Az0J_H9",
    "papermill": {
     "duration": 0.008245,
     "end_time": "2025-02-04T04:23:30.977192",
     "exception": false,
     "start_time": "2025-02-04T04:23:30.968947",
     "status": "completed"
    },
    "tags": []
   },
   "source": [
    "# Task 3: Define a `county_counter()` function\n",
    "\n",
    "You want to be able to quickly look up how many times a county is represented in a given state's readings. Even though you already have a list containing just county names, it's not safe to rely on the counts from that list alone because some states might have counties with the same name. Therefore, you'll need to use the state-specific information in `aqi_dict` to calculate this information."
   ]
  },
  {
   "cell_type": "markdown",
   "id": "59978f4e",
   "metadata": {
    "id": "vqEANCSJOUU0",
    "papermill": {
     "duration": 0.008187,
     "end_time": "2025-02-04T04:23:30.993816",
     "exception": false,
     "start_time": "2025-02-04T04:23:30.985629",
     "status": "completed"
    },
    "tags": []
   },
   "source": [
    "## 3a: Write the function\n",
    "\n",
    "* Define a function called `county_counter` that takes one argument:\n",
    "    * `state` - a string of the name of a U.S. state\n",
    "\n",
    "* Return `county_dict` - a `dictionary` object whose keys are counties of the `state` given in the function's argument. For each county key, the corresponding value should be the count of the number of times that county is represented in the AQI data for that state.\n",
    "\n",
    "*Example:*\n",
    "```\n",
    "[IN]  county_counter('Florida')\n",
    "[OUT] {'Duval': 13,\n",
    "       'Hillsborough': 9,\n",
    "       'Broward': 18,\n",
    "       'Miami-Dade': 15,\n",
    "       'Orange': 6,\n",
    "       'Palm Beach': 5,\n",
    "       'Pinellas': 6,\n",
    "       'Sarasota': 9}\n",
    "```\n",
    "\n",
    "**NOTE:** Depending on the version of Python you're using, the order of the items returned by a dictionary can vary, so it's possible that your keys might not print in the same order as listed above. However, the key-value pairs themselves will be the same if you do the exercise successfully."
   ]
  },
  {
   "cell_type": "code",
   "execution_count": 7,
   "id": "02005015",
   "metadata": {
    "execution": {
     "iopub.execute_input": "2025-02-04T04:23:31.012524Z",
     "iopub.status.busy": "2025-02-04T04:23:31.012195Z",
     "iopub.status.idle": "2025-02-04T04:23:31.017264Z",
     "shell.execute_reply": "2025-02-04T04:23:31.016113Z"
    },
    "id": "VoYZhy8PLMvN",
    "papermill": {
     "duration": 0.016351,
     "end_time": "2025-02-04T04:23:31.018972",
     "exception": false,
     "start_time": "2025-02-04T04:23:31.002621",
     "status": "completed"
    },
    "tags": []
   },
   "outputs": [],
   "source": [
    "### YOUR CODE HERE ###\n",
    "def county_counter(state):\n",
    "    \n",
    "    county_dict = {}\n",
    "    \n",
    "    for county, aqi in aqi_dict[state]:\n",
    "        \n",
    "        # checks if the county is already present in county_dict\n",
    "        if county in county_dict:\n",
    "            county_dict[county] += 1\n",
    "        \n",
    "        # if county name is new\n",
    "        else:\n",
    "            county_dict[county] = 1\n",
    "    \n",
    "    return county_dict\n",
    "            "
   ]
  },
  {
   "cell_type": "markdown",
   "id": "0e15e75a",
   "metadata": {
    "id": "731imqkOOs3w",
    "papermill": {
     "duration": 0.008615,
     "end_time": "2025-02-04T04:23:31.036303",
     "exception": false,
     "start_time": "2025-02-04T04:23:31.027688",
     "status": "completed"
    },
    "tags": []
   },
   "source": [
    "<details><summary><h4>Hint 1</h4></summary>\n",
    "\n",
    "Refer to what you learned about function syntax, how dictionaries behave with iteration techniques, and how to unpack tuples.\n",
    "\n",
    "</details>"
   ]
  },
  {
   "cell_type": "markdown",
   "id": "0cbbb5ef",
   "metadata": {
    "id": "5IiueHVyPN6i",
    "papermill": {
     "duration": 0.008438,
     "end_time": "2025-02-04T04:23:31.053410",
     "exception": false,
     "start_time": "2025-02-04T04:23:31.044972",
     "status": "completed"
    },
    "tags": []
   },
   "source": [
    "<details><summary><h4>Hint 2</h4></summary>\n",
    "\n",
    "* Use `aqi_dict` in the body of the function.\n",
    "\n",
    "* When you look up a state as a key in `aqi_dict`, its corresponding value is a list of tuples. Unpack the tuples to extract the county, which you can then use to build `county_dict`.\n",
    "\n",
    "</details>"
   ]
  },
  {
   "cell_type": "markdown",
   "id": "5a66513c",
   "metadata": {
    "id": "c-IjDlffPyST",
    "papermill": {
     "duration": 0.008397,
     "end_time": "2025-02-04T04:23:31.070375",
     "exception": false,
     "start_time": "2025-02-04T04:23:31.061978",
     "status": "completed"
    },
    "tags": []
   },
   "source": [
    "<details><summary><h4>Hint 3</h4></summary>\n",
    "\n",
    "* Begin by instantiating `county_dict` as an empty dictionary.\n",
    "* Then, in a `for` loop, unpack `county, aqi` from each tuple in `aqi_dict[state]`.\n",
    "* Next, use conditional logic to assemble `county_dict`:\n",
    "    * If `county` is already a key in `county_dict`, increment the value at that key by 1.\n",
    "    * If `county` is not a key in `county_dict`, then assign it as a new key whose value is 1.\n",
    "* Return `county_dict`.\n",
    "\n",
    "</details>"
   ]
  },
  {
   "cell_type": "markdown",
   "id": "094d952a",
   "metadata": {
    "id": "3lt2nty2QzHM",
    "papermill": {
     "duration": 0.008151,
     "end_time": "2025-02-04T04:23:31.086956",
     "exception": false,
     "start_time": "2025-02-04T04:23:31.078805",
     "status": "completed"
    },
    "tags": []
   },
   "source": [
    "## 3b: Use the function to check Washington County, PA.\n",
    "\n",
    "Use the `county_counter()` function to calculate how many AQI readings were from `Washington` County, `Pennsylvania`.\n",
    "\n",
    "*Expected result:*\n",
    "```\n",
    "[OUT] 7\n",
    "```"
   ]
  },
  {
   "cell_type": "code",
   "execution_count": 8,
   "id": "751fb719",
   "metadata": {
    "execution": {
     "iopub.execute_input": "2025-02-04T04:23:31.105285Z",
     "iopub.status.busy": "2025-02-04T04:23:31.104952Z",
     "iopub.status.idle": "2025-02-04T04:23:31.109554Z",
     "shell.execute_reply": "2025-02-04T04:23:31.108483Z"
    },
    "executionInfo": {
     "elapsed": 7,
     "status": "ok",
     "timestamp": 1680293128736,
     "user": {
      "displayName": "Matteo Riotto",
      "userId": "15211004813978485634"
     },
     "user_tz": 420
    },
    "id": "hLdLi46fM0wy",
    "outputId": "36830c47-ce36-4a76-da10-db6ee54d6a71",
    "papermill": {
     "duration": 0.015717,
     "end_time": "2025-02-04T04:23:31.111260",
     "exception": false,
     "start_time": "2025-02-04T04:23:31.095543",
     "status": "completed"
    },
    "tags": []
   },
   "outputs": [
    {
     "name": "stdout",
     "output_type": "stream",
     "text": [
      "7\n"
     ]
    }
   ],
   "source": [
    "### YOUR CODE HERE ###\n",
    "print(county_counter('Pennsylvania')['Washington'])"
   ]
  },
  {
   "cell_type": "markdown",
   "id": "4f83c524",
   "metadata": {
    "id": "N68ywkC5R5x1",
    "papermill": {
     "duration": 0.008323,
     "end_time": "2025-02-04T04:23:31.128263",
     "exception": false,
     "start_time": "2025-02-04T04:23:31.119940",
     "status": "completed"
    },
    "tags": []
   },
   "source": [
    "<details><summary><h4>Hint</h4></summary>\n",
    "\n",
    "Use the `county_counter()` function to generate a dictionary of county counts for the state of Pennsylvania. Then, use the resulting dictionary to look up the count for Washington county.\n",
    "\n",
    "</details>\n"
   ]
  },
  {
   "cell_type": "markdown",
   "id": "57b6c1ee",
   "metadata": {
    "id": "R5KpMuUtVk66",
    "papermill": {
     "duration": 0.008346,
     "end_time": "2025-02-04T04:23:31.145336",
     "exception": false,
     "start_time": "2025-02-04T04:23:31.136990",
     "status": "completed"
    },
    "tags": []
   },
   "source": [
    "## 3c: Use the function to check the different counties in Indiana\n",
    "\n",
    "Use the `county_counter` function to obtain a list of all the different counties in the state of Indiana.\n",
    "\n",
    "*Expected result:*\n",
    "```\n",
    "[OUT] dict_keys(['Marion', 'St. Joseph', 'Vanderburgh', 'Allen', 'Vigo'\n",
    "      'Hendricks', 'Lake'])\n",
    "```\n",
    "\n",
    "**NOTE:** Depending on the version of Python you're using, the order of the items returned by a dictionary can vary, so it's possible that your keys might not print in this same order as listed above. However, the key-value pairs themselves will be the same if you do the exercise successfully."
   ]
  },
  {
   "cell_type": "code",
   "execution_count": 9,
   "id": "69ea9e92",
   "metadata": {
    "execution": {
     "iopub.execute_input": "2025-02-04T04:23:31.163909Z",
     "iopub.status.busy": "2025-02-04T04:23:31.163519Z",
     "iopub.status.idle": "2025-02-04T04:23:31.168886Z",
     "shell.execute_reply": "2025-02-04T04:23:31.167600Z"
    },
    "executionInfo": {
     "elapsed": 216,
     "status": "ok",
     "timestamp": 1680295256697,
     "user": {
      "displayName": "Matteo Riotto",
      "userId": "15211004813978485634"
     },
     "user_tz": 420
    },
    "id": "liiiVWXgV4_8",
    "outputId": "c73b05a3-7585-49e3-f55e-59c1b0ab6b61",
    "papermill": {
     "duration": 0.016482,
     "end_time": "2025-02-04T04:23:31.170670",
     "exception": false,
     "start_time": "2025-02-04T04:23:31.154188",
     "status": "completed"
    },
    "tags": []
   },
   "outputs": [
    {
     "name": "stdout",
     "output_type": "stream",
     "text": [
      "dict_keys(['Marion', 'St. Joseph', 'Vanderburgh', 'Allen', 'Vigo', 'Hendricks', 'Lake'])\n"
     ]
    }
   ],
   "source": [
    "### YOUR CODE HERE ###\n",
    "print(county_counter('Indiana').keys())"
   ]
  },
  {
   "cell_type": "markdown",
   "id": "5b7f8fb2",
   "metadata": {
    "id": "7nLYmg5ZWnDz",
    "papermill": {
     "duration": 0.008325,
     "end_time": "2025-02-04T04:23:31.187811",
     "exception": false,
     "start_time": "2025-02-04T04:23:31.179486",
     "status": "completed"
    },
    "tags": []
   },
   "source": [
    "<details><summary><h4>Hint 1</h4></summary>\n",
    "\n",
    "Refer to what you learned about dictionary methods.\n",
    "\n",
    "</details>"
   ]
  },
  {
   "cell_type": "markdown",
   "id": "21fac0d2",
   "metadata": {
    "id": "EOLQUj4ZWvgz",
    "papermill": {
     "duration": 0.008362,
     "end_time": "2025-02-04T04:23:31.204857",
     "exception": false,
     "start_time": "2025-02-04T04:23:31.196495",
     "status": "completed"
    },
    "tags": []
   },
   "source": [
    "<details><summary><h4>Hint 2</h4></summary>\n",
    "\n",
    "Enter `'Indiana'` as an argument to your `county_counter()` function to get a dictionary of county counts in the state of Indiana. Then, use a dictionary method on the resulting dictionary.\n",
    "\n",
    "</details>"
   ]
  },
  {
   "cell_type": "markdown",
   "id": "a1dcf2c1",
   "metadata": {
    "id": "2B-xdyiCXNdm",
    "papermill": {
     "duration": 0.008301,
     "end_time": "2025-02-04T04:23:31.221818",
     "exception": false,
     "start_time": "2025-02-04T04:23:31.213517",
     "status": "completed"
    },
    "tags": []
   },
   "source": [
    "<details><summary><h4>Hint 3</h4></summary>\n",
    "\n",
    "Use the `keys()` dictionary method to return a list of the dictionary's keys, which represents the different counties in the state of Indiana.\n",
    "\n",
    "</details>"
   ]
  },
  {
   "cell_type": "markdown",
   "id": "0fd1e7ef",
   "metadata": {
    "id": "gqDduvi4Xe1U",
    "papermill": {
     "duration": 0.00811,
     "end_time": "2025-02-04T04:23:31.238643",
     "exception": false,
     "start_time": "2025-02-04T04:23:31.230533",
     "status": "completed"
    },
    "tags": []
   },
   "source": [
    "# Task 4: Use sets to determine how many counties share a name\n",
    "\n",
    "In this task, you'll create a list of every county from every state, then use it to determine how many counties have the same name."
   ]
  },
  {
   "cell_type": "markdown",
   "id": "d05b6b89",
   "metadata": {
    "id": "PY-64mhWeJiZ",
    "papermill": {
     "duration": 0.008299,
     "end_time": "2025-02-04T04:23:31.255529",
     "exception": false,
     "start_time": "2025-02-04T04:23:31.247230",
     "status": "completed"
    },
    "tags": []
   },
   "source": [
    "## 4a: Construct a list of every county from every state\n",
    "\n",
    "1.  * Use `aqi_dict` and `county_counter()` to construct a list of every county from every state.\n",
    "    * Assign the result to a variable called `all_counties`.\n",
    "\n",
    "2. Find the length of `all_counties`.\n",
    "\n",
    "*Expected result:*\n",
    "```\n",
    "[OUT] 277\n",
    "```"
   ]
  },
  {
   "cell_type": "markdown",
   "id": "ac5ffe4a",
   "metadata": {
    "id": "S4CXm4CrfFyh",
    "papermill": {
     "duration": 0.008102,
     "end_time": "2025-02-04T04:23:31.272272",
     "exception": false,
     "start_time": "2025-02-04T04:23:31.264170",
     "status": "completed"
    },
    "tags": []
   },
   "source": [
    "<details><summary><h4>Hint 1</h4></summary>\n",
    "\n",
    "Refer to what you learned about looping over dictionaries. Also, review previous tasks you completed in this notebook.\n",
    "\n",
    "</details>"
   ]
  },
  {
   "cell_type": "markdown",
   "id": "c1102b2c",
   "metadata": {
    "id": "LdobBRhXfM-f",
    "papermill": {
     "duration": 0.008616,
     "end_time": "2025-02-04T04:23:31.291395",
     "exception": false,
     "start_time": "2025-02-04T04:23:31.282779",
     "status": "completed"
    },
    "tags": []
   },
   "source": [
    "<details><summary><h4>Hint 2</h4></summary>\n",
    "\n",
    "* Note that when you call the `keys()` method on a dictionary, the returned object is similar to a list, but it's not of type `list`. It's a dictionary view object, but you can convert it to a list using the `list()` function.\n",
    "\n",
    "* Be mindful of the following:\n",
    "    * `list_a.append(list_b)` increases the length of `list_a`  by 1 no matter how long `list_b` is, because `append()` creates a list of lists.\n",
    "    * `list_a + list_b` increases the length of `list_a` by `len(list_b)`, because adding (`+`) lists combines them.\n",
    "\n",
    "</details>"
   ]
  },
  {
   "cell_type": "markdown",
   "id": "ab932fb2",
   "metadata": {
    "id": "kaFWKV3OhXrb",
    "papermill": {
     "duration": 0.008225,
     "end_time": "2025-02-04T04:23:31.308187",
     "exception": false,
     "start_time": "2025-02-04T04:23:31.299962",
     "status": "completed"
    },
    "tags": []
   },
   "source": [
    "<details><summary><h4>Hint 3</h4></summary>\n",
    "\n",
    "1. Instantiate an empty list called `all_counties`.\n",
    "2. Loop over each state in `aqi_dict.keys()`. For each iteration:\n",
    "    * Extract a list of that state's counties using `list(county_counter(state).keys())`.\n",
    "    * Add the list of counties to `all_counties`.\n",
    "3. Print `len(all_counties)`\n",
    "\n",
    "</details>"
   ]
  },
  {
   "cell_type": "code",
   "execution_count": 10,
   "id": "5a1e2a32",
   "metadata": {
    "execution": {
     "iopub.execute_input": "2025-02-04T04:23:31.326862Z",
     "iopub.status.busy": "2025-02-04T04:23:31.326436Z",
     "iopub.status.idle": "2025-02-04T04:23:31.333155Z",
     "shell.execute_reply": "2025-02-04T04:23:31.331644Z"
    },
    "executionInfo": {
     "elapsed": 361,
     "status": "ok",
     "timestamp": 1680295739343,
     "user": {
      "displayName": "Matteo Riotto",
      "userId": "15211004813978485634"
     },
     "user_tz": 420
    },
    "id": "2z7AZm6KaEj0",
    "outputId": "33104782-9476-4ce7-a18b-8765e387c673",
    "papermill": {
     "duration": 0.018332,
     "end_time": "2025-02-04T04:23:31.335128",
     "exception": false,
     "start_time": "2025-02-04T04:23:31.316796",
     "status": "completed"
    },
    "tags": []
   },
   "outputs": [
    {
     "name": "stdout",
     "output_type": "stream",
     "text": [
      "277\n"
     ]
    }
   ],
   "source": [
    "### YOUR CODE HERE ###\n",
    "all_counties = sum([list(county_counter(state).keys()) for state in list(aqi_dict.keys())], [] )\n",
    "\n",
    "print(len(all_counties))"
   ]
  },
  {
   "cell_type": "markdown",
   "id": "27b10c3e",
   "metadata": {
    "id": "gDepYdewiSIV",
    "papermill": {
     "duration": 0.008808,
     "end_time": "2025-02-04T04:23:31.352992",
     "exception": false,
     "start_time": "2025-02-04T04:23:31.344184",
     "status": "completed"
    },
    "tags": []
   },
   "source": [
    "## 4b: Calculate how many counties share names\n",
    "\n",
    "Use `all_counties` and your knowledge of sets and list methods to determine how many counties share names.\n",
    "\n",
    "*Expected result:*\n",
    "```\n",
    "[OUT] 41\n",
    "```"
   ]
  },
  {
   "cell_type": "code",
   "execution_count": 11,
   "id": "02a7584f",
   "metadata": {
    "execution": {
     "iopub.execute_input": "2025-02-04T04:23:31.372240Z",
     "iopub.status.busy": "2025-02-04T04:23:31.371842Z",
     "iopub.status.idle": "2025-02-04T04:23:31.379158Z",
     "shell.execute_reply": "2025-02-04T04:23:31.377985Z"
    },
    "executionInfo": {
     "elapsed": 9,
     "status": "ok",
     "timestamp": 1680297704209,
     "user": {
      "displayName": "Matteo Riotto",
      "userId": "15211004813978485634"
     },
     "user_tz": 420
    },
    "id": "ai7AFt_9irLm",
    "outputId": "78834ce6-acd3-4ded-f80f-d4fa4fc9ac6e",
    "papermill": {
     "duration": 0.018742,
     "end_time": "2025-02-04T04:23:31.380960",
     "exception": false,
     "start_time": "2025-02-04T04:23:31.362218",
     "status": "completed"
    },
    "tags": []
   },
   "outputs": [
    {
     "name": "stdout",
     "output_type": "stream",
     "text": [
      "41\n"
     ]
    }
   ],
   "source": [
    "### YOUR CODE HERE ###\n",
    "duplicates = 0\n",
    "\n",
    "# looping through each unique county name\n",
    "for county in set(all_counties):\n",
    "\n",
    "    # conditoin to check if any county name repeats more than 1\n",
    "    if all_counties.count(county) > 1:\n",
    "        \n",
    "        # add the # of counties that recurr in the duplicates\n",
    "        duplicates += all_counties.count(county)\n",
    "\n",
    "print(duplicates)"
   ]
  },
  {
   "cell_type": "markdown",
   "id": "13924bec",
   "metadata": {
    "id": "5_C1MQq85aHA",
    "papermill": {
     "duration": 0.008524,
     "end_time": "2025-02-04T04:23:31.398480",
     "exception": false,
     "start_time": "2025-02-04T04:23:31.389956",
     "status": "completed"
    },
    "tags": []
   },
   "source": [
    "<details><summary><h4>Hint 1</h4></summary>\n",
    "\n",
    "Refer to what you've learned about sets and review the list methods provided in [Reference guide: Lists](https://www.coursera.org/learn/get-started-with-python/supplement/5lejs/reference-guide-lists).\n",
    "\n",
    "</details>"
   ]
  },
  {
   "cell_type": "markdown",
   "id": "6a3a6820",
   "metadata": {
    "id": "FE7GBLPF5aBy",
    "papermill": {
     "duration": 0.008559,
     "end_time": "2025-02-04T04:23:31.416000",
     "exception": false,
     "start_time": "2025-02-04T04:23:31.407441",
     "status": "completed"
    },
    "tags": []
   },
   "source": [
    "<details><summary><h4>Hint 2</h4></summary>\n",
    "\n",
    "- A set cannot contain any duplicate elements. Each value is unique.\n",
    "- Which list method returns the number of times an element occurs in a list?\n",
    "\n",
    "</details>"
   ]
  },
  {
   "cell_type": "markdown",
   "id": "21c4010a",
   "metadata": {
    "id": "5_YEjQ2n5Z9I",
    "papermill": {
     "duration": 0.008454,
     "end_time": "2025-02-04T04:23:31.433579",
     "exception": false,
     "start_time": "2025-02-04T04:23:31.425125",
     "status": "completed"
    },
    "tags": []
   },
   "source": [
    "<details><summary><h4>Hint 3</h4></summary>\n",
    "\n",
    "1. Instantiate a counter with an initial value of `0` to record the number of counties with shared names. \n",
    "    \n",
    "2. Loop over each unique county name in `all_counties`. (Use the `set()` function to get unique names.)\n",
    "\n",
    "3. For each iteration of the loop, use the `count()` list method to determine how many counties in `all_counties` have that county name.\n",
    "\n",
    "4. If the number of counties with that name is more than one, add that number to the counter (from step 1).\n",
    "\n",
    "</details>"
   ]
  },
  {
   "cell_type": "markdown",
   "id": "6faee299",
   "metadata": {
    "id": "xhKq_IF9k2z5",
    "papermill": {
     "duration": 0.00874,
     "end_time": "2025-02-04T04:23:31.451143",
     "exception": false,
     "start_time": "2025-02-04T04:23:31.442403",
     "status": "completed"
    },
    "tags": []
   },
   "source": [
    "Note that this doesn't tell you how many *different* county names were duplicated. Further analysis could uncover more details about this. Perhaps you can figure it out!"
   ]
  },
  {
   "cell_type": "markdown",
   "id": "a3fce7fd",
   "metadata": {
    "id": "K9nId3uu5Z47",
    "papermill": {
     "duration": 0.008533,
     "end_time": "2025-02-04T04:23:31.468572",
     "exception": false,
     "start_time": "2025-02-04T04:23:31.460039",
     "status": "completed"
    },
    "tags": []
   },
   "source": [
    "## Conclusion\n",
    "\n",
    "**What are your key takeaways from this lab?**"
   ]
  },
  {
   "cell_type": "markdown",
   "id": "06fe509d",
   "metadata": {
    "id": "A2eoSHnIQG1I",
    "papermill": {
     "duration": 0.008454,
     "end_time": "2025-02-04T04:23:31.485628",
     "exception": false,
     "start_time": "2025-02-04T04:23:31.477174",
     "status": "completed"
    },
    "tags": []
   },
   "source": [
    "* workign with dictionaries\n",
    "* working with sets\n",
    "* iterating through dictionaries and sets\n",
    "* aggregating values inside dictionaries\n",
    "* using in-built dictionary and set methods\n"
   ]
  },
  {
   "cell_type": "markdown",
   "id": "84dafc78",
   "metadata": {
    "papermill": {
     "duration": 0.008479,
     "end_time": "2025-02-04T04:23:31.502837",
     "exception": false,
     "start_time": "2025-02-04T04:23:31.494358",
     "status": "completed"
    },
    "tags": []
   },
   "source": [
    "**Congratulations!** You've completed this lab. However, you may not notice a green check mark next to this item on Coursera's platform. Please continue your progress regardless of the check mark. Just click on the \"save\" icon at the top of this notebook to ensure your work has been logged. "
   ]
  }
 ],
 "metadata": {
  "colab": {
   "provenance": []
  },
  "kaggle": {
   "accelerator": "none",
   "dataSources": [],
   "dockerImageVersionId": 30839,
   "isGpuEnabled": false,
   "isInternetEnabled": true,
   "language": "python",
   "sourceType": "notebook"
  },
  "kernelspec": {
   "display_name": "Python 3",
   "language": "python",
   "name": "python3"
  },
  "language_info": {
   "codemirror_mode": {
    "name": "ipython",
    "version": 3
   },
   "file_extension": ".py",
   "mimetype": "text/x-python",
   "name": "python",
   "nbconvert_exporter": "python",
   "pygments_lexer": "ipython3",
   "version": "3.10.12"
  },
  "papermill": {
   "default_parameters": {},
   "duration": 6.137922,
   "end_time": "2025-02-04T04:23:32.131455",
   "environment_variables": {},
   "exception": null,
   "input_path": "__notebook__.ipynb",
   "output_path": "__notebook__.ipynb",
   "parameters": {},
   "start_time": "2025-02-04T04:23:25.993533",
   "version": "2.6.0"
  }
 },
 "nbformat": 4,
 "nbformat_minor": 5
}

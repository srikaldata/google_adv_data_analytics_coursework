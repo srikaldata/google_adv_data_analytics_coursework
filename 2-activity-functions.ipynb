{
 "cells": [
  {
   "cell_type": "markdown",
   "id": "76af6537",
   "metadata": {
    "id": "XhsOK4sU-hwF",
    "papermill": {
     "duration": 0.007612,
     "end_time": "2025-02-03T20:34:25.029183",
     "exception": false,
     "start_time": "2025-02-03T20:34:25.021571",
     "status": "completed"
    },
    "tags": []
   },
   "source": [
    "<h1>Activity: Functions</h1>"
   ]
  },
  {
   "cell_type": "markdown",
   "id": "de6613f2",
   "metadata": {
    "id": "p44i56Cl-hwG",
    "papermill": {
     "duration": 0.005326,
     "end_time": "2025-02-03T20:34:25.040290",
     "exception": false,
     "start_time": "2025-02-03T20:34:25.034964",
     "status": "completed"
    },
    "tags": []
   },
   "source": [
    "## Introduction \n",
    "\n",
    "In this lab, you will practice defining functions and returning values, writing clean code, and using comments to scaffold code.\n",
    "\n",
    "As a data professional, you'll often need to reuse the same block of code more than once when you're writing Python code to automate a certain task. This is why functions are important. You can call functions whenever you need the computer to execute those steps. Python has built-in functions that have already been defined and also provides tools for users to define their own functions.\n",
    "\n",
    "In this lab, you'll define and call a function that calculates the revenue a theater makes depending on the number of tickets sold, then test the function with a new value.\n"
   ]
  },
  {
   "cell_type": "markdown",
   "id": "4e63e712",
   "metadata": {
    "id": "W3FWqR7i-hwH",
    "papermill": {
     "duration": 0.00536,
     "end_time": "2025-02-03T20:34:25.051264",
     "exception": false,
     "start_time": "2025-02-03T20:34:25.045904",
     "status": "completed"
    },
    "tags": []
   },
   "source": [
    "## Tips for completing this lab\n",
    "\n",
    "As you navigate this lab, keep the following tips in mind:\n",
    "\n",
    "- `### YOUR CODE HERE ###` indicates where you should write code. Be sure to replace this with your own code before running the code cell.\n",
    "- Feel free to open the hints for additional guidance as you work on each task.\n",
    "- To enter your answer to a question, double-click the markdown cell to edit. Be sure to replace the \"[Double-click to enter your responses here.]\" with your own answer.\n",
    "- You can save your work manually by clicking File and then Save in the menu bar at the top of the notebook.\n",
    "- You can download your work locally by clicking File and then Download and then specifying your preferred file format in the menu bar at the top of the notebook.\n"
   ]
  },
  {
   "cell_type": "markdown",
   "id": "d330c857",
   "metadata": {
    "id": "xbX_PD6J-hwH",
    "papermill": {
     "duration": 0.00598,
     "end_time": "2025-02-03T20:34:25.062818",
     "exception": false,
     "start_time": "2025-02-03T20:34:25.056838",
     "status": "completed"
    },
    "tags": []
   },
   "source": [
    "## Task 1: Analyze a function\n",
    "\n",
    "In your work as a data analyst for a movie theater, you're asked to quickly calculate how much the theater has made in sales so far.\n",
    "\n",
    "In the following cell, analyze the function named `total_sales` and make note of your observations.\n",
    "\n",
    "You do not need to run this cell, but if you do it will not produce an output."
   ]
  },
  {
   "cell_type": "code",
   "execution_count": 1,
   "id": "e8d0611b",
   "metadata": {
    "execution": {
     "iopub.execute_input": "2025-02-03T20:34:25.075892Z",
     "iopub.status.busy": "2025-02-03T20:34:25.075352Z",
     "iopub.status.idle": "2025-02-03T20:34:25.081424Z",
     "shell.execute_reply": "2025-02-03T20:34:25.080233Z"
    },
    "id": "ucfgn-v4-hwH",
    "papermill": {
     "duration": 0.014745,
     "end_time": "2025-02-03T20:34:25.083264",
     "exception": false,
     "start_time": "2025-02-03T20:34:25.068519",
     "status": "completed"
    },
    "tags": []
   },
   "outputs": [],
   "source": [
    "# Define a function named `total_sales`\n",
    "def total_sales():\n",
    "\n",
    "    # Return a value\n",
    "    return "
   ]
  },
  {
   "cell_type": "markdown",
   "id": "71154da5",
   "metadata": {
    "id": "IHDaBz2d-hwI",
    "papermill": {
     "duration": 0.005474,
     "end_time": "2025-02-03T20:34:25.094539",
     "exception": false,
     "start_time": "2025-02-03T20:34:25.089065",
     "status": "completed"
    },
    "tags": []
   },
   "source": [
    "<details>\n",
    "  <summary><h4><strong>Hint 1</strong></h4></summary>\n",
    "\n",
    "You can refer back to what you've learned about functions.\n",
    "\n",
    "</details>"
   ]
  },
  {
   "cell_type": "markdown",
   "id": "cf578ff8",
   "metadata": {
    "id": "4t5JftFD-hwI",
    "papermill": {
     "duration": 0.0054,
     "end_time": "2025-02-03T20:34:25.105665",
     "exception": false,
     "start_time": "2025-02-03T20:34:25.100265",
     "status": "completed"
    },
    "tags": []
   },
   "source": [
    "<details>\n",
    "  <summary><h4><strong>Hint 2</strong></h4></summary>\n",
    "\n",
    "When analyzing the function definition, make sure to observe the function body, which is the indented block of code after the function header.\n",
    "\n",
    "</details>"
   ]
  },
  {
   "cell_type": "markdown",
   "id": "e3899bfe",
   "metadata": {
    "id": "8z6Mqjm--hwI",
    "papermill": {
     "duration": 0.005438,
     "end_time": "2025-02-03T20:34:25.116735",
     "exception": false,
     "start_time": "2025-02-03T20:34:25.111297",
     "status": "completed"
    },
    "tags": []
   },
   "source": [
    "<details>\n",
    "  <summary><h4><strong>Hint 3</strong></h4></summary>\n",
    "\n",
    "Notice that the code comments on each line clearly explain how the function operates.\n",
    "\n",
    "Code comments can also be used to scaffold code as you build it, since Python will not interact with the text captured as a comment.\n",
    "\n",
    "</details>"
   ]
  },
  {
   "cell_type": "markdown",
   "id": "06412c21",
   "metadata": {
    "id": "jWGW2DeM-hwJ",
    "papermill": {
     "duration": 0.00524,
     "end_time": "2025-02-03T20:34:25.127617",
     "exception": false,
     "start_time": "2025-02-03T20:34:25.122377",
     "status": "completed"
    },
    "tags": []
   },
   "source": [
    "## Task 2: Add a parameter and calculations to the function\n",
    "\n",
    "As you continue refining your code, imagine that the price of tickets is $7.99. Now you will need to add a parameter to the function definition and the calculation to the function body.\n",
    "\n"
   ]
  },
  {
   "cell_type": "markdown",
   "id": "9124bebd",
   "metadata": {
    "id": "MNsz5GOI-hwJ",
    "papermill": {
     "duration": 0.005378,
     "end_time": "2025-02-03T20:34:25.138637",
     "exception": false,
     "start_time": "2025-02-03T20:34:25.133259",
     "status": "completed"
    },
    "tags": []
   },
   "source": [
    "### 2a: Add a calculation to the function\n",
    "\n",
    "In this task, update the `total_sales` function so it returns the value of the number of tickets `n` multiplied by the price `7.99`."
   ]
  },
  {
   "cell_type": "code",
   "execution_count": 2,
   "id": "a9c8f615",
   "metadata": {
    "execution": {
     "iopub.execute_input": "2025-02-03T20:34:25.151328Z",
     "iopub.status.busy": "2025-02-03T20:34:25.150901Z",
     "iopub.status.idle": "2025-02-03T20:34:25.156050Z",
     "shell.execute_reply": "2025-02-03T20:34:25.154879Z"
    },
    "id": "XisiWnjN-hwJ",
    "papermill": {
     "duration": 0.01388,
     "end_time": "2025-02-03T20:34:25.158172",
     "exception": false,
     "start_time": "2025-02-03T20:34:25.144292",
     "status": "completed"
    },
    "tags": []
   },
   "outputs": [],
   "source": [
    "### YOUR CODE HERE ###\n",
    "def total_sales(n):\n",
    "    '''\n",
    "    calculates the total sales by multiplying number of tickets and the price per ticket\n",
    "    \n",
    "    parameter:\n",
    "        n (int): number of tickets sold\n",
    "    \n",
    "    returns:\n",
    "        total_revenue (float): total revenue made from the ticket sales\n",
    "    '''\n",
    "    \n",
    "    # total_revenue = n * price per ticket\n",
    "    total_revenue = n * 7.99\n",
    "    \n",
    "    return total_revenue"
   ]
  },
  {
   "cell_type": "markdown",
   "id": "f631b13a",
   "metadata": {
    "id": "mLho0ga--hwJ",
    "papermill": {
     "duration": 0.005363,
     "end_time": "2025-02-03T20:34:25.169751",
     "exception": false,
     "start_time": "2025-02-03T20:34:25.164388",
     "status": "completed"
    },
    "tags": []
   },
   "source": [
    "### 2b: Call the function\n",
    "\n",
    "With the calculations added to the `total_sales` function, test it with a value of `59`.\n",
    "\n",
    "*Example:*\n",
    "\n",
    "```\n",
    "[IN]  total_sales(59)\n",
    "[OUT] 471.41\n",
    "```"
   ]
  },
  {
   "cell_type": "code",
   "execution_count": 3,
   "id": "46e42acd",
   "metadata": {
    "execution": {
     "iopub.execute_input": "2025-02-03T20:34:25.182499Z",
     "iopub.status.busy": "2025-02-03T20:34:25.182065Z",
     "iopub.status.idle": "2025-02-03T20:34:25.187867Z",
     "shell.execute_reply": "2025-02-03T20:34:25.186408Z"
    },
    "id": "noiw4TZ2-hwJ",
    "papermill": {
     "duration": 0.01444,
     "end_time": "2025-02-03T20:34:25.189967",
     "exception": false,
     "start_time": "2025-02-03T20:34:25.175527",
     "status": "completed"
    },
    "tags": []
   },
   "outputs": [
    {
     "name": "stdout",
     "output_type": "stream",
     "text": [
      "471.41\n"
     ]
    }
   ],
   "source": [
    "### YOUR CODE HERE ###\n",
    "print(total_sales(59))"
   ]
  },
  {
   "cell_type": "markdown",
   "id": "471f7f92",
   "metadata": {
    "id": "fYOI2RHH-hwL",
    "papermill": {
     "duration": 0.005601,
     "end_time": "2025-02-03T20:34:25.202032",
     "exception": false,
     "start_time": "2025-02-03T20:34:25.196431",
     "status": "completed"
    },
    "tags": []
   },
   "source": [
    "<details>\n",
    "  <summary><h4><strong>Hint 1</strong></h4></summary>\n",
    "\n",
    "You can refer back to what you learned about functions and arithmetic operators.\n",
    "\n",
    "</details>"
   ]
  },
  {
   "cell_type": "markdown",
   "id": "1a9a20fd",
   "metadata": {
    "id": "4c0MTgRM-hwL",
    "papermill": {
     "duration": 0.005641,
     "end_time": "2025-02-03T20:34:25.214249",
     "exception": false,
     "start_time": "2025-02-03T20:34:25.208608",
     "status": "completed"
    },
    "tags": []
   },
   "source": [
    "<details>\n",
    "  <summary><h4><strong>Hint 2</strong></h4></summary>\n",
    "\n",
    "To create a function, use the `def` keyword to define the function, then write the name of the function, followed by parentheses and a colon: `():`. This set of parentheses is where a parameter would be added.\n",
    "\n",
    "The body of the function begins on the next line and is indented, conventionally by four spaces. This is where to write the function's operations (such as arithmetic calculations) and a `return` statement.\n",
    "\n",
    "To call a function, type the function name followed by parentheses, with a parameter in the parentheses.\n",
    "\n",
    "</details>"
   ]
  },
  {
   "cell_type": "markdown",
   "id": "07eceecd",
   "metadata": {
    "id": "TlZ2OFnA-hwL",
    "papermill": {
     "duration": 0.005473,
     "end_time": "2025-02-03T20:34:25.225959",
     "exception": false,
     "start_time": "2025-02-03T20:34:25.220486",
     "status": "completed"
    },
    "tags": []
   },
   "source": [
    "<details>\n",
    "  <summary><h4><strong>Hint 3</strong></h4></summary>\n",
    "\n",
    "After defining the `total_sales` function, add a parameter `n` to the function.\n",
    "\n",
    "In the body of the function, multiply the parameter by the ticket price to get total sales.\n",
    "\n",
    "To call the function, replace `n` with the number of tickets in the function's parenthesis, then run the cell.\n",
    "\n",
    "</details>"
   ]
  },
  {
   "cell_type": "markdown",
   "id": "8eb6b966",
   "metadata": {
    "id": "8TQyh5aT-hwL",
    "papermill": {
     "duration": 0.005519,
     "end_time": "2025-02-03T20:34:25.237400",
     "exception": false,
     "start_time": "2025-02-03T20:34:25.231881",
     "status": "completed"
    },
    "tags": []
   },
   "source": [
    "# Task 3: Create a function that accepts two values\n",
    "\n",
    "You learn that the price of tickets is more expensive for opening night, and now you need to create a function that will accept two values and return their total value."
   ]
  },
  {
   "cell_type": "markdown",
   "id": "ec81aa42",
   "metadata": {
    "id": "X4E5T6X9-hwL",
    "papermill": {
     "duration": 0.005806,
     "end_time": "2025-02-03T20:34:25.249290",
     "exception": false,
     "start_time": "2025-02-03T20:34:25.243484",
     "status": "completed"
    },
    "tags": []
   },
   "source": [
    "### 3a: Refine the `total_sales` function\n",
    "\n",
    "*  Update your `total_sales` function so it accepts two parameters:\n",
    "    * `price` for the price per ticket\n",
    "    * `num_tickets` for the total number of tickets.\n",
    "\n",
    "* Return the product of the two arguments. Use the Python `round()` function to round the returned value to two decimal places. Refer to the [round() Python documentation](https://docs.python.org/3/library/functions.html#round) for more information regarding this function."
   ]
  },
  {
   "cell_type": "code",
   "execution_count": 4,
   "id": "90032a06",
   "metadata": {
    "execution": {
     "iopub.execute_input": "2025-02-03T20:34:25.262972Z",
     "iopub.status.busy": "2025-02-03T20:34:25.262537Z",
     "iopub.status.idle": "2025-02-03T20:34:25.267755Z",
     "shell.execute_reply": "2025-02-03T20:34:25.266572Z"
    },
    "id": "W1syLfyl-hwM",
    "papermill": {
     "duration": 0.014209,
     "end_time": "2025-02-03T20:34:25.269727",
     "exception": false,
     "start_time": "2025-02-03T20:34:25.255518",
     "status": "completed"
    },
    "tags": []
   },
   "outputs": [],
   "source": [
    "### YOUR CODE HERE ###\n",
    "def total_sales(price, num_tickets):\n",
    "    '''\n",
    "    calculates the total sales by multiplying number of tickets and the price per ticket\n",
    "    \n",
    "    parameters:\n",
    "        price (float): price per ticket\n",
    "        num_tickets (int): number of tickets sold\n",
    "    \n",
    "    returns:\n",
    "        total_revenue (float): total revenue made from the ticket sales\n",
    "    '''\n",
    "    \n",
    "    # total_revenue = num_tickets * price per ticket\n",
    "    total_revenue = num_tickets * price\n",
    "    \n",
    "    return round(total_revenue, 2)"
   ]
  },
  {
   "cell_type": "markdown",
   "id": "aed1f944",
   "metadata": {
    "id": "6D0whKnN-hwM",
    "papermill": {
     "duration": 0.005464,
     "end_time": "2025-02-03T20:34:25.281845",
     "exception": false,
     "start_time": "2025-02-03T20:34:25.276381",
     "status": "completed"
    },
    "tags": []
   },
   "source": [
    "### 3b: Call the function\n",
    "\n",
    "Then, call the function with the value of `15.99` for `price` and `1001` for the number of tickets sold (`num_tickets`).\n",
    "\n",
    "Example:\n",
    "\n",
    "```\n",
    "[IN]  total_sales(15.99, 1001)\n",
    "[OUT] 16005.99\n",
    "```"
   ]
  },
  {
   "cell_type": "code",
   "execution_count": 5,
   "id": "65347de0",
   "metadata": {
    "execution": {
     "iopub.execute_input": "2025-02-03T20:34:25.294992Z",
     "iopub.status.busy": "2025-02-03T20:34:25.294467Z",
     "iopub.status.idle": "2025-02-03T20:34:25.299682Z",
     "shell.execute_reply": "2025-02-03T20:34:25.298541Z"
    },
    "id": "0QEF1aJw-hwM",
    "papermill": {
     "duration": 0.013823,
     "end_time": "2025-02-03T20:34:25.301412",
     "exception": false,
     "start_time": "2025-02-03T20:34:25.287589",
     "status": "completed"
    },
    "tags": []
   },
   "outputs": [
    {
     "name": "stdout",
     "output_type": "stream",
     "text": [
      "16005.99\n"
     ]
    }
   ],
   "source": [
    "### YOUR CODE HERE ###\n",
    "print(total_sales(15.99, 1001))"
   ]
  },
  {
   "cell_type": "markdown",
   "id": "2bec8e7d",
   "metadata": {
    "id": "xd93S8Q3-hwN",
    "papermill": {
     "duration": 0.00666,
     "end_time": "2025-02-03T20:34:25.314249",
     "exception": false,
     "start_time": "2025-02-03T20:34:25.307589",
     "status": "completed"
    },
    "tags": []
   },
   "source": [
    "<details>\n",
    "  <summary><h4><strong>Hint 1</strong></h4></summary>\n",
    "\n",
    "Refer to what you learned about functions, arithmetic operators, and the `round()` function.\n",
    "\n",
    "</details>"
   ]
  },
  {
   "cell_type": "markdown",
   "id": "e716b256",
   "metadata": {
    "id": "YDzG6_gh-hwN",
    "papermill": {
     "duration": 0.00554,
     "end_time": "2025-02-03T20:34:25.325813",
     "exception": false,
     "start_time": "2025-02-03T20:34:25.320273",
     "status": "completed"
    },
    "tags": []
   },
   "source": [
    "<details>\n",
    "  <summary><h4><strong>Hint 2</strong></h4></summary>\n",
    "\n",
    "Defining up a function that accepts two parameters is a very similar process to defining a function with just one.\n",
    "\n",
    "Begin by defining the function and naming it, but instead of a single parameter within the parentheses, place two parameters separated by a comma (`,`).\n",
    "\n",
    "The body of the function is still on a new line and indented four spaces. The `round()` function is included here, and the calculation of the two parameters takes place within the `round()` function's parentheses.\n",
    "\n",
    "When calling the new function, type the name of the function followed by a set of parentheses. Then, place the parameters that the function is operating on within the parentheses, separated by a comma.\n",
    "\n",
    "</details>"
   ]
  },
  {
   "cell_type": "markdown",
   "id": "a16041eb",
   "metadata": {
    "id": "YYLt_9Xm-hwN",
    "papermill": {
     "duration": 0.005501,
     "end_time": "2025-02-03T20:34:25.337217",
     "exception": false,
     "start_time": "2025-02-03T20:34:25.331716",
     "status": "completed"
    },
    "tags": []
   },
   "source": [
    "<details>\n",
    "  <summary><h4><strong>Hint 3</strong></h4></summary>\n",
    "\n",
    "Define a function called `total_sales` that calculates the total dollar value of the tickets sold based on the per-ticket price (`price`), and the number of tickets sold (`num_tickets`).\n",
    "\n",
    "In the body of the function, multiply the parameters to get the total and round the calculation to two decimal places.\n",
    "\n",
    "To call the function, write the name of the function on a new line and replace the parameters with the price per ticket and number of tickets sold.\n",
    "\n",
    "</details>"
   ]
  },
  {
   "cell_type": "markdown",
   "id": "732aa406",
   "metadata": {
    "id": "QbNTK2lJ-hwN",
    "papermill": {
     "duration": 0.005426,
     "end_time": "2025-02-03T20:34:25.348620",
     "exception": false,
     "start_time": "2025-02-03T20:34:25.343194",
     "status": "completed"
    },
    "tags": []
   },
   "source": [
    "# Task 4: Test the function with different values\n",
    "\n",
    "As prices and sales fluctate, your function will need to accept different values and still return the total sales.\n",
    "\n",
    "In this task, practice calling your function with different values.\n",
    "\n",
    "Example:\n",
    "\n",
    "```\n",
    "[IN]  total_sales(16.99, 1232)\n",
    "[OUT] 20931.68\n",
    "\n",
    "[IN]  total_sales(10.50, 1472)\n",
    "[OUT] 15456.0\n",
    "\n",
    "[IN]  total_sales(5.00, 349)\n",
    "[OUT] 1745.0\n",
    "\n",
    "```"
   ]
  },
  {
   "cell_type": "code",
   "execution_count": 6,
   "id": "74034f6e",
   "metadata": {
    "execution": {
     "iopub.execute_input": "2025-02-03T20:34:25.362303Z",
     "iopub.status.busy": "2025-02-03T20:34:25.361907Z",
     "iopub.status.idle": "2025-02-03T20:34:25.366563Z",
     "shell.execute_reply": "2025-02-03T20:34:25.365322Z"
    },
    "id": "5-FAYyBe-hwN",
    "papermill": {
     "duration": 0.013389,
     "end_time": "2025-02-03T20:34:25.368488",
     "exception": false,
     "start_time": "2025-02-03T20:34:25.355099",
     "status": "completed"
    },
    "tags": []
   },
   "outputs": [
    {
     "name": "stdout",
     "output_type": "stream",
     "text": [
      "20931.68\n"
     ]
    }
   ],
   "source": [
    "# Call `total_sales` with 16.99 price and 1232 num_tickets\n",
    "### YOUR CODE HERE ###\n",
    "print(total_sales(16.99, 1232))"
   ]
  },
  {
   "cell_type": "code",
   "execution_count": 7,
   "id": "96136b2c",
   "metadata": {
    "execution": {
     "iopub.execute_input": "2025-02-03T20:34:25.382515Z",
     "iopub.status.busy": "2025-02-03T20:34:25.382160Z",
     "iopub.status.idle": "2025-02-03T20:34:25.387159Z",
     "shell.execute_reply": "2025-02-03T20:34:25.385759Z"
    },
    "id": "DHD5DkK6-hwO",
    "papermill": {
     "duration": 0.014208,
     "end_time": "2025-02-03T20:34:25.388905",
     "exception": false,
     "start_time": "2025-02-03T20:34:25.374697",
     "status": "completed"
    },
    "tags": []
   },
   "outputs": [
    {
     "name": "stdout",
     "output_type": "stream",
     "text": [
      "15456.0\n"
     ]
    }
   ],
   "source": [
    "# Call `total_sales` with 10.50 price and 1472 num_tickets\n",
    "### YOUR CODE HERE ###\n",
    "print(total_sales(10.50, 1472))"
   ]
  },
  {
   "cell_type": "code",
   "execution_count": 8,
   "id": "ab9fe9dc",
   "metadata": {
    "execution": {
     "iopub.execute_input": "2025-02-03T20:34:25.403470Z",
     "iopub.status.busy": "2025-02-03T20:34:25.403060Z",
     "iopub.status.idle": "2025-02-03T20:34:25.407969Z",
     "shell.execute_reply": "2025-02-03T20:34:25.406788Z"
    },
    "id": "dkWOKCuR-hwO",
    "papermill": {
     "duration": 0.01455,
     "end_time": "2025-02-03T20:34:25.410020",
     "exception": false,
     "start_time": "2025-02-03T20:34:25.395470",
     "status": "completed"
    },
    "tags": []
   },
   "outputs": [
    {
     "name": "stdout",
     "output_type": "stream",
     "text": [
      "1745.0\n"
     ]
    }
   ],
   "source": [
    "# Call `total_sales` with 5.00 price and 349 num_tickets\n",
    "### YOUR CODE HERE ###\n",
    "print(total_sales(5.00, 349))"
   ]
  },
  {
   "cell_type": "markdown",
   "id": "f48232d6",
   "metadata": {
    "id": "p_NubEBx-hwO",
    "papermill": {
     "duration": 0.005846,
     "end_time": "2025-02-03T20:34:25.422324",
     "exception": false,
     "start_time": "2025-02-03T20:34:25.416478",
     "status": "completed"
    },
    "tags": []
   },
   "source": [
    "<details>\n",
    "  <summary><h4><strong>Hint 1</strong></h4></summary>\n",
    "\n",
    "You can refer to what you've learned about calling functions with multiple parameters.\n",
    "\n",
    "</details>"
   ]
  },
  {
   "cell_type": "markdown",
   "id": "a7a3c041",
   "metadata": {
    "id": "B61eLOgk-hwO",
    "papermill": {
     "duration": 0.005777,
     "end_time": "2025-02-03T20:34:25.434565",
     "exception": false,
     "start_time": "2025-02-03T20:34:25.428788",
     "status": "completed"
    },
    "tags": []
   },
   "source": [
    "<details>\n",
    "  <summary><h4><strong>Hint 2</strong></h4></summary>\n",
    "\n",
    "Call the function by writing the name, followed by parenthesis. Write the two values you want to calculate inside the parenthesis, separated by a comma.\n",
    "\n",
    "</details>"
   ]
  },
  {
   "cell_type": "markdown",
   "id": "fb286523",
   "metadata": {
    "id": "fSDK4WCH-hwP",
    "papermill": {
     "duration": 0.005708,
     "end_time": "2025-02-03T20:34:25.446226",
     "exception": false,
     "start_time": "2025-02-03T20:34:25.440518",
     "status": "completed"
    },
    "tags": []
   },
   "source": [
    "<details>\n",
    "  <summary><h4><strong>Hint 3</strong></h4></summary>\n",
    "\n",
    "To run the function and calculate a new total, call `total_sales()` and write `16.99, 1232` inside the parenthesis.\n",
    "\n",
    "</details>"
   ]
  },
  {
   "cell_type": "markdown",
   "id": "b6fa4f55",
   "metadata": {
    "id": "U1MOXazU-hwP",
    "papermill": {
     "duration": 0.005871,
     "end_time": "2025-02-03T20:34:25.458321",
     "exception": false,
     "start_time": "2025-02-03T20:34:25.452450",
     "status": "completed"
    },
    "tags": []
   },
   "source": [
    "# Conclusion\n",
    "\n",
    "**What are your key takeaways from this lab?**\n"
   ]
  },
  {
   "cell_type": "markdown",
   "id": "c9778eed",
   "metadata": {
    "id": "ep-uvqwi-hwP",
    "papermill": {
     "duration": 0.005894,
     "end_time": "2025-02-03T20:34:25.470507",
     "exception": false,
     "start_time": "2025-02-03T20:34:25.464613",
     "status": "completed"
    },
    "tags": []
   },
   "source": [
    "* write reproducible code\n",
    "* how to refactor a code\n",
    "* adding docstrings and comments for better understanding"
   ]
  },
  {
   "cell_type": "markdown",
   "id": "0a8b9d56",
   "metadata": {
    "papermill": {
     "duration": 0.005616,
     "end_time": "2025-02-03T20:34:25.482119",
     "exception": false,
     "start_time": "2025-02-03T20:34:25.476503",
     "status": "completed"
    },
    "tags": []
   },
   "source": [
    "**Congratulations!** You've completed this lab. However, you may not notice a green check mark next to this item on Coursera's platform. Please continue your progress regardless of the check mark. Just click on the \"save\" icon at the top of this notebook to ensure your work has been logged."
   ]
  }
 ],
 "metadata": {
  "colab": {
   "provenance": [],
   "toc_visible": true
  },
  "kaggle": {
   "accelerator": "none",
   "dataSources": [],
   "dockerImageVersionId": 30839,
   "isGpuEnabled": false,
   "isInternetEnabled": true,
   "language": "python",
   "sourceType": "notebook"
  },
  "kernelspec": {
   "display_name": "Python 3",
   "language": "python",
   "name": "python3"
  },
  "language_info": {
   "codemirror_mode": {
    "name": "ipython",
    "version": 3
   },
   "file_extension": ".py",
   "mimetype": "text/x-python",
   "name": "python",
   "nbconvert_exporter": "python",
   "pygments_lexer": "ipython3",
   "version": "3.10.12"
  },
  "papermill": {
   "default_parameters": {},
   "duration": 3.992436,
   "end_time": "2025-02-03T20:34:26.009194",
   "environment_variables": {},
   "exception": null,
   "input_path": "__notebook__.ipynb",
   "output_path": "__notebook__.ipynb",
   "parameters": {},
   "start_time": "2025-02-03T20:34:22.016758",
   "version": "2.6.0"
  }
 },
 "nbformat": 4,
 "nbformat_minor": 5
}

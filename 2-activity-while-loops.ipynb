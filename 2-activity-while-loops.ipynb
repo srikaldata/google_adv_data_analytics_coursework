{
 "cells": [
  {
   "cell_type": "markdown",
   "id": "3d562b2e",
   "metadata": {
    "id": "JwaiQtxjvkqT",
    "papermill": {
     "duration": 0.005591,
     "end_time": "2025-02-03T23:19:07.414144",
     "exception": false,
     "start_time": "2025-02-03T23:19:07.408553",
     "status": "completed"
    },
    "tags": []
   },
   "source": [
    "<summary><h1>Activity: While loops</h1></summary>"
   ]
  },
  {
   "cell_type": "markdown",
   "id": "4b767202",
   "metadata": {
    "id": "m6wrnw_xvtjg",
    "papermill": {
     "duration": 0.004352,
     "end_time": "2025-02-03T23:19:07.423453",
     "exception": false,
     "start_time": "2025-02-03T23:19:07.419101",
     "status": "completed"
    },
    "tags": []
   },
   "source": [
    "## Introduction \n",
    "\n",
    "Data analysts often work with code that requires repetition. In Python, iterative statements can help automate repetitive processes to make them more efficient.\n",
    "\n",
    "In this lab, imagine you have transitioned fully into marketing for the movie theater. One of your tasks is analyzing customer purchases at the concession stand and automating messages to alert staff when a customer has earned a coupon.\n",
    "\n",
    "You will practice using while loops to iterate through data and perform repeated comparisons. "
   ]
  },
  {
   "cell_type": "markdown",
   "id": "2173256a",
   "metadata": {
    "id": "A1sRocYbv0Ok",
    "papermill": {
     "duration": 0.004756,
     "end_time": "2025-02-03T23:19:07.433365",
     "exception": false,
     "start_time": "2025-02-03T23:19:07.428609",
     "status": "completed"
    },
    "tags": []
   },
   "source": [
    "## Tips for completing this lab\n",
    "\n",
    "As you navigate this lab, keep the following tips in mind:\n",
    "\n",
    "- `### YOUR CODE HERE ###` indicates where you should write code. Be sure to replace this with your own code before running the code cell.\n",
    "- Feel free to open the hints for additional guidance as you work on each task.\n",
    "- To enter your answer to a question, double-click the markdown cell to edit. Be sure to replace the \"[Double-click to enter your responses here.]\" with your own answer.\n",
    "- You can save your work manually by clicking File and then Save in the menu bar at the top of the notebook.\n",
    "- You can download your work locally by clicking File and then Download and then specifying your preferred file format in the menu bar at the top of the notebook."
   ]
  },
  {
   "cell_type": "markdown",
   "id": "30aa1c7e",
   "metadata": {
    "id": "v6jkDWLzv9cE",
    "papermill": {
     "duration": 0.004363,
     "end_time": "2025-02-03T23:19:07.442450",
     "exception": false,
     "start_time": "2025-02-03T23:19:07.438087",
     "status": "completed"
    },
    "tags": []
   },
   "source": [
    "## Task 1: Iterate with a `while` loop\n",
    "\n",
    "While continuing your work as an analyst for a movie theater, you've been asked to create a function that will require a `while` loop. To prepare for the job, first practice using `while` loops.\n",
    "\n",
    "In this warmup task:\n",
    "\n",
    "* Create a variable called `candy_purchased` that will act as a counter. Initialize it with a starting value of `0`.\n",
    "* Write a `while` loop that will continue iterating until `5` candies have been purchased.\n",
    "    * Each iteration of the loop must print `'Candy purchased: {number}'` and increment `candy_purchased` by one.\n",
    "\n",
    "*Expected output:*\n",
    "```\n",
    "Candy purchased: 0\n",
    "Candy purchased: 1\n",
    "Candy purchased: 2\n",
    "Candy purchased: 3\n",
    "Candy purchased: 4\n",
    "Candy purchased: 5\n",
    "```"
   ]
  },
  {
   "cell_type": "code",
   "execution_count": 1,
   "id": "cbf18235",
   "metadata": {
    "execution": {
     "iopub.execute_input": "2025-02-03T23:19:07.453332Z",
     "iopub.status.busy": "2025-02-03T23:19:07.452822Z",
     "iopub.status.idle": "2025-02-03T23:19:07.462376Z",
     "shell.execute_reply": "2025-02-03T23:19:07.461064Z"
    },
    "id": "yRtGWWmiv-We",
    "papermill": {
     "duration": 0.017455,
     "end_time": "2025-02-03T23:19:07.464455",
     "exception": false,
     "start_time": "2025-02-03T23:19:07.447000",
     "status": "completed"
    },
    "tags": []
   },
   "outputs": [
    {
     "name": "stdout",
     "output_type": "stream",
     "text": [
      "Candy purchased:0\n",
      "Candy purchased:1\n",
      "Candy purchased:2\n",
      "Candy purchased:3\n",
      "Candy purchased:4\n",
      "Candy purchased:5\n"
     ]
    }
   ],
   "source": [
    "### YOUR CODE HERE ###\n",
    "candy_purchased = 0\n",
    "\n",
    "\n",
    "while candy_purchased <= 5:\n",
    "    \n",
    "    print('Candy purchased:' + str (candy_purchased))\n",
    "    \n",
    "    # incrementing candy purchased\n",
    "    candy_purchased += 1\n",
    "\n",
    "    "
   ]
  },
  {
   "cell_type": "markdown",
   "id": "90c7f47d",
   "metadata": {
    "id": "cht_dmcXNFfa",
    "papermill": {
     "duration": 0.004937,
     "end_time": "2025-02-03T23:19:07.474772",
     "exception": false,
     "start_time": "2025-02-03T23:19:07.469835",
     "status": "completed"
    },
    "tags": []
   },
   "source": [
    "<details>\n",
    "    <summary><h4><strong>Hint 1</strong></h4></summary>\n",
    "\n",
    "Refer back to what you learned about iterating using `while` loops and comparison operators.\n",
    "\n",
    "</details>"
   ]
  },
  {
   "cell_type": "markdown",
   "id": "3bae97ab",
   "metadata": {
    "id": "yCi7qymPNRxx",
    "papermill": {
     "duration": 0.004778,
     "end_time": "2025-02-03T23:19:07.484773",
     "exception": false,
     "start_time": "2025-02-03T23:19:07.479995",
     "status": "completed"
    },
    "tags": []
   },
   "source": [
    "<details>\n",
    "    <summary><h4><strong>Hint 2</strong></h4></summary>\n",
    "\n",
    "* After creating a counter variable, you can use a `while` loop to iterate while a condition is true.\n",
    "\n",
    "* Check your syntax and indentation.\n",
    "\n",
    "* Make sure to increment the `candy_purchased` counter with each iteration of the loop.\n",
    "\n",
    "* If your output isn't matching the example output, reconsider the order of your operations in the body of the `while` loop.\n",
    "\n",
    "</details>"
   ]
  },
  {
   "cell_type": "markdown",
   "id": "ca0445ff",
   "metadata": {
    "id": "dhBqSkauPJSh",
    "papermill": {
     "duration": 0.004648,
     "end_time": "2025-02-03T23:19:07.494449",
     "exception": false,
     "start_time": "2025-02-03T23:19:07.489801",
     "status": "completed"
    },
    "tags": []
   },
   "source": [
    "<details>\n",
    "    <summary><h4><strong>Hint 3</strong></h4></summary>\n",
    "\n",
    "* The `while` statement can be declared either for `candy_purchased <= 5` or `candy_purchased < 6`.\n",
    "\n",
    "* For each iteration:\n",
    "    * First, print `'Candy purchased: {number}'`\n",
    "    * Then, increment `candy_purchased` by one\n",
    "\n",
    "</details>"
   ]
  },
  {
   "cell_type": "markdown",
   "id": "e2fba732",
   "metadata": {
    "id": "DEGwRhgNwBYH",
    "papermill": {
     "duration": 0.0047,
     "end_time": "2025-02-03T23:19:07.504340",
     "exception": false,
     "start_time": "2025-02-03T23:19:07.499640",
     "status": "completed"
    },
    "tags": []
   },
   "source": [
    "# Task 2: Iterate using `while` and `if`\n",
    "\n",
    "In the next warmup task, you'll use a `while` loop that has an `if` statement and some Boolean logic.\n",
    "\n",
    "* Write a `while` loop where `candy_purchased` begins at `0` and stops after 100 purchases have been made. Your code must:\n",
    "    * Increment `candy_purchased` by one with each iteration\n",
    "    * Print `'Candy purchased: {number}'` only when a multiple of 10 purchases have been made\n",
    "\n",
    "*Expected output:*\n",
    "```\n",
    "Candy purchased: 0\n",
    "Candy purchased: 10\n",
    "Candy purchased: 20\n",
    "Candy purchased: 30\n",
    "Candy purchased: 40\n",
    "Candy purchased: 50\n",
    "Candy purchased: 60\n",
    "Candy purchased: 70\n",
    "Candy purchased: 80\n",
    "Candy purchased: 90\n",
    "Candy purchased: 100\n",
    "```"
   ]
  },
  {
   "cell_type": "code",
   "execution_count": 2,
   "id": "26c6a469",
   "metadata": {
    "execution": {
     "iopub.execute_input": "2025-02-03T23:19:07.515852Z",
     "iopub.status.busy": "2025-02-03T23:19:07.515520Z",
     "iopub.status.idle": "2025-02-03T23:19:07.523640Z",
     "shell.execute_reply": "2025-02-03T23:19:07.522515Z"
    },
    "id": "MRE-fZgIKb9T",
    "papermill": {
     "duration": 0.01612,
     "end_time": "2025-02-03T23:19:07.525529",
     "exception": false,
     "start_time": "2025-02-03T23:19:07.509409",
     "status": "completed"
    },
    "tags": []
   },
   "outputs": [
    {
     "name": "stdout",
     "output_type": "stream",
     "text": [
      "Candy purchased:0\n",
      "Candy purchased:10\n",
      "Candy purchased:20\n",
      "Candy purchased:30\n",
      "Candy purchased:40\n",
      "Candy purchased:50\n",
      "Candy purchased:60\n",
      "Candy purchased:70\n",
      "Candy purchased:80\n",
      "Candy purchased:90\n",
      "Candy purchased:100\n"
     ]
    }
   ],
   "source": [
    "### YOUR CODE HERE ###\n",
    "candy_purchased = 0\n",
    "\n",
    "\n",
    "while candy_purchased <= 100:\n",
    "    \n",
    "    # if the candy purchased attempt is divisible by 10\n",
    "    if candy_purchased % 10 == 0:\n",
    "        print('Candy purchased:' + str (candy_purchased))\n",
    "    \n",
    "    # incrementing candy purchased\n",
    "    candy_purchased += 1\n",
    "    "
   ]
  },
  {
   "cell_type": "markdown",
   "id": "80f7578d",
   "metadata": {
    "id": "vP2NyzYvRXAF",
    "papermill": {
     "duration": 0.00479,
     "end_time": "2025-02-03T23:19:07.535819",
     "exception": false,
     "start_time": "2025-02-03T23:19:07.531029",
     "status": "completed"
    },
    "tags": []
   },
   "source": [
    "<details>\n",
    "    <summary><h4><strong>Hint 1</strong></h4></summary>\n",
    "\n",
    "Refer back to what you learned about comparison operators, `while` loops, `if` statements, and Boolean logic.\n",
    "\n",
    "</details>"
   ]
  },
  {
   "cell_type": "markdown",
   "id": "9798f459",
   "metadata": {
    "id": "Ney2LZoYRgG9",
    "papermill": {
     "duration": 0.004728,
     "end_time": "2025-02-03T23:19:07.545685",
     "exception": false,
     "start_time": "2025-02-03T23:19:07.540957",
     "status": "completed"
    },
    "tags": []
   },
   "source": [
    "<details>\n",
    "    <summary><h4><strong>Hint 2</strong></h4></summary>\n",
    "\n",
    "After setting the counter to an initial value, initialize the `while` loop on a new line. Make sure the body of the while loop is indented. Additional iterative statements, such as `if`, are contained in the body of the loop and indented to the same level, though their own body is indented further.\n",
    "\n",
    "</details>"
   ]
  },
  {
   "cell_type": "markdown",
   "id": "67d45eac",
   "metadata": {
    "id": "JNOpqBWQS6b8",
    "papermill": {
     "duration": 0.004658,
     "end_time": "2025-02-03T23:19:07.555421",
     "exception": false,
     "start_time": "2025-02-03T23:19:07.550763",
     "status": "completed"
    },
    "tags": []
   },
   "source": [
    "<details>\n",
    "    <summary><h4><strong>Hint 3</strong></h4></summary>\n",
    "\n",
    "* Define the `while` loop to execute until either `candy_purchased <= 100` or `candy_purchased < 101`.\n",
    "\n",
    "* Begin the body with an `if` statement that uses the modulo operator to check the `candy_purchased` variable for perfect divisibility by 10 and execute the print statement only when the `if` statement evaluates to `True`.\n",
    "\n",
    "* Finally, increment the `candy_purchased` counter by one.\n",
    "\n",
    "</details>"
   ]
  },
  {
   "cell_type": "markdown",
   "id": "a66d079f",
   "metadata": {
    "id": "ZmI550JXWWbG",
    "papermill": {
     "duration": 0.004755,
     "end_time": "2025-02-03T23:19:07.565260",
     "exception": false,
     "start_time": "2025-02-03T23:19:07.560505",
     "status": "completed"
    },
    "tags": []
   },
   "source": [
    "# Task 3: Create a webpage timer function\n",
    "\n",
    "Now that you have some practice constructing `while` loops, it's time to take on the project you've been asked to complete for the theater.\n",
    "\n",
    "This task makes use of a function called `sleep()` from the `time` module. Whenever `sleep(n)` is executed, the program will pause for `n` seconds. Run the below cell as an illustrative example to help you understand."
   ]
  },
  {
   "cell_type": "code",
   "execution_count": 3,
   "id": "374c45c2",
   "metadata": {
    "execution": {
     "iopub.execute_input": "2025-02-03T23:19:07.576869Z",
     "iopub.status.busy": "2025-02-03T23:19:07.576514Z",
     "iopub.status.idle": "2025-02-03T23:19:11.585023Z",
     "shell.execute_reply": "2025-02-03T23:19:11.583916Z"
    },
    "executionInfo": {
     "elapsed": 3230,
     "status": "ok",
     "timestamp": 1680014982487,
     "user": {
      "displayName": "Matteo Riotto",
      "userId": "15211004813978485634"
     },
     "user_tz": 420
    },
    "id": "KAjdm2ZPXCBc",
    "outputId": "e4ab6322-a536-47af-8d2a-0bb1ddfb5c2c",
    "papermill": {
     "duration": 4.016736,
     "end_time": "2025-02-03T23:19:11.587231",
     "exception": false,
     "start_time": "2025-02-03T23:19:07.570495",
     "status": "completed"
    },
    "tags": []
   },
   "outputs": [
    {
     "name": "stdout",
     "output_type": "stream",
     "text": [
      "3\n",
      "2\n",
      "1\n",
      "0\n"
     ]
    }
   ],
   "source": [
    "from time import sleep\n",
    "\n",
    "n = 3\n",
    "while n >= 0:\n",
    "    print(n)\n",
    "    sleep(1)    # Execution pauses for 1 second\n",
    "    n = n - 1   # Decrement n by 1"
   ]
  },
  {
   "cell_type": "markdown",
   "id": "4dd517da",
   "metadata": {
    "id": "4Ir0fa0cXbQN",
    "papermill": {
     "duration": 0.006231,
     "end_time": "2025-02-03T23:19:11.600005",
     "exception": false,
     "start_time": "2025-02-03T23:19:11.593774",
     "status": "completed"
    },
    "tags": []
   },
   "source": [
    "For the purposes of this task, pretend that 1 second = 1 minute, so the above cell would represent a 3-minute countdown.\n",
    "\n",
    "The movie theater has implemented online reservations through their website. From the seat selection page, customers have a limited amount of time to make their selection. You must write a function that counts down and reminds the user that they have limited time to make a selection. When time expires, it must print a timeout message.\n",
    "\n",
    "*  Instantiate a variable called `mins` and assign it a starting value of `10`.\n",
    "*  Write a `while` loop that uses the `sleep()` function and decrements `mins` from `10` minutes. For each minute:\n",
    "\n",
    "    *  Print how many minutes remain as an integer. <br/>**BUT:**\n",
    "    *  If there are 5 minutes left, print `Place your reservation soon! 5 minutes remaining.` instead of the integer.\n",
    "    *  If there are 2 minutes left, print `Don't lose your seats! 2 minutes remaining.` instead of the integer.\n",
    "    *  When zero minutes remain, print `User timed out.` instead of the integer.\n",
    "\n",
    "*Expected output:*\n",
    "\n",
    "```\n",
    "10\n",
    "9\n",
    "8\n",
    "7\n",
    "6\n",
    "Place your reservation soon! 5 minutes remaining.\n",
    "4\n",
    "3\n",
    "Don't lose your seats! 2 minutes remaining.\n",
    "1\n",
    "User timed out.\n",
    "```\n",
    "\n",
    "**Note that there is more than one way to solve this problem.**"
   ]
  },
  {
   "cell_type": "code",
   "execution_count": 4,
   "id": "1b7e8b3a",
   "metadata": {
    "execution": {
     "iopub.execute_input": "2025-02-03T23:19:11.613822Z",
     "iopub.status.busy": "2025-02-03T23:19:11.613436Z",
     "iopub.status.idle": "2025-02-03T23:19:21.632589Z",
     "shell.execute_reply": "2025-02-03T23:19:21.631335Z"
    },
    "executionInfo": {
     "elapsed": 11462,
     "status": "ok",
     "timestamp": 1679980970381,
     "user": {
      "displayName": "Matteo Riotto",
      "userId": "15211004813978485634"
     },
     "user_tz": 420
    },
    "id": "9ITkAwisuxlU",
    "outputId": "1a4b572b-cf74-4247-c252-a8aaddb288c4",
    "papermill": {
     "duration": 10.028746,
     "end_time": "2025-02-03T23:19:21.634746",
     "exception": false,
     "start_time": "2025-02-03T23:19:11.606000",
     "status": "completed"
    },
    "scrolled": true,
    "tags": []
   },
   "outputs": [
    {
     "name": "stdout",
     "output_type": "stream",
     "text": [
      "10\n",
      "9\n",
      "8\n",
      "7\n",
      "6\n",
      "Place your reservation soon! 5 minutes remaining.\n",
      "4\n",
      "3\n",
      "Don't lose your seats! 2 minutes remaining.\n",
      "1\n",
      "User timed out.\n"
     ]
    }
   ],
   "source": [
    "from time import sleep\n",
    "\n",
    "### YOUR CODE HERE ###\n",
    "# NOTE: for saving the notebook, replacing the 60 seconds with 1 instead\n",
    "\n",
    "# practicing using continue\n",
    "\n",
    "\n",
    "mins = 10\n",
    "\n",
    "while mins >= 1:\n",
    "    \n",
    "    # when 5 minutes remain\n",
    "    if mins == 5:\n",
    "        print('Place your reservation soon! ' + str(mins) +  ' minutes remaining.')\n",
    "        sleep(1)\n",
    "        mins -= 1\n",
    "        continue\n",
    "        \n",
    "    \n",
    "    # when 2 mins remain\n",
    "    elif mins == 2:\n",
    "        print(\"Don't lose your seats! \" + str(mins) +  ' minutes remaining.')\n",
    "        sleep(1)\n",
    "        mins -= 1\n",
    "        continue\n",
    "        \n",
    "    \n",
    "    # for every other min other than 2 and 5\n",
    "    print(mins)\n",
    "    \n",
    "    # delay timer of 1 minute = 60 seconds\n",
    "    sleep(1)\n",
    "    mins -= 1\n",
    "\n",
    "print('User timed out.')\n"
   ]
  },
  {
   "cell_type": "code",
   "execution_count": 5,
   "id": "d373bf36",
   "metadata": {
    "execution": {
     "iopub.execute_input": "2025-02-03T23:19:21.648842Z",
     "iopub.status.busy": "2025-02-03T23:19:21.648516Z",
     "iopub.status.idle": "2025-02-03T23:19:31.667533Z",
     "shell.execute_reply": "2025-02-03T23:19:31.666041Z"
    },
    "executionInfo": {
     "elapsed": 11462,
     "status": "ok",
     "timestamp": 1679980970381,
     "user": {
      "displayName": "Matteo Riotto",
      "userId": "15211004813978485634"
     },
     "user_tz": 420
    },
    "id": "9ITkAwisuxlU",
    "outputId": "1a4b572b-cf74-4247-c252-a8aaddb288c4",
    "papermill": {
     "duration": 10.028286,
     "end_time": "2025-02-03T23:19:31.669606",
     "exception": false,
     "start_time": "2025-02-03T23:19:21.641320",
     "status": "completed"
    },
    "scrolled": true,
    "tags": []
   },
   "outputs": [
    {
     "name": "stdout",
     "output_type": "stream",
     "text": [
      "10\n",
      "9\n",
      "8\n",
      "7\n",
      "6\n",
      "Place your reservation soon! 5 minutes remaining.\n",
      "4\n",
      "3\n",
      "Don't lose your seats! 2 minutes remaining.\n",
      "1\n",
      "User timed out.\n"
     ]
    }
   ],
   "source": [
    "from time import sleep\n",
    "\n",
    "### YOUR CODE HERE ###\n",
    "# NOTE: for saving the notebook, replacing the 60 seconds with 1 instead\n",
    "\n",
    "# without using continue\n",
    "\n",
    "mins = 10\n",
    "\n",
    "while mins >= 1:\n",
    "    \n",
    "    # when 5 minutes remain\n",
    "    if mins == 5:\n",
    "        print('Place your reservation soon! 5 minutes remaining.')\n",
    "        \n",
    "    # when 2 mins remain\n",
    "    elif mins == 2:\n",
    "        print(\"Don't lose your seats! 2 minutes remaining.\")\n",
    "    \n",
    "    # for every other min other than 2 and 5\n",
    "    else:\n",
    "        print(mins)\n",
    "    \n",
    "    # delay timer of 1 minute = 60 seconds\n",
    "    sleep(1)\n",
    "    mins -= 1\n",
    "\n",
    "print('User timed out.')\n"
   ]
  },
  {
   "cell_type": "markdown",
   "id": "332408c0",
   "metadata": {
    "id": "Faxm3SvNffcq",
    "papermill": {
     "duration": 0.006163,
     "end_time": "2025-02-03T23:19:31.682729",
     "exception": false,
     "start_time": "2025-02-03T23:19:31.676566",
     "status": "completed"
    },
    "tags": []
   },
   "source": [
    "<details><summary><h4><strong>Hint 1</strong></h4></summary>\n",
    "\n",
    "*  There are four possible print statements to consider for each minute. Consider an if, elif, elif, else branching scheme.\n",
    "\n",
    "*  Test for the special cases first (`mins == 5`, `mins == 2`, `mins == 0`).\n",
    "\n",
    "</details>"
   ]
  },
  {
   "cell_type": "markdown",
   "id": "d05ea475",
   "metadata": {
    "id": "jL3E4vvFj0z5",
    "papermill": {
     "duration": 0.006002,
     "end_time": "2025-02-03T23:19:31.695179",
     "exception": false,
     "start_time": "2025-02-03T23:19:31.689177",
     "status": "completed"
    },
    "tags": []
   },
   "source": [
    "<details><summary><h4><strong>Hint 2</strong></h4></summary>\n",
    "\n",
    "*  If your code is stuck in an infinite loop, check to make sure that you're decrementing the `mins` variable by one each time a condition that causes a print statement is satisfied.\n",
    "\n",
    "*  If you're having trouble with the `sleep()` function, try writing the code without it. If you can get the code to work without it, experiment with adding the `sleep()` function in different places to see how it affects the code's execution.\n",
    "\n",
    "</details>"
   ]
  },
  {
   "cell_type": "markdown",
   "id": "41e138fb",
   "metadata": {
    "id": "xjT5AY8ymFv1",
    "papermill": {
     "duration": 0.006145,
     "end_time": "2025-02-03T23:19:31.708242",
     "exception": false,
     "start_time": "2025-02-03T23:19:31.702097",
     "status": "completed"
    },
    "tags": []
   },
   "source": [
    "<details><summary><h4><strong>Hint 3</strong></h4></summary>\n",
    "\n",
    "One approach is to set a `while` loop to execute when `mins >= 0`. For each iteration:\n",
    "    \n",
    "* Check if `mins == 5`. If it does, print the designated message, then decrement `mins` by one and sleep(1).\n",
    "* Check if `mins == 2`. If it does, print the designated message, then decrement `mins` by one and sleep(1).\n",
    "* Check if `mins == 0`. If it does, print the designated message, then decrement `mins` by one.\n",
    "* If none of the above conditions are met, print `mins`, decrement its value by one, and sleep(1).\n",
    "\n",
    "</details>"
   ]
  },
  {
   "cell_type": "markdown",
   "id": "6c79c04e",
   "metadata": {
    "id": "6QUnKJF9wv32",
    "papermill": {
     "duration": 0.006014,
     "end_time": "2025-02-03T23:19:31.720760",
     "exception": false,
     "start_time": "2025-02-03T23:19:31.714746",
     "status": "completed"
    },
    "tags": []
   },
   "source": [
    "## Conclusion\n",
    "\n",
    "**What are your key takeaways from this lab?**"
   ]
  },
  {
   "cell_type": "markdown",
   "id": "3121e455",
   "metadata": {
    "id": "bEQJSXfiw0xX",
    "papermill": {
     "duration": 0.006141,
     "end_time": "2025-02-03T23:19:31.733602",
     "exception": false,
     "start_time": "2025-02-03T23:19:31.727461",
     "status": "completed"
    },
    "tags": []
   },
   "source": [
    "* using while loops with conditional statements\n",
    "* finding out positions in while loops to choose whether to break continue or pass\n",
    "* real time timeout function application"
   ]
  },
  {
   "cell_type": "markdown",
   "id": "aab28b59",
   "metadata": {
    "papermill": {
     "duration": 0.006232,
     "end_time": "2025-02-03T23:19:31.747101",
     "exception": false,
     "start_time": "2025-02-03T23:19:31.740869",
     "status": "completed"
    },
    "tags": []
   },
   "source": [
    "**Congratulations!** You've completed this lab. However, you may not notice a green check mark next to this item on Coursera's platform. Please continue your progress regardless of the check mark. Just click on the \"save\" icon at the top of this notebook to ensure your work has been logged."
   ]
  }
 ],
 "metadata": {
  "colab": {
   "provenance": []
  },
  "kaggle": {
   "accelerator": "none",
   "dataSources": [],
   "dockerImageVersionId": 30839,
   "isGpuEnabled": false,
   "isInternetEnabled": true,
   "language": "python",
   "sourceType": "notebook"
  },
  "kernelspec": {
   "display_name": "Python 3",
   "language": "python",
   "name": "python3"
  },
  "language_info": {
   "codemirror_mode": {
    "name": "ipython",
    "version": 3
   },
   "file_extension": ".py",
   "mimetype": "text/x-python",
   "name": "python",
   "nbconvert_exporter": "python",
   "pygments_lexer": "ipython3",
   "version": "3.10.12"
  },
  "papermill": {
   "default_parameters": {},
   "duration": 27.882595,
   "end_time": "2025-02-03T23:19:32.274471",
   "environment_variables": {},
   "exception": null,
   "input_path": "__notebook__.ipynb",
   "output_path": "__notebook__.ipynb",
   "parameters": {},
   "start_time": "2025-02-03T23:19:04.391876",
   "version": "2.6.0"
  }
 },
 "nbformat": 4,
 "nbformat_minor": 5
}

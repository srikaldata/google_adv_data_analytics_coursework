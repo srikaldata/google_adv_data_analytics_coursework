{
 "cells": [
  {
   "cell_type": "markdown",
   "id": "0a7b5c9a",
   "metadata": {
    "id": "60359d86-93e3-495b-8a5a-263735b55320",
    "papermill": {
     "duration": 0.019763,
     "end_time": "2025-02-10T04:55:21.626567",
     "exception": false,
     "start_time": "2025-02-10T04:55:21.606804",
     "status": "completed"
    },
    "tags": []
   },
   "source": [
    "# Activity: Run simple linear regression"
   ]
  },
  {
   "cell_type": "markdown",
   "id": "0aba0f84",
   "metadata": {
    "id": "1ffc2b1e-7061-4100-b7a7-b7bed589c55e",
    "papermill": {
     "duration": 0.018346,
     "end_time": "2025-02-10T04:55:21.663596",
     "exception": false,
     "start_time": "2025-02-10T04:55:21.645250",
     "status": "completed"
    },
    "tags": []
   },
   "source": [
    "## **Introduction**\n",
    "\n",
    "\n",
    "As you're learning, simple linear regression is a way to model the relationship between two variables. By assessing the direction and magnitude of a relationship, data professionals are able to uncover patterns and transform large amounts of data into valuable knowledge. This enables them to make better predictions and decisions. \n",
    "\n",
    "In this lab, you are part of an analytics team that provides insights about your company's sales and marketing practices. You have been assigned to a project that focuses on the use of influencer marketing. For this task, you will explore the relationship between your radio promotion budget and your sales. \n",
    "\n",
    "The dataset provided includes information about marketing campaigns across TV, radio, and social media, as well as how much revenue in sales was generated from these campaigns. Based on this information, company leaders will make decisions about where to focus future marketing resources. Therefore, it is critical to provide them with a clear understanding of the relationship between types of marketing campaigns and the revenue generated as a result of this investment."
   ]
  },
  {
   "cell_type": "markdown",
   "id": "03b91f70",
   "metadata": {
    "id": "92b22e4b-fcb0-4f99-98fb-f639669dce2d",
    "papermill": {
     "duration": 0.018825,
     "end_time": "2025-02-10T04:55:21.700875",
     "exception": false,
     "start_time": "2025-02-10T04:55:21.682050",
     "status": "completed"
    },
    "tags": []
   },
   "source": [
    "## **Step 1: Imports** \n"
   ]
  },
  {
   "cell_type": "markdown",
   "id": "72cf8e22",
   "metadata": {
    "id": "a1cc0f65-3243-4915-ae6a-e9f050c08e3a",
    "papermill": {
     "duration": 0.017797,
     "end_time": "2025-02-10T04:55:21.736893",
     "exception": false,
     "start_time": "2025-02-10T04:55:21.719096",
     "status": "completed"
    },
    "tags": []
   },
   "source": [
    "Import relevant Python libraries and modules."
   ]
  },
  {
   "cell_type": "code",
   "execution_count": 1,
   "id": "be555541",
   "metadata": {
    "execution": {
     "iopub.execute_input": "2025-02-10T04:55:21.775688Z",
     "iopub.status.busy": "2025-02-10T04:55:21.775261Z",
     "iopub.status.idle": "2025-02-10T04:55:26.168853Z",
     "shell.execute_reply": "2025-02-10T04:55:26.167834Z"
    },
    "id": "ac02e2f5-e96d-4046-b8b8-a46cb06939f6",
    "papermill": {
     "duration": 4.415646,
     "end_time": "2025-02-10T04:55:26.170963",
     "exception": false,
     "start_time": "2025-02-10T04:55:21.755317",
     "status": "completed"
    },
    "tags": []
   },
   "outputs": [],
   "source": [
    "# Import relevant Python libraries and modules.\n",
    "\n",
    "### YOUR CODE HERE ###\n",
    "\n",
    "import pandas as pd\n",
    "\n",
    "import matplotlib.pyplot as plt\n",
    "import seaborn as sns\n",
    "\n",
    "from statsmodels.formula.api import ols\n",
    "import statsmodels.api as sm"
   ]
  },
  {
   "cell_type": "markdown",
   "id": "fa352be7",
   "metadata": {
    "id": "e385eecf-7003-44da-87bb-1a2e1a9f9de3",
    "papermill": {
     "duration": 0.017533,
     "end_time": "2025-02-10T04:55:26.206722",
     "exception": false,
     "start_time": "2025-02-10T04:55:26.189189",
     "status": "completed"
    },
    "tags": []
   },
   "source": [
    "The dataset provided is a .csv file (named `marketing_sales_data.csv`), which contains information about marketing conducted in collaboration with influencers, along with corresponding sales. Assume that the numerical variables in the data are expressed in millions of dollars. As shown in this cell, the dataset has been automatically loaded in for you. You do not need to download the .csv file, or provide more code, in order to access the dataset and proceed with this lab. Please continue with this activity by completing the following instructions.\n",
    "\n",
    "**Note:** This is a fictional dataset that was created for educational purposes and modified for this lab. "
   ]
  },
  {
   "cell_type": "code",
   "execution_count": 2,
   "id": "40c19748",
   "metadata": {
    "execution": {
     "iopub.execute_input": "2025-02-10T04:55:26.245561Z",
     "iopub.status.busy": "2025-02-10T04:55:26.244500Z",
     "iopub.status.idle": "2025-02-10T04:55:26.265029Z",
     "shell.execute_reply": "2025-02-10T04:55:26.263559Z"
    },
    "id": "d285e184-40f6-401a-98b6-f266e7a65e48",
    "papermill": {
     "duration": 0.043348,
     "end_time": "2025-02-10T04:55:26.267632",
     "exception": false,
     "start_time": "2025-02-10T04:55:26.224284",
     "status": "completed"
    },
    "tags": []
   },
   "outputs": [],
   "source": [
    "# RUN THIS CELL TO IMPORT YOUR DATA.\n",
    "\n",
    "### YOUR CODE HERE ###\n",
    "data = pd.read_csv('/kaggle/input/google-adv-data-analytics-basicml-datasets/5_marketing_sales_data.csv')"
   ]
  },
  {
   "cell_type": "markdown",
   "id": "96ba66ac",
   "metadata": {
    "id": "lXPOJ3LO-v7J",
    "jp-MarkdownHeadingCollapsed": true,
    "papermill": {
     "duration": 0.022747,
     "end_time": "2025-02-10T04:55:26.317721",
     "exception": false,
     "start_time": "2025-02-10T04:55:26.294974",
     "status": "completed"
    },
    "tags": []
   },
   "source": [
    "<details>\n",
    "  <summary><h4><strong>Hint 1</strong></h4></summary>\n",
    "\n",
    "Refer to what you learned about loading data in Python.\n",
    "\n",
    "</details>"
   ]
  },
  {
   "cell_type": "markdown",
   "id": "ce8bda9f",
   "metadata": {
    "id": "O5TEL8Ty-v7L",
    "jp-MarkdownHeadingCollapsed": true,
    "papermill": {
     "duration": 0.017595,
     "end_time": "2025-02-10T04:55:26.353848",
     "exception": false,
     "start_time": "2025-02-10T04:55:26.336253",
     "status": "completed"
    },
    "tags": []
   },
   "source": [
    "<details>\n",
    "  <summary><h4><strong>Hint 2</strong></h4></summary>\n",
    "\n",
    "There is a function in the `pandas` library that allows you to read data from a .csv file and load the data into a DataFrame.\n",
    " \n",
    "\n",
    "</details>"
   ]
  },
  {
   "cell_type": "markdown",
   "id": "2ad5c8e0",
   "metadata": {
    "id": "kEx2SsH2-v7M",
    "jp-MarkdownHeadingCollapsed": true,
    "papermill": {
     "duration": 0.017831,
     "end_time": "2025-02-10T04:55:26.389747",
     "exception": false,
     "start_time": "2025-02-10T04:55:26.371916",
     "status": "completed"
    },
    "tags": []
   },
   "source": [
    "<details>\n",
    "  <summary><h4><strong>Hint 3</strong></h4></summary>\n",
    "\n",
    "Use the `read_csv()` function from the `pandas` library. \n",
    "\n",
    "</details>"
   ]
  },
  {
   "cell_type": "markdown",
   "id": "119aa80d",
   "metadata": {
    "id": "18981762-ab15-441e-8cc7-16848fd6c9d2",
    "papermill": {
     "duration": 0.033097,
     "end_time": "2025-02-10T04:55:26.454850",
     "exception": false,
     "start_time": "2025-02-10T04:55:26.421753",
     "status": "completed"
    },
    "tags": []
   },
   "source": [
    "## **Step 2: Data exploration** \n"
   ]
  },
  {
   "cell_type": "markdown",
   "id": "de78d3cd",
   "metadata": {
    "id": "07264b51-9724-4cba-b5f0-3f508e392675",
    "papermill": {
     "duration": 0.026972,
     "end_time": "2025-02-10T04:55:26.510364",
     "exception": false,
     "start_time": "2025-02-10T04:55:26.483392",
     "status": "completed"
    },
    "tags": []
   },
   "source": [
    "To get a sense of what the data includes, display the first 10 rows of the data."
   ]
  },
  {
   "cell_type": "code",
   "execution_count": 3,
   "id": "d485f4a1",
   "metadata": {
    "execution": {
     "iopub.execute_input": "2025-02-10T04:55:26.559283Z",
     "iopub.status.busy": "2025-02-10T04:55:26.558823Z",
     "iopub.status.idle": "2025-02-10T04:55:26.592898Z",
     "shell.execute_reply": "2025-02-10T04:55:26.591558Z"
    },
    "id": "e86b8a7c-0e6a-4fee-b810-9d08e35b6eb6",
    "papermill": {
     "duration": 0.061893,
     "end_time": "2025-02-10T04:55:26.594668",
     "exception": false,
     "start_time": "2025-02-10T04:55:26.532775",
     "status": "completed"
    },
    "tags": []
   },
   "outputs": [
    {
     "data": {
      "text/html": [
       "<div>\n",
       "<style scoped>\n",
       "    .dataframe tbody tr th:only-of-type {\n",
       "        vertical-align: middle;\n",
       "    }\n",
       "\n",
       "    .dataframe tbody tr th {\n",
       "        vertical-align: top;\n",
       "    }\n",
       "\n",
       "    .dataframe thead th {\n",
       "        text-align: right;\n",
       "    }\n",
       "</style>\n",
       "<table border=\"1\" class=\"dataframe\">\n",
       "  <thead>\n",
       "    <tr style=\"text-align: right;\">\n",
       "      <th></th>\n",
       "      <th>TV</th>\n",
       "      <th>Radio</th>\n",
       "      <th>Social Media</th>\n",
       "      <th>Influencer</th>\n",
       "      <th>Sales</th>\n",
       "    </tr>\n",
       "  </thead>\n",
       "  <tbody>\n",
       "    <tr>\n",
       "      <th>0</th>\n",
       "      <td>Low</td>\n",
       "      <td>1.218354</td>\n",
       "      <td>1.270444</td>\n",
       "      <td>Micro</td>\n",
       "      <td>90.054222</td>\n",
       "    </tr>\n",
       "    <tr>\n",
       "      <th>1</th>\n",
       "      <td>Medium</td>\n",
       "      <td>14.949791</td>\n",
       "      <td>0.274451</td>\n",
       "      <td>Macro</td>\n",
       "      <td>222.741668</td>\n",
       "    </tr>\n",
       "    <tr>\n",
       "      <th>2</th>\n",
       "      <td>Low</td>\n",
       "      <td>10.377258</td>\n",
       "      <td>0.061984</td>\n",
       "      <td>Mega</td>\n",
       "      <td>102.774790</td>\n",
       "    </tr>\n",
       "    <tr>\n",
       "      <th>3</th>\n",
       "      <td>High</td>\n",
       "      <td>26.469274</td>\n",
       "      <td>7.070945</td>\n",
       "      <td>Micro</td>\n",
       "      <td>328.239378</td>\n",
       "    </tr>\n",
       "    <tr>\n",
       "      <th>4</th>\n",
       "      <td>High</td>\n",
       "      <td>36.876302</td>\n",
       "      <td>7.618605</td>\n",
       "      <td>Mega</td>\n",
       "      <td>351.807328</td>\n",
       "    </tr>\n",
       "    <tr>\n",
       "      <th>5</th>\n",
       "      <td>High</td>\n",
       "      <td>25.561910</td>\n",
       "      <td>5.459718</td>\n",
       "      <td>Micro</td>\n",
       "      <td>261.966812</td>\n",
       "    </tr>\n",
       "    <tr>\n",
       "      <th>6</th>\n",
       "      <td>High</td>\n",
       "      <td>37.263819</td>\n",
       "      <td>6.886535</td>\n",
       "      <td>Nano</td>\n",
       "      <td>349.861575</td>\n",
       "    </tr>\n",
       "    <tr>\n",
       "      <th>7</th>\n",
       "      <td>Low</td>\n",
       "      <td>13.187256</td>\n",
       "      <td>2.766352</td>\n",
       "      <td>Macro</td>\n",
       "      <td>140.415286</td>\n",
       "    </tr>\n",
       "    <tr>\n",
       "      <th>8</th>\n",
       "      <td>High</td>\n",
       "      <td>29.520170</td>\n",
       "      <td>2.333157</td>\n",
       "      <td>Nano</td>\n",
       "      <td>264.592233</td>\n",
       "    </tr>\n",
       "    <tr>\n",
       "      <th>9</th>\n",
       "      <td>Low</td>\n",
       "      <td>3.773287</td>\n",
       "      <td>0.135074</td>\n",
       "      <td>Nano</td>\n",
       "      <td>55.674214</td>\n",
       "    </tr>\n",
       "  </tbody>\n",
       "</table>\n",
       "</div>"
      ],
      "text/plain": [
       "       TV      Radio  Social Media Influencer       Sales\n",
       "0     Low   1.218354      1.270444      Micro   90.054222\n",
       "1  Medium  14.949791      0.274451      Macro  222.741668\n",
       "2     Low  10.377258      0.061984       Mega  102.774790\n",
       "3    High  26.469274      7.070945      Micro  328.239378\n",
       "4    High  36.876302      7.618605       Mega  351.807328\n",
       "5    High  25.561910      5.459718      Micro  261.966812\n",
       "6    High  37.263819      6.886535       Nano  349.861575\n",
       "7     Low  13.187256      2.766352      Macro  140.415286\n",
       "8    High  29.520170      2.333157       Nano  264.592233\n",
       "9     Low   3.773287      0.135074       Nano   55.674214"
      ]
     },
     "execution_count": 3,
     "metadata": {},
     "output_type": "execute_result"
    }
   ],
   "source": [
    "# Display the first 10 rows of the data.\n",
    "\n",
    "### YOUR CODE HERE ###\n",
    "\n",
    "data.head(10)"
   ]
  },
  {
   "cell_type": "markdown",
   "id": "9e94f414",
   "metadata": {
    "id": "49881dfd-4532-424f-9729-f5378d984df0",
    "jp-MarkdownHeadingCollapsed": true,
    "papermill": {
     "duration": 0.017946,
     "end_time": "2025-02-10T04:55:26.631048",
     "exception": false,
     "start_time": "2025-02-10T04:55:26.613102",
     "status": "completed"
    },
    "tags": []
   },
   "source": [
    "<details>\n",
    "  <summary><h4><strong>Hint 1</strong></h4></summary>\n",
    "\n",
    "Refer to what you learned about exploring datasets in Python.\n",
    "\n",
    "</details>"
   ]
  },
  {
   "cell_type": "markdown",
   "id": "faed677e",
   "metadata": {
    "id": "k2QxFOi9HW1Q",
    "jp-MarkdownHeadingCollapsed": true,
    "papermill": {
     "duration": 0.01765,
     "end_time": "2025-02-10T04:55:26.667846",
     "exception": false,
     "start_time": "2025-02-10T04:55:26.650196",
     "status": "completed"
    },
    "tags": []
   },
   "source": [
    "<details>\n",
    "  <summary><h4><strong>Hint 2</strong></h4></summary>\n",
    "\n",
    "  There is a function in the `pandas` library that allows you to get a specific number of rows from the top of a DataFrame.\n",
    " \n",
    "\n",
    "</details>"
   ]
  },
  {
   "cell_type": "markdown",
   "id": "47480d18",
   "metadata": {
    "id": "ptkclWFzHjHv",
    "papermill": {
     "duration": 0.017395,
     "end_time": "2025-02-10T04:55:26.703891",
     "exception": false,
     "start_time": "2025-02-10T04:55:26.686496",
     "status": "completed"
    },
    "tags": []
   },
   "source": [
    "<details>\n",
    "  <summary><h4><strong>Hint 3</strong></h4></summary>\n",
    "\n",
    "Use the `head()` function from the `pandas` library. \n",
    "\n",
    "</details>"
   ]
  },
  {
   "cell_type": "markdown",
   "id": "21cdb8db",
   "metadata": {
    "id": "70e40948-980d-41b1-a17d-78ecfd62ab21",
    "papermill": {
     "duration": 0.0692,
     "end_time": "2025-02-10T04:55:26.790809",
     "exception": false,
     "start_time": "2025-02-10T04:55:26.721609",
     "status": "completed"
    },
    "tags": []
   },
   "source": [
    "**Question:** What do you observe about the different variables included in the data?"
   ]
  },
  {
   "cell_type": "markdown",
   "id": "27b5d991",
   "metadata": {
    "id": "Eh2HFr3CiPiC",
    "papermill": {
     "duration": 0.017364,
     "end_time": "2025-02-10T04:55:26.825980",
     "exception": false,
     "start_time": "2025-02-10T04:55:26.808616",
     "status": "completed"
    },
    "tags": []
   },
   "source": [
    "* TV and Influencer columns are budgets in those fields as categorical data \n",
    "* Radio and Social Media are budgets in those fields as numerical data\n",
    "* Sales column indicates the total revenue in sales consolidated across all campaigns"
   ]
  },
  {
   "cell_type": "markdown",
   "id": "4ad01ca5",
   "metadata": {
    "id": "d7dafc3d-ae53-471e-a91e-2b177dee576a",
    "papermill": {
     "duration": 0.017219,
     "end_time": "2025-02-10T04:55:26.860959",
     "exception": false,
     "start_time": "2025-02-10T04:55:26.843740",
     "status": "completed"
    },
    "tags": []
   },
   "source": [
    "Next, to get a sense of the size of the dataset, identify the number of rows and the number of columns."
   ]
  },
  {
   "cell_type": "code",
   "execution_count": 4,
   "id": "0406a451",
   "metadata": {
    "execution": {
     "iopub.execute_input": "2025-02-10T04:55:26.897607Z",
     "iopub.status.busy": "2025-02-10T04:55:26.897195Z",
     "iopub.status.idle": "2025-02-10T04:55:26.903631Z",
     "shell.execute_reply": "2025-02-10T04:55:26.902228Z"
    },
    "id": "829c217b-5504-4b01-9f2f-ef4530c5d6a5",
    "papermill": {
     "duration": 0.027022,
     "end_time": "2025-02-10T04:55:26.905487",
     "exception": false,
     "start_time": "2025-02-10T04:55:26.878465",
     "status": "completed"
    },
    "tags": []
   },
   "outputs": [
    {
     "data": {
      "text/plain": [
       "(572, 5)"
      ]
     },
     "execution_count": 4,
     "metadata": {},
     "output_type": "execute_result"
    }
   ],
   "source": [
    "# Display number of rows, number of columns.\n",
    "\n",
    "### YOUR CODE HERE ###\n",
    "\n",
    "data.shape"
   ]
  },
  {
   "cell_type": "markdown",
   "id": "5a3c6ab0",
   "metadata": {
    "id": "AlENNCbBChZd",
    "jp-MarkdownHeadingCollapsed": true,
    "papermill": {
     "duration": 0.01849,
     "end_time": "2025-02-10T04:55:26.943236",
     "exception": false,
     "start_time": "2025-02-10T04:55:26.924746",
     "status": "completed"
    },
    "tags": []
   },
   "source": [
    "<details>\n",
    "  <summary><h4><strong>Hint 1</strong></h4></summary>\n",
    "\n",
    "Refer to what you learned about exploring datasets in Python.\n",
    "\n",
    "</details>"
   ]
  },
  {
   "cell_type": "markdown",
   "id": "121de0ee",
   "metadata": {
    "id": "Wq72auJsChZf",
    "jp-MarkdownHeadingCollapsed": true,
    "papermill": {
     "duration": 0.018078,
     "end_time": "2025-02-10T04:55:26.979702",
     "exception": false,
     "start_time": "2025-02-10T04:55:26.961624",
     "status": "completed"
    },
    "tags": []
   },
   "source": [
    "<details>\n",
    "  <summary><h4><strong>Hint 2</strong></h4></summary>\n",
    "\n",
    "There is a property in every DataFrame in `pandas` that gives you access to the number of rows and the number of columns as a tuple.\n",
    "\n",
    "</details>"
   ]
  },
  {
   "cell_type": "markdown",
   "id": "1b75b3a4",
   "metadata": {
    "id": "QhI8U7wkChZg",
    "papermill": {
     "duration": 0.018469,
     "end_time": "2025-02-10T04:55:27.016494",
     "exception": false,
     "start_time": "2025-02-10T04:55:26.998025",
     "status": "completed"
    },
    "tags": []
   },
   "source": [
    "<details>\n",
    "  <summary><h4><strong>Hint 3</strong></h4></summary>\n",
    "\n",
    "Use the `shape` property.\n",
    "\n",
    "</details>"
   ]
  },
  {
   "cell_type": "markdown",
   "id": "90f89c2e",
   "metadata": {
    "id": "3c5721af-2d79-4d2c-a0b1-d38d2b154d47",
    "papermill": {
     "duration": 0.018451,
     "end_time": "2025-02-10T04:55:27.053466",
     "exception": false,
     "start_time": "2025-02-10T04:55:27.035015",
     "status": "completed"
    },
    "tags": []
   },
   "source": [
    "**Question:** How many rows and columns exist in the data?"
   ]
  },
  {
   "cell_type": "markdown",
   "id": "91454a26",
   "metadata": {
    "id": "OyHSIQkxiQp5",
    "papermill": {
     "duration": 0.018403,
     "end_time": "2025-02-10T04:55:27.090338",
     "exception": false,
     "start_time": "2025-02-10T04:55:27.071935",
     "status": "completed"
    },
    "tags": []
   },
   "source": [
    "* rows --> 572\n",
    "* columns --> 5"
   ]
  },
  {
   "cell_type": "markdown",
   "id": "d4699d14",
   "metadata": {
    "papermill": {
     "duration": 0.018952,
     "end_time": "2025-02-10T04:55:27.128399",
     "exception": false,
     "start_time": "2025-02-10T04:55:27.109447",
     "status": "completed"
    },
    "tags": []
   },
   "source": [
    "Now, check for missing values in the rows of the data. This is important because missing values are not that meaningful when modeling the relationship between two variables. To do so, begin by getting Booleans that indicate whether each value in the data is missing. Then, check both columns and rows for missing values."
   ]
  },
  {
   "cell_type": "code",
   "execution_count": 5,
   "id": "22db1ccf",
   "metadata": {
    "execution": {
     "iopub.execute_input": "2025-02-10T04:55:27.167230Z",
     "iopub.status.busy": "2025-02-10T04:55:27.166851Z",
     "iopub.status.idle": "2025-02-10T04:55:27.182553Z",
     "shell.execute_reply": "2025-02-10T04:55:27.181496Z"
    },
    "id": "a087e249-4392-4168-80ee-153dfbd9660f",
    "papermill": {
     "duration": 0.037156,
     "end_time": "2025-02-10T04:55:27.184194",
     "exception": false,
     "start_time": "2025-02-10T04:55:27.147038",
     "status": "completed"
    },
    "tags": []
   },
   "outputs": [
    {
     "data": {
      "text/html": [
       "<div>\n",
       "<style scoped>\n",
       "    .dataframe tbody tr th:only-of-type {\n",
       "        vertical-align: middle;\n",
       "    }\n",
       "\n",
       "    .dataframe tbody tr th {\n",
       "        vertical-align: top;\n",
       "    }\n",
       "\n",
       "    .dataframe thead th {\n",
       "        text-align: right;\n",
       "    }\n",
       "</style>\n",
       "<table border=\"1\" class=\"dataframe\">\n",
       "  <thead>\n",
       "    <tr style=\"text-align: right;\">\n",
       "      <th></th>\n",
       "      <th>TV</th>\n",
       "      <th>Radio</th>\n",
       "      <th>Social Media</th>\n",
       "      <th>Influencer</th>\n",
       "      <th>Sales</th>\n",
       "    </tr>\n",
       "  </thead>\n",
       "  <tbody>\n",
       "    <tr>\n",
       "      <th>0</th>\n",
       "      <td>False</td>\n",
       "      <td>False</td>\n",
       "      <td>False</td>\n",
       "      <td>False</td>\n",
       "      <td>False</td>\n",
       "    </tr>\n",
       "    <tr>\n",
       "      <th>1</th>\n",
       "      <td>False</td>\n",
       "      <td>False</td>\n",
       "      <td>False</td>\n",
       "      <td>False</td>\n",
       "      <td>False</td>\n",
       "    </tr>\n",
       "    <tr>\n",
       "      <th>2</th>\n",
       "      <td>False</td>\n",
       "      <td>False</td>\n",
       "      <td>False</td>\n",
       "      <td>False</td>\n",
       "      <td>False</td>\n",
       "    </tr>\n",
       "    <tr>\n",
       "      <th>3</th>\n",
       "      <td>False</td>\n",
       "      <td>False</td>\n",
       "      <td>False</td>\n",
       "      <td>False</td>\n",
       "      <td>False</td>\n",
       "    </tr>\n",
       "    <tr>\n",
       "      <th>4</th>\n",
       "      <td>False</td>\n",
       "      <td>False</td>\n",
       "      <td>False</td>\n",
       "      <td>False</td>\n",
       "      <td>False</td>\n",
       "    </tr>\n",
       "    <tr>\n",
       "      <th>...</th>\n",
       "      <td>...</td>\n",
       "      <td>...</td>\n",
       "      <td>...</td>\n",
       "      <td>...</td>\n",
       "      <td>...</td>\n",
       "    </tr>\n",
       "    <tr>\n",
       "      <th>567</th>\n",
       "      <td>False</td>\n",
       "      <td>False</td>\n",
       "      <td>False</td>\n",
       "      <td>False</td>\n",
       "      <td>False</td>\n",
       "    </tr>\n",
       "    <tr>\n",
       "      <th>568</th>\n",
       "      <td>False</td>\n",
       "      <td>False</td>\n",
       "      <td>False</td>\n",
       "      <td>False</td>\n",
       "      <td>False</td>\n",
       "    </tr>\n",
       "    <tr>\n",
       "      <th>569</th>\n",
       "      <td>False</td>\n",
       "      <td>False</td>\n",
       "      <td>False</td>\n",
       "      <td>False</td>\n",
       "      <td>False</td>\n",
       "    </tr>\n",
       "    <tr>\n",
       "      <th>570</th>\n",
       "      <td>False</td>\n",
       "      <td>False</td>\n",
       "      <td>False</td>\n",
       "      <td>False</td>\n",
       "      <td>False</td>\n",
       "    </tr>\n",
       "    <tr>\n",
       "      <th>571</th>\n",
       "      <td>False</td>\n",
       "      <td>False</td>\n",
       "      <td>False</td>\n",
       "      <td>False</td>\n",
       "      <td>False</td>\n",
       "    </tr>\n",
       "  </tbody>\n",
       "</table>\n",
       "<p>572 rows × 5 columns</p>\n",
       "</div>"
      ],
      "text/plain": [
       "        TV  Radio  Social Media  Influencer  Sales\n",
       "0    False  False         False       False  False\n",
       "1    False  False         False       False  False\n",
       "2    False  False         False       False  False\n",
       "3    False  False         False       False  False\n",
       "4    False  False         False       False  False\n",
       "..     ...    ...           ...         ...    ...\n",
       "567  False  False         False       False  False\n",
       "568  False  False         False       False  False\n",
       "569  False  False         False       False  False\n",
       "570  False  False         False       False  False\n",
       "571  False  False         False       False  False\n",
       "\n",
       "[572 rows x 5 columns]"
      ]
     },
     "execution_count": 5,
     "metadata": {},
     "output_type": "execute_result"
    }
   ],
   "source": [
    "# Start with .isna() to get booleans indicating whether each value in the data is missing.\n",
    "\n",
    "### YOUR CODE HERE ###\n",
    "\n",
    "data.isna()"
   ]
  },
  {
   "cell_type": "markdown",
   "id": "cb1bcee6",
   "metadata": {
    "id": "3bd09ee1-60c5-4f88-bd50-17491f715a39",
    "papermill": {
     "duration": 0.018755,
     "end_time": "2025-02-10T04:55:27.223395",
     "exception": false,
     "start_time": "2025-02-10T04:55:27.204640",
     "status": "completed"
    },
    "tags": []
   },
   "source": [
    "If you would like to read more about the `isna()` function, refer to its documentation in the references section of this lab."
   ]
  },
  {
   "cell_type": "code",
   "execution_count": 6,
   "id": "572ded53",
   "metadata": {
    "execution": {
     "iopub.execute_input": "2025-02-10T04:55:27.262278Z",
     "iopub.status.busy": "2025-02-10T04:55:27.261889Z",
     "iopub.status.idle": "2025-02-10T04:55:27.270552Z",
     "shell.execute_reply": "2025-02-10T04:55:27.269324Z"
    },
    "id": "f08b6e59-daf5-4aca-a63e-7b7f0c188449",
    "papermill": {
     "duration": 0.030487,
     "end_time": "2025-02-10T04:55:27.272514",
     "exception": false,
     "start_time": "2025-02-10T04:55:27.242027",
     "status": "completed"
    },
    "tags": []
   },
   "outputs": [
    {
     "data": {
      "text/plain": [
       "0      False\n",
       "1      False\n",
       "2      False\n",
       "3      False\n",
       "4      False\n",
       "       ...  \n",
       "567    False\n",
       "568    False\n",
       "569    False\n",
       "570    False\n",
       "571    False\n",
       "Length: 572, dtype: bool"
      ]
     },
     "execution_count": 6,
     "metadata": {},
     "output_type": "execute_result"
    }
   ],
   "source": [
    "# Use .any(axis=1) to get booleans indicating whether there are any missing values along the columns in each row.\n",
    "\n",
    "### YOUR CODE HERE ###\n",
    "\n",
    "data.isna().any(axis=1)"
   ]
  },
  {
   "cell_type": "markdown",
   "id": "03cef7a9",
   "metadata": {
    "id": "e6bc866e-b4da-4562-b066-3f1201b0e0c1",
    "papermill": {
     "duration": 0.021911,
     "end_time": "2025-02-10T04:55:27.315289",
     "exception": false,
     "start_time": "2025-02-10T04:55:27.293378",
     "status": "completed"
    },
    "tags": []
   },
   "source": [
    "If you would like to read more about the `any()` function, refer to its documentation in the references section of this lab."
   ]
  },
  {
   "cell_type": "code",
   "execution_count": 7,
   "id": "bb069a1b",
   "metadata": {
    "execution": {
     "iopub.execute_input": "2025-02-10T04:55:27.354065Z",
     "iopub.status.busy": "2025-02-10T04:55:27.353660Z",
     "iopub.status.idle": "2025-02-10T04:55:27.361511Z",
     "shell.execute_reply": "2025-02-10T04:55:27.360220Z"
    },
    "id": "8e403e86-0a72-44a9-8d92-dd57f9c0caca",
    "papermill": {
     "duration": 0.028925,
     "end_time": "2025-02-10T04:55:27.363262",
     "exception": false,
     "start_time": "2025-02-10T04:55:27.334337",
     "status": "completed"
    },
    "tags": []
   },
   "outputs": [
    {
     "data": {
      "text/plain": [
       "3"
      ]
     },
     "execution_count": 7,
     "metadata": {},
     "output_type": "execute_result"
    }
   ],
   "source": [
    "# Use .sum() to get the number of rows that contain missing values.\n",
    "\n",
    "### YOUR CODE HERE ###\n",
    "\n",
    "data.isna().any(axis=1).sum()"
   ]
  },
  {
   "cell_type": "markdown",
   "id": "ccf95888",
   "metadata": {
    "id": "8e75b7b7-8474-4eb7-9616-3f1dc017db86",
    "papermill": {
     "duration": 0.017817,
     "end_time": "2025-02-10T04:55:27.399268",
     "exception": false,
     "start_time": "2025-02-10T04:55:27.381451",
     "status": "completed"
    },
    "tags": []
   },
   "source": [
    "If you would like to read more about the `sum()` function, refer to its documentation in the references section of this lab."
   ]
  },
  {
   "cell_type": "markdown",
   "id": "ac18e8c7",
   "metadata": {
    "id": "1b0da416-2142-4109-b1ca-48d0e620f2b2",
    "papermill": {
     "duration": 0.018027,
     "end_time": "2025-02-10T04:55:27.435313",
     "exception": false,
     "start_time": "2025-02-10T04:55:27.417286",
     "status": "completed"
    },
    "tags": []
   },
   "source": [
    "**Question:** How many rows containing missing values?"
   ]
  },
  {
   "cell_type": "markdown",
   "id": "01e0db24",
   "metadata": {
    "id": "f9ActhhsiR0p",
    "papermill": {
     "duration": 0.018677,
     "end_time": "2025-02-10T04:55:27.472657",
     "exception": false,
     "start_time": "2025-02-10T04:55:27.453980",
     "status": "completed"
    },
    "tags": []
   },
   "source": [
    "* 3 rows has missing (Null) values"
   ]
  },
  {
   "cell_type": "markdown",
   "id": "d25d4a69",
   "metadata": {
    "id": "378974cf-892b-43f9-80fc-7b7271531915",
    "papermill": {
     "duration": 0.019037,
     "end_time": "2025-02-10T04:55:27.509958",
     "exception": false,
     "start_time": "2025-02-10T04:55:27.490921",
     "status": "completed"
    },
    "tags": []
   },
   "source": [
    "Next, drop the rows that contain missing values. Data cleaning makes your data more usable for analysis and regression. Then, check to make sure that the resulting data does not contain any rows with missing values."
   ]
  },
  {
   "cell_type": "code",
   "execution_count": 8,
   "id": "876cd7c7",
   "metadata": {
    "execution": {
     "iopub.execute_input": "2025-02-10T04:55:27.548509Z",
     "iopub.status.busy": "2025-02-10T04:55:27.548102Z",
     "iopub.status.idle": "2025-02-10T04:55:27.563182Z",
     "shell.execute_reply": "2025-02-10T04:55:27.562037Z"
    },
    "id": "fed80cba-aa90-4c9d-a9d9-d995fa9a649d",
    "papermill": {
     "duration": 0.036113,
     "end_time": "2025-02-10T04:55:27.564804",
     "exception": false,
     "start_time": "2025-02-10T04:55:27.528691",
     "status": "completed"
    },
    "tags": []
   },
   "outputs": [
    {
     "data": {
      "text/html": [
       "<div>\n",
       "<style scoped>\n",
       "    .dataframe tbody tr th:only-of-type {\n",
       "        vertical-align: middle;\n",
       "    }\n",
       "\n",
       "    .dataframe tbody tr th {\n",
       "        vertical-align: top;\n",
       "    }\n",
       "\n",
       "    .dataframe thead th {\n",
       "        text-align: right;\n",
       "    }\n",
       "</style>\n",
       "<table border=\"1\" class=\"dataframe\">\n",
       "  <thead>\n",
       "    <tr style=\"text-align: right;\">\n",
       "      <th></th>\n",
       "      <th>TV</th>\n",
       "      <th>Radio</th>\n",
       "      <th>Social Media</th>\n",
       "      <th>Influencer</th>\n",
       "      <th>Sales</th>\n",
       "    </tr>\n",
       "  </thead>\n",
       "  <tbody>\n",
       "    <tr>\n",
       "      <th>567</th>\n",
       "      <td>High</td>\n",
       "      <td>28.210738</td>\n",
       "      <td>4.373466</td>\n",
       "      <td>Micro</td>\n",
       "      <td>302.887998</td>\n",
       "    </tr>\n",
       "    <tr>\n",
       "      <th>568</th>\n",
       "      <td>Medium</td>\n",
       "      <td>23.578661</td>\n",
       "      <td>2.856657</td>\n",
       "      <td>Mega</td>\n",
       "      <td>232.555023</td>\n",
       "    </tr>\n",
       "    <tr>\n",
       "      <th>569</th>\n",
       "      <td>Low</td>\n",
       "      <td>9.169824</td>\n",
       "      <td>0.067279</td>\n",
       "      <td>Nano</td>\n",
       "      <td>73.888838</td>\n",
       "    </tr>\n",
       "    <tr>\n",
       "      <th>570</th>\n",
       "      <td>Low</td>\n",
       "      <td>11.563403</td>\n",
       "      <td>1.727947</td>\n",
       "      <td>Nano</td>\n",
       "      <td>121.949570</td>\n",
       "    </tr>\n",
       "    <tr>\n",
       "      <th>571</th>\n",
       "      <td>Medium</td>\n",
       "      <td>18.814801</td>\n",
       "      <td>3.440682</td>\n",
       "      <td>Mega</td>\n",
       "      <td>182.511614</td>\n",
       "    </tr>\n",
       "  </tbody>\n",
       "</table>\n",
       "</div>"
      ],
      "text/plain": [
       "         TV      Radio  Social Media Influencer       Sales\n",
       "567    High  28.210738      4.373466      Micro  302.887998\n",
       "568  Medium  23.578661      2.856657       Mega  232.555023\n",
       "569     Low   9.169824      0.067279       Nano   73.888838\n",
       "570     Low  11.563403      1.727947       Nano  121.949570\n",
       "571  Medium  18.814801      3.440682       Mega  182.511614"
      ]
     },
     "execution_count": 8,
     "metadata": {},
     "output_type": "execute_result"
    }
   ],
   "source": [
    "# Use .dropna(axis=0) to indicate that you want rows which contain missing values to be dropped. To update the DataFrame, reassign it to the result.\n",
    "\n",
    "### YOUR CODE HERE ###\n",
    "\n",
    "data = data.dropna(axis=0)\n",
    "\n",
    "data.tail()"
   ]
  },
  {
   "cell_type": "code",
   "execution_count": 9,
   "id": "39204dfd",
   "metadata": {
    "execution": {
     "iopub.execute_input": "2025-02-10T04:55:27.605306Z",
     "iopub.status.busy": "2025-02-10T04:55:27.604901Z",
     "iopub.status.idle": "2025-02-10T04:55:27.612151Z",
     "shell.execute_reply": "2025-02-10T04:55:27.611056Z"
    },
    "id": "540f9c5d-5036-4df3-976b-2c1348a235fe",
    "papermill": {
     "duration": 0.029385,
     "end_time": "2025-02-10T04:55:27.614089",
     "exception": false,
     "start_time": "2025-02-10T04:55:27.584704",
     "status": "completed"
    },
    "tags": []
   },
   "outputs": [
    {
     "data": {
      "text/plain": [
       "0"
      ]
     },
     "execution_count": 9,
     "metadata": {},
     "output_type": "execute_result"
    }
   ],
   "source": [
    "# Start with .isna() to get booleans indicating whether each value in the data is missing.\n",
    "# Use .any(axis=1) to get booleans indicating whether there are any missing values along the columns in each row.\n",
    "# Use .sum() to get the number of rows that contain missing values\n",
    "\n",
    "### YOUR CODE HERE ###\n",
    "\n",
    "data.isna().any(axis=1).sum()"
   ]
  },
  {
   "cell_type": "markdown",
   "id": "dfb7b8b7",
   "metadata": {
    "id": "04271393-b4a7-40b8-8cfd-6dfd815f52bd",
    "papermill": {
     "duration": 0.019194,
     "end_time": "2025-02-10T04:55:27.653541",
     "exception": false,
     "start_time": "2025-02-10T04:55:27.634347",
     "status": "completed"
    },
    "tags": []
   },
   "source": [
    "The next step for this task is checking model assumptions. To explore the relationship between radio promotion budget and sales, model the relationship using linear regression. Begin by confirming whether the model assumptions for linear regression can be made in this context. \n",
    "\n",
    "**Note:** Some of the assumptions can be addressed before the model is built. These will be addressed in this section. After the model is built, you will finish checking the assumptions."
   ]
  },
  {
   "cell_type": "markdown",
   "id": "3454c029",
   "metadata": {
    "id": "0781c130-3f65-4fcb-a137-cd6b3e057187",
    "papermill": {
     "duration": 0.018928,
     "end_time": "2025-02-10T04:55:27.691994",
     "exception": false,
     "start_time": "2025-02-10T04:55:27.673066",
     "status": "completed"
    },
    "tags": []
   },
   "source": [
    "Create a plot of pairwise relationships in the data. This will help you visualize the relationships and check model assumptions. "
   ]
  },
  {
   "cell_type": "code",
   "execution_count": 10,
   "id": "df55193d",
   "metadata": {
    "execution": {
     "iopub.execute_input": "2025-02-10T04:55:27.731508Z",
     "iopub.status.busy": "2025-02-10T04:55:27.731110Z",
     "iopub.status.idle": "2025-02-10T04:55:30.209456Z",
     "shell.execute_reply": "2025-02-10T04:55:30.208230Z"
    },
    "id": "cfb20968-e969-495b-9b34-1de2d7b110f6",
    "papermill": {
     "duration": 2.502676,
     "end_time": "2025-02-10T04:55:30.213732",
     "exception": false,
     "start_time": "2025-02-10T04:55:27.711056",
     "status": "completed"
    },
    "tags": []
   },
   "outputs": [
    {
     "name": "stderr",
     "output_type": "stream",
     "text": [
      "/usr/local/lib/python3.10/dist-packages/seaborn/_oldcore.py:1119: FutureWarning: use_inf_as_na option is deprecated and will be removed in a future version. Convert inf values to NaN before operating instead.\n",
      "  with pd.option_context('mode.use_inf_as_na', True):\n",
      "/usr/local/lib/python3.10/dist-packages/seaborn/_oldcore.py:1119: FutureWarning: use_inf_as_na option is deprecated and will be removed in a future version. Convert inf values to NaN before operating instead.\n",
      "  with pd.option_context('mode.use_inf_as_na', True):\n",
      "/usr/local/lib/python3.10/dist-packages/seaborn/_oldcore.py:1119: FutureWarning: use_inf_as_na option is deprecated and will be removed in a future version. Convert inf values to NaN before operating instead.\n",
      "  with pd.option_context('mode.use_inf_as_na', True):\n"
     ]
    },
    {
     "data": {
      "text/plain": [
       "<seaborn.axisgrid.PairGrid at 0x7f21cdc3ab90>"
      ]
     },
     "execution_count": 10,
     "metadata": {},
     "output_type": "execute_result"
    },
    {
     "data": {
      "image/png": "[encoded data removed]",
      "text/plain": [
       "<Figure size 750x750 with 12 Axes>"
      ]
     },
     "metadata": {},
     "output_type": "display_data"
    }
   ],
   "source": [
    "# Create plot of pairwise relationships.\n",
    "\n",
    "### YOUR CODE HERE ###\n",
    "\n",
    "sns.pairplot(data)"
   ]
  },
  {
   "cell_type": "markdown",
   "id": "d692b6e6",
   "metadata": {
    "id": "aba2029f-5371-4214-8497-9a8be492c68b",
    "papermill": {
     "duration": 0.02303,
     "end_time": "2025-02-10T04:55:30.261162",
     "exception": false,
     "start_time": "2025-02-10T04:55:30.238132",
     "status": "completed"
    },
    "tags": []
   },
   "source": [
    "<details>\n",
    "<summary><h4><strong>Hint 1</strong></h4></summary>\n",
    "\n",
    "Refer to the video section about creating a plot that shows the relationships between pairs of variables.\n",
    "\n",
    "</details>"
   ]
  },
  {
   "cell_type": "markdown",
   "id": "d3ecfef2",
   "metadata": {
    "id": "eecb9ac6-6cae-4b86-b2dc-b6f07b19a6bf",
    "jp-MarkdownHeadingCollapsed": true,
    "papermill": {
     "duration": 0.025244,
     "end_time": "2025-02-10T04:55:30.309802",
     "exception": false,
     "start_time": "2025-02-10T04:55:30.284558",
     "status": "completed"
    },
    "tags": []
   },
   "source": [
    "<details>\n",
    "<summary><h4><strong>Hint 2</strong></h4></summary>\n",
    "\n",
    "  There is a function in the `seaborn` library that you can call to create a plot that shows the \n",
    "  relationships between pairs of variables.\n",
    "\n",
    "</details>"
   ]
  },
  {
   "cell_type": "markdown",
   "id": "22736348",
   "metadata": {
    "id": "edfdd31e-85f3-4d25-837f-72c09e93110d",
    "papermill": {
     "duration": 0.023095,
     "end_time": "2025-02-10T04:55:30.356072",
     "exception": false,
     "start_time": "2025-02-10T04:55:30.332977",
     "status": "completed"
    },
    "tags": []
   },
   "source": [
    "<details>\n",
    "<summary><h4><strong>Hint 3</strong></h4></summary>\n",
    "\n",
    "Call the `pairplot()` function from the `seaborn` library.\n",
    "\n",
    "</details>"
   ]
  },
  {
   "cell_type": "markdown",
   "id": "0cb49907",
   "metadata": {
    "id": "4119330d-82f9-4075-8c12-3db273bdf9b3",
    "papermill": {
     "duration": 0.023358,
     "end_time": "2025-02-10T04:55:30.402592",
     "exception": false,
     "start_time": "2025-02-10T04:55:30.379234",
     "status": "completed"
    },
    "tags": []
   },
   "source": [
    "**Question:** Is the assumption of linearity met?"
   ]
  },
  {
   "cell_type": "markdown",
   "id": "b4757cba",
   "metadata": {
    "id": "bp7NAEpyiTXH",
    "papermill": {
     "duration": 0.023025,
     "end_time": "2025-02-10T04:55:30.449154",
     "exception": false,
     "start_time": "2025-02-10T04:55:30.426129",
     "status": "completed"
    },
    "tags": []
   },
   "source": [
    "* Radio and Sales variables appears to be linear"
   ]
  },
  {
   "cell_type": "markdown",
   "id": "2afad790",
   "metadata": {
    "id": "1be09689-a693-4059-adeb-945ce8e4e117",
    "jp-MarkdownHeadingCollapsed": true,
    "papermill": {
     "duration": 0.023327,
     "end_time": "2025-02-10T04:55:30.495900",
     "exception": false,
     "start_time": "2025-02-10T04:55:30.472573",
     "status": "completed"
    },
    "tags": []
   },
   "source": [
    "<details>\n",
    "<summary><h4><strong>Hint 1</strong></h4></summary>\n",
    "\n",
    "Refer to the video section about checking model assumptions for linear regression.\n",
    "\n",
    "</details>"
   ]
  },
  {
   "cell_type": "markdown",
   "id": "ce42b238",
   "metadata": {
    "id": "e88fc7fe-ce13-4a05-8b46-68f6e82516e7",
    "jp-MarkdownHeadingCollapsed": true,
    "papermill": {
     "duration": 0.023642,
     "end_time": "2025-02-10T04:55:30.543348",
     "exception": false,
     "start_time": "2025-02-10T04:55:30.519706",
     "status": "completed"
    },
    "tags": []
   },
   "source": [
    "<details>\n",
    "<summary><h4><strong>Hint 2</strong></h4></summary>\n",
    "\n",
    "  Use the scatterplot of `Sales` over `Radio` found in the preceding plot of pairwise relationships. \n",
    "\n",
    "</details>"
   ]
  },
  {
   "cell_type": "markdown",
   "id": "854b26c7",
   "metadata": {
    "id": "9234580a-503a-47b4-83d2-ba8ee46ec407",
    "papermill": {
     "duration": 0.023377,
     "end_time": "2025-02-10T04:55:30.590790",
     "exception": false,
     "start_time": "2025-02-10T04:55:30.567413",
     "status": "completed"
    },
    "tags": []
   },
   "source": [
    "<details>\n",
    "<summary><h4><strong>Hint 3</strong></h4></summary>\n",
    "\n",
    "  Check the scatterplot of `Sales` over `Radio` found in the plot of pairwise relationships. If the data points cluster around a line, that indicates that the assumption of linearity is met. Alternatively, if the data points resemble a random cloud or a curve, then a linear model may not fit the data.  \n",
    "\n",
    "</details>"
   ]
  },
  {
   "cell_type": "markdown",
   "id": "0994bc2f",
   "metadata": {
    "id": "39ab5dd9-ea2a-46ce-b3a3-8077d52a833a",
    "papermill": {
     "duration": 0.023247,
     "end_time": "2025-02-10T04:55:30.637693",
     "exception": false,
     "start_time": "2025-02-10T04:55:30.614446",
     "status": "completed"
    },
    "tags": []
   },
   "source": [
    "## **Step 3: Model building** "
   ]
  },
  {
   "cell_type": "markdown",
   "id": "3a7fdbf5",
   "metadata": {
    "id": "3cd2422c-0f5e-4ac7-89ed-52803d971555",
    "papermill": {
     "duration": 0.023286,
     "end_time": "2025-02-10T04:55:30.685869",
     "exception": false,
     "start_time": "2025-02-10T04:55:30.662583",
     "status": "completed"
    },
    "tags": []
   },
   "source": [
    "Select only the columns that are needed for the model."
   ]
  },
  {
   "cell_type": "code",
   "execution_count": 11,
   "id": "d91b2610",
   "metadata": {
    "execution": {
     "iopub.execute_input": "2025-02-10T04:55:30.733668Z",
     "iopub.status.busy": "2025-02-10T04:55:30.733286Z",
     "iopub.status.idle": "2025-02-10T04:55:30.738761Z",
     "shell.execute_reply": "2025-02-10T04:55:30.737547Z"
    },
    "id": "17701ff3-82f0-4300-90c0-bca6ccce01eb",
    "papermill": {
     "duration": 0.03189,
     "end_time": "2025-02-10T04:55:30.740773",
     "exception": false,
     "start_time": "2025-02-10T04:55:30.708883",
     "status": "completed"
    },
    "tags": []
   },
   "outputs": [],
   "source": [
    "# Select relevant columns.\n",
    "# Save resulting DataFrame in a separate variable to prepare for regression.\n",
    "\n",
    "### YOUR CODE HERE ###\n",
    "\n",
    "ols_data = data[ ['Radio', 'Sales'] ]\n"
   ]
  },
  {
   "cell_type": "markdown",
   "id": "97c879b2",
   "metadata": {
    "id": "e4c39136-f4d6-43a2-950a-e76db253f8c5",
    "jp-MarkdownHeadingCollapsed": true,
    "papermill": {
     "duration": 0.026729,
     "end_time": "2025-02-10T04:55:30.791066",
     "exception": false,
     "start_time": "2025-02-10T04:55:30.764337",
     "status": "completed"
    },
    "tags": []
   },
   "source": [
    "<details>\n",
    "<summary><h4><strong>Hint 1</strong></h4></summary>\n",
    "\n",
    "Refer to the video about selecting multiple columns from a DataFrame.\n",
    "\n",
    "</details>"
   ]
  },
  {
   "cell_type": "markdown",
   "id": "104e7022",
   "metadata": {
    "id": "1a342164-70eb-4a3f-9ddf-e9a8a22a9ad1",
    "jp-MarkdownHeadingCollapsed": true,
    "papermill": {
     "duration": 0.024104,
     "end_time": "2025-02-10T04:55:30.841891",
     "exception": false,
     "start_time": "2025-02-10T04:55:30.817787",
     "status": "completed"
    },
    "tags": []
   },
   "source": [
    "<details>\n",
    "<summary><h4><strong>Hint 2</strong></h4></summary>\n",
    "\n",
    "  Use two pairs of square brackets around the names of the columns that should be selected.\n",
    "\n",
    "</details>"
   ]
  },
  {
   "cell_type": "markdown",
   "id": "86aeb8c9",
   "metadata": {
    "id": "260ce4a1-10b9-420b-be6d-b3e109227bd1",
    "papermill": {
     "duration": 0.023058,
     "end_time": "2025-02-10T04:55:30.889168",
     "exception": false,
     "start_time": "2025-02-10T04:55:30.866110",
     "status": "completed"
    },
    "tags": []
   },
   "source": [
    "<details>\n",
    "<summary><h4><strong>Hint 3</strong></h4></summary>\n",
    "\n",
    "  Make sure column names are spelled exactly as they are in the data.\n",
    "\n",
    "</details>"
   ]
  },
  {
   "cell_type": "markdown",
   "id": "5eadd67a",
   "metadata": {
    "id": "1ea8080e-7f93-4ea6-a0b6-bedeaed3a856",
    "papermill": {
     "duration": 0.023128,
     "end_time": "2025-02-10T04:55:30.935854",
     "exception": false,
     "start_time": "2025-02-10T04:55:30.912726",
     "status": "completed"
    },
    "tags": []
   },
   "source": [
    "Now, display the first 10 rows of the new DataFrame to better understand the data."
   ]
  },
  {
   "cell_type": "code",
   "execution_count": 12,
   "id": "a3e148c9",
   "metadata": {
    "execution": {
     "iopub.execute_input": "2025-02-10T04:55:30.985172Z",
     "iopub.status.busy": "2025-02-10T04:55:30.984833Z",
     "iopub.status.idle": "2025-02-10T04:55:30.994840Z",
     "shell.execute_reply": "2025-02-10T04:55:30.993826Z"
    },
    "id": "39a7ccec-e572-46a8-9139-c4e159e75aae",
    "papermill": {
     "duration": 0.037565,
     "end_time": "2025-02-10T04:55:30.996906",
     "exception": false,
     "start_time": "2025-02-10T04:55:30.959341",
     "status": "completed"
    },
    "tags": []
   },
   "outputs": [
    {
     "data": {
      "text/html": [
       "<div>\n",
       "<style scoped>\n",
       "    .dataframe tbody tr th:only-of-type {\n",
       "        vertical-align: middle;\n",
       "    }\n",
       "\n",
       "    .dataframe tbody tr th {\n",
       "        vertical-align: top;\n",
       "    }\n",
       "\n",
       "    .dataframe thead th {\n",
       "        text-align: right;\n",
       "    }\n",
       "</style>\n",
       "<table border=\"1\" class=\"dataframe\">\n",
       "  <thead>\n",
       "    <tr style=\"text-align: right;\">\n",
       "      <th></th>\n",
       "      <th>Radio</th>\n",
       "      <th>Sales</th>\n",
       "    </tr>\n",
       "  </thead>\n",
       "  <tbody>\n",
       "    <tr>\n",
       "      <th>0</th>\n",
       "      <td>1.218354</td>\n",
       "      <td>90.054222</td>\n",
       "    </tr>\n",
       "    <tr>\n",
       "      <th>1</th>\n",
       "      <td>14.949791</td>\n",
       "      <td>222.741668</td>\n",
       "    </tr>\n",
       "    <tr>\n",
       "      <th>2</th>\n",
       "      <td>10.377258</td>\n",
       "      <td>102.774790</td>\n",
       "    </tr>\n",
       "    <tr>\n",
       "      <th>3</th>\n",
       "      <td>26.469274</td>\n",
       "      <td>328.239378</td>\n",
       "    </tr>\n",
       "    <tr>\n",
       "      <th>4</th>\n",
       "      <td>36.876302</td>\n",
       "      <td>351.807328</td>\n",
       "    </tr>\n",
       "    <tr>\n",
       "      <th>5</th>\n",
       "      <td>25.561910</td>\n",
       "      <td>261.966812</td>\n",
       "    </tr>\n",
       "    <tr>\n",
       "      <th>6</th>\n",
       "      <td>37.263819</td>\n",
       "      <td>349.861575</td>\n",
       "    </tr>\n",
       "    <tr>\n",
       "      <th>7</th>\n",
       "      <td>13.187256</td>\n",
       "      <td>140.415286</td>\n",
       "    </tr>\n",
       "    <tr>\n",
       "      <th>8</th>\n",
       "      <td>29.520170</td>\n",
       "      <td>264.592233</td>\n",
       "    </tr>\n",
       "    <tr>\n",
       "      <th>9</th>\n",
       "      <td>3.773287</td>\n",
       "      <td>55.674214</td>\n",
       "    </tr>\n",
       "  </tbody>\n",
       "</table>\n",
       "</div>"
      ],
      "text/plain": [
       "       Radio       Sales\n",
       "0   1.218354   90.054222\n",
       "1  14.949791  222.741668\n",
       "2  10.377258  102.774790\n",
       "3  26.469274  328.239378\n",
       "4  36.876302  351.807328\n",
       "5  25.561910  261.966812\n",
       "6  37.263819  349.861575\n",
       "7  13.187256  140.415286\n",
       "8  29.520170  264.592233\n",
       "9   3.773287   55.674214"
      ]
     },
     "execution_count": 12,
     "metadata": {},
     "output_type": "execute_result"
    }
   ],
   "source": [
    "# Display first 10 rows of the new DataFrame.\n",
    "\n",
    "### YOUR CODE HERE ###\n",
    "\n",
    "ols_data.head(10)"
   ]
  },
  {
   "cell_type": "markdown",
   "id": "7084e135",
   "metadata": {
    "id": "dcd2bea2-dbbd-4e07-85b7-ac3f3121fc20",
    "papermill": {
     "duration": 0.022447,
     "end_time": "2025-02-10T04:55:31.042596",
     "exception": false,
     "start_time": "2025-02-10T04:55:31.020149",
     "status": "completed"
    },
    "tags": []
   },
   "source": [
    "<details>\n",
    "<summary><h4><strong>Hint 1</strong></h4></summary>\n",
    "\n",
    "Refer to the video about displaying contents of a DataFrame.\n",
    "\n",
    "</details>"
   ]
  },
  {
   "cell_type": "markdown",
   "id": "091e2f71",
   "metadata": {
    "id": "119e5c4b-e37f-4832-bca5-7ea9170a1e60",
    "jp-MarkdownHeadingCollapsed": true,
    "papermill": {
     "duration": 0.022521,
     "end_time": "2025-02-10T04:55:31.087665",
     "exception": false,
     "start_time": "2025-02-10T04:55:31.065144",
     "status": "completed"
    },
    "tags": []
   },
   "source": [
    "<details>\n",
    "<summary><h4><strong>Hint 2</strong></h4></summary>\n",
    "\n",
    "  There is a function in the `pandas` library that allows you to display the first n number of rows of a DataFrame, where n is a number of your choice.\n",
    "\n",
    "</details>"
   ]
  },
  {
   "cell_type": "markdown",
   "id": "e60d93ab",
   "metadata": {
    "id": "68ec36bd-8617-43bd-be30-132fcb369db1",
    "papermill": {
     "duration": 0.023024,
     "end_time": "2025-02-10T04:55:31.133831",
     "exception": false,
     "start_time": "2025-02-10T04:55:31.110807",
     "status": "completed"
    },
    "tags": []
   },
   "source": [
    "<details>\n",
    "<summary><h4><strong>Hint 3</strong></h4></summary>\n",
    "\n",
    "  Call the `head()` function from the `pandas` library and pass in the number of rows from the top that you want to display. \n",
    "\n",
    "</details>"
   ]
  },
  {
   "cell_type": "markdown",
   "id": "24e4e897",
   "metadata": {
    "id": "be7f9869-c67e-4c87-b186-7461a00a9b37",
    "papermill": {
     "duration": 0.022728,
     "end_time": "2025-02-10T04:55:31.179454",
     "exception": false,
     "start_time": "2025-02-10T04:55:31.156726",
     "status": "completed"
    },
    "tags": []
   },
   "source": [
    "Next, write the linear regression formula for modeling the relationship between the two variables of interest."
   ]
  },
  {
   "cell_type": "code",
   "execution_count": 13,
   "id": "5181026b",
   "metadata": {
    "execution": {
     "iopub.execute_input": "2025-02-10T04:55:31.227464Z",
     "iopub.status.busy": "2025-02-10T04:55:31.227130Z",
     "iopub.status.idle": "2025-02-10T04:55:31.231129Z",
     "shell.execute_reply": "2025-02-10T04:55:31.230237Z"
    },
    "id": "f186ff9a-2c18-4cc6-acb3-3b7bf0c0c942",
    "papermill": {
     "duration": 0.030385,
     "end_time": "2025-02-10T04:55:31.232783",
     "exception": false,
     "start_time": "2025-02-10T04:55:31.202398",
     "status": "completed"
    },
    "tags": []
   },
   "outputs": [],
   "source": [
    "# Write the linear regression formula.\n",
    "# Save it in a variable.\n",
    "\n",
    "### YOUR CODE HERE ###\n",
    "\n",
    "ols_formula = 'Sales ~ Radio'"
   ]
  },
  {
   "cell_type": "markdown",
   "id": "eddda1e0",
   "metadata": {
    "id": "69f2b790-4859-4bf6-8eba-45998ddcc599",
    "papermill": {
     "duration": 0.023078,
     "end_time": "2025-02-10T04:55:31.278908",
     "exception": false,
     "start_time": "2025-02-10T04:55:31.255830",
     "status": "completed"
    },
    "tags": []
   },
   "source": [
    "<details>\n",
    "<summary><h4><strong>Hint 1</strong></h4></summary>\n",
    "\n",
    "Refer to the video section where model building for linear regression is discussed. \n",
    "\n",
    "</details>"
   ]
  },
  {
   "cell_type": "markdown",
   "id": "f437caca",
   "metadata": {
    "id": "4bf1a70c-61a8-4802-a16d-e6d8b08cc9ca",
    "papermill": {
     "duration": 0.022696,
     "end_time": "2025-02-10T04:55:31.326434",
     "exception": false,
     "start_time": "2025-02-10T04:55:31.303738",
     "status": "completed"
    },
    "tags": []
   },
   "source": [
    "<details>\n",
    "<summary><h4><strong>Hint 2</strong></h4></summary>\n",
    "\n",
    "  Save the formula as string.\n",
    "\n",
    "</details>"
   ]
  },
  {
   "cell_type": "markdown",
   "id": "5f48ac63",
   "metadata": {
    "id": "67d7406a-0074-4029-9bda-9f97f653a979",
    "papermill": {
     "duration": 0.022522,
     "end_time": "2025-02-10T04:55:31.371735",
     "exception": false,
     "start_time": "2025-02-10T04:55:31.349213",
     "status": "completed"
    },
    "tags": []
   },
   "source": [
    "<details>\n",
    "<summary><h4><strong>Hint 3</strong></h4></summary>\n",
    "\n",
    "  Use a tilde to separate the y variable from the x variable so that the computer understands which is which. Make sure the spelling of each variable exactly matches the corresponding column from the data.\n",
    "\n",
    "</details>"
   ]
  },
  {
   "cell_type": "markdown",
   "id": "1b86a31c",
   "metadata": {
    "id": "d855f4df-61d5-44a9-996c-9c4080d2be27",
    "papermill": {
     "duration": 0.022658,
     "end_time": "2025-02-10T04:55:31.417387",
     "exception": false,
     "start_time": "2025-02-10T04:55:31.394729",
     "status": "completed"
    },
    "tags": []
   },
   "source": [
    "Now, implement the ordinary least squares (OLS) approach for linear regression."
   ]
  },
  {
   "cell_type": "code",
   "execution_count": 14,
   "id": "8f181949",
   "metadata": {
    "execution": {
     "iopub.execute_input": "2025-02-10T04:55:31.465024Z",
     "iopub.status.busy": "2025-02-10T04:55:31.464605Z",
     "iopub.status.idle": "2025-02-10T04:55:31.476254Z",
     "shell.execute_reply": "2025-02-10T04:55:31.475266Z"
    },
    "id": "0722345c-df7c-4563-a112-d30ea25a9ed8",
    "papermill": {
     "duration": 0.037696,
     "end_time": "2025-02-10T04:55:31.478162",
     "exception": false,
     "start_time": "2025-02-10T04:55:31.440466",
     "status": "completed"
    },
    "tags": []
   },
   "outputs": [],
   "source": [
    "# Implement OLS.\n",
    "\n",
    "### YOUR CODE HERE ###\n",
    "\n",
    "OLS = ols( formula = ols_formula, data = ols_data)"
   ]
  },
  {
   "cell_type": "markdown",
   "id": "c1ad33f4",
   "metadata": {
    "id": "b5569bad-28e8-45da-bee5-990ab592ff70",
    "papermill": {
     "duration": 0.023991,
     "end_time": "2025-02-10T04:55:31.526515",
     "exception": false,
     "start_time": "2025-02-10T04:55:31.502524",
     "status": "completed"
    },
    "tags": []
   },
   "source": [
    "<details>\n",
    "<summary><h4><strong>Hint 1</strong></h4></summary>\n",
    "\n",
    "Refer to the video that discusses model building for linear regression.  \n",
    "\n",
    "</details>"
   ]
  },
  {
   "cell_type": "markdown",
   "id": "954ecda8",
   "metadata": {
    "id": "8884acac-75a5-44e7-a4bc-e162d8753a93",
    "papermill": {
     "duration": 0.02323,
     "end_time": "2025-02-10T04:55:31.574173",
     "exception": false,
     "start_time": "2025-02-10T04:55:31.550943",
     "status": "completed"
    },
    "tags": []
   },
   "source": [
    "<details>\n",
    "<summary><h4><strong>Hint 2</strong></h4></summary>\n",
    "\n",
    "  There is a function from the `statsmodels` library that can be called to implement OLS.\n",
    "\n",
    "</details>"
   ]
  },
  {
   "cell_type": "markdown",
   "id": "288736e4",
   "metadata": {
    "id": "89a8c604-1e36-40e5-bc6a-7d85f24c372b",
    "papermill": {
     "duration": 0.023352,
     "end_time": "2025-02-10T04:55:31.621358",
     "exception": false,
     "start_time": "2025-02-10T04:55:31.598006",
     "status": "completed"
    },
    "tags": []
   },
   "source": [
    "<details>\n",
    "<summary><h4><strong>Hint 3</strong></h4></summary>\n",
    "\n",
    "  You can call the `ols()` function from the `statsmodels` library.\n",
    "\n",
    "</details>"
   ]
  },
  {
   "cell_type": "markdown",
   "id": "e682b3f9",
   "metadata": {
    "id": "d480f1b9-e772-4c45-aab0-d18600d43d3b",
    "papermill": {
     "duration": 0.023439,
     "end_time": "2025-02-10T04:55:31.669056",
     "exception": false,
     "start_time": "2025-02-10T04:55:31.645617",
     "status": "completed"
    },
    "tags": []
   },
   "source": [
    "Now, create a linear regression model for the data and fit the model to the data."
   ]
  },
  {
   "cell_type": "code",
   "execution_count": 15,
   "id": "07254089",
   "metadata": {
    "execution": {
     "iopub.execute_input": "2025-02-10T04:55:31.717429Z",
     "iopub.status.busy": "2025-02-10T04:55:31.717098Z",
     "iopub.status.idle": "2025-02-10T04:55:31.742290Z",
     "shell.execute_reply": "2025-02-10T04:55:31.741252Z"
    },
    "id": "0927ac02-4f5d-4406-a4c1-56d2e5dbd223",
    "papermill": {
     "duration": 0.05128,
     "end_time": "2025-02-10T04:55:31.744376",
     "exception": false,
     "start_time": "2025-02-10T04:55:31.693096",
     "status": "completed"
    },
    "tags": []
   },
   "outputs": [],
   "source": [
    "# Fit the model to the data.\n",
    "# Save the fitted model in a variable.\n",
    "\n",
    "### YOUR CODE HERE ###\n",
    "\n",
    "linreg_model = OLS.fit()"
   ]
  },
  {
   "cell_type": "markdown",
   "id": "2c6de185",
   "metadata": {
    "id": "ae5677e2-f2de-4f7e-99c2-df0bd23f32c0",
    "papermill": {
     "duration": 0.022426,
     "end_time": "2025-02-10T04:55:31.790035",
     "exception": false,
     "start_time": "2025-02-10T04:55:31.767609",
     "status": "completed"
    },
    "tags": []
   },
   "source": [
    "<details>\n",
    "<summary><h4><strong>Hint 1</strong></h4></summary>\n",
    "\n",
    "Refer to the video section where model building for linear regression is discussed.  \n",
    "\n",
    "</details>"
   ]
  },
  {
   "cell_type": "markdown",
   "id": "ba4222f1",
   "metadata": {
    "id": "4c3cbaf2-f372-4f4d-be61-28f80de823d7",
    "papermill": {
     "duration": 0.022787,
     "end_time": "2025-02-10T04:55:31.835833",
     "exception": false,
     "start_time": "2025-02-10T04:55:31.813046",
     "status": "completed"
    },
    "tags": []
   },
   "source": [
    "<details>\n",
    "<summary><h4><strong>Hint 2</strong></h4></summary>\n",
    "\n",
    "  There is a function from the `statsmodels` library that can be called to fit the model.\n",
    "\n",
    "</details>"
   ]
  },
  {
   "cell_type": "markdown",
   "id": "0eee7d57",
   "metadata": {
    "id": "ce5ed8ce-050a-4f99-905b-676444dd1f02",
    "papermill": {
     "duration": 0.022839,
     "end_time": "2025-02-10T04:55:31.881482",
     "exception": false,
     "start_time": "2025-02-10T04:55:31.858643",
     "status": "completed"
    },
    "tags": []
   },
   "source": [
    "<details>\n",
    "<summary><h4><strong>Hint 3</strong></h4></summary>\n",
    "\n",
    "Call the `fit()` function from the `statsmodels` library.\n",
    "\n",
    "</details>"
   ]
  },
  {
   "cell_type": "markdown",
   "id": "4bd4a7e9",
   "metadata": {
    "id": "e4bb9926-05aa-45da-be69-0d373b9abb66",
    "papermill": {
     "duration": 0.02273,
     "end_time": "2025-02-10T04:55:31.927936",
     "exception": false,
     "start_time": "2025-02-10T04:55:31.905206",
     "status": "completed"
    },
    "tags": []
   },
   "source": [
    "## **Step 4: Results and evaluation** \n"
   ]
  },
  {
   "cell_type": "markdown",
   "id": "fecf3cc3",
   "metadata": {
    "id": "91275e23-3c8a-4218-8525-13268d62c14b",
    "papermill": {
     "duration": 0.022685,
     "end_time": "2025-02-10T04:55:31.974659",
     "exception": false,
     "start_time": "2025-02-10T04:55:31.951974",
     "status": "completed"
    },
    "tags": []
   },
   "source": [
    "Begin by getting a summary of the results from the model."
   ]
  },
  {
   "cell_type": "code",
   "execution_count": 16,
   "id": "f224fb16",
   "metadata": {
    "execution": {
     "iopub.execute_input": "2025-02-10T04:55:32.021997Z",
     "iopub.status.busy": "2025-02-10T04:55:32.021591Z",
     "iopub.status.idle": "2025-02-10T04:55:32.047723Z",
     "shell.execute_reply": "2025-02-10T04:55:32.046657Z"
    },
    "id": "de2160b6-3bdf-41a7-9743-f7cd6d4c38f8",
    "papermill": {
     "duration": 0.052221,
     "end_time": "2025-02-10T04:55:32.049605",
     "exception": false,
     "start_time": "2025-02-10T04:55:31.997384",
     "status": "completed"
    },
    "tags": []
   },
   "outputs": [
    {
     "data": {
      "text/html": [
       "<table class=\"simpletable\">\n",
       "<caption>OLS Regression Results</caption>\n",
       "<tr>\n",
       "  <th>Dep. Variable:</th>          <td>Sales</td>      <th>  R-squared:         </th> <td>   0.757</td> \n",
       "</tr>\n",
       "<tr>\n",
       "  <th>Model:</th>                   <td>OLS</td>       <th>  Adj. R-squared:    </th> <td>   0.757</td> \n",
       "</tr>\n",
       "<tr>\n",
       "  <th>Method:</th>             <td>Least Squares</td>  <th>  F-statistic:       </th> <td>   1768.</td> \n",
       "</tr>\n",
       "<tr>\n",
       "  <th>Date:</th>             <td>Mon, 10 Feb 2025</td> <th>  Prob (F-statistic):</th> <td>2.07e-176</td>\n",
       "</tr>\n",
       "<tr>\n",
       "  <th>Time:</th>                 <td>04:55:32</td>     <th>  Log-Likelihood:    </th> <td> -2966.7</td> \n",
       "</tr>\n",
       "<tr>\n",
       "  <th>No. Observations:</th>      <td>   569</td>      <th>  AIC:               </th> <td>   5937.</td> \n",
       "</tr>\n",
       "<tr>\n",
       "  <th>Df Residuals:</th>          <td>   567</td>      <th>  BIC:               </th> <td>   5946.</td> \n",
       "</tr>\n",
       "<tr>\n",
       "  <th>Df Model:</th>              <td>     1</td>      <th>                     </th>     <td> </td>    \n",
       "</tr>\n",
       "<tr>\n",
       "  <th>Covariance Type:</th>      <td>nonrobust</td>    <th>                     </th>     <td> </td>    \n",
       "</tr>\n",
       "</table>\n",
       "<table class=\"simpletable\">\n",
       "<tr>\n",
       "      <td></td>         <th>coef</th>     <th>std err</th>      <th>t</th>      <th>P>|t|</th>  <th>[0.025</th>    <th>0.975]</th>  \n",
       "</tr>\n",
       "<tr>\n",
       "  <th>Intercept</th> <td>   41.5326</td> <td>    4.067</td> <td>   10.211</td> <td> 0.000</td> <td>   33.544</td> <td>   49.521</td>\n",
       "</tr>\n",
       "<tr>\n",
       "  <th>Radio</th>     <td>    8.1733</td> <td>    0.194</td> <td>   42.048</td> <td> 0.000</td> <td>    7.791</td> <td>    8.555</td>\n",
       "</tr>\n",
       "</table>\n",
       "<table class=\"simpletable\">\n",
       "<tr>\n",
       "  <th>Omnibus:</th>       <td> 2.267</td> <th>  Durbin-Watson:     </th> <td>   1.880</td>\n",
       "</tr>\n",
       "<tr>\n",
       "  <th>Prob(Omnibus):</th> <td> 0.322</td> <th>  Jarque-Bera (JB):  </th> <td>   2.221</td>\n",
       "</tr>\n",
       "<tr>\n",
       "  <th>Skew:</th>          <td>-0.102</td> <th>  Prob(JB):          </th> <td>   0.329</td>\n",
       "</tr>\n",
       "<tr>\n",
       "  <th>Kurtosis:</th>      <td> 2.772</td> <th>  Cond. No.          </th> <td>    45.7</td>\n",
       "</tr>\n",
       "</table><br/><br/>Notes:<br/>[1] Standard Errors assume that the covariance matrix of the errors is correctly specified."
      ],
      "text/latex": [
       "\\begin{center}\n",
       "\\begin{tabular}{lclc}\n",
       "\\toprule\n",
       "\\textbf{Dep. Variable:}    &      Sales       & \\textbf{  R-squared:         } &     0.757   \\\\\n",
       "\\textbf{Model:}            &       OLS        & \\textbf{  Adj. R-squared:    } &     0.757   \\\\\n",
       "\\textbf{Method:}           &  Least Squares   & \\textbf{  F-statistic:       } &     1768.   \\\\\n",
       "\\textbf{Date:}             & Mon, 10 Feb 2025 & \\textbf{  Prob (F-statistic):} & 2.07e-176   \\\\\n",
       "\\textbf{Time:}             &     04:55:32     & \\textbf{  Log-Likelihood:    } &   -2966.7   \\\\\n",
       "\\textbf{No. Observations:} &         569      & \\textbf{  AIC:               } &     5937.   \\\\\n",
       "\\textbf{Df Residuals:}     &         567      & \\textbf{  BIC:               } &     5946.   \\\\\n",
       "\\textbf{Df Model:}         &           1      & \\textbf{                     } &             \\\\\n",
       "\\textbf{Covariance Type:}  &    nonrobust     & \\textbf{                     } &             \\\\\n",
       "\\bottomrule\n",
       "\\end{tabular}\n",
       "\\begin{tabular}{lcccccc}\n",
       "                   & \\textbf{coef} & \\textbf{std err} & \\textbf{t} & \\textbf{P$> |$t$|$} & \\textbf{[0.025} & \\textbf{0.975]}  \\\\\n",
       "\\midrule\n",
       "\\textbf{Intercept} &      41.5326  &        4.067     &    10.211  &         0.000        &       33.544    &       49.521     \\\\\n",
       "\\textbf{Radio}     &       8.1733  &        0.194     &    42.048  &         0.000        &        7.791    &        8.555     \\\\\n",
       "\\bottomrule\n",
       "\\end{tabular}\n",
       "\\begin{tabular}{lclc}\n",
       "\\textbf{Omnibus:}       &  2.267 & \\textbf{  Durbin-Watson:     } &    1.880  \\\\\n",
       "\\textbf{Prob(Omnibus):} &  0.322 & \\textbf{  Jarque-Bera (JB):  } &    2.221  \\\\\n",
       "\\textbf{Skew:}          & -0.102 & \\textbf{  Prob(JB):          } &    0.329  \\\\\n",
       "\\textbf{Kurtosis:}      &  2.772 & \\textbf{  Cond. No.          } &     45.7  \\\\\n",
       "\\bottomrule\n",
       "\\end{tabular}\n",
       "%\\caption{OLS Regression Results}\n",
       "\\end{center}\n",
       "\n",
       "Notes: \\newline\n",
       " [1] Standard Errors assume that the covariance matrix of the errors is correctly specified."
      ],
      "text/plain": [
       "<class 'statsmodels.iolib.summary.Summary'>\n",
       "\"\"\"\n",
       "                            OLS Regression Results                            \n",
       "==============================================================================\n",
       "Dep. Variable:                  Sales   R-squared:                       0.757\n",
       "Model:                            OLS   Adj. R-squared:                  0.757\n",
       "Method:                 Least Squares   F-statistic:                     1768.\n",
       "Date:                Mon, 10 Feb 2025   Prob (F-statistic):          2.07e-176\n",
       "Time:                        04:55:32   Log-Likelihood:                -2966.7\n",
       "No. Observations:                 569   AIC:                             5937.\n",
       "Df Residuals:                     567   BIC:                             5946.\n",
       "Df Model:                           1                                         \n",
       "Covariance Type:            nonrobust                                         \n",
       "==============================================================================\n",
       "                 coef    std err          t      P>|t|      [0.025      0.975]\n",
       "------------------------------------------------------------------------------\n",
       "Intercept     41.5326      4.067     10.211      0.000      33.544      49.521\n",
       "Radio          8.1733      0.194     42.048      0.000       7.791       8.555\n",
       "==============================================================================\n",
       "Omnibus:                        2.267   Durbin-Watson:                   1.880\n",
       "Prob(Omnibus):                  0.322   Jarque-Bera (JB):                2.221\n",
       "Skew:                          -0.102   Prob(JB):                        0.329\n",
       "Kurtosis:                       2.772   Cond. No.                         45.7\n",
       "==============================================================================\n",
       "\n",
       "Notes:\n",
       "[1] Standard Errors assume that the covariance matrix of the errors is correctly specified.\n",
       "\"\"\""
      ]
     },
     "execution_count": 16,
     "metadata": {},
     "output_type": "execute_result"
    }
   ],
   "source": [
    "# Get summary of results.\n",
    "\n",
    "### YOUR CODE HERE ###\n",
    "\n",
    "linreg_model.summary()"
   ]
  },
  {
   "cell_type": "markdown",
   "id": "61fb31c1",
   "metadata": {
    "id": "95984c14-a8b4-4d85-854b-0215b9be0419",
    "papermill": {
     "duration": 0.023647,
     "end_time": "2025-02-10T04:55:32.098274",
     "exception": false,
     "start_time": "2025-02-10T04:55:32.074627",
     "status": "completed"
    },
    "tags": []
   },
   "source": [
    "<details>\n",
    "<summary><h4><strong>Hint 1</strong></h4></summary>\n",
    "\n",
    "You may find it helpful to refer back to the video section where getting model results is discussed.  \n",
    "\n",
    "</details>"
   ]
  },
  {
   "cell_type": "markdown",
   "id": "d835eb48",
   "metadata": {
    "id": "45dddaed-a2f2-4328-b1c6-839cff1cbfe0",
    "papermill": {
     "duration": 0.02476,
     "end_time": "2025-02-10T04:55:32.146863",
     "exception": false,
     "start_time": "2025-02-10T04:55:32.122103",
     "status": "completed"
    },
    "tags": []
   },
   "source": [
    "<details>\n",
    "<summary><h4><strong>Hint 2</strong></h4></summary>\n",
    "\n",
    "  There is a function from the `statsmodels` library that can be called to get the summary of results from a model.\n",
    "\n",
    "</details>"
   ]
  },
  {
   "cell_type": "markdown",
   "id": "f03d2971",
   "metadata": {
    "id": "0fe50838-54b9-404f-b441-57fbe2be8b2d",
    "papermill": {
     "duration": 0.023619,
     "end_time": "2025-02-10T04:55:32.194596",
     "exception": false,
     "start_time": "2025-02-10T04:55:32.170977",
     "status": "completed"
    },
    "tags": []
   },
   "source": [
    "<details>\n",
    "<summary><h4><strong>Hint 3</strong></h4></summary>\n",
    "\n",
    "Call the `summary()` function from the `statsmodels` library.\n",
    "\n",
    "</details>"
   ]
  },
  {
   "cell_type": "markdown",
   "id": "5f7623a3",
   "metadata": {
    "id": "557f7ef1-e1ee-4602-aa34-fb04bf5c3158",
    "papermill": {
     "duration": 0.023828,
     "end_time": "2025-02-10T04:55:32.243082",
     "exception": false,
     "start_time": "2025-02-10T04:55:32.219254",
     "status": "completed"
    },
    "tags": []
   },
   "source": [
    "Next, analyze the bottom table from the results summary. Based on the table, identify the coefficients that the model determined would generate the line of best fit. The coefficients are the y-intercept and the slope. "
   ]
  },
  {
   "cell_type": "markdown",
   "id": "cb65c34d",
   "metadata": {
    "id": "29ec7e9e-ded4-4621-9ef1-62836b90b3a6",
    "jp-MarkdownHeadingCollapsed": true,
    "papermill": {
     "duration": 0.023595,
     "end_time": "2025-02-10T04:55:32.290727",
     "exception": false,
     "start_time": "2025-02-10T04:55:32.267132",
     "status": "completed"
    },
    "tags": []
   },
   "source": [
    "**Question:** What is the y-intercept? "
   ]
  },
  {
   "cell_type": "markdown",
   "id": "865b7015",
   "metadata": {
    "id": "3bV7OGngiVs2",
    "papermill": {
     "duration": 0.023261,
     "end_time": "2025-02-10T04:55:32.340468",
     "exception": false,
     "start_time": "2025-02-10T04:55:32.317207",
     "status": "completed"
    },
    "tags": []
   },
   "source": [
    "* 41.53 is the y-intercept"
   ]
  },
  {
   "cell_type": "markdown",
   "id": "21afe841",
   "metadata": {
    "id": "dbdbfc1c-fce0-4813-aafe-c58bfaa436b6",
    "jp-MarkdownHeadingCollapsed": true,
    "papermill": {
     "duration": 0.023264,
     "end_time": "2025-02-10T04:55:32.390417",
     "exception": false,
     "start_time": "2025-02-10T04:55:32.367153",
     "status": "completed"
    },
    "tags": []
   },
   "source": [
    "**Question:** What is the slope? "
   ]
  },
  {
   "cell_type": "markdown",
   "id": "6e315396",
   "metadata": {
    "id": "QG_N49E5iWhM",
    "papermill": {
     "duration": 0.023292,
     "end_time": "2025-02-10T04:55:32.437373",
     "exception": false,
     "start_time": "2025-02-10T04:55:32.414081",
     "status": "completed"
    },
    "tags": []
   },
   "source": [
    "* 8.1733 is the slope"
   ]
  },
  {
   "cell_type": "markdown",
   "id": "290333b7",
   "metadata": {
    "id": "3521b6db-6c35-4574-9bea-17af4ef3dd96",
    "jp-MarkdownHeadingCollapsed": true,
    "papermill": {
     "duration": 0.023408,
     "end_time": "2025-02-10T04:55:32.485535",
     "exception": false,
     "start_time": "2025-02-10T04:55:32.462127",
     "status": "completed"
    },
    "tags": []
   },
   "source": [
    "**Question:** What linear equation would you write to express the relationship between sales and radio promotion budget? Use the form of y = slope * x + y-intercept? \n"
   ]
  },
  {
   "cell_type": "markdown",
   "id": "911f964d",
   "metadata": {
    "id": "GGDkSwpWiXbA",
    "papermill": {
     "duration": 0.023556,
     "end_time": "2025-02-10T04:55:32.532805",
     "exception": false,
     "start_time": "2025-02-10T04:55:32.509249",
     "status": "completed"
    },
    "tags": []
   },
   "source": [
    "* **Sales = 8.17 * Radio + 41.53**"
   ]
  },
  {
   "cell_type": "markdown",
   "id": "d80cf383",
   "metadata": {
    "id": "fcf820e2-426e-4554-a1a6-20cec9cacd12",
    "papermill": {
     "duration": 0.023414,
     "end_time": "2025-02-10T04:55:32.580182",
     "exception": false,
     "start_time": "2025-02-10T04:55:32.556768",
     "status": "completed"
    },
    "tags": []
   },
   "source": [
    "**Question:** What does the slope mean in this context?"
   ]
  },
  {
   "cell_type": "markdown",
   "id": "7ad65fef",
   "metadata": {
    "id": "oAadvPHziYWI",
    "papermill": {
     "duration": 0.023263,
     "end_time": "2025-02-10T04:55:32.627456",
     "exception": false,
     "start_time": "2025-02-10T04:55:32.604193",
     "status": "completed"
    },
    "tags": []
   },
   "source": [
    "* It means for every 1 value (1M USD) increase in Radio budget, there will be 8.17 times (8.17M USD) increase in Sales revenue"
   ]
  },
  {
   "cell_type": "markdown",
   "id": "bfd6d55b",
   "metadata": {
    "id": "729bb783-ffba-4799-a915-79128060f180",
    "papermill": {
     "duration": 0.023208,
     "end_time": "2025-02-10T04:55:32.674330",
     "exception": false,
     "start_time": "2025-02-10T04:55:32.651122",
     "status": "completed"
    },
    "tags": []
   },
   "source": [
    "Now that you've built the linear regression model and fit it to the data, finish checking the model assumptions. This will help confirm your findings. First, plot the OLS data with the best fit regression line."
   ]
  },
  {
   "cell_type": "code",
   "execution_count": 17,
   "id": "473bfe6f",
   "metadata": {
    "execution": {
     "iopub.execute_input": "2025-02-10T04:55:32.723927Z",
     "iopub.status.busy": "2025-02-10T04:55:32.723509Z",
     "iopub.status.idle": "2025-02-10T04:55:33.085393Z",
     "shell.execute_reply": "2025-02-10T04:55:33.084012Z"
    },
    "id": "a41ef379-d2a6-474b-80ce-61dc7a6ad7dd",
    "papermill": {
     "duration": 0.389056,
     "end_time": "2025-02-10T04:55:33.087634",
     "exception": false,
     "start_time": "2025-02-10T04:55:32.698578",
     "status": "completed"
    },
    "tags": []
   },
   "outputs": [
    {
     "data": {
      "text/plain": [
       "<Axes: xlabel='Radio', ylabel='Sales'>"
      ]
     },
     "execution_count": 17,
     "metadata": {},
     "output_type": "execute_result"
    },
    {
     "data": {
      "image/png": "[encoded data removed]",
      "text/plain": [
       "<Figure size 640x480 with 1 Axes>"
      ]
     },
     "metadata": {},
     "output_type": "display_data"
    }
   ],
   "source": [
    "# Plot the OLS data with the best fit regression line.\n",
    "\n",
    "### YOUR CODE HERE ###\n",
    "\n",
    "sns.regplot(x = 'Radio', y = 'Sales', data = ols_data)"
   ]
  },
  {
   "cell_type": "markdown",
   "id": "1e1e04f8",
   "metadata": {
    "id": "3684ed67-e472-4800-a0b0-b43774541afb",
    "papermill": {
     "duration": 0.028405,
     "end_time": "2025-02-10T04:55:33.143571",
     "exception": false,
     "start_time": "2025-02-10T04:55:33.115166",
     "status": "completed"
    },
    "tags": []
   },
   "source": [
    "<details>\n",
    "<summary><h4><strong>Hint 1</strong></h4></summary>\n",
    "\n",
    "Refer to the video about plotting data with the best fit regression line.  \n",
    "\n",
    "</details>"
   ]
  },
  {
   "cell_type": "markdown",
   "id": "8cfa34d3",
   "metadata": {
    "id": "516bc013-1786-4551-91a5-088cf27c9cb1",
    "papermill": {
     "duration": 0.02875,
     "end_time": "2025-02-10T04:55:33.211616",
     "exception": false,
     "start_time": "2025-02-10T04:55:33.182866",
     "status": "completed"
    },
    "tags": []
   },
   "source": [
    "<details>\n",
    "<summary><h4><strong>Hint 2</strong></h4></summary>\n",
    "\n",
    "  There is a function from the `seaborn` library that can be useful here.\n",
    "\n",
    "</details>"
   ]
  },
  {
   "cell_type": "markdown",
   "id": "a10ae704",
   "metadata": {
    "id": "098a9e51-5138-411b-bde8-0c622ce10323",
    "papermill": {
     "duration": 0.024492,
     "end_time": "2025-02-10T04:55:33.261047",
     "exception": false,
     "start_time": "2025-02-10T04:55:33.236555",
     "status": "completed"
    },
    "tags": []
   },
   "source": [
    "<details>\n",
    "<summary><h4><strong>Hint 3</strong></h4></summary>\n",
    "\n",
    "Call the `regplot()` function from the `seaborn` library.\n",
    "\n",
    "</details>"
   ]
  },
  {
   "cell_type": "markdown",
   "id": "57857ed7",
   "metadata": {
    "id": "ad67e686-dd0e-4582-b867-47fe112a53f0",
    "papermill": {
     "duration": 0.027677,
     "end_time": "2025-02-10T04:55:33.313416",
     "exception": false,
     "start_time": "2025-02-10T04:55:33.285739",
     "status": "completed"
    },
    "tags": []
   },
   "source": [
    "**Question:** What do you observe from the preceding regression plot?"
   ]
  },
  {
   "cell_type": "markdown",
   "id": "536f2c44",
   "metadata": {
    "id": "AhZ1_iEiiZrS",
    "papermill": {
     "duration": 0.038196,
     "end_time": "2025-02-10T04:55:33.381463",
     "exception": false,
     "start_time": "2025-02-10T04:55:33.343267",
     "status": "completed"
    },
    "tags": []
   },
   "source": [
    "* the regression fit line displays an approximate linear relationship between Radio budget and Sales revenue\n",
    "* linearity assumption is satisfied"
   ]
  },
  {
   "cell_type": "markdown",
   "id": "59470e3b",
   "metadata": {
    "id": "72138441-ca7c-4afe-bfe4-aaf0e7aada24",
    "papermill": {
     "duration": 0.027079,
     "end_time": "2025-02-10T04:55:33.434822",
     "exception": false,
     "start_time": "2025-02-10T04:55:33.407743",
     "status": "completed"
    },
    "tags": []
   },
   "source": [
    "Now, check the normality assumption. Get the residuals from the model."
   ]
  },
  {
   "cell_type": "code",
   "execution_count": 18,
   "id": "581826c1",
   "metadata": {
    "execution": {
     "iopub.execute_input": "2025-02-10T04:55:33.489721Z",
     "iopub.status.busy": "2025-02-10T04:55:33.489287Z",
     "iopub.status.idle": "2025-02-10T04:55:33.497986Z",
     "shell.execute_reply": "2025-02-10T04:55:33.496754Z"
    },
    "id": "78650cbb-eb48-469f-88b7-f91914b79ea4",
    "papermill": {
     "duration": 0.037402,
     "end_time": "2025-02-10T04:55:33.499626",
     "exception": false,
     "start_time": "2025-02-10T04:55:33.462224",
     "status": "completed"
    },
    "tags": []
   },
   "outputs": [
    {
     "data": {
      "text/plain": [
       "0    38.563673\n",
       "1    59.020221\n",
       "2   -23.574057\n",
       "3    70.365959\n",
       "4     8.874344\n",
       "dtype: float64"
      ]
     },
     "execution_count": 18,
     "metadata": {},
     "output_type": "execute_result"
    }
   ],
   "source": [
    "# Get the residuals from the model.\n",
    "\n",
    "### YOUR CODE HERE ###\n",
    "\n",
    "residuals = linreg_model.resid\n",
    "\n",
    "residuals.head()"
   ]
  },
  {
   "cell_type": "markdown",
   "id": "7149d2a1",
   "metadata": {
    "id": "253395c5-75ef-4791-85b3-a6be7a2683ce",
    "papermill": {
     "duration": 0.026984,
     "end_time": "2025-02-10T04:55:33.552359",
     "exception": false,
     "start_time": "2025-02-10T04:55:33.525375",
     "status": "completed"
    },
    "tags": []
   },
   "source": [
    "<details>\n",
    "<summary><h4><strong>Hint 1</strong></h4></summary>\n",
    "\n",
    "Refer to the video about accessing residuals.  \n",
    "\n",
    "</details>"
   ]
  },
  {
   "cell_type": "markdown",
   "id": "98507732",
   "metadata": {
    "id": "3ab36332-ff4d-4ff0-89d9-96c15a86d005",
    "papermill": {
     "duration": 0.026113,
     "end_time": "2025-02-10T04:55:33.604964",
     "exception": false,
     "start_time": "2025-02-10T04:55:33.578851",
     "status": "completed"
    },
    "tags": []
   },
   "source": [
    "<details>\n",
    "<summary><h4><strong>Hint 2</strong></h4></summary>\n",
    "\n",
    "  There is an attribute from the `statsmodels` library that can be called to get the residuals from a fitted model.\n",
    "\n",
    "</details>"
   ]
  },
  {
   "cell_type": "markdown",
   "id": "1626b7e2",
   "metadata": {
    "id": "3d6c0477-af7c-4850-8a4e-db8cde350c6d",
    "papermill": {
     "duration": 0.026273,
     "end_time": "2025-02-10T04:55:33.658048",
     "exception": false,
     "start_time": "2025-02-10T04:55:33.631775",
     "status": "completed"
    },
    "tags": []
   },
   "source": [
    "<details>\n",
    "<summary><h4><strong>Hint 3</strong></h4></summary>\n",
    "\n",
    "Call the `resid` attribute from the `statsmodels` library.\n",
    "\n",
    "</details>"
   ]
  },
  {
   "cell_type": "markdown",
   "id": "2a6014aa",
   "metadata": {
    "id": "666b1d10-0aaa-46c8-ba9f-fc096e1ec989",
    "papermill": {
     "duration": 0.025986,
     "end_time": "2025-02-10T04:55:33.710857",
     "exception": false,
     "start_time": "2025-02-10T04:55:33.684871",
     "status": "completed"
    },
    "tags": []
   },
   "source": [
    "Now, visualize the distribution of the residuals."
   ]
  },
  {
   "cell_type": "code",
   "execution_count": 19,
   "id": "333a28a9",
   "metadata": {
    "execution": {
     "iopub.execute_input": "2025-02-10T04:55:33.765644Z",
     "iopub.status.busy": "2025-02-10T04:55:33.765254Z",
     "iopub.status.idle": "2025-02-10T04:55:34.004351Z",
     "shell.execute_reply": "2025-02-10T04:55:34.002850Z"
    },
    "id": "1ea40581-121a-4d71-b421-7a888fd3b538",
    "papermill": {
     "duration": 0.268318,
     "end_time": "2025-02-10T04:55:34.006340",
     "exception": false,
     "start_time": "2025-02-10T04:55:33.738022",
     "status": "completed"
    },
    "tags": []
   },
   "outputs": [
    {
     "name": "stderr",
     "output_type": "stream",
     "text": [
      "/usr/local/lib/python3.10/dist-packages/seaborn/_oldcore.py:1119: FutureWarning: use_inf_as_na option is deprecated and will be removed in a future version. Convert inf values to NaN before operating instead.\n",
      "  with pd.option_context('mode.use_inf_as_na', True):\n"
     ]
    },
    {
     "data": {
      "image/png": "[encoded data removed]",
      "text/plain": [
       "<Figure size 640x480 with 1 Axes>"
      ]
     },
     "metadata": {},
     "output_type": "display_data"
    }
   ],
   "source": [
    "# Visualize the distribution of the residuals.\n",
    "\n",
    "### YOUR CODE HERE ###\n",
    "\n",
    "# histogram of residuals\n",
    "sns.histplot(residuals, bins = 24)\n",
    "\n",
    "# x and y labels\n",
    "plt.xlabel('Residual Value')\n",
    "plt.title('Histogram of Residuals')\n",
    "\n",
    "# display the histogram\n",
    "plt.show()"
   ]
  },
  {
   "cell_type": "markdown",
   "id": "15d9b2a1",
   "metadata": {
    "id": "4c3bb284-6e46-4c13-84ea-d40f3898ec0c",
    "papermill": {
     "duration": 0.025852,
     "end_time": "2025-02-10T04:55:34.068012",
     "exception": false,
     "start_time": "2025-02-10T04:55:34.042160",
     "status": "completed"
    },
    "tags": []
   },
   "source": [
    "<details>\n",
    "<summary><h4><strong>Hint 1</strong></h4></summary>\n",
    "\n",
    "Refer to the video about visualizing residuals.  \n",
    "\n",
    "</details>"
   ]
  },
  {
   "cell_type": "markdown",
   "id": "52a964cf",
   "metadata": {
    "id": "e7124d39-997b-4bee-b6b5-e42d10f7f83e",
    "papermill": {
     "duration": 0.026194,
     "end_time": "2025-02-10T04:55:34.120268",
     "exception": false,
     "start_time": "2025-02-10T04:55:34.094074",
     "status": "completed"
    },
    "tags": []
   },
   "source": [
    "<details>\n",
    "<summary><h4><strong>Hint 2</strong></h4></summary>\n",
    "\n",
    "  There is a function from the `seaborn` library that can be called to create a histogram.\n",
    "\n",
    "</details>"
   ]
  },
  {
   "cell_type": "markdown",
   "id": "6bd7ee41",
   "metadata": {
    "id": "693b2c61-7196-4e72-86e7-f35722739f0f",
    "papermill": {
     "duration": 0.025956,
     "end_time": "2025-02-10T04:55:34.172907",
     "exception": false,
     "start_time": "2025-02-10T04:55:34.146951",
     "status": "completed"
    },
    "tags": []
   },
   "source": [
    "<details>\n",
    "<summary><h4><strong>Hint 3</strong></h4></summary>\n",
    "\n",
    "Call the `histplot()` function from the `seaborn` library.\n",
    "\n",
    "</details>"
   ]
  },
  {
   "cell_type": "markdown",
   "id": "7ee08951",
   "metadata": {
    "id": "a7eca70a-cbe7-4e61-b712-3eae5cf6da34",
    "papermill": {
     "duration": 0.02554,
     "end_time": "2025-02-10T04:55:34.224513",
     "exception": false,
     "start_time": "2025-02-10T04:55:34.198973",
     "status": "completed"
    },
    "tags": []
   },
   "source": [
    "**Question:** Based on the visualization, what do you observe about the distribution of the residuals?"
   ]
  },
  {
   "cell_type": "markdown",
   "id": "06c8a4ec",
   "metadata": {
    "id": "nymTKHlGia2z",
    "papermill": {
     "duration": 0.026926,
     "end_time": "2025-02-10T04:55:34.277537",
     "exception": false,
     "start_time": "2025-02-10T04:55:34.250611",
     "status": "completed"
    },
    "tags": []
   },
   "source": [
    "* residuals are approximately normally distributed\n",
    "* normality assumption is satisfied"
   ]
  },
  {
   "cell_type": "markdown",
   "id": "93ec880a",
   "metadata": {
    "id": "368b2874-1289-465d-a2cd-c0b24dacf682",
    "papermill": {
     "duration": 0.028834,
     "end_time": "2025-02-10T04:55:34.333935",
     "exception": false,
     "start_time": "2025-02-10T04:55:34.305101",
     "status": "completed"
    },
    "tags": []
   },
   "source": [
    "Next, create a Q-Q plot to confirm the assumption of normality."
   ]
  },
  {
   "cell_type": "code",
   "execution_count": 20,
   "id": "69174f62",
   "metadata": {
    "execution": {
     "iopub.execute_input": "2025-02-10T04:55:34.391987Z",
     "iopub.status.busy": "2025-02-10T04:55:34.391510Z",
     "iopub.status.idle": "2025-02-10T04:55:34.580347Z",
     "shell.execute_reply": "2025-02-10T04:55:34.578993Z"
    },
    "id": "475aa7cd-c410-4116-93eb-6b6607f75409",
    "papermill": {
     "duration": 0.218963,
     "end_time": "2025-02-10T04:55:34.582358",
     "exception": false,
     "start_time": "2025-02-10T04:55:34.363395",
     "status": "completed"
    },
    "tags": []
   },
   "outputs": [
    {
     "data": {
      "image/png": "[encoded data removed]",
      "text/plain": [
       "<Figure size 640x480 with 1 Axes>"
      ]
     },
     "metadata": {},
     "output_type": "display_data"
    }
   ],
   "source": [
    "# Create a Q-Q plot.\n",
    "\n",
    "### YOUR CODE HERE ###\n",
    "\n",
    "# construsct qq plot\n",
    "sm.qqplot(residuals, line='s')\n",
    "\n",
    "# qq plot title\n",
    "plt.title('Q-Q plot of Residuals')\n",
    "\n",
    "# show the plot\n",
    "plt.show()"
   ]
  },
  {
   "cell_type": "markdown",
   "id": "cfe2346a",
   "metadata": {
    "id": "2f5278be-49cd-4cb3-80a2-dccae87192fd",
    "papermill": {
     "duration": 0.026437,
     "end_time": "2025-02-10T04:55:34.636057",
     "exception": false,
     "start_time": "2025-02-10T04:55:34.609620",
     "status": "completed"
    },
    "tags": []
   },
   "source": [
    "<details>\n",
    "<summary><h4><strong>Hint 1</strong></h4></summary>\n",
    "\n",
    "Refer to the video about creating a Q-Q plot.  \n",
    "\n",
    "</details>"
   ]
  },
  {
   "cell_type": "markdown",
   "id": "beed6979",
   "metadata": {
    "id": "e1d4e7e6-55df-4fa3-97b1-5306b38ceb67",
    "papermill": {
     "duration": 0.026322,
     "end_time": "2025-02-10T04:55:34.688844",
     "exception": false,
     "start_time": "2025-02-10T04:55:34.662522",
     "status": "completed"
    },
    "tags": []
   },
   "source": [
    "<details>\n",
    "<summary><h4><strong>Hint 2</strong></h4></summary>\n",
    "\n",
    "  There is a function from the `statsmodels` library that can be called to create a Q-Q plot.\n",
    "\n",
    "</details>"
   ]
  },
  {
   "cell_type": "markdown",
   "id": "40f811fe",
   "metadata": {
    "id": "48c76f2c-459a-497e-ab7b-4a812166c627",
    "papermill": {
     "duration": 0.026077,
     "end_time": "2025-02-10T04:55:34.741197",
     "exception": false,
     "start_time": "2025-02-10T04:55:34.715120",
     "status": "completed"
    },
    "tags": []
   },
   "source": [
    "<details>\n",
    "<summary><h4><strong>Hint 3</strong></h4></summary>\n",
    "\n",
    "Call the `qqplot()` function from the `statsmodels` library.\n",
    "\n",
    "</details>"
   ]
  },
  {
   "cell_type": "markdown",
   "id": "52576144",
   "metadata": {
    "id": "b343172c-32e9-4d71-a353-5b769460afe1",
    "papermill": {
     "duration": 0.026127,
     "end_time": "2025-02-10T04:55:34.793670",
     "exception": false,
     "start_time": "2025-02-10T04:55:34.767543",
     "status": "completed"
    },
    "tags": []
   },
   "source": [
    "**Question:** Is the assumption of normality met?"
   ]
  },
  {
   "cell_type": "markdown",
   "id": "7a75a73d",
   "metadata": {
    "id": "rZCW2Sfsib7T",
    "papermill": {
     "duration": 0.026229,
     "end_time": "2025-02-10T04:55:34.845934",
     "exception": false,
     "start_time": "2025-02-10T04:55:34.819705",
     "status": "completed"
    },
    "tags": []
   },
   "source": [
    "* the qq plot approximately indicates that the sample residuals are normally distributed\n",
    "* normality assumption is met"
   ]
  },
  {
   "cell_type": "markdown",
   "id": "54d81912",
   "metadata": {
    "id": "f0cd9598-a10f-4ba4-8103-a4fe017017ce",
    "papermill": {
     "duration": 0.026174,
     "end_time": "2025-02-10T04:55:34.898360",
     "exception": false,
     "start_time": "2025-02-10T04:55:34.872186",
     "status": "completed"
    },
    "tags": []
   },
   "source": [
    "Now, check the assumptions of independent observation and homoscedasticity. Start by getting the fitted values from the model."
   ]
  },
  {
   "cell_type": "code",
   "execution_count": 21,
   "id": "eb5cfb32",
   "metadata": {
    "execution": {
     "iopub.execute_input": "2025-02-10T04:55:34.953466Z",
     "iopub.status.busy": "2025-02-10T04:55:34.953075Z",
     "iopub.status.idle": "2025-02-10T04:55:34.964937Z",
     "shell.execute_reply": "2025-02-10T04:55:34.963786Z"
    },
    "id": "7a1df62d-2597-409b-9e1b-5a0b72a01359",
    "papermill": {
     "duration": 0.041733,
     "end_time": "2025-02-10T04:55:34.966602",
     "exception": false,
     "start_time": "2025-02-10T04:55:34.924869",
     "status": "completed"
    },
    "tags": []
   },
   "outputs": [
    {
     "data": {
      "text/plain": [
       "0     51.490549\n",
       "1    163.721447\n",
       "2    126.348847\n",
       "3    257.873419\n",
       "4    342.932984\n",
       "dtype: float64"
      ]
     },
     "execution_count": 21,
     "metadata": {},
     "output_type": "execute_result"
    }
   ],
   "source": [
    "# Get fitted values.\n",
    "\n",
    "### YOUR CODE HERE ###\n",
    "\n",
    "fitted_values = linreg_model.predict( ols_data['Radio'] )\n",
    "\n",
    "fitted_values.head()"
   ]
  },
  {
   "cell_type": "markdown",
   "id": "f6a6fd5f",
   "metadata": {
    "id": "9026e8bb-07a0-4263-b664-0448b6fb934e",
    "papermill": {
     "duration": 0.028197,
     "end_time": "2025-02-10T04:55:35.023247",
     "exception": false,
     "start_time": "2025-02-10T04:55:34.995050",
     "status": "completed"
    },
    "tags": []
   },
   "source": [
    "<details>\n",
    "<summary><h4><strong>Hint 1</strong></h4></summary>\n",
    "\n",
    "Refer to the video about calculating fitted values.  \n",
    "\n",
    "</details>"
   ]
  },
  {
   "cell_type": "markdown",
   "id": "40bbed30",
   "metadata": {
    "id": "a6123afa-c5e8-4d45-a2d6-e6750d748f95",
    "papermill": {
     "duration": 0.027461,
     "end_time": "2025-02-10T04:55:35.078229",
     "exception": false,
     "start_time": "2025-02-10T04:55:35.050768",
     "status": "completed"
    },
    "tags": []
   },
   "source": [
    "<details>\n",
    "<summary><h4><strong>Hint 2</strong></h4></summary>\n",
    "\n",
    "  There is a function from the `statsmodels` library that can be called to calculate fitted values from the model.\n",
    "\n",
    "</details>"
   ]
  },
  {
   "cell_type": "markdown",
   "id": "c0b13be6",
   "metadata": {
    "id": "b8034b30-f8e9-4b38-8afb-c7ed38b94711",
    "papermill": {
     "duration": 0.026805,
     "end_time": "2025-02-10T04:55:35.132374",
     "exception": false,
     "start_time": "2025-02-10T04:55:35.105569",
     "status": "completed"
    },
    "tags": []
   },
   "source": [
    "<details>\n",
    "<summary><h4><strong>Hint 3</strong></h4></summary>\n",
    "\n",
    "Call the `predict()` function from the `statsmodels` library. Make sure to pass in the column from `ols_data` corresponding to the x variable.\n",
    "\n",
    "</details>"
   ]
  },
  {
   "cell_type": "markdown",
   "id": "1892c123",
   "metadata": {
    "id": "309d0258-0c94-4857-be28-ae67b282ce3d",
    "papermill": {
     "duration": 0.026296,
     "end_time": "2025-02-10T04:55:35.185649",
     "exception": false,
     "start_time": "2025-02-10T04:55:35.159353",
     "status": "completed"
    },
    "tags": []
   },
   "source": [
    "Next, create a scatterplot of the residuals against the fitted values."
   ]
  },
  {
   "cell_type": "code",
   "execution_count": 22,
   "id": "a1ed35a2",
   "metadata": {
    "execution": {
     "iopub.execute_input": "2025-02-10T04:55:35.240148Z",
     "iopub.status.busy": "2025-02-10T04:55:35.239790Z",
     "iopub.status.idle": "2025-02-10T04:55:35.423844Z",
     "shell.execute_reply": "2025-02-10T04:55:35.422704Z"
    },
    "id": "baec4c75-1b60-4c3f-bcb2-56abea7088bd",
    "papermill": {
     "duration": 0.213772,
     "end_time": "2025-02-10T04:55:35.425760",
     "exception": false,
     "start_time": "2025-02-10T04:55:35.211988",
     "status": "completed"
    },
    "tags": []
   },
   "outputs": [
    {
     "data": {
      "image/png": "[encoded data removed]",
      "text/plain": [
       "<Figure size 640x480 with 1 Axes>"
      ]
     },
     "metadata": {},
     "output_type": "display_data"
    }
   ],
   "source": [
    "# Create a scatterplot of residuals against fitted values.\n",
    "\n",
    "### YOUR CODE HERE ###\n",
    "\n",
    "\n",
    "# construct a scatterplot\n",
    "fig = sns.scatterplot(x=fitted_values, y=residuals)\n",
    "\n",
    "# the 0 residual line\n",
    "fig.axhline(0)\n",
    "\n",
    "# set x and y labels\n",
    "fig.set_xlabel('Fitted Values')\n",
    "fig.set_ylabel('Residuals')\n",
    "\n",
    "# display the plot\n",
    "plt.show()"
   ]
  },
  {
   "cell_type": "markdown",
   "id": "7af8e0bd",
   "metadata": {
    "id": "afe532da-1b40-496c-b948-47e4b426246c",
    "papermill": {
     "duration": 0.030131,
     "end_time": "2025-02-10T04:55:35.486616",
     "exception": false,
     "start_time": "2025-02-10T04:55:35.456485",
     "status": "completed"
    },
    "tags": []
   },
   "source": [
    "<details>\n",
    "<summary><h4><strong>Hint 1</strong></h4></summary>\n",
    "\n",
    "Refer to the video about visualizing residuals against fitted values.\n",
    "\n",
    "</details>"
   ]
  },
  {
   "cell_type": "markdown",
   "id": "950dc801",
   "metadata": {
    "id": "a3b18175-7f72-44a7-8a17-046ba30dc4c6",
    "papermill": {
     "duration": 0.028755,
     "end_time": "2025-02-10T04:55:35.544616",
     "exception": false,
     "start_time": "2025-02-10T04:55:35.515861",
     "status": "completed"
    },
    "tags": []
   },
   "source": [
    "<details>\n",
    "<summary><h4><strong>Hint 2</strong></h4></summary>\n",
    "\n",
    "  There is a function from the `seaborn` library that can be called to create a scatterplot.\n",
    "\n",
    "</details>"
   ]
  },
  {
   "cell_type": "markdown",
   "id": "c8a3827e",
   "metadata": {
    "id": "81b77acb-1e0b-44b4-89be-123d3843e2a6",
    "papermill": {
     "duration": 0.028655,
     "end_time": "2025-02-10T04:55:35.603205",
     "exception": false,
     "start_time": "2025-02-10T04:55:35.574550",
     "status": "completed"
    },
    "tags": []
   },
   "source": [
    "<details>\n",
    "  <summary><h4>Hint 3</h4></summary>\n",
    "\n",
    "Call the `scatterplot()` function from the `seaborn` library.\n",
    "\n",
    "</details>"
   ]
  },
  {
   "cell_type": "markdown",
   "id": "2e714a27",
   "metadata": {
    "id": "93d6469f-8fc1-4cbb-b551-d7be8f506f3e",
    "papermill": {
     "duration": 0.028461,
     "end_time": "2025-02-10T04:55:35.660658",
     "exception": false,
     "start_time": "2025-02-10T04:55:35.632197",
     "status": "completed"
    },
    "tags": []
   },
   "source": [
    "**Question:** Are the assumptions of independent observation and homoscedasticity met?\n"
   ]
  },
  {
   "cell_type": "markdown",
   "id": "fda810e1",
   "metadata": {
    "id": "qceg6rqUidGl",
    "papermill": {
     "duration": 0.028256,
     "end_time": "2025-02-10T04:55:35.717778",
     "exception": false,
     "start_time": "2025-02-10T04:55:35.689522",
     "status": "completed"
    },
    "tags": []
   },
   "source": [
    "* we can find the scatter of hte residuals randomly spread out across the fitted values\n",
    "* homoscedasticity assumption is met"
   ]
  },
  {
   "cell_type": "markdown",
   "id": "de8590ab",
   "metadata": {
    "id": "29f336ab-8b70-446e-9498-b56740728e87",
    "papermill": {
     "duration": 0.028756,
     "end_time": "2025-02-10T04:55:35.775378",
     "exception": false,
     "start_time": "2025-02-10T04:55:35.746622",
     "status": "completed"
    },
    "tags": []
   },
   "source": [
    "## **Considerations**"
   ]
  },
  {
   "cell_type": "markdown",
   "id": "0b6553ef",
   "metadata": {
    "id": "B8QDsK1eZ691",
    "papermill": {
     "duration": 0.029239,
     "end_time": "2025-02-10T04:55:35.834177",
     "exception": false,
     "start_time": "2025-02-10T04:55:35.804938",
     "status": "completed"
    },
    "tags": []
   },
   "source": [
    "**What are some key takeaways that you learned during this lab?**"
   ]
  },
  {
   "cell_type": "markdown",
   "id": "f485db17",
   "metadata": {
    "id": "s9QOOQVViyS8",
    "papermill": {
     "duration": 0.02837,
     "end_time": "2025-02-10T04:55:35.891345",
     "exception": false,
     "start_time": "2025-02-10T04:55:35.862975",
     "status": "completed"
    },
    "tags": []
   },
   "source": [
    "* combining the power of visuals and statistical methods will provide a wide understanding about the model and data"
   ]
  },
  {
   "cell_type": "markdown",
   "id": "1600f12d",
   "metadata": {
    "id": "TAf52zLaiqys",
    "papermill": {
     "duration": 0.028287,
     "end_time": "2025-02-10T04:55:35.948383",
     "exception": false,
     "start_time": "2025-02-10T04:55:35.920096",
     "status": "completed"
    },
    "tags": []
   },
   "source": [
    "**How would you present your findings from this lab to others?**"
   ]
  },
  {
   "cell_type": "markdown",
   "id": "4f0705e5",
   "metadata": {
    "id": "fSVZtCPhizkd",
    "papermill": {
     "duration": 0.028693,
     "end_time": "2025-02-10T04:55:36.005950",
     "exception": false,
     "start_time": "2025-02-10T04:55:35.977257",
     "status": "completed"
    },
    "tags": []
   },
   "source": [
    "* since Sales revenue and Radio budget are found to satisfy all 4 linear regression assumptions, we can build linear regression models to estimate them "
   ]
  },
  {
   "cell_type": "markdown",
   "id": "13eecef7",
   "metadata": {
    "id": "Wi_DUs07it_J",
    "papermill": {
     "duration": 0.02807,
     "end_time": "2025-02-10T04:55:36.063002",
     "exception": false,
     "start_time": "2025-02-10T04:55:36.034932",
     "status": "completed"
    },
    "tags": []
   },
   "source": [
    "**What summary would you provide to stakeholders?**"
   ]
  },
  {
   "cell_type": "markdown",
   "id": "34cc0dae",
   "metadata": {
    "id": "gedSOV7ni0YB",
    "papermill": {
     "duration": 0.028593,
     "end_time": "2025-02-10T04:55:36.120959",
     "exception": false,
     "start_time": "2025-02-10T04:55:36.092366",
     "status": "completed"
    },
    "tags": []
   },
   "source": [
    "* It means for every 1 value (1M USD) increase in Radio budget, there will be 8.17 times (8.17M USD) increase in Sales revenue\n",
    "* this is not the final say, as other regression metrics needs to be investigated"
   ]
  },
  {
   "cell_type": "markdown",
   "id": "3f569233",
   "metadata": {
    "id": "TLd689mcydX2",
    "papermill": {
     "duration": 0.027348,
     "end_time": "2025-02-10T04:55:36.176854",
     "exception": false,
     "start_time": "2025-02-10T04:55:36.149506",
     "status": "completed"
    },
    "tags": []
   },
   "source": [
    "**References**\n",
    "\n",
    "[Pandas.DataFrame.Any — Pandas 1.4.3 Documentation.](https://pandas.pydata.org/docs/reference/api/pandas.DataFrame.any.html)\n",
    "\n",
    "[Pandas.DataFrame.Isna — Pandas 1.4.3 Documentation.](https://pandas.pydata.org/docs/reference/api/pandas.DataFrame.isna.html)\n",
    "\n",
    "[Pandas.Series.Sum — Pandas 1.4.3 Documentation.](https://pandas.pydata.org/docs/reference/api/pandas.Series.sum.html)\n",
    "\n",
    "[Saragih, H.S. *Dummy Marketing and Sales Data*.](https://www.kaggle.com/datasets/harrimansaragih/dummy-advertising-and-sales-data)"
   ]
  },
  {
   "cell_type": "markdown",
   "id": "b63dd45b",
   "metadata": {
    "id": "acUurV2B5LZX",
    "papermill": {
     "duration": 0.027724,
     "end_time": "2025-02-10T04:55:36.232761",
     "exception": false,
     "start_time": "2025-02-10T04:55:36.205037",
     "status": "completed"
    },
    "tags": []
   },
   "source": [
    "**Congratulations!** You've completed this lab. However, you may not notice a green check mark next to this item on Coursera's platform. Please continue your progress regardless of the check mark. Just click on the \"save\" icon at the top of this notebook to ensure your work has been logged."
   ]
  }
 ],
 "metadata": {
  "colab": {
   "collapsed_sections": [
    "04271393-b4a7-40b8-8cfd-6dfd815f52bd",
    "29ec7e9e-ded4-4621-9ef1-62836b90b3a6",
    "dbdbfc1c-fce0-4813-aafe-c58bfaa436b6",
    "3521b6db-6c35-4574-9bea-17af4ef3dd96",
    "ad67e686-dd0e-4582-b867-47fe112a53f0",
    "a7eca70a-cbe7-4e61-b712-3eae5cf6da34",
    "b343172c-32e9-4d71-a353-5b769460afe1"
   ],
   "name": "SR-051_Learner_Facing_Lab_Round4.ipynb",
   "provenance": [],
   "toc_visible": true
  },
  "kaggle": {
   "accelerator": "none",
   "dataSources": [
    {
     "datasetId": 6636573,
     "sourceId": 10708337,
     "sourceType": "datasetVersion"
    }
   ],
   "dockerImageVersionId": 30886,
   "isGpuEnabled": false,
   "isInternetEnabled": true,
   "language": "python",
   "sourceType": "notebook"
  },
  "kernelspec": {
   "display_name": "Python 3",
   "language": "python",
   "name": "python3"
  },
  "language_info": {
   "codemirror_mode": {
    "name": "ipython",
    "version": 3
   },
   "file_extension": ".py",
   "mimetype": "text/x-python",
   "name": "python",
   "nbconvert_exporter": "python",
   "pygments_lexer": "ipython3",
   "version": "3.10.12"
  },
  "papermill": {
   "default_parameters": {},
   "duration": 18.576764,
   "end_time": "2025-02-10T04:55:37.392635",
   "environment_variables": {},
   "exception": null,
   "input_path": "__notebook__.ipynb",
   "output_path": "__notebook__.ipynb",
   "parameters": {},
   "start_time": "2025-02-10T04:55:18.815871",
   "version": "2.6.0"
  }
 },
 "nbformat": 4,
 "nbformat_minor": 5
}

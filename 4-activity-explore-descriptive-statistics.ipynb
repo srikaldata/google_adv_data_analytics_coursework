{
 "cells": [
  {
   "cell_type": "markdown",
   "id": "bff2788d",
   "metadata": {
    "id": "9HYKQFUbTX8V",
    "papermill": {
     "duration": 0.013337,
     "end_time": "2025-02-08T04:52:43.052174",
     "exception": false,
     "start_time": "2025-02-08T04:52:43.038837",
     "status": "completed"
    },
    "tags": []
   },
   "source": [
    "# Activity: Explore descriptive statistics"
   ]
  },
  {
   "cell_type": "markdown",
   "id": "b4492743",
   "metadata": {
    "id": "ee31943b-274e-4c28-bce6-155cb6f4c334",
    "papermill": {
     "duration": 0.011627,
     "end_time": "2025-02-08T04:52:43.075744",
     "exception": false,
     "start_time": "2025-02-08T04:52:43.064117",
     "status": "completed"
    },
    "tags": []
   },
   "source": [
    "## **Introduction**\n",
    "\n",
    "Data professionals often use descriptive statistics to understand the data they are working with and provide collaborators with a summary of the relative location of values in the data, as well an information about its spread. \n",
    "\n",
    "For this activity, you are a member of an analytics team for the United States Environmental Protection Agency (EPA). You are assigned to analyze data on air quality with respect to carbon monoxide, a major air pollutant. The data includes information from more than 200 sites, identified by state, county, city, and local site names. You will use Python functions to gather statistics about air quality, then share insights with stakeholders."
   ]
  },
  {
   "cell_type": "markdown",
   "id": "5521ff0b",
   "metadata": {
    "id": "4bb9630e-b940-4835-a389-d39def1fa848",
    "papermill": {
     "duration": 0.011114,
     "end_time": "2025-02-08T04:52:43.098304",
     "exception": false,
     "start_time": "2025-02-08T04:52:43.087190",
     "status": "completed"
    },
    "tags": []
   },
   "source": [
    "## **Step 1: Imports** \n"
   ]
  },
  {
   "cell_type": "markdown",
   "id": "f1cc559c",
   "metadata": {
    "id": "bc180686-4ae2-47ea-a292-3588ac60a820",
    "papermill": {
     "duration": 0.011236,
     "end_time": "2025-02-08T04:52:43.121756",
     "exception": false,
     "start_time": "2025-02-08T04:52:43.110520",
     "status": "completed"
    },
    "tags": []
   },
   "source": [
    "Import the relevant Python libraries `pandas` and `numpy`."
   ]
  },
  {
   "cell_type": "code",
   "execution_count": 1,
   "id": "d500b6e5",
   "metadata": {
    "execution": {
     "iopub.execute_input": "2025-02-08T04:52:43.146278Z",
     "iopub.status.busy": "2025-02-08T04:52:43.145946Z",
     "iopub.status.idle": "2025-02-08T04:52:44.581992Z",
     "shell.execute_reply": "2025-02-08T04:52:44.580831Z"
    },
    "id": "8e7f1f2c-bbcc-4f3c-b927-b090ee8334c4",
    "papermill": {
     "duration": 1.450468,
     "end_time": "2025-02-08T04:52:44.584074",
     "exception": false,
     "start_time": "2025-02-08T04:52:43.133606",
     "status": "completed"
    },
    "tags": []
   },
   "outputs": [],
   "source": [
    "# Import relevant Python libraries.\n",
    "\n",
    "### YOUR CODE HERE ###\n",
    "import pandas as pd\n",
    "import numpy as np\n"
   ]
  },
  {
   "cell_type": "markdown",
   "id": "aa14333b",
   "metadata": {
    "id": "7d29c6bd-f194-46bb-b794-56dc20130473",
    "papermill": {
     "duration": 0.01163,
     "end_time": "2025-02-08T04:52:44.607770",
     "exception": false,
     "start_time": "2025-02-08T04:52:44.596140",
     "status": "completed"
    },
    "tags": []
   },
   "source": [
    "The dataset provided is in the form of a .csv file named `c4_epa_air_quality.csv`. It contains a subset of data from the U.S. EPA. As shown in this cell, the dataset has been automatically loaded in for you. You do not need to download the .csv file, or provide more code, in order to access the dataset and proceed with this lab. Please continue with this activity by completing the following instructions."
   ]
  },
  {
   "cell_type": "code",
   "execution_count": 2,
   "id": "c7baf9fd",
   "metadata": {
    "execution": {
     "iopub.execute_input": "2025-02-08T04:52:44.632161Z",
     "iopub.status.busy": "2025-02-08T04:52:44.631682Z",
     "iopub.status.idle": "2025-02-08T04:52:44.676974Z",
     "shell.execute_reply": "2025-02-08T04:52:44.675798Z"
    },
    "id": "3bd40d44-080f-4e49-b0c2-160dedc3c4df",
    "papermill": {
     "duration": 0.059761,
     "end_time": "2025-02-08T04:52:44.679026",
     "exception": false,
     "start_time": "2025-02-08T04:52:44.619265",
     "status": "completed"
    },
    "tags": []
   },
   "outputs": [],
   "source": [
    "# RUN THIS CELL TO IMPORT YOUR DATA.\n",
    "\n",
    "### YOUR CODE HERE\n",
    "epa_data = pd.read_csv('/kaggle/input/google-adv-data-analytics-stats-datasets/4_c4_epa_air_quality.csv', index_col = 0)"
   ]
  },
  {
   "cell_type": "markdown",
   "id": "4b5782c7",
   "metadata": {
    "id": "49881dfd-4532-424f-9729-f5378d984df0",
    "jp-MarkdownHeadingCollapsed": true,
    "papermill": {
     "duration": 0.010945,
     "end_time": "2025-02-08T04:52:44.701747",
     "exception": false,
     "start_time": "2025-02-08T04:52:44.690802",
     "status": "completed"
    },
    "tags": []
   },
   "source": [
    "<details>\n",
    "  <summary><h4><strong>Hint 1</strong></h4></summary>\n",
    "\n",
    "Refer to the video about loading data in Python.\n",
    "\n",
    "</details>"
   ]
  },
  {
   "cell_type": "markdown",
   "id": "e94ef629",
   "metadata": {
    "id": "k2QxFOi9HW1Q",
    "jp-MarkdownHeadingCollapsed": true,
    "papermill": {
     "duration": 0.011956,
     "end_time": "2025-02-08T04:52:44.725068",
     "exception": false,
     "start_time": "2025-02-08T04:52:44.713112",
     "status": "completed"
    },
    "tags": []
   },
   "source": [
    "<details>\n",
    "  <summary><h4><strong>Hint 2</strong></h4></summary>\n",
    "\n",
    "  There is a function in the `pandas` library that allows you to read in data from a .csv file and load it into a DataFrame. \n",
    "\n",
    "</details>"
   ]
  },
  {
   "cell_type": "markdown",
   "id": "d565d3bc",
   "metadata": {
    "id": "ptkclWFzHjHv",
    "jp-MarkdownHeadingCollapsed": true,
    "papermill": {
     "duration": 0.01114,
     "end_time": "2025-02-08T04:52:44.748995",
     "exception": false,
     "start_time": "2025-02-08T04:52:44.737855",
     "status": "completed"
    },
    "tags": []
   },
   "source": [
    "<details>\n",
    "  <summary><h4><strong>Hint 3</strong></h4></summary>\n",
    "\n",
    "  Use the `read_csv` function from the pandas `library`. The `index_col` parameter can be set to `0` to read in the first column as an index (and to avoid `\"Unnamed: 0\"` appearing as a column in the resulting DataFrame).\n",
    "\n",
    "</details>"
   ]
  },
  {
   "cell_type": "markdown",
   "id": "3bd4ea2c",
   "metadata": {
    "id": "95bf39c9-d05c-4324-a40b-bc692607b61b",
    "papermill": {
     "duration": 0.012771,
     "end_time": "2025-02-08T04:52:44.773751",
     "exception": false,
     "start_time": "2025-02-08T04:52:44.760980",
     "status": "completed"
    },
    "tags": []
   },
   "source": [
    "## **Step 2: Data exploration** "
   ]
  },
  {
   "cell_type": "markdown",
   "id": "e57270ca",
   "metadata": {
    "id": "26561614-8e9b-4840-8dbf-b50131ae5314",
    "papermill": {
     "duration": 0.011189,
     "end_time": "2025-02-08T04:52:44.797089",
     "exception": false,
     "start_time": "2025-02-08T04:52:44.785900",
     "status": "completed"
    },
    "tags": []
   },
   "source": [
    "To understand how the dataset is structured, display the first 10 rows of the data."
   ]
  },
  {
   "cell_type": "code",
   "execution_count": 3,
   "id": "5f99857f",
   "metadata": {
    "execution": {
     "iopub.execute_input": "2025-02-08T04:52:44.821415Z",
     "iopub.status.busy": "2025-02-08T04:52:44.821077Z",
     "iopub.status.idle": "2025-02-08T04:52:44.851097Z",
     "shell.execute_reply": "2025-02-08T04:52:44.849840Z"
    },
    "id": "ad5210a5-7a64-4991-b004-de818cfaf506",
    "papermill": {
     "duration": 0.045688,
     "end_time": "2025-02-08T04:52:44.854050",
     "exception": false,
     "start_time": "2025-02-08T04:52:44.808362",
     "status": "completed"
    },
    "tags": []
   },
   "outputs": [
    {
     "data": {
      "text/html": [
       "<div>\n",
       "<style scoped>\n",
       "    .dataframe tbody tr th:only-of-type {\n",
       "        vertical-align: middle;\n",
       "    }\n",
       "\n",
       "    .dataframe tbody tr th {\n",
       "        vertical-align: top;\n",
       "    }\n",
       "\n",
       "    .dataframe thead th {\n",
       "        text-align: right;\n",
       "    }\n",
       "</style>\n",
       "<table border=\"1\" class=\"dataframe\">\n",
       "  <thead>\n",
       "    <tr style=\"text-align: right;\">\n",
       "      <th></th>\n",
       "      <th>date_local</th>\n",
       "      <th>state_name</th>\n",
       "      <th>county_name</th>\n",
       "      <th>city_name</th>\n",
       "      <th>local_site_name</th>\n",
       "      <th>parameter_name</th>\n",
       "      <th>units_of_measure</th>\n",
       "      <th>arithmetic_mean</th>\n",
       "      <th>aqi</th>\n",
       "    </tr>\n",
       "  </thead>\n",
       "  <tbody>\n",
       "    <tr>\n",
       "      <th>0</th>\n",
       "      <td>2018-01-01</td>\n",
       "      <td>Arizona</td>\n",
       "      <td>Maricopa</td>\n",
       "      <td>Buckeye</td>\n",
       "      <td>BUCKEYE</td>\n",
       "      <td>Carbon monoxide</td>\n",
       "      <td>Parts per million</td>\n",
       "      <td>0.473684</td>\n",
       "      <td>7</td>\n",
       "    </tr>\n",
       "    <tr>\n",
       "      <th>1</th>\n",
       "      <td>2018-01-01</td>\n",
       "      <td>Ohio</td>\n",
       "      <td>Belmont</td>\n",
       "      <td>Shadyside</td>\n",
       "      <td>Shadyside</td>\n",
       "      <td>Carbon monoxide</td>\n",
       "      <td>Parts per million</td>\n",
       "      <td>0.263158</td>\n",
       "      <td>5</td>\n",
       "    </tr>\n",
       "    <tr>\n",
       "      <th>2</th>\n",
       "      <td>2018-01-01</td>\n",
       "      <td>Wyoming</td>\n",
       "      <td>Teton</td>\n",
       "      <td>Not in a city</td>\n",
       "      <td>Yellowstone National Park - Old Faithful Snow ...</td>\n",
       "      <td>Carbon monoxide</td>\n",
       "      <td>Parts per million</td>\n",
       "      <td>0.111111</td>\n",
       "      <td>2</td>\n",
       "    </tr>\n",
       "    <tr>\n",
       "      <th>3</th>\n",
       "      <td>2018-01-01</td>\n",
       "      <td>Pennsylvania</td>\n",
       "      <td>Philadelphia</td>\n",
       "      <td>Philadelphia</td>\n",
       "      <td>North East Waste (NEW)</td>\n",
       "      <td>Carbon monoxide</td>\n",
       "      <td>Parts per million</td>\n",
       "      <td>0.300000</td>\n",
       "      <td>3</td>\n",
       "    </tr>\n",
       "    <tr>\n",
       "      <th>4</th>\n",
       "      <td>2018-01-01</td>\n",
       "      <td>Iowa</td>\n",
       "      <td>Polk</td>\n",
       "      <td>Des Moines</td>\n",
       "      <td>CARPENTER</td>\n",
       "      <td>Carbon monoxide</td>\n",
       "      <td>Parts per million</td>\n",
       "      <td>0.215789</td>\n",
       "      <td>3</td>\n",
       "    </tr>\n",
       "    <tr>\n",
       "      <th>5</th>\n",
       "      <td>2018-01-01</td>\n",
       "      <td>Hawaii</td>\n",
       "      <td>Honolulu</td>\n",
       "      <td>Not in a city</td>\n",
       "      <td>Kapolei</td>\n",
       "      <td>Carbon monoxide</td>\n",
       "      <td>Parts per million</td>\n",
       "      <td>0.994737</td>\n",
       "      <td>14</td>\n",
       "    </tr>\n",
       "    <tr>\n",
       "      <th>6</th>\n",
       "      <td>2018-01-01</td>\n",
       "      <td>Hawaii</td>\n",
       "      <td>Honolulu</td>\n",
       "      <td>Not in a city</td>\n",
       "      <td>Kapolei</td>\n",
       "      <td>Carbon monoxide</td>\n",
       "      <td>Parts per million</td>\n",
       "      <td>0.200000</td>\n",
       "      <td>2</td>\n",
       "    </tr>\n",
       "    <tr>\n",
       "      <th>7</th>\n",
       "      <td>2018-01-01</td>\n",
       "      <td>Pennsylvania</td>\n",
       "      <td>Erie</td>\n",
       "      <td>Erie</td>\n",
       "      <td>NaN</td>\n",
       "      <td>Carbon monoxide</td>\n",
       "      <td>Parts per million</td>\n",
       "      <td>0.200000</td>\n",
       "      <td>2</td>\n",
       "    </tr>\n",
       "    <tr>\n",
       "      <th>8</th>\n",
       "      <td>2018-01-01</td>\n",
       "      <td>Hawaii</td>\n",
       "      <td>Honolulu</td>\n",
       "      <td>Honolulu</td>\n",
       "      <td>Honolulu</td>\n",
       "      <td>Carbon monoxide</td>\n",
       "      <td>Parts per million</td>\n",
       "      <td>0.400000</td>\n",
       "      <td>5</td>\n",
       "    </tr>\n",
       "    <tr>\n",
       "      <th>9</th>\n",
       "      <td>2018-01-01</td>\n",
       "      <td>Colorado</td>\n",
       "      <td>Larimer</td>\n",
       "      <td>Fort Collins</td>\n",
       "      <td>Fort Collins - CSU - S. Mason</td>\n",
       "      <td>Carbon monoxide</td>\n",
       "      <td>Parts per million</td>\n",
       "      <td>0.300000</td>\n",
       "      <td>6</td>\n",
       "    </tr>\n",
       "  </tbody>\n",
       "</table>\n",
       "</div>"
      ],
      "text/plain": [
       "   date_local    state_name   county_name      city_name  \\\n",
       "0  2018-01-01       Arizona      Maricopa        Buckeye   \n",
       "1  2018-01-01          Ohio       Belmont      Shadyside   \n",
       "2  2018-01-01       Wyoming         Teton  Not in a city   \n",
       "3  2018-01-01  Pennsylvania  Philadelphia   Philadelphia   \n",
       "4  2018-01-01          Iowa          Polk     Des Moines   \n",
       "5  2018-01-01        Hawaii      Honolulu  Not in a city   \n",
       "6  2018-01-01        Hawaii      Honolulu  Not in a city   \n",
       "7  2018-01-01  Pennsylvania          Erie           Erie   \n",
       "8  2018-01-01        Hawaii      Honolulu       Honolulu   \n",
       "9  2018-01-01      Colorado       Larimer   Fort Collins   \n",
       "\n",
       "                                     local_site_name   parameter_name  \\\n",
       "0                                            BUCKEYE  Carbon monoxide   \n",
       "1                                          Shadyside  Carbon monoxide   \n",
       "2  Yellowstone National Park - Old Faithful Snow ...  Carbon monoxide   \n",
       "3                             North East Waste (NEW)  Carbon monoxide   \n",
       "4                                          CARPENTER  Carbon monoxide   \n",
       "5                                            Kapolei  Carbon monoxide   \n",
       "6                                            Kapolei  Carbon monoxide   \n",
       "7                                                NaN  Carbon monoxide   \n",
       "8                                           Honolulu  Carbon monoxide   \n",
       "9                      Fort Collins - CSU - S. Mason  Carbon monoxide   \n",
       "\n",
       "    units_of_measure  arithmetic_mean  aqi  \n",
       "0  Parts per million         0.473684    7  \n",
       "1  Parts per million         0.263158    5  \n",
       "2  Parts per million         0.111111    2  \n",
       "3  Parts per million         0.300000    3  \n",
       "4  Parts per million         0.215789    3  \n",
       "5  Parts per million         0.994737   14  \n",
       "6  Parts per million         0.200000    2  \n",
       "7  Parts per million         0.200000    2  \n",
       "8  Parts per million         0.400000    5  \n",
       "9  Parts per million         0.300000    6  "
      ]
     },
     "execution_count": 3,
     "metadata": {},
     "output_type": "execute_result"
    }
   ],
   "source": [
    "# Display first 10 rows of the data.\n",
    "\n",
    "### YOUR CODE HERE\n",
    "\n",
    "epa_data.head(10)"
   ]
  },
  {
   "cell_type": "markdown",
   "id": "e3cce9a9",
   "metadata": {
    "id": "2UikTeK7IA-i",
    "jp-MarkdownHeadingCollapsed": true,
    "papermill": {
     "duration": 0.011757,
     "end_time": "2025-02-08T04:52:44.879123",
     "exception": false,
     "start_time": "2025-02-08T04:52:44.867366",
     "status": "completed"
    },
    "tags": []
   },
   "source": [
    "<details>\n",
    "  <summary><h4><strong>Hint 1</strong></h4></summary>\n",
    "\n",
    "Refer to the video about exploratory data analysis in Python.\n",
    "\n",
    "</details>"
   ]
  },
  {
   "cell_type": "markdown",
   "id": "d93c8c98",
   "metadata": {
    "id": "9WUbcPx6IA-k",
    "jp-MarkdownHeadingCollapsed": true,
    "papermill": {
     "duration": 0.011376,
     "end_time": "2025-02-08T04:52:44.903573",
     "exception": false,
     "start_time": "2025-02-08T04:52:44.892197",
     "status": "completed"
    },
    "tags": []
   },
   "source": [
    "<details>\n",
    "  <summary><h4><strong>Hint 2</strong></h4></summary>\n",
    "\n",
    "  There is a function in the `pandas` library that allows you to get a specific number of rows from the top of a DataFrame. \n",
    "\n",
    "</details>"
   ]
  },
  {
   "cell_type": "markdown",
   "id": "9c1ce540",
   "metadata": {
    "id": "rUiFGOUDIA-m",
    "papermill": {
     "duration": 0.011871,
     "end_time": "2025-02-08T04:52:44.928271",
     "exception": false,
     "start_time": "2025-02-08T04:52:44.916400",
     "status": "completed"
    },
    "tags": []
   },
   "source": [
    "<details>\n",
    "  <summary><h4><strong>Hint 3</strong></h4></summary>\n",
    "\n",
    "  Use the `head()` function from the `pandas` library.\n",
    "\n",
    "</details>"
   ]
  },
  {
   "cell_type": "markdown",
   "id": "e6c57961",
   "metadata": {
    "id": "fb45ed17-5e22-4d48-9750-130a8586bbf9",
    "papermill": {
     "duration": 0.012079,
     "end_time": "2025-02-08T04:52:44.952621",
     "exception": false,
     "start_time": "2025-02-08T04:52:44.940542",
     "status": "completed"
    },
    "tags": []
   },
   "source": [
    "**Question:** What does the `aqi` column represent?"
   ]
  },
  {
   "cell_type": "markdown",
   "id": "a39faeb2",
   "metadata": {
    "id": "MlpXJ36xpBFP",
    "papermill": {
     "duration": 0.011597,
     "end_time": "2025-02-08T04:52:44.976168",
     "exception": false,
     "start_time": "2025-02-08T04:52:44.964571",
     "status": "completed"
    },
    "tags": []
   },
   "source": [
    "* it represents the air quality index (numerical value) for a record (a city)"
   ]
  },
  {
   "cell_type": "markdown",
   "id": "69ca51ec",
   "metadata": {
    "id": "7dac147e-19e1-49e7-bd80-e122390c3a70",
    "papermill": {
     "duration": 0.011452,
     "end_time": "2025-02-08T04:52:44.999342",
     "exception": false,
     "start_time": "2025-02-08T04:52:44.987890",
     "status": "completed"
    },
    "tags": []
   },
   "source": [
    "Now, get a table that contains some descriptive statistics about the data."
   ]
  },
  {
   "cell_type": "code",
   "execution_count": 4,
   "id": "ea6d0f2c",
   "metadata": {
    "execution": {
     "iopub.execute_input": "2025-02-08T04:52:45.025381Z",
     "iopub.status.busy": "2025-02-08T04:52:45.025055Z",
     "iopub.status.idle": "2025-02-08T04:52:45.054491Z",
     "shell.execute_reply": "2025-02-08T04:52:45.053275Z"
    },
    "id": "13f1c1dd-5637-4726-8fa0-2fbd838e4afa",
    "papermill": {
     "duration": 0.044918,
     "end_time": "2025-02-08T04:52:45.056597",
     "exception": false,
     "start_time": "2025-02-08T04:52:45.011679",
     "status": "completed"
    },
    "tags": []
   },
   "outputs": [
    {
     "data": {
      "text/html": [
       "<div>\n",
       "<style scoped>\n",
       "    .dataframe tbody tr th:only-of-type {\n",
       "        vertical-align: middle;\n",
       "    }\n",
       "\n",
       "    .dataframe tbody tr th {\n",
       "        vertical-align: top;\n",
       "    }\n",
       "\n",
       "    .dataframe thead th {\n",
       "        text-align: right;\n",
       "    }\n",
       "</style>\n",
       "<table border=\"1\" class=\"dataframe\">\n",
       "  <thead>\n",
       "    <tr style=\"text-align: right;\">\n",
       "      <th></th>\n",
       "      <th>arithmetic_mean</th>\n",
       "      <th>aqi</th>\n",
       "    </tr>\n",
       "  </thead>\n",
       "  <tbody>\n",
       "    <tr>\n",
       "      <th>count</th>\n",
       "      <td>260.000000</td>\n",
       "      <td>260.000000</td>\n",
       "    </tr>\n",
       "    <tr>\n",
       "      <th>mean</th>\n",
       "      <td>0.403169</td>\n",
       "      <td>6.757692</td>\n",
       "    </tr>\n",
       "    <tr>\n",
       "      <th>std</th>\n",
       "      <td>0.317902</td>\n",
       "      <td>7.061707</td>\n",
       "    </tr>\n",
       "    <tr>\n",
       "      <th>min</th>\n",
       "      <td>0.000000</td>\n",
       "      <td>0.000000</td>\n",
       "    </tr>\n",
       "    <tr>\n",
       "      <th>25%</th>\n",
       "      <td>0.200000</td>\n",
       "      <td>2.000000</td>\n",
       "    </tr>\n",
       "    <tr>\n",
       "      <th>50%</th>\n",
       "      <td>0.276315</td>\n",
       "      <td>5.000000</td>\n",
       "    </tr>\n",
       "    <tr>\n",
       "      <th>75%</th>\n",
       "      <td>0.516009</td>\n",
       "      <td>9.000000</td>\n",
       "    </tr>\n",
       "    <tr>\n",
       "      <th>max</th>\n",
       "      <td>1.921053</td>\n",
       "      <td>50.000000</td>\n",
       "    </tr>\n",
       "  </tbody>\n",
       "</table>\n",
       "</div>"
      ],
      "text/plain": [
       "       arithmetic_mean         aqi\n",
       "count       260.000000  260.000000\n",
       "mean          0.403169    6.757692\n",
       "std           0.317902    7.061707\n",
       "min           0.000000    0.000000\n",
       "25%           0.200000    2.000000\n",
       "50%           0.276315    5.000000\n",
       "75%           0.516009    9.000000\n",
       "max           1.921053   50.000000"
      ]
     },
     "execution_count": 4,
     "metadata": {},
     "output_type": "execute_result"
    }
   ],
   "source": [
    "# Get descriptive stats.\n",
    "\n",
    "### YOUR CODE HERE\n",
    "\n",
    "epa_data.describe()"
   ]
  },
  {
   "cell_type": "markdown",
   "id": "e9304643",
   "metadata": {
    "id": "c25c3da0-e242-4f46-9620-6d7f04911aea",
    "jp-MarkdownHeadingCollapsed": true,
    "papermill": {
     "duration": 0.01218,
     "end_time": "2025-02-08T04:52:45.081052",
     "exception": false,
     "start_time": "2025-02-08T04:52:45.068872",
     "status": "completed"
    },
    "tags": []
   },
   "source": [
    "<details>\n",
    "  <summary><h4><strong>Hint 1</strong></h4></summary>\n",
    "\n",
    "Refer to the video about descriptive statistics in Python.\n",
    "\n",
    "</details>"
   ]
  },
  {
   "cell_type": "markdown",
   "id": "c76a77bd",
   "metadata": {
    "id": "BM8x5LToI-Kn",
    "jp-MarkdownHeadingCollapsed": true,
    "papermill": {
     "duration": 0.012122,
     "end_time": "2025-02-08T04:52:45.105668",
     "exception": false,
     "start_time": "2025-02-08T04:52:45.093546",
     "status": "completed"
    },
    "tags": []
   },
   "source": [
    "<details>\n",
    "  <summary><h4><strong>Hint 2</strong></h4></summary>\n",
    "\n",
    "  There is a function in the `pandas` library that allows you to generate a table of basic descriptive statistics about the numeric columns in a DataFrame.\n",
    "\n",
    "</details>"
   ]
  },
  {
   "cell_type": "markdown",
   "id": "1a576a28",
   "metadata": {
    "id": "TVhhKA-6I-Ko",
    "papermill": {
     "duration": 0.011591,
     "end_time": "2025-02-08T04:52:45.129775",
     "exception": false,
     "start_time": "2025-02-08T04:52:45.118184",
     "status": "completed"
    },
    "tags": []
   },
   "source": [
    "<details>\n",
    "  <summary><h4><strong>Hint 3</strong></h4></summary>\n",
    "\n",
    "  Use the `describe()` function from the `pandas` library.\n",
    "\n",
    "</details>"
   ]
  },
  {
   "cell_type": "markdown",
   "id": "dbece9e1",
   "metadata": {
    "id": "a70475eb-d3a6-42e4-8b71-a49b5a1aa0db",
    "papermill": {
     "duration": 0.012393,
     "end_time": "2025-02-08T04:52:45.154548",
     "exception": false,
     "start_time": "2025-02-08T04:52:45.142155",
     "status": "completed"
    },
    "tags": []
   },
   "source": [
    "**Question:** Based on the table of descriptive statistics, what do you notice about the count value for the `aqi` column?"
   ]
  },
  {
   "cell_type": "markdown",
   "id": "6c43ddaa",
   "metadata": {
    "id": "ZJddhXIUpCwz",
    "papermill": {
     "duration": 0.011634,
     "end_time": "2025-02-08T04:52:45.178156",
     "exception": false,
     "start_time": "2025-02-08T04:52:45.166522",
     "status": "completed"
    },
    "tags": []
   },
   "source": [
    "* there are 260 entries"
   ]
  },
  {
   "cell_type": "markdown",
   "id": "e51134ad",
   "metadata": {
    "id": "c7a59d04-61f1-45e5-946f-eaed074988cf",
    "papermill": {
     "duration": 0.011582,
     "end_time": "2025-02-08T04:52:45.201631",
     "exception": false,
     "start_time": "2025-02-08T04:52:45.190049",
     "status": "completed"
    },
    "tags": []
   },
   "source": [
    "**Question:** What do you notice about the 25th percentile for the `aqi` column?\n",
    "\n",
    "This is an important measure for understanding where the aqi values lie. "
   ]
  },
  {
   "cell_type": "markdown",
   "id": "a02ee13c",
   "metadata": {
    "id": "xhL4Qk7TpDrZ",
    "papermill": {
     "duration": 0.011882,
     "end_time": "2025-02-08T04:52:45.225635",
     "exception": false,
     "start_time": "2025-02-08T04:52:45.213753",
     "status": "completed"
    },
    "tags": []
   },
   "source": [
    "* 1st quartile (Q1 or 25th percentile is 2. \n",
    "* this means 25% of the values in the sample lie below 2"
   ]
  },
  {
   "cell_type": "markdown",
   "id": "83d03917",
   "metadata": {
    "id": "245a9299-23ea-4def-b968-b26be1da3a74",
    "papermill": {
     "duration": 0.012208,
     "end_time": "2025-02-08T04:52:45.251158",
     "exception": false,
     "start_time": "2025-02-08T04:52:45.238950",
     "status": "completed"
    },
    "tags": []
   },
   "source": [
    "**Question:** What do you notice about the 75th percentile for the `aqi` column?\n",
    "\n",
    "This is another important measure for understanding where the aqi values lie. "
   ]
  },
  {
   "cell_type": "markdown",
   "id": "cf551194",
   "metadata": {
    "id": "W2SLJkeCpEOj",
    "papermill": {
     "duration": 0.013842,
     "end_time": "2025-02-08T04:52:45.278027",
     "exception": false,
     "start_time": "2025-02-08T04:52:45.264185",
     "status": "completed"
    },
    "tags": []
   },
   "source": [
    "[Write your response here. Double-click (or enter) to edit.]"
   ]
  },
  {
   "cell_type": "markdown",
   "id": "25c7c3c9",
   "metadata": {
    "id": "ZfvOKy7F7SOA",
    "papermill": {
     "duration": 0.01189,
     "end_time": "2025-02-08T04:52:45.302379",
     "exception": false,
     "start_time": "2025-02-08T04:52:45.290489",
     "status": "completed"
    },
    "tags": []
   },
   "source": [
    "## **Step 3: Statistical tests** "
   ]
  },
  {
   "cell_type": "markdown",
   "id": "de0639a3",
   "metadata": {
    "id": "5464fa18-f969-4e1e-8539-9b2d9a11766d",
    "papermill": {
     "duration": 0.011733,
     "end_time": "2025-02-08T04:52:45.326242",
     "exception": false,
     "start_time": "2025-02-08T04:52:45.314509",
     "status": "completed"
    },
    "tags": []
   },
   "source": [
    "Next, get some descriptive statistics about the states in the data."
   ]
  },
  {
   "cell_type": "code",
   "execution_count": 5,
   "id": "ed05f6fc",
   "metadata": {
    "execution": {
     "iopub.execute_input": "2025-02-08T04:52:45.352721Z",
     "iopub.status.busy": "2025-02-08T04:52:45.352309Z",
     "iopub.status.idle": "2025-02-08T04:52:45.366190Z",
     "shell.execute_reply": "2025-02-08T04:52:45.365157Z"
    },
    "id": "678346a1-bc1a-40be-850a-c03488970604",
    "papermill": {
     "duration": 0.029683,
     "end_time": "2025-02-08T04:52:45.368183",
     "exception": false,
     "start_time": "2025-02-08T04:52:45.338500",
     "status": "completed"
    },
    "tags": []
   },
   "outputs": [
    {
     "data": {
      "text/plain": [
       "count            260\n",
       "unique            52\n",
       "top       California\n",
       "freq              66\n",
       "Name: state_name, dtype: object"
      ]
     },
     "execution_count": 5,
     "metadata": {},
     "output_type": "execute_result"
    }
   ],
   "source": [
    "# Get descriptive stats about the states in the data.\n",
    "\n",
    "### YOUR CODE HERE\n",
    "\n",
    "epa_data['state_name'].describe()\n"
   ]
  },
  {
   "cell_type": "code",
   "execution_count": 6,
   "id": "70e4f2cc",
   "metadata": {
    "execution": {
     "iopub.execute_input": "2025-02-08T04:52:45.394776Z",
     "iopub.status.busy": "2025-02-08T04:52:45.394357Z",
     "iopub.status.idle": "2025-02-08T04:52:45.403144Z",
     "shell.execute_reply": "2025-02-08T04:52:45.401820Z"
    },
    "papermill": {
     "duration": 0.02417,
     "end_time": "2025-02-08T04:52:45.405172",
     "exception": false,
     "start_time": "2025-02-08T04:52:45.381002",
     "status": "completed"
    },
    "tags": []
   },
   "outputs": [
    {
     "data": {
      "text/plain": [
       "array(['Arizona', 'Ohio', 'Wyoming', 'Pennsylvania', 'Iowa', 'Hawaii',\n",
       "       'Colorado', 'Minnesota', 'Indiana', 'Missouri', 'Connecticut',\n",
       "       'California', 'Nevada', 'Virginia', 'Rhode Island', 'Texas',\n",
       "       'Illinois', 'Kansas', 'Maryland', 'New Jersey', 'Massachusetts',\n",
       "       'Maine', 'Idaho', 'Florida', 'Vermont', 'Tennessee', 'Georgia',\n",
       "       'South Dakota', 'North Carolina', 'West Virginia', 'Michigan',\n",
       "       'Nebraska', 'Alabama', 'Washington', 'Kentucky', 'Oklahoma',\n",
       "       'New York', 'North Dakota', 'Montana', 'Utah', 'Delaware',\n",
       "       'New Hampshire', 'Louisiana', 'Mississippi', 'New Mexico',\n",
       "       'Oregon', 'District Of Columbia', 'Arkansas', 'Puerto Rico',\n",
       "       'South Carolina', 'Alaska', 'Wisconsin'], dtype=object)"
      ]
     },
     "execution_count": 6,
     "metadata": {},
     "output_type": "execute_result"
    }
   ],
   "source": [
    "epa_data['state_name'].unique()"
   ]
  },
  {
   "cell_type": "markdown",
   "id": "a2d81774",
   "metadata": {
    "id": "mXN8yn5hKneJ",
    "jp-MarkdownHeadingCollapsed": true,
    "papermill": {
     "duration": 0.011975,
     "end_time": "2025-02-08T04:52:45.429575",
     "exception": false,
     "start_time": "2025-02-08T04:52:45.417600",
     "status": "completed"
    },
    "tags": []
   },
   "source": [
    "<details>\n",
    "  <summary><h4><strong>Hint 1</strong></h4></summary>\n",
    "\n",
    "Refer to the video about descriptive statistics in Python.\n",
    "\n",
    "</details>"
   ]
  },
  {
   "cell_type": "markdown",
   "id": "97e0b2a7",
   "metadata": {
    "id": "NrCBFqf6KneL",
    "jp-MarkdownHeadingCollapsed": true,
    "papermill": {
     "duration": 0.072081,
     "end_time": "2025-02-08T04:52:45.513762",
     "exception": false,
     "start_time": "2025-02-08T04:52:45.441681",
     "status": "completed"
    },
    "tags": []
   },
   "source": [
    "<details>\n",
    "  <summary><h4><strong>Hint 2</strong></h4></summary>\n",
    "\n",
    "  There is a function in the `pandas` library that allows you to generate basic descriptive statistics about a DataFrame or a column you are interested in.\n",
    "\n",
    "</details>"
   ]
  },
  {
   "cell_type": "markdown",
   "id": "46297078",
   "metadata": {
    "id": "ELA3AlzhKneN",
    "papermill": {
     "duration": 0.011869,
     "end_time": "2025-02-08T04:52:45.538381",
     "exception": false,
     "start_time": "2025-02-08T04:52:45.526512",
     "status": "completed"
    },
    "tags": []
   },
   "source": [
    "<details>\n",
    "  <summary><h4><strong>Hint 3</strong></h4></summary>\n",
    "\n",
    " Use the `describe()` function from the `pandas` library. Note that this function can be used:\n",
    "- \"on a DataFrame (to find descriptive statistics about the numeric columns)\" \n",
    "- \"directly on a column containing categorical data (to find pertinent descriptive statistics)\"\n",
    "\n",
    "</details>"
   ]
  },
  {
   "cell_type": "markdown",
   "id": "223fc222",
   "metadata": {
    "id": "d6f10268-bf06-471f-8e6e-41c30a8e3e2a",
    "papermill": {
     "duration": 0.011669,
     "end_time": "2025-02-08T04:52:45.562080",
     "exception": false,
     "start_time": "2025-02-08T04:52:45.550411",
     "status": "completed"
    },
    "tags": []
   },
   "source": [
    "**Question:** What do you notice while reviewing the descriptive statistics about the states in the data? "
   ]
  },
  {
   "cell_type": "markdown",
   "id": "08844261",
   "metadata": {
    "id": "Vbu9rG78pGY1",
    "papermill": {
     "duration": 0.011635,
     "end_time": "2025-02-08T04:52:45.585915",
     "exception": false,
     "start_time": "2025-02-08T04:52:45.574280",
     "status": "completed"
    },
    "tags": []
   },
   "source": [
    "* there are 260 values of which 52 are unique states. There are only 50 states in the US, so it looks like territories are also included in the dataset\n",
    "* 'California' has the highest frequency in the state_name column at 66 counts"
   ]
  },
  {
   "cell_type": "markdown",
   "id": "05762a0b",
   "metadata": {
    "id": "ArTZls9y8amg",
    "papermill": {
     "duration": 0.012027,
     "end_time": "2025-02-08T04:52:45.610003",
     "exception": false,
     "start_time": "2025-02-08T04:52:45.597976",
     "status": "completed"
    },
    "tags": []
   },
   "source": [
    "## **Step 4. Results and evaluation**"
   ]
  },
  {
   "cell_type": "markdown",
   "id": "0bc62ba4",
   "metadata": {
    "id": "8c37014f-2751-4f65-b145-c63aa3a82e9a",
    "papermill": {
     "duration": 0.012159,
     "end_time": "2025-02-08T04:52:45.634154",
     "exception": false,
     "start_time": "2025-02-08T04:52:45.621995",
     "status": "completed"
    },
    "tags": []
   },
   "source": [
    "Now, compute the mean value from the `aqi` column.\n",
    "\n",
    "Note: Sometimes you have to individually calculate statistics. To review to that approach, use the `numpy` library to calculate each of the main statistics in the preceding table for the `aqi` column."
   ]
  },
  {
   "cell_type": "code",
   "execution_count": 7,
   "id": "e5d98481",
   "metadata": {
    "execution": {
     "iopub.execute_input": "2025-02-08T04:52:45.659508Z",
     "iopub.status.busy": "2025-02-08T04:52:45.659114Z",
     "iopub.status.idle": "2025-02-08T04:52:45.665657Z",
     "shell.execute_reply": "2025-02-08T04:52:45.664530Z"
    },
    "id": "df5f18bc-9d4b-4625-9b6f-01a6323b8b89",
    "papermill": {
     "duration": 0.021299,
     "end_time": "2025-02-08T04:52:45.667468",
     "exception": false,
     "start_time": "2025-02-08T04:52:45.646169",
     "status": "completed"
    },
    "tags": []
   },
   "outputs": [
    {
     "data": {
      "text/plain": [
       "6.76"
      ]
     },
     "execution_count": 7,
     "metadata": {},
     "output_type": "execute_result"
    }
   ],
   "source": [
    "# Compute the mean value from the aqi column.\n",
    "\n",
    "### YOUR CODE HERE\n",
    "round(np.mean(epa_data['aqi']),2)"
   ]
  },
  {
   "cell_type": "markdown",
   "id": "7cc915b8",
   "metadata": {
    "id": "a2E3VhSkL4QR",
    "jp-MarkdownHeadingCollapsed": true,
    "papermill": {
     "duration": 0.012106,
     "end_time": "2025-02-08T04:52:45.692062",
     "exception": false,
     "start_time": "2025-02-08T04:52:45.679956",
     "status": "completed"
    },
    "tags": []
   },
   "source": [
    "<details>\n",
    "  <summary><h4><strong>Hint 1</strong></h4></summary>\n",
    "\n",
    "Refer to the video about descriptive statistics in Python.\n",
    "\n",
    "</details>"
   ]
  },
  {
   "cell_type": "markdown",
   "id": "cce5184b",
   "metadata": {
    "id": "Cs9IQSfYL4QT",
    "jp-MarkdownHeadingCollapsed": true,
    "papermill": {
     "duration": 0.01189,
     "end_time": "2025-02-08T04:52:45.716351",
     "exception": false,
     "start_time": "2025-02-08T04:52:45.704461",
     "status": "completed"
    },
    "tags": []
   },
   "source": [
    "<details>\n",
    "  <summary><h4><strong>Hint 2</strong></h4></summary>\n",
    "\n",
    "  There is a function in the `numpy` library that allows you to get the mean value from an array or a Series of values.\n",
    "\n",
    "</details>"
   ]
  },
  {
   "cell_type": "markdown",
   "id": "4fd0b238",
   "metadata": {
    "id": "aqewdWRoL4QU",
    "papermill": {
     "duration": 0.012083,
     "end_time": "2025-02-08T04:52:45.740871",
     "exception": false,
     "start_time": "2025-02-08T04:52:45.728788",
     "status": "completed"
    },
    "tags": []
   },
   "source": [
    "<details>\n",
    "  <summary><h4><strong>Hint 3</strong></h4></summary>\n",
    "\n",
    "  Use the `mean()` function from the `numpy` library.\n",
    "\n",
    "</details>"
   ]
  },
  {
   "cell_type": "markdown",
   "id": "6e7d3bed",
   "metadata": {
    "id": "4552de4a-70d5-4862-bff8-e08b8a812d98",
    "papermill": {
     "duration": 0.012211,
     "end_time": "2025-02-08T04:52:45.766626",
     "exception": false,
     "start_time": "2025-02-08T04:52:45.754415",
     "status": "completed"
    },
    "tags": []
   },
   "source": [
    "**Question:** What do you notice about the mean value from the `aqi` column?\n",
    "\n",
    "This is an important measure, as it tells you what the average air quality is based on the data."
   ]
  },
  {
   "cell_type": "markdown",
   "id": "93c928af",
   "metadata": {
    "id": "PV0GCfM9pJqw",
    "papermill": {
     "duration": 0.012646,
     "end_time": "2025-02-08T04:52:45.794851",
     "exception": false,
     "start_time": "2025-02-08T04:52:45.782205",
     "status": "completed"
    },
    "tags": []
   },
   "source": [
    "* the average aqi is 6.76"
   ]
  },
  {
   "cell_type": "markdown",
   "id": "73b7bc9e",
   "metadata": {
    "id": "573d29cd-0ea9-4c96-80ea-c02144a155e9",
    "papermill": {
     "duration": 0.012082,
     "end_time": "2025-02-08T04:52:45.819572",
     "exception": false,
     "start_time": "2025-02-08T04:52:45.807490",
     "status": "completed"
    },
    "tags": []
   },
   "source": [
    "Next, compute the median value from the aqi column."
   ]
  },
  {
   "cell_type": "code",
   "execution_count": 8,
   "id": "10bf2ec4",
   "metadata": {
    "execution": {
     "iopub.execute_input": "2025-02-08T04:52:45.845693Z",
     "iopub.status.busy": "2025-02-08T04:52:45.845310Z",
     "iopub.status.idle": "2025-02-08T04:52:45.851543Z",
     "shell.execute_reply": "2025-02-08T04:52:45.850413Z"
    },
    "id": "12da2095-441f-48f5-b8eb-1c7ae76edc9e",
    "papermill": {
     "duration": 0.021367,
     "end_time": "2025-02-08T04:52:45.853225",
     "exception": false,
     "start_time": "2025-02-08T04:52:45.831858",
     "status": "completed"
    },
    "tags": []
   },
   "outputs": [
    {
     "data": {
      "text/plain": [
       "5.0"
      ]
     },
     "execution_count": 8,
     "metadata": {},
     "output_type": "execute_result"
    }
   ],
   "source": [
    "# Compute the median value from the aqi column.\n",
    "\n",
    "### YOUR CODE HERE\n",
    "\n",
    "np.median(epa_data['aqi'])"
   ]
  },
  {
   "cell_type": "markdown",
   "id": "887c6cd2",
   "metadata": {
    "id": "ZTaoY4RpM3q7",
    "jp-MarkdownHeadingCollapsed": true,
    "papermill": {
     "duration": 0.012432,
     "end_time": "2025-02-08T04:52:45.878289",
     "exception": false,
     "start_time": "2025-02-08T04:52:45.865857",
     "status": "completed"
    },
    "tags": []
   },
   "source": [
    "<details>\n",
    "  <summary><h4><strong>Hint 1</strong></h4></summary>\n",
    "\n",
    "Refer to the video about descriptive statistics in Python.\n",
    "\n",
    "</details>"
   ]
  },
  {
   "cell_type": "markdown",
   "id": "fbf5968f",
   "metadata": {
    "id": "AuZzoodzM3q9",
    "jp-MarkdownHeadingCollapsed": true,
    "papermill": {
     "duration": 0.012261,
     "end_time": "2025-02-08T04:52:45.903318",
     "exception": false,
     "start_time": "2025-02-08T04:52:45.891057",
     "status": "completed"
    },
    "tags": []
   },
   "source": [
    "<details>\n",
    "  <summary><h4><strong>Hint 2</strong></h4></summary>\n",
    "\n",
    "  There is a function in the `numpy` library that allows you to get the median value from an array or a series of values.\n",
    "\n",
    "</details>"
   ]
  },
  {
   "cell_type": "markdown",
   "id": "ac06d671",
   "metadata": {
    "id": "hdeDIF-tM3q_",
    "papermill": {
     "duration": 0.012658,
     "end_time": "2025-02-08T04:52:45.928826",
     "exception": false,
     "start_time": "2025-02-08T04:52:45.916168",
     "status": "completed"
    },
    "tags": []
   },
   "source": [
    "<details>\n",
    "  <summary><h4><strong>Hint 3</strong></h4></summary>\n",
    "\n",
    "  Use the `median()` function from the `numpy` library.\n",
    "\n",
    "</details>"
   ]
  },
  {
   "cell_type": "markdown",
   "id": "905fe13b",
   "metadata": {
    "id": "be75aa7d-a91c-4e3b-8eda-e2e3fe89c8d0",
    "papermill": {
     "duration": 0.012389,
     "end_time": "2025-02-08T04:52:45.954320",
     "exception": false,
     "start_time": "2025-02-08T04:52:45.941931",
     "status": "completed"
    },
    "tags": []
   },
   "source": [
    "**Question:** What do you notice about the median value from the `aqi` column?\n",
    "\n",
    "This is an important measure for understanding the central location of the data."
   ]
  },
  {
   "cell_type": "markdown",
   "id": "a2daa5c5",
   "metadata": {
    "id": "LCW6pR6fpKdR",
    "papermill": {
     "duration": 0.012636,
     "end_time": "2025-02-08T04:52:45.979746",
     "exception": false,
     "start_time": "2025-02-08T04:52:45.967110",
     "status": "completed"
    },
    "tags": []
   },
   "source": [
    "* the median aqi is 5. 50% of the values lie below 5"
   ]
  },
  {
   "cell_type": "markdown",
   "id": "0861e5f6",
   "metadata": {
    "id": "4f8cdeda-be0c-4a18-9a33-0a16c91f08fc",
    "papermill": {
     "duration": 0.012664,
     "end_time": "2025-02-08T04:52:46.005151",
     "exception": false,
     "start_time": "2025-02-08T04:52:45.992487",
     "status": "completed"
    },
    "tags": []
   },
   "source": [
    "Next, identify the minimum value from the `aqi` column."
   ]
  },
  {
   "cell_type": "code",
   "execution_count": 9,
   "id": "8d26eb28",
   "metadata": {
    "execution": {
     "iopub.execute_input": "2025-02-08T04:52:46.032267Z",
     "iopub.status.busy": "2025-02-08T04:52:46.031870Z",
     "iopub.status.idle": "2025-02-08T04:52:46.037909Z",
     "shell.execute_reply": "2025-02-08T04:52:46.036902Z"
    },
    "id": "bb3f1739-89aa-442a-8ddb-6c2d381243f3",
    "papermill": {
     "duration": 0.021428,
     "end_time": "2025-02-08T04:52:46.039686",
     "exception": false,
     "start_time": "2025-02-08T04:52:46.018258",
     "status": "completed"
    },
    "tags": []
   },
   "outputs": [
    {
     "data": {
      "text/plain": [
       "0"
      ]
     },
     "execution_count": 9,
     "metadata": {},
     "output_type": "execute_result"
    }
   ],
   "source": [
    "# Identify the minimum value from the aqi column.\n",
    "\n",
    "### YOUR CODE HERE\n",
    "\n",
    "np.min(epa_data['aqi'])"
   ]
  },
  {
   "cell_type": "markdown",
   "id": "30af6e38",
   "metadata": {
    "id": "qx6thFRiR7Ed",
    "jp-MarkdownHeadingCollapsed": true,
    "papermill": {
     "duration": 0.012176,
     "end_time": "2025-02-08T04:52:46.064721",
     "exception": false,
     "start_time": "2025-02-08T04:52:46.052545",
     "status": "completed"
    },
    "tags": []
   },
   "source": [
    "<details>\n",
    "  <summary><h4><strong>Hint 1</strong></h4></summary>\n",
    "\n",
    "Refer to the video about descriptive statistics in Python.\n",
    "\n",
    "</details>"
   ]
  },
  {
   "cell_type": "markdown",
   "id": "c7a5155d",
   "metadata": {
    "id": "vZeWnVMDR7Ee",
    "jp-MarkdownHeadingCollapsed": true,
    "papermill": {
     "duration": 0.012381,
     "end_time": "2025-02-08T04:52:46.089840",
     "exception": false,
     "start_time": "2025-02-08T04:52:46.077459",
     "status": "completed"
    },
    "tags": []
   },
   "source": [
    "<details>\n",
    "  <summary><h4><strong>Hint 2</strong></h4></summary>\n",
    "\n",
    "  There is a function in the `numpy` library that allows you to get the minimum value from an array or a Series of values.\n",
    "\n",
    "</details>"
   ]
  },
  {
   "cell_type": "markdown",
   "id": "541398dc",
   "metadata": {
    "id": "RILxi-fPR7Ef",
    "papermill": {
     "duration": 0.012531,
     "end_time": "2025-02-08T04:52:46.114809",
     "exception": false,
     "start_time": "2025-02-08T04:52:46.102278",
     "status": "completed"
    },
    "tags": []
   },
   "source": [
    "<details>\n",
    "  <summary><h4><strong>Hint 3</strong></h4></summary>\n",
    "\n",
    "  Use the `min()` function from the `numpy` library.\n",
    "\n",
    "</details>"
   ]
  },
  {
   "cell_type": "markdown",
   "id": "02935434",
   "metadata": {
    "id": "59335267-2025-4013-92de-fec720576263",
    "papermill": {
     "duration": 0.01269,
     "end_time": "2025-02-08T04:52:46.140206",
     "exception": false,
     "start_time": "2025-02-08T04:52:46.127516",
     "status": "completed"
    },
    "tags": []
   },
   "source": [
    "**Question:** What do you notice about the minimum value from the `aqi` column?\n",
    "\n",
    "This is an important measure, as it tell you the best air quality observed in the data."
   ]
  },
  {
   "cell_type": "markdown",
   "id": "bcd7f184",
   "metadata": {
    "id": "0IbKLA8gpLVR",
    "papermill": {
     "duration": 0.012207,
     "end_time": "2025-02-08T04:52:46.165273",
     "exception": false,
     "start_time": "2025-02-08T04:52:46.153066",
     "status": "completed"
    },
    "tags": []
   },
   "source": [
    "* the minimum (lowest value in the sample) aqi is 0"
   ]
  },
  {
   "cell_type": "markdown",
   "id": "bf3c80b6",
   "metadata": {
    "id": "5864cf7b-af15-4cd9-8648-903c882e8e8f",
    "papermill": {
     "duration": 0.012365,
     "end_time": "2025-02-08T04:52:46.190975",
     "exception": false,
     "start_time": "2025-02-08T04:52:46.178610",
     "status": "completed"
    },
    "tags": []
   },
   "source": [
    "Now, identify the maximum value from the `aqi` column."
   ]
  },
  {
   "cell_type": "code",
   "execution_count": 10,
   "id": "cdaa93bd",
   "metadata": {
    "execution": {
     "iopub.execute_input": "2025-02-08T04:52:46.218318Z",
     "iopub.status.busy": "2025-02-08T04:52:46.217980Z",
     "iopub.status.idle": "2025-02-08T04:52:46.224037Z",
     "shell.execute_reply": "2025-02-08T04:52:46.222801Z"
    },
    "id": "ce9670ac-1fb3-48d1-ac92-f04f73ef0e37",
    "papermill": {
     "duration": 0.021925,
     "end_time": "2025-02-08T04:52:46.225749",
     "exception": false,
     "start_time": "2025-02-08T04:52:46.203824",
     "status": "completed"
    },
    "tags": []
   },
   "outputs": [
    {
     "data": {
      "text/plain": [
       "50"
      ]
     },
     "execution_count": 10,
     "metadata": {},
     "output_type": "execute_result"
    }
   ],
   "source": [
    "# Identify the maximum value from the aqi column.\n",
    "\n",
    "### YOUR CODE HERE\n",
    "\n",
    "np.max(epa_data['aqi'])"
   ]
  },
  {
   "cell_type": "markdown",
   "id": "451d8479",
   "metadata": {
    "id": "FUhO3yFeSFXZ",
    "jp-MarkdownHeadingCollapsed": true,
    "papermill": {
     "duration": 0.013017,
     "end_time": "2025-02-08T04:52:46.251826",
     "exception": false,
     "start_time": "2025-02-08T04:52:46.238809",
     "status": "completed"
    },
    "tags": []
   },
   "source": [
    "<details>\n",
    "  <summary><h4><strong>Hint 1</strong></h4></summary>\n",
    "\n",
    "Refer to the video about descriptive statistics in Python.\n",
    "\n",
    "</details>"
   ]
  },
  {
   "cell_type": "markdown",
   "id": "4635f868",
   "metadata": {
    "id": "vR475DQfSFXc",
    "jp-MarkdownHeadingCollapsed": true,
    "papermill": {
     "duration": 0.012203,
     "end_time": "2025-02-08T04:52:46.276750",
     "exception": false,
     "start_time": "2025-02-08T04:52:46.264547",
     "status": "completed"
    },
    "tags": []
   },
   "source": [
    "<details>\n",
    "  <summary><h4><strong>Hint 2</strong></h4></summary>\n",
    "\n",
    "  There is a function in the `numpy` library that allows you to get the maximum value from an array or a Series of values.\n",
    "\n",
    "</details>"
   ]
  },
  {
   "cell_type": "markdown",
   "id": "ded7d345",
   "metadata": {
    "id": "a7eDQB8_SFXe",
    "papermill": {
     "duration": 0.012198,
     "end_time": "2025-02-08T04:52:46.301580",
     "exception": false,
     "start_time": "2025-02-08T04:52:46.289382",
     "status": "completed"
    },
    "tags": []
   },
   "source": [
    "<details>\n",
    "  <summary><h4><strong>Hint 3</strong></h4></summary>\n",
    "\n",
    "  Use the `max()` function from the `numpy` library.\n",
    "\n",
    "</details>"
   ]
  },
  {
   "cell_type": "markdown",
   "id": "fa29f3da",
   "metadata": {
    "id": "b66e1d7d-a90e-4aff-b8da-3725c4f15c26",
    "papermill": {
     "duration": 0.012173,
     "end_time": "2025-02-08T04:52:46.326202",
     "exception": false,
     "start_time": "2025-02-08T04:52:46.314029",
     "status": "completed"
    },
    "tags": []
   },
   "source": [
    "**Question:** What do you notice about the maximum value from the `aqi` column?\n",
    "\n",
    "This is an important measure, as it tells you which value in the data corresponds to the worst air quality observed in the data."
   ]
  },
  {
   "cell_type": "markdown",
   "id": "c5169b7a",
   "metadata": {
    "id": "_BOdBpYupMNh",
    "papermill": {
     "duration": 0.012562,
     "end_time": "2025-02-08T04:52:46.351767",
     "exception": false,
     "start_time": "2025-02-08T04:52:46.339205",
     "status": "completed"
    },
    "tags": []
   },
   "source": [
    "* the maximum aqi (highest value in the sample) is 50"
   ]
  },
  {
   "cell_type": "markdown",
   "id": "f7657f48",
   "metadata": {
    "id": "0f2b502c-55bd-4567-b602-129d5b682ea4",
    "papermill": {
     "duration": 0.012924,
     "end_time": "2025-02-08T04:52:46.377768",
     "exception": false,
     "start_time": "2025-02-08T04:52:46.364844",
     "status": "completed"
    },
    "tags": []
   },
   "source": [
    "Now, compute the standard deviation for the `aqi` column.\n",
    "\n",
    "By default, the `numpy` library uses 0 as the Delta Degrees of Freedom, while `pandas` library uses 1. To get the same value for standard deviation using either library, specify the `ddof` parameter to 1 when calculating standard deviation."
   ]
  },
  {
   "cell_type": "code",
   "execution_count": 11,
   "id": "0bef9cf4",
   "metadata": {
    "execution": {
     "iopub.execute_input": "2025-02-08T04:52:46.404281Z",
     "iopub.status.busy": "2025-02-08T04:52:46.403877Z",
     "iopub.status.idle": "2025-02-08T04:52:46.410145Z",
     "shell.execute_reply": "2025-02-08T04:52:46.409068Z"
    },
    "id": "4caba3ad-6e7c-416a-a062-39a6af9f1f00",
    "papermill": {
     "duration": 0.021768,
     "end_time": "2025-02-08T04:52:46.412092",
     "exception": false,
     "start_time": "2025-02-08T04:52:46.390324",
     "status": "completed"
    },
    "tags": []
   },
   "outputs": [
    {
     "data": {
      "text/plain": [
       "7.0617066788207215"
      ]
     },
     "execution_count": 11,
     "metadata": {},
     "output_type": "execute_result"
    }
   ],
   "source": [
    "# Compute the standard deviation for the aqi column.\n",
    "\n",
    "### YOUR CODE HERE\n",
    "\n",
    "np.std(epa_data['aqi'], ddof=1)"
   ]
  },
  {
   "cell_type": "markdown",
   "id": "e20cc773",
   "metadata": {
    "id": "dZTFWnOTSNbA",
    "jp-MarkdownHeadingCollapsed": true,
    "papermill": {
     "duration": 0.012672,
     "end_time": "2025-02-08T04:52:46.437688",
     "exception": false,
     "start_time": "2025-02-08T04:52:46.425016",
     "status": "completed"
    },
    "tags": []
   },
   "source": [
    "<details>\n",
    "  <summary><h4><strong>Hint 1</strong></h4></summary>\n",
    "\n",
    "Refer to the video section about descriptive statistics in Python.\n",
    "\n",
    "</details>"
   ]
  },
  {
   "cell_type": "markdown",
   "id": "baf8e8ba",
   "metadata": {
    "id": "ps6bHHn_SNbC",
    "jp-MarkdownHeadingCollapsed": true,
    "papermill": {
     "duration": 0.012377,
     "end_time": "2025-02-08T04:52:46.462901",
     "exception": false,
     "start_time": "2025-02-08T04:52:46.450524",
     "status": "completed"
    },
    "tags": []
   },
   "source": [
    "<details>\n",
    "  <summary><h4><strong>Hint 2</strong></h4></summary>\n",
    "\n",
    "  There is a function in the `numpy` library that allows you to get the standard deviation from an array or a series of values.\n",
    "\n",
    "</details>"
   ]
  },
  {
   "cell_type": "markdown",
   "id": "0e553ae1",
   "metadata": {
    "id": "FI09MR1ZSNbD",
    "papermill": {
     "duration": 0.012523,
     "end_time": "2025-02-08T04:52:46.488278",
     "exception": false,
     "start_time": "2025-02-08T04:52:46.475755",
     "status": "completed"
    },
    "tags": []
   },
   "source": [
    "<details>\n",
    "  <summary><h4><strong>Hint 3</strong></h4></summary>\n",
    "\n",
    "Use the `std()` function from the `numpy` library. Make sure to specify the `ddof` parameter as 1. To read more about this function,  refer to its documentation in the references section of this lab.\n",
    "\n",
    "</details>"
   ]
  },
  {
   "cell_type": "markdown",
   "id": "3e4c5df7",
   "metadata": {
    "id": "890f18c1-97cc-4e92-8860-1e4ce3213e2e",
    "papermill": {
     "duration": 0.012315,
     "end_time": "2025-02-08T04:52:46.513251",
     "exception": false,
     "start_time": "2025-02-08T04:52:46.500936",
     "status": "completed"
    },
    "tags": []
   },
   "source": [
    "**Question:** What do you notice about the standard deviation for the `aqi` column? \n",
    "\n",
    "This is an important measure of how spread out the aqi values are."
   ]
  },
  {
   "cell_type": "markdown",
   "id": "30f364df",
   "metadata": {
    "id": "FWASCwOQZsgP",
    "papermill": {
     "duration": 0.012321,
     "end_time": "2025-02-08T04:52:46.539166",
     "exception": false,
     "start_time": "2025-02-08T04:52:46.526845",
     "status": "completed"
    },
    "tags": []
   },
   "source": [
    "* the sample standard deviation of aqi is 7.06 (rounded to 2 decimals) "
   ]
  },
  {
   "cell_type": "markdown",
   "id": "c8079a00",
   "metadata": {
    "id": "c77e7f0f-d2b9-4464-8a7c-9575d1e1ef9f",
    "papermill": {
     "duration": 0.013406,
     "end_time": "2025-02-08T04:52:46.565974",
     "exception": false,
     "start_time": "2025-02-08T04:52:46.552568",
     "status": "completed"
    },
    "tags": []
   },
   "source": [
    "## **Considerations**\n"
   ]
  },
  {
   "cell_type": "markdown",
   "id": "55bc49b6",
   "metadata": {
    "id": "eptkD7BmYw0h",
    "papermill": {
     "duration": 0.01239,
     "end_time": "2025-02-08T04:52:46.591158",
     "exception": false,
     "start_time": "2025-02-08T04:52:46.578768",
     "status": "completed"
    },
    "tags": []
   },
   "source": [
    "**What are some key takeaways that you learned during this lab?**"
   ]
  },
  {
   "cell_type": "markdown",
   "id": "3a75a54d",
   "metadata": {
    "id": "LmFmOwT7Yzlw",
    "papermill": {
     "duration": 0.01291,
     "end_time": "2025-02-08T04:52:46.616810",
     "exception": false,
     "start_time": "2025-02-08T04:52:46.603900",
     "status": "completed"
    },
    "tags": []
   },
   "source": [
    "* used pandas as well as numpy functions and methods to calculate descriptive statistics"
   ]
  },
  {
   "cell_type": "markdown",
   "id": "b7ac720f",
   "metadata": {
    "id": "P_B0fXmoYz_g",
    "papermill": {
     "duration": 0.012264,
     "end_time": "2025-02-08T04:52:46.641991",
     "exception": false,
     "start_time": "2025-02-08T04:52:46.629727",
     "status": "completed"
    },
    "tags": []
   },
   "source": [
    "**How would you present your findings from this lab to others? Consider the following relevant points noted by AirNow.gov as you respond:**\n",
    "- \"AQI values at or below 100 are generally thought of as satisfactory. When AQI values are above 100, air quality is considered to be unhealthy—at first for certain sensitive groups of people, then for everyone as AQI values increase.\"\n",
    "- \"An AQI of 100 for carbon monoxide corresponds to a level of 9.4 parts per million.\""
   ]
  },
  {
   "cell_type": "markdown",
   "id": "a8c7b748",
   "metadata": {
    "id": "gfnZAHZ4Y7a_",
    "papermill": {
     "duration": 0.012335,
     "end_time": "2025-02-08T04:52:46.666948",
     "exception": false,
     "start_time": "2025-02-08T04:52:46.654613",
     "status": "completed"
    },
    "tags": []
   },
   "source": [
    "* average aqi in the US cities = 6.76\n",
    "* std dev of aqi in the US cities = 7.061  \n",
    "\n",
    "\n",
    "* 50% of the aqi values fall below 5\n",
    "* 25% of the aqi values fall below 2  "
   ]
  },
  {
   "cell_type": "markdown",
   "id": "543a1568",
   "metadata": {
    "id": "B9NTCauFY7xU",
    "papermill": {
     "duration": 0.012377,
     "end_time": "2025-02-08T04:52:46.692106",
     "exception": false,
     "start_time": "2025-02-08T04:52:46.679729",
     "status": "completed"
    },
    "tags": []
   },
   "source": [
    "**What summary would you provide to stakeholders? Use the same information provided previously from AirNow.gov as you respond.**"
   ]
  },
  {
   "cell_type": "markdown",
   "id": "26edfc19",
   "metadata": {
    "id": "BO_KrnISY9ts",
    "papermill": {
     "duration": 0.012538,
     "end_time": "2025-02-08T04:52:46.717365",
     "exception": false,
     "start_time": "2025-02-08T04:52:46.704827",
     "status": "completed"
    },
    "tags": []
   },
   "source": [
    "* the max value of aqi from the sample is 50  \n",
    "\n",
    "\n",
    "* We can clearly see that from the sample and from the infor given by AirNow.gov,almost all the cities in the US (from the given sample) have \"satisfactory\" air quality"
   ]
  },
  {
   "cell_type": "markdown",
   "id": "49059d8f",
   "metadata": {
    "id": "OPcCpjDLuHaW",
    "papermill": {
     "duration": 0.013302,
     "end_time": "2025-02-08T04:52:46.743345",
     "exception": false,
     "start_time": "2025-02-08T04:52:46.730043",
     "status": "completed"
    },
    "tags": []
   },
   "source": [
    "**References**\n",
    "\n",
    "[Air Quality Index - A Guide to Air Quality and Your Health](https://www.airnow.gov/sites/default/files/2018-04/aqi_brochure_02_14_0.pdf). (2014,February)\n",
    "\n",
    "[Numpy.Std — NumPy v1.23 Manual](https://numpy.org/doc/stable/reference/generated/numpy.std.html)\n",
    "\n",
    "US EPA, OAR. (2014, 8 July).[*Air Data: Air Quality Data Collected at Outdoor Monitors Across the US*](https://www.epa.gov/outdoor-air-quality-data). "
   ]
  },
  {
   "cell_type": "markdown",
   "id": "f3122e1b",
   "metadata": {
    "papermill": {
     "duration": 0.017498,
     "end_time": "2025-02-08T04:52:46.777793",
     "exception": false,
     "start_time": "2025-02-08T04:52:46.760295",
     "status": "completed"
    },
    "tags": []
   },
   "source": [
    "**Congratulations!** You've completed this lab. However, you may not notice a green check mark next to this item on Coursera's platform. Please continue your progress regardless of the check mark. Just click on the \"save\" icon at the top of this notebook to ensure your work has been logged."
   ]
  }
 ],
 "metadata": {
  "colab": {
   "collapsed_sections": [
    "68dc9b73-8944-4dd6-b2f8-6879717a7dab",
    "a70475eb-d3a6-42e4-8b71-a49b5a1aa0db",
    "c7a59d04-61f1-45e5-946f-eaed074988cf",
    "4552de4a-70d5-4862-bff8-e08b8a812d98",
    "be75aa7d-a91c-4e3b-8eda-e2e3fe89c8d0",
    "59335267-2025-4013-92de-fec720576263",
    "b66e1d7d-a90e-4aff-b8da-3725c4f15c26"
   ],
   "name": "SR-032_Learner_Facing_Lab_Round4.ipynb",
   "provenance": []
  },
  "kaggle": {
   "accelerator": "none",
   "dataSources": [
    {
     "datasetId": 6625193,
     "sourceId": 10692443,
     "sourceType": "datasetVersion"
    }
   ],
   "dockerImageVersionId": 30886,
   "isGpuEnabled": false,
   "isInternetEnabled": true,
   "language": "python",
   "sourceType": "notebook"
  },
  "kernelspec": {
   "display_name": "Python 3",
   "language": "python",
   "name": "python3"
  },
  "language_info": {
   "codemirror_mode": {
    "name": "ipython",
    "version": 3
   },
   "file_extension": ".py",
   "mimetype": "text/x-python",
   "name": "python",
   "nbconvert_exporter": "python",
   "pygments_lexer": "ipython3",
   "version": "3.10.12"
  },
  "papermill": {
   "default_parameters": {},
   "duration": 7.639073,
   "end_time": "2025-02-08T04:52:47.416156",
   "environment_variables": {},
   "exception": null,
   "input_path": "__notebook__.ipynb",
   "output_path": "__notebook__.ipynb",
   "parameters": {},
   "start_time": "2025-02-08T04:52:39.777083",
   "version": "2.6.0"
  },
  "toc-autonumbering": false,
  "toc-showtags": false
 },
 "nbformat": 4,
 "nbformat_minor": 5
}

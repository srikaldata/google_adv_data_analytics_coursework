{
 "cells": [
  {
   "cell_type": "markdown",
   "id": "1b63b8b8",
   "metadata": {
    "id": "700acefd-8120-42a9-a650-c610467e2a4c",
    "papermill": {
     "duration": 0.017223,
     "end_time": "2025-02-15T03:01:41.497109",
     "exception": false,
     "start_time": "2025-02-15T03:01:41.479886",
     "status": "completed"
    },
    "tags": []
   },
   "source": [
    "# Activity: Build a decision tree\n",
    "\n",
    "## Introduction\n",
    "\n",
    "A decision tree model can makes predictions for a target based on multiple features. Because decision trees are used across a wide array of industries, becoming proficient in the process of building one will help you expand your skill set in a widely-applicable way.   \n",
    "\n",
    "For this activity, you work as a consultant for an airline. The airline is interested in predicting whether a future customer would be satisfied with their services given previous customer feedback about their flight experience. The airline would like you to construct and evaluate a model that can accomplish this goal. Specifically, they are interested in knowing which features are most important to customer satisfaction.\n",
    "\n",
    "The data for this activity includes survey responses from 129,880 customers. It includes data points such as class, flight distance, and in-flight entertainment, among others. In a previous activity, you utilized a binomial logistic regression model to help the airline better understand this data. In this activity, your goal will be to utilize a decision tree model to predict whether or not a customer will be satisfied with their flight experience. \n",
    "\n",
    "Because this activity uses a dataset from the industry, you will need to conduct basic EDA, data cleaning, and other manipulations to prepare the data for modeling.\n",
    "\n",
    "In this activity, you’ll practice the following skills:\n",
    "\n",
    "* Importing packages and loading data\n",
    "* Exploring the data and completing the cleaning process\n",
    "* Building a decision tree model \n",
    "* Tuning hyperparameters using `GridSearchCV`\n",
    "* Evaluating a decision tree model using a confusion matrix and various other plots"
   ]
  },
  {
   "cell_type": "markdown",
   "id": "5d562232",
   "metadata": {
    "id": "b42252b9-b980-4ee0-8cfd-82f4239b6d1a",
    "papermill": {
     "duration": 0.015875,
     "end_time": "2025-02-15T03:01:41.529689",
     "exception": false,
     "start_time": "2025-02-15T03:01:41.513814",
     "status": "completed"
    },
    "tags": []
   },
   "source": [
    "## Step 1: Imports\n",
    "\n",
    "Import relevant Python packages. Use `DecisionTreeClassifier`,` plot_tree`, and various imports from `sklearn.metrics` to build, visualize, and evaluate the model."
   ]
  },
  {
   "cell_type": "markdown",
   "id": "95e93b51",
   "metadata": {
    "id": "d871f2b3",
    "papermill": {
     "duration": 0.015778,
     "end_time": "2025-02-15T03:01:41.562197",
     "exception": false,
     "start_time": "2025-02-15T03:01:41.546419",
     "status": "completed"
    },
    "tags": []
   },
   "source": [
    "### Import packages"
   ]
  },
  {
   "cell_type": "code",
   "execution_count": 1,
   "id": "cf6240dd",
   "metadata": {
    "execution": {
     "iopub.execute_input": "2025-02-15T03:01:41.595710Z",
     "iopub.status.busy": "2025-02-15T03:01:41.595392Z",
     "iopub.status.idle": "2025-02-15T03:01:44.463592Z",
     "shell.execute_reply": "2025-02-15T03:01:44.462495Z"
    },
    "id": "aacf7b0d-d652-46c4-a9fc-f1ff377bdd0c",
    "papermill": {
     "duration": 2.887037,
     "end_time": "2025-02-15T03:01:44.465289",
     "exception": false,
     "start_time": "2025-02-15T03:01:41.578252",
     "status": "completed"
    },
    "tags": []
   },
   "outputs": [],
   "source": [
    "### YOUR CODE HERE ###\n",
    "\n",
    "# Standard operational package imports\n",
    "# Important imports for modeling and evaluation\n",
    "# Visualization package imports\n",
    "\n",
    "import numpy as np\n",
    "import pandas as pd\n",
    "\n",
    "from sklearn.model_selection import train_test_split\n",
    "from sklearn.model_selection import GridSearchCV\n",
    "from sklearn.tree import DecisionTreeClassifier\n",
    "from sklearn.tree import plot_tree\n",
    "import sklearn.metrics as metrics\n",
    "\n",
    "import matplotlib.pyplot as plt\n",
    "import seaborn as sns"
   ]
  },
  {
   "cell_type": "markdown",
   "id": "baee4fc0",
   "metadata": {
    "id": "6b7f8803-44ee-47cf-b97a-efaf5c0fdd59",
    "papermill": {
     "duration": 0.015588,
     "end_time": "2025-02-15T03:01:44.497289",
     "exception": false,
     "start_time": "2025-02-15T03:01:44.481701",
     "status": "completed"
    },
    "tags": []
   },
   "source": [
    "### Load the dataset"
   ]
  },
  {
   "cell_type": "markdown",
   "id": "e926d038",
   "metadata": {
    "id": "a60990fd-4723-4a2b-a0db-9dfa6c7c881c",
    "papermill": {
     "duration": 0.015648,
     "end_time": "2025-02-15T03:01:44.528757",
     "exception": false,
     "start_time": "2025-02-15T03:01:44.513109",
     "status": "completed"
    },
    "tags": []
   },
   "source": [
    "`Pandas` is used to load the **Invistico_Airline.csv** dataset. The resulting pandas DataFrame is saved in a variable named `df_original`. As shown in this cell, the dataset has been automatically loaded in for you. You do not need to download the .csv file, or provide more code, in order to access the dataset and proceed with this lab. Please continue with this activity by completing the following instructions."
   ]
  },
  {
   "cell_type": "code",
   "execution_count": 2,
   "id": "86c1d5ab",
   "metadata": {
    "execution": {
     "iopub.execute_input": "2025-02-15T03:01:44.561804Z",
     "iopub.status.busy": "2025-02-15T03:01:44.561300Z",
     "iopub.status.idle": "2025-02-15T03:01:44.946488Z",
     "shell.execute_reply": "2025-02-15T03:01:44.945462Z"
    },
    "id": "80535d2f-8b1a-4715-b07a-f3734d8cc4c5",
    "papermill": {
     "duration": 0.403782,
     "end_time": "2025-02-15T03:01:44.948321",
     "exception": false,
     "start_time": "2025-02-15T03:01:44.544539",
     "status": "completed"
    },
    "tags": []
   },
   "outputs": [],
   "source": [
    "# RUN THIS CELL TO IMPORT YOUR DATA.\n",
    "\n",
    "### YOUR CODE HERE ###\n",
    "\n",
    "df_original = pd.read_csv('/kaggle/input/google-adv-data-analytics-advancedml-datasets/6_Invistico_Airline.csv')"
   ]
  },
  {
   "cell_type": "markdown",
   "id": "d5dbe027",
   "metadata": {
    "id": "7bc1c9bb",
    "papermill": {
     "duration": 0.015771,
     "end_time": "2025-02-15T03:01:44.980725",
     "exception": false,
     "start_time": "2025-02-15T03:01:44.964954",
     "status": "completed"
    },
    "tags": []
   },
   "source": [
    "<details>\n",
    "  <summary><h4><strong>Hint 1</strong></h4></summary>\n",
    "\n",
    "Use a function from the pandas library to read in the csv file.\n",
    "    \n",
    "</details>"
   ]
  },
  {
   "cell_type": "markdown",
   "id": "b246762d",
   "metadata": {
    "id": "d8807846",
    "papermill": {
     "duration": 0.016481,
     "end_time": "2025-02-15T03:01:45.013081",
     "exception": false,
     "start_time": "2025-02-15T03:01:44.996600",
     "status": "completed"
    },
    "tags": []
   },
   "source": [
    "<details>\n",
    "  <summary><h4><strong>Hint 2</strong></h4></summary>\n",
    "\n",
    "Use the `read_csv` function and pass in the file name as a string. \n",
    "\n",
    "</details>"
   ]
  },
  {
   "cell_type": "markdown",
   "id": "05a44774",
   "metadata": {
    "id": "6035eeb5",
    "papermill": {
     "duration": 0.01563,
     "end_time": "2025-02-15T03:01:45.044625",
     "exception": false,
     "start_time": "2025-02-15T03:01:45.028995",
     "status": "completed"
    },
    "tags": []
   },
   "source": [
    "<details>\n",
    "  <summary><h4><strong>Hint 3</strong></h4></summary>\n",
    "\n",
    "Use `pd.read_csv(\"insertfilenamehere\")`.\n",
    "\n",
    "</details>"
   ]
  },
  {
   "cell_type": "markdown",
   "id": "cb3dd1ab",
   "metadata": {
    "id": "46448192-f2f8-4f78-9f76-6e4bb699da7b",
    "papermill": {
     "duration": 0.015541,
     "end_time": "2025-02-15T03:01:45.076069",
     "exception": false,
     "start_time": "2025-02-15T03:01:45.060528",
     "status": "completed"
    },
    "tags": []
   },
   "source": [
    "### Output the first 10 rows of data"
   ]
  },
  {
   "cell_type": "code",
   "execution_count": 3,
   "id": "2ca7ced2",
   "metadata": {
    "execution": {
     "iopub.execute_input": "2025-02-15T03:01:45.109579Z",
     "iopub.status.busy": "2025-02-15T03:01:45.109196Z",
     "iopub.status.idle": "2025-02-15T03:01:45.148266Z",
     "shell.execute_reply": "2025-02-15T03:01:45.147206Z"
    },
    "id": "U8JZjN-zJwx6",
    "papermill": {
     "duration": 0.057686,
     "end_time": "2025-02-15T03:01:45.149924",
     "exception": false,
     "start_time": "2025-02-15T03:01:45.092238",
     "status": "completed"
    },
    "tags": []
   },
   "outputs": [
    {
     "data": {
      "text/html": [
       "<div>\n",
       "<style scoped>\n",
       "    .dataframe tbody tr th:only-of-type {\n",
       "        vertical-align: middle;\n",
       "    }\n",
       "\n",
       "    .dataframe tbody tr th {\n",
       "        vertical-align: top;\n",
       "    }\n",
       "\n",
       "    .dataframe thead th {\n",
       "        text-align: right;\n",
       "    }\n",
       "</style>\n",
       "<table border=\"1\" class=\"dataframe\">\n",
       "  <thead>\n",
       "    <tr style=\"text-align: right;\">\n",
       "      <th></th>\n",
       "      <th>satisfaction</th>\n",
       "      <th>Customer Type</th>\n",
       "      <th>Age</th>\n",
       "      <th>Type of Travel</th>\n",
       "      <th>Class</th>\n",
       "      <th>Flight Distance</th>\n",
       "      <th>Seat comfort</th>\n",
       "      <th>Departure/Arrival time convenient</th>\n",
       "      <th>Food and drink</th>\n",
       "      <th>Gate location</th>\n",
       "      <th>...</th>\n",
       "      <th>Online support</th>\n",
       "      <th>Ease of Online booking</th>\n",
       "      <th>On-board service</th>\n",
       "      <th>Leg room service</th>\n",
       "      <th>Baggage handling</th>\n",
       "      <th>Checkin service</th>\n",
       "      <th>Cleanliness</th>\n",
       "      <th>Online boarding</th>\n",
       "      <th>Departure Delay in Minutes</th>\n",
       "      <th>Arrival Delay in Minutes</th>\n",
       "    </tr>\n",
       "  </thead>\n",
       "  <tbody>\n",
       "    <tr>\n",
       "      <th>0</th>\n",
       "      <td>satisfied</td>\n",
       "      <td>Loyal Customer</td>\n",
       "      <td>65</td>\n",
       "      <td>Personal Travel</td>\n",
       "      <td>Eco</td>\n",
       "      <td>265</td>\n",
       "      <td>0</td>\n",
       "      <td>0</td>\n",
       "      <td>0</td>\n",
       "      <td>2</td>\n",
       "      <td>...</td>\n",
       "      <td>2</td>\n",
       "      <td>3</td>\n",
       "      <td>3</td>\n",
       "      <td>0</td>\n",
       "      <td>3</td>\n",
       "      <td>5</td>\n",
       "      <td>3</td>\n",
       "      <td>2</td>\n",
       "      <td>0</td>\n",
       "      <td>0.0</td>\n",
       "    </tr>\n",
       "    <tr>\n",
       "      <th>1</th>\n",
       "      <td>satisfied</td>\n",
       "      <td>Loyal Customer</td>\n",
       "      <td>47</td>\n",
       "      <td>Personal Travel</td>\n",
       "      <td>Business</td>\n",
       "      <td>2464</td>\n",
       "      <td>0</td>\n",
       "      <td>0</td>\n",
       "      <td>0</td>\n",
       "      <td>3</td>\n",
       "      <td>...</td>\n",
       "      <td>2</td>\n",
       "      <td>3</td>\n",
       "      <td>4</td>\n",
       "      <td>4</td>\n",
       "      <td>4</td>\n",
       "      <td>2</td>\n",
       "      <td>3</td>\n",
       "      <td>2</td>\n",
       "      <td>310</td>\n",
       "      <td>305.0</td>\n",
       "    </tr>\n",
       "    <tr>\n",
       "      <th>2</th>\n",
       "      <td>satisfied</td>\n",
       "      <td>Loyal Customer</td>\n",
       "      <td>15</td>\n",
       "      <td>Personal Travel</td>\n",
       "      <td>Eco</td>\n",
       "      <td>2138</td>\n",
       "      <td>0</td>\n",
       "      <td>0</td>\n",
       "      <td>0</td>\n",
       "      <td>3</td>\n",
       "      <td>...</td>\n",
       "      <td>2</td>\n",
       "      <td>2</td>\n",
       "      <td>3</td>\n",
       "      <td>3</td>\n",
       "      <td>4</td>\n",
       "      <td>4</td>\n",
       "      <td>4</td>\n",
       "      <td>2</td>\n",
       "      <td>0</td>\n",
       "      <td>0.0</td>\n",
       "    </tr>\n",
       "    <tr>\n",
       "      <th>3</th>\n",
       "      <td>satisfied</td>\n",
       "      <td>Loyal Customer</td>\n",
       "      <td>60</td>\n",
       "      <td>Personal Travel</td>\n",
       "      <td>Eco</td>\n",
       "      <td>623</td>\n",
       "      <td>0</td>\n",
       "      <td>0</td>\n",
       "      <td>0</td>\n",
       "      <td>3</td>\n",
       "      <td>...</td>\n",
       "      <td>3</td>\n",
       "      <td>1</td>\n",
       "      <td>1</td>\n",
       "      <td>0</td>\n",
       "      <td>1</td>\n",
       "      <td>4</td>\n",
       "      <td>1</td>\n",
       "      <td>3</td>\n",
       "      <td>0</td>\n",
       "      <td>0.0</td>\n",
       "    </tr>\n",
       "    <tr>\n",
       "      <th>4</th>\n",
       "      <td>satisfied</td>\n",
       "      <td>Loyal Customer</td>\n",
       "      <td>70</td>\n",
       "      <td>Personal Travel</td>\n",
       "      <td>Eco</td>\n",
       "      <td>354</td>\n",
       "      <td>0</td>\n",
       "      <td>0</td>\n",
       "      <td>0</td>\n",
       "      <td>3</td>\n",
       "      <td>...</td>\n",
       "      <td>4</td>\n",
       "      <td>2</td>\n",
       "      <td>2</td>\n",
       "      <td>0</td>\n",
       "      <td>2</td>\n",
       "      <td>4</td>\n",
       "      <td>2</td>\n",
       "      <td>5</td>\n",
       "      <td>0</td>\n",
       "      <td>0.0</td>\n",
       "    </tr>\n",
       "    <tr>\n",
       "      <th>5</th>\n",
       "      <td>satisfied</td>\n",
       "      <td>Loyal Customer</td>\n",
       "      <td>30</td>\n",
       "      <td>Personal Travel</td>\n",
       "      <td>Eco</td>\n",
       "      <td>1894</td>\n",
       "      <td>0</td>\n",
       "      <td>0</td>\n",
       "      <td>0</td>\n",
       "      <td>3</td>\n",
       "      <td>...</td>\n",
       "      <td>2</td>\n",
       "      <td>2</td>\n",
       "      <td>5</td>\n",
       "      <td>4</td>\n",
       "      <td>5</td>\n",
       "      <td>5</td>\n",
       "      <td>4</td>\n",
       "      <td>2</td>\n",
       "      <td>0</td>\n",
       "      <td>0.0</td>\n",
       "    </tr>\n",
       "    <tr>\n",
       "      <th>6</th>\n",
       "      <td>satisfied</td>\n",
       "      <td>Loyal Customer</td>\n",
       "      <td>66</td>\n",
       "      <td>Personal Travel</td>\n",
       "      <td>Eco</td>\n",
       "      <td>227</td>\n",
       "      <td>0</td>\n",
       "      <td>0</td>\n",
       "      <td>0</td>\n",
       "      <td>3</td>\n",
       "      <td>...</td>\n",
       "      <td>5</td>\n",
       "      <td>5</td>\n",
       "      <td>5</td>\n",
       "      <td>0</td>\n",
       "      <td>5</td>\n",
       "      <td>5</td>\n",
       "      <td>5</td>\n",
       "      <td>3</td>\n",
       "      <td>17</td>\n",
       "      <td>15.0</td>\n",
       "    </tr>\n",
       "    <tr>\n",
       "      <th>7</th>\n",
       "      <td>satisfied</td>\n",
       "      <td>Loyal Customer</td>\n",
       "      <td>10</td>\n",
       "      <td>Personal Travel</td>\n",
       "      <td>Eco</td>\n",
       "      <td>1812</td>\n",
       "      <td>0</td>\n",
       "      <td>0</td>\n",
       "      <td>0</td>\n",
       "      <td>3</td>\n",
       "      <td>...</td>\n",
       "      <td>2</td>\n",
       "      <td>2</td>\n",
       "      <td>3</td>\n",
       "      <td>3</td>\n",
       "      <td>4</td>\n",
       "      <td>5</td>\n",
       "      <td>4</td>\n",
       "      <td>2</td>\n",
       "      <td>0</td>\n",
       "      <td>0.0</td>\n",
       "    </tr>\n",
       "    <tr>\n",
       "      <th>8</th>\n",
       "      <td>satisfied</td>\n",
       "      <td>Loyal Customer</td>\n",
       "      <td>56</td>\n",
       "      <td>Personal Travel</td>\n",
       "      <td>Business</td>\n",
       "      <td>73</td>\n",
       "      <td>0</td>\n",
       "      <td>0</td>\n",
       "      <td>0</td>\n",
       "      <td>3</td>\n",
       "      <td>...</td>\n",
       "      <td>5</td>\n",
       "      <td>4</td>\n",
       "      <td>4</td>\n",
       "      <td>0</td>\n",
       "      <td>1</td>\n",
       "      <td>5</td>\n",
       "      <td>4</td>\n",
       "      <td>4</td>\n",
       "      <td>0</td>\n",
       "      <td>0.0</td>\n",
       "    </tr>\n",
       "    <tr>\n",
       "      <th>9</th>\n",
       "      <td>satisfied</td>\n",
       "      <td>Loyal Customer</td>\n",
       "      <td>22</td>\n",
       "      <td>Personal Travel</td>\n",
       "      <td>Eco</td>\n",
       "      <td>1556</td>\n",
       "      <td>0</td>\n",
       "      <td>0</td>\n",
       "      <td>0</td>\n",
       "      <td>3</td>\n",
       "      <td>...</td>\n",
       "      <td>2</td>\n",
       "      <td>2</td>\n",
       "      <td>2</td>\n",
       "      <td>4</td>\n",
       "      <td>5</td>\n",
       "      <td>3</td>\n",
       "      <td>4</td>\n",
       "      <td>2</td>\n",
       "      <td>30</td>\n",
       "      <td>26.0</td>\n",
       "    </tr>\n",
       "  </tbody>\n",
       "</table>\n",
       "<p>10 rows × 22 columns</p>\n",
       "</div>"
      ],
      "text/plain": [
       "  satisfaction   Customer Type  Age   Type of Travel     Class  \\\n",
       "0    satisfied  Loyal Customer   65  Personal Travel       Eco   \n",
       "1    satisfied  Loyal Customer   47  Personal Travel  Business   \n",
       "2    satisfied  Loyal Customer   15  Personal Travel       Eco   \n",
       "3    satisfied  Loyal Customer   60  Personal Travel       Eco   \n",
       "4    satisfied  Loyal Customer   70  Personal Travel       Eco   \n",
       "5    satisfied  Loyal Customer   30  Personal Travel       Eco   \n",
       "6    satisfied  Loyal Customer   66  Personal Travel       Eco   \n",
       "7    satisfied  Loyal Customer   10  Personal Travel       Eco   \n",
       "8    satisfied  Loyal Customer   56  Personal Travel  Business   \n",
       "9    satisfied  Loyal Customer   22  Personal Travel       Eco   \n",
       "\n",
       "   Flight Distance  Seat comfort  Departure/Arrival time convenient  \\\n",
       "0              265             0                                  0   \n",
       "1             2464             0                                  0   \n",
       "2             2138             0                                  0   \n",
       "3              623             0                                  0   \n",
       "4              354             0                                  0   \n",
       "5             1894             0                                  0   \n",
       "6              227             0                                  0   \n",
       "7             1812             0                                  0   \n",
       "8               73             0                                  0   \n",
       "9             1556             0                                  0   \n",
       "\n",
       "   Food and drink  Gate location  ...  Online support  Ease of Online booking  \\\n",
       "0               0              2  ...               2                       3   \n",
       "1               0              3  ...               2                       3   \n",
       "2               0              3  ...               2                       2   \n",
       "3               0              3  ...               3                       1   \n",
       "4               0              3  ...               4                       2   \n",
       "5               0              3  ...               2                       2   \n",
       "6               0              3  ...               5                       5   \n",
       "7               0              3  ...               2                       2   \n",
       "8               0              3  ...               5                       4   \n",
       "9               0              3  ...               2                       2   \n",
       "\n",
       "   On-board service  Leg room service  Baggage handling  Checkin service  \\\n",
       "0                 3                 0                 3                5   \n",
       "1                 4                 4                 4                2   \n",
       "2                 3                 3                 4                4   \n",
       "3                 1                 0                 1                4   \n",
       "4                 2                 0                 2                4   \n",
       "5                 5                 4                 5                5   \n",
       "6                 5                 0                 5                5   \n",
       "7                 3                 3                 4                5   \n",
       "8                 4                 0                 1                5   \n",
       "9                 2                 4                 5                3   \n",
       "\n",
       "   Cleanliness  Online boarding  Departure Delay in Minutes  \\\n",
       "0            3                2                           0   \n",
       "1            3                2                         310   \n",
       "2            4                2                           0   \n",
       "3            1                3                           0   \n",
       "4            2                5                           0   \n",
       "5            4                2                           0   \n",
       "6            5                3                          17   \n",
       "7            4                2                           0   \n",
       "8            4                4                           0   \n",
       "9            4                2                          30   \n",
       "\n",
       "   Arrival Delay in Minutes  \n",
       "0                       0.0  \n",
       "1                     305.0  \n",
       "2                       0.0  \n",
       "3                       0.0  \n",
       "4                       0.0  \n",
       "5                       0.0  \n",
       "6                      15.0  \n",
       "7                       0.0  \n",
       "8                       0.0  \n",
       "9                      26.0  \n",
       "\n",
       "[10 rows x 22 columns]"
      ]
     },
     "execution_count": 3,
     "metadata": {},
     "output_type": "execute_result"
    }
   ],
   "source": [
    "### YOUR CODE HERE ###\n",
    "df_original.head(10)"
   ]
  },
  {
   "cell_type": "markdown",
   "id": "bace33fc",
   "metadata": {
    "id": "tooWlpMBHqoi",
    "papermill": {
     "duration": 0.016265,
     "end_time": "2025-02-15T03:01:45.183630",
     "exception": false,
     "start_time": "2025-02-15T03:01:45.167365",
     "status": "completed"
    },
    "tags": []
   },
   "source": [
    "<details>\n",
    "  <summary><h4><strong>Hint 1</strong></h4></summary>\n",
    "\n",
    "Use the `head()` function.\n",
    "\n",
    "</details>"
   ]
  },
  {
   "cell_type": "markdown",
   "id": "f207ff6f",
   "metadata": {
    "id": "l8_h8SKmX8yu",
    "papermill": {
     "duration": 0.016421,
     "end_time": "2025-02-15T03:01:45.216612",
     "exception": false,
     "start_time": "2025-02-15T03:01:45.200191",
     "status": "completed"
    },
    "tags": []
   },
   "source": [
    "<details>\n",
    "  <summary><h4><strong>Hint 2</strong></h4></summary>\n",
    "\n",
    "If only five rows are output, it is because the function by default returns five rows. To change this, specify how many rows `(n = )` you want to output.\n",
    "\n",
    "</details>"
   ]
  },
  {
   "cell_type": "markdown",
   "id": "1494a3de",
   "metadata": {
    "id": "ec269f85-6622-4f82-bdcd-1874224a4052",
    "papermill": {
     "duration": 0.016092,
     "end_time": "2025-02-15T03:01:45.249064",
     "exception": false,
     "start_time": "2025-02-15T03:01:45.232972",
     "status": "completed"
    },
    "tags": []
   },
   "source": [
    "## Step 2: Data exploration, data cleaning, and model preparation\n",
    "\n",
    "### Prepare the data\n",
    "\n",
    "After loading the dataset, prepare the data to be suitable for decision tree classifiers. This includes: \n",
    "\n",
    "*   Exploring the data\n",
    "*   Checking for missing values\n",
    "*   Encoding the data\n",
    "*   Renaming a column\n",
    "*   Creating the training and testing data"
   ]
  },
  {
   "cell_type": "markdown",
   "id": "925924b8",
   "metadata": {
    "id": "d7ccd368",
    "papermill": {
     "duration": 0.016158,
     "end_time": "2025-02-15T03:01:45.281465",
     "exception": false,
     "start_time": "2025-02-15T03:01:45.265307",
     "status": "completed"
    },
    "tags": []
   },
   "source": [
    "### Explore the data\n",
    "\n",
    "Check the data type of each column. Note that decision trees expect numeric data. "
   ]
  },
  {
   "cell_type": "code",
   "execution_count": 4,
   "id": "d41bcff2",
   "metadata": {
    "execution": {
     "iopub.execute_input": "2025-02-15T03:01:45.315815Z",
     "iopub.status.busy": "2025-02-15T03:01:45.315487Z",
     "iopub.status.idle": "2025-02-15T03:01:45.322067Z",
     "shell.execute_reply": "2025-02-15T03:01:45.321139Z"
    },
    "id": "c84ecc35",
    "papermill": {
     "duration": 0.02575,
     "end_time": "2025-02-15T03:01:45.323516",
     "exception": false,
     "start_time": "2025-02-15T03:01:45.297766",
     "status": "completed"
    },
    "tags": []
   },
   "outputs": [
    {
     "data": {
      "text/plain": [
       "satisfaction                          object\n",
       "Customer Type                         object\n",
       "Age                                    int64\n",
       "Type of Travel                        object\n",
       "Class                                 object\n",
       "Flight Distance                        int64\n",
       "Seat comfort                           int64\n",
       "Departure/Arrival time convenient      int64\n",
       "Food and drink                         int64\n",
       "Gate location                          int64\n",
       "Inflight wifi service                  int64\n",
       "Inflight entertainment                 int64\n",
       "Online support                         int64\n",
       "Ease of Online booking                 int64\n",
       "On-board service                       int64\n",
       "Leg room service                       int64\n",
       "Baggage handling                       int64\n",
       "Checkin service                        int64\n",
       "Cleanliness                            int64\n",
       "Online boarding                        int64\n",
       "Departure Delay in Minutes             int64\n",
       "Arrival Delay in Minutes             float64\n",
       "dtype: object"
      ]
     },
     "execution_count": 4,
     "metadata": {},
     "output_type": "execute_result"
    }
   ],
   "source": [
    "### YOUR CODE HERE ###\n",
    "df_original.dtypes"
   ]
  },
  {
   "cell_type": "markdown",
   "id": "59eceaca",
   "metadata": {
    "id": "338fa42f",
    "papermill": {
     "duration": 0.017805,
     "end_time": "2025-02-15T03:01:45.409473",
     "exception": false,
     "start_time": "2025-02-15T03:01:45.391668",
     "status": "completed"
    },
    "tags": []
   },
   "source": [
    "<details>\n",
    "  <summary><h4><strong>Hint 1</strong></h4></summary>\n",
    "\n",
    "Use the `dtypes` attribute on the DataFrame.\n",
    "</details>"
   ]
  },
  {
   "cell_type": "markdown",
   "id": "35300879",
   "metadata": {
    "id": "768367ea",
    "papermill": {
     "duration": 0.016716,
     "end_time": "2025-02-15T03:01:45.442815",
     "exception": false,
     "start_time": "2025-02-15T03:01:45.426099",
     "status": "completed"
    },
    "tags": []
   },
   "source": [
    "### Output unique values \n",
    "\n",
    "The `Class` column is ordinal (meaning there is an inherent order that is significant). For example, airlines typically charge more for 'Business' than 'Eco Plus' and 'Eco'. Output the unique values in the `Class` column. "
   ]
  },
  {
   "cell_type": "code",
   "execution_count": 5,
   "id": "5d8ed039",
   "metadata": {
    "execution": {
     "iopub.execute_input": "2025-02-15T03:01:45.477581Z",
     "iopub.status.busy": "2025-02-15T03:01:45.477178Z",
     "iopub.status.idle": "2025-02-15T03:01:45.492182Z",
     "shell.execute_reply": "2025-02-15T03:01:45.490975Z"
    },
    "id": "52205295",
    "papermill": {
     "duration": 0.034171,
     "end_time": "2025-02-15T03:01:45.493767",
     "exception": false,
     "start_time": "2025-02-15T03:01:45.459596",
     "status": "completed"
    },
    "tags": []
   },
   "outputs": [
    {
     "data": {
      "text/plain": [
       "array(['Eco', 'Business', 'Eco Plus'], dtype=object)"
      ]
     },
     "execution_count": 5,
     "metadata": {},
     "output_type": "execute_result"
    }
   ],
   "source": [
    "### YOUR CODE HERE ###\n",
    "df_original[\"Class\"].unique()"
   ]
  },
  {
   "cell_type": "markdown",
   "id": "2b8472a2",
   "metadata": {
    "id": "40a58c8b",
    "papermill": {
     "duration": 0.016391,
     "end_time": "2025-02-15T03:01:45.527054",
     "exception": false,
     "start_time": "2025-02-15T03:01:45.510663",
     "status": "completed"
    },
    "tags": []
   },
   "source": [
    "<details>\n",
    "  <summary><h4><strong> Hint 1 </strong></h4></summary>\n",
    "\n",
    "Use the `unique()` function on the column `'Class'`.\n",
    "\n",
    "</details>"
   ]
  },
  {
   "cell_type": "markdown",
   "id": "a756d198",
   "metadata": {
    "id": "381c04eb",
    "papermill": {
     "duration": 0.016358,
     "end_time": "2025-02-15T03:01:45.560002",
     "exception": false,
     "start_time": "2025-02-15T03:01:45.543644",
     "status": "completed"
    },
    "tags": []
   },
   "source": [
    "### Check the counts of the predicted labels\n",
    "\n",
    "In order to predict customer satisfaction, verify if the dataset is imbalanced. To do this, check the counts of each of the predicted labels. "
   ]
  },
  {
   "cell_type": "code",
   "execution_count": 6,
   "id": "9f9711a0",
   "metadata": {
    "execution": {
     "iopub.execute_input": "2025-02-15T03:01:45.594568Z",
     "iopub.status.busy": "2025-02-15T03:01:45.594164Z",
     "iopub.status.idle": "2025-02-15T03:01:45.613578Z",
     "shell.execute_reply": "2025-02-15T03:01:45.612560Z"
    },
    "id": "8098d8a3",
    "papermill": {
     "duration": 0.038426,
     "end_time": "2025-02-15T03:01:45.615052",
     "exception": false,
     "start_time": "2025-02-15T03:01:45.576626",
     "status": "completed"
    },
    "tags": []
   },
   "outputs": [
    {
     "data": {
      "text/plain": [
       "satisfaction\n",
       "satisfied       71087\n",
       "dissatisfied    58793\n",
       "Name: count, dtype: int64"
      ]
     },
     "execution_count": 6,
     "metadata": {},
     "output_type": "execute_result"
    }
   ],
   "source": [
    "### YOUR CODE HERE ###\n",
    "df_original['satisfaction'].value_counts()"
   ]
  },
  {
   "cell_type": "code",
   "execution_count": 7,
   "id": "d304bec3",
   "metadata": {
    "execution": {
     "iopub.execute_input": "2025-02-15T03:01:45.650162Z",
     "iopub.status.busy": "2025-02-15T03:01:45.649796Z",
     "iopub.status.idle": "2025-02-15T03:01:45.666379Z",
     "shell.execute_reply": "2025-02-15T03:01:45.665441Z"
    },
    "papermill": {
     "duration": 0.035699,
     "end_time": "2025-02-15T03:01:45.667910",
     "exception": false,
     "start_time": "2025-02-15T03:01:45.632211",
     "status": "completed"
    },
    "tags": []
   },
   "outputs": [
    {
     "data": {
      "text/plain": [
       "satisfaction\n",
       "satisfied       0.547328\n",
       "dissatisfied    0.452672\n",
       "Name: proportion, dtype: float64"
      ]
     },
     "execution_count": 7,
     "metadata": {},
     "output_type": "execute_result"
    }
   ],
   "source": [
    "df_original['satisfaction'].value_counts(normalize = True)"
   ]
  },
  {
   "cell_type": "markdown",
   "id": "1f89c76c",
   "metadata": {
    "id": "9221f9a4",
    "papermill": {
     "duration": 0.017125,
     "end_time": "2025-02-15T03:01:45.702663",
     "exception": false,
     "start_time": "2025-02-15T03:01:45.685538",
     "status": "completed"
    },
    "tags": []
   },
   "source": [
    "<details>\n",
    "  <summary><h4><strong> Hint 1</strong> </h4></summary>\n",
    "\n",
    "Use a function from the pandas library that returns a pandas series containing counts of unique values. \n",
    "\n",
    "</details>"
   ]
  },
  {
   "cell_type": "markdown",
   "id": "5f24526f",
   "metadata": {
    "id": "62d8c90f",
    "papermill": {
     "duration": 0.016438,
     "end_time": "2025-02-15T03:01:45.735920",
     "exception": false,
     "start_time": "2025-02-15T03:01:45.719482",
     "status": "completed"
    },
    "tags": []
   },
   "source": [
    "<details>\n",
    "  <summary><h4><strong> Hint 2</strong> </h4></summary>\n",
    "\n",
    "Use the `value_counts()` function. Set the `dropna` parameter passed in to this function to `False` if you want to examine how many NaN values there are. \n",
    "\n",
    "</details>"
   ]
  },
  {
   "cell_type": "markdown",
   "id": "94beb3be",
   "metadata": {
    "id": "868c4ea3",
    "papermill": {
     "duration": 0.016506,
     "end_time": "2025-02-15T03:01:45.769236",
     "exception": false,
     "start_time": "2025-02-15T03:01:45.752730",
     "status": "completed"
    },
    "tags": []
   },
   "source": [
    "**Question:** How many satisfied and dissatisfied customers were there?"
   ]
  },
  {
   "cell_type": "markdown",
   "id": "d699f207",
   "metadata": {
    "id": "M8nBc7uC6Gkw",
    "papermill": {
     "duration": 0.016537,
     "end_time": "2025-02-15T03:01:45.802611",
     "exception": false,
     "start_time": "2025-02-15T03:01:45.786074",
     "status": "completed"
    },
    "tags": []
   },
   "source": [
    "* satisfied customers=71087, dissatisfied customers=58793"
   ]
  },
  {
   "cell_type": "markdown",
   "id": "d3ecb8c2",
   "metadata": {
    "id": "b6bd7c91",
    "papermill": {
     "duration": 0.016719,
     "end_time": "2025-02-15T03:01:45.836125",
     "exception": false,
     "start_time": "2025-02-15T03:01:45.819406",
     "status": "completed"
    },
    "tags": []
   },
   "source": [
    "**Question:** What percentage of customers were satisfied? "
   ]
  },
  {
   "cell_type": "markdown",
   "id": "ba7d8937",
   "metadata": {
    "id": "pgSK9GlM6J15",
    "papermill": {
     "duration": 0.017627,
     "end_time": "2025-02-15T03:01:45.870802",
     "exception": false,
     "start_time": "2025-02-15T03:01:45.853175",
     "status": "completed"
    },
    "tags": []
   },
   "source": [
    "* satisfied customers=54.73%"
   ]
  },
  {
   "cell_type": "markdown",
   "id": "d9cda8f7",
   "metadata": {
    "id": "4222ca54",
    "papermill": {
     "duration": 0.016538,
     "end_time": "2025-02-15T03:01:45.904445",
     "exception": false,
     "start_time": "2025-02-15T03:01:45.887907",
     "status": "completed"
    },
    "tags": []
   },
   "source": [
    "### Check for missing values"
   ]
  },
  {
   "cell_type": "markdown",
   "id": "1e3a09ac",
   "metadata": {
    "id": "TgANHJBVxpbI",
    "papermill": {
     "duration": 0.016559,
     "end_time": "2025-02-15T03:01:45.937931",
     "exception": false,
     "start_time": "2025-02-15T03:01:45.921372",
     "status": "completed"
    },
    "tags": []
   },
   "source": [
    "The sklearn decision tree implementation does not support missing values. Check for missing values in the rows of the data. "
   ]
  },
  {
   "cell_type": "code",
   "execution_count": 8,
   "id": "9b72ab6b",
   "metadata": {
    "execution": {
     "iopub.execute_input": "2025-02-15T03:01:45.973097Z",
     "iopub.status.busy": "2025-02-15T03:01:45.972737Z",
     "iopub.status.idle": "2025-02-15T03:01:46.008427Z",
     "shell.execute_reply": "2025-02-15T03:01:46.007543Z"
    },
    "id": "842031fb",
    "papermill": {
     "duration": 0.054991,
     "end_time": "2025-02-15T03:01:46.010065",
     "exception": false,
     "start_time": "2025-02-15T03:01:45.955074",
     "status": "completed"
    },
    "tags": []
   },
   "outputs": [
    {
     "data": {
      "text/plain": [
       "satisfaction                           0\n",
       "Customer Type                          0\n",
       "Age                                    0\n",
       "Type of Travel                         0\n",
       "Class                                  0\n",
       "Flight Distance                        0\n",
       "Seat comfort                           0\n",
       "Departure/Arrival time convenient      0\n",
       "Food and drink                         0\n",
       "Gate location                          0\n",
       "Inflight wifi service                  0\n",
       "Inflight entertainment                 0\n",
       "Online support                         0\n",
       "Ease of Online booking                 0\n",
       "On-board service                       0\n",
       "Leg room service                       0\n",
       "Baggage handling                       0\n",
       "Checkin service                        0\n",
       "Cleanliness                            0\n",
       "Online boarding                        0\n",
       "Departure Delay in Minutes             0\n",
       "Arrival Delay in Minutes             393\n",
       "dtype: int64"
      ]
     },
     "execution_count": 8,
     "metadata": {},
     "output_type": "execute_result"
    }
   ],
   "source": [
    "### YOUR CODE HERE ###\n",
    "df_original.isnull().sum()"
   ]
  },
  {
   "cell_type": "markdown",
   "id": "a5baffbc",
   "metadata": {
    "id": "ptn9xlIjJOAL",
    "papermill": {
     "duration": 0.017495,
     "end_time": "2025-02-15T03:01:46.045573",
     "exception": false,
     "start_time": "2025-02-15T03:01:46.028078",
     "status": "completed"
    },
    "tags": []
   },
   "source": [
    "<details>\n",
    "  <summary><h4><strong>Hint 1</h4></summary></strong>\n",
    "\n",
    "Use the `isnull` function and the `sum` function. \n",
    "\n",
    "</details>"
   ]
  },
  {
   "cell_type": "markdown",
   "id": "cc0ec9d8",
   "metadata": {
    "id": "307f50c5",
    "papermill": {
     "duration": 0.017405,
     "end_time": "2025-02-15T03:01:46.080663",
     "exception": false,
     "start_time": "2025-02-15T03:01:46.063258",
     "status": "completed"
    },
    "tags": []
   },
   "source": [
    "<details>\n",
    "  <summary><h4><strong> Hint 2 </strong> </h4></summary>\n",
    "\n",
    "To get the number of rows in the data with missing values, use the `isnull` function followed by the `sum` function.\n",
    "\n",
    "</details>"
   ]
  },
  {
   "cell_type": "markdown",
   "id": "b03bd67d",
   "metadata": {
    "id": "5c11852b",
    "papermill": {
     "duration": 0.017297,
     "end_time": "2025-02-15T03:01:46.115510",
     "exception": false,
     "start_time": "2025-02-15T03:01:46.098213",
     "status": "completed"
    },
    "tags": []
   },
   "source": [
    "**Question:** Why is it important to check how many rows and columns there are in the dataset?"
   ]
  },
  {
   "cell_type": "markdown",
   "id": "c0ef3dbf",
   "metadata": {
    "papermill": {
     "duration": 0.017203,
     "end_time": "2025-02-15T03:01:46.150096",
     "exception": false,
     "start_time": "2025-02-15T03:01:46.132893",
     "status": "completed"
    },
    "tags": []
   },
   "source": [
    "* to have an idea what is the dataset that we are dealing with\n",
    "* this can also be used as a reference to check null values against"
   ]
  },
  {
   "cell_type": "markdown",
   "id": "d2d8f84d",
   "metadata": {
    "papermill": {
     "duration": 0.01861,
     "end_time": "2025-02-15T03:01:46.187450",
     "exception": false,
     "start_time": "2025-02-15T03:01:46.168840",
     "status": "completed"
    },
    "tags": []
   },
   "source": [
    "### Check the number of rows and columns in the dataset"
   ]
  },
  {
   "cell_type": "code",
   "execution_count": 9,
   "id": "9d28ec90",
   "metadata": {
    "execution": {
     "iopub.execute_input": "2025-02-15T03:01:46.224278Z",
     "iopub.status.busy": "2025-02-15T03:01:46.223857Z",
     "iopub.status.idle": "2025-02-15T03:01:46.229304Z",
     "shell.execute_reply": "2025-02-15T03:01:46.228178Z"
    },
    "id": "a5e89463",
    "papermill": {
     "duration": 0.025501,
     "end_time": "2025-02-15T03:01:46.230883",
     "exception": false,
     "start_time": "2025-02-15T03:01:46.205382",
     "status": "completed"
    },
    "tags": []
   },
   "outputs": [
    {
     "data": {
      "text/plain": [
       "(129880, 22)"
      ]
     },
     "execution_count": 9,
     "metadata": {},
     "output_type": "execute_result"
    }
   ],
   "source": [
    "### YOUR CODE HERE ###\n",
    "df_original.shape"
   ]
  },
  {
   "cell_type": "markdown",
   "id": "f780239f",
   "metadata": {
    "id": "10900f58",
    "papermill": {
     "duration": 0.016982,
     "end_time": "2025-02-15T03:01:46.265229",
     "exception": false,
     "start_time": "2025-02-15T03:01:46.248247",
     "status": "completed"
    },
    "tags": []
   },
   "source": [
    "<details>\n",
    "  <summary><h4><strong> Hint 1 </strong> </h4></summary>\n",
    "\n",
    "Use the `shape` attribute on the DataFrame.\n",
    "\n",
    "</details>"
   ]
  },
  {
   "cell_type": "markdown",
   "id": "389b12bc",
   "metadata": {
    "id": "eb005a73-4621-45b9-8114-30472ce20327",
    "papermill": {
     "duration": 0.016956,
     "end_time": "2025-02-15T03:01:46.299872",
     "exception": false,
     "start_time": "2025-02-15T03:01:46.282916",
     "status": "completed"
    },
    "tags": []
   },
   "source": [
    "### Drop the rows with missing values\n",
    "\n",
    "Drop the rows with missing values and save the resulting pandas DataFrame in a variable named `df_subset`."
   ]
  },
  {
   "cell_type": "code",
   "execution_count": 10,
   "id": "ce2b1506",
   "metadata": {
    "execution": {
     "iopub.execute_input": "2025-02-15T03:01:46.335832Z",
     "iopub.status.busy": "2025-02-15T03:01:46.335465Z",
     "iopub.status.idle": "2025-02-15T03:01:46.385952Z",
     "shell.execute_reply": "2025-02-15T03:01:46.384958Z"
    },
    "id": "1cee438e-8b1f-4855-855e-3723d1958b69",
    "papermill": {
     "duration": 0.070707,
     "end_time": "2025-02-15T03:01:46.387916",
     "exception": false,
     "start_time": "2025-02-15T03:01:46.317209",
     "status": "completed"
    },
    "tags": []
   },
   "outputs": [],
   "source": [
    "### YOUR CODE HERE ###\n",
    "df_subset = df_original.dropna(axis=0).reset_index(drop = True)"
   ]
  },
  {
   "cell_type": "markdown",
   "id": "cd4c5d98",
   "metadata": {
    "id": "dec2a35e-ba31-4ec8-b8fc-1c0bdf075d19",
    "papermill": {
     "duration": 0.017213,
     "end_time": "2025-02-15T03:01:46.424828",
     "exception": false,
     "start_time": "2025-02-15T03:01:46.407615",
     "status": "completed"
    },
    "tags": []
   },
   "source": [
    "<details>\n",
    "  <summary><h4><strong> Hint 1 </strong> </h4></summary>\n",
    "\n",
    "Use the `dropna` function.\n",
    "\n",
    "</details>"
   ]
  },
  {
   "cell_type": "markdown",
   "id": "54afa5a8",
   "metadata": {
    "id": "374b2b21",
    "papermill": {
     "duration": 0.017024,
     "end_time": "2025-02-15T03:01:46.459075",
     "exception": false,
     "start_time": "2025-02-15T03:01:46.442051",
     "status": "completed"
    },
    "tags": []
   },
   "source": [
    "<details>\n",
    "  <summary><h4><strong>Hint 2</strong></h4></summary>\n",
    "\n",
    "Set the axis parameter passed into the `dropna` function to `0` if you want to drop rows containing missing values, or `1` if you want to drop columns containing missing values. Optionally, use reset_index to avoid a SettingWithCopy warning later in the notebook. \n",
    "\n",
    "</details>"
   ]
  },
  {
   "cell_type": "markdown",
   "id": "02f66377",
   "metadata": {
    "id": "ymfmX-WvW31z",
    "papermill": {
     "duration": 0.016943,
     "end_time": "2025-02-15T03:01:46.493421",
     "exception": false,
     "start_time": "2025-02-15T03:01:46.476478",
     "status": "completed"
    },
    "tags": []
   },
   "source": [
    "### Check for missing values\n",
    "\n",
    "Check that `df_subset` does not contain any missing values."
   ]
  },
  {
   "cell_type": "code",
   "execution_count": 11,
   "id": "ad49dec6",
   "metadata": {
    "execution": {
     "iopub.execute_input": "2025-02-15T03:01:46.531777Z",
     "iopub.status.busy": "2025-02-15T03:01:46.531416Z",
     "iopub.status.idle": "2025-02-15T03:01:46.568185Z",
     "shell.execute_reply": "2025-02-15T03:01:46.566911Z"
    },
    "id": "n36d4yztW4BA",
    "papermill": {
     "duration": 0.059228,
     "end_time": "2025-02-15T03:01:46.569860",
     "exception": false,
     "start_time": "2025-02-15T03:01:46.510632",
     "status": "completed"
    },
    "tags": []
   },
   "outputs": [
    {
     "data": {
      "text/plain": [
       "satisfaction                         0\n",
       "Customer Type                        0\n",
       "Age                                  0\n",
       "Type of Travel                       0\n",
       "Class                                0\n",
       "Flight Distance                      0\n",
       "Seat comfort                         0\n",
       "Departure/Arrival time convenient    0\n",
       "Food and drink                       0\n",
       "Gate location                        0\n",
       "Inflight wifi service                0\n",
       "Inflight entertainment               0\n",
       "Online support                       0\n",
       "Ease of Online booking               0\n",
       "On-board service                     0\n",
       "Leg room service                     0\n",
       "Baggage handling                     0\n",
       "Checkin service                      0\n",
       "Cleanliness                          0\n",
       "Online boarding                      0\n",
       "Departure Delay in Minutes           0\n",
       "Arrival Delay in Minutes             0\n",
       "dtype: int64"
      ]
     },
     "execution_count": 11,
     "metadata": {},
     "output_type": "execute_result"
    }
   ],
   "source": [
    "### YOUR CODE HERE ###\n",
    "df_subset.isna().sum()"
   ]
  },
  {
   "cell_type": "markdown",
   "id": "2bdaf741",
   "metadata": {
    "id": "8ed62a28",
    "papermill": {
     "duration": 0.017126,
     "end_time": "2025-02-15T03:01:46.604711",
     "exception": false,
     "start_time": "2025-02-15T03:01:46.587585",
     "status": "completed"
    },
    "tags": []
   },
   "source": [
    "<details>\n",
    "  <summary><h4><strong> Hint 1</strong></h4></summary>\n",
    "\n",
    "Use the `isna()`function and the `sum()` function. \n",
    "\n",
    "</details>"
   ]
  },
  {
   "cell_type": "markdown",
   "id": "af00d262",
   "metadata": {
    "id": "d5a45cd9",
    "papermill": {
     "duration": 0.017085,
     "end_time": "2025-02-15T03:01:46.639283",
     "exception": false,
     "start_time": "2025-02-15T03:01:46.622198",
     "status": "completed"
    },
    "tags": []
   },
   "source": [
    "<details>\n",
    "  <summary><h4><strong> Hint 2</strong> </h4></summary>\n",
    "\n",
    "To get the number of rows in the data with missing values, use the `isna()` function followed by the `sum()` function.\n",
    "\n",
    "</details>"
   ]
  },
  {
   "cell_type": "markdown",
   "id": "bf8c7a82",
   "metadata": {
    "id": "18c6650e",
    "papermill": {
     "duration": 0.017009,
     "end_time": "2025-02-15T03:01:46.673619",
     "exception": false,
     "start_time": "2025-02-15T03:01:46.656610",
     "status": "completed"
    },
    "tags": []
   },
   "source": [
    "### Check the number of rows and columns in the dataset again\n",
    "\n",
    "Check how many rows and columns are remaining in the dataset. You should now have 393 fewer rows of data."
   ]
  },
  {
   "cell_type": "code",
   "execution_count": 12,
   "id": "cd143f5b",
   "metadata": {
    "execution": {
     "iopub.execute_input": "2025-02-15T03:01:46.709590Z",
     "iopub.status.busy": "2025-02-15T03:01:46.709178Z",
     "iopub.status.idle": "2025-02-15T03:01:46.714518Z",
     "shell.execute_reply": "2025-02-15T03:01:46.713530Z"
    },
    "id": "fa951c92",
    "papermill": {
     "duration": 0.025122,
     "end_time": "2025-02-15T03:01:46.716055",
     "exception": false,
     "start_time": "2025-02-15T03:01:46.690933",
     "status": "completed"
    },
    "tags": []
   },
   "outputs": [
    {
     "data": {
      "text/plain": [
       "(129487, 22)"
      ]
     },
     "execution_count": 12,
     "metadata": {},
     "output_type": "execute_result"
    }
   ],
   "source": [
    "### YOUR CODE HERE ###\n",
    "df_subset.shape"
   ]
  },
  {
   "cell_type": "markdown",
   "id": "ec8816b4",
   "metadata": {
    "id": "d491a508",
    "papermill": {
     "duration": 0.017344,
     "end_time": "2025-02-15T03:01:46.751430",
     "exception": false,
     "start_time": "2025-02-15T03:01:46.734086",
     "status": "completed"
    },
    "tags": []
   },
   "source": [
    "### Encode the data\n",
    "\n",
    "Four columns (`satisfaction`, `Customer Type`, `Type of Travel`, `Class`) are the pandas dtype object. Decision trees need numeric columns. Start by converting the ordinal `Class` column into numeric. "
   ]
  },
  {
   "cell_type": "code",
   "execution_count": 13,
   "id": "268b6c50",
   "metadata": {
    "execution": {
     "iopub.execute_input": "2025-02-15T03:01:46.787626Z",
     "iopub.status.busy": "2025-02-15T03:01:46.787229Z",
     "iopub.status.idle": "2025-02-15T03:01:46.799929Z",
     "shell.execute_reply": "2025-02-15T03:01:46.798871Z"
    },
    "id": "4d580627",
    "papermill": {
     "duration": 0.032623,
     "end_time": "2025-02-15T03:01:46.801593",
     "exception": false,
     "start_time": "2025-02-15T03:01:46.768970",
     "status": "completed"
    },
    "tags": []
   },
   "outputs": [],
   "source": [
    "### YOUR CODE HERE ###\n",
    "# label encoding\n",
    "df_subset['Class'] = df_subset['Class'].map({\"Business\": 3, \"Eco Plus\": 2, \"Eco\": 1}) "
   ]
  },
  {
   "cell_type": "markdown",
   "id": "ad1a521e",
   "metadata": {
    "id": "d07b3ae9",
    "papermill": {
     "duration": 0.017278,
     "end_time": "2025-02-15T03:01:46.836719",
     "exception": false,
     "start_time": "2025-02-15T03:01:46.819441",
     "status": "completed"
    },
    "tags": []
   },
   "source": [
    "<details>\n",
    "  <summary><h4><strong> Hint 1 </strong> </h4></summary>\n",
    "\n",
    "Use the `map()` or `replace()` function. \n",
    "\n",
    "</details>"
   ]
  },
  {
   "cell_type": "markdown",
   "id": "3ea91ff9",
   "metadata": {
    "id": "fa6d2042",
    "papermill": {
     "duration": 0.017376,
     "end_time": "2025-02-15T03:01:46.871607",
     "exception": false,
     "start_time": "2025-02-15T03:01:46.854231",
     "status": "completed"
    },
    "tags": []
   },
   "source": [
    "<details>\n",
    "  <summary><h4><strong>Hint 2</strong></h4></summary>\n",
    "\n",
    "For both functions, you will need to pass in a dictionary of class mappings `{\"Business\": 3, \"Eco Plus\": 2, \"Eco\": 1})`.\n",
    "\n",
    "</details>"
   ]
  },
  {
   "cell_type": "markdown",
   "id": "eba1a02c",
   "metadata": {
    "id": "LOy2vjgVyMw-",
    "papermill": {
     "duration": 0.017121,
     "end_time": "2025-02-15T03:01:46.906111",
     "exception": false,
     "start_time": "2025-02-15T03:01:46.888990",
     "status": "completed"
    },
    "tags": []
   },
   "source": [
    "### Represent the data in the target variable numerically\n",
    "\n",
    "To represent the data in the target variable numerically, assign `\"satisfied\"` to the label `1` and `\"dissatisfied\"` to the label `0` in the `satisfaction` column. "
   ]
  },
  {
   "cell_type": "code",
   "execution_count": 14,
   "id": "1a411a9c",
   "metadata": {
    "execution": {
     "iopub.execute_input": "2025-02-15T03:01:46.942310Z",
     "iopub.status.busy": "2025-02-15T03:01:46.941885Z",
     "iopub.status.idle": "2025-02-15T03:01:46.955306Z",
     "shell.execute_reply": "2025-02-15T03:01:46.954188Z"
    },
    "id": "q1o64I02zay7",
    "papermill": {
     "duration": 0.033474,
     "end_time": "2025-02-15T03:01:46.957080",
     "exception": false,
     "start_time": "2025-02-15T03:01:46.923606",
     "status": "completed"
    },
    "tags": []
   },
   "outputs": [],
   "source": [
    "### YOUR CODE HERE ###\n",
    "# one hot encoding targets\n",
    "df_subset['satisfaction'] = df_subset['satisfaction'].map({\"satisfied\": 1, \"dissatisfied\": 0})"
   ]
  },
  {
   "cell_type": "markdown",
   "id": "76d84026",
   "metadata": {
    "id": "gPed8NIG1DYR",
    "papermill": {
     "duration": 0.017561,
     "end_time": "2025-02-15T03:01:46.992465",
     "exception": false,
     "start_time": "2025-02-15T03:01:46.974904",
     "status": "completed"
    },
    "tags": []
   },
   "source": [
    "<details>\n",
    "  <summary><h4><strong> Hint 1 </strong> </h4></summary>\n",
    "\n",
    "Use the `map()` function to assign existing values in a column to new values.\n",
    "\n",
    "</details>"
   ]
  },
  {
   "cell_type": "markdown",
   "id": "49c8a994",
   "metadata": {
    "id": "5m6ZF0yp1DYT",
    "papermill": {
     "duration": 0.017265,
     "end_time": "2025-02-15T03:01:47.027272",
     "exception": false,
     "start_time": "2025-02-15T03:01:47.010007",
     "status": "completed"
    },
    "tags": []
   },
   "source": [
    "<details>\n",
    "  <summary><h4><strong> Hint 2 </strong></h4></summary>\n",
    "\n",
    "Call `map()` on the `satisfaction` column and pass in a dictionary specifying that `\"satisfied\"` should be assigned to `1` and `\"dissatisfied\"` should be assigned to `0`.\n",
    "\n",
    "</details>"
   ]
  },
  {
   "cell_type": "markdown",
   "id": "f128b982",
   "metadata": {
    "id": "s_Jf_sDy2Mmp",
    "papermill": {
     "duration": 0.017296,
     "end_time": "2025-02-15T03:01:47.061929",
     "exception": false,
     "start_time": "2025-02-15T03:01:47.044633",
     "status": "completed"
    },
    "tags": []
   },
   "source": [
    "<details>\n",
    "  <summary><h4><strong> Hint 3 </strong></h4></summary>\n",
    "\n",
    "Update the `satisfaction` column in `df_subset` with the newly assigned values.\n",
    "\n",
    "</details>"
   ]
  },
  {
   "cell_type": "markdown",
   "id": "1d4dee5e",
   "metadata": {
    "id": "WzdzBLmB2j-e",
    "papermill": {
     "duration": 0.017212,
     "end_time": "2025-02-15T03:01:47.096673",
     "exception": false,
     "start_time": "2025-02-15T03:01:47.079461",
     "status": "completed"
    },
    "tags": []
   },
   "source": [
    "### Convert categorical columns into numeric\n",
    "\n",
    "There are other columns in the dataset that are still categorical. Be sure to convert categorical columns in the dataset into numeric."
   ]
  },
  {
   "cell_type": "code",
   "execution_count": 15,
   "id": "ee0b827a",
   "metadata": {
    "execution": {
     "iopub.execute_input": "2025-02-15T03:01:47.133078Z",
     "iopub.status.busy": "2025-02-15T03:01:47.132698Z",
     "iopub.status.idle": "2025-02-15T03:01:47.189980Z",
     "shell.execute_reply": "2025-02-15T03:01:47.188945Z"
    },
    "id": "pKog_5f22j-g",
    "papermill": {
     "duration": 0.07771,
     "end_time": "2025-02-15T03:01:47.191886",
     "exception": false,
     "start_time": "2025-02-15T03:01:47.114176",
     "status": "completed"
    },
    "tags": []
   },
   "outputs": [],
   "source": [
    "### YOUR CODE HERE ###\n",
    "# OHE other categorical feature variables\n",
    "df_subset = pd.get_dummies(df_subset, drop_first = True)"
   ]
  },
  {
   "cell_type": "markdown",
   "id": "8cb8dc03",
   "metadata": {
    "id": "pPiAhRMq2j-i",
    "papermill": {
     "duration": 0.017274,
     "end_time": "2025-02-15T03:01:47.226854",
     "exception": false,
     "start_time": "2025-02-15T03:01:47.209580",
     "status": "completed"
    },
    "tags": []
   },
   "source": [
    "<details>\n",
    "  <summary><h4><strong> Hint 1 </strong> </h4></summary>\n",
    "\n",
    "Use the `get_dummies()` function. \n",
    "\n",
    "</details>"
   ]
  },
  {
   "cell_type": "markdown",
   "id": "169dc981",
   "metadata": {
    "id": "F4ybCX5t2j-j",
    "papermill": {
     "duration": 0.017238,
     "end_time": "2025-02-15T03:01:47.261531",
     "exception": false,
     "start_time": "2025-02-15T03:01:47.244293",
     "status": "completed"
    },
    "tags": []
   },
   "source": [
    "<details>\n",
    "  <summary><h4><strong> Hint 2 </strong></h4></summary>\n",
    "\n",
    "Set the `drop_first` parameter to `True`. This removes redundant data.\n",
    "\n",
    "</details>"
   ]
  },
  {
   "cell_type": "markdown",
   "id": "87d9d4ff",
   "metadata": {
    "id": "06bbe8dd",
    "papermill": {
     "duration": 0.017118,
     "end_time": "2025-02-15T03:01:47.295947",
     "exception": false,
     "start_time": "2025-02-15T03:01:47.278829",
     "status": "completed"
    },
    "tags": []
   },
   "source": [
    "### Check column data types\n",
    "\n",
    "Now that you have converted categorical columns into numeric, check your column data types."
   ]
  },
  {
   "cell_type": "code",
   "execution_count": 16,
   "id": "b38e4c6a",
   "metadata": {
    "execution": {
     "iopub.execute_input": "2025-02-15T03:01:47.332921Z",
     "iopub.status.busy": "2025-02-15T03:01:47.332596Z",
     "iopub.status.idle": "2025-02-15T03:01:47.339613Z",
     "shell.execute_reply": "2025-02-15T03:01:47.338558Z"
    },
    "id": "d39eecf9",
    "papermill": {
     "duration": 0.027255,
     "end_time": "2025-02-15T03:01:47.341113",
     "exception": false,
     "start_time": "2025-02-15T03:01:47.313858",
     "status": "completed"
    },
    "scrolled": true,
    "tags": []
   },
   "outputs": [
    {
     "data": {
      "text/plain": [
       "satisfaction                           int64\n",
       "Age                                    int64\n",
       "Class                                  int64\n",
       "Flight Distance                        int64\n",
       "Seat comfort                           int64\n",
       "Departure/Arrival time convenient      int64\n",
       "Food and drink                         int64\n",
       "Gate location                          int64\n",
       "Inflight wifi service                  int64\n",
       "Inflight entertainment                 int64\n",
       "Online support                         int64\n",
       "Ease of Online booking                 int64\n",
       "On-board service                       int64\n",
       "Leg room service                       int64\n",
       "Baggage handling                       int64\n",
       "Checkin service                        int64\n",
       "Cleanliness                            int64\n",
       "Online boarding                        int64\n",
       "Departure Delay in Minutes             int64\n",
       "Arrival Delay in Minutes             float64\n",
       "Customer Type_disloyal Customer         bool\n",
       "Type of Travel_Personal Travel          bool\n",
       "dtype: object"
      ]
     },
     "execution_count": 16,
     "metadata": {},
     "output_type": "execute_result"
    }
   ],
   "source": [
    "### YOUR CODE HERE ###\n",
    "df_subset.dtypes"
   ]
  },
  {
   "cell_type": "markdown",
   "id": "f29d6c6f",
   "metadata": {
    "id": "67c44d42",
    "papermill": {
     "duration": 0.021784,
     "end_time": "2025-02-15T03:01:47.380649",
     "exception": false,
     "start_time": "2025-02-15T03:01:47.358865",
     "status": "completed"
    },
    "tags": []
   },
   "source": [
    "<details>\n",
    "  <summary><h4><strong> Hint 1</strong></h4></summary>\n",
    "\n",
    "Use the `dtypes` attribute on the DataFrame.\n",
    "\n",
    "</details>"
   ]
  },
  {
   "cell_type": "markdown",
   "id": "737c8312",
   "metadata": {
    "id": "0aaf5733",
    "papermill": {
     "duration": 0.02155,
     "end_time": "2025-02-15T03:01:47.425439",
     "exception": false,
     "start_time": "2025-02-15T03:01:47.403889",
     "status": "completed"
    },
    "tags": []
   },
   "source": [
    "### Create the training and testing data\n",
    "\n",
    "Put 75% of the data into a training set and the remaining 25% into a testing set. "
   ]
  },
  {
   "cell_type": "code",
   "execution_count": 17,
   "id": "d214a21c",
   "metadata": {
    "execution": {
     "iopub.execute_input": "2025-02-15T03:01:47.462486Z",
     "iopub.status.busy": "2025-02-15T03:01:47.462102Z",
     "iopub.status.idle": "2025-02-15T03:01:47.516735Z",
     "shell.execute_reply": "2025-02-15T03:01:47.515428Z"
    },
    "id": "77bffb4e",
    "papermill": {
     "duration": 0.075684,
     "end_time": "2025-02-15T03:01:47.519201",
     "exception": false,
     "start_time": "2025-02-15T03:01:47.443517",
     "status": "completed"
    },
    "tags": []
   },
   "outputs": [],
   "source": [
    "### YOUR CODE HERE ###\n",
    "\n",
    "# feature set\n",
    "X = df_subset.copy()\n",
    "X = X.drop(\"satisfaction\", axis = 1)\n",
    "\n",
    "# target set\n",
    "y = df_subset[\"satisfaction\"]\n",
    "\n",
    "# train test split\n",
    "X_train, X_test, y_train, y_test = train_test_split(X, y, test_size=0.25, random_state=0)"
   ]
  },
  {
   "cell_type": "markdown",
   "id": "2f2b8f39",
   "metadata": {
    "id": "acae11f0",
    "papermill": {
     "duration": 0.022843,
     "end_time": "2025-02-15T03:01:47.564810",
     "exception": false,
     "start_time": "2025-02-15T03:01:47.541967",
     "status": "completed"
    },
    "tags": []
   },
   "source": [
    "<details>\n",
    "  <summary><h4><strong> Hint 1</strong></h4></summary>\n",
    "\n",
    "Use `train_test_split`.\n",
    "\n",
    "</details>"
   ]
  },
  {
   "cell_type": "markdown",
   "id": "d4d13dae",
   "metadata": {
    "id": "TVTdzUmKfY3g",
    "papermill": {
     "duration": 0.017222,
     "end_time": "2025-02-15T03:01:47.599964",
     "exception": false,
     "start_time": "2025-02-15T03:01:47.582742",
     "status": "completed"
    },
    "tags": []
   },
   "source": [
    "<details>\n",
    "  <summary><h4><strong> Hint 2</strong></h4></summary>\n",
    "\n",
    "Pass in `0` to `random_state`.\n",
    "\n",
    "</details>"
   ]
  },
  {
   "cell_type": "markdown",
   "id": "92db04a6",
   "metadata": {
    "id": "101f3580",
    "papermill": {
     "duration": 0.017336,
     "end_time": "2025-02-15T03:01:47.634928",
     "exception": false,
     "start_time": "2025-02-15T03:01:47.617592",
     "status": "completed"
    },
    "tags": []
   },
   "source": [
    "<details>\n",
    "  <summary><h4><strong>Hint 3</strong></h4></summary>\n",
    "\n",
    "If you named your features matrix X and your target y, then it would be `train_test_split(X, y, test_size=0.25, random_state=0)`.\n",
    "\n",
    "</details>"
   ]
  },
  {
   "cell_type": "markdown",
   "id": "eba49b00",
   "metadata": {
    "id": "58bb9bf2",
    "papermill": {
     "duration": 0.018523,
     "end_time": "2025-02-15T03:01:47.671019",
     "exception": false,
     "start_time": "2025-02-15T03:01:47.652496",
     "status": "completed"
    },
    "tags": []
   },
   "source": [
    "## Step 3: Model building"
   ]
  },
  {
   "cell_type": "markdown",
   "id": "5d672b0b",
   "metadata": {
    "id": "a81f66ae",
    "papermill": {
     "duration": 0.019288,
     "end_time": "2025-02-15T03:01:47.711752",
     "exception": false,
     "start_time": "2025-02-15T03:01:47.692464",
     "status": "completed"
    },
    "tags": []
   },
   "source": [
    "### Fit a decision tree classifier model to the data\n",
    "\n",
    "Make a decision tree instance called `decision_tree` and pass in `0` to the `random_state` parameter. This is only so that if other data professionals run this code, they get the same results. Fit the model on the training set, use the `predict()` function on the testing set, and assign those predictions to the variable `dt_pred`. "
   ]
  },
  {
   "cell_type": "code",
   "execution_count": 18,
   "id": "eaad2b77",
   "metadata": {
    "execution": {
     "iopub.execute_input": "2025-02-15T03:01:47.750128Z",
     "iopub.status.busy": "2025-02-15T03:01:47.749799Z",
     "iopub.status.idle": "2025-02-15T03:01:48.532229Z",
     "shell.execute_reply": "2025-02-15T03:01:48.531304Z"
    },
    "id": "5a4211cb",
    "papermill": {
     "duration": 0.802868,
     "end_time": "2025-02-15T03:01:48.534154",
     "exception": false,
     "start_time": "2025-02-15T03:01:47.731286",
     "status": "completed"
    },
    "tags": []
   },
   "outputs": [],
   "source": [
    "### YOUR CODE HERE ###\n",
    "\n",
    "# instantiate the tree classifier\n",
    "decision_tree = DecisionTreeClassifier(random_state=0)\n",
    "\n",
    "# fitting t model to training data\n",
    "decision_tree.fit(X_train, y_train)\n",
    "\n",
    "# predicting using test set\n",
    "dt_pred = decision_tree.predict(X_test)"
   ]
  },
  {
   "cell_type": "markdown",
   "id": "6ea77a4c",
   "metadata": {
    "id": "ad9dac6b",
    "papermill": {
     "duration": 0.018187,
     "end_time": "2025-02-15T03:01:48.571042",
     "exception": false,
     "start_time": "2025-02-15T03:01:48.552855",
     "status": "completed"
    },
    "tags": []
   },
   "source": [
    "<details>\n",
    "  <summary><h4><strong> Hint 1</strong></h4></summary>\n",
    "\n",
    "Use `DecisionTreeClassifier`, the `fit()` function, and the `predict()` function.\n",
    "\n",
    "</details>"
   ]
  },
  {
   "cell_type": "markdown",
   "id": "09838574",
   "metadata": {
    "id": "dac3da82",
    "papermill": {
     "duration": 0.017751,
     "end_time": "2025-02-15T03:01:48.606975",
     "exception": false,
     "start_time": "2025-02-15T03:01:48.589224",
     "status": "completed"
    },
    "tags": []
   },
   "source": [
    "**Question:** What are some advantages of using decision trees versus other models you have learned about? "
   ]
  },
  {
   "cell_type": "markdown",
   "id": "34c0d584",
   "metadata": {
    "id": "RaOxZ4_66j4D",
    "papermill": {
     "duration": 0.017851,
     "end_time": "2025-02-15T03:01:48.643074",
     "exception": false,
     "start_time": "2025-02-15T03:01:48.625223",
     "status": "completed"
    },
    "tags": []
   },
   "source": [
    "* feature variables need NOT be of any specific distribution\n",
    "* Easily handles collinearity\n",
    "* little to no pre-processing of data is enough"
   ]
  },
  {
   "cell_type": "markdown",
   "id": "fd142468",
   "metadata": {
    "id": "d638b5bb",
    "papermill": {
     "duration": 0.017729,
     "end_time": "2025-02-15T03:01:48.678962",
     "exception": false,
     "start_time": "2025-02-15T03:01:48.661233",
     "status": "completed"
    },
    "tags": []
   },
   "source": [
    "## Step 4: Results and evaluation\n",
    "\n",
    "Print out the decision tree model's accuracy, precision, recall, and F1 score."
   ]
  },
  {
   "cell_type": "code",
   "execution_count": 19,
   "id": "61dbd02d",
   "metadata": {
    "execution": {
     "iopub.execute_input": "2025-02-15T03:01:48.716437Z",
     "iopub.status.busy": "2025-02-15T03:01:48.716066Z",
     "iopub.status.idle": "2025-02-15T03:01:48.769652Z",
     "shell.execute_reply": "2025-02-15T03:01:48.768515Z"
    },
    "id": "6de9be28",
    "papermill": {
     "duration": 0.07421,
     "end_time": "2025-02-15T03:01:48.771243",
     "exception": false,
     "start_time": "2025-02-15T03:01:48.697033",
     "status": "completed"
    },
    "tags": []
   },
   "outputs": [
    {
     "name": "stdout",
     "output_type": "stream",
     "text": [
      "Decision Tree classifier using train test sets results:\n",
      "Accuracy: 0.935438\n",
      "Precision: 0.942859\n",
      "Recall: 0.939030\n",
      "F1 Score: 0.940940\n"
     ]
    }
   ],
   "source": [
    "### YOUR CODE HERE ###\n",
    "print(\"Decision Tree classifier using train test sets results:\")\n",
    "print(\"Accuracy:\", \"%.6f\" % metrics.accuracy_score(y_test, dt_pred))\n",
    "print(\"Precision:\", \"%.6f\" % metrics.precision_score(y_test, dt_pred))\n",
    "print(\"Recall:\", \"%.6f\" % metrics.recall_score(y_test, dt_pred))\n",
    "print(\"F1 Score:\", \"%.6f\" % metrics.f1_score(y_test, dt_pred))"
   ]
  },
  {
   "cell_type": "markdown",
   "id": "f7d90ec9",
   "metadata": {
    "id": "3c6c01ff",
    "papermill": {
     "duration": 0.017433,
     "end_time": "2025-02-15T03:01:48.806980",
     "exception": false,
     "start_time": "2025-02-15T03:01:48.789547",
     "status": "completed"
    },
    "tags": []
   },
   "source": [
    "<details>\n",
    "  <summary><h4><strong> Hint 1</strong></h4></summary>\n",
    "\n",
    "Use four different functions from `metrics` to get the accuracy, precision, recall, and F1 score.\n",
    "    \n",
    "</details>"
   ]
  },
  {
   "cell_type": "markdown",
   "id": "44d71e48",
   "metadata": {
    "id": "72550972",
    "papermill": {
     "duration": 0.017436,
     "end_time": "2025-02-15T03:01:48.842212",
     "exception": false,
     "start_time": "2025-02-15T03:01:48.824776",
     "status": "completed"
    },
    "tags": []
   },
   "source": [
    "<details>\n",
    "  <summary><h4><strong>Hint 2</strong></h4></summary>\n",
    "\n",
    "Input `y_test` and `y_pred` into the `metrics.accuracy_score`, `metrics.precision_score`, `metrics.recall_score` and `metrics.f1_score` functions.\n",
    "    \n",
    "</details> "
   ]
  },
  {
   "cell_type": "markdown",
   "id": "dc1cebb0",
   "metadata": {
    "id": "14c49f02",
    "papermill": {
     "duration": 0.017825,
     "end_time": "2025-02-15T03:01:48.878036",
     "exception": false,
     "start_time": "2025-02-15T03:01:48.860211",
     "status": "completed"
    },
    "tags": []
   },
   "source": [
    "**Question:** Are there any additional steps you could take to improve the performance or function of your decision tree?"
   ]
  },
  {
   "cell_type": "markdown",
   "id": "ecc872f4",
   "metadata": {
    "id": "YTIryEN26nqo",
    "papermill": {
     "duration": 0.017452,
     "end_time": "2025-02-15T03:01:48.913362",
     "exception": false,
     "start_time": "2025-02-15T03:01:48.895910",
     "status": "completed"
    },
    "tags": []
   },
   "source": [
    "* hyperparameters can be manually set or tuned\n",
    "* use cross validation techniques to tune hyperparameters (in turn having validation set and test sets to evaluate against)"
   ]
  },
  {
   "cell_type": "markdown",
   "id": "f686ddf0",
   "metadata": {
    "id": "2d63fb90",
    "papermill": {
     "duration": 0.018329,
     "end_time": "2025-02-15T03:01:48.949425",
     "exception": false,
     "start_time": "2025-02-15T03:01:48.931096",
     "status": "completed"
    },
    "tags": []
   },
   "source": [
    "### Produce a confusion matrix"
   ]
  },
  {
   "cell_type": "markdown",
   "id": "b3e20cf8",
   "metadata": {
    "id": "0524c798",
    "papermill": {
     "duration": 0.017819,
     "end_time": "2025-02-15T03:01:48.985137",
     "exception": false,
     "start_time": "2025-02-15T03:01:48.967318",
     "status": "completed"
    },
    "tags": []
   },
   "source": [
    "Data professionals often like to know the types of errors made by an algorithm. To obtain this information, produce a confusion matrix."
   ]
  },
  {
   "cell_type": "code",
   "execution_count": 20,
   "id": "7a7a4bbf",
   "metadata": {
    "execution": {
     "iopub.execute_input": "2025-02-15T03:01:49.022585Z",
     "iopub.status.busy": "2025-02-15T03:01:49.022169Z",
     "iopub.status.idle": "2025-02-15T03:01:49.336548Z",
     "shell.execute_reply": "2025-02-15T03:01:49.335435Z"
    },
    "id": "df15d57b",
    "papermill": {
     "duration": 0.334716,
     "end_time": "2025-02-15T03:01:49.338136",
     "exception": false,
     "start_time": "2025-02-15T03:01:49.003420",
     "status": "completed"
    },
    "tags": []
   },
   "outputs": [
    {
     "name": "stdout",
     "output_type": "stream",
     "text": [
      "[[13633  1009]\n",
      " [ 1081 16649]]\n"
     ]
    },
    {
     "data": {
      "text/plain": [
       "<sklearn.metrics._plot.confusion_matrix.ConfusionMatrixDisplay at 0x7bdf9a8f0a00>"
      ]
     },
     "execution_count": 20,
     "metadata": {},
     "output_type": "execute_result"
    },
    {
     "data": {
      "image/png": "[encoded data removed]",
      "text/plain": [
       "<Figure size 640x480 with 2 Axes>"
      ]
     },
     "metadata": {},
     "output_type": "display_data"
    }
   ],
   "source": [
    "### YOUR CODE HERE ###\n",
    "\n",
    "# matrix array\n",
    "cm = metrics.confusion_matrix(y_test, dt_pred, labels = decision_tree.classes_)\n",
    "print(cm)\n",
    "\n",
    "# confusion matrix plot\n",
    "disp = metrics.ConfusionMatrixDisplay(confusion_matrix = cm,display_labels = decision_tree.classes_)\n",
    "\n",
    "# show the plot\n",
    "disp.plot()"
   ]
  },
  {
   "cell_type": "markdown",
   "id": "7f515585",
   "metadata": {
    "id": "13e29875",
    "papermill": {
     "duration": 0.018205,
     "end_time": "2025-02-15T03:01:49.375115",
     "exception": false,
     "start_time": "2025-02-15T03:01:49.356910",
     "status": "completed"
    },
    "tags": []
   },
   "source": [
    "<details>\n",
    "  <summary><h4><strong>Hint 1</strong></h4></summary>\n",
    "\n",
    "Refer to [the content about plotting a confusion matrix](https://www.coursera.org/learn/regression-analysis-simplify-complex-data-relationships/lecture/SpRqe/evaluate-a-binomial-logistic-regression-model).\n",
    "\n",
    "</details>"
   ]
  },
  {
   "cell_type": "markdown",
   "id": "f0fccd40",
   "metadata": {
    "id": "4fdef8f5",
    "papermill": {
     "duration": 0.020157,
     "end_time": "2025-02-15T03:01:49.413609",
     "exception": false,
     "start_time": "2025-02-15T03:01:49.393452",
     "status": "completed"
    },
    "tags": []
   },
   "source": [
    "<details>\n",
    "  <summary><h4><strong>Hint 2</strong></h4></summary>\n",
    "\n",
    "Use `metrics.confusion_matrix`, `metrics.ConfusionMatrixDisplay`, and the `plot()` function.\n",
    "\n",
    "</details>"
   ]
  },
  {
   "cell_type": "markdown",
   "id": "68fc3f53",
   "metadata": {
    "id": "90154f0f",
    "papermill": {
     "duration": 0.018654,
     "end_time": "2025-02-15T03:01:49.451768",
     "exception": false,
     "start_time": "2025-02-15T03:01:49.433114",
     "status": "completed"
    },
    "tags": []
   },
   "source": [
    "**Question:** What patterns can you identify between true positives and true negatives, as well as false positives and false negatives?"
   ]
  },
  {
   "cell_type": "markdown",
   "id": "5c856168",
   "metadata": {
    "id": "2NVELuWM6sPT",
    "papermill": {
     "duration": 0.01834,
     "end_time": "2025-02-15T03:01:49.489094",
     "exception": false,
     "start_time": "2025-02-15T03:01:49.470754",
     "status": "completed"
    },
    "tags": []
   },
   "source": [
    "* high number of TPs and TNs when compared to FPs and FNs indicate the classifier is predicting the customer satisfaction quite well"
   ]
  },
  {
   "cell_type": "markdown",
   "id": "b36165a1",
   "metadata": {
    "id": "3e2c1c7d",
    "papermill": {
     "duration": 0.018414,
     "end_time": "2025-02-15T03:01:49.528930",
     "exception": false,
     "start_time": "2025-02-15T03:01:49.510516",
     "status": "completed"
    },
    "tags": []
   },
   "source": [
    "### Plot the decision tree\n",
    "\n",
    "Examine the decision tree. Use `plot_tree` function to produce a visual representation of the tree to pinpoint where the splits in the data are occurring."
   ]
  },
  {
   "cell_type": "code",
   "execution_count": 21,
   "id": "da77c6df",
   "metadata": {
    "execution": {
     "iopub.execute_input": "2025-02-15T03:01:49.567814Z",
     "iopub.status.busy": "2025-02-15T03:01:49.567467Z",
     "iopub.status.idle": "2025-02-15T03:01:50.253289Z",
     "shell.execute_reply": "2025-02-15T03:01:50.252252Z"
    },
    "id": "9ef5e9c3",
    "papermill": {
     "duration": 0.708816,
     "end_time": "2025-02-15T03:01:50.256478",
     "exception": false,
     "start_time": "2025-02-15T03:01:49.547662",
     "status": "completed"
    },
    "tags": []
   },
   "outputs": [
    {
     "data": {
      "image/png": "[encoded data removed]",
      "text/plain": [
       "<Figure size 2000x1200 with 1 Axes>"
      ]
     },
     "metadata": {},
     "output_type": "display_data"
    }
   ],
   "source": [
    "### YOUR CODE HERE ###\n",
    "\n",
    "# set plot size\n",
    "plt.figure(figsize=(20,12))\n",
    "\n",
    "# visualize the decision tree\n",
    "plot_tree(decision_tree, max_depth=2, fontsize=14, feature_names=X.columns)\n",
    "\n",
    "# display the plot\n",
    "plt.show()"
   ]
  },
  {
   "cell_type": "markdown",
   "id": "2466142e",
   "metadata": {
    "id": "2cfefc38",
    "papermill": {
     "duration": 0.021051,
     "end_time": "2025-02-15T03:01:50.299402",
     "exception": false,
     "start_time": "2025-02-15T03:01:50.278351",
     "status": "completed"
    },
    "tags": []
   },
   "source": [
    "<details>\n",
    "  <summary><h4><strong>Hint 1</strong></h4></summary>\n",
    "\n",
    "If your tree is hard to read, pass `2` or `3` in the parameter `max_depth`. \n",
    "\n",
    "</details>"
   ]
  },
  {
   "cell_type": "markdown",
   "id": "bb2de5aa",
   "metadata": {
    "id": "9a84e65a",
    "papermill": {
     "duration": 0.020885,
     "end_time": "2025-02-15T03:01:50.341460",
     "exception": false,
     "start_time": "2025-02-15T03:01:50.320575",
     "status": "completed"
    },
    "tags": []
   },
   "source": [
    "### Hyperparameter tuning\n",
    "\n",
    "Knowing how and when to adjust or tune a model can help a data professional significantly increase performance. In this section, you will find the best values for the hyperparameters `max_depth` and `min_samples_leaf` using grid search and cross validation. Below are some values for the hyperparameters `max_depth` and `min_samples_leaf`.   "
   ]
  },
  {
   "cell_type": "code",
   "execution_count": 22,
   "id": "30419aac",
   "metadata": {
    "execution": {
     "iopub.execute_input": "2025-02-15T03:01:50.385159Z",
     "iopub.status.busy": "2025-02-15T03:01:50.384826Z",
     "iopub.status.idle": "2025-02-15T03:01:50.389529Z",
     "shell.execute_reply": "2025-02-15T03:01:50.388685Z"
    },
    "id": "7b47fcab",
    "papermill": {
     "duration": 0.028416,
     "end_time": "2025-02-15T03:01:50.391050",
     "exception": false,
     "start_time": "2025-02-15T03:01:50.362634",
     "status": "completed"
    },
    "tags": []
   },
   "outputs": [],
   "source": [
    "tree_para = {'max_depth':[1,2,3,4,5,6,7,8,9,10,11,12,13,14,15,16,17,18,19,20,30,40,50],\n",
    "             'min_samples_leaf': [2,3,4,5,6,7,8,9, 10, 15, 20, 50]}\n",
    "\n",
    "scoring = {'accuracy', 'precision', 'recall', 'f1'}"
   ]
  },
  {
   "cell_type": "markdown",
   "id": "ec9b4ef9",
   "metadata": {
    "id": "22672b1f",
    "papermill": {
     "duration": 0.021977,
     "end_time": "2025-02-15T03:01:50.435669",
     "exception": false,
     "start_time": "2025-02-15T03:01:50.413692",
     "status": "completed"
    },
    "tags": []
   },
   "source": [
    "### Check combinations of values\n",
    "\n",
    "Check every combination of values to examine which pair has the best evaluation metrics. Make a decision tree instance called `tuned_decision_tree` with `random_state=0`, make a `GridSearchCV` instance called `clf`, make sure to refit the estimator using `\"f1\"`, and fit the model on the training set. \n",
    "\n",
    "**Note:** This cell may take up to 15 minutes to run."
   ]
  },
  {
   "cell_type": "code",
   "execution_count": 23,
   "id": "fdf61be2",
   "metadata": {
    "execution": {
     "iopub.execute_input": "2025-02-15T03:01:50.479740Z",
     "iopub.status.busy": "2025-02-15T03:01:50.479413Z",
     "iopub.status.idle": "2025-02-15T03:11:55.120573Z",
     "shell.execute_reply": "2025-02-15T03:11:55.119466Z"
    },
    "id": "ca41e241",
    "papermill": {
     "duration": 604.686868,
     "end_time": "2025-02-15T03:11:55.144121",
     "exception": false,
     "start_time": "2025-02-15T03:01:50.457253",
     "status": "completed"
    },
    "tags": []
   },
   "outputs": [
    {
     "data": {
      "text/html": [
       "<style>#sk-container-id-1 {color: black;background-color: white;}#sk-container-id-1 pre{padding: 0;}#sk-container-id-1 div.sk-toggleable {background-color: white;}#sk-container-id-1 label.sk-toggleable__label {cursor: pointer;display: block;width: 100%;margin-bottom: 0;padding: 0.3em;box-sizing: border-box;text-align: center;}#sk-container-id-1 label.sk-toggleable__label-arrow:before {content: \"▸\";float: left;margin-right: 0.25em;color: #696969;}#sk-container-id-1 label.sk-toggleable__label-arrow:hover:before {color: black;}#sk-container-id-1 div.sk-estimator:hover label.sk-toggleable__label-arrow:before {color: black;}#sk-container-id-1 div.sk-toggleable__content {max-height: 0;max-width: 0;overflow: hidden;text-align: left;background-color: #f0f8ff;}#sk-container-id-1 div.sk-toggleable__content pre {margin: 0.2em;color: black;border-radius: 0.25em;background-color: #f0f8ff;}#sk-container-id-1 input.sk-toggleable__control:checked~div.sk-toggleable__content {max-height: 200px;max-width: 100%;overflow: auto;}#sk-container-id-1 input.sk-toggleable__control:checked~label.sk-toggleable__label-arrow:before {content: \"▾\";}#sk-container-id-1 div.sk-estimator input.sk-toggleable__control:checked~label.sk-toggleable__label {background-color: #d4ebff;}#sk-container-id-1 div.sk-label input.sk-toggleable__control:checked~label.sk-toggleable__label {background-color: #d4ebff;}#sk-container-id-1 input.sk-hidden--visually {border: 0;clip: rect(1px 1px 1px 1px);clip: rect(1px, 1px, 1px, 1px);height: 1px;margin: -1px;overflow: hidden;padding: 0;position: absolute;width: 1px;}#sk-container-id-1 div.sk-estimator {font-family: monospace;background-color: #f0f8ff;border: 1px dotted black;border-radius: 0.25em;box-sizing: border-box;margin-bottom: 0.5em;}#sk-container-id-1 div.sk-estimator:hover {background-color: #d4ebff;}#sk-container-id-1 div.sk-parallel-item::after {content: \"\";width: 100%;border-bottom: 1px solid gray;flex-grow: 1;}#sk-container-id-1 div.sk-label:hover label.sk-toggleable__label {background-color: #d4ebff;}#sk-container-id-1 div.sk-serial::before {content: \"\";position: absolute;border-left: 1px solid gray;box-sizing: border-box;top: 0;bottom: 0;left: 50%;z-index: 0;}#sk-container-id-1 div.sk-serial {display: flex;flex-direction: column;align-items: center;background-color: white;padding-right: 0.2em;padding-left: 0.2em;position: relative;}#sk-container-id-1 div.sk-item {position: relative;z-index: 1;}#sk-container-id-1 div.sk-parallel {display: flex;align-items: stretch;justify-content: center;background-color: white;position: relative;}#sk-container-id-1 div.sk-item::before, #sk-container-id-1 div.sk-parallel-item::before {content: \"\";position: absolute;border-left: 1px solid gray;box-sizing: border-box;top: 0;bottom: 0;left: 50%;z-index: -1;}#sk-container-id-1 div.sk-parallel-item {display: flex;flex-direction: column;z-index: 1;position: relative;background-color: white;}#sk-container-id-1 div.sk-parallel-item:first-child::after {align-self: flex-end;width: 50%;}#sk-container-id-1 div.sk-parallel-item:last-child::after {align-self: flex-start;width: 50%;}#sk-container-id-1 div.sk-parallel-item:only-child::after {width: 0;}#sk-container-id-1 div.sk-dashed-wrapped {border: 1px dashed gray;margin: 0 0.4em 0.5em 0.4em;box-sizing: border-box;padding-bottom: 0.4em;background-color: white;}#sk-container-id-1 div.sk-label label {font-family: monospace;font-weight: bold;display: inline-block;line-height: 1.2em;}#sk-container-id-1 div.sk-label-container {text-align: center;}#sk-container-id-1 div.sk-container {/* jupyter's `normalize.less` sets `[hidden] { display: none; }` but bootstrap.min.css set `[hidden] { display: none !important; }` so we also need the `!important` here to be able to override the default hidden behavior on the sphinx rendered scikit-learn.org. See: https://github.com/scikit-learn/scikit-learn/issues/21755 */display: inline-block !important;position: relative;}#sk-container-id-1 div.sk-text-repr-fallback {display: none;}</style><div id=\"sk-container-id-1\" class=\"sk-top-container\"><div class=\"sk-text-repr-fallback\"><pre>GridSearchCV(cv=5, estimator=DecisionTreeClassifier(random_state=0),\n",
       "             param_grid={&#x27;max_depth&#x27;: [1, 2, 3, 4, 5, 6, 7, 8, 9, 10, 11, 12,\n",
       "                                       13, 14, 15, 16, 17, 18, 19, 20, 30, 40,\n",
       "                                       50],\n",
       "                         &#x27;min_samples_leaf&#x27;: [2, 3, 4, 5, 6, 7, 8, 9, 10, 15,\n",
       "                                              20, 50]},\n",
       "             refit=&#x27;f1&#x27;, scoring={&#x27;recall&#x27;, &#x27;f1&#x27;, &#x27;precision&#x27;, &#x27;accuracy&#x27;})</pre><b>In a Jupyter environment, please rerun this cell to show the HTML representation or trust the notebook. <br />On GitHub, the HTML representation is unable to render, please try loading this page with nbviewer.org.</b></div><div class=\"sk-container\" hidden><div class=\"sk-item sk-dashed-wrapped\"><div class=\"sk-label-container\"><div class=\"sk-label sk-toggleable\"><input class=\"sk-toggleable__control sk-hidden--visually\" id=\"sk-estimator-id-1\" type=\"checkbox\" ><label for=\"sk-estimator-id-1\" class=\"sk-toggleable__label sk-toggleable__label-arrow\">GridSearchCV</label><div class=\"sk-toggleable__content\"><pre>GridSearchCV(cv=5, estimator=DecisionTreeClassifier(random_state=0),\n",
       "             param_grid={&#x27;max_depth&#x27;: [1, 2, 3, 4, 5, 6, 7, 8, 9, 10, 11, 12,\n",
       "                                       13, 14, 15, 16, 17, 18, 19, 20, 30, 40,\n",
       "                                       50],\n",
       "                         &#x27;min_samples_leaf&#x27;: [2, 3, 4, 5, 6, 7, 8, 9, 10, 15,\n",
       "                                              20, 50]},\n",
       "             refit=&#x27;f1&#x27;, scoring={&#x27;recall&#x27;, &#x27;f1&#x27;, &#x27;precision&#x27;, &#x27;accuracy&#x27;})</pre></div></div></div><div class=\"sk-parallel\"><div class=\"sk-parallel-item\"><div class=\"sk-item\"><div class=\"sk-label-container\"><div class=\"sk-label sk-toggleable\"><input class=\"sk-toggleable__control sk-hidden--visually\" id=\"sk-estimator-id-2\" type=\"checkbox\" ><label for=\"sk-estimator-id-2\" class=\"sk-toggleable__label sk-toggleable__label-arrow\">estimator: DecisionTreeClassifier</label><div class=\"sk-toggleable__content\"><pre>DecisionTreeClassifier(random_state=0)</pre></div></div></div><div class=\"sk-serial\"><div class=\"sk-item\"><div class=\"sk-estimator sk-toggleable\"><input class=\"sk-toggleable__control sk-hidden--visually\" id=\"sk-estimator-id-3\" type=\"checkbox\" ><label for=\"sk-estimator-id-3\" class=\"sk-toggleable__label sk-toggleable__label-arrow\">DecisionTreeClassifier</label><div class=\"sk-toggleable__content\"><pre>DecisionTreeClassifier(random_state=0)</pre></div></div></div></div></div></div></div></div></div></div>"
      ],
      "text/plain": [
       "GridSearchCV(cv=5, estimator=DecisionTreeClassifier(random_state=0),\n",
       "             param_grid={'max_depth': [1, 2, 3, 4, 5, 6, 7, 8, 9, 10, 11, 12,\n",
       "                                       13, 14, 15, 16, 17, 18, 19, 20, 30, 40,\n",
       "                                       50],\n",
       "                         'min_samples_leaf': [2, 3, 4, 5, 6, 7, 8, 9, 10, 15,\n",
       "                                              20, 50]},\n",
       "             refit='f1', scoring={'recall', 'f1', 'precision', 'accuracy'})"
      ]
     },
     "execution_count": 23,
     "metadata": {},
     "output_type": "execute_result"
    }
   ],
   "source": [
    "### YOUR CODE HERE ###\n",
    "\n",
    "# instantiating decision tree classifier\n",
    "tuned_decision_tree = DecisionTreeClassifier(random_state=0)\n",
    "\n",
    "# cross validating and hyperparameter tuning\n",
    "clf = GridSearchCV(tuned_decision_tree, \n",
    "                   tree_para, \n",
    "                   scoring = scoring, \n",
    "                   cv=5, \n",
    "                   refit=\"f1\")\n",
    "\n",
    "# fitting the model with training data\n",
    "clf.fit(X_train, y_train)"
   ]
  },
  {
   "cell_type": "markdown",
   "id": "51bc9f53",
   "metadata": {
    "id": "ab2eca46",
    "papermill": {
     "duration": 0.021282,
     "end_time": "2025-02-15T03:11:55.187840",
     "exception": false,
     "start_time": "2025-02-15T03:11:55.166558",
     "status": "completed"
    },
    "tags": []
   },
   "source": [
    "<details>\n",
    "  <summary><h4><strong>Hint 1</strong></h4></summary>\n",
    "\n",
    "Refer to [the content about decision trees and grid search](https://www.coursera.org/learn/the-nuts-and-bolts-of-machine-learning/lecture/afopk/tune-a-decision-tree). \n",
    "\n",
    "</details>"
   ]
  },
  {
   "cell_type": "markdown",
   "id": "09fb0e96",
   "metadata": {
    "id": "6122d0d0",
    "papermill": {
     "duration": 0.021317,
     "end_time": "2025-02-15T03:11:55.230770",
     "exception": false,
     "start_time": "2025-02-15T03:11:55.209453",
     "status": "completed"
    },
    "tags": []
   },
   "source": [
    "<details>\n",
    "  <summary><h4><strong> Hint 2</strong></h4></summary>\n",
    "\n",
    "Use `DecisionTreeClassifier()`, `GridSearchCV()`, and the `clf.fit()` function.\n",
    "\n",
    "</details>"
   ]
  },
  {
   "cell_type": "markdown",
   "id": "309c8d82",
   "metadata": {
    "id": "59b8a1db",
    "papermill": {
     "duration": 0.021061,
     "end_time": "2025-02-15T03:11:55.273252",
     "exception": false,
     "start_time": "2025-02-15T03:11:55.252191",
     "status": "completed"
    },
    "tags": []
   },
   "source": [
    "**Question:** How can you determine the best combination of values for the hyperparameters? "
   ]
  },
  {
   "cell_type": "markdown",
   "id": "4c88e628",
   "metadata": {
    "papermill": {
     "duration": 0.022162,
     "end_time": "2025-02-15T03:11:55.316874",
     "exception": false,
     "start_time": "2025-02-15T03:11:55.294712",
     "status": "completed"
    },
    "tags": []
   },
   "source": [
    "* .best_estimator_ attribute will reveal the best combination of hyperparameters that gave rise to the best model"
   ]
  },
  {
   "cell_type": "markdown",
   "id": "333b3927",
   "metadata": {
    "papermill": {
     "duration": 0.021402,
     "end_time": "2025-02-15T03:11:55.360237",
     "exception": false,
     "start_time": "2025-02-15T03:11:55.338835",
     "status": "completed"
    },
    "tags": []
   },
   "source": [
    "### Compute the best combination of values for the hyperparameters"
   ]
  },
  {
   "cell_type": "code",
   "execution_count": 24,
   "id": "8bb23db6",
   "metadata": {
    "execution": {
     "iopub.execute_input": "2025-02-15T03:11:55.404529Z",
     "iopub.status.busy": "2025-02-15T03:11:55.404147Z",
     "iopub.status.idle": "2025-02-15T03:11:55.410151Z",
     "shell.execute_reply": "2025-02-15T03:11:55.409350Z"
    },
    "id": "213279f3",
    "papermill": {
     "duration": 0.029867,
     "end_time": "2025-02-15T03:11:55.411580",
     "exception": false,
     "start_time": "2025-02-15T03:11:55.381713",
     "status": "completed"
    },
    "scrolled": true,
    "tags": []
   },
   "outputs": [
    {
     "data": {
      "text/html": [
       "<style>#sk-container-id-2 {color: black;background-color: white;}#sk-container-id-2 pre{padding: 0;}#sk-container-id-2 div.sk-toggleable {background-color: white;}#sk-container-id-2 label.sk-toggleable__label {cursor: pointer;display: block;width: 100%;margin-bottom: 0;padding: 0.3em;box-sizing: border-box;text-align: center;}#sk-container-id-2 label.sk-toggleable__label-arrow:before {content: \"▸\";float: left;margin-right: 0.25em;color: #696969;}#sk-container-id-2 label.sk-toggleable__label-arrow:hover:before {color: black;}#sk-container-id-2 div.sk-estimator:hover label.sk-toggleable__label-arrow:before {color: black;}#sk-container-id-2 div.sk-toggleable__content {max-height: 0;max-width: 0;overflow: hidden;text-align: left;background-color: #f0f8ff;}#sk-container-id-2 div.sk-toggleable__content pre {margin: 0.2em;color: black;border-radius: 0.25em;background-color: #f0f8ff;}#sk-container-id-2 input.sk-toggleable__control:checked~div.sk-toggleable__content {max-height: 200px;max-width: 100%;overflow: auto;}#sk-container-id-2 input.sk-toggleable__control:checked~label.sk-toggleable__label-arrow:before {content: \"▾\";}#sk-container-id-2 div.sk-estimator input.sk-toggleable__control:checked~label.sk-toggleable__label {background-color: #d4ebff;}#sk-container-id-2 div.sk-label input.sk-toggleable__control:checked~label.sk-toggleable__label {background-color: #d4ebff;}#sk-container-id-2 input.sk-hidden--visually {border: 0;clip: rect(1px 1px 1px 1px);clip: rect(1px, 1px, 1px, 1px);height: 1px;margin: -1px;overflow: hidden;padding: 0;position: absolute;width: 1px;}#sk-container-id-2 div.sk-estimator {font-family: monospace;background-color: #f0f8ff;border: 1px dotted black;border-radius: 0.25em;box-sizing: border-box;margin-bottom: 0.5em;}#sk-container-id-2 div.sk-estimator:hover {background-color: #d4ebff;}#sk-container-id-2 div.sk-parallel-item::after {content: \"\";width: 100%;border-bottom: 1px solid gray;flex-grow: 1;}#sk-container-id-2 div.sk-label:hover label.sk-toggleable__label {background-color: #d4ebff;}#sk-container-id-2 div.sk-serial::before {content: \"\";position: absolute;border-left: 1px solid gray;box-sizing: border-box;top: 0;bottom: 0;left: 50%;z-index: 0;}#sk-container-id-2 div.sk-serial {display: flex;flex-direction: column;align-items: center;background-color: white;padding-right: 0.2em;padding-left: 0.2em;position: relative;}#sk-container-id-2 div.sk-item {position: relative;z-index: 1;}#sk-container-id-2 div.sk-parallel {display: flex;align-items: stretch;justify-content: center;background-color: white;position: relative;}#sk-container-id-2 div.sk-item::before, #sk-container-id-2 div.sk-parallel-item::before {content: \"\";position: absolute;border-left: 1px solid gray;box-sizing: border-box;top: 0;bottom: 0;left: 50%;z-index: -1;}#sk-container-id-2 div.sk-parallel-item {display: flex;flex-direction: column;z-index: 1;position: relative;background-color: white;}#sk-container-id-2 div.sk-parallel-item:first-child::after {align-self: flex-end;width: 50%;}#sk-container-id-2 div.sk-parallel-item:last-child::after {align-self: flex-start;width: 50%;}#sk-container-id-2 div.sk-parallel-item:only-child::after {width: 0;}#sk-container-id-2 div.sk-dashed-wrapped {border: 1px dashed gray;margin: 0 0.4em 0.5em 0.4em;box-sizing: border-box;padding-bottom: 0.4em;background-color: white;}#sk-container-id-2 div.sk-label label {font-family: monospace;font-weight: bold;display: inline-block;line-height: 1.2em;}#sk-container-id-2 div.sk-label-container {text-align: center;}#sk-container-id-2 div.sk-container {/* jupyter's `normalize.less` sets `[hidden] { display: none; }` but bootstrap.min.css set `[hidden] { display: none !important; }` so we also need the `!important` here to be able to override the default hidden behavior on the sphinx rendered scikit-learn.org. See: https://github.com/scikit-learn/scikit-learn/issues/21755 */display: inline-block !important;position: relative;}#sk-container-id-2 div.sk-text-repr-fallback {display: none;}</style><div id=\"sk-container-id-2\" class=\"sk-top-container\"><div class=\"sk-text-repr-fallback\"><pre>DecisionTreeClassifier(max_depth=18, min_samples_leaf=2, random_state=0)</pre><b>In a Jupyter environment, please rerun this cell to show the HTML representation or trust the notebook. <br />On GitHub, the HTML representation is unable to render, please try loading this page with nbviewer.org.</b></div><div class=\"sk-container\" hidden><div class=\"sk-item\"><div class=\"sk-estimator sk-toggleable\"><input class=\"sk-toggleable__control sk-hidden--visually\" id=\"sk-estimator-id-4\" type=\"checkbox\" checked><label for=\"sk-estimator-id-4\" class=\"sk-toggleable__label sk-toggleable__label-arrow\">DecisionTreeClassifier</label><div class=\"sk-toggleable__content\"><pre>DecisionTreeClassifier(max_depth=18, min_samples_leaf=2, random_state=0)</pre></div></div></div></div></div>"
      ],
      "text/plain": [
       "DecisionTreeClassifier(max_depth=18, min_samples_leaf=2, random_state=0)"
      ]
     },
     "execution_count": 24,
     "metadata": {},
     "output_type": "execute_result"
    }
   ],
   "source": [
    "### YOUR CODE HERE ###\n",
    "clf.best_estimator_"
   ]
  },
  {
   "cell_type": "markdown",
   "id": "1f2945e7",
   "metadata": {
    "id": "2519f981",
    "papermill": {
     "duration": 0.021457,
     "end_time": "2025-02-15T03:11:55.454956",
     "exception": false,
     "start_time": "2025-02-15T03:11:55.433499",
     "status": "completed"
    },
    "tags": []
   },
   "source": [
    "<details>\n",
    "  <summary><h4><strong> Hint 1</strong></h4></summary>\n",
    "\n",
    "Use the `best_estimator_` attribute.\n",
    "\n",
    "</details>"
   ]
  },
  {
   "cell_type": "markdown",
   "id": "99253713",
   "metadata": {
    "papermill": {
     "duration": 0.021282,
     "end_time": "2025-02-15T03:11:55.498048",
     "exception": false,
     "start_time": "2025-02-15T03:11:55.476766",
     "status": "completed"
    },
    "tags": []
   },
   "source": [
    "**Question:** What is the best combination of values for the hyperparameters? "
   ]
  },
  {
   "cell_type": "markdown",
   "id": "a0f3921c",
   "metadata": {
    "papermill": {
     "duration": 0.021495,
     "end_time": "2025-02-15T03:11:55.541319",
     "exception": false,
     "start_time": "2025-02-15T03:11:55.519824",
     "status": "completed"
    },
    "tags": []
   },
   "source": [
    "* max_depth = 18\n",
    "* min_samples_leaf = 2 "
   ]
  },
  {
   "cell_type": "markdown",
   "id": "bc280cb9",
   "metadata": {
    "id": "6b001fad",
    "papermill": {
     "duration": 0.021608,
     "end_time": "2025-02-15T03:11:55.584684",
     "exception": false,
     "start_time": "2025-02-15T03:11:55.563076",
     "status": "completed"
    },
    "tags": []
   },
   "source": [
    "<strong> Question: What was the best average validation score? </strong>"
   ]
  },
  {
   "cell_type": "code",
   "execution_count": 25,
   "id": "c9628415",
   "metadata": {
    "execution": {
     "iopub.execute_input": "2025-02-15T03:11:55.629383Z",
     "iopub.status.busy": "2025-02-15T03:11:55.628963Z",
     "iopub.status.idle": "2025-02-15T03:11:55.634618Z",
     "shell.execute_reply": "2025-02-15T03:11:55.633790Z"
    },
    "id": "e615523c",
    "papermill": {
     "duration": 0.02991,
     "end_time": "2025-02-15T03:11:55.636165",
     "exception": false,
     "start_time": "2025-02-15T03:11:55.606255",
     "status": "completed"
    },
    "tags": []
   },
   "outputs": [
    {
     "data": {
      "text/plain": [
       "0.9454222910721889"
      ]
     },
     "execution_count": 25,
     "metadata": {},
     "output_type": "execute_result"
    }
   ],
   "source": [
    "### YOUR CODE HERE ###\n",
    "clf.best_score_"
   ]
  },
  {
   "cell_type": "markdown",
   "id": "84d8d432",
   "metadata": {
    "id": "kOBEhD6Z65oM",
    "papermill": {
     "duration": 0.021423,
     "end_time": "2025-02-15T03:11:55.679744",
     "exception": false,
     "start_time": "2025-02-15T03:11:55.658321",
     "status": "completed"
    },
    "tags": []
   },
   "source": [
    "* 0.9454 is the best average validation score"
   ]
  },
  {
   "cell_type": "markdown",
   "id": "078d0c7a",
   "metadata": {
    "id": "19a7569f",
    "papermill": {
     "duration": 0.021348,
     "end_time": "2025-02-15T03:11:55.722505",
     "exception": false,
     "start_time": "2025-02-15T03:11:55.701157",
     "status": "completed"
    },
    "tags": []
   },
   "source": [
    "<details>\n",
    "  <summary><h4><strong>Hint 1</strong> </h4></summary>\n",
    "\n",
    "Use the `.best_score_` attribute.\n",
    "\n",
    "</details>"
   ]
  },
  {
   "cell_type": "markdown",
   "id": "86b0a405",
   "metadata": {
    "id": "dfad3e62",
    "papermill": {
     "duration": 0.021259,
     "end_time": "2025-02-15T03:11:55.766043",
     "exception": false,
     "start_time": "2025-02-15T03:11:55.744784",
     "status": "completed"
    },
    "tags": []
   },
   "source": [
    "### Determine the \"best\" decision tree model's accuracy, precision, recall, and F1 score\n",
    "\n",
    "Print out the decision tree model's accuracy, precision, recall, and F1 score. This task can be done in a number of ways. "
   ]
  },
  {
   "cell_type": "code",
   "execution_count": 26,
   "id": "6b9ca23b",
   "metadata": {
    "execution": {
     "iopub.execute_input": "2025-02-15T03:11:55.810461Z",
     "iopub.status.busy": "2025-02-15T03:11:55.810052Z",
     "iopub.status.idle": "2025-02-15T03:11:55.816835Z",
     "shell.execute_reply": "2025-02-15T03:11:55.815811Z"
    },
    "id": "e8b96047",
    "papermill": {
     "duration": 0.030955,
     "end_time": "2025-02-15T03:11:55.818434",
     "exception": false,
     "start_time": "2025-02-15T03:11:55.787479",
     "status": "completed"
    },
    "tags": []
   },
   "outputs": [],
   "source": [
    "### YOUR CODE HERE\n",
    "\n",
    "results = pd.DataFrame(columns=[])\n",
    "\n",
    "def make_results(model_name, model_object):\n",
    "\n",
    "    # Get all the results from the CV and put them in a df\n",
    "    cv_results = pd.DataFrame(model_object.cv_results_)\n",
    "\n",
    "    # Isolate the row of the df with the max(mean f1 score)\n",
    "    best_estimator_results = cv_results.iloc[cv_results['mean_test_f1'].idxmax(), :]\n",
    "\n",
    "    # Extract accuracy, precision, recall, and f1 score from that row\n",
    "    f1 = best_estimator_results.mean_test_f1\n",
    "    recall = best_estimator_results.mean_test_recall\n",
    "    precision = best_estimator_results.mean_test_precision\n",
    "    accuracy = best_estimator_results.mean_test_accuracy\n",
    "\n",
    "    # Create table of results\n",
    "    table = pd.DataFrame({'Model': [model_name],'F1': [f1],'Recall': [recall],'Precision': [precision],'Accuracy': [accuracy]})\n",
    "    \n",
    "    return table"
   ]
  },
  {
   "cell_type": "code",
   "execution_count": 27,
   "id": "93e8cac7",
   "metadata": {
    "execution": {
     "iopub.execute_input": "2025-02-15T03:11:55.863759Z",
     "iopub.status.busy": "2025-02-15T03:11:55.863424Z",
     "iopub.status.idle": "2025-02-15T03:11:55.875816Z",
     "shell.execute_reply": "2025-02-15T03:11:55.874779Z"
    },
    "papermill": {
     "duration": 0.036794,
     "end_time": "2025-02-15T03:11:55.877364",
     "exception": false,
     "start_time": "2025-02-15T03:11:55.840570",
     "status": "completed"
    },
    "tags": []
   },
   "outputs": [
    {
     "data": {
      "text/html": [
       "<div>\n",
       "<style scoped>\n",
       "    .dataframe tbody tr th:only-of-type {\n",
       "        vertical-align: middle;\n",
       "    }\n",
       "\n",
       "    .dataframe tbody tr th {\n",
       "        vertical-align: top;\n",
       "    }\n",
       "\n",
       "    .dataframe thead th {\n",
       "        text-align: right;\n",
       "    }\n",
       "</style>\n",
       "<table border=\"1\" class=\"dataframe\">\n",
       "  <thead>\n",
       "    <tr style=\"text-align: right;\">\n",
       "      <th></th>\n",
       "      <th>Model</th>\n",
       "      <th>F1</th>\n",
       "      <th>Recall</th>\n",
       "      <th>Precision</th>\n",
       "      <th>Accuracy</th>\n",
       "    </tr>\n",
       "  </thead>\n",
       "  <tbody>\n",
       "    <tr>\n",
       "      <th>0</th>\n",
       "      <td>Tuned Decision Tree</td>\n",
       "      <td>0.945422</td>\n",
       "      <td>0.935863</td>\n",
       "      <td>0.955197</td>\n",
       "      <td>0.940864</td>\n",
       "    </tr>\n",
       "  </tbody>\n",
       "</table>\n",
       "</div>"
      ],
      "text/plain": [
       "                 Model        F1    Recall  Precision  Accuracy\n",
       "0  Tuned Decision Tree  0.945422  0.935863   0.955197  0.940864"
      ]
     },
     "execution_count": 27,
     "metadata": {},
     "output_type": "execute_result"
    }
   ],
   "source": [
    "result_table = make_results(\"Tuned Decision Tree\", clf)\n",
    "\n",
    "result_table"
   ]
  },
  {
   "cell_type": "markdown",
   "id": "ab13f3f3",
   "metadata": {
    "id": "bb7d7d85",
    "papermill": {
     "duration": 0.021673,
     "end_time": "2025-02-15T03:11:55.921158",
     "exception": false,
     "start_time": "2025-02-15T03:11:55.899485",
     "status": "completed"
    },
    "tags": []
   },
   "source": [
    "<details>\n",
    "  <summary><h4><strong>Hint 1</strong></h4></summary>\n",
    "\n",
    "Get all the results (`.cv_results_`) from the GridSearchCV instance (`clf`).\n",
    "\n",
    "</details>"
   ]
  },
  {
   "cell_type": "markdown",
   "id": "4e56f985",
   "metadata": {
    "id": "28e0535f",
    "papermill": {
     "duration": 0.021751,
     "end_time": "2025-02-15T03:11:55.964838",
     "exception": false,
     "start_time": "2025-02-15T03:11:55.943087",
     "status": "completed"
    },
    "tags": []
   },
   "source": [
    "<details>\n",
    "  <summary><h4><strong>Hint 2</strong></h4></summary>\n",
    "\n",
    "Output `mean_test_f1`, `mean_test_recall`, `mean_test_precision`, and `mean_test_accuracy` from `clf.cv_results_`.\n",
    "</details>"
   ]
  },
  {
   "cell_type": "markdown",
   "id": "05dcb046",
   "metadata": {
    "id": "ac4e8ee6",
    "papermill": {
     "duration": 0.021597,
     "end_time": "2025-02-15T03:11:56.008343",
     "exception": false,
     "start_time": "2025-02-15T03:11:55.986746",
     "status": "completed"
    },
    "tags": []
   },
   "source": [
    "**Question:** Was the additional performance improvement from hyperparameter tuning worth the computational cost? Why or why not?"
   ]
  },
  {
   "cell_type": "markdown",
   "id": "2fd8edb0",
   "metadata": {
    "id": "DGJjCpVt7T6w",
    "papermill": {
     "duration": 0.021805,
     "end_time": "2025-02-15T03:11:56.053753",
     "exception": false,
     "start_time": "2025-02-15T03:11:56.031948",
     "status": "completed"
    },
    "tags": []
   },
   "source": [
    "* F1 score WITHOUT hyperparameter tuning = 0.940940\n",
    "* F1 score WITH hyperparameter tuning = 0.945422  \n",
    "Not much improvement"
   ]
  },
  {
   "cell_type": "markdown",
   "id": "b78a23c7",
   "metadata": {
    "id": "46b88d61",
    "papermill": {
     "duration": 0.021686,
     "end_time": "2025-02-15T03:11:56.097955",
     "exception": false,
     "start_time": "2025-02-15T03:11:56.076269",
     "status": "completed"
    },
    "tags": []
   },
   "source": [
    "### Plot the \"best\" decision tree\n",
    "\n",
    "Use the `plot_tree` function to produce a representation of the tree to pinpoint where the splits in the data are occurring. This will allow you to review the \"best\" decision tree."
   ]
  },
  {
   "cell_type": "code",
   "execution_count": 28,
   "id": "3eeec751",
   "metadata": {
    "execution": {
     "iopub.execute_input": "2025-02-15T03:11:56.143874Z",
     "iopub.status.busy": "2025-02-15T03:11:56.143540Z",
     "iopub.status.idle": "2025-02-15T03:11:56.714665Z",
     "shell.execute_reply": "2025-02-15T03:11:56.713665Z"
    },
    "id": "e5ab9b48",
    "papermill": {
     "duration": 0.597621,
     "end_time": "2025-02-15T03:11:56.717627",
     "exception": false,
     "start_time": "2025-02-15T03:11:56.120006",
     "status": "completed"
    },
    "tags": []
   },
   "outputs": [
    {
     "data": {
      "image/png": "[encoded data removed]",
      "text/plain": [
       "<Figure size 2000x1200 with 1 Axes>"
      ]
     },
     "metadata": {},
     "output_type": "display_data"
    }
   ],
   "source": [
    "### YOUR CODE HERE ###\n",
    "\n",
    "# set the plot size\n",
    "plt.figure(figsize=(20,12))\n",
    "\n",
    "# plot the tree of the best estimator\n",
    "plot_tree(clf.best_estimator_, max_depth=2, fontsize=14, feature_names=X.columns)\n",
    "\n",
    "# display the plot\n",
    "plt.show()"
   ]
  },
  {
   "cell_type": "markdown",
   "id": "faca5def",
   "metadata": {
    "id": "65d32f07",
    "papermill": {
     "duration": 0.025121,
     "end_time": "2025-02-15T03:11:56.767737",
     "exception": false,
     "start_time": "2025-02-15T03:11:56.742616",
     "status": "completed"
    },
    "tags": []
   },
   "source": [
    "Which features did the model use first to sort the samples?\n",
    "* inflight entertainment\n",
    "* seat comfort\n",
    "* ease of online booking\n",
    "* customer type   \n",
    "were the prioritized features that occupied the decision nodes and root nodes in the 1st 2 levels"
   ]
  },
  {
   "cell_type": "markdown",
   "id": "037621f5",
   "metadata": {
    "id": "090f4bd3",
    "papermill": {
     "duration": 0.024545,
     "end_time": "2025-02-15T03:11:56.817077",
     "exception": false,
     "start_time": "2025-02-15T03:11:56.792532",
     "status": "completed"
    },
    "tags": []
   },
   "source": [
    "## Conclusion\n",
    "\n",
    "**What are some key takeaways that you learned from this lab?**\n",
    "\n",
    "* constructing and evcaluating decision tree classifiers\n",
    "* using optimal hyperparameters to find the best model manually\n",
    "* use cross-validation to find the best hyperparameters and inturn find the champion model\n",
    "* visualize decision trees\n",
    "\n",
    "**What findings would you share with others?**\n",
    "\n",
    "* ~94% accurate classifier model that can correctly classify satisfied/dissatisfied customers\n",
    "* Important features: inflight entertainment,seat comfort,ease of online booking,customer type\n",
    "\n",
    "**What would you recommend to stakeholders?**\n",
    " \n",
    "* focus on improving the metrics of inflight entertainment,seat comfort,ease of online booking,customer type features. his will have greater impact on the user satisfaction\n",
    "* target customers with discounts who may have dealt with bad experiences in any of the above listed metrics that contributes toward user satisfaction"
   ]
  },
  {
   "cell_type": "markdown",
   "id": "72e9eaa5",
   "metadata": {
    "papermill": {
     "duration": 0.02446,
     "end_time": "2025-02-15T03:11:56.866360",
     "exception": false,
     "start_time": "2025-02-15T03:11:56.841900",
     "status": "completed"
    },
    "tags": []
   },
   "source": [
    "**Congratulations!** You've completed this lab. However, you may not notice a green check mark next to this item on Coursera's platform. Please continue your progress regardless of the check mark. Just click on the \"save\" icon at the top of this notebook to ensure your work has been logged"
   ]
  }
 ],
 "metadata": {
  "colab": {
   "collapsed_sections": [],
   "provenance": []
  },
  "gpuClass": "standard",
  "kaggle": {
   "accelerator": "none",
   "dataSources": [
    {
     "datasetId": 6657876,
     "sourceId": 10753678,
     "sourceType": "datasetVersion"
    }
   ],
   "dockerImageVersionId": 30886,
   "isGpuEnabled": false,
   "isInternetEnabled": true,
   "language": "python",
   "sourceType": "notebook"
  },
  "kernelspec": {
   "display_name": "Python 3",
   "language": "python",
   "name": "python3"
  },
  "language_info": {
   "codemirror_mode": {
    "name": "ipython",
    "version": 3
   },
   "file_extension": ".py",
   "mimetype": "text/x-python",
   "name": "python",
   "nbconvert_exporter": "python",
   "pygments_lexer": "ipython3",
   "version": "3.10.12"
  },
  "papermill": {
   "default_parameters": {},
   "duration": 618.790251,
   "end_time": "2025-02-15T03:11:57.612400",
   "environment_variables": {},
   "exception": null,
   "input_path": "__notebook__.ipynb",
   "output_path": "__notebook__.ipynb",
   "parameters": {},
   "start_time": "2025-02-15T03:01:38.822149",
   "version": "2.6.0"
  }
 },
 "nbformat": 4,
 "nbformat_minor": 5
}

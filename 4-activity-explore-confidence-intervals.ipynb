{
 "cells": [
  {
   "cell_type": "markdown",
   "id": "c35d1d3c",
   "metadata": {
    "id": "d25eed62-5910-4d10-a976-c18c4f7d99f7",
    "papermill": {
     "duration": 0.010071,
     "end_time": "2025-02-09T03:47:19.034237",
     "exception": false,
     "start_time": "2025-02-09T03:47:19.024166",
     "status": "completed"
    },
    "tags": []
   },
   "source": [
    "# Activity: Explore confidence intervals"
   ]
  },
  {
   "cell_type": "markdown",
   "id": "880ac802",
   "metadata": {
    "id": "b50579ec-09df-4bb1-ad5a-d28f4790ca16",
    "papermill": {
     "duration": 0.009115,
     "end_time": "2025-02-09T03:47:19.052708",
     "exception": false,
     "start_time": "2025-02-09T03:47:19.043593",
     "status": "completed"
    },
    "tags": []
   },
   "source": [
    "## Introduction"
   ]
  },
  {
   "cell_type": "markdown",
   "id": "db09b37e",
   "metadata": {
    "id": "6a8992ac-22d5-41db-aa09-263b464950e0",
    "papermill": {
     "duration": 0.008429,
     "end_time": "2025-02-09T03:47:19.071018",
     "exception": false,
     "start_time": "2025-02-09T03:47:19.062589",
     "status": "completed"
    },
    "tags": []
   },
   "source": [
    "The Air Quality Index (AQI) is the Environmental Protection Agency's index for reporting air quality. A value close to 0 signals little to no public health concern, while higher values are associated with increased risk to public health. The United States is considering a new federal policy that would create a subsidy for renewable energy in states observing an average AQI of 10 or above. <br>\n",
    "\n",
    "You've just started your new role as a data analyst in the Strategy division of Ripple Renewable Energy (RRE). **RRE operates in the following U.S. states: `California`, `Florida`, `Michigan`, `Ohio`, `Pennsylvania`, `Texas`.** You've been tasked with constructing an analysis which identifies which of these states are most likely to be affected, should the new federal policy be enacted."
   ]
  },
  {
   "cell_type": "markdown",
   "id": "e3d2ea3f",
   "metadata": {
    "id": "6e4e3b8a-b5f9-4fe1-a824-0bd3aece693c",
    "papermill": {
     "duration": 0.008561,
     "end_time": "2025-02-09T03:47:19.088361",
     "exception": false,
     "start_time": "2025-02-09T03:47:19.079800",
     "status": "completed"
    },
    "tags": []
   },
   "source": [
    "Your manager has requested that you do the following for your analysis:\n",
    "1. Provide a summary of the mean AQI for the states in which RRE operates.\n",
    "2. Construct a boxplot visualization for AQI of these states using `seaborn`.\n",
    "3. Evaluate which state(s) may be most affected by this policy, based on the data and your boxplot visualization.\n",
    "4. Construct a confidence interval for the RRE state with the highest mean AQI."
   ]
  },
  {
   "cell_type": "markdown",
   "id": "9131d90c",
   "metadata": {
    "id": "3b4dc9a5-d724-4696-a704-57fefa9d5938",
    "papermill": {
     "duration": 0.008405,
     "end_time": "2025-02-09T03:47:19.105384",
     "exception": false,
     "start_time": "2025-02-09T03:47:19.096979",
     "status": "completed"
    },
    "tags": []
   },
   "source": [
    "## Step 1: Imports\n",
    "\n",
    "### Import packages\n",
    "\n",
    "Import `pandas` and `numpy`."
   ]
  },
  {
   "cell_type": "code",
   "execution_count": 1,
   "id": "7c701f9c",
   "metadata": {
    "execution": {
     "iopub.execute_input": "2025-02-09T03:47:19.124654Z",
     "iopub.status.busy": "2025-02-09T03:47:19.124226Z",
     "iopub.status.idle": "2025-02-09T03:47:20.111641Z",
     "shell.execute_reply": "2025-02-09T03:47:20.110313Z"
    },
    "id": "0b3d0e1c-23b9-4491-82a5-ac1e4bd36f30",
    "papermill": {
     "duration": 0.999002,
     "end_time": "2025-02-09T03:47:20.113639",
     "exception": false,
     "start_time": "2025-02-09T03:47:19.114637",
     "status": "completed"
    },
    "tags": []
   },
   "outputs": [],
   "source": [
    "# Import relevant packages\n",
    "\n",
    "### YOUR CODE HERE ###\n",
    "\n",
    "import pandas as pd\n",
    "import numpy as np"
   ]
  },
  {
   "cell_type": "markdown",
   "id": "75082d69",
   "metadata": {
    "id": "a4f7c0d0-027e-475a-bce5-ad96d059cd04",
    "papermill": {
     "duration": 0.008637,
     "end_time": "2025-02-09T03:47:20.131510",
     "exception": false,
     "start_time": "2025-02-09T03:47:20.122873",
     "status": "completed"
    },
    "tags": []
   },
   "source": [
    "### Load the dataset\n",
    "\n",
    "The dataset provided gives national Air Quality Index (AQI) measurements by state over time.  `Pandas` is used to import the file `c4_epa_air_quality.csv` as a DataFrame named `aqi`. As shown in this cell, the dataset has been automatically loaded in for you. You do not need to download the .csv file, or provide more code, in order to access the dataset and proceed with this lab. Please continue with this activity by completing the following instructions.\n",
    "\n",
    "*Note: For the purposes of your analysis, you can assume this data is randomly sampled from a larger population.*"
   ]
  },
  {
   "cell_type": "code",
   "execution_count": 2,
   "id": "25d94ecd",
   "metadata": {
    "execution": {
     "iopub.execute_input": "2025-02-09T03:47:20.150665Z",
     "iopub.status.busy": "2025-02-09T03:47:20.150087Z",
     "iopub.status.idle": "2025-02-09T03:47:20.176690Z",
     "shell.execute_reply": "2025-02-09T03:47:20.175536Z"
    },
    "id": "1ce82ed7-cf32-4028-ac77-a377e7638458",
    "papermill": {
     "duration": 0.038468,
     "end_time": "2025-02-09T03:47:20.178681",
     "exception": false,
     "start_time": "2025-02-09T03:47:20.140213",
     "status": "completed"
    },
    "tags": []
   },
   "outputs": [],
   "source": [
    "# RUN THIS CELL TO IMPORT YOUR DATA\n",
    "\n",
    "### YOUR CODE HERE ###\n",
    "\n",
    "aqi = pd.read_csv('/kaggle/input/google-adv-data-analytics-stats-datasets/4_c4_epa_air_quality.csv')"
   ]
  },
  {
   "cell_type": "markdown",
   "id": "59c42526",
   "metadata": {
    "id": "JLW4ftpm15LA",
    "papermill": {
     "duration": 0.008582,
     "end_time": "2025-02-09T03:47:20.196261",
     "exception": false,
     "start_time": "2025-02-09T03:47:20.187679",
     "status": "completed"
    },
    "tags": []
   },
   "source": [
    "## Step 2: Data exploration"
   ]
  },
  {
   "cell_type": "markdown",
   "id": "b5935e1c",
   "metadata": {
    "id": "c1ee0813-5e74-4564-8ea1-8d724700754a",
    "papermill": {
     "duration": 0.008569,
     "end_time": "2025-02-09T03:47:20.213655",
     "exception": false,
     "start_time": "2025-02-09T03:47:20.205086",
     "status": "completed"
    },
    "tags": []
   },
   "source": [
    "### Explore your dataset\n",
    "\n",
    "Before proceeding to your deliverables, spend some time exploring the `aqi` DataFrame. "
   ]
  },
  {
   "cell_type": "code",
   "execution_count": 3,
   "id": "e3247011",
   "metadata": {
    "execution": {
     "iopub.execute_input": "2025-02-09T03:47:20.232430Z",
     "iopub.status.busy": "2025-02-09T03:47:20.232041Z",
     "iopub.status.idle": "2025-02-09T03:47:20.263702Z",
     "shell.execute_reply": "2025-02-09T03:47:20.262396Z"
    },
    "id": "0444122d-6fba-4051-8b09-b15392aacebf",
    "papermill": {
     "duration": 0.043003,
     "end_time": "2025-02-09T03:47:20.265391",
     "exception": false,
     "start_time": "2025-02-09T03:47:20.222388",
     "status": "completed"
    },
    "tags": []
   },
   "outputs": [
    {
     "data": {
      "text/html": [
       "<div>\n",
       "<style scoped>\n",
       "    .dataframe tbody tr th:only-of-type {\n",
       "        vertical-align: middle;\n",
       "    }\n",
       "\n",
       "    .dataframe tbody tr th {\n",
       "        vertical-align: top;\n",
       "    }\n",
       "\n",
       "    .dataframe thead th {\n",
       "        text-align: right;\n",
       "    }\n",
       "</style>\n",
       "<table border=\"1\" class=\"dataframe\">\n",
       "  <thead>\n",
       "    <tr style=\"text-align: right;\">\n",
       "      <th></th>\n",
       "      <th>Unnamed: 0</th>\n",
       "      <th>date_local</th>\n",
       "      <th>state_name</th>\n",
       "      <th>county_name</th>\n",
       "      <th>city_name</th>\n",
       "      <th>local_site_name</th>\n",
       "      <th>parameter_name</th>\n",
       "      <th>units_of_measure</th>\n",
       "      <th>arithmetic_mean</th>\n",
       "      <th>aqi</th>\n",
       "    </tr>\n",
       "  </thead>\n",
       "  <tbody>\n",
       "    <tr>\n",
       "      <th>0</th>\n",
       "      <td>0</td>\n",
       "      <td>2018-01-01</td>\n",
       "      <td>Arizona</td>\n",
       "      <td>Maricopa</td>\n",
       "      <td>Buckeye</td>\n",
       "      <td>BUCKEYE</td>\n",
       "      <td>Carbon monoxide</td>\n",
       "      <td>Parts per million</td>\n",
       "      <td>0.473684</td>\n",
       "      <td>7</td>\n",
       "    </tr>\n",
       "    <tr>\n",
       "      <th>1</th>\n",
       "      <td>1</td>\n",
       "      <td>2018-01-01</td>\n",
       "      <td>Ohio</td>\n",
       "      <td>Belmont</td>\n",
       "      <td>Shadyside</td>\n",
       "      <td>Shadyside</td>\n",
       "      <td>Carbon monoxide</td>\n",
       "      <td>Parts per million</td>\n",
       "      <td>0.263158</td>\n",
       "      <td>5</td>\n",
       "    </tr>\n",
       "    <tr>\n",
       "      <th>2</th>\n",
       "      <td>2</td>\n",
       "      <td>2018-01-01</td>\n",
       "      <td>Wyoming</td>\n",
       "      <td>Teton</td>\n",
       "      <td>Not in a city</td>\n",
       "      <td>Yellowstone National Park - Old Faithful Snow ...</td>\n",
       "      <td>Carbon monoxide</td>\n",
       "      <td>Parts per million</td>\n",
       "      <td>0.111111</td>\n",
       "      <td>2</td>\n",
       "    </tr>\n",
       "    <tr>\n",
       "      <th>3</th>\n",
       "      <td>3</td>\n",
       "      <td>2018-01-01</td>\n",
       "      <td>Pennsylvania</td>\n",
       "      <td>Philadelphia</td>\n",
       "      <td>Philadelphia</td>\n",
       "      <td>North East Waste (NEW)</td>\n",
       "      <td>Carbon monoxide</td>\n",
       "      <td>Parts per million</td>\n",
       "      <td>0.300000</td>\n",
       "      <td>3</td>\n",
       "    </tr>\n",
       "    <tr>\n",
       "      <th>4</th>\n",
       "      <td>4</td>\n",
       "      <td>2018-01-01</td>\n",
       "      <td>Iowa</td>\n",
       "      <td>Polk</td>\n",
       "      <td>Des Moines</td>\n",
       "      <td>CARPENTER</td>\n",
       "      <td>Carbon monoxide</td>\n",
       "      <td>Parts per million</td>\n",
       "      <td>0.215789</td>\n",
       "      <td>3</td>\n",
       "    </tr>\n",
       "    <tr>\n",
       "      <th>5</th>\n",
       "      <td>5</td>\n",
       "      <td>2018-01-01</td>\n",
       "      <td>Hawaii</td>\n",
       "      <td>Honolulu</td>\n",
       "      <td>Not in a city</td>\n",
       "      <td>Kapolei</td>\n",
       "      <td>Carbon monoxide</td>\n",
       "      <td>Parts per million</td>\n",
       "      <td>0.994737</td>\n",
       "      <td>14</td>\n",
       "    </tr>\n",
       "    <tr>\n",
       "      <th>6</th>\n",
       "      <td>6</td>\n",
       "      <td>2018-01-01</td>\n",
       "      <td>Hawaii</td>\n",
       "      <td>Honolulu</td>\n",
       "      <td>Not in a city</td>\n",
       "      <td>Kapolei</td>\n",
       "      <td>Carbon monoxide</td>\n",
       "      <td>Parts per million</td>\n",
       "      <td>0.200000</td>\n",
       "      <td>2</td>\n",
       "    </tr>\n",
       "    <tr>\n",
       "      <th>7</th>\n",
       "      <td>7</td>\n",
       "      <td>2018-01-01</td>\n",
       "      <td>Pennsylvania</td>\n",
       "      <td>Erie</td>\n",
       "      <td>Erie</td>\n",
       "      <td>NaN</td>\n",
       "      <td>Carbon monoxide</td>\n",
       "      <td>Parts per million</td>\n",
       "      <td>0.200000</td>\n",
       "      <td>2</td>\n",
       "    </tr>\n",
       "    <tr>\n",
       "      <th>8</th>\n",
       "      <td>8</td>\n",
       "      <td>2018-01-01</td>\n",
       "      <td>Hawaii</td>\n",
       "      <td>Honolulu</td>\n",
       "      <td>Honolulu</td>\n",
       "      <td>Honolulu</td>\n",
       "      <td>Carbon monoxide</td>\n",
       "      <td>Parts per million</td>\n",
       "      <td>0.400000</td>\n",
       "      <td>5</td>\n",
       "    </tr>\n",
       "    <tr>\n",
       "      <th>9</th>\n",
       "      <td>9</td>\n",
       "      <td>2018-01-01</td>\n",
       "      <td>Colorado</td>\n",
       "      <td>Larimer</td>\n",
       "      <td>Fort Collins</td>\n",
       "      <td>Fort Collins - CSU - S. Mason</td>\n",
       "      <td>Carbon monoxide</td>\n",
       "      <td>Parts per million</td>\n",
       "      <td>0.300000</td>\n",
       "      <td>6</td>\n",
       "    </tr>\n",
       "  </tbody>\n",
       "</table>\n",
       "</div>"
      ],
      "text/plain": [
       "   Unnamed: 0  date_local    state_name   county_name      city_name  \\\n",
       "0           0  2018-01-01       Arizona      Maricopa        Buckeye   \n",
       "1           1  2018-01-01          Ohio       Belmont      Shadyside   \n",
       "2           2  2018-01-01       Wyoming         Teton  Not in a city   \n",
       "3           3  2018-01-01  Pennsylvania  Philadelphia   Philadelphia   \n",
       "4           4  2018-01-01          Iowa          Polk     Des Moines   \n",
       "5           5  2018-01-01        Hawaii      Honolulu  Not in a city   \n",
       "6           6  2018-01-01        Hawaii      Honolulu  Not in a city   \n",
       "7           7  2018-01-01  Pennsylvania          Erie           Erie   \n",
       "8           8  2018-01-01        Hawaii      Honolulu       Honolulu   \n",
       "9           9  2018-01-01      Colorado       Larimer   Fort Collins   \n",
       "\n",
       "                                     local_site_name   parameter_name  \\\n",
       "0                                            BUCKEYE  Carbon monoxide   \n",
       "1                                          Shadyside  Carbon monoxide   \n",
       "2  Yellowstone National Park - Old Faithful Snow ...  Carbon monoxide   \n",
       "3                             North East Waste (NEW)  Carbon monoxide   \n",
       "4                                          CARPENTER  Carbon monoxide   \n",
       "5                                            Kapolei  Carbon monoxide   \n",
       "6                                            Kapolei  Carbon monoxide   \n",
       "7                                                NaN  Carbon monoxide   \n",
       "8                                           Honolulu  Carbon monoxide   \n",
       "9                      Fort Collins - CSU - S. Mason  Carbon monoxide   \n",
       "\n",
       "    units_of_measure  arithmetic_mean  aqi  \n",
       "0  Parts per million         0.473684    7  \n",
       "1  Parts per million         0.263158    5  \n",
       "2  Parts per million         0.111111    2  \n",
       "3  Parts per million         0.300000    3  \n",
       "4  Parts per million         0.215789    3  \n",
       "5  Parts per million         0.994737   14  \n",
       "6  Parts per million         0.200000    2  \n",
       "7  Parts per million         0.200000    2  \n",
       "8  Parts per million         0.400000    5  \n",
       "9  Parts per million         0.300000    6  "
      ]
     },
     "execution_count": 3,
     "metadata": {},
     "output_type": "execute_result"
    }
   ],
   "source": [
    "# Explore your DataFrame `aqi`.\n",
    "\n",
    "### YOUR CODE HERE ###\n",
    "\n",
    "aqi.head(10)"
   ]
  },
  {
   "cell_type": "code",
   "execution_count": 4,
   "id": "fdcbc626",
   "metadata": {
    "execution": {
     "iopub.execute_input": "2025-02-09T03:47:20.285043Z",
     "iopub.status.busy": "2025-02-09T03:47:20.284700Z",
     "iopub.status.idle": "2025-02-09T03:47:20.338846Z",
     "shell.execute_reply": "2025-02-09T03:47:20.337587Z"
    },
    "papermill": {
     "duration": 0.066093,
     "end_time": "2025-02-09T03:47:20.340838",
     "exception": false,
     "start_time": "2025-02-09T03:47:20.274745",
     "status": "completed"
    },
    "tags": []
   },
   "outputs": [
    {
     "name": "stderr",
     "output_type": "stream",
     "text": [
      "/usr/local/lib/python3.10/dist-packages/pandas/io/formats/format.py:1458: RuntimeWarning: invalid value encountered in greater\n",
      "  has_large_values = (abs_vals > 1e6).any()\n",
      "/usr/local/lib/python3.10/dist-packages/pandas/io/formats/format.py:1459: RuntimeWarning: invalid value encountered in less\n",
      "  has_small_values = ((abs_vals < 10 ** (-self.digits)) & (abs_vals > 0)).any()\n",
      "/usr/local/lib/python3.10/dist-packages/pandas/io/formats/format.py:1459: RuntimeWarning: invalid value encountered in greater\n",
      "  has_small_values = ((abs_vals < 10 ** (-self.digits)) & (abs_vals > 0)).any()\n"
     ]
    },
    {
     "data": {
      "text/html": [
       "<div>\n",
       "<style scoped>\n",
       "    .dataframe tbody tr th:only-of-type {\n",
       "        vertical-align: middle;\n",
       "    }\n",
       "\n",
       "    .dataframe tbody tr th {\n",
       "        vertical-align: top;\n",
       "    }\n",
       "\n",
       "    .dataframe thead th {\n",
       "        text-align: right;\n",
       "    }\n",
       "</style>\n",
       "<table border=\"1\" class=\"dataframe\">\n",
       "  <thead>\n",
       "    <tr style=\"text-align: right;\">\n",
       "      <th></th>\n",
       "      <th>Unnamed: 0</th>\n",
       "      <th>date_local</th>\n",
       "      <th>state_name</th>\n",
       "      <th>county_name</th>\n",
       "      <th>city_name</th>\n",
       "      <th>local_site_name</th>\n",
       "      <th>parameter_name</th>\n",
       "      <th>units_of_measure</th>\n",
       "      <th>arithmetic_mean</th>\n",
       "      <th>aqi</th>\n",
       "    </tr>\n",
       "  </thead>\n",
       "  <tbody>\n",
       "    <tr>\n",
       "      <th>count</th>\n",
       "      <td>260.000000</td>\n",
       "      <td>260</td>\n",
       "      <td>260</td>\n",
       "      <td>260</td>\n",
       "      <td>260</td>\n",
       "      <td>257</td>\n",
       "      <td>260</td>\n",
       "      <td>260</td>\n",
       "      <td>260.000000</td>\n",
       "      <td>260.000000</td>\n",
       "    </tr>\n",
       "    <tr>\n",
       "      <th>unique</th>\n",
       "      <td>NaN</td>\n",
       "      <td>1</td>\n",
       "      <td>52</td>\n",
       "      <td>149</td>\n",
       "      <td>190</td>\n",
       "      <td>253</td>\n",
       "      <td>1</td>\n",
       "      <td>1</td>\n",
       "      <td>NaN</td>\n",
       "      <td>NaN</td>\n",
       "    </tr>\n",
       "    <tr>\n",
       "      <th>top</th>\n",
       "      <td>NaN</td>\n",
       "      <td>2018-01-01</td>\n",
       "      <td>California</td>\n",
       "      <td>Los Angeles</td>\n",
       "      <td>Not in a city</td>\n",
       "      <td>Kapolei</td>\n",
       "      <td>Carbon monoxide</td>\n",
       "      <td>Parts per million</td>\n",
       "      <td>NaN</td>\n",
       "      <td>NaN</td>\n",
       "    </tr>\n",
       "    <tr>\n",
       "      <th>freq</th>\n",
       "      <td>NaN</td>\n",
       "      <td>260</td>\n",
       "      <td>66</td>\n",
       "      <td>14</td>\n",
       "      <td>21</td>\n",
       "      <td>2</td>\n",
       "      <td>260</td>\n",
       "      <td>260</td>\n",
       "      <td>NaN</td>\n",
       "      <td>NaN</td>\n",
       "    </tr>\n",
       "    <tr>\n",
       "      <th>mean</th>\n",
       "      <td>129.500000</td>\n",
       "      <td>NaN</td>\n",
       "      <td>NaN</td>\n",
       "      <td>NaN</td>\n",
       "      <td>NaN</td>\n",
       "      <td>NaN</td>\n",
       "      <td>NaN</td>\n",
       "      <td>NaN</td>\n",
       "      <td>0.403169</td>\n",
       "      <td>6.757692</td>\n",
       "    </tr>\n",
       "    <tr>\n",
       "      <th>std</th>\n",
       "      <td>75.199734</td>\n",
       "      <td>NaN</td>\n",
       "      <td>NaN</td>\n",
       "      <td>NaN</td>\n",
       "      <td>NaN</td>\n",
       "      <td>NaN</td>\n",
       "      <td>NaN</td>\n",
       "      <td>NaN</td>\n",
       "      <td>0.317902</td>\n",
       "      <td>7.061707</td>\n",
       "    </tr>\n",
       "    <tr>\n",
       "      <th>min</th>\n",
       "      <td>0.000000</td>\n",
       "      <td>NaN</td>\n",
       "      <td>NaN</td>\n",
       "      <td>NaN</td>\n",
       "      <td>NaN</td>\n",
       "      <td>NaN</td>\n",
       "      <td>NaN</td>\n",
       "      <td>NaN</td>\n",
       "      <td>0.000000</td>\n",
       "      <td>0.000000</td>\n",
       "    </tr>\n",
       "    <tr>\n",
       "      <th>25%</th>\n",
       "      <td>64.750000</td>\n",
       "      <td>NaN</td>\n",
       "      <td>NaN</td>\n",
       "      <td>NaN</td>\n",
       "      <td>NaN</td>\n",
       "      <td>NaN</td>\n",
       "      <td>NaN</td>\n",
       "      <td>NaN</td>\n",
       "      <td>0.200000</td>\n",
       "      <td>2.000000</td>\n",
       "    </tr>\n",
       "    <tr>\n",
       "      <th>50%</th>\n",
       "      <td>129.500000</td>\n",
       "      <td>NaN</td>\n",
       "      <td>NaN</td>\n",
       "      <td>NaN</td>\n",
       "      <td>NaN</td>\n",
       "      <td>NaN</td>\n",
       "      <td>NaN</td>\n",
       "      <td>NaN</td>\n",
       "      <td>0.276315</td>\n",
       "      <td>5.000000</td>\n",
       "    </tr>\n",
       "    <tr>\n",
       "      <th>75%</th>\n",
       "      <td>194.250000</td>\n",
       "      <td>NaN</td>\n",
       "      <td>NaN</td>\n",
       "      <td>NaN</td>\n",
       "      <td>NaN</td>\n",
       "      <td>NaN</td>\n",
       "      <td>NaN</td>\n",
       "      <td>NaN</td>\n",
       "      <td>0.516009</td>\n",
       "      <td>9.000000</td>\n",
       "    </tr>\n",
       "    <tr>\n",
       "      <th>max</th>\n",
       "      <td>259.000000</td>\n",
       "      <td>NaN</td>\n",
       "      <td>NaN</td>\n",
       "      <td>NaN</td>\n",
       "      <td>NaN</td>\n",
       "      <td>NaN</td>\n",
       "      <td>NaN</td>\n",
       "      <td>NaN</td>\n",
       "      <td>1.921053</td>\n",
       "      <td>50.000000</td>\n",
       "    </tr>\n",
       "  </tbody>\n",
       "</table>\n",
       "</div>"
      ],
      "text/plain": [
       "        Unnamed: 0  date_local  state_name  county_name      city_name  \\\n",
       "count   260.000000         260         260          260            260   \n",
       "unique         NaN           1          52          149            190   \n",
       "top            NaN  2018-01-01  California  Los Angeles  Not in a city   \n",
       "freq           NaN         260          66           14             21   \n",
       "mean    129.500000         NaN         NaN          NaN            NaN   \n",
       "std      75.199734         NaN         NaN          NaN            NaN   \n",
       "min       0.000000         NaN         NaN          NaN            NaN   \n",
       "25%      64.750000         NaN         NaN          NaN            NaN   \n",
       "50%     129.500000         NaN         NaN          NaN            NaN   \n",
       "75%     194.250000         NaN         NaN          NaN            NaN   \n",
       "max     259.000000         NaN         NaN          NaN            NaN   \n",
       "\n",
       "       local_site_name   parameter_name   units_of_measure  arithmetic_mean  \\\n",
       "count              257              260                260       260.000000   \n",
       "unique             253                1                  1              NaN   \n",
       "top            Kapolei  Carbon monoxide  Parts per million              NaN   \n",
       "freq                 2              260                260              NaN   \n",
       "mean               NaN              NaN                NaN         0.403169   \n",
       "std                NaN              NaN                NaN         0.317902   \n",
       "min                NaN              NaN                NaN         0.000000   \n",
       "25%                NaN              NaN                NaN         0.200000   \n",
       "50%                NaN              NaN                NaN         0.276315   \n",
       "75%                NaN              NaN                NaN         0.516009   \n",
       "max                NaN              NaN                NaN         1.921053   \n",
       "\n",
       "               aqi  \n",
       "count   260.000000  \n",
       "unique         NaN  \n",
       "top            NaN  \n",
       "freq           NaN  \n",
       "mean      6.757692  \n",
       "std       7.061707  \n",
       "min       0.000000  \n",
       "25%       2.000000  \n",
       "50%       5.000000  \n",
       "75%       9.000000  \n",
       "max      50.000000  "
      ]
     },
     "execution_count": 4,
     "metadata": {},
     "output_type": "execute_result"
    }
   ],
   "source": [
    "# summary statistics\n",
    "\n",
    "aqi.describe(include='all')"
   ]
  },
  {
   "cell_type": "code",
   "execution_count": 5,
   "id": "4da225d9",
   "metadata": {
    "execution": {
     "iopub.execute_input": "2025-02-09T03:47:20.361326Z",
     "iopub.status.busy": "2025-02-09T03:47:20.360917Z",
     "iopub.status.idle": "2025-02-09T03:47:20.372590Z",
     "shell.execute_reply": "2025-02-09T03:47:20.371211Z"
    },
    "papermill": {
     "duration": 0.02375,
     "end_time": "2025-02-09T03:47:20.374425",
     "exception": false,
     "start_time": "2025-02-09T03:47:20.350675",
     "status": "completed"
    },
    "tags": []
   },
   "outputs": [
    {
     "data": {
      "text/plain": [
       "state_name\n",
       "California              66\n",
       "Arizona                 14\n",
       "Ohio                    12\n",
       "Florida                 12\n",
       "New York                10\n",
       "Texas                   10\n",
       "Pennsylvania            10\n",
       "Colorado                 9\n",
       "Michigan                 9\n",
       "Minnesota                7\n",
       "New Jersey               6\n",
       "Indiana                  5\n",
       "Virginia                 4\n",
       "Nevada                   4\n",
       "Connecticut              4\n",
       "Maryland                 4\n",
       "Oklahoma                 4\n",
       "North Carolina           4\n",
       "Massachusetts            4\n",
       "Missouri                 3\n",
       "Wyoming                  3\n",
       "Kentucky                 3\n",
       "Illinois                 3\n",
       "Hawaii                   3\n",
       "Utah                     3\n",
       "Vermont                  3\n",
       "Iowa                     3\n",
       "Rhode Island             2\n",
       "Tennessee                2\n",
       "Oregon                   2\n",
       "Washington               2\n",
       "Montana                  2\n",
       "New Mexico               2\n",
       "Idaho                    2\n",
       "Nebraska                 2\n",
       "Alaska                   2\n",
       "Maine                    2\n",
       "District Of Columbia     2\n",
       "New Hampshire            2\n",
       "Georgia                  2\n",
       "Wisconsin                1\n",
       "West Virginia            1\n",
       "Arkansas                 1\n",
       "Delaware                 1\n",
       "South Dakota             1\n",
       "Kansas                   1\n",
       "South Carolina           1\n",
       "Louisiana                1\n",
       "Puerto Rico              1\n",
       "Mississippi              1\n",
       "North Dakota             1\n",
       "Alabama                  1\n",
       "Name: count, dtype: int64"
      ]
     },
     "execution_count": 5,
     "metadata": {},
     "output_type": "execute_result"
    }
   ],
   "source": [
    "# finding out if the states are equally represented in the dataset\n",
    "\n",
    "aqi.value_counts('state_name')"
   ]
  },
  {
   "cell_type": "markdown",
   "id": "a0581684",
   "metadata": {
    "id": "DOPQ6EL9ZmrB",
    "papermill": {
     "duration": 0.009939,
     "end_time": "2025-02-09T03:47:20.394315",
     "exception": false,
     "start_time": "2025-02-09T03:47:20.384376",
     "status": "completed"
    },
    "tags": []
   },
   "source": [
    "**Question:** What time range does this data cover?\n",
    "\n",
    "* data from 1st Jan 2018 \n"
   ]
  },
  {
   "cell_type": "markdown",
   "id": "c6d87149",
   "metadata": {
    "id": "Sw0U5NWpZ1wp",
    "papermill": {
     "duration": 0.009297,
     "end_time": "2025-02-09T03:47:20.413277",
     "exception": false,
     "start_time": "2025-02-09T03:47:20.403980",
     "status": "completed"
    },
    "tags": []
   },
   "source": [
    "**Question:** What are the minimum and maximum AQI values observed in the dataset?\n",
    "\n",
    "* Minimum aqi --> 0\n",
    "* Maximum aqi --> 50"
   ]
  },
  {
   "cell_type": "markdown",
   "id": "ce29e17e",
   "metadata": {
    "id": "LWBj7cKZZ_du",
    "papermill": {
     "duration": 0.00923,
     "end_time": "2025-02-09T03:47:20.432092",
     "exception": false,
     "start_time": "2025-02-09T03:47:20.422862",
     "status": "completed"
    },
    "tags": []
   },
   "source": [
    "**Question:** Are all states equally represented in the dataset?\n",
    "\n",
    "* NO. California has 66 cities represented in this dataset, while many other states are represented by only 1 city"
   ]
  },
  {
   "cell_type": "markdown",
   "id": "70f23ce3",
   "metadata": {
    "id": "e3fe028b-178b-49c0-9765-a566f862ab1b",
    "papermill": {
     "duration": 0.009437,
     "end_time": "2025-02-09T03:47:20.451010",
     "exception": false,
     "start_time": "2025-02-09T03:47:20.441573",
     "status": "completed"
    },
    "tags": []
   },
   "source": [
    "<details>\n",
    "  <summary><h4><strong>Hint 1</strong></h4></summary>\n",
    "\n",
    "Refer to [the content about descriptive statisics](https://www.coursera.org/learn/the-power-of-statistics/lecture/jVRS4/measures-of-central-tendency).\n",
    "</details>"
   ]
  },
  {
   "cell_type": "markdown",
   "id": "eb921d80",
   "metadata": {
    "id": "d7cba139-a71c-4b21-aef6-47e248da9315",
    "papermill": {
     "duration": 0.009222,
     "end_time": "2025-02-09T03:47:20.469799",
     "exception": false,
     "start_time": "2025-02-09T03:47:20.460577",
     "status": "completed"
    },
    "tags": []
   },
   "source": [
    "<details>\n",
    "  <summary><h4><strong>Hint 2</strong></h4></summary>\n",
    "\n",
    "Use `pandas` or `numpy` to explore the `aqi` DataFrame.\n",
    "</details>"
   ]
  },
  {
   "cell_type": "markdown",
   "id": "340335ad",
   "metadata": {
    "id": "8b7138ff-2e02-42df-8946-c0bd1076169c",
    "papermill": {
     "duration": 0.01043,
     "end_time": "2025-02-09T03:47:20.489958",
     "exception": false,
     "start_time": "2025-02-09T03:47:20.479528",
     "status": "completed"
    },
    "tags": []
   },
   "source": [
    "<details>\n",
    "  <summary><h4><strong>Hint 3</strong></h4></summary>\n",
    "\n",
    "Use any of the following functions:\n",
    "- `pandas`: `describe()`,`value_counts()`,`shape()`\n",
    "- `numpy`: `unique()`,`mean()`\n",
    "    \n",
    "</details>"
   ]
  },
  {
   "cell_type": "markdown",
   "id": "09598c3a",
   "metadata": {
    "id": "fd48d0f0-3f90-455e-87a1-0da43fcac202",
    "papermill": {
     "duration": 0.009168,
     "end_time": "2025-02-09T03:47:20.508844",
     "exception": false,
     "start_time": "2025-02-09T03:47:20.499676",
     "status": "completed"
    },
    "tags": []
   },
   "source": [
    "## Step 3: Statistical tests\n",
    "\n",
    "### Summarize the mean AQI for RRE states\n",
    "\n",
    "Start with your first deliverable. Summarize the mean AQI for the states in which RRE operates (California, Florida, Michigan, Ohio, Pennsylvania, and Texas)."
   ]
  },
  {
   "cell_type": "code",
   "execution_count": 6,
   "id": "f5e13171",
   "metadata": {
    "execution": {
     "iopub.execute_input": "2025-02-09T03:47:20.529589Z",
     "iopub.status.busy": "2025-02-09T03:47:20.529214Z",
     "iopub.status.idle": "2025-02-09T03:47:20.550604Z",
     "shell.execute_reply": "2025-02-09T03:47:20.549501Z"
    },
    "id": "83ef0d80-48ec-4a5a-8acd-0fab137243c3",
    "papermill": {
     "duration": 0.033814,
     "end_time": "2025-02-09T03:47:20.552391",
     "exception": false,
     "start_time": "2025-02-09T03:47:20.518577",
     "status": "completed"
    },
    "tags": []
   },
   "outputs": [
    {
     "name": "stdout",
     "output_type": "stream",
     "text": [
      "                   mean  median\n",
      "state_name                     \n",
      "California    12.121212    11.0\n",
      "Florida        5.500000     6.0\n",
      "Michigan       8.111111     8.0\n",
      "Ohio           3.333333     3.0\n",
      "Pennsylvania   2.900000     3.0\n",
      "Texas          2.700000     2.5\n",
      "\n",
      "              state_name\n",
      "state_name              \n",
      "California            66\n",
      "Florida               12\n",
      "Michigan               9\n",
      "Ohio                  12\n",
      "Pennsylvania          10\n",
      "Texas                 10\n"
     ]
    }
   ],
   "source": [
    "# Summarize the mean AQI for RRE states.\n",
    "\n",
    "### YOUR CODE HERE ###\n",
    "\n",
    "# Create a list of RRE states.\n",
    "\n",
    "rre_states = ['California','Florida','Michigan','Ohio','Pennsylvania','Texas']\n",
    "\n",
    "# Subset `aqi` to only consider these states.\n",
    "\n",
    "aqi_rre = aqi[aqi['state_name'].isin(rre_states)]\n",
    "\n",
    "# Find the mean aqi for each of the RRE states.\n",
    "\n",
    "\n",
    "print(aqi_rre.groupby(['state_name'])['aqi'].agg(['mean','median']))\n",
    "print()\n",
    "print(aqi_rre.groupby(['state_name']).agg({'state_name':'count'}))\n"
   ]
  },
  {
   "cell_type": "markdown",
   "id": "f4bca533",
   "metadata": {
    "id": "1078da6e-ce25-45c1-9707-9bf32ecc128f",
    "papermill": {
     "duration": 0.010103,
     "end_time": "2025-02-09T03:47:20.572532",
     "exception": false,
     "start_time": "2025-02-09T03:47:20.562429",
     "status": "completed"
    },
    "tags": []
   },
   "source": [
    "<details>\n",
    "  <summary><h4><strong>Hint 1</strong></h4></summary>\n",
    "\n",
    "Subset your DataFrame to only include those states in which RRE operates. \n",
    "    \n",
    "</details>"
   ]
  },
  {
   "cell_type": "markdown",
   "id": "10bc4452",
   "metadata": {
    "id": "096f97f3-7d89-4f0f-805a-2517807eec0d",
    "papermill": {
     "duration": 0.009289,
     "end_time": "2025-02-09T03:47:20.591513",
     "exception": false,
     "start_time": "2025-02-09T03:47:20.582224",
     "status": "completed"
    },
    "tags": []
   },
   "source": [
    "<details>\n",
    "  <summary><h4><strong>Hint 2</strong></h4></summary>\n",
    "\n",
    "Define a list consisting of the states in which RRE operates and use that list to subset your DataFrame. \n",
    "    \n",
    "</details>"
   ]
  },
  {
   "cell_type": "markdown",
   "id": "c4635716",
   "metadata": {
    "id": "77d4a686-be3d-40c1-9d27-099677f182b9",
    "papermill": {
     "duration": 0.009208,
     "end_time": "2025-02-09T03:47:20.610545",
     "exception": false,
     "start_time": "2025-02-09T03:47:20.601337",
     "status": "completed"
    },
    "tags": []
   },
   "source": [
    "<details>\n",
    "  <summary><h4><strong>Hint 3</strong></h4></summary>\n",
    "\n",
    "Use `pandas` `isin.()` to subset your DataFrame by the list of RRE states.\n",
    "    \n",
    "</details>"
   ]
  },
  {
   "cell_type": "markdown",
   "id": "b23ae2d7",
   "metadata": {
    "id": "883abc8c-5aa9-480e-ac4b-c1c64f8ae0fd",
    "papermill": {
     "duration": 0.009212,
     "end_time": "2025-02-09T03:47:20.629415",
     "exception": false,
     "start_time": "2025-02-09T03:47:20.620203",
     "status": "completed"
    },
    "tags": []
   },
   "source": [
    "### Construct a boxplot visualization for the AQI of these states\n",
    "\n",
    "Seaborn is a simple visualization library, commonly imported as `sns`. Import `seaborn`. Then utilize a boxplot visualization from this library to compare the distributions of AQI scores by state."
   ]
  },
  {
   "cell_type": "code",
   "execution_count": 7,
   "id": "f7abb088",
   "metadata": {
    "execution": {
     "iopub.execute_input": "2025-02-09T03:47:20.650091Z",
     "iopub.status.busy": "2025-02-09T03:47:20.649711Z",
     "iopub.status.idle": "2025-02-09T03:47:22.452544Z",
     "shell.execute_reply": "2025-02-09T03:47:22.451378Z"
    },
    "id": "ca381599-7cba-4454-922c-3383a2b7608d",
    "papermill": {
     "duration": 1.815665,
     "end_time": "2025-02-09T03:47:22.454584",
     "exception": false,
     "start_time": "2025-02-09T03:47:20.638919",
     "status": "completed"
    },
    "tags": []
   },
   "outputs": [],
   "source": [
    "# Import seaborn as sns.\n",
    "\n",
    "### YOUR CODE HERE ###\n",
    "\n",
    "import seaborn as sns"
   ]
  },
  {
   "cell_type": "markdown",
   "id": "b79772f8",
   "metadata": {
    "id": "01510e30-26e6-4408-9599-e7016fdb9948",
    "papermill": {
     "duration": 0.009931,
     "end_time": "2025-02-09T03:47:22.475300",
     "exception": false,
     "start_time": "2025-02-09T03:47:22.465369",
     "status": "completed"
    },
    "tags": []
   },
   "source": [
    "### Create an in-line visualization showing the distribution of `aqi` by `state_name`\n",
    "\n",
    "Now, create an in-line visualization showing the distribution of `aqi` by `state_name`."
   ]
  },
  {
   "cell_type": "code",
   "execution_count": 8,
   "id": "e80deb11",
   "metadata": {
    "execution": {
     "iopub.execute_input": "2025-02-09T03:47:22.499920Z",
     "iopub.status.busy": "2025-02-09T03:47:22.499331Z",
     "iopub.status.idle": "2025-02-09T03:47:22.845358Z",
     "shell.execute_reply": "2025-02-09T03:47:22.844142Z"
    },
    "id": "50040050-1ff3-4d0e-a9e1-d2fd00454ce3",
    "papermill": {
     "duration": 0.360143,
     "end_time": "2025-02-09T03:47:22.847157",
     "exception": false,
     "start_time": "2025-02-09T03:47:22.487014",
     "status": "completed"
    },
    "tags": []
   },
   "outputs": [
    {
     "data": {
      "text/plain": [
       "<Axes: xlabel='state_name', ylabel='aqi'>"
      ]
     },
     "execution_count": 8,
     "metadata": {},
     "output_type": "execute_result"
    },
    {
     "data": {
      "image/png": "[encoded data removed]",
      "text/plain": [
       "<Figure size 640x480 with 1 Axes>"
      ]
     },
     "metadata": {},
     "output_type": "display_data"
    }
   ],
   "source": [
    "### YOUR CODE HERE ###\n",
    "\n",
    "sns.boxplot(x= aqi_rre['state_name'], y= aqi_rre['aqi'])"
   ]
  },
  {
   "cell_type": "code",
   "execution_count": 9,
   "id": "302a3418",
   "metadata": {
    "execution": {
     "iopub.execute_input": "2025-02-09T03:47:22.870029Z",
     "iopub.status.busy": "2025-02-09T03:47:22.869603Z",
     "iopub.status.idle": "2025-02-09T03:47:22.882060Z",
     "shell.execute_reply": "2025-02-09T03:47:22.880899Z"
    },
    "papermill": {
     "duration": 0.025553,
     "end_time": "2025-02-09T03:47:22.883826",
     "exception": false,
     "start_time": "2025-02-09T03:47:22.858273",
     "status": "completed"
    },
    "tags": []
   },
   "outputs": [
    {
     "name": "stdout",
     "output_type": "stream",
     "text": [
      "Cali range: 39\n",
      "Michigan range: 11\n",
      "Florida range: 8\n"
     ]
    }
   ],
   "source": [
    "print('Cali range:', aqi_rre[aqi_rre[\"state_name\"] == 'California']['aqi'].max() - aqi_rre[aqi_rre[\"state_name\"] == 'California']['aqi'].min())\n",
    "\n",
    "print('Michigan range:', aqi_rre[aqi_rre[\"state_name\"] == 'Michigan']['aqi'].max() - aqi_rre[aqi_rre[\"state_name\"] == 'Michigan']['aqi'].min())\n",
    "\n",
    "print('Florida range:', aqi_rre[aqi_rre[\"state_name\"] == 'Florida']['aqi'].max() - aqi_rre[aqi_rre[\"state_name\"] == 'Florida']['aqi'].min())"
   ]
  },
  {
   "cell_type": "markdown",
   "id": "6b211585",
   "metadata": {
    "id": "2ec7b69d-072c-4c42-b0b4-7cff1aaa1579",
    "papermill": {
     "duration": 0.010926,
     "end_time": "2025-02-09T03:47:22.905534",
     "exception": false,
     "start_time": "2025-02-09T03:47:22.894608",
     "status": "completed"
    },
    "tags": []
   },
   "source": [
    "<details>\n",
    "  <summary><h4><strong>Hint 1</strong></h4></summary>\n",
    "\n",
    "Use the boxplot visual for this purpose.\n",
    "    \n",
    "</details>"
   ]
  },
  {
   "cell_type": "markdown",
   "id": "3fcbb32f",
   "metadata": {
    "id": "4218e686-47fc-49cc-b98d-fbca88144a34",
    "papermill": {
     "duration": 0.010356,
     "end_time": "2025-02-09T03:47:22.926331",
     "exception": false,
     "start_time": "2025-02-09T03:47:22.915975",
     "status": "completed"
    },
    "tags": []
   },
   "source": [
    "<details>\n",
    "  <summary><h4><strong>Hint 2</strong></h4></summary>\n",
    "\n",
    "Reference [Seaborn's boxplot visualization documentation](https://seaborn.pydata.org/generated/seaborn.boxplot.html). \n",
    "    \n",
    "</details>"
   ]
  },
  {
   "cell_type": "markdown",
   "id": "bf1ca3e3",
   "metadata": {
    "id": "a3f8a76b-a277-4488-adf2-0ffc9d89e496",
    "papermill": {
     "duration": 0.010136,
     "end_time": "2025-02-09T03:47:22.946930",
     "exception": false,
     "start_time": "2025-02-09T03:47:22.936794",
     "status": "completed"
    },
    "tags": []
   },
   "source": [
    "<details>\n",
    "  <summary><h4><strong>Hint 3</strong></h4></summary>\n",
    "\n",
    "Assign `state_name` to the x argument and `aqi` to the y.\n",
    "    \n",
    "</details>"
   ]
  },
  {
   "cell_type": "markdown",
   "id": "851400b6",
   "metadata": {
    "id": "5e2af1a1-7816-4d8b-929b-41268234a579",
    "papermill": {
     "duration": 0.010836,
     "end_time": "2025-02-09T03:47:22.969583",
     "exception": false,
     "start_time": "2025-02-09T03:47:22.958747",
     "status": "completed"
    },
    "tags": []
   },
   "source": [
    "**Question:** Based on the data and your visualizations, which state(s) do you suspect will be most affected by this policy?"
   ]
  },
  {
   "cell_type": "markdown",
   "id": "34b784f8",
   "metadata": {
    "id": "ZbPjfp_wgVpg",
    "papermill": {
     "duration": 0.010749,
     "end_time": "2025-02-09T03:47:22.992210",
     "exception": false,
     "start_time": "2025-02-09T03:47:22.981461",
     "status": "completed"
    },
    "tags": []
   },
   "source": [
    "* California (mean aqi=12.12, median aqi=11, aqi range=39)\n",
    "* Michigan (mean aqi= 8.11, median aqi=8, aqi range=11)\n",
    "* Florida (mean aqi= 5, median aqi=6, aqi range=8)"
   ]
  },
  {
   "cell_type": "markdown",
   "id": "1f10c15a",
   "metadata": {
    "id": "30760c51-641f-4971-9837-4ae60b72cd64",
    "papermill": {
     "duration": 0.010405,
     "end_time": "2025-02-09T03:47:23.014795",
     "exception": false,
     "start_time": "2025-02-09T03:47:23.004390",
     "status": "completed"
    },
    "tags": []
   },
   "source": [
    "<details>\n",
    "  <summary><h4><strong>Hint 1</strong></h4></summary>\n",
    "\n",
    "Consider the mean AQI for the RRE states, as well as the distribution in the boxplots relative to the policy limit (10).\n",
    "    \n",
    "</details>"
   ]
  },
  {
   "cell_type": "markdown",
   "id": "977633f1",
   "metadata": {
    "id": "b01231e9-0a80-4457-a47e-c62c2c230ae4",
    "papermill": {
     "duration": 0.067092,
     "end_time": "2025-02-09T03:47:23.092367",
     "exception": false,
     "start_time": "2025-02-09T03:47:23.025275",
     "status": "completed"
    },
    "tags": []
   },
   "source": [
    "### Construct a confidence interval for the RRE state with the highest mean AQI\n",
    "\n",
    "Recall the 4-step process in constructing a confidence interval:\n",
    "\n",
    "1.   Identify a sample statistic.\n",
    "2.   Choose a confidence level.\n",
    "3.   Find the margin of error. \n",
    "4.   Calculate the interval."
   ]
  },
  {
   "cell_type": "markdown",
   "id": "17d57773",
   "metadata": {
    "id": "587f8053-6cbd-454a-a390-9307e5a65b1b",
    "papermill": {
     "duration": 0.010581,
     "end_time": "2025-02-09T03:47:23.113405",
     "exception": false,
     "start_time": "2025-02-09T03:47:23.102824",
     "status": "completed"
    },
    "tags": []
   },
   "source": [
    "### Construct your sample statistic\n",
    "\n",
    "To contruct your sample statistic, find the mean AQI for your state."
   ]
  },
  {
   "cell_type": "code",
   "execution_count": 10,
   "id": "a45ebac6",
   "metadata": {
    "execution": {
     "iopub.execute_input": "2025-02-09T03:47:23.136913Z",
     "iopub.status.busy": "2025-02-09T03:47:23.136479Z",
     "iopub.status.idle": "2025-02-09T03:47:23.144503Z",
     "shell.execute_reply": "2025-02-09T03:47:23.143266Z"
    },
    "id": "58af6462-80ab-4055-85de-c99c87129752",
    "papermill": {
     "duration": 0.022054,
     "end_time": "2025-02-09T03:47:23.146637",
     "exception": false,
     "start_time": "2025-02-09T03:47:23.124583",
     "status": "completed"
    },
    "tags": []
   },
   "outputs": [
    {
     "data": {
      "text/plain": [
       "12.121212121212121"
      ]
     },
     "execution_count": 10,
     "metadata": {},
     "output_type": "execute_result"
    }
   ],
   "source": [
    "# Find the mean aqi for your state.\n",
    "\n",
    "### YOUR CODE HERE ###\n",
    "\n",
    "# since california is at the highest risk we can focus only on that for now\n",
    "\n",
    "aqi_ca = aqi[ aqi['state_name'] == 'California' ]\n",
    "\n",
    "# sample mean for california cities aqi\n",
    "\n",
    "sample_mean = aqi_ca['aqi'].mean()\n",
    "\n",
    "sample_mean"
   ]
  },
  {
   "cell_type": "markdown",
   "id": "a14663d2",
   "metadata": {
    "id": "3361efb6-9def-4140-8d55-061487583b3e",
    "papermill": {
     "duration": 0.011006,
     "end_time": "2025-02-09T03:47:23.168766",
     "exception": false,
     "start_time": "2025-02-09T03:47:23.157760",
     "status": "completed"
    },
    "tags": []
   },
   "source": [
    "<details>\n",
    "  <summary><h4><strong>Hint 1</strong></h4></summary>\n",
    "\n",
    "Reference what you've previously learned to recall what a [sample statistic](https://www.coursera.org/learn/the-power-of-statistics/supplement/cdOx7/construct-a-confidence-interval-for-a-small-sample-size) is.\n",
    "    \n",
    "</details>"
   ]
  },
  {
   "cell_type": "markdown",
   "id": "4a86ca1d",
   "metadata": {
    "id": "54189c3c-a318-447b-b48f-b7bcd9b8a178",
    "papermill": {
     "duration": 0.010398,
     "end_time": "2025-02-09T03:47:23.189945",
     "exception": false,
     "start_time": "2025-02-09T03:47:23.179547",
     "status": "completed"
    },
    "tags": []
   },
   "source": [
    "<details>\n",
    "  <summary><h4><strong>Hint 2</strong></h4></summary>\n",
    "\n",
    "Calculate the mean for your highest AQI state to arrive at your sample statistic.\n",
    "    \n",
    "</details>"
   ]
  },
  {
   "cell_type": "markdown",
   "id": "892dafdf",
   "metadata": {
    "id": "a2659e8e-1f67-441f-825c-8473c9f88081",
    "papermill": {
     "duration": 0.010228,
     "end_time": "2025-02-09T03:47:23.210875",
     "exception": false,
     "start_time": "2025-02-09T03:47:23.200647",
     "status": "completed"
    },
    "tags": []
   },
   "source": [
    "<details>\n",
    " <summary><h4><strong>Hint 3</strong></h4></summary>\n",
    "\n",
    "Call the `mean()` function within `pandas` on your DataFrame.\n",
    "    \n",
    "</details>"
   ]
  },
  {
   "cell_type": "markdown",
   "id": "4d65b759",
   "metadata": {
    "id": "9a15605d-5b99-4033-940f-1fab630ad6c1",
    "papermill": {
     "duration": 0.010397,
     "end_time": "2025-02-09T03:47:23.231979",
     "exception": false,
     "start_time": "2025-02-09T03:47:23.221582",
     "status": "completed"
    },
    "tags": []
   },
   "source": [
    "### Choose your confidence level\n",
    "\n",
    "Choose your confidence level for your analysis. The most typical confidence level chosen is 95%; however, you can choose 90% or 99% if you want decrease or increase (respectively) your level of confidence about your result."
   ]
  },
  {
   "cell_type": "code",
   "execution_count": 11,
   "id": "3f9c406c",
   "metadata": {
    "execution": {
     "iopub.execute_input": "2025-02-09T03:47:23.255419Z",
     "iopub.status.busy": "2025-02-09T03:47:23.254978Z",
     "iopub.status.idle": "2025-02-09T03:47:23.259338Z",
     "shell.execute_reply": "2025-02-09T03:47:23.258174Z"
    },
    "id": "0a9c1f39-b4e2-4ec3-9369-dd313fd2d835",
    "outputId": "c035e170-c781-46b7-d1ec-5af2c66a7b1f",
    "papermill": {
     "duration": 0.018708,
     "end_time": "2025-02-09T03:47:23.261277",
     "exception": false,
     "start_time": "2025-02-09T03:47:23.242569",
     "status": "completed"
    },
    "tags": []
   },
   "outputs": [],
   "source": [
    "# Input your confidence level here:\n",
    "\n",
    "### YOUR CODE HERE ###\n",
    "\n",
    "confidence_level = 0.95"
   ]
  },
  {
   "cell_type": "markdown",
   "id": "e193c6e9",
   "metadata": {
    "id": "ac18cb1b-40ca-4de3-bc0a-08be82f64781",
    "papermill": {
     "duration": 0.010376,
     "end_time": "2025-02-09T03:47:23.282487",
     "exception": false,
     "start_time": "2025-02-09T03:47:23.272111",
     "status": "completed"
    },
    "tags": []
   },
   "source": [
    "### Find your margin of error (ME)\n",
    "\n",
    "Recall **margin of error = z * standard error**, where z is the appropriate z-value for the given confidence level. To calculate your margin of error:\n",
    "\n",
    "- Find your z-value. \n",
    "- Find the approximate z for common confidence levels.\n",
    "- Calculate your **standard error** estimate. \n",
    "\n",
    "| Confidence Level | Z Score |\n",
    "| --- | --- |\n",
    "| 90% | 1.65 |\n",
    "| 95% | 1.96 |\n",
    "| 99% | 2.58 |\n"
   ]
  },
  {
   "cell_type": "code",
   "execution_count": 12,
   "id": "1fff1e01",
   "metadata": {
    "execution": {
     "iopub.execute_input": "2025-02-09T03:47:23.305470Z",
     "iopub.status.busy": "2025-02-09T03:47:23.305056Z",
     "iopub.status.idle": "2025-02-09T03:47:23.312624Z",
     "shell.execute_reply": "2025-02-09T03:47:23.311322Z"
    },
    "id": "930e5fb6-171c-4bba-a601-d5e3b84e2fdb",
    "papermill": {
     "duration": 0.02116,
     "end_time": "2025-02-09T03:47:23.314268",
     "exception": false,
     "start_time": "2025-02-09T03:47:23.293108",
     "status": "completed"
    },
    "tags": []
   },
   "outputs": [
    {
     "name": "stdout",
     "output_type": "stream",
     "text": [
      "standard error: 0.8987209641127412\n",
      "margin of error: 1.7614930896609726\n"
     ]
    }
   ],
   "source": [
    "# Calculate your margin of error.\n",
    "\n",
    "### YOUR CODE HERE ###\n",
    "\n",
    "# Begin by identifying the z associated with your chosen confidence level.\n",
    "\n",
    "z_value = 1.96\n",
    "\n",
    "\n",
    "# Next, calculate your standard error.\n",
    "\n",
    "standard_error = aqi_ca['aqi'].std() / np.sqrt(aqi_ca.shape[0])\n",
    "print('standard error:', standard_error)\n",
    "\n",
    "\n",
    "# Lastly, use the preceding result to calculate your margin of error.\n",
    "\n",
    "margin_of_error = standard_error * z_value\n",
    "print('margin of error:',margin_of_error)\n"
   ]
  },
  {
   "cell_type": "markdown",
   "id": "e318aee6",
   "metadata": {
    "id": "6b0d173b-06d4-4e82-81d8-092b24132bd2",
    "papermill": {
     "duration": 0.010512,
     "end_time": "2025-02-09T03:47:23.335495",
     "exception": false,
     "start_time": "2025-02-09T03:47:23.324983",
     "status": "completed"
    },
    "tags": []
   },
   "source": [
    "### Calculate your interval\n",
    "\n",
    "Calculate both a lower and upper limit surrounding your sample mean to create your interval."
   ]
  },
  {
   "cell_type": "code",
   "execution_count": 13,
   "id": "edbe7ec6",
   "metadata": {
    "execution": {
     "iopub.execute_input": "2025-02-09T03:47:23.357983Z",
     "iopub.status.busy": "2025-02-09T03:47:23.357572Z",
     "iopub.status.idle": "2025-02-09T03:47:23.364217Z",
     "shell.execute_reply": "2025-02-09T03:47:23.363108Z"
    },
    "id": "f83a7ba7-afdd-4d8c-8b78-849cff363180",
    "papermill": {
     "duration": 0.019885,
     "end_time": "2025-02-09T03:47:23.365874",
     "exception": false,
     "start_time": "2025-02-09T03:47:23.345989",
     "status": "completed"
    },
    "tags": []
   },
   "outputs": [
    {
     "data": {
      "text/plain": [
       "(10.359719031551148, 13.882705210873095)"
      ]
     },
     "execution_count": 13,
     "metadata": {},
     "output_type": "execute_result"
    }
   ],
   "source": [
    "# Calculate your confidence interval (upper and lower limits).\n",
    "\n",
    "### YOUR CODE HERE ###\n",
    "\n",
    "\n",
    "# upper ci limit\n",
    "upper_ci_limit = sample_mean + margin_of_error\n",
    "\n",
    "\n",
    "# lower ci limit\n",
    "lower_ci_limit = sample_mean - margin_of_error\n",
    "\n",
    "\n",
    "lower_ci_limit, upper_ci_limit"
   ]
  },
  {
   "cell_type": "markdown",
   "id": "f810ddaa",
   "metadata": {
    "id": "5c6af474-8803-40c3-88fe-3ae8d4523097",
    "papermill": {
     "duration": 0.010269,
     "end_time": "2025-02-09T03:47:23.387004",
     "exception": false,
     "start_time": "2025-02-09T03:47:23.376735",
     "status": "completed"
    },
    "tags": []
   },
   "source": [
    "<details>\n",
    "  <summary><h4><strong>Hint 1</strong></h4></summary>\n",
    "\n",
    "Refer to [the content about constructing a confidence interval](https://www.coursera.org/learn/the-power-of-statistics/lecture/3jbsX/construct-a-confidence-interval-for-a-proportion).\n",
    "    \n",
    "</details>"
   ]
  },
  {
   "cell_type": "markdown",
   "id": "90357c57",
   "metadata": {
    "id": "d515ba65-5524-492e-ba06-64d3a4e90e8f",
    "papermill": {
     "duration": 0.010259,
     "end_time": "2025-02-09T03:47:23.407914",
     "exception": false,
     "start_time": "2025-02-09T03:47:23.397655",
     "status": "completed"
    },
    "tags": []
   },
   "source": [
    "<details>\n",
    "  <summary><h4><strong>Hint 2</strong></h4></summary>\n",
    "\n",
    "Identify the sample mean from your prior work. Then use the margin of error to construct your upper and lower limits.  \n",
    "    \n",
    "</details>"
   ]
  },
  {
   "cell_type": "markdown",
   "id": "5e9d7958",
   "metadata": {
    "id": "22532a0b-8db5-4874-9869-39d3e80a5ea9",
    "papermill": {
     "duration": 0.010307,
     "end_time": "2025-02-09T03:47:23.429080",
     "exception": false,
     "start_time": "2025-02-09T03:47:23.418773",
     "status": "completed"
    },
    "tags": []
   },
   "source": [
    "<details>\n",
    "  <summary><h4><strong>Hint 3</strong></h4></summary>\n",
    "\n",
    "Subtract the margin of error from the sample mean to construct your lower limit, and add the margin of error to your sample mean to construct your upper limit.\n",
    "    \n",
    "</details>"
   ]
  },
  {
   "cell_type": "markdown",
   "id": "cfad53bd",
   "metadata": {
    "id": "82e06ed3-2ec3-4851-b3df-2c6d969ea616",
    "papermill": {
     "duration": 0.010545,
     "end_time": "2025-02-09T03:47:23.450214",
     "exception": false,
     "start_time": "2025-02-09T03:47:23.439669",
     "status": "completed"
    },
    "tags": []
   },
   "source": [
    "### Alternative: Construct the interval using `scipy.stats.norm.interval()`\n",
    "\n",
    "`scipy` presents a simpler solution to developing a confidence interval. To use this, first import the `stats` module from `scipy`."
   ]
  },
  {
   "cell_type": "code",
   "execution_count": 14,
   "id": "fc313680",
   "metadata": {
    "execution": {
     "iopub.execute_input": "2025-02-09T03:47:23.477276Z",
     "iopub.status.busy": "2025-02-09T03:47:23.476606Z",
     "iopub.status.idle": "2025-02-09T03:47:23.481856Z",
     "shell.execute_reply": "2025-02-09T03:47:23.480615Z"
    },
    "id": "0b6d2ecc-03ff-47ab-9d2d-57857fc38ca0",
    "papermill": {
     "duration": 0.021677,
     "end_time": "2025-02-09T03:47:23.483745",
     "exception": false,
     "start_time": "2025-02-09T03:47:23.462068",
     "status": "completed"
    },
    "tags": []
   },
   "outputs": [],
   "source": [
    "# Import stats from scipy.\n",
    "\n",
    "### YOUR CODE HERE ###\n",
    "\n",
    "import scipy.stats as stats"
   ]
  },
  {
   "cell_type": "markdown",
   "id": "8bf2e948",
   "metadata": {
    "id": "ba8af068-f28e-4c29-82c9-238bc0f16ed1",
    "papermill": {
     "duration": 0.013403,
     "end_time": "2025-02-09T03:47:23.514013",
     "exception": false,
     "start_time": "2025-02-09T03:47:23.500610",
     "status": "completed"
    },
    "tags": []
   },
   "source": [
    "## Step 4: Results and evaluation\n",
    "\n",
    "### Recalculate your confidence interval\n",
    "\n",
    "Provide your chosen `confidence_level`, `sample_mean`, and `standard_error` to `stats.norm.interval()` and recalculate your confidence interval."
   ]
  },
  {
   "cell_type": "code",
   "execution_count": 15,
   "id": "568d8a8a",
   "metadata": {
    "execution": {
     "iopub.execute_input": "2025-02-09T03:47:23.540941Z",
     "iopub.status.busy": "2025-02-09T03:47:23.540598Z",
     "iopub.status.idle": "2025-02-09T03:47:23.549498Z",
     "shell.execute_reply": "2025-02-09T03:47:23.548085Z"
    },
    "id": "f908eb99-ce5c-472f-891e-80a47cef5fed",
    "papermill": {
     "duration": 0.023018,
     "end_time": "2025-02-09T03:47:23.551352",
     "exception": false,
     "start_time": "2025-02-09T03:47:23.528334",
     "status": "completed"
    },
    "tags": []
   },
   "outputs": [
    {
     "data": {
      "text/plain": [
       "(10.359751399400034, 13.882672843024208)"
      ]
     },
     "execution_count": 15,
     "metadata": {},
     "output_type": "execute_result"
    }
   ],
   "source": [
    "### YOUR CODE HERE ###\n",
    "\n",
    "stats.norm.interval( confidence=confidence_level, loc=sample_mean, scale=standard_error )"
   ]
  },
  {
   "cell_type": "markdown",
   "id": "505c49d0",
   "metadata": {
    "id": "feb3e273-1aab-4965-bceb-8b8933c743b5",
    "papermill": {
     "duration": 0.010487,
     "end_time": "2025-02-09T03:47:23.572710",
     "exception": false,
     "start_time": "2025-02-09T03:47:23.562223",
     "status": "completed"
    },
    "tags": []
   },
   "source": [
    "# Considerations\n",
    "\n",
    "**What are some key takeaways that you learned from this lab?**\n",
    "  \n",
    "* use scipy.stats to calculate confidence intervals\n",
    "* id sample statistic, establish confidence level, calculate standard error, calculate margin of error, calculate CI using python \n",
    "\n",
    "**What findings would you share with others?**  \n",
    "\n",
    "* California, Michigan and Florida have relatively high aqi in the RRE states\n",
    "* using the same estimation process, 95% of the time we can successfully expect the population parameter (population mean aqi) to fall within the confidence interval = [10.36, 13.88]\n",
    "\n",
    "**What would you convey to external stakeholders?**\n",
    "\n",
    "* find if there are other contextual data available for finding the aqi \n",
    "* focus on highlighting California's situation w.r.t. aqi levels and inform the mean and CI calculated"
   ]
  },
  {
   "cell_type": "markdown",
   "id": "6ae7f68a",
   "metadata": {
    "id": "0IVWUekbeFEq",
    "papermill": {
     "duration": 0.0106,
     "end_time": "2025-02-09T03:47:23.594062",
     "exception": false,
     "start_time": "2025-02-09T03:47:23.583462",
     "status": "completed"
    },
    "tags": []
   },
   "source": [
    "**References**\n",
    "\n",
    "[seaborn.boxplot — seaborn 0.12.1 documentation](https://seaborn.pydata.org/generated/seaborn.boxplot.html). (n.d.). "
   ]
  },
  {
   "cell_type": "markdown",
   "id": "676ec035",
   "metadata": {
    "papermill": {
     "duration": 0.014142,
     "end_time": "2025-02-09T03:47:23.621086",
     "exception": false,
     "start_time": "2025-02-09T03:47:23.606944",
     "status": "completed"
    },
    "tags": []
   },
   "source": [
    "**Congratulations!** You've completed this lab. However, you may not notice a green check mark next to this item on Coursera's platform. Please continue your progress regardless of the check mark. Just click on the \"save\" icon at the top of this notebook to ensure your work has been logged."
   ]
  }
 ],
 "metadata": {
  "colab": {
   "collapsed_sections": [],
   "provenance": []
  },
  "kaggle": {
   "accelerator": "none",
   "dataSources": [
    {
     "datasetId": 6625193,
     "sourceId": 10692443,
     "sourceType": "datasetVersion"
    }
   ],
   "dockerImageVersionId": 30886,
   "isGpuEnabled": false,
   "isInternetEnabled": true,
   "language": "python",
   "sourceType": "notebook"
  },
  "kernelspec": {
   "display_name": "Python 3",
   "language": "python",
   "name": "python3"
  },
  "language_info": {
   "codemirror_mode": {
    "name": "ipython",
    "version": 3
   },
   "file_extension": ".py",
   "mimetype": "text/x-python",
   "name": "python",
   "nbconvert_exporter": "python",
   "pygments_lexer": "ipython3",
   "version": "3.10.12"
  },
  "papermill": {
   "default_parameters": {},
   "duration": 8.214334,
   "end_time": "2025-02-09T03:47:24.360981",
   "environment_variables": {},
   "exception": null,
   "input_path": "__notebook__.ipynb",
   "output_path": "__notebook__.ipynb",
   "parameters": {},
   "start_time": "2025-02-09T03:47:16.146647",
   "version": "2.6.0"
  }
 },
 "nbformat": 4,
 "nbformat_minor": 5
}

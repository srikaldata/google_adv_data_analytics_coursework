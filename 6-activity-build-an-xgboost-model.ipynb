{
 "cells": [
  {
   "cell_type": "markdown",
   "id": "55d7288f",
   "metadata": {
    "id": "yugMU9MjJtBl",
    "papermill": {
     "duration": 0.016748,
     "end_time": "2025-02-16T03:33:44.390311",
     "exception": false,
     "start_time": "2025-02-16T03:33:44.373563",
     "status": "completed"
    },
    "tags": []
   },
   "source": [
    "# Activity: Build an XGBoost model"
   ]
  },
  {
   "cell_type": "markdown",
   "id": "801f221c",
   "metadata": {
    "id": "EzWqJunmJotv",
    "papermill": {
     "duration": 0.014532,
     "end_time": "2025-02-16T03:33:44.420423",
     "exception": false,
     "start_time": "2025-02-16T03:33:44.405891",
     "status": "completed"
    },
    "tags": []
   },
   "source": [
    "## Introduction\n",
    "\n",
    "In this activity, you’ll build on the skills and techniques you learned in the decision tree and random forest lessons to construct your own XGBoost classification model. The XGBoost model is a very powerful extension of decision trees, so having a strong working familiarity with this process will strengthen your skills and resume as a data professional.\n",
    "\n",
    "This activity is a continuation of the airlines project in which you built decision tree and random forest models. You will use the same data, but this time you will train, tune, and evaluate an XGBoost model. You’ll then compare the performance of all three models and decide which model is best. Finally, you’ll explore the feature importances of your model and identify the features that most contribute to customer satisfaction.\n"
   ]
  },
  {
   "cell_type": "markdown",
   "id": "6555dbaf",
   "metadata": {
    "id": "yTVinL1hJqoy",
    "papermill": {
     "duration": 0.014613,
     "end_time": "2025-02-16T03:33:44.450335",
     "exception": false,
     "start_time": "2025-02-16T03:33:44.435722",
     "status": "completed"
    },
    "tags": []
   },
   "source": [
    "## Step 1: Imports"
   ]
  },
  {
   "cell_type": "markdown",
   "id": "432a2dbf",
   "metadata": {
    "id": "DDIRpqkZJ4S8",
    "papermill": {
     "duration": 0.014648,
     "end_time": "2025-02-16T03:33:44.479888",
     "exception": false,
     "start_time": "2025-02-16T03:33:44.465240",
     "status": "completed"
    },
    "tags": []
   },
   "source": [
    "### Import packages\n",
    "\n",
    "Begin with your import statements. First, import `pandas`, `numpy`, and `matplotlib` for data preparation. Next, import scikit-learn (`sklearn`) for model preparation and evaluation. Then, import `xgboost`, which provides the classification algorithm you'll implement to formulate your predictive model."
   ]
  },
  {
   "cell_type": "code",
   "execution_count": 1,
   "id": "edcd1939",
   "metadata": {
    "execution": {
     "iopub.execute_input": "2025-02-16T03:33:44.511518Z",
     "iopub.status.busy": "2025-02-16T03:33:44.511156Z",
     "iopub.status.idle": "2025-02-16T03:33:47.515308Z",
     "shell.execute_reply": "2025-02-16T03:33:47.514188Z"
    },
    "id": "1nDjAJPa4lVZ",
    "papermill": {
     "duration": 3.022742,
     "end_time": "2025-02-16T03:33:47.517345",
     "exception": false,
     "start_time": "2025-02-16T03:33:44.494603",
     "status": "completed"
    },
    "tags": []
   },
   "outputs": [],
   "source": [
    "# Import relevant libraries and modules.\n",
    "\n",
    "### YOUR CODE HERE ###\n",
    "import numpy as np\n",
    "import pandas as pd\n",
    "import matplotlib as plt\n",
    "import pickle\n",
    "\n",
    "from sklearn.model_selection import train_test_split\n",
    "from sklearn.model_selection import GridSearchCV\n",
    "from sklearn import metrics\n",
    "\n",
    "from xgboost import XGBClassifier\n",
    "from xgboost import plot_importance"
   ]
  },
  {
   "cell_type": "markdown",
   "id": "1458f983",
   "metadata": {
    "id": "hKylHziGzY3X",
    "papermill": {
     "duration": 0.014702,
     "end_time": "2025-02-16T03:33:47.547446",
     "exception": false,
     "start_time": "2025-02-16T03:33:47.532744",
     "status": "completed"
    },
    "tags": []
   },
   "source": [
    "### Load the dataset\n",
    "\n",
    "To formulate your model, `pandas` is used to import a csv of airline passenger satisfaction data called `Invistico_Airline.csv`. This DataFrame is called `airline_data`. As shown in this cell, the dataset has been automatically loaded in for you. You do not need to download the .csv file, or provide more code, in order to access the dataset and proceed with this lab. Please continue with this activity by completing the following instructions."
   ]
  },
  {
   "cell_type": "code",
   "execution_count": 2,
   "id": "a6ef072e",
   "metadata": {
    "execution": {
     "iopub.execute_input": "2025-02-16T03:33:47.578493Z",
     "iopub.status.busy": "2025-02-16T03:33:47.577914Z",
     "iopub.status.idle": "2025-02-16T03:33:48.133146Z",
     "shell.execute_reply": "2025-02-16T03:33:48.131844Z"
    },
    "id": "4ebqpNcm4BDH",
    "papermill": {
     "duration": 0.573071,
     "end_time": "2025-02-16T03:33:48.135196",
     "exception": false,
     "start_time": "2025-02-16T03:33:47.562125",
     "status": "completed"
    },
    "tags": []
   },
   "outputs": [],
   "source": [
    "# RUN THIS CELL TO IMPORT YOUR DATA. \n",
    "\n",
    "### YOUR CODE HERE ###\n",
    "\n",
    "airline_data = pd.read_csv('/kaggle/input/google-adv-data-analytics-advancedml-datasets/6_Invistico_Airline.csv')"
   ]
  },
  {
   "cell_type": "markdown",
   "id": "b9183b51",
   "metadata": {
    "id": "yXvtnFn5oBIG",
    "papermill": {
     "duration": 0.016297,
     "end_time": "2025-02-16T03:33:48.168597",
     "exception": false,
     "start_time": "2025-02-16T03:33:48.152300",
     "status": "completed"
    },
    "tags": []
   },
   "source": [
    "### Display the data"
   ]
  },
  {
   "cell_type": "markdown",
   "id": "2287bdc8",
   "metadata": {
    "id": "6bg_6M3IRgMU",
    "papermill": {
     "duration": 0.014535,
     "end_time": "2025-02-16T03:33:48.197839",
     "exception": false,
     "start_time": "2025-02-16T03:33:48.183304",
     "status": "completed"
    },
    "tags": []
   },
   "source": [
    "Examine the first 10 rows of data to familiarize yourself with the dataset."
   ]
  },
  {
   "cell_type": "code",
   "execution_count": 3,
   "id": "5e945027",
   "metadata": {
    "execution": {
     "iopub.execute_input": "2025-02-16T03:33:48.228810Z",
     "iopub.status.busy": "2025-02-16T03:33:48.228370Z",
     "iopub.status.idle": "2025-02-16T03:33:48.274588Z",
     "shell.execute_reply": "2025-02-16T03:33:48.273385Z"
    },
    "id": "JWu8u19C2sn1",
    "papermill": {
     "duration": 0.063929,
     "end_time": "2025-02-16T03:33:48.276679",
     "exception": false,
     "start_time": "2025-02-16T03:33:48.212750",
     "status": "completed"
    },
    "tags": []
   },
   "outputs": [
    {
     "data": {
      "text/html": [
       "<div>\n",
       "<style scoped>\n",
       "    .dataframe tbody tr th:only-of-type {\n",
       "        vertical-align: middle;\n",
       "    }\n",
       "\n",
       "    .dataframe tbody tr th {\n",
       "        vertical-align: top;\n",
       "    }\n",
       "\n",
       "    .dataframe thead th {\n",
       "        text-align: right;\n",
       "    }\n",
       "</style>\n",
       "<table border=\"1\" class=\"dataframe\">\n",
       "  <thead>\n",
       "    <tr style=\"text-align: right;\">\n",
       "      <th></th>\n",
       "      <th>satisfaction</th>\n",
       "      <th>Customer Type</th>\n",
       "      <th>Age</th>\n",
       "      <th>Type of Travel</th>\n",
       "      <th>Class</th>\n",
       "      <th>Flight Distance</th>\n",
       "      <th>Seat comfort</th>\n",
       "      <th>Departure/Arrival time convenient</th>\n",
       "      <th>Food and drink</th>\n",
       "      <th>Gate location</th>\n",
       "      <th>...</th>\n",
       "      <th>Online support</th>\n",
       "      <th>Ease of Online booking</th>\n",
       "      <th>On-board service</th>\n",
       "      <th>Leg room service</th>\n",
       "      <th>Baggage handling</th>\n",
       "      <th>Checkin service</th>\n",
       "      <th>Cleanliness</th>\n",
       "      <th>Online boarding</th>\n",
       "      <th>Departure Delay in Minutes</th>\n",
       "      <th>Arrival Delay in Minutes</th>\n",
       "    </tr>\n",
       "  </thead>\n",
       "  <tbody>\n",
       "    <tr>\n",
       "      <th>0</th>\n",
       "      <td>satisfied</td>\n",
       "      <td>Loyal Customer</td>\n",
       "      <td>65</td>\n",
       "      <td>Personal Travel</td>\n",
       "      <td>Eco</td>\n",
       "      <td>265</td>\n",
       "      <td>0</td>\n",
       "      <td>0</td>\n",
       "      <td>0</td>\n",
       "      <td>2</td>\n",
       "      <td>...</td>\n",
       "      <td>2</td>\n",
       "      <td>3</td>\n",
       "      <td>3</td>\n",
       "      <td>0</td>\n",
       "      <td>3</td>\n",
       "      <td>5</td>\n",
       "      <td>3</td>\n",
       "      <td>2</td>\n",
       "      <td>0</td>\n",
       "      <td>0.0</td>\n",
       "    </tr>\n",
       "    <tr>\n",
       "      <th>1</th>\n",
       "      <td>satisfied</td>\n",
       "      <td>Loyal Customer</td>\n",
       "      <td>47</td>\n",
       "      <td>Personal Travel</td>\n",
       "      <td>Business</td>\n",
       "      <td>2464</td>\n",
       "      <td>0</td>\n",
       "      <td>0</td>\n",
       "      <td>0</td>\n",
       "      <td>3</td>\n",
       "      <td>...</td>\n",
       "      <td>2</td>\n",
       "      <td>3</td>\n",
       "      <td>4</td>\n",
       "      <td>4</td>\n",
       "      <td>4</td>\n",
       "      <td>2</td>\n",
       "      <td>3</td>\n",
       "      <td>2</td>\n",
       "      <td>310</td>\n",
       "      <td>305.0</td>\n",
       "    </tr>\n",
       "    <tr>\n",
       "      <th>2</th>\n",
       "      <td>satisfied</td>\n",
       "      <td>Loyal Customer</td>\n",
       "      <td>15</td>\n",
       "      <td>Personal Travel</td>\n",
       "      <td>Eco</td>\n",
       "      <td>2138</td>\n",
       "      <td>0</td>\n",
       "      <td>0</td>\n",
       "      <td>0</td>\n",
       "      <td>3</td>\n",
       "      <td>...</td>\n",
       "      <td>2</td>\n",
       "      <td>2</td>\n",
       "      <td>3</td>\n",
       "      <td>3</td>\n",
       "      <td>4</td>\n",
       "      <td>4</td>\n",
       "      <td>4</td>\n",
       "      <td>2</td>\n",
       "      <td>0</td>\n",
       "      <td>0.0</td>\n",
       "    </tr>\n",
       "    <tr>\n",
       "      <th>3</th>\n",
       "      <td>satisfied</td>\n",
       "      <td>Loyal Customer</td>\n",
       "      <td>60</td>\n",
       "      <td>Personal Travel</td>\n",
       "      <td>Eco</td>\n",
       "      <td>623</td>\n",
       "      <td>0</td>\n",
       "      <td>0</td>\n",
       "      <td>0</td>\n",
       "      <td>3</td>\n",
       "      <td>...</td>\n",
       "      <td>3</td>\n",
       "      <td>1</td>\n",
       "      <td>1</td>\n",
       "      <td>0</td>\n",
       "      <td>1</td>\n",
       "      <td>4</td>\n",
       "      <td>1</td>\n",
       "      <td>3</td>\n",
       "      <td>0</td>\n",
       "      <td>0.0</td>\n",
       "    </tr>\n",
       "    <tr>\n",
       "      <th>4</th>\n",
       "      <td>satisfied</td>\n",
       "      <td>Loyal Customer</td>\n",
       "      <td>70</td>\n",
       "      <td>Personal Travel</td>\n",
       "      <td>Eco</td>\n",
       "      <td>354</td>\n",
       "      <td>0</td>\n",
       "      <td>0</td>\n",
       "      <td>0</td>\n",
       "      <td>3</td>\n",
       "      <td>...</td>\n",
       "      <td>4</td>\n",
       "      <td>2</td>\n",
       "      <td>2</td>\n",
       "      <td>0</td>\n",
       "      <td>2</td>\n",
       "      <td>4</td>\n",
       "      <td>2</td>\n",
       "      <td>5</td>\n",
       "      <td>0</td>\n",
       "      <td>0.0</td>\n",
       "    </tr>\n",
       "    <tr>\n",
       "      <th>5</th>\n",
       "      <td>satisfied</td>\n",
       "      <td>Loyal Customer</td>\n",
       "      <td>30</td>\n",
       "      <td>Personal Travel</td>\n",
       "      <td>Eco</td>\n",
       "      <td>1894</td>\n",
       "      <td>0</td>\n",
       "      <td>0</td>\n",
       "      <td>0</td>\n",
       "      <td>3</td>\n",
       "      <td>...</td>\n",
       "      <td>2</td>\n",
       "      <td>2</td>\n",
       "      <td>5</td>\n",
       "      <td>4</td>\n",
       "      <td>5</td>\n",
       "      <td>5</td>\n",
       "      <td>4</td>\n",
       "      <td>2</td>\n",
       "      <td>0</td>\n",
       "      <td>0.0</td>\n",
       "    </tr>\n",
       "    <tr>\n",
       "      <th>6</th>\n",
       "      <td>satisfied</td>\n",
       "      <td>Loyal Customer</td>\n",
       "      <td>66</td>\n",
       "      <td>Personal Travel</td>\n",
       "      <td>Eco</td>\n",
       "      <td>227</td>\n",
       "      <td>0</td>\n",
       "      <td>0</td>\n",
       "      <td>0</td>\n",
       "      <td>3</td>\n",
       "      <td>...</td>\n",
       "      <td>5</td>\n",
       "      <td>5</td>\n",
       "      <td>5</td>\n",
       "      <td>0</td>\n",
       "      <td>5</td>\n",
       "      <td>5</td>\n",
       "      <td>5</td>\n",
       "      <td>3</td>\n",
       "      <td>17</td>\n",
       "      <td>15.0</td>\n",
       "    </tr>\n",
       "    <tr>\n",
       "      <th>7</th>\n",
       "      <td>satisfied</td>\n",
       "      <td>Loyal Customer</td>\n",
       "      <td>10</td>\n",
       "      <td>Personal Travel</td>\n",
       "      <td>Eco</td>\n",
       "      <td>1812</td>\n",
       "      <td>0</td>\n",
       "      <td>0</td>\n",
       "      <td>0</td>\n",
       "      <td>3</td>\n",
       "      <td>...</td>\n",
       "      <td>2</td>\n",
       "      <td>2</td>\n",
       "      <td>3</td>\n",
       "      <td>3</td>\n",
       "      <td>4</td>\n",
       "      <td>5</td>\n",
       "      <td>4</td>\n",
       "      <td>2</td>\n",
       "      <td>0</td>\n",
       "      <td>0.0</td>\n",
       "    </tr>\n",
       "    <tr>\n",
       "      <th>8</th>\n",
       "      <td>satisfied</td>\n",
       "      <td>Loyal Customer</td>\n",
       "      <td>56</td>\n",
       "      <td>Personal Travel</td>\n",
       "      <td>Business</td>\n",
       "      <td>73</td>\n",
       "      <td>0</td>\n",
       "      <td>0</td>\n",
       "      <td>0</td>\n",
       "      <td>3</td>\n",
       "      <td>...</td>\n",
       "      <td>5</td>\n",
       "      <td>4</td>\n",
       "      <td>4</td>\n",
       "      <td>0</td>\n",
       "      <td>1</td>\n",
       "      <td>5</td>\n",
       "      <td>4</td>\n",
       "      <td>4</td>\n",
       "      <td>0</td>\n",
       "      <td>0.0</td>\n",
       "    </tr>\n",
       "    <tr>\n",
       "      <th>9</th>\n",
       "      <td>satisfied</td>\n",
       "      <td>Loyal Customer</td>\n",
       "      <td>22</td>\n",
       "      <td>Personal Travel</td>\n",
       "      <td>Eco</td>\n",
       "      <td>1556</td>\n",
       "      <td>0</td>\n",
       "      <td>0</td>\n",
       "      <td>0</td>\n",
       "      <td>3</td>\n",
       "      <td>...</td>\n",
       "      <td>2</td>\n",
       "      <td>2</td>\n",
       "      <td>2</td>\n",
       "      <td>4</td>\n",
       "      <td>5</td>\n",
       "      <td>3</td>\n",
       "      <td>4</td>\n",
       "      <td>2</td>\n",
       "      <td>30</td>\n",
       "      <td>26.0</td>\n",
       "    </tr>\n",
       "  </tbody>\n",
       "</table>\n",
       "<p>10 rows × 22 columns</p>\n",
       "</div>"
      ],
      "text/plain": [
       "  satisfaction   Customer Type  Age   Type of Travel     Class  \\\n",
       "0    satisfied  Loyal Customer   65  Personal Travel       Eco   \n",
       "1    satisfied  Loyal Customer   47  Personal Travel  Business   \n",
       "2    satisfied  Loyal Customer   15  Personal Travel       Eco   \n",
       "3    satisfied  Loyal Customer   60  Personal Travel       Eco   \n",
       "4    satisfied  Loyal Customer   70  Personal Travel       Eco   \n",
       "5    satisfied  Loyal Customer   30  Personal Travel       Eco   \n",
       "6    satisfied  Loyal Customer   66  Personal Travel       Eco   \n",
       "7    satisfied  Loyal Customer   10  Personal Travel       Eco   \n",
       "8    satisfied  Loyal Customer   56  Personal Travel  Business   \n",
       "9    satisfied  Loyal Customer   22  Personal Travel       Eco   \n",
       "\n",
       "   Flight Distance  Seat comfort  Departure/Arrival time convenient  \\\n",
       "0              265             0                                  0   \n",
       "1             2464             0                                  0   \n",
       "2             2138             0                                  0   \n",
       "3              623             0                                  0   \n",
       "4              354             0                                  0   \n",
       "5             1894             0                                  0   \n",
       "6              227             0                                  0   \n",
       "7             1812             0                                  0   \n",
       "8               73             0                                  0   \n",
       "9             1556             0                                  0   \n",
       "\n",
       "   Food and drink  Gate location  ...  Online support  Ease of Online booking  \\\n",
       "0               0              2  ...               2                       3   \n",
       "1               0              3  ...               2                       3   \n",
       "2               0              3  ...               2                       2   \n",
       "3               0              3  ...               3                       1   \n",
       "4               0              3  ...               4                       2   \n",
       "5               0              3  ...               2                       2   \n",
       "6               0              3  ...               5                       5   \n",
       "7               0              3  ...               2                       2   \n",
       "8               0              3  ...               5                       4   \n",
       "9               0              3  ...               2                       2   \n",
       "\n",
       "   On-board service  Leg room service  Baggage handling  Checkin service  \\\n",
       "0                 3                 0                 3                5   \n",
       "1                 4                 4                 4                2   \n",
       "2                 3                 3                 4                4   \n",
       "3                 1                 0                 1                4   \n",
       "4                 2                 0                 2                4   \n",
       "5                 5                 4                 5                5   \n",
       "6                 5                 0                 5                5   \n",
       "7                 3                 3                 4                5   \n",
       "8                 4                 0                 1                5   \n",
       "9                 2                 4                 5                3   \n",
       "\n",
       "   Cleanliness  Online boarding  Departure Delay in Minutes  \\\n",
       "0            3                2                           0   \n",
       "1            3                2                         310   \n",
       "2            4                2                           0   \n",
       "3            1                3                           0   \n",
       "4            2                5                           0   \n",
       "5            4                2                           0   \n",
       "6            5                3                          17   \n",
       "7            4                2                           0   \n",
       "8            4                4                           0   \n",
       "9            4                2                          30   \n",
       "\n",
       "   Arrival Delay in Minutes  \n",
       "0                       0.0  \n",
       "1                     305.0  \n",
       "2                       0.0  \n",
       "3                       0.0  \n",
       "4                       0.0  \n",
       "5                       0.0  \n",
       "6                      15.0  \n",
       "7                       0.0  \n",
       "8                       0.0  \n",
       "9                      26.0  \n",
       "\n",
       "[10 rows x 22 columns]"
      ]
     },
     "execution_count": 3,
     "metadata": {},
     "output_type": "execute_result"
    }
   ],
   "source": [
    "# Display the first ten rows of data.\n",
    "\n",
    "### YOUR CODE HERE ###\n",
    "airline_data.head(10)"
   ]
  },
  {
   "cell_type": "markdown",
   "id": "00164d36",
   "metadata": {
    "id": "ADuU5IWb04cu",
    "papermill": {
     "duration": 0.015321,
     "end_time": "2025-02-16T03:33:48.307710",
     "exception": false,
     "start_time": "2025-02-16T03:33:48.292389",
     "status": "completed"
    },
    "tags": []
   },
   "source": [
    "### Display the data type for each column\n",
    "\n",
    "Next, observe the types of data present within this dataset."
   ]
  },
  {
   "cell_type": "code",
   "execution_count": 4,
   "id": "cbb6d746",
   "metadata": {
    "execution": {
     "iopub.execute_input": "2025-02-16T03:33:48.340067Z",
     "iopub.status.busy": "2025-02-16T03:33:48.339695Z",
     "iopub.status.idle": "2025-02-16T03:33:48.347553Z",
     "shell.execute_reply": "2025-02-16T03:33:48.346387Z"
    },
    "id": "ABDz9TMu04cv",
    "papermill": {
     "duration": 0.026183,
     "end_time": "2025-02-16T03:33:48.349428",
     "exception": false,
     "start_time": "2025-02-16T03:33:48.323245",
     "status": "completed"
    },
    "tags": []
   },
   "outputs": [
    {
     "data": {
      "text/plain": [
       "satisfaction                          object\n",
       "Customer Type                         object\n",
       "Age                                    int64\n",
       "Type of Travel                        object\n",
       "Class                                 object\n",
       "Flight Distance                        int64\n",
       "Seat comfort                           int64\n",
       "Departure/Arrival time convenient      int64\n",
       "Food and drink                         int64\n",
       "Gate location                          int64\n",
       "Inflight wifi service                  int64\n",
       "Inflight entertainment                 int64\n",
       "Online support                         int64\n",
       "Ease of Online booking                 int64\n",
       "On-board service                       int64\n",
       "Leg room service                       int64\n",
       "Baggage handling                       int64\n",
       "Checkin service                        int64\n",
       "Cleanliness                            int64\n",
       "Online boarding                        int64\n",
       "Departure Delay in Minutes             int64\n",
       "Arrival Delay in Minutes             float64\n",
       "dtype: object"
      ]
     },
     "execution_count": 4,
     "metadata": {},
     "output_type": "execute_result"
    }
   ],
   "source": [
    "# Display the data type for each column in your DataFrame.\n",
    "\n",
    "### YOUR CODE HERE ###\n",
    "airline_data.dtypes"
   ]
  },
  {
   "cell_type": "markdown",
   "id": "2a6c0b36",
   "metadata": {
    "id": "CzQNmlZ75e_Y",
    "papermill": {
     "duration": 0.015274,
     "end_time": "2025-02-16T03:33:48.380550",
     "exception": false,
     "start_time": "2025-02-16T03:33:48.365276",
     "status": "completed"
    },
    "tags": []
   },
   "source": [
    "<details>\n",
    "<summary><h4><strong>Hint 1</strong></h4></summary>\n",
    "\n",
    "Recall the methods for exploring DataFrames.\n",
    "</details>"
   ]
  },
  {
   "cell_type": "markdown",
   "id": "0bdd3d8a",
   "metadata": {
    "id": "WWXkObsg5gzd",
    "papermill": {
     "duration": 0.015069,
     "end_time": "2025-02-16T03:33:48.411315",
     "exception": false,
     "start_time": "2025-02-16T03:33:48.396246",
     "status": "completed"
    },
    "tags": []
   },
   "source": [
    "<details>\n",
    "<summary><h4><strong>Hint 2</strong></h4></summary>\n",
    "\n",
    "Recall a property of a `pandas` DataFrame that allows you to view the data type for each column.</details>"
   ]
  },
  {
   "cell_type": "markdown",
   "id": "b1affa0d",
   "metadata": {
    "id": "JU9z6ufC5n58",
    "papermill": {
     "duration": 0.015334,
     "end_time": "2025-02-16T03:33:48.442222",
     "exception": false,
     "start_time": "2025-02-16T03:33:48.426888",
     "status": "completed"
    },
    "tags": []
   },
   "source": [
    "<details>\n",
    "<summary><h4><strong>Hint 3</strong></h4></summary>\n",
    "\n",
    "Call `.dtypes` on your DataFrame `airline_data` to view the data type of each column.</details>"
   ]
  },
  {
   "cell_type": "markdown",
   "id": "3c5ad43e",
   "metadata": {
    "id": "Albdy39HZwQT",
    "papermill": {
     "duration": 0.015212,
     "end_time": "2025-02-16T03:33:48.473320",
     "exception": false,
     "start_time": "2025-02-16T03:33:48.458108",
     "status": "completed"
    },
    "tags": []
   },
   "source": [
    "**Question:** Identify the target (or predicted) variable for passenger satisfaction. What is your initial hypothesis about which variables will be valuable in predicting satisfaction?"
   ]
  },
  {
   "cell_type": "markdown",
   "id": "a4d344dd",
   "metadata": {
    "id": "ymp_LP1bVz-q",
    "papermill": {
     "duration": 0.015345,
     "end_time": "2025-02-16T03:33:48.504011",
     "exception": false,
     "start_time": "2025-02-16T03:33:48.488666",
     "status": "completed"
    },
    "tags": []
   },
   "source": [
    "* satisfaction --> target variable\n",
    "* any variable that improves or detracts the experience of a customer is crucial. For example, in general, Cleanliness, Arrival Delay in Minutes, Seat comfort, Inflight entertainment seems to impact the satisfaction of the customers"
   ]
  },
  {
   "cell_type": "markdown",
   "id": "537775b9",
   "metadata": {
    "id": "4zz8claq0Swi",
    "papermill": {
     "duration": 0.081731,
     "end_time": "2025-02-16T03:33:48.601585",
     "exception": false,
     "start_time": "2025-02-16T03:33:48.519854",
     "status": "completed"
    },
    "tags": []
   },
   "source": [
    "## Step 2: Model preparation\n",
    "\n",
    "Before you proceed with modeling, consider which metrics you will ultimately want to leverage to evaluate your model."
   ]
  },
  {
   "cell_type": "markdown",
   "id": "fbc1ca5b",
   "metadata": {
    "id": "qZkWks-m04cx",
    "papermill": {
     "duration": 0.019239,
     "end_time": "2025-02-16T03:33:48.640517",
     "exception": false,
     "start_time": "2025-02-16T03:33:48.621278",
     "status": "completed"
    },
    "tags": []
   },
   "source": [
    "**Question:** Which metrics are most suited to evaluating this type of model?"
   ]
  },
  {
   "cell_type": "markdown",
   "id": "2a5d6490",
   "metadata": {
    "id": "tWVDNggPeeiE",
    "papermill": {
     "duration": 0.015728,
     "end_time": "2025-02-16T03:33:48.671957",
     "exception": false,
     "start_time": "2025-02-16T03:33:48.656229",
     "status": "completed"
    },
    "tags": []
   },
   "source": [
    "* since it is classification --> Accuracy, precision, recall and f1 score\n",
    "* ROC AUC can also be helpful if used"
   ]
  },
  {
   "cell_type": "markdown",
   "id": "acb87173",
   "metadata": {
    "id": "8kgPx_MP0cuc",
    "papermill": {
     "duration": 0.015805,
     "end_time": "2025-02-16T03:33:48.703412",
     "exception": false,
     "start_time": "2025-02-16T03:33:48.687607",
     "status": "completed"
    },
    "tags": []
   },
   "source": [
    "### Prepare your data for predictions\n",
    "\n",
    "You may have noticed when previewing your data that there are several non-numerical variables (`object` data types) within the dataset.\n",
    "\n",
    "To prepare this DataFrame for modeling, first convert these variables into a numerical format."
   ]
  },
  {
   "cell_type": "code",
   "execution_count": 5,
   "id": "76ecc6fc",
   "metadata": {
    "execution": {
     "iopub.execute_input": "2025-02-16T03:33:48.757887Z",
     "iopub.status.busy": "2025-02-16T03:33:48.756987Z",
     "iopub.status.idle": "2025-02-16T03:33:48.844240Z",
     "shell.execute_reply": "2025-02-16T03:33:48.843220Z"
    },
    "id": "03d00d56",
    "papermill": {
     "duration": 0.120719,
     "end_time": "2025-02-16T03:33:48.846728",
     "exception": false,
     "start_time": "2025-02-16T03:33:48.726009",
     "status": "completed"
    },
    "tags": []
   },
   "outputs": [],
   "source": [
    "# Convert the object predictor variables to numerical dummies.\n",
    "\n",
    "### YOUR CODE HERE ###\n",
    "airline_data_dummies = pd.get_dummies(airline_data, columns=['satisfaction','Customer Type','Type of Travel','Class'])"
   ]
  },
  {
   "cell_type": "markdown",
   "id": "65bc1998",
   "metadata": {
    "id": "tlxKL4az04cy",
    "papermill": {
     "duration": 0.021355,
     "end_time": "2025-02-16T03:33:48.891118",
     "exception": false,
     "start_time": "2025-02-16T03:33:48.869763",
     "status": "completed"
    },
    "tags": []
   },
   "source": [
    "<details>\n",
    "<summary><h4><strong>Hint 1</strong></h4></summary>\n",
    "\n",
    "Refer to [the content about feature engineering](https://www.coursera.org/learn/the-nuts-and-bolts-of-machine-learning/lecture/5mEqu/introduction-to-feature-engineering).\n",
    "</details>"
   ]
  },
  {
   "cell_type": "markdown",
   "id": "bb7a9fa6",
   "metadata": {
    "id": "diCw9tRr04cy",
    "papermill": {
     "duration": 0.015671,
     "end_time": "2025-02-16T03:33:48.926132",
     "exception": false,
     "start_time": "2025-02-16T03:33:48.910461",
     "status": "completed"
    },
    "tags": []
   },
   "source": [
    "<details>\n",
    "<summary><h4><strong>Hint 2</strong></h4></summary>\n",
    "\n",
    "Use the `pandas` function for transforming categorical data into \"dummy\" variables.</details>"
   ]
  },
  {
   "cell_type": "markdown",
   "id": "123645f8",
   "metadata": {
    "id": "1yE00Fex04cy",
    "papermill": {
     "duration": 0.015849,
     "end_time": "2025-02-16T03:33:48.958125",
     "exception": false,
     "start_time": "2025-02-16T03:33:48.942276",
     "status": "completed"
    },
    "tags": []
   },
   "source": [
    "<details>\n",
    "<summary><h4><strong>Hint 3</strong></h4></summary>\n",
    "\n",
    "Use the `get_dummies()` function on your DataFrame `airline_data` to create dummies for the categorical variables in your dataset. Note that your target variable will also need this treatment.</details>"
   ]
  },
  {
   "cell_type": "markdown",
   "id": "4ca4fa4f",
   "metadata": {
    "id": "FbDWO7ai04cy",
    "papermill": {
     "duration": 0.015379,
     "end_time": "2025-02-16T03:33:48.989355",
     "exception": false,
     "start_time": "2025-02-16T03:33:48.973976",
     "status": "completed"
    },
    "tags": []
   },
   "source": [
    "### Isolate your target and predictor variables\n",
    "Separately define the target variable (`satisfaction`) and the features."
   ]
  },
  {
   "cell_type": "code",
   "execution_count": 6,
   "id": "74f0d4e1",
   "metadata": {
    "execution": {
     "iopub.execute_input": "2025-02-16T03:33:49.023042Z",
     "iopub.status.busy": "2025-02-16T03:33:49.022644Z",
     "iopub.status.idle": "2025-02-16T03:33:49.033074Z",
     "shell.execute_reply": "2025-02-16T03:33:49.031926Z"
    },
    "id": "xO46EzS8oBIG",
    "papermill": {
     "duration": 0.029401,
     "end_time": "2025-02-16T03:33:49.035175",
     "exception": false,
     "start_time": "2025-02-16T03:33:49.005774",
     "status": "completed"
    },
    "tags": []
   },
   "outputs": [],
   "source": [
    "# Define the y (target) variable.\n",
    "\n",
    "### YOUR CODE HERE ###\n",
    "y = airline_data_dummies['satisfaction_satisfied']\n",
    "\n",
    "\n",
    "# Define the X (predictor) variables.\n",
    "\n",
    "### YOUR CODE HERE ###\n",
    "X = airline_data_dummies.drop(['satisfaction_satisfied','satisfaction_dissatisfied'], axis = 1)"
   ]
  },
  {
   "cell_type": "markdown",
   "id": "a0a75d2d",
   "metadata": {
    "id": "-SiBf2fH04cz",
    "papermill": {
     "duration": 0.015682,
     "end_time": "2025-02-16T03:33:49.066568",
     "exception": false,
     "start_time": "2025-02-16T03:33:49.050886",
     "status": "completed"
    },
    "tags": []
   },
   "source": [
    "<details>\n",
    "<summary><h4><strong>Hint 1</strong></h4></summary>\n",
    "\n",
    "Refer to [the content about splitting your data into x and y](https://www.coursera.org/learn/the-nuts-and-bolts-of-machine-learning/lecture/ozK9K/build-a-decision-tree-with-python).\n",
    "</details>"
   ]
  },
  {
   "cell_type": "markdown",
   "id": "6cb9ee5a",
   "metadata": {
    "id": "5fISCsPN04cz",
    "papermill": {
     "duration": 0.015793,
     "end_time": "2025-02-16T03:33:49.098992",
     "exception": false,
     "start_time": "2025-02-16T03:33:49.083199",
     "status": "completed"
    },
    "tags": []
   },
   "source": [
    "<details>\n",
    "<summary><h4><strong>Hint 2</strong></h4></summary>\n",
    "\n",
    "In `pandas`, use square brackets `[]` to subset your DataFrame by specifying which column(s) to select. Also, quickly subset a DataFrame to exclude a particular column by using the `drop()` function and specifying the column to drop.\n",
    "</details>"
   ]
  },
  {
   "cell_type": "markdown",
   "id": "906caecd",
   "metadata": {
    "id": "frf-kwtY04cz",
    "papermill": {
     "duration": 0.015307,
     "end_time": "2025-02-16T03:33:49.129996",
     "exception": false,
     "start_time": "2025-02-16T03:33:49.114689",
     "status": "completed"
    },
    "tags": []
   },
   "source": [
    "<details>\n",
    "<summary><h4><strong>Hint 3</strong></h4></summary>\n",
    "\n",
    "In this case, your target variable was split into two columns from the dummy split. Be sure to include only the column which assigns a positive (i.e., \"satisfied\") outcome as 1.\n",
    "</details>"
   ]
  },
  {
   "cell_type": "markdown",
   "id": "ee714d1f",
   "metadata": {
    "id": "cQ-wo4UOoBII",
    "papermill": {
     "duration": 0.015304,
     "end_time": "2025-02-16T03:33:49.161126",
     "exception": false,
     "start_time": "2025-02-16T03:33:49.145822",
     "status": "completed"
    },
    "tags": []
   },
   "source": [
    "### Divide your data \n",
    "\n",
    "Divide your data into a training set (75% of the data) and test set (25% of the data). This is an important step in the process, as it allows you to reserve a part of the data that the model has not used to test how well the model generalizes (or performs) on new data."
   ]
  },
  {
   "cell_type": "code",
   "execution_count": 7,
   "id": "0aa8b436",
   "metadata": {
    "execution": {
     "iopub.execute_input": "2025-02-16T03:33:49.194753Z",
     "iopub.status.busy": "2025-02-16T03:33:49.194330Z",
     "iopub.status.idle": "2025-02-16T03:33:49.232998Z",
     "shell.execute_reply": "2025-02-16T03:33:49.231795Z"
    },
    "id": "pO2AdPR7oBIJ",
    "papermill": {
     "duration": 0.05759,
     "end_time": "2025-02-16T03:33:49.234903",
     "exception": false,
     "start_time": "2025-02-16T03:33:49.177313",
     "status": "completed"
    },
    "tags": []
   },
   "outputs": [],
   "source": [
    "# Perform the split operation on your data.\n",
    "# Assign the outputs as follows: X_train, X_test, y_train, y_test.\n",
    "\n",
    "### YOUR CODE HERE ###\n",
    "X_train, X_test, y_train, y_test = train_test_split(X, y, test_size = 0.25, random_state = 0)"
   ]
  },
  {
   "cell_type": "markdown",
   "id": "f0f14b61",
   "metadata": {
    "id": "DgY9icEY2mKn",
    "papermill": {
     "duration": 0.015696,
     "end_time": "2025-02-16T03:33:49.266514",
     "exception": false,
     "start_time": "2025-02-16T03:33:49.250818",
     "status": "completed"
    },
    "tags": []
   },
   "source": [
    "<details>\n",
    "<summary><h4><strong>Hint 1</strong></h4></summary>\n",
    "\n",
    "Refer to [the content about splitting your data between a training and test set](https://www.coursera.org/learn/the-nuts-and-bolts-of-machine-learning/lecture/ozK9K/build-a-decision-tree-with-python).\n",
    "</details>"
   ]
  },
  {
   "cell_type": "markdown",
   "id": "a54aace4",
   "metadata": {
    "id": "pUmzKZUU2mKp",
    "papermill": {
     "duration": 0.015761,
     "end_time": "2025-02-16T03:33:49.298046",
     "exception": false,
     "start_time": "2025-02-16T03:33:49.282285",
     "status": "completed"
    },
    "tags": []
   },
   "source": [
    "<details>\n",
    "<summary><h4><strong>Hint 2</strong></h4></summary>\n",
    "\n",
    "To perform the splitting, call the function in the `model_selection` module of `sklearn` on the features and target variable.\n",
    "</details>"
   ]
  },
  {
   "cell_type": "markdown",
   "id": "de4c60a7",
   "metadata": {
    "id": "ORy1MNR62mKq",
    "papermill": {
     "duration": 0.015554,
     "end_time": "2025-02-16T03:33:49.329546",
     "exception": false,
     "start_time": "2025-02-16T03:33:49.313992",
     "status": "completed"
    },
    "tags": []
   },
   "source": [
    "<details>\n",
    "<summary><h4><strong>Hint 3</strong></h4></summary>\n",
    "\n",
    "Call the `train_test_split()` function, passing in both `features` and `target`, while configuring the appropriate `test_size`. Assign the output of this split as `X_train`, `X_test`, `y_train`, `y_test`.\n",
    "</details>"
   ]
  },
  {
   "cell_type": "markdown",
   "id": "49d9cd9a",
   "metadata": {
    "id": "MY0rAjlZAheh",
    "papermill": {
     "duration": 0.016116,
     "end_time": "2025-02-16T03:33:49.362099",
     "exception": false,
     "start_time": "2025-02-16T03:33:49.345983",
     "status": "completed"
    },
    "tags": []
   },
   "source": [
    "## Step 3: Model building"
   ]
  },
  {
   "cell_type": "markdown",
   "id": "6113efdd",
   "metadata": {
    "id": "v6VpTiBeGvyO",
    "papermill": {
     "duration": 0.01593,
     "end_time": "2025-02-16T03:33:49.393717",
     "exception": false,
     "start_time": "2025-02-16T03:33:49.377787",
     "status": "completed"
    },
    "tags": []
   },
   "source": [
    "### \"Instantiate\" your XGBClassifer\n",
    "\n",
    "Before you fit your model to your airline dataset, first create the XGB Classifier model and define its objective. You'll use this model to fit and score different hyperparameters during the GridSearch cross-validation process."
   ]
  },
  {
   "cell_type": "code",
   "execution_count": 8,
   "id": "440d6357",
   "metadata": {
    "execution": {
     "iopub.execute_input": "2025-02-16T03:33:49.428035Z",
     "iopub.status.busy": "2025-02-16T03:33:49.427637Z",
     "iopub.status.idle": "2025-02-16T03:33:49.432081Z",
     "shell.execute_reply": "2025-02-16T03:33:49.431019Z"
    },
    "id": "IV1ISYSA04c0",
    "papermill": {
     "duration": 0.023595,
     "end_time": "2025-02-16T03:33:49.433882",
     "exception": false,
     "start_time": "2025-02-16T03:33:49.410287",
     "status": "completed"
    },
    "tags": []
   },
   "outputs": [],
   "source": [
    "# Define xgb to be your XGBClassifier.\n",
    "\n",
    "### YOUR CODE HERE ###\n",
    "xgb = XGBClassifier(objective='binary:logistic', random_state=0)"
   ]
  },
  {
   "cell_type": "markdown",
   "id": "0ee188de",
   "metadata": {
    "id": "GkPZLxYU04c0",
    "papermill": {
     "duration": 0.015648,
     "end_time": "2025-02-16T03:33:49.465431",
     "exception": false,
     "start_time": "2025-02-16T03:33:49.449783",
     "status": "completed"
    },
    "tags": []
   },
   "source": [
    "<details>\n",
    "<summary><h4><strong>Hint 1</strong></h4></summary>\n",
    "\n",
    "Refer to [the content about constructing a classifier model from `xgboost`](https://www.coursera.org/learn/the-nuts-and-bolts-of-machine-learning/lecture/njRAP/build-an-xgboost-model-with-python).</details>"
   ]
  },
  {
   "cell_type": "markdown",
   "id": "8a393589",
   "metadata": {
    "id": "p9C5xlEx04c0",
    "papermill": {
     "duration": 0.01562,
     "end_time": "2025-02-16T03:33:49.496879",
     "exception": false,
     "start_time": "2025-02-16T03:33:49.481259",
     "status": "completed"
    },
    "tags": []
   },
   "source": [
    "<details>\n",
    "<summary><h4><strong>Hint 2</strong></h4></summary>\n",
    "\n",
    "Note that the target variable in this case is a binary variable. </details>"
   ]
  },
  {
   "cell_type": "markdown",
   "id": "3bfad801",
   "metadata": {
    "id": "owKHj88104c1",
    "papermill": {
     "duration": 0.016108,
     "end_time": "2025-02-16T03:33:49.528743",
     "exception": false,
     "start_time": "2025-02-16T03:33:49.512635",
     "status": "completed"
    },
    "tags": []
   },
   "source": [
    "<details>\n",
    "<summary><h4><strong>Hint 3</strong></h4></summary>\n",
    "\n",
    "Use the `XGBClassifier()` from `xgboost`. Set the objective as `binary:logistic`.\n",
    "</details>"
   ]
  },
  {
   "cell_type": "markdown",
   "id": "edaef372",
   "metadata": {
    "id": "M7kUCHb504c1",
    "papermill": {
     "duration": 0.015925,
     "end_time": "2025-02-16T03:33:49.560233",
     "exception": false,
     "start_time": "2025-02-16T03:33:49.544308",
     "status": "completed"
    },
    "tags": []
   },
   "source": [
    "### Define the parameters for hyperparameter tuning\n",
    "\n",
    "To identify suitable parameters for your `xgboost` model, first define the parameters for hyperparameter tuning. Specifically, consider tuning `max_depth`, `min_child_weight`, `learning_rate`, `n_estimators`, `subsample`, and/or `colsample_bytree`.\n",
    "\n",
    "Consider a more limited range for each hyperparameter to allow for timely iteration and model training. For example, using a single possible value for each of the six hyperparameters listed above will take approximately one minute to run on this platform.\n",
    "\n",
    "```\n",
    "{\n",
    "    'max_depth': [4],\n",
    "    'min_child_weight': [3],\n",
    "    'learning_rate': [0.1],\n",
    "    'n_estimators': [5],\n",
    "    'subsample': [0.7],\n",
    "    'colsample_bytree': [0.7]\n",
    "}\n",
    "```\n",
    "\n",
    "If you add just one new option, for example by changing `max_depth: [4]` to `max_depth: [3, 6]`, and keep everything else the same, you can expect the run time to approximately double. If you use two possibilities for each hyperparameter, the run time would extend to ~1 hour. \n",
    "         "
   ]
  },
  {
   "cell_type": "code",
   "execution_count": 9,
   "id": "ae24a447",
   "metadata": {
    "execution": {
     "iopub.execute_input": "2025-02-16T03:33:49.594077Z",
     "iopub.status.busy": "2025-02-16T03:33:49.593348Z",
     "iopub.status.idle": "2025-02-16T03:33:49.598970Z",
     "shell.execute_reply": "2025-02-16T03:33:49.597841Z"
    },
    "id": "JjO_QnJz04c1",
    "papermill": {
     "duration": 0.02492,
     "end_time": "2025-02-16T03:33:49.601030",
     "exception": false,
     "start_time": "2025-02-16T03:33:49.576110",
     "status": "completed"
    },
    "tags": []
   },
   "outputs": [],
   "source": [
    "# Define parameters for tuning as `cv_params`.\n",
    "\n",
    "### YOUR CODE HERE ###\n",
    "# cv_params = {'max_depth': [4, 6],\n",
    "#               'min_child_weight': [3, 5],\n",
    "#               'learning_rate': [0.1, 0.2, 0.3],\n",
    "#               'n_estimators': [5,10,15],\n",
    "#               'subsample': [0.7],\n",
    "#               'colsample_bytree': [0.7]\n",
    "#               }\n",
    "\n",
    "\n",
    "cv_params = {'max_depth': [6],\n",
    "             'min_child_weight': [5],\n",
    "             'learning_rate': [0.3],\n",
    "             'n_estimators': [15],\n",
    "             'subsample': [0.7],\n",
    "             'colsample_bytree': [0.7]\n",
    "               }"
   ]
  },
  {
   "cell_type": "markdown",
   "id": "c3e0142e",
   "metadata": {
    "id": "Kw9awgVE04c1",
    "papermill": {
     "duration": 0.015987,
     "end_time": "2025-02-16T03:33:49.632922",
     "exception": false,
     "start_time": "2025-02-16T03:33:49.616935",
     "status": "completed"
    },
    "tags": []
   },
   "source": [
    "<details>\n",
    "<summary><h4><strong>Hint 1</strong></h4></summary>\n",
    "\n",
    "Refer to [the content about hyperparameter tuning using GridSearch cross-validation](https://www.coursera.org/learn/the-nuts-and-bolts-of-machine-learning/lecture/afopk/tune-a-decision-tree).</details>"
   ]
  },
  {
   "cell_type": "markdown",
   "id": "23809fed",
   "metadata": {
    "id": "atDAefeG04c1",
    "papermill": {
     "duration": 0.016331,
     "end_time": "2025-02-16T03:33:49.665137",
     "exception": false,
     "start_time": "2025-02-16T03:33:49.648806",
     "status": "completed"
    },
    "tags": []
   },
   "source": [
    "<details>\n",
    "<summary><h4><strong>Hint 2</strong></h4></summary>\n",
    "\n",
    "Consider a range of values for each parameter, similar to what you observed in the lesson. </details>"
   ]
  },
  {
   "cell_type": "markdown",
   "id": "cedd15da",
   "metadata": {
    "id": "_zzXqOgf04c1",
    "papermill": {
     "duration": 0.015545,
     "end_time": "2025-02-16T03:33:49.697030",
     "exception": false,
     "start_time": "2025-02-16T03:33:49.681485",
     "status": "completed"
    },
    "tags": []
   },
   "source": [
    "<details>\n",
    "<summary><h4><strong>Hint 3</strong></h4></summary>\n",
    "\n",
    "Define these parameters using a Python dictionary in the following format: `{'parameter1': [range,of,values]}`</details>"
   ]
  },
  {
   "cell_type": "markdown",
   "id": "bd14c042",
   "metadata": {
    "id": "7LA1VKyV04c2",
    "papermill": {
     "duration": 0.019628,
     "end_time": "2025-02-16T03:33:49.732301",
     "exception": false,
     "start_time": "2025-02-16T03:33:49.712673",
     "status": "completed"
    },
    "tags": []
   },
   "source": [
    "**Question:** What is the likely effect of adding more estimators to your GridSearch?"
   ]
  },
  {
   "cell_type": "markdown",
   "id": "d8989e1e",
   "metadata": {
    "id": "vuIY2Or4ZV_I",
    "papermill": {
     "duration": 0.022049,
     "end_time": "2025-02-16T03:33:49.776089",
     "exception": false,
     "start_time": "2025-02-16T03:33:49.754040",
     "status": "completed"
    },
    "tags": []
   },
   "source": [
    "* training time and computation will increase\n",
    "* model complexity will increase\n",
    "* model will be more prone to overfitting"
   ]
  },
  {
   "cell_type": "markdown",
   "id": "fd0408bc",
   "metadata": {
    "id": "wX7X5kVN04c2",
    "papermill": {
     "duration": 0.016215,
     "end_time": "2025-02-16T03:33:49.809260",
     "exception": false,
     "start_time": "2025-02-16T03:33:49.793045",
     "status": "completed"
    },
    "tags": []
   },
   "source": [
    "### Define how the models will be evaluated\n",
    "\n",
    "Define how the models will be evaluated for hyperparameter tuning. To yield the best understanding of model performance, utilize a suite of metrics."
   ]
  },
  {
   "cell_type": "code",
   "execution_count": 10,
   "id": "9a3028b2",
   "metadata": {
    "execution": {
     "iopub.execute_input": "2025-02-16T03:33:49.844556Z",
     "iopub.status.busy": "2025-02-16T03:33:49.844018Z",
     "iopub.status.idle": "2025-02-16T03:33:49.849389Z",
     "shell.execute_reply": "2025-02-16T03:33:49.848100Z"
    },
    "id": "orCI7GMj04c2",
    "papermill": {
     "duration": 0.025151,
     "end_time": "2025-02-16T03:33:49.851410",
     "exception": false,
     "start_time": "2025-02-16T03:33:49.826259",
     "status": "completed"
    },
    "tags": []
   },
   "outputs": [],
   "source": [
    "# Define your criteria as `scoring`.\n",
    "\n",
    "### YOUR CODE HERE ###\n",
    "scoring = {'accuracy', 'precision', 'recall', 'f1'}"
   ]
  },
  {
   "cell_type": "markdown",
   "id": "408461cb",
   "metadata": {
    "id": "4P1-imU504c2",
    "papermill": {
     "duration": 0.016,
     "end_time": "2025-02-16T03:33:49.889996",
     "exception": false,
     "start_time": "2025-02-16T03:33:49.873996",
     "status": "completed"
    },
    "tags": []
   },
   "source": [
    "<details>\n",
    "<summary><h4><strong>Hint 1</strong></h4></summary>\n",
    "\n",
    "Recall what you've learned about [using metric evaluation](https://www.coursera.org/learn/the-nuts-and-bolts-of-machine-learning/lecture/afopk/tune-a-decision-tree) to determine the metrics you include.</details>"
   ]
  },
  {
   "cell_type": "markdown",
   "id": "10004c06",
   "metadata": {
    "id": "ZpqJc3aM04c2",
    "papermill": {
     "duration": 0.019178,
     "end_time": "2025-02-16T03:33:49.928243",
     "exception": false,
     "start_time": "2025-02-16T03:33:49.909065",
     "status": "completed"
    },
    "tags": []
   },
   "source": [
    "<details>\n",
    "<summary><h4><strong>Hint 2</strong></h4></summary>\n",
    "\n",
    "Consider what you've learned about the limitations of only including a single metric, such as `accuracy`. </details>"
   ]
  },
  {
   "cell_type": "markdown",
   "id": "df9237d4",
   "metadata": {
    "id": "9_SLHKSR04c2",
    "papermill": {
     "duration": 0.015787,
     "end_time": "2025-02-16T03:33:49.960749",
     "exception": false,
     "start_time": "2025-02-16T03:33:49.944962",
     "status": "completed"
    },
    "tags": []
   },
   "source": [
    "<details>\n",
    "<summary><h4><strong>Hint 3</strong></h4></summary>\n",
    "\n",
    "Define metrics which balance the false positives and false negatives in binary classification problems."
   ]
  },
  {
   "cell_type": "markdown",
   "id": "c1f3571d",
   "metadata": {
    "id": "BeAqRwg704c2",
    "papermill": {
     "duration": 0.015965,
     "end_time": "2025-02-16T03:33:49.992879",
     "exception": false,
     "start_time": "2025-02-16T03:33:49.976914",
     "status": "completed"
    },
    "tags": []
   },
   "source": [
    "### Construct the GridSearch cross-validation \n",
    "\n",
    "Construct the GridSearch cross-validation using the model, parameters, and scoring metrics you defined. Additionally, define the number of folds and specify *which metric* from above will guide the refit strategy."
   ]
  },
  {
   "cell_type": "code",
   "execution_count": 11,
   "id": "dc00d7bc",
   "metadata": {
    "execution": {
     "iopub.execute_input": "2025-02-16T03:33:50.028859Z",
     "iopub.status.busy": "2025-02-16T03:33:50.028318Z",
     "iopub.status.idle": "2025-02-16T03:33:50.033933Z",
     "shell.execute_reply": "2025-02-16T03:33:50.032695Z"
    },
    "id": "bu_GHb2N04c3",
    "papermill": {
     "duration": 0.026461,
     "end_time": "2025-02-16T03:33:50.036213",
     "exception": false,
     "start_time": "2025-02-16T03:33:50.009752",
     "status": "completed"
    },
    "tags": []
   },
   "outputs": [],
   "source": [
    "# Construct your GridSearch.\n",
    "\n",
    "### YOUR CODE HERE ###\n",
    "xgb_cv = GridSearchCV(xgb,\n",
    "                      cv_params,\n",
    "                      scoring = scoring,\n",
    "                      cv = 5,\n",
    "                      refit = 'f1'\n",
    "                     )"
   ]
  },
  {
   "cell_type": "markdown",
   "id": "6a1a5a05",
   "metadata": {
    "id": "FopWeHuF04c3",
    "papermill": {
     "duration": 0.023093,
     "end_time": "2025-02-16T03:33:50.076206",
     "exception": false,
     "start_time": "2025-02-16T03:33:50.053113",
     "status": "completed"
    },
    "tags": []
   },
   "source": [
    "<details>\n",
    "<summary><h4><strong>Hint 1</strong></h4></summary>\n",
    "\n",
    "Recall what you've learned about constructing a GridSearch for [cross-validation](https://www.coursera.org/learn/the-nuts-and-bolts-of-machine-learning/lecture/W4vAW/verify-performance-using-validation).</details>"
   ]
  },
  {
   "cell_type": "markdown",
   "id": "df40254c",
   "metadata": {
    "id": "DEGQZkPr04c3",
    "papermill": {
     "duration": 0.016703,
     "end_time": "2025-02-16T03:33:50.113852",
     "exception": false,
     "start_time": "2025-02-16T03:33:50.097149",
     "status": "completed"
    },
    "tags": []
   },
   "source": [
    "<details>\n",
    "<summary><h4><strong>Hint 2</strong></h4></summary>\n",
    "\n",
    "Balance the time spent on validation with the number of folds you choose. </details>"
   ]
  },
  {
   "cell_type": "markdown",
   "id": "13ffb3cb",
   "metadata": {
    "id": "vomsOetH04c3",
    "papermill": {
     "duration": 0.0178,
     "end_time": "2025-02-16T03:33:50.148574",
     "exception": false,
     "start_time": "2025-02-16T03:33:50.130774",
     "status": "completed"
    },
    "tags": []
   },
   "source": [
    "<details>\n",
    "<summary><h4><strong>Hint 3</strong></h4></summary>\n",
    "\n",
    "Choose the refit method which simultaneously balances false positives and false negatives."
   ]
  },
  {
   "cell_type": "markdown",
   "id": "f06b8bee",
   "metadata": {
    "id": "9K4LvKdx04c3",
    "papermill": {
     "duration": 0.017451,
     "end_time": "2025-02-16T03:33:50.182111",
     "exception": false,
     "start_time": "2025-02-16T03:33:50.164660",
     "status": "completed"
    },
    "tags": []
   },
   "source": [
    "### Fit the GridSearch model to your training data\n",
    "\n",
    "If your GridSearch takes too long, revisit the parameter ranges above and consider narrowing the range and reducing the number of estimators.\n",
    "\n",
    "**Note:** The following cell might take several minutes to run."
   ]
  },
  {
   "cell_type": "code",
   "execution_count": 12,
   "id": "6018629f",
   "metadata": {
    "execution": {
     "iopub.execute_input": "2025-02-16T03:33:50.217729Z",
     "iopub.status.busy": "2025-02-16T03:33:50.217209Z",
     "iopub.status.idle": "2025-02-16T03:33:53.801752Z",
     "shell.execute_reply": "2025-02-16T03:33:53.800402Z"
    },
    "id": "kHXvHPNW04c3",
    "papermill": {
     "duration": 3.604538,
     "end_time": "2025-02-16T03:33:53.803605",
     "exception": false,
     "start_time": "2025-02-16T03:33:50.199067",
     "status": "completed"
    },
    "tags": []
   },
   "outputs": [
    {
     "name": "stdout",
     "output_type": "stream",
     "text": [
      "CPU times: user 9.48 s, sys: 136 ms, total: 9.62 s\n",
      "Wall time: 3.55 s\n"
     ]
    },
    {
     "data": {
      "text/html": [
       "<style>#sk-container-id-1 {color: black;background-color: white;}#sk-container-id-1 pre{padding: 0;}#sk-container-id-1 div.sk-toggleable {background-color: white;}#sk-container-id-1 label.sk-toggleable__label {cursor: pointer;display: block;width: 100%;margin-bottom: 0;padding: 0.3em;box-sizing: border-box;text-align: center;}#sk-container-id-1 label.sk-toggleable__label-arrow:before {content: \"▸\";float: left;margin-right: 0.25em;color: #696969;}#sk-container-id-1 label.sk-toggleable__label-arrow:hover:before {color: black;}#sk-container-id-1 div.sk-estimator:hover label.sk-toggleable__label-arrow:before {color: black;}#sk-container-id-1 div.sk-toggleable__content {max-height: 0;max-width: 0;overflow: hidden;text-align: left;background-color: #f0f8ff;}#sk-container-id-1 div.sk-toggleable__content pre {margin: 0.2em;color: black;border-radius: 0.25em;background-color: #f0f8ff;}#sk-container-id-1 input.sk-toggleable__control:checked~div.sk-toggleable__content {max-height: 200px;max-width: 100%;overflow: auto;}#sk-container-id-1 input.sk-toggleable__control:checked~label.sk-toggleable__label-arrow:before {content: \"▾\";}#sk-container-id-1 div.sk-estimator input.sk-toggleable__control:checked~label.sk-toggleable__label {background-color: #d4ebff;}#sk-container-id-1 div.sk-label input.sk-toggleable__control:checked~label.sk-toggleable__label {background-color: #d4ebff;}#sk-container-id-1 input.sk-hidden--visually {border: 0;clip: rect(1px 1px 1px 1px);clip: rect(1px, 1px, 1px, 1px);height: 1px;margin: -1px;overflow: hidden;padding: 0;position: absolute;width: 1px;}#sk-container-id-1 div.sk-estimator {font-family: monospace;background-color: #f0f8ff;border: 1px dotted black;border-radius: 0.25em;box-sizing: border-box;margin-bottom: 0.5em;}#sk-container-id-1 div.sk-estimator:hover {background-color: #d4ebff;}#sk-container-id-1 div.sk-parallel-item::after {content: \"\";width: 100%;border-bottom: 1px solid gray;flex-grow: 1;}#sk-container-id-1 div.sk-label:hover label.sk-toggleable__label {background-color: #d4ebff;}#sk-container-id-1 div.sk-serial::before {content: \"\";position: absolute;border-left: 1px solid gray;box-sizing: border-box;top: 0;bottom: 0;left: 50%;z-index: 0;}#sk-container-id-1 div.sk-serial {display: flex;flex-direction: column;align-items: center;background-color: white;padding-right: 0.2em;padding-left: 0.2em;position: relative;}#sk-container-id-1 div.sk-item {position: relative;z-index: 1;}#sk-container-id-1 div.sk-parallel {display: flex;align-items: stretch;justify-content: center;background-color: white;position: relative;}#sk-container-id-1 div.sk-item::before, #sk-container-id-1 div.sk-parallel-item::before {content: \"\";position: absolute;border-left: 1px solid gray;box-sizing: border-box;top: 0;bottom: 0;left: 50%;z-index: -1;}#sk-container-id-1 div.sk-parallel-item {display: flex;flex-direction: column;z-index: 1;position: relative;background-color: white;}#sk-container-id-1 div.sk-parallel-item:first-child::after {align-self: flex-end;width: 50%;}#sk-container-id-1 div.sk-parallel-item:last-child::after {align-self: flex-start;width: 50%;}#sk-container-id-1 div.sk-parallel-item:only-child::after {width: 0;}#sk-container-id-1 div.sk-dashed-wrapped {border: 1px dashed gray;margin: 0 0.4em 0.5em 0.4em;box-sizing: border-box;padding-bottom: 0.4em;background-color: white;}#sk-container-id-1 div.sk-label label {font-family: monospace;font-weight: bold;display: inline-block;line-height: 1.2em;}#sk-container-id-1 div.sk-label-container {text-align: center;}#sk-container-id-1 div.sk-container {/* jupyter's `normalize.less` sets `[hidden] { display: none; }` but bootstrap.min.css set `[hidden] { display: none !important; }` so we also need the `!important` here to be able to override the default hidden behavior on the sphinx rendered scikit-learn.org. See: https://github.com/scikit-learn/scikit-learn/issues/21755 */display: inline-block !important;position: relative;}#sk-container-id-1 div.sk-text-repr-fallback {display: none;}</style><div id=\"sk-container-id-1\" class=\"sk-top-container\"><div class=\"sk-text-repr-fallback\"><pre>GridSearchCV(cv=5,\n",
       "             estimator=XGBClassifier(base_score=None, booster=None,\n",
       "                                     callbacks=None, colsample_bylevel=None,\n",
       "                                     colsample_bynode=None,\n",
       "                                     colsample_bytree=None, device=None,\n",
       "                                     early_stopping_rounds=None,\n",
       "                                     enable_categorical=False, eval_metric=None,\n",
       "                                     feature_types=None, gamma=None,\n",
       "                                     grow_policy=None, importance_type=None,\n",
       "                                     interaction_constraints=None,\n",
       "                                     learning_rate=None,...\n",
       "                                     max_leaves=None, min_child_weight=None,\n",
       "                                     missing=nan, monotone_constraints=None,\n",
       "                                     multi_strategy=None, n_estimators=None,\n",
       "                                     n_jobs=None, num_parallel_tree=None,\n",
       "                                     random_state=0, ...),\n",
       "             param_grid={&#x27;colsample_bytree&#x27;: [0.7], &#x27;learning_rate&#x27;: [0.3],\n",
       "                         &#x27;max_depth&#x27;: [6], &#x27;min_child_weight&#x27;: [5],\n",
       "                         &#x27;n_estimators&#x27;: [15], &#x27;subsample&#x27;: [0.7]},\n",
       "             refit=&#x27;f1&#x27;, scoring={&#x27;recall&#x27;, &#x27;f1&#x27;, &#x27;accuracy&#x27;, &#x27;precision&#x27;})</pre><b>In a Jupyter environment, please rerun this cell to show the HTML representation or trust the notebook. <br />On GitHub, the HTML representation is unable to render, please try loading this page with nbviewer.org.</b></div><div class=\"sk-container\" hidden><div class=\"sk-item sk-dashed-wrapped\"><div class=\"sk-label-container\"><div class=\"sk-label sk-toggleable\"><input class=\"sk-toggleable__control sk-hidden--visually\" id=\"sk-estimator-id-1\" type=\"checkbox\" ><label for=\"sk-estimator-id-1\" class=\"sk-toggleable__label sk-toggleable__label-arrow\">GridSearchCV</label><div class=\"sk-toggleable__content\"><pre>GridSearchCV(cv=5,\n",
       "             estimator=XGBClassifier(base_score=None, booster=None,\n",
       "                                     callbacks=None, colsample_bylevel=None,\n",
       "                                     colsample_bynode=None,\n",
       "                                     colsample_bytree=None, device=None,\n",
       "                                     early_stopping_rounds=None,\n",
       "                                     enable_categorical=False, eval_metric=None,\n",
       "                                     feature_types=None, gamma=None,\n",
       "                                     grow_policy=None, importance_type=None,\n",
       "                                     interaction_constraints=None,\n",
       "                                     learning_rate=None,...\n",
       "                                     max_leaves=None, min_child_weight=None,\n",
       "                                     missing=nan, monotone_constraints=None,\n",
       "                                     multi_strategy=None, n_estimators=None,\n",
       "                                     n_jobs=None, num_parallel_tree=None,\n",
       "                                     random_state=0, ...),\n",
       "             param_grid={&#x27;colsample_bytree&#x27;: [0.7], &#x27;learning_rate&#x27;: [0.3],\n",
       "                         &#x27;max_depth&#x27;: [6], &#x27;min_child_weight&#x27;: [5],\n",
       "                         &#x27;n_estimators&#x27;: [15], &#x27;subsample&#x27;: [0.7]},\n",
       "             refit=&#x27;f1&#x27;, scoring={&#x27;recall&#x27;, &#x27;f1&#x27;, &#x27;accuracy&#x27;, &#x27;precision&#x27;})</pre></div></div></div><div class=\"sk-parallel\"><div class=\"sk-parallel-item\"><div class=\"sk-item\"><div class=\"sk-label-container\"><div class=\"sk-label sk-toggleable\"><input class=\"sk-toggleable__control sk-hidden--visually\" id=\"sk-estimator-id-2\" type=\"checkbox\" ><label for=\"sk-estimator-id-2\" class=\"sk-toggleable__label sk-toggleable__label-arrow\">estimator: XGBClassifier</label><div class=\"sk-toggleable__content\"><pre>XGBClassifier(base_score=None, booster=None, callbacks=None,\n",
       "              colsample_bylevel=None, colsample_bynode=None,\n",
       "              colsample_bytree=None, device=None, early_stopping_rounds=None,\n",
       "              enable_categorical=False, eval_metric=None, feature_types=None,\n",
       "              gamma=None, grow_policy=None, importance_type=None,\n",
       "              interaction_constraints=None, learning_rate=None, max_bin=None,\n",
       "              max_cat_threshold=None, max_cat_to_onehot=None,\n",
       "              max_delta_step=None, max_depth=None, max_leaves=None,\n",
       "              min_child_weight=None, missing=nan, monotone_constraints=None,\n",
       "              multi_strategy=None, n_estimators=None, n_jobs=None,\n",
       "              num_parallel_tree=None, random_state=0, ...)</pre></div></div></div><div class=\"sk-serial\"><div class=\"sk-item\"><div class=\"sk-estimator sk-toggleable\"><input class=\"sk-toggleable__control sk-hidden--visually\" id=\"sk-estimator-id-3\" type=\"checkbox\" ><label for=\"sk-estimator-id-3\" class=\"sk-toggleable__label sk-toggleable__label-arrow\">XGBClassifier</label><div class=\"sk-toggleable__content\"><pre>XGBClassifier(base_score=None, booster=None, callbacks=None,\n",
       "              colsample_bylevel=None, colsample_bynode=None,\n",
       "              colsample_bytree=None, device=None, early_stopping_rounds=None,\n",
       "              enable_categorical=False, eval_metric=None, feature_types=None,\n",
       "              gamma=None, grow_policy=None, importance_type=None,\n",
       "              interaction_constraints=None, learning_rate=None, max_bin=None,\n",
       "              max_cat_threshold=None, max_cat_to_onehot=None,\n",
       "              max_delta_step=None, max_depth=None, max_leaves=None,\n",
       "              min_child_weight=None, missing=nan, monotone_constraints=None,\n",
       "              multi_strategy=None, n_estimators=None, n_jobs=None,\n",
       "              num_parallel_tree=None, random_state=0, ...)</pre></div></div></div></div></div></div></div></div></div></div>"
      ],
      "text/plain": [
       "GridSearchCV(cv=5,\n",
       "             estimator=XGBClassifier(base_score=None, booster=None,\n",
       "                                     callbacks=None, colsample_bylevel=None,\n",
       "                                     colsample_bynode=None,\n",
       "                                     colsample_bytree=None, device=None,\n",
       "                                     early_stopping_rounds=None,\n",
       "                                     enable_categorical=False, eval_metric=None,\n",
       "                                     feature_types=None, gamma=None,\n",
       "                                     grow_policy=None, importance_type=None,\n",
       "                                     interaction_constraints=None,\n",
       "                                     learning_rate=None,...\n",
       "                                     max_leaves=None, min_child_weight=None,\n",
       "                                     missing=nan, monotone_constraints=None,\n",
       "                                     multi_strategy=None, n_estimators=None,\n",
       "                                     n_jobs=None, num_parallel_tree=None,\n",
       "                                     random_state=0, ...),\n",
       "             param_grid={'colsample_bytree': [0.7], 'learning_rate': [0.3],\n",
       "                         'max_depth': [6], 'min_child_weight': [5],\n",
       "                         'n_estimators': [15], 'subsample': [0.7]},\n",
       "             refit='f1', scoring={'recall', 'f1', 'accuracy', 'precision'})"
      ]
     },
     "execution_count": 12,
     "metadata": {},
     "output_type": "execute_result"
    }
   ],
   "source": [
    "%%time\n",
    "# fit the GridSearch model to training data\n",
    "\n",
    "### YOUR CODE HERE ###\n",
    "xgb_cv = xgb_cv.fit(X_train, y_train)\n",
    "xgb_cv"
   ]
  },
  {
   "cell_type": "code",
   "execution_count": 13,
   "id": "a265e3d6",
   "metadata": {
    "execution": {
     "iopub.execute_input": "2025-02-16T03:33:53.838352Z",
     "iopub.status.busy": "2025-02-16T03:33:53.837902Z",
     "iopub.status.idle": "2025-02-16T03:33:53.844447Z",
     "shell.execute_reply": "2025-02-16T03:33:53.843342Z"
    },
    "papermill": {
     "duration": 0.026401,
     "end_time": "2025-02-16T03:33:53.846368",
     "exception": false,
     "start_time": "2025-02-16T03:33:53.819967",
     "status": "completed"
    },
    "tags": []
   },
   "outputs": [
    {
     "data": {
      "text/plain": [
       "{'colsample_bytree': 0.7,\n",
       " 'learning_rate': 0.3,\n",
       " 'max_depth': 6,\n",
       " 'min_child_weight': 5,\n",
       " 'n_estimators': 15,\n",
       " 'subsample': 0.7}"
      ]
     },
     "execution_count": 13,
     "metadata": {},
     "output_type": "execute_result"
    }
   ],
   "source": [
    "xgb_cv.best_params_"
   ]
  },
  {
   "cell_type": "markdown",
   "id": "d18e58d8",
   "metadata": {
    "id": "YS06KhTSoBIM",
    "papermill": {
     "duration": 0.016042,
     "end_time": "2025-02-16T03:33:53.879155",
     "exception": false,
     "start_time": "2025-02-16T03:33:53.863113",
     "status": "completed"
    },
    "tags": []
   },
   "source": [
    "**Question:** Which optimal set of parameters did the GridSearch yield?"
   ]
  },
  {
   "cell_type": "markdown",
   "id": "d2520ff6",
   "metadata": {
    "id": "KLkpTn0vZ-qa",
    "papermill": {
     "duration": 0.015814,
     "end_time": "2025-02-16T03:33:53.911306",
     "exception": false,
     "start_time": "2025-02-16T03:33:53.895492",
     "status": "completed"
    },
    "tags": []
   },
   "source": [
    "The optimal hyperparameters of the champion model from crossvalidating using GridSearch are:\n",
    "* 'colsample_bytree': 0.7,\n",
    "* 'learning_rate': 0.3,\n",
    "* 'max_depth': 6,\n",
    "* 'min_child_weight': 5,\n",
    "* 'n_estimators': 15,\n",
    "* 'subsample': 0.7"
   ]
  },
  {
   "cell_type": "markdown",
   "id": "333cb45a",
   "metadata": {
    "id": "OOBvfCNeoBIM",
    "papermill": {
     "duration": 0.016673,
     "end_time": "2025-02-16T03:33:53.946133",
     "exception": false,
     "start_time": "2025-02-16T03:33:53.929460",
     "status": "completed"
    },
    "tags": []
   },
   "source": [
    "<details>\n",
    "<summary><h4><strong>Hint 1</strong></h4></summary>\n",
    "\n",
    "Recall what you've learned about the result of the GridSearch.</details>"
   ]
  },
  {
   "cell_type": "markdown",
   "id": "71100ae9",
   "metadata": {
    "id": "gzT16WHjoBIM",
    "papermill": {
     "duration": 0.016861,
     "end_time": "2025-02-16T03:33:53.979964",
     "exception": false,
     "start_time": "2025-02-16T03:33:53.963103",
     "status": "completed"
    },
    "tags": []
   },
   "source": [
    "<details>\n",
    "<summary><h4><strong>Hint 2</strong></h4></summary>\n",
    "\n",
    "Once you've fitted the GridSearch model to your training data, there will be an attribute to access which yields to the optimal parameter set.</details>"
   ]
  },
  {
   "cell_type": "markdown",
   "id": "990f265a",
   "metadata": {
    "id": "IILInxLYoBIN",
    "papermill": {
     "duration": 0.016202,
     "end_time": "2025-02-16T03:33:54.012463",
     "exception": false,
     "start_time": "2025-02-16T03:33:53.996261",
     "status": "completed"
    },
    "tags": []
   },
   "source": [
    "<details>\n",
    "<summary><h4><strong>Hint 3</strong></h4></summary>\n",
    "\n",
    "Access the `best_params_` attribute from your fitted model. </details>"
   ]
  },
  {
   "cell_type": "markdown",
   "id": "dabad76c",
   "metadata": {
    "id": "m5EFtZfXoBIN",
    "papermill": {
     "duration": 0.01614,
     "end_time": "2025-02-16T03:33:54.046244",
     "exception": false,
     "start_time": "2025-02-16T03:33:54.030104",
     "status": "completed"
    },
    "tags": []
   },
   "source": [
    "### Save your model for reference using `pickle`\n",
    "\n",
    "Use the `pickle` library you've already imported to save the output of this model."
   ]
  },
  {
   "cell_type": "code",
   "execution_count": 14,
   "id": "556e6368",
   "metadata": {
    "execution": {
     "iopub.execute_input": "2025-02-16T03:33:54.082253Z",
     "iopub.status.busy": "2025-02-16T03:33:54.081785Z",
     "iopub.status.idle": "2025-02-16T03:33:54.088839Z",
     "shell.execute_reply": "2025-02-16T03:33:54.087939Z"
    },
    "id": "y1yjbFhJ04c4",
    "papermill": {
     "duration": 0.026584,
     "end_time": "2025-02-16T03:33:54.091059",
     "exception": false,
     "start_time": "2025-02-16T03:33:54.064475",
     "status": "completed"
    },
    "tags": []
   },
   "outputs": [],
   "source": [
    "# Use `pickle` to save the trained model.\n",
    "\n",
    "### YOUR CODE HERE ###\n",
    "pickle.dump(xgb_cv, open('xgb_cv.sav', 'wb'))"
   ]
  },
  {
   "cell_type": "markdown",
   "id": "d097a752",
   "metadata": {
    "id": "74v1TcAz04c4",
    "papermill": {
     "duration": 0.017076,
     "end_time": "2025-02-16T03:33:54.127910",
     "exception": false,
     "start_time": "2025-02-16T03:33:54.110834",
     "status": "completed"
    },
    "tags": []
   },
   "source": [
    "<details>\n",
    "<summary><h4><strong>Hint 1</strong></h4></summary>\n",
    "\n",
    "Refer to [the content about \"pickling\" prior models](https://www.coursera.org/learn/the-nuts-and-bolts-of-machine-learning/lecture/FSnam/build-and-validate-a-random-forest-model-using-a-validation-data-set).</details>"
   ]
  },
  {
   "cell_type": "markdown",
   "id": "f2a7f47c",
   "metadata": {
    "id": "i-xt3jro04c5",
    "papermill": {
     "duration": 0.015677,
     "end_time": "2025-02-16T03:33:54.160508",
     "exception": false,
     "start_time": "2025-02-16T03:33:54.144831",
     "status": "completed"
    },
    "tags": []
   },
   "source": [
    "<details>\n",
    "<summary><h4><strong>Hint 2</strong></h4></summary>\n",
    "\n",
    "The model to be pickled is the fitted GridSearch model from above. </details>"
   ]
  },
  {
   "cell_type": "markdown",
   "id": "36ad2c2c",
   "metadata": {
    "id": "jiEBmZUI04c5",
    "papermill": {
     "duration": 0.015947,
     "end_time": "2025-02-16T03:33:54.192726",
     "exception": false,
     "start_time": "2025-02-16T03:33:54.176779",
     "status": "completed"
    },
    "tags": []
   },
   "source": [
    "<details>\n",
    "<summary><h4><strong>Hint 3</strong></h4></summary>\n",
    "\n",
    "Call `pickle.dump()`, reference the fitted GridSearch model, and provide a name for the pickle file."
   ]
  },
  {
   "cell_type": "markdown",
   "id": "db49a3b1",
   "metadata": {
    "id": "qgV_6xAQAvgg",
    "papermill": {
     "duration": 0.015777,
     "end_time": "2025-02-16T03:33:54.225220",
     "exception": false,
     "start_time": "2025-02-16T03:33:54.209443",
     "status": "completed"
    },
    "tags": []
   },
   "source": [
    "## Step 4: Results and evaluation\n",
    "\n",
    "### Formulate predictions on your test set\n",
    "\n",
    "To evaluate the predictions yielded from your model, leverage a series of metrics and evaluation techniques from scikit-learn by examining the actual observed values in the test set relative to your model's prediction.\n",
    "\n",
    "First, use your trained model to formulate predictions on your test set."
   ]
  },
  {
   "cell_type": "code",
   "execution_count": 15,
   "id": "dc540045",
   "metadata": {
    "execution": {
     "iopub.execute_input": "2025-02-16T03:33:54.259689Z",
     "iopub.status.busy": "2025-02-16T03:33:54.259280Z",
     "iopub.status.idle": "2025-02-16T03:33:54.325323Z",
     "shell.execute_reply": "2025-02-16T03:33:54.324471Z"
    },
    "id": "gUEgzQW_6oMV",
    "papermill": {
     "duration": 0.086146,
     "end_time": "2025-02-16T03:33:54.327579",
     "exception": false,
     "start_time": "2025-02-16T03:33:54.241433",
     "status": "completed"
    },
    "tags": []
   },
   "outputs": [],
   "source": [
    "# Apply your model to predict on your test data. Call this output \"y_pred\".\n",
    "\n",
    "### YOUR CODE HERE ###\n",
    "y_pred = xgb_cv.predict(X_test)"
   ]
  },
  {
   "cell_type": "markdown",
   "id": "3b6ac127",
   "metadata": {
    "id": "l2vRT5XeoBIN",
    "papermill": {
     "duration": 0.015986,
     "end_time": "2025-02-16T03:33:54.363398",
     "exception": false,
     "start_time": "2025-02-16T03:33:54.347412",
     "status": "completed"
    },
    "tags": []
   },
   "source": [
    "<details>\n",
    "<summary><h4><strong>Hint 1</strong></h4></summary>\n",
    "\n",
    "Recall what you've learned about creating predictions from trained models.</details>"
   ]
  },
  {
   "cell_type": "markdown",
   "id": "fd427996",
   "metadata": {
    "id": "Vo1E7RjtoBIN",
    "papermill": {
     "duration": 0.016535,
     "end_time": "2025-02-16T03:33:54.396298",
     "exception": false,
     "start_time": "2025-02-16T03:33:54.379763",
     "status": "completed"
    },
    "tags": []
   },
   "source": [
    "<details>\n",
    "<summary><h4><strong>Hint 2</strong></h4></summary>\n",
    "\n",
    "Use the fitted GridSearch model from your training set and predict the predictor variables you reserved in the train-test split.</details>"
   ]
  },
  {
   "cell_type": "markdown",
   "id": "837df1f0",
   "metadata": {
    "id": "azSq51xXoBIN",
    "papermill": {
     "duration": 0.016113,
     "end_time": "2025-02-16T03:33:54.430287",
     "exception": false,
     "start_time": "2025-02-16T03:33:54.414174",
     "status": "completed"
    },
    "tags": []
   },
   "source": [
    "<details>\n",
    "<summary><h4><strong>Hint 3</strong></h4></summary>\n",
    "\n",
    "Call `predict()` on your fitted model and reference `X_test` to create these predictions.\n",
    "</details>"
   ]
  },
  {
   "cell_type": "markdown",
   "id": "8654c2a8",
   "metadata": {
    "id": "XPswDdr1oBIO",
    "papermill": {
     "duration": 0.015722,
     "end_time": "2025-02-16T03:33:54.462308",
     "exception": false,
     "start_time": "2025-02-16T03:33:54.446586",
     "status": "completed"
    },
    "tags": []
   },
   "source": [
    "### Leverage metrics to evaluate your model's performance\n",
    "\n",
    "Apply a series of metrics from scikit-learn to assess your model. Specifically, print the accuracy score, precision score, recall score, and f1 score associated with your test data and predicted values."
   ]
  },
  {
   "cell_type": "code",
   "execution_count": 16,
   "id": "fb0cf399",
   "metadata": {
    "execution": {
     "iopub.execute_input": "2025-02-16T03:33:54.496908Z",
     "iopub.status.busy": "2025-02-16T03:33:54.496507Z",
     "iopub.status.idle": "2025-02-16T03:33:54.557231Z",
     "shell.execute_reply": "2025-02-16T03:33:54.555662Z"
    },
    "id": "INf2Rd_MoBIP",
    "papermill": {
     "duration": 0.080077,
     "end_time": "2025-02-16T03:33:54.559243",
     "exception": false,
     "start_time": "2025-02-16T03:33:54.479166",
     "status": "completed"
    },
    "tags": []
   },
   "outputs": [
    {
     "name": "stdout",
     "output_type": "stream",
     "text": [
      "accuracy score: 0.9376655374191561\n",
      "precision score: 0.9485827664399092\n",
      "recall score: 0.9374229691876751\n",
      "f1 score: 0.9429698506621583\n"
     ]
    }
   ],
   "source": [
    "# 1. Print your accuracy score.\n",
    "\n",
    "### YOUR CODE HERE ###\n",
    "ac_score = metrics.accuracy_score(y_test, y_pred)\n",
    "print('accuracy score:', ac_score)\n",
    "\n",
    "# 2. Print your precision score.\n",
    "\n",
    "### YOUR CODE HERE ###\n",
    "pc_score = metrics.precision_score(y_test, y_pred)\n",
    "print('precision score:', pc_score)\n",
    "\n",
    "# 3. Print your recall score.\n",
    "\n",
    "### YOUR CODE HERE ###\n",
    "rc_score = metrics.recall_score(y_test, y_pred)\n",
    "print('recall score:', rc_score)\n",
    "\n",
    "# 4. Print your f1 score.\n",
    "\n",
    "### YOUR CODE HERE ###\n",
    "f1_score = metrics.f1_score(y_test, y_pred)\n",
    "print('f1 score:', f1_score)"
   ]
  },
  {
   "cell_type": "markdown",
   "id": "5f5201f8",
   "metadata": {
    "id": "mEgb0a2YoBIP",
    "papermill": {
     "duration": 0.016696,
     "end_time": "2025-02-16T03:33:54.592576",
     "exception": false,
     "start_time": "2025-02-16T03:33:54.575880",
     "status": "completed"
    },
    "tags": []
   },
   "source": [
    "<details>\n",
    "<summary><h4><strong>Hint 1</strong></h4></summary>\n",
    "\n",
    "Refer to [the content about model evaluation for detail on these metrics](https://www.coursera.org/learn/the-nuts-and-bolts-of-machine-learning/lecture/njRAP/build-an-xgboost-model-with-python).\n",
    "</details>"
   ]
  },
  {
   "cell_type": "markdown",
   "id": "c532c270",
   "metadata": {
    "id": "oT143KsSoBIP",
    "papermill": {
     "duration": 0.017536,
     "end_time": "2025-02-16T03:33:54.626825",
     "exception": false,
     "start_time": "2025-02-16T03:33:54.609289",
     "status": "completed"
    },
    "tags": []
   },
   "source": [
    "<details>\n",
    "<summary><h4><strong>Hint 2</strong></h4></summary>\n",
    "\n",
    "Use the function in the `metrics` module in `sklearn` to compute each of these metrics.\n",
    "</details>"
   ]
  },
  {
   "cell_type": "markdown",
   "id": "14b91c91",
   "metadata": {
    "id": "BECv4a2toBIP",
    "papermill": {
     "duration": 0.016757,
     "end_time": "2025-02-16T03:33:54.659828",
     "exception": false,
     "start_time": "2025-02-16T03:33:54.643071",
     "status": "completed"
    },
    "tags": []
   },
   "source": [
    "<details>\n",
    "<summary><h4><strong>Hint 3</strong></h4></summary>\n",
    "\n",
    "Call `accuracy_score()`, `precision_score()`, `recall_score()`, and `f1_score()`, passing `y_test` and `y_pred` into each.\n",
    "</details>"
   ]
  },
  {
   "cell_type": "markdown",
   "id": "3c75db99",
   "metadata": {
    "id": "dDx7rrdNoBIP",
    "papermill": {
     "duration": 0.016493,
     "end_time": "2025-02-16T03:33:54.692748",
     "exception": false,
     "start_time": "2025-02-16T03:33:54.676255",
     "status": "completed"
    },
    "tags": []
   },
   "source": [
    "**Question:** How should you interpret your accuracy score?"
   ]
  },
  {
   "cell_type": "markdown",
   "id": "653042e4",
   "metadata": {
    "id": "mWUqly7WbVEg",
    "papermill": {
     "duration": 0.015839,
     "end_time": "2025-02-16T03:33:54.724910",
     "exception": false,
     "start_time": "2025-02-16T03:33:54.709071",
     "status": "completed"
    },
    "tags": []
   },
   "source": [
    "* the accuracy score indicates the proportion of # of records correctly classified to total number of records classified\n",
    "* thus an accuracy of 0.9377 means 93.77% of the customers who are satisfied or not are correctly classified"
   ]
  },
  {
   "cell_type": "markdown",
   "id": "691cdf50",
   "metadata": {
    "id": "QirKWngCah9v",
    "papermill": {
     "duration": 0.01617,
     "end_time": "2025-02-16T03:33:54.757187",
     "exception": false,
     "start_time": "2025-02-16T03:33:54.741017",
     "status": "completed"
    },
    "tags": []
   },
   "source": [
    "**Question:** Is your accuracy score alone sufficient to evaluate your model?"
   ]
  },
  {
   "cell_type": "markdown",
   "id": "1cf8d36e",
   "metadata": {
    "id": "ApnZ_M5pbdC9",
    "papermill": {
     "duration": 0.016032,
     "end_time": "2025-02-16T03:33:54.789722",
     "exception": false,
     "start_time": "2025-02-16T03:33:54.773690",
     "status": "completed"
    },
    "tags": []
   },
   "source": [
    "* accuracy score is not a standalone metric\n",
    "* other metrics such as recall, precision and f1 score can be used in parallel to evaluate a classification model"
   ]
  },
  {
   "cell_type": "markdown",
   "id": "a1161099",
   "metadata": {
    "id": "evpAa_4noBIP",
    "papermill": {
     "duration": 0.016059,
     "end_time": "2025-02-16T03:33:54.822252",
     "exception": false,
     "start_time": "2025-02-16T03:33:54.806193",
     "status": "completed"
    },
    "tags": []
   },
   "source": [
    "**Question:** When observing the precision and recall scores of your model, how do you interpret these values, and is one more accurate than the other?"
   ]
  },
  {
   "cell_type": "markdown",
   "id": "ce8db62a",
   "metadata": {
    "id": "Ew7L0yIubmGb",
    "papermill": {
     "duration": 0.016078,
     "end_time": "2025-02-16T03:33:54.855129",
     "exception": false,
     "start_time": "2025-02-16T03:33:54.839051",
     "status": "completed"
    },
    "tags": []
   },
   "source": [
    "* Precision refers to the positive predictive rate which means the ratio of correctly predicted to all those that are predicted of a specific class\n",
    "* Recall refers to the ratio of the correctly predicted records of a certain class to all the records which were actually that particular class\n",
    "* Precision informs us more about the False Positives creeping through a predicted class while recall informs us more about the False Negatives which were let go off to other classes\n",
    "* In this model, precision score of 0.9486 means the model is 94.86% better in predicting if a passenger is really satisfied\n",
    "* the recall score of 0.9374 means the model is 93.74% better in not misclassifying passengers who were actually satisfied, as, if they were NOT  "
   ]
  },
  {
   "cell_type": "markdown",
   "id": "2c1a2ada",
   "metadata": {
    "id": "7ghkTwSUoBIP",
    "papermill": {
     "duration": 0.015938,
     "end_time": "2025-02-16T03:33:54.887310",
     "exception": false,
     "start_time": "2025-02-16T03:33:54.871372",
     "status": "completed"
    },
    "tags": []
   },
   "source": [
    "**Question:** What does your model's F1 score tell you, beyond what the other metrics provide?*"
   ]
  },
  {
   "cell_type": "markdown",
   "id": "8fa699bf",
   "metadata": {
    "id": "qE996PP6by1l",
    "papermill": {
     "duration": 0.015883,
     "end_time": "2025-02-16T03:33:54.919585",
     "exception": false,
     "start_time": "2025-02-16T03:33:54.903702",
     "status": "completed"
    },
    "tags": []
   },
   "source": [
    "* the f-1 score is the harmonic mean of precision and accuracy. So, it combines them both and gives more weightage if one of the values is low. \n",
    "* Here, the f-1 score of 0.943 means the xgboost classifier observed is a very good classification model"
   ]
  },
  {
   "cell_type": "markdown",
   "id": "ac8a1af0",
   "metadata": {
    "id": "mNzDfI3RoBIQ",
    "papermill": {
     "duration": 0.016044,
     "end_time": "2025-02-16T03:33:54.951757",
     "exception": false,
     "start_time": "2025-02-16T03:33:54.935713",
     "status": "completed"
    },
    "tags": []
   },
   "source": [
    "### Gain clarity with the confusion matrix\n",
    "\n",
    "Recall that a **confusion matrix** is a graphic that shows a model's true and false positives and true and false negatives. It helps to create a visual representation of the components feeding into the metrics above.\n",
    "\n",
    "Create a confusion matrix based on your predicted values for the test set."
   ]
  },
  {
   "cell_type": "code",
   "execution_count": 17,
   "id": "defa83f1",
   "metadata": {
    "execution": {
     "iopub.execute_input": "2025-02-16T03:33:54.987220Z",
     "iopub.status.busy": "2025-02-16T03:33:54.986846Z",
     "iopub.status.idle": "2025-02-16T03:33:55.341688Z",
     "shell.execute_reply": "2025-02-16T03:33:55.340175Z"
    },
    "id": "ntoJ-YG7oBIQ",
    "papermill": {
     "duration": 0.37446,
     "end_time": "2025-02-16T03:33:55.343639",
     "exception": false,
     "start_time": "2025-02-16T03:33:54.969179",
     "status": "completed"
    },
    "tags": []
   },
   "outputs": [
    {
     "name": "stdout",
     "output_type": "stream",
     "text": [
      "[[13713   907]\n",
      " [ 1117 16733]]\n"
     ]
    },
    {
     "data": {
      "text/plain": [
       "<sklearn.metrics._plot.confusion_matrix.ConfusionMatrixDisplay at 0x7e1365eb53c0>"
      ]
     },
     "execution_count": 17,
     "metadata": {},
     "output_type": "execute_result"
    },
    {
     "data": {
      "image/png": "[encoded data removed]",
      "text/plain": [
       "<Figure size 640x480 with 2 Axes>"
      ]
     },
     "metadata": {},
     "output_type": "display_data"
    }
   ],
   "source": [
    "# Construct and display your confusion matrix.\n",
    "\n",
    "# Construct the confusion matrix for your predicted and test values.\n",
    "\n",
    "### YOUR CODE HERE ###\n",
    "cm = metrics.confusion_matrix(y_test, y_pred)\n",
    "print(cm)\n",
    "\n",
    "\n",
    "# Create the display for your confusion matrix.\n",
    "\n",
    "### YOUR CODE HERE ###\n",
    "disp = metrics.ConfusionMatrixDisplay(confusion_matrix=cm, display_labels=xgb_cv.classes_)\n",
    "\n",
    "\n",
    "# Plot the visual in-line.\n",
    "\n",
    "### YOUR CODE HERE ###\n",
    "disp.plot()"
   ]
  },
  {
   "cell_type": "markdown",
   "id": "40e9c3a6",
   "metadata": {
    "id": "GoybXyCioBIQ",
    "papermill": {
     "duration": 0.016552,
     "end_time": "2025-02-16T03:33:55.377879",
     "exception": false,
     "start_time": "2025-02-16T03:33:55.361327",
     "status": "completed"
    },
    "tags": []
   },
   "source": [
    "<details>\n",
    "<summary><h4><strong>Hint 1</strong></h4></summary>\n",
    "\n",
    "Refer to [the content about model evaluation](https://www.coursera.org/learn/the-nuts-and-bolts-of-machine-learning/lecture/njRAP/build-an-xgboost-model-with-python).\n",
    "</details>"
   ]
  },
  {
   "cell_type": "markdown",
   "id": "d722bbb7",
   "metadata": {
    "id": "b2lqmzQ-oBIQ",
    "papermill": {
     "duration": 0.017304,
     "end_time": "2025-02-16T03:33:55.412293",
     "exception": false,
     "start_time": "2025-02-16T03:33:55.394989",
     "status": "completed"
    },
    "tags": []
   },
   "source": [
    "<details>\n",
    "<summary><h4><strong>Hint 2</strong></h4></summary>\n",
    "\n",
    "Use the functions in the `metrics` module to create a confusion matrix.\n",
    "</details>"
   ]
  },
  {
   "cell_type": "markdown",
   "id": "4972babe",
   "metadata": {
    "id": "Wi_x2zTDoBIQ",
    "papermill": {
     "duration": 0.016754,
     "end_time": "2025-02-16T03:33:55.446653",
     "exception": false,
     "start_time": "2025-02-16T03:33:55.429899",
     "status": "completed"
    },
    "tags": []
   },
   "source": [
    "<details>\n",
    "<summary><h4><strong>Hint 3</strong></h4></summary>\n",
    "\n",
    "Call `confusion_matrix`, passing in `y_test` and `y_pred`. Next, utilize `ConfusionMatrixDisplay()` to display your confusion matrix.\n",
    "</details>"
   ]
  },
  {
   "cell_type": "markdown",
   "id": "b29cdde7",
   "metadata": {
    "id": "aLkF5znkNk7m",
    "papermill": {
     "duration": 0.017851,
     "end_time": "2025-02-16T03:33:55.481651",
     "exception": false,
     "start_time": "2025-02-16T03:33:55.463800",
     "status": "completed"
    },
    "tags": []
   },
   "source": [
    "**Question:** When observing your confusion matrix, what do you notice? Does this correlate to any of your other calculations?"
   ]
  },
  {
   "cell_type": "markdown",
   "id": "445a55d4",
   "metadata": {
    "id": "N2TklKcpcjdz",
    "papermill": {
     "duration": 0.017456,
     "end_time": "2025-02-16T03:33:55.516512",
     "exception": false,
     "start_time": "2025-02-16T03:33:55.499056",
     "status": "completed"
    },
    "tags": []
   },
   "source": [
    "* True positives = 16733\n",
    "* True negatives = 13713 \n",
    "* False positives = 907\n",
    "* False negatives = 1117\n",
    "\n",
    "Yes, we can see that the FPs (907) is lesser than the FNs (1117). This is the reason why the precision (94.86%) is higher than recall (93.74%) of the model"
   ]
  },
  {
   "cell_type": "markdown",
   "id": "c3bb1401",
   "metadata": {
    "id": "_eSapvg504c8",
    "papermill": {
     "duration": 0.018075,
     "end_time": "2025-02-16T03:33:55.551773",
     "exception": false,
     "start_time": "2025-02-16T03:33:55.533698",
     "status": "completed"
    },
    "tags": []
   },
   "source": [
    "### Visualize most important features\n",
    "\n",
    "`xgboost` has a built-in function to visualize the relative importance of the features in the model using `matplotlib`. Output and examine the feature importance of your model."
   ]
  },
  {
   "cell_type": "code",
   "execution_count": 18,
   "id": "d2b28232",
   "metadata": {
    "execution": {
     "iopub.execute_input": "2025-02-16T03:33:55.587688Z",
     "iopub.status.busy": "2025-02-16T03:33:55.587273Z",
     "iopub.status.idle": "2025-02-16T03:33:56.084735Z",
     "shell.execute_reply": "2025-02-16T03:33:56.083598Z"
    },
    "id": "Hnpvuqt204c8",
    "papermill": {
     "duration": 0.517632,
     "end_time": "2025-02-16T03:33:56.086566",
     "exception": false,
     "start_time": "2025-02-16T03:33:55.568934",
     "status": "completed"
    },
    "tags": []
   },
   "outputs": [
    {
     "data": {
      "text/plain": [
       "<Axes: title={'center': 'Feature importance'}, xlabel='F score', ylabel='Features'>"
      ]
     },
     "execution_count": 18,
     "metadata": {},
     "output_type": "execute_result"
    },
    {
     "data": {
      "image/png": "[encoded data removed]",
      "text/plain": [
       "<Figure size 640x480 with 1 Axes>"
      ]
     },
     "metadata": {},
     "output_type": "display_data"
    }
   ],
   "source": [
    "# Plot the relative feature importance of the predictor variables in your model.\n",
    "\n",
    "### YOUR CODE HERE ###\n",
    "plot_importance(xgb_cv.best_estimator_)"
   ]
  },
  {
   "cell_type": "markdown",
   "id": "25944acd",
   "metadata": {
    "id": "Nh3OwDGA04c8",
    "papermill": {
     "duration": 0.019088,
     "end_time": "2025-02-16T03:33:56.125723",
     "exception": false,
     "start_time": "2025-02-16T03:33:56.106635",
     "status": "completed"
    },
    "tags": []
   },
   "source": [
    "<details>\n",
    "<summary><h4><strong>Hint 1</strong></h4></summary>\n",
    "\n",
    "Recall the attributes that are provided once the model is fitted to training data.</details>"
   ]
  },
  {
   "cell_type": "markdown",
   "id": "5534dd59",
   "metadata": {
    "id": "daNM_TDv04c8",
    "papermill": {
     "duration": 0.018884,
     "end_time": "2025-02-16T03:33:56.164352",
     "exception": false,
     "start_time": "2025-02-16T03:33:56.145468",
     "status": "completed"
    },
    "tags": []
   },
   "source": [
    "<details>\n",
    "<summary><h4><strong>Hint 2</strong></h4></summary>\n",
    "\n",
    "Examine the `best_estimator_` attribute of your fitted model.</details>"
   ]
  },
  {
   "cell_type": "markdown",
   "id": "9aff2200",
   "metadata": {
    "id": "zTrxBW9E04c8",
    "papermill": {
     "duration": 0.018907,
     "end_time": "2025-02-16T03:33:56.202954",
     "exception": false,
     "start_time": "2025-02-16T03:33:56.184047",
     "status": "completed"
    },
    "tags": []
   },
   "source": [
    "<details>\n",
    "<summary><h4><strong>Hint 3</strong></h4></summary>\n",
    "\n",
    "To easily visualize feature importance, call the built-in `plot_importance` function `xgboost` offers on the `best_estimator_`.</details>"
   ]
  },
  {
   "cell_type": "markdown",
   "id": "76f57770",
   "metadata": {
    "id": "nyhdt0LF04c9",
    "papermill": {
     "duration": 0.018885,
     "end_time": "2025-02-16T03:33:56.241045",
     "exception": false,
     "start_time": "2025-02-16T03:33:56.222160",
     "status": "completed"
    },
    "tags": []
   },
   "source": [
    "**Question:** Examine the feature importances outputted above. What is your assessment of the result? Did anything surprise you?"
   ]
  },
  {
   "cell_type": "markdown",
   "id": "7c884159",
   "metadata": {
    "id": "bietXsnWc5Q7",
    "papermill": {
     "duration": 0.019732,
     "end_time": "2025-02-16T03:33:56.280568",
     "exception": false,
     "start_time": "2025-02-16T03:33:56.260836",
     "status": "completed"
    },
    "tags": []
   },
   "source": [
    "* seat comfort is the most significant feature in the dataset at hand when observed using the xonstructed xgb model\n",
    "* age, class business,ease of online booking, Food and drink, Checkin service, inflight entertainment were also important in determining if a customer will be satisfied or not\n",
    "* surprisingly the initial hypothesis on 'Arrival delay in minutes' & 'Cleanliness' were wrong as these features were not as important as it was assumed to be"
   ]
  },
  {
   "cell_type": "markdown",
   "id": "39a9107d",
   "metadata": {
    "id": "PaKUSbqDW28K",
    "papermill": {
     "duration": 0.01941,
     "end_time": "2025-02-16T03:33:56.320121",
     "exception": false,
     "start_time": "2025-02-16T03:33:56.300711",
     "status": "completed"
    },
    "tags": []
   },
   "source": [
    "### Compare models\n",
    "\n",
    "Create a table of results to compare model performance."
   ]
  },
  {
   "cell_type": "code",
   "execution_count": 19,
   "id": "b94a897d",
   "metadata": {
    "execution": {
     "iopub.execute_input": "2025-02-16T03:33:56.361747Z",
     "iopub.status.busy": "2025-02-16T03:33:56.361328Z",
     "iopub.status.idle": "2025-02-16T03:33:56.374061Z",
     "shell.execute_reply": "2025-02-16T03:33:56.372888Z"
    },
    "id": "6L7AgdeldsKZ",
    "papermill": {
     "duration": 0.035353,
     "end_time": "2025-02-16T03:33:56.375818",
     "exception": false,
     "start_time": "2025-02-16T03:33:56.340465",
     "status": "completed"
    },
    "tags": []
   },
   "outputs": [
    {
     "data": {
      "text/html": [
       "<div>\n",
       "<style scoped>\n",
       "    .dataframe tbody tr th:only-of-type {\n",
       "        vertical-align: middle;\n",
       "    }\n",
       "\n",
       "    .dataframe tbody tr th {\n",
       "        vertical-align: top;\n",
       "    }\n",
       "\n",
       "    .dataframe thead th {\n",
       "        text-align: right;\n",
       "    }\n",
       "</style>\n",
       "<table border=\"1\" class=\"dataframe\">\n",
       "  <thead>\n",
       "    <tr style=\"text-align: right;\">\n",
       "      <th></th>\n",
       "      <th>Model</th>\n",
       "      <th>F1</th>\n",
       "      <th>Recall</th>\n",
       "      <th>Precision</th>\n",
       "      <th>Accuracy</th>\n",
       "    </tr>\n",
       "  </thead>\n",
       "  <tbody>\n",
       "    <tr>\n",
       "      <th>0</th>\n",
       "      <td>Tuned Decision Tree</td>\n",
       "      <td>0.945422</td>\n",
       "      <td>0.935863</td>\n",
       "      <td>0.955197</td>\n",
       "      <td>0.940864</td>\n",
       "    </tr>\n",
       "    <tr>\n",
       "      <th>1</th>\n",
       "      <td>Tuned Random Forest</td>\n",
       "      <td>0.947306</td>\n",
       "      <td>0.944501</td>\n",
       "      <td>0.950128</td>\n",
       "      <td>0.942450</td>\n",
       "    </tr>\n",
       "    <tr>\n",
       "      <th>2</th>\n",
       "      <td>Tuned XGBoost</td>\n",
       "      <td>0.942970</td>\n",
       "      <td>0.937423</td>\n",
       "      <td>0.948583</td>\n",
       "      <td>0.937666</td>\n",
       "    </tr>\n",
       "  </tbody>\n",
       "</table>\n",
       "</div>"
      ],
      "text/plain": [
       "                 Model        F1    Recall  Precision  Accuracy\n",
       "0  Tuned Decision Tree  0.945422  0.935863   0.955197  0.940864\n",
       "1  Tuned Random Forest  0.947306  0.944501   0.950128  0.942450\n",
       "2        Tuned XGBoost  0.942970  0.937423   0.948583  0.937666"
      ]
     },
     "execution_count": 19,
     "metadata": {},
     "output_type": "execute_result"
    }
   ],
   "source": [
    "# Create a table of results to compare model performance.\n",
    "\n",
    "### YOUR CODE HERE ###\n",
    "table = pd.DataFrame({'Model': [\"Tuned Decision Tree\", \"Tuned Random Forest\", \"Tuned XGBoost\"],\n",
    "                      'F1': [0.945422, 0.947306, f1_score],\n",
    "                      'Recall': [0.935863, 0.944501, rc_score],\n",
    "                      'Precision': [0.955197, 0.950128, pc_score],\n",
    "                      'Accuracy': [0.940864, 0.942450, ac_score]\n",
    "                     }\n",
    "                    )\n",
    "table"
   ]
  },
  {
   "cell_type": "markdown",
   "id": "7b20fd59",
   "metadata": {
    "id": "qqu9L0ip328H",
    "papermill": {
     "duration": 0.019147,
     "end_time": "2025-02-16T03:33:56.414733",
     "exception": false,
     "start_time": "2025-02-16T03:33:56.395586",
     "status": "completed"
    },
    "tags": []
   },
   "source": [
    "<details>\n",
    "<summary><h4><strong>Hint 1</strong></h4></summary>\n",
    "\n",
    "Create a DataFrame and using the `pd.DataFrame()` function. \n",
    "\n",
    "</details>"
   ]
  },
  {
   "cell_type": "markdown",
   "id": "11943857",
   "metadata": {
    "id": "trUO9XEHbXG6",
    "papermill": {
     "duration": 0.019632,
     "end_time": "2025-02-16T03:33:56.453799",
     "exception": false,
     "start_time": "2025-02-16T03:33:56.434167",
     "status": "completed"
    },
    "tags": []
   },
   "source": [
    "**Question:** How does this model compare to the decision tree and random forest models you built in previous labs? "
   ]
  },
  {
   "cell_type": "markdown",
   "id": "2ec12ec9",
   "metadata": {
    "id": "AEA_YmCgg-7g",
    "papermill": {
     "duration": 0.018937,
     "end_time": "2025-02-16T03:33:56.492327",
     "exception": false,
     "start_time": "2025-02-16T03:33:56.473390",
     "status": "completed"
    },
    "tags": []
   },
   "source": [
    "* For the dataset under contention, the tuned Random Forest model edges past the Decision tree and the tuned XGBoost models.\n",
    "* Even though XGBoost model was almost similar . It could do well in production. We need further testing and evaluation to find that"
   ]
  },
  {
   "cell_type": "markdown",
   "id": "c1455a8f",
   "metadata": {
    "id": "xur2FC5xAzp0",
    "papermill": {
     "duration": 0.020741,
     "end_time": "2025-02-16T03:33:56.532591",
     "exception": false,
     "start_time": "2025-02-16T03:33:56.511850",
     "status": "completed"
    },
    "tags": []
   },
   "source": [
    "## Considerations\n",
    "\n",
    "**What are some key takeaways you learned from this lab?**\n",
    "\n",
    "* prepare the dataset for XGBoost\n",
    "* use XGBoost for binary classification of structured data\n",
    "* compare decision tree, random forest (ensemble), xgboost (ensemble) metrics after findin ga champion model from CV\n",
    "* find the important features using plot_importance( .best_estimator_)\n",
    "\n",
    "**How would you share your findings with your team?**\n",
    "* create a comparison of all three models and why a certain model is preferred over the others\n",
    "* use visualizations to support the results \n",
    "* compare evaluation scores such as accuracy, f1 score as reasons\n",
    "* indicate using visualizations on which feature variables were more valuable than the other\n",
    "\n",
    "**What would you share with and recommend to stakeholders?**\n",
    "\n",
    "* the xgboost model created predicts the passenger satisfaction very well\n",
    "* if we could prioritize and allocate resources towards improving --> seat comfort, age, class business,ease of online booking, Food and drink, Checkin service, inflight entertainment, we can improve the customer satisfaction levels\n"
   ]
  },
  {
   "cell_type": "markdown",
   "id": "cc3ee8d4",
   "metadata": {
    "papermill": {
     "duration": 0.019952,
     "end_time": "2025-02-16T03:33:56.572270",
     "exception": false,
     "start_time": "2025-02-16T03:33:56.552318",
     "status": "completed"
    },
    "tags": []
   },
   "source": [
    "**Congratulations!** You've completed this lab. However, you may not notice a green check mark next to this item on Coursera's platform. Please continue your progress regardless of the check mark. Just click on the \"save\" icon at the top of this notebook to ensure your work has been logged"
   ]
  }
 ],
 "metadata": {
  "colab": {
   "collapsed_sections": [],
   "provenance": []
  },
  "kaggle": {
   "accelerator": "none",
   "dataSources": [
    {
     "datasetId": 6657876,
     "sourceId": 10753678,
     "sourceType": "datasetVersion"
    }
   ],
   "dockerImageVersionId": 30886,
   "isGpuEnabled": false,
   "isInternetEnabled": true,
   "language": "python",
   "sourceType": "notebook"
  },
  "kernelspec": {
   "display_name": "Python 3",
   "language": "python",
   "name": "python3"
  },
  "language_info": {
   "codemirror_mode": {
    "name": "ipython",
    "version": 3
   },
   "file_extension": ".py",
   "mimetype": "text/x-python",
   "name": "python",
   "nbconvert_exporter": "python",
   "pygments_lexer": "ipython3",
   "version": "3.10.12"
  },
  "papermill": {
   "default_parameters": {},
   "duration": 16.071488,
   "end_time": "2025-02-16T03:33:57.414198",
   "environment_variables": {},
   "exception": null,
   "input_path": "__notebook__.ipynb",
   "output_path": "__notebook__.ipynb",
   "parameters": {},
   "start_time": "2025-02-16T03:33:41.342710",
   "version": "2.6.0"
  }
 },
 "nbformat": 4,
 "nbformat_minor": 5
}

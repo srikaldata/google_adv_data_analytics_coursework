{
 "cells": [
  {
   "cell_type": "markdown",
   "id": "f5db4372",
   "metadata": {
    "id": "1WD1hC5MTRMS",
    "papermill": {
     "duration": 0.015788,
     "end_time": "2025-02-06T04:48:45.167303",
     "exception": false,
     "start_time": "2025-02-06T04:48:45.151515",
     "status": "completed"
    },
    "tags": []
   },
   "source": [
    "# Activity: Validate and clean your data"
   ]
  },
  {
   "cell_type": "markdown",
   "id": "f3b3847e",
   "metadata": {
    "id": "ee31943b-274e-4c28-bce6-155cb6f4c334",
    "papermill": {
     "duration": 0.014286,
     "end_time": "2025-02-06T04:48:45.196283",
     "exception": false,
     "start_time": "2025-02-06T04:48:45.181997",
     "status": "completed"
    },
    "tags": []
   },
   "source": [
    "## Introduction\n",
    "\n",
    "In this activity, you will use input validation and label encoding to prepare a dataset for analysis. These are fundamental techniques used in all types of data analysis, from simple linear regression to complex neural networks. \n",
    "\n",
    "In this activity, you are a data professional an investment firm that is attempting to invest in private companies with a valuation of at least $1 billion. These are often known as \"unicorns.\" Your client wants to develop a better understanding of unicorns, with the hope they can be early investors in future highly successful companies. They are particularly interested in the investment strategies of the three top unicorn investors: Sequoia Capital, Tiger Global Management, and Accel. "
   ]
  },
  {
   "cell_type": "markdown",
   "id": "664de57d",
   "metadata": {
    "id": "4bb9630e-b940-4835-a389-d39def1fa848",
    "papermill": {
     "duration": 0.014595,
     "end_time": "2025-02-06T04:48:45.225220",
     "exception": false,
     "start_time": "2025-02-06T04:48:45.210625",
     "status": "completed"
    },
    "tags": []
   },
   "source": [
    "## Step 1: Imports"
   ]
  },
  {
   "cell_type": "markdown",
   "id": "707528a4",
   "metadata": {
    "id": "bc180686-4ae2-47ea-a292-3588ac60a820",
    "papermill": {
     "duration": 0.014186,
     "end_time": "2025-02-06T04:48:45.253714",
     "exception": false,
     "start_time": "2025-02-06T04:48:45.239528",
     "status": "completed"
    },
    "tags": []
   },
   "source": [
    "Import relevant Python libraries and packages: `numpy`, `pandas`, `seaborn`, and `pyplot` from `matplotlib`."
   ]
  },
  {
   "cell_type": "code",
   "execution_count": 1,
   "id": "14c742d7",
   "metadata": {
    "execution": {
     "iopub.execute_input": "2025-02-06T04:48:45.284401Z",
     "iopub.status.busy": "2025-02-06T04:48:45.284018Z",
     "iopub.status.idle": "2025-02-06T04:48:48.641637Z",
     "shell.execute_reply": "2025-02-06T04:48:48.640485Z"
    },
    "id": "8e7f1f2c-bbcc-4f3c-b927-b090ee8334c4",
    "papermill": {
     "duration": 3.375114,
     "end_time": "2025-02-06T04:48:48.643664",
     "exception": false,
     "start_time": "2025-02-06T04:48:45.268550",
     "status": "completed"
    },
    "tags": []
   },
   "outputs": [],
   "source": [
    "# Import libraries and packages.\n",
    "\n",
    "### YOUR CODE HERE ### \n",
    "import numpy as np\n",
    "import pandas as pd\n",
    "import seaborn as sns\n",
    "import matplotlib.pyplot as plt"
   ]
  },
  {
   "cell_type": "markdown",
   "id": "ea0a198e",
   "metadata": {
    "id": "7d29c6bd-f194-46bb-b794-56dc20130473",
    "papermill": {
     "duration": 0.014282,
     "end_time": "2025-02-06T04:48:48.672776",
     "exception": false,
     "start_time": "2025-02-06T04:48:48.658494",
     "status": "completed"
    },
    "tags": []
   },
   "source": [
    "### Load the dataset\n",
    "\n",
    "The data contains details about unicorn companies, such as when they were founded, when they achieved unicorn status, and their current valuation. The dataset `Modified_Unicorn_Companies.csv` is loaded as `companies`, now display the first five rows. The variables in the dataset have been adjusted to suit the objectives of this lab, so they may be different from similar data used in prior labs. As shown in this cell, the dataset has been automatically loaded in for you. You do not need to download the .csv file, or provide more code, in order to access the dataset and proceed with this lab. Please continue with this activity by completing the following instructions."
   ]
  },
  {
   "cell_type": "code",
   "execution_count": 2,
   "id": "52c51cb4",
   "metadata": {
    "execution": {
     "iopub.execute_input": "2025-02-06T04:48:48.703393Z",
     "iopub.status.busy": "2025-02-06T04:48:48.702853Z",
     "iopub.status.idle": "2025-02-06T04:48:48.707272Z",
     "shell.execute_reply": "2025-02-06T04:48:48.706286Z"
    },
    "papermill": {
     "duration": 0.021701,
     "end_time": "2025-02-06T04:48:48.708951",
     "exception": false,
     "start_time": "2025-02-06T04:48:48.687250",
     "status": "completed"
    },
    "tags": []
   },
   "outputs": [],
   "source": [
    "# Run this cell so pandas displays all columns\n",
    "pd.set_option('display.max_columns', None)"
   ]
  },
  {
   "cell_type": "code",
   "execution_count": 3,
   "id": "a02750e6",
   "metadata": {
    "execution": {
     "iopub.execute_input": "2025-02-06T04:48:48.739245Z",
     "iopub.status.busy": "2025-02-06T04:48:48.738870Z",
     "iopub.status.idle": "2025-02-06T04:48:48.794139Z",
     "shell.execute_reply": "2025-02-06T04:48:48.793004Z"
    },
    "id": "3bd40d44-080f-4e49-b0c2-160dedc3c4df",
    "papermill": {
     "duration": 0.072492,
     "end_time": "2025-02-06T04:48:48.796029",
     "exception": false,
     "start_time": "2025-02-06T04:48:48.723537",
     "status": "completed"
    },
    "tags": []
   },
   "outputs": [
    {
     "data": {
      "text/html": [
       "<div>\n",
       "<style scoped>\n",
       "    .dataframe tbody tr th:only-of-type {\n",
       "        vertical-align: middle;\n",
       "    }\n",
       "\n",
       "    .dataframe tbody tr th {\n",
       "        vertical-align: top;\n",
       "    }\n",
       "\n",
       "    .dataframe thead th {\n",
       "        text-align: right;\n",
       "    }\n",
       "</style>\n",
       "<table border=\"1\" class=\"dataframe\">\n",
       "  <thead>\n",
       "    <tr style=\"text-align: right;\">\n",
       "      <th></th>\n",
       "      <th>Company</th>\n",
       "      <th>Valuation</th>\n",
       "      <th>Date Joined</th>\n",
       "      <th>Industry</th>\n",
       "      <th>City</th>\n",
       "      <th>Country/Region</th>\n",
       "      <th>Continent</th>\n",
       "      <th>Year Founded</th>\n",
       "      <th>Funding</th>\n",
       "      <th>Select Investors</th>\n",
       "    </tr>\n",
       "  </thead>\n",
       "  <tbody>\n",
       "    <tr>\n",
       "      <th>0</th>\n",
       "      <td>Bytedance</td>\n",
       "      <td>180</td>\n",
       "      <td>2017-04-07</td>\n",
       "      <td>Artificial intelligence</td>\n",
       "      <td>Beijing</td>\n",
       "      <td>China</td>\n",
       "      <td>Asia</td>\n",
       "      <td>2012</td>\n",
       "      <td>$8B</td>\n",
       "      <td>Sequoia Capital China, SIG Asia Investments, S...</td>\n",
       "    </tr>\n",
       "    <tr>\n",
       "      <th>1</th>\n",
       "      <td>SpaceX</td>\n",
       "      <td>100</td>\n",
       "      <td>2012-12-01</td>\n",
       "      <td>Other</td>\n",
       "      <td>Hawthorne</td>\n",
       "      <td>United States</td>\n",
       "      <td>North America</td>\n",
       "      <td>2002</td>\n",
       "      <td>$7B</td>\n",
       "      <td>Founders Fund, Draper Fisher Jurvetson, Rothen...</td>\n",
       "    </tr>\n",
       "    <tr>\n",
       "      <th>2</th>\n",
       "      <td>SHEIN</td>\n",
       "      <td>100</td>\n",
       "      <td>2018-07-03</td>\n",
       "      <td>E-commerce &amp; direct-to-consumer</td>\n",
       "      <td>Shenzhen</td>\n",
       "      <td>China</td>\n",
       "      <td>Asia</td>\n",
       "      <td>2008</td>\n",
       "      <td>$2B</td>\n",
       "      <td>Tiger Global Management, Sequoia Capital China...</td>\n",
       "    </tr>\n",
       "    <tr>\n",
       "      <th>3</th>\n",
       "      <td>Stripe</td>\n",
       "      <td>95</td>\n",
       "      <td>2014-01-23</td>\n",
       "      <td>FinTech</td>\n",
       "      <td>San Francisco</td>\n",
       "      <td>United States</td>\n",
       "      <td>North America</td>\n",
       "      <td>2010</td>\n",
       "      <td>$2B</td>\n",
       "      <td>Khosla Ventures, LowercaseCapital, capitalG</td>\n",
       "    </tr>\n",
       "    <tr>\n",
       "      <th>4</th>\n",
       "      <td>Klarna</td>\n",
       "      <td>46</td>\n",
       "      <td>2011-12-12</td>\n",
       "      <td>Fintech</td>\n",
       "      <td>Stockholm</td>\n",
       "      <td>Sweden</td>\n",
       "      <td>Europe</td>\n",
       "      <td>2005</td>\n",
       "      <td>$4B</td>\n",
       "      <td>Institutional Venture Partners, Sequoia Capita...</td>\n",
       "    </tr>\n",
       "  </tbody>\n",
       "</table>\n",
       "</div>"
      ],
      "text/plain": [
       "     Company  Valuation Date Joined                         Industry  \\\n",
       "0  Bytedance        180  2017-04-07          Artificial intelligence   \n",
       "1     SpaceX        100  2012-12-01                            Other   \n",
       "2      SHEIN        100  2018-07-03  E-commerce & direct-to-consumer   \n",
       "3     Stripe         95  2014-01-23                          FinTech   \n",
       "4     Klarna         46  2011-12-12                          Fintech   \n",
       "\n",
       "            City Country/Region      Continent  Year Founded Funding  \\\n",
       "0        Beijing          China           Asia          2012     $8B   \n",
       "1      Hawthorne  United States  North America          2002     $7B   \n",
       "2       Shenzhen          China           Asia          2008     $2B   \n",
       "3  San Francisco  United States  North America          2010     $2B   \n",
       "4      Stockholm         Sweden         Europe          2005     $4B   \n",
       "\n",
       "                                    Select Investors  \n",
       "0  Sequoia Capital China, SIG Asia Investments, S...  \n",
       "1  Founders Fund, Draper Fisher Jurvetson, Rothen...  \n",
       "2  Tiger Global Management, Sequoia Capital China...  \n",
       "3        Khosla Ventures, LowercaseCapital, capitalG  \n",
       "4  Institutional Venture Partners, Sequoia Capita...  "
      ]
     },
     "execution_count": 3,
     "metadata": {},
     "output_type": "execute_result"
    }
   ],
   "source": [
    "# RUN THIS CELL TO IMPORT YOUR DATA. \n",
    "companies = pd.read_csv('/kaggle/input/google-adv-data-analytics-eda-datasets/3_Modified_Unicorn_Companies.csv')\n",
    "\n",
    "# Display the first five rows.\n",
    "### YOUR CODE HERE ### \n",
    "companies.head()"
   ]
  },
  {
   "cell_type": "markdown",
   "id": "acde216d",
   "metadata": {
    "id": "95bf39c9-d05c-4324-a40b-bc692607b61b",
    "papermill": {
     "duration": 0.01699,
     "end_time": "2025-02-06T04:48:48.827907",
     "exception": false,
     "start_time": "2025-02-06T04:48:48.810917",
     "status": "completed"
    },
    "tags": []
   },
   "source": [
    "## Step 2: Data cleaning\n"
   ]
  },
  {
   "cell_type": "markdown",
   "id": "fb4be076",
   "metadata": {
    "id": "ad17d09c-c829-4e88-9089-83060d1adf91",
    "papermill": {
     "duration": 0.014487,
     "end_time": "2025-02-06T04:48:48.857984",
     "exception": false,
     "start_time": "2025-02-06T04:48:48.843497",
     "status": "completed"
    },
    "tags": []
   },
   "source": [
    "Begin by displaying the data types of the columns in `companies`."
   ]
  },
  {
   "cell_type": "code",
   "execution_count": 4,
   "id": "50b48a4e",
   "metadata": {
    "execution": {
     "iopub.execute_input": "2025-02-06T04:48:48.889065Z",
     "iopub.status.busy": "2025-02-06T04:48:48.888712Z",
     "iopub.status.idle": "2025-02-06T04:48:48.921006Z",
     "shell.execute_reply": "2025-02-06T04:48:48.919624Z"
    },
    "id": "5340b9fd-a9e1-4943-b546-eece0049dc3b",
    "papermill": {
     "duration": 0.050062,
     "end_time": "2025-02-06T04:48:48.922916",
     "exception": false,
     "start_time": "2025-02-06T04:48:48.872854",
     "status": "completed"
    },
    "tags": []
   },
   "outputs": [
    {
     "name": "stdout",
     "output_type": "stream",
     "text": [
      "<class 'pandas.core.frame.DataFrame'>\n",
      "RangeIndex: 1074 entries, 0 to 1073\n",
      "Data columns (total 10 columns):\n",
      " #   Column            Non-Null Count  Dtype \n",
      "---  ------            --------------  ----- \n",
      " 0   Company           1074 non-null   object\n",
      " 1   Valuation         1074 non-null   int64 \n",
      " 2   Date Joined       1074 non-null   object\n",
      " 3   Industry          1074 non-null   object\n",
      " 4   City              1057 non-null   object\n",
      " 5   Country/Region    1074 non-null   object\n",
      " 6   Continent         1074 non-null   object\n",
      " 7   Year Founded      1074 non-null   int64 \n",
      " 8   Funding           1074 non-null   object\n",
      " 9   Select Investors  1074 non-null   object\n",
      "dtypes: int64(2), object(8)\n",
      "memory usage: 84.0+ KB\n"
     ]
    }
   ],
   "source": [
    "# Display the data types of the columns.\n",
    "\n",
    "### YOUR CODE HERE ###\n",
    "companies.info()"
   ]
  },
  {
   "cell_type": "markdown",
   "id": "3b0746e4",
   "metadata": {
    "id": "f155353c-d39d-436e-b0de-3cb0777c831e",
    "papermill": {
     "duration": 0.014721,
     "end_time": "2025-02-06T04:48:48.952454",
     "exception": false,
     "start_time": "2025-02-06T04:48:48.937733",
     "status": "completed"
    },
    "tags": []
   },
   "source": [
    "<details>\n",
    "  <summary><h4><strong>Hint 1</strong></h4></summary>\n",
    "\n",
    "Review what you have learned about exploratory data analysis in Python.\n",
    "\n",
    "</details>"
   ]
  },
  {
   "cell_type": "markdown",
   "id": "d7c71bee",
   "metadata": {
    "id": "a0c1a503-ccec-44a9-baaf-a89eabf363cf",
    "papermill": {
     "duration": 0.014398,
     "end_time": "2025-02-06T04:48:48.981472",
     "exception": false,
     "start_time": "2025-02-06T04:48:48.967074",
     "status": "completed"
    },
    "tags": []
   },
   "source": [
    "<details>\n",
    "  <summary><h4><strong>Hint 2</strong></h4></summary>\n",
    "\n",
    "There is a `pandas` DataFrame property that displays the data types of the columns in the specified DataFrame.\n",
    " \n",
    "\n",
    "</details>"
   ]
  },
  {
   "cell_type": "markdown",
   "id": "10f3a038",
   "metadata": {
    "id": "0566888c-aa4d-4dec-966b-d99959fc05f0",
    "papermill": {
     "duration": 0.014325,
     "end_time": "2025-02-06T04:48:49.010452",
     "exception": false,
     "start_time": "2025-02-06T04:48:48.996127",
     "status": "completed"
    },
    "tags": []
   },
   "source": [
    "<details>\n",
    "  <summary><h4><strong>Hint 3</strong></h4></summary>\n",
    "\n",
    "  The `pandas` DataFrame `dtypes` property will be helpful.\n",
    "\n",
    "</details>"
   ]
  },
  {
   "cell_type": "markdown",
   "id": "d69ab648",
   "metadata": {
    "id": "0dbc048f-cd6d-4e52-93a9-21ec30ce055b",
    "papermill": {
     "duration": 0.014205,
     "end_time": "2025-02-06T04:48:49.039286",
     "exception": false,
     "start_time": "2025-02-06T04:48:49.025081",
     "status": "completed"
    },
    "tags": []
   },
   "source": [
    "### Modify the data types"
   ]
  },
  {
   "cell_type": "markdown",
   "id": "42e2da69",
   "metadata": {
    "id": "ad280560-d6db-4fcd-ba70-2c16389e12fd",
    "papermill": {
     "duration": 0.014328,
     "end_time": "2025-02-06T04:48:49.068324",
     "exception": false,
     "start_time": "2025-02-06T04:48:49.053996",
     "status": "completed"
    },
    "tags": []
   },
   "source": [
    "Notice that the data type of the `Date Joined` column is an `object`&mdash;in this case, a string. Convert this column to `datetime` to make it more usable. "
   ]
  },
  {
   "cell_type": "code",
   "execution_count": 5,
   "id": "09353dd0",
   "metadata": {
    "execution": {
     "iopub.execute_input": "2025-02-06T04:48:49.099314Z",
     "iopub.status.busy": "2025-02-06T04:48:49.098901Z",
     "iopub.status.idle": "2025-02-06T04:48:49.117722Z",
     "shell.execute_reply": "2025-02-06T04:48:49.116620Z"
    },
    "id": "1793ad8d-659a-4fc9-aa8a-570f063ca0d3",
    "papermill": {
     "duration": 0.036466,
     "end_time": "2025-02-06T04:48:49.119563",
     "exception": false,
     "start_time": "2025-02-06T04:48:49.083097",
     "status": "completed"
    },
    "tags": []
   },
   "outputs": [
    {
     "data": {
      "text/html": [
       "<div>\n",
       "<style scoped>\n",
       "    .dataframe tbody tr th:only-of-type {\n",
       "        vertical-align: middle;\n",
       "    }\n",
       "\n",
       "    .dataframe tbody tr th {\n",
       "        vertical-align: top;\n",
       "    }\n",
       "\n",
       "    .dataframe thead th {\n",
       "        text-align: right;\n",
       "    }\n",
       "</style>\n",
       "<table border=\"1\" class=\"dataframe\">\n",
       "  <thead>\n",
       "    <tr style=\"text-align: right;\">\n",
       "      <th></th>\n",
       "      <th>Company</th>\n",
       "      <th>Valuation</th>\n",
       "      <th>Date Joined</th>\n",
       "      <th>Industry</th>\n",
       "      <th>City</th>\n",
       "      <th>Country/Region</th>\n",
       "      <th>Continent</th>\n",
       "      <th>Year Founded</th>\n",
       "      <th>Funding</th>\n",
       "      <th>Select Investors</th>\n",
       "    </tr>\n",
       "  </thead>\n",
       "  <tbody>\n",
       "    <tr>\n",
       "      <th>0</th>\n",
       "      <td>Bytedance</td>\n",
       "      <td>180</td>\n",
       "      <td>2017-04-07</td>\n",
       "      <td>Artificial intelligence</td>\n",
       "      <td>Beijing</td>\n",
       "      <td>China</td>\n",
       "      <td>Asia</td>\n",
       "      <td>2012</td>\n",
       "      <td>$8B</td>\n",
       "      <td>Sequoia Capital China, SIG Asia Investments, S...</td>\n",
       "    </tr>\n",
       "    <tr>\n",
       "      <th>1</th>\n",
       "      <td>SpaceX</td>\n",
       "      <td>100</td>\n",
       "      <td>2012-12-01</td>\n",
       "      <td>Other</td>\n",
       "      <td>Hawthorne</td>\n",
       "      <td>United States</td>\n",
       "      <td>North America</td>\n",
       "      <td>2002</td>\n",
       "      <td>$7B</td>\n",
       "      <td>Founders Fund, Draper Fisher Jurvetson, Rothen...</td>\n",
       "    </tr>\n",
       "    <tr>\n",
       "      <th>2</th>\n",
       "      <td>SHEIN</td>\n",
       "      <td>100</td>\n",
       "      <td>2018-07-03</td>\n",
       "      <td>E-commerce &amp; direct-to-consumer</td>\n",
       "      <td>Shenzhen</td>\n",
       "      <td>China</td>\n",
       "      <td>Asia</td>\n",
       "      <td>2008</td>\n",
       "      <td>$2B</td>\n",
       "      <td>Tiger Global Management, Sequoia Capital China...</td>\n",
       "    </tr>\n",
       "    <tr>\n",
       "      <th>3</th>\n",
       "      <td>Stripe</td>\n",
       "      <td>95</td>\n",
       "      <td>2014-01-23</td>\n",
       "      <td>FinTech</td>\n",
       "      <td>San Francisco</td>\n",
       "      <td>United States</td>\n",
       "      <td>North America</td>\n",
       "      <td>2010</td>\n",
       "      <td>$2B</td>\n",
       "      <td>Khosla Ventures, LowercaseCapital, capitalG</td>\n",
       "    </tr>\n",
       "    <tr>\n",
       "      <th>4</th>\n",
       "      <td>Klarna</td>\n",
       "      <td>46</td>\n",
       "      <td>2011-12-12</td>\n",
       "      <td>Fintech</td>\n",
       "      <td>Stockholm</td>\n",
       "      <td>Sweden</td>\n",
       "      <td>Europe</td>\n",
       "      <td>2005</td>\n",
       "      <td>$4B</td>\n",
       "      <td>Institutional Venture Partners, Sequoia Capita...</td>\n",
       "    </tr>\n",
       "  </tbody>\n",
       "</table>\n",
       "</div>"
      ],
      "text/plain": [
       "     Company  Valuation Date Joined                         Industry  \\\n",
       "0  Bytedance        180  2017-04-07          Artificial intelligence   \n",
       "1     SpaceX        100  2012-12-01                            Other   \n",
       "2      SHEIN        100  2018-07-03  E-commerce & direct-to-consumer   \n",
       "3     Stripe         95  2014-01-23                          FinTech   \n",
       "4     Klarna         46  2011-12-12                          Fintech   \n",
       "\n",
       "            City Country/Region      Continent  Year Founded Funding  \\\n",
       "0        Beijing          China           Asia          2012     $8B   \n",
       "1      Hawthorne  United States  North America          2002     $7B   \n",
       "2       Shenzhen          China           Asia          2008     $2B   \n",
       "3  San Francisco  United States  North America          2010     $2B   \n",
       "4      Stockholm         Sweden         Europe          2005     $4B   \n",
       "\n",
       "                                    Select Investors  \n",
       "0  Sequoia Capital China, SIG Asia Investments, S...  \n",
       "1  Founders Fund, Draper Fisher Jurvetson, Rothen...  \n",
       "2  Tiger Global Management, Sequoia Capital China...  \n",
       "3        Khosla Ventures, LowercaseCapital, capitalG  \n",
       "4  Institutional Venture Partners, Sequoia Capita...  "
      ]
     },
     "execution_count": 5,
     "metadata": {},
     "output_type": "execute_result"
    }
   ],
   "source": [
    "# Apply necessary datatype conversions.\n",
    "\n",
    "### YOUR CODE HERE ###\n",
    "companies['Date Joined'] = pd.to_datetime(companies['Date Joined'])\n",
    "companies.head()"
   ]
  },
  {
   "cell_type": "markdown",
   "id": "f6f9e895",
   "metadata": {
    "id": "1ea7364c-a5be-4c3a-ae8d-24a0ac497973",
    "papermill": {
     "duration": 0.015224,
     "end_time": "2025-02-06T04:48:49.150546",
     "exception": false,
     "start_time": "2025-02-06T04:48:49.135322",
     "status": "completed"
    },
    "tags": []
   },
   "source": [
    "### Create a new column"
   ]
  },
  {
   "cell_type": "markdown",
   "id": "dc214562",
   "metadata": {
    "id": "6ed05e76-0a66-4ea3-9796-39afb48eeb93",
    "papermill": {
     "duration": 0.014508,
     "end_time": "2025-02-06T04:48:49.179993",
     "exception": false,
     "start_time": "2025-02-06T04:48:49.165485",
     "status": "completed"
    },
    "tags": []
   },
   "source": [
    "Add a column called `Years To Unicorn`, which is the number of years between when the company was founded and when it became a unicorn."
   ]
  },
  {
   "cell_type": "code",
   "execution_count": 6,
   "id": "9d44905f",
   "metadata": {
    "execution": {
     "iopub.execute_input": "2025-02-06T04:48:49.211497Z",
     "iopub.status.busy": "2025-02-06T04:48:49.211091Z",
     "iopub.status.idle": "2025-02-06T04:48:49.227229Z",
     "shell.execute_reply": "2025-02-06T04:48:49.226110Z"
    },
    "id": "3d495d71-39af-4d3f-80fd-0d0a22b01532",
    "papermill": {
     "duration": 0.034206,
     "end_time": "2025-02-06T04:48:49.229109",
     "exception": false,
     "start_time": "2025-02-06T04:48:49.194903",
     "status": "completed"
    },
    "tags": []
   },
   "outputs": [
    {
     "data": {
      "text/html": [
       "<div>\n",
       "<style scoped>\n",
       "    .dataframe tbody tr th:only-of-type {\n",
       "        vertical-align: middle;\n",
       "    }\n",
       "\n",
       "    .dataframe tbody tr th {\n",
       "        vertical-align: top;\n",
       "    }\n",
       "\n",
       "    .dataframe thead th {\n",
       "        text-align: right;\n",
       "    }\n",
       "</style>\n",
       "<table border=\"1\" class=\"dataframe\">\n",
       "  <thead>\n",
       "    <tr style=\"text-align: right;\">\n",
       "      <th></th>\n",
       "      <th>Company</th>\n",
       "      <th>Valuation</th>\n",
       "      <th>Date Joined</th>\n",
       "      <th>Industry</th>\n",
       "      <th>City</th>\n",
       "      <th>Country/Region</th>\n",
       "      <th>Continent</th>\n",
       "      <th>Year Founded</th>\n",
       "      <th>Funding</th>\n",
       "      <th>Select Investors</th>\n",
       "      <th>Years to Unicorn</th>\n",
       "    </tr>\n",
       "  </thead>\n",
       "  <tbody>\n",
       "    <tr>\n",
       "      <th>0</th>\n",
       "      <td>Bytedance</td>\n",
       "      <td>180</td>\n",
       "      <td>2017-04-07</td>\n",
       "      <td>Artificial intelligence</td>\n",
       "      <td>Beijing</td>\n",
       "      <td>China</td>\n",
       "      <td>Asia</td>\n",
       "      <td>2012</td>\n",
       "      <td>$8B</td>\n",
       "      <td>Sequoia Capital China, SIG Asia Investments, S...</td>\n",
       "      <td>5</td>\n",
       "    </tr>\n",
       "    <tr>\n",
       "      <th>1</th>\n",
       "      <td>SpaceX</td>\n",
       "      <td>100</td>\n",
       "      <td>2012-12-01</td>\n",
       "      <td>Other</td>\n",
       "      <td>Hawthorne</td>\n",
       "      <td>United States</td>\n",
       "      <td>North America</td>\n",
       "      <td>2002</td>\n",
       "      <td>$7B</td>\n",
       "      <td>Founders Fund, Draper Fisher Jurvetson, Rothen...</td>\n",
       "      <td>10</td>\n",
       "    </tr>\n",
       "    <tr>\n",
       "      <th>2</th>\n",
       "      <td>SHEIN</td>\n",
       "      <td>100</td>\n",
       "      <td>2018-07-03</td>\n",
       "      <td>E-commerce &amp; direct-to-consumer</td>\n",
       "      <td>Shenzhen</td>\n",
       "      <td>China</td>\n",
       "      <td>Asia</td>\n",
       "      <td>2008</td>\n",
       "      <td>$2B</td>\n",
       "      <td>Tiger Global Management, Sequoia Capital China...</td>\n",
       "      <td>10</td>\n",
       "    </tr>\n",
       "    <tr>\n",
       "      <th>3</th>\n",
       "      <td>Stripe</td>\n",
       "      <td>95</td>\n",
       "      <td>2014-01-23</td>\n",
       "      <td>FinTech</td>\n",
       "      <td>San Francisco</td>\n",
       "      <td>United States</td>\n",
       "      <td>North America</td>\n",
       "      <td>2010</td>\n",
       "      <td>$2B</td>\n",
       "      <td>Khosla Ventures, LowercaseCapital, capitalG</td>\n",
       "      <td>4</td>\n",
       "    </tr>\n",
       "    <tr>\n",
       "      <th>4</th>\n",
       "      <td>Klarna</td>\n",
       "      <td>46</td>\n",
       "      <td>2011-12-12</td>\n",
       "      <td>Fintech</td>\n",
       "      <td>Stockholm</td>\n",
       "      <td>Sweden</td>\n",
       "      <td>Europe</td>\n",
       "      <td>2005</td>\n",
       "      <td>$4B</td>\n",
       "      <td>Institutional Venture Partners, Sequoia Capita...</td>\n",
       "      <td>6</td>\n",
       "    </tr>\n",
       "  </tbody>\n",
       "</table>\n",
       "</div>"
      ],
      "text/plain": [
       "     Company  Valuation Date Joined                         Industry  \\\n",
       "0  Bytedance        180  2017-04-07          Artificial intelligence   \n",
       "1     SpaceX        100  2012-12-01                            Other   \n",
       "2      SHEIN        100  2018-07-03  E-commerce & direct-to-consumer   \n",
       "3     Stripe         95  2014-01-23                          FinTech   \n",
       "4     Klarna         46  2011-12-12                          Fintech   \n",
       "\n",
       "            City Country/Region      Continent  Year Founded Funding  \\\n",
       "0        Beijing          China           Asia          2012     $8B   \n",
       "1      Hawthorne  United States  North America          2002     $7B   \n",
       "2       Shenzhen          China           Asia          2008     $2B   \n",
       "3  San Francisco  United States  North America          2010     $2B   \n",
       "4      Stockholm         Sweden         Europe          2005     $4B   \n",
       "\n",
       "                                    Select Investors  Years to Unicorn  \n",
       "0  Sequoia Capital China, SIG Asia Investments, S...                 5  \n",
       "1  Founders Fund, Draper Fisher Jurvetson, Rothen...                10  \n",
       "2  Tiger Global Management, Sequoia Capital China...                10  \n",
       "3        Khosla Ventures, LowercaseCapital, capitalG                 4  \n",
       "4  Institutional Venture Partners, Sequoia Capita...                 6  "
      ]
     },
     "execution_count": 6,
     "metadata": {},
     "output_type": "execute_result"
    }
   ],
   "source": [
    "# Create the column Years To Unicorn.\n",
    "\n",
    "### YOUR CODE HERE ###\n",
    "companies['Years to Unicorn'] = companies['Date Joined'].dt.year - companies['Year Founded']\n",
    "companies.head()"
   ]
  },
  {
   "cell_type": "markdown",
   "id": "27598498",
   "metadata": {
    "id": "4a576b71-1047-48ab-abe9-c5e8d1b67d26",
    "papermill": {
     "duration": 0.074373,
     "end_time": "2025-02-06T04:48:49.319131",
     "exception": false,
     "start_time": "2025-02-06T04:48:49.244758",
     "status": "completed"
    },
    "tags": []
   },
   "source": [
    "<details>\n",
    "  <summary><h4><strong>Hint 1</strong></h4></summary>\n",
    "\n",
    "Extract just the year from the `Date Joined` column. \n",
    "\n",
    "</details>"
   ]
  },
  {
   "cell_type": "markdown",
   "id": "d081f2c5",
   "metadata": {
    "id": "21584921-1d6a-42ab-8f04-9793c7d5cee2",
    "papermill": {
     "duration": 0.015235,
     "end_time": "2025-02-06T04:48:49.350144",
     "exception": false,
     "start_time": "2025-02-06T04:48:49.334909",
     "status": "completed"
    },
    "tags": []
   },
   "source": [
    "<details>\n",
    "  <summary><h4><strong>Hint 2</strong></h4></summary>\n",
    "\n",
    "  Use `dt.year` to access the year of a datetime object.\n",
    "\n",
    "</details>"
   ]
  },
  {
   "cell_type": "markdown",
   "id": "be1c7cca",
   "metadata": {
    "id": "aea4d087-51f5-4b0f-b4c4-18b1acfe0c0d",
    "papermill": {
     "duration": 0.015202,
     "end_time": "2025-02-06T04:48:49.380567",
     "exception": false,
     "start_time": "2025-02-06T04:48:49.365365",
     "status": "completed"
    },
    "tags": []
   },
   "source": [
    "<details>\n",
    "  <summary><h4><strong>Hint 3</strong></h4></summary>\n",
    "\n",
    "Subtract the `Year Founded` from the `Date Joined`, and save it to a new column called `Years To Unicorn`.\n",
    "  \n",
    "Ensure you're properly extracting just the year (as an integer) from `Date Joined`.\n",
    "\n",
    "</details>"
   ]
  },
  {
   "cell_type": "markdown",
   "id": "c494925f",
   "metadata": {
    "id": "fb06c26b-70b7-4b05-9347-6675b8b329d3",
    "papermill": {
     "duration": 0.01566,
     "end_time": "2025-02-06T04:48:49.411541",
     "exception": false,
     "start_time": "2025-02-06T04:48:49.395881",
     "status": "completed"
    },
    "tags": []
   },
   "source": [
    "**QUESTION: Why might your client be interested in how quickly a company achieved unicorn status?**"
   ]
  },
  {
   "cell_type": "markdown",
   "id": "4e918bf7",
   "metadata": {
    "id": "ac6a0172-611e-4a1c-9afd-a39b489cbdee",
    "papermill": {
     "duration": 0.015279,
     "end_time": "2025-02-06T04:48:49.442074",
     "exception": false,
     "start_time": "2025-02-06T04:48:49.426795",
     "status": "completed"
    },
    "tags": []
   },
   "source": [
    "* to identify if a company is still in the growth phase so that they can invest in it\n",
    "* find the rate at which potential companies are reaching unicorn status in the recent times"
   ]
  },
  {
   "cell_type": "markdown",
   "id": "e58ad122",
   "metadata": {
    "id": "9fc9ddf1-ece0-40fb-9281-0808c193f5da",
    "papermill": {
     "duration": 0.014748,
     "end_time": "2025-02-06T04:48:49.471878",
     "exception": false,
     "start_time": "2025-02-06T04:48:49.457130",
     "status": "completed"
    },
    "tags": []
   },
   "source": [
    "### Input validation\n",
    "\n",
    "The data has some issues with bad data, duplicate rows, and inconsistent `Industry` labels.\n",
    "\n",
    "Identify and correct each of these issues."
   ]
  },
  {
   "cell_type": "markdown",
   "id": "1bd53a80",
   "metadata": {
    "id": "db0651e7-36ef-4c10-a3ba-97373167da64",
    "papermill": {
     "duration": 0.014957,
     "end_time": "2025-02-06T04:48:49.501939",
     "exception": false,
     "start_time": "2025-02-06T04:48:49.486982",
     "status": "completed"
    },
    "tags": []
   },
   "source": [
    "#### Correcting bad data\n",
    "\n",
    "Get descriptive statistics for the `Years To Unicorn` column."
   ]
  },
  {
   "cell_type": "code",
   "execution_count": 7,
   "id": "d8e5c65a",
   "metadata": {
    "execution": {
     "iopub.execute_input": "2025-02-06T04:48:49.533513Z",
     "iopub.status.busy": "2025-02-06T04:48:49.533143Z",
     "iopub.status.idle": "2025-02-06T04:48:49.548197Z",
     "shell.execute_reply": "2025-02-06T04:48:49.547275Z"
    },
    "id": "8b1b2ad0-a668-4290-9404-5a2541955c0d",
    "papermill": {
     "duration": 0.032821,
     "end_time": "2025-02-06T04:48:49.549931",
     "exception": false,
     "start_time": "2025-02-06T04:48:49.517110",
     "status": "completed"
    },
    "tags": []
   },
   "outputs": [
    {
     "data": {
      "text/plain": [
       "count    1074.000000\n",
       "mean        7.013035\n",
       "std         5.331842\n",
       "min        -3.000000\n",
       "25%         4.000000\n",
       "50%         6.000000\n",
       "75%         9.000000\n",
       "max        98.000000\n",
       "Name: Years to Unicorn, dtype: float64"
      ]
     },
     "execution_count": 7,
     "metadata": {},
     "output_type": "execute_result"
    }
   ],
   "source": [
    "# Identify and correct the issue with Years To Unicorn.\n",
    "\n",
    "### YOUR CODE HERE ###\n",
    "companies['Years to Unicorn'].describe()"
   ]
  },
  {
   "cell_type": "markdown",
   "id": "e236b9d9",
   "metadata": {
    "id": "80974b46-b7f9-4181-a90d-a6fa927a710b",
    "papermill": {
     "duration": 0.015648,
     "end_time": "2025-02-06T04:48:49.582361",
     "exception": false,
     "start_time": "2025-02-06T04:48:49.566713",
     "status": "completed"
    },
    "tags": []
   },
   "source": [
    "<details>\n",
    "  <summary><h4><strong>Hint 1</strong></h4></summary>\n",
    "\n",
    "Use the `describe()` method on the series. Considering the results, does anything seem problematic?\n",
    "\n",
    "</details>"
   ]
  },
  {
   "cell_type": "markdown",
   "id": "36afaafa",
   "metadata": {
    "id": "7d7e351d-368e-45ab-8e8a-5f1aded15655",
    "papermill": {
     "duration": 0.014977,
     "end_time": "2025-02-06T04:48:49.612648",
     "exception": false,
     "start_time": "2025-02-06T04:48:49.597671",
     "status": "completed"
    },
    "tags": []
   },
   "source": [
    "<details>\n",
    "  <summary><h4><strong>Hint 2</strong></h4></summary>\n",
    "\n",
    "A company cannot reach unicorn status before it is founded. In other words, `Years to Unicorn` cannot be less than 0.\n",
    "\n",
    "</details>"
   ]
  },
  {
   "cell_type": "markdown",
   "id": "dfa4f151",
   "metadata": {
    "papermill": {
     "duration": 0.014895,
     "end_time": "2025-02-06T04:48:49.642645",
     "exception": false,
     "start_time": "2025-02-06T04:48:49.627750",
     "status": "completed"
    },
    "tags": []
   },
   "source": [
    "<details>\n",
    "  <summary><h4><strong>Hint 3</strong></h4></summary>\n",
    "\n",
    "Using the `describe()` method on the `Years To Unicorn` series shows that the minimum value is `-3`. Since there cannot be negative time, this value and possibly others are problematic.\n",
    "\n",
    "</details>"
   ]
  },
  {
   "cell_type": "markdown",
   "id": "953910ab",
   "metadata": {
    "id": "8b325a5a-67d2-4f92-8159-a9f4c21b1779",
    "papermill": {
     "duration": 0.014908,
     "end_time": "2025-02-06T04:48:49.672724",
     "exception": false,
     "start_time": "2025-02-06T04:48:49.657816",
     "status": "completed"
    },
    "tags": []
   },
   "source": [
    "Isolate all rows where the `Years To Unicorn` column contains a negative value."
   ]
  },
  {
   "cell_type": "code",
   "execution_count": 8,
   "id": "2b3cc640",
   "metadata": {
    "execution": {
     "iopub.execute_input": "2025-02-06T04:48:49.704897Z",
     "iopub.status.busy": "2025-02-06T04:48:49.704493Z",
     "iopub.status.idle": "2025-02-06T04:48:49.721029Z",
     "shell.execute_reply": "2025-02-06T04:48:49.719837Z"
    },
    "id": "b02348fb-dde8-43e7-9368-4d771bf6e5a7",
    "papermill": {
     "duration": 0.034904,
     "end_time": "2025-02-06T04:48:49.723033",
     "exception": false,
     "start_time": "2025-02-06T04:48:49.688129",
     "status": "completed"
    },
    "tags": []
   },
   "outputs": [
    {
     "data": {
      "text/html": [
       "<div>\n",
       "<style scoped>\n",
       "    .dataframe tbody tr th:only-of-type {\n",
       "        vertical-align: middle;\n",
       "    }\n",
       "\n",
       "    .dataframe tbody tr th {\n",
       "        vertical-align: top;\n",
       "    }\n",
       "\n",
       "    .dataframe thead th {\n",
       "        text-align: right;\n",
       "    }\n",
       "</style>\n",
       "<table border=\"1\" class=\"dataframe\">\n",
       "  <thead>\n",
       "    <tr style=\"text-align: right;\">\n",
       "      <th></th>\n",
       "      <th>Company</th>\n",
       "      <th>Valuation</th>\n",
       "      <th>Date Joined</th>\n",
       "      <th>Industry</th>\n",
       "      <th>City</th>\n",
       "      <th>Country/Region</th>\n",
       "      <th>Continent</th>\n",
       "      <th>Year Founded</th>\n",
       "      <th>Funding</th>\n",
       "      <th>Select Investors</th>\n",
       "      <th>Years to Unicorn</th>\n",
       "    </tr>\n",
       "  </thead>\n",
       "  <tbody>\n",
       "    <tr>\n",
       "      <th>527</th>\n",
       "      <td>InVision</td>\n",
       "      <td>2</td>\n",
       "      <td>2017-11-01</td>\n",
       "      <td>Internet software &amp; services</td>\n",
       "      <td>New York</td>\n",
       "      <td>United States</td>\n",
       "      <td>North America</td>\n",
       "      <td>2020</td>\n",
       "      <td>$349M</td>\n",
       "      <td>FirstMark Capital, Tiger Global Management, IC...</td>\n",
       "      <td>-3</td>\n",
       "    </tr>\n",
       "  </tbody>\n",
       "</table>\n",
       "</div>"
      ],
      "text/plain": [
       "      Company  Valuation Date Joined                      Industry      City  \\\n",
       "527  InVision          2  2017-11-01  Internet software & services  New York   \n",
       "\n",
       "    Country/Region      Continent  Year Founded Funding  \\\n",
       "527  United States  North America          2020   $349M   \n",
       "\n",
       "                                      Select Investors  Years to Unicorn  \n",
       "527  FirstMark Capital, Tiger Global Management, IC...                -3  "
      ]
     },
     "execution_count": 8,
     "metadata": {},
     "output_type": "execute_result"
    }
   ],
   "source": [
    "# Isolate any rows where `Years To Unicorn` is negative\n",
    "\n",
    "### YOUR CODE HERE ###\n",
    "companies[companies['Years to Unicorn'] < 0]"
   ]
  },
  {
   "cell_type": "markdown",
   "id": "2ce922e2",
   "metadata": {
    "papermill": {
     "duration": 0.01517,
     "end_time": "2025-02-06T04:48:49.754224",
     "exception": false,
     "start_time": "2025-02-06T04:48:49.739054",
     "status": "completed"
    },
    "tags": []
   },
   "source": [
    "**Question: How many rows have negative values in the `Years To Unicorn` column, and what companies are they for?**\n"
   ]
  },
  {
   "cell_type": "markdown",
   "id": "ea9af9f7",
   "metadata": {
    "papermill": {
     "duration": 0.0153,
     "end_time": "2025-02-06T04:48:49.785086",
     "exception": false,
     "start_time": "2025-02-06T04:48:49.769786",
     "status": "completed"
    },
    "tags": []
   },
   "source": [
    "[Write your response here. Double-click (or enter) to edit.]"
   ]
  },
  {
   "cell_type": "markdown",
   "id": "f69938ed",
   "metadata": {
    "id": "739430f4-97ce-43d4-a982-3f75f3823702",
    "papermill": {
     "duration": 0.015276,
     "end_time": "2025-02-06T04:48:49.816274",
     "exception": false,
     "start_time": "2025-02-06T04:48:49.800998",
     "status": "completed"
    },
    "tags": []
   },
   "source": [
    "An internet search reveals that InVision was founded in 2011. Replace the value at `Year Founded` with `2011` for InVision's row. "
   ]
  },
  {
   "cell_type": "code",
   "execution_count": 9,
   "id": "935c6984",
   "metadata": {
    "execution": {
     "iopub.execute_input": "2025-02-06T04:48:49.850806Z",
     "iopub.status.busy": "2025-02-06T04:48:49.850407Z",
     "iopub.status.idle": "2025-02-06T04:48:49.864772Z",
     "shell.execute_reply": "2025-02-06T04:48:49.863707Z"
    },
    "id": "6b89463a-6426-4797-a62e-b7b26f0b2f3b",
    "papermill": {
     "duration": 0.032318,
     "end_time": "2025-02-06T04:48:49.866446",
     "exception": false,
     "start_time": "2025-02-06T04:48:49.834128",
     "status": "completed"
    },
    "tags": []
   },
   "outputs": [
    {
     "data": {
      "text/html": [
       "<div>\n",
       "<style scoped>\n",
       "    .dataframe tbody tr th:only-of-type {\n",
       "        vertical-align: middle;\n",
       "    }\n",
       "\n",
       "    .dataframe tbody tr th {\n",
       "        vertical-align: top;\n",
       "    }\n",
       "\n",
       "    .dataframe thead th {\n",
       "        text-align: right;\n",
       "    }\n",
       "</style>\n",
       "<table border=\"1\" class=\"dataframe\">\n",
       "  <thead>\n",
       "    <tr style=\"text-align: right;\">\n",
       "      <th></th>\n",
       "      <th>Company</th>\n",
       "      <th>Valuation</th>\n",
       "      <th>Date Joined</th>\n",
       "      <th>Industry</th>\n",
       "      <th>City</th>\n",
       "      <th>Country/Region</th>\n",
       "      <th>Continent</th>\n",
       "      <th>Year Founded</th>\n",
       "      <th>Funding</th>\n",
       "      <th>Select Investors</th>\n",
       "      <th>Years to Unicorn</th>\n",
       "    </tr>\n",
       "  </thead>\n",
       "  <tbody>\n",
       "    <tr>\n",
       "      <th>527</th>\n",
       "      <td>InVision</td>\n",
       "      <td>2</td>\n",
       "      <td>2017-11-01</td>\n",
       "      <td>Internet software &amp; services</td>\n",
       "      <td>New York</td>\n",
       "      <td>United States</td>\n",
       "      <td>North America</td>\n",
       "      <td>2011</td>\n",
       "      <td>$349M</td>\n",
       "      <td>FirstMark Capital, Tiger Global Management, IC...</td>\n",
       "      <td>-3</td>\n",
       "    </tr>\n",
       "  </tbody>\n",
       "</table>\n",
       "</div>"
      ],
      "text/plain": [
       "      Company  Valuation Date Joined                      Industry      City  \\\n",
       "527  InVision          2  2017-11-01  Internet software & services  New York   \n",
       "\n",
       "    Country/Region      Continent  Year Founded Funding  \\\n",
       "527  United States  North America          2011   $349M   \n",
       "\n",
       "                                      Select Investors  Years to Unicorn  \n",
       "527  FirstMark Capital, Tiger Global Management, IC...                -3  "
      ]
     },
     "execution_count": 9,
     "metadata": {},
     "output_type": "execute_result"
    }
   ],
   "source": [
    "# Replace InVision's `Year Founded` value with 2011\n",
    "\n",
    "### YOUR CODE HERE ###\n",
    "companies.loc[companies['Years to Unicorn'] < 0, 'Year Founded'] = 2011\n",
    "\n",
    "# Verify the change was made properly\n",
    "\n",
    "### YOUR CODE HERE ###\n",
    "companies[companies['Company'] == 'InVision']"
   ]
  },
  {
   "cell_type": "markdown",
   "id": "93015254",
   "metadata": {
    "id": "65909471-2b17-4d8d-b734-6d895029dc7d",
    "papermill": {
     "duration": 0.015226,
     "end_time": "2025-02-06T04:48:49.897712",
     "exception": false,
     "start_time": "2025-02-06T04:48:49.882486",
     "status": "completed"
    },
    "tags": []
   },
   "source": [
    "<details>\n",
    "  <summary><h4><strong>Hint 1</strong></h4></summary>\n",
    "\n",
    "To overwrite data in a dataframe in a situation like this, you should use `loc[]` or `iloc[]` selection statements. Otherwise, you might overwrite to a view of the dataframe, which means that you're not overwriting the data in the dataframe itself, and the change will not take permanent effect.\n",
    "\n",
    "</details>"
   ]
  },
  {
   "cell_type": "markdown",
   "id": "193cb8c9",
   "metadata": {
    "id": "c12d89ac-bcd3-4912-9faf-507b70b4b060",
    "papermill": {
     "duration": 0.015383,
     "end_time": "2025-02-06T04:48:49.929080",
     "exception": false,
     "start_time": "2025-02-06T04:48:49.913697",
     "status": "completed"
    },
    "tags": []
   },
   "source": [
    "<details>\n",
    "  <summary><h4><strong>Hint 2</strong></h4></summary>\n",
    "\n",
    "The following code will **not** work:\n",
    "    \n",
    "    companies[companies['Company']=='InVision']['Year Founded'] = 2011\n",
    "    \n",
    "You must use either `loc[]` or `iloc[]`.\n",
    "\n",
    "</details>"
   ]
  },
  {
   "cell_type": "markdown",
   "id": "f01f5a55",
   "metadata": {
    "id": "121e1b7c-845f-4cee-a973-aebd41411dd2",
    "papermill": {
     "duration": 0.015296,
     "end_time": "2025-02-06T04:48:49.960105",
     "exception": false,
     "start_time": "2025-02-06T04:48:49.944809",
     "status": "completed"
    },
    "tags": []
   },
   "source": [
    "Now, recalculate all the values in the `Years To Unicorn` column to remove the negative value for InVision. Verify that there are no more negative values afterwards."
   ]
  },
  {
   "cell_type": "code",
   "execution_count": 10,
   "id": "897d27eb",
   "metadata": {
    "execution": {
     "iopub.execute_input": "2025-02-06T04:48:49.994228Z",
     "iopub.status.busy": "2025-02-06T04:48:49.993845Z",
     "iopub.status.idle": "2025-02-06T04:48:50.003959Z",
     "shell.execute_reply": "2025-02-06T04:48:50.003139Z"
    },
    "id": "0850371d-4cf8-4f06-9e41-b3baa842d86c",
    "papermill": {
     "duration": 0.029162,
     "end_time": "2025-02-06T04:48:50.005598",
     "exception": false,
     "start_time": "2025-02-06T04:48:49.976436",
     "status": "completed"
    },
    "tags": []
   },
   "outputs": [
    {
     "data": {
      "text/plain": [
       "count    1074.000000\n",
       "mean        7.021415\n",
       "std         5.323155\n",
       "min         0.000000\n",
       "25%         4.000000\n",
       "50%         6.000000\n",
       "75%         9.000000\n",
       "max        98.000000\n",
       "Name: Years to Unicorn, dtype: float64"
      ]
     },
     "execution_count": 10,
     "metadata": {},
     "output_type": "execute_result"
    }
   ],
   "source": [
    "# Recalculate all values in the `Years To Unicorn` column\n",
    "\n",
    "### YOUR CODE HERE ###\n",
    "companies['Years to Unicorn'] = companies['Date Joined'].dt.year - companies['Year Founded']\n",
    "\n",
    "\n",
    "# Verify that there are no more negative values in the column\n",
    "\n",
    "### YOUR CODE HERE ###\n",
    "companies['Years to Unicorn'].describe()"
   ]
  },
  {
   "cell_type": "markdown",
   "id": "fd232c7a",
   "metadata": {
    "id": "0b6edaeb-6561-4201-b2d8-2c11ed8837c1",
    "papermill": {
     "duration": 0.015983,
     "end_time": "2025-02-06T04:48:50.037838",
     "exception": false,
     "start_time": "2025-02-06T04:48:50.021855",
     "status": "completed"
    },
    "tags": []
   },
   "source": [
    "#### Issues with `Industry` labels\n",
    "\n",
    "The company provided you with the following list of industry labels to identify in the data for `Industry`. \n",
    "\n",
    "**Note:** Any labels in the `Industry` column that are not in `industry_list` are misspellings."
   ]
  },
  {
   "cell_type": "code",
   "execution_count": 11,
   "id": "d7ca5f06",
   "metadata": {
    "execution": {
     "iopub.execute_input": "2025-02-06T04:48:50.070816Z",
     "iopub.status.busy": "2025-02-06T04:48:50.070418Z",
     "iopub.status.idle": "2025-02-06T04:48:50.074815Z",
     "shell.execute_reply": "2025-02-06T04:48:50.073933Z"
    },
    "papermill": {
     "duration": 0.022682,
     "end_time": "2025-02-06T04:48:50.076438",
     "exception": false,
     "start_time": "2025-02-06T04:48:50.053756",
     "status": "completed"
    },
    "tags": []
   },
   "outputs": [],
   "source": [
    "# List provided by the company of the expected industry labels in the data\n",
    "industry_list = ['Artificial intelligence', 'Other','E-commerce & direct-to-consumer', 'Fintech',\\\n",
    "       'Internet software & services','Supply chain, logistics, & delivery', 'Consumer & retail',\\\n",
    "       'Data management & analytics', 'Edtech', 'Health', 'Hardware','Auto & transportation', \\\n",
    "        'Travel', 'Cybersecurity','Mobile & telecommunications']"
   ]
  },
  {
   "cell_type": "markdown",
   "id": "238aa434",
   "metadata": {
    "papermill": {
     "duration": 0.015573,
     "end_time": "2025-02-06T04:48:50.107945",
     "exception": false,
     "start_time": "2025-02-06T04:48:50.092372",
     "status": "completed"
    },
    "tags": []
   },
   "source": [
    "First, check if there are values in the `Industry` column that are not in `industry_list`. If so, what are they?"
   ]
  },
  {
   "cell_type": "code",
   "execution_count": 12,
   "id": "40e9f27d",
   "metadata": {
    "execution": {
     "iopub.execute_input": "2025-02-06T04:48:50.141650Z",
     "iopub.status.busy": "2025-02-06T04:48:50.141284Z",
     "iopub.status.idle": "2025-02-06T04:48:50.147649Z",
     "shell.execute_reply": "2025-02-06T04:48:50.146625Z"
    },
    "papermill": {
     "duration": 0.025448,
     "end_time": "2025-02-06T04:48:50.149427",
     "exception": false,
     "start_time": "2025-02-06T04:48:50.123979",
     "status": "completed"
    },
    "tags": []
   },
   "outputs": [
    {
     "data": {
      "text/plain": [
       "{'Artificial Intelligence', 'Data management and analytics', 'FinTech'}"
      ]
     },
     "execution_count": 12,
     "metadata": {},
     "output_type": "execute_result"
    }
   ],
   "source": [
    "# Check which values are in `Industry` but not in `industry_list`\n",
    "\n",
    "### YOUR CODE HERE ###\n",
    "set(companies['Industry'])-set(industry_list)"
   ]
  },
  {
   "cell_type": "markdown",
   "id": "6386b2d6",
   "metadata": {
    "papermill": {
     "duration": 0.016224,
     "end_time": "2025-02-06T04:48:50.182074",
     "exception": false,
     "start_time": "2025-02-06T04:48:50.165850",
     "status": "completed"
    },
    "tags": []
   },
   "source": [
    "<details>\n",
    "  <summary><h4><strong>HINT 1</strong></h4></summary>\n",
    "\n",
    "There are many ways to do this. One approach is to consider what data type reduces iterable sequences to their unique elements and allows you to compare membership.\n",
    "\n",
    "</details>"
   ]
  },
  {
   "cell_type": "markdown",
   "id": "f03d6877",
   "metadata": {
    "papermill": {
     "duration": 0.015434,
     "end_time": "2025-02-06T04:48:50.213459",
     "exception": false,
     "start_time": "2025-02-06T04:48:50.198025",
     "status": "completed"
    },
    "tags": []
   },
   "source": [
    "<details>\n",
    "  <summary><h4><strong>HINT 2</strong></h4></summary>\n",
    "\n",
    "A set is a data type that consists of unique elements and supports membership testing with other sets.\n",
    "\n",
    "</details>"
   ]
  },
  {
   "cell_type": "markdown",
   "id": "5cd46e26",
   "metadata": {
    "papermill": {
     "duration": 0.015671,
     "end_time": "2025-02-06T04:48:50.244960",
     "exception": false,
     "start_time": "2025-02-06T04:48:50.229289",
     "status": "completed"
    },
    "tags": []
   },
   "source": [
    "<details>\n",
    "  <summary><h4><strong>HINT 3</strong></h4></summary>\n",
    "\n",
    "Set A &ndash; Set B will result in all the elements that are in Set A but not in Set B. Convert `industry_list` to a set and subtract it from the set of the values in the `Industry` series.\n",
    "\n",
    "</details>"
   ]
  },
  {
   "cell_type": "markdown",
   "id": "65d8e5e2",
   "metadata": {
    "papermill": {
     "duration": 0.015424,
     "end_time": "2025-02-06T04:48:50.276234",
     "exception": false,
     "start_time": "2025-02-06T04:48:50.260810",
     "status": "completed"
    },
    "tags": []
   },
   "source": [
    "**Question: Which values currently exist in the `Industry` column that are not in `industry_list`?**\n"
   ]
  },
  {
   "cell_type": "markdown",
   "id": "a6db88da",
   "metadata": {
    "papermill": {
     "duration": 0.015311,
     "end_time": "2025-02-06T04:48:50.307338",
     "exception": false,
     "start_time": "2025-02-06T04:48:50.292027",
     "status": "completed"
    },
    "tags": []
   },
   "source": [
    "* 'Artificial Intelligence', 'Data management and analytics', 'FinTech' are having incorrect spellings or cases"
   ]
  },
  {
   "cell_type": "markdown",
   "id": "1bb2a71d",
   "metadata": {
    "papermill": {
     "duration": 0.015604,
     "end_time": "2025-02-06T04:48:50.338768",
     "exception": false,
     "start_time": "2025-02-06T04:48:50.323164",
     "status": "completed"
    },
    "tags": []
   },
   "source": [
    "Now, correct the bad entries in the `Industry` column by replacing them with an approved string from `industry_list`. To do this, use the [`replace()`](https://pandas.pydata.org/docs/reference/api/pandas.Series.replace.html) `Series` method on the `Industry` series. When you pass a dictionary to the method, it will replace the data in the series where that data matches the dictionary's keys. The values that get imputed are the values of the dictionary. If a value is not specified in the dictionary, the series' original value is retained.\n",
    "</br></br>\n",
    "\n",
    "\n",
    "```\n",
    "Example:\n",
    "\n",
    " [IN]: column_a = pd.Series(['A', 'B', 'C', 'D'])\n",
    "       column_a\n",
    "\n",
    "[OUT]: 0    A\n",
    "       1    B\n",
    "       2    C\n",
    "       3    D\n",
    "       dtype: object\n",
    "\n",
    " [IN]: replacement_dict = {'A':'z', 'B':'y', 'C':'x'}\n",
    "       column_a = column_a.replace(replacement_dict)\n",
    "       column_a\n",
    "       \n",
    "[OUT]: 0    z\n",
    "       1    y\n",
    "       2    x\n",
    "       3    D\n",
    "       dtype: object\n",
    "\n",
    "```\n",
    "\n",
    "1. Create a dictionary called `replacement_dict` whose keys are the incorrect spellings in the `Industry` series and whose values are the correct spelling, as indicated in `industry_list`.\n",
    "\n",
    "2. Call the `replace()` method on the `Industry` series and pass to it `replacement_dict` as its argument. Reassign the result back to the `Industry` column.\n",
    "\n",
    "3. Verify that there are no longer any elements in `Industry` that are not in `industry_list`."
   ]
  },
  {
   "cell_type": "code",
   "execution_count": 13,
   "id": "d0568cde",
   "metadata": {
    "execution": {
     "iopub.execute_input": "2025-02-06T04:48:50.372580Z",
     "iopub.status.busy": "2025-02-06T04:48:50.372244Z",
     "iopub.status.idle": "2025-02-06T04:48:50.381259Z",
     "shell.execute_reply": "2025-02-06T04:48:50.380195Z"
    },
    "papermill": {
     "duration": 0.028287,
     "end_time": "2025-02-06T04:48:50.382980",
     "exception": false,
     "start_time": "2025-02-06T04:48:50.354693",
     "status": "completed"
    },
    "tags": []
   },
   "outputs": [
    {
     "data": {
      "text/plain": [
       "set()"
      ]
     },
     "execution_count": 13,
     "metadata": {},
     "output_type": "execute_result"
    }
   ],
   "source": [
    "# 1. Create `replacement_dict`\n",
    "\n",
    "### YOUR CODE HERE ###\n",
    "replacement_dict = {'Artificial Intelligence': 'Artificial intelligence',\n",
    "                   'Data management and analytics': 'Data management & analytics',\n",
    "                   'FinTech': 'Fintech'}\n",
    "\n",
    "\n",
    "# 2. Replace the incorrect values in the `Industry` column\n",
    "\n",
    "### YOUR CODE HERE ###\n",
    "companies['Industry'] = companies['Industry'].replace(replacement_dict)\n",
    "\n",
    "\n",
    "# 3. Verify that there are no longer any elements in `Industry` that are not in `industry_list`\n",
    "\n",
    "### YOUR CODE HERE ###\n",
    "set(companies['Industry']) - set(industry_list)"
   ]
  },
  {
   "cell_type": "markdown",
   "id": "fcc0ded5",
   "metadata": {
    "papermill": {
     "duration": 0.016071,
     "end_time": "2025-02-06T04:48:50.415801",
     "exception": false,
     "start_time": "2025-02-06T04:48:50.399730",
     "status": "completed"
    },
    "tags": []
   },
   "source": [
    "<details>\n",
    "  <summary><h4><strong>Hint 1</strong></h4></summary>\n",
    "\n",
    "Refer to the example provided for how to use the `replace()` `Series` method.\n",
    "    \n",
    "</details>"
   ]
  },
  {
   "cell_type": "markdown",
   "id": "ed2b0775",
   "metadata": {
    "papermill": {
     "duration": 0.015794,
     "end_time": "2025-02-06T04:48:50.447900",
     "exception": false,
     "start_time": "2025-02-06T04:48:50.432106",
     "status": "completed"
    },
    "tags": []
   },
   "source": [
    "<details>\n",
    "  <summary><h4><strong>Hint 2</strong></h4></summary>\n",
    "\n",
    "When you define the `replacement_dict` dictionary, the misspellings should be the keys and the correct spellings should be the values.\n",
    "\n",
    "</details>"
   ]
  },
  {
   "cell_type": "markdown",
   "id": "374e25c3",
   "metadata": {
    "papermill": {
     "duration": 0.015742,
     "end_time": "2025-02-06T04:48:50.479821",
     "exception": false,
     "start_time": "2025-02-06T04:48:50.464079",
     "status": "completed"
    },
    "tags": []
   },
   "source": [
    "<details>\n",
    "  <summary><h4><strong>Hint 3</strong></h4></summary>   \n",
    "\n",
    "When you call `replace()` on the `Industry` series and pass to it the `replacement_dict` dictionary as an argument, you must reassign the result back to `companies['Industry']` for the change to take effect.   \n",
    "    \n",
    "</details>"
   ]
  },
  {
   "cell_type": "markdown",
   "id": "30f6084e",
   "metadata": {
    "papermill": {
     "duration": 0.015634,
     "end_time": "2025-02-06T04:48:50.511467",
     "exception": false,
     "start_time": "2025-02-06T04:48:50.495833",
     "status": "completed"
    },
    "tags": []
   },
   "source": [
    "#### Handling duplicate rows\n",
    "\n",
    "The business mentioned that no company should appear in the data more than once.\n",
    "\n",
    "Verify that this is indeed the case, and if not, clean the data so each company appears only once.\n",
    "\n",
    "Begin by checking which, if any, companies are duplicated. Filter the data to return all occurrences of those duplicated companies."
   ]
  },
  {
   "cell_type": "code",
   "execution_count": 14,
   "id": "8e41b589",
   "metadata": {
    "execution": {
     "iopub.execute_input": "2025-02-06T04:48:50.544852Z",
     "iopub.status.busy": "2025-02-06T04:48:50.544437Z",
     "iopub.status.idle": "2025-02-06T04:48:50.559115Z",
     "shell.execute_reply": "2025-02-06T04:48:50.558005Z"
    },
    "papermill": {
     "duration": 0.033178,
     "end_time": "2025-02-06T04:48:50.560649",
     "exception": false,
     "start_time": "2025-02-06T04:48:50.527471",
     "status": "completed"
    },
    "tags": []
   },
   "outputs": [
    {
     "data": {
      "text/html": [
       "<div>\n",
       "<style scoped>\n",
       "    .dataframe tbody tr th:only-of-type {\n",
       "        vertical-align: middle;\n",
       "    }\n",
       "\n",
       "    .dataframe tbody tr th {\n",
       "        vertical-align: top;\n",
       "    }\n",
       "\n",
       "    .dataframe thead th {\n",
       "        text-align: right;\n",
       "    }\n",
       "</style>\n",
       "<table border=\"1\" class=\"dataframe\">\n",
       "  <thead>\n",
       "    <tr style=\"text-align: right;\">\n",
       "      <th></th>\n",
       "      <th>Company</th>\n",
       "      <th>Valuation</th>\n",
       "      <th>Date Joined</th>\n",
       "      <th>Industry</th>\n",
       "      <th>City</th>\n",
       "      <th>Country/Region</th>\n",
       "      <th>Continent</th>\n",
       "      <th>Year Founded</th>\n",
       "      <th>Funding</th>\n",
       "      <th>Select Investors</th>\n",
       "      <th>Years to Unicorn</th>\n",
       "    </tr>\n",
       "  </thead>\n",
       "  <tbody>\n",
       "    <tr>\n",
       "      <th>385</th>\n",
       "      <td>BrewDog</td>\n",
       "      <td>2</td>\n",
       "      <td>2017-04-10</td>\n",
       "      <td>Consumer &amp; retail</td>\n",
       "      <td>Aberdeen</td>\n",
       "      <td>United Kingdom</td>\n",
       "      <td>Europe</td>\n",
       "      <td>2007</td>\n",
       "      <td>$233M</td>\n",
       "      <td>TSG Consumer Partners, Crowdcube</td>\n",
       "      <td>10</td>\n",
       "    </tr>\n",
       "    <tr>\n",
       "      <th>386</th>\n",
       "      <td>BrewDog</td>\n",
       "      <td>2</td>\n",
       "      <td>2017-04-10</td>\n",
       "      <td>Consumer &amp; retail</td>\n",
       "      <td>Aberdeen</td>\n",
       "      <td>UnitedKingdom</td>\n",
       "      <td>Europe</td>\n",
       "      <td>2007</td>\n",
       "      <td>$233M</td>\n",
       "      <td>TSG Consumer Partners</td>\n",
       "      <td>10</td>\n",
       "    </tr>\n",
       "    <tr>\n",
       "      <th>510</th>\n",
       "      <td>ZocDoc</td>\n",
       "      <td>2</td>\n",
       "      <td>2015-08-20</td>\n",
       "      <td>Health</td>\n",
       "      <td>New York</td>\n",
       "      <td>United States</td>\n",
       "      <td>North America</td>\n",
       "      <td>2007</td>\n",
       "      <td>$374M</td>\n",
       "      <td>Founders Fund, Khosla Ventures, Goldman Sachs</td>\n",
       "      <td>8</td>\n",
       "    </tr>\n",
       "    <tr>\n",
       "      <th>511</th>\n",
       "      <td>ZocDoc</td>\n",
       "      <td>2</td>\n",
       "      <td>2015-08-20</td>\n",
       "      <td>Health</td>\n",
       "      <td>NaN</td>\n",
       "      <td>United States</td>\n",
       "      <td>North America</td>\n",
       "      <td>2007</td>\n",
       "      <td>$374M</td>\n",
       "      <td>Founders Fund</td>\n",
       "      <td>8</td>\n",
       "    </tr>\n",
       "    <tr>\n",
       "      <th>1031</th>\n",
       "      <td>SoundHound</td>\n",
       "      <td>1</td>\n",
       "      <td>2018-05-03</td>\n",
       "      <td>Artificial intelligence</td>\n",
       "      <td>Santa Clara</td>\n",
       "      <td>United States</td>\n",
       "      <td>North America</td>\n",
       "      <td>2005</td>\n",
       "      <td>$215M</td>\n",
       "      <td>Tencent Holdings, Walden Venture Capital, Glob...</td>\n",
       "      <td>13</td>\n",
       "    </tr>\n",
       "    <tr>\n",
       "      <th>1032</th>\n",
       "      <td>SoundHound</td>\n",
       "      <td>1</td>\n",
       "      <td>2018-05-03</td>\n",
       "      <td>Other</td>\n",
       "      <td>Santa Clara</td>\n",
       "      <td>United States</td>\n",
       "      <td>North America</td>\n",
       "      <td>2005</td>\n",
       "      <td>$215M</td>\n",
       "      <td>Tencent Holdings</td>\n",
       "      <td>13</td>\n",
       "    </tr>\n",
       "  </tbody>\n",
       "</table>\n",
       "</div>"
      ],
      "text/plain": [
       "         Company  Valuation Date Joined                 Industry         City  \\\n",
       "385      BrewDog          2  2017-04-10        Consumer & retail     Aberdeen   \n",
       "386      BrewDog          2  2017-04-10        Consumer & retail     Aberdeen   \n",
       "510       ZocDoc          2  2015-08-20                   Health     New York   \n",
       "511       ZocDoc          2  2015-08-20                   Health          NaN   \n",
       "1031  SoundHound          1  2018-05-03  Artificial intelligence  Santa Clara   \n",
       "1032  SoundHound          1  2018-05-03                    Other  Santa Clara   \n",
       "\n",
       "      Country/Region      Continent  Year Founded Funding  \\\n",
       "385   United Kingdom         Europe          2007   $233M   \n",
       "386    UnitedKingdom         Europe          2007   $233M   \n",
       "510    United States  North America          2007   $374M   \n",
       "511    United States  North America          2007   $374M   \n",
       "1031   United States  North America          2005   $215M   \n",
       "1032   United States  North America          2005   $215M   \n",
       "\n",
       "                                       Select Investors  Years to Unicorn  \n",
       "385                    TSG Consumer Partners, Crowdcube                10  \n",
       "386                               TSG Consumer Partners                10  \n",
       "510       Founders Fund, Khosla Ventures, Goldman Sachs                 8  \n",
       "511                                       Founders Fund                 8  \n",
       "1031  Tencent Holdings, Walden Venture Capital, Glob...                13  \n",
       "1032                                   Tencent Holdings                13  "
      ]
     },
     "execution_count": 14,
     "metadata": {},
     "output_type": "execute_result"
    }
   ],
   "source": [
    "# Isolate rows of all companies that have duplicates\n",
    "\n",
    "### YOUR CODE HERE ###\n",
    "companies[companies.duplicated(subset=['Company'], keep=False)]"
   ]
  },
  {
   "cell_type": "markdown",
   "id": "f0740af3",
   "metadata": {
    "papermill": {
     "duration": 0.016701,
     "end_time": "2025-02-06T04:48:50.593793",
     "exception": false,
     "start_time": "2025-02-06T04:48:50.577092",
     "status": "completed"
    },
    "tags": []
   },
   "source": [
    "<details>\n",
    "  <summary><h4><strong>Hint 1</strong></h4></summary>\n",
    "\n",
    "Check for duplicated values specifically in the `Company` column, not entire rows that are duplicated. \n",
    "    \n",
    "</details>"
   ]
  },
  {
   "cell_type": "markdown",
   "id": "c7043be5",
   "metadata": {
    "papermill": {
     "duration": 0.015983,
     "end_time": "2025-02-06T04:48:50.626043",
     "exception": false,
     "start_time": "2025-02-06T04:48:50.610060",
     "status": "completed"
    },
    "tags": []
   },
   "source": [
    "<details>\n",
    "  <summary><h4><strong>Hint 2</strong></h4></summary>\n",
    "\n",
    "The pandas [`duplicated()`](https://pandas.pydata.org/docs/reference/api/pandas.DataFrame.duplicated.html#pandas.DataFrame.duplicated) `DataFrame` method can indentify duplicated rows. Apply it to the `Company` column in `companies` to find which companies appear more than once.\n",
    "    \n",
    "</details>"
   ]
  },
  {
   "cell_type": "markdown",
   "id": "4f29646c",
   "metadata": {
    "papermill": {
     "duration": 0.015964,
     "end_time": "2025-02-06T04:48:50.658391",
     "exception": false,
     "start_time": "2025-02-06T04:48:50.642427",
     "status": "completed"
    },
    "tags": []
   },
   "source": [
    "<details>\n",
    "  <summary><h4><strong>Hint 3</strong></h4></summary>\n",
    "\n",
    "* To specify that you want to check for duplicates only in the `Company` column, indicate this with the `subset` parameter.\n",
    "* To return _all_ occurrences of duplicates, set the `keep` parameter to `False`. \n",
    "    \n",
    "</details>"
   ]
  },
  {
   "cell_type": "markdown",
   "id": "c42e8974",
   "metadata": {
    "papermill": {
     "duration": 0.015975,
     "end_time": "2025-02-06T04:48:50.691062",
     "exception": false,
     "start_time": "2025-02-06T04:48:50.675087",
     "status": "completed"
    },
    "tags": []
   },
   "source": [
    "**Question: Do these duplicated companies seem like legitimate data points, or are they problematic data?**\n"
   ]
  },
  {
   "cell_type": "markdown",
   "id": "05a988d1",
   "metadata": {
    "papermill": {
     "duration": 0.015986,
     "end_time": "2025-02-06T04:48:50.723550",
     "exception": false,
     "start_time": "2025-02-06T04:48:50.707564",
     "status": "completed"
    },
    "tags": []
   },
   "source": [
    "* the duplicates are a copy of other records in the dataset\n",
    "* they are problematic for the analysis"
   ]
  },
  {
   "cell_type": "markdown",
   "id": "74241d34",
   "metadata": {
    "papermill": {
     "duration": 0.015875,
     "end_time": "2025-02-06T04:48:50.755685",
     "exception": false,
     "start_time": "2025-02-06T04:48:50.739810",
     "status": "completed"
    },
    "tags": []
   },
   "source": [
    "Keep the first occurrence of each duplicate company and drop the subsequent rows that are copies."
   ]
  },
  {
   "cell_type": "code",
   "execution_count": 15,
   "id": "264e244d",
   "metadata": {
    "execution": {
     "iopub.execute_input": "2025-02-06T04:48:50.789636Z",
     "iopub.status.busy": "2025-02-06T04:48:50.789256Z",
     "iopub.status.idle": "2025-02-06T04:48:50.804348Z",
     "shell.execute_reply": "2025-02-06T04:48:50.803091Z"
    },
    "papermill": {
     "duration": 0.034418,
     "end_time": "2025-02-06T04:48:50.806420",
     "exception": false,
     "start_time": "2025-02-06T04:48:50.772002",
     "status": "completed"
    },
    "tags": []
   },
   "outputs": [
    {
     "data": {
      "text/html": [
       "<div>\n",
       "<style scoped>\n",
       "    .dataframe tbody tr th:only-of-type {\n",
       "        vertical-align: middle;\n",
       "    }\n",
       "\n",
       "    .dataframe tbody tr th {\n",
       "        vertical-align: top;\n",
       "    }\n",
       "\n",
       "    .dataframe thead th {\n",
       "        text-align: right;\n",
       "    }\n",
       "</style>\n",
       "<table border=\"1\" class=\"dataframe\">\n",
       "  <thead>\n",
       "    <tr style=\"text-align: right;\">\n",
       "      <th></th>\n",
       "      <th>Company</th>\n",
       "      <th>Valuation</th>\n",
       "      <th>Date Joined</th>\n",
       "      <th>Industry</th>\n",
       "      <th>City</th>\n",
       "      <th>Country/Region</th>\n",
       "      <th>Continent</th>\n",
       "      <th>Year Founded</th>\n",
       "      <th>Funding</th>\n",
       "      <th>Select Investors</th>\n",
       "      <th>Years to Unicorn</th>\n",
       "    </tr>\n",
       "  </thead>\n",
       "  <tbody>\n",
       "    <tr>\n",
       "      <th>385</th>\n",
       "      <td>BrewDog</td>\n",
       "      <td>2</td>\n",
       "      <td>2017-04-10</td>\n",
       "      <td>Consumer &amp; retail</td>\n",
       "      <td>Aberdeen</td>\n",
       "      <td>United Kingdom</td>\n",
       "      <td>Europe</td>\n",
       "      <td>2007</td>\n",
       "      <td>$233M</td>\n",
       "      <td>TSG Consumer Partners, Crowdcube</td>\n",
       "      <td>10</td>\n",
       "    </tr>\n",
       "  </tbody>\n",
       "</table>\n",
       "</div>"
      ],
      "text/plain": [
       "     Company  Valuation Date Joined           Industry      City  \\\n",
       "385  BrewDog          2  2017-04-10  Consumer & retail  Aberdeen   \n",
       "\n",
       "     Country/Region Continent  Year Founded Funding  \\\n",
       "385  United Kingdom    Europe          2007   $233M   \n",
       "\n",
       "                     Select Investors  Years to Unicorn  \n",
       "385  TSG Consumer Partners, Crowdcube                10  "
      ]
     },
     "execution_count": 15,
     "metadata": {},
     "output_type": "execute_result"
    }
   ],
   "source": [
    "# Drop rows of duplicate companies after their first occurrence\n",
    "\n",
    "### YOUR CODE HERE ###\n",
    "companies = companies.drop_duplicates(subset=['Company'], keep='first')\n",
    "companies[companies['Company']=='BrewDog']"
   ]
  },
  {
   "cell_type": "markdown",
   "id": "ec124a3a",
   "metadata": {
    "papermill": {
     "duration": 0.018375,
     "end_time": "2025-02-06T04:48:50.841576",
     "exception": false,
     "start_time": "2025-02-06T04:48:50.823201",
     "status": "completed"
    },
    "tags": []
   },
   "source": [
    "<details>\n",
    "  <summary><h4><strong>Hint 1</strong></h4></summary>\n",
    "\n",
    "Use the [`drop_duplicates()`](https://pandas.pydata.org/docs/reference/api/pandas.DataFrame.drop_duplicates.html) `DataFrame` method. \n",
    "    \n",
    "</details>"
   ]
  },
  {
   "cell_type": "markdown",
   "id": "09e04687",
   "metadata": {
    "papermill": {
     "duration": 0.016464,
     "end_time": "2025-02-06T04:48:50.874648",
     "exception": false,
     "start_time": "2025-02-06T04:48:50.858184",
     "status": "completed"
    },
    "tags": []
   },
   "source": [
    "<details>\n",
    "  <summary><h4><strong>Hint 2</strong></h4></summary>\n",
    "\n",
    "Make sure to subset `Company` and reassign the results back to the `companies` dataframe for the changes to take effect.\n",
    "    \n",
    "</details>"
   ]
  },
  {
   "cell_type": "markdown",
   "id": "f2f603f6",
   "metadata": {
    "papermill": {
     "duration": 0.016128,
     "end_time": "2025-02-06T04:48:50.907238",
     "exception": false,
     "start_time": "2025-02-06T04:48:50.891110",
     "status": "completed"
    },
    "tags": []
   },
   "source": [
    "**Question: Why is it important to perform input validation?**\n"
   ]
  },
  {
   "cell_type": "markdown",
   "id": "c4c00240",
   "metadata": {
    "papermill": {
     "duration": 0.015973,
     "end_time": "2025-02-06T04:48:50.939990",
     "exception": false,
     "start_time": "2025-02-06T04:48:50.924017",
     "status": "completed"
    },
    "tags": []
   },
   "source": [
    "* data quality improvement and preservation \n",
    "* prevent unwanted errors"
   ]
  },
  {
   "cell_type": "markdown",
   "id": "efe41724",
   "metadata": {
    "papermill": {
     "duration": 0.016043,
     "end_time": "2025-02-06T04:48:50.972821",
     "exception": false,
     "start_time": "2025-02-06T04:48:50.956778",
     "status": "completed"
    },
    "tags": []
   },
   "source": [
    "**Question: What steps did you take to perform input validation for this dataset?**\n"
   ]
  },
  {
   "cell_type": "markdown",
   "id": "4e9943f2",
   "metadata": {
    "papermill": {
     "duration": 0.016725,
     "end_time": "2025-02-06T04:48:51.005851",
     "exception": false,
     "start_time": "2025-02-06T04:48:50.989126",
     "status": "completed"
    },
    "tags": []
   },
   "source": [
    "* handled and fixed features with string dtype\n",
    "* fix data entry errors\n",
    "* handled duplicates"
   ]
  },
  {
   "cell_type": "markdown",
   "id": "91fa5da2",
   "metadata": {
    "id": "w_HtFyHrXVAc",
    "papermill": {
     "duration": 0.016152,
     "end_time": "2025-02-06T04:48:51.038456",
     "exception": false,
     "start_time": "2025-02-06T04:48:51.022304",
     "status": "completed"
    },
    "tags": []
   },
   "source": [
    "### Convert numerical data to categorical data\n",
    "\n",
    "Sometimes, you'll want to simplify a numeric column by converting it to a categorical column. To do this, one common approach is to break the range of possible values into a defined number of equally sized bins and assign each bin a name. In the next step, you'll practice this process."
   ]
  },
  {
   "cell_type": "markdown",
   "id": "88af4691",
   "metadata": {
    "id": "3c03f2b7-8262-4ea5-94dd-53ee5f219cc7",
    "papermill": {
     "duration": 0.016334,
     "end_time": "2025-02-06T04:48:51.071349",
     "exception": false,
     "start_time": "2025-02-06T04:48:51.055015",
     "status": "completed"
    },
    "tags": []
   },
   "source": [
    "#### Create a `High Valuation` column\n",
    "\n",
    "The data in the `Valuation` column represents how much money (in billions, USD) each company is valued at. Use the `Valuation` column to create a new column called `High Valuation`. For each company, the value in this column should be `low` if the company is in the bottom 50% of company valuations and `high` if the company is in the top 50%."
   ]
  },
  {
   "cell_type": "code",
   "execution_count": 16,
   "id": "d707e089",
   "metadata": {
    "execution": {
     "iopub.execute_input": "2025-02-06T04:48:51.106072Z",
     "iopub.status.busy": "2025-02-06T04:48:51.105593Z",
     "iopub.status.idle": "2025-02-06T04:48:51.127371Z",
     "shell.execute_reply": "2025-02-06T04:48:51.126054Z"
    },
    "id": "646aaace-82a5-4b73-822a-27475822de4a",
    "papermill": {
     "duration": 0.041407,
     "end_time": "2025-02-06T04:48:51.129302",
     "exception": false,
     "start_time": "2025-02-06T04:48:51.087895",
     "status": "completed"
    },
    "tags": []
   },
   "outputs": [
    {
     "data": {
      "text/html": [
       "<div>\n",
       "<style scoped>\n",
       "    .dataframe tbody tr th:only-of-type {\n",
       "        vertical-align: middle;\n",
       "    }\n",
       "\n",
       "    .dataframe tbody tr th {\n",
       "        vertical-align: top;\n",
       "    }\n",
       "\n",
       "    .dataframe thead th {\n",
       "        text-align: right;\n",
       "    }\n",
       "</style>\n",
       "<table border=\"1\" class=\"dataframe\">\n",
       "  <thead>\n",
       "    <tr style=\"text-align: right;\">\n",
       "      <th></th>\n",
       "      <th>Company</th>\n",
       "      <th>Valuation</th>\n",
       "      <th>Date Joined</th>\n",
       "      <th>Industry</th>\n",
       "      <th>City</th>\n",
       "      <th>Country/Region</th>\n",
       "      <th>Continent</th>\n",
       "      <th>Year Founded</th>\n",
       "      <th>Funding</th>\n",
       "      <th>Select Investors</th>\n",
       "      <th>Years to Unicorn</th>\n",
       "      <th>High Valuation</th>\n",
       "    </tr>\n",
       "  </thead>\n",
       "  <tbody>\n",
       "    <tr>\n",
       "      <th>0</th>\n",
       "      <td>Bytedance</td>\n",
       "      <td>180</td>\n",
       "      <td>2017-04-07</td>\n",
       "      <td>Artificial intelligence</td>\n",
       "      <td>Beijing</td>\n",
       "      <td>China</td>\n",
       "      <td>Asia</td>\n",
       "      <td>2012</td>\n",
       "      <td>$8B</td>\n",
       "      <td>Sequoia Capital China, SIG Asia Investments, S...</td>\n",
       "      <td>5</td>\n",
       "      <td>high</td>\n",
       "    </tr>\n",
       "    <tr>\n",
       "      <th>1</th>\n",
       "      <td>SpaceX</td>\n",
       "      <td>100</td>\n",
       "      <td>2012-12-01</td>\n",
       "      <td>Other</td>\n",
       "      <td>Hawthorne</td>\n",
       "      <td>United States</td>\n",
       "      <td>North America</td>\n",
       "      <td>2002</td>\n",
       "      <td>$7B</td>\n",
       "      <td>Founders Fund, Draper Fisher Jurvetson, Rothen...</td>\n",
       "      <td>10</td>\n",
       "      <td>high</td>\n",
       "    </tr>\n",
       "    <tr>\n",
       "      <th>2</th>\n",
       "      <td>SHEIN</td>\n",
       "      <td>100</td>\n",
       "      <td>2018-07-03</td>\n",
       "      <td>E-commerce &amp; direct-to-consumer</td>\n",
       "      <td>Shenzhen</td>\n",
       "      <td>China</td>\n",
       "      <td>Asia</td>\n",
       "      <td>2008</td>\n",
       "      <td>$2B</td>\n",
       "      <td>Tiger Global Management, Sequoia Capital China...</td>\n",
       "      <td>10</td>\n",
       "      <td>high</td>\n",
       "    </tr>\n",
       "    <tr>\n",
       "      <th>3</th>\n",
       "      <td>Stripe</td>\n",
       "      <td>95</td>\n",
       "      <td>2014-01-23</td>\n",
       "      <td>Fintech</td>\n",
       "      <td>San Francisco</td>\n",
       "      <td>United States</td>\n",
       "      <td>North America</td>\n",
       "      <td>2010</td>\n",
       "      <td>$2B</td>\n",
       "      <td>Khosla Ventures, LowercaseCapital, capitalG</td>\n",
       "      <td>4</td>\n",
       "      <td>high</td>\n",
       "    </tr>\n",
       "    <tr>\n",
       "      <th>4</th>\n",
       "      <td>Klarna</td>\n",
       "      <td>46</td>\n",
       "      <td>2011-12-12</td>\n",
       "      <td>Fintech</td>\n",
       "      <td>Stockholm</td>\n",
       "      <td>Sweden</td>\n",
       "      <td>Europe</td>\n",
       "      <td>2005</td>\n",
       "      <td>$4B</td>\n",
       "      <td>Institutional Venture Partners, Sequoia Capita...</td>\n",
       "      <td>6</td>\n",
       "      <td>high</td>\n",
       "    </tr>\n",
       "  </tbody>\n",
       "</table>\n",
       "</div>"
      ],
      "text/plain": [
       "     Company  Valuation Date Joined                         Industry  \\\n",
       "0  Bytedance        180  2017-04-07          Artificial intelligence   \n",
       "1     SpaceX        100  2012-12-01                            Other   \n",
       "2      SHEIN        100  2018-07-03  E-commerce & direct-to-consumer   \n",
       "3     Stripe         95  2014-01-23                          Fintech   \n",
       "4     Klarna         46  2011-12-12                          Fintech   \n",
       "\n",
       "            City Country/Region      Continent  Year Founded Funding  \\\n",
       "0        Beijing          China           Asia          2012     $8B   \n",
       "1      Hawthorne  United States  North America          2002     $7B   \n",
       "2       Shenzhen          China           Asia          2008     $2B   \n",
       "3  San Francisco  United States  North America          2010     $2B   \n",
       "4      Stockholm         Sweden         Europe          2005     $4B   \n",
       "\n",
       "                                    Select Investors  Years to Unicorn  \\\n",
       "0  Sequoia Capital China, SIG Asia Investments, S...                 5   \n",
       "1  Founders Fund, Draper Fisher Jurvetson, Rothen...                10   \n",
       "2  Tiger Global Management, Sequoia Capital China...                10   \n",
       "3        Khosla Ventures, LowercaseCapital, capitalG                 4   \n",
       "4  Institutional Venture Partners, Sequoia Capita...                 6   \n",
       "\n",
       "  High Valuation  \n",
       "0           high  \n",
       "1           high  \n",
       "2           high  \n",
       "3           high  \n",
       "4           high  "
      ]
     },
     "execution_count": 16,
     "metadata": {},
     "output_type": "execute_result"
    }
   ],
   "source": [
    "# Create new `High Valuation` column\n",
    "# Use qcut to divide Valuation into 'high' and 'low' Valuation groups\n",
    "\n",
    "### YOUR CODE HERE ###\n",
    "companies['High Valuation'] = pd.qcut(companies['Valuation'], 2, labels = ['low', 'high'])\n",
    "companies.head()"
   ]
  },
  {
   "cell_type": "markdown",
   "id": "77b62f6f",
   "metadata": {
    "id": "3f610ee9-ef9d-4451-8667-edc8b4d803b9",
    "papermill": {
     "duration": 0.016682,
     "end_time": "2025-02-06T04:48:51.162873",
     "exception": false,
     "start_time": "2025-02-06T04:48:51.146191",
     "status": "completed"
    },
    "tags": []
   },
   "source": [
    "<details>\n",
    "  <summary><h4><strong>Hint 1</strong></h4></summary>\n",
    "\n",
    "There are multiple ways to complete this task. Review what you've learned about organizing data into equal quantiles.\n",
    "    \n",
    "</details>"
   ]
  },
  {
   "cell_type": "markdown",
   "id": "341b72e1",
   "metadata": {
    "id": "97caea9d-0d55-45ba-be01-d90260610d95",
    "papermill": {
     "duration": 0.016501,
     "end_time": "2025-02-06T04:48:51.196081",
     "exception": false,
     "start_time": "2025-02-06T04:48:51.179580",
     "status": "completed"
    },
    "tags": []
   },
   "source": [
    "<details>\n",
    "  <summary><h4><strong>Hint 2</strong></h4></summary>\n",
    "\n",
    "Consider using the pandas [`qcut()`](https://pandas.pydata.org/docs/reference/api/pandas.qcut.html) function. \n",
    "    \n",
    "</details>"
   ]
  },
  {
   "cell_type": "markdown",
   "id": "8e029eef",
   "metadata": {
    "id": "a606f612-aa34-46e3-b39f-c6f39b7e5dbd",
    "papermill": {
     "duration": 0.01644,
     "end_time": "2025-02-06T04:48:51.229417",
     "exception": false,
     "start_time": "2025-02-06T04:48:51.212977",
     "status": "completed"
    },
    "tags": []
   },
   "source": [
    "<details>\n",
    "  <summary><h4><strong>Hint 3</strong></h4></summary>\n",
    "\n",
    "Use `pandas` `qcut()` to divide the data into two equal-sized quantile buckets. Use the `labels` parameter to define the output labels. The values you give for `labels` will be the values that are inserted into the new column. \n",
    "    \n",
    "</details>"
   ]
  },
  {
   "cell_type": "markdown",
   "id": "30b8179c",
   "metadata": {
    "id": "6f5107f1-3694-4296-b857-b1e44ce2b09b",
    "papermill": {
     "duration": 0.016452,
     "end_time": "2025-02-06T04:48:51.262574",
     "exception": false,
     "start_time": "2025-02-06T04:48:51.246122",
     "status": "completed"
    },
    "tags": []
   },
   "source": [
    "### Convert categorical data to numerical data\n",
    "\n",
    "Three common methods for changing categorical data to numerical are:\n",
    "\n",
    "1. Label encoding: order matters (ordinal numeric labels)\n",
    "2. Label encoding: order doesn't matter (nominal numeric labels)\n",
    "3. Dummy encoding: order doesn't matter (creation of binary columns for each possible category contained in the variable)\n",
    "\n",
    "The decision on which method to use depends on the context and must be made on a case-to-case basis. However, a distinction is typically made between categorical variables with equal weight given to all possible categories vs. variables with a hierarchical structure of importance to their possible categories.  \n",
    "\n",
    "For example, a variable called `subject` might have possible values of `history`, `mathematics`, `literature`. In this case, each subject might be **nominal**&mdash;given the same level of importance. However, you might have another variable called `class`, whose possible values are `freshman`, `sophomore`, `junior`, `senior`. In this case, the class variable is **ordinal**&mdash;its values have an ordered, hierarchical structure of importance. \n",
    "\n",
    "Machine learning models typically need all data to be numeric, and they generally use ordinal label encoding (method 1) and dummy encoding (method 3). \n",
    "\n",
    "In the next steps, you'll convert the following variables: `Continent`, `Country/Region`, and `Industry`, each using a different approach."
   ]
  },
  {
   "cell_type": "markdown",
   "id": "5e3e0392",
   "metadata": {
    "papermill": {
     "duration": 0.016344,
     "end_time": "2025-02-06T04:48:51.295494",
     "exception": false,
     "start_time": "2025-02-06T04:48:51.279150",
     "status": "completed"
    },
    "tags": []
   },
   "source": [
    "### Convert `Continent` to numeric\n",
    "\n",
    "For the purposes of this exercise, suppose that the investment group has specified that they want to give more weight to continents with fewer unicorn companies because they believe this could indicate unrealized market potential. "
   ]
  },
  {
   "cell_type": "markdown",
   "id": "56a41267",
   "metadata": {
    "papermill": {
     "duration": 0.017399,
     "end_time": "2025-02-06T04:48:51.329503",
     "exception": false,
     "start_time": "2025-02-06T04:48:51.312104",
     "status": "completed"
    },
    "tags": []
   },
   "source": [
    "**Question: Which type of variable would this make the `Continent` variable in terms of how it would be converted to a numeric data type?**\n"
   ]
  },
  {
   "cell_type": "markdown",
   "id": "336beee5",
   "metadata": {
    "papermill": {
     "duration": 0.017368,
     "end_time": "2025-02-06T04:48:51.363556",
     "exception": false,
     "start_time": "2025-02-06T04:48:51.346188",
     "status": "completed"
    },
    "tags": []
   },
   "source": [
    "[Write your response here. Double-click (or enter) to edit.]"
   ]
  },
  {
   "cell_type": "markdown",
   "id": "d3c886f7",
   "metadata": {
    "papermill": {
     "duration": 0.0164,
     "end_time": "2025-02-06T04:48:51.397247",
     "exception": false,
     "start_time": "2025-02-06T04:48:51.380847",
     "status": "completed"
    },
    "tags": []
   },
   "source": [
    "Rank the continents in descending order from the greatest number of unicorn companies to the least."
   ]
  },
  {
   "cell_type": "code",
   "execution_count": 17,
   "id": "c475cbaa",
   "metadata": {
    "execution": {
     "iopub.execute_input": "2025-02-06T04:48:51.432156Z",
     "iopub.status.busy": "2025-02-06T04:48:51.431782Z",
     "iopub.status.idle": "2025-02-06T04:48:51.439430Z",
     "shell.execute_reply": "2025-02-06T04:48:51.438297Z"
    },
    "id": "bbd72ed4-5cac-41f7-a816-3a4d28e34eb4",
    "papermill": {
     "duration": 0.026861,
     "end_time": "2025-02-06T04:48:51.440966",
     "exception": false,
     "start_time": "2025-02-06T04:48:51.414105",
     "status": "completed"
    },
    "tags": []
   },
   "outputs": [
    {
     "data": {
      "text/plain": [
       "Continent\n",
       "North America    586\n",
       "Asia             310\n",
       "Europe           143\n",
       "South America     21\n",
       "Oceania            8\n",
       "Africa             3\n",
       "Name: count, dtype: int64"
      ]
     },
     "execution_count": 17,
     "metadata": {},
     "output_type": "execute_result"
    }
   ],
   "source": [
    "# Rank the continents by number of unicorn companies\n",
    "\n",
    "### YOUR CODE HERE ###\n",
    "companies.Continent.value_counts()"
   ]
  },
  {
   "cell_type": "markdown",
   "id": "fc67fe6d",
   "metadata": {
    "id": "34f1f513-2d9f-4da7-b884-6a6714b7652e",
    "papermill": {
     "duration": 0.016533,
     "end_time": "2025-02-06T04:48:51.474433",
     "exception": false,
     "start_time": "2025-02-06T04:48:51.457900",
     "status": "completed"
    },
    "tags": []
   },
   "source": [
    "<details>\n",
    "  <summary><h4><strong>Hint</strong></h4></summary>\n",
    "\n",
    "Use the `value_counts()` method on the `Continent` series.\n",
    "    \n",
    "</details>"
   ]
  },
  {
   "cell_type": "markdown",
   "id": "13bfc7e7",
   "metadata": {
    "id": "2c95b77d-7cda-46ba-975f-8632aaa6158d",
    "papermill": {
     "duration": 0.017206,
     "end_time": "2025-02-06T04:48:51.508364",
     "exception": false,
     "start_time": "2025-02-06T04:48:51.491158",
     "status": "completed"
    },
    "tags": []
   },
   "source": [
    "Now, create a new column called `Continent Number` that represents the `Continent` column converted to numeric in the order of their number of unicorn companies, where North America is encoded as `1`, through Africa, encoded as `6`."
   ]
  },
  {
   "cell_type": "code",
   "execution_count": 18,
   "id": "0736d17b",
   "metadata": {
    "execution": {
     "iopub.execute_input": "2025-02-06T04:48:51.542750Z",
     "iopub.status.busy": "2025-02-06T04:48:51.542300Z",
     "iopub.status.idle": "2025-02-06T04:48:51.561673Z",
     "shell.execute_reply": "2025-02-06T04:48:51.560381Z"
    },
    "id": "c3bd716a-7845-4c3c-988c-3b227c10e036",
    "papermill": {
     "duration": 0.038402,
     "end_time": "2025-02-06T04:48:51.563291",
     "exception": false,
     "start_time": "2025-02-06T04:48:51.524889",
     "status": "completed"
    },
    "tags": []
   },
   "outputs": [
    {
     "name": "stderr",
     "output_type": "stream",
     "text": [
      "<ipython-input-18-d4d9379f313f>:8: FutureWarning: Downcasting behavior in `replace` is deprecated and will be removed in a future version. To retain the old behavior, explicitly call `result.infer_objects(copy=False)`. To opt-in to the future behavior, set `pd.set_option('future.no_silent_downcasting', True)`\n",
      "  companies['Continent Number'] = companies['Continent'].replace(continent_dict)\n"
     ]
    },
    {
     "data": {
      "text/html": [
       "<div>\n",
       "<style scoped>\n",
       "    .dataframe tbody tr th:only-of-type {\n",
       "        vertical-align: middle;\n",
       "    }\n",
       "\n",
       "    .dataframe tbody tr th {\n",
       "        vertical-align: top;\n",
       "    }\n",
       "\n",
       "    .dataframe thead th {\n",
       "        text-align: right;\n",
       "    }\n",
       "</style>\n",
       "<table border=\"1\" class=\"dataframe\">\n",
       "  <thead>\n",
       "    <tr style=\"text-align: right;\">\n",
       "      <th></th>\n",
       "      <th>Company</th>\n",
       "      <th>Valuation</th>\n",
       "      <th>Date Joined</th>\n",
       "      <th>Industry</th>\n",
       "      <th>City</th>\n",
       "      <th>Country/Region</th>\n",
       "      <th>Continent</th>\n",
       "      <th>Year Founded</th>\n",
       "      <th>Funding</th>\n",
       "      <th>Select Investors</th>\n",
       "      <th>Years to Unicorn</th>\n",
       "      <th>High Valuation</th>\n",
       "      <th>Continent Number</th>\n",
       "    </tr>\n",
       "  </thead>\n",
       "  <tbody>\n",
       "    <tr>\n",
       "      <th>0</th>\n",
       "      <td>Bytedance</td>\n",
       "      <td>180</td>\n",
       "      <td>2017-04-07</td>\n",
       "      <td>Artificial intelligence</td>\n",
       "      <td>Beijing</td>\n",
       "      <td>China</td>\n",
       "      <td>Asia</td>\n",
       "      <td>2012</td>\n",
       "      <td>$8B</td>\n",
       "      <td>Sequoia Capital China, SIG Asia Investments, S...</td>\n",
       "      <td>5</td>\n",
       "      <td>high</td>\n",
       "      <td>2</td>\n",
       "    </tr>\n",
       "    <tr>\n",
       "      <th>1</th>\n",
       "      <td>SpaceX</td>\n",
       "      <td>100</td>\n",
       "      <td>2012-12-01</td>\n",
       "      <td>Other</td>\n",
       "      <td>Hawthorne</td>\n",
       "      <td>United States</td>\n",
       "      <td>North America</td>\n",
       "      <td>2002</td>\n",
       "      <td>$7B</td>\n",
       "      <td>Founders Fund, Draper Fisher Jurvetson, Rothen...</td>\n",
       "      <td>10</td>\n",
       "      <td>high</td>\n",
       "      <td>1</td>\n",
       "    </tr>\n",
       "    <tr>\n",
       "      <th>2</th>\n",
       "      <td>SHEIN</td>\n",
       "      <td>100</td>\n",
       "      <td>2018-07-03</td>\n",
       "      <td>E-commerce &amp; direct-to-consumer</td>\n",
       "      <td>Shenzhen</td>\n",
       "      <td>China</td>\n",
       "      <td>Asia</td>\n",
       "      <td>2008</td>\n",
       "      <td>$2B</td>\n",
       "      <td>Tiger Global Management, Sequoia Capital China...</td>\n",
       "      <td>10</td>\n",
       "      <td>high</td>\n",
       "      <td>2</td>\n",
       "    </tr>\n",
       "    <tr>\n",
       "      <th>3</th>\n",
       "      <td>Stripe</td>\n",
       "      <td>95</td>\n",
       "      <td>2014-01-23</td>\n",
       "      <td>Fintech</td>\n",
       "      <td>San Francisco</td>\n",
       "      <td>United States</td>\n",
       "      <td>North America</td>\n",
       "      <td>2010</td>\n",
       "      <td>$2B</td>\n",
       "      <td>Khosla Ventures, LowercaseCapital, capitalG</td>\n",
       "      <td>4</td>\n",
       "      <td>high</td>\n",
       "      <td>1</td>\n",
       "    </tr>\n",
       "    <tr>\n",
       "      <th>4</th>\n",
       "      <td>Klarna</td>\n",
       "      <td>46</td>\n",
       "      <td>2011-12-12</td>\n",
       "      <td>Fintech</td>\n",
       "      <td>Stockholm</td>\n",
       "      <td>Sweden</td>\n",
       "      <td>Europe</td>\n",
       "      <td>2005</td>\n",
       "      <td>$4B</td>\n",
       "      <td>Institutional Venture Partners, Sequoia Capita...</td>\n",
       "      <td>6</td>\n",
       "      <td>high</td>\n",
       "      <td>3</td>\n",
       "    </tr>\n",
       "  </tbody>\n",
       "</table>\n",
       "</div>"
      ],
      "text/plain": [
       "     Company  Valuation Date Joined                         Industry  \\\n",
       "0  Bytedance        180  2017-04-07          Artificial intelligence   \n",
       "1     SpaceX        100  2012-12-01                            Other   \n",
       "2      SHEIN        100  2018-07-03  E-commerce & direct-to-consumer   \n",
       "3     Stripe         95  2014-01-23                          Fintech   \n",
       "4     Klarna         46  2011-12-12                          Fintech   \n",
       "\n",
       "            City Country/Region      Continent  Year Founded Funding  \\\n",
       "0        Beijing          China           Asia          2012     $8B   \n",
       "1      Hawthorne  United States  North America          2002     $7B   \n",
       "2       Shenzhen          China           Asia          2008     $2B   \n",
       "3  San Francisco  United States  North America          2010     $2B   \n",
       "4      Stockholm         Sweden         Europe          2005     $4B   \n",
       "\n",
       "                                    Select Investors  Years to Unicorn  \\\n",
       "0  Sequoia Capital China, SIG Asia Investments, S...                 5   \n",
       "1  Founders Fund, Draper Fisher Jurvetson, Rothen...                10   \n",
       "2  Tiger Global Management, Sequoia Capital China...                10   \n",
       "3        Khosla Ventures, LowercaseCapital, capitalG                 4   \n",
       "4  Institutional Venture Partners, Sequoia Capita...                 6   \n",
       "\n",
       "  High Valuation  Continent Number  \n",
       "0           high                 2  \n",
       "1           high                 1  \n",
       "2           high                 2  \n",
       "3           high                 1  \n",
       "4           high                 3  "
      ]
     },
     "execution_count": 18,
     "metadata": {},
     "output_type": "execute_result"
    }
   ],
   "source": [
    "# Create numeric `Continent Number` column\n",
    "\n",
    "### YOUR CODE HERE ###\n",
    "# create a hashmap to map countries to ranks\n",
    "continent_dict = {'North America': 1,'Asia': 2,'Europe': 3,'South America': 4,'Oceania': 5,'Africa': 6}\n",
    "\n",
    "# create a new column\n",
    "companies['Continent Number'] = companies['Continent'].replace(continent_dict)\n",
    "companies.head()"
   ]
  },
  {
   "cell_type": "markdown",
   "id": "31bb25af",
   "metadata": {
    "id": "ce4eb04d-d2d3-454c-a273-0815b1d1a95a",
    "papermill": {
     "duration": 0.017464,
     "end_time": "2025-02-06T04:48:51.597975",
     "exception": false,
     "start_time": "2025-02-06T04:48:51.580511",
     "status": "completed"
    },
    "tags": []
   },
   "source": [
    "<details>\n",
    "  <summary><h4><strong>Hint </strong></h4></summary>\n",
    "\n",
    "Create a mapping dictionary and use the `replace()` method on the `Category` column. Refer to the example provided above for more information about `replace()`.\n",
    "    \n",
    "</details>"
   ]
  },
  {
   "cell_type": "markdown",
   "id": "a0c20928",
   "metadata": {
    "papermill": {
     "duration": 0.01684,
     "end_time": "2025-02-06T04:48:51.632155",
     "exception": false,
     "start_time": "2025-02-06T04:48:51.615315",
     "status": "completed"
    },
    "tags": []
   },
   "source": [
    "### Convert `Country/Region` to numeric\n",
    "\n",
    "Now, suppose that within a given continent, each company's `Country/Region` is given equal importance. For analytical purposes, you want to convert the values in this column to numeric without creating a large number of dummy columns. Use label encoding of this nominal categorical variable to create a new column called `Country/Region Numeric`, wherein each unique `Country/Region` is assigned its own number. "
   ]
  },
  {
   "cell_type": "code",
   "execution_count": 19,
   "id": "33e6aa99",
   "metadata": {
    "execution": {
     "iopub.execute_input": "2025-02-06T04:48:51.667534Z",
     "iopub.status.busy": "2025-02-06T04:48:51.667145Z",
     "iopub.status.idle": "2025-02-06T04:48:51.683445Z",
     "shell.execute_reply": "2025-02-06T04:48:51.682320Z"
    },
    "papermill": {
     "duration": 0.036008,
     "end_time": "2025-02-06T04:48:51.685193",
     "exception": false,
     "start_time": "2025-02-06T04:48:51.649185",
     "status": "completed"
    },
    "tags": []
   },
   "outputs": [
    {
     "data": {
      "text/html": [
       "<div>\n",
       "<style scoped>\n",
       "    .dataframe tbody tr th:only-of-type {\n",
       "        vertical-align: middle;\n",
       "    }\n",
       "\n",
       "    .dataframe tbody tr th {\n",
       "        vertical-align: top;\n",
       "    }\n",
       "\n",
       "    .dataframe thead th {\n",
       "        text-align: right;\n",
       "    }\n",
       "</style>\n",
       "<table border=\"1\" class=\"dataframe\">\n",
       "  <thead>\n",
       "    <tr style=\"text-align: right;\">\n",
       "      <th></th>\n",
       "      <th>Company</th>\n",
       "      <th>Valuation</th>\n",
       "      <th>Date Joined</th>\n",
       "      <th>Industry</th>\n",
       "      <th>City</th>\n",
       "      <th>Country/Region</th>\n",
       "      <th>Continent</th>\n",
       "      <th>Year Founded</th>\n",
       "      <th>Funding</th>\n",
       "      <th>Select Investors</th>\n",
       "      <th>Years to Unicorn</th>\n",
       "      <th>High Valuation</th>\n",
       "      <th>Continent Number</th>\n",
       "      <th>Country/Region Numeric</th>\n",
       "    </tr>\n",
       "  </thead>\n",
       "  <tbody>\n",
       "    <tr>\n",
       "      <th>0</th>\n",
       "      <td>Bytedance</td>\n",
       "      <td>180</td>\n",
       "      <td>2017-04-07</td>\n",
       "      <td>Artificial intelligence</td>\n",
       "      <td>Beijing</td>\n",
       "      <td>China</td>\n",
       "      <td>Asia</td>\n",
       "      <td>2012</td>\n",
       "      <td>$8B</td>\n",
       "      <td>Sequoia Capital China, SIG Asia Investments, S...</td>\n",
       "      <td>5</td>\n",
       "      <td>high</td>\n",
       "      <td>2</td>\n",
       "      <td>9</td>\n",
       "    </tr>\n",
       "    <tr>\n",
       "      <th>1</th>\n",
       "      <td>SpaceX</td>\n",
       "      <td>100</td>\n",
       "      <td>2012-12-01</td>\n",
       "      <td>Other</td>\n",
       "      <td>Hawthorne</td>\n",
       "      <td>United States</td>\n",
       "      <td>North America</td>\n",
       "      <td>2002</td>\n",
       "      <td>$7B</td>\n",
       "      <td>Founders Fund, Draper Fisher Jurvetson, Rothen...</td>\n",
       "      <td>10</td>\n",
       "      <td>high</td>\n",
       "      <td>1</td>\n",
       "      <td>44</td>\n",
       "    </tr>\n",
       "    <tr>\n",
       "      <th>2</th>\n",
       "      <td>SHEIN</td>\n",
       "      <td>100</td>\n",
       "      <td>2018-07-03</td>\n",
       "      <td>E-commerce &amp; direct-to-consumer</td>\n",
       "      <td>Shenzhen</td>\n",
       "      <td>China</td>\n",
       "      <td>Asia</td>\n",
       "      <td>2008</td>\n",
       "      <td>$2B</td>\n",
       "      <td>Tiger Global Management, Sequoia Capital China...</td>\n",
       "      <td>10</td>\n",
       "      <td>high</td>\n",
       "      <td>2</td>\n",
       "      <td>9</td>\n",
       "    </tr>\n",
       "    <tr>\n",
       "      <th>3</th>\n",
       "      <td>Stripe</td>\n",
       "      <td>95</td>\n",
       "      <td>2014-01-23</td>\n",
       "      <td>Fintech</td>\n",
       "      <td>San Francisco</td>\n",
       "      <td>United States</td>\n",
       "      <td>North America</td>\n",
       "      <td>2010</td>\n",
       "      <td>$2B</td>\n",
       "      <td>Khosla Ventures, LowercaseCapital, capitalG</td>\n",
       "      <td>4</td>\n",
       "      <td>high</td>\n",
       "      <td>1</td>\n",
       "      <td>44</td>\n",
       "    </tr>\n",
       "    <tr>\n",
       "      <th>4</th>\n",
       "      <td>Klarna</td>\n",
       "      <td>46</td>\n",
       "      <td>2011-12-12</td>\n",
       "      <td>Fintech</td>\n",
       "      <td>Stockholm</td>\n",
       "      <td>Sweden</td>\n",
       "      <td>Europe</td>\n",
       "      <td>2005</td>\n",
       "      <td>$4B</td>\n",
       "      <td>Institutional Venture Partners, Sequoia Capita...</td>\n",
       "      <td>6</td>\n",
       "      <td>high</td>\n",
       "      <td>3</td>\n",
       "      <td>38</td>\n",
       "    </tr>\n",
       "  </tbody>\n",
       "</table>\n",
       "</div>"
      ],
      "text/plain": [
       "     Company  Valuation Date Joined                         Industry  \\\n",
       "0  Bytedance        180  2017-04-07          Artificial intelligence   \n",
       "1     SpaceX        100  2012-12-01                            Other   \n",
       "2      SHEIN        100  2018-07-03  E-commerce & direct-to-consumer   \n",
       "3     Stripe         95  2014-01-23                          Fintech   \n",
       "4     Klarna         46  2011-12-12                          Fintech   \n",
       "\n",
       "            City Country/Region      Continent  Year Founded Funding  \\\n",
       "0        Beijing          China           Asia          2012     $8B   \n",
       "1      Hawthorne  United States  North America          2002     $7B   \n",
       "2       Shenzhen          China           Asia          2008     $2B   \n",
       "3  San Francisco  United States  North America          2010     $2B   \n",
       "4      Stockholm         Sweden         Europe          2005     $4B   \n",
       "\n",
       "                                    Select Investors  Years to Unicorn  \\\n",
       "0  Sequoia Capital China, SIG Asia Investments, S...                 5   \n",
       "1  Founders Fund, Draper Fisher Jurvetson, Rothen...                10   \n",
       "2  Tiger Global Management, Sequoia Capital China...                10   \n",
       "3        Khosla Ventures, LowercaseCapital, capitalG                 4   \n",
       "4  Institutional Venture Partners, Sequoia Capita...                 6   \n",
       "\n",
       "  High Valuation  Continent Number  Country/Region Numeric  \n",
       "0           high                 2                       9  \n",
       "1           high                 1                      44  \n",
       "2           high                 2                       9  \n",
       "3           high                 1                      44  \n",
       "4           high                 3                      38  "
      ]
     },
     "execution_count": 19,
     "metadata": {},
     "output_type": "execute_result"
    }
   ],
   "source": [
    "# Create `Country/Region Numeric` column\n",
    "# Create numeric categories for Country/Region\n",
    "\n",
    "### YOUR CODE HERE ###\n",
    "companies['Country/Region Numeric'] = companies['Country/Region'].astype('category').cat.codes\n",
    "companies.head()"
   ]
  },
  {
   "cell_type": "markdown",
   "id": "0ea6bc3f",
   "metadata": {
    "papermill": {
     "duration": 0.017814,
     "end_time": "2025-02-06T04:48:51.720856",
     "exception": false,
     "start_time": "2025-02-06T04:48:51.703042",
     "status": "completed"
    },
    "tags": []
   },
   "source": [
    "<details>\n",
    "  <summary><h4><strong>Hint 1</strong></h4></summary>\n",
    "\n",
    "Review what you have learned about converting a variable with a string/object data type to a category.\n",
    "    \n",
    "</details>"
   ]
  },
  {
   "cell_type": "markdown",
   "id": "10cab7d0",
   "metadata": {
    "papermill": {
     "duration": 0.017937,
     "end_time": "2025-02-06T04:48:51.756186",
     "exception": false,
     "start_time": "2025-02-06T04:48:51.738249",
     "status": "completed"
    },
    "tags": []
   },
   "source": [
    "<details>\n",
    "  <summary><h4><strong>Hint 2</strong></h4></summary>\n",
    "\n",
    "To use label encoding, apply `.astype('category').cat.codes` to the `Country/Region` in `companies`.\n",
    "    \n",
    "</details>"
   ]
  },
  {
   "cell_type": "markdown",
   "id": "921bb42b",
   "metadata": {
    "id": "2eeff065-469f-4a43-bf2a-87920c4d7bc0",
    "papermill": {
     "duration": 0.018482,
     "end_time": "2025-02-06T04:48:51.792944",
     "exception": false,
     "start_time": "2025-02-06T04:48:51.774462",
     "status": "completed"
    },
    "tags": []
   },
   "source": [
    "### Convert `Industry` to numeric\n",
    "\n",
    "Finally, create dummy variables for the values in the `Industry` column. "
   ]
  },
  {
   "cell_type": "code",
   "execution_count": 20,
   "id": "d022280d",
   "metadata": {
    "execution": {
     "iopub.execute_input": "2025-02-06T04:48:51.829945Z",
     "iopub.status.busy": "2025-02-06T04:48:51.829460Z",
     "iopub.status.idle": "2025-02-06T04:48:51.837772Z",
     "shell.execute_reply": "2025-02-06T04:48:51.836817Z"
    },
    "id": "4bca4703-9f76-4b59-bc5e-df0097e44b4a",
    "papermill": {
     "duration": 0.027954,
     "end_time": "2025-02-06T04:48:51.839328",
     "exception": false,
     "start_time": "2025-02-06T04:48:51.811374",
     "status": "completed"
    },
    "tags": []
   },
   "outputs": [],
   "source": [
    "# Convert `Industry` to numeric data\n",
    "# Create dummy variables with Industry values\n",
    "\n",
    "### YOUR CODE HERE ###\n",
    "# one hot encoding\n",
    "industry_encoded = pd.get_dummies(companies['Industry'])\n",
    "\n",
    "\n",
    "# Combine `companies` DataFrame with new dummy Industry columns\n",
    "\n",
    "### YOUR CODE HERE ###\n",
    "companies = pd.concat([companies, industry_encoded], axis=1)"
   ]
  },
  {
   "cell_type": "markdown",
   "id": "3904f738",
   "metadata": {
    "papermill": {
     "duration": 0.017076,
     "end_time": "2025-02-06T04:48:51.873979",
     "exception": false,
     "start_time": "2025-02-06T04:48:51.856903",
     "status": "completed"
    },
    "tags": []
   },
   "source": [
    "Display the first few rows of `companies`"
   ]
  },
  {
   "cell_type": "code",
   "execution_count": 21,
   "id": "6f3cecfe",
   "metadata": {
    "execution": {
     "iopub.execute_input": "2025-02-06T04:48:51.910145Z",
     "iopub.status.busy": "2025-02-06T04:48:51.909784Z",
     "iopub.status.idle": "2025-02-06T04:48:51.932648Z",
     "shell.execute_reply": "2025-02-06T04:48:51.931703Z"
    },
    "papermill": {
     "duration": 0.042782,
     "end_time": "2025-02-06T04:48:51.934209",
     "exception": false,
     "start_time": "2025-02-06T04:48:51.891427",
     "status": "completed"
    },
    "tags": []
   },
   "outputs": [
    {
     "data": {
      "text/html": [
       "<div>\n",
       "<style scoped>\n",
       "    .dataframe tbody tr th:only-of-type {\n",
       "        vertical-align: middle;\n",
       "    }\n",
       "\n",
       "    .dataframe tbody tr th {\n",
       "        vertical-align: top;\n",
       "    }\n",
       "\n",
       "    .dataframe thead th {\n",
       "        text-align: right;\n",
       "    }\n",
       "</style>\n",
       "<table border=\"1\" class=\"dataframe\">\n",
       "  <thead>\n",
       "    <tr style=\"text-align: right;\">\n",
       "      <th></th>\n",
       "      <th>Company</th>\n",
       "      <th>Valuation</th>\n",
       "      <th>Date Joined</th>\n",
       "      <th>Industry</th>\n",
       "      <th>City</th>\n",
       "      <th>Country/Region</th>\n",
       "      <th>Continent</th>\n",
       "      <th>Year Founded</th>\n",
       "      <th>Funding</th>\n",
       "      <th>Select Investors</th>\n",
       "      <th>Years to Unicorn</th>\n",
       "      <th>High Valuation</th>\n",
       "      <th>Continent Number</th>\n",
       "      <th>Country/Region Numeric</th>\n",
       "      <th>Artificial intelligence</th>\n",
       "      <th>Auto &amp; transportation</th>\n",
       "      <th>Consumer &amp; retail</th>\n",
       "      <th>Cybersecurity</th>\n",
       "      <th>Data management &amp; analytics</th>\n",
       "      <th>E-commerce &amp; direct-to-consumer</th>\n",
       "      <th>Edtech</th>\n",
       "      <th>Fintech</th>\n",
       "      <th>Hardware</th>\n",
       "      <th>Health</th>\n",
       "      <th>Internet software &amp; services</th>\n",
       "      <th>Mobile &amp; telecommunications</th>\n",
       "      <th>Other</th>\n",
       "      <th>Supply chain, logistics, &amp; delivery</th>\n",
       "      <th>Travel</th>\n",
       "    </tr>\n",
       "  </thead>\n",
       "  <tbody>\n",
       "    <tr>\n",
       "      <th>0</th>\n",
       "      <td>Bytedance</td>\n",
       "      <td>180</td>\n",
       "      <td>2017-04-07</td>\n",
       "      <td>Artificial intelligence</td>\n",
       "      <td>Beijing</td>\n",
       "      <td>China</td>\n",
       "      <td>Asia</td>\n",
       "      <td>2012</td>\n",
       "      <td>$8B</td>\n",
       "      <td>Sequoia Capital China, SIG Asia Investments, S...</td>\n",
       "      <td>5</td>\n",
       "      <td>high</td>\n",
       "      <td>2</td>\n",
       "      <td>9</td>\n",
       "      <td>True</td>\n",
       "      <td>False</td>\n",
       "      <td>False</td>\n",
       "      <td>False</td>\n",
       "      <td>False</td>\n",
       "      <td>False</td>\n",
       "      <td>False</td>\n",
       "      <td>False</td>\n",
       "      <td>False</td>\n",
       "      <td>False</td>\n",
       "      <td>False</td>\n",
       "      <td>False</td>\n",
       "      <td>False</td>\n",
       "      <td>False</td>\n",
       "      <td>False</td>\n",
       "    </tr>\n",
       "    <tr>\n",
       "      <th>1</th>\n",
       "      <td>SpaceX</td>\n",
       "      <td>100</td>\n",
       "      <td>2012-12-01</td>\n",
       "      <td>Other</td>\n",
       "      <td>Hawthorne</td>\n",
       "      <td>United States</td>\n",
       "      <td>North America</td>\n",
       "      <td>2002</td>\n",
       "      <td>$7B</td>\n",
       "      <td>Founders Fund, Draper Fisher Jurvetson, Rothen...</td>\n",
       "      <td>10</td>\n",
       "      <td>high</td>\n",
       "      <td>1</td>\n",
       "      <td>44</td>\n",
       "      <td>False</td>\n",
       "      <td>False</td>\n",
       "      <td>False</td>\n",
       "      <td>False</td>\n",
       "      <td>False</td>\n",
       "      <td>False</td>\n",
       "      <td>False</td>\n",
       "      <td>False</td>\n",
       "      <td>False</td>\n",
       "      <td>False</td>\n",
       "      <td>False</td>\n",
       "      <td>False</td>\n",
       "      <td>True</td>\n",
       "      <td>False</td>\n",
       "      <td>False</td>\n",
       "    </tr>\n",
       "    <tr>\n",
       "      <th>2</th>\n",
       "      <td>SHEIN</td>\n",
       "      <td>100</td>\n",
       "      <td>2018-07-03</td>\n",
       "      <td>E-commerce &amp; direct-to-consumer</td>\n",
       "      <td>Shenzhen</td>\n",
       "      <td>China</td>\n",
       "      <td>Asia</td>\n",
       "      <td>2008</td>\n",
       "      <td>$2B</td>\n",
       "      <td>Tiger Global Management, Sequoia Capital China...</td>\n",
       "      <td>10</td>\n",
       "      <td>high</td>\n",
       "      <td>2</td>\n",
       "      <td>9</td>\n",
       "      <td>False</td>\n",
       "      <td>False</td>\n",
       "      <td>False</td>\n",
       "      <td>False</td>\n",
       "      <td>False</td>\n",
       "      <td>True</td>\n",
       "      <td>False</td>\n",
       "      <td>False</td>\n",
       "      <td>False</td>\n",
       "      <td>False</td>\n",
       "      <td>False</td>\n",
       "      <td>False</td>\n",
       "      <td>False</td>\n",
       "      <td>False</td>\n",
       "      <td>False</td>\n",
       "    </tr>\n",
       "    <tr>\n",
       "      <th>3</th>\n",
       "      <td>Stripe</td>\n",
       "      <td>95</td>\n",
       "      <td>2014-01-23</td>\n",
       "      <td>Fintech</td>\n",
       "      <td>San Francisco</td>\n",
       "      <td>United States</td>\n",
       "      <td>North America</td>\n",
       "      <td>2010</td>\n",
       "      <td>$2B</td>\n",
       "      <td>Khosla Ventures, LowercaseCapital, capitalG</td>\n",
       "      <td>4</td>\n",
       "      <td>high</td>\n",
       "      <td>1</td>\n",
       "      <td>44</td>\n",
       "      <td>False</td>\n",
       "      <td>False</td>\n",
       "      <td>False</td>\n",
       "      <td>False</td>\n",
       "      <td>False</td>\n",
       "      <td>False</td>\n",
       "      <td>False</td>\n",
       "      <td>True</td>\n",
       "      <td>False</td>\n",
       "      <td>False</td>\n",
       "      <td>False</td>\n",
       "      <td>False</td>\n",
       "      <td>False</td>\n",
       "      <td>False</td>\n",
       "      <td>False</td>\n",
       "    </tr>\n",
       "    <tr>\n",
       "      <th>4</th>\n",
       "      <td>Klarna</td>\n",
       "      <td>46</td>\n",
       "      <td>2011-12-12</td>\n",
       "      <td>Fintech</td>\n",
       "      <td>Stockholm</td>\n",
       "      <td>Sweden</td>\n",
       "      <td>Europe</td>\n",
       "      <td>2005</td>\n",
       "      <td>$4B</td>\n",
       "      <td>Institutional Venture Partners, Sequoia Capita...</td>\n",
       "      <td>6</td>\n",
       "      <td>high</td>\n",
       "      <td>3</td>\n",
       "      <td>38</td>\n",
       "      <td>False</td>\n",
       "      <td>False</td>\n",
       "      <td>False</td>\n",
       "      <td>False</td>\n",
       "      <td>False</td>\n",
       "      <td>False</td>\n",
       "      <td>False</td>\n",
       "      <td>True</td>\n",
       "      <td>False</td>\n",
       "      <td>False</td>\n",
       "      <td>False</td>\n",
       "      <td>False</td>\n",
       "      <td>False</td>\n",
       "      <td>False</td>\n",
       "      <td>False</td>\n",
       "    </tr>\n",
       "  </tbody>\n",
       "</table>\n",
       "</div>"
      ],
      "text/plain": [
       "     Company  Valuation Date Joined                         Industry  \\\n",
       "0  Bytedance        180  2017-04-07          Artificial intelligence   \n",
       "1     SpaceX        100  2012-12-01                            Other   \n",
       "2      SHEIN        100  2018-07-03  E-commerce & direct-to-consumer   \n",
       "3     Stripe         95  2014-01-23                          Fintech   \n",
       "4     Klarna         46  2011-12-12                          Fintech   \n",
       "\n",
       "            City Country/Region      Continent  Year Founded Funding  \\\n",
       "0        Beijing          China           Asia          2012     $8B   \n",
       "1      Hawthorne  United States  North America          2002     $7B   \n",
       "2       Shenzhen          China           Asia          2008     $2B   \n",
       "3  San Francisco  United States  North America          2010     $2B   \n",
       "4      Stockholm         Sweden         Europe          2005     $4B   \n",
       "\n",
       "                                    Select Investors  Years to Unicorn  \\\n",
       "0  Sequoia Capital China, SIG Asia Investments, S...                 5   \n",
       "1  Founders Fund, Draper Fisher Jurvetson, Rothen...                10   \n",
       "2  Tiger Global Management, Sequoia Capital China...                10   \n",
       "3        Khosla Ventures, LowercaseCapital, capitalG                 4   \n",
       "4  Institutional Venture Partners, Sequoia Capita...                 6   \n",
       "\n",
       "  High Valuation  Continent Number  Country/Region Numeric  \\\n",
       "0           high                 2                       9   \n",
       "1           high                 1                      44   \n",
       "2           high                 2                       9   \n",
       "3           high                 1                      44   \n",
       "4           high                 3                      38   \n",
       "\n",
       "   Artificial intelligence  Auto & transportation  Consumer & retail  \\\n",
       "0                     True                  False              False   \n",
       "1                    False                  False              False   \n",
       "2                    False                  False              False   \n",
       "3                    False                  False              False   \n",
       "4                    False                  False              False   \n",
       "\n",
       "   Cybersecurity  Data management & analytics  \\\n",
       "0          False                        False   \n",
       "1          False                        False   \n",
       "2          False                        False   \n",
       "3          False                        False   \n",
       "4          False                        False   \n",
       "\n",
       "   E-commerce & direct-to-consumer  Edtech  Fintech  Hardware  Health  \\\n",
       "0                            False   False    False     False   False   \n",
       "1                            False   False    False     False   False   \n",
       "2                             True   False    False     False   False   \n",
       "3                            False   False     True     False   False   \n",
       "4                            False   False     True     False   False   \n",
       "\n",
       "   Internet software & services  Mobile & telecommunications  Other  \\\n",
       "0                         False                        False  False   \n",
       "1                         False                        False   True   \n",
       "2                         False                        False  False   \n",
       "3                         False                        False  False   \n",
       "4                         False                        False  False   \n",
       "\n",
       "   Supply chain, logistics, & delivery  Travel  \n",
       "0                                False   False  \n",
       "1                                False   False  \n",
       "2                                False   False  \n",
       "3                                False   False  \n",
       "4                                False   False  "
      ]
     },
     "execution_count": 21,
     "metadata": {},
     "output_type": "execute_result"
    }
   ],
   "source": [
    "### YOUR CODE HERE ###\n",
    "companies.head()"
   ]
  },
  {
   "cell_type": "markdown",
   "id": "93e0d2fd",
   "metadata": {
    "id": "adc26824-609c-4a9b-a5d7-c3abfb5258e1",
    "papermill": {
     "duration": 0.017347,
     "end_time": "2025-02-06T04:48:51.969416",
     "exception": false,
     "start_time": "2025-02-06T04:48:51.952069",
     "status": "completed"
    },
    "tags": []
   },
   "source": [
    "<details>\n",
    "  <summary><h4><strong>Hint 1</strong></h4></summary>\n",
    "\n",
    "Consider using `pd.get_dummies` on the specified column. \n",
    "    \n",
    "</details>"
   ]
  },
  {
   "cell_type": "markdown",
   "id": "db853709",
   "metadata": {
    "id": "5f2bf2c6-fc4b-4d5f-b985-dd8fe5a7d87d",
    "papermill": {
     "duration": 0.017482,
     "end_time": "2025-02-06T04:48:52.004629",
     "exception": false,
     "start_time": "2025-02-06T04:48:51.987147",
     "status": "completed"
    },
    "tags": []
   },
   "source": [
    "<details>\n",
    "  <summary><h4><strong>Hint 2</strong></h4></summary>\n",
    "\n",
    "When you call `pd.get_dummies()` on a specified series, it will return a dataframe consisting of each possible category contained in the series represented as its own binary column. You'll then have to combine this new dataframe of binary columns with the existing `companies` dataframe.\n",
    "    \n",
    "</details>"
   ]
  },
  {
   "cell_type": "markdown",
   "id": "c927f5ff",
   "metadata": {
    "id": "fa14d383-ff64-4249-b51b-8026618a4571",
    "papermill": {
     "duration": 0.017192,
     "end_time": "2025-02-06T04:48:52.039403",
     "exception": false,
     "start_time": "2025-02-06T04:48:52.022211",
     "status": "completed"
    },
    "tags": []
   },
   "source": [
    "<details>\n",
    "  <summary><h4><strong>Hint 3</strong></h4></summary>\n",
    "\n",
    "You can use `pd.concat([col_a, col_b])` to combine the two dataframes. Remember to specify the correct axis of concatenation and to reassign the result back to the `companies` dataframe.\n",
    "    \n",
    "</details>"
   ]
  },
  {
   "cell_type": "markdown",
   "id": "831ca2e9",
   "metadata": {
    "id": "f7edb136-45f0-4ff1-84d7-ff6bcc29dd43",
    "papermill": {
     "duration": 0.017309,
     "end_time": "2025-02-06T04:48:52.074383",
     "exception": false,
     "start_time": "2025-02-06T04:48:52.057074",
     "status": "completed"
    },
    "tags": []
   },
   "source": [
    "**Question: Which categorical encoding approach did you use for each variable? Why?**"
   ]
  },
  {
   "cell_type": "markdown",
   "id": "614965ae",
   "metadata": {
    "id": "qNl-29W8ejOX",
    "papermill": {
     "duration": 0.017267,
     "end_time": "2025-02-06T04:48:52.109306",
     "exception": false,
     "start_time": "2025-02-06T04:48:52.092039",
     "status": "completed"
    },
    "tags": []
   },
   "source": [
    "* Label encoding -->by rank(ordinal): for Continent Number vbc it is ranked. by random(nominal): for Country Numeric bc it had non-meaningful order between categories\n",
    "* One hot encoding --> for 'Industry' column. Because there is no order in the categories"
   ]
  },
  {
   "cell_type": "markdown",
   "id": "67ff96a9",
   "metadata": {
    "papermill": {
     "duration": 0.017661,
     "end_time": "2025-02-06T04:48:52.144981",
     "exception": false,
     "start_time": "2025-02-06T04:48:52.127320",
     "status": "completed"
    },
    "tags": []
   },
   "source": [
    "**Question: How does label encoding change the data?**\n"
   ]
  },
  {
   "cell_type": "markdown",
   "id": "10196a7b",
   "metadata": {
    "papermill": {
     "duration": 0.017547,
     "end_time": "2025-02-06T04:48:52.180872",
     "exception": false,
     "start_time": "2025-02-06T04:48:52.163325",
     "status": "completed"
    },
    "tags": []
   },
   "source": [
    "* it converted the number of categories specified or present into numbers from 0 to max_num_categories"
   ]
  },
  {
   "cell_type": "markdown",
   "id": "a0be44d5",
   "metadata": {
    "papermill": {
     "duration": 0.0177,
     "end_time": "2025-02-06T04:48:52.217010",
     "exception": false,
     "start_time": "2025-02-06T04:48:52.199310",
     "status": "completed"
    },
    "tags": []
   },
   "source": [
    "**Question: What are the benefits of label encoding?**\n"
   ]
  },
  {
   "cell_type": "markdown",
   "id": "4d7a277d",
   "metadata": {
    "papermill": {
     "duration": 0.017319,
     "end_time": "2025-02-06T04:48:52.252265",
     "exception": false,
     "start_time": "2025-02-06T04:48:52.234946",
     "status": "completed"
    },
    "tags": []
   },
   "source": [
    "* it is widely used to preserve order\n",
    "* also when the data is needed to build a decision tree or a random forest model"
   ]
  },
  {
   "cell_type": "markdown",
   "id": "77cbdf0e",
   "metadata": {
    "papermill": {
     "duration": 0.017449,
     "end_time": "2025-02-06T04:48:52.287389",
     "exception": false,
     "start_time": "2025-02-06T04:48:52.269940",
     "status": "completed"
    },
    "tags": []
   },
   "source": [
    "**Question: What are the disadvantages of label encoding?**\n"
   ]
  },
  {
   "cell_type": "markdown",
   "id": "2ebc4786",
   "metadata": {
    "papermill": {
     "duration": 0.017418,
     "end_time": "2025-02-06T04:48:52.322274",
     "exception": false,
     "start_time": "2025-02-06T04:48:52.304856",
     "status": "completed"
    },
    "tags": []
   },
   "source": [
    "* non-relational data may be forced to establish relations due to the unintentional ordering made by label encoding\n",
    "* this will skew further analysis, especially when fitting models"
   ]
  },
  {
   "cell_type": "markdown",
   "id": "c0634f1f",
   "metadata": {
    "id": "c38f5e8d-89fa-4eaf-acd3-4841583e427c",
    "papermill": {
     "duration": 0.017284,
     "end_time": "2025-02-06T04:48:52.357124",
     "exception": false,
     "start_time": "2025-02-06T04:48:52.339840",
     "status": "completed"
    },
    "tags": []
   },
   "source": [
    "## Conclusion\n",
    "\n",
    "**What are some key takeaways that you learned during this lab?**"
   ]
  },
  {
   "cell_type": "markdown",
   "id": "f3d96f20",
   "metadata": {
    "papermill": {
     "duration": 0.017404,
     "end_time": "2025-02-06T04:48:52.392189",
     "exception": false,
     "start_time": "2025-02-06T04:48:52.374785",
     "status": "completed"
    },
    "tags": []
   },
   "source": [
    "* data validation techniques\n",
    "* handling errors that may creep up during cleaning\n",
    "* methods to encode categorical variables "
   ]
  },
  {
   "cell_type": "markdown",
   "id": "1ba2971e",
   "metadata": {
    "id": "R9sAADZgr-YI",
    "papermill": {
     "duration": 0.017698,
     "end_time": "2025-02-06T04:48:52.428241",
     "exception": false,
     "start_time": "2025-02-06T04:48:52.410543",
     "status": "completed"
    },
    "tags": []
   },
   "source": [
    "**Reference**\n",
    "\n",
    "[Bhat, M.A. *Unicorn Companies*](https://www.kaggle.com/datasets/mysarahmadbhat/unicorn-companies)\n",
    "\n"
   ]
  },
  {
   "cell_type": "markdown",
   "id": "448a2c35",
   "metadata": {
    "papermill": {
     "duration": 0.017441,
     "end_time": "2025-02-06T04:48:52.463719",
     "exception": false,
     "start_time": "2025-02-06T04:48:52.446278",
     "status": "completed"
    },
    "tags": []
   },
   "source": [
    "**Congratulations!** You've completed this lab. However, you may not notice a green check mark next to this item on Coursera's platform. Please continue your progress regardless of the check mark. Just click on the \"save\" icon at the top of this notebook to ensure your work has been logged."
   ]
  }
 ],
 "metadata": {
  "colab": {
   "collapsed_sections": [],
   "provenance": []
  },
  "kaggle": {
   "accelerator": "none",
   "dataSources": [
    {
     "datasetId": 6612279,
     "sourceId": 10675112,
     "sourceType": "datasetVersion"
    }
   ],
   "dockerImageVersionId": 30839,
   "isGpuEnabled": false,
   "isInternetEnabled": true,
   "language": "python",
   "sourceType": "notebook"
  },
  "kernelspec": {
   "display_name": "Python 3",
   "language": "python",
   "name": "python3"
  },
  "language_info": {
   "codemirror_mode": {
    "name": "ipython",
    "version": 3
   },
   "file_extension": ".py",
   "mimetype": "text/x-python",
   "name": "python",
   "nbconvert_exporter": "python",
   "pygments_lexer": "ipython3",
   "version": "3.10.12"
  },
  "papermill": {
   "default_parameters": {},
   "duration": 11.805407,
   "end_time": "2025-02-06T04:48:53.203779",
   "environment_variables": {},
   "exception": null,
   "input_path": "__notebook__.ipynb",
   "output_path": "__notebook__.ipynb",
   "parameters": {},
   "start_time": "2025-02-06T04:48:41.398372",
   "version": "2.6.0"
  },
  "toc-autonumbering": false,
  "toc-showtags": false
 },
 "nbformat": 4,
 "nbformat_minor": 5
}

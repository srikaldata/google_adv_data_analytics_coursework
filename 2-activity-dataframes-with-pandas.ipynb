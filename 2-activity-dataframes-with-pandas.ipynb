{
 "cells": [
  {
   "cell_type": "markdown",
   "id": "50d4a2b8",
   "metadata": {
    "id": "W8orLNs0RRSa",
    "papermill": {
     "duration": 0.01289,
     "end_time": "2025-02-04T05:00:17.985665",
     "exception": false,
     "start_time": "2025-02-04T05:00:17.972775",
     "status": "completed"
    },
    "tags": []
   },
   "source": [
    "<h1>Activity: Dataframes with pandas</h1>"
   ]
  },
  {
   "cell_type": "markdown",
   "id": "fa093f40",
   "metadata": {
    "id": "ObyrlQucRbyr",
    "papermill": {
     "duration": 0.011096,
     "end_time": "2025-02-04T05:00:18.007818",
     "exception": false,
     "start_time": "2025-02-04T05:00:17.996722",
     "status": "completed"
    },
    "tags": []
   },
   "source": [
    "## Introduction\n",
    "\n",
    "Your work as a data professional for the U.S. Environmental Protection Agency (EPA) requires you to analyze air quality index data collected from the United States and Mexico.\n",
    "\n",
    "The air quality index (AQI) is a number that runs from 0 to 500. The higher the AQI value, the greater the level of air pollution and the greater the health concern. For example, an AQI value of 50 or below represents good air quality, while an AQI value over 300 represents hazardous air quality. Refer to this guide from [AirNow.gov](https://www.airnow.gov/aqi/aqi-basics/) for more information.\n",
    "\n",
    "In this lab, you will practice working in pandas. You will load a dataframe, examine its metadata and summary statistics, and explore it using iloc indexing and sorting. You will also practice Boolean masking, grouping, and concatenating data."
   ]
  },
  {
   "cell_type": "markdown",
   "id": "e3bbd739",
   "metadata": {
    "id": "1Qlq_5zHvzZV",
    "papermill": {
     "duration": 0.010333,
     "end_time": "2025-02-04T05:00:18.028895",
     "exception": false,
     "start_time": "2025-02-04T05:00:18.018562",
     "status": "completed"
    },
    "tags": []
   },
   "source": [
    "## Tips for completing this lab\n",
    "\n",
    "As you navigate this lab, keep the following tips in mind:\n",
    "\n",
    "- `### YOUR CODE HERE ###` indicates where you should write code. Be sure to replace this with your own code before running the code cell.\n",
    "- Feel free to open the hints for additional guidance as you work on each task.\n",
    "- To enter your answer to a question, double-click the markdown cell to edit. Be sure to replace the \"[Double-click to enter your responses here.]\" with your own answer.\n",
    "- You can save your work manually by clicking File and then Save in the menu bar at the top of the notebook.\n",
    "- You can download your work locally by clicking File and then Download and then specifying your preferred file format in the menu bar at the top of the notebook."
   ]
  },
  {
   "cell_type": "markdown",
   "id": "20285c1f",
   "metadata": {
    "id": "zSl8JYIUv8qp",
    "papermill": {
     "duration": 0.010332,
     "end_time": "2025-02-04T05:00:18.049947",
     "exception": false,
     "start_time": "2025-02-04T05:00:18.039615",
     "status": "completed"
    },
    "tags": []
   },
   "source": [
    "## Task 1: Read data from csv file into a pandas dataframe\n",
    "\n",
    "You are given two files of data. Begin with the first file, which contains the three states with the most observations (rows): California, Texas, and Pennsylvania."
   ]
  },
  {
   "cell_type": "markdown",
   "id": "5f648c4f",
   "metadata": {
    "id": "FtHATF_qy2HY",
    "papermill": {
     "duration": 0.010432,
     "end_time": "2025-02-04T05:00:18.071036",
     "exception": false,
     "start_time": "2025-02-04T05:00:18.060604",
     "status": "completed"
    },
    "tags": []
   },
   "source": [
    "### 1a: Import statements\n",
    "\n",
    "Import numpy and pandas. Use their standard aliases."
   ]
  },
  {
   "cell_type": "code",
   "execution_count": 1,
   "id": "7976995a",
   "metadata": {
    "execution": {
     "iopub.execute_input": "2025-02-04T05:00:18.093572Z",
     "iopub.status.busy": "2025-02-04T05:00:18.093229Z",
     "iopub.status.idle": "2025-02-04T05:00:18.917425Z",
     "shell.execute_reply": "2025-02-04T05:00:18.916362Z"
    },
    "id": "9v0Ws5Lma0Qp",
    "papermill": {
     "duration": 0.838009,
     "end_time": "2025-02-04T05:00:18.919694",
     "exception": false,
     "start_time": "2025-02-04T05:00:18.081685",
     "status": "completed"
    },
    "tags": []
   },
   "outputs": [],
   "source": [
    "### YOUR CODE HERE ###\n",
    "import numpy as np\n",
    "import pandas as pd"
   ]
  },
  {
   "cell_type": "markdown",
   "id": "91aec829",
   "metadata": {
    "id": "qdCu_2SgzaP-",
    "papermill": {
     "duration": 0.010606,
     "end_time": "2025-02-04T05:00:18.942059",
     "exception": false,
     "start_time": "2025-02-04T05:00:18.931453",
     "status": "completed"
    },
    "tags": []
   },
   "source": [
    "<details>\n",
    "  <summary><h4><strong>Hint 1</strong></h4></summary>\n",
    "\n",
    "Begin with the `import` keyword for each statement.\n",
    "\n",
    "</details>"
   ]
  },
  {
   "cell_type": "markdown",
   "id": "fb412cd0",
   "metadata": {
    "id": "v1vbXoc3zot4",
    "papermill": {
     "duration": 0.010525,
     "end_time": "2025-02-04T05:00:18.963240",
     "exception": false,
     "start_time": "2025-02-04T05:00:18.952715",
     "status": "completed"
    },
    "tags": []
   },
   "source": [
    "<details>\n",
    "  <summary><h4><strong>Hint 2</strong></h4></summary>\n",
    "\n",
    "Use the `as` keyword to assign an alias.\n",
    "\n",
    "</details>"
   ]
  },
  {
   "cell_type": "markdown",
   "id": "714bd906",
   "metadata": {
    "id": "xlzyP3fTzxUE",
    "papermill": {
     "duration": 0.01043,
     "end_time": "2025-02-04T05:00:18.984362",
     "exception": false,
     "start_time": "2025-02-04T05:00:18.973932",
     "status": "completed"
    },
    "tags": []
   },
   "source": [
    "<details>\n",
    "  <summary><h4><strong>Hint 3</strong></h4></summary>\n",
    "\n",
    "The conventional aliases are `np` for numpy and `pd` for pandas.\n",
    "\n",
    "</details>"
   ]
  },
  {
   "cell_type": "markdown",
   "id": "f8cff1f9",
   "metadata": {
    "id": "HSlvZpkJ0B1P",
    "papermill": {
     "duration": 0.010466,
     "end_time": "2025-02-04T05:00:19.005612",
     "exception": false,
     "start_time": "2025-02-04T05:00:18.995146",
     "status": "completed"
    },
    "tags": []
   },
   "source": [
    "### 1b: Read in the first file\n",
    "\n",
    "1. As shown in this cell, the dataset has been automatically loaded in for you. You do not need to download the .csv file, or provide more code, in order to access the dataset and proceed with this lab. Please continue with this activity by completing the following instructions.\n",
    "\n",
    "2. Use the `head()` method on the `top3` dataframe to inspect the first five rows."
   ]
  },
  {
   "cell_type": "code",
   "execution_count": 2,
   "id": "c9c207e1",
   "metadata": {
    "execution": {
     "iopub.execute_input": "2025-02-04T05:00:19.028463Z",
     "iopub.status.busy": "2025-02-04T05:00:19.027917Z",
     "iopub.status.idle": "2025-02-04T05:00:19.536778Z",
     "shell.execute_reply": "2025-02-04T05:00:19.535772Z"
    },
    "executionInfo": {
     "elapsed": 20,
     "status": "ok",
     "timestamp": 1679932927383,
     "user": {
      "displayName": "Matteo Riotto",
      "userId": "15211004813978485634"
     },
     "user_tz": 420
    },
    "id": "_prn5YzrSnkO",
    "outputId": "ac391295-ea57-4902-f828-cefcedc74cd6",
    "papermill": {
     "duration": 0.522074,
     "end_time": "2025-02-04T05:00:19.538452",
     "exception": false,
     "start_time": "2025-02-04T05:00:19.016378",
     "status": "completed"
    },
    "tags": []
   },
   "outputs": [
    {
     "data": {
      "text/html": [
       "<div>\n",
       "<style scoped>\n",
       "    .dataframe tbody tr th:only-of-type {\n",
       "        vertical-align: middle;\n",
       "    }\n",
       "\n",
       "    .dataframe tbody tr th {\n",
       "        vertical-align: top;\n",
       "    }\n",
       "\n",
       "    .dataframe thead th {\n",
       "        text-align: right;\n",
       "    }\n",
       "</style>\n",
       "<table border=\"1\" class=\"dataframe\">\n",
       "  <thead>\n",
       "    <tr style=\"text-align: right;\">\n",
       "      <th></th>\n",
       "      <th>state_code</th>\n",
       "      <th>state_name</th>\n",
       "      <th>county_code</th>\n",
       "      <th>county_name</th>\n",
       "      <th>aqi</th>\n",
       "      <th>state_code_int</th>\n",
       "      <th>county_code_int</th>\n",
       "    </tr>\n",
       "  </thead>\n",
       "  <tbody>\n",
       "    <tr>\n",
       "      <th>0</th>\n",
       "      <td>4</td>\n",
       "      <td>Arizona</td>\n",
       "      <td>13</td>\n",
       "      <td>Maricopa</td>\n",
       "      <td>18.0</td>\n",
       "      <td>4</td>\n",
       "      <td>13</td>\n",
       "    </tr>\n",
       "    <tr>\n",
       "      <th>1</th>\n",
       "      <td>4</td>\n",
       "      <td>Arizona</td>\n",
       "      <td>13</td>\n",
       "      <td>Maricopa</td>\n",
       "      <td>9.0</td>\n",
       "      <td>4</td>\n",
       "      <td>13</td>\n",
       "    </tr>\n",
       "    <tr>\n",
       "      <th>2</th>\n",
       "      <td>4</td>\n",
       "      <td>Arizona</td>\n",
       "      <td>19</td>\n",
       "      <td>Pima</td>\n",
       "      <td>20.0</td>\n",
       "      <td>4</td>\n",
       "      <td>19</td>\n",
       "    </tr>\n",
       "    <tr>\n",
       "      <th>3</th>\n",
       "      <td>6</td>\n",
       "      <td>California</td>\n",
       "      <td>1</td>\n",
       "      <td>Alameda</td>\n",
       "      <td>11.0</td>\n",
       "      <td>6</td>\n",
       "      <td>1</td>\n",
       "    </tr>\n",
       "    <tr>\n",
       "      <th>4</th>\n",
       "      <td>6</td>\n",
       "      <td>California</td>\n",
       "      <td>7</td>\n",
       "      <td>Butte</td>\n",
       "      <td>6.0</td>\n",
       "      <td>6</td>\n",
       "      <td>7</td>\n",
       "    </tr>\n",
       "  </tbody>\n",
       "</table>\n",
       "</div>"
      ],
      "text/plain": [
       "   state_code  state_name  county_code county_name   aqi  state_code_int  \\\n",
       "0           4     Arizona           13    Maricopa  18.0               4   \n",
       "1           4     Arizona           13    Maricopa   9.0               4   \n",
       "2           4     Arizona           19        Pima  20.0               4   \n",
       "3           6  California            1     Alameda  11.0               6   \n",
       "4           6  California            7       Butte   6.0               6   \n",
       "\n",
       "   county_code_int  \n",
       "0               13  \n",
       "1               13  \n",
       "2               19  \n",
       "3                1  \n",
       "4                7  "
      ]
     },
     "execution_count": 2,
     "metadata": {},
     "output_type": "execute_result"
    }
   ],
   "source": [
    "# 1. ### YOUR CODE HERE ###\n",
    "#top3 = pd.read_csv('epa_ca_tx_pa.csv')\n",
    "\n",
    "top3 = pd.read_csv('https://raw.githubusercontent.com/adacert/EPA/main/c2_epa_air_quality.csv')\n",
    "\n",
    "# 2. ### YOUR CODE HERE ###\n",
    "top3.head()"
   ]
  },
  {
   "cell_type": "markdown",
   "id": "2c681161",
   "metadata": {
    "id": "1Ed4yOjY2AeA",
    "papermill": {
     "duration": 0.012297,
     "end_time": "2025-02-04T05:00:19.562180",
     "exception": false,
     "start_time": "2025-02-04T05:00:19.549883",
     "status": "completed"
    },
    "tags": []
   },
   "source": [
    "<details>\n",
    "  <summary><h4><strong>Hint</strong></h4></summary>\n",
    "\n",
    "Because the file is already in your working directory, you can simply pass the file name to the `pd.read_csv()` function as a string.\n",
    "\n",
    "</details>"
   ]
  },
  {
   "cell_type": "markdown",
   "id": "cf38e7fc",
   "metadata": {
    "id": "mWlnbqgB2gVj",
    "papermill": {
     "duration": 0.010649,
     "end_time": "2025-02-04T05:00:19.583862",
     "exception": false,
     "start_time": "2025-02-04T05:00:19.573213",
     "status": "completed"
    },
    "tags": []
   },
   "source": [
    "## Task 2: Summary information\n",
    "\n",
    "Now that you have a dataframe with the AQI data for California, Texas, and Pennsylvania, get some high-level summary information about it."
   ]
  },
  {
   "cell_type": "markdown",
   "id": "65efc675",
   "metadata": {
    "id": "lAPAVCeg3Cqi",
    "papermill": {
     "duration": 0.010597,
     "end_time": "2025-02-04T05:00:19.605342",
     "exception": false,
     "start_time": "2025-02-04T05:00:19.594745",
     "status": "completed"
    },
    "tags": []
   },
   "source": [
    "### 2a: Metadata\n",
    "\n",
    "Use a DataFrame method to examine the number of rows and columns, the column names, the data type contained in each column, the number of non-null values in each column, and the amount of memory the dataframe uses."
   ]
  },
  {
   "cell_type": "code",
   "execution_count": 3,
   "id": "1b286f56",
   "metadata": {
    "execution": {
     "iopub.execute_input": "2025-02-04T05:00:19.628333Z",
     "iopub.status.busy": "2025-02-04T05:00:19.627954Z",
     "iopub.status.idle": "2025-02-04T05:00:19.650182Z",
     "shell.execute_reply": "2025-02-04T05:00:19.649052Z"
    },
    "executionInfo": {
     "elapsed": 20,
     "status": "ok",
     "timestamp": 1679932927384,
     "user": {
      "displayName": "Matteo Riotto",
      "userId": "15211004813978485634"
     },
     "user_tz": 420
    },
    "id": "KAlBReg6Swzs",
    "outputId": "eb2ad40a-74d6-4176-a156-8066f05f900a",
    "papermill": {
     "duration": 0.03562,
     "end_time": "2025-02-04T05:00:19.651814",
     "exception": false,
     "start_time": "2025-02-04T05:00:19.616194",
     "status": "completed"
    },
    "tags": []
   },
   "outputs": [
    {
     "name": "stdout",
     "output_type": "stream",
     "text": [
      "<class 'pandas.core.frame.DataFrame'>\n",
      "RangeIndex: 1725 entries, 0 to 1724\n",
      "Data columns (total 7 columns):\n",
      " #   Column           Non-Null Count  Dtype  \n",
      "---  ------           --------------  -----  \n",
      " 0   state_code       1725 non-null   int64  \n",
      " 1   state_name       1725 non-null   object \n",
      " 2   county_code      1725 non-null   int64  \n",
      " 3   county_name      1725 non-null   object \n",
      " 4   aqi              1725 non-null   float64\n",
      " 5   state_code_int   1725 non-null   int64  \n",
      " 6   county_code_int  1725 non-null   int64  \n",
      "dtypes: float64(1), int64(4), object(2)\n",
      "memory usage: 94.5+ KB\n"
     ]
    }
   ],
   "source": [
    "### YOUR CODE HERE ###\n",
    "top3.info()"
   ]
  },
  {
   "cell_type": "markdown",
   "id": "9218f8d4",
   "metadata": {
    "id": "eaYhqTMH4cCl",
    "papermill": {
     "duration": 0.010741,
     "end_time": "2025-02-04T05:00:19.673847",
     "exception": false,
     "start_time": "2025-02-04T05:00:19.663106",
     "status": "completed"
    },
    "tags": []
   },
   "source": [
    "<details>\n",
    "  <summary><h4><strong>Hint</strong></h4></summary>\n",
    "\n",
    "The `info()` method returns a dataframe's metadata.\n",
    "\n",
    "</details>"
   ]
  },
  {
   "cell_type": "markdown",
   "id": "6fdae9f4",
   "metadata": {
    "id": "_MgYSGkX42m7",
    "papermill": {
     "duration": 0.010732,
     "end_time": "2025-02-04T05:00:19.695578",
     "exception": false,
     "start_time": "2025-02-04T05:00:19.684846",
     "status": "completed"
    },
    "tags": []
   },
   "source": [
    "### 2b: Summary statistics\n",
    "\n",
    "Examine the summary statistics of the dataframe's numeric columns. The output should be a table that includes row count, mean, standard deviation, min, max, and quartile values."
   ]
  },
  {
   "cell_type": "code",
   "execution_count": 4,
   "id": "f3522842",
   "metadata": {
    "execution": {
     "iopub.execute_input": "2025-02-04T05:00:19.718728Z",
     "iopub.status.busy": "2025-02-04T05:00:19.718416Z",
     "iopub.status.idle": "2025-02-04T05:00:19.740745Z",
     "shell.execute_reply": "2025-02-04T05:00:19.739841Z"
    },
    "executionInfo": {
     "elapsed": 17,
     "status": "ok",
     "timestamp": 1679932927385,
     "user": {
      "displayName": "Matteo Riotto",
      "userId": "15211004813978485634"
     },
     "user_tz": 420
    },
    "id": "FbPFaH6ZfPdz",
    "outputId": "b5a0e137-c207-4198-d32a-b1823d21a054",
    "papermill": {
     "duration": 0.035746,
     "end_time": "2025-02-04T05:00:19.742236",
     "exception": false,
     "start_time": "2025-02-04T05:00:19.706490",
     "status": "completed"
    },
    "tags": []
   },
   "outputs": [
    {
     "data": {
      "text/html": [
       "<div>\n",
       "<style scoped>\n",
       "    .dataframe tbody tr th:only-of-type {\n",
       "        vertical-align: middle;\n",
       "    }\n",
       "\n",
       "    .dataframe tbody tr th {\n",
       "        vertical-align: top;\n",
       "    }\n",
       "\n",
       "    .dataframe thead th {\n",
       "        text-align: right;\n",
       "    }\n",
       "</style>\n",
       "<table border=\"1\" class=\"dataframe\">\n",
       "  <thead>\n",
       "    <tr style=\"text-align: right;\">\n",
       "      <th></th>\n",
       "      <th>state_code</th>\n",
       "      <th>county_code</th>\n",
       "      <th>aqi</th>\n",
       "      <th>state_code_int</th>\n",
       "      <th>county_code_int</th>\n",
       "    </tr>\n",
       "  </thead>\n",
       "  <tbody>\n",
       "    <tr>\n",
       "      <th>count</th>\n",
       "      <td>1725.000000</td>\n",
       "      <td>1725.000000</td>\n",
       "      <td>1725.000000</td>\n",
       "      <td>1725.000000</td>\n",
       "      <td>1725.000000</td>\n",
       "    </tr>\n",
       "    <tr>\n",
       "      <th>mean</th>\n",
       "      <td>26.595942</td>\n",
       "      <td>83.939130</td>\n",
       "      <td>11.034783</td>\n",
       "      <td>26.595942</td>\n",
       "      <td>83.939130</td>\n",
       "    </tr>\n",
       "    <tr>\n",
       "      <th>std</th>\n",
       "      <td>18.702416</td>\n",
       "      <td>118.027324</td>\n",
       "      <td>10.385993</td>\n",
       "      <td>18.702416</td>\n",
       "      <td>118.027324</td>\n",
       "    </tr>\n",
       "    <tr>\n",
       "      <th>min</th>\n",
       "      <td>1.000000</td>\n",
       "      <td>1.000000</td>\n",
       "      <td>0.000000</td>\n",
       "      <td>1.000000</td>\n",
       "      <td>1.000000</td>\n",
       "    </tr>\n",
       "    <tr>\n",
       "      <th>25%</th>\n",
       "      <td>6.000000</td>\n",
       "      <td>20.000000</td>\n",
       "      <td>5.000000</td>\n",
       "      <td>6.000000</td>\n",
       "      <td>20.000000</td>\n",
       "    </tr>\n",
       "    <tr>\n",
       "      <th>50%</th>\n",
       "      <td>26.000000</td>\n",
       "      <td>55.000000</td>\n",
       "      <td>8.000000</td>\n",
       "      <td>26.000000</td>\n",
       "      <td>55.000000</td>\n",
       "    </tr>\n",
       "    <tr>\n",
       "      <th>75%</th>\n",
       "      <td>42.000000</td>\n",
       "      <td>101.000000</td>\n",
       "      <td>15.000000</td>\n",
       "      <td>42.000000</td>\n",
       "      <td>101.000000</td>\n",
       "    </tr>\n",
       "    <tr>\n",
       "      <th>max</th>\n",
       "      <td>80.000000</td>\n",
       "      <td>810.000000</td>\n",
       "      <td>93.000000</td>\n",
       "      <td>80.000000</td>\n",
       "      <td>810.000000</td>\n",
       "    </tr>\n",
       "  </tbody>\n",
       "</table>\n",
       "</div>"
      ],
      "text/plain": [
       "        state_code  county_code          aqi  state_code_int  county_code_int\n",
       "count  1725.000000  1725.000000  1725.000000     1725.000000      1725.000000\n",
       "mean     26.595942    83.939130    11.034783       26.595942        83.939130\n",
       "std      18.702416   118.027324    10.385993       18.702416       118.027324\n",
       "min       1.000000     1.000000     0.000000        1.000000         1.000000\n",
       "25%       6.000000    20.000000     5.000000        6.000000        20.000000\n",
       "50%      26.000000    55.000000     8.000000       26.000000        55.000000\n",
       "75%      42.000000   101.000000    15.000000       42.000000       101.000000\n",
       "max      80.000000   810.000000    93.000000       80.000000       810.000000"
      ]
     },
     "execution_count": 4,
     "metadata": {},
     "output_type": "execute_result"
    }
   ],
   "source": [
    "### YOUR CODE HERE ###\n",
    "top3.describe()"
   ]
  },
  {
   "cell_type": "markdown",
   "id": "82546b4b",
   "metadata": {
    "id": "SQ9n1u165XFd",
    "papermill": {
     "duration": 0.011081,
     "end_time": "2025-02-04T05:00:19.764783",
     "exception": false,
     "start_time": "2025-02-04T05:00:19.753702",
     "status": "completed"
    },
    "tags": []
   },
   "source": [
    "<details>\n",
    "  <summary><h4><strong>Hint</strong></h4></summary>\n",
    "\n",
    "The `describe()` method returns a table of summary statistics for a dataframe's numeric columns.\n",
    "\n",
    "</details>"
   ]
  },
  {
   "cell_type": "markdown",
   "id": "f13045c3",
   "metadata": {
    "id": "oLMPpAzN5wVH",
    "papermill": {
     "duration": 0.011014,
     "end_time": "2025-02-04T05:00:19.787111",
     "exception": false,
     "start_time": "2025-02-04T05:00:19.776097",
     "status": "completed"
    },
    "tags": []
   },
   "source": [
    "## Task 3: Explore your data\n",
    "\n",
    "Practice exploring your data by completing the following exercises."
   ]
  },
  {
   "cell_type": "markdown",
   "id": "ddd78cd2",
   "metadata": {
    "id": "18cf9eYI6eY3",
    "papermill": {
     "duration": 0.011207,
     "end_time": "2025-02-04T05:00:19.810085",
     "exception": false,
     "start_time": "2025-02-04T05:00:19.798878",
     "status": "completed"
    },
    "tags": []
   },
   "source": [
    "### 3a: Rows per state\n",
    "\n",
    "Select the `state_name` column and use the `value_counts()` method on it to check how many rows there are for each state in the dataframe."
   ]
  },
  {
   "cell_type": "code",
   "execution_count": 5,
   "id": "ab38b042",
   "metadata": {
    "execution": {
     "iopub.execute_input": "2025-02-04T05:00:19.834363Z",
     "iopub.status.busy": "2025-02-04T05:00:19.833959Z",
     "iopub.status.idle": "2025-02-04T05:00:19.841260Z",
     "shell.execute_reply": "2025-02-04T05:00:19.840440Z"
    },
    "executionInfo": {
     "elapsed": 40,
     "status": "ok",
     "timestamp": 1679932927637,
     "user": {
      "displayName": "Matteo Riotto",
      "userId": "15211004813978485634"
     },
     "user_tz": 420
    },
    "id": "pkNTi5ZpfmLT",
    "outputId": "ed6454d5-a369-496d-e333-0af8872e48dc",
    "papermill": {
     "duration": 0.021057,
     "end_time": "2025-02-04T05:00:19.842637",
     "exception": false,
     "start_time": "2025-02-04T05:00:19.821580",
     "status": "completed"
    },
    "tags": []
   },
   "outputs": [
    {
     "data": {
      "text/plain": [
       "state_name\n",
       "California              342\n",
       "Texas                   104\n",
       "Pennsylvania            100\n",
       "Florida                  81\n",
       "Arizona                  72\n",
       "Colorado                 66\n",
       "Nevada                   65\n",
       "Ohio                     63\n",
       "Virginia                 51\n",
       "New York                 51\n",
       "New Jersey               45\n",
       "Illinois                 37\n",
       "Washington               36\n",
       "North Carolina           34\n",
       "Missouri                 33\n",
       "Massachusetts            33\n",
       "Michigan                 31\n",
       "New Mexico               30\n",
       "Minnesota                29\n",
       "Country Of Mexico        28\n",
       "Tennessee                27\n",
       "Indiana                  27\n",
       "Utah                     26\n",
       "Kentucky                 24\n",
       "Oklahoma                 22\n",
       "Alabama                  22\n",
       "Connecticut              21\n",
       "Wisconsin                20\n",
       "Montana                  20\n",
       "Puerto Rico              19\n",
       "Oregon                   17\n",
       "Hawaii                   16\n",
       "West Virginia            15\n",
       "Kansas                   15\n",
       "Maryland                 15\n",
       "Georgia                  14\n",
       "Alaska                   14\n",
       "Nebraska                 13\n",
       "Iowa                     12\n",
       "District Of Columbia     12\n",
       "Louisiana                12\n",
       "Vermont                  11\n",
       "Name: count, dtype: int64"
      ]
     },
     "execution_count": 5,
     "metadata": {},
     "output_type": "execute_result"
    }
   ],
   "source": [
    "### YOUR CODE HERE ###\n",
    "top3['state_name'].value_counts()"
   ]
  },
  {
   "cell_type": "markdown",
   "id": "98106713",
   "metadata": {
    "id": "nzjx1vtx7L3-",
    "papermill": {
     "duration": 0.011268,
     "end_time": "2025-02-04T05:00:19.865755",
     "exception": false,
     "start_time": "2025-02-04T05:00:19.854487",
     "status": "completed"
    },
    "tags": []
   },
   "source": [
    "<details>\n",
    "  <summary><h4><strong>Hint 1</strong></h4></summary>\n",
    "\n",
    "This code should all be on a single line. Begin by selecting the `top3` dataframe at the `state_name` column. You can use either selector brackets or dot notation.\n",
    "\n",
    "</details>"
   ]
  },
  {
   "cell_type": "markdown",
   "id": "945e0821",
   "metadata": {
    "id": "OSIHI_Hi7sQ3",
    "papermill": {
     "duration": 0.011155,
     "end_time": "2025-02-04T05:00:19.888623",
     "exception": false,
     "start_time": "2025-02-04T05:00:19.877468",
     "status": "completed"
    },
    "tags": []
   },
   "source": [
    "<details>\n",
    "  <summary><h4><strong>Hint 2</strong></h4></summary>\n",
    "\n",
    "When using brackets to select a column, the column's name should be entered as a string.\n",
    "\n",
    "</details>"
   ]
  },
  {
   "cell_type": "markdown",
   "id": "3880e637",
   "metadata": {
    "id": "ZQyiudC974Ox",
    "papermill": {
     "duration": 0.011153,
     "end_time": "2025-02-04T05:00:19.911160",
     "exception": false,
     "start_time": "2025-02-04T05:00:19.900007",
     "status": "completed"
    },
    "tags": []
   },
   "source": [
    "<details>\n",
    "  <summary><h4><strong>Hint 3</strong></h4></summary>\n",
    "\n",
    "The `value_counts()` method is added to the end of the selection statement using dot notation. Its parentheses are empty.\n",
    "\n",
    "</details>"
   ]
  },
  {
   "cell_type": "markdown",
   "id": "febd109c",
   "metadata": {
    "id": "pdtgkvCU8N96",
    "papermill": {
     "duration": 0.01133,
     "end_time": "2025-02-04T05:00:19.934442",
     "exception": false,
     "start_time": "2025-02-04T05:00:19.923112",
     "status": "completed"
    },
    "tags": []
   },
   "source": [
    "### 3b: Sort by AQI\n",
    "\n",
    "1.  Create a new dataframe called `top3_sorted` by using the `sort_values()` method on the `top3` dataframe. Refer to the [sort_values pandas documentation](https://pandas.pydata.org/docs/reference/api/pandas.DataFrame.sort_values.html#) for more information about how to use this method.\n",
    "    *  The new dataframe should contain the data sorted by AQI, beginning with the rows with the highest AQI values.\n",
    "2.  Print the top 10 rows of `top3_sorted`."
   ]
  },
  {
   "cell_type": "code",
   "execution_count": 6,
   "id": "3e6bf4b9",
   "metadata": {
    "execution": {
     "iopub.execute_input": "2025-02-04T05:00:19.958410Z",
     "iopub.status.busy": "2025-02-04T05:00:19.958042Z",
     "iopub.status.idle": "2025-02-04T05:00:19.972132Z",
     "shell.execute_reply": "2025-02-04T05:00:19.971144Z"
    },
    "executionInfo": {
     "elapsed": 39,
     "status": "ok",
     "timestamp": 1679932927638,
     "user": {
      "displayName": "Matteo Riotto",
      "userId": "15211004813978485634"
     },
     "user_tz": 420
    },
    "id": "IRryfyYOhOfm",
    "outputId": "da23ed8b-5181-43f4-8f58-8ce68aea9149",
    "papermill": {
     "duration": 0.027812,
     "end_time": "2025-02-04T05:00:19.973655",
     "exception": false,
     "start_time": "2025-02-04T05:00:19.945843",
     "status": "completed"
    },
    "tags": []
   },
   "outputs": [
    {
     "data": {
      "text/html": [
       "<div>\n",
       "<style scoped>\n",
       "    .dataframe tbody tr th:only-of-type {\n",
       "        vertical-align: middle;\n",
       "    }\n",
       "\n",
       "    .dataframe tbody tr th {\n",
       "        vertical-align: top;\n",
       "    }\n",
       "\n",
       "    .dataframe thead th {\n",
       "        text-align: right;\n",
       "    }\n",
       "</style>\n",
       "<table border=\"1\" class=\"dataframe\">\n",
       "  <thead>\n",
       "    <tr style=\"text-align: right;\">\n",
       "      <th></th>\n",
       "      <th>state_code</th>\n",
       "      <th>state_name</th>\n",
       "      <th>county_code</th>\n",
       "      <th>county_name</th>\n",
       "      <th>aqi</th>\n",
       "      <th>state_code_int</th>\n",
       "      <th>county_code_int</th>\n",
       "    </tr>\n",
       "  </thead>\n",
       "  <tbody>\n",
       "    <tr>\n",
       "      <th>253</th>\n",
       "      <td>6</td>\n",
       "      <td>California</td>\n",
       "      <td>37</td>\n",
       "      <td>Los Angeles</td>\n",
       "      <td>93.0</td>\n",
       "      <td>6</td>\n",
       "      <td>37</td>\n",
       "    </tr>\n",
       "    <tr>\n",
       "      <th>1324</th>\n",
       "      <td>80</td>\n",
       "      <td>Country Of Mexico</td>\n",
       "      <td>2</td>\n",
       "      <td>BAJA CALIFORNIA NORTE</td>\n",
       "      <td>79.0</td>\n",
       "      <td>80</td>\n",
       "      <td>2</td>\n",
       "    </tr>\n",
       "    <tr>\n",
       "      <th>116</th>\n",
       "      <td>53</td>\n",
       "      <td>Washington</td>\n",
       "      <td>61</td>\n",
       "      <td>Snohomish</td>\n",
       "      <td>76.0</td>\n",
       "      <td>53</td>\n",
       "      <td>61</td>\n",
       "    </tr>\n",
       "    <tr>\n",
       "      <th>107</th>\n",
       "      <td>47</td>\n",
       "      <td>Tennessee</td>\n",
       "      <td>157</td>\n",
       "      <td>Shelby</td>\n",
       "      <td>74.0</td>\n",
       "      <td>47</td>\n",
       "      <td>157</td>\n",
       "    </tr>\n",
       "    <tr>\n",
       "      <th>123</th>\n",
       "      <td>4</td>\n",
       "      <td>Arizona</td>\n",
       "      <td>13</td>\n",
       "      <td>Maricopa</td>\n",
       "      <td>66.0</td>\n",
       "      <td>4</td>\n",
       "      <td>13</td>\n",
       "    </tr>\n",
       "    <tr>\n",
       "      <th>607</th>\n",
       "      <td>4</td>\n",
       "      <td>Arizona</td>\n",
       "      <td>13</td>\n",
       "      <td>Maricopa</td>\n",
       "      <td>66.0</td>\n",
       "      <td>4</td>\n",
       "      <td>13</td>\n",
       "    </tr>\n",
       "    <tr>\n",
       "      <th>787</th>\n",
       "      <td>9</td>\n",
       "      <td>Connecticut</td>\n",
       "      <td>3</td>\n",
       "      <td>Hartford</td>\n",
       "      <td>61.0</td>\n",
       "      <td>9</td>\n",
       "      <td>3</td>\n",
       "    </tr>\n",
       "    <tr>\n",
       "      <th>980</th>\n",
       "      <td>80</td>\n",
       "      <td>Country Of Mexico</td>\n",
       "      <td>2</td>\n",
       "      <td>BAJA CALIFORNIA NORTE</td>\n",
       "      <td>60.0</td>\n",
       "      <td>80</td>\n",
       "      <td>2</td>\n",
       "    </tr>\n",
       "    <tr>\n",
       "      <th>125</th>\n",
       "      <td>4</td>\n",
       "      <td>Arizona</td>\n",
       "      <td>13</td>\n",
       "      <td>Maricopa</td>\n",
       "      <td>60.0</td>\n",
       "      <td>4</td>\n",
       "      <td>13</td>\n",
       "    </tr>\n",
       "    <tr>\n",
       "      <th>472</th>\n",
       "      <td>6</td>\n",
       "      <td>California</td>\n",
       "      <td>37</td>\n",
       "      <td>Los Angeles</td>\n",
       "      <td>59.0</td>\n",
       "      <td>6</td>\n",
       "      <td>37</td>\n",
       "    </tr>\n",
       "  </tbody>\n",
       "</table>\n",
       "</div>"
      ],
      "text/plain": [
       "      state_code         state_name  county_code            county_name   aqi  \\\n",
       "253            6         California           37            Los Angeles  93.0   \n",
       "1324          80  Country Of Mexico            2  BAJA CALIFORNIA NORTE  79.0   \n",
       "116           53         Washington           61              Snohomish  76.0   \n",
       "107           47          Tennessee          157                 Shelby  74.0   \n",
       "123            4            Arizona           13               Maricopa  66.0   \n",
       "607            4            Arizona           13               Maricopa  66.0   \n",
       "787            9        Connecticut            3               Hartford  61.0   \n",
       "980           80  Country Of Mexico            2  BAJA CALIFORNIA NORTE  60.0   \n",
       "125            4            Arizona           13               Maricopa  60.0   \n",
       "472            6         California           37            Los Angeles  59.0   \n",
       "\n",
       "      state_code_int  county_code_int  \n",
       "253                6               37  \n",
       "1324              80                2  \n",
       "116               53               61  \n",
       "107               47              157  \n",
       "123                4               13  \n",
       "607                4               13  \n",
       "787                9                3  \n",
       "980               80                2  \n",
       "125                4               13  \n",
       "472                6               37  "
      ]
     },
     "execution_count": 6,
     "metadata": {},
     "output_type": "execute_result"
    }
   ],
   "source": [
    "# 1. ### YOUR CODE HERE ###\n",
    "top3_sorted = top3.sort_values(by='aqi', ascending=False)\n",
    "\n",
    "# 2. ### YOUR CODE HERE ###\n",
    "top3_sorted.head(10)"
   ]
  },
  {
   "cell_type": "markdown",
   "id": "4fb63213",
   "metadata": {
    "id": "vm2rJJLJ957E",
    "papermill": {
     "duration": 0.011454,
     "end_time": "2025-02-04T05:00:19.997244",
     "exception": false,
     "start_time": "2025-02-04T05:00:19.985790",
     "status": "completed"
    },
    "tags": []
   },
   "source": [
    "<details>\n",
    "  <summary><h4><strong>Hint 1</strong></h4></summary>\n",
    "\n",
    "Attach the `sort_values()` method to the `top3` dataframe using dot notation.\n",
    "\n",
    "</details>"
   ]
  },
  {
   "cell_type": "markdown",
   "id": "4127e538",
   "metadata": {
    "id": "Y0WNm3s7-LLl",
    "papermill": {
     "duration": 0.011422,
     "end_time": "2025-02-04T05:00:20.020262",
     "exception": false,
     "start_time": "2025-02-04T05:00:20.008840",
     "status": "completed"
    },
    "tags": []
   },
   "source": [
    "<details>\n",
    "  <summary><h4><strong>Hint 2</strong></h4></summary>\n",
    "\n",
    "*  The `by` argument of the `sort_values()` method should be a string of the column you want to sort by.\n",
    "\n",
    "*  The default behavior of the `sort_values()` method is to sort in ascending order. You want to sort in *descending* order. Which keyword argument modifies this behavior? Refer to the [sort_values() pandas documentation](https://pandas.pydata.org/docs/reference/api/pandas.DataFrame.sort_values.html#).\n",
    "\n",
    "</details>"
   ]
  },
  {
   "cell_type": "markdown",
   "id": "30bde44d",
   "metadata": {
    "id": "CO7-6T3E_YQm",
    "papermill": {
     "duration": 0.011373,
     "end_time": "2025-02-04T05:00:20.043941",
     "exception": false,
     "start_time": "2025-02-04T05:00:20.032568",
     "status": "completed"
    },
    "tags": []
   },
   "source": [
    "<details>\n",
    "  <summary><h4><strong>Hint 3</strong></h4></summary>\n",
    "\n",
    "*  Use the `head()` method on the `top3_sorted` dataframe.\n",
    "\n",
    "*  The default behavior of the `head()` method is to print the first five rows of a dataframe. You want to print the first 10 rows. Refer to the [head() pandas documentation](https://pandas.pydata.org/docs/reference/api/pandas.DataFrame.head.html) for more information on how to modify this behavior.\n",
    "\n",
    "\n",
    "</details>"
   ]
  },
  {
   "cell_type": "markdown",
   "id": "e82e6739",
   "metadata": {
    "id": "MJW_H8ByCnp6",
    "papermill": {
     "duration": 0.011373,
     "end_time": "2025-02-04T05:00:20.066954",
     "exception": false,
     "start_time": "2025-02-04T05:00:20.055581",
     "status": "completed"
    },
    "tags": []
   },
   "source": [
    "### 3c: Use `iloc` to select rows\n",
    "\n",
    "Use `iloc` to select the two rows at indices 10 and 11 of the `top3_sorted` dataframe."
   ]
  },
  {
   "cell_type": "code",
   "execution_count": 7,
   "id": "6c67861d",
   "metadata": {
    "execution": {
     "iopub.execute_input": "2025-02-04T05:00:20.091032Z",
     "iopub.status.busy": "2025-02-04T05:00:20.090678Z",
     "iopub.status.idle": "2025-02-04T05:00:20.100322Z",
     "shell.execute_reply": "2025-02-04T05:00:20.099542Z"
    },
    "executionInfo": {
     "elapsed": 39,
     "status": "ok",
     "timestamp": 1679932927639,
     "user": {
      "displayName": "Matteo Riotto",
      "userId": "15211004813978485634"
     },
     "user_tz": 420
    },
    "id": "lJf96gRyif8y",
    "outputId": "70bfc39d-0f15-4cd7-bba3-f499cf92a4c3",
    "papermill": {
     "duration": 0.023378,
     "end_time": "2025-02-04T05:00:20.101836",
     "exception": false,
     "start_time": "2025-02-04T05:00:20.078458",
     "status": "completed"
    },
    "tags": []
   },
   "outputs": [
    {
     "data": {
      "text/html": [
       "<div>\n",
       "<style scoped>\n",
       "    .dataframe tbody tr th:only-of-type {\n",
       "        vertical-align: middle;\n",
       "    }\n",
       "\n",
       "    .dataframe tbody tr th {\n",
       "        vertical-align: top;\n",
       "    }\n",
       "\n",
       "    .dataframe thead th {\n",
       "        text-align: right;\n",
       "    }\n",
       "</style>\n",
       "<table border=\"1\" class=\"dataframe\">\n",
       "  <thead>\n",
       "    <tr style=\"text-align: right;\">\n",
       "      <th></th>\n",
       "      <th>state_code</th>\n",
       "      <th>state_name</th>\n",
       "      <th>county_code</th>\n",
       "      <th>county_name</th>\n",
       "      <th>aqi</th>\n",
       "      <th>state_code_int</th>\n",
       "      <th>county_code_int</th>\n",
       "    </tr>\n",
       "  </thead>\n",
       "  <tbody>\n",
       "    <tr>\n",
       "      <th>173</th>\n",
       "      <td>53</td>\n",
       "      <td>Washington</td>\n",
       "      <td>77</td>\n",
       "      <td>Yakima</td>\n",
       "      <td>58.0</td>\n",
       "      <td>53</td>\n",
       "      <td>77</td>\n",
       "    </tr>\n",
       "    <tr>\n",
       "      <th>174</th>\n",
       "      <td>53</td>\n",
       "      <td>Washington</td>\n",
       "      <td>77</td>\n",
       "      <td>Yakima</td>\n",
       "      <td>57.0</td>\n",
       "      <td>53</td>\n",
       "      <td>77</td>\n",
       "    </tr>\n",
       "  </tbody>\n",
       "</table>\n",
       "</div>"
      ],
      "text/plain": [
       "     state_code  state_name  county_code county_name   aqi  state_code_int  \\\n",
       "173          53  Washington           77      Yakima  58.0              53   \n",
       "174          53  Washington           77      Yakima  57.0              53   \n",
       "\n",
       "     county_code_int  \n",
       "173               77  \n",
       "174               77  "
      ]
     },
     "execution_count": 7,
     "metadata": {},
     "output_type": "execute_result"
    }
   ],
   "source": [
    "### YOUR CODE HERE ###\n",
    "top3_sorted.iloc[10:12,]\n"
   ]
  },
  {
   "cell_type": "markdown",
   "id": "140981c6",
   "metadata": {
    "id": "HKGPz1WGD4PU",
    "papermill": {
     "duration": 0.012058,
     "end_time": "2025-02-04T05:00:20.125841",
     "exception": false,
     "start_time": "2025-02-04T05:00:20.113783",
     "status": "completed"
    },
    "tags": []
   },
   "source": [
    "<details>\n",
    "  <summary><h4><strong>Hint 1</strong></h4></summary>\n",
    "\n",
    "To use `iloc` on the `top3_sorted` dataframe, use dot notation.\n",
    "\n",
    "</details>"
   ]
  },
  {
   "cell_type": "markdown",
   "id": "017d4f1c",
   "metadata": {
    "id": "-JIb7TeBElWU",
    "papermill": {
     "duration": 0.011369,
     "end_time": "2025-02-04T05:00:20.148915",
     "exception": false,
     "start_time": "2025-02-04T05:00:20.137546",
     "status": "completed"
    },
    "tags": []
   },
   "source": [
    "<details>\n",
    "  <summary><h4><strong>Hint 2</strong></h4></summary>\n",
    "\n",
    "`iloc` uses brackets to index data.\n",
    "\n",
    "</details>"
   ]
  },
  {
   "cell_type": "markdown",
   "id": "aed47508",
   "metadata": {
    "id": "wdT9EWTME0xc",
    "papermill": {
     "duration": 0.011477,
     "end_time": "2025-02-04T05:00:20.172127",
     "exception": false,
     "start_time": "2025-02-04T05:00:20.160650",
     "status": "completed"
    },
    "tags": []
   },
   "source": [
    "<details>\n",
    "  <summary><h4><strong>Hint 3</strong></h4></summary>\n",
    "\n",
    "`iloc` index ranges are separated by a colon. Remember, the end index is not included in the range of returned indices.\n",
    "\n",
    "</details>"
   ]
  },
  {
   "cell_type": "markdown",
   "id": "dedf0949",
   "metadata": {
    "id": "vTCia-aGFbbs",
    "papermill": {
     "duration": 0.011356,
     "end_time": "2025-02-04T05:00:20.195351",
     "exception": false,
     "start_time": "2025-02-04T05:00:20.183995",
     "status": "completed"
    },
    "tags": []
   },
   "source": [
    "## Task 4: Examine California data\n",
    "\n",
    "You notice that the rows with the highest AQI represent data from California, so you want to examine the data for just the state of California."
   ]
  },
  {
   "cell_type": "markdown",
   "id": "bbf5b3bb",
   "metadata": {
    "id": "veJeGG1HGQLe",
    "papermill": {
     "duration": 0.011687,
     "end_time": "2025-02-04T05:00:20.218769",
     "exception": false,
     "start_time": "2025-02-04T05:00:20.207082",
     "status": "completed"
    },
    "tags": []
   },
   "source": [
    "### 4a: Basic Boolean masking\n",
    "\n",
    "1. Create a Boolean mask that selects only the observations of the `top3_sorted` dataframe that are from California.\n",
    "2. Apply the Boolean mask to the `top3_sorted` dataframe and assign the result to a variable called `ca_df`.\n",
    "3. Print the first five rows of `ca_df`."
   ]
  },
  {
   "cell_type": "code",
   "execution_count": 8,
   "id": "65fafc44",
   "metadata": {
    "execution": {
     "iopub.execute_input": "2025-02-04T05:00:20.243637Z",
     "iopub.status.busy": "2025-02-04T05:00:20.243306Z",
     "iopub.status.idle": "2025-02-04T05:00:20.254739Z",
     "shell.execute_reply": "2025-02-04T05:00:20.253780Z"
    },
    "executionInfo": {
     "elapsed": 39,
     "status": "ok",
     "timestamp": 1679932927640,
     "user": {
      "displayName": "Matteo Riotto",
      "userId": "15211004813978485634"
     },
     "user_tz": 420
    },
    "id": "9Ysa4Pj-TEyk",
    "outputId": "a81d5861-4a9f-48c6-f66e-871731cd0ce9",
    "papermill": {
     "duration": 0.025735,
     "end_time": "2025-02-04T05:00:20.256279",
     "exception": false,
     "start_time": "2025-02-04T05:00:20.230544",
     "status": "completed"
    },
    "tags": []
   },
   "outputs": [
    {
     "data": {
      "text/html": [
       "<div>\n",
       "<style scoped>\n",
       "    .dataframe tbody tr th:only-of-type {\n",
       "        vertical-align: middle;\n",
       "    }\n",
       "\n",
       "    .dataframe tbody tr th {\n",
       "        vertical-align: top;\n",
       "    }\n",
       "\n",
       "    .dataframe thead th {\n",
       "        text-align: right;\n",
       "    }\n",
       "</style>\n",
       "<table border=\"1\" class=\"dataframe\">\n",
       "  <thead>\n",
       "    <tr style=\"text-align: right;\">\n",
       "      <th></th>\n",
       "      <th>state_code</th>\n",
       "      <th>state_name</th>\n",
       "      <th>county_code</th>\n",
       "      <th>county_name</th>\n",
       "      <th>aqi</th>\n",
       "      <th>state_code_int</th>\n",
       "      <th>county_code_int</th>\n",
       "    </tr>\n",
       "  </thead>\n",
       "  <tbody>\n",
       "    <tr>\n",
       "      <th>253</th>\n",
       "      <td>6</td>\n",
       "      <td>California</td>\n",
       "      <td>37</td>\n",
       "      <td>Los Angeles</td>\n",
       "      <td>93.0</td>\n",
       "      <td>6</td>\n",
       "      <td>37</td>\n",
       "    </tr>\n",
       "    <tr>\n",
       "      <th>472</th>\n",
       "      <td>6</td>\n",
       "      <td>California</td>\n",
       "      <td>37</td>\n",
       "      <td>Los Angeles</td>\n",
       "      <td>59.0</td>\n",
       "      <td>6</td>\n",
       "      <td>37</td>\n",
       "    </tr>\n",
       "    <tr>\n",
       "      <th>615</th>\n",
       "      <td>6</td>\n",
       "      <td>California</td>\n",
       "      <td>59</td>\n",
       "      <td>Orange</td>\n",
       "      <td>47.0</td>\n",
       "      <td>6</td>\n",
       "      <td>59</td>\n",
       "    </tr>\n",
       "    <tr>\n",
       "      <th>135</th>\n",
       "      <td>6</td>\n",
       "      <td>California</td>\n",
       "      <td>83</td>\n",
       "      <td>Santa Barbara</td>\n",
       "      <td>47.0</td>\n",
       "      <td>6</td>\n",
       "      <td>83</td>\n",
       "    </tr>\n",
       "    <tr>\n",
       "      <th>403</th>\n",
       "      <td>6</td>\n",
       "      <td>California</td>\n",
       "      <td>59</td>\n",
       "      <td>Orange</td>\n",
       "      <td>47.0</td>\n",
       "      <td>6</td>\n",
       "      <td>59</td>\n",
       "    </tr>\n",
       "  </tbody>\n",
       "</table>\n",
       "</div>"
      ],
      "text/plain": [
       "     state_code  state_name  county_code    county_name   aqi  state_code_int  \\\n",
       "253           6  California           37    Los Angeles  93.0               6   \n",
       "472           6  California           37    Los Angeles  59.0               6   \n",
       "615           6  California           59         Orange  47.0               6   \n",
       "135           6  California           83  Santa Barbara  47.0               6   \n",
       "403           6  California           59         Orange  47.0               6   \n",
       "\n",
       "     county_code_int  \n",
       "253               37  \n",
       "472               37  \n",
       "615               59  \n",
       "135               83  \n",
       "403               59  "
      ]
     },
     "execution_count": 8,
     "metadata": {},
     "output_type": "execute_result"
    }
   ],
   "source": [
    "# 1. ### YOUR CODE HERE ###\n",
    "ca_df = top3_sorted[top3_sorted['state_name'] == 'California'] \n",
    "\n",
    "# 2. ### YOUR CODE HERE ###\n",
    "# covered in step 1\n",
    "\n",
    "# 3. ### YOUR CODE HERE ###\n",
    "ca_df.head()"
   ]
  },
  {
   "cell_type": "markdown",
   "id": "3256e8ae",
   "metadata": {
    "id": "PZo-yknRIZp6",
    "papermill": {
     "duration": 0.011774,
     "end_time": "2025-02-04T05:00:20.280342",
     "exception": false,
     "start_time": "2025-02-04T05:00:20.268568",
     "status": "completed"
    },
    "tags": []
   },
   "source": [
    "<details>\n",
    "  <summary><h4><strong>Hint 1</strong></h4></summary>\n",
    "\n",
    "Refer to what you've learned about Boolean masking.\n",
    "\n",
    "</details>"
   ]
  },
  {
   "cell_type": "markdown",
   "id": "041a830d",
   "metadata": {
    "id": "2HfVOQEPIm3x",
    "papermill": {
     "duration": 0.011701,
     "end_time": "2025-02-04T05:00:20.304078",
     "exception": false,
     "start_time": "2025-02-04T05:00:20.292377",
     "status": "completed"
    },
    "tags": []
   },
   "source": [
    "<details>\n",
    "  <summary><h4><strong>Hint 2</strong></h4></summary>\n",
    "\n",
    "Define a `mask` variable that is the `top3_sorted` dataframe selected where the `state_name` column is `California`.\n",
    "\n",
    "</details>"
   ]
  },
  {
   "cell_type": "markdown",
   "id": "0682c699",
   "metadata": {
    "id": "O4c0AXclJCf5",
    "papermill": {
     "duration": 0.01175,
     "end_time": "2025-02-04T05:00:20.327814",
     "exception": false,
     "start_time": "2025-02-04T05:00:20.316064",
     "status": "completed"
    },
    "tags": []
   },
   "source": [
    "<details>\n",
    "  <summary><h4><strong>Hint 3</strong></h4></summary>\n",
    "\n",
    "*  Apply the `mask` variable to the `top3_sorted` dataframe and assign the result to a new dataframe called `ca_df`.\n",
    "\n",
    "*  Use the `head()` method on the new `ca_df` dataframe.\n",
    "</details>"
   ]
  },
  {
   "cell_type": "markdown",
   "id": "77f9982c",
   "metadata": {
    "id": "QcP9jneZJoFt",
    "papermill": {
     "duration": 0.011759,
     "end_time": "2025-02-04T05:00:20.351597",
     "exception": false,
     "start_time": "2025-02-04T05:00:20.339838",
     "status": "completed"
    },
    "tags": []
   },
   "source": [
    "### 4b: Validate CA data\n",
    "\n",
    "Inspect the shape of your new `ca_df` dataframe. Does its row count match the number of California rows determined in Task 3a?"
   ]
  },
  {
   "cell_type": "code",
   "execution_count": 9,
   "id": "c2706bbd",
   "metadata": {
    "execution": {
     "iopub.execute_input": "2025-02-04T05:00:20.376929Z",
     "iopub.status.busy": "2025-02-04T05:00:20.376579Z",
     "iopub.status.idle": "2025-02-04T05:00:20.383148Z",
     "shell.execute_reply": "2025-02-04T05:00:20.382206Z"
    },
    "executionInfo": {
     "elapsed": 39,
     "status": "ok",
     "timestamp": 1679932927641,
     "user": {
      "displayName": "Matteo Riotto",
      "userId": "15211004813978485634"
     },
     "user_tz": 420
    },
    "id": "ZdpJLggBgV5B",
    "outputId": "1ec24aea-3e02-45a5-f40a-54fff1670d77",
    "papermill": {
     "duration": 0.021008,
     "end_time": "2025-02-04T05:00:20.384587",
     "exception": false,
     "start_time": "2025-02-04T05:00:20.363579",
     "status": "completed"
    },
    "tags": []
   },
   "outputs": [
    {
     "data": {
      "text/plain": [
       "True"
      ]
     },
     "execution_count": 9,
     "metadata": {},
     "output_type": "execute_result"
    }
   ],
   "source": [
    "### YOUR CODE HERE ###\n",
    "ca_df.shape[0] == top3['state_name'].value_counts()['California']"
   ]
  },
  {
   "cell_type": "markdown",
   "id": "02018e80",
   "metadata": {
    "id": "KT4MTiqhK3Ml",
    "papermill": {
     "duration": 0.012133,
     "end_time": "2025-02-04T05:00:20.409004",
     "exception": false,
     "start_time": "2025-02-04T05:00:20.396871",
     "status": "completed"
    },
    "tags": []
   },
   "source": [
    "<details>\n",
    "  <summary><h4><strong>Hint</strong></h4></summary>\n",
    "\n",
    "*   Use the `shape` attribute on the `ca_df` dataframe.\n",
    "\n",
    "*   Attributes don't use parentheses.\n",
    "\n",
    "\n",
    "</details>"
   ]
  },
  {
   "cell_type": "markdown",
   "id": "bdc814d6",
   "metadata": {
    "id": "yOBWRRiOL3AI",
    "papermill": {
     "duration": 0.01188,
     "end_time": "2025-02-04T05:00:20.433079",
     "exception": false,
     "start_time": "2025-02-04T05:00:20.421199",
     "status": "completed"
    },
    "tags": []
   },
   "source": [
    "### 4c: Rows per CA county\n",
    "\n",
    "Examine a list of the number of times each county is represented in the California data."
   ]
  },
  {
   "cell_type": "code",
   "execution_count": 10,
   "id": "910704aa",
   "metadata": {
    "execution": {
     "iopub.execute_input": "2025-02-04T05:00:20.458591Z",
     "iopub.status.busy": "2025-02-04T05:00:20.458266Z",
     "iopub.status.idle": "2025-02-04T05:00:20.465919Z",
     "shell.execute_reply": "2025-02-04T05:00:20.464955Z"
    },
    "executionInfo": {
     "elapsed": 36,
     "status": "ok",
     "timestamp": 1679932927642,
     "user": {
      "displayName": "Matteo Riotto",
      "userId": "15211004813978485634"
     },
     "user_tz": 420
    },
    "id": "bJCi2FyhVCMI",
    "outputId": "c8167244-40b5-47b4-e1f7-613b8fa9dad6",
    "papermill": {
     "duration": 0.022183,
     "end_time": "2025-02-04T05:00:20.467390",
     "exception": false,
     "start_time": "2025-02-04T05:00:20.445207",
     "status": "completed"
    },
    "tags": []
   },
   "outputs": [
    {
     "data": {
      "text/plain": [
       "county_name\n",
       "Los Angeles        55\n",
       "Santa Barbara      26\n",
       "San Bernardino     21\n",
       "San Diego          19\n",
       "Orange             19\n",
       "Alameda            17\n",
       "Sacramento         17\n",
       "Fresno             16\n",
       "Riverside          14\n",
       "Imperial           13\n",
       "Contra Costa       13\n",
       "Monterey            8\n",
       "San Francisco       8\n",
       "Humboldt            8\n",
       "Santa Clara         7\n",
       "El Dorado           7\n",
       "Mendocino           6\n",
       "Placer              6\n",
       "Butte               6\n",
       "Kern                6\n",
       "San Joaquin         5\n",
       "Solano              5\n",
       "Ventura             5\n",
       "Tulare              5\n",
       "San Mateo           4\n",
       "Sutter              4\n",
       "Marin               3\n",
       "Sonoma              3\n",
       "Stanislaus          3\n",
       "San Luis Obispo     2\n",
       "Calaveras           2\n",
       "Santa Cruz          2\n",
       "Napa                2\n",
       "Tuolumne            1\n",
       "Mono                1\n",
       "Shasta              1\n",
       "Inyo                1\n",
       "Yolo                1\n",
       "Name: count, dtype: int64"
      ]
     },
     "execution_count": 10,
     "metadata": {},
     "output_type": "execute_result"
    }
   ],
   "source": [
    "### YOUR CODE HERE ###\n",
    "ca_df.value_counts('county_name')"
   ]
  },
  {
   "cell_type": "markdown",
   "id": "9971f741",
   "metadata": {
    "id": "MVyb4JVrMXX2",
    "papermill": {
     "duration": 0.011941,
     "end_time": "2025-02-04T05:00:20.491703",
     "exception": false,
     "start_time": "2025-02-04T05:00:20.479762",
     "status": "completed"
    },
    "tags": []
   },
   "source": [
    "<details>\n",
    "  <summary><h4><strong>Hint</strong></h4></summary>\n",
    "\n",
    "Select the `county_name` column of `ca_df` and apply the `value_counts()` method to it using dot notation.\n",
    "\n",
    "</details>"
   ]
  },
  {
   "cell_type": "markdown",
   "id": "19fe3c1d",
   "metadata": {
    "id": "25cj2ITKM2Z2",
    "papermill": {
     "duration": 0.011987,
     "end_time": "2025-02-04T05:00:20.515940",
     "exception": false,
     "start_time": "2025-02-04T05:00:20.503953",
     "status": "completed"
    },
    "tags": []
   },
   "source": [
    "### 4d: Calculate mean AQI for Los Angeles county\n",
    "\n",
    "You notice that Los Angeles county has more than twice the number of rows of the next-most-represented county in California, and you want to learn more about it.\n",
    "\n",
    "*  Calculate the mean AQI for LA county."
   ]
  },
  {
   "cell_type": "code",
   "execution_count": 11,
   "id": "aa8804b8",
   "metadata": {
    "execution": {
     "iopub.execute_input": "2025-02-04T05:00:20.541671Z",
     "iopub.status.busy": "2025-02-04T05:00:20.541351Z",
     "iopub.status.idle": "2025-02-04T05:00:20.547791Z",
     "shell.execute_reply": "2025-02-04T05:00:20.546884Z"
    },
    "executionInfo": {
     "elapsed": 33,
     "status": "ok",
     "timestamp": 1679932927642,
     "user": {
      "displayName": "Matteo Riotto",
      "userId": "15211004813978485634"
     },
     "user_tz": 420
    },
    "id": "H4hTyZf5rC9E",
    "outputId": "1c329d79-0a95-40e1-d203-de37f514cb6c",
    "papermill": {
     "duration": 0.021102,
     "end_time": "2025-02-04T05:00:20.549354",
     "exception": false,
     "start_time": "2025-02-04T05:00:20.528252",
     "status": "completed"
    },
    "tags": []
   },
   "outputs": [
    {
     "data": {
      "text/plain": [
       "13.4"
      ]
     },
     "execution_count": 11,
     "metadata": {},
     "output_type": "execute_result"
    }
   ],
   "source": [
    "### YOUR CODE HERE ###\n",
    "ca_df[ca_df['county_name'] == 'Los Angeles']['aqi'].mean()"
   ]
  },
  {
   "cell_type": "markdown",
   "id": "f42b4edc",
   "metadata": {
    "id": "ss1C32s5NoIB",
    "papermill": {
     "duration": 0.012282,
     "end_time": "2025-02-04T05:00:20.575450",
     "exception": false,
     "start_time": "2025-02-04T05:00:20.563168",
     "status": "completed"
    },
    "tags": []
   },
   "source": [
    "<details>\n",
    "  <summary><h4><strong>Hint 1</strong></h4></summary>\n",
    "\n",
    "Use Boolean masking to create a mask. Then apply the mask to the `ca_df` dataframe, select the `aqi` column of the result, and calculate its mean.\n",
    "\n",
    "</details>"
   ]
  },
  {
   "cell_type": "markdown",
   "id": "2f55fc26",
   "metadata": {
    "id": "6N5K3km7OFj4",
    "papermill": {
     "duration": 0.012617,
     "end_time": "2025-02-04T05:00:20.600481",
     "exception": false,
     "start_time": "2025-02-04T05:00:20.587864",
     "status": "completed"
    },
    "tags": []
   },
   "source": [
    "<details>\n",
    "  <summary><h4><strong>Hint 2</strong></h4></summary>\n",
    "\n",
    "The Boolean mask is `ca_df` selected where `county_name` is `Los Angeles`.\n",
    "\n",
    "</details>"
   ]
  },
  {
   "cell_type": "markdown",
   "id": "004141cd",
   "metadata": {
    "id": "ptRizlhROkhC",
    "papermill": {
     "duration": 0.012089,
     "end_time": "2025-02-04T05:00:20.625715",
     "exception": false,
     "start_time": "2025-02-04T05:00:20.613626",
     "status": "completed"
    },
    "tags": []
   },
   "source": [
    "<details>\n",
    "  <summary><h4><strong>Hint 3</strong></h4></summary>\n",
    "\n",
    "*  Apply the Boolean mask to `ca_df`.\n",
    "*  Then use selector brackets to select the `aqi` column.\n",
    "*  Then use dot notation to attach the `mean()` method to the end of the expression.\n",
    "\n",
    "</details>"
   ]
  },
  {
   "cell_type": "markdown",
   "id": "aa642aa0",
   "metadata": {
    "id": "YyMgRk1KPWYL",
    "papermill": {
     "duration": 0.012193,
     "end_time": "2025-02-04T05:00:20.650558",
     "exception": false,
     "start_time": "2025-02-04T05:00:20.638365",
     "status": "completed"
    },
    "tags": []
   },
   "source": [
    "## Task 5: Groupby\n",
    "\n",
    "Group the original dataframe (`top3`) by state and calculate the mean AQI for each state."
   ]
  },
  {
   "cell_type": "code",
   "execution_count": 12,
   "id": "ed4271b9",
   "metadata": {
    "execution": {
     "iopub.execute_input": "2025-02-04T05:00:20.677499Z",
     "iopub.status.busy": "2025-02-04T05:00:20.677149Z",
     "iopub.status.idle": "2025-02-04T05:00:20.689540Z",
     "shell.execute_reply": "2025-02-04T05:00:20.688736Z"
    },
    "executionInfo": {
     "elapsed": 31,
     "status": "ok",
     "timestamp": 1679932927643,
     "user": {
      "displayName": "Matteo Riotto",
      "userId": "15211004813978485634"
     },
     "user_tz": 420
    },
    "id": "w9MlkTjDk2jj",
    "outputId": "b88f2caa-2f40-406d-d9e4-2780d8f2f8f4",
    "papermill": {
     "duration": 0.027877,
     "end_time": "2025-02-04T05:00:20.691052",
     "exception": false,
     "start_time": "2025-02-04T05:00:20.663175",
     "status": "completed"
    },
    "tags": []
   },
   "outputs": [
    {
     "data": {
      "text/plain": [
       "state_name\n",
       "Alabama                  7.500000\n",
       "Alaska                  15.714286\n",
       "Arizona                 16.597222\n",
       "California               9.412281\n",
       "Colorado                12.136364\n",
       "Connecticut             12.619048\n",
       "Country Of Mexico       19.071429\n",
       "District Of Columbia    15.916667\n",
       "Florida                 11.654321\n",
       "Georgia                  7.071429\n",
       "Hawaii                   7.687500\n",
       "Illinois                11.864865\n",
       "Indiana                 11.148148\n",
       "Iowa                     8.000000\n",
       "Kansas                   6.400000\n",
       "Kentucky                 8.625000\n",
       "Louisiana               14.833333\n",
       "Maryland                 9.400000\n",
       "Massachusetts            9.454545\n",
       "Michigan                 7.322581\n",
       "Minnesota                8.896552\n",
       "Missouri                 7.060606\n",
       "Montana                 10.600000\n",
       "Nebraska                15.153846\n",
       "Nevada                  10.323077\n",
       "New Jersey              14.222222\n",
       "New Mexico              12.833333\n",
       "New York                 9.235294\n",
       "North Carolina          13.470588\n",
       "Ohio                     9.682540\n",
       "Oklahoma                 9.681818\n",
       "Oregon                  22.411765\n",
       "Pennsylvania             6.690000\n",
       "Puerto Rico             15.947368\n",
       "Tennessee               15.000000\n",
       "Texas                    9.375000\n",
       "Utah                    18.192308\n",
       "Vermont                 11.818182\n",
       "Virginia                 8.588235\n",
       "Washington              24.972222\n",
       "West Virginia            6.600000\n",
       "Wisconsin                8.100000\n",
       "Name: aqi, dtype: float64"
      ]
     },
     "execution_count": 12,
     "metadata": {},
     "output_type": "execute_result"
    }
   ],
   "source": [
    "### YOUR CODE HERE ###\n",
    "top3[['state_name','aqi']].groupby('state_name').mean()['aqi']"
   ]
  },
  {
   "cell_type": "markdown",
   "id": "46b6df24",
   "metadata": {
    "id": "fpgs3ZqdQYJt",
    "papermill": {
     "duration": 0.012351,
     "end_time": "2025-02-04T05:00:20.716278",
     "exception": false,
     "start_time": "2025-02-04T05:00:20.703927",
     "status": "completed"
    },
    "tags": []
   },
   "source": [
    "<details>\n",
    "  <summary><h4><strong>Hint 1</strong></h4></summary>\n",
    "\n",
    "Use the `groupby()` method on the `top3` dataframe.\n",
    "\n",
    "</details>"
   ]
  },
  {
   "cell_type": "markdown",
   "id": "1ed85055",
   "metadata": {
    "id": "8wOezEbbQhs8",
    "papermill": {
     "duration": 0.012556,
     "end_time": "2025-02-04T05:00:20.741395",
     "exception": false,
     "start_time": "2025-02-04T05:00:20.728839",
     "status": "completed"
    },
    "tags": []
   },
   "source": [
    "<details>\n",
    "  <summary><h4><strong>Hint 2</strong></h4></summary>\n",
    "\n",
    "Group by `state_name` and use dot notation to chain the `mean()` method to the expression.\n",
    "\n",
    "</details>"
   ]
  },
  {
   "cell_type": "markdown",
   "id": "2f3a386f",
   "metadata": {
    "id": "-IqJn1yBRUFX",
    "papermill": {
     "duration": 0.012211,
     "end_time": "2025-02-04T05:00:20.766161",
     "exception": false,
     "start_time": "2025-02-04T05:00:20.753950",
     "status": "completed"
    },
    "tags": []
   },
   "source": [
    "<details>\n",
    "  <summary><h4><strong>Hint 3</strong></h4></summary>\n",
    "\n",
    "`top3.groupby('state_name').mean()` will produce a table of the mean values of every numeric column for each state. To filter the table on just the `aqi` column, add `['aqi']` to the end of the expression.\n",
    "\n",
    "</details>"
   ]
  },
  {
   "cell_type": "markdown",
   "id": "7d563819",
   "metadata": {
    "id": "e0Ls3OueR8LN",
    "papermill": {
     "duration": 0.012565,
     "end_time": "2025-02-04T05:00:20.791325",
     "exception": false,
     "start_time": "2025-02-04T05:00:20.778760",
     "status": "completed"
    },
    "tags": []
   },
   "source": [
    "## Task 6: Add more data\n",
    "\n",
    "Now that you have performed a short examination of the file with AQI data for California, Texas, and Pennsylvania, you want to add more data from your second file."
   ]
  },
  {
   "cell_type": "markdown",
   "id": "6070e5ee",
   "metadata": {
    "id": "Um7-XdnMSkHG",
    "papermill": {
     "duration": 0.012726,
     "end_time": "2025-02-04T05:00:20.817085",
     "exception": false,
     "start_time": "2025-02-04T05:00:20.804359",
     "status": "completed"
    },
    "tags": []
   },
   "source": [
    "### 6a: Read in the second file\n",
    "\n",
    "1. Read in the data for the remaining territories. The file is called `'epa_others.csv'` and is already in your working directory. Assign the resulting dataframe to a variable named `other_states`.\n",
    "\n",
    "2. Use the `head()` method on the `other_states` dataframe to inspect the first five rows."
   ]
  },
  {
   "cell_type": "code",
   "execution_count": 13,
   "id": "a9639992",
   "metadata": {
    "execution": {
     "iopub.execute_input": "2025-02-04T05:00:20.843662Z",
     "iopub.status.busy": "2025-02-04T05:00:20.843341Z",
     "iopub.status.idle": "2025-02-04T05:00:21.037393Z",
     "shell.execute_reply": "2025-02-04T05:00:21.036394Z"
    },
    "executionInfo": {
     "elapsed": 30,
     "status": "ok",
     "timestamp": 1679932927644,
     "user": {
      "displayName": "Matteo Riotto",
      "userId": "15211004813978485634"
     },
     "user_tz": 420
    },
    "id": "Qze2SW5Nl6rg",
    "outputId": "13b613fa-0fef-40db-8425-03cc743b7e6b",
    "papermill": {
     "duration": 0.209267,
     "end_time": "2025-02-04T05:00:21.039027",
     "exception": false,
     "start_time": "2025-02-04T05:00:20.829760",
     "status": "completed"
    },
    "tags": []
   },
   "outputs": [
    {
     "data": {
      "text/html": [
       "<div>\n",
       "<style scoped>\n",
       "    .dataframe tbody tr th:only-of-type {\n",
       "        vertical-align: middle;\n",
       "    }\n",
       "\n",
       "    .dataframe tbody tr th {\n",
       "        vertical-align: top;\n",
       "    }\n",
       "\n",
       "    .dataframe thead th {\n",
       "        text-align: right;\n",
       "    }\n",
       "</style>\n",
       "<table border=\"1\" class=\"dataframe\">\n",
       "  <thead>\n",
       "    <tr style=\"text-align: right;\">\n",
       "      <th></th>\n",
       "      <th>state_code</th>\n",
       "      <th>state_name</th>\n",
       "      <th>county_code</th>\n",
       "      <th>county_name</th>\n",
       "      <th>aqi</th>\n",
       "      <th>state_code_int</th>\n",
       "      <th>county_code_int</th>\n",
       "    </tr>\n",
       "  </thead>\n",
       "  <tbody>\n",
       "    <tr>\n",
       "      <th>0</th>\n",
       "      <td>4</td>\n",
       "      <td>Arizona</td>\n",
       "      <td>13</td>\n",
       "      <td>Maricopa</td>\n",
       "      <td>18.0</td>\n",
       "      <td>4</td>\n",
       "      <td>13</td>\n",
       "    </tr>\n",
       "    <tr>\n",
       "      <th>1</th>\n",
       "      <td>4</td>\n",
       "      <td>Arizona</td>\n",
       "      <td>13</td>\n",
       "      <td>Maricopa</td>\n",
       "      <td>9.0</td>\n",
       "      <td>4</td>\n",
       "      <td>13</td>\n",
       "    </tr>\n",
       "    <tr>\n",
       "      <th>2</th>\n",
       "      <td>4</td>\n",
       "      <td>Arizona</td>\n",
       "      <td>19</td>\n",
       "      <td>Pima</td>\n",
       "      <td>20.0</td>\n",
       "      <td>4</td>\n",
       "      <td>19</td>\n",
       "    </tr>\n",
       "    <tr>\n",
       "      <th>3</th>\n",
       "      <td>6</td>\n",
       "      <td>California</td>\n",
       "      <td>1</td>\n",
       "      <td>Alameda</td>\n",
       "      <td>11.0</td>\n",
       "      <td>6</td>\n",
       "      <td>1</td>\n",
       "    </tr>\n",
       "    <tr>\n",
       "      <th>4</th>\n",
       "      <td>6</td>\n",
       "      <td>California</td>\n",
       "      <td>7</td>\n",
       "      <td>Butte</td>\n",
       "      <td>6.0</td>\n",
       "      <td>6</td>\n",
       "      <td>7</td>\n",
       "    </tr>\n",
       "  </tbody>\n",
       "</table>\n",
       "</div>"
      ],
      "text/plain": [
       "   state_code  state_name  county_code county_name   aqi  state_code_int  \\\n",
       "0           4     Arizona           13    Maricopa  18.0               4   \n",
       "1           4     Arizona           13    Maricopa   9.0               4   \n",
       "2           4     Arizona           19        Pima  20.0               4   \n",
       "3           6  California            1     Alameda  11.0               6   \n",
       "4           6  California            7       Butte   6.0               6   \n",
       "\n",
       "   county_code_int  \n",
       "0               13  \n",
       "1               13  \n",
       "2               19  \n",
       "3                1  \n",
       "4                7  "
      ]
     },
     "execution_count": 13,
     "metadata": {},
     "output_type": "execute_result"
    }
   ],
   "source": [
    "# 1. ### YOUR CODE HERE ###\n",
    "other_states = pd.read_csv('https://raw.githubusercontent.com/adacert/EPA/main/c2_epa_air_quality.csv')\n",
    "\n",
    "# 2. ### YOUR CODE HERE ###\n",
    "other_states.head()"
   ]
  },
  {
   "cell_type": "markdown",
   "id": "ba05b637",
   "metadata": {
    "id": "UWSSzw-4TNVv",
    "papermill": {
     "duration": 0.012539,
     "end_time": "2025-02-04T05:00:21.064605",
     "exception": false,
     "start_time": "2025-02-04T05:00:21.052066",
     "status": "completed"
    },
    "tags": []
   },
   "source": [
    "### 6b: Concatenate the data\n",
    "\n",
    "The data from `other_states` is in the same format as the data from `top3`. It has the same columns in the same order.\n",
    "\n",
    "1. Add the data from `other_states` as new rows beneath the data from `top3`. Assign the result to a new dataframe called `combined_df`.\n",
    "\n",
    "2. Verify that the length of `combined_df` is equal to the sum of the lengths of `top3` and `other_states`."
   ]
  },
  {
   "cell_type": "code",
   "execution_count": 14,
   "id": "0f503c04",
   "metadata": {
    "execution": {
     "iopub.execute_input": "2025-02-04T05:00:21.091651Z",
     "iopub.status.busy": "2025-02-04T05:00:21.091324Z",
     "iopub.status.idle": "2025-02-04T05:00:21.098514Z",
     "shell.execute_reply": "2025-02-04T05:00:21.097526Z"
    },
    "executionInfo": {
     "elapsed": 29,
     "status": "ok",
     "timestamp": 1679932927644,
     "user": {
      "displayName": "Matteo Riotto",
      "userId": "15211004813978485634"
     },
     "user_tz": 420
    },
    "id": "Jawta5WosDoW",
    "outputId": "f71829ad-acc1-46c0-9231-558fc1fc7e85",
    "papermill": {
     "duration": 0.022799,
     "end_time": "2025-02-04T05:00:21.100240",
     "exception": false,
     "start_time": "2025-02-04T05:00:21.077441",
     "status": "completed"
    },
    "tags": []
   },
   "outputs": [
    {
     "data": {
      "text/plain": [
       "True"
      ]
     },
     "execution_count": 14,
     "metadata": {},
     "output_type": "execute_result"
    }
   ],
   "source": [
    "# 1. ### YOUR CODE HERE ###\n",
    "combined_df = pd.concat([top3, other_states], axis=0)\n",
    "\n",
    "# 2. ### YOUR CODE HERE ###\n",
    "combined_df.shape[0] == top3.shape[0]+other_states.shape[0] "
   ]
  },
  {
   "cell_type": "markdown",
   "id": "024f3d4e",
   "metadata": {
    "id": "ZQhlUn1UUkro",
    "papermill": {
     "duration": 0.012827,
     "end_time": "2025-02-04T05:00:21.126647",
     "exception": false,
     "start_time": "2025-02-04T05:00:21.113820",
     "status": "completed"
    },
    "tags": []
   },
   "source": [
    "<details>\n",
    "  <summary><h4><strong>Hint 1</strong></h4></summary>\n",
    "\n",
    "Use the `concat()` function. For more information on this function, refer to the [concat() pandas documentation](https://pandas.pydata.org/docs/reference/api/pandas.concat.html).\n",
    "\n",
    "</details>"
   ]
  },
  {
   "cell_type": "markdown",
   "id": "ec6c7378",
   "metadata": {
    "id": "iMrsBa9eU0yq",
    "papermill": {
     "duration": 0.01279,
     "end_time": "2025-02-04T05:00:21.152445",
     "exception": false,
     "start_time": "2025-02-04T05:00:21.139655",
     "status": "completed"
    },
    "tags": []
   },
   "source": [
    "<details>\n",
    "  <summary><h4><strong>Hint 2</strong></h4></summary>\n",
    "\n",
    "*  Enter the two dataframes being joined as a list in the argument field of the `concat()` function.\n",
    "\n",
    "*  To add rows, concatenate along axis 0. To add columns, concatenate along axis 1.\n",
    "\n",
    "</details>"
   ]
  },
  {
   "cell_type": "markdown",
   "id": "b92350d7",
   "metadata": {
    "id": "luRYFeOZV3Cq",
    "papermill": {
     "duration": 0.012567,
     "end_time": "2025-02-04T05:00:21.177907",
     "exception": false,
     "start_time": "2025-02-04T05:00:21.165340",
     "status": "completed"
    },
    "tags": []
   },
   "source": [
    "<details>\n",
    "  <summary><h4><strong>Hint 3</strong></h4></summary>\n",
    "\n",
    "Use the `len()` function in a comparison statement to determine if the length of `combined_df` equals the length of `top3` plus the length of `other_states`.\n",
    "\n",
    "</details>"
   ]
  },
  {
   "cell_type": "markdown",
   "id": "d9593a86",
   "metadata": {
    "id": "OHlADErxYoH4",
    "papermill": {
     "duration": 0.012561,
     "end_time": "2025-02-04T05:00:21.203268",
     "exception": false,
     "start_time": "2025-02-04T05:00:21.190707",
     "status": "completed"
    },
    "tags": []
   },
   "source": [
    "## Task 7: Complex Boolean masking\n",
    "\n",
    "According to the EPA, AQI values of 51-100 are considered of \"Moderate\" concern. You've been tasked with examining some data for the state of Washington.\n",
    "\n",
    "*  Use Boolean masking to return the rows that represent data from the state of Washington with AQI values of 51+."
   ]
  },
  {
   "cell_type": "code",
   "execution_count": 15,
   "id": "a2eaa3c2",
   "metadata": {
    "execution": {
     "iopub.execute_input": "2025-02-04T05:00:21.283554Z",
     "iopub.status.busy": "2025-02-04T05:00:21.283181Z",
     "iopub.status.idle": "2025-02-04T05:00:21.295911Z",
     "shell.execute_reply": "2025-02-04T05:00:21.294952Z"
    },
    "executionInfo": {
     "elapsed": 27,
     "status": "ok",
     "timestamp": 1679932927645,
     "user": {
      "displayName": "Matteo Riotto",
      "userId": "15211004813978485634"
     },
     "user_tz": 420
    },
    "id": "L_O-gFlBY6h7",
    "outputId": "e1830dcb-e1cf-4cb6-e8ec-45df5c63605a",
    "papermill": {
     "duration": 0.028449,
     "end_time": "2025-02-04T05:00:21.297700",
     "exception": false,
     "start_time": "2025-02-04T05:00:21.269251",
     "status": "completed"
    },
    "tags": []
   },
   "outputs": [
    {
     "data": {
      "text/html": [
       "<div>\n",
       "<style scoped>\n",
       "    .dataframe tbody tr th:only-of-type {\n",
       "        vertical-align: middle;\n",
       "    }\n",
       "\n",
       "    .dataframe tbody tr th {\n",
       "        vertical-align: top;\n",
       "    }\n",
       "\n",
       "    .dataframe thead th {\n",
       "        text-align: right;\n",
       "    }\n",
       "</style>\n",
       "<table border=\"1\" class=\"dataframe\">\n",
       "  <thead>\n",
       "    <tr style=\"text-align: right;\">\n",
       "      <th></th>\n",
       "      <th>state_code</th>\n",
       "      <th>state_name</th>\n",
       "      <th>county_code</th>\n",
       "      <th>county_name</th>\n",
       "      <th>aqi</th>\n",
       "      <th>state_code_int</th>\n",
       "      <th>county_code_int</th>\n",
       "    </tr>\n",
       "  </thead>\n",
       "  <tbody>\n",
       "    <tr>\n",
       "      <th>57</th>\n",
       "      <td>53</td>\n",
       "      <td>Washington</td>\n",
       "      <td>33</td>\n",
       "      <td>King</td>\n",
       "      <td>55.0</td>\n",
       "      <td>53</td>\n",
       "      <td>33</td>\n",
       "    </tr>\n",
       "    <tr>\n",
       "      <th>116</th>\n",
       "      <td>53</td>\n",
       "      <td>Washington</td>\n",
       "      <td>61</td>\n",
       "      <td>Snohomish</td>\n",
       "      <td>76.0</td>\n",
       "      <td>53</td>\n",
       "      <td>61</td>\n",
       "    </tr>\n",
       "    <tr>\n",
       "      <th>173</th>\n",
       "      <td>53</td>\n",
       "      <td>Washington</td>\n",
       "      <td>77</td>\n",
       "      <td>Yakima</td>\n",
       "      <td>58.0</td>\n",
       "      <td>53</td>\n",
       "      <td>77</td>\n",
       "    </tr>\n",
       "    <tr>\n",
       "      <th>174</th>\n",
       "      <td>53</td>\n",
       "      <td>Washington</td>\n",
       "      <td>77</td>\n",
       "      <td>Yakima</td>\n",
       "      <td>57.0</td>\n",
       "      <td>53</td>\n",
       "      <td>77</td>\n",
       "    </tr>\n",
       "    <tr>\n",
       "      <th>57</th>\n",
       "      <td>53</td>\n",
       "      <td>Washington</td>\n",
       "      <td>33</td>\n",
       "      <td>King</td>\n",
       "      <td>55.0</td>\n",
       "      <td>53</td>\n",
       "      <td>33</td>\n",
       "    </tr>\n",
       "    <tr>\n",
       "      <th>116</th>\n",
       "      <td>53</td>\n",
       "      <td>Washington</td>\n",
       "      <td>61</td>\n",
       "      <td>Snohomish</td>\n",
       "      <td>76.0</td>\n",
       "      <td>53</td>\n",
       "      <td>61</td>\n",
       "    </tr>\n",
       "    <tr>\n",
       "      <th>173</th>\n",
       "      <td>53</td>\n",
       "      <td>Washington</td>\n",
       "      <td>77</td>\n",
       "      <td>Yakima</td>\n",
       "      <td>58.0</td>\n",
       "      <td>53</td>\n",
       "      <td>77</td>\n",
       "    </tr>\n",
       "    <tr>\n",
       "      <th>174</th>\n",
       "      <td>53</td>\n",
       "      <td>Washington</td>\n",
       "      <td>77</td>\n",
       "      <td>Yakima</td>\n",
       "      <td>57.0</td>\n",
       "      <td>53</td>\n",
       "      <td>77</td>\n",
       "    </tr>\n",
       "  </tbody>\n",
       "</table>\n",
       "</div>"
      ],
      "text/plain": [
       "     state_code  state_name  county_code county_name   aqi  state_code_int  \\\n",
       "57           53  Washington           33        King  55.0              53   \n",
       "116          53  Washington           61   Snohomish  76.0              53   \n",
       "173          53  Washington           77      Yakima  58.0              53   \n",
       "174          53  Washington           77      Yakima  57.0              53   \n",
       "57           53  Washington           33        King  55.0              53   \n",
       "116          53  Washington           61   Snohomish  76.0              53   \n",
       "173          53  Washington           77      Yakima  58.0              53   \n",
       "174          53  Washington           77      Yakima  57.0              53   \n",
       "\n",
       "     county_code_int  \n",
       "57                33  \n",
       "116               61  \n",
       "173               77  \n",
       "174               77  \n",
       "57                33  \n",
       "116               61  \n",
       "173               77  \n",
       "174               77  "
      ]
     },
     "execution_count": 15,
     "metadata": {},
     "output_type": "execute_result"
    }
   ],
   "source": [
    "### YOUR CODE HERE ###\n",
    "combined_df[ (combined_df['state_name'] == 'Washington') & (combined_df['aqi']>=51)]"
   ]
  },
  {
   "cell_type": "markdown",
   "id": "101dea36",
   "metadata": {
    "id": "yCfp-RVwaYdn",
    "papermill": {
     "duration": 0.013532,
     "end_time": "2025-02-04T05:00:21.325412",
     "exception": false,
     "start_time": "2025-02-04T05:00:21.311880",
     "status": "completed"
    },
    "tags": []
   },
   "source": [
    "<details>\n",
    "  <summary><h4><strong>Hint 1</strong></h4></summary>\n",
    "\n",
    "Create a Boolean mask for `combined_df` with two conditions:\n",
    "\n",
    "*   The state is Washington\n",
    "*   The AQI is greater than or equal to 51\n",
    "\n",
    "</details>"
   ]
  },
  {
   "cell_type": "markdown",
   "id": "89b84077",
   "metadata": {
    "id": "4eKEkghfbAQp",
    "papermill": {
     "duration": 0.013043,
     "end_time": "2025-02-04T05:00:21.351941",
     "exception": false,
     "start_time": "2025-02-04T05:00:21.338898",
     "status": "completed"
    },
    "tags": []
   },
   "source": [
    "<details>\n",
    "  <summary><h4><strong>Hint 2</strong></h4></summary>\n",
    "\n",
    "Remember to enclose each condition in its own set of parentheses.\n",
    "\n",
    "</details>"
   ]
  },
  {
   "cell_type": "markdown",
   "id": "1a196df3",
   "metadata": {
    "id": "gu7UQtCObGSS",
    "papermill": {
     "duration": 0.012919,
     "end_time": "2025-02-04T05:00:21.378140",
     "exception": false,
     "start_time": "2025-02-04T05:00:21.365221",
     "status": "completed"
    },
    "tags": []
   },
   "source": [
    "<details>\n",
    "  <summary><h4><strong>Hint 3</strong></h4></summary>\n",
    "\n",
    "Separate the two conditions with the `&` operator, because both conditions need to evaluate as true for the row to be included in the filtered dataframe.\n",
    "\n",
    "</details>"
   ]
  },
  {
   "cell_type": "markdown",
   "id": "f9ce103d",
   "metadata": {
    "id": "x_naox-digdC",
    "papermill": {
     "duration": 0.012951,
     "end_time": "2025-02-04T05:00:21.404322",
     "exception": false,
     "start_time": "2025-02-04T05:00:21.391371",
     "status": "completed"
    },
    "tags": []
   },
   "source": [
    "# Conclusion\n",
    "\n",
    "**What are your key takeaways from this lab?**"
   ]
  },
  {
   "cell_type": "markdown",
   "id": "153f83ba",
   "metadata": {
    "id": "VQdWwbI3ExeB",
    "papermill": {
     "duration": 0.012943,
     "end_time": "2025-02-04T05:00:21.430334",
     "exception": false,
     "start_time": "2025-02-04T05:00:21.417391",
     "status": "completed"
    },
    "tags": []
   },
   "source": [
    "* use pandas to import dataframes\n",
    "* use pandas to concatenate and merge dataframes\n",
    "* examine the dataframe using info describe shape\n",
    "* filter the dataframe using boolean masks\n",
    "* find the frequencies of a column values using value_counts()\n",
    "* create pivot tables using groupby and applying aggregate functions using .agg()"
   ]
  },
  {
   "cell_type": "markdown",
   "id": "6860e38d",
   "metadata": {
    "papermill": {
     "duration": 0.013077,
     "end_time": "2025-02-04T05:00:21.456808",
     "exception": false,
     "start_time": "2025-02-04T05:00:21.443731",
     "status": "completed"
    },
    "tags": []
   },
   "source": [
    "**Congratulations!** You've completed this lab. However, you may not notice a green check mark next to this item on Coursera's platform. Please continue your progress regardless of the check mark. Just click on the \"save\" icon at the top of this notebook to ensure your work has been logged. "
   ]
  }
 ],
 "metadata": {
  "colab": {
   "provenance": [
    {
     "file_id": "1m7u07p4efLfDicqzIy9UzaGAnqxRayL0",
     "timestamp": 1679932999225
    }
   ],
   "toc_visible": true
  },
  "kaggle": {
   "accelerator": "none",
   "dataSources": [],
   "dockerImageVersionId": 30839,
   "isGpuEnabled": false,
   "isInternetEnabled": true,
   "language": "python",
   "sourceType": "notebook"
  },
  "kernelspec": {
   "display_name": "Python 3",
   "language": "python",
   "name": "python3"
  },
  "language_info": {
   "codemirror_mode": {
    "name": "ipython",
    "version": 3
   },
   "file_extension": ".py",
   "mimetype": "text/x-python",
   "name": "python",
   "nbconvert_exporter": "python",
   "pygments_lexer": "ipython3",
   "version": "3.10.12"
  },
  "papermill": {
   "default_parameters": {},
   "duration": 6.617363,
   "end_time": "2025-02-04T05:00:21.990084",
   "environment_variables": {},
   "exception": null,
   "input_path": "__notebook__.ipynb",
   "output_path": "__notebook__.ipynb",
   "parameters": {},
   "start_time": "2025-02-04T05:00:15.372721",
   "version": "2.6.0"
  }
 },
 "nbformat": 4,
 "nbformat_minor": 5
}

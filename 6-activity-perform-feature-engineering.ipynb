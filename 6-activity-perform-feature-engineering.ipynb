{
 "cells": [
  {
   "cell_type": "markdown",
   "id": "7cf21c70",
   "metadata": {
    "id": "yugMU9MjJtBl",
    "papermill": {
     "duration": 0.012087,
     "end_time": "2025-02-13T04:44:10.758961",
     "exception": false,
     "start_time": "2025-02-13T04:44:10.746874",
     "status": "completed"
    },
    "tags": []
   },
   "source": [
    "# Activity: Perform feature engineering "
   ]
  },
  {
   "cell_type": "markdown",
   "id": "36fea740",
   "metadata": {
    "id": "EzWqJunmJotv",
    "papermill": {
     "duration": 0.013495,
     "end_time": "2025-02-13T04:44:10.783975",
     "exception": false,
     "start_time": "2025-02-13T04:44:10.770480",
     "status": "completed"
    },
    "tags": []
   },
   "source": [
    "## **Introduction**\n",
    "\n",
    "\n",
    "As you're learning, data professionals working on modeling projects use featuring engineering to help them determine which attributes in the data can best predict certain measures.\n",
    "\n",
    "In this activity, you are working for a firm that provides insights to the National Basketball Association (NBA), a professional North American basketball league. You will help NBA managers and coaches identify which players are most likely to thrive in the high-pressure environment of professional basketball and help the team be successful over time.\n",
    "\n",
    "To do this, you will analyze a subset of data that contains information about NBA players and their performance records. You will conduct feature engineering to determine which features will most effectively predict whether a player's NBA career will last at least five years. The insights gained then will be used in the next stage of the project: building the predictive model.\n"
   ]
  },
  {
   "cell_type": "markdown",
   "id": "6feb15f5",
   "metadata": {
    "id": "yTVinL1hJqoy",
    "papermill": {
     "duration": 0.01168,
     "end_time": "2025-02-13T04:44:10.811142",
     "exception": false,
     "start_time": "2025-02-13T04:44:10.799462",
     "status": "completed"
    },
    "tags": []
   },
   "source": [
    "## **Step 1: Imports** \n"
   ]
  },
  {
   "cell_type": "markdown",
   "id": "0e89a43e",
   "metadata": {
    "papermill": {
     "duration": 0.013287,
     "end_time": "2025-02-13T04:44:10.840437",
     "exception": false,
     "start_time": "2025-02-13T04:44:10.827150",
     "status": "completed"
    },
    "tags": []
   },
   "source": [
    "Start by importing `pandas`."
   ]
  },
  {
   "cell_type": "code",
   "execution_count": 1,
   "id": "b5e9637e",
   "metadata": {
    "execution": {
     "iopub.execute_input": "2025-02-13T04:44:10.871838Z",
     "iopub.status.busy": "2025-02-13T04:44:10.871370Z",
     "iopub.status.idle": "2025-02-13T04:44:11.886997Z",
     "shell.execute_reply": "2025-02-13T04:44:11.885783Z"
    },
    "id": "1nDjAJPa4lVZ",
    "papermill": {
     "duration": 1.031776,
     "end_time": "2025-02-13T04:44:11.889112",
     "exception": false,
     "start_time": "2025-02-13T04:44:10.857336",
     "status": "completed"
    },
    "tags": []
   },
   "outputs": [],
   "source": [
    "# Import pandas.\n",
    "\n",
    "### YOUR CODE HERE ###\n",
    "import pandas as pd"
   ]
  },
  {
   "cell_type": "markdown",
   "id": "3425e703",
   "metadata": {
    "id": "hKylHziGzY3X",
    "papermill": {
     "duration": 0.011428,
     "end_time": "2025-02-13T04:44:11.912490",
     "exception": false,
     "start_time": "2025-02-13T04:44:11.901062",
     "status": "completed"
    },
    "tags": []
   },
   "source": [
    "The dataset is a .csv file named `nba-players.csv`. It consists of performance records for a subset of NBA players. As shown in this cell, the dataset has been automatically loaded in for you. You do not need to download the .csv file, or provide more code, in order to access the dataset and proceed with this lab. Please continue with this activity by completing the following instructions."
   ]
  },
  {
   "cell_type": "code",
   "execution_count": 2,
   "id": "2d438f10",
   "metadata": {
    "execution": {
     "iopub.execute_input": "2025-02-13T04:44:11.938552Z",
     "iopub.status.busy": "2025-02-13T04:44:11.937894Z",
     "iopub.status.idle": "2025-02-13T04:44:11.982745Z",
     "shell.execute_reply": "2025-02-13T04:44:11.981723Z"
    },
    "id": "4ebqpNcm4BDH",
    "papermill": {
     "duration": 0.059866,
     "end_time": "2025-02-13T04:44:11.984576",
     "exception": false,
     "start_time": "2025-02-13T04:44:11.924710",
     "status": "completed"
    },
    "tags": []
   },
   "outputs": [],
   "source": [
    "# RUN THIS CELL TO IMPORT YOUR DATA.\n",
    "\n",
    "# Save in a variable named `data`.\n",
    "\n",
    "### YOUR CODE HERE ###\n",
    "\n",
    "data = pd.read_csv('/kaggle/input/google-adv-data-analytics-advancedml-datasets/6_nba_players.csv', index_col=0)"
   ]
  },
  {
   "cell_type": "markdown",
   "id": "920a9168",
   "metadata": {
    "id": "L41MRy4Yzrjp",
    "papermill": {
     "duration": 0.011017,
     "end_time": "2025-02-13T04:44:12.007101",
     "exception": false,
     "start_time": "2025-02-13T04:44:11.996084",
     "status": "completed"
    },
    "tags": []
   },
   "source": [
    "<details><summary><h4><strong>Hint 1</strong></h4></summary>\n",
    "\n",
    "The `read_csv()` function from `pandas` allows you to read in data from a csv file and load it into a DataFrame.\n",
    "    \n",
    "</details>"
   ]
  },
  {
   "cell_type": "markdown",
   "id": "d9f5ac4d",
   "metadata": {
    "id": "tZeUaTZQqCEH",
    "papermill": {
     "duration": 0.010878,
     "end_time": "2025-02-13T04:44:12.029323",
     "exception": false,
     "start_time": "2025-02-13T04:44:12.018445",
     "status": "completed"
    },
    "tags": []
   },
   "source": [
    "<details><summary><h4><strong>Hint 2</strong></h4></summary>\n",
    "\n",
    "Call the `read_csv()`, pass in the name of the csv file as a string, followed by `index_col=0` to use the first column from the csv as the index in the DataFrame.\n",
    "    \n",
    "</details>"
   ]
  },
  {
   "cell_type": "markdown",
   "id": "4a2cd266",
   "metadata": {
    "id": "4zz8claq0Swi",
    "papermill": {
     "duration": 0.010837,
     "end_time": "2025-02-13T04:44:12.051296",
     "exception": false,
     "start_time": "2025-02-13T04:44:12.040459",
     "status": "completed"
    },
    "tags": []
   },
   "source": [
    "## **Step 2: Data exploration** "
   ]
  },
  {
   "cell_type": "markdown",
   "id": "2dc9d5d9",
   "metadata": {
    "id": "8kgPx_MP0cuc",
    "papermill": {
     "duration": 0.010823,
     "end_time": "2025-02-13T04:44:12.073155",
     "exception": false,
     "start_time": "2025-02-13T04:44:12.062332",
     "status": "completed"
    },
    "tags": []
   },
   "source": [
    "Display the first 10 rows of the data to get a sense of what it entails."
   ]
  },
  {
   "cell_type": "code",
   "execution_count": 3,
   "id": "514a14e9",
   "metadata": {
    "execution": {
     "iopub.execute_input": "2025-02-13T04:44:12.096853Z",
     "iopub.status.busy": "2025-02-13T04:44:12.096362Z",
     "iopub.status.idle": "2025-02-13T04:44:12.146050Z",
     "shell.execute_reply": "2025-02-13T04:44:12.144870Z"
    },
    "id": "0_U0Rb-x4h77",
    "papermill": {
     "duration": 0.06384,
     "end_time": "2025-02-13T04:44:12.148109",
     "exception": false,
     "start_time": "2025-02-13T04:44:12.084269",
     "status": "completed"
    },
    "tags": []
   },
   "outputs": [
    {
     "data": {
      "text/html": [
       "<div>\n",
       "<style scoped>\n",
       "    .dataframe tbody tr th:only-of-type {\n",
       "        vertical-align: middle;\n",
       "    }\n",
       "\n",
       "    .dataframe tbody tr th {\n",
       "        vertical-align: top;\n",
       "    }\n",
       "\n",
       "    .dataframe thead th {\n",
       "        text-align: right;\n",
       "    }\n",
       "</style>\n",
       "<table border=\"1\" class=\"dataframe\">\n",
       "  <thead>\n",
       "    <tr style=\"text-align: right;\">\n",
       "      <th></th>\n",
       "      <th>name</th>\n",
       "      <th>gp</th>\n",
       "      <th>min</th>\n",
       "      <th>pts</th>\n",
       "      <th>fgm</th>\n",
       "      <th>fga</th>\n",
       "      <th>fg</th>\n",
       "      <th>3p_made</th>\n",
       "      <th>3pa</th>\n",
       "      <th>3p</th>\n",
       "      <th>...</th>\n",
       "      <th>fta</th>\n",
       "      <th>ft</th>\n",
       "      <th>oreb</th>\n",
       "      <th>dreb</th>\n",
       "      <th>reb</th>\n",
       "      <th>ast</th>\n",
       "      <th>stl</th>\n",
       "      <th>blk</th>\n",
       "      <th>tov</th>\n",
       "      <th>target_5yrs</th>\n",
       "    </tr>\n",
       "  </thead>\n",
       "  <tbody>\n",
       "    <tr>\n",
       "      <th>0</th>\n",
       "      <td>Brandon Ingram</td>\n",
       "      <td>36</td>\n",
       "      <td>27.4</td>\n",
       "      <td>7.4</td>\n",
       "      <td>2.6</td>\n",
       "      <td>7.6</td>\n",
       "      <td>34.7</td>\n",
       "      <td>0.5</td>\n",
       "      <td>2.1</td>\n",
       "      <td>25.0</td>\n",
       "      <td>...</td>\n",
       "      <td>2.3</td>\n",
       "      <td>69.9</td>\n",
       "      <td>0.7</td>\n",
       "      <td>3.4</td>\n",
       "      <td>4.1</td>\n",
       "      <td>1.9</td>\n",
       "      <td>0.4</td>\n",
       "      <td>0.4</td>\n",
       "      <td>1.3</td>\n",
       "      <td>0</td>\n",
       "    </tr>\n",
       "    <tr>\n",
       "      <th>1</th>\n",
       "      <td>Andrew Harrison</td>\n",
       "      <td>35</td>\n",
       "      <td>26.9</td>\n",
       "      <td>7.2</td>\n",
       "      <td>2.0</td>\n",
       "      <td>6.7</td>\n",
       "      <td>29.6</td>\n",
       "      <td>0.7</td>\n",
       "      <td>2.8</td>\n",
       "      <td>23.5</td>\n",
       "      <td>...</td>\n",
       "      <td>3.4</td>\n",
       "      <td>76.5</td>\n",
       "      <td>0.5</td>\n",
       "      <td>2.0</td>\n",
       "      <td>2.4</td>\n",
       "      <td>3.7</td>\n",
       "      <td>1.1</td>\n",
       "      <td>0.5</td>\n",
       "      <td>1.6</td>\n",
       "      <td>0</td>\n",
       "    </tr>\n",
       "    <tr>\n",
       "      <th>2</th>\n",
       "      <td>JaKarr Sampson</td>\n",
       "      <td>74</td>\n",
       "      <td>15.3</td>\n",
       "      <td>5.2</td>\n",
       "      <td>2.0</td>\n",
       "      <td>4.7</td>\n",
       "      <td>42.2</td>\n",
       "      <td>0.4</td>\n",
       "      <td>1.7</td>\n",
       "      <td>24.4</td>\n",
       "      <td>...</td>\n",
       "      <td>1.3</td>\n",
       "      <td>67.0</td>\n",
       "      <td>0.5</td>\n",
       "      <td>1.7</td>\n",
       "      <td>2.2</td>\n",
       "      <td>1.0</td>\n",
       "      <td>0.5</td>\n",
       "      <td>0.3</td>\n",
       "      <td>1.0</td>\n",
       "      <td>0</td>\n",
       "    </tr>\n",
       "    <tr>\n",
       "      <th>3</th>\n",
       "      <td>Malik Sealy</td>\n",
       "      <td>58</td>\n",
       "      <td>11.6</td>\n",
       "      <td>5.7</td>\n",
       "      <td>2.3</td>\n",
       "      <td>5.5</td>\n",
       "      <td>42.6</td>\n",
       "      <td>0.1</td>\n",
       "      <td>0.5</td>\n",
       "      <td>22.6</td>\n",
       "      <td>...</td>\n",
       "      <td>1.3</td>\n",
       "      <td>68.9</td>\n",
       "      <td>1.0</td>\n",
       "      <td>0.9</td>\n",
       "      <td>1.9</td>\n",
       "      <td>0.8</td>\n",
       "      <td>0.6</td>\n",
       "      <td>0.1</td>\n",
       "      <td>1.0</td>\n",
       "      <td>1</td>\n",
       "    </tr>\n",
       "    <tr>\n",
       "      <th>4</th>\n",
       "      <td>Matt Geiger</td>\n",
       "      <td>48</td>\n",
       "      <td>11.5</td>\n",
       "      <td>4.5</td>\n",
       "      <td>1.6</td>\n",
       "      <td>3.0</td>\n",
       "      <td>52.4</td>\n",
       "      <td>0.0</td>\n",
       "      <td>0.1</td>\n",
       "      <td>0.0</td>\n",
       "      <td>...</td>\n",
       "      <td>1.9</td>\n",
       "      <td>67.4</td>\n",
       "      <td>1.0</td>\n",
       "      <td>1.5</td>\n",
       "      <td>2.5</td>\n",
       "      <td>0.3</td>\n",
       "      <td>0.3</td>\n",
       "      <td>0.4</td>\n",
       "      <td>0.8</td>\n",
       "      <td>1</td>\n",
       "    </tr>\n",
       "    <tr>\n",
       "      <th>5</th>\n",
       "      <td>Tony Bennett</td>\n",
       "      <td>75</td>\n",
       "      <td>11.4</td>\n",
       "      <td>3.7</td>\n",
       "      <td>1.5</td>\n",
       "      <td>3.5</td>\n",
       "      <td>42.3</td>\n",
       "      <td>0.3</td>\n",
       "      <td>1.1</td>\n",
       "      <td>32.5</td>\n",
       "      <td>...</td>\n",
       "      <td>0.5</td>\n",
       "      <td>73.2</td>\n",
       "      <td>0.2</td>\n",
       "      <td>0.7</td>\n",
       "      <td>0.8</td>\n",
       "      <td>1.8</td>\n",
       "      <td>0.4</td>\n",
       "      <td>0.0</td>\n",
       "      <td>0.7</td>\n",
       "      <td>0</td>\n",
       "    </tr>\n",
       "    <tr>\n",
       "      <th>6</th>\n",
       "      <td>Don MacLean</td>\n",
       "      <td>62</td>\n",
       "      <td>10.9</td>\n",
       "      <td>6.6</td>\n",
       "      <td>2.5</td>\n",
       "      <td>5.8</td>\n",
       "      <td>43.5</td>\n",
       "      <td>0.0</td>\n",
       "      <td>0.1</td>\n",
       "      <td>50.0</td>\n",
       "      <td>...</td>\n",
       "      <td>1.8</td>\n",
       "      <td>81.1</td>\n",
       "      <td>0.5</td>\n",
       "      <td>1.4</td>\n",
       "      <td>2.0</td>\n",
       "      <td>0.6</td>\n",
       "      <td>0.2</td>\n",
       "      <td>0.1</td>\n",
       "      <td>0.7</td>\n",
       "      <td>1</td>\n",
       "    </tr>\n",
       "    <tr>\n",
       "      <th>7</th>\n",
       "      <td>Tracy Murray</td>\n",
       "      <td>48</td>\n",
       "      <td>10.3</td>\n",
       "      <td>5.7</td>\n",
       "      <td>2.3</td>\n",
       "      <td>5.4</td>\n",
       "      <td>41.5</td>\n",
       "      <td>0.4</td>\n",
       "      <td>1.5</td>\n",
       "      <td>30.0</td>\n",
       "      <td>...</td>\n",
       "      <td>0.8</td>\n",
       "      <td>87.5</td>\n",
       "      <td>0.8</td>\n",
       "      <td>0.9</td>\n",
       "      <td>1.7</td>\n",
       "      <td>0.2</td>\n",
       "      <td>0.2</td>\n",
       "      <td>0.1</td>\n",
       "      <td>0.7</td>\n",
       "      <td>1</td>\n",
       "    </tr>\n",
       "    <tr>\n",
       "      <th>8</th>\n",
       "      <td>Duane Cooper</td>\n",
       "      <td>65</td>\n",
       "      <td>9.9</td>\n",
       "      <td>2.4</td>\n",
       "      <td>1.0</td>\n",
       "      <td>2.4</td>\n",
       "      <td>39.2</td>\n",
       "      <td>0.1</td>\n",
       "      <td>0.5</td>\n",
       "      <td>23.3</td>\n",
       "      <td>...</td>\n",
       "      <td>0.5</td>\n",
       "      <td>71.4</td>\n",
       "      <td>0.2</td>\n",
       "      <td>0.6</td>\n",
       "      <td>0.8</td>\n",
       "      <td>2.3</td>\n",
       "      <td>0.3</td>\n",
       "      <td>0.0</td>\n",
       "      <td>1.1</td>\n",
       "      <td>0</td>\n",
       "    </tr>\n",
       "    <tr>\n",
       "      <th>9</th>\n",
       "      <td>Dave Johnson</td>\n",
       "      <td>42</td>\n",
       "      <td>8.5</td>\n",
       "      <td>3.7</td>\n",
       "      <td>1.4</td>\n",
       "      <td>3.5</td>\n",
       "      <td>38.3</td>\n",
       "      <td>0.1</td>\n",
       "      <td>0.3</td>\n",
       "      <td>21.4</td>\n",
       "      <td>...</td>\n",
       "      <td>1.4</td>\n",
       "      <td>67.8</td>\n",
       "      <td>0.4</td>\n",
       "      <td>0.7</td>\n",
       "      <td>1.1</td>\n",
       "      <td>0.3</td>\n",
       "      <td>0.2</td>\n",
       "      <td>0.0</td>\n",
       "      <td>0.7</td>\n",
       "      <td>0</td>\n",
       "    </tr>\n",
       "  </tbody>\n",
       "</table>\n",
       "<p>10 rows × 21 columns</p>\n",
       "</div>"
      ],
      "text/plain": [
       "              name  gp   min  pts  fgm  fga    fg  3p_made  3pa    3p  ...  \\\n",
       "0   Brandon Ingram  36  27.4  7.4  2.6  7.6  34.7      0.5  2.1  25.0  ...   \n",
       "1  Andrew Harrison  35  26.9  7.2  2.0  6.7  29.6      0.7  2.8  23.5  ...   \n",
       "2   JaKarr Sampson  74  15.3  5.2  2.0  4.7  42.2      0.4  1.7  24.4  ...   \n",
       "3      Malik Sealy  58  11.6  5.7  2.3  5.5  42.6      0.1  0.5  22.6  ...   \n",
       "4      Matt Geiger  48  11.5  4.5  1.6  3.0  52.4      0.0  0.1   0.0  ...   \n",
       "5     Tony Bennett  75  11.4  3.7  1.5  3.5  42.3      0.3  1.1  32.5  ...   \n",
       "6      Don MacLean  62  10.9  6.6  2.5  5.8  43.5      0.0  0.1  50.0  ...   \n",
       "7     Tracy Murray  48  10.3  5.7  2.3  5.4  41.5      0.4  1.5  30.0  ...   \n",
       "8     Duane Cooper  65   9.9  2.4  1.0  2.4  39.2      0.1  0.5  23.3  ...   \n",
       "9     Dave Johnson  42   8.5  3.7  1.4  3.5  38.3      0.1  0.3  21.4  ...   \n",
       "\n",
       "   fta    ft  oreb  dreb  reb  ast  stl  blk  tov  target_5yrs  \n",
       "0  2.3  69.9   0.7   3.4  4.1  1.9  0.4  0.4  1.3            0  \n",
       "1  3.4  76.5   0.5   2.0  2.4  3.7  1.1  0.5  1.6            0  \n",
       "2  1.3  67.0   0.5   1.7  2.2  1.0  0.5  0.3  1.0            0  \n",
       "3  1.3  68.9   1.0   0.9  1.9  0.8  0.6  0.1  1.0            1  \n",
       "4  1.9  67.4   1.0   1.5  2.5  0.3  0.3  0.4  0.8            1  \n",
       "5  0.5  73.2   0.2   0.7  0.8  1.8  0.4  0.0  0.7            0  \n",
       "6  1.8  81.1   0.5   1.4  2.0  0.6  0.2  0.1  0.7            1  \n",
       "7  0.8  87.5   0.8   0.9  1.7  0.2  0.2  0.1  0.7            1  \n",
       "8  0.5  71.4   0.2   0.6  0.8  2.3  0.3  0.0  1.1            0  \n",
       "9  1.4  67.8   0.4   0.7  1.1  0.3  0.2  0.0  0.7            0  \n",
       "\n",
       "[10 rows x 21 columns]"
      ]
     },
     "execution_count": 3,
     "metadata": {},
     "output_type": "execute_result"
    }
   ],
   "source": [
    "# Display first 10 rows of data.\n",
    "\n",
    "### YOUR CODE HERE ###\n",
    "data.head(10)"
   ]
  },
  {
   "cell_type": "markdown",
   "id": "896d8b8b",
   "metadata": {
    "id": "pUmzKZUU2mKp",
    "papermill": {
     "duration": 0.011564,
     "end_time": "2025-02-13T04:44:12.171688",
     "exception": false,
     "start_time": "2025-02-13T04:44:12.160124",
     "status": "completed"
    },
    "tags": []
   },
   "source": [
    "<details>\n",
    "<summary><h4><strong>Hint 1</strong></h4></summary>\n",
    "\n",
    "There is a function in the `pandas` library that can be called on a DataFrame to display the first n number of rows, where n is a number of your choice. \n",
    "</details>"
   ]
  },
  {
   "cell_type": "markdown",
   "id": "189011fc",
   "metadata": {
    "id": "ORy1MNR62mKq",
    "papermill": {
     "duration": 0.011401,
     "end_time": "2025-02-13T04:44:12.194847",
     "exception": false,
     "start_time": "2025-02-13T04:44:12.183446",
     "status": "completed"
    },
    "tags": []
   },
   "source": [
    "<details>\n",
    "<summary><h4><strong>Hint 2</strong></h4></summary>\n",
    "\n",
    "Call the `head()` function and pass in 10.\n",
    "</details>"
   ]
  },
  {
   "cell_type": "markdown",
   "id": "7f3dd4d9",
   "metadata": {
    "id": "Gjasizab0tSL",
    "papermill": {
     "duration": 0.011615,
     "end_time": "2025-02-13T04:44:12.218264",
     "exception": false,
     "start_time": "2025-02-13T04:44:12.206649",
     "status": "completed"
    },
    "tags": []
   },
   "source": [
    "Display the number of rows and the number of columns to get a sense of how much data is available to you."
   ]
  },
  {
   "cell_type": "code",
   "execution_count": 4,
   "id": "c9bd24bb",
   "metadata": {
    "execution": {
     "iopub.execute_input": "2025-02-13T04:44:12.243209Z",
     "iopub.status.busy": "2025-02-13T04:44:12.242761Z",
     "iopub.status.idle": "2025-02-13T04:44:12.249042Z",
     "shell.execute_reply": "2025-02-13T04:44:12.248096Z"
    },
    "id": "xtxpSjCm4jCa",
    "papermill": {
     "duration": 0.020753,
     "end_time": "2025-02-13T04:44:12.250831",
     "exception": false,
     "start_time": "2025-02-13T04:44:12.230078",
     "status": "completed"
    },
    "tags": []
   },
   "outputs": [
    {
     "data": {
      "text/plain": [
       "(1340, 21)"
      ]
     },
     "execution_count": 4,
     "metadata": {},
     "output_type": "execute_result"
    }
   ],
   "source": [
    "# Display number of rows, number of columns.\n",
    "\n",
    "### YOUR CODE HERE ###\n",
    "data.shape"
   ]
  },
  {
   "cell_type": "markdown",
   "id": "8d7aab68",
   "metadata": {
    "id": "dx8DO1Rw2ZBZ",
    "papermill": {
     "duration": 0.01536,
     "end_time": "2025-02-13T04:44:12.286866",
     "exception": false,
     "start_time": "2025-02-13T04:44:12.271506",
     "status": "completed"
    },
    "tags": []
   },
   "source": [
    "<details>\n",
    "<summary><h4><strong>Hint 1</strong></h4></summary>\n",
    "\n",
    "DataFrames in `pandas` have an attribute that can be called to get the number of rows and columns as a tuple.\n",
    "</details>"
   ]
  },
  {
   "cell_type": "markdown",
   "id": "ddb6e239",
   "metadata": {
    "id": "G9pDSxlG2di1",
    "papermill": {
     "duration": 0.011499,
     "end_time": "2025-02-13T04:44:12.310305",
     "exception": false,
     "start_time": "2025-02-13T04:44:12.298806",
     "status": "completed"
    },
    "tags": []
   },
   "source": [
    "<details>\n",
    "<summary><h4><strong>Hint 2</strong></h4></summary>\n",
    "\n",
    "You can call the `shape` attribute.\n",
    "</details>"
   ]
  },
  {
   "cell_type": "markdown",
   "id": "14d1e950",
   "metadata": {
    "id": "zZndsnPq1UyL",
    "papermill": {
     "duration": 0.011233,
     "end_time": "2025-02-13T04:44:12.333014",
     "exception": false,
     "start_time": "2025-02-13T04:44:12.321781",
     "status": "completed"
    },
    "tags": []
   },
   "source": [
    "**Question:** What do you observe about the number of rows and the number of columns in the data?"
   ]
  },
  {
   "cell_type": "markdown",
   "id": "6d2f3661",
   "metadata": {
    "id": "PyElw2KWziLs",
    "papermill": {
     "duration": 0.01128,
     "end_time": "2025-02-13T04:44:12.355792",
     "exception": false,
     "start_time": "2025-02-13T04:44:12.344512",
     "status": "completed"
    },
    "tags": []
   },
   "source": [
    "* there are 1340 records\n",
    "* there are 21 variables. each as a column"
   ]
  },
  {
   "cell_type": "markdown",
   "id": "7e0beb4e",
   "metadata": {
    "id": "27OsOXsfVPC7",
    "papermill": {
     "duration": 0.011282,
     "end_time": "2025-02-13T04:44:12.378783",
     "exception": false,
     "start_time": "2025-02-13T04:44:12.367501",
     "status": "completed"
    },
    "tags": []
   },
   "source": [
    "Now, display all column names to get a sense of the kinds of metadata available about each player. Use the columns property in pandas.\n"
   ]
  },
  {
   "cell_type": "code",
   "execution_count": 5,
   "id": "fa9c6178",
   "metadata": {
    "execution": {
     "iopub.execute_input": "2025-02-13T04:44:12.403563Z",
     "iopub.status.busy": "2025-02-13T04:44:12.403220Z",
     "iopub.status.idle": "2025-02-13T04:44:12.409728Z",
     "shell.execute_reply": "2025-02-13T04:44:12.408528Z"
    },
    "id": "3q9zjB-s1SZt",
    "papermill": {
     "duration": 0.021087,
     "end_time": "2025-02-13T04:44:12.411475",
     "exception": false,
     "start_time": "2025-02-13T04:44:12.390388",
     "status": "completed"
    },
    "tags": []
   },
   "outputs": [
    {
     "data": {
      "text/plain": [
       "Index(['name', 'gp', 'min', 'pts', 'fgm', 'fga', 'fg', '3p_made', '3pa', '3p',\n",
       "       'ftm', 'fta', 'ft', 'oreb', 'dreb', 'reb', 'ast', 'stl', 'blk', 'tov',\n",
       "       'target_5yrs'],\n",
       "      dtype='object')"
      ]
     },
     "execution_count": 5,
     "metadata": {},
     "output_type": "execute_result"
    }
   ],
   "source": [
    "# Display all column names.\n",
    "\n",
    "### YOUR CODE HERE ###\n",
    "data.columns"
   ]
  },
  {
   "cell_type": "markdown",
   "id": "7125ef29",
   "metadata": {
    "id": "bxS9GyWmjwa-",
    "papermill": {
     "duration": 0.011736,
     "end_time": "2025-02-13T04:44:12.437305",
     "exception": false,
     "start_time": "2025-02-13T04:44:12.425569",
     "status": "completed"
    },
    "tags": []
   },
   "source": [
    "The following table provides a description of the data in each column. This metadata comes from the data source, which is listed in the references section of this lab.\n",
    "\n",
    "<center>\n",
    "\n",
    "|Column Name|Column Description|\n",
    "|:---|:-------|\n",
    "|`name`|Name of NBA player|\n",
    "|`gp`|Number of games played|\n",
    "|`min`|Number of minutes played per game|\n",
    "|`pts`|Average number of points per game|\n",
    "|`fgm`|Average number of field goals made per game|\n",
    "|`fga`|Average number of field goal attempts per game|\n",
    "|`fg`|Average percent of field goals made per game|\n",
    "|`3p_made`|Average number of three-point field goals made per game|\n",
    "|`3pa`|Average number of three-point field goal attempts per game|\n",
    "|`3p`|Average percent of three-point field goals made per game|\n",
    "|`ftm`|Average number of free throws made per game|\n",
    "|`fta`|Average number of free throw attempts per game|\n",
    "|`ft`|Average percent of free throws made per game|\n",
    "|`oreb`|Average number of offensive rebounds per game|\n",
    "|`dreb`|Average number of defensive rebounds per game|\n",
    "|`reb`|Average number of rebounds per game|\n",
    "|`ast`|Average number of assists per game|\n",
    "|`stl`|Average number of steals per game|\n",
    "|`blk`|Average number of blocks per game|\n",
    "|`tov`|Average number of turnovers per game|\n",
    "|`target_5yrs`|1 if career duration >= 5 yrs, 0 otherwise|\n",
    "\n",
    "</center>"
   ]
  },
  {
   "cell_type": "markdown",
   "id": "2165b5df",
   "metadata": {
    "id": "HvomDnvFq4DW",
    "papermill": {
     "duration": 0.01156,
     "end_time": "2025-02-13T04:44:12.460956",
     "exception": false,
     "start_time": "2025-02-13T04:44:12.449396",
     "status": "completed"
    },
    "tags": []
   },
   "source": [
    "Next, display a summary of the data to get additional information about the DataFrame, including the types of data in the columns."
   ]
  },
  {
   "cell_type": "code",
   "execution_count": 6,
   "id": "d72b99df",
   "metadata": {
    "execution": {
     "iopub.execute_input": "2025-02-13T04:44:12.486155Z",
     "iopub.status.busy": "2025-02-13T04:44:12.485801Z",
     "iopub.status.idle": "2025-02-13T04:44:12.505080Z",
     "shell.execute_reply": "2025-02-13T04:44:12.503761Z"
    },
    "id": "28h2TzH-o8NQ",
    "papermill": {
     "duration": 0.034116,
     "end_time": "2025-02-13T04:44:12.507066",
     "exception": false,
     "start_time": "2025-02-13T04:44:12.472950",
     "status": "completed"
    },
    "tags": []
   },
   "outputs": [
    {
     "name": "stdout",
     "output_type": "stream",
     "text": [
      "<class 'pandas.core.frame.DataFrame'>\n",
      "Index: 1340 entries, 0 to 1339\n",
      "Data columns (total 21 columns):\n",
      " #   Column       Non-Null Count  Dtype  \n",
      "---  ------       --------------  -----  \n",
      " 0   name         1340 non-null   object \n",
      " 1   gp           1340 non-null   int64  \n",
      " 2   min          1340 non-null   float64\n",
      " 3   pts          1340 non-null   float64\n",
      " 4   fgm          1340 non-null   float64\n",
      " 5   fga          1340 non-null   float64\n",
      " 6   fg           1340 non-null   float64\n",
      " 7   3p_made      1340 non-null   float64\n",
      " 8   3pa          1340 non-null   float64\n",
      " 9   3p           1340 non-null   float64\n",
      " 10  ftm          1340 non-null   float64\n",
      " 11  fta          1340 non-null   float64\n",
      " 12  ft           1340 non-null   float64\n",
      " 13  oreb         1340 non-null   float64\n",
      " 14  dreb         1340 non-null   float64\n",
      " 15  reb          1340 non-null   float64\n",
      " 16  ast          1340 non-null   float64\n",
      " 17  stl          1340 non-null   float64\n",
      " 18  blk          1340 non-null   float64\n",
      " 19  tov          1340 non-null   float64\n",
      " 20  target_5yrs  1340 non-null   int64  \n",
      "dtypes: float64(18), int64(2), object(1)\n",
      "memory usage: 230.3+ KB\n"
     ]
    }
   ],
   "source": [
    "# Use .info() to display a summary of the DataFrame.\n",
    "\n",
    "### YOUR CODE HERE ###\n",
    "data.info()"
   ]
  },
  {
   "cell_type": "markdown",
   "id": "a26dcc22",
   "metadata": {
    "id": "0ajEYod6B7QJ",
    "papermill": {
     "duration": 0.011564,
     "end_time": "2025-02-13T04:44:12.531348",
     "exception": false,
     "start_time": "2025-02-13T04:44:12.519784",
     "status": "completed"
    },
    "tags": []
   },
   "source": [
    "**Question:** Based on the preceding tables, which columns are numerical and which columns are categorical?"
   ]
  },
  {
   "cell_type": "markdown",
   "id": "e89c4acf",
   "metadata": {
    "id": "5a-RfDKYzjN1",
    "papermill": {
     "duration": 0.011599,
     "end_time": "2025-02-13T04:44:12.554857",
     "exception": false,
     "start_time": "2025-02-13T04:44:12.543258",
     "status": "completed"
    },
    "tags": []
   },
   "source": [
    "* name, target_5yrs --> categorical variables\n",
    "* all other variables are numerical variables"
   ]
  },
  {
   "cell_type": "markdown",
   "id": "55cd4519",
   "metadata": {
    "id": "VtL_ZDZC1xgF",
    "papermill": {
     "duration": 0.011729,
     "end_time": "2025-02-13T04:44:12.578277",
     "exception": false,
     "start_time": "2025-02-13T04:44:12.566548",
     "status": "completed"
    },
    "tags": []
   },
   "source": [
    "### Check for missing values"
   ]
  },
  {
   "cell_type": "markdown",
   "id": "ee86877a",
   "metadata": {
    "papermill": {
     "duration": 0.011389,
     "end_time": "2025-02-13T04:44:12.601536",
     "exception": false,
     "start_time": "2025-02-13T04:44:12.590147",
     "status": "completed"
    },
    "tags": []
   },
   "source": [
    "Now, review the data to determine whether it contains any missing values. Begin by displaying the number of missing values in each column. After that, use isna() to check whether each value in the data is missing. Finally, use sum() to aggregate the number of missing values per column.\n"
   ]
  },
  {
   "cell_type": "code",
   "execution_count": 7,
   "id": "e588e412",
   "metadata": {
    "execution": {
     "iopub.execute_input": "2025-02-13T04:44:12.627001Z",
     "iopub.status.busy": "2025-02-13T04:44:12.626555Z",
     "iopub.status.idle": "2025-02-13T04:44:12.634533Z",
     "shell.execute_reply": "2025-02-13T04:44:12.633540Z"
    },
    "id": "_EGgJ5k92KX_",
    "papermill": {
     "duration": 0.022834,
     "end_time": "2025-02-13T04:44:12.636170",
     "exception": false,
     "start_time": "2025-02-13T04:44:12.613336",
     "status": "completed"
    },
    "tags": []
   },
   "outputs": [
    {
     "data": {
      "text/plain": [
       "name           0\n",
       "gp             0\n",
       "min            0\n",
       "pts            0\n",
       "fgm            0\n",
       "fga            0\n",
       "fg             0\n",
       "3p_made        0\n",
       "3pa            0\n",
       "3p             0\n",
       "ftm            0\n",
       "fta            0\n",
       "ft             0\n",
       "oreb           0\n",
       "dreb           0\n",
       "reb            0\n",
       "ast            0\n",
       "stl            0\n",
       "blk            0\n",
       "tov            0\n",
       "target_5yrs    0\n",
       "dtype: int64"
      ]
     },
     "execution_count": 7,
     "metadata": {},
     "output_type": "execute_result"
    }
   ],
   "source": [
    "# Display the number of missing values in each column.\n",
    "# Check whether each value is missing.\n",
    "#Aggregate the number of missing values per column.\n",
    "\n",
    "### YOUR CODE HERE ###\n",
    "data.isna().sum()"
   ]
  },
  {
   "cell_type": "markdown",
   "id": "b50f385f",
   "metadata": {
    "id": "qcLj6oPd2FVQ",
    "papermill": {
     "duration": 0.011629,
     "end_time": "2025-02-13T04:44:12.660166",
     "exception": false,
     "start_time": "2025-02-13T04:44:12.648537",
     "status": "completed"
    },
    "tags": []
   },
   "source": [
    "**Question:** What do you observe about the missing values in the columns? "
   ]
  },
  {
   "cell_type": "markdown",
   "id": "0803b54f",
   "metadata": {
    "id": "MGjdyuaczjmX",
    "papermill": {
     "duration": 0.011926,
     "end_time": "2025-02-13T04:44:12.684316",
     "exception": false,
     "start_time": "2025-02-13T04:44:12.672390",
     "status": "completed"
    },
    "tags": []
   },
   "source": [
    "* NO missing values in this dataset"
   ]
  },
  {
   "cell_type": "markdown",
   "id": "e208e297",
   "metadata": {
    "papermill": {
     "duration": 0.01163,
     "end_time": "2025-02-13T04:44:12.708049",
     "exception": false,
     "start_time": "2025-02-13T04:44:12.696419",
     "status": "completed"
    },
    "tags": []
   },
   "source": [
    "**Question:** Why is it important to check for missing values?"
   ]
  },
  {
   "cell_type": "markdown",
   "id": "283bb6b6",
   "metadata": {
    "papermill": {
     "duration": 0.011545,
     "end_time": "2025-02-13T04:44:12.731594",
     "exception": false,
     "start_time": "2025-02-13T04:44:12.720049",
     "status": "completed"
    },
    "tags": []
   },
   "source": [
    "* Missing values can mislead further analysis or it can cause errors preventing analysis"
   ]
  },
  {
   "cell_type": "markdown",
   "id": "82f3eaab",
   "metadata": {
    "id": "MY0rAjlZAheh",
    "papermill": {
     "duration": 0.011552,
     "end_time": "2025-02-13T04:44:12.755002",
     "exception": false,
     "start_time": "2025-02-13T04:44:12.743450",
     "status": "completed"
    },
    "tags": []
   },
   "source": [
    "## **Step 3: Statistical tests** \n",
    "\n",
    "\n",
    "\n",
    "Next, use a statistical technique to check the class balance in the data. To understand how balanced the dataset is in terms of class, display the percentage of values that belong to each class in the target column. In this context, class 1 indicates an NBA career duration of at least five years, while class 0 indicates an NBA career duration of less than five years."
   ]
  },
  {
   "cell_type": "code",
   "execution_count": 8,
   "id": "8a9fd387",
   "metadata": {
    "execution": {
     "iopub.execute_input": "2025-02-13T04:44:12.838369Z",
     "iopub.status.busy": "2025-02-13T04:44:12.837978Z",
     "iopub.status.idle": "2025-02-13T04:44:12.846414Z",
     "shell.execute_reply": "2025-02-13T04:44:12.845388Z"
    },
    "id": "gUEgzQW_6oMV",
    "papermill": {
     "duration": 0.023219,
     "end_time": "2025-02-13T04:44:12.848050",
     "exception": false,
     "start_time": "2025-02-13T04:44:12.824831",
     "status": "completed"
    },
    "tags": []
   },
   "outputs": [
    {
     "name": "stdout",
     "output_type": "stream",
     "text": [
      "% of target_5yrs 1-->YES   0-->NO:\n"
     ]
    },
    {
     "data": {
      "text/plain": [
       "target_5yrs\n",
       "1    62.014925\n",
       "0    37.985075\n",
       "Name: proportion, dtype: float64"
      ]
     },
     "execution_count": 8,
     "metadata": {},
     "output_type": "execute_result"
    }
   ],
   "source": [
    "# Display percentage (%) of values for each class (1, 0) represented in the target column of this dataset.\n",
    "\n",
    "### YOUR CODE HERE ###\n",
    "print('% of target_5yrs 1-->YES   0-->NO:')\n",
    "data[\"target_5yrs\"].value_counts(normalize=True)*100"
   ]
  },
  {
   "cell_type": "markdown",
   "id": "e1e81c03",
   "metadata": {
    "id": "N4ITIR9Jlpbr",
    "papermill": {
     "duration": 0.011796,
     "end_time": "2025-02-13T04:44:12.872004",
     "exception": false,
     "start_time": "2025-02-13T04:44:12.860208",
     "status": "completed"
    },
    "tags": []
   },
   "source": [
    "<details>\n",
    "<summary><h4><strong>Hint 1</strong></h4></summary>\n",
    "\n",
    "In `pandas`, `value_counts(normalize=True)` can be used to calculate the frequency of each distinct value in a specific column of a DataFrame.  \n",
    "</details>"
   ]
  },
  {
   "cell_type": "markdown",
   "id": "5cd9276c",
   "metadata": {
    "id": "2xHH7INqlpbt",
    "papermill": {
     "duration": 0.012253,
     "end_time": "2025-02-13T04:44:12.897525",
     "exception": false,
     "start_time": "2025-02-13T04:44:12.885272",
     "status": "completed"
    },
    "tags": []
   },
   "source": [
    "<details>\n",
    "<summary><h4><strong>Hint 2</strong></h4></summary>\n",
    "\n",
    "After `value_counts(normalize=True)`, multipling by `100` converts the frequencies into percentages (%).\n",
    "</details>"
   ]
  },
  {
   "cell_type": "markdown",
   "id": "c3f1aa2a",
   "metadata": {
    "id": "uMcdNVQW8K2D",
    "papermill": {
     "duration": 0.012001,
     "end_time": "2025-02-13T04:44:12.922122",
     "exception": false,
     "start_time": "2025-02-13T04:44:12.910121",
     "status": "completed"
    },
    "tags": []
   },
   "source": [
    "**Question:** What do you observe about the class balance in the target column?"
   ]
  },
  {
   "cell_type": "markdown",
   "id": "c7373bbc",
   "metadata": {
    "id": "eDXjxG94zkZO",
    "papermill": {
     "duration": 0.011982,
     "end_time": "2025-02-13T04:44:12.946394",
     "exception": false,
     "start_time": "2025-02-13T04:44:12.934412",
     "status": "completed"
    },
    "tags": []
   },
   "source": [
    "* ~ 62% of the records are of class '1' in target_5yrs\n",
    "* ~ 38% of the records are of class '0' in target_5yrs\n",
    "\n",
    "\n",
    "* approx. 62-32 split is observed\n",
    "* This scenario does NOT NEED up/downsampling\n"
   ]
  },
  {
   "cell_type": "markdown",
   "id": "8cfc26d4",
   "metadata": {
    "papermill": {
     "duration": 0.011893,
     "end_time": "2025-02-13T04:44:12.970642",
     "exception": false,
     "start_time": "2025-02-13T04:44:12.958749",
     "status": "completed"
    },
    "tags": []
   },
   "source": [
    "**Question:** Why is it important to check class balance?"
   ]
  },
  {
   "cell_type": "markdown",
   "id": "a54c7213",
   "metadata": {
    "papermill": {
     "duration": 0.011707,
     "end_time": "2025-02-13T04:44:12.994717",
     "exception": false,
     "start_time": "2025-02-13T04:44:12.983010",
     "status": "completed"
    },
    "tags": []
   },
   "source": [
    "* to avoid creating an inaccurate or a biased model, dealing with class imbalance is important"
   ]
  },
  {
   "cell_type": "markdown",
   "id": "e14385f6",
   "metadata": {
    "id": "qgV_6xAQAvgg",
    "papermill": {
     "duration": 0.01169,
     "end_time": "2025-02-13T04:44:13.018582",
     "exception": false,
     "start_time": "2025-02-13T04:44:13.006892",
     "status": "completed"
    },
    "tags": []
   },
   "source": [
    "## **Step 4: Results and evaluation** \n",
    "\n",
    "\n",
    "Now, perform feature engineering, with the goal of identifying and creating features that will serve as useful predictors for the target variable, `target_5yrs`. "
   ]
  },
  {
   "cell_type": "markdown",
   "id": "156e241d",
   "metadata": {
    "id": "r-UHtsTnA5kE",
    "papermill": {
     "duration": 0.011685,
     "end_time": "2025-02-13T04:44:13.042507",
     "exception": false,
     "start_time": "2025-02-13T04:44:13.030822",
     "status": "completed"
    },
    "tags": []
   },
   "source": [
    "### Feature selection"
   ]
  },
  {
   "cell_type": "markdown",
   "id": "866d6052",
   "metadata": {
    "id": "atQDf16fK4in",
    "papermill": {
     "duration": 0.011822,
     "end_time": "2025-02-13T04:44:13.066539",
     "exception": false,
     "start_time": "2025-02-13T04:44:13.054717",
     "status": "completed"
    },
    "tags": []
   },
   "source": [
    "The following table contains descriptions of the data in each column:\n",
    "\n",
    "<center>\n",
    "\n",
    "|Column Name|Column Description|\n",
    "|:---|:-------|\n",
    "|`name`|Name of NBA player|\n",
    "|`gp`|Number of games played|\n",
    "|`min`|Number of minutes played|\n",
    "|`pts`|Average number of points per game|\n",
    "|`fgm`|Average number of field goals made per game|\n",
    "|`fga`|Average number of field goal attempts per game|\n",
    "|`fg`|Average percent of field goals made per game|\n",
    "|`3p_made`|Average number of three-point field goals made per game|\n",
    "|`3pa`|Average number of three-point field goal attempts per game|\n",
    "|`3p`|Average percent of three-point field goals made per game|\n",
    "|`ftm`|Average number of free throws made per game|\n",
    "|`fta`|Average number of free throw attempts per game|\n",
    "|`ft`|Average percent of free throws made per game|\n",
    "|`oreb`|Average number of offensive rebounds per game|\n",
    "|`dreb`|Average number of defensive rebounds per game|\n",
    "|`reb`|Average number of rebounds per game|\n",
    "|`ast`|Average number of assists per game|\n",
    "|`stl`|Average number of steals per game|\n",
    "|`blk`|Average number of blocks per game|\n",
    "|`tov`|Average number of turnovers per game|\n",
    "|`target_5yrs`|1 if career duration >= 5 yrs, 0 otherwise|\n",
    "\n",
    "</center>"
   ]
  },
  {
   "cell_type": "markdown",
   "id": "036e67ab",
   "metadata": {
    "id": "uyUtq03NKe69",
    "papermill": {
     "duration": 0.011944,
     "end_time": "2025-02-13T04:44:13.090779",
     "exception": false,
     "start_time": "2025-02-13T04:44:13.078835",
     "status": "completed"
    },
    "tags": []
   },
   "source": [
    "**Question:** Which columns would you select and avoid selecting as features, and why? Keep in mind the goal is to identify features that will serve as useful predictors for the target variable, `target_5yrs`. "
   ]
  },
  {
   "cell_type": "markdown",
   "id": "e8324090",
   "metadata": {
    "id": "Lsur6i-azlnT",
    "papermill": {
     "duration": 0.011834,
     "end_time": "2025-02-13T04:44:13.114829",
     "exception": false,
     "start_time": "2025-02-13T04:44:13.102995",
     "status": "completed"
    },
    "tags": []
   },
   "source": [
    "* In real world, the best option is to first consult with the SMEs before taking such calls\n",
    "\n",
    "\n",
    "* the target is if the career duration >= 5 years \n",
    "* name --> name of a playeris not important \n",
    "* 'fgm', 'fga', '3p_made', '3pa', 'ftm', 'fta' --> field goals, 3 pts and free throws made/attempted doesn't decide the target. these are only proxies for other variables such as average points, free throws made per game. so these are excluded\n",
    "* 'oreb', 'dreb' --> offensive/defensive rebounds doesn't decide the target. this is also a proxy for average rebounds. so those are excluded"
   ]
  },
  {
   "cell_type": "markdown",
   "id": "d589a5c3",
   "metadata": {
    "id": "f0EgC-r_X_gk",
    "papermill": {
     "duration": 0.0119,
     "end_time": "2025-02-13T04:44:13.139002",
     "exception": false,
     "start_time": "2025-02-13T04:44:13.127102",
     "status": "completed"
    },
    "tags": []
   },
   "source": [
    "Next, select the columns you want to proceed with. Make sure to include the target column, `target_5yrs`. Display the first few rows to confirm they are as expected."
   ]
  },
  {
   "cell_type": "code",
   "execution_count": 9,
   "id": "9e089956",
   "metadata": {
    "execution": {
     "iopub.execute_input": "2025-02-13T04:44:13.165106Z",
     "iopub.status.busy": "2025-02-13T04:44:13.164723Z",
     "iopub.status.idle": "2025-02-13T04:44:13.187054Z",
     "shell.execute_reply": "2025-02-13T04:44:13.185965Z"
    },
    "id": "jeLHjMh_XwsU",
    "papermill": {
     "duration": 0.037342,
     "end_time": "2025-02-13T04:44:13.188554",
     "exception": false,
     "start_time": "2025-02-13T04:44:13.151212",
     "status": "completed"
    },
    "tags": []
   },
   "outputs": [
    {
     "name": "stdout",
     "output_type": "stream",
     "text": [
      "Index(['name', 'fgm', 'fga', '3p_made', '3pa', 'ftm', 'fta', 'oreb', 'dreb'], dtype='object')\n"
     ]
    },
    {
     "data": {
      "text/html": [
       "<div>\n",
       "<style scoped>\n",
       "    .dataframe tbody tr th:only-of-type {\n",
       "        vertical-align: middle;\n",
       "    }\n",
       "\n",
       "    .dataframe tbody tr th {\n",
       "        vertical-align: top;\n",
       "    }\n",
       "\n",
       "    .dataframe thead th {\n",
       "        text-align: right;\n",
       "    }\n",
       "</style>\n",
       "<table border=\"1\" class=\"dataframe\">\n",
       "  <thead>\n",
       "    <tr style=\"text-align: right;\">\n",
       "      <th></th>\n",
       "      <th>gp</th>\n",
       "      <th>min</th>\n",
       "      <th>pts</th>\n",
       "      <th>fg</th>\n",
       "      <th>3p</th>\n",
       "      <th>ft</th>\n",
       "      <th>reb</th>\n",
       "      <th>ast</th>\n",
       "      <th>stl</th>\n",
       "      <th>blk</th>\n",
       "      <th>tov</th>\n",
       "      <th>target_5yrs</th>\n",
       "    </tr>\n",
       "  </thead>\n",
       "  <tbody>\n",
       "    <tr>\n",
       "      <th>0</th>\n",
       "      <td>36</td>\n",
       "      <td>27.4</td>\n",
       "      <td>7.4</td>\n",
       "      <td>34.7</td>\n",
       "      <td>25.0</td>\n",
       "      <td>69.9</td>\n",
       "      <td>4.1</td>\n",
       "      <td>1.9</td>\n",
       "      <td>0.4</td>\n",
       "      <td>0.4</td>\n",
       "      <td>1.3</td>\n",
       "      <td>0</td>\n",
       "    </tr>\n",
       "    <tr>\n",
       "      <th>1</th>\n",
       "      <td>35</td>\n",
       "      <td>26.9</td>\n",
       "      <td>7.2</td>\n",
       "      <td>29.6</td>\n",
       "      <td>23.5</td>\n",
       "      <td>76.5</td>\n",
       "      <td>2.4</td>\n",
       "      <td>3.7</td>\n",
       "      <td>1.1</td>\n",
       "      <td>0.5</td>\n",
       "      <td>1.6</td>\n",
       "      <td>0</td>\n",
       "    </tr>\n",
       "    <tr>\n",
       "      <th>2</th>\n",
       "      <td>74</td>\n",
       "      <td>15.3</td>\n",
       "      <td>5.2</td>\n",
       "      <td>42.2</td>\n",
       "      <td>24.4</td>\n",
       "      <td>67.0</td>\n",
       "      <td>2.2</td>\n",
       "      <td>1.0</td>\n",
       "      <td>0.5</td>\n",
       "      <td>0.3</td>\n",
       "      <td>1.0</td>\n",
       "      <td>0</td>\n",
       "    </tr>\n",
       "    <tr>\n",
       "      <th>3</th>\n",
       "      <td>58</td>\n",
       "      <td>11.6</td>\n",
       "      <td>5.7</td>\n",
       "      <td>42.6</td>\n",
       "      <td>22.6</td>\n",
       "      <td>68.9</td>\n",
       "      <td>1.9</td>\n",
       "      <td>0.8</td>\n",
       "      <td>0.6</td>\n",
       "      <td>0.1</td>\n",
       "      <td>1.0</td>\n",
       "      <td>1</td>\n",
       "    </tr>\n",
       "    <tr>\n",
       "      <th>4</th>\n",
       "      <td>48</td>\n",
       "      <td>11.5</td>\n",
       "      <td>4.5</td>\n",
       "      <td>52.4</td>\n",
       "      <td>0.0</td>\n",
       "      <td>67.4</td>\n",
       "      <td>2.5</td>\n",
       "      <td>0.3</td>\n",
       "      <td>0.3</td>\n",
       "      <td>0.4</td>\n",
       "      <td>0.8</td>\n",
       "      <td>1</td>\n",
       "    </tr>\n",
       "  </tbody>\n",
       "</table>\n",
       "</div>"
      ],
      "text/plain": [
       "   gp   min  pts    fg    3p    ft  reb  ast  stl  blk  tov  target_5yrs\n",
       "0  36  27.4  7.4  34.7  25.0  69.9  4.1  1.9  0.4  0.4  1.3            0\n",
       "1  35  26.9  7.2  29.6  23.5  76.5  2.4  3.7  1.1  0.5  1.6            0\n",
       "2  74  15.3  5.2  42.2  24.4  67.0  2.2  1.0  0.5  0.3  1.0            0\n",
       "3  58  11.6  5.7  42.6  22.6  68.9  1.9  0.8  0.6  0.1  1.0            1\n",
       "4  48  11.5  4.5  52.4   0.0  67.4  2.5  0.3  0.3  0.4  0.8            1"
      ]
     },
     "execution_count": 9,
     "metadata": {},
     "output_type": "execute_result"
    }
   ],
   "source": [
    "# Select the columns to proceed with and save the DataFrame in new variable `selected_data`.\n",
    "# Include the target column, `target_5yrs`.\n",
    "\n",
    "### YOUR CODE HERE ###\n",
    "selected_data = data[[\"gp\", \"min\", \"pts\", \"fg\", \"3p\", \"ft\", \"reb\", \"ast\", \"stl\", \"blk\", \"tov\", \"target_5yrs\"]]\n",
    "\n",
    "print(data.loc[:,~data.columns.isin(selected_data)].columns)\n",
    "# Display the first few rows.\n",
    "\n",
    "### YOUR CODE HERE ###\n",
    "selected_data.head()"
   ]
  },
  {
   "cell_type": "markdown",
   "id": "f528589c",
   "metadata": {
    "id": "eec8mVaZitRl",
    "papermill": {
     "duration": 0.012069,
     "end_time": "2025-02-13T04:44:13.213233",
     "exception": false,
     "start_time": "2025-02-13T04:44:13.201164",
     "status": "completed"
    },
    "tags": []
   },
   "source": [
    "<details>\n",
    "<summary><h4><strong>Hint 1</strong></h4></summary>\n",
    "\n",
    "Refer to the materials about feature selection and selecting a subset of a DataFrame.\n",
    "</details>"
   ]
  },
  {
   "cell_type": "markdown",
   "id": "6b1f925d",
   "metadata": {
    "id": "IGVBka7oitRn",
    "papermill": {
     "duration": 0.01251,
     "end_time": "2025-02-13T04:44:13.238212",
     "exception": false,
     "start_time": "2025-02-13T04:44:13.225702",
     "status": "completed"
    },
    "tags": []
   },
   "source": [
    "<details>\n",
    "<summary><h4><strong>Hint 2</strong></h4></summary>\n",
    "\n",
    "Use two pairs of square brackets, and place the names of the columns you want to select inside the innermost brackets. \n",
    "\n",
    "</details>"
   ]
  },
  {
   "cell_type": "markdown",
   "id": "19243843",
   "metadata": {
    "id": "BB6uE5RSitRn",
    "papermill": {
     "duration": 0.011952,
     "end_time": "2025-02-13T04:44:13.262464",
     "exception": false,
     "start_time": "2025-02-13T04:44:13.250512",
     "status": "completed"
    },
    "tags": []
   },
   "source": [
    "<details>\n",
    "<summary><h4><strong>Hint 3</strong></h4></summary>\n",
    "\n",
    "There is a function in `pandas` that can be used to display the first few rows of a DataFrame. Make sure to specify the column names with spelling that matches what's in the data. Use quotes to represent each column name as a string. \n",
    "</details>"
   ]
  },
  {
   "cell_type": "markdown",
   "id": "83e18e8d",
   "metadata": {
    "id": "m9SD-zhXCLSm",
    "papermill": {
     "duration": 0.012814,
     "end_time": "2025-02-13T04:44:13.287848",
     "exception": false,
     "start_time": "2025-02-13T04:44:13.275034",
     "status": "completed"
    },
    "tags": []
   },
   "source": [
    "### Feature transformation"
   ]
  },
  {
   "cell_type": "markdown",
   "id": "61424380",
   "metadata": {
    "id": "UQwsbcQHWeX1",
    "papermill": {
     "duration": 0.012146,
     "end_time": "2025-02-13T04:44:13.312266",
     "exception": false,
     "start_time": "2025-02-13T04:44:13.300120",
     "status": "completed"
    },
    "tags": []
   },
   "source": [
    "An important aspect of feature transformation is feature encoding. If there are categorical columns that you would want to use as features, those columns should be transformed to be numerical. This technique is also known as feature encoding."
   ]
  },
  {
   "cell_type": "markdown",
   "id": "e52c938c",
   "metadata": {
    "id": "IMm2PPbvOUHb",
    "papermill": {
     "duration": 0.012021,
     "end_time": "2025-02-13T04:44:13.336558",
     "exception": false,
     "start_time": "2025-02-13T04:44:13.324537",
     "status": "completed"
    },
    "tags": []
   },
   "source": [
    "**Question:** Why is feature transformation important to consider? Are there any transformations necessary for the features you want to use?"
   ]
  },
  {
   "cell_type": "markdown",
   "id": "9963b861",
   "metadata": {
    "id": "Kg-1y3f2zmrg",
    "papermill": {
     "duration": 0.01191,
     "end_time": "2025-02-13T04:44:13.360717",
     "exception": false,
     "start_time": "2025-02-13T04:44:13.348807",
     "status": "completed"
    },
    "tags": []
   },
   "source": [
    "* to make the data feasible to be fit in statistical or ML models\n",
    "* to get the dataset numerical (interpretable by the models) and still preserving the meaning behind each variable "
   ]
  },
  {
   "cell_type": "markdown",
   "id": "2f192619",
   "metadata": {
    "id": "yMK4zXxQCNYH",
    "papermill": {
     "duration": 0.011948,
     "end_time": "2025-02-13T04:44:13.385032",
     "exception": false,
     "start_time": "2025-02-13T04:44:13.373084",
     "status": "completed"
    },
    "tags": []
   },
   "source": [
    "### Feature extraction"
   ]
  },
  {
   "cell_type": "markdown",
   "id": "51e96f2e",
   "metadata": {
    "id": "LwU2VgiyfLg7",
    "papermill": {
     "duration": 0.012154,
     "end_time": "2025-02-13T04:44:13.409591",
     "exception": false,
     "start_time": "2025-02-13T04:44:13.397437",
     "status": "completed"
    },
    "tags": []
   },
   "source": [
    "Display the first few rows containing containing descriptions of the data for reference. The table is as follows:\n",
    "\n",
    "<center>\n",
    "\n",
    "|Column Name|Column Description|\n",
    "|:---|:-------|\n",
    "|`name`|Name of NBA player|\n",
    "|`gp`|Number of games played|\n",
    "|`min`|Number of minutes played per game|\n",
    "|`pts`|Average number of points per game|\n",
    "|`fgm`|Average number of field goals made per game|\n",
    "|`fga`|Average number of field goal attempts per game|\n",
    "|`fg`|Average percent of field goals made per game|\n",
    "|`3p_made`|Average number of three-point field goals made per game|\n",
    "|`3pa`|Average number of three-point field goal attempts per game|\n",
    "|`3p`|Average percent of three-point field goals made per game|\n",
    "|`ftm`|Average number of free throws made per game|\n",
    "|`fta`|Average number of free throw attempts per game|\n",
    "|`ft`|Average percent of free throws made per game|\n",
    "|`oreb`|Average number of offensive rebounds per game|\n",
    "|`dreb`|Average number of defensive rebounds per game|\n",
    "|`reb`|Average number of rebounds per game|\n",
    "|`ast`|Average number of assists per game|\n",
    "|`stl`|Average number of steals per game|\n",
    "|`blk`|Average number of blocks per game|\n",
    "|`tov`|Average number of turnovers per game|\n",
    "|`target_5yrs`|1 if career duration >= 5 yrs, 0 otherwise|\n",
    "\n",
    "</center>"
   ]
  },
  {
   "cell_type": "code",
   "execution_count": 10,
   "id": "951a0744",
   "metadata": {
    "execution": {
     "iopub.execute_input": "2025-02-13T04:44:13.437766Z",
     "iopub.status.busy": "2025-02-13T04:44:13.437304Z",
     "iopub.status.idle": "2025-02-13T04:44:13.454083Z",
     "shell.execute_reply": "2025-02-13T04:44:13.453028Z"
    },
    "id": "TImr9RUzfNNk",
    "papermill": {
     "duration": 0.032164,
     "end_time": "2025-02-13T04:44:13.455876",
     "exception": false,
     "start_time": "2025-02-13T04:44:13.423712",
     "status": "completed"
    },
    "tags": []
   },
   "outputs": [
    {
     "data": {
      "text/html": [
       "<div>\n",
       "<style scoped>\n",
       "    .dataframe tbody tr th:only-of-type {\n",
       "        vertical-align: middle;\n",
       "    }\n",
       "\n",
       "    .dataframe tbody tr th {\n",
       "        vertical-align: top;\n",
       "    }\n",
       "\n",
       "    .dataframe thead th {\n",
       "        text-align: right;\n",
       "    }\n",
       "</style>\n",
       "<table border=\"1\" class=\"dataframe\">\n",
       "  <thead>\n",
       "    <tr style=\"text-align: right;\">\n",
       "      <th></th>\n",
       "      <th>gp</th>\n",
       "      <th>min</th>\n",
       "      <th>pts</th>\n",
       "      <th>fg</th>\n",
       "      <th>3p</th>\n",
       "      <th>ft</th>\n",
       "      <th>reb</th>\n",
       "      <th>ast</th>\n",
       "      <th>stl</th>\n",
       "      <th>blk</th>\n",
       "      <th>tov</th>\n",
       "      <th>target_5yrs</th>\n",
       "    </tr>\n",
       "  </thead>\n",
       "  <tbody>\n",
       "    <tr>\n",
       "      <th>0</th>\n",
       "      <td>36</td>\n",
       "      <td>27.4</td>\n",
       "      <td>7.4</td>\n",
       "      <td>34.7</td>\n",
       "      <td>25.0</td>\n",
       "      <td>69.9</td>\n",
       "      <td>4.1</td>\n",
       "      <td>1.9</td>\n",
       "      <td>0.4</td>\n",
       "      <td>0.4</td>\n",
       "      <td>1.3</td>\n",
       "      <td>0</td>\n",
       "    </tr>\n",
       "    <tr>\n",
       "      <th>1</th>\n",
       "      <td>35</td>\n",
       "      <td>26.9</td>\n",
       "      <td>7.2</td>\n",
       "      <td>29.6</td>\n",
       "      <td>23.5</td>\n",
       "      <td>76.5</td>\n",
       "      <td>2.4</td>\n",
       "      <td>3.7</td>\n",
       "      <td>1.1</td>\n",
       "      <td>0.5</td>\n",
       "      <td>1.6</td>\n",
       "      <td>0</td>\n",
       "    </tr>\n",
       "    <tr>\n",
       "      <th>2</th>\n",
       "      <td>74</td>\n",
       "      <td>15.3</td>\n",
       "      <td>5.2</td>\n",
       "      <td>42.2</td>\n",
       "      <td>24.4</td>\n",
       "      <td>67.0</td>\n",
       "      <td>2.2</td>\n",
       "      <td>1.0</td>\n",
       "      <td>0.5</td>\n",
       "      <td>0.3</td>\n",
       "      <td>1.0</td>\n",
       "      <td>0</td>\n",
       "    </tr>\n",
       "    <tr>\n",
       "      <th>3</th>\n",
       "      <td>58</td>\n",
       "      <td>11.6</td>\n",
       "      <td>5.7</td>\n",
       "      <td>42.6</td>\n",
       "      <td>22.6</td>\n",
       "      <td>68.9</td>\n",
       "      <td>1.9</td>\n",
       "      <td>0.8</td>\n",
       "      <td>0.6</td>\n",
       "      <td>0.1</td>\n",
       "      <td>1.0</td>\n",
       "      <td>1</td>\n",
       "    </tr>\n",
       "    <tr>\n",
       "      <th>4</th>\n",
       "      <td>48</td>\n",
       "      <td>11.5</td>\n",
       "      <td>4.5</td>\n",
       "      <td>52.4</td>\n",
       "      <td>0.0</td>\n",
       "      <td>67.4</td>\n",
       "      <td>2.5</td>\n",
       "      <td>0.3</td>\n",
       "      <td>0.3</td>\n",
       "      <td>0.4</td>\n",
       "      <td>0.8</td>\n",
       "      <td>1</td>\n",
       "    </tr>\n",
       "  </tbody>\n",
       "</table>\n",
       "</div>"
      ],
      "text/plain": [
       "   gp   min  pts    fg    3p    ft  reb  ast  stl  blk  tov  target_5yrs\n",
       "0  36  27.4  7.4  34.7  25.0  69.9  4.1  1.9  0.4  0.4  1.3            0\n",
       "1  35  26.9  7.2  29.6  23.5  76.5  2.4  3.7  1.1  0.5  1.6            0\n",
       "2  74  15.3  5.2  42.2  24.4  67.0  2.2  1.0  0.5  0.3  1.0            0\n",
       "3  58  11.6  5.7  42.6  22.6  68.9  1.9  0.8  0.6  0.1  1.0            1\n",
       "4  48  11.5  4.5  52.4   0.0  67.4  2.5  0.3  0.3  0.4  0.8            1"
      ]
     },
     "execution_count": 10,
     "metadata": {},
     "output_type": "execute_result"
    }
   ],
   "source": [
    "# Display the first few rows of `selected_data` for reference.\n",
    "\n",
    "### YOUR CODE HERE ###\n",
    "selected_data.head()"
   ]
  },
  {
   "cell_type": "markdown",
   "id": "f529be5b",
   "metadata": {
    "id": "c5GvdO_Ddgcv",
    "papermill": {
     "duration": 0.012236,
     "end_time": "2025-02-13T04:44:13.481187",
     "exception": false,
     "start_time": "2025-02-13T04:44:13.468951",
     "status": "completed"
    },
    "tags": []
   },
   "source": [
    "**Question:** Which columns lend themselves to feature extraction?"
   ]
  },
  {
   "cell_type": "markdown",
   "id": "6f9b3c5e",
   "metadata": {
    "id": "XrDQ4Qzezoo2",
    "papermill": {
     "duration": 0.01224,
     "end_time": "2025-02-13T04:44:13.506117",
     "exception": false,
     "start_time": "2025-02-13T04:44:13.493877",
     "status": "completed"
    },
    "tags": []
   },
   "source": [
    "* number of games played, avg points per game, num mins played per game are crucial and fundamental. so it can be used for feature extraction\n",
    "* we can create total pts by multiplying num_games and avg pts per game\n",
    "* also we can create the impact of a player by checking how many points each have scored within each minute or second throughout the season"
   ]
  },
  {
   "cell_type": "markdown",
   "id": "e9fda85c",
   "metadata": {
    "id": "TzdzdImXmlVV",
    "papermill": {
     "duration": 0.012435,
     "end_time": "2025-02-13T04:44:13.531655",
     "exception": false,
     "start_time": "2025-02-13T04:44:13.519220",
     "status": "completed"
    },
    "tags": []
   },
   "source": [
    "Extract two features that you think would help predict `target_5yrs`. Then, create a new variable named 'extracted_data' that contains features from 'selected_data', as well as the features being extracted."
   ]
  },
  {
   "cell_type": "code",
   "execution_count": 11,
   "id": "fbbd1988",
   "metadata": {
    "execution": {
     "iopub.execute_input": "2025-02-13T04:44:13.558259Z",
     "iopub.status.busy": "2025-02-13T04:44:13.557877Z",
     "iopub.status.idle": "2025-02-13T04:44:13.579411Z",
     "shell.execute_reply": "2025-02-13T04:44:13.578245Z"
    },
    "id": "-oKr7ZPumP4X",
    "papermill": {
     "duration": 0.037192,
     "end_time": "2025-02-13T04:44:13.581312",
     "exception": false,
     "start_time": "2025-02-13T04:44:13.544120",
     "status": "completed"
    },
    "tags": []
   },
   "outputs": [
    {
     "data": {
      "text/html": [
       "<div>\n",
       "<style scoped>\n",
       "    .dataframe tbody tr th:only-of-type {\n",
       "        vertical-align: middle;\n",
       "    }\n",
       "\n",
       "    .dataframe tbody tr th {\n",
       "        vertical-align: top;\n",
       "    }\n",
       "\n",
       "    .dataframe thead th {\n",
       "        text-align: right;\n",
       "    }\n",
       "</style>\n",
       "<table border=\"1\" class=\"dataframe\">\n",
       "  <thead>\n",
       "    <tr style=\"text-align: right;\">\n",
       "      <th></th>\n",
       "      <th>gp</th>\n",
       "      <th>min</th>\n",
       "      <th>pts</th>\n",
       "      <th>fg</th>\n",
       "      <th>3p</th>\n",
       "      <th>ft</th>\n",
       "      <th>reb</th>\n",
       "      <th>ast</th>\n",
       "      <th>stl</th>\n",
       "      <th>blk</th>\n",
       "      <th>tov</th>\n",
       "      <th>target_5yrs</th>\n",
       "      <th>total_points</th>\n",
       "      <th>efficiency</th>\n",
       "    </tr>\n",
       "  </thead>\n",
       "  <tbody>\n",
       "    <tr>\n",
       "      <th>0</th>\n",
       "      <td>36</td>\n",
       "      <td>27.4</td>\n",
       "      <td>7.4</td>\n",
       "      <td>34.7</td>\n",
       "      <td>25.0</td>\n",
       "      <td>69.9</td>\n",
       "      <td>4.1</td>\n",
       "      <td>1.9</td>\n",
       "      <td>0.4</td>\n",
       "      <td>0.4</td>\n",
       "      <td>1.3</td>\n",
       "      <td>0</td>\n",
       "      <td>266.4</td>\n",
       "      <td>0.270073</td>\n",
       "    </tr>\n",
       "    <tr>\n",
       "      <th>1</th>\n",
       "      <td>35</td>\n",
       "      <td>26.9</td>\n",
       "      <td>7.2</td>\n",
       "      <td>29.6</td>\n",
       "      <td>23.5</td>\n",
       "      <td>76.5</td>\n",
       "      <td>2.4</td>\n",
       "      <td>3.7</td>\n",
       "      <td>1.1</td>\n",
       "      <td>0.5</td>\n",
       "      <td>1.6</td>\n",
       "      <td>0</td>\n",
       "      <td>252.0</td>\n",
       "      <td>0.267658</td>\n",
       "    </tr>\n",
       "    <tr>\n",
       "      <th>2</th>\n",
       "      <td>74</td>\n",
       "      <td>15.3</td>\n",
       "      <td>5.2</td>\n",
       "      <td>42.2</td>\n",
       "      <td>24.4</td>\n",
       "      <td>67.0</td>\n",
       "      <td>2.2</td>\n",
       "      <td>1.0</td>\n",
       "      <td>0.5</td>\n",
       "      <td>0.3</td>\n",
       "      <td>1.0</td>\n",
       "      <td>0</td>\n",
       "      <td>384.8</td>\n",
       "      <td>0.339869</td>\n",
       "    </tr>\n",
       "    <tr>\n",
       "      <th>3</th>\n",
       "      <td>58</td>\n",
       "      <td>11.6</td>\n",
       "      <td>5.7</td>\n",
       "      <td>42.6</td>\n",
       "      <td>22.6</td>\n",
       "      <td>68.9</td>\n",
       "      <td>1.9</td>\n",
       "      <td>0.8</td>\n",
       "      <td>0.6</td>\n",
       "      <td>0.1</td>\n",
       "      <td>1.0</td>\n",
       "      <td>1</td>\n",
       "      <td>330.6</td>\n",
       "      <td>0.491379</td>\n",
       "    </tr>\n",
       "    <tr>\n",
       "      <th>4</th>\n",
       "      <td>48</td>\n",
       "      <td>11.5</td>\n",
       "      <td>4.5</td>\n",
       "      <td>52.4</td>\n",
       "      <td>0.0</td>\n",
       "      <td>67.4</td>\n",
       "      <td>2.5</td>\n",
       "      <td>0.3</td>\n",
       "      <td>0.3</td>\n",
       "      <td>0.4</td>\n",
       "      <td>0.8</td>\n",
       "      <td>1</td>\n",
       "      <td>216.0</td>\n",
       "      <td>0.391304</td>\n",
       "    </tr>\n",
       "  </tbody>\n",
       "</table>\n",
       "</div>"
      ],
      "text/plain": [
       "   gp   min  pts    fg    3p    ft  reb  ast  stl  blk  tov  target_5yrs  \\\n",
       "0  36  27.4  7.4  34.7  25.0  69.9  4.1  1.9  0.4  0.4  1.3            0   \n",
       "1  35  26.9  7.2  29.6  23.5  76.5  2.4  3.7  1.1  0.5  1.6            0   \n",
       "2  74  15.3  5.2  42.2  24.4  67.0  2.2  1.0  0.5  0.3  1.0            0   \n",
       "3  58  11.6  5.7  42.6  22.6  68.9  1.9  0.8  0.6  0.1  1.0            1   \n",
       "4  48  11.5  4.5  52.4   0.0  67.4  2.5  0.3  0.3  0.4  0.8            1   \n",
       "\n",
       "   total_points  efficiency  \n",
       "0         266.4    0.270073  \n",
       "1         252.0    0.267658  \n",
       "2         384.8    0.339869  \n",
       "3         330.6    0.491379  \n",
       "4         216.0    0.391304  "
      ]
     },
     "execution_count": 11,
     "metadata": {},
     "output_type": "execute_result"
    }
   ],
   "source": [
    "# Extract two features that would help predict target_5yrs.\n",
    "# Create a new variable named `extracted_data`.\n",
    "\n",
    "### YOUR CODE HERE ### \n",
    "\n",
    "# make a copy of `selected_data` \n",
    "extracted_data = selected_data.copy()\n",
    "\n",
    "# add a new column named `total_points`\n",
    "# calculate total points earned by multiplying the number of games played by the average number of points earned per game\n",
    "extracted_data['total_points'] = extracted_data['gp'] * extracted_data['pts']\n",
    "\n",
    "# Add a new column named `efficiency`. Calculate efficiency by dividing the total points earned by the total number \n",
    "# of minutes played, which yields points per minute. (Note that `min` represents avg. minutes per game.)\n",
    "extracted_data['efficiency'] = extracted_data['total_points'] / (extracted_data['min'] * extracted_data['gp'])\n",
    "\n",
    "# Display the first few rows of `extracted_data` to confirm that the new columns were added\n",
    "extracted_data.head()"
   ]
  },
  {
   "cell_type": "markdown",
   "id": "4878a8fd",
   "metadata": {
    "id": "nBm31_L4stiM",
    "papermill": {
     "duration": 0.012448,
     "end_time": "2025-02-13T04:44:13.606894",
     "exception": false,
     "start_time": "2025-02-13T04:44:13.594446",
     "status": "completed"
    },
    "tags": []
   },
   "source": [
    "<details>\n",
    "<summary><h4><strong>Hint 1</strong></h4></summary>\n",
    "\n",
    "Refer to the materials about feature extraction.\n",
    "</details>"
   ]
  },
  {
   "cell_type": "markdown",
   "id": "d7e80b19",
   "metadata": {
    "id": "zfJjVoNnstiO",
    "papermill": {
     "duration": 0.012363,
     "end_time": "2025-02-13T04:44:13.632062",
     "exception": false,
     "start_time": "2025-02-13T04:44:13.619699",
     "status": "completed"
    },
    "tags": []
   },
   "source": [
    "<details>\n",
    "<summary><h4><strong>Hint 2</strong></h4></summary>\n",
    "\n",
    "Use the function `copy()` to make a copy of a DataFrame. To access a specific column from a DataFrame, use a pair of square brackets and place the name of the column as a string inside the brackets.\n",
    "\n",
    "</details>"
   ]
  },
  {
   "cell_type": "markdown",
   "id": "a3eae533",
   "metadata": {
    "id": "5JK2XAKJstiP",
    "papermill": {
     "duration": 0.012979,
     "end_time": "2025-02-13T04:44:13.658065",
     "exception": false,
     "start_time": "2025-02-13T04:44:13.645086",
     "status": "completed"
    },
    "tags": []
   },
   "source": [
    "<details>\n",
    "<summary><h4><strong>Hint 3</strong></h4></summary>\n",
    "\n",
    "Use a pair of square brackets to create a new column in a DataFrame. The columns in DataFrames are series objects, which support elementwise operations such as multiplication and division. Be sure the column names referenced in your code match the spelling of what's in the DataFrame.\n",
    "</details>"
   ]
  },
  {
   "cell_type": "markdown",
   "id": "2f9f6973",
   "metadata": {
    "id": "_HSGCXKZt61x",
    "papermill": {
     "duration": 0.012622,
     "end_time": "2025-02-13T04:44:13.683676",
     "exception": false,
     "start_time": "2025-02-13T04:44:13.671054",
     "status": "completed"
    },
    "tags": []
   },
   "source": [
    "Now, to prepare for the Naive Bayes model that you will build in a later lab, clean the extracted data and ensure ensure it is concise. Naive Bayes involves an assumption that features are independent of each other given the class. In order to satisfy that criteria, if certain features are aggregated to yield new features, it may be necessary to remove those original features. Therefore, drop the columns that were used to extract new features.\n",
    "\n",
    "**Note:** There are other types of models that do not involve independence assumptions, so this would not be required in those instances. In fact, keeping the original features may be beneficial."
   ]
  },
  {
   "cell_type": "code",
   "execution_count": 12,
   "id": "fb63c991",
   "metadata": {
    "execution": {
     "iopub.execute_input": "2025-02-13T04:44:13.710713Z",
     "iopub.status.busy": "2025-02-13T04:44:13.710246Z",
     "iopub.status.idle": "2025-02-13T04:44:13.729499Z",
     "shell.execute_reply": "2025-02-13T04:44:13.728427Z"
    },
    "id": "9kF4nRy5r1DV",
    "papermill": {
     "duration": 0.034807,
     "end_time": "2025-02-13T04:44:13.731250",
     "exception": false,
     "start_time": "2025-02-13T04:44:13.696443",
     "status": "completed"
    },
    "tags": []
   },
   "outputs": [
    {
     "data": {
      "text/html": [
       "<div>\n",
       "<style scoped>\n",
       "    .dataframe tbody tr th:only-of-type {\n",
       "        vertical-align: middle;\n",
       "    }\n",
       "\n",
       "    .dataframe tbody tr th {\n",
       "        vertical-align: top;\n",
       "    }\n",
       "\n",
       "    .dataframe thead th {\n",
       "        text-align: right;\n",
       "    }\n",
       "</style>\n",
       "<table border=\"1\" class=\"dataframe\">\n",
       "  <thead>\n",
       "    <tr style=\"text-align: right;\">\n",
       "      <th></th>\n",
       "      <th>fg</th>\n",
       "      <th>3p</th>\n",
       "      <th>ft</th>\n",
       "      <th>reb</th>\n",
       "      <th>ast</th>\n",
       "      <th>stl</th>\n",
       "      <th>blk</th>\n",
       "      <th>tov</th>\n",
       "      <th>target_5yrs</th>\n",
       "      <th>total_points</th>\n",
       "      <th>efficiency</th>\n",
       "    </tr>\n",
       "  </thead>\n",
       "  <tbody>\n",
       "    <tr>\n",
       "      <th>0</th>\n",
       "      <td>34.7</td>\n",
       "      <td>25.0</td>\n",
       "      <td>69.9</td>\n",
       "      <td>4.1</td>\n",
       "      <td>1.9</td>\n",
       "      <td>0.4</td>\n",
       "      <td>0.4</td>\n",
       "      <td>1.3</td>\n",
       "      <td>0</td>\n",
       "      <td>266.4</td>\n",
       "      <td>0.270073</td>\n",
       "    </tr>\n",
       "    <tr>\n",
       "      <th>1</th>\n",
       "      <td>29.6</td>\n",
       "      <td>23.5</td>\n",
       "      <td>76.5</td>\n",
       "      <td>2.4</td>\n",
       "      <td>3.7</td>\n",
       "      <td>1.1</td>\n",
       "      <td>0.5</td>\n",
       "      <td>1.6</td>\n",
       "      <td>0</td>\n",
       "      <td>252.0</td>\n",
       "      <td>0.267658</td>\n",
       "    </tr>\n",
       "    <tr>\n",
       "      <th>2</th>\n",
       "      <td>42.2</td>\n",
       "      <td>24.4</td>\n",
       "      <td>67.0</td>\n",
       "      <td>2.2</td>\n",
       "      <td>1.0</td>\n",
       "      <td>0.5</td>\n",
       "      <td>0.3</td>\n",
       "      <td>1.0</td>\n",
       "      <td>0</td>\n",
       "      <td>384.8</td>\n",
       "      <td>0.339869</td>\n",
       "    </tr>\n",
       "    <tr>\n",
       "      <th>3</th>\n",
       "      <td>42.6</td>\n",
       "      <td>22.6</td>\n",
       "      <td>68.9</td>\n",
       "      <td>1.9</td>\n",
       "      <td>0.8</td>\n",
       "      <td>0.6</td>\n",
       "      <td>0.1</td>\n",
       "      <td>1.0</td>\n",
       "      <td>1</td>\n",
       "      <td>330.6</td>\n",
       "      <td>0.491379</td>\n",
       "    </tr>\n",
       "    <tr>\n",
       "      <th>4</th>\n",
       "      <td>52.4</td>\n",
       "      <td>0.0</td>\n",
       "      <td>67.4</td>\n",
       "      <td>2.5</td>\n",
       "      <td>0.3</td>\n",
       "      <td>0.3</td>\n",
       "      <td>0.4</td>\n",
       "      <td>0.8</td>\n",
       "      <td>1</td>\n",
       "      <td>216.0</td>\n",
       "      <td>0.391304</td>\n",
       "    </tr>\n",
       "  </tbody>\n",
       "</table>\n",
       "</div>"
      ],
      "text/plain": [
       "     fg    3p    ft  reb  ast  stl  blk  tov  target_5yrs  total_points  \\\n",
       "0  34.7  25.0  69.9  4.1  1.9  0.4  0.4  1.3            0         266.4   \n",
       "1  29.6  23.5  76.5  2.4  3.7  1.1  0.5  1.6            0         252.0   \n",
       "2  42.2  24.4  67.0  2.2  1.0  0.5  0.3  1.0            0         384.8   \n",
       "3  42.6  22.6  68.9  1.9  0.8  0.6  0.1  1.0            1         330.6   \n",
       "4  52.4   0.0  67.4  2.5  0.3  0.3  0.4  0.8            1         216.0   \n",
       "\n",
       "   efficiency  \n",
       "0    0.270073  \n",
       "1    0.267658  \n",
       "2    0.339869  \n",
       "3    0.491379  \n",
       "4    0.391304  "
      ]
     },
     "execution_count": 12,
     "metadata": {},
     "output_type": "execute_result"
    }
   ],
   "source": [
    "# Remove any columns from `extracted_data` that are no longer needed.\n",
    "\n",
    "### YOUR CODE HERE ###\n",
    "\n",
    "# drop `gp`, `pts`, and `min` from `extracted_data`\n",
    "extracted_data = extracted_data.drop(columns=['gp', 'pts', 'min'])\n",
    "\n",
    "# Display the first few rows of `extracted_data` to ensure that column drops took place.\n",
    "\n",
    "### YOUR CODE HERE ###\n",
    "\n",
    "extracted_data.head()"
   ]
  },
  {
   "cell_type": "markdown",
   "id": "aa64a007",
   "metadata": {
    "id": "zXgV7ogJutbC",
    "papermill": {
     "duration": 0.013108,
     "end_time": "2025-02-13T04:44:13.757953",
     "exception": false,
     "start_time": "2025-02-13T04:44:13.744845",
     "status": "completed"
    },
    "tags": []
   },
   "source": [
    "<details>\n",
    "<summary><h4><strong>Hint 1</strong></h4></summary>\n",
    "\n",
    "Refer to the materials about feature extraction.\n",
    "</details>"
   ]
  },
  {
   "cell_type": "markdown",
   "id": "1d29df3f",
   "metadata": {
    "id": "yy5eHxzrutbD",
    "papermill": {
     "duration": 0.012777,
     "end_time": "2025-02-13T04:44:13.783823",
     "exception": false,
     "start_time": "2025-02-13T04:44:13.771046",
     "status": "completed"
    },
    "tags": []
   },
   "source": [
    "<details>\n",
    "<summary><h4><strong>Hint 2</strong></h4></summary>\n",
    "\n",
    "There are functions in the `pandas` library that remove specific columns from a DataFrame and that display the first few rows of a DataFrame.\n",
    "</details>"
   ]
  },
  {
   "cell_type": "markdown",
   "id": "e0714b54",
   "metadata": {
    "id": "V7pdI7hqutbE",
    "papermill": {
     "duration": 0.012726,
     "end_time": "2025-02-13T04:44:13.809487",
     "exception": false,
     "start_time": "2025-02-13T04:44:13.796761",
     "status": "completed"
    },
    "tags": []
   },
   "source": [
    "<details>\n",
    "<summary><h4><strong>Hint 3</strong></h4></summary>\n",
    "\n",
    "Use the `drop()` function and pass in a list of the names of the columns you want to remove. By default, calling this function will result in a new DataFrame that reflects the changes you made. The original DataFrame is not automatically altered. You can reassign `extracted_data` to the result, in order to update it. \n",
    "\n",
    "Use the `head()` function to display the first few rows of a DataFrame.\n",
    "</details>"
   ]
  },
  {
   "cell_type": "markdown",
   "id": "fadc6d8f",
   "metadata": {
    "id": "T-_ViHlcwlik",
    "papermill": {
     "duration": 0.013296,
     "end_time": "2025-02-13T04:44:13.835835",
     "exception": false,
     "start_time": "2025-02-13T04:44:13.822539",
     "status": "completed"
    },
    "tags": []
   },
   "source": [
    "Next, export the extracted data as a new .csv file. You will use this in a later lab. "
   ]
  },
  {
   "cell_type": "code",
   "execution_count": 13,
   "id": "ce565aac",
   "metadata": {
    "execution": {
     "iopub.execute_input": "2025-02-13T04:44:13.864247Z",
     "iopub.status.busy": "2025-02-13T04:44:13.863847Z",
     "iopub.status.idle": "2025-02-13T04:44:13.886115Z",
     "shell.execute_reply": "2025-02-13T04:44:13.885112Z"
    },
    "id": "gZ_DdQx1xIaN",
    "papermill": {
     "duration": 0.038355,
     "end_time": "2025-02-13T04:44:13.888148",
     "exception": false,
     "start_time": "2025-02-13T04:44:13.849793",
     "status": "completed"
    },
    "tags": []
   },
   "outputs": [],
   "source": [
    "# Export the extracted data.\n",
    "\n",
    "### YOUR CODE HERE ###\n",
    "extracted_data.to_csv('extracted_nba_players_data.csv', index=0)"
   ]
  },
  {
   "cell_type": "markdown",
   "id": "7d70f20c",
   "metadata": {
    "id": "izEApnWFxTCC",
    "papermill": {
     "duration": 0.013002,
     "end_time": "2025-02-13T04:44:13.914936",
     "exception": false,
     "start_time": "2025-02-13T04:44:13.901934",
     "status": "completed"
    },
    "tags": []
   },
   "source": [
    "<details>\n",
    "<summary><h4><strong>Hint 1</strong></h4></summary>\n",
    "\n",
    "There is a function in the `pandas` library that exports a DataFrame as a .csv file. \n",
    "</details>"
   ]
  },
  {
   "cell_type": "markdown",
   "id": "f99f881d",
   "metadata": {
    "id": "13VAjGwHxTCC",
    "papermill": {
     "duration": 0.013287,
     "end_time": "2025-02-13T04:44:13.941519",
     "exception": false,
     "start_time": "2025-02-13T04:44:13.928232",
     "status": "completed"
    },
    "tags": []
   },
   "source": [
    "<details>\n",
    "<summary><h4><strong>Hint 2</strong></h4></summary>\n",
    "\n",
    "Use the `to_csv()` function to export the DataFrame as a .csv file. \n",
    "</details>"
   ]
  },
  {
   "cell_type": "markdown",
   "id": "7a1e4012",
   "metadata": {
    "id": "X_BDkIONxTCE",
    "papermill": {
     "duration": 0.012837,
     "end_time": "2025-02-13T04:44:13.968194",
     "exception": false,
     "start_time": "2025-02-13T04:44:13.955357",
     "status": "completed"
    },
    "tags": []
   },
   "source": [
    "<details>\n",
    "<summary><h4><strong>Hint 3</strong></h4></summary>\n",
    "\n",
    "Call the `to_csv()` function on `extracted_data`, and pass in the name that you want to give to the resulting .csv file. Specify the file name as a string and in the file name. Make sure to include `.csv` as the file extension. Also, pass in the parameter `index` set to `0`, so that when the export occurs, the row indices from the DataFrame are not treated as an additional column in the resulting file. \n",
    "</details>"
   ]
  },
  {
   "cell_type": "markdown",
   "id": "d9eccad1",
   "metadata": {
    "id": "xur2FC5xAzp0",
    "papermill": {
     "duration": 0.01267,
     "end_time": "2025-02-13T04:44:13.993953",
     "exception": false,
     "start_time": "2025-02-13T04:44:13.981283",
     "status": "completed"
    },
    "tags": []
   },
   "source": [
    "## **Considerations**\n"
   ]
  },
  {
   "cell_type": "markdown",
   "id": "fa227606",
   "metadata": {
    "id": "cEvvjB_Pgcz6",
    "papermill": {
     "duration": 0.012783,
     "end_time": "2025-02-13T04:44:14.019788",
     "exception": false,
     "start_time": "2025-02-13T04:44:14.007005",
     "status": "completed"
    },
    "tags": []
   },
   "source": [
    "**What are some key takeaways that you learned during this lab? Consider the process you followed and what tasks were performed during each step, as well as important priorities when training data.**"
   ]
  },
  {
   "cell_type": "markdown",
   "id": "9a8d8d1d",
   "metadata": {
    "id": "GDDqO95rgfDP",
    "papermill": {
     "duration": 0.01286,
     "end_time": "2025-02-13T04:44:14.045718",
     "exception": false,
     "start_time": "2025-02-13T04:44:14.032858",
     "status": "completed"
    },
    "tags": []
   },
   "source": [
    "* decisions on how to handle imbalanced data\n",
    "* how to select important features from raw data\n",
    "* how to transform certain features so that the model performance can be increased\n",
    "* how to extract key information and turn multiple features into a better consolidate feature that would improve prediction"
   ]
  },
  {
   "cell_type": "markdown",
   "id": "3a2821c9",
   "metadata": {
    "id": "WvBogkdfggKN",
    "papermill": {
     "duration": 0.012734,
     "end_time": "2025-02-13T04:44:14.071453",
     "exception": false,
     "start_time": "2025-02-13T04:44:14.058719",
     "status": "completed"
    },
    "tags": []
   },
   "source": [
    "**What summary would you provide to stakeholders? Consider key attributes to be shared from the data, as well as upcoming project plans.**"
   ]
  },
  {
   "cell_type": "markdown",
   "id": "9c342a05",
   "metadata": {
    "id": "8d2_JyVFgg0r",
    "papermill": {
     "duration": 0.012702,
     "end_time": "2025-02-13T04:44:14.097166",
     "exception": false,
     "start_time": "2025-02-13T04:44:14.084464",
     "status": "completed"
    },
    "tags": []
   },
   "source": [
    "* the data card about the updated dataset with the reasons supporting the decisions made\n",
    "* need to consult with game analysts and other SMEs to establish if the extracted features are useful and interpretable in analysis results or as model co-efficients"
   ]
  },
  {
   "cell_type": "markdown",
   "id": "5ba4a73b",
   "metadata": {
    "papermill": {
     "duration": 0.01263,
     "end_time": "2025-02-13T04:44:14.122922",
     "exception": false,
     "start_time": "2025-02-13T04:44:14.110292",
     "status": "completed"
    },
    "tags": []
   },
   "source": [
    "**Congratulations!** You've completed this lab. However, you may not notice a green check mark next to this item on Coursera's platform. Please continue your progress regardless of the check mark. Just click on the \"save\" icon at the top of this notebook to ensure your work has been logged."
   ]
  }
 ],
 "metadata": {
  "colab": {
   "collapsed_sections": [],
   "provenance": []
  },
  "kaggle": {
   "accelerator": "none",
   "dataSources": [
    {
     "datasetId": 6657876,
     "sourceId": 10737490,
     "sourceType": "datasetVersion"
    }
   ],
   "dockerImageVersionId": 30886,
   "isGpuEnabled": false,
   "isInternetEnabled": true,
   "language": "python",
   "sourceType": "notebook"
  },
  "kernelspec": {
   "display_name": "Python 3",
   "language": "python",
   "name": "python3"
  },
  "language_info": {
   "codemirror_mode": {
    "name": "ipython",
    "version": 3
   },
   "file_extension": ".py",
   "mimetype": "text/x-python",
   "name": "python",
   "nbconvert_exporter": "python",
   "pygments_lexer": "ipython3",
   "version": "3.10.12"
  },
  "papermill": {
   "default_parameters": {},
   "duration": 6.860826,
   "end_time": "2025-02-13T04:44:14.756778",
   "environment_variables": {},
   "exception": null,
   "input_path": "__notebook__.ipynb",
   "output_path": "__notebook__.ipynb",
   "parameters": {},
   "start_time": "2025-02-13T04:44:07.895952",
   "version": "2.6.0"
  }
 },
 "nbformat": 4,
 "nbformat_minor": 5
}

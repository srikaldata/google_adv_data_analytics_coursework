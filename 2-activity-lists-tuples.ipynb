{
 "cells": [
  {
   "cell_type": "markdown",
   "id": "72b9904c",
   "metadata": {
    "id": "KBiVrAwUswaC",
    "papermill": {
     "duration": 0.009022,
     "end_time": "2025-02-04T04:11:57.264397",
     "exception": false,
     "start_time": "2025-02-04T04:11:57.255375",
     "status": "completed"
    },
    "tags": []
   },
   "source": [
    "<h1>Activity: Introduction to lists and tuples</h1>"
   ]
  },
  {
   "cell_type": "markdown",
   "id": "7b1676b0",
   "metadata": {
    "id": "h6Ek5LgkszCv",
    "papermill": {
     "duration": 0.007394,
     "end_time": "2025-02-04T04:11:57.278776",
     "exception": false,
     "start_time": "2025-02-04T04:11:57.271382",
     "status": "completed"
    },
    "tags": []
   },
   "source": [
    "## Introduction \n",
    "\n",
    "In this lab, you will practice creating, modifying, and working with data structures in Python. This will develop your knowledge of different kinds of data structures and the different operations that you can perform with them to answer questions about the data. This will help you prepare for projects you may encounter where you will need to use data structures to store and keep track of data.\n",
    "\n",
    "For this activity, you are part of a research team that focuses on air quality, and you have received a few data points collected by the U.S. Environmental Protection Agency (EPA). Your goal is to store and organize this data, so that it can be accessed and updated easily.\n",
    "\n",
    "In this lab, you'll be working specifically with the state names and county names of places that reported air quality index readings."
   ]
  },
  {
   "cell_type": "markdown",
   "id": "005e4606",
   "metadata": {
    "id": "9PsbdqW9s1Ti",
    "papermill": {
     "duration": 0.006743,
     "end_time": "2025-02-04T04:11:57.292315",
     "exception": false,
     "start_time": "2025-02-04T04:11:57.285572",
     "status": "completed"
    },
    "tags": []
   },
   "source": [
    "## Tips for completing this lab\n",
    "\n",
    "As you navigate this lab, keep the following tips in mind:\n",
    "\n",
    "- `### YOUR CODE HERE ###` indicates where you should write code. Be sure to replace this with your own code before running the code cell.\n",
    "- Feel free to open the hints for additional guidance as you work on each task.\n",
    "- To enter your answer to a question, double-click the markdown cell to edit. Be sure to replace the \"[Double-click to enter your responses here.]\" with your own answer.\n",
    "- You can save your work manually by clicking File and then Save in the menu bar at the top of the notebook.\n",
    "- You can download your work locally by clicking File and then Download and then specifying your preferred file format in the menu bar at the top of the notebook."
   ]
  },
  {
   "cell_type": "markdown",
   "id": "c01a62f8",
   "metadata": {
    "id": "Be_AFo3JtZnv",
    "papermill": {
     "duration": 0.00616,
     "end_time": "2025-02-04T04:11:57.305096",
     "exception": false,
     "start_time": "2025-02-04T04:11:57.298936",
     "status": "completed"
    },
    "tags": []
   },
   "source": [
    "## Task 1: Create lists and use tuples\n",
    "\n",
    "As you continue your work with the EPA, you want to create an ordered data structure containing pairs of values, which can be iterated over to gain insights from the data."
   ]
  },
  {
   "cell_type": "markdown",
   "id": "99b608ec",
   "metadata": {
    "id": "4oWGIKOPxgoF",
    "papermill": {
     "duration": 0.00615,
     "end_time": "2025-02-04T04:11:57.317732",
     "exception": false,
     "start_time": "2025-02-04T04:11:57.311582",
     "status": "completed"
    },
    "tags": []
   },
   "source": [
    "### 1a: Create lists\n",
    "\n",
    "You'll work with state names and county names indicated below.\n",
    "\n",
    "| state_name | county_name |\n",
    "| --- | --- |\n",
    "| Arizona | Maricopa |\n",
    "| California | Alameda |\n",
    "| California | Sacramento |\n",
    "| Kentucky | Jefferson |\n",
    "| Louisiana | East Baton Rouge |\n",
    "\n",
    "<br/>\n",
    "\n",
    "\n",
    "*  In this task, assign two variables:\n",
    "\n",
    "    1. `state_names` - a `list` of each state in the `state_name` column in the table above, in order, as strings\n",
    "    2. `county_names` - a `list` of each county in the `county_name` column in the table above, in order, as strings\n",
    "\n"
   ]
  },
  {
   "cell_type": "code",
   "execution_count": 1,
   "id": "5e731064",
   "metadata": {
    "execution": {
     "iopub.execute_input": "2025-02-04T04:11:57.332987Z",
     "iopub.status.busy": "2025-02-04T04:11:57.332485Z",
     "iopub.status.idle": "2025-02-04T04:11:57.339725Z",
     "shell.execute_reply": "2025-02-04T04:11:57.338389Z"
    },
    "id": "mifeWTLK9RSL",
    "papermill": {
     "duration": 0.017202,
     "end_time": "2025-02-04T04:11:57.341963",
     "exception": false,
     "start_time": "2025-02-04T04:11:57.324761",
     "status": "completed"
    },
    "tags": []
   },
   "outputs": [],
   "source": [
    "# 1. ### YOUR CODE HERE ###\n",
    "state_names = ['Arizona','California','California','Kentucky','Louisiana']\n",
    "\n",
    "# 2. ### YOUR CODE HERE ###\n",
    "county_names = ['Maricopa','Alameda','Sacramento','Jefferson','East Baton Rouge']"
   ]
  },
  {
   "cell_type": "markdown",
   "id": "6c56b01d",
   "metadata": {
    "id": "wLdpH1tZNUh7",
    "papermill": {
     "duration": 0.006551,
     "end_time": "2025-02-04T04:11:57.355234",
     "exception": false,
     "start_time": "2025-02-04T04:11:57.348683",
     "status": "completed"
    },
    "tags": []
   },
   "source": [
    "<details><summary><h4>Hint</h4></summary>\n",
    "\n",
    "Refer to what you've learned about the syntax for instantiating lists.\n",
    "\n",
    "</details>"
   ]
  },
  {
   "cell_type": "markdown",
   "id": "07bcc05a",
   "metadata": {
    "id": "ncDkZB1gxzDq",
    "papermill": {
     "duration": 0.006326,
     "end_time": "2025-02-04T04:11:57.369010",
     "exception": false,
     "start_time": "2025-02-04T04:11:57.362684",
     "status": "completed"
    },
    "tags": []
   },
   "source": [
    "### 1b: Use a loop to combine the lists into a single list of tuples\n",
    "\n",
    "* Use `state_names` and `county_names` to:\n",
    "    * Create a new list of tuples, where each tuple contains a pair of state name and county name.\n",
    "    * Assign the new list to a variable called `state_county_tuples`.\n",
    "* Print the result\n",
    "\n",
    "*Expected result:*\n",
    "\n",
    "```\n",
    "[OUT] [('Arizona', 'Maricopa'),\n",
    "       ('California', 'Alameda'),\n",
    "       ('California', 'Sacramento'),\n",
    "       ('Kentucky', 'Jefferson'),\n",
    "       ('Louisiana', 'East Baton Rouge')]\n",
    "```"
   ]
  },
  {
   "cell_type": "code",
   "execution_count": 2,
   "id": "a9b445df",
   "metadata": {
    "execution": {
     "iopub.execute_input": "2025-02-04T04:11:57.384021Z",
     "iopub.status.busy": "2025-02-04T04:11:57.383697Z",
     "iopub.status.idle": "2025-02-04T04:11:57.389230Z",
     "shell.execute_reply": "2025-02-04T04:11:57.388078Z"
    },
    "executionInfo": {
     "elapsed": 198,
     "status": "ok",
     "timestamp": 1680215612444,
     "user": {
      "displayName": "Matteo Riotto",
      "userId": "15211004813978485634"
     },
     "user_tz": 420
    },
    "id": "4wZijs-JI5q9",
    "outputId": "ab56737b-cea0-480c-f9e4-48b4a8aad058",
    "papermill": {
     "duration": 0.015655,
     "end_time": "2025-02-04T04:11:57.391223",
     "exception": false,
     "start_time": "2025-02-04T04:11:57.375568",
     "status": "completed"
    },
    "tags": []
   },
   "outputs": [
    {
     "name": "stdout",
     "output_type": "stream",
     "text": [
      "[('Arizona', 'Maricopa'), ('California', 'Alameda'), ('California', 'Sacramento'), ('Kentucky', 'Jefferson'), ('Louisiana', 'East Baton Rouge')]\n"
     ]
    }
   ],
   "source": [
    "### YOUR CODE HERE ###\n",
    "state_county_tuples = [(state_names[i], county_names[i]) for i in range(len(state_names))]\n",
    "print(state_county_tuples)"
   ]
  },
  {
   "cell_type": "markdown",
   "id": "644be98c",
   "metadata": {
    "id": "YNHrym4yPusC",
    "papermill": {
     "duration": 0.006402,
     "end_time": "2025-02-04T04:11:57.404750",
     "exception": false,
     "start_time": "2025-02-04T04:11:57.398348",
     "status": "completed"
    },
    "tags": []
   },
   "source": [
    "<details><summary><h4>Hint 1</h4></summary>\n",
    "\n",
    "There are several ways to accomplish this task. One way could involve looping over the elements of each list and, with each iteration, assigning a tuple consisting of `(state_names[i], county_names[i])`, which could then be used to build the `state_county_tuples` list.\n",
    "\n",
    "</details>"
   ]
  },
  {
   "cell_type": "markdown",
   "id": "85e3f7f0",
   "metadata": {
    "id": "o4b_8cnMUH8x",
    "papermill": {
     "duration": 0.006621,
     "end_time": "2025-02-04T04:11:57.418330",
     "exception": false,
     "start_time": "2025-02-04T04:11:57.411709",
     "status": "completed"
    },
    "tags": []
   },
   "source": [
    "<details><summary><h4>Hint 2</h4></summary>\n",
    "\n",
    "Use the `len()` function and the `range()` function to generate the appropriate number of iterations for a `for` loop.\n",
    "\n",
    "</details>"
   ]
  },
  {
   "cell_type": "markdown",
   "id": "7393cd51",
   "metadata": {
    "id": "wxRAYAviZJtA",
    "papermill": {
     "duration": 0.006567,
     "end_time": "2025-02-04T04:11:57.431574",
     "exception": false,
     "start_time": "2025-02-04T04:11:57.425007",
     "status": "completed"
    },
    "tags": []
   },
   "source": [
    "<details><summary><h4>Hint 3</h4></summary>\n",
    "\n",
    "1. Instantiate `state_county_tuples` as an empty list\n",
    "2. Write a `for` loop to iterate over `range(len(state_names))`\n",
    "3. With each iteration, append `(state_names[i], county_names[i])` to `state_county_tuples`\n",
    "\n",
    "</details>"
   ]
  },
  {
   "cell_type": "markdown",
   "id": "9ed234b3",
   "metadata": {
    "id": "fEEo-2zEaVtA",
    "papermill": {
     "duration": 0.006409,
     "end_time": "2025-02-04T04:11:57.444921",
     "exception": false,
     "start_time": "2025-02-04T04:11:57.438512",
     "status": "completed"
    },
    "tags": []
   },
   "source": [
    "### 1c: Use the `zip()` function to combine the lists into a single list of tuples\n",
    "\n",
    "Python has a built-in function to make the above process much easier. It's called the `zip()` function. This function accepts any number of iterable objects as arguments. If the arguments are all of equal length, the function returns an iterator object of tuples, where each tuple contains `element[i]` of each argument.\n",
    "\n",
    "You can then either loop over the iterator object or pass it to the `list()` function to unpack its values.\n",
    "\n",
    "Refer to the [zip() Python documentation](https://docs.python.org/3/library/functions.html#zip) for more information.\n",
    "\n",
    "Here's an example:\n",
    "\n"
   ]
  },
  {
   "cell_type": "code",
   "execution_count": 3,
   "id": "bcf3a28c",
   "metadata": {
    "execution": {
     "iopub.execute_input": "2025-02-04T04:11:57.460354Z",
     "iopub.status.busy": "2025-02-04T04:11:57.459954Z",
     "iopub.status.idle": "2025-02-04T04:11:57.466333Z",
     "shell.execute_reply": "2025-02-04T04:11:57.464968Z"
    },
    "executionInfo": {
     "elapsed": 176,
     "status": "ok",
     "timestamp": 1680215616018,
     "user": {
      "displayName": "Matteo Riotto",
      "userId": "15211004813978485634"
     },
     "user_tz": 420
    },
    "id": "Ok6_9uQEbDba",
    "outputId": "b498d005-7b05-4ac3-ac99-3ec1124b356d",
    "papermill": {
     "duration": 0.016091,
     "end_time": "2025-02-04T04:11:57.468032",
     "exception": false,
     "start_time": "2025-02-04T04:11:57.451941",
     "status": "completed"
    },
    "tags": []
   },
   "outputs": [
    {
     "name": "stdout",
     "output_type": "stream",
     "text": [
      "<zip object at 0x78648b73a1c0>\n",
      "[('a', 1), ('b', 2), ('c', 3)]\n"
     ]
    }
   ],
   "source": [
    "# RUN THIS CELL\n",
    "a = ['a', 'b', 'c']\n",
    "b = [1, 2, 3]\n",
    "c = zip(a, b)\n",
    "\n",
    "print(c)\n",
    "print(list(c))"
   ]
  },
  {
   "cell_type": "markdown",
   "id": "5c215cfb",
   "metadata": {
    "id": "XiYt-05zeSMo",
    "papermill": {
     "duration": 0.006228,
     "end_time": "2025-02-04T04:11:57.481241",
     "exception": false,
     "start_time": "2025-02-04T04:11:57.475013",
     "status": "completed"
    },
    "tags": []
   },
   "source": [
    "Use the `zip()` function to generate the same output created in Task 1b.\n",
    "\n",
    "1. Use `state_names` and `county_names` to:\n",
    "    * Create a new list of tuples, where each tuple contains a pair of state name and county name.\n",
    "    * Assign the new list to a variable called `state_county_zipped`.\n",
    "2. Check that `state_county_zipped` is the same as `state_county_tuples`."
   ]
  },
  {
   "cell_type": "code",
   "execution_count": 4,
   "id": "6732dda6",
   "metadata": {
    "execution": {
     "iopub.execute_input": "2025-02-04T04:11:57.495669Z",
     "iopub.status.busy": "2025-02-04T04:11:57.495291Z",
     "iopub.status.idle": "2025-02-04T04:11:57.500511Z",
     "shell.execute_reply": "2025-02-04T04:11:57.499195Z"
    },
    "executionInfo": {
     "elapsed": 196,
     "status": "ok",
     "timestamp": 1680215617920,
     "user": {
      "displayName": "Matteo Riotto",
      "userId": "15211004813978485634"
     },
     "user_tz": 420
    },
    "id": "OfQvejUZJo5T",
    "outputId": "1c086d2f-fcb7-4de8-cbf0-22dbfefb33ee",
    "papermill": {
     "duration": 0.015549,
     "end_time": "2025-02-04T04:11:57.503236",
     "exception": false,
     "start_time": "2025-02-04T04:11:57.487687",
     "status": "completed"
    },
    "tags": []
   },
   "outputs": [
    {
     "name": "stdout",
     "output_type": "stream",
     "text": [
      "True\n"
     ]
    }
   ],
   "source": [
    "# 1. ### YOUR CODE HERE ###\n",
    "state_county_zipped = list(zip(state_names, county_names))\n",
    "\n",
    "# 2. ### YOUR CODE HERE ###\n",
    "print(state_county_zipped == state_county_tuples)"
   ]
  },
  {
   "cell_type": "markdown",
   "id": "62942e1d",
   "metadata": {
    "id": "fPWkM_KGtg_i",
    "papermill": {
     "duration": 0.006981,
     "end_time": "2025-02-04T04:11:57.518552",
     "exception": false,
     "start_time": "2025-02-04T04:11:57.511571",
     "status": "completed"
    },
    "tags": []
   },
   "source": [
    "<details><summary><h4>Hint 1</h4></summary>\n",
    "\n",
    "Refer to the example of the `zip()` function provided above.\n",
    "\n",
    "</details>"
   ]
  },
  {
   "cell_type": "markdown",
   "id": "6aedc720",
   "metadata": {
    "id": "u7dcpH60tg3O",
    "papermill": {
     "duration": 0.007098,
     "end_time": "2025-02-04T04:11:57.533091",
     "exception": false,
     "start_time": "2025-02-04T04:11:57.525993",
     "status": "completed"
    },
    "tags": []
   },
   "source": [
    "<details><summary><h4>Hint 2</h4></summary>\n",
    "\n",
    "Don't forget to convert the result of the zip operation to a list.\n",
    "\n",
    "</details>"
   ]
  },
  {
   "cell_type": "markdown",
   "id": "2ead3ebc",
   "metadata": {
    "id": "om5EmUcFtgvZ",
    "papermill": {
     "duration": 0.006664,
     "end_time": "2025-02-04T04:11:57.547394",
     "exception": false,
     "start_time": "2025-02-04T04:11:57.540730",
     "status": "completed"
    },
    "tags": []
   },
   "source": [
    "<details><summary><h4>Hint 3</h4></summary>\n",
    "\n",
    "1. Use `list(zip(state_names, county_names))` and assign the result to `state_county_zipped`.\n",
    "\n",
    "2. Test for equality with `state_county_tuples` using the `==` operator.\n",
    "\n",
    "</details>"
   ]
  },
  {
   "cell_type": "markdown",
   "id": "919a2ffd",
   "metadata": {
    "id": "s_2Z9SArtgno",
    "papermill": {
     "duration": 0.006315,
     "end_time": "2025-02-04T04:11:57.560270",
     "exception": false,
     "start_time": "2025-02-04T04:11:57.553955",
     "status": "completed"
    },
    "tags": []
   },
   "source": [
    "## Task 2: Use list comprehension to convert to list of lists\n",
    "\n",
    "Since tuples are immutable and can't be changed, converting tuples to lists is a practice data professionals use so they can make adjustments to the data, if necessary.\n",
    "\n",
    "* Use a list comprehension to convert `state_county_tuples` from a list of tuples to a list of lists. Assign the result to a variable called `state_county_lists`.\n",
    "\n",
    "* Print the result.\n",
    "\n",
    "*Expected result:*\n",
    "\n",
    "```\n",
    "[OUT] [['Arizona', 'Maricopa'],\n",
    "       ['California', 'Alameda'],\n",
    "       ['California', 'Sacramento'],\n",
    "       ['Kentucky', 'Jefferson'],\n",
    "       ['Louisiana', 'East Baton Rouge']]\n",
    "```"
   ]
  },
  {
   "cell_type": "code",
   "execution_count": 5,
   "id": "cb5c01b5",
   "metadata": {
    "execution": {
     "iopub.execute_input": "2025-02-04T04:11:57.575674Z",
     "iopub.status.busy": "2025-02-04T04:11:57.575234Z",
     "iopub.status.idle": "2025-02-04T04:11:57.581251Z",
     "shell.execute_reply": "2025-02-04T04:11:57.579498Z"
    },
    "executionInfo": {
     "elapsed": 201,
     "status": "ok",
     "timestamp": 1680215622689,
     "user": {
      "displayName": "Matteo Riotto",
      "userId": "15211004813978485634"
     },
     "user_tz": 420
    },
    "id": "2MPPyoLZhZ4j",
    "outputId": "e5d01096-b24d-4e34-9ec9-22cfe52bec38",
    "papermill": {
     "duration": 0.016299,
     "end_time": "2025-02-04T04:11:57.583247",
     "exception": false,
     "start_time": "2025-02-04T04:11:57.566948",
     "status": "completed"
    },
    "tags": []
   },
   "outputs": [
    {
     "name": "stdout",
     "output_type": "stream",
     "text": [
      "[['Arizona', 'Maricopa'], ['California', 'Alameda'], ['California', 'Sacramento'], ['Kentucky', 'Jefferson'], ['Louisiana', 'East Baton Rouge']]\n"
     ]
    }
   ],
   "source": [
    "### YOUR CODE HERE\n",
    "state_county_lists = [list(elem) for elem in state_county_tuples]\n",
    "\n",
    "print(state_county_lists)\n"
   ]
  },
  {
   "cell_type": "markdown",
   "id": "8e3753f5",
   "metadata": {
    "id": "s-YNkMmARTBg",
    "papermill": {
     "duration": 0.006506,
     "end_time": "2025-02-04T04:11:57.596807",
     "exception": false,
     "start_time": "2025-02-04T04:11:57.590301",
     "status": "completed"
    },
    "tags": []
   },
   "source": [
    "<details><summary><h4>Hint 1</h4></summary>\n",
    "\n",
    "Refer to what you've learned about list comprehension.\n",
    "\n",
    "</details>"
   ]
  },
  {
   "cell_type": "markdown",
   "id": "c0e394fb",
   "metadata": {
    "id": "JURyZsP6RSy6",
    "papermill": {
     "duration": 0.006435,
     "end_time": "2025-02-04T04:11:57.610682",
     "exception": false,
     "start_time": "2025-02-04T04:11:57.604247",
     "status": "completed"
    },
    "tags": []
   },
   "source": [
    "<details><summary><h4>Hint 2</h4></summary>\n",
    "\n",
    "Remember that list comprehensions are like loops written in reverse:\n",
    "\n",
    "`[{operation to perform} for {element} in {iterable}]`\n",
    "\n",
    "</details>"
   ]
  },
  {
   "cell_type": "markdown",
   "id": "d2740965",
   "metadata": {
    "id": "aa1gE-13RSgM",
    "papermill": {
     "duration": 0.007929,
     "end_time": "2025-02-04T04:11:57.626596",
     "exception": false,
     "start_time": "2025-02-04T04:11:57.618667",
     "status": "completed"
    },
    "tags": []
   },
   "source": [
    "<details><summary><h4>Hint 3</h4></summary>\n",
    "\n",
    "There are multiple ways to perform this operation. The simplest uses the `list()` function on each element in `state_county_zipped`.\n",
    "\n",
    "Another way is to use indexing to unpack each tuple into a list.\n",
    "\n",
    "`[[i[0], i[1]] for i in state_county_tuples]`\n",
    "\n",
    "</details>"
   ]
  },
  {
   "cell_type": "markdown",
   "id": "9e12c6cb",
   "metadata": {
    "id": "dEcBjMF1GZWo",
    "papermill": {
     "duration": 0.006878,
     "end_time": "2025-02-04T04:11:57.640368",
     "exception": false,
     "start_time": "2025-02-04T04:11:57.633490",
     "status": "completed"
    },
    "tags": []
   },
   "source": [
    "## Task 3: Unpacking an iterable\n",
    "\n",
    "Data professionals often use the technique of unpacking to work with individual elements of iterable objects. As you continue in your work as an analyst, you are asked to iterate through your list of state/county pairs to identify only the counties in California.\n",
    "\n",
    "As a refresher, here is the data you have been working with:\n",
    "\n",
    "| state_name | county_name |\n",
    "| --- | --- |\n",
    "| Arizona | Maricopa |\n",
    "| California | Alameda |\n",
    "| California | Sacramento |\n",
    "| Kentucky | Jefferson |\n",
    "| Louisiana | East Baton Rouge |\n"
   ]
  },
  {
   "cell_type": "markdown",
   "id": "d648ac27",
   "metadata": {
    "id": "xDabjCpI7qRz",
    "papermill": {
     "duration": 0.006763,
     "end_time": "2025-02-04T04:11:57.655278",
     "exception": false,
     "start_time": "2025-02-04T04:11:57.648515",
     "status": "completed"
    },
    "tags": []
   },
   "source": [
    "### 3a: Unpacking in a loop\n",
    "\n",
    "* Write a loop that unpacks each tuple in `state_county_tuples` and, if the state in the tuple is `California`, add the corresponding county to a list called `ca_counties`.\n",
    "\n",
    "*Expected output:*\n",
    "\n",
    "```\n",
    "[OUT] ['Alameda', 'Sacramento']\n",
    "```"
   ]
  },
  {
   "cell_type": "code",
   "execution_count": 6,
   "id": "7ac2069d",
   "metadata": {
    "execution": {
     "iopub.execute_input": "2025-02-04T04:11:57.671377Z",
     "iopub.status.busy": "2025-02-04T04:11:57.670965Z",
     "iopub.status.idle": "2025-02-04T04:11:57.676534Z",
     "shell.execute_reply": "2025-02-04T04:11:57.675056Z"
    },
    "executionInfo": {
     "elapsed": 259,
     "status": "ok",
     "timestamp": 1680220162897,
     "user": {
      "displayName": "Matteo Riotto",
      "userId": "15211004813978485634"
     },
     "user_tz": 420
    },
    "id": "fnM_zydH7HU9",
    "outputId": "6a14ffb7-eff9-4b35-94fb-d1e9b85e3f98",
    "papermill": {
     "duration": 0.016176,
     "end_time": "2025-02-04T04:11:57.679097",
     "exception": false,
     "start_time": "2025-02-04T04:11:57.662921",
     "status": "completed"
    },
    "tags": []
   },
   "outputs": [
    {
     "name": "stdout",
     "output_type": "stream",
     "text": [
      "['Alameda', 'Sacramento']\n"
     ]
    }
   ],
   "source": [
    "### YOUR CODE HERE ###\n",
    "ca_counties = [elem[1] for elem in state_county_tuples if elem[0]=='California']\n",
    "\n",
    "print(ca_counties)"
   ]
  },
  {
   "cell_type": "markdown",
   "id": "8bc3f27d",
   "metadata": {
    "id": "JMD5CxfI80o1",
    "papermill": {
     "duration": 0.006575,
     "end_time": "2025-02-04T04:11:57.692792",
     "exception": false,
     "start_time": "2025-02-04T04:11:57.686217",
     "status": "completed"
    },
    "tags": []
   },
   "source": [
    "<details><summary><h4>Hint 1</h4></summary>\n",
    "\n",
    "Refer to what you learned about unpacking tuples, `for` loops, conditional statements, and `list` methods.\n",
    "\n",
    "</details>"
   ]
  },
  {
   "cell_type": "markdown",
   "id": "20973d56",
   "metadata": {
    "id": "DOvKJGDR9Mme",
    "papermill": {
     "duration": 0.006283,
     "end_time": "2025-02-04T04:11:57.705926",
     "exception": false,
     "start_time": "2025-02-04T04:11:57.699643",
     "status": "completed"
    },
    "tags": []
   },
   "source": [
    "<details><summary><h4>Hint 2</h4></summary>\n",
    "\n",
    "To unpack a tuple in a loop, you must assign each of its elements to a variable. Each tuple in `state_county_tuples` has two elements, so instead of writing `for a in x`, you must write `for a, b in x`.\n",
    "\n",
    "</details>"
   ]
  },
  {
   "cell_type": "markdown",
   "id": "1d57b90a",
   "metadata": {
    "id": "gytbqb8O-kzJ",
    "papermill": {
     "duration": 0.006303,
     "end_time": "2025-02-04T04:11:57.718966",
     "exception": false,
     "start_time": "2025-02-04T04:11:57.712663",
     "status": "completed"
    },
    "tags": []
   },
   "source": [
    "<details><summary><h4>Hint 3</h4></summary>\n",
    "\n",
    "* Instantiate the `ca_counties` list before you begin writing your loop.\n",
    "\n",
    "* With each iteration of the loop:\n",
    "    1. Unpack each tuple in `state_county_tuples`:\n",
    "     ```\n",
    "     for state, county in state_county_tuples:\n",
    "     ```\n",
    "    2. Check whether `state` is California:\n",
    "    ```\n",
    "    if state == 'California':\n",
    "    ```\n",
    "    3. If it is, append `county` to `ca_counties`:\n",
    "    ```\n",
    "    ca_counties.append(county)\n",
    "    ```\n",
    "\n",
    "</details>"
   ]
  },
  {
   "cell_type": "markdown",
   "id": "d3c7fe7b",
   "metadata": {
    "id": "nDdaoVyd76_u",
    "papermill": {
     "duration": 0.006333,
     "end_time": "2025-02-04T04:11:57.731905",
     "exception": false,
     "start_time": "2025-02-04T04:11:57.725572",
     "status": "completed"
    },
    "tags": []
   },
   "source": [
    "### 3b: Unpacking in a list comprehension\n",
    "\n",
    "Now, use a list comprehension to accomplish the same thing as what you did in Task 3a.\n",
    "\n",
    "* In a list comprehension, unpack each tuple in `state_county_tuples` and, if the state in the tuple is `California`, add the corresponding county to the list comprehension.\n",
    "\n",
    "* Assign the result to a variable called `ca_counties`.\n",
    "\n",
    "* Print `ca_counties`.\n",
    "\n",
    "*Expected output:*\n",
    "\n",
    "```\n",
    "[OUT] ['Alameda', 'Sacramento']\n",
    "```"
   ]
  },
  {
   "cell_type": "code",
   "execution_count": 7,
   "id": "f146baef",
   "metadata": {
    "execution": {
     "iopub.execute_input": "2025-02-04T04:11:57.746383Z",
     "iopub.status.busy": "2025-02-04T04:11:57.746031Z",
     "iopub.status.idle": "2025-02-04T04:11:57.751378Z",
     "shell.execute_reply": "2025-02-04T04:11:57.750253Z"
    },
    "executionInfo": {
     "elapsed": 208,
     "status": "ok",
     "timestamp": 1680218613985,
     "user": {
      "displayName": "Matteo Riotto",
      "userId": "15211004813978485634"
     },
     "user_tz": 420
    },
    "id": "Du9vZxAaydOa",
    "outputId": "52802e68-9448-4ebd-aeab-b82edc92deba",
    "papermill": {
     "duration": 0.014539,
     "end_time": "2025-02-04T04:11:57.752991",
     "exception": false,
     "start_time": "2025-02-04T04:11:57.738452",
     "status": "completed"
    },
    "tags": []
   },
   "outputs": [
    {
     "name": "stdout",
     "output_type": "stream",
     "text": [
      "['Alameda', 'Sacramento']\n"
     ]
    }
   ],
   "source": [
    "### YOUR CODE HERE ###\n",
    "ca_counties = [elem[1] for elem in state_county_tuples if elem[0]=='California']\n",
    "\n",
    "print(ca_counties)"
   ]
  },
  {
   "cell_type": "markdown",
   "id": "09ebbec7",
   "metadata": {
    "id": "jCt4G5zxGgU7",
    "papermill": {
     "duration": 0.008452,
     "end_time": "2025-02-04T04:11:57.769734",
     "exception": false,
     "start_time": "2025-02-04T04:11:57.761282",
     "status": "completed"
    },
    "tags": []
   },
   "source": [
    "<details><summary><h4>Hint 1</h4></summary>\n",
    "\n",
    "Refer to what you learned about list comprehension syntax. Also refer to previous tasks and examples in this lab.\n",
    "\n",
    "</details>"
   ]
  },
  {
   "cell_type": "markdown",
   "id": "10f480a9",
   "metadata": {
    "id": "DkJ31iPxGgNI",
    "papermill": {
     "duration": 0.00693,
     "end_time": "2025-02-04T04:11:57.784029",
     "exception": false,
     "start_time": "2025-02-04T04:11:57.777099",
     "status": "completed"
    },
    "tags": []
   },
   "source": [
    "<details><summary><h4>Hint 2</h4></summary>\n",
    "\n",
    "It can be helpful to progress towards the goal in smaller steps. For example, first try to create a list comprehension that unpacks the `county` from each `state, county` pair, resulting in a list of *all* the counties.\n",
    "\n",
    "If you can do that, then tweak the list comprehension by adding a conditional statement that only keeps the `county` if its corresponding `state` is `California`.\n",
    "\n",
    "</details>"
   ]
  },
  {
   "cell_type": "markdown",
   "id": "b57e6c2b",
   "metadata": {
    "id": "EhhBU4IbGgGW",
    "papermill": {
     "duration": 0.007251,
     "end_time": "2025-02-04T04:11:57.798113",
     "exception": false,
     "start_time": "2025-02-04T04:11:57.790862",
     "status": "completed"
    },
    "tags": []
   },
   "source": [
    "<details><summary><h4>Hint 3</h4></summary>\n",
    "\n",
    "Consider the following syntax:\n",
    "\n",
    "```\n",
    "[___ for (___, ___) in _________ if __________]\n",
    "```\n",
    "\n",
    "</details>"
   ]
  },
  {
   "cell_type": "markdown",
   "id": "f4b31a06",
   "metadata": {
    "id": "a9do9ZntRTKa",
    "papermill": {
     "duration": 0.006531,
     "end_time": "2025-02-04T04:11:57.812850",
     "exception": false,
     "start_time": "2025-02-04T04:11:57.806319",
     "status": "completed"
    },
    "tags": []
   },
   "source": [
    "## Conclusion\n",
    "\n",
    "**What are your key takeaways from this lab?**"
   ]
  },
  {
   "cell_type": "markdown",
   "id": "ae51e06d",
   "metadata": {
    "id": "czqqJEAaR71s",
    "papermill": {
     "duration": 0.006674,
     "end_time": "2025-02-04T04:11:57.827793",
     "exception": false,
     "start_time": "2025-02-04T04:11:57.821119",
     "status": "completed"
    },
    "tags": []
   },
   "source": [
    "* handling tuples\n",
    "* handling lists\n",
    "* looping through lists and tuples\n",
    "* using list comprehension\n",
    "* using conditionals in list comprehension"
   ]
  },
  {
   "cell_type": "markdown",
   "id": "4365dfd2",
   "metadata": {
    "papermill": {
     "duration": 0.007224,
     "end_time": "2025-02-04T04:11:57.841806",
     "exception": false,
     "start_time": "2025-02-04T04:11:57.834582",
     "status": "completed"
    },
    "tags": []
   },
   "source": [
    "**Congratulations!** You've completed this lab. However, you may not notice a green check mark next to this item on Coursera's platform. Please continue your progress regardless of the check mark. Just click on the \"save\" icon at the top of this notebook to ensure your work has been logged. "
   ]
  }
 ],
 "metadata": {
  "colab": {
   "provenance": [],
   "toc_visible": true
  },
  "kaggle": {
   "accelerator": "none",
   "dataSources": [],
   "dockerImageVersionId": 30839,
   "isGpuEnabled": false,
   "isInternetEnabled": true,
   "language": "python",
   "sourceType": "notebook"
  },
  "kernelspec": {
   "display_name": "Python 3",
   "language": "python",
   "name": "python3"
  },
  "language_info": {
   "codemirror_mode": {
    "name": "ipython",
    "version": 3
   },
   "file_extension": ".py",
   "mimetype": "text/x-python",
   "name": "python",
   "nbconvert_exporter": "python",
   "pygments_lexer": "ipython3",
   "version": "3.10.12"
  },
  "papermill": {
   "default_parameters": {},
   "duration": 4.076424,
   "end_time": "2025-02-04T04:11:58.369665",
   "environment_variables": {},
   "exception": null,
   "input_path": "__notebook__.ipynb",
   "output_path": "__notebook__.ipynb",
   "parameters": {},
   "start_time": "2025-02-04T04:11:54.293241",
   "version": "2.6.0"
  }
 },
 "nbformat": 4,
 "nbformat_minor": 5
}

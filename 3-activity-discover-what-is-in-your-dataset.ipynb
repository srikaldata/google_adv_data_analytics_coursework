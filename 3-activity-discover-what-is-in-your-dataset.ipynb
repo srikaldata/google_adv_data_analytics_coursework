{
 "cells": [
  {
   "cell_type": "markdown",
   "id": "995e9423",
   "metadata": {
    "id": "1WD1hC5MTRMS",
    "papermill": {
     "duration": 0.012506,
     "end_time": "2025-02-06T04:32:47.803549",
     "exception": false,
     "start_time": "2025-02-06T04:32:47.791043",
     "status": "completed"
    },
    "tags": []
   },
   "source": [
    "# Activity: Discover what is in your dataset"
   ]
  },
  {
   "cell_type": "markdown",
   "id": "e4258052",
   "metadata": {
    "id": "ee31943b-274e-4c28-bce6-155cb6f4c334",
    "papermill": {
     "duration": 0.01113,
     "end_time": "2025-02-06T04:32:47.825873",
     "exception": false,
     "start_time": "2025-02-06T04:32:47.814743",
     "status": "completed"
    },
    "tags": []
   },
   "source": [
    "## Introduction\n",
    "\n",
    "In this activity, you will discover characteristics of a dataset and use visualizations to analyze the data. This will develop and strengthen your skills in **exploratory data analysis (EDA)** and your knowledge of functions that allow you to explore and visualize data. \n",
    "\n",
    "EDA is an essential process in a data science workflow. As a data professional, you will need to conduct this process to better understand the data at hand and determine how it can be used to solve the problem you want to address. This activity will give you an opportunity to practice that process and prepare you for EDA in future projects.\n",
    "\n",
    "In this activity, you are a member of an analytics team that provides insights to an investing firm. To help them decide which companies to invest in next, the firm wants insights into **unicorn companies**–companies that are valued at over one billion dollars. The data you will use for this task provides information on over 1,000 unicorn companies, including their industry, country, year founded, and select investors. You will use this information to gain insights into how and when companies reach this prestigious milestone and to make recommendations for next steps to the investing firm."
   ]
  },
  {
   "cell_type": "markdown",
   "id": "5722d4b9",
   "metadata": {
    "id": "4bb9630e-b940-4835-a389-d39def1fa848",
    "papermill": {
     "duration": 0.010702,
     "end_time": "2025-02-06T04:32:47.847421",
     "exception": false,
     "start_time": "2025-02-06T04:32:47.836719",
     "status": "completed"
    },
    "tags": []
   },
   "source": [
    "## Step 1: Imports"
   ]
  },
  {
   "cell_type": "markdown",
   "id": "2afa24c9",
   "metadata": {
    "id": "bc180686-4ae2-47ea-a292-3588ac60a820",
    "papermill": {
     "duration": 0.010593,
     "end_time": "2025-02-06T04:32:47.869128",
     "exception": false,
     "start_time": "2025-02-06T04:32:47.858535",
     "status": "completed"
    },
    "tags": []
   },
   "source": [
    "### Import libraries and packages \n",
    "\n",
    "First, import relevant Python libraries and modules. Use the `pandas` library and the `matplotlib.pyplot` module."
   ]
  },
  {
   "cell_type": "code",
   "execution_count": 1,
   "id": "05a2b5d7",
   "metadata": {
    "execution": {
     "iopub.execute_input": "2025-02-06T04:32:47.892630Z",
     "iopub.status.busy": "2025-02-06T04:32:47.892146Z",
     "iopub.status.idle": "2025-02-06T04:32:48.924092Z",
     "shell.execute_reply": "2025-02-06T04:32:48.922737Z"
    },
    "id": "8e7f1f2c-bbcc-4f3c-b927-b090ee8334c4",
    "papermill": {
     "duration": 1.04651,
     "end_time": "2025-02-06T04:32:48.926617",
     "exception": false,
     "start_time": "2025-02-06T04:32:47.880107",
     "status": "completed"
    },
    "tags": []
   },
   "outputs": [],
   "source": [
    "# Import libraries and packages\n",
    "\n",
    "### YOUR CODE HERE ###\n",
    "import pandas as pd\n",
    "import matplotlib.pyplot as plt"
   ]
  },
  {
   "cell_type": "markdown",
   "id": "01ef1124",
   "metadata": {
    "id": "7d29c6bd-f194-46bb-b794-56dc20130473",
    "papermill": {
     "duration": 0.011182,
     "end_time": "2025-02-06T04:32:48.949616",
     "exception": false,
     "start_time": "2025-02-06T04:32:48.938434",
     "status": "completed"
    },
    "tags": []
   },
   "source": [
    "### Load the dataset into a DataFrame\n",
    "\n",
    "The dataset provided is in the form of a csv file named `Unicorn_Companies.csv` and contains a subset of data on unicorn companies. As shown in this cell, the dataset has been automatically loaded in for you. You do not need to download the .csv file, or provide more code, in order to access the dataset and proceed with this lab. Please continue with this activity by completing the following instructions."
   ]
  },
  {
   "cell_type": "code",
   "execution_count": 2,
   "id": "558f1172",
   "metadata": {
    "execution": {
     "iopub.execute_input": "2025-02-06T04:32:48.973293Z",
     "iopub.status.busy": "2025-02-06T04:32:48.972714Z",
     "iopub.status.idle": "2025-02-06T04:32:49.016207Z",
     "shell.execute_reply": "2025-02-06T04:32:49.014956Z"
    },
    "id": "3bd40d44-080f-4e49-b0c2-160dedc3c4df",
    "papermill": {
     "duration": 0.057418,
     "end_time": "2025-02-06T04:32:49.018284",
     "exception": false,
     "start_time": "2025-02-06T04:32:48.960866",
     "status": "completed"
    },
    "tags": []
   },
   "outputs": [],
   "source": [
    "# RUN THIS CELL TO IMPORT YOUR DATA.\n",
    "\n",
    "### YOUR CODE HERE ###\n",
    "companies = pd.read_csv('/kaggle/input/google-adv-data-analytics-eda-datasets/3_Unicorn_Companies.csv')"
   ]
  },
  {
   "cell_type": "markdown",
   "id": "2a30e98e",
   "metadata": {
    "id": "lXPOJ3LO-v7J",
    "jp-MarkdownHeadingCollapsed": true,
    "papermill": {
     "duration": 0.010866,
     "end_time": "2025-02-06T04:32:49.040935",
     "exception": false,
     "start_time": "2025-02-06T04:32:49.030069",
     "status": "completed"
    },
    "tags": []
   },
   "source": [
    "<details>\n",
    "  <summary><h4><strong>Hint 1</strong></h4></summary>\n",
    "\n",
    "Refer to what you learned about [loading data](https://www.coursera.org/learn/go-beyond-the-numbers-translate-data-into-insight/supplement/MdTG2/reference-guide-import-datasets-using-python) in Python.\n",
    "\n",
    "</details>"
   ]
  },
  {
   "cell_type": "markdown",
   "id": "3124ee56",
   "metadata": {
    "id": "O5TEL8Ty-v7L",
    "jp-MarkdownHeadingCollapsed": true,
    "papermill": {
     "duration": 0.010633,
     "end_time": "2025-02-06T04:32:49.062578",
     "exception": false,
     "start_time": "2025-02-06T04:32:49.051945",
     "status": "completed"
    },
    "tags": []
   },
   "source": [
    "<details>\n",
    "  <summary><h4><strong>Hint 2</strong></h4></summary>\n",
    "\n",
    "Use the function in the `pandas` library that allows you to read data from a csv file and load the data into a DataFrame.\n",
    " \n",
    "\n",
    "</details>"
   ]
  },
  {
   "cell_type": "markdown",
   "id": "ab884522",
   "metadata": {
    "id": "kEx2SsH2-v7M",
    "jp-MarkdownHeadingCollapsed": true,
    "papermill": {
     "duration": 0.010752,
     "end_time": "2025-02-06T04:32:49.084112",
     "exception": false,
     "start_time": "2025-02-06T04:32:49.073360",
     "status": "completed"
    },
    "tags": []
   },
   "source": [
    "<details>\n",
    "  <summary><h4><strong>Hint 3</strong></h4></summary>\n",
    "\n",
    "Use the `read_csv()` function from the `pandas` library. \n",
    "\n",
    "</details>"
   ]
  },
  {
   "cell_type": "markdown",
   "id": "215f9dec",
   "metadata": {
    "id": "95bf39c9-d05c-4324-a40b-bc692607b61b",
    "papermill": {
     "duration": 0.010441,
     "end_time": "2025-02-06T04:32:49.105438",
     "exception": false,
     "start_time": "2025-02-06T04:32:49.094997",
     "status": "completed"
    },
    "tags": []
   },
   "source": [
    "## Step 2: Data exploration"
   ]
  },
  {
   "cell_type": "markdown",
   "id": "a7a466f9",
   "metadata": {
    "id": "26561614-8e9b-4840-8dbf-b50131ae5314",
    "papermill": {
     "duration": 0.010613,
     "end_time": "2025-02-06T04:32:49.126928",
     "exception": false,
     "start_time": "2025-02-06T04:32:49.116315",
     "status": "completed"
    },
    "tags": []
   },
   "source": [
    "### Display the first 10 rows of the data\n",
    "\n",
    "Next, explore the dataset and answer questions to guide your exploration and analysis of the data. To begin, display the first 10 rows of the data to get an understanding of how the dataset is structured."
   ]
  },
  {
   "cell_type": "code",
   "execution_count": 3,
   "id": "8d4f4912",
   "metadata": {
    "execution": {
     "iopub.execute_input": "2025-02-06T04:32:49.150783Z",
     "iopub.status.busy": "2025-02-06T04:32:49.150356Z",
     "iopub.status.idle": "2025-02-06T04:32:49.180390Z",
     "shell.execute_reply": "2025-02-06T04:32:49.178944Z"
    },
    "id": "ad5210a5-7a64-4991-b004-de818cfaf506",
    "papermill": {
     "duration": 0.044055,
     "end_time": "2025-02-06T04:32:49.182367",
     "exception": false,
     "start_time": "2025-02-06T04:32:49.138312",
     "status": "completed"
    },
    "tags": []
   },
   "outputs": [
    {
     "data": {
      "text/html": [
       "<div>\n",
       "<style scoped>\n",
       "    .dataframe tbody tr th:only-of-type {\n",
       "        vertical-align: middle;\n",
       "    }\n",
       "\n",
       "    .dataframe tbody tr th {\n",
       "        vertical-align: top;\n",
       "    }\n",
       "\n",
       "    .dataframe thead th {\n",
       "        text-align: right;\n",
       "    }\n",
       "</style>\n",
       "<table border=\"1\" class=\"dataframe\">\n",
       "  <thead>\n",
       "    <tr style=\"text-align: right;\">\n",
       "      <th></th>\n",
       "      <th>Company</th>\n",
       "      <th>Valuation</th>\n",
       "      <th>Date Joined</th>\n",
       "      <th>Industry</th>\n",
       "      <th>City</th>\n",
       "      <th>Country/Region</th>\n",
       "      <th>Continent</th>\n",
       "      <th>Year Founded</th>\n",
       "      <th>Funding</th>\n",
       "      <th>Select Investors</th>\n",
       "    </tr>\n",
       "  </thead>\n",
       "  <tbody>\n",
       "    <tr>\n",
       "      <th>0</th>\n",
       "      <td>Bytedance</td>\n",
       "      <td>$180B</td>\n",
       "      <td>4/7/17</td>\n",
       "      <td>Artificial intelligence</td>\n",
       "      <td>Beijing</td>\n",
       "      <td>China</td>\n",
       "      <td>Asia</td>\n",
       "      <td>2012</td>\n",
       "      <td>$8B</td>\n",
       "      <td>Sequoia Capital China, SIG Asia Investments, S...</td>\n",
       "    </tr>\n",
       "    <tr>\n",
       "      <th>1</th>\n",
       "      <td>SpaceX</td>\n",
       "      <td>$100B</td>\n",
       "      <td>12/1/12</td>\n",
       "      <td>Other</td>\n",
       "      <td>Hawthorne</td>\n",
       "      <td>United States</td>\n",
       "      <td>North America</td>\n",
       "      <td>2002</td>\n",
       "      <td>$7B</td>\n",
       "      <td>Founders Fund, Draper Fisher Jurvetson, Rothen...</td>\n",
       "    </tr>\n",
       "    <tr>\n",
       "      <th>2</th>\n",
       "      <td>SHEIN</td>\n",
       "      <td>$100B</td>\n",
       "      <td>7/3/18</td>\n",
       "      <td>E-commerce &amp; direct-to-consumer</td>\n",
       "      <td>Shenzhen</td>\n",
       "      <td>China</td>\n",
       "      <td>Asia</td>\n",
       "      <td>2008</td>\n",
       "      <td>$2B</td>\n",
       "      <td>Tiger Global Management, Sequoia Capital China...</td>\n",
       "    </tr>\n",
       "    <tr>\n",
       "      <th>3</th>\n",
       "      <td>Stripe</td>\n",
       "      <td>$95B</td>\n",
       "      <td>1/23/14</td>\n",
       "      <td>Fintech</td>\n",
       "      <td>San Francisco</td>\n",
       "      <td>United States</td>\n",
       "      <td>North America</td>\n",
       "      <td>2010</td>\n",
       "      <td>$2B</td>\n",
       "      <td>Khosla Ventures, LowercaseCapital, capitalG</td>\n",
       "    </tr>\n",
       "    <tr>\n",
       "      <th>4</th>\n",
       "      <td>Klarna</td>\n",
       "      <td>$46B</td>\n",
       "      <td>12/12/11</td>\n",
       "      <td>Fintech</td>\n",
       "      <td>Stockholm</td>\n",
       "      <td>Sweden</td>\n",
       "      <td>Europe</td>\n",
       "      <td>2005</td>\n",
       "      <td>$4B</td>\n",
       "      <td>Institutional Venture Partners, Sequoia Capita...</td>\n",
       "    </tr>\n",
       "    <tr>\n",
       "      <th>5</th>\n",
       "      <td>Canva</td>\n",
       "      <td>$40B</td>\n",
       "      <td>1/8/18</td>\n",
       "      <td>Internet software &amp; services</td>\n",
       "      <td>Surry Hills</td>\n",
       "      <td>Australia</td>\n",
       "      <td>Oceania</td>\n",
       "      <td>2012</td>\n",
       "      <td>$572M</td>\n",
       "      <td>Sequoia Capital China, Blackbird Ventures, Mat...</td>\n",
       "    </tr>\n",
       "    <tr>\n",
       "      <th>6</th>\n",
       "      <td>Checkout.com</td>\n",
       "      <td>$40B</td>\n",
       "      <td>5/2/19</td>\n",
       "      <td>Fintech</td>\n",
       "      <td>London</td>\n",
       "      <td>United Kingdom</td>\n",
       "      <td>Europe</td>\n",
       "      <td>2012</td>\n",
       "      <td>$2B</td>\n",
       "      <td>Tiger Global Management, Insight Partners, DST...</td>\n",
       "    </tr>\n",
       "    <tr>\n",
       "      <th>7</th>\n",
       "      <td>Instacart</td>\n",
       "      <td>$39B</td>\n",
       "      <td>12/30/14</td>\n",
       "      <td>Supply chain, logistics, &amp; delivery</td>\n",
       "      <td>San Francisco</td>\n",
       "      <td>United States</td>\n",
       "      <td>North America</td>\n",
       "      <td>2012</td>\n",
       "      <td>$3B</td>\n",
       "      <td>Khosla Ventures, Kleiner Perkins Caufield &amp; By...</td>\n",
       "    </tr>\n",
       "    <tr>\n",
       "      <th>8</th>\n",
       "      <td>JUUL Labs</td>\n",
       "      <td>$38B</td>\n",
       "      <td>12/20/17</td>\n",
       "      <td>Consumer &amp; retail</td>\n",
       "      <td>San Francisco</td>\n",
       "      <td>United States</td>\n",
       "      <td>North America</td>\n",
       "      <td>2015</td>\n",
       "      <td>$14B</td>\n",
       "      <td>Tiger Global Management</td>\n",
       "    </tr>\n",
       "    <tr>\n",
       "      <th>9</th>\n",
       "      <td>Databricks</td>\n",
       "      <td>$38B</td>\n",
       "      <td>2/5/19</td>\n",
       "      <td>Data management &amp; analytics</td>\n",
       "      <td>San Francisco</td>\n",
       "      <td>United States</td>\n",
       "      <td>North America</td>\n",
       "      <td>2013</td>\n",
       "      <td>$3B</td>\n",
       "      <td>Andreessen Horowitz, New Enterprise Associates...</td>\n",
       "    </tr>\n",
       "  </tbody>\n",
       "</table>\n",
       "</div>"
      ],
      "text/plain": [
       "        Company Valuation Date Joined                             Industry  \\\n",
       "0     Bytedance     $180B      4/7/17              Artificial intelligence   \n",
       "1        SpaceX     $100B     12/1/12                                Other   \n",
       "2         SHEIN     $100B      7/3/18      E-commerce & direct-to-consumer   \n",
       "3        Stripe      $95B     1/23/14                              Fintech   \n",
       "4        Klarna      $46B    12/12/11                              Fintech   \n",
       "5         Canva      $40B      1/8/18         Internet software & services   \n",
       "6  Checkout.com      $40B      5/2/19                              Fintech   \n",
       "7     Instacart      $39B    12/30/14  Supply chain, logistics, & delivery   \n",
       "8     JUUL Labs      $38B    12/20/17                    Consumer & retail   \n",
       "9    Databricks      $38B      2/5/19          Data management & analytics   \n",
       "\n",
       "            City  Country/Region      Continent  Year Founded Funding  \\\n",
       "0        Beijing           China           Asia          2012     $8B   \n",
       "1      Hawthorne   United States  North America          2002     $7B   \n",
       "2       Shenzhen           China           Asia          2008     $2B   \n",
       "3  San Francisco   United States  North America          2010     $2B   \n",
       "4      Stockholm          Sweden         Europe          2005     $4B   \n",
       "5    Surry Hills       Australia        Oceania          2012   $572M   \n",
       "6         London  United Kingdom         Europe          2012     $2B   \n",
       "7  San Francisco   United States  North America          2012     $3B   \n",
       "8  San Francisco   United States  North America          2015    $14B   \n",
       "9  San Francisco   United States  North America          2013     $3B   \n",
       "\n",
       "                                    Select Investors  \n",
       "0  Sequoia Capital China, SIG Asia Investments, S...  \n",
       "1  Founders Fund, Draper Fisher Jurvetson, Rothen...  \n",
       "2  Tiger Global Management, Sequoia Capital China...  \n",
       "3        Khosla Ventures, LowercaseCapital, capitalG  \n",
       "4  Institutional Venture Partners, Sequoia Capita...  \n",
       "5  Sequoia Capital China, Blackbird Ventures, Mat...  \n",
       "6  Tiger Global Management, Insight Partners, DST...  \n",
       "7  Khosla Ventures, Kleiner Perkins Caufield & By...  \n",
       "8                            Tiger Global Management  \n",
       "9  Andreessen Horowitz, New Enterprise Associates...  "
      ]
     },
     "execution_count": 3,
     "metadata": {},
     "output_type": "execute_result"
    }
   ],
   "source": [
    "# Display the first 10 rows of the data\n",
    "\n",
    "### YOUR CODE HERE ###\n",
    "companies.head(10)"
   ]
  },
  {
   "cell_type": "markdown",
   "id": "6eaf4cc2",
   "metadata": {
    "id": "49881dfd-4532-424f-9729-f5378d984df0",
    "jp-MarkdownHeadingCollapsed": true,
    "papermill": {
     "duration": 0.011635,
     "end_time": "2025-02-06T04:32:49.205491",
     "exception": false,
     "start_time": "2025-02-06T04:32:49.193856",
     "status": "completed"
    },
    "tags": []
   },
   "source": [
    "<details>\n",
    "  <summary><h4><strong>Hint 1</strong></h4></summary>\n",
    "\n",
    "Refer to [the content about exploratory data analysis in Python](https://www.coursera.org/learn/go-beyond-the-numbers-translate-data-into-insight/lecture/kfl9b/find-stories-using-the-six-exploratory-data-analysis-practices).\n",
    "\n",
    "</details>"
   ]
  },
  {
   "cell_type": "markdown",
   "id": "d0b57e41",
   "metadata": {
    "id": "k2QxFOi9HW1Q",
    "jp-MarkdownHeadingCollapsed": true,
    "papermill": {
     "duration": 0.011855,
     "end_time": "2025-02-06T04:32:49.229342",
     "exception": false,
     "start_time": "2025-02-06T04:32:49.217487",
     "status": "completed"
    },
    "tags": []
   },
   "source": [
    "<details>\n",
    "  <summary><h4><strong>Hint 2</strong></h4></summary>\n",
    "\n",
    "Use the function in the `pandas` library that allows you to get a specific number of rows from the top of a DataFrame.\n",
    " \n",
    "\n",
    "</details>"
   ]
  },
  {
   "cell_type": "markdown",
   "id": "51822de5",
   "metadata": {
    "id": "ptkclWFzHjHv",
    "jp-MarkdownHeadingCollapsed": true,
    "papermill": {
     "duration": 0.011202,
     "end_time": "2025-02-06T04:32:49.253312",
     "exception": false,
     "start_time": "2025-02-06T04:32:49.242110",
     "status": "completed"
    },
    "tags": []
   },
   "source": [
    "<details>\n",
    "  <summary><h4><strong>Hint 3</strong></h4></summary>\n",
    "\n",
    "Use the `head()` function from the `pandas` library. \n",
    "\n",
    "</details>"
   ]
  },
  {
   "cell_type": "markdown",
   "id": "3bad28c5",
   "metadata": {
    "id": "fb45ed17-5e22-4d48-9750-130a8586bbf9",
    "papermill": {
     "duration": 0.011051,
     "end_time": "2025-02-06T04:32:49.276310",
     "exception": false,
     "start_time": "2025-02-06T04:32:49.265259",
     "status": "completed"
    },
    "tags": []
   },
   "source": [
    "**Question:** What do you think the \"Date Joined\" column represents?"
   ]
  },
  {
   "cell_type": "markdown",
   "id": "1692c68e",
   "metadata": {
    "id": "EvIbtmjalQHF",
    "papermill": {
     "duration": 0.010785,
     "end_time": "2025-02-06T04:32:49.298793",
     "exception": false,
     "start_time": "2025-02-06T04:32:49.288008",
     "status": "completed"
    },
    "tags": []
   },
   "source": [
    "* the date when the company went public"
   ]
  },
  {
   "cell_type": "markdown",
   "id": "973a71e8",
   "metadata": {
    "id": "46e7fce4-b8dc-4f53-9f5f-a7d7fdfe0831",
    "papermill": {
     "duration": 0.011325,
     "end_time": "2025-02-06T04:32:49.321337",
     "exception": false,
     "start_time": "2025-02-06T04:32:49.310012",
     "status": "completed"
    },
    "tags": []
   },
   "source": [
    "**Question:** What do you think the \"Select Investors\" column represents?"
   ]
  },
  {
   "cell_type": "markdown",
   "id": "54ee9ec2",
   "metadata": {
    "id": "1sdw8O-PlQ19",
    "papermill": {
     "duration": 0.011745,
     "end_time": "2025-02-06T04:32:49.344358",
     "exception": false,
     "start_time": "2025-02-06T04:32:49.332613",
     "status": "completed"
    },
    "tags": []
   },
   "source": [
    "* important investors"
   ]
  },
  {
   "cell_type": "markdown",
   "id": "20586824",
   "metadata": {
    "id": "6d423621-c14b-4987-a76d-feee76046144",
    "papermill": {
     "duration": 0.010986,
     "end_time": "2025-02-06T04:32:49.366778",
     "exception": false,
     "start_time": "2025-02-06T04:32:49.355792",
     "status": "completed"
    },
    "tags": []
   },
   "source": [
    "### Assess the size of the dataset\n",
    "\n",
    "Get a sense of how large the dataset is. The `size` property that DataFrames have can help."
   ]
  },
  {
   "cell_type": "code",
   "execution_count": 4,
   "id": "23c7c580",
   "metadata": {
    "execution": {
     "iopub.execute_input": "2025-02-06T04:32:49.391833Z",
     "iopub.status.busy": "2025-02-06T04:32:49.391447Z",
     "iopub.status.idle": "2025-02-06T04:32:49.399269Z",
     "shell.execute_reply": "2025-02-06T04:32:49.398103Z"
    },
    "id": "1856c3c8-dd7e-4b0f-8e30-06e8ed6b9885",
    "papermill": {
     "duration": 0.022048,
     "end_time": "2025-02-06T04:32:49.400956",
     "exception": false,
     "start_time": "2025-02-06T04:32:49.378908",
     "status": "completed"
    },
    "tags": []
   },
   "outputs": [
    {
     "data": {
      "text/plain": [
       "10740"
      ]
     },
     "execution_count": 4,
     "metadata": {},
     "output_type": "execute_result"
    }
   ],
   "source": [
    "# How large the dataset is\n",
    "\n",
    "### YOUR CODE HERE ###\n",
    "companies.size"
   ]
  },
  {
   "cell_type": "markdown",
   "id": "a6dc6547",
   "metadata": {
    "id": "a1188994-353a-466e-884c-e7b770fa03ac",
    "jp-MarkdownHeadingCollapsed": true,
    "papermill": {
     "duration": 0.011195,
     "end_time": "2025-02-06T04:32:49.423671",
     "exception": false,
     "start_time": "2025-02-06T04:32:49.412476",
     "status": "completed"
    },
    "tags": []
   },
   "source": [
    "**Question:** What do you notice about the size of the dataset?"
   ]
  },
  {
   "cell_type": "markdown",
   "id": "95b80ea9",
   "metadata": {
    "id": "gLRHG7k6lPC2",
    "papermill": {
     "duration": 0.011046,
     "end_time": "2025-02-06T04:32:49.446426",
     "exception": false,
     "start_time": "2025-02-06T04:32:49.435380",
     "status": "completed"
    },
    "tags": []
   },
   "source": [
    "* it is quite big with ~10k units of info"
   ]
  },
  {
   "cell_type": "markdown",
   "id": "852475a2",
   "metadata": {
    "id": "e31095a6-5526-42d3-b1c0-b77c1f8b3852",
    "papermill": {
     "duration": 0.01285,
     "end_time": "2025-02-06T04:32:49.471283",
     "exception": false,
     "start_time": "2025-02-06T04:32:49.458433",
     "status": "completed"
    },
    "tags": []
   },
   "source": [
    "### Determine the shape of the dataset\n",
    "\n",
    "Identify the number of rows and columns in the dataset. The `shape` property that DataFrames have can help."
   ]
  },
  {
   "cell_type": "code",
   "execution_count": 5,
   "id": "2651934f",
   "metadata": {
    "execution": {
     "iopub.execute_input": "2025-02-06T04:32:49.495496Z",
     "iopub.status.busy": "2025-02-06T04:32:49.495086Z",
     "iopub.status.idle": "2025-02-06T04:32:49.501040Z",
     "shell.execute_reply": "2025-02-06T04:32:49.499949Z"
    },
    "id": "df3c71a1-2519-4c50-86c2-63902a534d27",
    "papermill": {
     "duration": 0.020034,
     "end_time": "2025-02-06T04:32:49.502758",
     "exception": false,
     "start_time": "2025-02-06T04:32:49.482724",
     "status": "completed"
    },
    "tags": []
   },
   "outputs": [
    {
     "data": {
      "text/plain": [
       "(1074, 10)"
      ]
     },
     "execution_count": 5,
     "metadata": {},
     "output_type": "execute_result"
    }
   ],
   "source": [
    "# Shape of the dataset\n",
    "\n",
    "### YOUR CODE HERE ###\n",
    "companies.shape"
   ]
  },
  {
   "cell_type": "markdown",
   "id": "5b319030",
   "metadata": {
    "id": "4c2998a8-f864-43eb-a2d5-64845ebc805c",
    "papermill": {
     "duration": 0.011121,
     "end_time": "2025-02-06T04:32:49.525760",
     "exception": false,
     "start_time": "2025-02-06T04:32:49.514639",
     "status": "completed"
    },
    "tags": []
   },
   "source": [
    "**Question:** What do you notice about the shape of the dataset?"
   ]
  },
  {
   "cell_type": "markdown",
   "id": "09137271",
   "metadata": {
    "id": "2D8Ix19xlOHv",
    "papermill": {
     "duration": 0.011574,
     "end_time": "2025-02-06T04:32:49.548951",
     "exception": false,
     "start_time": "2025-02-06T04:32:49.537377",
     "status": "completed"
    },
    "tags": []
   },
   "source": [
    "* 1074 rows and 10 columns\n",
    "* 2d dataset"
   ]
  },
  {
   "cell_type": "markdown",
   "id": "fcc5fb6f",
   "metadata": {
    "id": "b9c8ecb7-c202-4d0a-92ad-b6b6737bc167",
    "papermill": {
     "duration": 0.011889,
     "end_time": "2025-02-06T04:32:49.573458",
     "exception": false,
     "start_time": "2025-02-06T04:32:49.561569",
     "status": "completed"
    },
    "tags": []
   },
   "source": [
    "### Get basic information about the dataset\n",
    "\n",
    "To further understand what the dataset entails, get basic information about the dataset, including the data type of values in each column. There is more than one way to approach this task. In this instance, use the `info()` function from `pandas`."
   ]
  },
  {
   "cell_type": "code",
   "execution_count": 6,
   "id": "a36dbb0c",
   "metadata": {
    "execution": {
     "iopub.execute_input": "2025-02-06T04:32:49.597865Z",
     "iopub.status.busy": "2025-02-06T04:32:49.597468Z",
     "iopub.status.idle": "2025-02-06T04:32:49.622456Z",
     "shell.execute_reply": "2025-02-06T04:32:49.621066Z"
    },
    "id": "eedad8b8-ca45-430e-91d2-eff3ad66adaf",
    "papermill": {
     "duration": 0.039377,
     "end_time": "2025-02-06T04:32:49.624397",
     "exception": false,
     "start_time": "2025-02-06T04:32:49.585020",
     "status": "completed"
    },
    "tags": []
   },
   "outputs": [
    {
     "name": "stdout",
     "output_type": "stream",
     "text": [
      "<class 'pandas.core.frame.DataFrame'>\n",
      "RangeIndex: 1074 entries, 0 to 1073\n",
      "Data columns (total 10 columns):\n",
      " #   Column            Non-Null Count  Dtype \n",
      "---  ------            --------------  ----- \n",
      " 0   Company           1074 non-null   object\n",
      " 1   Valuation         1074 non-null   object\n",
      " 2   Date Joined       1074 non-null   object\n",
      " 3   Industry          1074 non-null   object\n",
      " 4   City              1058 non-null   object\n",
      " 5   Country/Region    1074 non-null   object\n",
      " 6   Continent         1074 non-null   object\n",
      " 7   Year Founded      1074 non-null   int64 \n",
      " 8   Funding           1074 non-null   object\n",
      " 9   Select Investors  1073 non-null   object\n",
      "dtypes: int64(1), object(9)\n",
      "memory usage: 84.0+ KB\n"
     ]
    }
   ],
   "source": [
    "# Get information\n",
    "\n",
    "### YOUR CODE HERE ###\n",
    "companies.info()"
   ]
  },
  {
   "cell_type": "markdown",
   "id": "705d49b7",
   "metadata": {
    "id": "bd6573bc-2adb-410e-a85c-d6d5886d51bf",
    "papermill": {
     "duration": 0.01127,
     "end_time": "2025-02-06T04:32:49.647859",
     "exception": false,
     "start_time": "2025-02-06T04:32:49.636589",
     "status": "completed"
    },
    "tags": []
   },
   "source": [
    "**Question:** What do you notice about the type of data in the `Year Founded` column? Refer to the output from using `info()` above. Knowing the data type of this variable is helpful because it indicates what types of analysis can be done with that variable, how it can be aggregated with other variables, and so on."
   ]
  },
  {
   "cell_type": "markdown",
   "id": "fd4a853e",
   "metadata": {
    "id": "z_zKTLpXlF3D",
    "papermill": {
     "duration": 0.011179,
     "end_time": "2025-02-06T04:32:49.670738",
     "exception": false,
     "start_time": "2025-02-06T04:32:49.659559",
     "status": "completed"
    },
    "tags": []
   },
   "source": [
    "* the year founded column is listed as int --> need to convert into date time"
   ]
  },
  {
   "cell_type": "markdown",
   "id": "ebd0867e",
   "metadata": {
    "id": "e6da795c-331b-4271-9825-103112cb08da",
    "papermill": {
     "duration": 0.011248,
     "end_time": "2025-02-06T04:32:49.694233",
     "exception": false,
     "start_time": "2025-02-06T04:32:49.682985",
     "status": "completed"
    },
    "tags": []
   },
   "source": [
    "**Question:** What do you notice about the type of data in the `Date Joined` column? Refer to the output from using `info()` above. Knowing the data type of this variable is helpful because it indicates what types of analysis can be done with that variable and how the variable can be transformed to suit specific tasks."
   ]
  },
  {
   "cell_type": "markdown",
   "id": "b29bda87",
   "metadata": {
    "id": "oS1P_JQNlMFQ",
    "papermill": {
     "duration": 0.011293,
     "end_time": "2025-02-06T04:32:49.717145",
     "exception": false,
     "start_time": "2025-02-06T04:32:49.705852",
     "status": "completed"
    },
    "tags": []
   },
   "source": [
    "* the date joined is listed as object dtype --> need to convert into date time"
   ]
  },
  {
   "cell_type": "markdown",
   "id": "9970adc2",
   "metadata": {
    "id": "XFkjw_Ke2Cjn",
    "papermill": {
     "duration": 0.011594,
     "end_time": "2025-02-06T04:32:49.740136",
     "exception": false,
     "start_time": "2025-02-06T04:32:49.728542",
     "status": "completed"
    },
    "tags": []
   },
   "source": [
    "## Step 3: Statistical tests"
   ]
  },
  {
   "cell_type": "markdown",
   "id": "4adafa9e",
   "metadata": {
    "id": "7dac147e-19e1-49e7-bd80-e122390c3a70",
    "papermill": {
     "duration": 0.011064,
     "end_time": "2025-02-06T04:32:49.762718",
     "exception": false,
     "start_time": "2025-02-06T04:32:49.751654",
     "status": "completed"
    },
    "tags": []
   },
   "source": [
    "### Find descriptive statistics\n",
    "\n",
    "Find descriptive statistics and structure your dataset. The `describe()` function from the `pandas` library can help. This function generates statistics for the numeric columns in a dataset. "
   ]
  },
  {
   "cell_type": "code",
   "execution_count": 7,
   "id": "df8f2572",
   "metadata": {
    "execution": {
     "iopub.execute_input": "2025-02-06T04:32:49.787035Z",
     "iopub.status.busy": "2025-02-06T04:32:49.786631Z",
     "iopub.status.idle": "2025-02-06T04:32:49.802059Z",
     "shell.execute_reply": "2025-02-06T04:32:49.800889Z"
    },
    "id": "13f1c1dd-5637-4726-8fa0-2fbd838e4afa",
    "papermill": {
     "duration": 0.029897,
     "end_time": "2025-02-06T04:32:49.804191",
     "exception": false,
     "start_time": "2025-02-06T04:32:49.774294",
     "status": "completed"
    },
    "tags": []
   },
   "outputs": [
    {
     "data": {
      "text/html": [
       "<div>\n",
       "<style scoped>\n",
       "    .dataframe tbody tr th:only-of-type {\n",
       "        vertical-align: middle;\n",
       "    }\n",
       "\n",
       "    .dataframe tbody tr th {\n",
       "        vertical-align: top;\n",
       "    }\n",
       "\n",
       "    .dataframe thead th {\n",
       "        text-align: right;\n",
       "    }\n",
       "</style>\n",
       "<table border=\"1\" class=\"dataframe\">\n",
       "  <thead>\n",
       "    <tr style=\"text-align: right;\">\n",
       "      <th></th>\n",
       "      <th>Year Founded</th>\n",
       "    </tr>\n",
       "  </thead>\n",
       "  <tbody>\n",
       "    <tr>\n",
       "      <th>count</th>\n",
       "      <td>1074.000000</td>\n",
       "    </tr>\n",
       "    <tr>\n",
       "      <th>mean</th>\n",
       "      <td>2012.895717</td>\n",
       "    </tr>\n",
       "    <tr>\n",
       "      <th>std</th>\n",
       "      <td>5.698573</td>\n",
       "    </tr>\n",
       "    <tr>\n",
       "      <th>min</th>\n",
       "      <td>1919.000000</td>\n",
       "    </tr>\n",
       "    <tr>\n",
       "      <th>25%</th>\n",
       "      <td>2011.000000</td>\n",
       "    </tr>\n",
       "    <tr>\n",
       "      <th>50%</th>\n",
       "      <td>2014.000000</td>\n",
       "    </tr>\n",
       "    <tr>\n",
       "      <th>75%</th>\n",
       "      <td>2016.000000</td>\n",
       "    </tr>\n",
       "    <tr>\n",
       "      <th>max</th>\n",
       "      <td>2021.000000</td>\n",
       "    </tr>\n",
       "  </tbody>\n",
       "</table>\n",
       "</div>"
      ],
      "text/plain": [
       "       Year Founded\n",
       "count   1074.000000\n",
       "mean    2012.895717\n",
       "std        5.698573\n",
       "min     1919.000000\n",
       "25%     2011.000000\n",
       "50%     2014.000000\n",
       "75%     2016.000000\n",
       "max     2021.000000"
      ]
     },
     "execution_count": 7,
     "metadata": {},
     "output_type": "execute_result"
    }
   ],
   "source": [
    "# Get descriptive statistics\n",
    "\n",
    "### YOUR CODE HERE ###\n",
    "companies.describe()"
   ]
  },
  {
   "cell_type": "markdown",
   "id": "0397c5fb",
   "metadata": {
    "id": "a70475eb-d3a6-42e4-8b71-a49b5a1aa0db",
    "papermill": {
     "duration": 0.011712,
     "end_time": "2025-02-06T04:32:49.828204",
     "exception": false,
     "start_time": "2025-02-06T04:32:49.816492",
     "status": "completed"
    },
    "tags": []
   },
   "source": [
    "**Question:** Based on the table of descriptive stats generated above, what do you notice about the minimum value in the `Year Founded` column? This is important to know because it helps you understand how early the entries in the data begin."
   ]
  },
  {
   "cell_type": "markdown",
   "id": "895cd4dc",
   "metadata": {
    "id": "KoM_YE7TlSx7",
    "papermill": {
     "duration": 0.011538,
     "end_time": "2025-02-06T04:32:49.851810",
     "exception": false,
     "start_time": "2025-02-06T04:32:49.840272",
     "status": "completed"
    },
    "tags": []
   },
   "source": [
    "* the earliest company in the given sample was founded in 1919"
   ]
  },
  {
   "cell_type": "markdown",
   "id": "859c8838",
   "metadata": {
    "id": "390764a7-961c-4ec7-ae11-38943d94b788",
    "papermill": {
     "duration": 0.011845,
     "end_time": "2025-02-06T04:32:49.875629",
     "exception": false,
     "start_time": "2025-02-06T04:32:49.863784",
     "status": "completed"
    },
    "tags": []
   },
   "source": [
    "**Question:** What do you notice about the maximum value in the `Year Founded` column? This is important to know because it helps you understand the most recent year captured by the data. "
   ]
  },
  {
   "cell_type": "markdown",
   "id": "d54dec22",
   "metadata": {
    "id": "7HQWuLNhZXTZ",
    "papermill": {
     "duration": 0.011622,
     "end_time": "2025-02-06T04:32:49.898945",
     "exception": false,
     "start_time": "2025-02-06T04:32:49.887323",
     "status": "completed"
    },
    "tags": []
   },
   "source": [
    "* the most recent founded company was founded in 2021"
   ]
  },
  {
   "cell_type": "markdown",
   "id": "40d03af0",
   "metadata": {
    "id": "94b53c7f-54d8-4d1a-ae07-7c28c2ab8f5b",
    "papermill": {
     "duration": 0.06864,
     "end_time": "2025-02-06T04:32:49.979308",
     "exception": false,
     "start_time": "2025-02-06T04:32:49.910668",
     "status": "completed"
    },
    "tags": []
   },
   "source": [
    "### Convert the `Date Joined` column to datetime\n",
    "\n",
    "Use the `to_datetime()` function from the `pandas` library  to convert the `Date Joined` column to datetime. This splits each value into year, month, and date components. This is an important step in data cleaning, as it makes the data in this column easier to use in tasks you may encounter. To name a few examples, you may need to compare \"date joined\" between companies or determine how long it took a company to become a unicorn. Having \"date joined\" in datetime form would help you complete such tasks."
   ]
  },
  {
   "cell_type": "code",
   "execution_count": 8,
   "id": "b145dc1f",
   "metadata": {
    "execution": {
     "iopub.execute_input": "2025-02-06T04:32:50.005032Z",
     "iopub.status.busy": "2025-02-06T04:32:50.004610Z",
     "iopub.status.idle": "2025-02-06T04:32:50.071935Z",
     "shell.execute_reply": "2025-02-06T04:32:50.070584Z"
    },
    "id": "afe607c8-9dd7-47c3-9fc8-88772f015e2b",
    "papermill": {
     "duration": 0.082812,
     "end_time": "2025-02-06T04:32:50.074034",
     "exception": false,
     "start_time": "2025-02-06T04:32:49.991222",
     "status": "completed"
    },
    "tags": []
   },
   "outputs": [
    {
     "name": "stderr",
     "output_type": "stream",
     "text": [
      "<ipython-input-8-4ff9468ba2ea>:5: UserWarning: Could not infer format, so each element will be parsed individually, falling back to `dateutil`. To ensure parsing is consistent and as-expected, please specify a format.\n",
      "  companies[\"Date Joined\"]= pd.to_datetime(companies[\"Date Joined\"])\n"
     ]
    }
   ],
   "source": [
    "# Step 1: Use pd.to_datetime() to convert Date Joined column to datetime \n",
    "# Step 2: Update the column with the converted values\n",
    "\n",
    "### YOUR CODE HERE ###\n",
    "companies[\"Date Joined\"]= pd.to_datetime(companies[\"Date Joined\"])"
   ]
  },
  {
   "cell_type": "code",
   "execution_count": 9,
   "id": "c024d7b2",
   "metadata": {
    "execution": {
     "iopub.execute_input": "2025-02-06T04:32:50.100520Z",
     "iopub.status.busy": "2025-02-06T04:32:50.100170Z",
     "iopub.status.idle": "2025-02-06T04:32:50.111340Z",
     "shell.execute_reply": "2025-02-06T04:32:50.109926Z"
    },
    "id": "SBg22N43bA17",
    "papermill": {
     "duration": 0.025875,
     "end_time": "2025-02-06T04:32:50.113204",
     "exception": false,
     "start_time": "2025-02-06T04:32:50.087329",
     "status": "completed"
    },
    "tags": []
   },
   "outputs": [
    {
     "name": "stdout",
     "output_type": "stream",
     "text": [
      "<class 'pandas.core.frame.DataFrame'>\n",
      "RangeIndex: 1074 entries, 0 to 1073\n",
      "Data columns (total 10 columns):\n",
      " #   Column            Non-Null Count  Dtype         \n",
      "---  ------            --------------  -----         \n",
      " 0   Company           1074 non-null   object        \n",
      " 1   Valuation         1074 non-null   object        \n",
      " 2   Date Joined       1074 non-null   datetime64[ns]\n",
      " 3   Industry          1074 non-null   object        \n",
      " 4   City              1058 non-null   object        \n",
      " 5   Country/Region    1074 non-null   object        \n",
      " 6   Continent         1074 non-null   object        \n",
      " 7   Year Founded      1074 non-null   int64         \n",
      " 8   Funding           1074 non-null   object        \n",
      " 9   Select Investors  1073 non-null   object        \n",
      "dtypes: datetime64[ns](1), int64(1), object(8)\n",
      "memory usage: 84.0+ KB\n"
     ]
    }
   ],
   "source": [
    "# Use .info() to confirm that the update actually took place\n",
    "\n",
    "### YOUR CODE HERE ###\n",
    "companies.info()"
   ]
  },
  {
   "cell_type": "markdown",
   "id": "f7ab0416",
   "metadata": {
    "id": "ae351a97-926e-40af-91e2-4bd12a5bf888",
    "papermill": {
     "duration": 0.012209,
     "end_time": "2025-02-06T04:32:50.137691",
     "exception": false,
     "start_time": "2025-02-06T04:32:50.125482",
     "status": "completed"
    },
    "tags": []
   },
   "source": [
    "### Create a `Year Joined` column\n",
    "\n",
    "It is common to encounter situations where you will need to compare the year joined with the year founded. The `Date Joined` column does not just have year—it has the year, month, and date. Extract the year component from the `Date Joined` column and add those year components into a new column to keep track of each company's year joined."
   ]
  },
  {
   "cell_type": "code",
   "execution_count": 10,
   "id": "4b54737e",
   "metadata": {
    "execution": {
     "iopub.execute_input": "2025-02-06T04:32:50.163017Z",
     "iopub.status.busy": "2025-02-06T04:32:50.162607Z",
     "iopub.status.idle": "2025-02-06T04:32:50.168601Z",
     "shell.execute_reply": "2025-02-06T04:32:50.167551Z"
    },
    "id": "7d8be21b-d625-4a8a-ad8b-a2e4ae7a2c4e",
    "papermill": {
     "duration": 0.020796,
     "end_time": "2025-02-06T04:32:50.170427",
     "exception": false,
     "start_time": "2025-02-06T04:32:50.149631",
     "status": "completed"
    },
    "tags": []
   },
   "outputs": [],
   "source": [
    "# Step 1: Use .dt.year to extract year component from Date Joined column\n",
    "# Step 2: Add the result as a new column named Year Joined to the DataFrame\n",
    "\n",
    "### YOUR CODE HERE ###\n",
    "companies[\"Year Joined\"] = companies[\"Date Joined\"].dt.year"
   ]
  },
  {
   "cell_type": "code",
   "execution_count": 11,
   "id": "c3517da0",
   "metadata": {
    "execution": {
     "iopub.execute_input": "2025-02-06T04:32:50.196203Z",
     "iopub.status.busy": "2025-02-06T04:32:50.195793Z",
     "iopub.status.idle": "2025-02-06T04:32:50.210700Z",
     "shell.execute_reply": "2025-02-06T04:32:50.209463Z"
    },
    "id": "eSycjkBTbQB4",
    "papermill": {
     "duration": 0.030039,
     "end_time": "2025-02-06T04:32:50.212890",
     "exception": false,
     "start_time": "2025-02-06T04:32:50.182851",
     "status": "completed"
    },
    "tags": []
   },
   "outputs": [
    {
     "data": {
      "text/html": [
       "<div>\n",
       "<style scoped>\n",
       "    .dataframe tbody tr th:only-of-type {\n",
       "        vertical-align: middle;\n",
       "    }\n",
       "\n",
       "    .dataframe tbody tr th {\n",
       "        vertical-align: top;\n",
       "    }\n",
       "\n",
       "    .dataframe thead th {\n",
       "        text-align: right;\n",
       "    }\n",
       "</style>\n",
       "<table border=\"1\" class=\"dataframe\">\n",
       "  <thead>\n",
       "    <tr style=\"text-align: right;\">\n",
       "      <th></th>\n",
       "      <th>Company</th>\n",
       "      <th>Valuation</th>\n",
       "      <th>Date Joined</th>\n",
       "      <th>Industry</th>\n",
       "      <th>City</th>\n",
       "      <th>Country/Region</th>\n",
       "      <th>Continent</th>\n",
       "      <th>Year Founded</th>\n",
       "      <th>Funding</th>\n",
       "      <th>Select Investors</th>\n",
       "      <th>Year Joined</th>\n",
       "    </tr>\n",
       "  </thead>\n",
       "  <tbody>\n",
       "    <tr>\n",
       "      <th>0</th>\n",
       "      <td>Bytedance</td>\n",
       "      <td>$180B</td>\n",
       "      <td>2017-04-07</td>\n",
       "      <td>Artificial intelligence</td>\n",
       "      <td>Beijing</td>\n",
       "      <td>China</td>\n",
       "      <td>Asia</td>\n",
       "      <td>2012</td>\n",
       "      <td>$8B</td>\n",
       "      <td>Sequoia Capital China, SIG Asia Investments, S...</td>\n",
       "      <td>2017</td>\n",
       "    </tr>\n",
       "    <tr>\n",
       "      <th>1</th>\n",
       "      <td>SpaceX</td>\n",
       "      <td>$100B</td>\n",
       "      <td>2012-12-01</td>\n",
       "      <td>Other</td>\n",
       "      <td>Hawthorne</td>\n",
       "      <td>United States</td>\n",
       "      <td>North America</td>\n",
       "      <td>2002</td>\n",
       "      <td>$7B</td>\n",
       "      <td>Founders Fund, Draper Fisher Jurvetson, Rothen...</td>\n",
       "      <td>2012</td>\n",
       "    </tr>\n",
       "    <tr>\n",
       "      <th>2</th>\n",
       "      <td>SHEIN</td>\n",
       "      <td>$100B</td>\n",
       "      <td>2018-07-03</td>\n",
       "      <td>E-commerce &amp; direct-to-consumer</td>\n",
       "      <td>Shenzhen</td>\n",
       "      <td>China</td>\n",
       "      <td>Asia</td>\n",
       "      <td>2008</td>\n",
       "      <td>$2B</td>\n",
       "      <td>Tiger Global Management, Sequoia Capital China...</td>\n",
       "      <td>2018</td>\n",
       "    </tr>\n",
       "    <tr>\n",
       "      <th>3</th>\n",
       "      <td>Stripe</td>\n",
       "      <td>$95B</td>\n",
       "      <td>2014-01-23</td>\n",
       "      <td>Fintech</td>\n",
       "      <td>San Francisco</td>\n",
       "      <td>United States</td>\n",
       "      <td>North America</td>\n",
       "      <td>2010</td>\n",
       "      <td>$2B</td>\n",
       "      <td>Khosla Ventures, LowercaseCapital, capitalG</td>\n",
       "      <td>2014</td>\n",
       "    </tr>\n",
       "    <tr>\n",
       "      <th>4</th>\n",
       "      <td>Klarna</td>\n",
       "      <td>$46B</td>\n",
       "      <td>2011-12-12</td>\n",
       "      <td>Fintech</td>\n",
       "      <td>Stockholm</td>\n",
       "      <td>Sweden</td>\n",
       "      <td>Europe</td>\n",
       "      <td>2005</td>\n",
       "      <td>$4B</td>\n",
       "      <td>Institutional Venture Partners, Sequoia Capita...</td>\n",
       "      <td>2011</td>\n",
       "    </tr>\n",
       "  </tbody>\n",
       "</table>\n",
       "</div>"
      ],
      "text/plain": [
       "     Company Valuation Date Joined                         Industry  \\\n",
       "0  Bytedance     $180B  2017-04-07          Artificial intelligence   \n",
       "1     SpaceX     $100B  2012-12-01                            Other   \n",
       "2      SHEIN     $100B  2018-07-03  E-commerce & direct-to-consumer   \n",
       "3     Stripe      $95B  2014-01-23                          Fintech   \n",
       "4     Klarna      $46B  2011-12-12                          Fintech   \n",
       "\n",
       "            City Country/Region      Continent  Year Founded Funding  \\\n",
       "0        Beijing          China           Asia          2012     $8B   \n",
       "1      Hawthorne  United States  North America          2002     $7B   \n",
       "2       Shenzhen          China           Asia          2008     $2B   \n",
       "3  San Francisco  United States  North America          2010     $2B   \n",
       "4      Stockholm         Sweden         Europe          2005     $4B   \n",
       "\n",
       "                                    Select Investors  Year Joined  \n",
       "0  Sequoia Capital China, SIG Asia Investments, S...         2017  \n",
       "1  Founders Fund, Draper Fisher Jurvetson, Rothen...         2012  \n",
       "2  Tiger Global Management, Sequoia Capital China...         2018  \n",
       "3        Khosla Ventures, LowercaseCapital, capitalG         2014  \n",
       "4  Institutional Venture Partners, Sequoia Capita...         2011  "
      ]
     },
     "execution_count": 11,
     "metadata": {},
     "output_type": "execute_result"
    }
   ],
   "source": [
    "# Use .head() to confirm that the new column did get added\n",
    "\n",
    "### YOUR CODE HERE ###\n",
    "companies.head()"
   ]
  },
  {
   "cell_type": "markdown",
   "id": "c15924d1",
   "metadata": {
    "id": "B4_yxUrQ2Yhp",
    "papermill": {
     "duration": 0.01218,
     "end_time": "2025-02-06T04:32:50.237622",
     "exception": false,
     "start_time": "2025-02-06T04:32:50.225442",
     "status": "completed"
    },
    "tags": []
   },
   "source": [
    "## Step 4: Results and evaluation\n"
   ]
  },
  {
   "cell_type": "markdown",
   "id": "0442b739",
   "metadata": {
    "id": "5a99bfd0-95e9-4ed3-a01a-2e430967f98e",
    "papermill": {
     "duration": 0.012859,
     "end_time": "2025-02-06T04:32:50.262704",
     "exception": false,
     "start_time": "2025-02-06T04:32:50.249845",
     "status": "completed"
    },
    "tags": []
   },
   "source": [
    "### Take a sample of the data\n",
    "\n",
    "It is not necessary to take a sample of the data in order to conduct the visualizations and EDA that follow. But you may encounter scenarios in the future where you will need to take a sample of the data due to time and resource limitations. For the purpose of developing your skills around sampling, take a sample of the data and work with that sample for the next steps of analysis you want to conduct. Use the `sample()` function for this task.\n",
    "\n",
    "- Use `sample()` with the `n` parameter set to `50` to randomly sample 50 unicorn companies from the data. Be sure to specify the `random_state` parameter to ensure reproducibility of your work. Save the result to a variable called `companies_sampled`."
   ]
  },
  {
   "cell_type": "code",
   "execution_count": 12,
   "id": "ea4bb43d",
   "metadata": {
    "execution": {
     "iopub.execute_input": "2025-02-06T04:32:50.289865Z",
     "iopub.status.busy": "2025-02-06T04:32:50.289453Z",
     "iopub.status.idle": "2025-02-06T04:32:50.297281Z",
     "shell.execute_reply": "2025-02-06T04:32:50.296076Z"
    },
    "id": "1e5df00e-d64f-417c-b7fc-311a960ecc8c",
    "papermill": {
     "duration": 0.023911,
     "end_time": "2025-02-06T04:32:50.299188",
     "exception": false,
     "start_time": "2025-02-06T04:32:50.275277",
     "status": "completed"
    },
    "tags": []
   },
   "outputs": [],
   "source": [
    "# Sample the data\n",
    "\n",
    "### YOUR CODE HERE ###\n",
    "companies_sampled = companies.sample(n=50, random_state=1)"
   ]
  },
  {
   "cell_type": "markdown",
   "id": "e6f15756",
   "metadata": {
    "id": "10beff64-16e0-464d-93f0-03ab61f7069b",
    "papermill": {
     "duration": 0.012962,
     "end_time": "2025-02-06T04:32:50.324743",
     "exception": false,
     "start_time": "2025-02-06T04:32:50.311781",
     "status": "completed"
    },
    "tags": []
   },
   "source": [
    "### Visualize the time it took companies to reach unicorn status\n",
    "\n",
    "Visualize the longest time it took companies to reach unicorn status for each industry represented in the sample. To create a bar plot to visualize this, use the `bar()` function from the `matplotlib.pyplot` module. You'll first need to prepare the data."
   ]
  },
  {
   "cell_type": "code",
   "execution_count": 13,
   "id": "c547a078",
   "metadata": {
    "execution": {
     "iopub.execute_input": "2025-02-06T04:32:50.350968Z",
     "iopub.status.busy": "2025-02-06T04:32:50.350570Z",
     "iopub.status.idle": "2025-02-06T04:32:50.375663Z",
     "shell.execute_reply": "2025-02-06T04:32:50.374731Z"
    },
    "papermill": {
     "duration": 0.040314,
     "end_time": "2025-02-06T04:32:50.377553",
     "exception": false,
     "start_time": "2025-02-06T04:32:50.337239",
     "status": "completed"
    },
    "tags": []
   },
   "outputs": [
    {
     "data": {
      "text/plain": [
       "Industry\n",
       "Consumer & retail                       2\n",
       "Auto & transportation                   3\n",
       "Hardware                                3\n",
       "Health                                  3\n",
       "Supply chain, logistics, & delivery     4\n",
       "Artificial intelligence                 5\n",
       "Other                                   8\n",
       "Edtech                                 10\n",
       "Mobile & telecommunications            10\n",
       "Fintech                                17\n",
       "Internet software & services           17\n",
       "E-commerce & direct-to-consumer        18\n",
       "Cybersecurity                          21\n",
       "Name: years_to_unicorn, dtype: int64"
      ]
     },
     "execution_count": 13,
     "metadata": {},
     "output_type": "execute_result"
    }
   ],
   "source": [
    "# Prepare data for plotting\n",
    "\n",
    "### YOUR CODE HERE ###\n",
    "companies_sampled['years_to_unicorn'] = companies_sampled[\"Year Joined\"]-companies_sampled[\"Year Founded\"]\n",
    "\n",
    "\n",
    "plot_companies = companies_sampled.groupby('Industry').max()['years_to_unicorn'].sort_values()\n",
    "plot_companies"
   ]
  },
  {
   "cell_type": "code",
   "execution_count": 14,
   "id": "57505942",
   "metadata": {
    "execution": {
     "iopub.execute_input": "2025-02-06T04:32:50.404088Z",
     "iopub.status.busy": "2025-02-06T04:32:50.403699Z",
     "iopub.status.idle": "2025-02-06T04:32:50.790181Z",
     "shell.execute_reply": "2025-02-06T04:32:50.789028Z"
    },
    "id": "1153ca76-f1e3-4fea-a2db-a5de23614abd",
    "papermill": {
     "duration": 0.402092,
     "end_time": "2025-02-06T04:32:50.792297",
     "exception": false,
     "start_time": "2025-02-06T04:32:50.390205",
     "status": "completed"
    },
    "tags": []
   },
   "outputs": [
    {
     "data": {
      "image/png": "[encoded data removed]",
      "text/plain": [
       "<Figure size 640x480 with 1 Axes>"
      ]
     },
     "metadata": {},
     "output_type": "display_data"
    }
   ],
   "source": [
    "# Create bar plot\n",
    "# with the various industries as the categories of the bars\n",
    "# and the time it took to reach unicorn status as the height of the bars\n",
    "\n",
    "### YOUR CODE HERE ###\n",
    "plt.bar(plot_companies.index, plot_companies)\n",
    "\n",
    "# Set title\n",
    "\n",
    "### YOUR CODE HERE ###\n",
    "plt.title('Bar plot of max years taken by a company in each industry to attain unicorn status SAMPLED')\n",
    "\n",
    "# Set x-axis label\n",
    "\n",
    "### YOUR CODE HERE ###\n",
    "plt.xlabel('Industry')\n",
    "\n",
    "# Set y-axis label\n",
    "\n",
    "### YOUR CODE HERE ###\n",
    "plt.ylabel('Number of years')\n",
    "\n",
    "# Rotate labels on the x-axis as a way to avoid overlap in the positions of the text\n",
    "\n",
    "### YOUR CODE HERE ###\n",
    "plt.xticks(rotation=30, horizontalalignment='right')\n",
    "\n",
    "# Display the plot\n",
    "plt.show()"
   ]
  },
  {
   "cell_type": "markdown",
   "id": "a0d1c1bb",
   "metadata": {
    "id": "BtgkB4fVudvo",
    "jp-MarkdownHeadingCollapsed": true,
    "papermill": {
     "duration": 0.013918,
     "end_time": "2025-02-06T04:32:50.820666",
     "exception": false,
     "start_time": "2025-02-06T04:32:50.806748",
     "status": "completed"
    },
    "tags": []
   },
   "source": [
    "<details>\n",
    "  <summary><h4><strong>Hint 1</strong></h4></summary>\n",
    "\n",
    "To prepare the data for modeling, begin by creating a column that represents the number of years it took each company to reach unicorn status. \n",
    "\n",
    "</details>"
   ]
  },
  {
   "cell_type": "markdown",
   "id": "07596dbf",
   "metadata": {
    "id": "bHCMc83Nudvq",
    "jp-MarkdownHeadingCollapsed": true,
    "papermill": {
     "duration": 0.013695,
     "end_time": "2025-02-06T04:32:50.848573",
     "exception": false,
     "start_time": "2025-02-06T04:32:50.834878",
     "status": "completed"
    },
    "tags": []
   },
   "source": [
    "<details>\n",
    "  <summary><h4><strong>Hint 2</strong></h4></summary>\n",
    "    \n",
    "To prepare the data for modeling, group the dataframe by industry and get the maximum value in the newly created column for each industry.\n",
    "\n",
    "</details>"
   ]
  },
  {
   "cell_type": "markdown",
   "id": "2f4b004b",
   "metadata": {
    "id": "ttH8ynAyudvr",
    "jp-MarkdownHeadingCollapsed": true,
    "papermill": {
     "duration": 0.013632,
     "end_time": "2025-02-06T04:32:50.876338",
     "exception": false,
     "start_time": "2025-02-06T04:32:50.862706",
     "status": "completed"
    },
    "tags": []
   },
   "source": [
    "<details>\n",
    "  <summary><h4><strong>Hint 3</strong></h4></summary>\n",
    "\n",
    "You can use the `plt.bar()` to create the bar plot, passing in the categories and heights of the bars.\n",
    "\n",
    "You can use `plt.title()`, `plt.xlabel()`, and `plt.ylabel()` to set the title, x-axis label, and y-axis label, respectively. \n",
    "\n",
    "You can use `plt.xticks()` to rotate labels on the x-axis of a plot. The parameters `rotation=45, horizontalalignment='right'` can be passed in to rotate the labels by 45 degrees and align the labels to the right. \n",
    "\n",
    "You can use `plt.show()` to display a plot.\n",
    "\n",
    "</details>"
   ]
  },
  {
   "cell_type": "markdown",
   "id": "59d60125",
   "metadata": {
    "id": "59a1254d-4c99-49a6-b8fa-8dbd26bff000",
    "papermill": {
     "duration": 0.013653,
     "end_time": "2025-02-06T04:32:50.904036",
     "exception": false,
     "start_time": "2025-02-06T04:32:50.890383",
     "status": "completed"
    },
    "tags": []
   },
   "source": [
    "**Question:** What do you observe from this bar plot?"
   ]
  },
  {
   "cell_type": "markdown",
   "id": "becb7a44",
   "metadata": {
    "id": "QNdABMI_lUdO",
    "papermill": {
     "duration": 0.013971,
     "end_time": "2025-02-06T04:32:50.932314",
     "exception": false,
     "start_time": "2025-02-06T04:32:50.918343",
     "status": "completed"
    },
    "tags": []
   },
   "source": [
    "* Cybersecurity firm had the highest number of time taken to attain unicorn status\n",
    "* Consumer & retail firm had the quickest growth to attain unicorn status"
   ]
  },
  {
   "cell_type": "markdown",
   "id": "27e5659c",
   "metadata": {
    "id": "95bc4742-40ff-4f02-ba94-b25f95094e54",
    "papermill": {
     "duration": 0.013825,
     "end_time": "2025-02-06T04:32:50.960132",
     "exception": false,
     "start_time": "2025-02-06T04:32:50.946307",
     "status": "completed"
    },
    "tags": []
   },
   "source": [
    "### Visualize the maximum unicorn company valuation per industry\n",
    "\n",
    "Visualize unicorn companies' maximum valuation for each industry represented in the sample. To create a bar plot to visualize this, use the `bar()` function from the `matplotlib.pyplot` module. Before plotting, create a new column that represents the companies' valuations as numbers (instead of strings, as they're currently represented). Then, use this new column to plot your data."
   ]
  },
  {
   "cell_type": "code",
   "execution_count": 15,
   "id": "6bd8c0cc",
   "metadata": {
    "execution": {
     "iopub.execute_input": "2025-02-06T04:32:50.989499Z",
     "iopub.status.busy": "2025-02-06T04:32:50.989106Z",
     "iopub.status.idle": "2025-02-06T04:32:51.007183Z",
     "shell.execute_reply": "2025-02-06T04:32:51.005953Z"
    },
    "papermill": {
     "duration": 0.034948,
     "end_time": "2025-02-06T04:32:51.009032",
     "exception": false,
     "start_time": "2025-02-06T04:32:50.974084",
     "status": "completed"
    },
    "tags": []
   },
   "outputs": [
    {
     "data": {
      "text/html": [
       "<div>\n",
       "<style scoped>\n",
       "    .dataframe tbody tr th:only-of-type {\n",
       "        vertical-align: middle;\n",
       "    }\n",
       "\n",
       "    .dataframe tbody tr th {\n",
       "        vertical-align: top;\n",
       "    }\n",
       "\n",
       "    .dataframe thead th {\n",
       "        text-align: right;\n",
       "    }\n",
       "</style>\n",
       "<table border=\"1\" class=\"dataframe\">\n",
       "  <thead>\n",
       "    <tr style=\"text-align: right;\">\n",
       "      <th></th>\n",
       "      <th>Company</th>\n",
       "      <th>Valuation</th>\n",
       "      <th>Date Joined</th>\n",
       "      <th>Industry</th>\n",
       "      <th>City</th>\n",
       "      <th>Country/Region</th>\n",
       "      <th>Continent</th>\n",
       "      <th>Year Founded</th>\n",
       "      <th>Funding</th>\n",
       "      <th>Select Investors</th>\n",
       "      <th>Year Joined</th>\n",
       "    </tr>\n",
       "  </thead>\n",
       "  <tbody>\n",
       "    <tr>\n",
       "      <th>0</th>\n",
       "      <td>Bytedance</td>\n",
       "      <td>$180B</td>\n",
       "      <td>2017-04-07</td>\n",
       "      <td>Artificial intelligence</td>\n",
       "      <td>Beijing</td>\n",
       "      <td>China</td>\n",
       "      <td>Asia</td>\n",
       "      <td>2012</td>\n",
       "      <td>$8B</td>\n",
       "      <td>Sequoia Capital China, SIG Asia Investments, S...</td>\n",
       "      <td>2017</td>\n",
       "    </tr>\n",
       "    <tr>\n",
       "      <th>1</th>\n",
       "      <td>SpaceX</td>\n",
       "      <td>$100B</td>\n",
       "      <td>2012-12-01</td>\n",
       "      <td>Other</td>\n",
       "      <td>Hawthorne</td>\n",
       "      <td>United States</td>\n",
       "      <td>North America</td>\n",
       "      <td>2002</td>\n",
       "      <td>$7B</td>\n",
       "      <td>Founders Fund, Draper Fisher Jurvetson, Rothen...</td>\n",
       "      <td>2012</td>\n",
       "    </tr>\n",
       "    <tr>\n",
       "      <th>2</th>\n",
       "      <td>SHEIN</td>\n",
       "      <td>$100B</td>\n",
       "      <td>2018-07-03</td>\n",
       "      <td>E-commerce &amp; direct-to-consumer</td>\n",
       "      <td>Shenzhen</td>\n",
       "      <td>China</td>\n",
       "      <td>Asia</td>\n",
       "      <td>2008</td>\n",
       "      <td>$2B</td>\n",
       "      <td>Tiger Global Management, Sequoia Capital China...</td>\n",
       "      <td>2018</td>\n",
       "    </tr>\n",
       "    <tr>\n",
       "      <th>3</th>\n",
       "      <td>Stripe</td>\n",
       "      <td>$95B</td>\n",
       "      <td>2014-01-23</td>\n",
       "      <td>Fintech</td>\n",
       "      <td>San Francisco</td>\n",
       "      <td>United States</td>\n",
       "      <td>North America</td>\n",
       "      <td>2010</td>\n",
       "      <td>$2B</td>\n",
       "      <td>Khosla Ventures, LowercaseCapital, capitalG</td>\n",
       "      <td>2014</td>\n",
       "    </tr>\n",
       "    <tr>\n",
       "      <th>4</th>\n",
       "      <td>Klarna</td>\n",
       "      <td>$46B</td>\n",
       "      <td>2011-12-12</td>\n",
       "      <td>Fintech</td>\n",
       "      <td>Stockholm</td>\n",
       "      <td>Sweden</td>\n",
       "      <td>Europe</td>\n",
       "      <td>2005</td>\n",
       "      <td>$4B</td>\n",
       "      <td>Institutional Venture Partners, Sequoia Capita...</td>\n",
       "      <td>2011</td>\n",
       "    </tr>\n",
       "    <tr>\n",
       "      <th>...</th>\n",
       "      <td>...</td>\n",
       "      <td>...</td>\n",
       "      <td>...</td>\n",
       "      <td>...</td>\n",
       "      <td>...</td>\n",
       "      <td>...</td>\n",
       "      <td>...</td>\n",
       "      <td>...</td>\n",
       "      <td>...</td>\n",
       "      <td>...</td>\n",
       "      <td>...</td>\n",
       "    </tr>\n",
       "    <tr>\n",
       "      <th>1069</th>\n",
       "      <td>Zhaogang</td>\n",
       "      <td>$1B</td>\n",
       "      <td>2017-06-29</td>\n",
       "      <td>E-commerce &amp; direct-to-consumer</td>\n",
       "      <td>Shanghai</td>\n",
       "      <td>China</td>\n",
       "      <td>Asia</td>\n",
       "      <td>2012</td>\n",
       "      <td>$379M</td>\n",
       "      <td>K2 Ventures, Matrix Partners China, IDG Capital</td>\n",
       "      <td>2017</td>\n",
       "    </tr>\n",
       "    <tr>\n",
       "      <th>1070</th>\n",
       "      <td>Zhuan Zhuan</td>\n",
       "      <td>$1B</td>\n",
       "      <td>2017-04-18</td>\n",
       "      <td>E-commerce &amp; direct-to-consumer</td>\n",
       "      <td>Beijing</td>\n",
       "      <td>China</td>\n",
       "      <td>Asia</td>\n",
       "      <td>2015</td>\n",
       "      <td>$990M</td>\n",
       "      <td>58.com, Tencent Holdings</td>\n",
       "      <td>2017</td>\n",
       "    </tr>\n",
       "    <tr>\n",
       "      <th>1071</th>\n",
       "      <td>Zihaiguo</td>\n",
       "      <td>$1B</td>\n",
       "      <td>2021-05-06</td>\n",
       "      <td>Consumer &amp; retail</td>\n",
       "      <td>Chongqing</td>\n",
       "      <td>China</td>\n",
       "      <td>Asia</td>\n",
       "      <td>2018</td>\n",
       "      <td>$80M</td>\n",
       "      <td>Xingwang Investment Management, China Capital ...</td>\n",
       "      <td>2021</td>\n",
       "    </tr>\n",
       "    <tr>\n",
       "      <th>1072</th>\n",
       "      <td>Zopa</td>\n",
       "      <td>$1B</td>\n",
       "      <td>2021-10-19</td>\n",
       "      <td>Fintech</td>\n",
       "      <td>London</td>\n",
       "      <td>United Kingdom</td>\n",
       "      <td>Europe</td>\n",
       "      <td>2005</td>\n",
       "      <td>$792M</td>\n",
       "      <td>IAG Capital Partners, Augmentum Fintech, North...</td>\n",
       "      <td>2021</td>\n",
       "    </tr>\n",
       "    <tr>\n",
       "      <th>1073</th>\n",
       "      <td>Zwift</td>\n",
       "      <td>$1B</td>\n",
       "      <td>2020-09-16</td>\n",
       "      <td>E-commerce &amp; direct-to-consumer</td>\n",
       "      <td>Long Beach</td>\n",
       "      <td>United States</td>\n",
       "      <td>North America</td>\n",
       "      <td>2014</td>\n",
       "      <td>$620M</td>\n",
       "      <td>Novator Partners, True, Causeway Media Partners</td>\n",
       "      <td>2020</td>\n",
       "    </tr>\n",
       "  </tbody>\n",
       "</table>\n",
       "<p>1074 rows × 11 columns</p>\n",
       "</div>"
      ],
      "text/plain": [
       "          Company Valuation Date Joined                         Industry  \\\n",
       "0       Bytedance     $180B  2017-04-07          Artificial intelligence   \n",
       "1          SpaceX     $100B  2012-12-01                            Other   \n",
       "2           SHEIN     $100B  2018-07-03  E-commerce & direct-to-consumer   \n",
       "3          Stripe      $95B  2014-01-23                          Fintech   \n",
       "4          Klarna      $46B  2011-12-12                          Fintech   \n",
       "...           ...       ...         ...                              ...   \n",
       "1069     Zhaogang       $1B  2017-06-29  E-commerce & direct-to-consumer   \n",
       "1070  Zhuan Zhuan       $1B  2017-04-18  E-commerce & direct-to-consumer   \n",
       "1071     Zihaiguo       $1B  2021-05-06                Consumer & retail   \n",
       "1072         Zopa       $1B  2021-10-19                          Fintech   \n",
       "1073        Zwift       $1B  2020-09-16  E-commerce & direct-to-consumer   \n",
       "\n",
       "               City  Country/Region      Continent  Year Founded Funding  \\\n",
       "0           Beijing           China           Asia          2012     $8B   \n",
       "1         Hawthorne   United States  North America          2002     $7B   \n",
       "2          Shenzhen           China           Asia          2008     $2B   \n",
       "3     San Francisco   United States  North America          2010     $2B   \n",
       "4         Stockholm          Sweden         Europe          2005     $4B   \n",
       "...             ...             ...            ...           ...     ...   \n",
       "1069       Shanghai           China           Asia          2012   $379M   \n",
       "1070        Beijing           China           Asia          2015   $990M   \n",
       "1071      Chongqing           China           Asia          2018    $80M   \n",
       "1072         London  United Kingdom         Europe          2005   $792M   \n",
       "1073     Long Beach   United States  North America          2014   $620M   \n",
       "\n",
       "                                       Select Investors  Year Joined  \n",
       "0     Sequoia Capital China, SIG Asia Investments, S...         2017  \n",
       "1     Founders Fund, Draper Fisher Jurvetson, Rothen...         2012  \n",
       "2     Tiger Global Management, Sequoia Capital China...         2018  \n",
       "3           Khosla Ventures, LowercaseCapital, capitalG         2014  \n",
       "4     Institutional Venture Partners, Sequoia Capita...         2011  \n",
       "...                                                 ...          ...  \n",
       "1069    K2 Ventures, Matrix Partners China, IDG Capital         2017  \n",
       "1070                           58.com, Tencent Holdings         2017  \n",
       "1071  Xingwang Investment Management, China Capital ...         2021  \n",
       "1072  IAG Capital Partners, Augmentum Fintech, North...         2021  \n",
       "1073    Novator Partners, True, Causeway Media Partners         2020  \n",
       "\n",
       "[1074 rows x 11 columns]"
      ]
     },
     "execution_count": 15,
     "metadata": {},
     "output_type": "execute_result"
    }
   ],
   "source": [
    "# Create a column representing company valuation as numeric data\n",
    "companies_sampled['valuation_billion'] = companies_sampled['Valuation'].str.replace('$','').str.replace('B','').astype('int64')\n",
    "companies"
   ]
  },
  {
   "cell_type": "code",
   "execution_count": 16,
   "id": "c31855d5",
   "metadata": {
    "execution": {
     "iopub.execute_input": "2025-02-06T04:32:51.041149Z",
     "iopub.status.busy": "2025-02-06T04:32:51.040723Z",
     "iopub.status.idle": "2025-02-06T04:32:51.049578Z",
     "shell.execute_reply": "2025-02-06T04:32:51.048417Z"
    },
    "papermill": {
     "duration": 0.02727,
     "end_time": "2025-02-06T04:32:51.051493",
     "exception": false,
     "start_time": "2025-02-06T04:32:51.024223",
     "status": "completed"
    },
    "tags": []
   },
   "outputs": [
    {
     "data": {
      "text/plain": [
       "Industry\n",
       "Consumer & retail                       1\n",
       "Mobile & telecommunications             1\n",
       "Cybersecurity                           2\n",
       "Other                                   3\n",
       "Auto & transportation                   4\n",
       "Edtech                                  4\n",
       "Hardware                                5\n",
       "Artificial intelligence                 7\n",
       "Health                                  8\n",
       "Fintech                                10\n",
       "Internet software & services           10\n",
       "Supply chain, logistics, & delivery    11\n",
       "E-commerce & direct-to-consumer        13\n",
       "Name: valuation_billion, dtype: int64"
      ]
     },
     "execution_count": 16,
     "metadata": {},
     "output_type": "execute_result"
    }
   ],
   "source": [
    "plot_companies_2 = companies_sampled.groupby('Industry')['valuation_billion'].max().sort_values()\n",
    "plot_companies_2"
   ]
  },
  {
   "cell_type": "code",
   "execution_count": 17,
   "id": "85715fe1",
   "metadata": {
    "execution": {
     "iopub.execute_input": "2025-02-06T04:32:51.082776Z",
     "iopub.status.busy": "2025-02-06T04:32:51.082411Z",
     "iopub.status.idle": "2025-02-06T04:32:51.353912Z",
     "shell.execute_reply": "2025-02-06T04:32:51.352573Z"
    },
    "id": "5ccf1d5e-877e-4e73-bba8-23875c72494d",
    "papermill": {
     "duration": 0.289259,
     "end_time": "2025-02-06T04:32:51.355972",
     "exception": false,
     "start_time": "2025-02-06T04:32:51.066713",
     "status": "completed"
    },
    "tags": []
   },
   "outputs": [
    {
     "data": {
      "image/png": "[encoded data removed]",
      "text/plain": [
       "<Figure size 640x480 with 1 Axes>"
      ]
     },
     "metadata": {},
     "output_type": "display_data"
    }
   ],
   "source": [
    "# Create bar plot\n",
    "# with the various industries as the categories of the bars\n",
    "# and the maximum valuation for each industry as the height of the bars\n",
    "\n",
    "### YOUR CODE HERE ###\n",
    "plt.bar(plot_companies_2.index, plot_companies_2)\n",
    "\n",
    "# Set title\n",
    "\n",
    "### YOUR CODE HERE ###\n",
    "plt.title('Bar plot of max company valuation for each industry SAMPLED')\n",
    "\n",
    "# Set x-axis label\n",
    "\n",
    "### YOUR CODE HERE ###\n",
    "plt.xlabel('Industry')\n",
    "\n",
    "# Set y-axis label\n",
    "\n",
    "### YOUR CODE HERE ###\n",
    "plt.ylabel('Valuation (in billions)')\n",
    "\n",
    "# Rotate labels on the x-axis as a way to avoid overlap in the positions of the text\n",
    "\n",
    "### YOUR CODE HERE ###\n",
    "plt.xticks(rotation=30, horizontalalignment='right')\n",
    "\n",
    "# Display the plot\n",
    "plt.show()"
   ]
  },
  {
   "cell_type": "markdown",
   "id": "a589ecbf",
   "metadata": {
    "id": "NnL6YrfFoA3G",
    "jp-MarkdownHeadingCollapsed": true,
    "papermill": {
     "duration": 0.015659,
     "end_time": "2025-02-06T04:32:51.388187",
     "exception": false,
     "start_time": "2025-02-06T04:32:51.372528",
     "status": "completed"
    },
    "tags": []
   },
   "source": [
    "<details>\n",
    "  <summary><h4><strong>Hint 1</strong></h4></summary>\n",
    "\n",
    "Repeat the process from the last task, only this time with different variables.\n",
    "</details>"
   ]
  },
  {
   "cell_type": "markdown",
   "id": "f9625414",
   "metadata": {
    "id": "bo8rC9dZoA3H",
    "jp-MarkdownHeadingCollapsed": true,
    "papermill": {
     "duration": 0.015584,
     "end_time": "2025-02-06T04:32:51.419717",
     "exception": false,
     "start_time": "2025-02-06T04:32:51.404133",
     "status": "completed"
    },
    "tags": []
   },
   "source": [
    "<details>\n",
    "  <summary><h4><strong>Hint 2</strong></h4></summary>\n",
    "\n",
    "Use the function in the `matplotlib.pyplot` module that allows you to create a bar plot, specifying the category and height for each bar. \n",
    "\n",
    "Use the functions in the `matplotlib.pyplot` module that allow you to set the title, x-axis label, and y-axis label of plots. In that module, there are also functions for rotating the labels on the x-axis and displaying the plot. \n",
    "\n",
    "</details>"
   ]
  },
  {
   "cell_type": "markdown",
   "id": "c4893afc",
   "metadata": {
    "id": "TkeTAsUooA3J",
    "jp-MarkdownHeadingCollapsed": true,
    "papermill": {
     "duration": 0.01575,
     "end_time": "2025-02-06T04:32:51.451716",
     "exception": false,
     "start_time": "2025-02-06T04:32:51.435966",
     "status": "completed"
    },
    "tags": []
   },
   "source": [
    "<details>\n",
    "  <summary><h4><strong>Hint 3</strong></h4></summary>\n",
    "\n",
    "Use the `plt.bar()` to create the bar plot, passing in the categories and heights of the bars.\n",
    "\n",
    "Use `plt.title()`, `plt.xlabel()`, and `plt.ylabel()` to set the title, x-axis label, and y-axis label, respectively. \n",
    "\n",
    "Use `plt.xticks()` to rotate labels on the x-axis of a plot. The parameters `rotation=45, horizontalalignment='right'` can be passed in to rotate the labels by 45 degrees and align the labels to the right. \n",
    "\n",
    "Use `plt.show()` to display a plot.\n",
    "\n",
    "</details>"
   ]
  },
  {
   "cell_type": "markdown",
   "id": "f7962d6c",
   "metadata": {
    "id": "441c0e4b-56bf-413c-9d40-abe1e5f13253",
    "papermill": {
     "duration": 0.017729,
     "end_time": "2025-02-06T04:32:51.486594",
     "exception": false,
     "start_time": "2025-02-06T04:32:51.468865",
     "status": "completed"
    },
    "tags": []
   },
   "source": [
    "**Question:** What do you observe from this bar plot? "
   ]
  },
  {
   "cell_type": "markdown",
   "id": "2e6f640f",
   "metadata": {
    "id": "p_XNHFiPlVvA",
    "papermill": {
     "duration": 0.016522,
     "end_time": "2025-02-06T04:32:51.519659",
     "exception": false,
     "start_time": "2025-02-06T04:32:51.503137",
     "status": "completed"
    },
    "tags": []
   },
   "source": [
    "* a firm from e-commerce & direct-to_consumer has the max valuation crossing 12B mark\n",
    "* a firm from consumer & retail even though grew quicker has the least max valuation"
   ]
  },
  {
   "cell_type": "markdown",
   "id": "74a5f4f3",
   "metadata": {
    "id": "c77e7f0f-d2b9-4464-8a7c-9575d1e1ef9f",
    "papermill": {
     "duration": 0.016269,
     "end_time": "2025-02-06T04:32:51.552206",
     "exception": false,
     "start_time": "2025-02-06T04:32:51.535937",
     "status": "completed"
    },
    "tags": []
   },
   "source": [
    "## Considerations"
   ]
  },
  {
   "cell_type": "markdown",
   "id": "4c94fecc",
   "metadata": {
    "id": "uPq1FOvCZI6w",
    "papermill": {
     "duration": 0.016265,
     "end_time": "2025-02-06T04:32:51.584812",
     "exception": false,
     "start_time": "2025-02-06T04:32:51.568547",
     "status": "completed"
    },
    "tags": []
   },
   "source": [
    "**What are some key takeaways that you learned from this lab?**"
   ]
  },
  {
   "cell_type": "markdown",
   "id": "192be337",
   "metadata": {
    "id": "nOPK-j3sZLsm",
    "papermill": {
     "duration": 0.01624,
     "end_time": "2025-02-06T04:32:51.617918",
     "exception": false,
     "start_time": "2025-02-06T04:32:51.601678",
     "status": "completed"
    },
    "tags": []
   },
   "source": [
    "* what are the usual steps and process done when performing EDA\n",
    "* how to construct plots in jupyter notebooks\n",
    "* how to use visualizations after grouping data together to gather initial findings"
   ]
  },
  {
   "cell_type": "markdown",
   "id": "a8d4cceb",
   "metadata": {
    "id": "d2NnpyO_ZL6x",
    "papermill": {
     "duration": 0.016269,
     "end_time": "2025-02-06T04:32:51.650543",
     "exception": false,
     "start_time": "2025-02-06T04:32:51.634274",
     "status": "completed"
    },
    "tags": []
   },
   "source": [
    "**What findings would you share with others?**"
   ]
  },
  {
   "cell_type": "markdown",
   "id": "94c40daf",
   "metadata": {
    "id": "goG0jEeQZOIr",
    "papermill": {
     "duration": 0.016022,
     "end_time": "2025-02-06T04:32:51.683299",
     "exception": false,
     "start_time": "2025-02-06T04:32:51.667277",
     "status": "completed"
    },
    "tags": []
   },
   "source": [
    "* visualizations\n",
    "* details about the companies growth to attain unicorn tier\n",
    "* details about the industries which has a company attaining max valuation and growth"
   ]
  },
  {
   "cell_type": "markdown",
   "id": "764e4b3a",
   "metadata": {
    "id": "TLioKMc0ZTZi",
    "papermill": {
     "duration": 0.016086,
     "end_time": "2025-02-06T04:32:51.717022",
     "exception": false,
     "start_time": "2025-02-06T04:32:51.700936",
     "status": "completed"
    },
    "tags": []
   },
   "source": [
    "**What recommendations would you share with stakeholders based on these findings?**"
   ]
  },
  {
   "cell_type": "markdown",
   "id": "334017ca",
   "metadata": {
    "id": "mVFm54BfZTv5",
    "papermill": {
     "duration": 0.016744,
     "end_time": "2025-02-06T04:32:51.750020",
     "exception": false,
     "start_time": "2025-02-06T04:32:51.733276",
     "status": "completed"
    },
    "tags": []
   },
   "source": [
    "* investigate further about the the quickly growing industries that perform well in the recent years"
   ]
  },
  {
   "cell_type": "markdown",
   "id": "e88998a0",
   "metadata": {
    "id": "R9sAADZgr-YI",
    "papermill": {
     "duration": 0.015638,
     "end_time": "2025-02-06T04:32:51.782056",
     "exception": false,
     "start_time": "2025-02-06T04:32:51.766418",
     "status": "completed"
    },
    "tags": []
   },
   "source": [
    "**References**\n",
    "\n",
    "Bhat, M.A. (2022, March). [*Unicorn Companies*](https://www.kaggle.com/datasets/mysarahmadbhat/unicorn-companies). \n",
    "\n"
   ]
  },
  {
   "cell_type": "markdown",
   "id": "b73d85ff",
   "metadata": {
    "papermill": {
     "duration": 0.015466,
     "end_time": "2025-02-06T04:32:51.813800",
     "exception": false,
     "start_time": "2025-02-06T04:32:51.798334",
     "status": "completed"
    },
    "tags": []
   },
   "source": [
    "**Congratulations!** You've completed this lab. However, you may not notice a green check mark next to this item on Coursera's platform. Please continue your progress regardless of the check mark. Just click on the \"save\" icon at the top of this notebook to ensure your work has been logged."
   ]
  }
 ],
 "metadata": {
  "colab": {
   "collapsed_sections": [],
   "name": "SR-005_Learner_Facing_Lab_Round4.ipynb",
   "provenance": [],
   "toc_visible": true
  },
  "kaggle": {
   "accelerator": "none",
   "dataSources": [
    {
     "datasetId": 6612279,
     "sourceId": 10675112,
     "sourceType": "datasetVersion"
    }
   ],
   "dockerImageVersionId": 30839,
   "isGpuEnabled": false,
   "isInternetEnabled": true,
   "language": "python",
   "sourceType": "notebook"
  },
  "kernelspec": {
   "display_name": "Python 3",
   "language": "python",
   "name": "python3"
  },
  "language_info": {
   "codemirror_mode": {
    "name": "ipython",
    "version": 3
   },
   "file_extension": ".py",
   "mimetype": "text/x-python",
   "name": "python",
   "nbconvert_exporter": "python",
   "pygments_lexer": "ipython3",
   "version": "3.10.12"
  },
  "papermill": {
   "default_parameters": {},
   "duration": 7.58628,
   "end_time": "2025-02-06T04:32:52.451202",
   "environment_variables": {},
   "exception": null,
   "input_path": "__notebook__.ipynb",
   "output_path": "__notebook__.ipynb",
   "parameters": {},
   "start_time": "2025-02-06T04:32:44.864922",
   "version": "2.6.0"
  },
  "toc-autonumbering": false,
  "toc-showtags": false
 },
 "nbformat": 4,
 "nbformat_minor": 5
}

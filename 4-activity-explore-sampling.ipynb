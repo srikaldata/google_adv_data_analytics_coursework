{
 "cells": [
  {
   "cell_type": "markdown",
   "id": "0ae298c7",
   "metadata": {
    "id": "9HYKQFUbTX8V",
    "papermill": {
     "duration": 0.007568,
     "end_time": "2025-02-08T06:08:56.087635",
     "exception": false,
     "start_time": "2025-02-08T06:08:56.080067",
     "status": "completed"
    },
    "tags": []
   },
   "source": [
    "# Activity: Explore sampling"
   ]
  },
  {
   "cell_type": "markdown",
   "id": "a6c0103a",
   "metadata": {
    "id": "ee31943b-274e-4c28-bce6-155cb6f4c334",
    "papermill": {
     "duration": 0.006476,
     "end_time": "2025-02-08T06:08:56.100869",
     "exception": false,
     "start_time": "2025-02-08T06:08:56.094393",
     "status": "completed"
    },
    "tags": []
   },
   "source": [
    "## Introduction\n",
    "In this activity, you will engage in effective sampling of a dataset in order to make it easier to analyze. As a data professional you will often work with extremely large datasets, and utilizing proper sampling techniques helps you improve your efficiency in this work. \n",
    "\n",
    "For this activity, you are a member of an analytics team for the Environmental Protection Agency. You are assigned to analyze data on air quality with respect to carbon monoxide—a major air pollutant—and report your findings. The data utilized in this activity includes information from over 200 sites, identified by their state name, county name, city name, and local site name. You will use effective sampling within this dataset. "
   ]
  },
  {
   "cell_type": "markdown",
   "id": "fbd186b6",
   "metadata": {
    "id": "4bb9630e-b940-4835-a389-d39def1fa848",
    "papermill": {
     "duration": 0.006474,
     "end_time": "2025-02-08T06:08:56.113907",
     "exception": false,
     "start_time": "2025-02-08T06:08:56.107433",
     "status": "completed"
    },
    "tags": []
   },
   "source": [
    "## Step 1: Imports"
   ]
  },
  {
   "cell_type": "markdown",
   "id": "cedcac01",
   "metadata": {
    "id": "bc180686-4ae2-47ea-a292-3588ac60a820",
    "papermill": {
     "duration": 0.006461,
     "end_time": "2025-02-08T06:08:56.127012",
     "exception": false,
     "start_time": "2025-02-08T06:08:56.120551",
     "status": "completed"
    },
    "tags": []
   },
   "source": [
    "### Import packages\n",
    "\n",
    "Import `pandas`,  `numpy`, `matplotlib`, `statsmodels`, and `scipy`. "
   ]
  },
  {
   "cell_type": "code",
   "execution_count": 1,
   "id": "36cc8414",
   "metadata": {
    "execution": {
     "iopub.execute_input": "2025-02-08T06:08:56.141666Z",
     "iopub.status.busy": "2025-02-08T06:08:56.141399Z",
     "iopub.status.idle": "2025-02-08T06:08:59.187649Z",
     "shell.execute_reply": "2025-02-08T06:08:59.186901Z"
    },
    "id": "8e7f1f2c-bbcc-4f3c-b927-b090ee8334c4",
    "papermill": {
     "duration": 3.055374,
     "end_time": "2025-02-08T06:08:59.189060",
     "exception": false,
     "start_time": "2025-02-08T06:08:56.133686",
     "status": "completed"
    },
    "tags": []
   },
   "outputs": [],
   "source": [
    "# Import libraries and packages\n",
    "\n",
    "### YOUR CODE HERE ###\n",
    "\n",
    "import numpy as np\n",
    "import pandas as pd\n",
    "import matplotlib.pyplot as plt\n",
    "import statsmodels.api as sm\n",
    "from scipy import stats"
   ]
  },
  {
   "cell_type": "markdown",
   "id": "b39e3191",
   "metadata": {
    "id": "7d29c6bd-f194-46bb-b794-56dc20130473",
    "papermill": {
     "duration": 0.00764,
     "end_time": "2025-02-08T06:08:59.204178",
     "exception": false,
     "start_time": "2025-02-08T06:08:59.196538",
     "status": "completed"
    },
    "tags": []
   },
   "source": [
    "### Load the dataset\n",
    "\n",
    "As shown in this cell, the dataset has been automatically loaded in for you. You do not need to download the .csv file, or provide more code, in order to access the dataset and proceed with this lab. Please continue with this activity by completing the following instructions."
   ]
  },
  {
   "cell_type": "code",
   "execution_count": 2,
   "id": "8a32484b",
   "metadata": {
    "execution": {
     "iopub.execute_input": "2025-02-08T06:08:59.219356Z",
     "iopub.status.busy": "2025-02-08T06:08:59.218964Z",
     "iopub.status.idle": "2025-02-08T06:08:59.241901Z",
     "shell.execute_reply": "2025-02-08T06:08:59.241150Z"
    },
    "id": "3bd40d44-080f-4e49-b0c2-160dedc3c4df",
    "papermill": {
     "duration": 0.0321,
     "end_time": "2025-02-08T06:08:59.243360",
     "exception": false,
     "start_time": "2025-02-08T06:08:59.211260",
     "status": "completed"
    },
    "tags": []
   },
   "outputs": [],
   "source": [
    "# RUN THIS CELL TO IMPORT YOUR DATA.\n",
    "\n",
    "### YOUR CODE HERE ###\n",
    "epa_data = pd.read_csv('/kaggle/input/google-adv-data-analytics-stats-datasets/4_c4_epa_air_quality.csv', index_col = 0)"
   ]
  },
  {
   "cell_type": "markdown",
   "id": "45edff15",
   "metadata": {
    "id": "49881dfd-4532-424f-9729-f5378d984df0",
    "jp-MarkdownHeadingCollapsed": true,
    "papermill": {
     "duration": 0.006798,
     "end_time": "2025-02-08T06:08:59.257761",
     "exception": false,
     "start_time": "2025-02-08T06:08:59.250963",
     "status": "completed"
    },
    "tags": []
   },
   "source": [
    "<details>\n",
    "  <summary><h4>Hint 1</h4></summary>\n",
    "\n",
    "Use the function in the `pandas` library that allows you to read in data from a csv file and load it into a DataFrame. \n",
    "\n",
    "</details>"
   ]
  },
  {
   "cell_type": "markdown",
   "id": "b9ce413f",
   "metadata": {
    "id": "ptkclWFzHjHv",
    "jp-MarkdownHeadingCollapsed": true,
    "papermill": {
     "duration": 0.007364,
     "end_time": "2025-02-08T06:08:59.272373",
     "exception": false,
     "start_time": "2025-02-08T06:08:59.265009",
     "status": "completed"
    },
    "tags": []
   },
   "source": [
    "<details>\n",
    "  <summary><h4>Hint 2</h4></summary>\n",
    "\n",
    "Use the `read_csv` function from the pandas `library`. Set the `index_col` parameter to `0` to read in the first column as an index (and to avoid `\"Unnamed: 0\"` appearing as a column in the resulting Dataframe).\n",
    "\n",
    "</details>"
   ]
  },
  {
   "cell_type": "markdown",
   "id": "deb44288",
   "metadata": {
    "id": "95bf39c9-d05c-4324-a40b-bc692607b61b",
    "papermill": {
     "duration": 0.006873,
     "end_time": "2025-02-08T06:08:59.286455",
     "exception": false,
     "start_time": "2025-02-08T06:08:59.279582",
     "status": "completed"
    },
    "tags": []
   },
   "source": [
    "## Step 2: Data exploration"
   ]
  },
  {
   "cell_type": "markdown",
   "id": "fc43b6f8",
   "metadata": {
    "id": "26561614-8e9b-4840-8dbf-b50131ae5314",
    "papermill": {
     "duration": 0.006996,
     "end_time": "2025-02-08T06:08:59.301017",
     "exception": false,
     "start_time": "2025-02-08T06:08:59.294021",
     "status": "completed"
    },
    "tags": []
   },
   "source": [
    "### Examine the data\n",
    "\n",
    "To understand how the dataset is structured, examine the first 10 rows of the data."
   ]
  },
  {
   "cell_type": "code",
   "execution_count": 3,
   "id": "13b782ad",
   "metadata": {
    "execution": {
     "iopub.execute_input": "2025-02-08T06:08:59.316365Z",
     "iopub.status.busy": "2025-02-08T06:08:59.316112Z",
     "iopub.status.idle": "2025-02-08T06:08:59.334738Z",
     "shell.execute_reply": "2025-02-08T06:08:59.334046Z"
    },
    "id": "ad5210a5-7a64-4991-b004-de818cfaf506",
    "papermill": {
     "duration": 0.027733,
     "end_time": "2025-02-08T06:08:59.335959",
     "exception": false,
     "start_time": "2025-02-08T06:08:59.308226",
     "status": "completed"
    },
    "tags": []
   },
   "outputs": [
    {
     "data": {
      "text/html": [
       "<div>\n",
       "<style scoped>\n",
       "    .dataframe tbody tr th:only-of-type {\n",
       "        vertical-align: middle;\n",
       "    }\n",
       "\n",
       "    .dataframe tbody tr th {\n",
       "        vertical-align: top;\n",
       "    }\n",
       "\n",
       "    .dataframe thead th {\n",
       "        text-align: right;\n",
       "    }\n",
       "</style>\n",
       "<table border=\"1\" class=\"dataframe\">\n",
       "  <thead>\n",
       "    <tr style=\"text-align: right;\">\n",
       "      <th></th>\n",
       "      <th>date_local</th>\n",
       "      <th>state_name</th>\n",
       "      <th>county_name</th>\n",
       "      <th>city_name</th>\n",
       "      <th>local_site_name</th>\n",
       "      <th>parameter_name</th>\n",
       "      <th>units_of_measure</th>\n",
       "      <th>arithmetic_mean</th>\n",
       "      <th>aqi</th>\n",
       "    </tr>\n",
       "  </thead>\n",
       "  <tbody>\n",
       "    <tr>\n",
       "      <th>0</th>\n",
       "      <td>2018-01-01</td>\n",
       "      <td>Arizona</td>\n",
       "      <td>Maricopa</td>\n",
       "      <td>Buckeye</td>\n",
       "      <td>BUCKEYE</td>\n",
       "      <td>Carbon monoxide</td>\n",
       "      <td>Parts per million</td>\n",
       "      <td>0.473684</td>\n",
       "      <td>7</td>\n",
       "    </tr>\n",
       "    <tr>\n",
       "      <th>1</th>\n",
       "      <td>2018-01-01</td>\n",
       "      <td>Ohio</td>\n",
       "      <td>Belmont</td>\n",
       "      <td>Shadyside</td>\n",
       "      <td>Shadyside</td>\n",
       "      <td>Carbon monoxide</td>\n",
       "      <td>Parts per million</td>\n",
       "      <td>0.263158</td>\n",
       "      <td>5</td>\n",
       "    </tr>\n",
       "    <tr>\n",
       "      <th>2</th>\n",
       "      <td>2018-01-01</td>\n",
       "      <td>Wyoming</td>\n",
       "      <td>Teton</td>\n",
       "      <td>Not in a city</td>\n",
       "      <td>Yellowstone National Park - Old Faithful Snow ...</td>\n",
       "      <td>Carbon monoxide</td>\n",
       "      <td>Parts per million</td>\n",
       "      <td>0.111111</td>\n",
       "      <td>2</td>\n",
       "    </tr>\n",
       "    <tr>\n",
       "      <th>3</th>\n",
       "      <td>2018-01-01</td>\n",
       "      <td>Pennsylvania</td>\n",
       "      <td>Philadelphia</td>\n",
       "      <td>Philadelphia</td>\n",
       "      <td>North East Waste (NEW)</td>\n",
       "      <td>Carbon monoxide</td>\n",
       "      <td>Parts per million</td>\n",
       "      <td>0.300000</td>\n",
       "      <td>3</td>\n",
       "    </tr>\n",
       "    <tr>\n",
       "      <th>4</th>\n",
       "      <td>2018-01-01</td>\n",
       "      <td>Iowa</td>\n",
       "      <td>Polk</td>\n",
       "      <td>Des Moines</td>\n",
       "      <td>CARPENTER</td>\n",
       "      <td>Carbon monoxide</td>\n",
       "      <td>Parts per million</td>\n",
       "      <td>0.215789</td>\n",
       "      <td>3</td>\n",
       "    </tr>\n",
       "    <tr>\n",
       "      <th>5</th>\n",
       "      <td>2018-01-01</td>\n",
       "      <td>Hawaii</td>\n",
       "      <td>Honolulu</td>\n",
       "      <td>Not in a city</td>\n",
       "      <td>Kapolei</td>\n",
       "      <td>Carbon monoxide</td>\n",
       "      <td>Parts per million</td>\n",
       "      <td>0.994737</td>\n",
       "      <td>14</td>\n",
       "    </tr>\n",
       "    <tr>\n",
       "      <th>6</th>\n",
       "      <td>2018-01-01</td>\n",
       "      <td>Hawaii</td>\n",
       "      <td>Honolulu</td>\n",
       "      <td>Not in a city</td>\n",
       "      <td>Kapolei</td>\n",
       "      <td>Carbon monoxide</td>\n",
       "      <td>Parts per million</td>\n",
       "      <td>0.200000</td>\n",
       "      <td>2</td>\n",
       "    </tr>\n",
       "    <tr>\n",
       "      <th>7</th>\n",
       "      <td>2018-01-01</td>\n",
       "      <td>Pennsylvania</td>\n",
       "      <td>Erie</td>\n",
       "      <td>Erie</td>\n",
       "      <td>NaN</td>\n",
       "      <td>Carbon monoxide</td>\n",
       "      <td>Parts per million</td>\n",
       "      <td>0.200000</td>\n",
       "      <td>2</td>\n",
       "    </tr>\n",
       "    <tr>\n",
       "      <th>8</th>\n",
       "      <td>2018-01-01</td>\n",
       "      <td>Hawaii</td>\n",
       "      <td>Honolulu</td>\n",
       "      <td>Honolulu</td>\n",
       "      <td>Honolulu</td>\n",
       "      <td>Carbon monoxide</td>\n",
       "      <td>Parts per million</td>\n",
       "      <td>0.400000</td>\n",
       "      <td>5</td>\n",
       "    </tr>\n",
       "    <tr>\n",
       "      <th>9</th>\n",
       "      <td>2018-01-01</td>\n",
       "      <td>Colorado</td>\n",
       "      <td>Larimer</td>\n",
       "      <td>Fort Collins</td>\n",
       "      <td>Fort Collins - CSU - S. Mason</td>\n",
       "      <td>Carbon monoxide</td>\n",
       "      <td>Parts per million</td>\n",
       "      <td>0.300000</td>\n",
       "      <td>6</td>\n",
       "    </tr>\n",
       "  </tbody>\n",
       "</table>\n",
       "</div>"
      ],
      "text/plain": [
       "   date_local    state_name   county_name      city_name  \\\n",
       "0  2018-01-01       Arizona      Maricopa        Buckeye   \n",
       "1  2018-01-01          Ohio       Belmont      Shadyside   \n",
       "2  2018-01-01       Wyoming         Teton  Not in a city   \n",
       "3  2018-01-01  Pennsylvania  Philadelphia   Philadelphia   \n",
       "4  2018-01-01          Iowa          Polk     Des Moines   \n",
       "5  2018-01-01        Hawaii      Honolulu  Not in a city   \n",
       "6  2018-01-01        Hawaii      Honolulu  Not in a city   \n",
       "7  2018-01-01  Pennsylvania          Erie           Erie   \n",
       "8  2018-01-01        Hawaii      Honolulu       Honolulu   \n",
       "9  2018-01-01      Colorado       Larimer   Fort Collins   \n",
       "\n",
       "                                     local_site_name   parameter_name  \\\n",
       "0                                            BUCKEYE  Carbon monoxide   \n",
       "1                                          Shadyside  Carbon monoxide   \n",
       "2  Yellowstone National Park - Old Faithful Snow ...  Carbon monoxide   \n",
       "3                             North East Waste (NEW)  Carbon monoxide   \n",
       "4                                          CARPENTER  Carbon monoxide   \n",
       "5                                            Kapolei  Carbon monoxide   \n",
       "6                                            Kapolei  Carbon monoxide   \n",
       "7                                                NaN  Carbon monoxide   \n",
       "8                                           Honolulu  Carbon monoxide   \n",
       "9                      Fort Collins - CSU - S. Mason  Carbon monoxide   \n",
       "\n",
       "    units_of_measure  arithmetic_mean  aqi  \n",
       "0  Parts per million         0.473684    7  \n",
       "1  Parts per million         0.263158    5  \n",
       "2  Parts per million         0.111111    2  \n",
       "3  Parts per million         0.300000    3  \n",
       "4  Parts per million         0.215789    3  \n",
       "5  Parts per million         0.994737   14  \n",
       "6  Parts per million         0.200000    2  \n",
       "7  Parts per million         0.200000    2  \n",
       "8  Parts per million         0.400000    5  \n",
       "9  Parts per million         0.300000    6  "
      ]
     },
     "execution_count": 3,
     "metadata": {},
     "output_type": "execute_result"
    }
   ],
   "source": [
    "# First 10 rows of the data\n",
    "\n",
    "### YOUR CODE HERE ###\n",
    "\n",
    "epa_data.head(10)"
   ]
  },
  {
   "cell_type": "markdown",
   "id": "d3e37099",
   "metadata": {
    "id": "9WUbcPx6IA-k",
    "jp-MarkdownHeadingCollapsed": true,
    "papermill": {
     "duration": 0.006973,
     "end_time": "2025-02-08T06:08:59.350321",
     "exception": false,
     "start_time": "2025-02-08T06:08:59.343348",
     "status": "completed"
    },
    "tags": []
   },
   "source": [
    "<details>\n",
    "  <summary><h4><strong> Hint 1 </STRONG></h4></summary>\n",
    "\n",
    "Use the function in the `pandas` library that allows you to get a specific number of rows from the top of a DataFrame. \n",
    "\n",
    "</details>"
   ]
  },
  {
   "cell_type": "markdown",
   "id": "e7f14d39",
   "metadata": {
    "id": "rUiFGOUDIA-m",
    "papermill": {
     "duration": 0.006928,
     "end_time": "2025-02-08T06:08:59.364367",
     "exception": false,
     "start_time": "2025-02-08T06:08:59.357439",
     "status": "completed"
    },
    "tags": []
   },
   "source": [
    "<details>\n",
    "  <summary><h4><strong> Hint 2 </STRONG></h4></summary>\n",
    "\n",
    "Use the `head` function from the `pandas` library. Set the `n` parameter to `10` to print out the first 10 rows.\n",
    "\n",
    "</details>"
   ]
  },
  {
   "cell_type": "markdown",
   "id": "3397fda2",
   "metadata": {
    "id": "fb45ed17-5e22-4d48-9750-130a8586bbf9",
    "papermill": {
     "duration": 0.007054,
     "end_time": "2025-02-08T06:08:59.378725",
     "exception": false,
     "start_time": "2025-02-08T06:08:59.371671",
     "status": "completed"
    },
    "tags": []
   },
   "source": [
    "**Question:** What does the `aqi` column represent?"
   ]
  },
  {
   "cell_type": "markdown",
   "id": "75724a74",
   "metadata": {
    "id": "nZHP_ZUSXDKh",
    "papermill": {
     "duration": 0.006892,
     "end_time": "2025-02-08T06:08:59.392998",
     "exception": false,
     "start_time": "2025-02-08T06:08:59.386106",
     "status": "completed"
    },
    "tags": []
   },
   "source": [
    "* the air quality index of a US city"
   ]
  },
  {
   "cell_type": "markdown",
   "id": "a24c2d0a",
   "metadata": {
    "id": "7dac147e-19e1-49e7-bd80-e122390c3a70",
    "papermill": {
     "duration": 0.006857,
     "end_time": "2025-02-08T06:08:59.406995",
     "exception": false,
     "start_time": "2025-02-08T06:08:59.400138",
     "status": "completed"
    },
    "tags": []
   },
   "source": [
    "### Generate a table of descriptive statistics\n",
    "\n",
    "Generate a table of some descriptive statistics about the data. Specify that all columns of the input be included in the output."
   ]
  },
  {
   "cell_type": "code",
   "execution_count": 4,
   "id": "cb96889e",
   "metadata": {
    "execution": {
     "iopub.execute_input": "2025-02-08T06:08:59.422198Z",
     "iopub.status.busy": "2025-02-08T06:08:59.421945Z",
     "iopub.status.idle": "2025-02-08T06:08:59.447912Z",
     "shell.execute_reply": "2025-02-08T06:08:59.447033Z"
    },
    "id": "13f1c1dd-5637-4726-8fa0-2fbd838e4afa",
    "papermill": {
     "duration": 0.034963,
     "end_time": "2025-02-08T06:08:59.449035",
     "exception": false,
     "start_time": "2025-02-08T06:08:59.414072",
     "status": "completed"
    },
    "tags": []
   },
   "outputs": [
    {
     "name": "stderr",
     "output_type": "stream",
     "text": [
      "/usr/local/lib/python3.10/dist-packages/pandas/io/formats/format.py:1458: RuntimeWarning: invalid value encountered in greater\n",
      "  has_large_values = (abs_vals > 1e6).any()\n",
      "/usr/local/lib/python3.10/dist-packages/pandas/io/formats/format.py:1459: RuntimeWarning: invalid value encountered in less\n",
      "  has_small_values = ((abs_vals < 10 ** (-self.digits)) & (abs_vals > 0)).any()\n",
      "/usr/local/lib/python3.10/dist-packages/pandas/io/formats/format.py:1459: RuntimeWarning: invalid value encountered in greater\n",
      "  has_small_values = ((abs_vals < 10 ** (-self.digits)) & (abs_vals > 0)).any()\n"
     ]
    },
    {
     "data": {
      "text/html": [
       "<div>\n",
       "<style scoped>\n",
       "    .dataframe tbody tr th:only-of-type {\n",
       "        vertical-align: middle;\n",
       "    }\n",
       "\n",
       "    .dataframe tbody tr th {\n",
       "        vertical-align: top;\n",
       "    }\n",
       "\n",
       "    .dataframe thead th {\n",
       "        text-align: right;\n",
       "    }\n",
       "</style>\n",
       "<table border=\"1\" class=\"dataframe\">\n",
       "  <thead>\n",
       "    <tr style=\"text-align: right;\">\n",
       "      <th></th>\n",
       "      <th>date_local</th>\n",
       "      <th>state_name</th>\n",
       "      <th>county_name</th>\n",
       "      <th>city_name</th>\n",
       "      <th>local_site_name</th>\n",
       "      <th>parameter_name</th>\n",
       "      <th>units_of_measure</th>\n",
       "      <th>arithmetic_mean</th>\n",
       "      <th>aqi</th>\n",
       "    </tr>\n",
       "  </thead>\n",
       "  <tbody>\n",
       "    <tr>\n",
       "      <th>count</th>\n",
       "      <td>260</td>\n",
       "      <td>260</td>\n",
       "      <td>260</td>\n",
       "      <td>260</td>\n",
       "      <td>257</td>\n",
       "      <td>260</td>\n",
       "      <td>260</td>\n",
       "      <td>260.000000</td>\n",
       "      <td>260.000000</td>\n",
       "    </tr>\n",
       "    <tr>\n",
       "      <th>unique</th>\n",
       "      <td>1</td>\n",
       "      <td>52</td>\n",
       "      <td>149</td>\n",
       "      <td>190</td>\n",
       "      <td>253</td>\n",
       "      <td>1</td>\n",
       "      <td>1</td>\n",
       "      <td>NaN</td>\n",
       "      <td>NaN</td>\n",
       "    </tr>\n",
       "    <tr>\n",
       "      <th>top</th>\n",
       "      <td>2018-01-01</td>\n",
       "      <td>California</td>\n",
       "      <td>Los Angeles</td>\n",
       "      <td>Not in a city</td>\n",
       "      <td>Kapolei</td>\n",
       "      <td>Carbon monoxide</td>\n",
       "      <td>Parts per million</td>\n",
       "      <td>NaN</td>\n",
       "      <td>NaN</td>\n",
       "    </tr>\n",
       "    <tr>\n",
       "      <th>freq</th>\n",
       "      <td>260</td>\n",
       "      <td>66</td>\n",
       "      <td>14</td>\n",
       "      <td>21</td>\n",
       "      <td>2</td>\n",
       "      <td>260</td>\n",
       "      <td>260</td>\n",
       "      <td>NaN</td>\n",
       "      <td>NaN</td>\n",
       "    </tr>\n",
       "    <tr>\n",
       "      <th>mean</th>\n",
       "      <td>NaN</td>\n",
       "      <td>NaN</td>\n",
       "      <td>NaN</td>\n",
       "      <td>NaN</td>\n",
       "      <td>NaN</td>\n",
       "      <td>NaN</td>\n",
       "      <td>NaN</td>\n",
       "      <td>0.403169</td>\n",
       "      <td>6.757692</td>\n",
       "    </tr>\n",
       "    <tr>\n",
       "      <th>std</th>\n",
       "      <td>NaN</td>\n",
       "      <td>NaN</td>\n",
       "      <td>NaN</td>\n",
       "      <td>NaN</td>\n",
       "      <td>NaN</td>\n",
       "      <td>NaN</td>\n",
       "      <td>NaN</td>\n",
       "      <td>0.317902</td>\n",
       "      <td>7.061707</td>\n",
       "    </tr>\n",
       "    <tr>\n",
       "      <th>min</th>\n",
       "      <td>NaN</td>\n",
       "      <td>NaN</td>\n",
       "      <td>NaN</td>\n",
       "      <td>NaN</td>\n",
       "      <td>NaN</td>\n",
       "      <td>NaN</td>\n",
       "      <td>NaN</td>\n",
       "      <td>0.000000</td>\n",
       "      <td>0.000000</td>\n",
       "    </tr>\n",
       "    <tr>\n",
       "      <th>25%</th>\n",
       "      <td>NaN</td>\n",
       "      <td>NaN</td>\n",
       "      <td>NaN</td>\n",
       "      <td>NaN</td>\n",
       "      <td>NaN</td>\n",
       "      <td>NaN</td>\n",
       "      <td>NaN</td>\n",
       "      <td>0.200000</td>\n",
       "      <td>2.000000</td>\n",
       "    </tr>\n",
       "    <tr>\n",
       "      <th>50%</th>\n",
       "      <td>NaN</td>\n",
       "      <td>NaN</td>\n",
       "      <td>NaN</td>\n",
       "      <td>NaN</td>\n",
       "      <td>NaN</td>\n",
       "      <td>NaN</td>\n",
       "      <td>NaN</td>\n",
       "      <td>0.276315</td>\n",
       "      <td>5.000000</td>\n",
       "    </tr>\n",
       "    <tr>\n",
       "      <th>75%</th>\n",
       "      <td>NaN</td>\n",
       "      <td>NaN</td>\n",
       "      <td>NaN</td>\n",
       "      <td>NaN</td>\n",
       "      <td>NaN</td>\n",
       "      <td>NaN</td>\n",
       "      <td>NaN</td>\n",
       "      <td>0.516009</td>\n",
       "      <td>9.000000</td>\n",
       "    </tr>\n",
       "    <tr>\n",
       "      <th>max</th>\n",
       "      <td>NaN</td>\n",
       "      <td>NaN</td>\n",
       "      <td>NaN</td>\n",
       "      <td>NaN</td>\n",
       "      <td>NaN</td>\n",
       "      <td>NaN</td>\n",
       "      <td>NaN</td>\n",
       "      <td>1.921053</td>\n",
       "      <td>50.000000</td>\n",
       "    </tr>\n",
       "  </tbody>\n",
       "</table>\n",
       "</div>"
      ],
      "text/plain": [
       "        date_local  state_name  county_name      city_name local_site_name  \\\n",
       "count          260         260          260            260             257   \n",
       "unique           1          52          149            190             253   \n",
       "top     2018-01-01  California  Los Angeles  Not in a city         Kapolei   \n",
       "freq           260          66           14             21               2   \n",
       "mean           NaN         NaN          NaN            NaN             NaN   \n",
       "std            NaN         NaN          NaN            NaN             NaN   \n",
       "min            NaN         NaN          NaN            NaN             NaN   \n",
       "25%            NaN         NaN          NaN            NaN             NaN   \n",
       "50%            NaN         NaN          NaN            NaN             NaN   \n",
       "75%            NaN         NaN          NaN            NaN             NaN   \n",
       "max            NaN         NaN          NaN            NaN             NaN   \n",
       "\n",
       "         parameter_name   units_of_measure  arithmetic_mean         aqi  \n",
       "count               260                260       260.000000  260.000000  \n",
       "unique                1                  1              NaN         NaN  \n",
       "top     Carbon monoxide  Parts per million              NaN         NaN  \n",
       "freq                260                260              NaN         NaN  \n",
       "mean                NaN                NaN         0.403169    6.757692  \n",
       "std                 NaN                NaN         0.317902    7.061707  \n",
       "min                 NaN                NaN         0.000000    0.000000  \n",
       "25%                 NaN                NaN         0.200000    2.000000  \n",
       "50%                 NaN                NaN         0.276315    5.000000  \n",
       "75%                 NaN                NaN         0.516009    9.000000  \n",
       "max                 NaN                NaN         1.921053   50.000000  "
      ]
     },
     "execution_count": 4,
     "metadata": {},
     "output_type": "execute_result"
    }
   ],
   "source": [
    "### YOUR CODE HERE ###\n",
    "\n",
    "epa_data.describe(include='all')"
   ]
  },
  {
   "cell_type": "markdown",
   "id": "6a74e80c",
   "metadata": {
    "id": "c25c3da0-e242-4f46-9620-6d7f04911aea",
    "jp-MarkdownHeadingCollapsed": true,
    "papermill": {
     "duration": 0.007325,
     "end_time": "2025-02-08T06:08:59.464147",
     "exception": false,
     "start_time": "2025-02-08T06:08:59.456822",
     "status": "completed"
    },
    "tags": []
   },
   "source": [
    "<details>\n",
    "  <summary><h4>Hint 1</h4></summary>\n",
    "\n",
    "Use function in the `pandas` library that allows you to generate a table of basic descriptive statistics in a DataFrame.\n",
    "\n",
    "</details>"
   ]
  },
  {
   "cell_type": "markdown",
   "id": "658afc74",
   "metadata": {
    "id": "TVhhKA-6I-Ko",
    "papermill": {
     "duration": 0.00704,
     "end_time": "2025-02-08T06:08:59.478419",
     "exception": false,
     "start_time": "2025-02-08T06:08:59.471379",
     "status": "completed"
    },
    "tags": []
   },
   "source": [
    "<details>\n",
    "  <summary><h4>Hint 2</h4></summary>\n",
    "\n",
    "Use the `describe` function from the `pandas` library. Set the `include` parameter passed in to this function to 'all' to specify that all columns of the input be included in the output.\n",
    "\n",
    "</details>"
   ]
  },
  {
   "cell_type": "markdown",
   "id": "f6db22cd",
   "metadata": {
    "id": "584fa1b2",
    "papermill": {
     "duration": 0.007196,
     "end_time": "2025-02-08T06:08:59.492831",
     "exception": false,
     "start_time": "2025-02-08T06:08:59.485635",
     "status": "completed"
    },
    "tags": []
   },
   "source": [
    "**Question:** Based on the preceding table of descriptive statistics, what is the mean value of the `aqi` column? "
   ]
  },
  {
   "cell_type": "markdown",
   "id": "69a3b407",
   "metadata": {
    "id": "DoQA-TKWXIJ-",
    "papermill": {
     "duration": 0.007234,
     "end_time": "2025-02-08T06:08:59.507421",
     "exception": false,
     "start_time": "2025-02-08T06:08:59.500187",
     "status": "completed"
    },
    "tags": []
   },
   "source": [
    "* 6.76 is the mean of aqi in the given dataset (we are assuming this to be the population mean for practice)"
   ]
  },
  {
   "cell_type": "markdown",
   "id": "787513ad",
   "metadata": {
    "id": "a70475eb-d3a6-42e4-8b71-a49b5a1aa0db",
    "papermill": {
     "duration": 0.007206,
     "end_time": "2025-02-08T06:08:59.521963",
     "exception": false,
     "start_time": "2025-02-08T06:08:59.514757",
     "status": "completed"
    },
    "tags": []
   },
   "source": [
    "**Question:** Based on the preceding table of descriptive statistics, what do you notice about the count value for the `aqi` column?"
   ]
  },
  {
   "cell_type": "markdown",
   "id": "7d481929",
   "metadata": {
    "id": "KIIg5Bd4XJ3M",
    "papermill": {
     "duration": 0.007382,
     "end_time": "2025-02-08T06:08:59.537194",
     "exception": false,
     "start_time": "2025-02-08T06:08:59.529812",
     "status": "completed"
    },
    "tags": []
   },
   "source": [
    "* there are 260 values in the aqi column"
   ]
  },
  {
   "cell_type": "markdown",
   "id": "363afd9e",
   "metadata": {
    "id": "5464fa18-f969-4e1e-8539-9b2d9a11766d",
    "papermill": {
     "duration": 0.007172,
     "end_time": "2025-02-08T06:08:59.551672",
     "exception": false,
     "start_time": "2025-02-08T06:08:59.544500",
     "status": "completed"
    },
    "tags": []
   },
   "source": [
    "### Use the `mean()` function on the `aqi`  column\n",
    "\n",
    "Now, use the `mean()` function on the `aqi`  column and assign the value to a variable `population_mean`. The value should be the same as the one generated by the `describe()` method in the above table. "
   ]
  },
  {
   "cell_type": "code",
   "execution_count": 5,
   "id": "d1b5ad7f",
   "metadata": {
    "execution": {
     "iopub.execute_input": "2025-02-08T06:08:59.568360Z",
     "iopub.status.busy": "2025-02-08T06:08:59.568053Z",
     "iopub.status.idle": "2025-02-08T06:08:59.572374Z",
     "shell.execute_reply": "2025-02-08T06:08:59.571691Z"
    },
    "id": "678346a1-bc1a-40be-850a-c03488970604",
    "papermill": {
     "duration": 0.01444,
     "end_time": "2025-02-08T06:08:59.573394",
     "exception": false,
     "start_time": "2025-02-08T06:08:59.558954",
     "status": "completed"
    },
    "tags": []
   },
   "outputs": [
    {
     "data": {
      "text/plain": [
       "6.757692307692308"
      ]
     },
     "execution_count": 5,
     "metadata": {},
     "output_type": "execute_result"
    }
   ],
   "source": [
    "### YOUR CODE HERE ###\n",
    "\n",
    "population_mean = epa_data['aqi'].mean()\n",
    "\n",
    "population_mean"
   ]
  },
  {
   "cell_type": "markdown",
   "id": "d9b1a5f7",
   "metadata": {
    "id": "NrCBFqf6KneL",
    "jp-MarkdownHeadingCollapsed": true,
    "papermill": {
     "duration": 0.007339,
     "end_time": "2025-02-08T06:08:59.588655",
     "exception": false,
     "start_time": "2025-02-08T06:08:59.581316",
     "status": "completed"
    },
    "tags": []
   },
   "source": [
    "<details>\n",
    "  <summary><h4><strong> Hint 1 </STRONG></h4></summary>\n",
    "\n",
    "Use the function in the `pandas` library that allows you to generate a mean value for a column in a DataFrame.\n",
    "\n",
    "</details>"
   ]
  },
  {
   "cell_type": "markdown",
   "id": "e544aa4e",
   "metadata": {
    "id": "ELA3AlzhKneN",
    "jp-MarkdownHeadingCollapsed": true,
    "papermill": {
     "duration": 0.007345,
     "end_time": "2025-02-08T06:08:59.603593",
     "exception": false,
     "start_time": "2025-02-08T06:08:59.596248",
     "status": "completed"
    },
    "tags": []
   },
   "source": [
    "<details>\n",
    "  <summary><h4><strong> Hint 2 </STRONG></h4></summary>\n",
    "\n",
    "Use the `mean()` method.\n",
    "\n",
    "</details>"
   ]
  },
  {
   "cell_type": "markdown",
   "id": "20e3771d",
   "metadata": {
    "id": "990595d9",
    "papermill": {
     "duration": 0.007313,
     "end_time": "2025-02-08T06:08:59.618417",
     "exception": false,
     "start_time": "2025-02-08T06:08:59.611104",
     "status": "completed"
    },
    "tags": []
   },
   "source": [
    "## Step 3: Statistical tests"
   ]
  },
  {
   "cell_type": "markdown",
   "id": "5ec8ba15",
   "metadata": {
    "id": "tejiqD0O7e3p",
    "papermill": {
     "duration": 0.007384,
     "end_time": "2025-02-08T06:08:59.633633",
     "exception": false,
     "start_time": "2025-02-08T06:08:59.626249",
     "status": "completed"
    },
    "tags": []
   },
   "source": [
    "### Sample with replacement\n",
    "\n",
    "First, name a new variable `sampled_data`. Then, use the `sample()` dataframe method to draw 50 samples from `epa_data`. Set `replace` equal to `'True'` to specify sampling with replacement. For `random_state`, choose an arbitrary number for random seed. Make that arbitrary number `42`."
   ]
  },
  {
   "cell_type": "code",
   "execution_count": 6,
   "id": "a23d834f",
   "metadata": {
    "execution": {
     "iopub.execute_input": "2025-02-08T06:08:59.649509Z",
     "iopub.status.busy": "2025-02-08T06:08:59.649253Z",
     "iopub.status.idle": "2025-02-08T06:08:59.653154Z",
     "shell.execute_reply": "2025-02-08T06:08:59.652613Z"
    },
    "id": "e4bceb0a",
    "papermill": {
     "duration": 0.013033,
     "end_time": "2025-02-08T06:08:59.654110",
     "exception": false,
     "start_time": "2025-02-08T06:08:59.641077",
     "status": "completed"
    },
    "tags": []
   },
   "outputs": [],
   "source": [
    "### YOUR CODE HERE ###\n",
    "\n",
    "sampled_data = epa_data.sample(n=50, replace=True, random_state=42)"
   ]
  },
  {
   "cell_type": "markdown",
   "id": "095da5a9",
   "metadata": {
    "id": "dcca386d",
    "papermill": {
     "duration": 0.007111,
     "end_time": "2025-02-08T06:08:59.668791",
     "exception": false,
     "start_time": "2025-02-08T06:08:59.661680",
     "status": "completed"
    },
    "tags": []
   },
   "source": [
    "### Output the first 10 rows\n",
    "\n",
    "Output the first 10 rows of the DataFrame. "
   ]
  },
  {
   "cell_type": "code",
   "execution_count": 7,
   "id": "6245c7b2",
   "metadata": {
    "execution": {
     "iopub.execute_input": "2025-02-08T06:08:59.684510Z",
     "iopub.status.busy": "2025-02-08T06:08:59.684238Z",
     "iopub.status.idle": "2025-02-08T06:08:59.693385Z",
     "shell.execute_reply": "2025-02-08T06:08:59.692699Z"
    },
    "id": "63d5d4d5",
    "papermill": {
     "duration": 0.018347,
     "end_time": "2025-02-08T06:08:59.694440",
     "exception": false,
     "start_time": "2025-02-08T06:08:59.676093",
     "status": "completed"
    },
    "tags": []
   },
   "outputs": [
    {
     "data": {
      "text/html": [
       "<div>\n",
       "<style scoped>\n",
       "    .dataframe tbody tr th:only-of-type {\n",
       "        vertical-align: middle;\n",
       "    }\n",
       "\n",
       "    .dataframe tbody tr th {\n",
       "        vertical-align: top;\n",
       "    }\n",
       "\n",
       "    .dataframe thead th {\n",
       "        text-align: right;\n",
       "    }\n",
       "</style>\n",
       "<table border=\"1\" class=\"dataframe\">\n",
       "  <thead>\n",
       "    <tr style=\"text-align: right;\">\n",
       "      <th></th>\n",
       "      <th>date_local</th>\n",
       "      <th>state_name</th>\n",
       "      <th>county_name</th>\n",
       "      <th>city_name</th>\n",
       "      <th>local_site_name</th>\n",
       "      <th>parameter_name</th>\n",
       "      <th>units_of_measure</th>\n",
       "      <th>arithmetic_mean</th>\n",
       "      <th>aqi</th>\n",
       "    </tr>\n",
       "  </thead>\n",
       "  <tbody>\n",
       "    <tr>\n",
       "      <th>102</th>\n",
       "      <td>2018-01-01</td>\n",
       "      <td>Texas</td>\n",
       "      <td>Harris</td>\n",
       "      <td>Houston</td>\n",
       "      <td>Clinton</td>\n",
       "      <td>Carbon monoxide</td>\n",
       "      <td>Parts per million</td>\n",
       "      <td>0.157895</td>\n",
       "      <td>2</td>\n",
       "    </tr>\n",
       "    <tr>\n",
       "      <th>106</th>\n",
       "      <td>2018-01-01</td>\n",
       "      <td>California</td>\n",
       "      <td>Imperial</td>\n",
       "      <td>Calexico</td>\n",
       "      <td>Calexico-Ethel Street</td>\n",
       "      <td>Carbon monoxide</td>\n",
       "      <td>Parts per million</td>\n",
       "      <td>1.183333</td>\n",
       "      <td>26</td>\n",
       "    </tr>\n",
       "    <tr>\n",
       "      <th>71</th>\n",
       "      <td>2018-01-01</td>\n",
       "      <td>Alabama</td>\n",
       "      <td>Jefferson</td>\n",
       "      <td>Birmingham</td>\n",
       "      <td>Arkadelphia/Near Road</td>\n",
       "      <td>Carbon monoxide</td>\n",
       "      <td>Parts per million</td>\n",
       "      <td>0.200000</td>\n",
       "      <td>2</td>\n",
       "    </tr>\n",
       "    <tr>\n",
       "      <th>188</th>\n",
       "      <td>2018-01-01</td>\n",
       "      <td>Arizona</td>\n",
       "      <td>Maricopa</td>\n",
       "      <td>Tempe</td>\n",
       "      <td>Diablo</td>\n",
       "      <td>Carbon monoxide</td>\n",
       "      <td>Parts per million</td>\n",
       "      <td>0.542105</td>\n",
       "      <td>10</td>\n",
       "    </tr>\n",
       "    <tr>\n",
       "      <th>20</th>\n",
       "      <td>2018-01-01</td>\n",
       "      <td>Virginia</td>\n",
       "      <td>Roanoke</td>\n",
       "      <td>Vinton</td>\n",
       "      <td>East Vinton Elementary School</td>\n",
       "      <td>Carbon monoxide</td>\n",
       "      <td>Parts per million</td>\n",
       "      <td>0.100000</td>\n",
       "      <td>1</td>\n",
       "    </tr>\n",
       "    <tr>\n",
       "      <th>102</th>\n",
       "      <td>2018-01-01</td>\n",
       "      <td>Texas</td>\n",
       "      <td>Harris</td>\n",
       "      <td>Houston</td>\n",
       "      <td>Clinton</td>\n",
       "      <td>Carbon monoxide</td>\n",
       "      <td>Parts per million</td>\n",
       "      <td>0.157895</td>\n",
       "      <td>2</td>\n",
       "    </tr>\n",
       "    <tr>\n",
       "      <th>121</th>\n",
       "      <td>2018-01-01</td>\n",
       "      <td>North Carolina</td>\n",
       "      <td>Mecklenburg</td>\n",
       "      <td>Charlotte</td>\n",
       "      <td>Garinger High School</td>\n",
       "      <td>Carbon monoxide</td>\n",
       "      <td>Parts per million</td>\n",
       "      <td>0.200000</td>\n",
       "      <td>2</td>\n",
       "    </tr>\n",
       "    <tr>\n",
       "      <th>214</th>\n",
       "      <td>2018-01-01</td>\n",
       "      <td>Florida</td>\n",
       "      <td>Broward</td>\n",
       "      <td>Davie</td>\n",
       "      <td>Daniela Banu NCORE</td>\n",
       "      <td>Carbon monoxide</td>\n",
       "      <td>Parts per million</td>\n",
       "      <td>0.273684</td>\n",
       "      <td>5</td>\n",
       "    </tr>\n",
       "    <tr>\n",
       "      <th>87</th>\n",
       "      <td>2018-01-01</td>\n",
       "      <td>California</td>\n",
       "      <td>Humboldt</td>\n",
       "      <td>Eureka</td>\n",
       "      <td>Jacobs</td>\n",
       "      <td>Carbon monoxide</td>\n",
       "      <td>Parts per million</td>\n",
       "      <td>0.393750</td>\n",
       "      <td>5</td>\n",
       "    </tr>\n",
       "    <tr>\n",
       "      <th>99</th>\n",
       "      <td>2018-01-01</td>\n",
       "      <td>California</td>\n",
       "      <td>Santa Barbara</td>\n",
       "      <td>Goleta</td>\n",
       "      <td>Goleta</td>\n",
       "      <td>Carbon monoxide</td>\n",
       "      <td>Parts per million</td>\n",
       "      <td>0.222222</td>\n",
       "      <td>3</td>\n",
       "    </tr>\n",
       "  </tbody>\n",
       "</table>\n",
       "</div>"
      ],
      "text/plain": [
       "     date_local      state_name    county_name   city_name  \\\n",
       "102  2018-01-01           Texas         Harris     Houston   \n",
       "106  2018-01-01      California       Imperial    Calexico   \n",
       "71   2018-01-01         Alabama      Jefferson  Birmingham   \n",
       "188  2018-01-01         Arizona       Maricopa       Tempe   \n",
       "20   2018-01-01        Virginia        Roanoke      Vinton   \n",
       "102  2018-01-01           Texas         Harris     Houston   \n",
       "121  2018-01-01  North Carolina    Mecklenburg   Charlotte   \n",
       "214  2018-01-01         Florida        Broward       Davie   \n",
       "87   2018-01-01      California       Humboldt      Eureka   \n",
       "99   2018-01-01      California  Santa Barbara      Goleta   \n",
       "\n",
       "                   local_site_name   parameter_name   units_of_measure  \\\n",
       "102                        Clinton  Carbon monoxide  Parts per million   \n",
       "106          Calexico-Ethel Street  Carbon monoxide  Parts per million   \n",
       "71           Arkadelphia/Near Road  Carbon monoxide  Parts per million   \n",
       "188                         Diablo  Carbon monoxide  Parts per million   \n",
       "20   East Vinton Elementary School  Carbon monoxide  Parts per million   \n",
       "102                        Clinton  Carbon monoxide  Parts per million   \n",
       "121           Garinger High School  Carbon monoxide  Parts per million   \n",
       "214             Daniela Banu NCORE  Carbon monoxide  Parts per million   \n",
       "87                          Jacobs  Carbon monoxide  Parts per million   \n",
       "99                          Goleta  Carbon monoxide  Parts per million   \n",
       "\n",
       "     arithmetic_mean  aqi  \n",
       "102         0.157895    2  \n",
       "106         1.183333   26  \n",
       "71          0.200000    2  \n",
       "188         0.542105   10  \n",
       "20          0.100000    1  \n",
       "102         0.157895    2  \n",
       "121         0.200000    2  \n",
       "214         0.273684    5  \n",
       "87          0.393750    5  \n",
       "99          0.222222    3  "
      ]
     },
     "execution_count": 7,
     "metadata": {},
     "output_type": "execute_result"
    }
   ],
   "source": [
    "### YOUR CODE HERE ###\n",
    "\n",
    "sampled_data.head(10)"
   ]
  },
  {
   "cell_type": "markdown",
   "id": "510e7172",
   "metadata": {
    "id": "b206a973",
    "papermill": {
     "duration": 0.007275,
     "end_time": "2025-02-08T06:08:59.709633",
     "exception": false,
     "start_time": "2025-02-08T06:08:59.702358",
     "status": "completed"
    },
    "tags": []
   },
   "source": [
    "<details>\n",
    "  <summary><h4><strong> Hint 1 </STRONG></h4></summary>\n",
    "\n",
    "Use the function in the `pandas` library that allows you to get a specific number of rows from the top of a DataFrame. \n",
    "\n",
    "</details>"
   ]
  },
  {
   "cell_type": "markdown",
   "id": "68bc0f78",
   "metadata": {
    "id": "4d4a340d",
    "papermill": {
     "duration": 0.00741,
     "end_time": "2025-02-08T06:08:59.724445",
     "exception": false,
     "start_time": "2025-02-08T06:08:59.717035",
     "status": "completed"
    },
    "tags": []
   },
   "source": [
    "<details>\n",
    "  <summary><h4><strong> Hint 2 </STRONG></h4></summary>\n",
    "\n",
    "Use the `head` function from the `pandas` library. Set the `n` parameter to `10` to print out the first 10 rows.\n",
    "\n",
    "</details>"
   ]
  },
  {
   "cell_type": "markdown",
   "id": "51b35b9d",
   "metadata": {
    "id": "ea32e0f9",
    "papermill": {
     "duration": 0.007498,
     "end_time": "2025-02-08T06:08:59.779076",
     "exception": false,
     "start_time": "2025-02-08T06:08:59.771578",
     "status": "completed"
    },
    "tags": []
   },
   "source": [
    "**Question:** In the DataFrame output, why is the row index 102 repeated twice? "
   ]
  },
  {
   "cell_type": "markdown",
   "id": "5fb5884d",
   "metadata": {
    "id": "PFcAQ7kQXQGa",
    "papermill": {
     "duration": 0.007648,
     "end_time": "2025-02-08T06:08:59.794356",
     "exception": false,
     "start_time": "2025-02-08T06:08:59.786708",
     "status": "completed"
    },
    "tags": []
   },
   "source": [
    "* because we have sampled with replacement"
   ]
  },
  {
   "cell_type": "markdown",
   "id": "78249edb",
   "metadata": {
    "id": "39c3bf7d",
    "papermill": {
     "duration": 0.007384,
     "end_time": "2025-02-08T06:08:59.809265",
     "exception": false,
     "start_time": "2025-02-08T06:08:59.801881",
     "status": "completed"
    },
    "tags": []
   },
   "source": [
    "**Question:** What does `random_state` do?"
   ]
  },
  {
   "cell_type": "markdown",
   "id": "80202729",
   "metadata": {
    "id": "6gVu0BaTXSlI",
    "papermill": {
     "duration": 0.007453,
     "end_time": "2025-02-08T06:08:59.824266",
     "exception": false,
     "start_time": "2025-02-08T06:08:59.816813",
     "status": "completed"
    },
    "tags": []
   },
   "source": [
    "* it preserves the same sampling even when the samples are drawn using the same library in different environments"
   ]
  },
  {
   "cell_type": "markdown",
   "id": "7ec615bf",
   "metadata": {
    "id": "eed77707",
    "papermill": {
     "duration": 0.007283,
     "end_time": "2025-02-08T06:08:59.839191",
     "exception": false,
     "start_time": "2025-02-08T06:08:59.831908",
     "status": "completed"
    },
    "tags": []
   },
   "source": [
    "### Compute the mean value from the `aqi` column\n",
    "\n",
    "Compute the mean value from the `aqi` column in `sampled_data` and assign the value to the variable `sample_mean`."
   ]
  },
  {
   "cell_type": "code",
   "execution_count": 8,
   "id": "555f43c6",
   "metadata": {
    "execution": {
     "iopub.execute_input": "2025-02-08T06:08:59.855273Z",
     "iopub.status.busy": "2025-02-08T06:08:59.855013Z",
     "iopub.status.idle": "2025-02-08T06:08:59.859347Z",
     "shell.execute_reply": "2025-02-08T06:08:59.858707Z"
    },
    "id": "eccca24f",
    "papermill": {
     "duration": 0.013657,
     "end_time": "2025-02-08T06:08:59.860352",
     "exception": false,
     "start_time": "2025-02-08T06:08:59.846695",
     "status": "completed"
    },
    "tags": []
   },
   "outputs": [
    {
     "data": {
      "text/plain": [
       "5.54"
      ]
     },
     "execution_count": 8,
     "metadata": {},
     "output_type": "execute_result"
    }
   ],
   "source": [
    "### YOUR CODE HERE ###\n",
    "\n",
    "sample_mean = sampled_data['aqi'].mean()\n",
    "\n",
    "sample_mean"
   ]
  },
  {
   "cell_type": "markdown",
   "id": "aed2a1ac",
   "metadata": {
    "id": "dffa05d1",
    "papermill": {
     "duration": 0.00757,
     "end_time": "2025-02-08T06:08:59.876102",
     "exception": false,
     "start_time": "2025-02-08T06:08:59.868532",
     "status": "completed"
    },
    "tags": []
   },
   "source": [
    " **Question:**  Why is `sample_mean` different from `population_mean`?\n"
   ]
  },
  {
   "cell_type": "markdown",
   "id": "32d9d133",
   "metadata": {
    "id": "IWOwRNYsXVDL",
    "papermill": {
     "duration": 0.007422,
     "end_time": "2025-02-08T06:08:59.891314",
     "exception": false,
     "start_time": "2025-02-08T06:08:59.883892",
     "status": "completed"
    },
    "tags": []
   },
   "source": [
    "* because the sample_mean is not a TRUE representative of the population_mean since only 50 samples are drawn with replacement\n",
    "* as the number of samples increase, the distribution of the sample means will only be closer to the population mean"
   ]
  },
  {
   "cell_type": "markdown",
   "id": "7a5266d9",
   "metadata": {
    "id": "83526f10",
    "papermill": {
     "duration": 0.007395,
     "end_time": "2025-02-08T06:08:59.906422",
     "exception": false,
     "start_time": "2025-02-08T06:08:59.899027",
     "status": "completed"
    },
    "tags": []
   },
   "source": [
    "### Apply the central limit theorem\n",
    "\n",
    "Imagine repeating the the earlier sample with replacement 10,000 times and obtaining 10,000 point estimates of the mean. In other words, imagine taking 10,000 random samples of 50 AQI values and computing the mean for each sample. According to the **central limit theorem**, the mean of a sampling distribution should be roughly equal to the population mean. Complete the following steps to compute the mean of the sampling distribution with 10,000 samples. \n",
    "\n",
    "* Create an empty list and assign it to a variable called `estimate_list`. \n",
    "* Iterate through a `for` loop 10,000 times. To do this, make sure to utilize the `range()` function to generate a sequence of numbers from 0 to 9,999. \n",
    "* In each iteration of the loop, use the `sample()` function to take a random sample (with replacement) of 50 AQI values from the population. Do not set `random_state` to a value.\n",
    "* Use the list `append()` function to add the value of the sample `mean` to each item in the list.\n"
   ]
  },
  {
   "cell_type": "code",
   "execution_count": 9,
   "id": "36e301e7",
   "metadata": {
    "execution": {
     "iopub.execute_input": "2025-02-08T06:08:59.923777Z",
     "iopub.status.busy": "2025-02-08T06:08:59.923527Z",
     "iopub.status.idle": "2025-02-08T06:09:01.232390Z",
     "shell.execute_reply": "2025-02-08T06:09:01.231463Z"
    },
    "id": "192b9d77",
    "papermill": {
     "duration": 1.319848,
     "end_time": "2025-02-08T06:09:01.234047",
     "exception": false,
     "start_time": "2025-02-08T06:08:59.914199",
     "status": "completed"
    },
    "tags": []
   },
   "outputs": [],
   "source": [
    "### YOUR CODE HERE ###\n",
    "\n",
    "# empty list to store the multiple sample statistic (sample means)\n",
    "estimate_list = []\n",
    "\n",
    "\n",
    "# drawing multiple samples,  calculating the sample mean and appending\n",
    "for i in range(10000):\n",
    "    estimate_list.append( epa_data['aqi'].sample(n=50,replace=True).mean() )"
   ]
  },
  {
   "cell_type": "markdown",
   "id": "5e2ba422",
   "metadata": {
    "id": "48893e11",
    "papermill": {
     "duration": 0.007696,
     "end_time": "2025-02-08T06:09:01.249987",
     "exception": false,
     "start_time": "2025-02-08T06:09:01.242291",
     "status": "completed"
    },
    "tags": []
   },
   "source": [
    "<details>\n",
    "  <summary><h4><strong> Hint 1 </STRONG></h4></summary>\n",
    "\n",
    "Review [the content about sampling in Python](https://www.coursera.org/learn/the-power-of-statistics/lecture/SNOE0/sampling-distributions-with-python). \n",
    "\n",
    "</details>"
   ]
  },
  {
   "cell_type": "markdown",
   "id": "51e1b2df",
   "metadata": {
    "id": "bbcc624a",
    "papermill": {
     "duration": 0.007667,
     "end_time": "2025-02-08T06:09:01.265633",
     "exception": false,
     "start_time": "2025-02-08T06:09:01.257966",
     "status": "completed"
    },
    "tags": []
   },
   "source": [
    "### Create a new DataFrame\n",
    "\n",
    "Next, create a new DataFrame from the list of 10,000 estimates. Name the new variable `estimate_df`."
   ]
  },
  {
   "cell_type": "code",
   "execution_count": 10,
   "id": "1ee752a1",
   "metadata": {
    "execution": {
     "iopub.execute_input": "2025-02-08T06:09:01.282130Z",
     "iopub.status.busy": "2025-02-08T06:09:01.281837Z",
     "iopub.status.idle": "2025-02-08T06:09:01.290047Z",
     "shell.execute_reply": "2025-02-08T06:09:01.289236Z"
    },
    "id": "59878c6b",
    "papermill": {
     "duration": 0.018203,
     "end_time": "2025-02-08T06:09:01.291477",
     "exception": false,
     "start_time": "2025-02-08T06:09:01.273274",
     "status": "completed"
    },
    "tags": []
   },
   "outputs": [
    {
     "data": {
      "text/html": [
       "<div>\n",
       "<style scoped>\n",
       "    .dataframe tbody tr th:only-of-type {\n",
       "        vertical-align: middle;\n",
       "    }\n",
       "\n",
       "    .dataframe tbody tr th {\n",
       "        vertical-align: top;\n",
       "    }\n",
       "\n",
       "    .dataframe thead th {\n",
       "        text-align: right;\n",
       "    }\n",
       "</style>\n",
       "<table border=\"1\" class=\"dataframe\">\n",
       "  <thead>\n",
       "    <tr style=\"text-align: right;\">\n",
       "      <th></th>\n",
       "      <th>estimate_means</th>\n",
       "    </tr>\n",
       "  </thead>\n",
       "  <tbody>\n",
       "    <tr>\n",
       "      <th>0</th>\n",
       "      <td>6.32</td>\n",
       "    </tr>\n",
       "    <tr>\n",
       "      <th>1</th>\n",
       "      <td>6.02</td>\n",
       "    </tr>\n",
       "    <tr>\n",
       "      <th>2</th>\n",
       "      <td>6.88</td>\n",
       "    </tr>\n",
       "    <tr>\n",
       "      <th>3</th>\n",
       "      <td>6.82</td>\n",
       "    </tr>\n",
       "    <tr>\n",
       "      <th>4</th>\n",
       "      <td>6.00</td>\n",
       "    </tr>\n",
       "  </tbody>\n",
       "</table>\n",
       "</div>"
      ],
      "text/plain": [
       "   estimate_means\n",
       "0            6.32\n",
       "1            6.02\n",
       "2            6.88\n",
       "3            6.82\n",
       "4            6.00"
      ]
     },
     "execution_count": 10,
     "metadata": {},
     "output_type": "execute_result"
    }
   ],
   "source": [
    "### YOUR CODE HERE ###\n",
    "\n",
    "estimate_df = pd.DataFrame(data = {'estimate_means': estimate_list})\n",
    "\n",
    "estimate_df.head()"
   ]
  },
  {
   "cell_type": "markdown",
   "id": "dcfffb5e",
   "metadata": {
    "id": "df46898d",
    "papermill": {
     "duration": 0.007896,
     "end_time": "2025-02-08T06:09:01.308078",
     "exception": false,
     "start_time": "2025-02-08T06:09:01.300182",
     "status": "completed"
    },
    "tags": []
   },
   "source": [
    "<details>\n",
    "  <summary><h4><strong> Hint 1 </STRONG></h4></summary>\n",
    "\n",
    "Review [the content about sampling in Python](https://www.coursera.org/learn/the-power-of-statistics/lecture/SNOE0/sampling-distributions-with-python). \n",
    "\n",
    "</details>"
   ]
  },
  {
   "cell_type": "markdown",
   "id": "21b30f19",
   "metadata": {
    "id": "2b5c894b",
    "papermill": {
     "duration": 0.007628,
     "end_time": "2025-02-08T06:09:01.323549",
     "exception": false,
     "start_time": "2025-02-08T06:09:01.315921",
     "status": "completed"
    },
    "tags": []
   },
   "source": [
    "<details>\n",
    "<summary><h4><strong> Hint 2 </STRONG></h4></summary>\n",
    "\n",
    "Use the `mean()` function.\n",
    "\n",
    "</details>"
   ]
  },
  {
   "cell_type": "markdown",
   "id": "c014c96e",
   "metadata": {
    "id": "1a2d1b98",
    "papermill": {
     "duration": 0.007492,
     "end_time": "2025-02-08T06:09:01.338788",
     "exception": false,
     "start_time": "2025-02-08T06:09:01.331296",
     "status": "completed"
    },
    "tags": []
   },
   "source": [
    "### Compute the mean() of the sampling distribution\n",
    "\n",
    "Next, compute the `mean()` of the sampling distribution of 10,000 random samples and store the result in a new variable `mean_sample_means`."
   ]
  },
  {
   "cell_type": "code",
   "execution_count": 11,
   "id": "cdb9e121",
   "metadata": {
    "execution": {
     "iopub.execute_input": "2025-02-08T06:09:01.355197Z",
     "iopub.status.busy": "2025-02-08T06:09:01.354932Z",
     "iopub.status.idle": "2025-02-08T06:09:01.359409Z",
     "shell.execute_reply": "2025-02-08T06:09:01.358770Z"
    },
    "id": "c21cce9c",
    "papermill": {
     "duration": 0.013973,
     "end_time": "2025-02-08T06:09:01.360430",
     "exception": false,
     "start_time": "2025-02-08T06:09:01.346457",
     "status": "completed"
    },
    "tags": []
   },
   "outputs": [
    {
     "data": {
      "text/plain": [
       "6.753586"
      ]
     },
     "execution_count": 11,
     "metadata": {},
     "output_type": "execute_result"
    }
   ],
   "source": [
    "### YOUR CODE HERE ###\n",
    "\n",
    "mean_sample_means = estimate_df['estimate_means'].mean()\n",
    "\n",
    "mean_sample_means"
   ]
  },
  {
   "cell_type": "markdown",
   "id": "cc7217f0",
   "metadata": {
    "id": "f6e0d3ef",
    "papermill": {
     "duration": 0.007694,
     "end_time": "2025-02-08T06:09:01.376209",
     "exception": false,
     "start_time": "2025-02-08T06:09:01.368515",
     "status": "completed"
    },
    "tags": []
   },
   "source": [
    "<details>\n",
    "  <summary><h4><strong> Hint 1 </STRONG></h4></summary>\n",
    "\n",
    "Use the function in the `pandas` library that allows you to generate a mean value for a column in a DataFrame.\n",
    "\n",
    "</details>"
   ]
  },
  {
   "cell_type": "markdown",
   "id": "2dcc7423",
   "metadata": {
    "id": "95208c41",
    "papermill": {
     "duration": 0.007916,
     "end_time": "2025-02-08T06:09:01.392265",
     "exception": false,
     "start_time": "2025-02-08T06:09:01.384349",
     "status": "completed"
    },
    "tags": []
   },
   "source": [
    "<details>\n",
    "  <summary><h4><strong> Hint 2 </STRONG></h4></summary>\n",
    "\n",
    "Use the `mean()` function.\n",
    "\n",
    "</details>"
   ]
  },
  {
   "cell_type": "markdown",
   "id": "14c50c60",
   "metadata": {
    "id": "8a5939d9",
    "papermill": {
     "duration": 0.00771,
     "end_time": "2025-02-08T06:09:01.407982",
     "exception": false,
     "start_time": "2025-02-08T06:09:01.400272",
     "status": "completed"
    },
    "tags": []
   },
   "source": [
    "**Question:** What is the mean for the sampling distribution of 10,000 random samples?"
   ]
  },
  {
   "cell_type": "markdown",
   "id": "69932059",
   "metadata": {
    "id": "hpyqcQ93XeEU",
    "papermill": {
     "duration": 0.007707,
     "end_time": "2025-02-08T06:09:01.423637",
     "exception": false,
     "start_time": "2025-02-08T06:09:01.415930",
     "status": "completed"
    },
    "tags": []
   },
   "source": [
    "* the mean of the sampling distribution from 10000 random sample means = 6.76  \n",
    "(this varies for each iteration because random_state is not set when drawing the samples)"
   ]
  },
  {
   "cell_type": "markdown",
   "id": "8e593be2",
   "metadata": {
    "id": "aydqn3YmSGHi",
    "papermill": {
     "duration": 0.007685,
     "end_time": "2025-02-08T06:09:01.439121",
     "exception": false,
     "start_time": "2025-02-08T06:09:01.431436",
     "status": "completed"
    },
    "tags": []
   },
   "source": [
    "<details>\n",
    "  <summary><h4><strong> Hint 3 </STRONG></h4></summary>\n",
    "\n",
    "This value is contained in `mean_sample_means`.\n",
    "\n",
    "</details>"
   ]
  },
  {
   "cell_type": "markdown",
   "id": "a7bfc36b",
   "metadata": {
    "id": "79095582",
    "papermill": {
     "duration": 0.00757,
     "end_time": "2025-02-08T06:09:01.454526",
     "exception": false,
     "start_time": "2025-02-08T06:09:01.446956",
     "status": "completed"
    },
    "tags": []
   },
   "source": [
    "<details>\n",
    "  <summary><h4><strong> Hint 4 </STRONG></h4></summary>\n",
    "\n",
    "According to the central limit theorem, the mean of the preceding sampling distribution should be roughly equal to the population mean. \n",
    "\n",
    "</details>"
   ]
  },
  {
   "cell_type": "markdown",
   "id": "539db74c",
   "metadata": {
    "id": "4c8ab4ca",
    "papermill": {
     "duration": 0.007579,
     "end_time": "2025-02-08T06:09:01.470120",
     "exception": false,
     "start_time": "2025-02-08T06:09:01.462541",
     "status": "completed"
    },
    "tags": []
   },
   "source": [
    "**Question:** How are the central limit theorem and random sampling (with replacement) related?"
   ]
  },
  {
   "cell_type": "markdown",
   "id": "ae55ebda",
   "metadata": {
    "id": "yk68WKLcXiJn",
    "papermill": {
     "duration": 0.007667,
     "end_time": "2025-02-08T06:09:01.485419",
     "exception": false,
     "start_time": "2025-02-08T06:09:01.477752",
     "status": "completed"
    },
    "tags": []
   },
   "source": [
    "[Write your response here. Double-click (or enter) to edit.]"
   ]
  },
  {
   "cell_type": "markdown",
   "id": "fa2471ff",
   "metadata": {
    "id": "ff41cd55",
    "papermill": {
     "duration": 0.007661,
     "end_time": "2025-02-08T06:09:01.500966",
     "exception": false,
     "start_time": "2025-02-08T06:09:01.493305",
     "status": "completed"
    },
    "tags": []
   },
   "source": [
    "### Output the distribution using a histogram\n",
    "\n",
    "Output the distribution of these estimates using a histogram. This provides an idea of the sampling distribution."
   ]
  },
  {
   "cell_type": "code",
   "execution_count": 12,
   "id": "3880f0fc",
   "metadata": {
    "execution": {
     "iopub.execute_input": "2025-02-08T06:09:01.517568Z",
     "iopub.status.busy": "2025-02-08T06:09:01.517311Z",
     "iopub.status.idle": "2025-02-08T06:09:01.763326Z",
     "shell.execute_reply": "2025-02-08T06:09:01.762372Z"
    },
    "id": "e0e6aedd",
    "papermill": {
     "duration": 0.255693,
     "end_time": "2025-02-08T06:09:01.764458",
     "exception": false,
     "start_time": "2025-02-08T06:09:01.508765",
     "status": "completed"
    },
    "tags": []
   },
   "outputs": [
    {
     "data": {
      "text/plain": [
       "<Axes: >"
      ]
     },
     "execution_count": 12,
     "metadata": {},
     "output_type": "execute_result"
    },
    {
     "data": {
      "image/png": "[encoded data removed]",
      "text/plain": [
       "<Figure size 640x480 with 1 Axes>"
      ]
     },
     "metadata": {},
     "output_type": "display_data"
    }
   ],
   "source": [
    "### YOUR CODE HERE ###\n",
    "\n",
    "estimate_df['estimate_means'].hist(bins=25)"
   ]
  },
  {
   "cell_type": "markdown",
   "id": "48ddf30e",
   "metadata": {
    "id": "e8447517",
    "papermill": {
     "duration": 0.008124,
     "end_time": "2025-02-08T06:09:01.781056",
     "exception": false,
     "start_time": "2025-02-08T06:09:01.772932",
     "status": "completed"
    },
    "tags": []
   },
   "source": [
    "<details>\n",
    "  <summary><h4><strong> Hint 1 </STRONG></h4></summary>\n",
    "\n",
    "Use the `hist()` function. \n",
    "\n",
    "</details>"
   ]
  },
  {
   "cell_type": "markdown",
   "id": "99f8c992",
   "metadata": {
    "id": "c740a062",
    "papermill": {
     "duration": 0.008102,
     "end_time": "2025-02-08T06:09:01.797417",
     "exception": false,
     "start_time": "2025-02-08T06:09:01.789315",
     "status": "completed"
    },
    "tags": []
   },
   "source": [
    "### Calculate the standard error\n",
    "\n",
    "Calculate the standard error of the mean AQI using the initial sample of 50. The **standard error** of a statistic measures the sample-to-sample variability of the sample statistic. It provides a numerical measure of sampling variability and answers the question: How far is a statistic based on one particular sample from the actual value of the statistic?"
   ]
  },
  {
   "cell_type": "code",
   "execution_count": 13,
   "id": "2f00309c",
   "metadata": {
    "execution": {
     "iopub.execute_input": "2025-02-08T06:09:01.814814Z",
     "iopub.status.busy": "2025-02-08T06:09:01.814564Z",
     "iopub.status.idle": "2025-02-08T06:09:01.819532Z",
     "shell.execute_reply": "2025-02-08T06:09:01.818481Z"
    },
    "id": "74e6b4e9",
    "papermill": {
     "duration": 0.015142,
     "end_time": "2025-02-08T06:09:01.820709",
     "exception": false,
     "start_time": "2025-02-08T06:09:01.805567",
     "status": "completed"
    },
    "tags": []
   },
   "outputs": [
    {
     "data": {
      "text/plain": [
       "0.7413225908290327"
      ]
     },
     "execution_count": 13,
     "metadata": {},
     "output_type": "execute_result"
    }
   ],
   "source": [
    "### YOUR CODE HERE ###\n",
    "\n",
    "standard_error = sampled_data['aqi'].std() / np.sqrt(len(sampled_data))\n",
    "\n",
    "standard_error"
   ]
  },
  {
   "cell_type": "markdown",
   "id": "9169f3c1",
   "metadata": {
    "id": "2879de5e",
    "papermill": {
     "duration": 0.008282,
     "end_time": "2025-02-08T06:09:01.838014",
     "exception": false,
     "start_time": "2025-02-08T06:09:01.829732",
     "status": "completed"
    },
    "tags": []
   },
   "source": [
    "<details>\n",
    "  <summary><h4><strong> Hint 1 </STRONG></h4></summary>\n",
    "\n",
    "Use the `std()` function and the `np.sqrt()` function.\n",
    "\n",
    "</details>"
   ]
  },
  {
   "cell_type": "markdown",
   "id": "5584ac33",
   "metadata": {
    "id": "2c748417",
    "papermill": {
     "duration": 0.00822,
     "end_time": "2025-02-08T06:09:01.854593",
     "exception": false,
     "start_time": "2025-02-08T06:09:01.846373",
     "status": "completed"
    },
    "tags": []
   },
   "source": [
    "## Step 4: Results and evaluation"
   ]
  },
  {
   "cell_type": "markdown",
   "id": "cc881f37",
   "metadata": {
    "id": "06fae653",
    "papermill": {
     "duration": 0.009997,
     "end_time": "2025-02-08T06:09:01.873076",
     "exception": false,
     "start_time": "2025-02-08T06:09:01.863079",
     "status": "completed"
    },
    "tags": []
   },
   "source": [
    "###  Visualize the relationship between the sampling and normal distributions\n",
    "\n",
    "Visualize the relationship between your sampling distribution of 10,000 estimates and the normal distribution.\n",
    "\n",
    "1. Plot a histogram of the 10,000 sample means \n",
    "2. Add a vertical line indicating the mean of the first single sample of 50\n",
    "3. Add another vertical line indicating the mean of the means of the 10,000 samples \n",
    "4. Add a third vertical line indicating the mean of the actual population"
   ]
  },
  {
   "cell_type": "code",
   "execution_count": 14,
   "id": "8250f838",
   "metadata": {
    "execution": {
     "iopub.execute_input": "2025-02-08T06:09:01.890936Z",
     "iopub.status.busy": "2025-02-08T06:09:01.890640Z",
     "iopub.status.idle": "2025-02-08T06:09:02.203836Z",
     "shell.execute_reply": "2025-02-08T06:09:02.203172Z"
    },
    "id": "55b5b482",
    "papermill": {
     "duration": 0.323388,
     "end_time": "2025-02-08T06:09:02.204989",
     "exception": false,
     "start_time": "2025-02-08T06:09:01.881601",
     "status": "completed"
    },
    "tags": []
   },
   "outputs": [
    {
     "data": {
      "image/png": "[encoded data removed]",
      "text/plain": [
       "<Figure size 2000x1000 with 1 Axes>"
      ]
     },
     "metadata": {},
     "output_type": "display_data"
    }
   ],
   "source": [
    "### YOUE CODE HERE ###\n",
    "\n",
    "### YOUE CODE HERE ###\n",
    "\n",
    "# set plot size\n",
    "plt.figure(figsize=(20,10))\n",
    "\n",
    "# construct a histogra,\n",
    "plt.hist(estimate_df['estimate_means'], bins=50, density=True, alpha=0.4, label = \"histogram of sample means of 10000 random samples\")\n",
    "\n",
    "# extract x axis limits from the sample distribution plot\n",
    "xmin, xmax = plt.xlim()\n",
    "\n",
    "# probability density fn of a normal distribution\n",
    "x = np.linspace(xmin, xmax, 100) # generate a grid of 100 values from xmin to xmax.\n",
    "p = stats.norm.pdf(x, population_mean, standard_error)\n",
    "\n",
    "# plot the normal curve using normal pdf\n",
    "plt.plot(x, p, 'k', linewidth=2, linestyle = '-.', label = 'normal curve from central limit theorem')\n",
    "\n",
    "# visualizing population mean, sample mean of the 1st sample and the sample means\n",
    "plt.axvline(x=population_mean, color='black',linewidth=1, linestyle = '-', label = 'population mean')\n",
    "plt.axvline(x=sample_mean, color='r', linewidth=2, linestyle = '--', label = 'sample mean of the first random sample')\n",
    "plt.axvline(x=mean_sample_means, color='b', linewidth=4, linestyle = ':', label = 'mean of sample means of 10000 random samples')\n",
    "\n",
    "# set a plot title\n",
    "plt.title(\"Sampling distribution of sample means\")\n",
    "\n",
    "# create x and y labels\n",
    "plt.xlabel('sample mean')\n",
    "plt.ylabel('density')\n",
    "\n",
    "# set a legend\n",
    "plt.legend(bbox_to_anchor=(1,1))\n",
    "\n",
    "\n",
    "# display the plot\n",
    "plt.show()"
   ]
  },
  {
   "cell_type": "markdown",
   "id": "19b545d5",
   "metadata": {
    "id": "9abab6d5",
    "papermill": {
     "duration": 0.009223,
     "end_time": "2025-02-08T06:09:02.224301",
     "exception": false,
     "start_time": "2025-02-08T06:09:02.215078",
     "status": "completed"
    },
    "tags": []
   },
   "source": [
    "**Question:** What insights did you gain from the preceding sampling distribution?"
   ]
  },
  {
   "cell_type": "markdown",
   "id": "67662b1b",
   "metadata": {
    "id": "6TWq1w2KXtN3",
    "papermill": {
     "duration": 0.009031,
     "end_time": "2025-02-08T06:09:02.242627",
     "exception": false,
     "start_time": "2025-02-08T06:09:02.233596",
     "status": "completed"
    },
    "tags": []
   },
   "source": [
    "* the mean of the sampling distribution is almost the population mean for 10,000 samples with replacement (if the sample is random, representative and free from biases)\n",
    "* the sample mean of the 1st sample is very far from the population distribution. But, as more samples are drawn the mean of the sampling distribution approaches the population mean"
   ]
  },
  {
   "cell_type": "markdown",
   "id": "a69344f5",
   "metadata": {
    "id": "c77e7f0f-d2b9-4464-8a7c-9575d1e1ef9f",
    "papermill": {
     "duration": 0.009263,
     "end_time": "2025-02-08T06:09:02.261105",
     "exception": false,
     "start_time": "2025-02-08T06:09:02.251842",
     "status": "completed"
    },
    "tags": []
   },
   "source": [
    "# Considerations\n",
    "\n",
    "**What are some key takeaways that you learned from this lab?**\n",
    "\n",
    "* central limit theorem connects sample distribution with the normal distribution regardless of the nature of the population distribution\n",
    "* higher the sample size, higher the precision and higher the conformance of a sample distribution to the population distribution\n",
    "\n",
    "**What findings would you share with others?**\n",
    "\n",
    "* from 10000 random (actually pseudorandom) samples drawn with replacement, we can estimate the population mean to be approximately 6.76 aqi. i.e. the aqi of US states is from inferential estimation is found to be 6.76 aqi.\n",
    "\n",
    "\n",
    "**What would you convey to external stakeholders?**\n",
    "\n",
    "* need to investigate the outliers \n",
    "* need to confirm if there is no bias seeping through. \n",
    "* if, bias isn't influencing the results, there needs to be improvements in the US cities where aqi is low\n"
   ]
  },
  {
   "cell_type": "markdown",
   "id": "6714be8b",
   "metadata": {
    "papermill": {
     "duration": 0.009092,
     "end_time": "2025-02-08T06:09:02.279609",
     "exception": false,
     "start_time": "2025-02-08T06:09:02.270517",
     "status": "completed"
    },
    "tags": []
   },
   "source": [
    "**Congratulations!** You've completed this lab. However, you may not notice a green check mark next to this item on Coursera's platform. Please continue your progress regardless of the check mark. Just click on the \"save\" icon at the top of this notebook to ensure your work has been logged."
   ]
  }
 ],
 "metadata": {
  "colab": {
   "collapsed_sections": [],
   "provenance": []
  },
  "kaggle": {
   "accelerator": "none",
   "dataSources": [
    {
     "datasetId": 6625193,
     "sourceId": 10692443,
     "sourceType": "datasetVersion"
    }
   ],
   "dockerImageVersionId": 30886,
   "isGpuEnabled": false,
   "isInternetEnabled": true,
   "language": "python",
   "sourceType": "notebook"
  },
  "kernelspec": {
   "display_name": "Python 3",
   "language": "python",
   "name": "python3"
  },
  "language_info": {
   "codemirror_mode": {
    "name": "ipython",
    "version": 3
   },
   "file_extension": ".py",
   "mimetype": "text/x-python",
   "name": "python",
   "nbconvert_exporter": "python",
   "pygments_lexer": "ipython3",
   "version": "3.10.12"
  },
  "papermill": {
   "default_parameters": {},
   "duration": 8.826917,
   "end_time": "2025-02-08T06:09:02.906784",
   "environment_variables": {},
   "exception": null,
   "input_path": "__notebook__.ipynb",
   "output_path": "__notebook__.ipynb",
   "parameters": {},
   "start_time": "2025-02-08T06:08:54.079867",
   "version": "2.6.0"
  },
  "toc-autonumbering": false,
  "toc-showtags": false
 },
 "nbformat": 4,
 "nbformat_minor": 5
}

{
 "cells": [
  {
   "cell_type": "markdown",
   "id": "ee859415",
   "metadata": {
    "id": "Qg5NiuIpplUe",
    "papermill": {
     "duration": 0.006177,
     "end_time": "2025-02-03T19:07:15.007749",
     "exception": false,
     "start_time": "2025-02-03T19:07:15.001572",
     "status": "completed"
    },
    "tags": []
   },
   "source": [
    "<h1>Activity: Use Python syntax</h1>"
   ]
  },
  {
   "cell_type": "markdown",
   "id": "11585670",
   "metadata": {
    "id": "DNYNVjDQpmmd",
    "papermill": {
     "duration": 0.00458,
     "end_time": "2025-02-03T19:07:15.017550",
     "exception": false,
     "start_time": "2025-02-03T19:07:15.012970",
     "status": "completed"
    },
    "tags": []
   },
   "source": [
    "## Introduction\n",
    "\n",
    "In this lab, you will practice Python syntax by creating variables, checking the data types of variables, creating precise variable names, and completing data conversions.\n",
    "\n",
    "For this activity, imagine you're a data professional analyzing the users that log in to purchase tickets at a movie theater. You'll save the theater's unique identification code to a variable, study the number of tickets sold, and the data types you'll be working with.\n",
    "\n",
    "Throughout this lab, you will practice assigning variables, viewing the values saved to the variables, and checking their data types.\n"
   ]
  },
  {
   "cell_type": "markdown",
   "id": "87d8aae8",
   "metadata": {
    "id": "Of4eYDaLppn7",
    "papermill": {
     "duration": 0.005122,
     "end_time": "2025-02-03T19:07:15.027529",
     "exception": false,
     "start_time": "2025-02-03T19:07:15.022407",
     "status": "completed"
    },
    "tags": []
   },
   "source": [
    "## Tips for completing this lab\n",
    "\n",
    "As you navigate this lab, keep the following tips in mind:\n",
    "\n",
    "- `### YOUR CODE HERE ###` indicates where you should write code. Be sure to replace this with your own code before running the code cell.\n",
    "- Feel free to open the hints for additional guidance as you work on each task.\n",
    "- To enter your answer to a question, double-click the markdown cell to edit. Be sure to replace the \"[Double-click to enter your responses here.]\" with your own answer.\n",
    "- You can save your work manually by clicking File and then Save in the menu bar at the top of the notebook.\n",
    "- You can download your work locally by clicking File and then Download and then specifying your preferred file format in the menu bar at the top of the notebook."
   ]
  },
  {
   "cell_type": "markdown",
   "id": "50532118",
   "metadata": {
    "id": "tB2oxyU-prdI",
    "papermill": {
     "duration": 0.004897,
     "end_time": "2025-02-03T19:07:15.037718",
     "exception": false,
     "start_time": "2025-02-03T19:07:15.032821",
     "status": "completed"
    },
    "tags": []
   },
   "source": [
    "## Task 1: Assign the theater ID to a variable\n",
    "\n",
    "In your work as an analyst, imagine you are considering sales at a specific theater and you want to save the theater's unique identification, which is `\"b79cn10k\"`, to a variable. By doing this, you'll be able to access the ID easily if you need it later. In the following code cell:\n",
    "\n",
    "1. Assign the theater's unique identification to a variable named `theater_id`.\n",
    "\n",
    "2. Display the contents of the `theater_id` variable.\n",
    "\n",
    "Be sure to replace each `### YOUR CODE HERE ###` with your own code before you run the following cell."
   ]
  },
  {
   "cell_type": "code",
   "execution_count": 1,
   "id": "a0d38a77",
   "metadata": {
    "execution": {
     "iopub.execute_input": "2025-02-03T19:07:15.050960Z",
     "iopub.status.busy": "2025-02-03T19:07:15.050568Z",
     "iopub.status.idle": "2025-02-03T19:07:15.058328Z",
     "shell.execute_reply": "2025-02-03T19:07:15.056988Z"
    },
    "executionInfo": {
     "elapsed": 9,
     "status": "ok",
     "timestamp": 1678488445301,
     "user": {
      "displayName": "Arwen Shackelford",
      "userId": "14614635049532489764"
     },
     "user_tz": 360
    },
    "id": "qpkTCRNZp2rE",
    "outputId": "91684ee0-a1aa-4ca7-a8c4-4223f204dca6",
    "papermill": {
     "duration": 0.016383,
     "end_time": "2025-02-03T19:07:15.060309",
     "exception": false,
     "start_time": "2025-02-03T19:07:15.043926",
     "status": "completed"
    },
    "tags": []
   },
   "outputs": [
    {
     "name": "stdout",
     "output_type": "stream",
     "text": [
      "b79cn10k\n"
     ]
    }
   ],
   "source": [
    "# 1.\n",
    "### YOUR CODE HERE ###\n",
    "theater_id = 'b79cn10k'\n",
    "\n",
    "# 2.\n",
    "### YOUR CODE HERE ###\n",
    "print(theater_id)"
   ]
  },
  {
   "cell_type": "markdown",
   "id": "76fe6efe",
   "metadata": {
    "id": "WzVs6MNep49s",
    "papermill": {
     "duration": 0.004932,
     "end_time": "2025-02-03T19:07:15.070526",
     "exception": false,
     "start_time": "2025-02-03T19:07:15.065594",
     "status": "completed"
    },
    "tags": []
   },
   "source": [
    "<details>\n",
    "  <summary><h4><strong>Hint 1</strong></h4></summary>\n",
    "\n",
    "You can refer to what you've learned about variables and Python's `print()` function.\n",
    "\n",
    "</details>"
   ]
  },
  {
   "cell_type": "markdown",
   "id": "0587a99a",
   "metadata": {
    "id": "tZ1dZaCcp6wR",
    "papermill": {
     "duration": 0.004636,
     "end_time": "2025-02-03T19:07:15.080190",
     "exception": false,
     "start_time": "2025-02-03T19:07:15.075554",
     "status": "completed"
    },
    "tags": []
   },
   "source": [
    "<details>\n",
    "  <summary><h4><strong>Hint 2</strong></h4></summary>\n",
    "\n",
    "To assign a value to a variable, use an `=` operator, with the variable name to the left and the value to the right.\n",
    "\n",
    "To display the contents of the variable, use the `print()` function.\n",
    "\n",
    "</details>"
   ]
  },
  {
   "cell_type": "markdown",
   "id": "52a73c12",
   "metadata": {
    "id": "Bf_1StXep-Pr",
    "papermill": {
     "duration": 0.004731,
     "end_time": "2025-02-03T19:07:15.089961",
     "exception": false,
     "start_time": "2025-02-03T19:07:15.085230",
     "status": "completed"
    },
    "tags": []
   },
   "source": [
    "<details>\n",
    "  <summary><h4><strong>Hint 3</strong></h4></summary>\n",
    "\n",
    "Assign the value `\"b79cn10k\"` to the variable `theater_id`.\n",
    "\n",
    "To display the contents of `theater_id`, call the `print()` function, and pass in `theater_id` as the argument.\n",
    "\n",
    "</details>"
   ]
  },
  {
   "cell_type": "markdown",
   "id": "0a11da98",
   "metadata": {
    "id": "vE6xNJ-yqBNN",
    "papermill": {
     "duration": 0.005291,
     "end_time": "2025-02-03T19:07:15.100235",
     "exception": false,
     "start_time": "2025-02-03T19:07:15.094944",
     "status": "completed"
    },
    "tags": []
   },
   "source": [
    "## Task 2: Create a ticket type variable\n",
    "\n",
    "As you continue your work, you're provided a list of the different types of tickets sold by the theater: `\"Senior\"`, `\"Adult\"`, and `\"Youth\"`. In this task, focus on the `\"Adult\"` ticket type.\n",
    "\n",
    "1.  Create a variable called `ticket_type` and assign it a value of `\"Adult\"`.\n",
    "2.  Display the contents of the `ticket_type` variable."
   ]
  },
  {
   "cell_type": "code",
   "execution_count": 2,
   "id": "ecd3ae37",
   "metadata": {
    "execution": {
     "iopub.execute_input": "2025-02-03T19:07:15.111774Z",
     "iopub.status.busy": "2025-02-03T19:07:15.111430Z",
     "iopub.status.idle": "2025-02-03T19:07:15.116939Z",
     "shell.execute_reply": "2025-02-03T19:07:15.115745Z"
    },
    "executionInfo": {
     "elapsed": 5,
     "status": "ok",
     "timestamp": 1678488445302,
     "user": {
      "displayName": "Arwen Shackelford",
      "userId": "14614635049532489764"
     },
     "user_tz": 360
    },
    "id": "cocf9l4wqDMn",
    "outputId": "f3800616-83cd-4952-93b7-d3e3e819cda4",
    "papermill": {
     "duration": 0.01325,
     "end_time": "2025-02-03T19:07:15.118747",
     "exception": false,
     "start_time": "2025-02-03T19:07:15.105497",
     "status": "completed"
    },
    "tags": []
   },
   "outputs": [
    {
     "name": "stdout",
     "output_type": "stream",
     "text": [
      "Adult\n"
     ]
    }
   ],
   "source": [
    "# 1.\n",
    "### YOUR CODE HERE ###\n",
    "ticket_type = 'Adult'\n",
    "\n",
    "# 2.\n",
    "### YOUR CODE HERE ###\n",
    "print(ticket_type)"
   ]
  },
  {
   "cell_type": "markdown",
   "id": "295c6237",
   "metadata": {
    "id": "3Z5TzAXMsQ-i",
    "papermill": {
     "duration": 0.004752,
     "end_time": "2025-02-03T19:07:15.128903",
     "exception": false,
     "start_time": "2025-02-03T19:07:15.124151",
     "status": "completed"
    },
    "tags": []
   },
   "source": [
    "<details>\n",
    "  <summary><h4><strong>Hint 1</strong></h4></summary>\n",
    "\n",
    "You can refer to what you've learned about naming variables and using the Python `print()` function.\n",
    "\n",
    "</details>"
   ]
  },
  {
   "cell_type": "markdown",
   "id": "c1727d81",
   "metadata": {
    "id": "s0rtGcZPqPJT",
    "papermill": {
     "duration": 0.004637,
     "end_time": "2025-02-03T19:07:15.139024",
     "exception": false,
     "start_time": "2025-02-03T19:07:15.134387",
     "status": "completed"
    },
    "tags": []
   },
   "source": [
    "<details>\n",
    "  <summary><h4><strong>Hint 2</strong></h4></summary>\n",
    "\n",
    "To assign a value to a variable in Python, place the name of the variable to the left of the `=` operator, and place the value to the right of the `=` operator.\n",
    "\n",
    "</details>"
   ]
  },
  {
   "cell_type": "markdown",
   "id": "066bdb75",
   "metadata": {
    "id": "hb8cseEjqRhZ",
    "papermill": {
     "duration": 0.004914,
     "end_time": "2025-02-03T19:07:15.148876",
     "exception": false,
     "start_time": "2025-02-03T19:07:15.143962",
     "status": "completed"
    },
    "tags": []
   },
   "source": [
    "<details>\n",
    "  <summary><h4><strong>Hint 3</strong></h4></summary>\n",
    "\n",
    "To name the variable, make sure to place `ticket_type` to the left of the `=` operator. To assign it a value, place `\"Adult\"` to the right of the `=` operator.\n",
    "\n",
    "To display the variable, make sure to call `print()` and pass in `ticket_type`.\n",
    "\n",
    "</details>"
   ]
  },
  {
   "cell_type": "markdown",
   "id": "6c088d83",
   "metadata": {
    "id": "tfKns4NhqUZy",
    "papermill": {
     "duration": 0.004676,
     "end_time": "2025-02-03T19:07:15.158629",
     "exception": false,
     "start_time": "2025-02-03T19:07:15.153953",
     "status": "completed"
    },
    "tags": []
   },
   "source": [
    "## Task 3: Save the number of adult tickets to a variable and check the data type\n",
    "\n",
    "Now that you've recorded the types of tickets being sold, it's time to record the number of adult tickets sold so far.\n",
    "\n",
    "1. Create a variable called `adult_tickets_sold` that represents the current number of \"adult\" tickets sold and assign it a value of `59.0`.\n",
    "\n",
    "2. Check the data type of `adult_tickets_sold`."
   ]
  },
  {
   "cell_type": "code",
   "execution_count": 3,
   "id": "8081f5bf",
   "metadata": {
    "execution": {
     "iopub.execute_input": "2025-02-03T19:07:15.169911Z",
     "iopub.status.busy": "2025-02-03T19:07:15.169538Z",
     "iopub.status.idle": "2025-02-03T19:07:15.174652Z",
     "shell.execute_reply": "2025-02-03T19:07:15.173454Z"
    },
    "executionInfo": {
     "elapsed": 143,
     "status": "ok",
     "timestamp": 1678488446508,
     "user": {
      "displayName": "Arwen Shackelford",
      "userId": "14614635049532489764"
     },
     "user_tz": 360
    },
    "id": "coPEMTAdqEyO",
    "outputId": "f426a84a-75c7-4509-8da7-ed3c182256bc",
    "papermill": {
     "duration": 0.013149,
     "end_time": "2025-02-03T19:07:15.176747",
     "exception": false,
     "start_time": "2025-02-03T19:07:15.163598",
     "status": "completed"
    },
    "tags": []
   },
   "outputs": [
    {
     "name": "stdout",
     "output_type": "stream",
     "text": [
      "<class 'float'>\n"
     ]
    }
   ],
   "source": [
    "# 1.\n",
    "### YOUR CODE HERE ###\n",
    "adult_tickets_sold = 59.0\n",
    "\n",
    "# 2.\n",
    "### YOUR CODE HERE ###\n",
    "print(type(adult_tickets_sold))"
   ]
  },
  {
   "cell_type": "markdown",
   "id": "80ae8f40",
   "metadata": {
    "id": "XOQqwjtmrIzi",
    "papermill": {
     "duration": 0.005325,
     "end_time": "2025-02-03T19:07:15.187536",
     "exception": false,
     "start_time": "2025-02-03T19:07:15.182211",
     "status": "completed"
    },
    "tags": []
   },
   "source": [
    "<details>\n",
    "  <summary><h4><strong>Hint 1</strong></h4></summary>\n",
    "\n",
    "Refer to what you learned about assigning variables.\n",
    "\n",
    "</details>"
   ]
  },
  {
   "cell_type": "markdown",
   "id": "87689336",
   "metadata": {
    "id": "8z1YgyzRp07x",
    "papermill": {
     "duration": 0.004832,
     "end_time": "2025-02-03T19:07:15.197530",
     "exception": false,
     "start_time": "2025-02-03T19:07:15.192698",
     "status": "completed"
    },
    "tags": []
   },
   "source": [
    "<details>\n",
    "  <summary><h4><strong>Hint 2</strong></h4></summary>\n",
    "\n",
    "To assign a value to a variable, place the name of the variable to the left of the `=` operator and the value to the right of the `=` operator.\n",
    "\n",
    "To find the data type of a variable, pass the variable to the `type()` function.\n",
    "\n",
    "</details>"
   ]
  },
  {
   "cell_type": "markdown",
   "id": "b92ad789",
   "metadata": {
    "id": "X98xhaQkrLJg",
    "papermill": {
     "duration": 0.005066,
     "end_time": "2025-02-03T19:07:15.208094",
     "exception": false,
     "start_time": "2025-02-03T19:07:15.203028",
     "status": "completed"
    },
    "tags": []
   },
   "source": [
    "<details>\n",
    "  <summary><h4><strong>Hint 3</strong></h4></summary>\n",
    "\n",
    "Place an `=` operator between the variable name (`adult_tickets_sold`) and the value (`59`).\n",
    "\n",
    "When calling `type()`, make sure to pass `adult_tickets_sold` as its argument.\n",
    "\n",
    "</details>"
   ]
  },
  {
   "cell_type": "markdown",
   "id": "49d12dd7",
   "metadata": {
    "id": "pJNhDk51rNjH",
    "papermill": {
     "duration": 0.004797,
     "end_time": "2025-02-03T19:07:15.218004",
     "exception": false,
     "start_time": "2025-02-03T19:07:15.213207",
     "status": "completed"
    },
    "tags": []
   },
   "source": [
    "## Task 4: Convert data types and print the result\n",
    "\n",
    "The data you work with as a data professional often needs to be converted to different data types. In this case, the number of tickets sold should be recorded as integers and not floats.\n",
    "\n",
    "1. Convert the data saved in the `adult_tickets_sold` variable from a **float** to an **integer**. Reassign the result back to the `adult_tickets_sold` variable.\n",
    "\n",
    "2. Check the data type of `adult_tickets_sold`."
   ]
  },
  {
   "cell_type": "code",
   "execution_count": 4,
   "id": "1ed143bb",
   "metadata": {
    "execution": {
     "iopub.execute_input": "2025-02-03T19:07:15.230138Z",
     "iopub.status.busy": "2025-02-03T19:07:15.229735Z",
     "iopub.status.idle": "2025-02-03T19:07:15.235502Z",
     "shell.execute_reply": "2025-02-03T19:07:15.234229Z"
    },
    "executionInfo": {
     "elapsed": 140,
     "status": "ok",
     "timestamp": 1678488450635,
     "user": {
      "displayName": "Arwen Shackelford",
      "userId": "14614635049532489764"
     },
     "user_tz": 360
    },
    "id": "_9W-UpPfrPwR",
    "outputId": "aa1cab63-2402-47e3-b083-72d4d55148f0",
    "papermill": {
     "duration": 0.014536,
     "end_time": "2025-02-03T19:07:15.237798",
     "exception": false,
     "start_time": "2025-02-03T19:07:15.223262",
     "status": "completed"
    },
    "tags": []
   },
   "outputs": [
    {
     "name": "stdout",
     "output_type": "stream",
     "text": [
      "<class 'int'>\n"
     ]
    }
   ],
   "source": [
    "# 1.\n",
    "### YOUR CODE HERE ###\n",
    "adult_tickets_sold = int(adult_tickets_sold)\n",
    "\n",
    "# 2.\n",
    "### YOUR CODE HERE ###\n",
    "print(type(adult_tickets_sold))"
   ]
  },
  {
   "cell_type": "markdown",
   "id": "bb5bb448",
   "metadata": {
    "id": "ePMloxiTW0BC",
    "papermill": {
     "duration": 0.005699,
     "end_time": "2025-02-03T19:07:15.249300",
     "exception": false,
     "start_time": "2025-02-03T19:07:15.243601",
     "status": "completed"
    },
    "tags": []
   },
   "source": [
    "<details>\n",
    "  <summary><h4><strong>Hint 1</strong></h4></summary>\n",
    "\n",
    "Refer to what you learned about reassigning variables and checking data types using the `type()` function.\n",
    "\n",
    "</details>"
   ]
  },
  {
   "cell_type": "markdown",
   "id": "e9666b4b",
   "metadata": {
    "id": "lmjNbixUrStS",
    "papermill": {
     "duration": 0.004922,
     "end_time": "2025-02-03T19:07:15.259444",
     "exception": false,
     "start_time": "2025-02-03T19:07:15.254522",
     "status": "completed"
    },
    "tags": []
   },
   "source": [
    "<details>\n",
    "  <summary><h4><strong>Hint 2</strong></h4></summary>\n",
    "\n",
    "The `adult_tickets_sold` variable is assigned in the previous task, so make sure to complete Task 3 prior to Task 4.\n",
    "\n",
    "To reassign a variable using the same name but a different data type, write the name of the variable to the left of the `=` operator, then write the data type function (such as `int()`) to the right of the `=` operator. The name of the function is written inside the type function parentheses.\n",
    "\n",
    "To check the data type of the variable, use the `type()` function with the name of the variable in the parentheses.\n",
    "\n",
    "</details>"
   ]
  },
  {
   "cell_type": "markdown",
   "id": "a0235e6e",
   "metadata": {
    "id": "xsfuYf-6rTps",
    "papermill": {
     "duration": 0.004959,
     "end_time": "2025-02-03T19:07:15.269643",
     "exception": false,
     "start_time": "2025-02-03T19:07:15.264684",
     "status": "completed"
    },
    "tags": []
   },
   "source": [
    "<details>\n",
    "  <summary><h4><strong>Hint 3</strong></h4></summary>\n",
    "\n",
    "*  To convert `adult_tickets_sold` to an integer, pass it as an argument to the `int()` function. Reassign the result back to the `adult_tickets_sold` variable using the `=` operator.\n",
    "\n",
    "*  To display the data type, pass `adult_tickets_sold` to the `type()` function.\n",
    "\n",
    "</details>"
   ]
  },
  {
   "cell_type": "markdown",
   "id": "da65752a",
   "metadata": {
    "id": "QJrdMB8qrWhi",
    "papermill": {
     "duration": 0.004953,
     "end_time": "2025-02-03T19:07:15.279822",
     "exception": false,
     "start_time": "2025-02-03T19:07:15.274869",
     "status": "completed"
    },
    "tags": []
   },
   "source": [
    "## Conclusion\n",
    "\n",
    "**What are your key takeaways from this lab?**"
   ]
  },
  {
   "cell_type": "markdown",
   "id": "17ca0b23",
   "metadata": {
    "id": "26pwtx0hrbNf",
    "papermill": {
     "duration": 0.004754,
     "end_time": "2025-02-03T19:07:15.289621",
     "exception": false,
     "start_time": "2025-02-03T19:07:15.284867",
     "status": "completed"
    },
    "tags": []
   },
   "source": [
    "- There are many useful operators in Python that help you work with variables.\n",
    "  - The `=` assignment operator allows you to assign or reassign a specific value to a variable.\n",
    "- The `print()` function in Python allows you to display information.\n",
    "  - It can take in a value directly or a variable that stores a value.\n",
    "- The `type()` function in Python helps you to determine the data type of an object.\n",
    "  - If you pass in a variable to `type()`, it will output the data type of the value stored in the variable.\n",
    "- Python is able to convert some data types from one to another.\n",
    "    - Using the `int()` function on a variable that stores data as a **float** will convert the data from a floating point number to an integer.\n",
    "\n"
   ]
  },
  {
   "cell_type": "markdown",
   "id": "b9b2b599",
   "metadata": {
    "papermill": {
     "duration": 0.004818,
     "end_time": "2025-02-03T19:07:15.299621",
     "exception": false,
     "start_time": "2025-02-03T19:07:15.294803",
     "status": "completed"
    },
    "tags": []
   },
   "source": [
    "**Congratulations!** You've completed this lab. However, you may not notice a green check mark next to this item on Coursera's platform. Please continue your progress regardless of the check mark. Just click on the \"save\" icon at the top of this notebook to ensure your work has been logged. "
   ]
  }
 ],
 "metadata": {
  "colab": {
   "provenance": []
  },
  "kaggle": {
   "accelerator": "none",
   "dataSources": [],
   "dockerImageVersionId": 30839,
   "isGpuEnabled": false,
   "isInternetEnabled": true,
   "language": "python",
   "sourceType": "notebook"
  },
  "kernelspec": {
   "display_name": "Python 3",
   "language": "python",
   "name": "python3"
  },
  "language_info": {
   "codemirror_mode": {
    "name": "ipython",
    "version": 3
   },
   "file_extension": ".py",
   "mimetype": "text/x-python",
   "name": "python",
   "nbconvert_exporter": "python",
   "pygments_lexer": "ipython3",
   "version": "3.10.12"
  },
  "papermill": {
   "default_parameters": {},
   "duration": 4.543022,
   "end_time": "2025-02-03T19:07:15.826732",
   "environment_variables": {},
   "exception": null,
   "input_path": "__notebook__.ipynb",
   "output_path": "__notebook__.ipynb",
   "parameters": {},
   "start_time": "2025-02-03T19:07:11.283710",
   "version": "2.6.0"
  }
 },
 "nbformat": 4,
 "nbformat_minor": 5
}

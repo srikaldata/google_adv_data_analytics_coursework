{
 "cells": [
  {
   "cell_type": "markdown",
   "id": "555b2c68",
   "metadata": {
    "id": "1WD1hC5MTRMS",
    "papermill": {
     "duration": 0.021647,
     "end_time": "2025-02-06T04:36:11.617302",
     "exception": false,
     "start_time": "2025-02-06T04:36:11.595655",
     "status": "completed"
    },
    "tags": []
   },
   "source": [
    "# Activity: Structure your data "
   ]
  },
  {
   "cell_type": "markdown",
   "id": "644a4e03",
   "metadata": {
    "id": "ee31943b-274e-4c28-bce6-155cb6f4c334",
    "papermill": {
     "duration": 0.021395,
     "end_time": "2025-02-06T04:36:11.658324",
     "exception": false,
     "start_time": "2025-02-06T04:36:11.636929",
     "status": "completed"
    },
    "tags": []
   },
   "source": [
    "## Introduction\n",
    "\n",
    "In this activity, you will practice structuring, an **exploratory data analysis (EDA)** step that helps data science projects move forward. During EDA, when working with data that contains aspects of date and time, \"datetime\" transformations are integral to better understanding the data. As a data professional, you will encounter datetime transformations quite often as you determine how to format your data to suit the problems you want to solve or the questions you want to answer. This activity gives you an opportunity to apply these skills and prepare you for future EDA, where you will need to determine how best to structure your data.\n",
    "\n",
    "In this activity, you are a member of an analytics team that provides insights to an investing firm. To help them decide which companies to invest in next, the firm wants insights into **unicorn companies**–companies that are valued at over one billion dollars.  \n",
    "\n",
    "You will work with a dataset about unicorn companies, discovering characteristics of the data, structuring the data in ways that will help you draw meaningful insights, and using visualizations to analyze the data. Ultimately, you will draw conclusions about what significant trends or patterns you find in the dataset. This will develop your skills in EDA and your knowledge of functions that allow you to structure data.\n",
    "\n",
    "\n",
    "\n"
   ]
  },
  {
   "cell_type": "markdown",
   "id": "591cc77e",
   "metadata": {
    "id": "4bb9630e-b940-4835-a389-d39def1fa848",
    "papermill": {
     "duration": 0.019246,
     "end_time": "2025-02-06T04:36:11.697902",
     "exception": false,
     "start_time": "2025-02-06T04:36:11.678656",
     "status": "completed"
    },
    "tags": []
   },
   "source": [
    "## Step 1: Imports "
   ]
  },
  {
   "cell_type": "markdown",
   "id": "baa5647e",
   "metadata": {
    "id": "bc180686-4ae2-47ea-a292-3588ac60a820",
    "papermill": {
     "duration": 0.019293,
     "end_time": "2025-02-06T04:36:11.738589",
     "exception": false,
     "start_time": "2025-02-06T04:36:11.719296",
     "status": "completed"
    },
    "tags": []
   },
   "source": [
    "### Import relevant libraries and modules\n",
    "\n",
    "Import the relevant Python libraries and modules that you will need to use. In this activity, you will use `pandas`, `numpy`, `seaborn`, and `matplotlib.pyplot`."
   ]
  },
  {
   "cell_type": "code",
   "execution_count": 1,
   "id": "f67a26c0",
   "metadata": {
    "execution": {
     "iopub.execute_input": "2025-02-06T04:36:11.781145Z",
     "iopub.status.busy": "2025-02-06T04:36:11.780625Z",
     "iopub.status.idle": "2025-02-06T04:36:14.713695Z",
     "shell.execute_reply": "2025-02-06T04:36:14.712499Z"
    },
    "id": "8e7f1f2c-bbcc-4f3c-b927-b090ee8334c4",
    "papermill": {
     "duration": 2.956216,
     "end_time": "2025-02-06T04:36:14.715719",
     "exception": false,
     "start_time": "2025-02-06T04:36:11.759503",
     "status": "completed"
    },
    "tags": []
   },
   "outputs": [],
   "source": [
    "# Import the relevant Python libraries and modules needed in this lab.\n",
    "\n",
    "### YOUR CODE HERE ###\n",
    "import pandas as pd\n",
    "import numpy as np\n",
    "import seaborn as sns\n",
    "import matplotlib.pyplot as plt\n",
    "import datetime"
   ]
  },
  {
   "cell_type": "markdown",
   "id": "a0471f5e",
   "metadata": {
    "id": "7d29c6bd-f194-46bb-b794-56dc20130473",
    "papermill": {
     "duration": 0.020677,
     "end_time": "2025-02-06T04:36:14.756390",
     "exception": false,
     "start_time": "2025-02-06T04:36:14.735713",
     "status": "completed"
    },
    "tags": []
   },
   "source": [
    "### Load the dataset into a DataFrame\n",
    "\n",
    "The dataset provided is in the form of a csv file named `Unicorn_Companies.csv` and contains a subset of data on unicorn companies. As shown in this cell, the dataset has been automatically loaded in for you. You do not need to download the .csv file, or provide more code, in order to access the dataset and proceed with this lab. Please continue with this activity by completing the following instructions."
   ]
  },
  {
   "cell_type": "code",
   "execution_count": 2,
   "id": "b3c8e942",
   "metadata": {
    "execution": {
     "iopub.execute_input": "2025-02-06T04:36:14.798144Z",
     "iopub.status.busy": "2025-02-06T04:36:14.797543Z",
     "iopub.status.idle": "2025-02-06T04:36:14.828549Z",
     "shell.execute_reply": "2025-02-06T04:36:14.827314Z"
    },
    "id": "3bd40d44-080f-4e49-b0c2-160dedc3c4df",
    "papermill": {
     "duration": 0.054093,
     "end_time": "2025-02-06T04:36:14.830786",
     "exception": false,
     "start_time": "2025-02-06T04:36:14.776693",
     "status": "completed"
    },
    "tags": []
   },
   "outputs": [],
   "source": [
    "# RUN THIS CELL TO IMPORT YOUR DATA.\n",
    "\n",
    "### YOUR CODE HERE ###\n",
    "# import the csv source file\n",
    "companies = pd.read_csv('/kaggle/input/google-adv-data-analytics-eda-datasets/3_Unicorn_Companies.csv')"
   ]
  },
  {
   "cell_type": "markdown",
   "id": "48030abb",
   "metadata": {
    "id": "95bf39c9-d05c-4324-a40b-bc692607b61b",
    "papermill": {
     "duration": 0.020826,
     "end_time": "2025-02-06T04:36:14.872543",
     "exception": false,
     "start_time": "2025-02-06T04:36:14.851717",
     "status": "completed"
    },
    "tags": []
   },
   "source": [
    "## Step 2: Data exploration\n"
   ]
  },
  {
   "cell_type": "markdown",
   "id": "9e6099d4",
   "metadata": {
    "id": "pEeiG2M76OLH",
    "papermill": {
     "duration": 0.018939,
     "end_time": "2025-02-06T04:36:14.911672",
     "exception": false,
     "start_time": "2025-02-06T04:36:14.892733",
     "status": "completed"
    },
    "tags": []
   },
   "source": [
    "### Display the first 10 rows of the data\n",
    "\n",
    "In this section, you will discover what the dataset entails and answer questions to guide your exploration and analysis of the data. This is an important step in EDA. \n",
    "\n",
    "To begin, display the first 10 rows of the data to get an understanding of how the dataset is structured. "
   ]
  },
  {
   "cell_type": "code",
   "execution_count": 3,
   "id": "942f265d",
   "metadata": {
    "execution": {
     "iopub.execute_input": "2025-02-06T04:36:14.951844Z",
     "iopub.status.busy": "2025-02-06T04:36:14.951512Z",
     "iopub.status.idle": "2025-02-06T04:36:14.980270Z",
     "shell.execute_reply": "2025-02-06T04:36:14.979113Z"
    },
    "id": "ad5210a5-7a64-4991-b004-de818cfaf506",
    "papermill": {
     "duration": 0.050773,
     "end_time": "2025-02-06T04:36:14.982190",
     "exception": false,
     "start_time": "2025-02-06T04:36:14.931417",
     "status": "completed"
    },
    "tags": []
   },
   "outputs": [
    {
     "data": {
      "text/html": [
       "<div>\n",
       "<style scoped>\n",
       "    .dataframe tbody tr th:only-of-type {\n",
       "        vertical-align: middle;\n",
       "    }\n",
       "\n",
       "    .dataframe tbody tr th {\n",
       "        vertical-align: top;\n",
       "    }\n",
       "\n",
       "    .dataframe thead th {\n",
       "        text-align: right;\n",
       "    }\n",
       "</style>\n",
       "<table border=\"1\" class=\"dataframe\">\n",
       "  <thead>\n",
       "    <tr style=\"text-align: right;\">\n",
       "      <th></th>\n",
       "      <th>Company</th>\n",
       "      <th>Valuation</th>\n",
       "      <th>Date Joined</th>\n",
       "      <th>Industry</th>\n",
       "      <th>City</th>\n",
       "      <th>Country/Region</th>\n",
       "      <th>Continent</th>\n",
       "      <th>Year Founded</th>\n",
       "      <th>Funding</th>\n",
       "      <th>Select Investors</th>\n",
       "    </tr>\n",
       "  </thead>\n",
       "  <tbody>\n",
       "    <tr>\n",
       "      <th>0</th>\n",
       "      <td>Bytedance</td>\n",
       "      <td>$180B</td>\n",
       "      <td>4/7/17</td>\n",
       "      <td>Artificial intelligence</td>\n",
       "      <td>Beijing</td>\n",
       "      <td>China</td>\n",
       "      <td>Asia</td>\n",
       "      <td>2012</td>\n",
       "      <td>$8B</td>\n",
       "      <td>Sequoia Capital China, SIG Asia Investments, S...</td>\n",
       "    </tr>\n",
       "    <tr>\n",
       "      <th>1</th>\n",
       "      <td>SpaceX</td>\n",
       "      <td>$100B</td>\n",
       "      <td>12/1/12</td>\n",
       "      <td>Other</td>\n",
       "      <td>Hawthorne</td>\n",
       "      <td>United States</td>\n",
       "      <td>North America</td>\n",
       "      <td>2002</td>\n",
       "      <td>$7B</td>\n",
       "      <td>Founders Fund, Draper Fisher Jurvetson, Rothen...</td>\n",
       "    </tr>\n",
       "    <tr>\n",
       "      <th>2</th>\n",
       "      <td>SHEIN</td>\n",
       "      <td>$100B</td>\n",
       "      <td>7/3/18</td>\n",
       "      <td>E-commerce &amp; direct-to-consumer</td>\n",
       "      <td>Shenzhen</td>\n",
       "      <td>China</td>\n",
       "      <td>Asia</td>\n",
       "      <td>2008</td>\n",
       "      <td>$2B</td>\n",
       "      <td>Tiger Global Management, Sequoia Capital China...</td>\n",
       "    </tr>\n",
       "    <tr>\n",
       "      <th>3</th>\n",
       "      <td>Stripe</td>\n",
       "      <td>$95B</td>\n",
       "      <td>1/23/14</td>\n",
       "      <td>Fintech</td>\n",
       "      <td>San Francisco</td>\n",
       "      <td>United States</td>\n",
       "      <td>North America</td>\n",
       "      <td>2010</td>\n",
       "      <td>$2B</td>\n",
       "      <td>Khosla Ventures, LowercaseCapital, capitalG</td>\n",
       "    </tr>\n",
       "    <tr>\n",
       "      <th>4</th>\n",
       "      <td>Klarna</td>\n",
       "      <td>$46B</td>\n",
       "      <td>12/12/11</td>\n",
       "      <td>Fintech</td>\n",
       "      <td>Stockholm</td>\n",
       "      <td>Sweden</td>\n",
       "      <td>Europe</td>\n",
       "      <td>2005</td>\n",
       "      <td>$4B</td>\n",
       "      <td>Institutional Venture Partners, Sequoia Capita...</td>\n",
       "    </tr>\n",
       "    <tr>\n",
       "      <th>5</th>\n",
       "      <td>Canva</td>\n",
       "      <td>$40B</td>\n",
       "      <td>1/8/18</td>\n",
       "      <td>Internet software &amp; services</td>\n",
       "      <td>Surry Hills</td>\n",
       "      <td>Australia</td>\n",
       "      <td>Oceania</td>\n",
       "      <td>2012</td>\n",
       "      <td>$572M</td>\n",
       "      <td>Sequoia Capital China, Blackbird Ventures, Mat...</td>\n",
       "    </tr>\n",
       "    <tr>\n",
       "      <th>6</th>\n",
       "      <td>Checkout.com</td>\n",
       "      <td>$40B</td>\n",
       "      <td>5/2/19</td>\n",
       "      <td>Fintech</td>\n",
       "      <td>London</td>\n",
       "      <td>United Kingdom</td>\n",
       "      <td>Europe</td>\n",
       "      <td>2012</td>\n",
       "      <td>$2B</td>\n",
       "      <td>Tiger Global Management, Insight Partners, DST...</td>\n",
       "    </tr>\n",
       "    <tr>\n",
       "      <th>7</th>\n",
       "      <td>Instacart</td>\n",
       "      <td>$39B</td>\n",
       "      <td>12/30/14</td>\n",
       "      <td>Supply chain, logistics, &amp; delivery</td>\n",
       "      <td>San Francisco</td>\n",
       "      <td>United States</td>\n",
       "      <td>North America</td>\n",
       "      <td>2012</td>\n",
       "      <td>$3B</td>\n",
       "      <td>Khosla Ventures, Kleiner Perkins Caufield &amp; By...</td>\n",
       "    </tr>\n",
       "    <tr>\n",
       "      <th>8</th>\n",
       "      <td>JUUL Labs</td>\n",
       "      <td>$38B</td>\n",
       "      <td>12/20/17</td>\n",
       "      <td>Consumer &amp; retail</td>\n",
       "      <td>San Francisco</td>\n",
       "      <td>United States</td>\n",
       "      <td>North America</td>\n",
       "      <td>2015</td>\n",
       "      <td>$14B</td>\n",
       "      <td>Tiger Global Management</td>\n",
       "    </tr>\n",
       "    <tr>\n",
       "      <th>9</th>\n",
       "      <td>Databricks</td>\n",
       "      <td>$38B</td>\n",
       "      <td>2/5/19</td>\n",
       "      <td>Data management &amp; analytics</td>\n",
       "      <td>San Francisco</td>\n",
       "      <td>United States</td>\n",
       "      <td>North America</td>\n",
       "      <td>2013</td>\n",
       "      <td>$3B</td>\n",
       "      <td>Andreessen Horowitz, New Enterprise Associates...</td>\n",
       "    </tr>\n",
       "  </tbody>\n",
       "</table>\n",
       "</div>"
      ],
      "text/plain": [
       "        Company Valuation Date Joined                             Industry  \\\n",
       "0     Bytedance     $180B      4/7/17              Artificial intelligence   \n",
       "1        SpaceX     $100B     12/1/12                                Other   \n",
       "2         SHEIN     $100B      7/3/18      E-commerce & direct-to-consumer   \n",
       "3        Stripe      $95B     1/23/14                              Fintech   \n",
       "4        Klarna      $46B    12/12/11                              Fintech   \n",
       "5         Canva      $40B      1/8/18         Internet software & services   \n",
       "6  Checkout.com      $40B      5/2/19                              Fintech   \n",
       "7     Instacart      $39B    12/30/14  Supply chain, logistics, & delivery   \n",
       "8     JUUL Labs      $38B    12/20/17                    Consumer & retail   \n",
       "9    Databricks      $38B      2/5/19          Data management & analytics   \n",
       "\n",
       "            City  Country/Region      Continent  Year Founded Funding  \\\n",
       "0        Beijing           China           Asia          2012     $8B   \n",
       "1      Hawthorne   United States  North America          2002     $7B   \n",
       "2       Shenzhen           China           Asia          2008     $2B   \n",
       "3  San Francisco   United States  North America          2010     $2B   \n",
       "4      Stockholm          Sweden         Europe          2005     $4B   \n",
       "5    Surry Hills       Australia        Oceania          2012   $572M   \n",
       "6         London  United Kingdom         Europe          2012     $2B   \n",
       "7  San Francisco   United States  North America          2012     $3B   \n",
       "8  San Francisco   United States  North America          2015    $14B   \n",
       "9  San Francisco   United States  North America          2013     $3B   \n",
       "\n",
       "                                    Select Investors  \n",
       "0  Sequoia Capital China, SIG Asia Investments, S...  \n",
       "1  Founders Fund, Draper Fisher Jurvetson, Rothen...  \n",
       "2  Tiger Global Management, Sequoia Capital China...  \n",
       "3        Khosla Ventures, LowercaseCapital, capitalG  \n",
       "4  Institutional Venture Partners, Sequoia Capita...  \n",
       "5  Sequoia Capital China, Blackbird Ventures, Mat...  \n",
       "6  Tiger Global Management, Insight Partners, DST...  \n",
       "7  Khosla Ventures, Kleiner Perkins Caufield & By...  \n",
       "8                            Tiger Global Management  \n",
       "9  Andreessen Horowitz, New Enterprise Associates...  "
      ]
     },
     "execution_count": 3,
     "metadata": {},
     "output_type": "execute_result"
    }
   ],
   "source": [
    "# Display the first 10 rows of the data.\n",
    "\n",
    "### YOUR CODE HERE ###\n",
    "\n",
    "companies.head(10)"
   ]
  },
  {
   "cell_type": "markdown",
   "id": "9dbc2d51",
   "metadata": {
    "id": "49881dfd-4532-424f-9729-f5378d984df0",
    "jp-MarkdownHeadingCollapsed": true,
    "papermill": {
     "duration": 0.019152,
     "end_time": "2025-02-06T04:36:15.021627",
     "exception": false,
     "start_time": "2025-02-06T04:36:15.002475",
     "status": "completed"
    },
    "tags": []
   },
   "source": [
    "<details>\n",
    "  <summary><h4><strong>Hint 1</strong></h4></summary>\n",
    "\n",
    "Refer to [the content about exploratory data analysis in Python](https://www.coursera.org/learn/go-beyond-the-numbers-translate-data-into-insight/lecture/kfl9b/find-stories-using-the-six-exploratory-data-analysis-practices).\n",
    "\n",
    "</details>"
   ]
  },
  {
   "cell_type": "markdown",
   "id": "5f4828e9",
   "metadata": {
    "id": "k2QxFOi9HW1Q",
    "jp-MarkdownHeadingCollapsed": true,
    "papermill": {
     "duration": 0.020022,
     "end_time": "2025-02-06T04:36:15.061165",
     "exception": false,
     "start_time": "2025-02-06T04:36:15.041143",
     "status": "completed"
    },
    "tags": []
   },
   "source": [
    "<details>\n",
    "  <summary><h4><strong>Hint 2</strong></h4></summary>\n",
    "\n",
    "Use the function in the `pandas` library that allows you to get a specific number of rows from the top of a DataFrame.\n",
    " \n",
    "\n",
    "</details>"
   ]
  },
  {
   "cell_type": "markdown",
   "id": "fecae1d0",
   "metadata": {
    "id": "ptkclWFzHjHv",
    "jp-MarkdownHeadingCollapsed": true,
    "papermill": {
     "duration": 0.02002,
     "end_time": "2025-02-06T04:36:15.100939",
     "exception": false,
     "start_time": "2025-02-06T04:36:15.080919",
     "status": "completed"
    },
    "tags": []
   },
   "source": [
    "<details>\n",
    "  <summary><h4><strong>Hint 3</strong></h4></summary>\n",
    "\n",
    "  Call the `head()` function from the `pandas` library and pass in the number of rows you want from the top of the DataFrame.\n",
    "\n",
    "</details>"
   ]
  },
  {
   "cell_type": "markdown",
   "id": "705581a5",
   "metadata": {
    "id": "e31095a6-5526-42d3-b1c0-b77c1f8b3852",
    "papermill": {
     "duration": 0.019999,
     "end_time": "2025-02-06T04:36:15.143568",
     "exception": false,
     "start_time": "2025-02-06T04:36:15.123569",
     "status": "completed"
    },
    "tags": []
   },
   "source": [
    "### Identify the number of rows and columns\n",
    "\n",
    "Identify the number of rows and columns in the dataset. This will help you get a sense of how much data you are working with."
   ]
  },
  {
   "cell_type": "code",
   "execution_count": 4,
   "id": "4821857e",
   "metadata": {
    "execution": {
     "iopub.execute_input": "2025-02-06T04:36:15.184225Z",
     "iopub.status.busy": "2025-02-06T04:36:15.183815Z",
     "iopub.status.idle": "2025-02-06T04:36:15.209680Z",
     "shell.execute_reply": "2025-02-06T04:36:15.208344Z"
    },
    "id": "df3c71a1-2519-4c50-86c2-63902a534d27",
    "papermill": {
     "duration": 0.048202,
     "end_time": "2025-02-06T04:36:15.211589",
     "exception": false,
     "start_time": "2025-02-06T04:36:15.163387",
     "status": "completed"
    },
    "tags": []
   },
   "outputs": [
    {
     "name": "stdout",
     "output_type": "stream",
     "text": [
      "(1074, 10)\n",
      "1073\n"
     ]
    },
    {
     "data": {
      "text/html": [
       "<div>\n",
       "<style scoped>\n",
       "    .dataframe tbody tr th:only-of-type {\n",
       "        vertical-align: middle;\n",
       "    }\n",
       "\n",
       "    .dataframe tbody tr th {\n",
       "        vertical-align: top;\n",
       "    }\n",
       "\n",
       "    .dataframe thead th {\n",
       "        text-align: right;\n",
       "    }\n",
       "</style>\n",
       "<table border=\"1\" class=\"dataframe\">\n",
       "  <thead>\n",
       "    <tr style=\"text-align: right;\">\n",
       "      <th></th>\n",
       "      <th>Company</th>\n",
       "      <th>Valuation</th>\n",
       "      <th>Date Joined</th>\n",
       "      <th>Industry</th>\n",
       "      <th>City</th>\n",
       "      <th>Country/Region</th>\n",
       "      <th>Continent</th>\n",
       "      <th>Year Founded</th>\n",
       "      <th>Funding</th>\n",
       "      <th>Select Investors</th>\n",
       "    </tr>\n",
       "  </thead>\n",
       "  <tbody>\n",
       "    <tr>\n",
       "      <th>40</th>\n",
       "      <td>Bolt</td>\n",
       "      <td>$11B</td>\n",
       "      <td>5/29/18</td>\n",
       "      <td>Auto &amp; transportation</td>\n",
       "      <td>Tallinn</td>\n",
       "      <td>Estonia</td>\n",
       "      <td>Europe</td>\n",
       "      <td>2013</td>\n",
       "      <td>$1B</td>\n",
       "      <td>Didi Chuxing, Diamler, TMT Investments</td>\n",
       "    </tr>\n",
       "    <tr>\n",
       "      <th>44</th>\n",
       "      <td>Bolt</td>\n",
       "      <td>$11B</td>\n",
       "      <td>10/8/21</td>\n",
       "      <td>Fintech</td>\n",
       "      <td>San Francisco</td>\n",
       "      <td>United States</td>\n",
       "      <td>North America</td>\n",
       "      <td>2014</td>\n",
       "      <td>$1B</td>\n",
       "      <td>Activant Capital, Tribe Capital, General Atlantic</td>\n",
       "    </tr>\n",
       "  </tbody>\n",
       "</table>\n",
       "</div>"
      ],
      "text/plain": [
       "   Company Valuation Date Joined               Industry           City  \\\n",
       "40    Bolt      $11B     5/29/18  Auto & transportation        Tallinn   \n",
       "44    Bolt      $11B     10/8/21                Fintech  San Francisco   \n",
       "\n",
       "   Country/Region      Continent  Year Founded Funding  \\\n",
       "40        Estonia         Europe          2013     $1B   \n",
       "44  United States  North America          2014     $1B   \n",
       "\n",
       "                                     Select Investors  \n",
       "40             Didi Chuxing, Diamler, TMT Investments  \n",
       "44  Activant Capital, Tribe Capital, General Atlantic  "
      ]
     },
     "execution_count": 4,
     "metadata": {},
     "output_type": "execute_result"
    }
   ],
   "source": [
    "# Identify the number of rows and columns in the dataset.\n",
    "\n",
    "### YOUR CODE HERE ###\n",
    "# find the shape of the df\n",
    "print(companies.shape)\n",
    "\n",
    "# print the companies with unique names\n",
    "print(companies[\"Company\"].nunique())\n",
    "\n",
    "# confirm if the companies with different names are indeed different companies\n",
    "companies[companies['Company'].duplicated(keep=False)].head()\n"
   ]
  },
  {
   "cell_type": "markdown",
   "id": "a9c885ed",
   "metadata": {
    "id": "-BS8MzFiu2hD",
    "jp-MarkdownHeadingCollapsed": true,
    "papermill": {
     "duration": 0.020643,
     "end_time": "2025-02-06T04:36:15.252501",
     "exception": false,
     "start_time": "2025-02-06T04:36:15.231858",
     "status": "completed"
    },
    "tags": []
   },
   "source": [
    "<details>\n",
    "  <summary><h4><strong>Hint 1</strong></h4></summary>\n",
    "\n",
    "Refer to [the content about exploratory data analysis in Python](https://www.coursera.org/learn/go-beyond-the-numbers-translate-data-into-insight/lecture/kfl9b/find-stories-using-the-six-exploratory-data-analysis-practices).\n",
    "\n",
    "</details>"
   ]
  },
  {
   "cell_type": "markdown",
   "id": "3552d051",
   "metadata": {
    "id": "WtQIWoeMu2hE",
    "jp-MarkdownHeadingCollapsed": true,
    "papermill": {
     "duration": 0.019811,
     "end_time": "2025-02-06T04:36:15.292700",
     "exception": false,
     "start_time": "2025-02-06T04:36:15.272889",
     "status": "completed"
    },
    "tags": []
   },
   "source": [
    "<details>\n",
    "  <summary><h4><strong>Hint 2</strong></h4></summary>\n",
    "\n",
    "Use the property that DataFrames in `pandas` have to display the number of rows and the number of columns as a tuple.\n",
    " \n",
    "\n",
    "</details>"
   ]
  },
  {
   "cell_type": "markdown",
   "id": "30102630",
   "metadata": {
    "id": "f0cMU_Mqu2hF",
    "jp-MarkdownHeadingCollapsed": true,
    "papermill": {
     "duration": 0.020575,
     "end_time": "2025-02-06T04:36:15.333516",
     "exception": false,
     "start_time": "2025-02-06T04:36:15.312941",
     "status": "completed"
    },
    "tags": []
   },
   "source": [
    "<details>\n",
    "  <summary><h4><strong>Hint 3</strong></h4></summary>\n",
    "\n",
    "The `shape` property that DataFrames have can help.\n",
    "\n",
    "</details>"
   ]
  },
  {
   "cell_type": "markdown",
   "id": "d37c1f46",
   "metadata": {
    "id": "4c2998a8-f864-43eb-a2d5-64845ebc805c",
    "papermill": {
     "duration": 0.020274,
     "end_time": "2025-02-06T04:36:15.376182",
     "exception": false,
     "start_time": "2025-02-06T04:36:15.355908",
     "status": "completed"
    },
    "tags": []
   },
   "source": [
    "**Question:** How many rows and columns are in the dataset? How many unicorn companies are there? How many aspects are shown for each company?\n"
   ]
  },
  {
   "cell_type": "markdown",
   "id": "521a1742",
   "metadata": {
    "id": "I814R8oVz0f8",
    "papermill": {
     "duration": 0.021448,
     "end_time": "2025-02-06T04:36:15.419827",
     "exception": false,
     "start_time": "2025-02-06T04:36:15.398379",
     "status": "completed"
    },
    "tags": []
   },
   "source": [
    "* rows = 1074\n",
    "* columns = 10\n",
    "* 1074 companies. 2 companies has the same name "
   ]
  },
  {
   "cell_type": "markdown",
   "id": "318cc482",
   "metadata": {
    "id": "H_ot-KEQ_YAH",
    "papermill": {
     "duration": 0.019145,
     "end_time": "2025-02-06T04:36:15.459322",
     "exception": false,
     "start_time": "2025-02-06T04:36:15.440177",
     "status": "completed"
    },
    "tags": []
   },
   "source": [
    "### Check for duplicates in the data"
   ]
  },
  {
   "cell_type": "code",
   "execution_count": 5,
   "id": "bf6660b6",
   "metadata": {
    "execution": {
     "iopub.execute_input": "2025-02-06T04:36:15.500491Z",
     "iopub.status.busy": "2025-02-06T04:36:15.500103Z",
     "iopub.status.idle": "2025-02-06T04:36:15.512841Z",
     "shell.execute_reply": "2025-02-06T04:36:15.511346Z"
    },
    "id": "3eT0fgc__MY9",
    "papermill": {
     "duration": 0.036056,
     "end_time": "2025-02-06T04:36:15.514772",
     "exception": false,
     "start_time": "2025-02-06T04:36:15.478716",
     "status": "completed"
    },
    "tags": []
   },
   "outputs": [
    {
     "data": {
      "text/plain": [
       "(1074, 10)"
      ]
     },
     "execution_count": 5,
     "metadata": {},
     "output_type": "execute_result"
    }
   ],
   "source": [
    "# Check for duplicates.\n",
    "\n",
    "### YOUR CODE HERE ###\n",
    "\n",
    "# drop the duplicates and find the shape of the new df\n",
    "companies.drop_duplicates().shape"
   ]
  },
  {
   "cell_type": "markdown",
   "id": "c87bb1b1",
   "metadata": {
    "id": "5XLziTHPAZkn",
    "jp-MarkdownHeadingCollapsed": true,
    "papermill": {
     "duration": 0.02044,
     "end_time": "2025-02-06T04:36:15.555599",
     "exception": false,
     "start_time": "2025-02-06T04:36:15.535159",
     "status": "completed"
    },
    "tags": []
   },
   "source": [
    "<details>\n",
    "  <summary><h4><strong>Hint 1</strong></h4></summary>\n",
    "\n",
    "Refer to [the content about exploratory data analysis in Python](https://www.coursera.org/learn/go-beyond-the-numbers-translate-data-into-insight/lecture/kfl9b/find-stories-using-the-six-exploratory-data-analysis-practices).\n",
    "\n",
    "</details>"
   ]
  },
  {
   "cell_type": "markdown",
   "id": "4a4f770e",
   "metadata": {
    "id": "zYuUTbHgAZkp",
    "jp-MarkdownHeadingCollapsed": true,
    "papermill": {
     "duration": 0.020983,
     "end_time": "2025-02-06T04:36:15.597573",
     "exception": false,
     "start_time": "2025-02-06T04:36:15.576590",
     "status": "completed"
    },
    "tags": []
   },
   "source": [
    "<details>\n",
    "  <summary><h4><strong>Hint 2</strong></h4></summary>\n",
    "\n",
    "Use the function in `pandas` that can be called on a DataFrame to return the same DataFrame but with duplicates removed.\n",
    "\n",
    "Use property that DataFrames in `pandas` have that to display the number of rows and columns as a tuple.\n",
    " \n",
    "</details>"
   ]
  },
  {
   "cell_type": "markdown",
   "id": "e8395460",
   "metadata": {
    "id": "oi-zzNBGAZkp",
    "jp-MarkdownHeadingCollapsed": true,
    "papermill": {
     "duration": 0.021201,
     "end_time": "2025-02-06T04:36:15.642047",
     "exception": false,
     "start_time": "2025-02-06T04:36:15.620846",
     "status": "completed"
    },
    "tags": []
   },
   "source": [
    "<details>\n",
    "  <summary><h4><strong>Hint 3</strong></h4></summary>\n",
    "\n",
    "Call the `drop_duplicates()` function on `companies`, followed by calling the `shape` property. \n",
    "\n",
    "Compare the shape that is returned from this to the original shape of `companies`, which you identified previously. \n",
    "\n",
    "</details>"
   ]
  },
  {
   "cell_type": "markdown",
   "id": "d5248f37",
   "metadata": {
    "id": "-6S3zT-l_ydL",
    "papermill": {
     "duration": 0.079243,
     "end_time": "2025-02-06T04:36:15.741891",
     "exception": false,
     "start_time": "2025-02-06T04:36:15.662648",
     "status": "completed"
    },
    "tags": []
   },
   "source": [
    "**Question:** Based on the preceding output, are there any duplicates in the dataset?\n"
   ]
  },
  {
   "cell_type": "markdown",
   "id": "950b2c98",
   "metadata": {
    "id": "QqXNXWRQz1mh",
    "papermill": {
     "duration": 0.019924,
     "end_time": "2025-02-06T04:36:15.781896",
     "exception": false,
     "start_time": "2025-02-06T04:36:15.761972",
     "status": "completed"
    },
    "tags": []
   },
   "source": [
    "* no duplicates"
   ]
  },
  {
   "cell_type": "markdown",
   "id": "f5eeb513",
   "metadata": {
    "id": "fgD6IfeBsNW8",
    "papermill": {
     "duration": 0.019504,
     "end_time": "2025-02-06T04:36:15.821101",
     "exception": false,
     "start_time": "2025-02-06T04:36:15.801597",
     "status": "completed"
    },
    "tags": []
   },
   "source": [
    "### Display the data types of the columns \n",
    "\n",
    "Knowing the data types of the columns is helpful because it indicates what types of analysis and aggregation can be done, how a column can be transformed to suit specific tasks, and so on. Display the data types of the columns. "
   ]
  },
  {
   "cell_type": "code",
   "execution_count": 6,
   "id": "b258f7d1",
   "metadata": {
    "execution": {
     "iopub.execute_input": "2025-02-06T04:36:15.864299Z",
     "iopub.status.busy": "2025-02-06T04:36:15.863805Z",
     "iopub.status.idle": "2025-02-06T04:36:15.871486Z",
     "shell.execute_reply": "2025-02-06T04:36:15.870303Z"
    },
    "id": "PjO2hGK2r8vN",
    "papermill": {
     "duration": 0.032023,
     "end_time": "2025-02-06T04:36:15.873781",
     "exception": false,
     "start_time": "2025-02-06T04:36:15.841758",
     "status": "completed"
    },
    "tags": []
   },
   "outputs": [
    {
     "data": {
      "text/plain": [
       "Company             object\n",
       "Valuation           object\n",
       "Date Joined         object\n",
       "Industry            object\n",
       "City                object\n",
       "Country/Region      object\n",
       "Continent           object\n",
       "Year Founded         int64\n",
       "Funding             object\n",
       "Select Investors    object\n",
       "dtype: object"
      ]
     },
     "execution_count": 6,
     "metadata": {},
     "output_type": "execute_result"
    }
   ],
   "source": [
    "# Display the data types of the columns.\n",
    "\n",
    "### YOUR CODE HERE ###\n",
    "# list the data types of all cols\n",
    "companies.dtypes"
   ]
  },
  {
   "cell_type": "markdown",
   "id": "073386dd",
   "metadata": {
    "id": "rDrbzQlhkB5F",
    "jp-MarkdownHeadingCollapsed": true,
    "papermill": {
     "duration": 0.019579,
     "end_time": "2025-02-06T04:36:15.914453",
     "exception": false,
     "start_time": "2025-02-06T04:36:15.894874",
     "status": "completed"
    },
    "tags": []
   },
   "source": [
    "<details>\n",
    "  <summary><h4><strong>Hint 1</strong></h4></summary>\n",
    "\n",
    "Refer to [the content about exploratory data analysis in Python](https://www.coursera.org/learn/go-beyond-the-numbers-translate-data-into-insight/lecture/kfl9b/find-stories-using-the-six-exploratory-data-analysis-practices).\n",
    "\n",
    "</details>"
   ]
  },
  {
   "cell_type": "markdown",
   "id": "c8147abb",
   "metadata": {
    "id": "iBciSHO2kB5H",
    "jp-MarkdownHeadingCollapsed": true,
    "papermill": {
     "duration": 0.020414,
     "end_time": "2025-02-06T04:36:15.954875",
     "exception": false,
     "start_time": "2025-02-06T04:36:15.934461",
     "status": "completed"
    },
    "tags": []
   },
   "source": [
    "<details>\n",
    "  <summary><h4><strong>Hint 2</strong></h4></summary>\n",
    "\n",
    "Use the property that DataFrames in `pandas` have to display the data types of the columns in the specified DataFrame.\n",
    " \n",
    "\n",
    "</details>"
   ]
  },
  {
   "cell_type": "markdown",
   "id": "ad2c6520",
   "metadata": {
    "id": "kyq_H95zkB5I",
    "jp-MarkdownHeadingCollapsed": true,
    "papermill": {
     "duration": 0.019577,
     "end_time": "2025-02-06T04:36:15.994348",
     "exception": false,
     "start_time": "2025-02-06T04:36:15.974771",
     "status": "completed"
    },
    "tags": []
   },
   "source": [
    "<details>\n",
    "  <summary><h4><strong>Hint 3</strong></h4></summary>\n",
    "\n",
    "The `dtypes` property that DataFrames have can help.\n",
    "\n",
    "</details>"
   ]
  },
  {
   "cell_type": "markdown",
   "id": "888b1199",
   "metadata": {
    "id": "bd6573bc-2adb-410e-a85c-d6d5886d51bf",
    "papermill": {
     "duration": 0.020525,
     "end_time": "2025-02-06T04:36:16.034881",
     "exception": false,
     "start_time": "2025-02-06T04:36:16.014356",
     "status": "completed"
    },
    "tags": []
   },
   "source": [
    "**Question:** What do you notice about the data types of the columns in the dataset?\n"
   ]
  },
  {
   "cell_type": "markdown",
   "id": "edd661b9",
   "metadata": {
    "id": "NmHY4cWIz2n5",
    "papermill": {
     "duration": 0.021445,
     "end_time": "2025-02-06T04:36:16.077791",
     "exception": false,
     "start_time": "2025-02-06T04:36:16.056346",
     "status": "completed"
    },
    "tags": []
   },
   "source": [
    "* Date joined must be date datatype\n",
    "* Year Founded must be date datatype"
   ]
  },
  {
   "cell_type": "markdown",
   "id": "41548ce3",
   "metadata": {
    "id": "cAfmH6tjHYiq",
    "papermill": {
     "duration": 0.019564,
     "end_time": "2025-02-06T04:36:16.119314",
     "exception": false,
     "start_time": "2025-02-06T04:36:16.099750",
     "status": "completed"
    },
    "tags": []
   },
   "source": [
    "**Question:** How would you sort this dataset in order to get insights about when the companies were founded? Then, how would you arrange the data from companies that were founded the earliest to companies that were founded the latest?\n"
   ]
  },
  {
   "cell_type": "markdown",
   "id": "a7c2f655",
   "metadata": {
    "id": "8DtM8u4Iz3TA",
    "papermill": {
     "duration": 0.019452,
     "end_time": "2025-02-06T04:36:16.158610",
     "exception": false,
     "start_time": "2025-02-06T04:36:16.139158",
     "status": "completed"
    },
    "tags": []
   },
   "source": [
    "* convert data type to year in the 'Year Founded' column\n",
    "* arrange the dataframe using .sort_values() ascending to find the earliest at the top "
   ]
  },
  {
   "cell_type": "markdown",
   "id": "f3d84aea",
   "metadata": {
    "id": "1ZqTQXEN9WbW",
    "papermill": {
     "duration": 0.019899,
     "end_time": "2025-02-06T04:36:16.198410",
     "exception": false,
     "start_time": "2025-02-06T04:36:16.178511",
     "status": "completed"
    },
    "tags": []
   },
   "source": [
    "### Sort the data\n",
    "\n",
    "In this section, you will continue your exploratory data analysis by structuring the data. This is an important step in EDA, as it allows you to glean valuable and interesting insights about the data afterwards.\n",
    "\n",
    "To begin, sort the data so that you can get insights about when the companies were founded. Consider whether it would make sense to sort in ascending or descending order based on what you would like to find."
   ]
  },
  {
   "cell_type": "code",
   "execution_count": 7,
   "id": "cfca5955",
   "metadata": {
    "execution": {
     "iopub.execute_input": "2025-02-06T04:36:16.241765Z",
     "iopub.status.busy": "2025-02-06T04:36:16.241405Z",
     "iopub.status.idle": "2025-02-06T04:36:16.259793Z",
     "shell.execute_reply": "2025-02-06T04:36:16.258517Z"
    },
    "id": "sjWPuI-xKDat",
    "papermill": {
     "duration": 0.041538,
     "end_time": "2025-02-06T04:36:16.261936",
     "exception": false,
     "start_time": "2025-02-06T04:36:16.220398",
     "status": "completed"
    },
    "tags": []
   },
   "outputs": [
    {
     "data": {
      "text/html": [
       "<div>\n",
       "<style scoped>\n",
       "    .dataframe tbody tr th:only-of-type {\n",
       "        vertical-align: middle;\n",
       "    }\n",
       "\n",
       "    .dataframe tbody tr th {\n",
       "        vertical-align: top;\n",
       "    }\n",
       "\n",
       "    .dataframe thead th {\n",
       "        text-align: right;\n",
       "    }\n",
       "</style>\n",
       "<table border=\"1\" class=\"dataframe\">\n",
       "  <thead>\n",
       "    <tr style=\"text-align: right;\">\n",
       "      <th></th>\n",
       "      <th>Company</th>\n",
       "      <th>Valuation</th>\n",
       "      <th>Date Joined</th>\n",
       "      <th>Industry</th>\n",
       "      <th>City</th>\n",
       "      <th>Country/Region</th>\n",
       "      <th>Continent</th>\n",
       "      <th>Year Founded</th>\n",
       "      <th>Funding</th>\n",
       "      <th>Select Investors</th>\n",
       "    </tr>\n",
       "  </thead>\n",
       "  <tbody>\n",
       "    <tr>\n",
       "      <th>189</th>\n",
       "      <td>Otto Bock HealthCare</td>\n",
       "      <td>$4B</td>\n",
       "      <td>6/24/17</td>\n",
       "      <td>Health</td>\n",
       "      <td>Duderstadt</td>\n",
       "      <td>Germany</td>\n",
       "      <td>Europe</td>\n",
       "      <td>1919</td>\n",
       "      <td>$0M</td>\n",
       "      <td>EQT Partners</td>\n",
       "    </tr>\n",
       "    <tr>\n",
       "      <th>373</th>\n",
       "      <td>Promasidor Holdings</td>\n",
       "      <td>$2B</td>\n",
       "      <td>11/8/16</td>\n",
       "      <td>Consumer &amp; retail</td>\n",
       "      <td>Bryanston</td>\n",
       "      <td>South Africa</td>\n",
       "      <td>Asia</td>\n",
       "      <td>1979</td>\n",
       "      <td>$556M</td>\n",
       "      <td>IFC, Ajinomoto</td>\n",
       "    </tr>\n",
       "    <tr>\n",
       "      <th>699</th>\n",
       "      <td>Five Star Business Finance</td>\n",
       "      <td>$1B</td>\n",
       "      <td>3/26/21</td>\n",
       "      <td>Other</td>\n",
       "      <td>Chennai</td>\n",
       "      <td>India</td>\n",
       "      <td>Asia</td>\n",
       "      <td>1984</td>\n",
       "      <td>$456M</td>\n",
       "      <td>Sequoia Capital India, Tiger Global Management...</td>\n",
       "    </tr>\n",
       "    <tr>\n",
       "      <th>840</th>\n",
       "      <td>Radius Payment Solutions</td>\n",
       "      <td>$1B</td>\n",
       "      <td>11/27/17</td>\n",
       "      <td>Fintech</td>\n",
       "      <td>Crewe</td>\n",
       "      <td>United Kingdom</td>\n",
       "      <td>Europe</td>\n",
       "      <td>1990</td>\n",
       "      <td>$200M</td>\n",
       "      <td>Inflexion Private Equity</td>\n",
       "    </tr>\n",
       "    <tr>\n",
       "      <th>11</th>\n",
       "      <td>Epic Games</td>\n",
       "      <td>$32B</td>\n",
       "      <td>10/26/18</td>\n",
       "      <td>Other</td>\n",
       "      <td>Cary</td>\n",
       "      <td>United States</td>\n",
       "      <td>North America</td>\n",
       "      <td>1991</td>\n",
       "      <td>$7B</td>\n",
       "      <td>Tencent Holdings, KKR, Smash Ventures</td>\n",
       "    </tr>\n",
       "    <tr>\n",
       "      <th>377</th>\n",
       "      <td>BGL Group</td>\n",
       "      <td>$2B</td>\n",
       "      <td>11/24/17</td>\n",
       "      <td>Fintech</td>\n",
       "      <td>Peterborough</td>\n",
       "      <td>United Kingdom</td>\n",
       "      <td>Europe</td>\n",
       "      <td>1992</td>\n",
       "      <td>$696M</td>\n",
       "      <td>CPP Investment Board</td>\n",
       "    </tr>\n",
       "    <tr>\n",
       "      <th>1043</th>\n",
       "      <td>Thirty Madison</td>\n",
       "      <td>$1B</td>\n",
       "      <td>6/2/21</td>\n",
       "      <td>Health</td>\n",
       "      <td>New York</td>\n",
       "      <td>United States</td>\n",
       "      <td>North America</td>\n",
       "      <td>1993</td>\n",
       "      <td>$210M</td>\n",
       "      <td>Northzone Ventures, Maveron, Johnson &amp; Johnson...</td>\n",
       "    </tr>\n",
       "    <tr>\n",
       "      <th>129</th>\n",
       "      <td>Howden Group Holdings</td>\n",
       "      <td>$5B</td>\n",
       "      <td>9/29/20</td>\n",
       "      <td>Other</td>\n",
       "      <td>London</td>\n",
       "      <td>United Kingdom</td>\n",
       "      <td>Europe</td>\n",
       "      <td>1994</td>\n",
       "      <td>$187M</td>\n",
       "      <td>General Atlantic, 3i Group, Huagai Capital</td>\n",
       "    </tr>\n",
       "    <tr>\n",
       "      <th>118</th>\n",
       "      <td>Vice Media</td>\n",
       "      <td>$6B</td>\n",
       "      <td>4/2/11</td>\n",
       "      <td>Internet software &amp; services</td>\n",
       "      <td>Brooklyn</td>\n",
       "      <td>United States</td>\n",
       "      <td>North America</td>\n",
       "      <td>1994</td>\n",
       "      <td>$1B</td>\n",
       "      <td>Technology Crossover Ventures, A&amp;E Television ...</td>\n",
       "    </tr>\n",
       "    <tr>\n",
       "      <th>360</th>\n",
       "      <td>Carzone</td>\n",
       "      <td>$2B</td>\n",
       "      <td>3/1/19</td>\n",
       "      <td>E-commerce &amp; direct-to-consumer</td>\n",
       "      <td>Jiangsu</td>\n",
       "      <td>China</td>\n",
       "      <td>Asia</td>\n",
       "      <td>1995</td>\n",
       "      <td>$946M</td>\n",
       "      <td>Alibaba Group,Co-Stone Venture Capital, Buhuo ...</td>\n",
       "    </tr>\n",
       "  </tbody>\n",
       "</table>\n",
       "</div>"
      ],
      "text/plain": [
       "                         Company Valuation Date Joined  \\\n",
       "189         Otto Bock HealthCare       $4B     6/24/17   \n",
       "373          Promasidor Holdings       $2B     11/8/16   \n",
       "699   Five Star Business Finance       $1B     3/26/21   \n",
       "840     Radius Payment Solutions       $1B    11/27/17   \n",
       "11                    Epic Games      $32B    10/26/18   \n",
       "377                    BGL Group       $2B    11/24/17   \n",
       "1043              Thirty Madison       $1B      6/2/21   \n",
       "129        Howden Group Holdings       $5B     9/29/20   \n",
       "118                   Vice Media       $6B      4/2/11   \n",
       "360                      Carzone       $2B      3/1/19   \n",
       "\n",
       "                             Industry          City  Country/Region  \\\n",
       "189                            Health    Duderstadt         Germany   \n",
       "373                 Consumer & retail     Bryanston    South Africa   \n",
       "699                             Other       Chennai           India   \n",
       "840                           Fintech         Crewe  United Kingdom   \n",
       "11                              Other          Cary   United States   \n",
       "377                           Fintech  Peterborough  United Kingdom   \n",
       "1043                           Health      New York   United States   \n",
       "129                             Other        London  United Kingdom   \n",
       "118      Internet software & services      Brooklyn   United States   \n",
       "360   E-commerce & direct-to-consumer       Jiangsu           China   \n",
       "\n",
       "          Continent  Year Founded Funding  \\\n",
       "189          Europe          1919     $0M   \n",
       "373            Asia          1979   $556M   \n",
       "699            Asia          1984   $456M   \n",
       "840          Europe          1990   $200M   \n",
       "11    North America          1991     $7B   \n",
       "377          Europe          1992   $696M   \n",
       "1043  North America          1993   $210M   \n",
       "129          Europe          1994   $187M   \n",
       "118   North America          1994     $1B   \n",
       "360            Asia          1995   $946M   \n",
       "\n",
       "                                       Select Investors  \n",
       "189                                        EQT Partners  \n",
       "373                                      IFC, Ajinomoto  \n",
       "699   Sequoia Capital India, Tiger Global Management...  \n",
       "840                            Inflexion Private Equity  \n",
       "11                Tencent Holdings, KKR, Smash Ventures  \n",
       "377                                CPP Investment Board  \n",
       "1043  Northzone Ventures, Maveron, Johnson & Johnson...  \n",
       "129          General Atlantic, 3i Group, Huagai Capital  \n",
       "118   Technology Crossover Ventures, A&E Television ...  \n",
       "360   Alibaba Group,Co-Stone Venture Capital, Buhuo ...  "
      ]
     },
     "execution_count": 7,
     "metadata": {},
     "output_type": "execute_result"
    }
   ],
   "source": [
    "# Sort `companies` and display the first 10 rows of the resulting DataFrame.\n",
    "\n",
    "### YOUR CODE HERE ###\n",
    "# sort the companies by Year founded with the earliest founded companies at the top\n",
    "companies.sort_values(by='Year Founded', ascending=True).head(10)\n"
   ]
  },
  {
   "cell_type": "markdown",
   "id": "8c480392",
   "metadata": {
    "id": "STL5Rkc9AbZE",
    "jp-MarkdownHeadingCollapsed": true,
    "papermill": {
     "duration": 0.020667,
     "end_time": "2025-02-06T04:36:16.303710",
     "exception": false,
     "start_time": "2025-02-06T04:36:16.283043",
     "status": "completed"
    },
    "tags": []
   },
   "source": [
    "<details>\n",
    "  <summary><h4><strong>Hint 1</strong></h4></summary>\n",
    "\n",
    "Refer to [the content about exploratory data analysis in Python](https://www.coursera.org/learn/go-beyond-the-numbers-translate-data-into-insight/lecture/kfl9b/find-stories-using-the-six-exploratory-data-analysis-practices).\n",
    "\n",
    "</details>"
   ]
  },
  {
   "cell_type": "markdown",
   "id": "0290542c",
   "metadata": {
    "id": "_n2d45jEAbZF",
    "jp-MarkdownHeadingCollapsed": true,
    "papermill": {
     "duration": 0.02175,
     "end_time": "2025-02-06T04:36:16.348150",
     "exception": false,
     "start_time": "2025-02-06T04:36:16.326400",
     "status": "completed"
    },
    "tags": []
   },
   "source": [
    "<details>\n",
    "  <summary><h4><strong>Hint 2</strong></h4></summary>\n",
    "\n",
    "Use the function in `pandas` that allows you to sort a DataFrame along a specific column.\n",
    "\n",
    "</details>"
   ]
  },
  {
   "cell_type": "markdown",
   "id": "1db4066c",
   "metadata": {
    "id": "0glE3KHwAbZG",
    "jp-MarkdownHeadingCollapsed": true,
    "papermill": {
     "duration": 0.020115,
     "end_time": "2025-02-06T04:36:16.389046",
     "exception": false,
     "start_time": "2025-02-06T04:36:16.368931",
     "status": "completed"
    },
    "tags": []
   },
   "source": [
    "<details>\n",
    "  <summary><h4><strong>Hint 3</strong></h4></summary>\n",
    "\n",
    "Use the `sort_values()` function, specifying the `by` parameter as the name of the column that you want to sort by and the `ascending` parameter as needed. Note that by default, `ascending` is set to `True`. If you want to sort in descending order, specify the `ascending` parameter as `False`.\n",
    "\n",
    "</details>"
   ]
  },
  {
   "cell_type": "markdown",
   "id": "e0b6d8ea",
   "metadata": {
    "id": "quCKIWjC_PZr",
    "papermill": {
     "duration": 0.020572,
     "end_time": "2025-02-06T04:36:16.430473",
     "exception": false,
     "start_time": "2025-02-06T04:36:16.409901",
     "status": "completed"
    },
    "tags": []
   },
   "source": [
    "**Question:** What do you observe from the sorting that you performed?\n"
   ]
  },
  {
   "cell_type": "markdown",
   "id": "b1cd02f3",
   "metadata": {
    "id": "xyvJZK9Bz4M0",
    "papermill": {
     "duration": 0.021468,
     "end_time": "2025-02-06T04:36:16.473223",
     "exception": false,
     "start_time": "2025-02-06T04:36:16.451755",
     "status": "completed"
    },
    "tags": []
   },
   "source": [
    "* when sorting the Year FOunded since it is in int datatype sorting in the ascending order results in earliest year at the top\n",
    "* Otto Bock Healthcare is the earliest founded (in 1919) company that is listed as an unicorn"
   ]
  },
  {
   "cell_type": "markdown",
   "id": "605f4e00",
   "metadata": {
    "id": "k9_pE69KFqUR",
    "papermill": {
     "duration": 0.021119,
     "end_time": "2025-02-06T04:36:16.516767",
     "exception": false,
     "start_time": "2025-02-06T04:36:16.495648",
     "status": "completed"
    },
    "tags": []
   },
   "source": [
    "**Question:** Which library would you use to get the count of each distinct value in the `Year Founded` column? \n"
   ]
  },
  {
   "cell_type": "markdown",
   "id": "d89e6b71",
   "metadata": {
    "id": "Cn0rtLX_z5BN",
    "papermill": {
     "duration": 0.02327,
     "end_time": "2025-02-06T04:36:16.562627",
     "exception": false,
     "start_time": "2025-02-06T04:36:16.539357",
     "status": "completed"
    },
    "tags": []
   },
   "source": [
    "* pandas library using the .value_counts() method on a dataframe"
   ]
  },
  {
   "cell_type": "markdown",
   "id": "899b9e3a",
   "metadata": {
    "id": "95ICE9dXHWZY",
    "papermill": {
     "duration": 0.033908,
     "end_time": "2025-02-06T04:36:16.623093",
     "exception": false,
     "start_time": "2025-02-06T04:36:16.589185",
     "status": "completed"
    },
    "tags": []
   },
   "source": [
    "### Determine the number of companies founded each year\n",
    "\n",
    "Find out how many companies in this dataset were founded each year. Make sure to display each unique `Year Founded` that occurs in the dataset, and for each year, a number that represents how many companies were founded then."
   ]
  },
  {
   "cell_type": "code",
   "execution_count": 8,
   "id": "43ca0631",
   "metadata": {
    "execution": {
     "iopub.execute_input": "2025-02-06T04:36:16.679602Z",
     "iopub.status.busy": "2025-02-06T04:36:16.679264Z",
     "iopub.status.idle": "2025-02-06T04:36:16.687143Z",
     "shell.execute_reply": "2025-02-06T04:36:16.686162Z"
    },
    "id": "_ZzafpsJ_VQ_",
    "papermill": {
     "duration": 0.032706,
     "end_time": "2025-02-06T04:36:16.688787",
     "exception": false,
     "start_time": "2025-02-06T04:36:16.656081",
     "status": "completed"
    },
    "tags": []
   },
   "outputs": [
    {
     "data": {
      "text/plain": [
       "Year Founded\n",
       "2015    155\n",
       "2016    110\n",
       "2014    109\n",
       "2012     95\n",
       "2013     87\n",
       "2011     82\n",
       "2017     74\n",
       "2018     61\n",
       "2019     45\n",
       "2010     40\n",
       "2009     34\n",
       "2008     27\n",
       "2020     25\n",
       "2007     24\n",
       "2006     15\n",
       "2005     14\n",
       "2000     11\n",
       "2021     11\n",
       "2001      9\n",
       "2004      8\n",
       "2003      8\n",
       "1999      8\n",
       "1998      5\n",
       "2002      4\n",
       "1995      2\n",
       "1994      2\n",
       "1979      1\n",
       "1997      1\n",
       "1996      1\n",
       "1993      1\n",
       "1992      1\n",
       "1991      1\n",
       "1990      1\n",
       "1984      1\n",
       "1919      1\n",
       "Name: count, dtype: int64"
      ]
     },
     "execution_count": 8,
     "metadata": {},
     "output_type": "execute_result"
    }
   ],
   "source": [
    "# Display each unique year that occurs in the dataset\n",
    "# along with the number of companies that were founded in each unique year.\n",
    "\n",
    "### YOUR CODE HERE ###\n",
    "# find the num of companies founded each year\n",
    "companies.value_counts('Year Founded')"
   ]
  },
  {
   "cell_type": "markdown",
   "id": "0be52770",
   "metadata": {
    "id": "nBZVJaWxJsKm",
    "jp-MarkdownHeadingCollapsed": true,
    "papermill": {
     "duration": 0.02965,
     "end_time": "2025-02-06T04:36:16.743883",
     "exception": false,
     "start_time": "2025-02-06T04:36:16.714233",
     "status": "completed"
    },
    "tags": []
   },
   "source": [
    "<details>\n",
    "  <summary><h4><strong>Hint 1</strong></h4></summary>\n",
    "\n",
    "Refer to [the content about exploratory data analysis in Python](https://www.coursera.org/learn/go-beyond-the-numbers-translate-data-into-insight/lecture/kfl9b/find-stories-using-the-six-exploratory-data-analysis-practices).\n",
    "\n",
    "</details>"
   ]
  },
  {
   "cell_type": "markdown",
   "id": "377049df",
   "metadata": {
    "id": "eGDXI8HcJsKo",
    "jp-MarkdownHeadingCollapsed": true,
    "papermill": {
     "duration": 0.034253,
     "end_time": "2025-02-06T04:36:16.806221",
     "exception": false,
     "start_time": "2025-02-06T04:36:16.771968",
     "status": "completed"
    },
    "tags": []
   },
   "source": [
    "<details>\n",
    "  <summary><h4><strong>Hint 2</strong></h4></summary>\n",
    "\n",
    "Use the function in `pandas` that allows you to get the count for each distinct value in a specific column.\n",
    "\n",
    "</details>"
   ]
  },
  {
   "cell_type": "markdown",
   "id": "9b81b382",
   "metadata": {
    "id": "cDwQaEkwJsKo",
    "jp-MarkdownHeadingCollapsed": true,
    "papermill": {
     "duration": 0.020755,
     "end_time": "2025-02-06T04:36:16.851841",
     "exception": false,
     "start_time": "2025-02-06T04:36:16.831086",
     "status": "completed"
    },
    "tags": []
   },
   "source": [
    "<details>\n",
    "  <summary><h4><strong>Hint 3</strong></h4></summary>\n",
    "\n",
    "Use the `value_counts()` function on the `Year Founded` column. \n",
    "\n",
    "</details>"
   ]
  },
  {
   "cell_type": "markdown",
   "id": "9e5b282b",
   "metadata": {
    "id": "rpMFZQqpJYW6",
    "papermill": {
     "duration": 0.020631,
     "end_time": "2025-02-06T04:36:16.893909",
     "exception": false,
     "start_time": "2025-02-06T04:36:16.873278",
     "status": "completed"
    },
    "tags": []
   },
   "source": [
    "**Question:** What do you observe from the counts of the unique `Year Founded` values in the dataset?\n"
   ]
  },
  {
   "cell_type": "markdown",
   "id": "992c76df",
   "metadata": {
    "id": "i8luOA1Oz6DJ",
    "papermill": {
     "duration": 0.033891,
     "end_time": "2025-02-06T04:36:16.961265",
     "exception": false,
     "start_time": "2025-02-06T04:36:16.927374",
     "status": "completed"
    },
    "tags": []
   },
   "source": [
    "* 2015 had 155 new companies founded followed by 2016 with 110 companies and 2014 with 109 companies"
   ]
  },
  {
   "cell_type": "markdown",
   "id": "16090150",
   "metadata": {
    "papermill": {
     "duration": 0.020325,
     "end_time": "2025-02-06T04:36:17.003460",
     "exception": false,
     "start_time": "2025-02-06T04:36:16.983135",
     "status": "completed"
    },
    "tags": []
   },
   "source": [
    "**Question:** What kind of graph represents the counts of samples based on a particular feature?\n"
   ]
  },
  {
   "cell_type": "markdown",
   "id": "9a065bed",
   "metadata": {
    "papermill": {
     "duration": 0.021533,
     "end_time": "2025-02-06T04:36:17.046672",
     "exception": false,
     "start_time": "2025-02-06T04:36:17.025139",
     "status": "completed"
    },
    "tags": []
   },
   "source": [
    "* a histogram"
   ]
  },
  {
   "cell_type": "markdown",
   "id": "3a60bec3",
   "metadata": {
    "papermill": {
     "duration": 0.021864,
     "end_time": "2025-02-06T04:36:17.090669",
     "exception": false,
     "start_time": "2025-02-06T04:36:17.068805",
     "status": "completed"
    },
    "tags": []
   },
   "source": [
    "Plot a histogram of the `Year Founded` feature."
   ]
  },
  {
   "cell_type": "code",
   "execution_count": 9,
   "id": "1f650038",
   "metadata": {
    "execution": {
     "iopub.execute_input": "2025-02-06T04:36:17.134602Z",
     "iopub.status.busy": "2025-02-06T04:36:17.134210Z",
     "iopub.status.idle": "2025-02-06T04:36:17.587084Z",
     "shell.execute_reply": "2025-02-06T04:36:17.585616Z"
    },
    "papermill": {
     "duration": 0.47686,
     "end_time": "2025-02-06T04:36:17.589104",
     "exception": false,
     "start_time": "2025-02-06T04:36:17.112244",
     "status": "completed"
    },
    "tags": []
   },
   "outputs": [
    {
     "name": "stderr",
     "output_type": "stream",
     "text": [
      "/usr/local/lib/python3.10/dist-packages/seaborn/_oldcore.py:1119: FutureWarning: use_inf_as_na option is deprecated and will be removed in a future version. Convert inf values to NaN before operating instead.\n",
      "  with pd.option_context('mode.use_inf_as_na', True):\n"
     ]
    },
    {
     "data": {
      "image/png": "[encoded data removed]",
      "text/plain": [
       "<Figure size 640x480 with 1 Axes>"
      ]
     },
     "metadata": {},
     "output_type": "display_data"
    }
   ],
   "source": [
    "# Plot a histogram of the Year Founded feature.\n",
    "### YOUR CODE HERE ###\n",
    "# visualize the number of companies founded each year\n",
    "sns.histplot(data=companies, x='Year Founded')\n",
    "plt.show()"
   ]
  },
  {
   "cell_type": "markdown",
   "id": "ca57f00c",
   "metadata": {
    "id": "XzKBLKpOMerv",
    "papermill": {
     "duration": 0.022849,
     "end_time": "2025-02-06T04:36:17.637782",
     "exception": false,
     "start_time": "2025-02-06T04:36:17.614933",
     "status": "completed"
    },
    "tags": []
   },
   "source": [
    "**Question:** If you want to compare when one company joined unicorn status to when another company joined, how would you transform the `Date Joined` column to gain that insight? To answer this question, notice the data types.\n"
   ]
  },
  {
   "cell_type": "markdown",
   "id": "04b7feee",
   "metadata": {
    "id": "RqFif2yaz6pU",
    "papermill": {
     "duration": 0.021573,
     "end_time": "2025-02-06T04:36:17.682718",
     "exception": false,
     "start_time": "2025-02-06T04:36:17.661145",
     "status": "completed"
    },
    "tags": []
   },
   "source": [
    "* convert the 'Date Joined' column to datetime datatype\n",
    "* we can then extract the year or Quarter or Decade to make meaningful comparisons"
   ]
  },
  {
   "cell_type": "markdown",
   "id": "fc1d524c",
   "metadata": {
    "id": "94b53c7f-54d8-4d1a-ae07-7c28c2ab8f5b",
    "papermill": {
     "duration": 0.021592,
     "end_time": "2025-02-06T04:36:17.725934",
     "exception": false,
     "start_time": "2025-02-06T04:36:17.704342",
     "status": "completed"
    },
    "tags": []
   },
   "source": [
    "### Convert the `Date Joined` column to datetime\n",
    "\n",
    "Convert the `Date Joined` column to datetime. This will split each value into year, month, and date components, allowing you to later gain insights about when a company gained unicorn status with respect to each component."
   ]
  },
  {
   "cell_type": "code",
   "execution_count": 10,
   "id": "7a6182e3",
   "metadata": {
    "execution": {
     "iopub.execute_input": "2025-02-06T04:36:17.770644Z",
     "iopub.status.busy": "2025-02-06T04:36:17.770242Z",
     "iopub.status.idle": "2025-02-06T04:36:17.840936Z",
     "shell.execute_reply": "2025-02-06T04:36:17.839841Z"
    },
    "id": "afe607c8-9dd7-47c3-9fc8-88772f015e2b",
    "papermill": {
     "duration": 0.094986,
     "end_time": "2025-02-06T04:36:17.842678",
     "exception": false,
     "start_time": "2025-02-06T04:36:17.747692",
     "status": "completed"
    },
    "tags": []
   },
   "outputs": [
    {
     "name": "stderr",
     "output_type": "stream",
     "text": [
      "<ipython-input-10-72da32496982>:7: UserWarning: Could not infer format, so each element will be parsed individually, falling back to `dateutil`. To ensure parsing is consistent and as-expected, please specify a format.\n",
      "  companies[\"Date Joined\"] = pd.to_datetime(companies[\"Date Joined\"])\n"
     ]
    },
    {
     "data": {
      "text/plain": [
       "Company                     object\n",
       "Valuation                   object\n",
       "Date Joined         datetime64[ns]\n",
       "Industry                    object\n",
       "City                        object\n",
       "Country/Region              object\n",
       "Continent                   object\n",
       "Year Founded                 int64\n",
       "Funding                     object\n",
       "Select Investors            object\n",
       "dtype: object"
      ]
     },
     "execution_count": 10,
     "metadata": {},
     "output_type": "execute_result"
    }
   ],
   "source": [
    "# Convert the `Date Joined` column to datetime.\n",
    "# Update the column with the converted values.\n",
    "\n",
    "### YOUR CODE HERE ###\n",
    "\n",
    "# convert the Date Joined col into datetime data type\n",
    "companies[\"Date Joined\"] = pd.to_datetime(companies[\"Date Joined\"])\n",
    "\n",
    "\n",
    "# Display the data types of the columns in `companies`\n",
    "# to confirm that the update actually took place.\n",
    "\n",
    "### YOUR CODE HERE ###\n",
    "companies.dtypes\n"
   ]
  },
  {
   "cell_type": "markdown",
   "id": "dc9d84d9",
   "metadata": {
    "id": "ouhV8x_wP5uJ",
    "jp-MarkdownHeadingCollapsed": true,
    "papermill": {
     "duration": 0.021609,
     "end_time": "2025-02-06T04:36:17.886256",
     "exception": false,
     "start_time": "2025-02-06T04:36:17.864647",
     "status": "completed"
    },
    "tags": []
   },
   "source": [
    "<details>\n",
    "  <summary><h4><strong>Hint 1</strong></h4></summary>\n",
    "\n",
    "Refer to [the content about datetime transformations in Python](https://www.coursera.org/learn/go-beyond-the-numbers-translate-data-into-insight/supplement/ZcM4z/reference-guide-datetime-manipulation).\n",
    "\n",
    "</details>"
   ]
  },
  {
   "cell_type": "markdown",
   "id": "517fc1b0",
   "metadata": {
    "id": "mhYA5bwIP5uL",
    "jp-MarkdownHeadingCollapsed": true,
    "papermill": {
     "duration": 0.021135,
     "end_time": "2025-02-06T04:36:17.929567",
     "exception": false,
     "start_time": "2025-02-06T04:36:17.908432",
     "status": "completed"
    },
    "tags": []
   },
   "source": [
    "<details>\n",
    "  <summary><h4><strong>Hint 2</strong></h4></summary>\n",
    "\n",
    "Use the function in `pandas` that allows you to convert an object to datetime format.\n",
    "\n",
    "Use the property that DataFrames have that can be used to display the data types of the columns.\n",
    "\n",
    "</details>"
   ]
  },
  {
   "cell_type": "markdown",
   "id": "879cd687",
   "metadata": {
    "id": "Y9ipjYInP5uM",
    "jp-MarkdownHeadingCollapsed": true,
    "papermill": {
     "duration": 0.021317,
     "end_time": "2025-02-06T04:36:17.972527",
     "exception": false,
     "start_time": "2025-02-06T04:36:17.951210",
     "status": "completed"
    },
    "tags": []
   },
   "source": [
    "<details>\n",
    "  <summary><h4><strong>Hint 3</strong></h4></summary>\n",
    "\n",
    "Use the `to_datetime()` function on the `Date Joined` column.\n",
    "\n",
    "Make sure to update the column by reassigning to the result of the function call mentioned previously.\n",
    "\n",
    "Use the `dtypes` property to get the data types of the columns in `companies`.\n",
    "\n",
    "</details>"
   ]
  },
  {
   "cell_type": "markdown",
   "id": "261201bc",
   "metadata": {
    "id": "8Gl70TvPVDsO",
    "papermill": {
     "duration": 0.020952,
     "end_time": "2025-02-06T04:36:18.015032",
     "exception": false,
     "start_time": "2025-02-06T04:36:17.994080",
     "status": "completed"
    },
    "tags": []
   },
   "source": [
    "**Question:** How would you obtain the names of the months when companies gained unicorn status?\n"
   ]
  },
  {
   "cell_type": "markdown",
   "id": "bb33271f",
   "metadata": {
    "id": "C3Dp7ePXz8Cz",
    "papermill": {
     "duration": 0.021446,
     "end_time": "2025-02-06T04:36:18.057840",
     "exception": false,
     "start_time": "2025-02-06T04:36:18.036394",
     "status": "completed"
    },
    "tags": []
   },
   "source": [
    "* we can parse and extract the month name using the datetime object using .dt.month_name() method"
   ]
  },
  {
   "cell_type": "markdown",
   "id": "01e594ed",
   "metadata": {
    "id": "ae351a97-926e-40af-91e2-4bd12a5bf888",
    "papermill": {
     "duration": 0.020758,
     "end_time": "2025-02-06T04:36:18.100456",
     "exception": false,
     "start_time": "2025-02-06T04:36:18.079698",
     "status": "completed"
    },
    "tags": []
   },
   "source": [
    "### Create a `Month Joined` column\n",
    "\n",
    "Obtain the names of the months when companies gained unicorn status, and use the result to create a `Month Joined` column. "
   ]
  },
  {
   "cell_type": "code",
   "execution_count": 11,
   "id": "31138a6e",
   "metadata": {
    "execution": {
     "iopub.execute_input": "2025-02-06T04:36:18.144825Z",
     "iopub.status.busy": "2025-02-06T04:36:18.144464Z",
     "iopub.status.idle": "2025-02-06T04:36:18.160506Z",
     "shell.execute_reply": "2025-02-06T04:36:18.159424Z"
    },
    "id": "PFBo2wdQU6U1",
    "papermill": {
     "duration": 0.040346,
     "end_time": "2025-02-06T04:36:18.162306",
     "exception": false,
     "start_time": "2025-02-06T04:36:18.121960",
     "status": "completed"
    },
    "tags": []
   },
   "outputs": [
    {
     "data": {
      "text/html": [
       "<div>\n",
       "<style scoped>\n",
       "    .dataframe tbody tr th:only-of-type {\n",
       "        vertical-align: middle;\n",
       "    }\n",
       "\n",
       "    .dataframe tbody tr th {\n",
       "        vertical-align: top;\n",
       "    }\n",
       "\n",
       "    .dataframe thead th {\n",
       "        text-align: right;\n",
       "    }\n",
       "</style>\n",
       "<table border=\"1\" class=\"dataframe\">\n",
       "  <thead>\n",
       "    <tr style=\"text-align: right;\">\n",
       "      <th></th>\n",
       "      <th>Company</th>\n",
       "      <th>Valuation</th>\n",
       "      <th>Date Joined</th>\n",
       "      <th>Industry</th>\n",
       "      <th>City</th>\n",
       "      <th>Country/Region</th>\n",
       "      <th>Continent</th>\n",
       "      <th>Year Founded</th>\n",
       "      <th>Funding</th>\n",
       "      <th>Select Investors</th>\n",
       "      <th>Month Joined</th>\n",
       "    </tr>\n",
       "  </thead>\n",
       "  <tbody>\n",
       "    <tr>\n",
       "      <th>0</th>\n",
       "      <td>Bytedance</td>\n",
       "      <td>$180B</td>\n",
       "      <td>2017-04-07</td>\n",
       "      <td>Artificial intelligence</td>\n",
       "      <td>Beijing</td>\n",
       "      <td>China</td>\n",
       "      <td>Asia</td>\n",
       "      <td>2012</td>\n",
       "      <td>$8B</td>\n",
       "      <td>Sequoia Capital China, SIG Asia Investments, S...</td>\n",
       "      <td>April</td>\n",
       "    </tr>\n",
       "    <tr>\n",
       "      <th>1</th>\n",
       "      <td>SpaceX</td>\n",
       "      <td>$100B</td>\n",
       "      <td>2012-12-01</td>\n",
       "      <td>Other</td>\n",
       "      <td>Hawthorne</td>\n",
       "      <td>United States</td>\n",
       "      <td>North America</td>\n",
       "      <td>2002</td>\n",
       "      <td>$7B</td>\n",
       "      <td>Founders Fund, Draper Fisher Jurvetson, Rothen...</td>\n",
       "      <td>December</td>\n",
       "    </tr>\n",
       "    <tr>\n",
       "      <th>2</th>\n",
       "      <td>SHEIN</td>\n",
       "      <td>$100B</td>\n",
       "      <td>2018-07-03</td>\n",
       "      <td>E-commerce &amp; direct-to-consumer</td>\n",
       "      <td>Shenzhen</td>\n",
       "      <td>China</td>\n",
       "      <td>Asia</td>\n",
       "      <td>2008</td>\n",
       "      <td>$2B</td>\n",
       "      <td>Tiger Global Management, Sequoia Capital China...</td>\n",
       "      <td>July</td>\n",
       "    </tr>\n",
       "    <tr>\n",
       "      <th>3</th>\n",
       "      <td>Stripe</td>\n",
       "      <td>$95B</td>\n",
       "      <td>2014-01-23</td>\n",
       "      <td>Fintech</td>\n",
       "      <td>San Francisco</td>\n",
       "      <td>United States</td>\n",
       "      <td>North America</td>\n",
       "      <td>2010</td>\n",
       "      <td>$2B</td>\n",
       "      <td>Khosla Ventures, LowercaseCapital, capitalG</td>\n",
       "      <td>January</td>\n",
       "    </tr>\n",
       "    <tr>\n",
       "      <th>4</th>\n",
       "      <td>Klarna</td>\n",
       "      <td>$46B</td>\n",
       "      <td>2011-12-12</td>\n",
       "      <td>Fintech</td>\n",
       "      <td>Stockholm</td>\n",
       "      <td>Sweden</td>\n",
       "      <td>Europe</td>\n",
       "      <td>2005</td>\n",
       "      <td>$4B</td>\n",
       "      <td>Institutional Venture Partners, Sequoia Capita...</td>\n",
       "      <td>December</td>\n",
       "    </tr>\n",
       "  </tbody>\n",
       "</table>\n",
       "</div>"
      ],
      "text/plain": [
       "     Company Valuation Date Joined                         Industry  \\\n",
       "0  Bytedance     $180B  2017-04-07          Artificial intelligence   \n",
       "1     SpaceX     $100B  2012-12-01                            Other   \n",
       "2      SHEIN     $100B  2018-07-03  E-commerce & direct-to-consumer   \n",
       "3     Stripe      $95B  2014-01-23                          Fintech   \n",
       "4     Klarna      $46B  2011-12-12                          Fintech   \n",
       "\n",
       "            City Country/Region      Continent  Year Founded Funding  \\\n",
       "0        Beijing          China           Asia          2012     $8B   \n",
       "1      Hawthorne  United States  North America          2002     $7B   \n",
       "2       Shenzhen          China           Asia          2008     $2B   \n",
       "3  San Francisco  United States  North America          2010     $2B   \n",
       "4      Stockholm         Sweden         Europe          2005     $4B   \n",
       "\n",
       "                                    Select Investors Month Joined  \n",
       "0  Sequoia Capital China, SIG Asia Investments, S...        April  \n",
       "1  Founders Fund, Draper Fisher Jurvetson, Rothen...     December  \n",
       "2  Tiger Global Management, Sequoia Capital China...         July  \n",
       "3        Khosla Ventures, LowercaseCapital, capitalG      January  \n",
       "4  Institutional Venture Partners, Sequoia Capita...     December  "
      ]
     },
     "execution_count": 11,
     "metadata": {},
     "output_type": "execute_result"
    }
   ],
   "source": [
    "# Obtain the names of the months when companies gained unicorn status.\n",
    "# Use the result to create a `Month Joined` column.\n",
    "\n",
    "### YOUR CODE HERE ###\n",
    "\n",
    "# extract the month joined from the date joined\n",
    "companies['Month Joined'] = companies['Date Joined'].dt.month_name()\n",
    "\n",
    "\n",
    "# Display the first few rows of `companies`\n",
    "# to confirm that the new column did get added.\n",
    "\n",
    "### YOUR CODE HERE ###\n",
    "companies.head()\n"
   ]
  },
  {
   "cell_type": "markdown",
   "id": "23c57779",
   "metadata": {
    "id": "uqVlpsSDYeR1",
    "jp-MarkdownHeadingCollapsed": true,
    "papermill": {
     "duration": 0.022627,
     "end_time": "2025-02-06T04:36:18.206574",
     "exception": false,
     "start_time": "2025-02-06T04:36:18.183947",
     "status": "completed"
    },
    "tags": []
   },
   "source": [
    "<details>\n",
    "  <summary><h4><strong>Hint 1</strong></h4></summary>\n",
    "\n",
    "Refer to [the content about extracting components from datetime objects in Python](https://www.coursera.org/learn/go-beyond-the-numbers-translate-data-into-insight/lecture/Vh13u/use-structuring-methods-to-establish-order-in-your-dataset).\n",
    "\n",
    "</details>"
   ]
  },
  {
   "cell_type": "markdown",
   "id": "3bf8b517",
   "metadata": {
    "id": "VB0tiRB9YeR3",
    "jp-MarkdownHeadingCollapsed": true,
    "papermill": {
     "duration": 0.022648,
     "end_time": "2025-02-06T04:36:18.251316",
     "exception": false,
     "start_time": "2025-02-06T04:36:18.228668",
     "status": "completed"
    },
    "tags": []
   },
   "source": [
    "<details>\n",
    "  <summary><h4><strong>Hint 2</strong></h4></summary>\n",
    "\n",
    "Use the function in the `pandas` library that contains datetime strings in order to extract the month names.\n",
    "\n",
    "Use the function in the `pandas` library that allows you to display the first few rows of a DataFrame.\n",
    "\n",
    "</details>"
   ]
  },
  {
   "cell_type": "markdown",
   "id": "d4bc5dcb",
   "metadata": {
    "id": "B3o5tPHPYeR5",
    "jp-MarkdownHeadingCollapsed": true,
    "papermill": {
     "duration": 0.021413,
     "end_time": "2025-02-06T04:36:18.294021",
     "exception": false,
     "start_time": "2025-02-06T04:36:18.272608",
     "status": "completed"
    },
    "tags": []
   },
   "source": [
    "<details>\n",
    "  <summary><h4><strong>Hint 3</strong></h4></summary>\n",
    "\n",
    "Use the `dt.month_name()` function on the `Date Joined` column.\n",
    "\n",
    "Use a pair of square brackets to create a new column. Make sure to specify the name of the new column inside the brackets and assign the column to the result of calling the function mentioned previously.\n",
    "\n",
    "Use the `head()` function to display the first few rows of a DataFrame.\n",
    "\n",
    "</details>"
   ]
  },
  {
   "cell_type": "markdown",
   "id": "a1350d73",
   "metadata": {
    "id": "W81zWrCE8_Ye",
    "papermill": {
     "duration": 0.021574,
     "end_time": "2025-02-06T04:36:18.338017",
     "exception": false,
     "start_time": "2025-02-06T04:36:18.316443",
     "status": "completed"
    },
    "tags": []
   },
   "source": [
    "**Question:** Using the 'Date Joined' column, how would you determine how many years it took for companies to reach unicorn status?\n"
   ]
  },
  {
   "cell_type": "markdown",
   "id": "86eae0a7",
   "metadata": {
    "id": "uNbv1cAnz9NA",
    "papermill": {
     "duration": 0.02204,
     "end_time": "2025-02-06T04:36:18.382313",
     "exception": false,
     "start_time": "2025-02-06T04:36:18.360273",
     "status": "completed"
    },
    "tags": []
   },
   "source": [
    "* we can parse and extract the year from Date Joined using .dt.year attribute"
   ]
  },
  {
   "cell_type": "markdown",
   "id": "42a4559a",
   "metadata": {
    "id": "6xTyzHiM8_Yf",
    "papermill": {
     "duration": 0.021715,
     "end_time": "2025-02-06T04:36:18.426077",
     "exception": false,
     "start_time": "2025-02-06T04:36:18.404362",
     "status": "completed"
    },
    "tags": []
   },
   "source": [
    "### Create a `Years To Join` column\n",
    "\n",
    "Determine how many years it took for companies to reach unicorn status, and use the result to create a `Years To Join` column. Adding this to the dataset can help you answer questions you may have about this aspect of the companies."
   ]
  },
  {
   "cell_type": "code",
   "execution_count": 12,
   "id": "2f797a43",
   "metadata": {
    "execution": {
     "iopub.execute_input": "2025-02-06T04:36:18.471559Z",
     "iopub.status.busy": "2025-02-06T04:36:18.471186Z",
     "iopub.status.idle": "2025-02-06T04:36:18.488612Z",
     "shell.execute_reply": "2025-02-06T04:36:18.487446Z"
    },
    "id": "9zK8Q7-v-Bx1",
    "papermill": {
     "duration": 0.042357,
     "end_time": "2025-02-06T04:36:18.490400",
     "exception": false,
     "start_time": "2025-02-06T04:36:18.448043",
     "status": "completed"
    },
    "tags": []
   },
   "outputs": [
    {
     "data": {
      "text/html": [
       "<div>\n",
       "<style scoped>\n",
       "    .dataframe tbody tr th:only-of-type {\n",
       "        vertical-align: middle;\n",
       "    }\n",
       "\n",
       "    .dataframe tbody tr th {\n",
       "        vertical-align: top;\n",
       "    }\n",
       "\n",
       "    .dataframe thead th {\n",
       "        text-align: right;\n",
       "    }\n",
       "</style>\n",
       "<table border=\"1\" class=\"dataframe\">\n",
       "  <thead>\n",
       "    <tr style=\"text-align: right;\">\n",
       "      <th></th>\n",
       "      <th>Company</th>\n",
       "      <th>Valuation</th>\n",
       "      <th>Date Joined</th>\n",
       "      <th>Industry</th>\n",
       "      <th>City</th>\n",
       "      <th>Country/Region</th>\n",
       "      <th>Continent</th>\n",
       "      <th>Year Founded</th>\n",
       "      <th>Funding</th>\n",
       "      <th>Select Investors</th>\n",
       "      <th>Month Joined</th>\n",
       "      <th>Years To Join</th>\n",
       "    </tr>\n",
       "  </thead>\n",
       "  <tbody>\n",
       "    <tr>\n",
       "      <th>0</th>\n",
       "      <td>Bytedance</td>\n",
       "      <td>$180B</td>\n",
       "      <td>2017-04-07</td>\n",
       "      <td>Artificial intelligence</td>\n",
       "      <td>Beijing</td>\n",
       "      <td>China</td>\n",
       "      <td>Asia</td>\n",
       "      <td>2012</td>\n",
       "      <td>$8B</td>\n",
       "      <td>Sequoia Capital China, SIG Asia Investments, S...</td>\n",
       "      <td>April</td>\n",
       "      <td>5</td>\n",
       "    </tr>\n",
       "    <tr>\n",
       "      <th>1</th>\n",
       "      <td>SpaceX</td>\n",
       "      <td>$100B</td>\n",
       "      <td>2012-12-01</td>\n",
       "      <td>Other</td>\n",
       "      <td>Hawthorne</td>\n",
       "      <td>United States</td>\n",
       "      <td>North America</td>\n",
       "      <td>2002</td>\n",
       "      <td>$7B</td>\n",
       "      <td>Founders Fund, Draper Fisher Jurvetson, Rothen...</td>\n",
       "      <td>December</td>\n",
       "      <td>10</td>\n",
       "    </tr>\n",
       "    <tr>\n",
       "      <th>2</th>\n",
       "      <td>SHEIN</td>\n",
       "      <td>$100B</td>\n",
       "      <td>2018-07-03</td>\n",
       "      <td>E-commerce &amp; direct-to-consumer</td>\n",
       "      <td>Shenzhen</td>\n",
       "      <td>China</td>\n",
       "      <td>Asia</td>\n",
       "      <td>2008</td>\n",
       "      <td>$2B</td>\n",
       "      <td>Tiger Global Management, Sequoia Capital China...</td>\n",
       "      <td>July</td>\n",
       "      <td>10</td>\n",
       "    </tr>\n",
       "    <tr>\n",
       "      <th>3</th>\n",
       "      <td>Stripe</td>\n",
       "      <td>$95B</td>\n",
       "      <td>2014-01-23</td>\n",
       "      <td>Fintech</td>\n",
       "      <td>San Francisco</td>\n",
       "      <td>United States</td>\n",
       "      <td>North America</td>\n",
       "      <td>2010</td>\n",
       "      <td>$2B</td>\n",
       "      <td>Khosla Ventures, LowercaseCapital, capitalG</td>\n",
       "      <td>January</td>\n",
       "      <td>4</td>\n",
       "    </tr>\n",
       "    <tr>\n",
       "      <th>4</th>\n",
       "      <td>Klarna</td>\n",
       "      <td>$46B</td>\n",
       "      <td>2011-12-12</td>\n",
       "      <td>Fintech</td>\n",
       "      <td>Stockholm</td>\n",
       "      <td>Sweden</td>\n",
       "      <td>Europe</td>\n",
       "      <td>2005</td>\n",
       "      <td>$4B</td>\n",
       "      <td>Institutional Venture Partners, Sequoia Capita...</td>\n",
       "      <td>December</td>\n",
       "      <td>6</td>\n",
       "    </tr>\n",
       "  </tbody>\n",
       "</table>\n",
       "</div>"
      ],
      "text/plain": [
       "     Company Valuation Date Joined                         Industry  \\\n",
       "0  Bytedance     $180B  2017-04-07          Artificial intelligence   \n",
       "1     SpaceX     $100B  2012-12-01                            Other   \n",
       "2      SHEIN     $100B  2018-07-03  E-commerce & direct-to-consumer   \n",
       "3     Stripe      $95B  2014-01-23                          Fintech   \n",
       "4     Klarna      $46B  2011-12-12                          Fintech   \n",
       "\n",
       "            City Country/Region      Continent  Year Founded Funding  \\\n",
       "0        Beijing          China           Asia          2012     $8B   \n",
       "1      Hawthorne  United States  North America          2002     $7B   \n",
       "2       Shenzhen          China           Asia          2008     $2B   \n",
       "3  San Francisco  United States  North America          2010     $2B   \n",
       "4      Stockholm         Sweden         Europe          2005     $4B   \n",
       "\n",
       "                                    Select Investors Month Joined  \\\n",
       "0  Sequoia Capital China, SIG Asia Investments, S...        April   \n",
       "1  Founders Fund, Draper Fisher Jurvetson, Rothen...     December   \n",
       "2  Tiger Global Management, Sequoia Capital China...         July   \n",
       "3        Khosla Ventures, LowercaseCapital, capitalG      January   \n",
       "4  Institutional Venture Partners, Sequoia Capita...     December   \n",
       "\n",
       "   Years To Join  \n",
       "0              5  \n",
       "1             10  \n",
       "2             10  \n",
       "3              4  \n",
       "4              6  "
      ]
     },
     "execution_count": 12,
     "metadata": {},
     "output_type": "execute_result"
    }
   ],
   "source": [
    "# Determine how many years it took for companies to reach unicorn status.\n",
    "# Use the result to create a `Years To Join` column.\n",
    "\n",
    "### YOUR CODE HERE ###\n",
    "\n",
    "# extract the year joined from the date joined\n",
    "companies['Years To Join'] = companies['Date Joined'].dt.year-companies['Year Founded']\n",
    "\n",
    "\n",
    "\n",
    "# Display the first few rows of `companies`\n",
    "# to confirm that the new column did get added.\n",
    "\n",
    "### YOUR CODE HERE ###\n",
    "companies.head()\n"
   ]
  },
  {
   "cell_type": "markdown",
   "id": "70899627",
   "metadata": {
    "id": "ruKtgVdWCPxU",
    "jp-MarkdownHeadingCollapsed": true,
    "papermill": {
     "duration": 0.02173,
     "end_time": "2025-02-06T04:36:18.535421",
     "exception": false,
     "start_time": "2025-02-06T04:36:18.513691",
     "status": "completed"
    },
    "tags": []
   },
   "source": [
    "<details>\n",
    "  <summary><h4><strong>Hint 1</strong></h4></summary>\n",
    "\n",
    "Refer to [the content about extracting components from datetime objects in Python](https://www.coursera.org/learn/go-beyond-the-numbers-translate-data-into-insight/lecture/Vh13u/use-structuring-methods-to-establish-order-in-your-dataset).\n",
    "\n",
    "</details>"
   ]
  },
  {
   "cell_type": "markdown",
   "id": "fcf354bd",
   "metadata": {
    "id": "1BuXj5ClCPxW",
    "jp-MarkdownHeadingCollapsed": true,
    "papermill": {
     "duration": 0.021616,
     "end_time": "2025-02-06T04:36:18.578942",
     "exception": false,
     "start_time": "2025-02-06T04:36:18.557326",
     "status": "completed"
    },
    "tags": []
   },
   "source": [
    "<details>\n",
    "  <summary><h4><strong>Hint 2</strong></h4></summary>\n",
    "\n",
    "Use the property in the `pandas` library that contains datetime strings in order to extract the year components.\n",
    "\n",
    "Use the function in the `pandas` library that allows you to display the first few rows of a DataFrame.\n",
    "\n",
    "</details>"
   ]
  },
  {
   "cell_type": "markdown",
   "id": "a53c617c",
   "metadata": {
    "id": "QOTFxOzDCPxY",
    "jp-MarkdownHeadingCollapsed": true,
    "papermill": {
     "duration": 0.024793,
     "end_time": "2025-02-06T04:36:18.625827",
     "exception": false,
     "start_time": "2025-02-06T04:36:18.601034",
     "status": "completed"
    },
    "tags": []
   },
   "source": [
    "<details>\n",
    "  <summary><h4><strong>Hint 3</strong></h4></summary>\n",
    "\n",
    "Use the `dt.year` property on the `Date Joined` column to obtain the years that companies became unicorns.\n",
    "\n",
    "Obtain the arithmetic difference elementwise between two series in `pandas` by using the subtraction operator.  \n",
    "\n",
    "Use a pair of square brackets to create a new column. Make sure to specify the name of the new column inside the brackets and assign the column to the result of calling the function mentioned previously.\n",
    "\n",
    "Use the `head()` function can to display the first few rows of a DataFrame.\n",
    "\n",
    "</details>"
   ]
  },
  {
   "cell_type": "markdown",
   "id": "c0d4c278",
   "metadata": {
    "id": "98YFM1o4-VQ_",
    "papermill": {
     "duration": 0.021253,
     "end_time": "2025-02-06T04:36:18.668720",
     "exception": false,
     "start_time": "2025-02-06T04:36:18.647467",
     "status": "completed"
    },
    "tags": []
   },
   "source": [
    "**Question:** Which year would you like to gain more insight on with respect when companies attained unicorn status, and why?\n"
   ]
  },
  {
   "cell_type": "markdown",
   "id": "d83ff237",
   "metadata": {
    "id": "hRT_vGZhz-Ij",
    "papermill": {
     "duration": 0.021302,
     "end_time": "2025-02-06T04:36:18.711682",
     "exception": false,
     "start_time": "2025-02-06T04:36:18.690380",
     "status": "completed"
    },
    "tags": []
   },
   "source": [
    "* we can gain insights from the most recent year in the sample = 2021  "
   ]
  },
  {
   "cell_type": "markdown",
   "id": "c3f231ce",
   "metadata": {
    "id": "nx-WbHfLCdTd",
    "papermill": {
     "duration": 0.022794,
     "end_time": "2025-02-06T04:36:18.756098",
     "exception": false,
     "start_time": "2025-02-06T04:36:18.733304",
     "status": "completed"
    },
    "tags": []
   },
   "source": [
    "### Gain more insight on a specific year\n",
    "\n",
    "To gain more insight on the year of that interests you, filter the dataset by that year and save the resulting subset into a new variable. "
   ]
  },
  {
   "cell_type": "code",
   "execution_count": 13,
   "id": "86c65907",
   "metadata": {
    "execution": {
     "iopub.execute_input": "2025-02-06T04:36:18.801834Z",
     "iopub.status.busy": "2025-02-06T04:36:18.801455Z",
     "iopub.status.idle": "2025-02-06T04:36:18.819742Z",
     "shell.execute_reply": "2025-02-06T04:36:18.818596Z"
    },
    "id": "5FnSS5fBEUY-",
    "papermill": {
     "duration": 0.042758,
     "end_time": "2025-02-06T04:36:18.821719",
     "exception": false,
     "start_time": "2025-02-06T04:36:18.778961",
     "status": "completed"
    },
    "tags": []
   },
   "outputs": [
    {
     "data": {
      "text/html": [
       "<div>\n",
       "<style scoped>\n",
       "    .dataframe tbody tr th:only-of-type {\n",
       "        vertical-align: middle;\n",
       "    }\n",
       "\n",
       "    .dataframe tbody tr th {\n",
       "        vertical-align: top;\n",
       "    }\n",
       "\n",
       "    .dataframe thead th {\n",
       "        text-align: right;\n",
       "    }\n",
       "</style>\n",
       "<table border=\"1\" class=\"dataframe\">\n",
       "  <thead>\n",
       "    <tr style=\"text-align: right;\">\n",
       "      <th></th>\n",
       "      <th>Company</th>\n",
       "      <th>Valuation</th>\n",
       "      <th>Date Joined</th>\n",
       "      <th>Industry</th>\n",
       "      <th>City</th>\n",
       "      <th>Country/Region</th>\n",
       "      <th>Continent</th>\n",
       "      <th>Year Founded</th>\n",
       "      <th>Funding</th>\n",
       "      <th>Select Investors</th>\n",
       "      <th>Month Joined</th>\n",
       "      <th>Years To Join</th>\n",
       "    </tr>\n",
       "  </thead>\n",
       "  <tbody>\n",
       "    <tr>\n",
       "      <th>12</th>\n",
       "      <td>FTX</td>\n",
       "      <td>$32B</td>\n",
       "      <td>2021-07-20</td>\n",
       "      <td>Fintech</td>\n",
       "      <td>NaN</td>\n",
       "      <td>Bahamas</td>\n",
       "      <td>North America</td>\n",
       "      <td>2018</td>\n",
       "      <td>$2B</td>\n",
       "      <td>Sequoia Capital, Thoma Bravo, Softbank</td>\n",
       "      <td>July</td>\n",
       "      <td>3</td>\n",
       "    </tr>\n",
       "    <tr>\n",
       "      <th>16</th>\n",
       "      <td>J&amp;T Express</td>\n",
       "      <td>$20B</td>\n",
       "      <td>2021-04-07</td>\n",
       "      <td>Supply chain, logistics, &amp; delivery</td>\n",
       "      <td>Jakarta</td>\n",
       "      <td>Indonesia</td>\n",
       "      <td>Asia</td>\n",
       "      <td>2015</td>\n",
       "      <td>$5B</td>\n",
       "      <td>Hillhouse Capital Management, Boyu Capital, Se...</td>\n",
       "      <td>April</td>\n",
       "      <td>6</td>\n",
       "    </tr>\n",
       "    <tr>\n",
       "      <th>24</th>\n",
       "      <td>Blockchain.com</td>\n",
       "      <td>$14B</td>\n",
       "      <td>2021-02-17</td>\n",
       "      <td>Fintech</td>\n",
       "      <td>London</td>\n",
       "      <td>United Kingdom</td>\n",
       "      <td>Europe</td>\n",
       "      <td>2011</td>\n",
       "      <td>$490M</td>\n",
       "      <td>Lightspeed Venture Partners, Google Ventures, ...</td>\n",
       "      <td>February</td>\n",
       "      <td>10</td>\n",
       "    </tr>\n",
       "    <tr>\n",
       "      <th>27</th>\n",
       "      <td>OpenSea</td>\n",
       "      <td>$13B</td>\n",
       "      <td>2021-07-20</td>\n",
       "      <td>E-commerce &amp; direct-to-consumer</td>\n",
       "      <td>New York</td>\n",
       "      <td>United States</td>\n",
       "      <td>North America</td>\n",
       "      <td>2017</td>\n",
       "      <td>$427M</td>\n",
       "      <td>Andreessen Horowitz, Thirty Five Ventures, Sou...</td>\n",
       "      <td>July</td>\n",
       "      <td>4</td>\n",
       "    </tr>\n",
       "    <tr>\n",
       "      <th>34</th>\n",
       "      <td>Getir</td>\n",
       "      <td>$12B</td>\n",
       "      <td>2021-03-26</td>\n",
       "      <td>E-commerce &amp; direct-to-consumer</td>\n",
       "      <td>Istanbul</td>\n",
       "      <td>Turkey</td>\n",
       "      <td>Europe</td>\n",
       "      <td>2015</td>\n",
       "      <td>$2B</td>\n",
       "      <td>Tiger Global Management, Sequoia Capital, Revo...</td>\n",
       "      <td>March</td>\n",
       "      <td>6</td>\n",
       "    </tr>\n",
       "  </tbody>\n",
       "</table>\n",
       "</div>"
      ],
      "text/plain": [
       "           Company Valuation Date Joined                             Industry  \\\n",
       "12             FTX      $32B  2021-07-20                              Fintech   \n",
       "16     J&T Express      $20B  2021-04-07  Supply chain, logistics, & delivery   \n",
       "24  Blockchain.com      $14B  2021-02-17                              Fintech   \n",
       "27         OpenSea      $13B  2021-07-20      E-commerce & direct-to-consumer   \n",
       "34           Getir      $12B  2021-03-26      E-commerce & direct-to-consumer   \n",
       "\n",
       "        City  Country/Region      Continent  Year Founded Funding  \\\n",
       "12       NaN         Bahamas  North America          2018     $2B   \n",
       "16   Jakarta       Indonesia           Asia          2015     $5B   \n",
       "24    London  United Kingdom         Europe          2011   $490M   \n",
       "27  New York   United States  North America          2017   $427M   \n",
       "34  Istanbul          Turkey         Europe          2015     $2B   \n",
       "\n",
       "                                     Select Investors Month Joined  \\\n",
       "12             Sequoia Capital, Thoma Bravo, Softbank         July   \n",
       "16  Hillhouse Capital Management, Boyu Capital, Se...        April   \n",
       "24  Lightspeed Venture Partners, Google Ventures, ...     February   \n",
       "27  Andreessen Horowitz, Thirty Five Ventures, Sou...         July   \n",
       "34  Tiger Global Management, Sequoia Capital, Revo...        March   \n",
       "\n",
       "    Years To Join  \n",
       "12              3  \n",
       "16              6  \n",
       "24             10  \n",
       "27              4  \n",
       "34              6  "
      ]
     },
     "execution_count": 13,
     "metadata": {},
     "output_type": "execute_result"
    }
   ],
   "source": [
    "# Filter dataset by a year of your interest (in terms of when companies reached unicorn status).\n",
    "# Save the resulting subset in a new variable. \n",
    "\n",
    "### YOUR CODE HERE ###\n",
    "\n",
    "# use a boolean filter to filter only the companies joined in the most recent year => 2021\n",
    "companies_2021 = companies[companies['Date Joined'].dt.year==2021]\n",
    "\n",
    "\n",
    "\n",
    "# Display the first few rows of the subset to confirm that it was created.\n",
    "\n",
    "### YOUR CODE HERE ###\n",
    "companies_2021.head()"
   ]
  },
  {
   "cell_type": "markdown",
   "id": "affb67bc",
   "metadata": {
    "id": "9SSCM6ZLHcKA",
    "jp-MarkdownHeadingCollapsed": true,
    "papermill": {
     "duration": 0.021897,
     "end_time": "2025-02-06T04:36:18.866521",
     "exception": false,
     "start_time": "2025-02-06T04:36:18.844624",
     "status": "completed"
    },
    "tags": []
   },
   "source": [
    "<details>\n",
    "  <summary><h4><strong>Hint 1</strong></h4></summary>\n",
    "\n",
    "Refer to [the content about structuring data in Python](https://www.coursera.org/learn/go-beyond-the-numbers-translate-data-into-insight/lecture/Vh13u/use-structuring-methods-to-establish-order-in-your-dataset).\n",
    "\n",
    "</details>"
   ]
  },
  {
   "cell_type": "markdown",
   "id": "e728acc1",
   "metadata": {
    "id": "UmyyfKj3HcKC",
    "jp-MarkdownHeadingCollapsed": true,
    "papermill": {
     "duration": 0.022048,
     "end_time": "2025-02-06T04:36:18.910516",
     "exception": false,
     "start_time": "2025-02-06T04:36:18.888468",
     "status": "completed"
    },
    "tags": []
   },
   "source": [
    "<details>\n",
    "  <summary><h4><strong>Hint 2</strong></h4></summary>\n",
    "\n",
    "Use the property in the `pandas` library that contains datetime strings in order to extract the year components.\n",
    "\n",
    "Use square brackets to filter a DataFrame in order get a subset of the data. Make sure to specify an appropriate condition inside those brackets. The condition should convey which year you want to filter by. The rows that meet the condition are the rows that will be selected.\n",
    "\n",
    "Use the function in the `pandas` library that allows you to display the first few rows of a DataFrame.\n",
    "\n",
    "</details>"
   ]
  },
  {
   "cell_type": "markdown",
   "id": "90ea8e37",
   "metadata": {
    "id": "3NylFsIDHcKD",
    "jp-MarkdownHeadingCollapsed": true,
    "papermill": {
     "duration": 0.021915,
     "end_time": "2025-02-06T04:36:18.954278",
     "exception": false,
     "start_time": "2025-02-06T04:36:18.932363",
     "status": "completed"
    },
    "tags": []
   },
   "source": [
    "<details>\n",
    "  <summary><h4><strong>Hint 3</strong></h4></summary>\n",
    "\n",
    "Use the `dt.year` property on the `Date Joined` column to obtain the years that companies became unicorns.\n",
    "\n",
    "Make sure to create a new variable and assign it to the subset. \n",
    "\n",
    "Use the `head()` function to display the first few rows of a DataFrame.\n",
    "\n",
    "</details>"
   ]
  },
  {
   "cell_type": "markdown",
   "id": "6ba1aeec",
   "metadata": {
    "id": "xP7aPBulLnRA",
    "papermill": {
     "duration": 0.021643,
     "end_time": "2025-02-06T04:36:18.997803",
     "exception": false,
     "start_time": "2025-02-06T04:36:18.976160",
     "status": "completed"
    },
    "tags": []
   },
   "source": [
    "**Question:** Using a time interval, how could you observe trends in the companies that became unicorns in one year?\n"
   ]
  },
  {
   "cell_type": "markdown",
   "id": "ac85e87d",
   "metadata": {
    "id": "1LDyIGmtz_Tc",
    "papermill": {
     "duration": 0.022388,
     "end_time": "2025-02-06T04:36:19.042237",
     "exception": false,
     "start_time": "2025-02-06T04:36:19.019849",
     "status": "completed"
    },
    "tags": []
   },
   "source": [
    "* we can categorize the year joined into weeks, quarters, dayname or months to observe trends in a particular year\n",
    "* we can simply boolean mask to filter that particular year and later categorize as per what's needed"
   ]
  },
  {
   "cell_type": "markdown",
   "id": "7bbbda2b",
   "metadata": {
    "id": "xMeC4PjILkAP",
    "papermill": {
     "duration": 0.021693,
     "end_time": "2025-02-06T04:36:19.086353",
     "exception": false,
     "start_time": "2025-02-06T04:36:19.064660",
     "status": "completed"
    },
    "tags": []
   },
   "source": [
    "### Observe trends over time\n",
    "\n",
    "Implement the structuring approach that you have identified to observe trends over time in the companies that became unicorns for the year that interests you."
   ]
  },
  {
   "cell_type": "code",
   "execution_count": 14,
   "id": "40f09a68",
   "metadata": {
    "execution": {
     "iopub.execute_input": "2025-02-06T04:36:19.131594Z",
     "iopub.status.busy": "2025-02-06T04:36:19.131228Z",
     "iopub.status.idle": "2025-02-06T04:36:19.150576Z",
     "shell.execute_reply": "2025-02-06T04:36:19.149342Z"
    },
    "id": "RTPw3cRqPUI3",
    "papermill": {
     "duration": 0.043856,
     "end_time": "2025-02-06T04:36:19.152181",
     "exception": false,
     "start_time": "2025-02-06T04:36:19.108325",
     "status": "completed"
    },
    "tags": []
   },
   "outputs": [
    {
     "name": "stderr",
     "output_type": "stream",
     "text": [
      "<ipython-input-14-07a4b9e6f87d>:11: SettingWithCopyWarning: \n",
      "A value is trying to be set on a copy of a slice from a DataFrame.\n",
      "Try using .loc[row_indexer,col_indexer] = value instead\n",
      "\n",
      "See the caveats in the documentation: https://pandas.pydata.org/pandas-docs/stable/user_guide/indexing.html#returning-a-view-versus-a-copy\n",
      "  companies_2021['Week Joined']= companies_2021[\"Date Joined\"].dt.strftime('%Y-W%V')\n"
     ]
    },
    {
     "data": {
      "text/html": [
       "<div>\n",
       "<style scoped>\n",
       "    .dataframe tbody tr th:only-of-type {\n",
       "        vertical-align: middle;\n",
       "    }\n",
       "\n",
       "    .dataframe tbody tr th {\n",
       "        vertical-align: top;\n",
       "    }\n",
       "\n",
       "    .dataframe thead th {\n",
       "        text-align: right;\n",
       "    }\n",
       "</style>\n",
       "<table border=\"1\" class=\"dataframe\">\n",
       "  <thead>\n",
       "    <tr style=\"text-align: right;\">\n",
       "      <th></th>\n",
       "      <th>Week Joined</th>\n",
       "      <th>Company Counts</th>\n",
       "    </tr>\n",
       "  </thead>\n",
       "  <tbody>\n",
       "    <tr>\n",
       "      <th>0</th>\n",
       "      <td>2021-W01</td>\n",
       "      <td>12</td>\n",
       "    </tr>\n",
       "    <tr>\n",
       "      <th>1</th>\n",
       "      <td>2021-W02</td>\n",
       "      <td>9</td>\n",
       "    </tr>\n",
       "    <tr>\n",
       "      <th>2</th>\n",
       "      <td>2021-W03</td>\n",
       "      <td>5</td>\n",
       "    </tr>\n",
       "    <tr>\n",
       "      <th>3</th>\n",
       "      <td>2021-W04</td>\n",
       "      <td>8</td>\n",
       "    </tr>\n",
       "    <tr>\n",
       "      <th>4</th>\n",
       "      <td>2021-W05</td>\n",
       "      <td>4</td>\n",
       "    </tr>\n",
       "  </tbody>\n",
       "</table>\n",
       "</div>"
      ],
      "text/plain": [
       "  Week Joined  Company Counts\n",
       "0    2021-W01              12\n",
       "1    2021-W02               9\n",
       "2    2021-W03               5\n",
       "3    2021-W04               8\n",
       "4    2021-W05               4"
      ]
     },
     "execution_count": 14,
     "metadata": {},
     "output_type": "execute_result"
    }
   ],
   "source": [
    "# After identifying the time interval that interests you, proceed with the following:\n",
    "# Step 1. Take the subset that you defined for the year of interest. \n",
    "#         Insert a column that contains the time interval that each data point belongs to, as needed.\n",
    "# Step 2. Group by the time interval.\n",
    "#         Aggregate by counting companies that joined per interval of that year.\n",
    "#         Save the resulting DataFrame in a new variable.\n",
    "\n",
    "### YOUR CODE HERE ###\n",
    "\n",
    "# extract the year with week information from the date joined column\n",
    "companies_2021['Week Joined']= companies_2021[\"Date Joined\"].dt.strftime('%Y-W%V')\n",
    "\n",
    "\n",
    "# find the number of companies founded in each week from the year 2021\n",
    "companies_2021_weekly = companies_2021.groupby(['Week Joined']).count().reset_index().rename(columns={'Company':'Company Counts'})[['Week Joined','Company Counts']]\n",
    "\n",
    "# Display the first few rows of the new DataFrame to confirm that it was created\n",
    "\n",
    "### YOUR CODE HERE ###\n",
    "companies_2021_weekly.head()\n"
   ]
  },
  {
   "cell_type": "markdown",
   "id": "210c75ff",
   "metadata": {
    "id": "y4o-jE96cL5r",
    "jp-MarkdownHeadingCollapsed": true,
    "papermill": {
     "duration": 0.021846,
     "end_time": "2025-02-06T04:36:19.196174",
     "exception": false,
     "start_time": "2025-02-06T04:36:19.174328",
     "status": "completed"
    },
    "tags": []
   },
   "source": [
    "<details>\n",
    "  <summary><h4><strong>Hint 1</strong></h4></summary>\n",
    "\n",
    "Refer to [the content about structuring data in Python](https://www.coursera.org/learn/go-beyond-the-numbers-translate-data-into-insight/lecture/Vh13u/use-structuring-methods-to-establish-order-in-your-dataset).\n",
    "\n",
    "</details>"
   ]
  },
  {
   "cell_type": "markdown",
   "id": "d33e7e55",
   "metadata": {
    "id": "KpYfJ_etcL5t",
    "jp-MarkdownHeadingCollapsed": true,
    "papermill": {
     "duration": 0.02194,
     "end_time": "2025-02-06T04:36:19.242091",
     "exception": false,
     "start_time": "2025-02-06T04:36:19.220151",
     "status": "completed"
    },
    "tags": []
   },
   "source": [
    "<details>\n",
    "  <summary><h4><strong>Hint 2</strong></h4></summary>\n",
    "\n",
    "To obtain the data in a specific periodic datetime format, call a function in the `pandas` library on a series that contains datetime strings.   \n",
    "\n",
    "Keep in mind that currently, the `Valuation` column is of data type `object` and contains `$` and `B` to indicate that each amount is in billions of dollars.\n",
    "\n",
    "Call functions in the `pandas` library to achieve the following tasks:\n",
    "  - Apply a function to each value in the series.\n",
    "  - Cast each value in the series to a specified data type.\n",
    "\n",
    "Use a pair of square brackets to access a particular column from the result of grouping a DataFrame. \n",
    "\n",
    "Use these functions in the `pandas` library to achieve the following tasks:\n",
    "- Concatenate two DataFrames together\n",
    "- Drop columns that you do not need from a DataFrame\n",
    "- Group a DataFrame by a specific column\n",
    "- Compute the average value for each group\n",
    "- Reset the index so that the column that you grouped on also appears as a column after the grouping (instead of remaining an index) \n",
    "- Rename columns in a DataFrame\n",
    "- Display the first few rows of a DataFrame\n",
    "\n",
    "</details>"
   ]
  },
  {
   "cell_type": "markdown",
   "id": "42eceb21",
   "metadata": {
    "id": "fO62guTzcL5v",
    "jp-MarkdownHeadingCollapsed": true,
    "papermill": {
     "duration": 0.022059,
     "end_time": "2025-02-06T04:36:19.288368",
     "exception": false,
     "start_time": "2025-02-06T04:36:19.266309",
     "status": "completed"
    },
    "tags": []
   },
   "source": [
    "<details>\n",
    "  <summary><h4><strong>Hint 3</strong></h4></summary>\n",
    "\n",
    "Use `dt.strftime('%Y-W%V')` on the `Date Joined` column to obtain the weeks that companies became unicorns.\n",
    "\n",
    "Use these functions in `pandas` to acheive the following tasks:\n",
    "- `groupby()` to group a DataFrame by a specific column\n",
    "- `count()` to count the number of rows that belong to each group\n",
    "- `reset_index()` to reset the index so that the column that you grouped on also appears as a column after the grouping (instead of remaining an index) \n",
    "- `rename()` to rename the columns in a DataFrame\n",
    "- `head()` to display the first few rows of a DataFrame\n",
    "\n",
    "</details>"
   ]
  },
  {
   "cell_type": "markdown",
   "id": "d2255a5f",
   "metadata": {
    "id": "vAPjV24TA7lA",
    "papermill": {
     "duration": 0.022371,
     "end_time": "2025-02-06T04:36:19.334889",
     "exception": false,
     "start_time": "2025-02-06T04:36:19.312518",
     "status": "completed"
    },
    "tags": []
   },
   "source": [
    "**Question:** How would you structure the data to observe trends in the average valuation of companies from 2020 to 2021?  "
   ]
  },
  {
   "cell_type": "markdown",
   "id": "9f663d80",
   "metadata": {
    "id": "T5-Kc-zr0AzU",
    "papermill": {
     "duration": 0.021622,
     "end_time": "2025-02-06T04:36:19.378921",
     "exception": false,
     "start_time": "2025-02-06T04:36:19.357299",
     "status": "completed"
    },
    "tags": []
   },
   "source": [
    "* filter by any of the year metric from date joined for 2020 and 2021\n",
    "* further classify by creating a new datetime metric (month, quarter, week etc.) across which the trends need to be observed \n",
    "* find the valuation of each company in the same datafram respectively\n",
    "* group them based on the desired trend observing datetime metric that was created and visualize"
   ]
  },
  {
   "cell_type": "markdown",
   "id": "b4a50c5a",
   "metadata": {
    "id": "5vGITCLaA7lC",
    "papermill": {
     "duration": 0.022552,
     "end_time": "2025-02-06T04:36:19.423525",
     "exception": false,
     "start_time": "2025-02-06T04:36:19.400973",
     "status": "completed"
    },
    "tags": []
   },
   "source": [
    "### Compare trends over time\n",
    "\n",
    "Implement the structuring approach that you have identified in order to compare trends over time in the average valuation of companies that became unicorns in the year you selected above and in another year of your choice. Keep in mind the data type of the `Valuation` column and what the values in that column contain currently."
   ]
  },
  {
   "cell_type": "code",
   "execution_count": 15,
   "id": "9cd4688d",
   "metadata": {
    "execution": {
     "iopub.execute_input": "2025-02-06T04:36:19.469562Z",
     "iopub.status.busy": "2025-02-06T04:36:19.469195Z",
     "iopub.status.idle": "2025-02-06T04:36:19.499465Z",
     "shell.execute_reply": "2025-02-06T04:36:19.498205Z"
    },
    "id": "pQ3sXSbaA7lD",
    "papermill": {
     "duration": 0.055857,
     "end_time": "2025-02-06T04:36:19.501390",
     "exception": false,
     "start_time": "2025-02-06T04:36:19.445533",
     "status": "completed"
    },
    "tags": []
   },
   "outputs": [
    {
     "name": "stderr",
     "output_type": "stream",
     "text": [
      "<ipython-input-15-9fd3b8727ec5>:17: SettingWithCopyWarning: \n",
      "A value is trying to be set on a copy of a slice from a DataFrame.\n",
      "Try using .loc[row_indexer,col_indexer] = value instead\n",
      "\n",
      "See the caveats in the documentation: https://pandas.pydata.org/pandas-docs/stable/user_guide/indexing.html#returning-a-view-versus-a-copy\n",
      "  companies_2020['Week Joined']= companies_2020[\"Date Joined\"].dt.strftime('%Y-W%V')\n"
     ]
    },
    {
     "data": {
      "text/html": [
       "<div>\n",
       "<style scoped>\n",
       "    .dataframe tbody tr th:only-of-type {\n",
       "        vertical-align: middle;\n",
       "    }\n",
       "\n",
       "    .dataframe tbody tr th {\n",
       "        vertical-align: top;\n",
       "    }\n",
       "\n",
       "    .dataframe thead th {\n",
       "        text-align: right;\n",
       "    }\n",
       "</style>\n",
       "<table border=\"1\" class=\"dataframe\">\n",
       "  <thead>\n",
       "    <tr style=\"text-align: right;\">\n",
       "      <th></th>\n",
       "      <th>Quarter Joined</th>\n",
       "      <th>Mean Valuation</th>\n",
       "      <th>Year Founded</th>\n",
       "      <th>Years To Join</th>\n",
       "    </tr>\n",
       "  </thead>\n",
       "  <tbody>\n",
       "    <tr>\n",
       "      <th>0</th>\n",
       "      <td>2020-Q1</td>\n",
       "      <td>3.444444</td>\n",
       "      <td>2010.000000</td>\n",
       "      <td>10.000000</td>\n",
       "    </tr>\n",
       "    <tr>\n",
       "      <th>1</th>\n",
       "      <td>2020-Q2</td>\n",
       "      <td>3.777778</td>\n",
       "      <td>2012.833333</td>\n",
       "      <td>7.166667</td>\n",
       "    </tr>\n",
       "    <tr>\n",
       "      <th>2</th>\n",
       "      <td>2020-Q3</td>\n",
       "      <td>3.896552</td>\n",
       "      <td>2012.517241</td>\n",
       "      <td>7.482759</td>\n",
       "    </tr>\n",
       "    <tr>\n",
       "      <th>3</th>\n",
       "      <td>2020-Q4</td>\n",
       "      <td>3.697674</td>\n",
       "      <td>2013.209302</td>\n",
       "      <td>6.790698</td>\n",
       "    </tr>\n",
       "    <tr>\n",
       "      <th>4</th>\n",
       "      <td>2021-Q1</td>\n",
       "      <td>2.750000</td>\n",
       "      <td>2013.500000</td>\n",
       "      <td>7.500000</td>\n",
       "    </tr>\n",
       "  </tbody>\n",
       "</table>\n",
       "</div>"
      ],
      "text/plain": [
       "  Quarter Joined  Mean Valuation  Year Founded  Years To Join\n",
       "0        2020-Q1        3.444444   2010.000000      10.000000\n",
       "1        2020-Q2        3.777778   2012.833333       7.166667\n",
       "2        2020-Q3        3.896552   2012.517241       7.482759\n",
       "3        2020-Q4        3.697674   2013.209302       6.790698\n",
       "4        2021-Q1        2.750000   2013.500000       7.500000"
      ]
     },
     "execution_count": 15,
     "metadata": {},
     "output_type": "execute_result"
    }
   ],
   "source": [
    "# After identifying the additional year and time interval of interest, proceed with the following:\n",
    "# Step 1. Filter by the additional year to create a subset that consists of companies that joined in that year.\n",
    "# Step 2. Concatenate that new subset with the subset that you defined previously.\n",
    "# Step 3. As needed, add a column that contains the time interval that each data point belongs to, \n",
    "#         in the concatenated DataFrame.\n",
    "# Step 4. Transform the `Valuation` column as needed.\n",
    "# Step 5. Group by the time interval.\n",
    "#         Aggregate by computing average valuation of companies that joined per interval of the corresponding year.\n",
    "#         Save the resulting DataFrame in a new variable.\n",
    "\n",
    "### YOUR CODE HERE ###\n",
    "\n",
    "# 1. filtering by 2020 and adding as a new datafram\n",
    "companies_2020= companies[companies['Date Joined'].dt.year==2020]\n",
    "\n",
    "# adding the previously calculated weekjoined column for year 2020\n",
    "companies_2020['Week Joined']= companies_2020[\"Date Joined\"].dt.strftime('%Y-W%V')\n",
    "\n",
    "\n",
    "# 2. Concatenate both 2020 and 2021 dataframes\n",
    "companies_2020_2021= pd.concat([companies_2020, companies_2021])\n",
    "\n",
    "\n",
    "# 3. a new column based on the year-quarter it was joined is created \n",
    "companies_2020_2021['Quarter Joined']= companies_2020_2021['Date Joined'].dt.to_period('Q').dt.strftime('%Y-Q%q')\n",
    "\n",
    "\n",
    "# 4. transforming the 'Valuation' column into int by performing string operations and converting datatype\n",
    "companies_2020_2021['Valuation']= companies_2020_2021['Valuation'].str.strip('$').str.strip('B').astype(float)\n",
    "\n",
    "\n",
    "# 5. grouping the dataframe based on the year-quarter joined and calculating the mean valuation across each period\n",
    "companies_by_quarter_2020_2021= companies_2020_2021.groupby(by='Quarter Joined').mean(numeric_only=True).reset_index().rename(columns={'Valuation':'Mean Valuation'})\n",
    "\n",
    "\n",
    "\n",
    "# Display the first few rows of the new DataFrame to confirm that it was created.\n",
    "\n",
    "### YOUR CODE HERE ###\n",
    "companies_by_quarter_2020_2021.head()"
   ]
  },
  {
   "cell_type": "markdown",
   "id": "1ceed97d",
   "metadata": {
    "id": "CJoxASljNvH6",
    "jp-MarkdownHeadingCollapsed": true,
    "papermill": {
     "duration": 0.024395,
     "end_time": "2025-02-06T04:36:19.549797",
     "exception": false,
     "start_time": "2025-02-06T04:36:19.525402",
     "status": "completed"
    },
    "tags": []
   },
   "source": [
    "\n",
    "<details>\n",
    "  <summary><h4><strong>Hint 1</strong></h4></summary>\n",
    "\n",
    "Refer to [the content about manipulating data in Python](https://www.coursera.org/learn/go-beyond-the-numbers-translate-data-into-insight/lecture/0GjvK/date-string-manipulations-with-python).\n",
    "\n",
    "</details>\n"
   ]
  },
  {
   "cell_type": "markdown",
   "id": "ed530b9f",
   "metadata": {
    "id": "qoXGc_naNvH8",
    "jp-MarkdownHeadingCollapsed": true,
    "papermill": {
     "duration": 0.024276,
     "end_time": "2025-02-06T04:36:19.598869",
     "exception": false,
     "start_time": "2025-02-06T04:36:19.574593",
     "status": "completed"
    },
    "tags": []
   },
   "source": [
    "<details>\n",
    "  <summary><h4><strong>Hint 2</strong></h4></summary>\n",
    "\n",
    "To obtain the data in a specific periodic datetime format, call a function in the `pandas` library on a series that contains datetime strings.   \n",
    "\n",
    "Keep in mind that currently, the `Valuation` column is of data type `object` and contains `$` and `B` to indicate that each amount is in billions of dollars.\n",
    "\n",
    "Call functions in the `pandas` library on a series to acheive the following tasks:\n",
    "  - Apply a function to each value in the series.\n",
    "  - Cast each value in the series to a specified data type.\n",
    "\n",
    "Use a pair of square brackets to access a particular column from the result of grouping a DataFrame. \n",
    "\n",
    "These functions in the `pandas` library can help achieve the following tasks:\n",
    "- Concatenate two DataFrames together\n",
    "- Drop columns that you do not need from a DataFrame\n",
    "- Group a DataFrame by a specific column\n",
    "- Compute the average value for each group\n",
    "- Reset the index so that the column that you grouped on also appears as a column after the grouping (instead of remaining an index) \n",
    "- Rename columns in a DataFrame\n",
    "- Display the first few rows of a DataFrame\n",
    "\n",
    "</details>"
   ]
  },
  {
   "cell_type": "markdown",
   "id": "21ed0eac",
   "metadata": {
    "id": "jRVnh5ZFNvH-",
    "jp-MarkdownHeadingCollapsed": true,
    "papermill": {
     "duration": 0.02361,
     "end_time": "2025-02-06T04:36:19.650669",
     "exception": false,
     "start_time": "2025-02-06T04:36:19.627059",
     "status": "completed"
    },
    "tags": []
   },
   "source": [
    "<details>\n",
    "  <summary><h4><strong>Hint 3</strong></h4></summary>\n",
    "\n",
    "Use `.dt.to_period('Q').dt.strftime('%Y-Q%q')` on the `Date Joined` column to obtain the quarters during which companies became unicorns.\n",
    "\n",
    "Convert the `Valuation` column to numeric by removing `$` and `B` and casting each value to data type `float`.\n",
    "\n",
    "Use the following functions in `pandas` to acheive the following tasks:\n",
    "- `concat` to concatenate two DataFrames together (note: this function takes in a list of DataFrames and returns a DataFrame that contains all rows from both inputs)\n",
    "- `drop()` to drop columns that you do not need from a DataFrame\n",
    "- `groupby()` to group a DataFrame by a specific column\n",
    "- `mean()` to compute the average value for each group\n",
    "- `reset_index()` to reset the index so that the column that you grouped on also appears as a column after the grouping (instead of remaining an index) \n",
    "- `rename()` to rename the columns in a DataFrame\n",
    "- `head()` to display the first few rows of a DataFrame\n",
    "\n",
    "</details>"
   ]
  },
  {
   "cell_type": "markdown",
   "id": "486074ad",
   "metadata": {
    "id": "w_HtFyHrXVAc",
    "papermill": {
     "duration": 0.023677,
     "end_time": "2025-02-06T04:36:19.698416",
     "exception": false,
     "start_time": "2025-02-06T04:36:19.674739",
     "status": "completed"
    },
    "tags": []
   },
   "source": [
    "## Step 3: Time-to-unicorn visualization\n",
    "\n",
    "### Visualize the time it took companies to become unicorns\n",
    "\n",
    "Using the `companies` dataset, create a box plot to visualize the distribution of how long it took companies to become unicorns, with respect to the month they joined. "
   ]
  },
  {
   "cell_type": "code",
   "execution_count": 16,
   "id": "e4ae49f7",
   "metadata": {
    "execution": {
     "iopub.execute_input": "2025-02-06T04:36:19.748839Z",
     "iopub.status.busy": "2025-02-06T04:36:19.748376Z",
     "iopub.status.idle": "2025-02-06T04:36:19.755487Z",
     "shell.execute_reply": "2025-02-06T04:36:19.753645Z"
    },
    "id": "4GT0qtPUIlzD",
    "papermill": {
     "duration": 0.035007,
     "end_time": "2025-02-06T04:36:19.757293",
     "exception": false,
     "start_time": "2025-02-06T04:36:19.722286",
     "status": "completed"
    },
    "tags": []
   },
   "outputs": [
    {
     "name": "stdout",
     "output_type": "stream",
     "text": [
      "['January', 'February', 'March', 'April', 'May', 'June', 'July', 'August', 'September', 'October', 'November', 'December']\n"
     ]
    }
   ],
   "source": [
    "# Define a list that contains months in chronological order.\n",
    "\n",
    "### YOUR CODE HERE ###\n",
    "\n",
    "# generating a list of months from jan to december using datetime library\n",
    "month_order = [datetime.date(2024, month, 1).strftime(\"%B\") for month in range(1,13)]\n",
    "\n",
    "\n",
    "# Print out the list to confirm it is correct.\n",
    "\n",
    "### YOUR CODE HERE ###\n",
    "print(month_order)"
   ]
  },
  {
   "cell_type": "code",
   "execution_count": 17,
   "id": "4c1495f7",
   "metadata": {
    "execution": {
     "iopub.execute_input": "2025-02-06T04:36:19.811314Z",
     "iopub.status.busy": "2025-02-06T04:36:19.810859Z",
     "iopub.status.idle": "2025-02-06T04:36:20.156919Z",
     "shell.execute_reply": "2025-02-06T04:36:20.155872Z"
    },
    "id": "7V-NPXUCIhCT",
    "papermill": {
     "duration": 0.376387,
     "end_time": "2025-02-06T04:36:20.158960",
     "exception": false,
     "start_time": "2025-02-06T04:36:19.782573",
     "status": "completed"
    },
    "tags": []
   },
   "outputs": [
    {
     "data": {
      "image/png": "[encoded data removed]",
      "text/plain": [
       "<Figure size 640x480 with 1 Axes>"
      ]
     },
     "metadata": {},
     "output_type": "display_data"
    }
   ],
   "source": [
    "# Create the box plot to visualize the distribution of how long it took companies to become unicorns, with respect to the month they joined.\n",
    "# Make sure the x-axis goes in chronological order by month, using the list you defined previously.\n",
    "# Plot the data from the `companies` DataFrame.\n",
    "\n",
    "### YOUR CODE HERE ###\n",
    "\n",
    "# creating the boxplot\n",
    "sns.boxplot(x=companies['Month Joined'], \n",
    "            y=companies['Years To Join'], \n",
    "            order=month_order, \n",
    "            showfliers=False)\n",
    "\n",
    "\n",
    "# Set the title of the plot.\n",
    "### YOUR CODE HERE ###\n",
    "\n",
    "# title of the plot\n",
    "plt.title('Distribution of years taken by companies to become unicorn across month joined')\n",
    "\n",
    "\n",
    "# Rotate labels on the x-axis as a way to avoid overlap in the positions of the text.  \n",
    "### YOUR CODE HERE ###\n",
    "\n",
    "# setting an angle to the x ticks\n",
    "\n",
    "plt.xticks(rotation=30, horizontalalignment='right')\n",
    "\n",
    "\n",
    "# Display the plot.\n",
    "### YOUR CODE HERE ###\n",
    "\n",
    "plt.show()\n"
   ]
  },
  {
   "cell_type": "markdown",
   "id": "193dc5cf",
   "metadata": {
    "id": "h87KDAzQNhJH",
    "jp-MarkdownHeadingCollapsed": true,
    "papermill": {
     "duration": 0.023557,
     "end_time": "2025-02-06T04:36:20.207045",
     "exception": false,
     "start_time": "2025-02-06T04:36:20.183488",
     "status": "completed"
    },
    "tags": []
   },
   "source": [
    "<details>\n",
    "  <summary><h4><strong>Hint 1</strong></h4></summary>\n",
    "\n",
    "Refer to [the content about creating a box plot](https://www.coursera.org/learn/go-beyond-the-numbers-translate-data-into-insight/lecture/Pf6KW/eda-structuring-with-python).\n",
    "\n",
    "</details>"
   ]
  },
  {
   "cell_type": "markdown",
   "id": "6472500b",
   "metadata": {
    "id": "aZBJ8VOrNhJI",
    "jp-MarkdownHeadingCollapsed": true,
    "papermill": {
     "duration": 0.025086,
     "end_time": "2025-02-06T04:36:20.255878",
     "exception": false,
     "start_time": "2025-02-06T04:36:20.230792",
     "status": "completed"
    },
    "tags": []
   },
   "source": [
    "<details>\n",
    "  <summary><h4><strong>Hint 2</strong></h4></summary>\n",
    "\n",
    "Use the function in the `seaborn` library that allows you to create a box plot.\n",
    "\n",
    "Use the functions in the `matplotlib.pyplot` module that allow you to acheive the following tasks:\n",
    "- set the title of a plot\n",
    "- rotate labels on the x-axis of a plot\n",
    "- display a plot\n",
    "\n",
    "</details>"
   ]
  },
  {
   "cell_type": "markdown",
   "id": "923f5f70",
   "metadata": {
    "id": "GPdd3MfDNhJK",
    "jp-MarkdownHeadingCollapsed": true,
    "papermill": {
     "duration": 0.025028,
     "end_time": "2025-02-06T04:36:20.307054",
     "exception": false,
     "start_time": "2025-02-06T04:36:20.282026",
     "status": "completed"
    },
    "tags": []
   },
   "source": [
    "<details>\n",
    "  <summary><h4><strong>Hint 3</strong></h4></summary>\n",
    "\n",
    "Use the `boxplot()` function from `seaborn` to create a box plot, passing in the parameters `x`, `y`, `order`, and `showfliers`. To keep outliers from appearing on the box plot, set `showfliers` to `False`.\n",
    "\n",
    "Use following functions to achieve the following tasks:\n",
    "- `plt.title()` to set the title of a plot\n",
    "- `plt.xticks()` to rotate labels on the x-axis of a plot\n",
    "- pass in the parameters `rotation=45, horizontalalignment='right'`to rotate the labels by 45 degrees and align the labels to the right\n",
    "- `plt.show()` to display a plot\n",
    "\n",
    "</details>"
   ]
  },
  {
   "cell_type": "markdown",
   "id": "1004572b",
   "metadata": {
    "id": "hJhdI_Y7LK8e",
    "papermill": {
     "duration": 0.025866,
     "end_time": "2025-02-06T04:36:20.359683",
     "exception": false,
     "start_time": "2025-02-06T04:36:20.333817",
     "status": "completed"
    },
    "tags": []
   },
   "source": [
    "**Question:** In the preceding box plot, what do you observe about the median value for `Years To Join` for each month?\n"
   ]
  },
  {
   "cell_type": "markdown",
   "id": "9fc41d71",
   "metadata": {
    "id": "rLUHSsZl0Cmt",
    "papermill": {
     "duration": 0.023885,
     "end_time": "2025-02-06T04:36:20.409692",
     "exception": false,
     "start_time": "2025-02-06T04:36:20.385807",
     "status": "completed"
    },
    "tags": []
   },
   "source": [
    "*  the september, october and december months have the lowest median values\n",
    "* but watching the whiskers of December, we can observe the range of distribution is high\n",
    "* meanwhile in october, the range is also low with a low Years to Join median value\n",
    "* right after the end of summer, the # of companies attaining unicorn status is low and picks up in January\n",
    "* as of now no hypothesis is present to be tested. This needs to be investigated"
   ]
  },
  {
   "cell_type": "markdown",
   "id": "84bb731c",
   "metadata": {
    "id": "gq9Syq-Cq1zb",
    "papermill": {
     "duration": 0.024475,
     "end_time": "2025-02-06T04:36:20.460017",
     "exception": false,
     "start_time": "2025-02-06T04:36:20.435542",
     "status": "completed"
    },
    "tags": []
   },
   "source": [
    "## Step 4: Results and evaluation\n"
   ]
  },
  {
   "cell_type": "markdown",
   "id": "cf91fa84",
   "metadata": {
    "id": "10beff64-16e0-464d-93f0-03ab61f7069b",
    "papermill": {
     "duration": 0.023325,
     "end_time": "2025-02-06T04:36:20.507550",
     "exception": false,
     "start_time": "2025-02-06T04:36:20.484225",
     "status": "completed"
    },
    "tags": []
   },
   "source": [
    "### Visualize the time it took companies to reach unicorn status\n",
    "\n",
    "In this section, you will evaluate the result of structuring the data, making observations, and gaining further insights about the data. \n",
    "\n",
    "Using the `companies` dataset, create a bar plot to visualize the average number of years it took companies to reach unicorn status with respect to when they were founded. "
   ]
  },
  {
   "cell_type": "code",
   "execution_count": 18,
   "id": "1bba7780",
   "metadata": {
    "execution": {
     "iopub.execute_input": "2025-02-06T04:36:20.562181Z",
     "iopub.status.busy": "2025-02-06T04:36:20.561767Z",
     "iopub.status.idle": "2025-02-06T04:36:21.703369Z",
     "shell.execute_reply": "2025-02-06T04:36:21.702292Z"
    },
    "id": "1153ca76-f1e3-4fea-a2db-a5de23614abd",
    "papermill": {
     "duration": 1.173298,
     "end_time": "2025-02-06T04:36:21.705074",
     "exception": false,
     "start_time": "2025-02-06T04:36:20.531776",
     "status": "completed"
    },
    "tags": []
   },
   "outputs": [
    {
     "data": {
      "image/png": "[encoded data removed]",
      "text/plain": [
       "<Figure size 2000x700 with 1 Axes>"
      ]
     },
     "metadata": {},
     "output_type": "display_data"
    }
   ],
   "source": [
    "# Set the size of the plot.\n",
    "\n",
    "### YOUR CODE HERE ###\n",
    "\n",
    "plt.figure(figsize=(20,7))\n",
    "\n",
    "\n",
    "\n",
    "# Create bar plot to visualize the average number of years it took companies to reach unicorn status \n",
    "# with respect to when they were founded.\n",
    "# Plot data from the `companies` DataFrame.\n",
    "\n",
    "### YOUR CODE HERE ###\n",
    "\n",
    "sns.barplot(x= companies['Year Founded'], y= companies['Years To Join'])\n",
    "\n",
    "\n",
    "# Set title\n",
    "\n",
    "### YOUR CODE HERE ###\n",
    "\n",
    "plt.title('Bar plot of years taken to join unicorn status across the year founded')\n",
    "\n",
    "\n",
    "# Set x-axis label\n",
    "\n",
    "### YOUR CODE HERE ###\n",
    "\n",
    "plt.xlabel('Year founded')\n",
    "\n",
    "\n",
    "# Set y-axis label\n",
    "\n",
    "### YOUR CODE HERE ###\n",
    "\n",
    "plt.ylabel('Years taken to join unicorn status')\n",
    "\n",
    "\n",
    "# Rotate the labels on the x-axis as a way to avoid overlap in the positions of the text.  \n",
    "\n",
    "### YOUR CODE HERE ###\n",
    "\n",
    "plt.xticks(rotation=30, horizontalalignment='right')\n",
    "\n",
    "\n",
    "# Display the plot.\n",
    "\n",
    "### YOUR CODE HERE ###\n",
    "\n",
    "plt.show()"
   ]
  },
  {
   "cell_type": "markdown",
   "id": "e92b7100",
   "metadata": {
    "id": "MWYLsImtOmaU",
    "jp-MarkdownHeadingCollapsed": true,
    "papermill": {
     "duration": 0.02569,
     "end_time": "2025-02-06T04:36:21.756487",
     "exception": false,
     "start_time": "2025-02-06T04:36:21.730797",
     "status": "completed"
    },
    "tags": []
   },
   "source": [
    "<details>\n",
    "  <summary><h4><strong>Hint 1</strong></h4></summary>\n",
    "\n",
    "Refer to [the content about creating a bar plot](https://www.coursera.org/learn/go-beyond-the-numbers-translate-data-into-insight/lecture/0GjvK/date-string-manipulations-with-python).\n",
    "\n",
    "</details>"
   ]
  },
  {
   "cell_type": "markdown",
   "id": "1529ede7",
   "metadata": {
    "id": "Na6eMkR8OmaW",
    "jp-MarkdownHeadingCollapsed": true,
    "papermill": {
     "duration": 0.024809,
     "end_time": "2025-02-06T04:36:21.805621",
     "exception": false,
     "start_time": "2025-02-06T04:36:21.780812",
     "status": "completed"
    },
    "tags": []
   },
   "source": [
    "<details>\n",
    "  <summary><h4><strong>Hint 2</strong></h4></summary>\n",
    "\n",
    "Use the function in the `seaborn` library that allows you to create a bar plot where the height of each bar is the average value for the corresponding category, by default.\n",
    "\n",
    "Use the functions in the `matplotlib.pyplot` module that allow you to set the size, title, x-axis label, and y-axis label of plots. In that module, there are also functions for rotating the labels on the x-axis and displaying the plot. \n",
    "\n",
    "</details>"
   ]
  },
  {
   "cell_type": "markdown",
   "id": "65f9f533",
   "metadata": {
    "id": "0x0AkrQ_OmaX",
    "jp-MarkdownHeadingCollapsed": true,
    "papermill": {
     "duration": 0.024313,
     "end_time": "2025-02-06T04:36:21.856779",
     "exception": false,
     "start_time": "2025-02-06T04:36:21.832466",
     "status": "completed"
    },
    "tags": []
   },
   "source": [
    "<details>\n",
    "  <summary><h4><strong>Hint 3</strong></h4></summary>\n",
    "\n",
    "Use the `barplot()` function from `seaborn`, passing in the parameters `x`, `y`, and `ci`. To keep confidence interval lines from appearing on the bar plot,  set `ci` to `False`.\n",
    "\n",
    "Use `plt.figure()`, passing in the `figsize` parameter to set the size of a plot.\n",
    "\n",
    "Use `plt.title()`, `plt.xlabel()`, `plt.ylabel()` to set the title, x-axis label, and y-axis label, respectively. \n",
    "\n",
    "Use `plt.xticks()` to rotate labels on the x-axis of a plot. Paass in the parameters `rotation=45, horizontalalignment='right'` to rotate the labels by 45 degrees and align the labels to the right.\n",
    "\n",
    "Use `plt.show()` to display a plot.\n",
    "\n",
    "</details>"
   ]
  },
  {
   "cell_type": "markdown",
   "id": "b70398e5",
   "metadata": {
    "id": "xDwKa-UDOmaX",
    "papermill": {
     "duration": 0.024527,
     "end_time": "2025-02-06T04:36:21.906500",
     "exception": false,
     "start_time": "2025-02-06T04:36:21.881973",
     "status": "completed"
    },
    "tags": []
   },
   "source": [
    "**Question:** What trends do you notice in the data? Specifically, consider companies that were founded later on. How long did it take those companies to reach unicorn status?\n"
   ]
  },
  {
   "cell_type": "markdown",
   "id": "52e68da3",
   "metadata": {
    "id": "EapccSkH0Don",
    "papermill": {
     "duration": 0.024343,
     "end_time": "2025-02-06T04:36:21.955490",
     "exception": false,
     "start_time": "2025-02-06T04:36:21.931147",
     "status": "completed"
    },
    "tags": []
   },
   "source": [
    "* after 1919, the second earliest company joined only in 1979 (that is almost 60 years later)\n",
    "* we can see the dot com bubble observed around the 2000s\n",
    "* many unicorn companies founded in the recent years quickly attained the status within a matter of less than 2-3 years"
   ]
  },
  {
   "cell_type": "markdown",
   "id": "e0ddedb7",
   "metadata": {
    "id": "M9iBEnnStJPJ",
    "papermill": {
     "duration": 0.025801,
     "end_time": "2025-02-06T04:36:22.006303",
     "exception": false,
     "start_time": "2025-02-06T04:36:21.980502",
     "status": "completed"
    },
    "tags": []
   },
   "source": [
    "### Visualize the number of companies that joined per interval \n",
    "\n",
    "Using the subset of companies joined in the year of interest, grouped by the time interval of your choice, create a bar plot to visualize the number of companies that joined per interval for that year. "
   ]
  },
  {
   "cell_type": "code",
   "execution_count": 19,
   "id": "337e357b",
   "metadata": {
    "execution": {
     "iopub.execute_input": "2025-02-06T04:36:22.058887Z",
     "iopub.status.busy": "2025-02-06T04:36:22.058527Z",
     "iopub.status.idle": "2025-02-06T04:36:22.695281Z",
     "shell.execute_reply": "2025-02-06T04:36:22.694118Z"
    },
    "id": "BTdJdubxplHc",
    "papermill": {
     "duration": 0.666062,
     "end_time": "2025-02-06T04:36:22.697182",
     "exception": false,
     "start_time": "2025-02-06T04:36:22.031120",
     "status": "completed"
    },
    "tags": []
   },
   "outputs": [
    {
     "data": {
      "image/png": "[encoded data removed]",
      "text/plain": [
       "<Figure size 2000x700 with 1 Axes>"
      ]
     },
     "metadata": {},
     "output_type": "display_data"
    }
   ],
   "source": [
    "# Set the size of the plot.\n",
    "\n",
    "### YOUR CODE HERE ###\n",
    "\n",
    "plt.figure(figsize=(20,7))\n",
    "\n",
    "# Create bar plot to visualize number of companies that joined per interval for the year of interest.\n",
    "\n",
    "### YOUR CODE HERE ###\n",
    "\n",
    "sns.barplot(x= companies_2021_weekly['Week Joined'], y= companies_2021_weekly['Company Counts'])\n",
    "\n",
    "\n",
    "# Set title\n",
    "\n",
    "### YOUR CODE HERE ###\n",
    "\n",
    "plt.title('Bar plot of number of companies joining unicorn status across the week joined in 2021')\n",
    "\n",
    "\n",
    "# Set x-axis label\n",
    "\n",
    "### YOUR CODE HERE ###\n",
    "\n",
    "plt.xlabel('Week joined')\n",
    "\n",
    "\n",
    "# Set y-axis label\n",
    "\n",
    "### YOUR CODE HERE ###\n",
    "\n",
    "plt.ylabel('Number of companies')\n",
    "\n",
    "\n",
    "# Rotate the labels on the x-axis as a way to avoid overlap in the positions of the text.  \n",
    "\n",
    "### YOUR CODE HERE ###\n",
    "\n",
    "plt.xticks(rotation=30, horizontalalignment='right')\n",
    "\n",
    "\n",
    "# Display the plot.\n",
    "\n",
    "### YOUR CODE HERE ###\n",
    "\n",
    "plt.show()\n",
    "\n"
   ]
  },
  {
   "cell_type": "markdown",
   "id": "ede8e6ad",
   "metadata": {
    "id": "BtgkB4fVudvo",
    "jp-MarkdownHeadingCollapsed": true,
    "papermill": {
     "duration": 0.026952,
     "end_time": "2025-02-06T04:36:22.751068",
     "exception": false,
     "start_time": "2025-02-06T04:36:22.724116",
     "status": "completed"
    },
    "tags": []
   },
   "source": [
    "<details>\n",
    "  <summary><h4><strong>Hint 1</strong></h4></summary>\n",
    "\n",
    "Refer to [the content about creating a bar plot](https://www.coursera.org/learn/go-beyond-the-numbers-translate-data-into-insight/lecture/0GjvK/date-string-manipulations-with-python).\n",
    "\n",
    "</details>"
   ]
  },
  {
   "cell_type": "markdown",
   "id": "ae297dca",
   "metadata": {
    "id": "bHCMc83Nudvq",
    "jp-MarkdownHeadingCollapsed": true,
    "papermill": {
     "duration": 0.025674,
     "end_time": "2025-02-06T04:36:22.802961",
     "exception": false,
     "start_time": "2025-02-06T04:36:22.777287",
     "status": "completed"
    },
    "tags": []
   },
   "source": [
    "<details>\n",
    "  <summary><h4><strong>Hint 2</strong></h4></summary>\n",
    "\n",
    "Use the function in the `seaborn` library that allows you to create a bar plot where the height of each bar is the average value for the corresponding category, by default.\n",
    "\n",
    "Use the functions in the `matplotlib.pyplot` module that allow you to set the size, title, x-axis label, and y-axis label of plots. In that module, there are also functions for rotating the labels on the x-axis and displaying the plot. \n",
    "\n",
    "</details>"
   ]
  },
  {
   "cell_type": "markdown",
   "id": "451be2c9",
   "metadata": {
    "id": "ttH8ynAyudvr",
    "jp-MarkdownHeadingCollapsed": true,
    "papermill": {
     "duration": 0.028953,
     "end_time": "2025-02-06T04:36:22.859164",
     "exception": false,
     "start_time": "2025-02-06T04:36:22.830211",
     "status": "completed"
    },
    "tags": []
   },
   "source": [
    "<details>\n",
    "  <summary><h4><strong>Hint 3</strong></h4></summary>\n",
    "\n",
    "Use the `barplot()` function from `seaborn`, passing in the parameters `x`, `y`, and `ci`. To keep confidence interval lines from appearing on the bar plot,  set `ci` to `False`.\n",
    "\n",
    "Use `plt.figure()`, passing in the `figsize` parameter to set the size of a plot.\n",
    "\n",
    "Use `plt.title()`, `plt.xlabel()`, `plt.ylabel()` to set the title, x-axis label, and y-axis label, respectively. \n",
    "\n",
    "Use `plt.xticks()` to rotate labels on the x-axis of a plot. Paass in the parameters `rotation=45, horizontalalignment='right'` to rotate the labels by 45 degrees and align the labels to the right.\n",
    "\n",
    "Use `plt.show()` to display a plot.\n",
    "\n",
    "</details>"
   ]
  },
  {
   "cell_type": "markdown",
   "id": "7ffd2c23",
   "metadata": {
    "id": "NEsKdFw8sdMJ",
    "papermill": {
     "duration": 0.028616,
     "end_time": "2025-02-06T04:36:22.916904",
     "exception": false,
     "start_time": "2025-02-06T04:36:22.888288",
     "status": "completed"
    },
    "tags": []
   },
   "source": [
    "**Question:** What do you observe from the bar plot of the number of companies that joined per interval for the year of 2021? When did the highest number of companies reach $1 billion valuation?\n",
    "\n",
    "  "
   ]
  },
  {
   "cell_type": "markdown",
   "id": "86bafd6b",
   "metadata": {
    "id": "bLmFY7jR0Ewi",
    "papermill": {
     "duration": 0.026591,
     "end_time": "2025-02-06T04:36:22.969484",
     "exception": false,
     "start_time": "2025-02-06T04:36:22.942893",
     "status": "completed"
    },
    "tags": []
   },
   "source": [
    "* the number of companies joining dropped at the beginning of the year (arouund February) and it was also low in the early Week 30s (around the end of summer)\n",
    "* In week 37 of 2021 the highest number of companies reached the $1B valuation"
   ]
  },
  {
   "cell_type": "markdown",
   "id": "fa63a1a6",
   "metadata": {
    "id": "izcgBCbZhC4w",
    "papermill": {
     "duration": 0.026414,
     "end_time": "2025-02-06T04:36:23.023624",
     "exception": false,
     "start_time": "2025-02-06T04:36:22.997210",
     "status": "completed"
    },
    "tags": []
   },
   "source": [
    "### Visualize the average valuation over the quarters\n",
    "\n",
    "Using the subset of companies that joined in the years of interest, create a grouped bar plot to visualize the average valuation over the quarters, with two bars for each time interval. There will be two bars for each time interval. This allows you to compare quarterly values between the two years."
   ]
  },
  {
   "cell_type": "code",
   "execution_count": 20,
   "id": "abb11aad",
   "metadata": {
    "execution": {
     "iopub.execute_input": "2025-02-06T04:36:23.077552Z",
     "iopub.status.busy": "2025-02-06T04:36:23.077215Z",
     "iopub.status.idle": "2025-02-06T04:36:23.345342Z",
     "shell.execute_reply": "2025-02-06T04:36:23.343932Z"
    },
    "id": "IC1cFf2ci6Q6",
    "papermill": {
     "duration": 0.298055,
     "end_time": "2025-02-06T04:36:23.347482",
     "exception": false,
     "start_time": "2025-02-06T04:36:23.049427",
     "status": "completed"
    },
    "tags": []
   },
   "outputs": [
    {
     "data": {
      "image/png": "[encoded data removed]",
      "text/plain": [
       "<Figure size 1000x700 with 1 Axes>"
      ]
     },
     "metadata": {},
     "output_type": "display_data"
    }
   ],
   "source": [
    "# Using slicing, extract the year component and the time interval that you specified, \n",
    "# and save them by adding two new columns into the subset. \n",
    "\n",
    "### YOUR CODE HERE ###\n",
    "\n",
    "# using string operations to separate the quarter and the year joined\n",
    "companies_by_quarter_2020_2021['Quarter Number'] = companies_by_quarter_2020_2021['Quarter Joined'].str[-2:]\n",
    "\n",
    "companies_by_quarter_2020_2021['Year Joined'] = companies_by_quarter_2020_2021['Quarter Joined'].str[:4]\n",
    "\n",
    "\n",
    "# Set the size of the plot.\n",
    "\n",
    "### YOUR CODE HERE ###\n",
    "\n",
    "plt.figure(figsize=(10,7))\n",
    "\n",
    "\n",
    "# Create a grouped bar plot.\n",
    "\n",
    "### YOUR CODE HERE ###\n",
    "\n",
    "sns.barplot(x=companies_by_quarter_2020_2021['Quarter Number'],\n",
    "            y=companies_by_quarter_2020_2021['Mean Valuation'],\n",
    "            hue=companies_by_quarter_2020_2021['Year Joined']\n",
    "           )\n",
    "\n",
    "\n",
    "# Set title\n",
    "\n",
    "### YOUR CODE HERE ###\n",
    "\n",
    "plt.title('Grouped bar plot of average valuation across the quarters for each year (2020 & 2021)')\n",
    "\n",
    "\n",
    "\n",
    "# Set x-axis label\n",
    "\n",
    "### YOUR CODE HERE ###\n",
    "\n",
    "plt.xlabel('Years 2020 & 2021 --> Quarter number(Q1/Q2/Q3/Q4)')\n",
    "\n",
    "\n",
    "# Set y-axis label\n",
    "\n",
    "### YOUR CODE HERE ###\n",
    "\n",
    "plt.ylabel('Average valuation in $Billions')\n",
    "\n",
    "\n",
    "# Rotate the labels on the x-axis as a way to avoid overlap in the positions of the text.  \n",
    "\n",
    "### YOUR CODE HERE ###\n",
    "\n",
    "plt.xticks(rotation=30, horizontalalignment='right')\n",
    "\n",
    "\n",
    "# Display the plot.\n",
    "\n",
    "### YOUR CODE HERE ###\n",
    "\n",
    "plt.show()\n",
    "\n",
    "\n"
   ]
  },
  {
   "cell_type": "markdown",
   "id": "744d5002",
   "metadata": {
    "id": "w0EZVbYQp34N",
    "jp-MarkdownHeadingCollapsed": true,
    "papermill": {
     "duration": 0.027539,
     "end_time": "2025-02-06T04:36:23.403205",
     "exception": false,
     "start_time": "2025-02-06T04:36:23.375666",
     "status": "completed"
    },
    "tags": []
   },
   "source": [
    "<details>\n",
    "  <summary><h4><strong>Hint 1</strong></h4></summary>\n",
    "\n",
    "Refer to [the content about creating a grouped bar plot](https://www.coursera.org/learn/go-beyond-the-numbers-translate-data-into-insight/lecture/Pf6KW/eda-structuring-with-python).\n",
    "\n",
    "</details>"
   ]
  },
  {
   "cell_type": "markdown",
   "id": "3dbbb3fa",
   "metadata": {
    "id": "IhQ1sDxUp34O",
    "jp-MarkdownHeadingCollapsed": true,
    "papermill": {
     "duration": 0.026597,
     "end_time": "2025-02-06T04:36:23.457015",
     "exception": false,
     "start_time": "2025-02-06T04:36:23.430418",
     "status": "completed"
    },
    "tags": []
   },
   "source": [
    "<details>\n",
    "  <summary><h4><strong>Hint 2</strong></h4></summary>\n",
    "\n",
    "Use the function in the `seaborn` library that allows you to create a grouped bar plot, specifying the category and height for each bar, as well as the hue.\n",
    "\n",
    "Use the functions in the `matplotlib.pyplot` module that allow you to set the size, title, x-axis label, and y-axis label of plots. In that module, there is also a function for displaying the plot. \n",
    "\n",
    "</details>"
   ]
  },
  {
   "cell_type": "markdown",
   "id": "c7391d53",
   "metadata": {
    "id": "tH8in0r5p34P",
    "jp-MarkdownHeadingCollapsed": true,
    "papermill": {
     "duration": 0.027304,
     "end_time": "2025-02-06T04:36:23.511040",
     "exception": false,
     "start_time": "2025-02-06T04:36:23.483736",
     "status": "completed"
    },
    "tags": []
   },
   "source": [
    "<details>\n",
    "  <summary><h4><strong>Hint 3</strong></h4></summary>\n",
    "\n",
    "Use the `plt.bar()` to create the bar plot, passing in the parameters `x`, `y`, and `hue`. For the task at hand, set `hue` to the column that contains year joined. \n",
    "\n",
    "Use `plt.figure()`, passing in the `figsize` parameter to set the size of a plot.\n",
    "\n",
    "Use `plt.title()`, `plt.xlabel()`, `plt.ylabel()` to set the title, x-axis label, and y-axis label, respectively. \n",
    "\n",
    "Use `plt.show()` to display a plot.\n",
    "\n",
    "</details>"
   ]
  },
  {
   "cell_type": "markdown",
   "id": "3b9f1320",
   "metadata": {
    "id": "-JSttrHR4v77",
    "papermill": {
     "duration": 0.03105,
     "end_time": "2025-02-06T04:36:23.570105",
     "exception": false,
     "start_time": "2025-02-06T04:36:23.539055",
     "status": "completed"
    },
    "tags": []
   },
   "source": [
    "**Question:** What do you observe from the preceding grouped bar plot?\n",
    "\n",
    "  "
   ]
  },
  {
   "cell_type": "markdown",
   "id": "13c7e9a2",
   "metadata": {
    "id": "tJjbpUeD0GMH",
    "papermill": {
     "duration": 0.027068,
     "end_time": "2025-02-06T04:36:23.626008",
     "exception": false,
     "start_time": "2025-02-06T04:36:23.598940",
     "status": "completed"
    },
    "tags": []
   },
   "source": [
    "* 2020 valuations were consistently higher than 2021 across all quarters\n",
    "* 2020 saw peak valuations in Q3, with growth from Q1 to Q3\n",
    "* valuations in 2021 peaked in Q1, followed by a decline across quarters"
   ]
  },
  {
   "cell_type": "markdown",
   "id": "9964950d",
   "metadata": {
    "id": "CmStN_ox4wSs",
    "papermill": {
     "duration": 0.026144,
     "end_time": "2025-02-06T04:36:23.680769",
     "exception": false,
     "start_time": "2025-02-06T04:36:23.654625",
     "status": "completed"
    },
    "tags": []
   },
   "source": [
    "**Question:** Is there any bias in the data that could potentially inform your analysis?\n"
   ]
  },
  {
   "cell_type": "markdown",
   "id": "7a214d81",
   "metadata": {
    "id": "Utbk8TTF0Gji",
    "papermill": {
     "duration": 0.026002,
     "end_time": "2025-02-06T04:36:23.733118",
     "exception": false,
     "start_time": "2025-02-06T04:36:23.707116",
     "status": "completed"
    },
    "tags": []
   },
   "source": [
    "* sampling bias is possible --> we need to find out which market is this data from. and if it is from various markets, we need to establish if the sample provided is representative of the population\n",
    "* the context of the recent years --> during the 2020s and 2021, due to COVID-19 the market fluctuations were high due several factors being changed and innovations made. so, the effect due to the context must be considered as well\n",
    "* time of data --> recent data in the yearws after 2021 needs to be studied as well, because AI has revolutionized the markets"
   ]
  },
  {
   "cell_type": "markdown",
   "id": "012c9337",
   "metadata": {
    "id": "9EsEVdiGF9XP",
    "papermill": {
     "duration": 0.026136,
     "end_time": "2025-02-06T04:36:23.785498",
     "exception": false,
     "start_time": "2025-02-06T04:36:23.759362",
     "status": "completed"
    },
    "tags": []
   },
   "source": [
    "**Question:** What potential next steps could you take with your EDA?"
   ]
  },
  {
   "cell_type": "markdown",
   "id": "1a72b8ce",
   "metadata": {
    "id": "nHi73JCn0HrT",
    "papermill": {
     "duration": 0.026439,
     "end_time": "2025-02-06T04:36:23.838929",
     "exception": false,
     "start_time": "2025-02-06T04:36:23.812490",
     "status": "completed"
    },
    "tags": []
   },
   "source": [
    "* observe the trends across different time periods for the same factors observed\n",
    "* analyze after categorizing based on country or the type of industry"
   ]
  },
  {
   "cell_type": "markdown",
   "id": "e77b7806",
   "metadata": {
    "id": "9qPL2qMpIF6g",
    "papermill": {
     "duration": 0.026639,
     "end_time": "2025-02-06T04:36:23.893456",
     "exception": false,
     "start_time": "2025-02-06T04:36:23.866817",
     "status": "completed"
    },
    "tags": []
   },
   "source": [
    "**Question:** Are there any unanswered questions you have about the data? If yes, what are they?\n"
   ]
  },
  {
   "cell_type": "markdown",
   "id": "c8e965bf",
   "metadata": {
    "id": "ZQ4jXw1s0H_5",
    "papermill": {
     "duration": 0.026803,
     "end_time": "2025-02-06T04:36:23.946483",
     "exception": false,
     "start_time": "2025-02-06T04:36:23.919680",
     "status": "completed"
    },
    "tags": []
   },
   "source": [
    "* the valuation methods used to evaluate a company\n",
    "* what type of assets are taken in to value the company\n",
    "* how volatile each company is? i.e. how long has a company sustained the unicorn status?"
   ]
  },
  {
   "cell_type": "markdown",
   "id": "53880146",
   "metadata": {
    "id": "c77e7f0f-d2b9-4464-8a7c-9575d1e1ef9f",
    "papermill": {
     "duration": 0.026616,
     "end_time": "2025-02-06T04:36:23.999772",
     "exception": false,
     "start_time": "2025-02-06T04:36:23.973156",
     "status": "completed"
    },
    "tags": []
   },
   "source": [
    "## Considerations"
   ]
  },
  {
   "cell_type": "markdown",
   "id": "0480b8f1",
   "metadata": {
    "id": "bgpSxNeqL_gK",
    "papermill": {
     "duration": 0.027474,
     "end_time": "2025-02-06T04:36:24.055202",
     "exception": false,
     "start_time": "2025-02-06T04:36:24.027728",
     "status": "completed"
    },
    "tags": []
   },
   "source": [
    "**What are some key takeaways that you learned from this lab?**"
   ]
  },
  {
   "cell_type": "markdown",
   "id": "58bb894a",
   "metadata": {
    "id": "nh_Uk361MCUM",
    "papermill": {
     "duration": 0.027037,
     "end_time": "2025-02-06T04:36:24.109926",
     "exception": false,
     "start_time": "2025-02-06T04:36:24.082889",
     "status": "completed"
    },
    "tags": []
   },
   "source": [
    "* learned how to perform EDA through the discover and structure phases\n",
    "* handle wrong types of data and convert them\n",
    "* correct use of string operations \n",
    "* methods through which datetime datatypes can be transformed and extracted\n",
    "* ways to concatenate dataframes"
   ]
  },
  {
   "cell_type": "markdown",
   "id": "9671aa4d",
   "metadata": {
    "id": "7KjAJnO4MDTS",
    "papermill": {
     "duration": 0.026423,
     "end_time": "2025-02-06T04:36:24.163494",
     "exception": false,
     "start_time": "2025-02-06T04:36:24.137071",
     "status": "completed"
    },
    "tags": []
   },
   "source": [
    "**What findings would you share with others?**"
   ]
  },
  {
   "cell_type": "markdown",
   "id": "e0db391e",
   "metadata": {
    "id": "q4bQAfHzMECg",
    "papermill": {
     "duration": 0.027346,
     "end_time": "2025-02-06T04:36:24.217735",
     "exception": false,
     "start_time": "2025-02-06T04:36:24.190389",
     "status": "completed"
    },
    "tags": []
   },
   "source": [
    "* 1074 unicorns companies in the sample\n",
    "* year 2015 observed the most unicorn attainments\n",
    "* Peak valuations in 2020 and 2021: 2020 Q3 and 2021 Q1."
   ]
  },
  {
   "cell_type": "markdown",
   "id": "3f2ee915",
   "metadata": {
    "id": "r5pMz4ZHMEgL",
    "papermill": {
     "duration": 0.026395,
     "end_time": "2025-02-06T04:36:24.270788",
     "exception": false,
     "start_time": "2025-02-06T04:36:24.244393",
     "status": "completed"
    },
    "tags": []
   },
   "source": [
    "**What recommendations would you share with stakeholders based on these findings?**"
   ]
  },
  {
   "cell_type": "markdown",
   "id": "3013b9fd",
   "metadata": {
    "id": "2XrpKf0XMGWD",
    "papermill": {
     "duration": 0.02837,
     "end_time": "2025-02-06T04:36:24.327242",
     "exception": false,
     "start_time": "2025-02-06T04:36:24.298872",
     "status": "completed"
    },
    "tags": []
   },
   "source": [
    "* risk of investing in companies found in the beginning of fall needs to found\n",
    "* further analysis to be performed to zero down on the industry or the countries that is best for investments\n",
    "* existing findings needs more investigation"
   ]
  },
  {
   "cell_type": "markdown",
   "id": "0faf69e4",
   "metadata": {
    "id": "R9sAADZgr-YI",
    "papermill": {
     "duration": 0.027453,
     "end_time": "2025-02-06T04:36:24.383565",
     "exception": false,
     "start_time": "2025-02-06T04:36:24.356112",
     "status": "completed"
    },
    "tags": []
   },
   "source": [
    "**References**\n",
    "\n",
    "Bhat, M.A. (2022, March).[*Unicorn Companies*](https://www.kaggle.com/datasets/mysarahmadbhat/unicorn-companies). \n",
    "\n"
   ]
  },
  {
   "cell_type": "markdown",
   "id": "f08e94cb",
   "metadata": {
    "papermill": {
     "duration": 0.02849,
     "end_time": "2025-02-06T04:36:24.439679",
     "exception": false,
     "start_time": "2025-02-06T04:36:24.411189",
     "status": "completed"
    },
    "tags": []
   },
   "source": [
    "**Congratulations!** You've completed this lab. However, you may not notice a green check mark next to this item on Coursera's platform. Please continue your progress regardless of the check mark. Just click on the \"save\" icon at the top of this notebook to ensure your work has been logged."
   ]
  }
 ],
 "metadata": {
  "colab": {
   "collapsed_sections": [],
   "provenance": [
    {
     "file_id": "15yNL9B__b83dWYp4FcjSPvb_EInqHS4J",
     "timestamp": 1660007760492
    }
   ]
  },
  "kaggle": {
   "accelerator": "none",
   "dataSources": [
    {
     "datasetId": 6612279,
     "sourceId": 10675112,
     "sourceType": "datasetVersion"
    }
   ],
   "dockerImageVersionId": 30839,
   "isGpuEnabled": false,
   "isInternetEnabled": true,
   "language": "python",
   "sourceType": "notebook"
  },
  "kernelspec": {
   "display_name": "Python 3",
   "language": "python",
   "name": "python3"
  },
  "language_info": {
   "codemirror_mode": {
    "name": "ipython",
    "version": 3
   },
   "file_extension": ".py",
   "mimetype": "text/x-python",
   "name": "python",
   "nbconvert_exporter": "python",
   "pygments_lexer": "ipython3",
   "version": "3.10.12"
  },
  "papermill": {
   "default_parameters": {},
   "duration": 16.678467,
   "end_time": "2025-02-06T04:36:25.287713",
   "environment_variables": {},
   "exception": null,
   "input_path": "__notebook__.ipynb",
   "output_path": "__notebook__.ipynb",
   "parameters": {},
   "start_time": "2025-02-06T04:36:08.609246",
   "version": "2.6.0"
  },
  "toc-autonumbering": false,
  "toc-showtags": false
 },
 "nbformat": 4,
 "nbformat_minor": 5
}

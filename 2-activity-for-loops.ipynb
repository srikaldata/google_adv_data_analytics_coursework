{
 "cells": [
  {
   "cell_type": "markdown",
   "id": "fdbe39d0",
   "metadata": {
    "id": "m14F-xriYRB8",
    "papermill": {
     "duration": 0.006264,
     "end_time": "2025-02-03T23:25:32.776904",
     "exception": false,
     "start_time": "2025-02-03T23:25:32.770640",
     "status": "completed"
    },
    "tags": []
   },
   "source": [
    "<summary><h1>Activity: For loops</h1></summary>"
   ]
  },
  {
   "cell_type": "markdown",
   "id": "7295fe66",
   "metadata": {
    "id": "tsXwTAlCYWF2",
    "papermill": {
     "duration": 0.004459,
     "end_time": "2025-02-03T23:25:32.786755",
     "exception": false,
     "start_time": "2025-02-03T23:25:32.782296",
     "status": "completed"
    },
    "tags": []
   },
   "source": [
    "## Introduction \n",
    "\n",
    "As a data professional, you may need to use methods that involve repetition. For example, when analyzing customer feedback from surveys, you may need to compare averages across categories. In Python, using iterative statements helps automate this task and makes them more efficient.\n",
    "\n",
    "In this lab, you will practice writing iterative statements using `for` loops. "
   ]
  },
  {
   "cell_type": "markdown",
   "id": "5b831a9f",
   "metadata": {
    "id": "1gID2HFQYYin",
    "papermill": {
     "duration": 0.004097,
     "end_time": "2025-02-03T23:25:32.795220",
     "exception": false,
     "start_time": "2025-02-03T23:25:32.791123",
     "status": "completed"
    },
    "tags": []
   },
   "source": [
    "## Tips for completing this lab\n",
    "\n",
    "As you navigate this lab, keep the following tips in mind:\n",
    "\n",
    "- `### YOUR CODE HERE ###` indicates where you should write code. Be sure to replace this with your own code before running the code cell.\n",
    "- Feel free to open the hints for additional guidance as you work on each task.\n",
    "- To enter your answer to a question, double-click the markdown cell to edit. Be sure to replace the \"[Double-click to enter your responses here.]\" with your own answer.\n",
    "- You can save your work manually by clicking File and then Save in the menu bar at the top of the notebook.\n",
    "- You can download your work locally by clicking File and then Download and then specifying your preferred file format in the menu bar at the top of the notebook."
   ]
  },
  {
   "cell_type": "markdown",
   "id": "ec3b2005",
   "metadata": {
    "id": "IDPbsOsHYtNa",
    "papermill": {
     "duration": 0.004223,
     "end_time": "2025-02-03T23:25:32.803994",
     "exception": false,
     "start_time": "2025-02-03T23:25:32.799771",
     "status": "completed"
    },
    "tags": []
   },
   "source": [
    "## Task 1: Iterating with `if`, `elif`, and `else`\n",
    "\n",
    "In your work as an analyst, you have received customer feedback for a newly launched product. The feedback is a numerical grade on a scale of 1-10, with 10 being the best. Understanding the number of customers who responded negatively, neutrally, or positively will help determine how to improve the product.\n",
    "\n",
    "*  Define a function called `score_counter` that accepts the following argument:\n",
    "    * `score_list` - a list of customer-submitted scores, where each score is an integer, 1-10  \n",
    "    \n",
    "\n",
    "*  The function must iterate over the scores in `score_list` and bin them into three bins:  \n",
    "    * Negative (scores of 1-5)  \n",
    "    * Neutral (scores of 6-8)  \n",
    "    * Positive (scores of 9-10)\n",
    "    \n",
    "\n",
    "*  The output of the function must be three statements, each on its own line:\n",
    "\n",
    "    1. `'Negative: {number_of_negative_scores}'`\n",
    "    2. `'Neutral: {number_of_neutral_scores}'`\n",
    "    3. `'Positive: {number_of_positive_scores}'`\n",
    "\n",
    "*Example:*\n",
    "\n",
    "```\n",
    " [IN] score_counter([1, 2, 3, 4, 5, 6, 7, 8, 9, 10])\n",
    "[OUT] 'Negative: 5'\n",
    "      'Neutral: 3'\n",
    "      'Positive: 2'\n",
    "```\n",
    "**Note that there is more than one way to solve this problem.**"
   ]
  },
  {
   "cell_type": "code",
   "execution_count": 1,
   "id": "e42d3bb0",
   "metadata": {
    "execution": {
     "iopub.execute_input": "2025-02-03T23:25:32.814562Z",
     "iopub.status.busy": "2025-02-03T23:25:32.814166Z",
     "iopub.status.idle": "2025-02-03T23:25:32.821000Z",
     "shell.execute_reply": "2025-02-03T23:25:32.819875Z"
    },
    "id": "kQHzgKnxO7Vv",
    "papermill": {
     "duration": 0.014454,
     "end_time": "2025-02-03T23:25:32.822826",
     "exception": false,
     "start_time": "2025-02-03T23:25:32.808372",
     "status": "completed"
    },
    "tags": []
   },
   "outputs": [],
   "source": [
    "### YOUR CODE HERE ###\n",
    "\n",
    "def score_counter(score_list):\n",
    "    \n",
    "    negative = 0\n",
    "    neutral = 0\n",
    "    positive = 0\n",
    "    \n",
    "    # looping through the list of scores\n",
    "    for score in score_list:       \n",
    "        \n",
    "        # if the score is negative\n",
    "        if score >=1 and score <=5:\n",
    "            negative+=1\n",
    "        \n",
    "        # if the score is neutral\n",
    "        elif score>=6 and score<=8:\n",
    "            neutral+=1\n",
    "        \n",
    "        # if the score is positive\n",
    "        elif score>=9 and score <=10:\n",
    "            positive+=1\n",
    "        \n",
    "    print(*['Negative: '+ str(negative) ,'Neutral: '+ str(neutral), 'Positive: '+ str(positive)], sep='\\n')\n",
    "    \n"
   ]
  },
  {
   "cell_type": "markdown",
   "id": "b5e2f156",
   "metadata": {
    "id": "7lDTRcTaCTh_",
    "papermill": {
     "duration": 0.00526,
     "end_time": "2025-02-03T23:25:32.835116",
     "exception": false,
     "start_time": "2025-02-03T23:25:32.829856",
     "status": "completed"
    },
    "tags": []
   },
   "source": [
    "<details>\n",
    "    <summary><h4><strong>Hint 1</strong></h4></summary>\n",
    "\n",
    "Refer to what you learned about using `for` loops and `if, elif, else` statements.\n",
    "\n",
    "</details>"
   ]
  },
  {
   "cell_type": "markdown",
   "id": "4245925c",
   "metadata": {
    "id": "DN2cssKQCmf5",
    "papermill": {
     "duration": 0.005057,
     "end_time": "2025-02-03T23:25:32.846547",
     "exception": false,
     "start_time": "2025-02-03T23:25:32.841490",
     "status": "completed"
    },
    "tags": []
   },
   "source": [
    "<details>\n",
    "    <summary><h4><strong>Hint 2</strong></h4></summary>\n",
    "\n",
    "*  Counters and print statements should not be part of the `for` loop body.\n",
    "\n",
    "*  The body of the `for` loop should be indented as a block below the `for` statement. Each conditional statement within the body of the `for` loop should follow its own indentation syntax.\n",
    "\n",
    "</details>"
   ]
  },
  {
   "cell_type": "markdown",
   "id": "e14a3150",
   "metadata": {
    "id": "KZ_TSGlrHjxZ",
    "papermill": {
     "duration": 0.004132,
     "end_time": "2025-02-03T23:25:32.855097",
     "exception": false,
     "start_time": "2025-02-03T23:25:32.850965",
     "status": "completed"
    },
    "tags": []
   },
   "source": [
    "<details>\n",
    "    <summary><h4><strong>Hint 3</strong></h4></summary>\n",
    "\n",
    "*  Use a counter for each category you're counting and make sure to increment one of the counters by 1 for each iteration of the loop.\n",
    "\n",
    "*  Use the conditional statements `if`, `elif`, and `else` to sort the responses into their buckets. Make sure to include the correct logical and comparitive operators during the branching instructions.\n",
    "\n",
    "</details>"
   ]
  },
  {
   "cell_type": "markdown",
   "id": "2265c0db",
   "metadata": {
    "id": "W_8NrujfeQox",
    "papermill": {
     "duration": 0.004055,
     "end_time": "2025-02-03T23:25:32.863459",
     "exception": false,
     "start_time": "2025-02-03T23:25:32.859404",
     "status": "completed"
    },
    "tags": []
   },
   "source": [
    "### Test your function\n",
    "Test your function against the following cases by running the cell below."
   ]
  },
  {
   "cell_type": "code",
   "execution_count": 2,
   "id": "fce77862",
   "metadata": {
    "execution": {
     "iopub.execute_input": "2025-02-03T23:25:32.873157Z",
     "iopub.status.busy": "2025-02-03T23:25:32.872846Z",
     "iopub.status.idle": "2025-02-03T23:25:32.886487Z",
     "shell.execute_reply": "2025-02-03T23:25:32.885693Z"
    },
    "executionInfo": {
     "elapsed": 8,
     "status": "ok",
     "timestamp": 1680062595536,
     "user": {
      "displayName": "Matteo Riotto",
      "userId": "15211004813978485634"
     },
     "user_tz": 420
    },
    "id": "25V5vfEGVFEF",
    "outputId": "49fcaa0e-19f8-4c45-d41d-5f0c4b8128b7",
    "papermill": {
     "duration": 0.020202,
     "end_time": "2025-02-03T23:25:32.887977",
     "exception": false,
     "start_time": "2025-02-03T23:25:32.867775",
     "status": "completed"
    },
    "tags": []
   },
   "outputs": [
    {
     "name": "stdout",
     "output_type": "stream",
     "text": [
      "Test 1:\n",
      "Negative: 5\n",
      "Neutral: 1\n",
      "Positive: 4\n",
      "\n",
      "Test 2:\n",
      "Negative: 85\n",
      "Neutral: 253\n",
      "Positive: 112\n",
      "\n",
      "Test 3:\n",
      "Negative: 1935\n",
      "Neutral: 2652\n",
      "Positive: 5413\n"
     ]
    }
   ],
   "source": [
    "# RUN THIS CELL TO TEST YOUR FUNCTION\n",
    "\n",
    "import random\n",
    "random.seed(42)\n",
    "\n",
    "possible_scores = list(range(1,11))\n",
    "score_list1 = random.choices(possible_scores, weights=[8,8,8,8,8,3,3,4,20,30], k=10)\n",
    "score_list2 = random.choices(possible_scores, weights=[1,2,3,4,5,10,15,15,7,9], k=450)\n",
    "score_list3 = random.choices(possible_scores, weights=[1,2,3,4,4,5,5,10,15,25], k=10000)\n",
    "\n",
    "print('Test 1:')            # SHOULD OUTPUT (neg, neut, pos):\n",
    "score_counter(score_list1)  # 5, 1, 4\n",
    "print('\\nTest 2:')\n",
    "score_counter(score_list2)  # 85, 253, 112\n",
    "print('\\nTest 3:')\n",
    "score_counter(score_list3)  # 1935, 2652, 5413"
   ]
  },
  {
   "cell_type": "markdown",
   "id": "32a8ae80",
   "metadata": {
    "id": "MtE4axqNWh42",
    "papermill": {
     "duration": 0.00429,
     "end_time": "2025-02-03T23:25:32.896792",
     "exception": false,
     "start_time": "2025-02-03T23:25:32.892502",
     "status": "completed"
    },
    "tags": []
   },
   "source": [
    "## Task 2: Create a `for` loop using `if`, `not`, and `in`\n",
    "\n",
    "There is concern that some of the customer feedback scores are fake. One way to check the integrity of the feedback is to identify how many scores came from verified customers.\n",
    "\n",
    "In this task, you are provided with two lists: a list of verified customer IDs and a list of all IDs that left feedback scores. You must validate the data by cross-checking the lists against each other.\n",
    "\n",
    "<br/>\n",
    "\n",
    "* Define a function called `id_validator` that takes two lists as arguments:\n",
    "    *  `verified_ids` - a list containing IDs of verified customers\n",
    "    *  `feedback_ids` - a list containing unique IDs of all posters of feedback scores\n",
    "\n",
    "*  The output of the function must be two statements, each on its own line:\n",
    "    1. `'{number_of_unverified_ids} of {number_of_feedback_ids} IDs unverified.'`\n",
    "    2. `'{percent} unverified.'`\n",
    "\n",
    "*Example 1:*\n",
    "\n",
    "```\n",
    " [IN]  id_validator(verified_ids=['1', '2'], feedback_ids=['1', '2', '3'])\n",
    "[OUT]  '1 of 3 IDs unverified.'\n",
    "       '33.33% unverified.'\n",
    "```\n",
    "\n",
    "*Explanation:* \n",
    "\n",
    "One of the IDs (`'3'`) in `feedback_ids` is not in the list of `verified_ids`.  \n",
    "1/3 of the IDs in `feedback_ids` are unverified.  \n",
    "\n",
    "*Example 2:*\n",
    "```\n",
    "\n",
    " [IN]  id_validator(verified_ids=['1a', '2b', '3c'], feedback_ids=['1a', '4d'])\n",
    "[OUT]  '1 of 2 IDs unverified.'\n",
    "       '50.0% unverified.'\n",
    "```\n",
    "\n",
    "*Explanation:* \n",
    "\n",
    "One of the IDs (`'4d'`) in `feedback_ids` is not in the list of `verified_ids`.  \n",
    "1/2 of the IDs in `feedback_ids` are unverified.  \n",
    "\n",
    "**Note that there is more than one way to solve this problem.**"
   ]
  },
  {
   "cell_type": "code",
   "execution_count": 3,
   "id": "f660859e",
   "metadata": {
    "execution": {
     "iopub.execute_input": "2025-02-03T23:25:32.906435Z",
     "iopub.status.busy": "2025-02-03T23:25:32.906169Z",
     "iopub.status.idle": "2025-02-03T23:25:32.910681Z",
     "shell.execute_reply": "2025-02-03T23:25:32.909858Z"
    },
    "id": "AdTs3KkUoVVk",
    "papermill": {
     "duration": 0.011122,
     "end_time": "2025-02-03T23:25:32.912308",
     "exception": false,
     "start_time": "2025-02-03T23:25:32.901186",
     "status": "completed"
    },
    "tags": []
   },
   "outputs": [],
   "source": [
    "### YOUR CODE HERE ###\n",
    "def id_validator(verified_ids, feedback_ids):\n",
    "    \n",
    "    num_verified_ids = len(verified_ids)\n",
    "    num_feedback_ids = len(feedback_ids)\n",
    "    num_unverified_ids = 0\n",
    "    \n",
    "    # looping through feedback_ids\n",
    "    for current_id in feedback_ids:\n",
    "        \n",
    "        # checking and incrementing if the feedback id is unverified\n",
    "        if current_id not in verified_ids:\n",
    "            num_unverified_ids += 1\n",
    "      \n",
    "    print(*[str(num_unverified_ids)+ ' of ' + str(num_feedback_ids) +' IDs unverified', \n",
    "           str(round((num_unverified_ids/num_feedback_ids*100), 2))+'% unverified'], \n",
    "               sep='\\n')\n"
   ]
  },
  {
   "cell_type": "markdown",
   "id": "ca12d396",
   "metadata": {
    "id": "9o7J3RKGn3ps",
    "papermill": {
     "duration": 0.004251,
     "end_time": "2025-02-03T23:25:32.921136",
     "exception": false,
     "start_time": "2025-02-03T23:25:32.916885",
     "status": "completed"
    },
    "tags": []
   },
   "source": [
    "<details>\n",
    "    <summary><h4><strong>Hint 1</strong></h4></summary>\n",
    "\n",
    "Refer to what you learned about using `for` loops, `if` statements, and `not` and `in` operators.\n",
    "\n",
    "</details>"
   ]
  },
  {
   "cell_type": "markdown",
   "id": "b2e0d58a",
   "metadata": {
    "id": "bNh6VErFoAiS",
    "papermill": {
     "duration": 0.004121,
     "end_time": "2025-02-03T23:25:32.929941",
     "exception": false,
     "start_time": "2025-02-03T23:25:32.925820",
     "status": "completed"
    },
    "tags": []
   },
   "source": [
    "<details>\n",
    "    <summary><h4><strong>Hint 2</strong></h4></summary>\n",
    "\n",
    "Any lines of code within a `for` loop's body should be indented, including other conditional statements.\n",
    "\n",
    "</details>"
   ]
  },
  {
   "cell_type": "markdown",
   "id": "a5aa915a",
   "metadata": {
    "id": "vAEdAdBWoPL0",
    "papermill": {
     "duration": 0.00402,
     "end_time": "2025-02-03T23:25:32.938241",
     "exception": false,
     "start_time": "2025-02-03T23:25:32.934221",
     "status": "completed"
    },
    "tags": []
   },
   "source": [
    "<details>\n",
    "    <summary><h4><strong>Hint 3</strong></h4></summary>\n",
    "\n",
    "*  Use a counter variable to keep track of the number of IDs you're counting.\n",
    "\n",
    "*  Use an `if` statement to check if an ID from one list is in, or not in, the other list.\n",
    "\n",
    "</details>"
   ]
  },
  {
   "cell_type": "markdown",
   "id": "6e855d51",
   "metadata": {
    "id": "TTjPB1koqJUO",
    "papermill": {
     "duration": 0.004159,
     "end_time": "2025-02-03T23:25:32.946697",
     "exception": false,
     "start_time": "2025-02-03T23:25:32.942538",
     "status": "completed"
    },
    "tags": []
   },
   "source": [
    "### Test your function\n",
    "Test your function against the following cases by running the cell below."
   ]
  },
  {
   "cell_type": "code",
   "execution_count": 4,
   "id": "f346d62d",
   "metadata": {
    "execution": {
     "iopub.execute_input": "2025-02-03T23:25:32.956315Z",
     "iopub.status.busy": "2025-02-03T23:25:32.956026Z",
     "iopub.status.idle": "2025-02-03T23:25:32.962368Z",
     "shell.execute_reply": "2025-02-03T23:25:32.961334Z"
    },
    "id": "u2ysW2IO1psk",
    "papermill": {
     "duration": 0.012861,
     "end_time": "2025-02-03T23:25:32.963824",
     "exception": false,
     "start_time": "2025-02-03T23:25:32.950963",
     "status": "completed"
    },
    "tags": []
   },
   "outputs": [
    {
     "data": {
      "text/plain": [
       "\"\\nimport ada_c2_labs as lab\\n\\n# TEST SCENARIOS:                                   # SHOULD OUTPUT:\\nprint('Test 1:')\\nver1, fb1 = lab.lists_gen(8, 20, 15, 15)            # 4 of 15 IDs unverified.\\nid_validator(ver1, fb1)                             # 26.67% unverified.\\n\\nprint('\\nTest 2:')\\nver2, fb2 = lab.lists_gen(8, 1000, 900, 600)        # 357 of 900 IDs unverified.\\nid_validator(ver2, fb2)                             # 39.67% unverified.\\n\\nprint('\\nTest 3:')\\nver3, fb3 = lab.lists_gen(8, 15000, 14925, 13788)   # 1208 of 14925 IDs unverified.\\nid_validator(ver3, fb3)                             # 8.09% unverified.\\n\""
      ]
     },
     "execution_count": 4,
     "metadata": {},
     "output_type": "execute_result"
    }
   ],
   "source": [
    "# RUN THIS CELL TO TEST YOUR FUNCTION\n",
    "'''\n",
    "import ada_c2_labs as lab\n",
    "\n",
    "# TEST SCENARIOS:                                   # SHOULD OUTPUT:\n",
    "print('Test 1:')\n",
    "ver1, fb1 = lab.lists_gen(8, 20, 15, 15)            # 4 of 15 IDs unverified.\n",
    "id_validator(ver1, fb1)                             # 26.67% unverified.\n",
    "\n",
    "print('\\nTest 2:')\n",
    "ver2, fb2 = lab.lists_gen(8, 1000, 900, 600)        # 357 of 900 IDs unverified.\n",
    "id_validator(ver2, fb2)                             # 39.67% unverified.\n",
    "\n",
    "print('\\nTest 3:')\n",
    "ver3, fb3 = lab.lists_gen(8, 15000, 14925, 13788)   # 1208 of 14925 IDs unverified.\n",
    "id_validator(ver3, fb3)                             # 8.09% unverified.\n",
    "'''"
   ]
  },
  {
   "cell_type": "markdown",
   "id": "c052b781",
   "metadata": {
    "id": "JzWNOYsWoIXb",
    "papermill": {
     "duration": 0.004396,
     "end_time": "2025-02-03T23:25:32.972682",
     "exception": false,
     "start_time": "2025-02-03T23:25:32.968286",
     "status": "completed"
    },
    "tags": []
   },
   "source": [
    "# Task 3: Create a nested loop\n",
    "\n",
    "You've been asked to calculate the total value of all purchases made by each customer to understand how many customers have spent $100+.\n",
    "\n",
    "*  Write a function called `purchases_100` that accepts the following argument:\n",
    "    * `sales` - a list of lists where each inner list contains the prices of items purchased by a unique customer.\n",
    "\n",
    "* The function must return the number of customers whose purchases summed to $100 or more.\n",
    "\n",
    "*Example:*\n",
    "\n",
    "```\n",
    "sales = [[2.75], [50.0, 50.0], [150.46, 200.12, 111.30]]\n",
    "\n",
    " [IN]  purchases_100(sales)\n",
    "[OUT]  2\n",
    "```\n",
    "\n",
    "**Note that there is more than one way to solve this problem.**"
   ]
  },
  {
   "cell_type": "code",
   "execution_count": 5,
   "id": "1496cd34",
   "metadata": {
    "execution": {
     "iopub.execute_input": "2025-02-03T23:25:32.982802Z",
     "iopub.status.busy": "2025-02-03T23:25:32.982486Z",
     "iopub.status.idle": "2025-02-03T23:25:32.986929Z",
     "shell.execute_reply": "2025-02-03T23:25:32.986001Z"
    },
    "id": "NROZmlPopESe",
    "papermill": {
     "duration": 0.011084,
     "end_time": "2025-02-03T23:25:32.988332",
     "exception": false,
     "start_time": "2025-02-03T23:25:32.977248",
     "status": "completed"
    },
    "tags": []
   },
   "outputs": [],
   "source": [
    "### YOUR CODE HERE ###\n",
    "\n",
    "def purchases_100(sales):\n",
    "    #'''\n",
    "    \n",
    "    # w/o using nested ifs\n",
    "    \n",
    "    # counter\n",
    "    num_purchases_greater_100 = 0\n",
    "    \n",
    "    # looping through the sales list\n",
    "    for purchase in sales:\n",
    "        \n",
    "        # checks if the purchase results in more than $100 and counts\n",
    "        if sum(purchase) >= 100:\n",
    "            num_purchases_greater_100+=1\n",
    "    \n",
    "    \n",
    "    return num_purchases_greater_100\n",
    "        \n",
    "    \n",
    "    '''\n",
    "    # using nested ifs\n",
    "    \n",
    "    # counter\n",
    "    num_purchases_greater_100 = 0\n",
    "    sum_purchase = 0\n",
    "    \n",
    "    # looping through the sales list\n",
    "    for purchase in sales:\n",
    "        \n",
    "        # adds up all item cost in each purchase\n",
    "        for item_cost in purchase:\n",
    "            sum_purchase += item_cost\n",
    "            \n",
    "        \n",
    "        # checks if the purchase results in more than $100 and counts\n",
    "        if sum_purchase >= 100:\n",
    "            num_purchases_greater_100+=1\n",
    "        \n",
    "        sum_purchase = 0\n",
    "    \n",
    "    return num_purchases_greater_100\n",
    "    '''\n",
    "            \n",
    "    \n"
   ]
  },
  {
   "cell_type": "markdown",
   "id": "1a3773f3",
   "metadata": {
    "id": "j3oH70Ez0N_J",
    "papermill": {
     "duration": 0.004241,
     "end_time": "2025-02-03T23:25:32.997124",
     "exception": false,
     "start_time": "2025-02-03T23:25:32.992883",
     "status": "completed"
    },
    "tags": []
   },
   "source": [
    "<details>\n",
    "    <summary><h4><strong>Hint 1</strong></h4></summary>\n",
    "\n",
    "Refer to what you learned about nested `for` loops.\n",
    "\n",
    "</details>"
   ]
  },
  {
   "cell_type": "markdown",
   "id": "faf68924",
   "metadata": {
    "id": "X66xql200N10",
    "papermill": {
     "duration": 0.004289,
     "end_time": "2025-02-03T23:25:33.006031",
     "exception": false,
     "start_time": "2025-02-03T23:25:33.001742",
     "status": "completed"
    },
    "tags": []
   },
   "source": [
    "<details>\n",
    "    <summary><h4><strong>Hint 2</strong></h4></summary>\n",
    "\n",
    "Try setting:\n",
    "* A counter for the number of inner lists in `sales` that sum to >= 100\n",
    "* A variable that increments with each price in a given inner list to capture a final sum of the contents of that list.\n",
    "\n",
    "</details>"
   ]
  },
  {
   "cell_type": "markdown",
   "id": "e4223bb5",
   "metadata": {
    "id": "GrZl7_5t0NvC",
    "papermill": {
     "duration": 0.004292,
     "end_time": "2025-02-03T23:25:33.015202",
     "exception": false,
     "start_time": "2025-02-03T23:25:33.010910",
     "status": "completed"
    },
    "tags": []
   },
   "source": [
    "<details>\n",
    "    <summary><h4><strong>Hint 3</strong></h4></summary>\n",
    "\n",
    "* One approach would be to:\n",
    "    1. Set a counter to 0\n",
    "    2. Loop over each customer in the sales list\n",
    "    3. Set the customer's total purchase price to 0\n",
    "    4. For each purchase price in that customer's list, increase the customer's total purchase price by that price\n",
    "    5. If the customer's total purchse price >= 100, increment the counter by 1\n",
    "    6. Return the counter\n",
    "\n",
    "</details>"
   ]
  },
  {
   "cell_type": "markdown",
   "id": "5b48b752",
   "metadata": {
    "id": "HTF4sZ20APMD",
    "papermill": {
     "duration": 0.004447,
     "end_time": "2025-02-03T23:25:33.024194",
     "exception": false,
     "start_time": "2025-02-03T23:25:33.019747",
     "status": "completed"
    },
    "tags": []
   },
   "source": [
    "### Test your function\n",
    "Test your function against the following cases by running the cell below."
   ]
  },
  {
   "cell_type": "code",
   "execution_count": 6,
   "id": "b5b99247",
   "metadata": {
    "execution": {
     "iopub.execute_input": "2025-02-03T23:25:33.034352Z",
     "iopub.status.busy": "2025-02-03T23:25:33.034069Z",
     "iopub.status.idle": "2025-02-03T23:25:33.038810Z",
     "shell.execute_reply": "2025-02-03T23:25:33.037959Z"
    },
    "id": "tYFv-iLp1ZCp",
    "papermill": {
     "duration": 0.011369,
     "end_time": "2025-02-03T23:25:33.040210",
     "exception": false,
     "start_time": "2025-02-03T23:25:33.028841",
     "status": "completed"
    },
    "tags": []
   },
   "outputs": [
    {
     "data": {
      "text/plain": [
       "\"\\n# RUN THIS CELL TO TEST YOUR FUNCTION\\nimport ada_c2_labs as lab\\nsales1 = lab.sales_data_generator(n_customers=10, seed=1)   # SHOULD OUTPUT:\\nprint('Test 1:', purchases_100(sales1))                     # 5\\n\\nsales2 = lab.sales_data_generator(n_customers=150, seed=18)\\nprint('Test 2:', purchases_100(sales2))                     # 46\\n\\nsales3 = lab.sales_data_generator(n_customers=1275, seed=42)\\nprint('Test 3:', purchases_100(sales3))                     # 470\\n\""
      ]
     },
     "execution_count": 6,
     "metadata": {},
     "output_type": "execute_result"
    }
   ],
   "source": [
    "'''\n",
    "# RUN THIS CELL TO TEST YOUR FUNCTION\n",
    "import ada_c2_labs as lab\n",
    "sales1 = lab.sales_data_generator(n_customers=10, seed=1)   # SHOULD OUTPUT:\n",
    "print('Test 1:', purchases_100(sales1))                     # 5\n",
    "\n",
    "sales2 = lab.sales_data_generator(n_customers=150, seed=18)\n",
    "print('Test 2:', purchases_100(sales2))                     # 46\n",
    "\n",
    "sales3 = lab.sales_data_generator(n_customers=1275, seed=42)\n",
    "print('Test 3:', purchases_100(sales3))                     # 470\n",
    "'''"
   ]
  },
  {
   "cell_type": "markdown",
   "id": "3a1329f6",
   "metadata": {
    "id": "x_naox-digdC",
    "papermill": {
     "duration": 0.004388,
     "end_time": "2025-02-03T23:25:33.049202",
     "exception": false,
     "start_time": "2025-02-03T23:25:33.044814",
     "status": "completed"
    },
    "tags": []
   },
   "source": [
    "# Conclusion\n",
    "\n",
    "**What are your key takeaways from this lab?**"
   ]
  },
  {
   "cell_type": "markdown",
   "id": "15b288aa",
   "metadata": {
    "id": "VQdWwbI3ExeB",
    "papermill": {
     "duration": 0.004348,
     "end_time": "2025-02-03T23:25:33.058071",
     "exception": false,
     "start_time": "2025-02-03T23:25:33.053723",
     "status": "completed"
    },
    "tags": []
   },
   "source": [
    "* usage of for loops in functions\n",
    "* nested for loops applications\n",
    "* combining operators, conditionals and for loops"
   ]
  },
  {
   "cell_type": "markdown",
   "id": "8e147aab",
   "metadata": {
    "papermill": {
     "duration": 0.00433,
     "end_time": "2025-02-03T23:25:33.066973",
     "exception": false,
     "start_time": "2025-02-03T23:25:33.062643",
     "status": "completed"
    },
    "tags": []
   },
   "source": [
    "**Congratulations!** You've completed this lab. However, you may not notice a green check mark next to this item on Coursera's platform. Please continue your progress regardless of the check mark. Just click on the \"save\" icon at the top of this notebook to ensure your work has been logged."
   ]
  }
 ],
 "metadata": {
  "colab": {
   "provenance": []
  },
  "kaggle": {
   "accelerator": "none",
   "dataSources": [],
   "dockerImageVersionId": 30839,
   "isGpuEnabled": false,
   "isInternetEnabled": true,
   "language": "python",
   "sourceType": "notebook"
  },
  "kernelspec": {
   "display_name": "Python 3",
   "language": "python",
   "name": "python3"
  },
  "language_info": {
   "codemirror_mode": {
    "name": "ipython",
    "version": 3
   },
   "file_extension": ".py",
   "mimetype": "text/x-python",
   "name": "python",
   "nbconvert_exporter": "python",
   "pygments_lexer": "ipython3",
   "version": "3.10.12"
  },
  "papermill": {
   "default_parameters": {},
   "duration": 3.088726,
   "end_time": "2025-02-03T23:25:33.389153",
   "environment_variables": {},
   "exception": null,
   "input_path": "__notebook__.ipynb",
   "output_path": "__notebook__.ipynb",
   "parameters": {},
   "start_time": "2025-02-03T23:25:30.300427",
   "version": "2.6.0"
  }
 },
 "nbformat": 4,
 "nbformat_minor": 5
}

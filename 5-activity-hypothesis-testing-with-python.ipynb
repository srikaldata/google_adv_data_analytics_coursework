{
 "cells": [
  {
   "cell_type": "markdown",
   "id": "8083147a",
   "metadata": {
    "id": "3efad4c7-d34f-44b0-a48d-94651f931bae",
    "papermill": {
     "duration": 0.012811,
     "end_time": "2025-02-11T04:59:29.946398",
     "exception": false,
     "start_time": "2025-02-11T04:59:29.933587",
     "status": "completed"
    },
    "tags": []
   },
   "source": [
    "# Activity: Hypothesis testing with Python"
   ]
  },
  {
   "cell_type": "markdown",
   "id": "2993efb5",
   "metadata": {
    "id": "2faf7b57-5c13-45e5-b666-d575eff0d17c",
    "papermill": {
     "duration": 0.011745,
     "end_time": "2025-02-11T04:59:29.970433",
     "exception": false,
     "start_time": "2025-02-11T04:59:29.958688",
     "status": "completed"
    },
    "tags": []
   },
   "source": [
    "## **Introduction**\n"
   ]
  },
  {
   "cell_type": "markdown",
   "id": "0699c4ba",
   "metadata": {
    "id": "2ca9aca5-33e0-4aa7-acdb-05832b05e5a9",
    "papermill": {
     "duration": 0.012233,
     "end_time": "2025-02-11T04:59:29.995143",
     "exception": false,
     "start_time": "2025-02-11T04:59:29.982910",
     "status": "completed"
    },
    "tags": []
   },
   "source": [
    "As you've been learning, analysis of variance (commonly called ANOVA) is a group of statistical techniques that test the difference of means among three or more groups. It's a powerful tool for determining whether population means are different across groups and for answering a wide range of business questions.\n",
    "\n",
    "In this activity, you are a data professional working with historical marketing promotion data. You will use the data to run a one-way ANOVA and a post hoc ANOVA test. Then, you will communicate your results to stakeholders. These experiences will help you make more confident recommendations in a professional setting. \n",
    "\n",
    "In your dataset, each row corresponds to an independent marketing promotion, where your business uses TV, social media, radio, and influencer promotions to increase sales. You have previously provided insights about how different promotion types affect sales; now stakeholders want to know if sales are significantly different among various TV and influencer promotion types.\n",
    "\n",
    "To address this request, a one-way ANOVA test will enable you to determine if there is a statistically significant difference in sales among groups. This includes:\n",
    "* Using plots and descriptive statistics to select a categorical independent variable\n",
    "* Creating and fitting a linear regression model with the selected categorical independent variable\n",
    "* Checking model assumptions\n",
    "* Performing and interpreting a one-way ANOVA test\n",
    "* Comparing pairs of groups using an ANOVA post hoc test\n",
    "* Interpreting model outputs and communicating the results to nontechnical stakeholders"
   ]
  },
  {
   "cell_type": "markdown",
   "id": "f2ac6033",
   "metadata": {
    "id": "bfcf5ec2-e48b-4443-9bf6-72670bd60041",
    "papermill": {
     "duration": 0.012062,
     "end_time": "2025-02-11T04:59:30.019170",
     "exception": false,
     "start_time": "2025-02-11T04:59:30.007108",
     "status": "completed"
    },
    "tags": []
   },
   "source": [
    "## **Step 1: Imports** \n"
   ]
  },
  {
   "cell_type": "markdown",
   "id": "2e6f700f",
   "metadata": {
    "id": "7dcaa8a0-4fe8-4816-9ef5-5fc665a4638f",
    "papermill": {
     "duration": 0.012741,
     "end_time": "2025-02-11T04:59:30.043837",
     "exception": false,
     "start_time": "2025-02-11T04:59:30.031096",
     "status": "completed"
    },
    "tags": []
   },
   "source": [
    "Import pandas, pyplot from matplotlib, seaborn, api from statsmodels, ols from statsmodels.formula.api, and pairwise_tukeyhsd from statsmodels.stats.multicomp."
   ]
  },
  {
   "cell_type": "code",
   "execution_count": 1,
   "id": "e512d141",
   "metadata": {
    "execution": {
     "iopub.execute_input": "2025-02-11T04:59:30.069708Z",
     "iopub.status.busy": "2025-02-11T04:59:30.069305Z",
     "iopub.status.idle": "2025-02-11T04:59:34.890987Z",
     "shell.execute_reply": "2025-02-11T04:59:34.889744Z"
    },
    "id": "b2f4b9fa-b7bd-4b88-8c71-d3af5ddcb906",
    "papermill": {
     "duration": 4.837261,
     "end_time": "2025-02-11T04:59:34.893024",
     "exception": false,
     "start_time": "2025-02-11T04:59:30.055763",
     "status": "completed"
    },
    "tags": []
   },
   "outputs": [],
   "source": [
    "# Import libraries and packages.\n",
    "\n",
    "### YOUR CODE HERE ### \n",
    "\n",
    "import pandas as pd\n",
    "\n",
    "import matplotlib.pyplot as plt\n",
    "import seaborn as sns\n",
    "\n",
    "import statsmodels.api as sm\n",
    "from statsmodels.formula.api import ols\n",
    "from statsmodels.stats.multicomp import pairwise_tukeyhsd"
   ]
  },
  {
   "cell_type": "markdown",
   "id": "41a73e31",
   "metadata": {
    "papermill": {
     "duration": 0.012236,
     "end_time": "2025-02-11T04:59:34.917663",
     "exception": false,
     "start_time": "2025-02-11T04:59:34.905427",
     "status": "completed"
    },
    "tags": []
   },
   "source": [
    "`Pandas` was used to load the dataset `marketing_sales_data.csv` as `data`, now display the first five rows. The variables in the dataset have been adjusted to suit the objectives of this lab. As shown in this cell, the dataset has been automatically loaded in for you. You do not need to download the .csv file, or provide more code, in order to access the dataset and proceed with this lab. Please continue with this activity by completing the following instructions."
   ]
  },
  {
   "cell_type": "code",
   "execution_count": 2,
   "id": "0bf43baa",
   "metadata": {
    "execution": {
     "iopub.execute_input": "2025-02-11T04:59:34.942871Z",
     "iopub.status.busy": "2025-02-11T04:59:34.942346Z",
     "iopub.status.idle": "2025-02-11T04:59:34.989362Z",
     "shell.execute_reply": "2025-02-11T04:59:34.988253Z"
    },
    "id": "32d46d82-2bd6-4433-b56e-cfa5542949ca",
    "papermill": {
     "duration": 0.061533,
     "end_time": "2025-02-11T04:59:34.991147",
     "exception": false,
     "start_time": "2025-02-11T04:59:34.929614",
     "status": "completed"
    },
    "tags": []
   },
   "outputs": [
    {
     "data": {
      "text/html": [
       "<div>\n",
       "<style scoped>\n",
       "    .dataframe tbody tr th:only-of-type {\n",
       "        vertical-align: middle;\n",
       "    }\n",
       "\n",
       "    .dataframe tbody tr th {\n",
       "        vertical-align: top;\n",
       "    }\n",
       "\n",
       "    .dataframe thead th {\n",
       "        text-align: right;\n",
       "    }\n",
       "</style>\n",
       "<table border=\"1\" class=\"dataframe\">\n",
       "  <thead>\n",
       "    <tr style=\"text-align: right;\">\n",
       "      <th></th>\n",
       "      <th>TV</th>\n",
       "      <th>Radio</th>\n",
       "      <th>Social Media</th>\n",
       "      <th>Influencer</th>\n",
       "      <th>Sales</th>\n",
       "    </tr>\n",
       "  </thead>\n",
       "  <tbody>\n",
       "    <tr>\n",
       "      <th>0</th>\n",
       "      <td>Low</td>\n",
       "      <td>1.218354</td>\n",
       "      <td>1.270444</td>\n",
       "      <td>Micro</td>\n",
       "      <td>90.054222</td>\n",
       "    </tr>\n",
       "    <tr>\n",
       "      <th>1</th>\n",
       "      <td>Medium</td>\n",
       "      <td>14.949791</td>\n",
       "      <td>0.274451</td>\n",
       "      <td>Macro</td>\n",
       "      <td>222.741668</td>\n",
       "    </tr>\n",
       "    <tr>\n",
       "      <th>2</th>\n",
       "      <td>Low</td>\n",
       "      <td>10.377258</td>\n",
       "      <td>0.061984</td>\n",
       "      <td>Mega</td>\n",
       "      <td>102.774790</td>\n",
       "    </tr>\n",
       "    <tr>\n",
       "      <th>3</th>\n",
       "      <td>High</td>\n",
       "      <td>26.469274</td>\n",
       "      <td>7.070945</td>\n",
       "      <td>Micro</td>\n",
       "      <td>328.239378</td>\n",
       "    </tr>\n",
       "    <tr>\n",
       "      <th>4</th>\n",
       "      <td>High</td>\n",
       "      <td>36.876302</td>\n",
       "      <td>7.618605</td>\n",
       "      <td>Mega</td>\n",
       "      <td>351.807328</td>\n",
       "    </tr>\n",
       "  </tbody>\n",
       "</table>\n",
       "</div>"
      ],
      "text/plain": [
       "       TV      Radio  Social Media Influencer       Sales\n",
       "0     Low   1.218354      1.270444      Micro   90.054222\n",
       "1  Medium  14.949791      0.274451      Macro  222.741668\n",
       "2     Low  10.377258      0.061984       Mega  102.774790\n",
       "3    High  26.469274      7.070945      Micro  328.239378\n",
       "4    High  36.876302      7.618605       Mega  351.807328"
      ]
     },
     "execution_count": 2,
     "metadata": {},
     "output_type": "execute_result"
    }
   ],
   "source": [
    "# RUN THIS CELL TO IMPORT YOUR DATA.\n",
    "\n",
    "### YOUR CODE HERE ### \n",
    "data = pd.read_csv('/kaggle/input/google-adv-data-analytics-basicml-datasets/5_marketing_sales_data.csv')\n",
    "\n",
    "# Display the first five rows.\n",
    "\n",
    "### YOUR CODE HERE ### \n",
    "\n",
    "data.head()"
   ]
  },
  {
   "cell_type": "markdown",
   "id": "1bd555e1",
   "metadata": {
    "id": "c179e85f-20df-4840-ad29-de35b928dff6",
    "papermill": {
     "duration": 0.012885,
     "end_time": "2025-02-11T04:59:35.017792",
     "exception": false,
     "start_time": "2025-02-11T04:59:35.004907",
     "status": "completed"
    },
    "tags": []
   },
   "source": [
    "The features in the data are:\n",
    "* TV promotion budget (in Low, Medium, and High categories)\n",
    "* Social media promotion budget (in millions of dollars)\n",
    "* Radio promotion budget (in millions of dollars)\n",
    "* Sales (in millions of dollars)\n",
    "* Influencer size (in Mega, Macro, Nano, and Micro categories)"
   ]
  },
  {
   "cell_type": "markdown",
   "id": "c28ab46c",
   "metadata": {
    "id": "6db7b19a-dd9b-490a-b389-0c433ed16754",
    "papermill": {
     "duration": 0.012668,
     "end_time": "2025-02-11T04:59:35.042603",
     "exception": false,
     "start_time": "2025-02-11T04:59:35.029935",
     "status": "completed"
    },
    "tags": []
   },
   "source": [
    "**Question:** Why is it useful to perform exploratory data analysis before constructing a linear regression model?"
   ]
  },
  {
   "cell_type": "markdown",
   "id": "7a3c16d9",
   "metadata": {
    "id": "88d82eb8-6ee1-46f0-9b9f-a859666038c9",
    "papermill": {
     "duration": 0.011716,
     "end_time": "2025-02-11T04:59:35.066573",
     "exception": false,
     "start_time": "2025-02-11T04:59:35.054857",
     "status": "completed"
    },
    "tags": []
   },
   "source": [
    "* find out the independent and dependent variables in contention\n",
    "* perform data cleaning and validation to prepare the data for analysis (handle outliers, missing values and errors)\n",
    "* perform descriptive stats to understand about the variables in depth\n",
    "* find the disribution of the variables and any relationships between 2 variables"
   ]
  },
  {
   "cell_type": "markdown",
   "id": "a27e46e8",
   "metadata": {
    "id": "fd47ede7-63ff-4fe5-aeb0-b8f909e9ecbe",
    "papermill": {
     "duration": 0.011775,
     "end_time": "2025-02-11T04:59:35.090815",
     "exception": false,
     "start_time": "2025-02-11T04:59:35.079040",
     "status": "completed"
    },
    "tags": []
   },
   "source": [
    "## **Step 2: Data exploration** \n"
   ]
  },
  {
   "cell_type": "markdown",
   "id": "0a182c86",
   "metadata": {
    "id": "b9669d71-a6b3-491b-b115-0c766625fc3d",
    "papermill": {
     "duration": 0.011695,
     "end_time": "2025-02-11T04:59:35.114552",
     "exception": false,
     "start_time": "2025-02-11T04:59:35.102857",
     "status": "completed"
    },
    "tags": []
   },
   "source": [
    "First, use a boxplot to determine how `Sales` vary based on the `TV` promotion budget category."
   ]
  },
  {
   "cell_type": "code",
   "execution_count": 3,
   "id": "a0e76771",
   "metadata": {
    "execution": {
     "iopub.execute_input": "2025-02-11T04:59:35.139395Z",
     "iopub.status.busy": "2025-02-11T04:59:35.138986Z",
     "iopub.status.idle": "2025-02-11T04:59:35.412720Z",
     "shell.execute_reply": "2025-02-11T04:59:35.411594Z"
    },
    "id": "518254a6-44d5-45bf-9b57-13ce3a4deab3",
    "papermill": {
     "duration": 0.2882,
     "end_time": "2025-02-11T04:59:35.414533",
     "exception": false,
     "start_time": "2025-02-11T04:59:35.126333",
     "status": "completed"
    },
    "tags": []
   },
   "outputs": [
    {
     "data": {
      "text/plain": [
       "<Axes: xlabel='TV', ylabel='Sales'>"
      ]
     },
     "execution_count": 3,
     "metadata": {},
     "output_type": "execute_result"
    },
    {
     "data": {
      "image/png": "[encoded data removed]",
      "text/plain": [
       "<Figure size 640x480 with 1 Axes>"
      ]
     },
     "metadata": {},
     "output_type": "display_data"
    }
   ],
   "source": [
    "# Create a boxplot with TV and Sales.\n",
    "\n",
    "### YOUR CODE HERE ### \n",
    "\n",
    "sns.boxplot(x = \"TV\", y = \"Sales\", data = data)"
   ]
  },
  {
   "cell_type": "markdown",
   "id": "1b2af40f",
   "metadata": {
    "id": "dd7d4c26-24ae-43b6-a521-18ce36446216",
    "papermill": {
     "duration": 0.012375,
     "end_time": "2025-02-11T04:59:35.439542",
     "exception": false,
     "start_time": "2025-02-11T04:59:35.427167",
     "status": "completed"
    },
    "tags": []
   },
   "source": [
    "<details>\n",
    "<summary><h4><strong>Hint 1</strong></h4></summary>\n",
    "\n",
    "There is a function in the `seaborn` library that creates a boxplot showing the distribution of a variable across multiple groups.\n",
    "\n",
    "</details>"
   ]
  },
  {
   "cell_type": "markdown",
   "id": "1c5ab319",
   "metadata": {
    "id": "344a4a0a-1b9e-474a-979a-d55032c5bd75",
    "papermill": {
     "duration": 0.012274,
     "end_time": "2025-02-11T04:59:35.465126",
     "exception": false,
     "start_time": "2025-02-11T04:59:35.452852",
     "status": "completed"
    },
    "tags": []
   },
   "source": [
    "<details>\n",
    "<summary><h4><strong>Hint 2</strong></h4></summary>\n",
    "\n",
    "Use the `boxplot()` function from `seaborn`.\n",
    "\n",
    "</details>"
   ]
  },
  {
   "cell_type": "markdown",
   "id": "ed9beea3",
   "metadata": {
    "id": "0b172c8a-8c94-4f83-bd33-b89d634a5025",
    "papermill": {
     "duration": 0.012702,
     "end_time": "2025-02-11T04:59:35.490564",
     "exception": false,
     "start_time": "2025-02-11T04:59:35.477862",
     "status": "completed"
    },
    "tags": []
   },
   "source": [
    "<details>\n",
    "<summary><h4><strong>Hint 3</strong></h4></summary>\n",
    "\n",
    "Use `TV` as the `x` argument, `Sales` as the `y` argument, and `data` as the `data` argument.\n",
    "\n",
    "</details>"
   ]
  },
  {
   "cell_type": "markdown",
   "id": "3a34ffc7",
   "metadata": {
    "id": "a956add8-97b0-45b8-a008-ca1f7033c308",
    "papermill": {
     "duration": 0.012493,
     "end_time": "2025-02-11T04:59:35.516835",
     "exception": false,
     "start_time": "2025-02-11T04:59:35.504342",
     "status": "completed"
    },
    "tags": []
   },
   "source": [
    "**Question:** Is there variation in `Sales` based off the `TV` promotion budget?"
   ]
  },
  {
   "cell_type": "markdown",
   "id": "05b619ce",
   "metadata": {
    "id": "81f3c2fa-d98e-491d-be5b-f7d07845e490",
    "papermill": {
     "duration": 0.012352,
     "end_time": "2025-02-11T04:59:35.541898",
     "exception": false,
     "start_time": "2025-02-11T04:59:35.529546",
     "status": "completed"
    },
    "tags": []
   },
   "source": [
    "* there is a significant variation in sales for each category in TV promotion budget"
   ]
  },
  {
   "cell_type": "markdown",
   "id": "cd11cf50",
   "metadata": {
    "id": "f3100abe-32db-4a56-b831-18eb0857b2d7",
    "papermill": {
     "duration": 0.012512,
     "end_time": "2025-02-11T04:59:35.567221",
     "exception": false,
     "start_time": "2025-02-11T04:59:35.554709",
     "status": "completed"
    },
    "tags": []
   },
   "source": [
    "Now, use a boxplot to determine how `Sales` vary based on the `Influencer` size category."
   ]
  },
  {
   "cell_type": "code",
   "execution_count": 4,
   "id": "4a61d780",
   "metadata": {
    "execution": {
     "iopub.execute_input": "2025-02-11T04:59:35.595439Z",
     "iopub.status.busy": "2025-02-11T04:59:35.595061Z",
     "iopub.status.idle": "2025-02-11T04:59:35.789931Z",
     "shell.execute_reply": "2025-02-11T04:59:35.788749Z"
    },
    "id": "fafbc9e4-de0b-4892-a863-add240208344",
    "papermill": {
     "duration": 0.211698,
     "end_time": "2025-02-11T04:59:35.791600",
     "exception": false,
     "start_time": "2025-02-11T04:59:35.579902",
     "status": "completed"
    },
    "tags": []
   },
   "outputs": [
    {
     "data": {
      "text/plain": [
       "<Axes: xlabel='Influencer', ylabel='Sales'>"
      ]
     },
     "execution_count": 4,
     "metadata": {},
     "output_type": "execute_result"
    },
    {
     "data": {
      "image/png": "[encoded data removed]",
      "text/plain": [
       "<Figure size 640x480 with 1 Axes>"
      ]
     },
     "metadata": {},
     "output_type": "display_data"
    }
   ],
   "source": [
    "# Create a boxplot with Influencer and Sales.\n",
    "\n",
    "### YOUR CODE HERE ### \n",
    "\n",
    "sns.boxplot(x = \"Influencer\", y = \"Sales\", data = data)"
   ]
  },
  {
   "cell_type": "markdown",
   "id": "53e13666",
   "metadata": {
    "id": "e415aa95-0650-47e0-9efd-2770b8dfcb3d",
    "papermill": {
     "duration": 0.013138,
     "end_time": "2025-02-11T04:59:35.818508",
     "exception": false,
     "start_time": "2025-02-11T04:59:35.805370",
     "status": "completed"
    },
    "tags": []
   },
   "source": [
    "**Question:** Is there variation in `Sales` based off the `Influencer` size?"
   ]
  },
  {
   "cell_type": "markdown",
   "id": "dd89e144",
   "metadata": {
    "id": "b665e78d-7255-43de-b915-a78d6bbb87ce",
    "papermill": {
     "duration": 0.012725,
     "end_time": "2025-02-11T04:59:35.844732",
     "exception": false,
     "start_time": "2025-02-11T04:59:35.832007",
     "status": "completed"
    },
    "tags": []
   },
   "source": [
    "* there is no prominent variation observed in the Sales across different Influencer categories\n",
    "* if needed, further tests needs to be performed to investigate the difference b/w groups "
   ]
  },
  {
   "cell_type": "markdown",
   "id": "85af3c21",
   "metadata": {
    "id": "0f4adbee-9d13-400a-99e6-6d4c482b8e17",
    "papermill": {
     "duration": 0.013111,
     "end_time": "2025-02-11T04:59:35.871043",
     "exception": false,
     "start_time": "2025-02-11T04:59:35.857932",
     "status": "completed"
    },
    "tags": []
   },
   "source": [
    "### Remove missing data\n",
    "\n",
    "You may recall from prior labs that this dataset contains rows with missing values. To correct this, drop these rows. Then, confirm the data contains no missing values."
   ]
  },
  {
   "cell_type": "code",
   "execution_count": 5,
   "id": "8c77144f",
   "metadata": {
    "execution": {
     "iopub.execute_input": "2025-02-11T04:59:35.898571Z",
     "iopub.status.busy": "2025-02-11T04:59:35.898136Z",
     "iopub.status.idle": "2025-02-11T04:59:35.908850Z",
     "shell.execute_reply": "2025-02-11T04:59:35.907811Z"
    },
    "id": "498e546b-e90e-4b84-a7d7-12b3bb514c1d",
    "papermill": {
     "duration": 0.026603,
     "end_time": "2025-02-11T04:59:35.910717",
     "exception": false,
     "start_time": "2025-02-11T04:59:35.884114",
     "status": "completed"
    },
    "tags": []
   },
   "outputs": [
    {
     "data": {
      "text/plain": [
       "TV              0\n",
       "Radio           0\n",
       "Social Media    0\n",
       "Influencer      0\n",
       "Sales           0\n",
       "dtype: int64"
      ]
     },
     "execution_count": 5,
     "metadata": {},
     "output_type": "execute_result"
    }
   ],
   "source": [
    "# Drop rows that contain missing data and update the DataFrame.\n",
    "\n",
    "### YOUR CODE HERE ### \n",
    "\n",
    "data = data.dropna(axis=0)\n",
    "\n",
    "\n",
    "# Confirm the data contains no missing values.\n",
    "\n",
    "### YOUR CODE HERE ### \n",
    "\n",
    "data.isnull().sum(axis=0)"
   ]
  },
  {
   "cell_type": "markdown",
   "id": "ab7cf24b",
   "metadata": {
    "id": "e37d7507-1f3d-4432-912e-ced7feff4ac6",
    "papermill": {
     "duration": 0.013674,
     "end_time": "2025-02-11T04:59:35.937770",
     "exception": false,
     "start_time": "2025-02-11T04:59:35.924096",
     "status": "completed"
    },
    "tags": []
   },
   "source": [
    "<details>\n",
    "<summary><h4><strong>Hint 1</strong></h4></summary>\n",
    "\n",
    "There is a `pandas` function that removes missing values.\n",
    "\n",
    "</details>"
   ]
  },
  {
   "cell_type": "markdown",
   "id": "c5815411",
   "metadata": {
    "id": "19cd01e1-9976-47f6-b25c-7b8ce2a05627",
    "papermill": {
     "duration": 0.012908,
     "end_time": "2025-02-11T04:59:35.964027",
     "exception": false,
     "start_time": "2025-02-11T04:59:35.951119",
     "status": "completed"
    },
    "tags": []
   },
   "source": [
    "<details>\n",
    "<summary><h4><strong>Hint 2</strong></h4></summary>\n",
    "\n",
    "The `dropna()` function removes missing values from an object (e.g., DataFrame).\n",
    "\n",
    "</details>"
   ]
  },
  {
   "cell_type": "markdown",
   "id": "049de6ff",
   "metadata": {
    "id": "87a46eec-9d3e-4657-bf91-6b3bd02089f0",
    "papermill": {
     "duration": 0.013479,
     "end_time": "2025-02-11T04:59:35.990741",
     "exception": false,
     "start_time": "2025-02-11T04:59:35.977262",
     "status": "completed"
    },
    "tags": []
   },
   "source": [
    "<details>\n",
    "<summary><h4><strong>Hint 3</strong></h4></summary>\n",
    "\n",
    "Verify the data is updated properly after the rows containing missing data are dropped.\n",
    "\n",
    "</details>"
   ]
  },
  {
   "cell_type": "markdown",
   "id": "2351a19b",
   "metadata": {
    "id": "888c90fa-d800-43e4-a692-9fdd576c9b9c",
    "papermill": {
     "duration": 0.013294,
     "end_time": "2025-02-11T04:59:36.018173",
     "exception": false,
     "start_time": "2025-02-11T04:59:36.004879",
     "status": "completed"
    },
    "tags": []
   },
   "source": [
    "## **Step 3: Model building** \n"
   ]
  },
  {
   "cell_type": "markdown",
   "id": "8ebabf59",
   "metadata": {
    "id": "9c906193-db62-4af0-83fa-dffafc347554",
    "papermill": {
     "duration": 0.013508,
     "end_time": "2025-02-11T04:59:36.045187",
     "exception": false,
     "start_time": "2025-02-11T04:59:36.031679",
     "status": "completed"
    },
    "tags": []
   },
   "source": [
    "Fit a linear regression model that predicts `Sales` using one of the independent categorical variables in `data`. Refer to your previous code for defining and fitting a linear regression model."
   ]
  },
  {
   "cell_type": "code",
   "execution_count": 6,
   "id": "03415c23",
   "metadata": {
    "execution": {
     "iopub.execute_input": "2025-02-11T04:59:36.072909Z",
     "iopub.status.busy": "2025-02-11T04:59:36.072548Z",
     "iopub.status.idle": "2025-02-11T04:59:36.134875Z",
     "shell.execute_reply": "2025-02-11T04:59:36.133604Z"
    },
    "id": "76f99341-1ea0-4f1d-a2c7-54e56bd57e38",
    "papermill": {
     "duration": 0.078362,
     "end_time": "2025-02-11T04:59:36.136829",
     "exception": false,
     "start_time": "2025-02-11T04:59:36.058467",
     "status": "completed"
    },
    "tags": []
   },
   "outputs": [
    {
     "data": {
      "text/html": [
       "<table class=\"simpletable\">\n",
       "<caption>OLS Regression Results</caption>\n",
       "<tr>\n",
       "  <th>Dep. Variable:</th>          <td>Sales</td>      <th>  R-squared:         </th> <td>   0.874</td> \n",
       "</tr>\n",
       "<tr>\n",
       "  <th>Model:</th>                   <td>OLS</td>       <th>  Adj. R-squared:    </th> <td>   0.874</td> \n",
       "</tr>\n",
       "<tr>\n",
       "  <th>Method:</th>             <td>Least Squares</td>  <th>  F-statistic:       </th> <td>   1971.</td> \n",
       "</tr>\n",
       "<tr>\n",
       "  <th>Date:</th>             <td>Tue, 11 Feb 2025</td> <th>  Prob (F-statistic):</th> <td>8.81e-256</td>\n",
       "</tr>\n",
       "<tr>\n",
       "  <th>Time:</th>                 <td>04:59:36</td>     <th>  Log-Likelihood:    </th> <td> -2778.9</td> \n",
       "</tr>\n",
       "<tr>\n",
       "  <th>No. Observations:</th>      <td>   569</td>      <th>  AIC:               </th> <td>   5564.</td> \n",
       "</tr>\n",
       "<tr>\n",
       "  <th>Df Residuals:</th>          <td>   566</td>      <th>  BIC:               </th> <td>   5577.</td> \n",
       "</tr>\n",
       "<tr>\n",
       "  <th>Df Model:</th>              <td>     2</td>      <th>                     </th>     <td> </td>    \n",
       "</tr>\n",
       "<tr>\n",
       "  <th>Covariance Type:</th>      <td>nonrobust</td>    <th>                     </th>     <td> </td>    \n",
       "</tr>\n",
       "</table>\n",
       "<table class=\"simpletable\">\n",
       "<tr>\n",
       "         <td></td>            <th>coef</th>     <th>std err</th>      <th>t</th>      <th>P>|t|</th>  <th>[0.025</th>    <th>0.975]</th>  \n",
       "</tr>\n",
       "<tr>\n",
       "  <th>Intercept</th>       <td>  300.5296</td> <td>    2.417</td> <td>  124.360</td> <td> 0.000</td> <td>  295.783</td> <td>  305.276</td>\n",
       "</tr>\n",
       "<tr>\n",
       "  <th>C(TV)[T.Low]</th>    <td> -208.8133</td> <td>    3.329</td> <td>  -62.720</td> <td> 0.000</td> <td> -215.353</td> <td> -202.274</td>\n",
       "</tr>\n",
       "<tr>\n",
       "  <th>C(TV)[T.Medium]</th> <td> -101.5061</td> <td>    3.325</td> <td>  -30.526</td> <td> 0.000</td> <td> -108.038</td> <td>  -94.975</td>\n",
       "</tr>\n",
       "</table>\n",
       "<table class=\"simpletable\">\n",
       "<tr>\n",
       "  <th>Omnibus:</th>       <td>450.714</td> <th>  Durbin-Watson:     </th> <td>   2.002</td>\n",
       "</tr>\n",
       "<tr>\n",
       "  <th>Prob(Omnibus):</th> <td> 0.000</td>  <th>  Jarque-Bera (JB):  </th> <td>  35.763</td>\n",
       "</tr>\n",
       "<tr>\n",
       "  <th>Skew:</th>          <td>-0.044</td>  <th>  Prob(JB):          </th> <td>1.71e-08</td>\n",
       "</tr>\n",
       "<tr>\n",
       "  <th>Kurtosis:</th>      <td> 1.775</td>  <th>  Cond. No.          </th> <td>    3.86</td>\n",
       "</tr>\n",
       "</table><br/><br/>Notes:<br/>[1] Standard Errors assume that the covariance matrix of the errors is correctly specified."
      ],
      "text/latex": [
       "\\begin{center}\n",
       "\\begin{tabular}{lclc}\n",
       "\\toprule\n",
       "\\textbf{Dep. Variable:}    &      Sales       & \\textbf{  R-squared:         } &     0.874   \\\\\n",
       "\\textbf{Model:}            &       OLS        & \\textbf{  Adj. R-squared:    } &     0.874   \\\\\n",
       "\\textbf{Method:}           &  Least Squares   & \\textbf{  F-statistic:       } &     1971.   \\\\\n",
       "\\textbf{Date:}             & Tue, 11 Feb 2025 & \\textbf{  Prob (F-statistic):} & 8.81e-256   \\\\\n",
       "\\textbf{Time:}             &     04:59:36     & \\textbf{  Log-Likelihood:    } &   -2778.9   \\\\\n",
       "\\textbf{No. Observations:} &         569      & \\textbf{  AIC:               } &     5564.   \\\\\n",
       "\\textbf{Df Residuals:}     &         566      & \\textbf{  BIC:               } &     5577.   \\\\\n",
       "\\textbf{Df Model:}         &           2      & \\textbf{                     } &             \\\\\n",
       "\\textbf{Covariance Type:}  &    nonrobust     & \\textbf{                     } &             \\\\\n",
       "\\bottomrule\n",
       "\\end{tabular}\n",
       "\\begin{tabular}{lcccccc}\n",
       "                         & \\textbf{coef} & \\textbf{std err} & \\textbf{t} & \\textbf{P$> |$t$|$} & \\textbf{[0.025} & \\textbf{0.975]}  \\\\\n",
       "\\midrule\n",
       "\\textbf{Intercept}       &     300.5296  &        2.417     &   124.360  &         0.000        &      295.783    &      305.276     \\\\\n",
       "\\textbf{C(TV)[T.Low]}    &    -208.8133  &        3.329     &   -62.720  &         0.000        &     -215.353    &     -202.274     \\\\\n",
       "\\textbf{C(TV)[T.Medium]} &    -101.5061  &        3.325     &   -30.526  &         0.000        &     -108.038    &      -94.975     \\\\\n",
       "\\bottomrule\n",
       "\\end{tabular}\n",
       "\\begin{tabular}{lclc}\n",
       "\\textbf{Omnibus:}       & 450.714 & \\textbf{  Durbin-Watson:     } &    2.002  \\\\\n",
       "\\textbf{Prob(Omnibus):} &   0.000 & \\textbf{  Jarque-Bera (JB):  } &   35.763  \\\\\n",
       "\\textbf{Skew:}          &  -0.044 & \\textbf{  Prob(JB):          } & 1.71e-08  \\\\\n",
       "\\textbf{Kurtosis:}      &   1.775 & \\textbf{  Cond. No.          } &     3.86  \\\\\n",
       "\\bottomrule\n",
       "\\end{tabular}\n",
       "%\\caption{OLS Regression Results}\n",
       "\\end{center}\n",
       "\n",
       "Notes: \\newline\n",
       " [1] Standard Errors assume that the covariance matrix of the errors is correctly specified."
      ],
      "text/plain": [
       "<class 'statsmodels.iolib.summary.Summary'>\n",
       "\"\"\"\n",
       "                            OLS Regression Results                            \n",
       "==============================================================================\n",
       "Dep. Variable:                  Sales   R-squared:                       0.874\n",
       "Model:                            OLS   Adj. R-squared:                  0.874\n",
       "Method:                 Least Squares   F-statistic:                     1971.\n",
       "Date:                Tue, 11 Feb 2025   Prob (F-statistic):          8.81e-256\n",
       "Time:                        04:59:36   Log-Likelihood:                -2778.9\n",
       "No. Observations:                 569   AIC:                             5564.\n",
       "Df Residuals:                     566   BIC:                             5577.\n",
       "Df Model:                           2                                         \n",
       "Covariance Type:            nonrobust                                         \n",
       "===================================================================================\n",
       "                      coef    std err          t      P>|t|      [0.025      0.975]\n",
       "-----------------------------------------------------------------------------------\n",
       "Intercept         300.5296      2.417    124.360      0.000     295.783     305.276\n",
       "C(TV)[T.Low]     -208.8133      3.329    -62.720      0.000    -215.353    -202.274\n",
       "C(TV)[T.Medium]  -101.5061      3.325    -30.526      0.000    -108.038     -94.975\n",
       "==============================================================================\n",
       "Omnibus:                      450.714   Durbin-Watson:                   2.002\n",
       "Prob(Omnibus):                  0.000   Jarque-Bera (JB):               35.763\n",
       "Skew:                          -0.044   Prob(JB):                     1.71e-08\n",
       "Kurtosis:                       1.775   Cond. No.                         3.86\n",
       "==============================================================================\n",
       "\n",
       "Notes:\n",
       "[1] Standard Errors assume that the covariance matrix of the errors is correctly specified.\n",
       "\"\"\""
      ]
     },
     "execution_count": 6,
     "metadata": {},
     "output_type": "execute_result"
    }
   ],
   "source": [
    "# Define the OLS formula.\n",
    "### YOUR CODE HERE ### \n",
    "ols_formula = 'Sales ~ C(TV)'\n",
    "\n",
    "\n",
    "# Create an OLS model.\n",
    "### YOUR CODE HERE ### \n",
    "OLS = ols(formula = ols_formula, data = data)\n",
    "\n",
    "\n",
    "# Fit the model.\n",
    "### YOUR CODE HERE ### \n",
    "model = OLS.fit()\n",
    "\n",
    "\n",
    "# Save the results summary.\n",
    "### YOUR CODE HERE ### \n",
    "model_results = model.summary()\n",
    "\n",
    "\n",
    "# Display the model results.\n",
    "### YOUR CODE HERE ### \n",
    "model_results"
   ]
  },
  {
   "cell_type": "markdown",
   "id": "caaa5b2c",
   "metadata": {
    "id": "109e32f5-8193-4961-8245-6b6c09acfe3a",
    "jp-MarkdownHeadingCollapsed": true,
    "papermill": {
     "duration": 0.013289,
     "end_time": "2025-02-11T04:59:36.164311",
     "exception": false,
     "start_time": "2025-02-11T04:59:36.151022",
     "status": "completed"
    },
    "tags": []
   },
   "source": [
    "<details>\n",
    "<summary><h4><strong>Hint 1</strong></h4></summary>\n",
    "\n",
    "Refer to code you've written to fit linear regression models.\n",
    "\n",
    "</details>"
   ]
  },
  {
   "cell_type": "markdown",
   "id": "730de9cd",
   "metadata": {
    "id": "49424e08-3472-44f1-a892-63ed80517510",
    "papermill": {
     "duration": 0.013398,
     "end_time": "2025-02-11T04:59:36.191638",
     "exception": false,
     "start_time": "2025-02-11T04:59:36.178240",
     "status": "completed"
    },
    "tags": []
   },
   "source": [
    "<details>\n",
    "<summary><h4><strong>Hint 2</strong></h4></summary>\n",
    "\n",
    "Use the `ols()` function from `statsmodels.formula.api`, which creates a model from a formula and DataFrame, to create an OLS model.\n",
    "\n",
    "</details>\n"
   ]
  },
  {
   "cell_type": "markdown",
   "id": "ea355ccf",
   "metadata": {
    "id": "0ee5dead-ed62-45d5-ab24-d671d8c3dde4",
    "papermill": {
     "duration": 0.013996,
     "end_time": "2025-02-11T04:59:36.219335",
     "exception": false,
     "start_time": "2025-02-11T04:59:36.205339",
     "status": "completed"
    },
    "tags": []
   },
   "source": [
    "<details>\n",
    "<summary><h4><strong>Hint 3</strong></h4></summary>\n",
    "\n",
    "Use `C()` around the variable name in the ols formula to indicate a variable is categorical.\n",
    "    \n",
    "Be sure the variable string names exactly match the column names in `data`.\n",
    "\n",
    "</details>"
   ]
  },
  {
   "cell_type": "markdown",
   "id": "c94b7ec7",
   "metadata": {
    "id": "1d889a8b-76f5-4f27-833f-a19af27ed8ca",
    "papermill": {
     "duration": 0.013482,
     "end_time": "2025-02-11T04:59:36.304401",
     "exception": false,
     "start_time": "2025-02-11T04:59:36.290919",
     "status": "completed"
    },
    "tags": []
   },
   "source": [
    "**Question:** Which categorical variable did you choose for the model? Why?"
   ]
  },
  {
   "cell_type": "markdown",
   "id": "b836f75c",
   "metadata": {
    "id": "0e59dcd5-cb5b-4d24-a212-20123e48eb4c",
    "papermill": {
     "duration": 0.01342,
     "end_time": "2025-02-11T04:59:36.331389",
     "exception": false,
     "start_time": "2025-02-11T04:59:36.317969",
     "status": "completed"
    },
    "tags": []
   },
   "source": [
    "* TV variable was the independent categorical variable chosen because from the boxplots we observed the differences in distributions of TV budget categories across the Sales revenue\n",
    "* From the boxplot for Influencer categories across Sales, there was no observable significant difference. SO, it was left out. "
   ]
  },
  {
   "cell_type": "markdown",
   "id": "91c3a309",
   "metadata": {
    "id": "b4987bee-40ae-4513-95c3-1bec1acdbba9",
    "papermill": {
     "duration": 0.013382,
     "end_time": "2025-02-11T04:59:36.358750",
     "exception": false,
     "start_time": "2025-02-11T04:59:36.345368",
     "status": "completed"
    },
    "tags": []
   },
   "source": [
    "### Check model assumptions"
   ]
  },
  {
   "cell_type": "markdown",
   "id": "33e62036",
   "metadata": {
    "id": "6854af88-7d67-4214-a7df-c6405b46bb47",
    "papermill": {
     "duration": 0.013475,
     "end_time": "2025-02-11T04:59:36.386081",
     "exception": false,
     "start_time": "2025-02-11T04:59:36.372606",
     "status": "completed"
    },
    "tags": []
   },
   "source": [
    "Now, check the four linear regression assumptions are upheld for your model."
   ]
  },
  {
   "cell_type": "markdown",
   "id": "c8b3c7a4",
   "metadata": {
    "id": "66de8f0b-fd6b-456f-add6-f893dc33d911",
    "papermill": {
     "duration": 0.01344,
     "end_time": "2025-02-11T04:59:36.413122",
     "exception": false,
     "start_time": "2025-02-11T04:59:36.399682",
     "status": "completed"
    },
    "tags": []
   },
   "source": [
    "**Question:** Is the linearity assumption met?"
   ]
  },
  {
   "cell_type": "markdown",
   "id": "2c172326",
   "metadata": {
    "id": "82090a3a-875f-4da6-af73-6c790bd3457f",
    "papermill": {
     "duration": 0.013494,
     "end_time": "2025-02-11T04:59:36.441005",
     "exception": false,
     "start_time": "2025-02-11T04:59:36.427511",
     "status": "completed"
    },
    "tags": []
   },
   "source": [
    "* TV is a categorical variable\n",
    "* Only the TV variable is chosen to estimate Sales\n",
    "* So, linearity assumption does NOT apply here"
   ]
  },
  {
   "cell_type": "markdown",
   "id": "c892cf2d",
   "metadata": {
    "id": "feeb314a-bbbe-4e9a-8561-2f8af0cd172e",
    "papermill": {
     "duration": 0.013315,
     "end_time": "2025-02-11T04:59:36.468105",
     "exception": false,
     "start_time": "2025-02-11T04:59:36.454790",
     "status": "completed"
    },
    "tags": []
   },
   "source": [
    "The independent observation assumption states that each observation in the dataset is independent. As each marketing promotion (row) is independent from one another, the independence assumption is not violated."
   ]
  },
  {
   "cell_type": "markdown",
   "id": "b7176891",
   "metadata": {
    "id": "bcccf5c8-3325-4b1e-b491-f151bea5ab1c",
    "papermill": {
     "duration": 0.013294,
     "end_time": "2025-02-11T04:59:36.494958",
     "exception": false,
     "start_time": "2025-02-11T04:59:36.481664",
     "status": "completed"
    },
    "tags": []
   },
   "source": [
    "Next, verify that the normality assumption is upheld for the model."
   ]
  },
  {
   "cell_type": "code",
   "execution_count": 7,
   "id": "b44051ea",
   "metadata": {
    "execution": {
     "iopub.execute_input": "2025-02-11T04:59:36.523456Z",
     "iopub.status.busy": "2025-02-11T04:59:36.523010Z",
     "iopub.status.idle": "2025-02-11T04:59:37.014238Z",
     "shell.execute_reply": "2025-02-11T04:59:37.013081Z"
    },
    "id": "cce8f99b-33e2-4723-9266-4f009e7a15dd",
    "papermill": {
     "duration": 0.507586,
     "end_time": "2025-02-11T04:59:37.016020",
     "exception": false,
     "start_time": "2025-02-11T04:59:36.508434",
     "status": "completed"
    },
    "tags": []
   },
   "outputs": [
    {
     "name": "stderr",
     "output_type": "stream",
     "text": [
      "/usr/local/lib/python3.10/dist-packages/seaborn/_oldcore.py:1119: FutureWarning: use_inf_as_na option is deprecated and will be removed in a future version. Convert inf values to NaN before operating instead.\n",
      "  with pd.option_context('mode.use_inf_as_na', True):\n"
     ]
    },
    {
     "data": {
      "image/png": "[encoded data removed]",
      "text/plain": [
       "<Figure size 800x400 with 2 Axes>"
      ]
     },
     "metadata": {},
     "output_type": "display_data"
    }
   ],
   "source": [
    "# Calculate the residuals.\n",
    "### YOUR CODE HERE ### \n",
    "residuals = model.resid\n",
    "\n",
    "# create a figure\n",
    "fig, axes = plt.subplots(1, 2, figsize = (8,4))\n",
    "\n",
    "\n",
    "# Create a histogram with the residuals.\n",
    "### YOUR CODE HERE ### \n",
    "sns.histplot(residuals, ax=axes[0])\n",
    "\n",
    "# set x label\n",
    "axes[0].set_xlabel(\"Residual Value\")\n",
    "\n",
    "# set title\n",
    "axes[0].set_title(\"Histogram of Residuals\")\n",
    "\n",
    "\n",
    "# Create a QQ plot of the residuals.\n",
    "### YOUR CODE HERE ### \n",
    "sm.qqplot(residuals, line='s',ax = axes[1])\n",
    "\n",
    "# set title\n",
    "axes[1].set_title(\"Normal QQ Plot\")\n",
    "\n",
    "# use clean appearance\n",
    "plt.tight_layout()\n",
    "\n",
    "# display the plot\n",
    "plt.show()"
   ]
  },
  {
   "cell_type": "markdown",
   "id": "1d6dca9e",
   "metadata": {
    "id": "39538404-e292-4564-b361-46353fc8e3f0",
    "papermill": {
     "duration": 0.015161,
     "end_time": "2025-02-11T04:59:37.046055",
     "exception": false,
     "start_time": "2025-02-11T04:59:37.030894",
     "status": "completed"
    },
    "tags": []
   },
   "source": [
    "<details>\n",
    "<summary><h4><strong>Hint 1</strong></h4></summary>\n",
    "\n",
    "Access the residuals from the fit model object.\n",
    "\n",
    "</details>"
   ]
  },
  {
   "cell_type": "markdown",
   "id": "1b938d37",
   "metadata": {
    "id": "689dabc4-ad48-4c9e-976e-b70520801385",
    "papermill": {
     "duration": 0.014311,
     "end_time": "2025-02-11T04:59:37.075039",
     "exception": false,
     "start_time": "2025-02-11T04:59:37.060728",
     "status": "completed"
    },
    "tags": []
   },
   "source": [
    "<details>\n",
    "<summary><h4><strong>Hint 2</strong></h4></summary>\n",
    "\n",
    "Use `model.resid` to get the residuals from a fit model called `model`.\n",
    "\n",
    "</details>"
   ]
  },
  {
   "cell_type": "markdown",
   "id": "0a8f8b9c",
   "metadata": {
    "id": "562f868e-45e4-464a-a47e-9f1ed735d6a4",
    "papermill": {
     "duration": 0.015427,
     "end_time": "2025-02-11T04:59:37.106100",
     "exception": false,
     "start_time": "2025-02-11T04:59:37.090673",
     "status": "completed"
    },
    "tags": []
   },
   "source": [
    "<details>\n",
    "<summary><h4><strong>Hint 3</strong></h4></summary>\n",
    "\n",
    "For the histogram, pass the residuals as the first argument in the `seaborn` `histplot()` function.\n",
    "    \n",
    "For the QQ-plot, pass the residuals as the first argument in the `statsmodels` `qqplot()` function.\n",
    "\n",
    "</details>"
   ]
  },
  {
   "cell_type": "markdown",
   "id": "45f29b3f",
   "metadata": {
    "id": "e41f4dd7-5501-43b7-b684-58bad8ff61fb",
    "papermill": {
     "duration": 0.014322,
     "end_time": "2025-02-11T04:59:37.135297",
     "exception": false,
     "start_time": "2025-02-11T04:59:37.120975",
     "status": "completed"
    },
    "tags": []
   },
   "source": [
    "**Question:** Is the normality assumption met?"
   ]
  },
  {
   "cell_type": "markdown",
   "id": "efd2998b",
   "metadata": {
    "id": "fc232449-b3ea-4cb6-992d-cd129ef43cc9",
    "papermill": {
     "duration": 0.014383,
     "end_time": "2025-02-11T04:59:37.164280",
     "exception": false,
     "start_time": "2025-02-11T04:59:37.149897",
     "status": "completed"
    },
    "tags": []
   },
   "source": [
    "* the QQ plot doesn't display normality\n",
    "* normality assumption is NOT met\n",
    "* still proceeding"
   ]
  },
  {
   "cell_type": "markdown",
   "id": "87c92eae",
   "metadata": {
    "id": "be83ac10-d1d0-4b94-88de-5de424528547",
    "papermill": {
     "duration": 0.014193,
     "end_time": "2025-02-11T04:59:37.193174",
     "exception": false,
     "start_time": "2025-02-11T04:59:37.178981",
     "status": "completed"
    },
    "tags": []
   },
   "source": [
    "Now, verify the constant variance (homoscedasticity) assumption is met for this model."
   ]
  },
  {
   "cell_type": "code",
   "execution_count": 8,
   "id": "86f92093",
   "metadata": {
    "execution": {
     "iopub.execute_input": "2025-02-11T04:59:37.224357Z",
     "iopub.status.busy": "2025-02-11T04:59:37.223968Z",
     "iopub.status.idle": "2025-02-11T04:59:37.443838Z",
     "shell.execute_reply": "2025-02-11T04:59:37.442648Z"
    },
    "id": "efcd0325-b3a0-42d1-ad57-38f10800c35e",
    "papermill": {
     "duration": 0.23739,
     "end_time": "2025-02-11T04:59:37.445736",
     "exception": false,
     "start_time": "2025-02-11T04:59:37.208346",
     "status": "completed"
    },
    "tags": []
   },
   "outputs": [
    {
     "data": {
      "image/png": "[encoded data removed]",
      "text/plain": [
       "<Figure size 640x480 with 1 Axes>"
      ]
     },
     "metadata": {},
     "output_type": "display_data"
    }
   ],
   "source": [
    "# Create a scatter plot with the fitted values from the model and the residuals.\n",
    "### YOUR CODE HERE ### \n",
    "fig = sns.scatterplot(x = model.fittedvalues, y = model.resid)\n",
    "\n",
    "# set x label\n",
    "fig.set_xlabel(\"Fitted Values\")\n",
    "\n",
    "# set y label\n",
    "fig.set_ylabel(\"Residuals\")\n",
    "\n",
    "# set title\n",
    "fig.set_title(\"Fitted Values v. Residuals\")\n",
    "\n",
    "\n",
    "# Add a line at y = 0 to visualize the variance of residuals above and below 0.\n",
    "### YOUR CODE HERE ### \n",
    "fig.axhline(0)\n",
    "\n",
    "# display the plot\n",
    "plt.show()"
   ]
  },
  {
   "cell_type": "markdown",
   "id": "a72f05f2",
   "metadata": {
    "id": "662f104d-0977-498f-8159-501063f3c3fc",
    "papermill": {
     "duration": 0.015988,
     "end_time": "2025-02-11T04:59:37.477932",
     "exception": false,
     "start_time": "2025-02-11T04:59:37.461944",
     "status": "completed"
    },
    "tags": []
   },
   "source": [
    "<details>\n",
    "<summary><h4><strong>Hint 1</strong></h4></summary>\n",
    "\n",
    "Access the fitted values from the model object fit earlier.\n",
    "\n",
    "</details>"
   ]
  },
  {
   "cell_type": "markdown",
   "id": "779b7c89",
   "metadata": {
    "id": "b0a3d26c-1e80-46e3-849a-d7f054cffb52",
    "jp-MarkdownHeadingCollapsed": true,
    "papermill": {
     "duration": 0.01538,
     "end_time": "2025-02-11T04:59:37.509147",
     "exception": false,
     "start_time": "2025-02-11T04:59:37.493767",
     "status": "completed"
    },
    "tags": []
   },
   "source": [
    "<details>\n",
    "<summary><h4><strong>Hint 2</strong></h4></summary>\n",
    "\n",
    "Use `model.fittedvalues` to get the fitted values from the fit model called `model`.\n",
    "\n",
    "</details>"
   ]
  },
  {
   "cell_type": "markdown",
   "id": "bb295032",
   "metadata": {
    "id": "5830cbfc-9204-42a6-b24f-3cf1334ff41e",
    "papermill": {
     "duration": 0.015126,
     "end_time": "2025-02-11T04:59:37.539585",
     "exception": false,
     "start_time": "2025-02-11T04:59:37.524459",
     "status": "completed"
    },
    "tags": []
   },
   "source": [
    "<details>\n",
    "<summary><h4><strong>Hint 3</strong></h4></summary>\n",
    "\n",
    "\n",
    "Call the `scatterplot()` function from the `seaborn` library and pass in the fitted values and residuals.\n",
    "    \n",
    "Add a line to a figure using the `axline()` function.\n",
    "\n",
    "</details>"
   ]
  },
  {
   "cell_type": "markdown",
   "id": "f9266172",
   "metadata": {
    "id": "8318f726-369c-446a-acad-85117e43459b",
    "papermill": {
     "duration": 0.015044,
     "end_time": "2025-02-11T04:59:37.570054",
     "exception": false,
     "start_time": "2025-02-11T04:59:37.555010",
     "status": "completed"
    },
    "tags": []
   },
   "source": [
    "**Question:** Is the constant variance (homoscedasticity) assumption met?"
   ]
  },
  {
   "cell_type": "markdown",
   "id": "a9c55917",
   "metadata": {
    "id": "8eadb921-bc45-4669-b4f0-e727111fff3c",
    "papermill": {
     "duration": 0.017251,
     "end_time": "2025-02-11T04:59:37.602565",
     "exception": false,
     "start_time": "2025-02-11T04:59:37.585314",
     "status": "completed"
    },
    "tags": []
   },
   "source": [
    "* the spread of the residuals are approximately same\n",
    "* homoscedasticity assumption is met"
   ]
  },
  {
   "cell_type": "markdown",
   "id": "9397bbcb",
   "metadata": {
    "id": "84373d80-2129-4124-85fa-85871671004b",
    "papermill": {
     "duration": 0.015928,
     "end_time": "2025-02-11T04:59:37.633954",
     "exception": false,
     "start_time": "2025-02-11T04:59:37.618026",
     "status": "completed"
    },
    "tags": []
   },
   "source": [
    "## **Step 4: Results and evaluation** "
   ]
  },
  {
   "cell_type": "markdown",
   "id": "671781c5",
   "metadata": {
    "id": "30f5a3e8-a446-4a64-a0cb-4a512a367111",
    "papermill": {
     "duration": 0.016147,
     "end_time": "2025-02-11T04:59:37.665824",
     "exception": false,
     "start_time": "2025-02-11T04:59:37.649677",
     "status": "completed"
    },
    "tags": []
   },
   "source": [
    "First, display the OLS regression results."
   ]
  },
  {
   "cell_type": "code",
   "execution_count": 9,
   "id": "24e0cda7",
   "metadata": {
    "execution": {
     "iopub.execute_input": "2025-02-11T04:59:37.699736Z",
     "iopub.status.busy": "2025-02-11T04:59:37.699382Z",
     "iopub.status.idle": "2025-02-11T04:59:37.714542Z",
     "shell.execute_reply": "2025-02-11T04:59:37.713401Z"
    },
    "id": "7d0bfc27-05f7-4cfa-9aa1-8e2110eabd69",
    "papermill": {
     "duration": 0.034264,
     "end_time": "2025-02-11T04:59:37.716270",
     "exception": false,
     "start_time": "2025-02-11T04:59:37.682006",
     "status": "completed"
    },
    "tags": []
   },
   "outputs": [
    {
     "data": {
      "text/html": [
       "<table class=\"simpletable\">\n",
       "<caption>OLS Regression Results</caption>\n",
       "<tr>\n",
       "  <th>Dep. Variable:</th>          <td>Sales</td>      <th>  R-squared:         </th> <td>   0.874</td> \n",
       "</tr>\n",
       "<tr>\n",
       "  <th>Model:</th>                   <td>OLS</td>       <th>  Adj. R-squared:    </th> <td>   0.874</td> \n",
       "</tr>\n",
       "<tr>\n",
       "  <th>Method:</th>             <td>Least Squares</td>  <th>  F-statistic:       </th> <td>   1971.</td> \n",
       "</tr>\n",
       "<tr>\n",
       "  <th>Date:</th>             <td>Tue, 11 Feb 2025</td> <th>  Prob (F-statistic):</th> <td>8.81e-256</td>\n",
       "</tr>\n",
       "<tr>\n",
       "  <th>Time:</th>                 <td>04:59:36</td>     <th>  Log-Likelihood:    </th> <td> -2778.9</td> \n",
       "</tr>\n",
       "<tr>\n",
       "  <th>No. Observations:</th>      <td>   569</td>      <th>  AIC:               </th> <td>   5564.</td> \n",
       "</tr>\n",
       "<tr>\n",
       "  <th>Df Residuals:</th>          <td>   566</td>      <th>  BIC:               </th> <td>   5577.</td> \n",
       "</tr>\n",
       "<tr>\n",
       "  <th>Df Model:</th>              <td>     2</td>      <th>                     </th>     <td> </td>    \n",
       "</tr>\n",
       "<tr>\n",
       "  <th>Covariance Type:</th>      <td>nonrobust</td>    <th>                     </th>     <td> </td>    \n",
       "</tr>\n",
       "</table>\n",
       "<table class=\"simpletable\">\n",
       "<tr>\n",
       "         <td></td>            <th>coef</th>     <th>std err</th>      <th>t</th>      <th>P>|t|</th>  <th>[0.025</th>    <th>0.975]</th>  \n",
       "</tr>\n",
       "<tr>\n",
       "  <th>Intercept</th>       <td>  300.5296</td> <td>    2.417</td> <td>  124.360</td> <td> 0.000</td> <td>  295.783</td> <td>  305.276</td>\n",
       "</tr>\n",
       "<tr>\n",
       "  <th>C(TV)[T.Low]</th>    <td> -208.8133</td> <td>    3.329</td> <td>  -62.720</td> <td> 0.000</td> <td> -215.353</td> <td> -202.274</td>\n",
       "</tr>\n",
       "<tr>\n",
       "  <th>C(TV)[T.Medium]</th> <td> -101.5061</td> <td>    3.325</td> <td>  -30.526</td> <td> 0.000</td> <td> -108.038</td> <td>  -94.975</td>\n",
       "</tr>\n",
       "</table>\n",
       "<table class=\"simpletable\">\n",
       "<tr>\n",
       "  <th>Omnibus:</th>       <td>450.714</td> <th>  Durbin-Watson:     </th> <td>   2.002</td>\n",
       "</tr>\n",
       "<tr>\n",
       "  <th>Prob(Omnibus):</th> <td> 0.000</td>  <th>  Jarque-Bera (JB):  </th> <td>  35.763</td>\n",
       "</tr>\n",
       "<tr>\n",
       "  <th>Skew:</th>          <td>-0.044</td>  <th>  Prob(JB):          </th> <td>1.71e-08</td>\n",
       "</tr>\n",
       "<tr>\n",
       "  <th>Kurtosis:</th>      <td> 1.775</td>  <th>  Cond. No.          </th> <td>    3.86</td>\n",
       "</tr>\n",
       "</table><br/><br/>Notes:<br/>[1] Standard Errors assume that the covariance matrix of the errors is correctly specified."
      ],
      "text/latex": [
       "\\begin{center}\n",
       "\\begin{tabular}{lclc}\n",
       "\\toprule\n",
       "\\textbf{Dep. Variable:}    &      Sales       & \\textbf{  R-squared:         } &     0.874   \\\\\n",
       "\\textbf{Model:}            &       OLS        & \\textbf{  Adj. R-squared:    } &     0.874   \\\\\n",
       "\\textbf{Method:}           &  Least Squares   & \\textbf{  F-statistic:       } &     1971.   \\\\\n",
       "\\textbf{Date:}             & Tue, 11 Feb 2025 & \\textbf{  Prob (F-statistic):} & 8.81e-256   \\\\\n",
       "\\textbf{Time:}             &     04:59:36     & \\textbf{  Log-Likelihood:    } &   -2778.9   \\\\\n",
       "\\textbf{No. Observations:} &         569      & \\textbf{  AIC:               } &     5564.   \\\\\n",
       "\\textbf{Df Residuals:}     &         566      & \\textbf{  BIC:               } &     5577.   \\\\\n",
       "\\textbf{Df Model:}         &           2      & \\textbf{                     } &             \\\\\n",
       "\\textbf{Covariance Type:}  &    nonrobust     & \\textbf{                     } &             \\\\\n",
       "\\bottomrule\n",
       "\\end{tabular}\n",
       "\\begin{tabular}{lcccccc}\n",
       "                         & \\textbf{coef} & \\textbf{std err} & \\textbf{t} & \\textbf{P$> |$t$|$} & \\textbf{[0.025} & \\textbf{0.975]}  \\\\\n",
       "\\midrule\n",
       "\\textbf{Intercept}       &     300.5296  &        2.417     &   124.360  &         0.000        &      295.783    &      305.276     \\\\\n",
       "\\textbf{C(TV)[T.Low]}    &    -208.8133  &        3.329     &   -62.720  &         0.000        &     -215.353    &     -202.274     \\\\\n",
       "\\textbf{C(TV)[T.Medium]} &    -101.5061  &        3.325     &   -30.526  &         0.000        &     -108.038    &      -94.975     \\\\\n",
       "\\bottomrule\n",
       "\\end{tabular}\n",
       "\\begin{tabular}{lclc}\n",
       "\\textbf{Omnibus:}       & 450.714 & \\textbf{  Durbin-Watson:     } &    2.002  \\\\\n",
       "\\textbf{Prob(Omnibus):} &   0.000 & \\textbf{  Jarque-Bera (JB):  } &   35.763  \\\\\n",
       "\\textbf{Skew:}          &  -0.044 & \\textbf{  Prob(JB):          } & 1.71e-08  \\\\\n",
       "\\textbf{Kurtosis:}      &   1.775 & \\textbf{  Cond. No.          } &     3.86  \\\\\n",
       "\\bottomrule\n",
       "\\end{tabular}\n",
       "%\\caption{OLS Regression Results}\n",
       "\\end{center}\n",
       "\n",
       "Notes: \\newline\n",
       " [1] Standard Errors assume that the covariance matrix of the errors is correctly specified."
      ],
      "text/plain": [
       "<class 'statsmodels.iolib.summary.Summary'>\n",
       "\"\"\"\n",
       "                            OLS Regression Results                            \n",
       "==============================================================================\n",
       "Dep. Variable:                  Sales   R-squared:                       0.874\n",
       "Model:                            OLS   Adj. R-squared:                  0.874\n",
       "Method:                 Least Squares   F-statistic:                     1971.\n",
       "Date:                Tue, 11 Feb 2025   Prob (F-statistic):          8.81e-256\n",
       "Time:                        04:59:36   Log-Likelihood:                -2778.9\n",
       "No. Observations:                 569   AIC:                             5564.\n",
       "Df Residuals:                     566   BIC:                             5577.\n",
       "Df Model:                           2                                         \n",
       "Covariance Type:            nonrobust                                         \n",
       "===================================================================================\n",
       "                      coef    std err          t      P>|t|      [0.025      0.975]\n",
       "-----------------------------------------------------------------------------------\n",
       "Intercept         300.5296      2.417    124.360      0.000     295.783     305.276\n",
       "C(TV)[T.Low]     -208.8133      3.329    -62.720      0.000    -215.353    -202.274\n",
       "C(TV)[T.Medium]  -101.5061      3.325    -30.526      0.000    -108.038     -94.975\n",
       "==============================================================================\n",
       "Omnibus:                      450.714   Durbin-Watson:                   2.002\n",
       "Prob(Omnibus):                  0.000   Jarque-Bera (JB):               35.763\n",
       "Skew:                          -0.044   Prob(JB):                     1.71e-08\n",
       "Kurtosis:                       1.775   Cond. No.                         3.86\n",
       "==============================================================================\n",
       "\n",
       "Notes:\n",
       "[1] Standard Errors assume that the covariance matrix of the errors is correctly specified.\n",
       "\"\"\""
      ]
     },
     "execution_count": 9,
     "metadata": {},
     "output_type": "execute_result"
    }
   ],
   "source": [
    "# Display the model results summary.\n",
    "\n",
    "### YOUR CODE HERE ### \n",
    "\n",
    "model_results"
   ]
  },
  {
   "cell_type": "markdown",
   "id": "0ecc36a4",
   "metadata": {
    "id": "b29062e1-5c7f-4a78-b782-a07236bbcc28",
    "papermill": {
     "duration": 0.015997,
     "end_time": "2025-02-11T04:59:37.749184",
     "exception": false,
     "start_time": "2025-02-11T04:59:37.733187",
     "status": "completed"
    },
    "tags": []
   },
   "source": [
    "**Question:** What is your interpretation of the model's R-squared?"
   ]
  },
  {
   "cell_type": "markdown",
   "id": "e3b43883",
   "metadata": {
    "id": "e671f229-bdd7-40cc-bdad-f1291815e1fa",
    "papermill": {
     "duration": 0.015702,
     "end_time": "2025-02-11T04:59:37.780705",
     "exception": false,
     "start_time": "2025-02-11T04:59:37.765003",
     "status": "completed"
    },
    "tags": []
   },
   "source": [
    "* R-squared = 0.874 \n",
    "* theTV independent variable explains 87.4% of the variation in Sales"
   ]
  },
  {
   "cell_type": "markdown",
   "id": "00a919cf",
   "metadata": {
    "id": "8ca575f3-cbba-4a0a-99d0-b8bf82ea49e4",
    "papermill": {
     "duration": 0.016237,
     "end_time": "2025-02-11T04:59:37.813338",
     "exception": false,
     "start_time": "2025-02-11T04:59:37.797101",
     "status": "completed"
    },
    "tags": []
   },
   "source": [
    "**Question:** What is your intepretation of the coefficient estimates? Are the coefficients statistically significant?"
   ]
  },
  {
   "cell_type": "markdown",
   "id": "0416dfdd",
   "metadata": {
    "id": "bddb90f6-a238-4438-af18-ad8734dc0484",
    "papermill": {
     "duration": 0.015605,
     "end_time": "2025-02-11T04:59:37.844924",
     "exception": false,
     "start_time": "2025-02-11T04:59:37.829319",
     "status": "completed"
    },
    "tags": []
   },
   "source": [
    "* C(TV)[T.Low] = -208.8133\n",
    "* C(TV)[T.Medium] = -101.5061\n",
    "* C(TV)[T.High] = 0  --> DEFAULT  --> Best category among the 3 having better influence on Sales\n",
    "\n",
    "\n",
    "* p value of all the co-efficients are 0.000\n",
    "* there is a statistically significant contribution by each of the category in TV variable towards Sales"
   ]
  },
  {
   "cell_type": "markdown",
   "id": "92ad9beb",
   "metadata": {
    "id": "b7e61507-0dd5-4d32-8045-ba06cc37fcd4",
    "papermill": {
     "duration": 0.016361,
     "end_time": "2025-02-11T04:59:37.877197",
     "exception": false,
     "start_time": "2025-02-11T04:59:37.860836",
     "status": "completed"
    },
    "tags": []
   },
   "source": [
    "**Question:** Do you think your model could be improved? Why or why not? How?"
   ]
  },
  {
   "cell_type": "markdown",
   "id": "a5bd6774",
   "metadata": {
    "id": "5411c637-bba7-441e-85f1-26b2527d65e9",
    "papermill": {
     "duration": 0.015843,
     "end_time": "2025-02-11T04:59:37.909153",
     "exception": false,
     "start_time": "2025-02-11T04:59:37.893310",
     "status": "completed"
    },
    "tags": []
   },
   "source": [
    "* we can find out other sub-divisions (themes) in which TV variable can be branched out to find which contributes the most"
   ]
  },
  {
   "cell_type": "markdown",
   "id": "df823129",
   "metadata": {
    "id": "97b169ad-b113-46e3-996a-53f268adbc6d",
    "papermill": {
     "duration": 0.015649,
     "end_time": "2025-02-11T04:59:37.940703",
     "exception": false,
     "start_time": "2025-02-11T04:59:37.925054",
     "status": "completed"
    },
    "tags": []
   },
   "source": [
    "### Perform a one-way ANOVA test\n",
    "\n",
    "With the model fit, run a one-way ANOVA test to determine whether there is a statistically significant difference in `Sales` among groups. "
   ]
  },
  {
   "cell_type": "code",
   "execution_count": 10,
   "id": "4e92120f",
   "metadata": {
    "execution": {
     "iopub.execute_input": "2025-02-11T04:59:37.973854Z",
     "iopub.status.busy": "2025-02-11T04:59:37.973498Z",
     "iopub.status.idle": "2025-02-11T04:59:37.993352Z",
     "shell.execute_reply": "2025-02-11T04:59:37.991980Z"
    },
    "id": "aadfa800-a74c-4819-abb8-cda13ce16d96",
    "papermill": {
     "duration": 0.038458,
     "end_time": "2025-02-11T04:59:37.995084",
     "exception": false,
     "start_time": "2025-02-11T04:59:37.956626",
     "status": "completed"
    },
    "tags": []
   },
   "outputs": [
    {
     "name": "stderr",
     "output_type": "stream",
     "text": [
      "/usr/local/lib/python3.10/dist-packages/pandas/io/formats/format.py:1458: RuntimeWarning: invalid value encountered in greater\n",
      "  has_large_values = (abs_vals > 1e6).any()\n",
      "/usr/local/lib/python3.10/dist-packages/pandas/io/formats/format.py:1459: RuntimeWarning: invalid value encountered in less\n",
      "  has_small_values = ((abs_vals < 10 ** (-self.digits)) & (abs_vals > 0)).any()\n",
      "/usr/local/lib/python3.10/dist-packages/pandas/io/formats/format.py:1459: RuntimeWarning: invalid value encountered in greater\n",
      "  has_small_values = ((abs_vals < 10 ** (-self.digits)) & (abs_vals > 0)).any()\n"
     ]
    },
    {
     "data": {
      "text/html": [
       "<div>\n",
       "<style scoped>\n",
       "    .dataframe tbody tr th:only-of-type {\n",
       "        vertical-align: middle;\n",
       "    }\n",
       "\n",
       "    .dataframe tbody tr th {\n",
       "        vertical-align: top;\n",
       "    }\n",
       "\n",
       "    .dataframe thead th {\n",
       "        text-align: right;\n",
       "    }\n",
       "</style>\n",
       "<table border=\"1\" class=\"dataframe\">\n",
       "  <thead>\n",
       "    <tr style=\"text-align: right;\">\n",
       "      <th></th>\n",
       "      <th>sum_sq</th>\n",
       "      <th>df</th>\n",
       "      <th>F</th>\n",
       "      <th>PR(&gt;F)</th>\n",
       "    </tr>\n",
       "  </thead>\n",
       "  <tbody>\n",
       "    <tr>\n",
       "      <th>C(TV)</th>\n",
       "      <td>4.052692e+06</td>\n",
       "      <td>2.0</td>\n",
       "      <td>1971.455737</td>\n",
       "      <td>8.805550e-256</td>\n",
       "    </tr>\n",
       "    <tr>\n",
       "      <th>Residual</th>\n",
       "      <td>5.817589e+05</td>\n",
       "      <td>566.0</td>\n",
       "      <td>NaN</td>\n",
       "      <td>NaN</td>\n",
       "    </tr>\n",
       "  </tbody>\n",
       "</table>\n",
       "</div>"
      ],
      "text/plain": [
       "                sum_sq     df            F         PR(>F)\n",
       "C(TV)     4.052692e+06    2.0  1971.455737  8.805550e-256\n",
       "Residual  5.817589e+05  566.0          NaN            NaN"
      ]
     },
     "execution_count": 10,
     "metadata": {},
     "output_type": "execute_result"
    }
   ],
   "source": [
    "# Create an one-way ANOVA table for the fit model.\n",
    "\n",
    "### YOUR CODE HERE ### \n",
    "\n",
    "sm.stats.anova_lm(model, typ=2)"
   ]
  },
  {
   "cell_type": "markdown",
   "id": "74c4ae37",
   "metadata": {
    "id": "3574a603-96c3-4876-80bd-9864a1e466d6",
    "papermill": {
     "duration": 0.015876,
     "end_time": "2025-02-11T04:59:38.027107",
     "exception": false,
     "start_time": "2025-02-11T04:59:38.011231",
     "status": "completed"
    },
    "tags": []
   },
   "source": [
    "<details>\n",
    "<summary><h4><strong>Hint 1</strong></h4></summary>\n",
    "\n",
    "Review what you've learned about how to perform a one-way ANOVA test.\n",
    "\n",
    "</details>"
   ]
  },
  {
   "cell_type": "markdown",
   "id": "01531ce3",
   "metadata": {
    "id": "f1010b34-96b2-403a-8630-e83613ff40be",
    "papermill": {
     "duration": 0.017022,
     "end_time": "2025-02-11T04:59:38.060171",
     "exception": false,
     "start_time": "2025-02-11T04:59:38.043149",
     "status": "completed"
    },
    "tags": []
   },
   "source": [
    "<details>\n",
    "<summary><h4><strong>Hint 2</strong></h4></summary>\n",
    "\n",
    "There is a function in `statsmodels.api` (i.e. `sm`) that peforms an ANOVA test for a fit linear model.\n",
    "\n",
    "</details>"
   ]
  },
  {
   "cell_type": "markdown",
   "id": "1bfe1bcb",
   "metadata": {
    "id": "b0ccc536-34c6-4bb7-a022-a2e4bec62397",
    "papermill": {
     "duration": 0.016311,
     "end_time": "2025-02-11T04:59:38.093448",
     "exception": false,
     "start_time": "2025-02-11T04:59:38.077137",
     "status": "completed"
    },
    "tags": []
   },
   "source": [
    "<details>\n",
    "<summary><h4><strong>Hint 3</strong></h4></summary>\n",
    "\n",
    "Use the `anova_lm()` function from `sm.stats`. Specify the type of ANOVA test (for example, one-way or two-way), using the `typ` parameter.\n",
    "   \n",
    "\n",
    "</details>"
   ]
  },
  {
   "cell_type": "markdown",
   "id": "7bdf99e8",
   "metadata": {
    "id": "735c20e2-bd53-4e36-81bd-38ae78a4d4a8",
    "papermill": {
     "duration": 0.015923,
     "end_time": "2025-02-11T04:59:38.126459",
     "exception": false,
     "start_time": "2025-02-11T04:59:38.110536",
     "status": "completed"
    },
    "tags": []
   },
   "source": [
    "**Question:** What are the null and alternative hypotheses for the ANOVA test?"
   ]
  },
  {
   "cell_type": "markdown",
   "id": "eb7c4fab",
   "metadata": {
    "id": "4175c90c-a07b-4e62-b659-bc5b40aeadfb",
    "papermill": {
     "duration": 0.015947,
     "end_time": "2025-02-11T04:59:38.158627",
     "exception": false,
     "start_time": "2025-02-11T04:59:38.142680",
     "status": "completed"
    },
    "tags": []
   },
   "source": [
    "* H0 --> there is NO difference between mean Sales across the 3 TV categories\n",
    "* Ha --> there is a difference between mean Sales across the 3 TV categories"
   ]
  },
  {
   "cell_type": "markdown",
   "id": "6eb1773a",
   "metadata": {
    "id": "1f5807cb-aff6-4877-a70c-7dbffdb822e3",
    "papermill": {
     "duration": 0.015898,
     "end_time": "2025-02-11T04:59:38.190707",
     "exception": false,
     "start_time": "2025-02-11T04:59:38.174809",
     "status": "completed"
    },
    "tags": []
   },
   "source": [
    "**Question:** What is your conclusion from the one-way ANOVA test?"
   ]
  },
  {
   "cell_type": "markdown",
   "id": "756e679e",
   "metadata": {
    "id": "81f755b7-11b8-4508-8962-fb0721b13df8",
    "papermill": {
     "duration": 0.015699,
     "end_time": "2025-02-11T04:59:38.222483",
     "exception": false,
     "start_time": "2025-02-11T04:59:38.206784",
     "status": "completed"
    },
    "tags": []
   },
   "source": [
    "* since, the p-value from 1-way ANOVA =  8.805550e-256  (far lower than the significance level)\n",
    "* we can successfully reject the null"
   ]
  },
  {
   "cell_type": "markdown",
   "id": "0164e55c",
   "metadata": {
    "id": "6e1d8561-3957-400b-89d1-4330ee923193",
    "papermill": {
     "duration": 0.015729,
     "end_time": "2025-02-11T04:59:38.254170",
     "exception": false,
     "start_time": "2025-02-11T04:59:38.238441",
     "status": "completed"
    },
    "tags": []
   },
   "source": [
    "**Question:** What did the ANOVA test tell you?"
   ]
  },
  {
   "cell_type": "markdown",
   "id": "3726f62e",
   "metadata": {
    "id": "0206ac7d-fc6d-4505-aaf5-81ddce18001f",
    "papermill": {
     "duration": 0.015987,
     "end_time": "2025-02-11T04:59:38.287409",
     "exception": false,
     "start_time": "2025-02-11T04:59:38.271422",
     "status": "completed"
    },
    "tags": []
   },
   "source": [
    "* there is a difference between mean Sales across the 3 TV categories\n",
    "* IT DID NOT inform --> how much the difference is b/w each category OR which category contributes the most to Sales\n",
    "* we can perform post-hoc tests to find the pairwise relations"
   ]
  },
  {
   "cell_type": "markdown",
   "id": "2bbcf0ff",
   "metadata": {
    "id": "532a2ba1-8e9a-4c8f-b432-dfeea0e62fc4",
    "papermill": {
     "duration": 0.016571,
     "end_time": "2025-02-11T04:59:38.320894",
     "exception": false,
     "start_time": "2025-02-11T04:59:38.304323",
     "status": "completed"
    },
    "tags": []
   },
   "source": [
    "### Perform an ANOVA post hoc test\n",
    "\n",
    "If you have significant results from the one-way ANOVA test, you can apply ANOVA post hoc tests such as the Tukey’s HSD post hoc test. \n",
    "\n",
    "Run the Tukey’s HSD post hoc test to compare if there is a significant difference between each pair of categories for TV."
   ]
  },
  {
   "cell_type": "code",
   "execution_count": 11,
   "id": "83a5a033",
   "metadata": {
    "execution": {
     "iopub.execute_input": "2025-02-11T04:59:38.356435Z",
     "iopub.status.busy": "2025-02-11T04:59:38.356003Z",
     "iopub.status.idle": "2025-02-11T04:59:38.717292Z",
     "shell.execute_reply": "2025-02-11T04:59:38.716074Z"
    },
    "id": "cce84e77-6269-4295-b961-8350a4b4920c",
    "papermill": {
     "duration": 0.381389,
     "end_time": "2025-02-11T04:59:38.719410",
     "exception": false,
     "start_time": "2025-02-11T04:59:38.338021",
     "status": "completed"
    },
    "tags": []
   },
   "outputs": [],
   "source": [
    "# Perform the Tukey's HSD post hoc test.\n",
    "\n",
    "### YOUR CODE HERE ### \n",
    "\n",
    "tukey_oneway = pairwise_tukeyhsd(endog = data[\"Sales\"], groups = data[\"TV\"])"
   ]
  },
  {
   "cell_type": "code",
   "execution_count": 12,
   "id": "e38de4ed",
   "metadata": {
    "execution": {
     "iopub.execute_input": "2025-02-11T04:59:38.753715Z",
     "iopub.status.busy": "2025-02-11T04:59:38.753334Z",
     "iopub.status.idle": "2025-02-11T04:59:38.762288Z",
     "shell.execute_reply": "2025-02-11T04:59:38.761097Z"
    },
    "papermill": {
     "duration": 0.028265,
     "end_time": "2025-02-11T04:59:38.764114",
     "exception": false,
     "start_time": "2025-02-11T04:59:38.735849",
     "status": "completed"
    },
    "tags": []
   },
   "outputs": [
    {
     "data": {
      "text/html": [
       "<table class=\"simpletable\">\n",
       "<caption>Multiple Comparison of Means - Tukey HSD, FWER=0.05</caption>\n",
       "<tr>\n",
       "  <th>group1</th> <th>group2</th> <th>meandiff</th>  <th>p-adj</th>   <th>lower</th>     <th>upper</th>   <th>reject</th>\n",
       "</tr>\n",
       "<tr>\n",
       "   <td>High</td>    <td>Low</td>  <td>-208.8133</td>  <td>0.0</td>  <td>-216.6367</td> <td>-200.9898</td>  <td>True</td> \n",
       "</tr>\n",
       "<tr>\n",
       "   <td>High</td>  <td>Medium</td> <td>-101.5061</td>  <td>0.0</td>  <td>-109.3202</td> <td>-93.6921</td>   <td>True</td> \n",
       "</tr>\n",
       "<tr>\n",
       "    <td>Low</td>  <td>Medium</td> <td>107.3072</td>   <td>0.0</td>   <td>99.7066</td>  <td>114.9077</td>   <td>True</td> \n",
       "</tr>\n",
       "</table>"
      ],
      "text/latex": [
       "\\begin{center}\n",
       "\\begin{tabular}{ccccccc}\n",
       "\\toprule\n",
       "\\textbf{group1} & \\textbf{group2} & \\textbf{meandiff} & \\textbf{p-adj} & \\textbf{lower} & \\textbf{upper} & \\textbf{reject}  \\\\\n",
       "\\midrule\n",
       "      High      &       Low       &     -208.8133     &      0.0       &   -216.6367    &   -200.9898    &       True       \\\\\n",
       "      High      &      Medium     &     -101.5061     &      0.0       &   -109.3202    &    -93.6921    &       True       \\\\\n",
       "      Low       &      Medium     &      107.3072     &      0.0       &    99.7066     &    114.9077    &       True       \\\\\n",
       "\\bottomrule\n",
       "\\end{tabular}\n",
       "%\\caption{Multiple Comparison of Means - Tukey HSD, FWER=0.05}\n",
       "\\end{center}"
      ],
      "text/plain": [
       "<class 'statsmodels.iolib.table.SimpleTable'>"
      ]
     },
     "execution_count": 12,
     "metadata": {},
     "output_type": "execute_result"
    }
   ],
   "source": [
    "# post-hoc anova ==> tukey results\n",
    "tukey_oneway.summary()"
   ]
  },
  {
   "cell_type": "markdown",
   "id": "e1e0e90d",
   "metadata": {
    "id": "119b0c6f-b7c7-47a7-80cb-ed94a07fc61c",
    "papermill": {
     "duration": 0.015872,
     "end_time": "2025-02-11T04:59:38.796589",
     "exception": false,
     "start_time": "2025-02-11T04:59:38.780717",
     "status": "completed"
    },
    "tags": []
   },
   "source": [
    "<details>\n",
    "<summary><h4><strong>Hint 1</strong></h4></summary>\n",
    "\n",
    "Review what you've learned about how to perform a Tukey's HSD post hoc test.\n",
    "\n",
    "</details>"
   ]
  },
  {
   "cell_type": "markdown",
   "id": "c3024b80",
   "metadata": {
    "id": "3adb039f-15d0-4f36-848b-3b469cd4d65d",
    "papermill": {
     "duration": 0.015935,
     "end_time": "2025-02-11T04:59:38.828820",
     "exception": false,
     "start_time": "2025-02-11T04:59:38.812885",
     "status": "completed"
    },
    "tags": []
   },
   "source": [
    "<details>\n",
    "<summary><h4><strong>Hint 2</strong></h4></summary>\n",
    "\n",
    "Use the `pairwise_tukeyhsd()` function from `statsmodels.stats.multicomp`.\n",
    "\n",
    "</details>"
   ]
  },
  {
   "cell_type": "markdown",
   "id": "67c59e37",
   "metadata": {
    "id": "5169a823-fd23-41bc-9766-1b3fd4bff1dc",
    "papermill": {
     "duration": 0.016041,
     "end_time": "2025-02-11T04:59:38.861082",
     "exception": false,
     "start_time": "2025-02-11T04:59:38.845041",
     "status": "completed"
    },
    "tags": []
   },
   "source": [
    "<details>\n",
    "<summary><h4><strong>Hint 3</strong></h4></summary>\n",
    "\n",
    "The `endog` argument in `pairwise_tukeyhsd` indicates which variable is being compared across groups (i.e., `Sales`). The `groups` argument in `pairwise_tukeyhsd` tells the function which variable holds the group you’re interested in reviewing.\n",
    "\n",
    "</details>"
   ]
  },
  {
   "cell_type": "markdown",
   "id": "262f5eb5",
   "metadata": {
    "id": "529c0b8a-8ffb-445f-b045-521646408c16",
    "papermill": {
     "duration": 0.015837,
     "end_time": "2025-02-11T04:59:38.893234",
     "exception": false,
     "start_time": "2025-02-11T04:59:38.877397",
     "status": "completed"
    },
    "tags": []
   },
   "source": [
    "**Question:** What is your interpretation of the Tukey HSD test?"
   ]
  },
  {
   "cell_type": "markdown",
   "id": "8dd9a135",
   "metadata": {
    "id": "797099aa-a787-46a9-9ea1-ab125ff7ae27",
    "papermill": {
     "duration": 0.015771,
     "end_time": "2025-02-11T04:59:38.925113",
     "exception": false,
     "start_time": "2025-02-11T04:59:38.909342",
     "status": "completed"
    },
    "tags": []
   },
   "source": [
    "* the ADJUSTED p-values of all categories in TV categorical variable is 0.001 \n",
    "* since, it is well below the significance level = 0.05 used\n",
    "* we can successfully \"reject\" the null hypotheses for all pairwise comparisons among the 3 cat vars (REJECT: there is NO diff b/w each other)"
   ]
  },
  {
   "cell_type": "markdown",
   "id": "9c53448c",
   "metadata": {
    "id": "f1bd994c-52ca-49ac-ba00-51bc36d07842",
    "papermill": {
     "duration": 0.016416,
     "end_time": "2025-02-11T04:59:38.958018",
     "exception": false,
     "start_time": "2025-02-11T04:59:38.941602",
     "status": "completed"
    },
    "tags": []
   },
   "source": [
    "**Question:** What did the post hoc tell you?**"
   ]
  },
  {
   "cell_type": "markdown",
   "id": "e55b6cee",
   "metadata": {
    "id": "a2e3d415-24b7-415f-8230-391edf3d0303",
    "papermill": {
     "duration": 0.015882,
     "end_time": "2025-02-11T04:59:38.990280",
     "exception": false,
     "start_time": "2025-02-11T04:59:38.974398",
     "status": "completed"
    },
    "tags": []
   },
   "source": [
    "* there is a statistically significant difference between each categories in the TV cat var\n",
    "* this has re-inforced the results for the 1-way ANOVA done earlier through in-depth analysis between the categories  "
   ]
  },
  {
   "cell_type": "markdown",
   "id": "0f3dddb5",
   "metadata": {
    "id": "agx1bDPU9cd4",
    "papermill": {
     "duration": 0.017401,
     "end_time": "2025-02-11T04:59:39.025491",
     "exception": false,
     "start_time": "2025-02-11T04:59:39.008090",
     "status": "completed"
    },
    "tags": []
   },
   "source": [
    "## **Considerations**\n",
    "\n",
    "**What are some key takeaways that you learned during this lab?**\n",
    "\n",
    "* when categorical variables are the independent variables, methods to deal with them\n",
    "* use ANOVA to find out if the mean of a target (continuous var) across categories of a categorical variable are significantly different\n",
    "* use post-hoc ANOVA tests, like Tukey, to find out pairwise comparisons in differences between each category \n",
    "\n",
    "\n",
    "**What summary would you provide to stakeholders? Consider the statistical significance of key relationships and differences in distribution.**\n",
    "\n",
    "* Sales = -(208.8133 * TV_Low) - (101.5061 * TV_Medium) + (0 * TV_High)  + 300.5296 \n",
    "* the above linear model explains 87.4% of the variation in Sales with a statistical significance (p-value = 0.000) across all variables at 95% confidence (CI for each coefficients are mentioned in the analysis above)\n",
    "* Using ANOVA, we have also found significant difference betweeen each of the TV budget categories (Low, Medium, High) \n",
    "* and the pairwise comparison between the mean Sales between each category was found usin ga post-hoc Tukey pairwise test \n",
    "\n",
    "\n",
    "* the breakdown between mean Sales revenue differences between each category is listed below\n",
    "\n",
    "\n",
    "* Diff in mean Sales b/w High and Low TV promotions: 208.8133M USD at 95% CI --> [ 216.637,-200.9896 ]\n",
    "* Diff in mean Sales b/w High and Medium TV promotions: 101.5061M USD at 95% CI --> [ 109.3204, 93.6918 ]\n",
    "* Diff in mean Sales b/w Medium and Low TV promotions: 107.3072M USD at 95% CI --> [ 99.7063, 114.908 ]\n",
    "\n",
    " BOTTOMLINE\n",
    "* When TV budget is high, it contributes the most to Sales revenue. \n",
    "* We can further drill down and investigate how the TV budget is sub-classified to identify zones of improvement when the allocation of TV budget increases"
   ]
  },
  {
   "cell_type": "markdown",
   "id": "03736267",
   "metadata": {
    "id": "88b01fcc-e016-4cd5-aedc-a71e51276fe2",
    "papermill": {
     "duration": 0.01596,
     "end_time": "2025-02-11T04:59:39.058045",
     "exception": false,
     "start_time": "2025-02-11T04:59:39.042085",
     "status": "completed"
    },
    "tags": []
   },
   "source": [
    "#### **Reference**\n",
    "[Saragih, H.S. *Dummy Marketing and Sales Data*](https://www.kaggle.com/datasets/harrimansaragih/dummy-advertising-and-sales-data)"
   ]
  },
  {
   "cell_type": "markdown",
   "id": "edffd78c",
   "metadata": {
    "papermill": {
     "duration": 0.016252,
     "end_time": "2025-02-11T04:59:39.090797",
     "exception": false,
     "start_time": "2025-02-11T04:59:39.074545",
     "status": "completed"
    },
    "tags": []
   },
   "source": [
    "**Congratulations!** You've completed this lab. However, you may not notice a green check mark next to this item on Coursera's platform. Please continue your progress regardless of the check mark. Just click on the \"save\" icon at the top of this notebook to ensure your work has been logged."
   ]
  }
 ],
 "metadata": {
  "colab": {
   "collapsed_sections": [],
   "provenance": []
  },
  "kaggle": {
   "accelerator": "none",
   "dataSources": [
    {
     "datasetId": 6636573,
     "sourceId": 10718447,
     "sourceType": "datasetVersion"
    }
   ],
   "dockerImageVersionId": 30886,
   "isGpuEnabled": false,
   "isInternetEnabled": true,
   "language": "python",
   "sourceType": "notebook"
  },
  "kernelspec": {
   "display_name": "Python 3",
   "language": "python",
   "name": "python3"
  },
  "language_info": {
   "codemirror_mode": {
    "name": "ipython",
    "version": 3
   },
   "file_extension": ".py",
   "mimetype": "text/x-python",
   "name": "python",
   "nbconvert_exporter": "python",
   "pygments_lexer": "ipython3",
   "version": "3.10.12"
  },
  "papermill": {
   "default_parameters": {},
   "duration": 12.883541,
   "end_time": "2025-02-11T04:59:39.929142",
   "environment_variables": {},
   "exception": null,
   "input_path": "__notebook__.ipynb",
   "output_path": "__notebook__.ipynb",
   "parameters": {},
   "start_time": "2025-02-11T04:59:27.045601",
   "version": "2.6.0"
  }
 },
 "nbformat": 4,
 "nbformat_minor": 5
}

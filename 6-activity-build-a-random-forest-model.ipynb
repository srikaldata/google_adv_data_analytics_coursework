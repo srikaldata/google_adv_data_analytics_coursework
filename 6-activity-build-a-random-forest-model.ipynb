{
 "cells": [
  {
   "cell_type": "markdown",
   "id": "dd70131c",
   "metadata": {
    "id": "700acefd-8120-42a9-a650-c610467e2a4c",
    "papermill": {
     "duration": 0.016518,
     "end_time": "2025-02-15T03:22:49.272295",
     "exception": false,
     "start_time": "2025-02-15T03:22:49.255777",
     "status": "completed"
    },
    "tags": []
   },
   "source": [
    "# Activity: Build a random forest model"
   ]
  },
  {
   "cell_type": "markdown",
   "id": "30c0b68d",
   "metadata": {
    "id": "167f3ab7",
    "papermill": {
     "duration": 0.015201,
     "end_time": "2025-02-15T03:22:49.303580",
     "exception": false,
     "start_time": "2025-02-15T03:22:49.288379",
     "status": "completed"
    },
    "tags": []
   },
   "source": [
    "## **Introduction**\n",
    "\n",
    "\n",
    "As you're learning, random forests are popular statistical learning algorithms. Some of their primary benefits include reducing variance, bias, and the chance of overfitting.\n",
    "\n",
    "This activity is a continuation of the project you began modeling with decision trees for an airline. Here, you will train, tune, and evaluate a random forest model using data from spreadsheet of survey responses from 129,880 customers. It includes data points such as class, flight distance, and inflight entertainment. Your random forest model will be used to predict whether a customer will be satisfied with their flight experience.\n",
    "\n",
    "**Note:** Because this lab uses a real dataset, this notebook first requires exploratory data analysis, data cleaning, and other manipulations to prepare it for modeling."
   ]
  },
  {
   "cell_type": "markdown",
   "id": "c9d29cf4",
   "metadata": {
    "id": "b42252b9-b980-4ee0-8cfd-82f4239b6d1a",
    "papermill": {
     "duration": 0.015965,
     "end_time": "2025-02-15T03:22:49.335341",
     "exception": false,
     "start_time": "2025-02-15T03:22:49.319376",
     "status": "completed"
    },
    "tags": []
   },
   "source": [
    "## **Step 1: Imports** \n"
   ]
  },
  {
   "cell_type": "markdown",
   "id": "e34a1f03",
   "metadata": {
    "id": "jwVaqXCywHpx",
    "papermill": {
     "duration": 0.015524,
     "end_time": "2025-02-15T03:22:49.366630",
     "exception": false,
     "start_time": "2025-02-15T03:22:49.351106",
     "status": "completed"
    },
    "tags": []
   },
   "source": [
    "Import relevant Python libraries and modules, including `numpy` and `pandas`libraries for data processing; the `pickle` package to save the model; and the `sklearn` library, containing:\n",
    "- The module `ensemble`, which has the function `RandomForestClassifier`\n",
    "- The module `model_selection`, which has the functions `train_test_split`, `PredefinedSplit`, and `GridSearchCV` \n",
    "- The module `metrics`, which has the functions `f1_score`, `precision_score`, `recall_score`, and `accuracy_score`\n"
   ]
  },
  {
   "cell_type": "code",
   "execution_count": 1,
   "id": "65d88719",
   "metadata": {
    "execution": {
     "iopub.execute_input": "2025-02-15T03:22:49.399948Z",
     "iopub.status.busy": "2025-02-15T03:22:49.399442Z",
     "iopub.status.idle": "2025-02-15T03:22:52.318405Z",
     "shell.execute_reply": "2025-02-15T03:22:52.317304Z"
    },
    "id": "ebc64d8b",
    "papermill": {
     "duration": 2.937297,
     "end_time": "2025-02-15T03:22:52.320341",
     "exception": false,
     "start_time": "2025-02-15T03:22:49.383044",
     "status": "completed"
    },
    "tags": []
   },
   "outputs": [],
   "source": [
    "# Import `numpy`, `pandas`, `pickle`, and `sklearn`.\n",
    "# Import the relevant functions from `sklearn.ensemble`, `sklearn.model_selection`, and `sklearn.metrics`.\n",
    "\n",
    "### YOUR CODE HERE ###\n",
    "import numpy as np\n",
    "import pandas as pd\n",
    "\n",
    "import pickle as pkl\n",
    " \n",
    "from sklearn.ensemble import RandomForestClassifier\n",
    "from sklearn.model_selection import train_test_split, PredefinedSplit, GridSearchCV\n",
    "from sklearn.metrics import f1_score, precision_score, recall_score, accuracy_score"
   ]
  },
  {
   "cell_type": "markdown",
   "id": "f7ad43df",
   "metadata": {
    "id": "B6msd7EKhg3X",
    "papermill": {
     "duration": 0.014875,
     "end_time": "2025-02-15T03:22:52.350898",
     "exception": false,
     "start_time": "2025-02-15T03:22:52.336023",
     "status": "completed"
    },
    "tags": []
   },
   "source": [
    "As shown in this cell, the dataset has been automatically loaded in for you. You do not need to download the .csv file, or provide more code, in order to access the dataset and proceed with this lab. Please continue with this activity by completing the following instructions."
   ]
  },
  {
   "cell_type": "code",
   "execution_count": 2,
   "id": "a8285b59",
   "metadata": {
    "execution": {
     "iopub.execute_input": "2025-02-15T03:22:52.383923Z",
     "iopub.status.busy": "2025-02-15T03:22:52.383380Z",
     "iopub.status.idle": "2025-02-15T03:22:52.890566Z",
     "shell.execute_reply": "2025-02-15T03:22:52.889231Z"
    },
    "id": "ZvRXUsRChmtg",
    "papermill": {
     "duration": 0.527206,
     "end_time": "2025-02-15T03:22:52.894475",
     "exception": false,
     "start_time": "2025-02-15T03:22:52.367269",
     "status": "completed"
    },
    "tags": []
   },
   "outputs": [],
   "source": [
    "# RUN THIS CELL TO IMPORT YOUR DATA. \n",
    "\n",
    "### YOUR CODE HERE ###\n",
    "\n",
    "air_data = pd.read_csv('/kaggle/input/google-adv-data-analytics-advancedml-datasets/6_Invistico_Airline.csv')"
   ]
  },
  {
   "cell_type": "markdown",
   "id": "d3796289",
   "metadata": {
    "id": "kRC0c_6M3ruN",
    "papermill": {
     "duration": 0.015667,
     "end_time": "2025-02-15T03:22:52.934605",
     "exception": false,
     "start_time": "2025-02-15T03:22:52.918938",
     "status": "completed"
    },
    "tags": []
   },
   "source": [
    "<details>\n",
    "  <summary><h4><strong>Hint 1</strong></h4></summary>\n",
    "\n",
    "The `read_csv()` function from the `pandas` library can be helpful here.\n",
    " \n",
    "</details>"
   ]
  },
  {
   "cell_type": "markdown",
   "id": "8e0d03c1",
   "metadata": {
    "id": "pUvhnNqmvnXP",
    "papermill": {
     "duration": 0.016001,
     "end_time": "2025-02-15T03:22:52.968100",
     "exception": false,
     "start_time": "2025-02-15T03:22:52.952099",
     "status": "completed"
    },
    "tags": []
   },
   "source": [
    "Now, you're ready to begin cleaning your data. "
   ]
  },
  {
   "cell_type": "markdown",
   "id": "71f72ea5",
   "metadata": {
    "id": "7ac7573d",
    "papermill": {
     "duration": 0.01496,
     "end_time": "2025-02-15T03:22:52.998955",
     "exception": false,
     "start_time": "2025-02-15T03:22:52.983995",
     "status": "completed"
    },
    "tags": []
   },
   "source": [
    "## **Step 2: Data cleaning** "
   ]
  },
  {
   "cell_type": "markdown",
   "id": "afbd8f4e",
   "metadata": {
    "id": "555658e4",
    "papermill": {
     "duration": 0.024161,
     "end_time": "2025-02-15T03:22:53.038874",
     "exception": false,
     "start_time": "2025-02-15T03:22:53.014713",
     "status": "completed"
    },
    "tags": []
   },
   "source": [
    "To get a sense of the data, display the first 10 rows."
   ]
  },
  {
   "cell_type": "code",
   "execution_count": 3,
   "id": "a3ee6eab",
   "metadata": {
    "execution": {
     "iopub.execute_input": "2025-02-15T03:22:53.093650Z",
     "iopub.status.busy": "2025-02-15T03:22:53.093255Z",
     "iopub.status.idle": "2025-02-15T03:22:53.135329Z",
     "shell.execute_reply": "2025-02-15T03:22:53.134070Z"
    },
    "id": "cda01022",
    "papermill": {
     "duration": 0.070681,
     "end_time": "2025-02-15T03:22:53.137374",
     "exception": false,
     "start_time": "2025-02-15T03:22:53.066693",
     "status": "completed"
    },
    "tags": []
   },
   "outputs": [
    {
     "data": {
      "text/html": [
       "<div>\n",
       "<style scoped>\n",
       "    .dataframe tbody tr th:only-of-type {\n",
       "        vertical-align: middle;\n",
       "    }\n",
       "\n",
       "    .dataframe tbody tr th {\n",
       "        vertical-align: top;\n",
       "    }\n",
       "\n",
       "    .dataframe thead th {\n",
       "        text-align: right;\n",
       "    }\n",
       "</style>\n",
       "<table border=\"1\" class=\"dataframe\">\n",
       "  <thead>\n",
       "    <tr style=\"text-align: right;\">\n",
       "      <th></th>\n",
       "      <th>satisfaction</th>\n",
       "      <th>Customer Type</th>\n",
       "      <th>Age</th>\n",
       "      <th>Type of Travel</th>\n",
       "      <th>Class</th>\n",
       "      <th>Flight Distance</th>\n",
       "      <th>Seat comfort</th>\n",
       "      <th>Departure/Arrival time convenient</th>\n",
       "      <th>Food and drink</th>\n",
       "      <th>Gate location</th>\n",
       "      <th>...</th>\n",
       "      <th>Online support</th>\n",
       "      <th>Ease of Online booking</th>\n",
       "      <th>On-board service</th>\n",
       "      <th>Leg room service</th>\n",
       "      <th>Baggage handling</th>\n",
       "      <th>Checkin service</th>\n",
       "      <th>Cleanliness</th>\n",
       "      <th>Online boarding</th>\n",
       "      <th>Departure Delay in Minutes</th>\n",
       "      <th>Arrival Delay in Minutes</th>\n",
       "    </tr>\n",
       "  </thead>\n",
       "  <tbody>\n",
       "    <tr>\n",
       "      <th>0</th>\n",
       "      <td>satisfied</td>\n",
       "      <td>Loyal Customer</td>\n",
       "      <td>65</td>\n",
       "      <td>Personal Travel</td>\n",
       "      <td>Eco</td>\n",
       "      <td>265</td>\n",
       "      <td>0</td>\n",
       "      <td>0</td>\n",
       "      <td>0</td>\n",
       "      <td>2</td>\n",
       "      <td>...</td>\n",
       "      <td>2</td>\n",
       "      <td>3</td>\n",
       "      <td>3</td>\n",
       "      <td>0</td>\n",
       "      <td>3</td>\n",
       "      <td>5</td>\n",
       "      <td>3</td>\n",
       "      <td>2</td>\n",
       "      <td>0</td>\n",
       "      <td>0.0</td>\n",
       "    </tr>\n",
       "    <tr>\n",
       "      <th>1</th>\n",
       "      <td>satisfied</td>\n",
       "      <td>Loyal Customer</td>\n",
       "      <td>47</td>\n",
       "      <td>Personal Travel</td>\n",
       "      <td>Business</td>\n",
       "      <td>2464</td>\n",
       "      <td>0</td>\n",
       "      <td>0</td>\n",
       "      <td>0</td>\n",
       "      <td>3</td>\n",
       "      <td>...</td>\n",
       "      <td>2</td>\n",
       "      <td>3</td>\n",
       "      <td>4</td>\n",
       "      <td>4</td>\n",
       "      <td>4</td>\n",
       "      <td>2</td>\n",
       "      <td>3</td>\n",
       "      <td>2</td>\n",
       "      <td>310</td>\n",
       "      <td>305.0</td>\n",
       "    </tr>\n",
       "    <tr>\n",
       "      <th>2</th>\n",
       "      <td>satisfied</td>\n",
       "      <td>Loyal Customer</td>\n",
       "      <td>15</td>\n",
       "      <td>Personal Travel</td>\n",
       "      <td>Eco</td>\n",
       "      <td>2138</td>\n",
       "      <td>0</td>\n",
       "      <td>0</td>\n",
       "      <td>0</td>\n",
       "      <td>3</td>\n",
       "      <td>...</td>\n",
       "      <td>2</td>\n",
       "      <td>2</td>\n",
       "      <td>3</td>\n",
       "      <td>3</td>\n",
       "      <td>4</td>\n",
       "      <td>4</td>\n",
       "      <td>4</td>\n",
       "      <td>2</td>\n",
       "      <td>0</td>\n",
       "      <td>0.0</td>\n",
       "    </tr>\n",
       "    <tr>\n",
       "      <th>3</th>\n",
       "      <td>satisfied</td>\n",
       "      <td>Loyal Customer</td>\n",
       "      <td>60</td>\n",
       "      <td>Personal Travel</td>\n",
       "      <td>Eco</td>\n",
       "      <td>623</td>\n",
       "      <td>0</td>\n",
       "      <td>0</td>\n",
       "      <td>0</td>\n",
       "      <td>3</td>\n",
       "      <td>...</td>\n",
       "      <td>3</td>\n",
       "      <td>1</td>\n",
       "      <td>1</td>\n",
       "      <td>0</td>\n",
       "      <td>1</td>\n",
       "      <td>4</td>\n",
       "      <td>1</td>\n",
       "      <td>3</td>\n",
       "      <td>0</td>\n",
       "      <td>0.0</td>\n",
       "    </tr>\n",
       "    <tr>\n",
       "      <th>4</th>\n",
       "      <td>satisfied</td>\n",
       "      <td>Loyal Customer</td>\n",
       "      <td>70</td>\n",
       "      <td>Personal Travel</td>\n",
       "      <td>Eco</td>\n",
       "      <td>354</td>\n",
       "      <td>0</td>\n",
       "      <td>0</td>\n",
       "      <td>0</td>\n",
       "      <td>3</td>\n",
       "      <td>...</td>\n",
       "      <td>4</td>\n",
       "      <td>2</td>\n",
       "      <td>2</td>\n",
       "      <td>0</td>\n",
       "      <td>2</td>\n",
       "      <td>4</td>\n",
       "      <td>2</td>\n",
       "      <td>5</td>\n",
       "      <td>0</td>\n",
       "      <td>0.0</td>\n",
       "    </tr>\n",
       "    <tr>\n",
       "      <th>5</th>\n",
       "      <td>satisfied</td>\n",
       "      <td>Loyal Customer</td>\n",
       "      <td>30</td>\n",
       "      <td>Personal Travel</td>\n",
       "      <td>Eco</td>\n",
       "      <td>1894</td>\n",
       "      <td>0</td>\n",
       "      <td>0</td>\n",
       "      <td>0</td>\n",
       "      <td>3</td>\n",
       "      <td>...</td>\n",
       "      <td>2</td>\n",
       "      <td>2</td>\n",
       "      <td>5</td>\n",
       "      <td>4</td>\n",
       "      <td>5</td>\n",
       "      <td>5</td>\n",
       "      <td>4</td>\n",
       "      <td>2</td>\n",
       "      <td>0</td>\n",
       "      <td>0.0</td>\n",
       "    </tr>\n",
       "    <tr>\n",
       "      <th>6</th>\n",
       "      <td>satisfied</td>\n",
       "      <td>Loyal Customer</td>\n",
       "      <td>66</td>\n",
       "      <td>Personal Travel</td>\n",
       "      <td>Eco</td>\n",
       "      <td>227</td>\n",
       "      <td>0</td>\n",
       "      <td>0</td>\n",
       "      <td>0</td>\n",
       "      <td>3</td>\n",
       "      <td>...</td>\n",
       "      <td>5</td>\n",
       "      <td>5</td>\n",
       "      <td>5</td>\n",
       "      <td>0</td>\n",
       "      <td>5</td>\n",
       "      <td>5</td>\n",
       "      <td>5</td>\n",
       "      <td>3</td>\n",
       "      <td>17</td>\n",
       "      <td>15.0</td>\n",
       "    </tr>\n",
       "    <tr>\n",
       "      <th>7</th>\n",
       "      <td>satisfied</td>\n",
       "      <td>Loyal Customer</td>\n",
       "      <td>10</td>\n",
       "      <td>Personal Travel</td>\n",
       "      <td>Eco</td>\n",
       "      <td>1812</td>\n",
       "      <td>0</td>\n",
       "      <td>0</td>\n",
       "      <td>0</td>\n",
       "      <td>3</td>\n",
       "      <td>...</td>\n",
       "      <td>2</td>\n",
       "      <td>2</td>\n",
       "      <td>3</td>\n",
       "      <td>3</td>\n",
       "      <td>4</td>\n",
       "      <td>5</td>\n",
       "      <td>4</td>\n",
       "      <td>2</td>\n",
       "      <td>0</td>\n",
       "      <td>0.0</td>\n",
       "    </tr>\n",
       "    <tr>\n",
       "      <th>8</th>\n",
       "      <td>satisfied</td>\n",
       "      <td>Loyal Customer</td>\n",
       "      <td>56</td>\n",
       "      <td>Personal Travel</td>\n",
       "      <td>Business</td>\n",
       "      <td>73</td>\n",
       "      <td>0</td>\n",
       "      <td>0</td>\n",
       "      <td>0</td>\n",
       "      <td>3</td>\n",
       "      <td>...</td>\n",
       "      <td>5</td>\n",
       "      <td>4</td>\n",
       "      <td>4</td>\n",
       "      <td>0</td>\n",
       "      <td>1</td>\n",
       "      <td>5</td>\n",
       "      <td>4</td>\n",
       "      <td>4</td>\n",
       "      <td>0</td>\n",
       "      <td>0.0</td>\n",
       "    </tr>\n",
       "    <tr>\n",
       "      <th>9</th>\n",
       "      <td>satisfied</td>\n",
       "      <td>Loyal Customer</td>\n",
       "      <td>22</td>\n",
       "      <td>Personal Travel</td>\n",
       "      <td>Eco</td>\n",
       "      <td>1556</td>\n",
       "      <td>0</td>\n",
       "      <td>0</td>\n",
       "      <td>0</td>\n",
       "      <td>3</td>\n",
       "      <td>...</td>\n",
       "      <td>2</td>\n",
       "      <td>2</td>\n",
       "      <td>2</td>\n",
       "      <td>4</td>\n",
       "      <td>5</td>\n",
       "      <td>3</td>\n",
       "      <td>4</td>\n",
       "      <td>2</td>\n",
       "      <td>30</td>\n",
       "      <td>26.0</td>\n",
       "    </tr>\n",
       "  </tbody>\n",
       "</table>\n",
       "<p>10 rows × 22 columns</p>\n",
       "</div>"
      ],
      "text/plain": [
       "  satisfaction   Customer Type  Age   Type of Travel     Class  \\\n",
       "0    satisfied  Loyal Customer   65  Personal Travel       Eco   \n",
       "1    satisfied  Loyal Customer   47  Personal Travel  Business   \n",
       "2    satisfied  Loyal Customer   15  Personal Travel       Eco   \n",
       "3    satisfied  Loyal Customer   60  Personal Travel       Eco   \n",
       "4    satisfied  Loyal Customer   70  Personal Travel       Eco   \n",
       "5    satisfied  Loyal Customer   30  Personal Travel       Eco   \n",
       "6    satisfied  Loyal Customer   66  Personal Travel       Eco   \n",
       "7    satisfied  Loyal Customer   10  Personal Travel       Eco   \n",
       "8    satisfied  Loyal Customer   56  Personal Travel  Business   \n",
       "9    satisfied  Loyal Customer   22  Personal Travel       Eco   \n",
       "\n",
       "   Flight Distance  Seat comfort  Departure/Arrival time convenient  \\\n",
       "0              265             0                                  0   \n",
       "1             2464             0                                  0   \n",
       "2             2138             0                                  0   \n",
       "3              623             0                                  0   \n",
       "4              354             0                                  0   \n",
       "5             1894             0                                  0   \n",
       "6              227             0                                  0   \n",
       "7             1812             0                                  0   \n",
       "8               73             0                                  0   \n",
       "9             1556             0                                  0   \n",
       "\n",
       "   Food and drink  Gate location  ...  Online support  Ease of Online booking  \\\n",
       "0               0              2  ...               2                       3   \n",
       "1               0              3  ...               2                       3   \n",
       "2               0              3  ...               2                       2   \n",
       "3               0              3  ...               3                       1   \n",
       "4               0              3  ...               4                       2   \n",
       "5               0              3  ...               2                       2   \n",
       "6               0              3  ...               5                       5   \n",
       "7               0              3  ...               2                       2   \n",
       "8               0              3  ...               5                       4   \n",
       "9               0              3  ...               2                       2   \n",
       "\n",
       "   On-board service  Leg room service  Baggage handling  Checkin service  \\\n",
       "0                 3                 0                 3                5   \n",
       "1                 4                 4                 4                2   \n",
       "2                 3                 3                 4                4   \n",
       "3                 1                 0                 1                4   \n",
       "4                 2                 0                 2                4   \n",
       "5                 5                 4                 5                5   \n",
       "6                 5                 0                 5                5   \n",
       "7                 3                 3                 4                5   \n",
       "8                 4                 0                 1                5   \n",
       "9                 2                 4                 5                3   \n",
       "\n",
       "   Cleanliness  Online boarding  Departure Delay in Minutes  \\\n",
       "0            3                2                           0   \n",
       "1            3                2                         310   \n",
       "2            4                2                           0   \n",
       "3            1                3                           0   \n",
       "4            2                5                           0   \n",
       "5            4                2                           0   \n",
       "6            5                3                          17   \n",
       "7            4                2                           0   \n",
       "8            4                4                           0   \n",
       "9            4                2                          30   \n",
       "\n",
       "   Arrival Delay in Minutes  \n",
       "0                       0.0  \n",
       "1                     305.0  \n",
       "2                       0.0  \n",
       "3                       0.0  \n",
       "4                       0.0  \n",
       "5                       0.0  \n",
       "6                      15.0  \n",
       "7                       0.0  \n",
       "8                       0.0  \n",
       "9                      26.0  \n",
       "\n",
       "[10 rows x 22 columns]"
      ]
     },
     "execution_count": 3,
     "metadata": {},
     "output_type": "execute_result"
    }
   ],
   "source": [
    "# Display first 10 rows.\n",
    "\n",
    "### YOUR CODE HERE ###\n",
    "air_data.head(10)"
   ]
  },
  {
   "cell_type": "markdown",
   "id": "13219f64",
   "metadata": {
    "id": "E7IVcXx_3fFq",
    "papermill": {
     "duration": 0.015841,
     "end_time": "2025-02-15T03:22:53.175187",
     "exception": false,
     "start_time": "2025-02-15T03:22:53.159346",
     "status": "completed"
    },
    "tags": []
   },
   "source": [
    "<details>\n",
    "  <summary><h4><strong>Hint 1</strong></h4></summary>\n",
    "\n",
    "The `head()` function from the `pandas` library can be helpful here.\n",
    " \n",
    "</details>"
   ]
  },
  {
   "cell_type": "markdown",
   "id": "1c2c0ba5",
   "metadata": {
    "id": "8XnaSp-1bco5",
    "papermill": {
     "duration": 0.01571,
     "end_time": "2025-02-15T03:22:53.207135",
     "exception": false,
     "start_time": "2025-02-15T03:22:53.191425",
     "status": "completed"
    },
    "tags": []
   },
   "source": [
    "Now, display the variable names and their data types. "
   ]
  },
  {
   "cell_type": "code",
   "execution_count": 4,
   "id": "9b9a6327",
   "metadata": {
    "execution": {
     "iopub.execute_input": "2025-02-15T03:22:53.242955Z",
     "iopub.status.busy": "2025-02-15T03:22:53.242437Z",
     "iopub.status.idle": "2025-02-15T03:22:53.251511Z",
     "shell.execute_reply": "2025-02-15T03:22:53.250279Z"
    },
    "id": "yjTctqf_cZZk",
    "papermill": {
     "duration": 0.029511,
     "end_time": "2025-02-15T03:22:53.253416",
     "exception": false,
     "start_time": "2025-02-15T03:22:53.223905",
     "status": "completed"
    },
    "tags": []
   },
   "outputs": [
    {
     "data": {
      "text/plain": [
       "satisfaction                          object\n",
       "Customer Type                         object\n",
       "Age                                    int64\n",
       "Type of Travel                        object\n",
       "Class                                 object\n",
       "Flight Distance                        int64\n",
       "Seat comfort                           int64\n",
       "Departure/Arrival time convenient      int64\n",
       "Food and drink                         int64\n",
       "Gate location                          int64\n",
       "Inflight wifi service                  int64\n",
       "Inflight entertainment                 int64\n",
       "Online support                         int64\n",
       "Ease of Online booking                 int64\n",
       "On-board service                       int64\n",
       "Leg room service                       int64\n",
       "Baggage handling                       int64\n",
       "Checkin service                        int64\n",
       "Cleanliness                            int64\n",
       "Online boarding                        int64\n",
       "Departure Delay in Minutes             int64\n",
       "Arrival Delay in Minutes             float64\n",
       "dtype: object"
      ]
     },
     "execution_count": 4,
     "metadata": {},
     "output_type": "execute_result"
    }
   ],
   "source": [
    "# Display variable names and types.\n",
    "\n",
    "### YOUR CODE HERE ###\n",
    "air_data.dtypes"
   ]
  },
  {
   "cell_type": "markdown",
   "id": "f5dd6d78",
   "metadata": {
    "id": "oyjsCPSFdWSi",
    "papermill": {
     "duration": 0.016619,
     "end_time": "2025-02-15T03:22:53.287853",
     "exception": false,
     "start_time": "2025-02-15T03:22:53.271234",
     "status": "completed"
    },
    "tags": []
   },
   "source": [
    "<details>\n",
    "  <summary><h4><strong>Hint 1</strong></h4></summary>\n",
    "\n",
    "DataFrames have an attribute that outputs variable names and data types in one result.\n",
    " \n",
    "</details>"
   ]
  },
  {
   "cell_type": "markdown",
   "id": "e91f601a",
   "metadata": {
    "id": "mZWcyh0ia_mn",
    "papermill": {
     "duration": 0.015821,
     "end_time": "2025-02-15T03:22:53.319861",
     "exception": false,
     "start_time": "2025-02-15T03:22:53.304040",
     "status": "completed"
    },
    "tags": []
   },
   "source": [
    "**Question:** What do you observe about the differences in data types among the variables included in the data?\n",
    "\n",
    "* 2 numerical types --> int (17), float (1 variable)\n",
    "* 1 categorical type --> object (4 variables)"
   ]
  },
  {
   "cell_type": "markdown",
   "id": "d0d1c587",
   "metadata": {
    "id": "yDHCzUpwBqTD",
    "papermill": {
     "duration": 0.017391,
     "end_time": "2025-02-15T03:22:53.408824",
     "exception": false,
     "start_time": "2025-02-15T03:22:53.391433",
     "status": "completed"
    },
    "tags": []
   },
   "source": [
    "Next, to understand the size of the dataset, identify the number of rows and the number of columns."
   ]
  },
  {
   "cell_type": "code",
   "execution_count": 5,
   "id": "30c19a44",
   "metadata": {
    "execution": {
     "iopub.execute_input": "2025-02-15T03:22:53.443216Z",
     "iopub.status.busy": "2025-02-15T03:22:53.442757Z",
     "iopub.status.idle": "2025-02-15T03:22:53.449205Z",
     "shell.execute_reply": "2025-02-15T03:22:53.448195Z"
    },
    "id": "p-s0dOOgBr-1",
    "papermill": {
     "duration": 0.025652,
     "end_time": "2025-02-15T03:22:53.450968",
     "exception": false,
     "start_time": "2025-02-15T03:22:53.425316",
     "status": "completed"
    },
    "tags": []
   },
   "outputs": [
    {
     "data": {
      "text/plain": [
       "(129880, 22)"
      ]
     },
     "execution_count": 5,
     "metadata": {},
     "output_type": "execute_result"
    }
   ],
   "source": [
    "# Identify the number of rows and the number of columns.\n",
    "\n",
    "### YOUR CODE HERE ###\n",
    "air_data.shape"
   ]
  },
  {
   "cell_type": "markdown",
   "id": "f73b0e30",
   "metadata": {
    "id": "7phg3U50drdh",
    "papermill": {
     "duration": 0.015817,
     "end_time": "2025-02-15T03:22:53.483921",
     "exception": false,
     "start_time": "2025-02-15T03:22:53.468104",
     "status": "completed"
    },
    "tags": []
   },
   "source": [
    "<details>\n",
    "  <summary><h4><strong>Hint 1</strong></h4></summary>\n",
    "\n",
    "There is a method in the `pandas` library that outputs the number of rows and the number of columns in one result.\n",
    "\n",
    "</details>"
   ]
  },
  {
   "cell_type": "markdown",
   "id": "cfb58b73",
   "metadata": {
    "id": "ada5a098-e0d2-4a59-9ac5-132d8ea1eb3c",
    "papermill": {
     "duration": 0.016008,
     "end_time": "2025-02-15T03:22:53.516099",
     "exception": false,
     "start_time": "2025-02-15T03:22:53.500091",
     "status": "completed"
    },
    "tags": []
   },
   "source": [
    "Now, check for missing values in the rows of the data. Start with .isna() to get Booleans indicating whether each value in the data is missing. Then, use .any(axis=1) to get Booleans indicating whether there are any missing values along the columns in each row. Finally, use .sum() to get the number of rows that contain missing values."
   ]
  },
  {
   "cell_type": "code",
   "execution_count": 6,
   "id": "c05a4b7a",
   "metadata": {
    "execution": {
     "iopub.execute_input": "2025-02-15T03:22:53.549080Z",
     "iopub.status.busy": "2025-02-15T03:22:53.548707Z",
     "iopub.status.idle": "2025-02-15T03:22:53.588559Z",
     "shell.execute_reply": "2025-02-15T03:22:53.587462Z"
    },
    "id": "db9be321-d578-4252-833c-a2dfd0e2e937",
    "papermill": {
     "duration": 0.058212,
     "end_time": "2025-02-15T03:22:53.590218",
     "exception": false,
     "start_time": "2025-02-15T03:22:53.532006",
     "status": "completed"
    },
    "tags": []
   },
   "outputs": [
    {
     "data": {
      "text/plain": [
       "393"
      ]
     },
     "execution_count": 6,
     "metadata": {},
     "output_type": "execute_result"
    }
   ],
   "source": [
    "# Get Booleans to find missing values in data.\n",
    "# Get Booleans to find missing values along columns.\n",
    "# Get the number of rows that contain missing values.\n",
    "\n",
    "### YOUR CODE HERE ###\n",
    "air_data.isna().any(axis=1).sum()"
   ]
  },
  {
   "cell_type": "markdown",
   "id": "ed94ea2e",
   "metadata": {
    "id": "74e5308a-7607-4277-a508-d0efa10d9116",
    "papermill": {
     "duration": 0.015908,
     "end_time": "2025-02-15T03:22:53.622892",
     "exception": false,
     "start_time": "2025-02-15T03:22:53.606984",
     "status": "completed"
    },
    "tags": []
   },
   "source": [
    "**Question:** How many rows of data are missing values?**\n",
    "\n",
    "* 393 rows have nulls"
   ]
  },
  {
   "cell_type": "markdown",
   "id": "ad119e0d",
   "metadata": {
    "id": "eb005a73-4621-45b9-8114-30472ce20327",
    "papermill": {
     "duration": 0.015856,
     "end_time": "2025-02-15T03:22:53.655395",
     "exception": false,
     "start_time": "2025-02-15T03:22:53.639539",
     "status": "completed"
    },
    "tags": []
   },
   "source": [
    "Drop the rows with missing values. This is an important step in data cleaning, as it makes the data more useful for analysis and regression. Then, save the resulting pandas DataFrame in a variable named `air_data_subset`."
   ]
  },
  {
   "cell_type": "code",
   "execution_count": 7,
   "id": "9e9b5492",
   "metadata": {
    "execution": {
     "iopub.execute_input": "2025-02-15T03:22:53.689170Z",
     "iopub.status.busy": "2025-02-15T03:22:53.688698Z",
     "iopub.status.idle": "2025-02-15T03:22:53.737518Z",
     "shell.execute_reply": "2025-02-15T03:22:53.736423Z"
    },
    "id": "1cee438e-8b1f-4855-855e-3723d1958b69",
    "papermill": {
     "duration": 0.067742,
     "end_time": "2025-02-15T03:22:53.739413",
     "exception": false,
     "start_time": "2025-02-15T03:22:53.671671",
     "status": "completed"
    },
    "tags": []
   },
   "outputs": [],
   "source": [
    "# Drop missing values.\n",
    "# Save the DataFrame in variable `air_data_subset`.\n",
    "\n",
    "### YOUR CODE HERE ###\n",
    "air_data_subset = air_data.dropna(axis=0)"
   ]
  },
  {
   "cell_type": "markdown",
   "id": "366ffc30",
   "metadata": {
    "id": "2AHDkLF5pnao",
    "papermill": {
     "duration": 0.015893,
     "end_time": "2025-02-15T03:22:53.772137",
     "exception": false,
     "start_time": "2025-02-15T03:22:53.756244",
     "status": "completed"
    },
    "tags": []
   },
   "source": [
    "<details>\n",
    "<summary><h4><strong>Hint 1</strong></h4></summary>\n",
    "\n",
    "The `dropna()` function is helpful here.\n",
    "</details>"
   ]
  },
  {
   "cell_type": "markdown",
   "id": "47d98db4",
   "metadata": {
    "papermill": {
     "duration": 0.01631,
     "end_time": "2025-02-15T03:22:53.804854",
     "exception": false,
     "start_time": "2025-02-15T03:22:53.788544",
     "status": "completed"
    },
    "tags": []
   },
   "source": [
    "<details>\n",
    "<summary><h4><strong>Hint 2</strong></h4></summary>\n",
    "\n",
    "The axis parameter passed in to this function should be set to 0 (if you want to drop rows containing missing values) or 1 (if you want to drop columns containing missing values).\n",
    "</details>"
   ]
  },
  {
   "cell_type": "markdown",
   "id": "2b4bd993",
   "metadata": {
    "id": "0021b18e-4c93-4628-8d0d-2c55a98cc691",
    "papermill": {
     "duration": 0.016239,
     "end_time": "2025-02-15T03:22:53.837850",
     "exception": false,
     "start_time": "2025-02-15T03:22:53.821611",
     "status": "completed"
    },
    "tags": []
   },
   "source": [
    "Next, display the first 10 rows to examine the data subset."
   ]
  },
  {
   "cell_type": "code",
   "execution_count": 8,
   "id": "86e22403",
   "metadata": {
    "execution": {
     "iopub.execute_input": "2025-02-15T03:22:53.887187Z",
     "iopub.status.busy": "2025-02-15T03:22:53.886636Z",
     "iopub.status.idle": "2025-02-15T03:22:53.915624Z",
     "shell.execute_reply": "2025-02-15T03:22:53.914036Z"
    },
    "id": "ad471526-eb38-4cc3-afa7-f9542439ea35",
    "papermill": {
     "duration": 0.061816,
     "end_time": "2025-02-15T03:22:53.917618",
     "exception": false,
     "start_time": "2025-02-15T03:22:53.855802",
     "status": "completed"
    },
    "tags": []
   },
   "outputs": [
    {
     "data": {
      "text/html": [
       "<div>\n",
       "<style scoped>\n",
       "    .dataframe tbody tr th:only-of-type {\n",
       "        vertical-align: middle;\n",
       "    }\n",
       "\n",
       "    .dataframe tbody tr th {\n",
       "        vertical-align: top;\n",
       "    }\n",
       "\n",
       "    .dataframe thead th {\n",
       "        text-align: right;\n",
       "    }\n",
       "</style>\n",
       "<table border=\"1\" class=\"dataframe\">\n",
       "  <thead>\n",
       "    <tr style=\"text-align: right;\">\n",
       "      <th></th>\n",
       "      <th>satisfaction</th>\n",
       "      <th>Customer Type</th>\n",
       "      <th>Age</th>\n",
       "      <th>Type of Travel</th>\n",
       "      <th>Class</th>\n",
       "      <th>Flight Distance</th>\n",
       "      <th>Seat comfort</th>\n",
       "      <th>Departure/Arrival time convenient</th>\n",
       "      <th>Food and drink</th>\n",
       "      <th>Gate location</th>\n",
       "      <th>...</th>\n",
       "      <th>Online support</th>\n",
       "      <th>Ease of Online booking</th>\n",
       "      <th>On-board service</th>\n",
       "      <th>Leg room service</th>\n",
       "      <th>Baggage handling</th>\n",
       "      <th>Checkin service</th>\n",
       "      <th>Cleanliness</th>\n",
       "      <th>Online boarding</th>\n",
       "      <th>Departure Delay in Minutes</th>\n",
       "      <th>Arrival Delay in Minutes</th>\n",
       "    </tr>\n",
       "  </thead>\n",
       "  <tbody>\n",
       "    <tr>\n",
       "      <th>0</th>\n",
       "      <td>satisfied</td>\n",
       "      <td>Loyal Customer</td>\n",
       "      <td>65</td>\n",
       "      <td>Personal Travel</td>\n",
       "      <td>Eco</td>\n",
       "      <td>265</td>\n",
       "      <td>0</td>\n",
       "      <td>0</td>\n",
       "      <td>0</td>\n",
       "      <td>2</td>\n",
       "      <td>...</td>\n",
       "      <td>2</td>\n",
       "      <td>3</td>\n",
       "      <td>3</td>\n",
       "      <td>0</td>\n",
       "      <td>3</td>\n",
       "      <td>5</td>\n",
       "      <td>3</td>\n",
       "      <td>2</td>\n",
       "      <td>0</td>\n",
       "      <td>0.0</td>\n",
       "    </tr>\n",
       "    <tr>\n",
       "      <th>1</th>\n",
       "      <td>satisfied</td>\n",
       "      <td>Loyal Customer</td>\n",
       "      <td>47</td>\n",
       "      <td>Personal Travel</td>\n",
       "      <td>Business</td>\n",
       "      <td>2464</td>\n",
       "      <td>0</td>\n",
       "      <td>0</td>\n",
       "      <td>0</td>\n",
       "      <td>3</td>\n",
       "      <td>...</td>\n",
       "      <td>2</td>\n",
       "      <td>3</td>\n",
       "      <td>4</td>\n",
       "      <td>4</td>\n",
       "      <td>4</td>\n",
       "      <td>2</td>\n",
       "      <td>3</td>\n",
       "      <td>2</td>\n",
       "      <td>310</td>\n",
       "      <td>305.0</td>\n",
       "    </tr>\n",
       "    <tr>\n",
       "      <th>2</th>\n",
       "      <td>satisfied</td>\n",
       "      <td>Loyal Customer</td>\n",
       "      <td>15</td>\n",
       "      <td>Personal Travel</td>\n",
       "      <td>Eco</td>\n",
       "      <td>2138</td>\n",
       "      <td>0</td>\n",
       "      <td>0</td>\n",
       "      <td>0</td>\n",
       "      <td>3</td>\n",
       "      <td>...</td>\n",
       "      <td>2</td>\n",
       "      <td>2</td>\n",
       "      <td>3</td>\n",
       "      <td>3</td>\n",
       "      <td>4</td>\n",
       "      <td>4</td>\n",
       "      <td>4</td>\n",
       "      <td>2</td>\n",
       "      <td>0</td>\n",
       "      <td>0.0</td>\n",
       "    </tr>\n",
       "    <tr>\n",
       "      <th>3</th>\n",
       "      <td>satisfied</td>\n",
       "      <td>Loyal Customer</td>\n",
       "      <td>60</td>\n",
       "      <td>Personal Travel</td>\n",
       "      <td>Eco</td>\n",
       "      <td>623</td>\n",
       "      <td>0</td>\n",
       "      <td>0</td>\n",
       "      <td>0</td>\n",
       "      <td>3</td>\n",
       "      <td>...</td>\n",
       "      <td>3</td>\n",
       "      <td>1</td>\n",
       "      <td>1</td>\n",
       "      <td>0</td>\n",
       "      <td>1</td>\n",
       "      <td>4</td>\n",
       "      <td>1</td>\n",
       "      <td>3</td>\n",
       "      <td>0</td>\n",
       "      <td>0.0</td>\n",
       "    </tr>\n",
       "    <tr>\n",
       "      <th>4</th>\n",
       "      <td>satisfied</td>\n",
       "      <td>Loyal Customer</td>\n",
       "      <td>70</td>\n",
       "      <td>Personal Travel</td>\n",
       "      <td>Eco</td>\n",
       "      <td>354</td>\n",
       "      <td>0</td>\n",
       "      <td>0</td>\n",
       "      <td>0</td>\n",
       "      <td>3</td>\n",
       "      <td>...</td>\n",
       "      <td>4</td>\n",
       "      <td>2</td>\n",
       "      <td>2</td>\n",
       "      <td>0</td>\n",
       "      <td>2</td>\n",
       "      <td>4</td>\n",
       "      <td>2</td>\n",
       "      <td>5</td>\n",
       "      <td>0</td>\n",
       "      <td>0.0</td>\n",
       "    </tr>\n",
       "    <tr>\n",
       "      <th>5</th>\n",
       "      <td>satisfied</td>\n",
       "      <td>Loyal Customer</td>\n",
       "      <td>30</td>\n",
       "      <td>Personal Travel</td>\n",
       "      <td>Eco</td>\n",
       "      <td>1894</td>\n",
       "      <td>0</td>\n",
       "      <td>0</td>\n",
       "      <td>0</td>\n",
       "      <td>3</td>\n",
       "      <td>...</td>\n",
       "      <td>2</td>\n",
       "      <td>2</td>\n",
       "      <td>5</td>\n",
       "      <td>4</td>\n",
       "      <td>5</td>\n",
       "      <td>5</td>\n",
       "      <td>4</td>\n",
       "      <td>2</td>\n",
       "      <td>0</td>\n",
       "      <td>0.0</td>\n",
       "    </tr>\n",
       "    <tr>\n",
       "      <th>6</th>\n",
       "      <td>satisfied</td>\n",
       "      <td>Loyal Customer</td>\n",
       "      <td>66</td>\n",
       "      <td>Personal Travel</td>\n",
       "      <td>Eco</td>\n",
       "      <td>227</td>\n",
       "      <td>0</td>\n",
       "      <td>0</td>\n",
       "      <td>0</td>\n",
       "      <td>3</td>\n",
       "      <td>...</td>\n",
       "      <td>5</td>\n",
       "      <td>5</td>\n",
       "      <td>5</td>\n",
       "      <td>0</td>\n",
       "      <td>5</td>\n",
       "      <td>5</td>\n",
       "      <td>5</td>\n",
       "      <td>3</td>\n",
       "      <td>17</td>\n",
       "      <td>15.0</td>\n",
       "    </tr>\n",
       "    <tr>\n",
       "      <th>7</th>\n",
       "      <td>satisfied</td>\n",
       "      <td>Loyal Customer</td>\n",
       "      <td>10</td>\n",
       "      <td>Personal Travel</td>\n",
       "      <td>Eco</td>\n",
       "      <td>1812</td>\n",
       "      <td>0</td>\n",
       "      <td>0</td>\n",
       "      <td>0</td>\n",
       "      <td>3</td>\n",
       "      <td>...</td>\n",
       "      <td>2</td>\n",
       "      <td>2</td>\n",
       "      <td>3</td>\n",
       "      <td>3</td>\n",
       "      <td>4</td>\n",
       "      <td>5</td>\n",
       "      <td>4</td>\n",
       "      <td>2</td>\n",
       "      <td>0</td>\n",
       "      <td>0.0</td>\n",
       "    </tr>\n",
       "    <tr>\n",
       "      <th>8</th>\n",
       "      <td>satisfied</td>\n",
       "      <td>Loyal Customer</td>\n",
       "      <td>56</td>\n",
       "      <td>Personal Travel</td>\n",
       "      <td>Business</td>\n",
       "      <td>73</td>\n",
       "      <td>0</td>\n",
       "      <td>0</td>\n",
       "      <td>0</td>\n",
       "      <td>3</td>\n",
       "      <td>...</td>\n",
       "      <td>5</td>\n",
       "      <td>4</td>\n",
       "      <td>4</td>\n",
       "      <td>0</td>\n",
       "      <td>1</td>\n",
       "      <td>5</td>\n",
       "      <td>4</td>\n",
       "      <td>4</td>\n",
       "      <td>0</td>\n",
       "      <td>0.0</td>\n",
       "    </tr>\n",
       "    <tr>\n",
       "      <th>9</th>\n",
       "      <td>satisfied</td>\n",
       "      <td>Loyal Customer</td>\n",
       "      <td>22</td>\n",
       "      <td>Personal Travel</td>\n",
       "      <td>Eco</td>\n",
       "      <td>1556</td>\n",
       "      <td>0</td>\n",
       "      <td>0</td>\n",
       "      <td>0</td>\n",
       "      <td>3</td>\n",
       "      <td>...</td>\n",
       "      <td>2</td>\n",
       "      <td>2</td>\n",
       "      <td>2</td>\n",
       "      <td>4</td>\n",
       "      <td>5</td>\n",
       "      <td>3</td>\n",
       "      <td>4</td>\n",
       "      <td>2</td>\n",
       "      <td>30</td>\n",
       "      <td>26.0</td>\n",
       "    </tr>\n",
       "  </tbody>\n",
       "</table>\n",
       "<p>10 rows × 22 columns</p>\n",
       "</div>"
      ],
      "text/plain": [
       "  satisfaction   Customer Type  Age   Type of Travel     Class  \\\n",
       "0    satisfied  Loyal Customer   65  Personal Travel       Eco   \n",
       "1    satisfied  Loyal Customer   47  Personal Travel  Business   \n",
       "2    satisfied  Loyal Customer   15  Personal Travel       Eco   \n",
       "3    satisfied  Loyal Customer   60  Personal Travel       Eco   \n",
       "4    satisfied  Loyal Customer   70  Personal Travel       Eco   \n",
       "5    satisfied  Loyal Customer   30  Personal Travel       Eco   \n",
       "6    satisfied  Loyal Customer   66  Personal Travel       Eco   \n",
       "7    satisfied  Loyal Customer   10  Personal Travel       Eco   \n",
       "8    satisfied  Loyal Customer   56  Personal Travel  Business   \n",
       "9    satisfied  Loyal Customer   22  Personal Travel       Eco   \n",
       "\n",
       "   Flight Distance  Seat comfort  Departure/Arrival time convenient  \\\n",
       "0              265             0                                  0   \n",
       "1             2464             0                                  0   \n",
       "2             2138             0                                  0   \n",
       "3              623             0                                  0   \n",
       "4              354             0                                  0   \n",
       "5             1894             0                                  0   \n",
       "6              227             0                                  0   \n",
       "7             1812             0                                  0   \n",
       "8               73             0                                  0   \n",
       "9             1556             0                                  0   \n",
       "\n",
       "   Food and drink  Gate location  ...  Online support  Ease of Online booking  \\\n",
       "0               0              2  ...               2                       3   \n",
       "1               0              3  ...               2                       3   \n",
       "2               0              3  ...               2                       2   \n",
       "3               0              3  ...               3                       1   \n",
       "4               0              3  ...               4                       2   \n",
       "5               0              3  ...               2                       2   \n",
       "6               0              3  ...               5                       5   \n",
       "7               0              3  ...               2                       2   \n",
       "8               0              3  ...               5                       4   \n",
       "9               0              3  ...               2                       2   \n",
       "\n",
       "   On-board service  Leg room service  Baggage handling  Checkin service  \\\n",
       "0                 3                 0                 3                5   \n",
       "1                 4                 4                 4                2   \n",
       "2                 3                 3                 4                4   \n",
       "3                 1                 0                 1                4   \n",
       "4                 2                 0                 2                4   \n",
       "5                 5                 4                 5                5   \n",
       "6                 5                 0                 5                5   \n",
       "7                 3                 3                 4                5   \n",
       "8                 4                 0                 1                5   \n",
       "9                 2                 4                 5                3   \n",
       "\n",
       "   Cleanliness  Online boarding  Departure Delay in Minutes  \\\n",
       "0            3                2                           0   \n",
       "1            3                2                         310   \n",
       "2            4                2                           0   \n",
       "3            1                3                           0   \n",
       "4            2                5                           0   \n",
       "5            4                2                           0   \n",
       "6            5                3                          17   \n",
       "7            4                2                           0   \n",
       "8            4                4                           0   \n",
       "9            4                2                          30   \n",
       "\n",
       "   Arrival Delay in Minutes  \n",
       "0                       0.0  \n",
       "1                     305.0  \n",
       "2                       0.0  \n",
       "3                       0.0  \n",
       "4                       0.0  \n",
       "5                       0.0  \n",
       "6                      15.0  \n",
       "7                       0.0  \n",
       "8                       0.0  \n",
       "9                      26.0  \n",
       "\n",
       "[10 rows x 22 columns]"
      ]
     },
     "execution_count": 8,
     "metadata": {},
     "output_type": "execute_result"
    }
   ],
   "source": [
    "# Display the first 10 rows.\n",
    "\n",
    "### YOUR CODE HERE ###\n",
    "air_data_subset.head(10)"
   ]
  },
  {
   "cell_type": "markdown",
   "id": "d3143133",
   "metadata": {
    "id": "3c74ad00-3eaf-4868-b3a9-3aa87a5bc0d3",
    "papermill": {
     "duration": 0.017968,
     "end_time": "2025-02-15T03:22:53.962640",
     "exception": false,
     "start_time": "2025-02-15T03:22:53.944672",
     "status": "completed"
    },
    "tags": []
   },
   "source": [
    "Confirm that it does not contain any missing values."
   ]
  },
  {
   "cell_type": "code",
   "execution_count": 9,
   "id": "ead84cda",
   "metadata": {
    "execution": {
     "iopub.execute_input": "2025-02-15T03:22:53.998111Z",
     "iopub.status.busy": "2025-02-15T03:22:53.997646Z",
     "iopub.status.idle": "2025-02-15T03:22:54.073379Z",
     "shell.execute_reply": "2025-02-15T03:22:54.071410Z"
    },
    "id": "f22e303c-2c42-4227-9083-447839e2b300",
    "papermill": {
     "duration": 0.098154,
     "end_time": "2025-02-15T03:22:54.077901",
     "exception": false,
     "start_time": "2025-02-15T03:22:53.979747",
     "status": "completed"
    },
    "tags": []
   },
   "outputs": [
    {
     "data": {
      "text/plain": [
       "satisfaction                         0\n",
       "Customer Type                        0\n",
       "Age                                  0\n",
       "Type of Travel                       0\n",
       "Class                                0\n",
       "Flight Distance                      0\n",
       "Seat comfort                         0\n",
       "Departure/Arrival time convenient    0\n",
       "Food and drink                       0\n",
       "Gate location                        0\n",
       "Inflight wifi service                0\n",
       "Inflight entertainment               0\n",
       "Online support                       0\n",
       "Ease of Online booking               0\n",
       "On-board service                     0\n",
       "Leg room service                     0\n",
       "Baggage handling                     0\n",
       "Checkin service                      0\n",
       "Cleanliness                          0\n",
       "Online boarding                      0\n",
       "Departure Delay in Minutes           0\n",
       "Arrival Delay in Minutes             0\n",
       "dtype: int64"
      ]
     },
     "execution_count": 9,
     "metadata": {},
     "output_type": "execute_result"
    }
   ],
   "source": [
    "# Count of missing values.\n",
    "\n",
    "### YOUR CODE HERE ###\n",
    "air_data_subset.isna().sum()"
   ]
  },
  {
   "cell_type": "markdown",
   "id": "a8ee8a9f",
   "metadata": {
    "id": "I0Y9g4C17al8",
    "papermill": {
     "duration": 0.025688,
     "end_time": "2025-02-15T03:22:54.137046",
     "exception": false,
     "start_time": "2025-02-15T03:22:54.111358",
     "status": "completed"
    },
    "tags": []
   },
   "source": [
    "<details>\n",
    "<summary><h4><strong>Hint 1</strong></h4></summary>\n",
    "\n",
    "You can use the `.isna().sum()` to get the number of missing values for each variable.\n",
    "\n",
    "</details>"
   ]
  },
  {
   "cell_type": "markdown",
   "id": "46735998",
   "metadata": {
    "id": "23bbe395",
    "papermill": {
     "duration": 0.017394,
     "end_time": "2025-02-15T03:22:54.176957",
     "exception": false,
     "start_time": "2025-02-15T03:22:54.159563",
     "status": "completed"
    },
    "tags": []
   },
   "source": [
    "Next, convert the categorical features to indicator (one-hot encoded) features. \n",
    "\n",
    "**Note:** The `drop_first` argument can be kept as default (`False`) during one-hot encoding for random forest models, so it does not need to be specified. Also, the target variable, `satisfaction`, does not need to be encoded and will be extracted in a later step."
   ]
  },
  {
   "cell_type": "code",
   "execution_count": 10,
   "id": "40c80e0f",
   "metadata": {
    "execution": {
     "iopub.execute_input": "2025-02-15T03:22:54.217821Z",
     "iopub.status.busy": "2025-02-15T03:22:54.217338Z",
     "iopub.status.idle": "2025-02-15T03:22:54.289000Z",
     "shell.execute_reply": "2025-02-15T03:22:54.288016Z"
    },
    "id": "03d00d56",
    "papermill": {
     "duration": 0.096847,
     "end_time": "2025-02-15T03:22:54.290955",
     "exception": false,
     "start_time": "2025-02-15T03:22:54.194108",
     "status": "completed"
    },
    "tags": []
   },
   "outputs": [],
   "source": [
    "# Convert categorical features to one-hot encoded features.\n",
    "\n",
    "### YOUR CODE HERE ###\n",
    "air_data_subset_dummies = pd.get_dummies(air_data_subset, columns=['Customer Type','Type of Travel','Class'])"
   ]
  },
  {
   "cell_type": "markdown",
   "id": "f6146123",
   "metadata": {
    "id": "a9d3a8d5",
    "papermill": {
     "duration": 0.01653,
     "end_time": "2025-02-15T03:22:54.324997",
     "exception": false,
     "start_time": "2025-02-15T03:22:54.308467",
     "status": "completed"
    },
    "tags": []
   },
   "source": [
    "<details>\n",
    "<summary><h4><strong>Hint 1</strong></h4></summary>\n",
    "\n",
    "You can use the `pd.get_dummies()` function to convert categorical variables to one-hot encoded variables.\n",
    "</details>"
   ]
  },
  {
   "cell_type": "markdown",
   "id": "341b9de1",
   "metadata": {
    "id": "fY6JM-6zfNLK",
    "papermill": {
     "duration": 0.016222,
     "end_time": "2025-02-15T03:22:54.357944",
     "exception": false,
     "start_time": "2025-02-15T03:22:54.341722",
     "status": "completed"
    },
    "tags": []
   },
   "source": [
    "**Question:** Why is it necessary to convert categorical data into dummy variables?**\n",
    "\n",
    "* bc random forest models in sklearn requires categorical features to be label encoded or one hot encoded"
   ]
  },
  {
   "cell_type": "markdown",
   "id": "c64d5cbf",
   "metadata": {
    "id": "dfe87acc",
    "papermill": {
     "duration": 0.016355,
     "end_time": "2025-02-15T03:22:54.391084",
     "exception": false,
     "start_time": "2025-02-15T03:22:54.374729",
     "status": "completed"
    },
    "tags": []
   },
   "source": [
    "Next, display the first 10 rows to review the `air_data_subset_dummies`. "
   ]
  },
  {
   "cell_type": "code",
   "execution_count": 11,
   "id": "480f59ab",
   "metadata": {
    "execution": {
     "iopub.execute_input": "2025-02-15T03:22:54.427033Z",
     "iopub.status.busy": "2025-02-15T03:22:54.426668Z",
     "iopub.status.idle": "2025-02-15T03:22:54.448967Z",
     "shell.execute_reply": "2025-02-15T03:22:54.447887Z"
    },
    "id": "139cb903",
    "papermill": {
     "duration": 0.042191,
     "end_time": "2025-02-15T03:22:54.450586",
     "exception": false,
     "start_time": "2025-02-15T03:22:54.408395",
     "status": "completed"
    },
    "tags": []
   },
   "outputs": [
    {
     "data": {
      "text/html": [
       "<div>\n",
       "<style scoped>\n",
       "    .dataframe tbody tr th:only-of-type {\n",
       "        vertical-align: middle;\n",
       "    }\n",
       "\n",
       "    .dataframe tbody tr th {\n",
       "        vertical-align: top;\n",
       "    }\n",
       "\n",
       "    .dataframe thead th {\n",
       "        text-align: right;\n",
       "    }\n",
       "</style>\n",
       "<table border=\"1\" class=\"dataframe\">\n",
       "  <thead>\n",
       "    <tr style=\"text-align: right;\">\n",
       "      <th></th>\n",
       "      <th>satisfaction</th>\n",
       "      <th>Age</th>\n",
       "      <th>Flight Distance</th>\n",
       "      <th>Seat comfort</th>\n",
       "      <th>Departure/Arrival time convenient</th>\n",
       "      <th>Food and drink</th>\n",
       "      <th>Gate location</th>\n",
       "      <th>Inflight wifi service</th>\n",
       "      <th>Inflight entertainment</th>\n",
       "      <th>Online support</th>\n",
       "      <th>...</th>\n",
       "      <th>Online boarding</th>\n",
       "      <th>Departure Delay in Minutes</th>\n",
       "      <th>Arrival Delay in Minutes</th>\n",
       "      <th>Customer Type_Loyal Customer</th>\n",
       "      <th>Customer Type_disloyal Customer</th>\n",
       "      <th>Type of Travel_Business travel</th>\n",
       "      <th>Type of Travel_Personal Travel</th>\n",
       "      <th>Class_Business</th>\n",
       "      <th>Class_Eco</th>\n",
       "      <th>Class_Eco Plus</th>\n",
       "    </tr>\n",
       "  </thead>\n",
       "  <tbody>\n",
       "    <tr>\n",
       "      <th>0</th>\n",
       "      <td>satisfied</td>\n",
       "      <td>65</td>\n",
       "      <td>265</td>\n",
       "      <td>0</td>\n",
       "      <td>0</td>\n",
       "      <td>0</td>\n",
       "      <td>2</td>\n",
       "      <td>2</td>\n",
       "      <td>4</td>\n",
       "      <td>2</td>\n",
       "      <td>...</td>\n",
       "      <td>2</td>\n",
       "      <td>0</td>\n",
       "      <td>0.0</td>\n",
       "      <td>True</td>\n",
       "      <td>False</td>\n",
       "      <td>False</td>\n",
       "      <td>True</td>\n",
       "      <td>False</td>\n",
       "      <td>True</td>\n",
       "      <td>False</td>\n",
       "    </tr>\n",
       "    <tr>\n",
       "      <th>1</th>\n",
       "      <td>satisfied</td>\n",
       "      <td>47</td>\n",
       "      <td>2464</td>\n",
       "      <td>0</td>\n",
       "      <td>0</td>\n",
       "      <td>0</td>\n",
       "      <td>3</td>\n",
       "      <td>0</td>\n",
       "      <td>2</td>\n",
       "      <td>2</td>\n",
       "      <td>...</td>\n",
       "      <td>2</td>\n",
       "      <td>310</td>\n",
       "      <td>305.0</td>\n",
       "      <td>True</td>\n",
       "      <td>False</td>\n",
       "      <td>False</td>\n",
       "      <td>True</td>\n",
       "      <td>True</td>\n",
       "      <td>False</td>\n",
       "      <td>False</td>\n",
       "    </tr>\n",
       "    <tr>\n",
       "      <th>2</th>\n",
       "      <td>satisfied</td>\n",
       "      <td>15</td>\n",
       "      <td>2138</td>\n",
       "      <td>0</td>\n",
       "      <td>0</td>\n",
       "      <td>0</td>\n",
       "      <td>3</td>\n",
       "      <td>2</td>\n",
       "      <td>0</td>\n",
       "      <td>2</td>\n",
       "      <td>...</td>\n",
       "      <td>2</td>\n",
       "      <td>0</td>\n",
       "      <td>0.0</td>\n",
       "      <td>True</td>\n",
       "      <td>False</td>\n",
       "      <td>False</td>\n",
       "      <td>True</td>\n",
       "      <td>False</td>\n",
       "      <td>True</td>\n",
       "      <td>False</td>\n",
       "    </tr>\n",
       "    <tr>\n",
       "      <th>3</th>\n",
       "      <td>satisfied</td>\n",
       "      <td>60</td>\n",
       "      <td>623</td>\n",
       "      <td>0</td>\n",
       "      <td>0</td>\n",
       "      <td>0</td>\n",
       "      <td>3</td>\n",
       "      <td>3</td>\n",
       "      <td>4</td>\n",
       "      <td>3</td>\n",
       "      <td>...</td>\n",
       "      <td>3</td>\n",
       "      <td>0</td>\n",
       "      <td>0.0</td>\n",
       "      <td>True</td>\n",
       "      <td>False</td>\n",
       "      <td>False</td>\n",
       "      <td>True</td>\n",
       "      <td>False</td>\n",
       "      <td>True</td>\n",
       "      <td>False</td>\n",
       "    </tr>\n",
       "    <tr>\n",
       "      <th>4</th>\n",
       "      <td>satisfied</td>\n",
       "      <td>70</td>\n",
       "      <td>354</td>\n",
       "      <td>0</td>\n",
       "      <td>0</td>\n",
       "      <td>0</td>\n",
       "      <td>3</td>\n",
       "      <td>4</td>\n",
       "      <td>3</td>\n",
       "      <td>4</td>\n",
       "      <td>...</td>\n",
       "      <td>5</td>\n",
       "      <td>0</td>\n",
       "      <td>0.0</td>\n",
       "      <td>True</td>\n",
       "      <td>False</td>\n",
       "      <td>False</td>\n",
       "      <td>True</td>\n",
       "      <td>False</td>\n",
       "      <td>True</td>\n",
       "      <td>False</td>\n",
       "    </tr>\n",
       "    <tr>\n",
       "      <th>5</th>\n",
       "      <td>satisfied</td>\n",
       "      <td>30</td>\n",
       "      <td>1894</td>\n",
       "      <td>0</td>\n",
       "      <td>0</td>\n",
       "      <td>0</td>\n",
       "      <td>3</td>\n",
       "      <td>2</td>\n",
       "      <td>0</td>\n",
       "      <td>2</td>\n",
       "      <td>...</td>\n",
       "      <td>2</td>\n",
       "      <td>0</td>\n",
       "      <td>0.0</td>\n",
       "      <td>True</td>\n",
       "      <td>False</td>\n",
       "      <td>False</td>\n",
       "      <td>True</td>\n",
       "      <td>False</td>\n",
       "      <td>True</td>\n",
       "      <td>False</td>\n",
       "    </tr>\n",
       "    <tr>\n",
       "      <th>6</th>\n",
       "      <td>satisfied</td>\n",
       "      <td>66</td>\n",
       "      <td>227</td>\n",
       "      <td>0</td>\n",
       "      <td>0</td>\n",
       "      <td>0</td>\n",
       "      <td>3</td>\n",
       "      <td>2</td>\n",
       "      <td>5</td>\n",
       "      <td>5</td>\n",
       "      <td>...</td>\n",
       "      <td>3</td>\n",
       "      <td>17</td>\n",
       "      <td>15.0</td>\n",
       "      <td>True</td>\n",
       "      <td>False</td>\n",
       "      <td>False</td>\n",
       "      <td>True</td>\n",
       "      <td>False</td>\n",
       "      <td>True</td>\n",
       "      <td>False</td>\n",
       "    </tr>\n",
       "    <tr>\n",
       "      <th>7</th>\n",
       "      <td>satisfied</td>\n",
       "      <td>10</td>\n",
       "      <td>1812</td>\n",
       "      <td>0</td>\n",
       "      <td>0</td>\n",
       "      <td>0</td>\n",
       "      <td>3</td>\n",
       "      <td>2</td>\n",
       "      <td>0</td>\n",
       "      <td>2</td>\n",
       "      <td>...</td>\n",
       "      <td>2</td>\n",
       "      <td>0</td>\n",
       "      <td>0.0</td>\n",
       "      <td>True</td>\n",
       "      <td>False</td>\n",
       "      <td>False</td>\n",
       "      <td>True</td>\n",
       "      <td>False</td>\n",
       "      <td>True</td>\n",
       "      <td>False</td>\n",
       "    </tr>\n",
       "    <tr>\n",
       "      <th>8</th>\n",
       "      <td>satisfied</td>\n",
       "      <td>56</td>\n",
       "      <td>73</td>\n",
       "      <td>0</td>\n",
       "      <td>0</td>\n",
       "      <td>0</td>\n",
       "      <td>3</td>\n",
       "      <td>5</td>\n",
       "      <td>3</td>\n",
       "      <td>5</td>\n",
       "      <td>...</td>\n",
       "      <td>4</td>\n",
       "      <td>0</td>\n",
       "      <td>0.0</td>\n",
       "      <td>True</td>\n",
       "      <td>False</td>\n",
       "      <td>False</td>\n",
       "      <td>True</td>\n",
       "      <td>True</td>\n",
       "      <td>False</td>\n",
       "      <td>False</td>\n",
       "    </tr>\n",
       "    <tr>\n",
       "      <th>9</th>\n",
       "      <td>satisfied</td>\n",
       "      <td>22</td>\n",
       "      <td>1556</td>\n",
       "      <td>0</td>\n",
       "      <td>0</td>\n",
       "      <td>0</td>\n",
       "      <td>3</td>\n",
       "      <td>2</td>\n",
       "      <td>0</td>\n",
       "      <td>2</td>\n",
       "      <td>...</td>\n",
       "      <td>2</td>\n",
       "      <td>30</td>\n",
       "      <td>26.0</td>\n",
       "      <td>True</td>\n",
       "      <td>False</td>\n",
       "      <td>False</td>\n",
       "      <td>True</td>\n",
       "      <td>False</td>\n",
       "      <td>True</td>\n",
       "      <td>False</td>\n",
       "    </tr>\n",
       "  </tbody>\n",
       "</table>\n",
       "<p>10 rows × 26 columns</p>\n",
       "</div>"
      ],
      "text/plain": [
       "  satisfaction  Age  Flight Distance  Seat comfort  \\\n",
       "0    satisfied   65              265             0   \n",
       "1    satisfied   47             2464             0   \n",
       "2    satisfied   15             2138             0   \n",
       "3    satisfied   60              623             0   \n",
       "4    satisfied   70              354             0   \n",
       "5    satisfied   30             1894             0   \n",
       "6    satisfied   66              227             0   \n",
       "7    satisfied   10             1812             0   \n",
       "8    satisfied   56               73             0   \n",
       "9    satisfied   22             1556             0   \n",
       "\n",
       "   Departure/Arrival time convenient  Food and drink  Gate location  \\\n",
       "0                                  0               0              2   \n",
       "1                                  0               0              3   \n",
       "2                                  0               0              3   \n",
       "3                                  0               0              3   \n",
       "4                                  0               0              3   \n",
       "5                                  0               0              3   \n",
       "6                                  0               0              3   \n",
       "7                                  0               0              3   \n",
       "8                                  0               0              3   \n",
       "9                                  0               0              3   \n",
       "\n",
       "   Inflight wifi service  Inflight entertainment  Online support  ...  \\\n",
       "0                      2                       4               2  ...   \n",
       "1                      0                       2               2  ...   \n",
       "2                      2                       0               2  ...   \n",
       "3                      3                       4               3  ...   \n",
       "4                      4                       3               4  ...   \n",
       "5                      2                       0               2  ...   \n",
       "6                      2                       5               5  ...   \n",
       "7                      2                       0               2  ...   \n",
       "8                      5                       3               5  ...   \n",
       "9                      2                       0               2  ...   \n",
       "\n",
       "   Online boarding  Departure Delay in Minutes  Arrival Delay in Minutes  \\\n",
       "0                2                           0                       0.0   \n",
       "1                2                         310                     305.0   \n",
       "2                2                           0                       0.0   \n",
       "3                3                           0                       0.0   \n",
       "4                5                           0                       0.0   \n",
       "5                2                           0                       0.0   \n",
       "6                3                          17                      15.0   \n",
       "7                2                           0                       0.0   \n",
       "8                4                           0                       0.0   \n",
       "9                2                          30                      26.0   \n",
       "\n",
       "   Customer Type_Loyal Customer  Customer Type_disloyal Customer  \\\n",
       "0                          True                            False   \n",
       "1                          True                            False   \n",
       "2                          True                            False   \n",
       "3                          True                            False   \n",
       "4                          True                            False   \n",
       "5                          True                            False   \n",
       "6                          True                            False   \n",
       "7                          True                            False   \n",
       "8                          True                            False   \n",
       "9                          True                            False   \n",
       "\n",
       "   Type of Travel_Business travel  Type of Travel_Personal Travel  \\\n",
       "0                           False                            True   \n",
       "1                           False                            True   \n",
       "2                           False                            True   \n",
       "3                           False                            True   \n",
       "4                           False                            True   \n",
       "5                           False                            True   \n",
       "6                           False                            True   \n",
       "7                           False                            True   \n",
       "8                           False                            True   \n",
       "9                           False                            True   \n",
       "\n",
       "   Class_Business  Class_Eco  Class_Eco Plus  \n",
       "0           False       True           False  \n",
       "1            True      False           False  \n",
       "2           False       True           False  \n",
       "3           False       True           False  \n",
       "4           False       True           False  \n",
       "5           False       True           False  \n",
       "6           False       True           False  \n",
       "7           False       True           False  \n",
       "8            True      False           False  \n",
       "9           False       True           False  \n",
       "\n",
       "[10 rows x 26 columns]"
      ]
     },
     "execution_count": 11,
     "metadata": {},
     "output_type": "execute_result"
    }
   ],
   "source": [
    "# Display the first 10 rows.\n",
    "\n",
    "### YOUR CODE HERE ###\n",
    "air_data_subset_dummies.head(10)"
   ]
  },
  {
   "cell_type": "markdown",
   "id": "f38d4d3f",
   "metadata": {
    "id": "fXzLIPbYYvud",
    "papermill": {
     "duration": 0.016865,
     "end_time": "2025-02-15T03:22:54.484868",
     "exception": false,
     "start_time": "2025-02-15T03:22:54.468003",
     "status": "completed"
    },
    "tags": []
   },
   "source": [
    "Then, check the variables of air_data_subset_dummies."
   ]
  },
  {
   "cell_type": "code",
   "execution_count": 12,
   "id": "c281f62f",
   "metadata": {
    "execution": {
     "iopub.execute_input": "2025-02-15T03:22:54.520330Z",
     "iopub.status.busy": "2025-02-15T03:22:54.519999Z",
     "iopub.status.idle": "2025-02-15T03:22:54.550093Z",
     "shell.execute_reply": "2025-02-15T03:22:54.548999Z"
    },
    "id": "X1V76nRmZoWN",
    "papermill": {
     "duration": 0.050195,
     "end_time": "2025-02-15T03:22:54.551963",
     "exception": false,
     "start_time": "2025-02-15T03:22:54.501768",
     "status": "completed"
    },
    "tags": []
   },
   "outputs": [
    {
     "name": "stdout",
     "output_type": "stream",
     "text": [
      "<class 'pandas.core.frame.DataFrame'>\n",
      "Index: 129487 entries, 0 to 129879\n",
      "Data columns (total 26 columns):\n",
      " #   Column                             Non-Null Count   Dtype  \n",
      "---  ------                             --------------   -----  \n",
      " 0   satisfaction                       129487 non-null  object \n",
      " 1   Age                                129487 non-null  int64  \n",
      " 2   Flight Distance                    129487 non-null  int64  \n",
      " 3   Seat comfort                       129487 non-null  int64  \n",
      " 4   Departure/Arrival time convenient  129487 non-null  int64  \n",
      " 5   Food and drink                     129487 non-null  int64  \n",
      " 6   Gate location                      129487 non-null  int64  \n",
      " 7   Inflight wifi service              129487 non-null  int64  \n",
      " 8   Inflight entertainment             129487 non-null  int64  \n",
      " 9   Online support                     129487 non-null  int64  \n",
      " 10  Ease of Online booking             129487 non-null  int64  \n",
      " 11  On-board service                   129487 non-null  int64  \n",
      " 12  Leg room service                   129487 non-null  int64  \n",
      " 13  Baggage handling                   129487 non-null  int64  \n",
      " 14  Checkin service                    129487 non-null  int64  \n",
      " 15  Cleanliness                        129487 non-null  int64  \n",
      " 16  Online boarding                    129487 non-null  int64  \n",
      " 17  Departure Delay in Minutes         129487 non-null  int64  \n",
      " 18  Arrival Delay in Minutes           129487 non-null  float64\n",
      " 19  Customer Type_Loyal Customer       129487 non-null  bool   \n",
      " 20  Customer Type_disloyal Customer    129487 non-null  bool   \n",
      " 21  Type of Travel_Business travel     129487 non-null  bool   \n",
      " 22  Type of Travel_Personal Travel     129487 non-null  bool   \n",
      " 23  Class_Business                     129487 non-null  bool   \n",
      " 24  Class_Eco                          129487 non-null  bool   \n",
      " 25  Class_Eco Plus                     129487 non-null  bool   \n",
      "dtypes: bool(7), float64(1), int64(17), object(1)\n",
      "memory usage: 20.6+ MB\n"
     ]
    }
   ],
   "source": [
    "# Display variables.\n",
    "\n",
    "### YOUR CODE HERE ###\n",
    "air_data_subset_dummies.info()"
   ]
  },
  {
   "cell_type": "markdown",
   "id": "e6c838e3",
   "metadata": {
    "id": "GJkFXh96gIA2",
    "papermill": {
     "duration": 0.016769,
     "end_time": "2025-02-15T03:22:54.586605",
     "exception": false,
     "start_time": "2025-02-15T03:22:54.569836",
     "status": "completed"
    },
    "tags": []
   },
   "source": [
    "**Question:** What changes do you observe after converting the string data to dummy variables?**\n",
    "\n",
    "* all categorical feature variables are converted from object to numerical dtypes\n",
    "* the target variable is still of object dtype\n",
    "* Customer Type ==> Customer Type_Loyal Customer , Customer Type_disloyal Customer\n",
    "* Type of Travel ==> Type of Travel_Business travel, Type of Travel_Personal Travel  \n",
    "* Class ==> Class_Business,Class_Eco,Class_Eco Plus"
   ]
  },
  {
   "cell_type": "markdown",
   "id": "fe68cf3c",
   "metadata": {
    "id": "6b7f8803-44ee-47cf-b97a-efaf5c0fdd59",
    "papermill": {
     "duration": 0.016551,
     "end_time": "2025-02-15T03:22:54.620248",
     "exception": false,
     "start_time": "2025-02-15T03:22:54.603697",
     "status": "completed"
    },
    "tags": []
   },
   "source": [
    "## **Step 3: Model building** "
   ]
  },
  {
   "cell_type": "markdown",
   "id": "34087365",
   "metadata": {
    "id": "7sf5gGBFySHv",
    "papermill": {
     "duration": 0.016823,
     "end_time": "2025-02-15T03:22:54.654136",
     "exception": false,
     "start_time": "2025-02-15T03:22:54.637313",
     "status": "completed"
    },
    "tags": []
   },
   "source": [
    "The first step to building your model is separating the labels (y) from the features (X)."
   ]
  },
  {
   "cell_type": "code",
   "execution_count": 13,
   "id": "ab40ce5d",
   "metadata": {
    "execution": {
     "iopub.execute_input": "2025-02-15T03:22:54.690875Z",
     "iopub.status.busy": "2025-02-15T03:22:54.690479Z",
     "iopub.status.idle": "2025-02-15T03:22:54.700480Z",
     "shell.execute_reply": "2025-02-15T03:22:54.699217Z"
    },
    "id": "80535d2f-8b1a-4715-b07a-f3734d8cc4c5",
    "papermill": {
     "duration": 0.03041,
     "end_time": "2025-02-15T03:22:54.702505",
     "exception": false,
     "start_time": "2025-02-15T03:22:54.672095",
     "status": "completed"
    },
    "tags": []
   },
   "outputs": [],
   "source": [
    "# Separate the dataset into labels (y) and features (X).\n",
    "\n",
    "### YOUR CODE HERE ###\n",
    "X = air_data_subset_dummies.drop(\"satisfaction\", axis=1)\n",
    "y = air_data_subset_dummies[\"satisfaction\"]"
   ]
  },
  {
   "cell_type": "markdown",
   "id": "0bf8314c",
   "metadata": {
    "id": "18fn6lxL8O8Q",
    "papermill": {
     "duration": 0.0176,
     "end_time": "2025-02-15T03:22:54.737513",
     "exception": false,
     "start_time": "2025-02-15T03:22:54.719913",
     "status": "completed"
    },
    "tags": []
   },
   "source": [
    "<details>\n",
    "<summary><h4><strong>Hint 1</strong></h4></summary>\n",
    "\n",
    "Save the labels (the values in the `satisfaction` column) as `y`.\n",
    "\n",
    "Save the features as `X`. \n",
    "\n",
    "</details>"
   ]
  },
  {
   "cell_type": "markdown",
   "id": "08688cb5",
   "metadata": {
    "papermill": {
     "duration": 0.016946,
     "end_time": "2025-02-15T03:22:54.772006",
     "exception": false,
     "start_time": "2025-02-15T03:22:54.755060",
     "status": "completed"
    },
    "tags": []
   },
   "source": [
    "<details>\n",
    "<summary><h4><strong>Hint 2</strong></h4></summary>\n",
    "\n",
    "To obtain the features, drop the `satisfaction` column from the DataFrame.\n",
    "\n",
    "</details>"
   ]
  },
  {
   "cell_type": "markdown",
   "id": "d04918e1",
   "metadata": {
    "id": "49a6c7ae",
    "papermill": {
     "duration": 0.016616,
     "end_time": "2025-02-15T03:22:54.805809",
     "exception": false,
     "start_time": "2025-02-15T03:22:54.789193",
     "status": "completed"
    },
    "tags": []
   },
   "source": [
    "Once separated, split the data into train, validate, and test sets. "
   ]
  },
  {
   "cell_type": "code",
   "execution_count": 14,
   "id": "3227e79b",
   "metadata": {
    "execution": {
     "iopub.execute_input": "2025-02-15T03:22:54.843328Z",
     "iopub.status.busy": "2025-02-15T03:22:54.842978Z",
     "iopub.status.idle": "2025-02-15T03:22:54.913825Z",
     "shell.execute_reply": "2025-02-15T03:22:54.912717Z"
    },
    "id": "0de77cb8",
    "papermill": {
     "duration": 0.091741,
     "end_time": "2025-02-15T03:22:54.915835",
     "exception": false,
     "start_time": "2025-02-15T03:22:54.824094",
     "status": "completed"
    },
    "tags": []
   },
   "outputs": [],
   "source": [
    "# Separate into train, validate, test sets.\n",
    "\n",
    "### YOUR CODE HERE ###\n",
    "X_train, X_test, y_train, y_test = train_test_split(X, y, test_size = 0.25, random_state = 0)\n",
    "X_tr, X_val, y_tr, y_val = train_test_split(X_train, y_train, test_size = 0.25, random_state = 0)"
   ]
  },
  {
   "cell_type": "markdown",
   "id": "3f9c7a9b",
   "metadata": {
    "id": "16c78c74",
    "papermill": {
     "duration": 0.016843,
     "end_time": "2025-02-15T03:22:54.950310",
     "exception": false,
     "start_time": "2025-02-15T03:22:54.933467",
     "status": "completed"
    },
    "tags": []
   },
   "source": [
    "<details>\n",
    "<summary><h4><strong>Hint 1</strong></h4></summary>\n",
    "\n",
    "Use the `train_test_split()` function twice to create train/validate/test sets, passing in `random_state` for reproducible results. \n",
    "\n",
    "</details>"
   ]
  },
  {
   "cell_type": "markdown",
   "id": "bef79b30",
   "metadata": {
    "papermill": {
     "duration": 0.017238,
     "end_time": "2025-02-15T03:22:54.984905",
     "exception": false,
     "start_time": "2025-02-15T03:22:54.967667",
     "status": "completed"
    },
    "tags": []
   },
   "source": [
    "<details>\n",
    "<summary><h4><strong>Hint 1</strong></h4></summary>\n",
    "\n",
    "Split `X`, `y` to get `X_train`, `X_test`, `y_train`, `y_test`. Set the `test_size` argument to the proportion of data points you want to select for testing. \n",
    "\n",
    "Split `X_train`, `y_train` to get `X_tr`, `X_val`, `y_tr`, `y_val`. Set the `test_size` argument to the proportion of data points you want to select for validation. \n",
    "\n",
    "</details>"
   ]
  },
  {
   "cell_type": "markdown",
   "id": "d90c7d41",
   "metadata": {
    "id": "59bbd17e-84e5-463c-8806-f2b5286f9ac8",
    "papermill": {
     "duration": 0.016638,
     "end_time": "2025-02-15T03:22:55.018570",
     "exception": false,
     "start_time": "2025-02-15T03:22:55.001932",
     "status": "completed"
    },
    "tags": []
   },
   "source": [
    "### Tune the model\n",
    "\n",
    "Now, fit and tune a random forest model with separate validation set. Begin by determining a set of hyperparameters for tuning the model using GridSearchCV.\n"
   ]
  },
  {
   "cell_type": "code",
   "execution_count": 15,
   "id": "39c10b30",
   "metadata": {
    "execution": {
     "iopub.execute_input": "2025-02-15T03:22:55.053566Z",
     "iopub.status.busy": "2025-02-15T03:22:55.053190Z",
     "iopub.status.idle": "2025-02-15T03:22:55.057981Z",
     "shell.execute_reply": "2025-02-15T03:22:55.056789Z"
    },
    "id": "7bfdf346",
    "papermill": {
     "duration": 0.02409,
     "end_time": "2025-02-15T03:22:55.059538",
     "exception": false,
     "start_time": "2025-02-15T03:22:55.035448",
     "status": "completed"
    },
    "tags": []
   },
   "outputs": [],
   "source": [
    "# Determine set of hyperparameters.\n",
    "\n",
    "### YOUR CODE HERE ###\n",
    "cv_params = {'n_estimators' : [50,100], \n",
    "              'max_depth' : [10,50],        \n",
    "              'min_samples_leaf' : [0.5,1], \n",
    "              'min_samples_split' : [0.001, 0.01],\n",
    "              'max_features' : [\"sqrt\"], \n",
    "              'max_samples' : [.5,.9]}"
   ]
  },
  {
   "cell_type": "markdown",
   "id": "f30d18ff",
   "metadata": {
    "id": "zMdizCS0rZB4",
    "papermill": {
     "duration": 0.016567,
     "end_time": "2025-02-15T03:22:55.093950",
     "exception": false,
     "start_time": "2025-02-15T03:22:55.077383",
     "status": "completed"
    },
    "tags": []
   },
   "source": [
    "<details>\n",
    "<summary><h4><strong>Hint 1</strong></h4></summary>\n",
    "\n",
    "Create a dictionary `cv_params` that maps each hyperparameter name to a list of values. The GridSearch you conduct will set the hyperparameter to each possible value, as specified, and determine which value is optimal.\n",
    "\n",
    "</details>"
   ]
  },
  {
   "cell_type": "markdown",
   "id": "ea436123",
   "metadata": {
    "id": "Swkbtmw7tMMv",
    "papermill": {
     "duration": 0.01706,
     "end_time": "2025-02-15T03:22:55.128877",
     "exception": false,
     "start_time": "2025-02-15T03:22:55.111817",
     "status": "completed"
    },
    "tags": []
   },
   "source": [
    "<details>\n",
    "<summary><h4><strong>Hint 2</strong></h4></summary>\n",
    "\n",
    "The main hyperparameters here include `'n_estimators', 'max_depth', 'min_samples_leaf', 'min_samples_split', 'max_features', and 'max_samples'`. These will be the keys in the dictionary `cv_params`.\n",
    "\n",
    "</details>"
   ]
  },
  {
   "cell_type": "markdown",
   "id": "fee7238b",
   "metadata": {
    "papermill": {
     "duration": 0.01683,
     "end_time": "2025-02-15T03:22:55.163382",
     "exception": false,
     "start_time": "2025-02-15T03:22:55.146552",
     "status": "completed"
    },
    "tags": []
   },
   "source": [
    "Next, create a list of split indices."
   ]
  },
  {
   "cell_type": "code",
   "execution_count": 16,
   "id": "0f6689b3",
   "metadata": {
    "execution": {
     "iopub.execute_input": "2025-02-15T03:22:55.198702Z",
     "iopub.status.busy": "2025-02-15T03:22:55.198299Z",
     "iopub.status.idle": "2025-02-15T03:22:55.324107Z",
     "shell.execute_reply": "2025-02-15T03:22:55.323206Z"
    },
    "id": "a58b4d77-6023-428d-89aa-4d2ac52003dc",
    "papermill": {
     "duration": 0.145662,
     "end_time": "2025-02-15T03:22:55.326018",
     "exception": false,
     "start_time": "2025-02-15T03:22:55.180356",
     "status": "completed"
    },
    "tags": []
   },
   "outputs": [],
   "source": [
    "# Create list of split indices.\n",
    "\n",
    "### YOUR CODE HERE ###\n",
    "# label validation or training set\n",
    "split_index = [0 if x in X_val.index else -1 for x in X_train.index]\n",
    "\n",
    "# splits the based on split_index\n",
    "custom_split = PredefinedSplit(split_index)"
   ]
  },
  {
   "cell_type": "markdown",
   "id": "86337f6b",
   "metadata": {
    "id": "USX90GwZt3xU",
    "papermill": {
     "duration": 0.017021,
     "end_time": "2025-02-15T03:22:55.360395",
     "exception": false,
     "start_time": "2025-02-15T03:22:55.343374",
     "status": "completed"
    },
    "tags": []
   },
   "source": [
    "<details>\n",
    "<summary><h4><strong>Hint 1</strong></h4></summary>\n",
    "\n",
    "Use list comprehension, iterating over the indices of `X_train`. The list can consists of 0s to indicate data points that should be treated as validation data and -1s to indicate data points that should be treated as training data.\n",
    "\n",
    "</details>"
   ]
  },
  {
   "cell_type": "markdown",
   "id": "e8b79842",
   "metadata": {
    "papermill": {
     "duration": 0.016494,
     "end_time": "2025-02-15T03:22:55.393854",
     "exception": false,
     "start_time": "2025-02-15T03:22:55.377360",
     "status": "completed"
    },
    "tags": []
   },
   "source": [
    "<details>\n",
    "<summary><h4><strong>Hint 2</strong></h4></summary>\n",
    "\n",
    "Use `PredfinedSplit()`, passing in `split_index`, saving the output as `custom_split`. This will serve as a custom split that will identify which data points from the train set should be treated as validation data during GridSearch.\n",
    "\n",
    "</details>"
   ]
  },
  {
   "cell_type": "markdown",
   "id": "b7776761",
   "metadata": {
    "papermill": {
     "duration": 0.016589,
     "end_time": "2025-02-15T03:22:55.427224",
     "exception": false,
     "start_time": "2025-02-15T03:22:55.410635",
     "status": "completed"
    },
    "tags": []
   },
   "source": [
    "Now, instantiate your model."
   ]
  },
  {
   "cell_type": "code",
   "execution_count": 17,
   "id": "6dcd5029",
   "metadata": {
    "execution": {
     "iopub.execute_input": "2025-02-15T03:22:55.462424Z",
     "iopub.status.busy": "2025-02-15T03:22:55.462055Z",
     "iopub.status.idle": "2025-02-15T03:22:55.466233Z",
     "shell.execute_reply": "2025-02-15T03:22:55.465270Z"
    },
    "id": "U0qvZjujbTKL",
    "papermill": {
     "duration": 0.023789,
     "end_time": "2025-02-15T03:22:55.467985",
     "exception": false,
     "start_time": "2025-02-15T03:22:55.444196",
     "status": "completed"
    },
    "tags": []
   },
   "outputs": [],
   "source": [
    "# Instantiate model.\n",
    "\n",
    "### YOUR CODE HERE ### \n",
    "rf = RandomForestClassifier(random_state=0)"
   ]
  },
  {
   "cell_type": "markdown",
   "id": "da097f1a",
   "metadata": {
    "id": "voetM7-QwI5w",
    "papermill": {
     "duration": 0.016693,
     "end_time": "2025-02-15T03:22:55.501785",
     "exception": false,
     "start_time": "2025-02-15T03:22:55.485092",
     "status": "completed"
    },
    "tags": []
   },
   "source": [
    "<details>\n",
    "<summary><h4><strong>Hint 1</strong></h4></summary>\n",
    "\n",
    "Use `RandomForestClassifier()`, specifying the `random_state` argument for reproducible results. This will help you instantiate a random forest model, `rf`.\n",
    "\n",
    "</details>"
   ]
  },
  {
   "cell_type": "markdown",
   "id": "86e70c32",
   "metadata": {
    "papermill": {
     "duration": 0.017037,
     "end_time": "2025-02-15T03:22:55.536586",
     "exception": false,
     "start_time": "2025-02-15T03:22:55.519549",
     "status": "completed"
    },
    "tags": []
   },
   "source": [
    "Next, use GridSearchCV to search over the specified parameters."
   ]
  },
  {
   "cell_type": "code",
   "execution_count": 18,
   "id": "e0076227",
   "metadata": {
    "execution": {
     "iopub.execute_input": "2025-02-15T03:22:55.572478Z",
     "iopub.status.busy": "2025-02-15T03:22:55.572143Z",
     "iopub.status.idle": "2025-02-15T03:22:55.576360Z",
     "shell.execute_reply": "2025-02-15T03:22:55.575442Z"
    },
    "id": "228e65c3",
    "papermill": {
     "duration": 0.0242,
     "end_time": "2025-02-15T03:22:55.578183",
     "exception": false,
     "start_time": "2025-02-15T03:22:55.553983",
     "status": "completed"
    },
    "tags": []
   },
   "outputs": [],
   "source": [
    "# Search over specified parameters.\n",
    "\n",
    "### YOUR CODE HERE ### \n",
    "rf_val = GridSearchCV(rf, cv_params, cv=custom_split, refit='f1', n_jobs = -1, verbose = 1)"
   ]
  },
  {
   "cell_type": "markdown",
   "id": "75a76007",
   "metadata": {
    "id": "bppjmuqzwZf3",
    "papermill": {
     "duration": 0.01672,
     "end_time": "2025-02-15T03:22:55.612191",
     "exception": false,
     "start_time": "2025-02-15T03:22:55.595471",
     "status": "completed"
    },
    "tags": []
   },
   "source": [
    "<details>\n",
    "<summary><h4><strong>Hint 1</strong></h4></summary>\n",
    "\n",
    "Use `GridSearchCV()`, passing in `rf` and `cv_params` and specifying `cv` as `custom_split`. Additional arguments that you can specify include: `refit='f1', n_jobs = -1, verbose = 1`. \n",
    "\n",
    "</details>"
   ]
  },
  {
   "cell_type": "markdown",
   "id": "b264fd53",
   "metadata": {
    "papermill": {
     "duration": 0.017788,
     "end_time": "2025-02-15T03:22:55.647086",
     "exception": false,
     "start_time": "2025-02-15T03:22:55.629298",
     "status": "completed"
    },
    "tags": []
   },
   "source": [
    "Now, fit your model."
   ]
  },
  {
   "cell_type": "code",
   "execution_count": 19,
   "id": "1d45110f",
   "metadata": {
    "execution": {
     "iopub.execute_input": "2025-02-15T03:22:55.682468Z",
     "iopub.status.busy": "2025-02-15T03:22:55.682120Z",
     "iopub.status.idle": "2025-02-15T03:23:43.267931Z",
     "shell.execute_reply": "2025-02-15T03:23:43.266598Z"
    },
    "id": "gw_woSKtfsAk",
    "papermill": {
     "duration": 47.623567,
     "end_time": "2025-02-15T03:23:43.287749",
     "exception": false,
     "start_time": "2025-02-15T03:22:55.664182",
     "status": "completed"
    },
    "tags": []
   },
   "outputs": [
    {
     "name": "stdout",
     "output_type": "stream",
     "text": [
      "Fitting 1 folds for each of 32 candidates, totalling 32 fits\n"
     ]
    },
    {
     "data": {
      "text/html": [
       "<style>#sk-container-id-1 {color: black;background-color: white;}#sk-container-id-1 pre{padding: 0;}#sk-container-id-1 div.sk-toggleable {background-color: white;}#sk-container-id-1 label.sk-toggleable__label {cursor: pointer;display: block;width: 100%;margin-bottom: 0;padding: 0.3em;box-sizing: border-box;text-align: center;}#sk-container-id-1 label.sk-toggleable__label-arrow:before {content: \"▸\";float: left;margin-right: 0.25em;color: #696969;}#sk-container-id-1 label.sk-toggleable__label-arrow:hover:before {color: black;}#sk-container-id-1 div.sk-estimator:hover label.sk-toggleable__label-arrow:before {color: black;}#sk-container-id-1 div.sk-toggleable__content {max-height: 0;max-width: 0;overflow: hidden;text-align: left;background-color: #f0f8ff;}#sk-container-id-1 div.sk-toggleable__content pre {margin: 0.2em;color: black;border-radius: 0.25em;background-color: #f0f8ff;}#sk-container-id-1 input.sk-toggleable__control:checked~div.sk-toggleable__content {max-height: 200px;max-width: 100%;overflow: auto;}#sk-container-id-1 input.sk-toggleable__control:checked~label.sk-toggleable__label-arrow:before {content: \"▾\";}#sk-container-id-1 div.sk-estimator input.sk-toggleable__control:checked~label.sk-toggleable__label {background-color: #d4ebff;}#sk-container-id-1 div.sk-label input.sk-toggleable__control:checked~label.sk-toggleable__label {background-color: #d4ebff;}#sk-container-id-1 input.sk-hidden--visually {border: 0;clip: rect(1px 1px 1px 1px);clip: rect(1px, 1px, 1px, 1px);height: 1px;margin: -1px;overflow: hidden;padding: 0;position: absolute;width: 1px;}#sk-container-id-1 div.sk-estimator {font-family: monospace;background-color: #f0f8ff;border: 1px dotted black;border-radius: 0.25em;box-sizing: border-box;margin-bottom: 0.5em;}#sk-container-id-1 div.sk-estimator:hover {background-color: #d4ebff;}#sk-container-id-1 div.sk-parallel-item::after {content: \"\";width: 100%;border-bottom: 1px solid gray;flex-grow: 1;}#sk-container-id-1 div.sk-label:hover label.sk-toggleable__label {background-color: #d4ebff;}#sk-container-id-1 div.sk-serial::before {content: \"\";position: absolute;border-left: 1px solid gray;box-sizing: border-box;top: 0;bottom: 0;left: 50%;z-index: 0;}#sk-container-id-1 div.sk-serial {display: flex;flex-direction: column;align-items: center;background-color: white;padding-right: 0.2em;padding-left: 0.2em;position: relative;}#sk-container-id-1 div.sk-item {position: relative;z-index: 1;}#sk-container-id-1 div.sk-parallel {display: flex;align-items: stretch;justify-content: center;background-color: white;position: relative;}#sk-container-id-1 div.sk-item::before, #sk-container-id-1 div.sk-parallel-item::before {content: \"\";position: absolute;border-left: 1px solid gray;box-sizing: border-box;top: 0;bottom: 0;left: 50%;z-index: -1;}#sk-container-id-1 div.sk-parallel-item {display: flex;flex-direction: column;z-index: 1;position: relative;background-color: white;}#sk-container-id-1 div.sk-parallel-item:first-child::after {align-self: flex-end;width: 50%;}#sk-container-id-1 div.sk-parallel-item:last-child::after {align-self: flex-start;width: 50%;}#sk-container-id-1 div.sk-parallel-item:only-child::after {width: 0;}#sk-container-id-1 div.sk-dashed-wrapped {border: 1px dashed gray;margin: 0 0.4em 0.5em 0.4em;box-sizing: border-box;padding-bottom: 0.4em;background-color: white;}#sk-container-id-1 div.sk-label label {font-family: monospace;font-weight: bold;display: inline-block;line-height: 1.2em;}#sk-container-id-1 div.sk-label-container {text-align: center;}#sk-container-id-1 div.sk-container {/* jupyter's `normalize.less` sets `[hidden] { display: none; }` but bootstrap.min.css set `[hidden] { display: none !important; }` so we also need the `!important` here to be able to override the default hidden behavior on the sphinx rendered scikit-learn.org. See: https://github.com/scikit-learn/scikit-learn/issues/21755 */display: inline-block !important;position: relative;}#sk-container-id-1 div.sk-text-repr-fallback {display: none;}</style><div id=\"sk-container-id-1\" class=\"sk-top-container\"><div class=\"sk-text-repr-fallback\"><pre>GridSearchCV(cv=PredefinedSplit(test_fold=array([-1, -1, ..., -1, -1])),\n",
       "             estimator=RandomForestClassifier(random_state=0), n_jobs=-1,\n",
       "             param_grid={&#x27;max_depth&#x27;: [10, 50], &#x27;max_features&#x27;: [&#x27;sqrt&#x27;],\n",
       "                         &#x27;max_samples&#x27;: [0.5, 0.9],\n",
       "                         &#x27;min_samples_leaf&#x27;: [0.5, 1],\n",
       "                         &#x27;min_samples_split&#x27;: [0.001, 0.01],\n",
       "                         &#x27;n_estimators&#x27;: [50, 100]},\n",
       "             refit=&#x27;f1&#x27;, verbose=1)</pre><b>In a Jupyter environment, please rerun this cell to show the HTML representation or trust the notebook. <br />On GitHub, the HTML representation is unable to render, please try loading this page with nbviewer.org.</b></div><div class=\"sk-container\" hidden><div class=\"sk-item sk-dashed-wrapped\"><div class=\"sk-label-container\"><div class=\"sk-label sk-toggleable\"><input class=\"sk-toggleable__control sk-hidden--visually\" id=\"sk-estimator-id-1\" type=\"checkbox\" ><label for=\"sk-estimator-id-1\" class=\"sk-toggleable__label sk-toggleable__label-arrow\">GridSearchCV</label><div class=\"sk-toggleable__content\"><pre>GridSearchCV(cv=PredefinedSplit(test_fold=array([-1, -1, ..., -1, -1])),\n",
       "             estimator=RandomForestClassifier(random_state=0), n_jobs=-1,\n",
       "             param_grid={&#x27;max_depth&#x27;: [10, 50], &#x27;max_features&#x27;: [&#x27;sqrt&#x27;],\n",
       "                         &#x27;max_samples&#x27;: [0.5, 0.9],\n",
       "                         &#x27;min_samples_leaf&#x27;: [0.5, 1],\n",
       "                         &#x27;min_samples_split&#x27;: [0.001, 0.01],\n",
       "                         &#x27;n_estimators&#x27;: [50, 100]},\n",
       "             refit=&#x27;f1&#x27;, verbose=1)</pre></div></div></div><div class=\"sk-parallel\"><div class=\"sk-parallel-item\"><div class=\"sk-item\"><div class=\"sk-label-container\"><div class=\"sk-label sk-toggleable\"><input class=\"sk-toggleable__control sk-hidden--visually\" id=\"sk-estimator-id-2\" type=\"checkbox\" ><label for=\"sk-estimator-id-2\" class=\"sk-toggleable__label sk-toggleable__label-arrow\">estimator: RandomForestClassifier</label><div class=\"sk-toggleable__content\"><pre>RandomForestClassifier(random_state=0)</pre></div></div></div><div class=\"sk-serial\"><div class=\"sk-item\"><div class=\"sk-estimator sk-toggleable\"><input class=\"sk-toggleable__control sk-hidden--visually\" id=\"sk-estimator-id-3\" type=\"checkbox\" ><label for=\"sk-estimator-id-3\" class=\"sk-toggleable__label sk-toggleable__label-arrow\">RandomForestClassifier</label><div class=\"sk-toggleable__content\"><pre>RandomForestClassifier(random_state=0)</pre></div></div></div></div></div></div></div></div></div></div>"
      ],
      "text/plain": [
       "GridSearchCV(cv=PredefinedSplit(test_fold=array([-1, -1, ..., -1, -1])),\n",
       "             estimator=RandomForestClassifier(random_state=0), n_jobs=-1,\n",
       "             param_grid={'max_depth': [10, 50], 'max_features': ['sqrt'],\n",
       "                         'max_samples': [0.5, 0.9],\n",
       "                         'min_samples_leaf': [0.5, 1],\n",
       "                         'min_samples_split': [0.001, 0.01],\n",
       "                         'n_estimators': [50, 100]},\n",
       "             refit='f1', verbose=1)"
      ]
     },
     "execution_count": 19,
     "metadata": {},
     "output_type": "execute_result"
    }
   ],
   "source": [
    "# Fit the model.\n",
    "\n",
    "### YOUR CODE HERE ###\n",
    "rf_val.fit(X_train, y_train)"
   ]
  },
  {
   "cell_type": "markdown",
   "id": "97977898",
   "metadata": {
    "id": "aUYHWoZsyJs0",
    "papermill": {
     "duration": 0.018348,
     "end_time": "2025-02-15T03:23:43.324261",
     "exception": false,
     "start_time": "2025-02-15T03:23:43.305913",
     "status": "completed"
    },
    "tags": []
   },
   "source": [
    "<details>\n",
    "<summary><h4><strong>Hint 1</strong></h4></summary>\n",
    "\n",
    "Use the `fit()` method to train the GridSearchCV model on `X_train` and `y_train`. \n",
    "\n",
    "</details>"
   ]
  },
  {
   "cell_type": "markdown",
   "id": "34212475",
   "metadata": {
    "papermill": {
     "duration": 0.017568,
     "end_time": "2025-02-15T03:23:43.359880",
     "exception": false,
     "start_time": "2025-02-15T03:23:43.342312",
     "status": "completed"
    },
    "tags": []
   },
   "source": [
    "<details>\n",
    "<summary><h4><strong>Hint 2</strong></h4></summary>\n",
    "\n",
    "Add the magic function `%%time` to keep track of the amount of time it takes to fit the model and display this information once execution has completed. Remember that this code must be the first line in the cell.\n",
    "\n",
    "</details>"
   ]
  },
  {
   "cell_type": "markdown",
   "id": "f3685796",
   "metadata": {
    "papermill": {
     "duration": 0.017948,
     "end_time": "2025-02-15T03:23:43.395635",
     "exception": false,
     "start_time": "2025-02-15T03:23:43.377687",
     "status": "completed"
    },
    "tags": []
   },
   "source": [
    "Finally, obtain the optimal parameters."
   ]
  },
  {
   "cell_type": "code",
   "execution_count": 20,
   "id": "6fbac5da",
   "metadata": {
    "execution": {
     "iopub.execute_input": "2025-02-15T03:23:43.435054Z",
     "iopub.status.busy": "2025-02-15T03:23:43.434682Z",
     "iopub.status.idle": "2025-02-15T03:23:43.440642Z",
     "shell.execute_reply": "2025-02-15T03:23:43.439600Z"
    },
    "id": "c76a0bd9",
    "papermill": {
     "duration": 0.026542,
     "end_time": "2025-02-15T03:23:43.442250",
     "exception": false,
     "start_time": "2025-02-15T03:23:43.415708",
     "status": "completed"
    },
    "tags": []
   },
   "outputs": [
    {
     "data": {
      "text/plain": [
       "{'max_depth': 50,\n",
       " 'max_features': 'sqrt',\n",
       " 'max_samples': 0.9,\n",
       " 'min_samples_leaf': 1,\n",
       " 'min_samples_split': 0.001,\n",
       " 'n_estimators': 50}"
      ]
     },
     "execution_count": 20,
     "metadata": {},
     "output_type": "execute_result"
    }
   ],
   "source": [
    "# Obtain optimal parameters.\n",
    "\n",
    "### YOUR CODE HERE ###\n",
    "rf_val.best_params_"
   ]
  },
  {
   "cell_type": "markdown",
   "id": "ddc897be",
   "metadata": {
    "id": "604a475e",
    "papermill": {
     "duration": 0.01786,
     "end_time": "2025-02-15T03:23:43.478114",
     "exception": false,
     "start_time": "2025-02-15T03:23:43.460254",
     "status": "completed"
    },
    "tags": []
   },
   "source": [
    "<details>\n",
    "<summary><h4><strong>Hint 1</strong></h4></summary>\n",
    "\n",
    "Use the `best_params_` attribute to obtain the optimal values for the hyperparameters from the GridSearchCV model.\n",
    "\n",
    "</details>"
   ]
  },
  {
   "cell_type": "markdown",
   "id": "96279224",
   "metadata": {
    "id": "70fc3ec6-a89a-4b25-a574-29f9d4325694",
    "papermill": {
     "duration": 0.018032,
     "end_time": "2025-02-15T03:23:43.513903",
     "exception": false,
     "start_time": "2025-02-15T03:23:43.495871",
     "status": "completed"
    },
    "tags": []
   },
   "source": [
    "## **Step 4: Results and evaluation** "
   ]
  },
  {
   "cell_type": "markdown",
   "id": "e43a502b",
   "metadata": {
    "id": "zXqywQtvyrS1",
    "papermill": {
     "duration": 0.017607,
     "end_time": "2025-02-15T03:23:43.550452",
     "exception": false,
     "start_time": "2025-02-15T03:23:43.532845",
     "status": "completed"
    },
    "tags": []
   },
   "source": [
    "Use the selected model to predict on your test data. Use the optimal parameters found via GridSearchCV."
   ]
  },
  {
   "cell_type": "code",
   "execution_count": 21,
   "id": "8ba0a6c5",
   "metadata": {
    "execution": {
     "iopub.execute_input": "2025-02-15T03:23:43.588683Z",
     "iopub.status.busy": "2025-02-15T03:23:43.588293Z",
     "iopub.status.idle": "2025-02-15T03:23:43.592805Z",
     "shell.execute_reply": "2025-02-15T03:23:43.591950Z"
    },
    "id": "c6b8aa2d-984f-467a-b52a-e7f21d603a8c",
    "papermill": {
     "duration": 0.02564,
     "end_time": "2025-02-15T03:23:43.594377",
     "exception": false,
     "start_time": "2025-02-15T03:23:43.568737",
     "status": "completed"
    },
    "tags": []
   },
   "outputs": [],
   "source": [
    "# Use optimal parameters on GridSearchCV.\n",
    "\n",
    "### YOUR CODE HERE ###\n",
    "# specifying the optimal hyperparameter values from cross validation don earlier\n",
    "rf_opt = RandomForestClassifier(max_depth= 50, \n",
    "                                max_features= 'sqrt', \n",
    "                                max_samples= 0.9, \n",
    "                                min_samples_leaf= 1, \n",
    "                                min_samples_split= 0.001, \n",
    "                                n_estimators= 50, \n",
    "                                random_state = 0)"
   ]
  },
  {
   "cell_type": "markdown",
   "id": "4efb89c5",
   "metadata": {
    "id": "Tu3sgtdRzmmJ",
    "papermill": {
     "duration": 0.017528,
     "end_time": "2025-02-15T03:23:43.630639",
     "exception": false,
     "start_time": "2025-02-15T03:23:43.613111",
     "status": "completed"
    },
    "tags": []
   },
   "source": [
    "<details>\n",
    "<summary><h4><strong>Hint 1</strong></h4></summary>\n",
    "\n",
    "Use `RandomForestClassifier()`, specifying the `random_state` argument for reproducible results and passing in the optimal hyperparameters found in the previous step. To distinguish this from the previous random forest model, consider naming this variable `rf_opt`.\n",
    "\n",
    "</details>"
   ]
  },
  {
   "cell_type": "markdown",
   "id": "294f8c0b",
   "metadata": {
    "papermill": {
     "duration": 0.017525,
     "end_time": "2025-02-15T03:23:43.665881",
     "exception": false,
     "start_time": "2025-02-15T03:23:43.648356",
     "status": "completed"
    },
    "tags": []
   },
   "source": [
    "Once again, fit the optimal model."
   ]
  },
  {
   "cell_type": "code",
   "execution_count": 22,
   "id": "d11fe4bc",
   "metadata": {
    "execution": {
     "iopub.execute_input": "2025-02-15T03:23:43.702683Z",
     "iopub.status.busy": "2025-02-15T03:23:43.702297Z",
     "iopub.status.idle": "2025-02-15T03:23:49.735420Z",
     "shell.execute_reply": "2025-02-15T03:23:49.734384Z"
    },
    "id": "iJ7MkQ3hjh3u",
    "papermill": {
     "duration": 6.053457,
     "end_time": "2025-02-15T03:23:49.737096",
     "exception": false,
     "start_time": "2025-02-15T03:23:43.683639",
     "status": "completed"
    },
    "tags": []
   },
   "outputs": [
    {
     "data": {
      "text/html": [
       "<style>#sk-container-id-2 {color: black;background-color: white;}#sk-container-id-2 pre{padding: 0;}#sk-container-id-2 div.sk-toggleable {background-color: white;}#sk-container-id-2 label.sk-toggleable__label {cursor: pointer;display: block;width: 100%;margin-bottom: 0;padding: 0.3em;box-sizing: border-box;text-align: center;}#sk-container-id-2 label.sk-toggleable__label-arrow:before {content: \"▸\";float: left;margin-right: 0.25em;color: #696969;}#sk-container-id-2 label.sk-toggleable__label-arrow:hover:before {color: black;}#sk-container-id-2 div.sk-estimator:hover label.sk-toggleable__label-arrow:before {color: black;}#sk-container-id-2 div.sk-toggleable__content {max-height: 0;max-width: 0;overflow: hidden;text-align: left;background-color: #f0f8ff;}#sk-container-id-2 div.sk-toggleable__content pre {margin: 0.2em;color: black;border-radius: 0.25em;background-color: #f0f8ff;}#sk-container-id-2 input.sk-toggleable__control:checked~div.sk-toggleable__content {max-height: 200px;max-width: 100%;overflow: auto;}#sk-container-id-2 input.sk-toggleable__control:checked~label.sk-toggleable__label-arrow:before {content: \"▾\";}#sk-container-id-2 div.sk-estimator input.sk-toggleable__control:checked~label.sk-toggleable__label {background-color: #d4ebff;}#sk-container-id-2 div.sk-label input.sk-toggleable__control:checked~label.sk-toggleable__label {background-color: #d4ebff;}#sk-container-id-2 input.sk-hidden--visually {border: 0;clip: rect(1px 1px 1px 1px);clip: rect(1px, 1px, 1px, 1px);height: 1px;margin: -1px;overflow: hidden;padding: 0;position: absolute;width: 1px;}#sk-container-id-2 div.sk-estimator {font-family: monospace;background-color: #f0f8ff;border: 1px dotted black;border-radius: 0.25em;box-sizing: border-box;margin-bottom: 0.5em;}#sk-container-id-2 div.sk-estimator:hover {background-color: #d4ebff;}#sk-container-id-2 div.sk-parallel-item::after {content: \"\";width: 100%;border-bottom: 1px solid gray;flex-grow: 1;}#sk-container-id-2 div.sk-label:hover label.sk-toggleable__label {background-color: #d4ebff;}#sk-container-id-2 div.sk-serial::before {content: \"\";position: absolute;border-left: 1px solid gray;box-sizing: border-box;top: 0;bottom: 0;left: 50%;z-index: 0;}#sk-container-id-2 div.sk-serial {display: flex;flex-direction: column;align-items: center;background-color: white;padding-right: 0.2em;padding-left: 0.2em;position: relative;}#sk-container-id-2 div.sk-item {position: relative;z-index: 1;}#sk-container-id-2 div.sk-parallel {display: flex;align-items: stretch;justify-content: center;background-color: white;position: relative;}#sk-container-id-2 div.sk-item::before, #sk-container-id-2 div.sk-parallel-item::before {content: \"\";position: absolute;border-left: 1px solid gray;box-sizing: border-box;top: 0;bottom: 0;left: 50%;z-index: -1;}#sk-container-id-2 div.sk-parallel-item {display: flex;flex-direction: column;z-index: 1;position: relative;background-color: white;}#sk-container-id-2 div.sk-parallel-item:first-child::after {align-self: flex-end;width: 50%;}#sk-container-id-2 div.sk-parallel-item:last-child::after {align-self: flex-start;width: 50%;}#sk-container-id-2 div.sk-parallel-item:only-child::after {width: 0;}#sk-container-id-2 div.sk-dashed-wrapped {border: 1px dashed gray;margin: 0 0.4em 0.5em 0.4em;box-sizing: border-box;padding-bottom: 0.4em;background-color: white;}#sk-container-id-2 div.sk-label label {font-family: monospace;font-weight: bold;display: inline-block;line-height: 1.2em;}#sk-container-id-2 div.sk-label-container {text-align: center;}#sk-container-id-2 div.sk-container {/* jupyter's `normalize.less` sets `[hidden] { display: none; }` but bootstrap.min.css set `[hidden] { display: none !important; }` so we also need the `!important` here to be able to override the default hidden behavior on the sphinx rendered scikit-learn.org. See: https://github.com/scikit-learn/scikit-learn/issues/21755 */display: inline-block !important;position: relative;}#sk-container-id-2 div.sk-text-repr-fallback {display: none;}</style><div id=\"sk-container-id-2\" class=\"sk-top-container\"><div class=\"sk-text-repr-fallback\"><pre>RandomForestClassifier(max_depth=50, max_samples=0.9, min_samples_split=0.001,\n",
       "                       n_estimators=50, random_state=0)</pre><b>In a Jupyter environment, please rerun this cell to show the HTML representation or trust the notebook. <br />On GitHub, the HTML representation is unable to render, please try loading this page with nbviewer.org.</b></div><div class=\"sk-container\" hidden><div class=\"sk-item\"><div class=\"sk-estimator sk-toggleable\"><input class=\"sk-toggleable__control sk-hidden--visually\" id=\"sk-estimator-id-4\" type=\"checkbox\" checked><label for=\"sk-estimator-id-4\" class=\"sk-toggleable__label sk-toggleable__label-arrow\">RandomForestClassifier</label><div class=\"sk-toggleable__content\"><pre>RandomForestClassifier(max_depth=50, max_samples=0.9, min_samples_split=0.001,\n",
       "                       n_estimators=50, random_state=0)</pre></div></div></div></div></div>"
      ],
      "text/plain": [
       "RandomForestClassifier(max_depth=50, max_samples=0.9, min_samples_split=0.001,\n",
       "                       n_estimators=50, random_state=0)"
      ]
     },
     "execution_count": 22,
     "metadata": {},
     "output_type": "execute_result"
    }
   ],
   "source": [
    "# Fit the optimal model.\n",
    "\n",
    "### YOUR CODE HERE ###\n",
    "rf_opt.fit(X_train, y_train)"
   ]
  },
  {
   "cell_type": "markdown",
   "id": "38aac0d2",
   "metadata": {
    "id": "SAKs_7Ms0HAO",
    "papermill": {
     "duration": 0.017746,
     "end_time": "2025-02-15T03:23:49.773049",
     "exception": false,
     "start_time": "2025-02-15T03:23:49.755303",
     "status": "completed"
    },
    "tags": []
   },
   "source": [
    "<details>\n",
    "<summary><h4><strong>Hint 1</strong></h4></summary>\n",
    "\n",
    "Use the `fit()` method to train `rf_opt` on `X_train` and `y_train`.\n",
    "\n",
    "</details>"
   ]
  },
  {
   "cell_type": "markdown",
   "id": "c2a50169",
   "metadata": {
    "papermill": {
     "duration": 0.018285,
     "end_time": "2025-02-15T03:23:49.810033",
     "exception": false,
     "start_time": "2025-02-15T03:23:49.791748",
     "status": "completed"
    },
    "tags": []
   },
   "source": [
    "And predict on the test set using the optimal model."
   ]
  },
  {
   "cell_type": "code",
   "execution_count": 23,
   "id": "2d9d8f55",
   "metadata": {
    "execution": {
     "iopub.execute_input": "2025-02-15T03:23:49.847258Z",
     "iopub.status.busy": "2025-02-15T03:23:49.846907Z",
     "iopub.status.idle": "2025-02-15T03:23:50.108427Z",
     "shell.execute_reply": "2025-02-15T03:23:50.107447Z"
    },
    "id": "2cc40ec1-5fa4-4803-9021-abea9699a804",
    "papermill": {
     "duration": 0.282651,
     "end_time": "2025-02-15T03:23:50.110446",
     "exception": false,
     "start_time": "2025-02-15T03:23:49.827795",
     "status": "completed"
    },
    "tags": []
   },
   "outputs": [],
   "source": [
    "# Predict on test set.\n",
    "\n",
    "### YOUR CODE HERE ###\n",
    "y_pred = rf_opt.predict(X_test)"
   ]
  },
  {
   "cell_type": "markdown",
   "id": "02fb4852",
   "metadata": {
    "id": "4df36d33",
    "papermill": {
     "duration": 0.017865,
     "end_time": "2025-02-15T03:23:50.146686",
     "exception": false,
     "start_time": "2025-02-15T03:23:50.128821",
     "status": "completed"
    },
    "tags": []
   },
   "source": [
    "<details>\n",
    "<summary><h4><strong>Hint 1</strong></h4></summary>\n",
    "\n",
    "You can call the `predict()` function to make predictions on `X_test` using `rf_opt`. Save the predictions now (for example, as `y_pred`), to use them later for comparing to the true labels. \n",
    "\n",
    "</details>"
   ]
  },
  {
   "cell_type": "markdown",
   "id": "db908360",
   "metadata": {
    "id": "153a8200",
    "papermill": {
     "duration": 0.01762,
     "end_time": "2025-02-15T03:23:50.182014",
     "exception": false,
     "start_time": "2025-02-15T03:23:50.164394",
     "status": "completed"
    },
    "tags": []
   },
   "source": [
    "### Obtain performance scores"
   ]
  },
  {
   "cell_type": "markdown",
   "id": "be26d6af",
   "metadata": {
    "id": "cea208e9",
    "papermill": {
     "duration": 0.017751,
     "end_time": "2025-02-15T03:23:50.217469",
     "exception": false,
     "start_time": "2025-02-15T03:23:50.199718",
     "status": "completed"
    },
    "tags": []
   },
   "source": [
    "First, get your precision score."
   ]
  },
  {
   "cell_type": "code",
   "execution_count": 24,
   "id": "8160bfa7",
   "metadata": {
    "execution": {
     "iopub.execute_input": "2025-02-15T03:23:50.254802Z",
     "iopub.status.busy": "2025-02-15T03:23:50.254411Z",
     "iopub.status.idle": "2025-02-15T03:23:50.593007Z",
     "shell.execute_reply": "2025-02-15T03:23:50.591889Z"
    },
    "id": "6913aa4b",
    "papermill": {
     "duration": 0.359368,
     "end_time": "2025-02-15T03:23:50.594901",
     "exception": false,
     "start_time": "2025-02-15T03:23:50.235533",
     "status": "completed"
    },
    "tags": []
   },
   "outputs": [
    {
     "name": "stdout",
     "output_type": "stream",
     "text": [
      "The precision score is 0.950\n"
     ]
    }
   ],
   "source": [
    "# Get precision score.\n",
    "\n",
    "### YOUR CODE HERE ###\n",
    "pc_test = precision_score(y_test, y_pred, pos_label = \"satisfied\")\n",
    "print(\"The precision score is {pc:.3f}\".format(pc = pc_test))"
   ]
  },
  {
   "cell_type": "markdown",
   "id": "243af5e0",
   "metadata": {
    "id": "XVtVtsLV0ddI",
    "papermill": {
     "duration": 0.018406,
     "end_time": "2025-02-15T03:23:50.631732",
     "exception": false,
     "start_time": "2025-02-15T03:23:50.613326",
     "status": "completed"
    },
    "tags": []
   },
   "source": [
    "<details>\n",
    "<summary><h4><strong>Hint 1</strong></h4></summary>\n",
    "\n",
    "You can call the `precision_score()` function from `sklearn.metrics`, passing in `y_test` and `y_pred` and specifying the `pos_label` argument as `\"satisfied\"`.\n",
    "</details>"
   ]
  },
  {
   "cell_type": "markdown",
   "id": "099aa72a",
   "metadata": {
    "id": "66dda49b",
    "papermill": {
     "duration": 0.017749,
     "end_time": "2025-02-15T03:23:50.667547",
     "exception": false,
     "start_time": "2025-02-15T03:23:50.649798",
     "status": "completed"
    },
    "tags": []
   },
   "source": [
    "Then, collect the recall score."
   ]
  },
  {
   "cell_type": "code",
   "execution_count": 25,
   "id": "c777a954",
   "metadata": {
    "execution": {
     "iopub.execute_input": "2025-02-15T03:23:50.704650Z",
     "iopub.status.busy": "2025-02-15T03:23:50.704247Z",
     "iopub.status.idle": "2025-02-15T03:23:51.047263Z",
     "shell.execute_reply": "2025-02-15T03:23:51.046126Z"
    },
    "id": "dd971df6",
    "papermill": {
     "duration": 0.363481,
     "end_time": "2025-02-15T03:23:51.048877",
     "exception": false,
     "start_time": "2025-02-15T03:23:50.685396",
     "status": "completed"
    },
    "tags": []
   },
   "outputs": [
    {
     "name": "stdout",
     "output_type": "stream",
     "text": [
      "The recall score is 0.945\n"
     ]
    }
   ],
   "source": [
    "# Get recall score.\n",
    "\n",
    "### YOUR CODE HERE ###\n",
    "rc_test = recall_score(y_test, y_pred, pos_label = \"satisfied\")\n",
    "print(\"The recall score is {rc:.3f}\".format(rc = rc_test))"
   ]
  },
  {
   "cell_type": "markdown",
   "id": "1216b9a5",
   "metadata": {
    "id": "5XUaS34s1yH_",
    "papermill": {
     "duration": 0.017596,
     "end_time": "2025-02-15T03:23:51.084720",
     "exception": false,
     "start_time": "2025-02-15T03:23:51.067124",
     "status": "completed"
    },
    "tags": []
   },
   "source": [
    "<details>\n",
    "<summary><h4><strong>Hint 1</strong></h4></summary>\n",
    "\n",
    "You can call the `recall_score()` function from `sklearn.metrics`, passing in `y_test` and `y_pred` and specifying the `pos_label` argument as `\"satisfied\"`.\n",
    "</details>"
   ]
  },
  {
   "cell_type": "markdown",
   "id": "f35c652a",
   "metadata": {
    "id": "ea594a68",
    "papermill": {
     "duration": 0.017945,
     "end_time": "2025-02-15T03:23:51.122144",
     "exception": false,
     "start_time": "2025-02-15T03:23:51.104199",
     "status": "completed"
    },
    "tags": []
   },
   "source": [
    "Next, obtain your accuracy score."
   ]
  },
  {
   "cell_type": "code",
   "execution_count": 26,
   "id": "127a0a6b",
   "metadata": {
    "execution": {
     "iopub.execute_input": "2025-02-15T03:23:51.159321Z",
     "iopub.status.busy": "2025-02-15T03:23:51.158985Z",
     "iopub.status.idle": "2025-02-15T03:23:51.244886Z",
     "shell.execute_reply": "2025-02-15T03:23:51.243622Z"
    },
    "id": "011b8b71",
    "papermill": {
     "duration": 0.106544,
     "end_time": "2025-02-15T03:23:51.246692",
     "exception": false,
     "start_time": "2025-02-15T03:23:51.140148",
     "status": "completed"
    },
    "tags": []
   },
   "outputs": [
    {
     "name": "stdout",
     "output_type": "stream",
     "text": [
      "The accuracy score is 0.942\n"
     ]
    }
   ],
   "source": [
    "# Get accuracy score.\n",
    "\n",
    "### YOUR CODE HERE ###\n",
    "ac_test = accuracy_score(y_test, y_pred)\n",
    "print(\"The accuracy score is {ac:.3f}\".format(ac = ac_test))"
   ]
  },
  {
   "cell_type": "markdown",
   "id": "2e6e48aa",
   "metadata": {
    "id": "QProyXMS10zG",
    "papermill": {
     "duration": 0.018236,
     "end_time": "2025-02-15T03:23:51.283992",
     "exception": false,
     "start_time": "2025-02-15T03:23:51.265756",
     "status": "completed"
    },
    "tags": []
   },
   "source": [
    "<details>\n",
    "<summary><h4><strong>Hint 1</strong></h4></summary>\n",
    "\n",
    "You can call the `accuracy_score()` function from `sklearn.metrics`, passing in `y_test` and `y_pred` and specifying the `pos_label` argument as `\"satisfied\"`.\n",
    "</details>"
   ]
  },
  {
   "cell_type": "markdown",
   "id": "e009d2a7",
   "metadata": {
    "id": "871ea5cb",
    "papermill": {
     "duration": 0.017783,
     "end_time": "2025-02-15T03:23:51.319978",
     "exception": false,
     "start_time": "2025-02-15T03:23:51.302195",
     "status": "completed"
    },
    "tags": []
   },
   "source": [
    "Finally, collect your F1-score."
   ]
  },
  {
   "cell_type": "code",
   "execution_count": 27,
   "id": "efe654ec",
   "metadata": {
    "execution": {
     "iopub.execute_input": "2025-02-15T03:23:51.358676Z",
     "iopub.status.busy": "2025-02-15T03:23:51.358282Z",
     "iopub.status.idle": "2025-02-15T03:23:51.706098Z",
     "shell.execute_reply": "2025-02-15T03:23:51.704348Z"
    },
    "id": "490fcb3e",
    "papermill": {
     "duration": 0.369589,
     "end_time": "2025-02-15T03:23:51.708019",
     "exception": false,
     "start_time": "2025-02-15T03:23:51.338430",
     "status": "completed"
    },
    "tags": []
   },
   "outputs": [
    {
     "name": "stdout",
     "output_type": "stream",
     "text": [
      "The F1 score is 0.947\n"
     ]
    }
   ],
   "source": [
    "# Get F1 score.\n",
    "\n",
    "### YOUR CODE HERE ###\n",
    "f1_test = f1_score(y_test, y_pred, pos_label = \"satisfied\")\n",
    "print(\"The F1 score is {f1:.3f}\".format(f1 = f1_test))"
   ]
  },
  {
   "cell_type": "markdown",
   "id": "f997d604",
   "metadata": {
    "id": "vtBQWSVs13dT",
    "papermill": {
     "duration": 0.018405,
     "end_time": "2025-02-15T03:23:51.745623",
     "exception": false,
     "start_time": "2025-02-15T03:23:51.727218",
     "status": "completed"
    },
    "tags": []
   },
   "source": [
    "<details>\n",
    "<summary><h4><strong>Hint 1</strong></h4></summary>\n",
    "\n",
    "You can call the `f1_score()` function from `sklearn.metrics`, passing in `y_test` and `y_pred` and specifying the `pos_label` argument as `\"satisfied\"`.\n",
    "</details>"
   ]
  },
  {
   "cell_type": "markdown",
   "id": "95d52783",
   "metadata": {
    "id": "1edc4c95-1cf4-4e05-b2a2-dc18cadb3d63",
    "papermill": {
     "duration": 0.019158,
     "end_time": "2025-02-15T03:23:51.784337",
     "exception": false,
     "start_time": "2025-02-15T03:23:51.765179",
     "status": "completed"
    },
    "tags": []
   },
   "source": [
    "**Question:** How is the F1-score calculated?\n",
    "\n",
    "* F-1 score =  (2* precision* recall) / (precision+recall)"
   ]
  },
  {
   "cell_type": "markdown",
   "id": "996d1015",
   "metadata": {
    "id": "cfkbwjlvcX3k",
    "papermill": {
     "duration": 0.017921,
     "end_time": "2025-02-15T03:23:51.821530",
     "exception": false,
     "start_time": "2025-02-15T03:23:51.803609",
     "status": "completed"
    },
    "tags": []
   },
   "source": [
    "**Question:** What are the pros and cons of performing the model selection using test data instead of a separate validation dataset?\n",
    "\n",
    "PROS:  \n",
    "* low computing power needed\n",
    "* evaluation done only once\n",
    "  \n",
    "CONS:  \n",
    "* since test data is the solely used set for evaluation, the evaluation metrics may be misleading for unseen data in production\n",
    "* overfitting is possible"
   ]
  },
  {
   "cell_type": "markdown",
   "id": "0f46c086",
   "metadata": {
    "id": "510b2158-2813-4600-868e-a909595a2366",
    "papermill": {
     "duration": 0.017923,
     "end_time": "2025-02-15T03:23:51.858068",
     "exception": false,
     "start_time": "2025-02-15T03:23:51.840145",
     "status": "completed"
    },
    "tags": []
   },
   "source": [
    "### Evaluate the model\n",
    "\n",
    "Now that you have results, evaluate the model. "
   ]
  },
  {
   "cell_type": "markdown",
   "id": "b3b229df",
   "metadata": {
    "id": "57771b26",
    "papermill": {
     "duration": 0.018645,
     "end_time": "2025-02-15T03:23:51.896399",
     "exception": false,
     "start_time": "2025-02-15T03:23:51.877754",
     "status": "completed"
    },
    "tags": []
   },
   "source": [
    "**Question:** What are the four basic parameters for evaluating the performance of a classification model?\n",
    "\n",
    "* True positives, True negatives, False positives, False negatives"
   ]
  },
  {
   "cell_type": "markdown",
   "id": "a0477a39",
   "metadata": {
    "id": "LojJPkIrjNbJ",
    "papermill": {
     "duration": 0.020129,
     "end_time": "2025-02-15T03:23:51.936013",
     "exception": false,
     "start_time": "2025-02-15T03:23:51.915884",
     "status": "completed"
    },
    "tags": []
   },
   "source": [
    "**Question:**  What do the four scores demonstrate about your model, and how do you calculate them?\n",
    "\n",
    "* accuracy = (TP+TN)/(TP+TN+FP+FN) --> proportion of correctly classified observation to all observations\n",
    "* precision = (TP)/(TP+FP) --> proportion of correct observations for a specific class to every observations that are predicted as that class\n",
    "* recall = (TP)/(TP+FN) --> proportion of correct observations for a specific class to every observations that are actually that specific class\n",
    "* f1 score = (2* precision* recall)/(precision+recall) --> Harmonic mean of precision and recall, that gives more weightage to the lower metric"
   ]
  },
  {
   "cell_type": "markdown",
   "id": "d0da9a90",
   "metadata": {
    "papermill": {
     "duration": 0.018256,
     "end_time": "2025-02-15T03:23:51.972824",
     "exception": false,
     "start_time": "2025-02-15T03:23:51.954568",
     "status": "completed"
    },
    "tags": []
   },
   "source": [
    "Calculate the scores: precision score, recall score, accuracy score, F1 score."
   ]
  },
  {
   "cell_type": "code",
   "execution_count": 28,
   "id": "8212438b",
   "metadata": {
    "execution": {
     "iopub.execute_input": "2025-02-15T03:23:52.011977Z",
     "iopub.status.busy": "2025-02-15T03:23:52.011588Z",
     "iopub.status.idle": "2025-02-15T03:23:52.016736Z",
     "shell.execute_reply": "2025-02-15T03:23:52.015553Z"
    },
    "id": "RUT99rnqOds3",
    "papermill": {
     "duration": 0.026922,
     "end_time": "2025-02-15T03:23:52.018521",
     "exception": false,
     "start_time": "2025-02-15T03:23:51.991599",
     "status": "completed"
    },
    "tags": []
   },
   "outputs": [
    {
     "name": "stdout",
     "output_type": "stream",
     "text": [
      "The precision score is 0.950\n"
     ]
    }
   ],
   "source": [
    "# Precision score on test data set.\n",
    "\n",
    "### YOUR CODE HERE ###\n",
    "print(\"The precision score is {pc:.3f}\".format(pc = pc_test))"
   ]
  },
  {
   "cell_type": "code",
   "execution_count": 29,
   "id": "860d6c8a",
   "metadata": {
    "execution": {
     "iopub.execute_input": "2025-02-15T03:23:52.057738Z",
     "iopub.status.busy": "2025-02-15T03:23:52.057353Z",
     "iopub.status.idle": "2025-02-15T03:23:52.062521Z",
     "shell.execute_reply": "2025-02-15T03:23:52.061258Z"
    },
    "id": "GTiaHUVvTiUN",
    "papermill": {
     "duration": 0.026577,
     "end_time": "2025-02-15T03:23:52.064261",
     "exception": false,
     "start_time": "2025-02-15T03:23:52.037684",
     "status": "completed"
    },
    "tags": []
   },
   "outputs": [
    {
     "name": "stdout",
     "output_type": "stream",
     "text": [
      "The recall score is 0.945\n"
     ]
    }
   ],
   "source": [
    "# Recall score on test data set.\n",
    "\n",
    "### YOUR CODE HERE ###\n",
    "print(\"The recall score is {rc:.3f}\".format(rc = rc_test))"
   ]
  },
  {
   "cell_type": "code",
   "execution_count": 30,
   "id": "d6318bd9",
   "metadata": {
    "execution": {
     "iopub.execute_input": "2025-02-15T03:23:52.105351Z",
     "iopub.status.busy": "2025-02-15T03:23:52.104990Z",
     "iopub.status.idle": "2025-02-15T03:23:52.110615Z",
     "shell.execute_reply": "2025-02-15T03:23:52.109301Z"
    },
    "id": "VrYHruUdV1Os",
    "papermill": {
     "duration": 0.028797,
     "end_time": "2025-02-15T03:23:52.112247",
     "exception": false,
     "start_time": "2025-02-15T03:23:52.083450",
     "status": "completed"
    },
    "tags": []
   },
   "outputs": [
    {
     "name": "stdout",
     "output_type": "stream",
     "text": [
      "The accuracy score is 0.942\n"
     ]
    }
   ],
   "source": [
    "# Accuracy score on test data set.\n",
    "\n",
    "### YOUR CODE HERE ###\n",
    "print(\"The accuracy score is {ac:.3f}\".format(ac = ac_test))"
   ]
  },
  {
   "cell_type": "code",
   "execution_count": 31,
   "id": "97ac3f7f",
   "metadata": {
    "execution": {
     "iopub.execute_input": "2025-02-15T03:23:52.151186Z",
     "iopub.status.busy": "2025-02-15T03:23:52.150780Z",
     "iopub.status.idle": "2025-02-15T03:23:52.156123Z",
     "shell.execute_reply": "2025-02-15T03:23:52.155014Z"
    },
    "id": "pKGc64U2YbL1",
    "papermill": {
     "duration": 0.026537,
     "end_time": "2025-02-15T03:23:52.157668",
     "exception": false,
     "start_time": "2025-02-15T03:23:52.131131",
     "status": "completed"
    },
    "tags": []
   },
   "outputs": [
    {
     "name": "stdout",
     "output_type": "stream",
     "text": [
      "The F1 score is 0.947\n"
     ]
    }
   ],
   "source": [
    "# F1 score on test data set.\n",
    "\n",
    "### YOUR CODE HERE ###\n",
    "print(\"The F1 score is {f1:.3f}\".format(f1 = f1_test))"
   ]
  },
  {
   "cell_type": "markdown",
   "id": "89b909b7",
   "metadata": {
    "papermill": {
     "duration": 0.018579,
     "end_time": "2025-02-15T03:23:52.194764",
     "exception": false,
     "start_time": "2025-02-15T03:23:52.176185",
     "status": "completed"
    },
    "tags": []
   },
   "source": [
    "**Question:** How does this model perform based on the four scores?\n",
    "\n",
    "* good performance metrics across all 4 scores"
   ]
  },
  {
   "cell_type": "markdown",
   "id": "da2c7d3a",
   "metadata": {
    "id": "PaKUSbqDW28K",
    "papermill": {
     "duration": 0.01907,
     "end_time": "2025-02-15T03:23:52.232455",
     "exception": false,
     "start_time": "2025-02-15T03:23:52.213385",
     "status": "completed"
    },
    "tags": []
   },
   "source": [
    "### Evaluate the model\n",
    "\n",
    "Finally, create a table of results that you can use to evaluate the performace of your model."
   ]
  },
  {
   "cell_type": "code",
   "execution_count": 32,
   "id": "8248a039",
   "metadata": {
    "execution": {
     "iopub.execute_input": "2025-02-15T03:23:52.270623Z",
     "iopub.status.busy": "2025-02-15T03:23:52.270187Z",
     "iopub.status.idle": "2025-02-15T03:23:52.282368Z",
     "shell.execute_reply": "2025-02-15T03:23:52.281392Z"
    },
    "id": "6L7AgdeldsKZ",
    "papermill": {
     "duration": 0.033027,
     "end_time": "2025-02-15T03:23:52.283991",
     "exception": false,
     "start_time": "2025-02-15T03:23:52.250964",
     "status": "completed"
    },
    "tags": []
   },
   "outputs": [
    {
     "data": {
      "text/html": [
       "<div>\n",
       "<style scoped>\n",
       "    .dataframe tbody tr th:only-of-type {\n",
       "        vertical-align: middle;\n",
       "    }\n",
       "\n",
       "    .dataframe tbody tr th {\n",
       "        vertical-align: top;\n",
       "    }\n",
       "\n",
       "    .dataframe thead th {\n",
       "        text-align: right;\n",
       "    }\n",
       "</style>\n",
       "<table border=\"1\" class=\"dataframe\">\n",
       "  <thead>\n",
       "    <tr style=\"text-align: right;\">\n",
       "      <th></th>\n",
       "      <th>Model</th>\n",
       "      <th>F1</th>\n",
       "      <th>Recall</th>\n",
       "      <th>Precision</th>\n",
       "      <th>Accuracy</th>\n",
       "    </tr>\n",
       "  </thead>\n",
       "  <tbody>\n",
       "    <tr>\n",
       "      <th>0</th>\n",
       "      <td>Tuned Decision Tree</td>\n",
       "      <td>0.945422</td>\n",
       "      <td>0.935863</td>\n",
       "      <td>0.955197</td>\n",
       "      <td>0.940864</td>\n",
       "    </tr>\n",
       "    <tr>\n",
       "      <th>1</th>\n",
       "      <td>Tuned Random Forest</td>\n",
       "      <td>0.947306</td>\n",
       "      <td>0.944501</td>\n",
       "      <td>0.950128</td>\n",
       "      <td>0.942450</td>\n",
       "    </tr>\n",
       "  </tbody>\n",
       "</table>\n",
       "</div>"
      ],
      "text/plain": [
       "                 Model        F1    Recall  Precision  Accuracy\n",
       "0  Tuned Decision Tree  0.945422  0.935863   0.955197  0.940864\n",
       "1  Tuned Random Forest  0.947306  0.944501   0.950128  0.942450"
      ]
     },
     "execution_count": 32,
     "metadata": {},
     "output_type": "execute_result"
    }
   ],
   "source": [
    "# Create table of results.\n",
    "\n",
    "### YOUR CODE HERE ###\n",
    "table = pd.DataFrame({'Model': [\"Tuned Decision Tree\", \"Tuned Random Forest\"],\n",
    "                        'F1':  [0.945422, f1_test],\n",
    "                        'Recall': [0.935863, rc_test],\n",
    "                        'Precision': [0.955197, pc_test],\n",
    "                        'Accuracy': [0.940864, ac_test]\n",
    "                      }\n",
    "                    )\n",
    "table"
   ]
  },
  {
   "cell_type": "markdown",
   "id": "2e5da168",
   "metadata": {
    "id": "qqu9L0ip328H",
    "papermill": {
     "duration": 0.019383,
     "end_time": "2025-02-15T03:23:52.322794",
     "exception": false,
     "start_time": "2025-02-15T03:23:52.303411",
     "status": "completed"
    },
    "tags": []
   },
   "source": [
    "\n",
    "<details>\n",
    "<summary><h4><strong>Hint 1</strong></h4></summary>\n",
    "\n",
    "Build a table to compare the performance of the models. Create a DataFrame using the `pd.DataFrame()` function.\n",
    "\n",
    "</details>"
   ]
  },
  {
   "cell_type": "markdown",
   "id": "8c2e194f",
   "metadata": {
    "id": "trUO9XEHbXG6",
    "papermill": {
     "duration": 0.018359,
     "end_time": "2025-02-15T03:23:52.359822",
     "exception": false,
     "start_time": "2025-02-15T03:23:52.341463",
     "status": "completed"
    },
    "tags": []
   },
   "source": [
    "**Question:** How does the random forest model compare to the decision tree model you built in the previous lab?\n",
    "\n",
    "* the tuned random forest performs slightly better than the tuned decision tree model\n",
    "\n"
   ]
  },
  {
   "cell_type": "markdown",
   "id": "829375d2",
   "metadata": {
    "id": "okMTunOhpotF",
    "papermill": {
     "duration": 0.018547,
     "end_time": "2025-02-15T03:23:52.397312",
     "exception": false,
     "start_time": "2025-02-15T03:23:52.378765",
     "status": "completed"
    },
    "tags": []
   },
   "source": [
    "## **Considerations**\n",
    "\n",
    "\n",
    "**What are the key takeaways from this lab? Consider important steps when building a model, most effective approaches and tools, and overall results.**\n",
    "\n",
    "* ensembles perform better without overfitting when its hyperparameters are finetuned than a non-ensemble model whih has similar underlying base model\n",
    "* use crossvalidation, validation sets and test sets to better evaluate model results\n",
    "* f-1 scores are a better metric than individually observing recall and precision scores. Even if one among recall or precision needs to be given higher weightage F-beta scoring can be used\n",
    "\n",
    "\n",
    "**What summary would you provide to stakeholders?**\n",
    "\n",
    "* if there are enough computational resources available and even the slightest increase in the performance metrics is crucial for the use case, the tuned random forest classifier is the better candidate\n",
    "* the tuned random forest classifier also yielded the following metrics:\n",
    "* accuracy = approx. 95%\n",
    "* precision = approx. 94.5%\n",
    "* recall = approx. 94.2%\n",
    "* f1 score = approx. 94.7%"
   ]
  },
  {
   "cell_type": "markdown",
   "id": "91c9d24b",
   "metadata": {
    "id": "eb58bfc4",
    "papermill": {
     "duration": 0.019072,
     "end_time": "2025-02-15T03:23:52.435260",
     "exception": false,
     "start_time": "2025-02-15T03:23:52.416188",
     "status": "completed"
    },
    "tags": []
   },
   "source": [
    "### References"
   ]
  },
  {
   "cell_type": "markdown",
   "id": "c2230ec2",
   "metadata": {
    "id": "3c2abcc0",
    "papermill": {
     "duration": 0.019237,
     "end_time": "2025-02-15T03:23:52.474443",
     "exception": false,
     "start_time": "2025-02-15T03:23:52.455206",
     "status": "completed"
    },
    "tags": []
   },
   "source": [
    "[What is the Difference Between Test and Validation Datasets?,  Jason Brownlee](https://machinelearningmastery.com/difference-test-validation-datasets/)\n",
    "\n",
    "[Decision Trees and Random Forests Neil Liberman](https://towardsdatascience.com/decision-trees-and-random-forests-df0c3123f991)"
   ]
  },
  {
   "cell_type": "markdown",
   "id": "319b8b2c",
   "metadata": {
    "papermill": {
     "duration": 0.020665,
     "end_time": "2025-02-15T03:23:52.516107",
     "exception": false,
     "start_time": "2025-02-15T03:23:52.495442",
     "status": "completed"
    },
    "tags": []
   },
   "source": [
    "**Congratulations!** You've completed this lab. However, you may not notice a green check mark next to this item on Coursera's platform. Please continue your progress regardless of the check mark. Just click on the \"save\" icon at the top of this notebook to ensure your work has been logged"
   ]
  }
 ],
 "metadata": {
  "colab": {
   "collapsed_sections": [],
   "provenance": [
    {
     "file_id": "1ajeXfekjHYYlATQqDdzWb2bjoSQPy9e5",
     "timestamp": 1661470003810
    },
    {
     "file_id": "1sKzoVdsFNq2nBg0uus6LyTzuD2Ktou4t",
     "timestamp": 1661452831142
    }
   ]
  },
  "gpuClass": "standard",
  "kaggle": {
   "accelerator": "none",
   "dataSources": [
    {
     "datasetId": 6657876,
     "sourceId": 10753678,
     "sourceType": "datasetVersion"
    }
   ],
   "dockerImageVersionId": 30886,
   "isGpuEnabled": false,
   "isInternetEnabled": true,
   "language": "python",
   "sourceType": "notebook"
  },
  "kernelspec": {
   "display_name": "Python 3",
   "language": "python",
   "name": "python3"
  },
  "language_info": {
   "codemirror_mode": {
    "name": "ipython",
    "version": 3
   },
   "file_extension": ".py",
   "mimetype": "text/x-python",
   "name": "python",
   "nbconvert_exporter": "python",
   "pygments_lexer": "ipython3",
   "version": "3.10.12"
  },
  "papermill": {
   "default_parameters": {},
   "duration": 67.086551,
   "end_time": "2025-02-15T03:23:53.357552",
   "environment_variables": {},
   "exception": null,
   "input_path": "__notebook__.ipynb",
   "output_path": "__notebook__.ipynb",
   "parameters": {},
   "start_time": "2025-02-15T03:22:46.271001",
   "version": "2.6.0"
  }
 },
 "nbformat": 4,
 "nbformat_minor": 5
}

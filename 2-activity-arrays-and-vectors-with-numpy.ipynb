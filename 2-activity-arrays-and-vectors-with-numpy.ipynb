{
 "cells": [
  {
   "cell_type": "markdown",
   "id": "bb5015a9",
   "metadata": {
    "id": "1BwuLdPviXFX",
    "papermill": {
     "duration": 0.006256,
     "end_time": "2025-02-04T04:34:48.309783",
     "exception": false,
     "start_time": "2025-02-04T04:34:48.303527",
     "status": "completed"
    },
    "tags": []
   },
   "source": [
    "<h1>Activity: Vectors and arrays with NumPy</h1>"
   ]
  },
  {
   "cell_type": "code",
   "execution_count": 1,
   "id": "ddf785ad",
   "metadata": {
    "execution": {
     "iopub.execute_input": "2025-02-04T04:34:48.322459Z",
     "iopub.status.busy": "2025-02-04T04:34:48.322074Z",
     "iopub.status.idle": "2025-02-04T04:34:49.210664Z",
     "shell.execute_reply": "2025-02-04T04:34:49.209363Z"
    },
    "papermill": {
     "duration": 0.897446,
     "end_time": "2025-02-04T04:34:49.213026",
     "exception": false,
     "start_time": "2025-02-04T04:34:48.315580",
     "status": "completed"
    },
    "tags": []
   },
   "outputs": [],
   "source": [
    "import string\n",
    "import random\n",
    "import numpy as np\n",
    "import pandas as pd\n",
    "\n",
    "# LAB-107, LAB-108\n",
    "def fetch_epa(key):  \n",
    "    '''\n",
    "    Imports EPA data from adacert github and creates a dictionary with three keys:\n",
    "        state: a list of the states\n",
    "        county: a list of the counties\n",
    "        aqi: a list of the aqi\n",
    "    \n",
    "    Returns the values at a given key.\n",
    "    '''\n",
    "    epa = pd.read_csv('https://raw.githubusercontent.com/adacert/EPA/main/c2_epa_air_quality.csv')\n",
    "    state = epa['state_name'].to_list()\n",
    "    county = epa['county_name'].to_list()\n",
    "    aqi = epa['aqi'].to_list()\n",
    "    epa_dict = dict(state = state,\n",
    "                    county = county,\n",
    "                    aqi = aqi)\n",
    "    \n",
    "    return epa_dict[key]\n",
    "\n",
    "\n",
    "# LAB-099, LAB-100\n",
    "def id_gen(n_chars_id, n_samples):  \n",
    "    '''\n",
    "    Return a list of `n_samples` elements where each element is a string \n",
    "    of len(`n_chars_id`) random lowercase characters and digits. \n",
    "    '''\n",
    "    ids = []\n",
    "    seed = 0\n",
    "    for i in range(n_samples):\n",
    "        random.seed(seed)\n",
    "        id = ''.join(random.choices(string.ascii_lowercase +\n",
    "                             string.digits, k=n_chars_id))\n",
    "        ids.append(id)\n",
    "        seed+=1\n",
    "    return ids\n",
    "\n",
    "\n",
    "# LAB-099, LAB-100\n",
    "def lists_gen(n_chars_id, n_pool, n_feedback_ids, n_verified_ids):  \n",
    "    '''\n",
    "    Return two lists: `verified_ids` and `feedback_ids`\n",
    "    '''\n",
    "    seed = 0\n",
    "    pool = id_gen(n_chars_id, n_pool) \n",
    "    verified_ids = random.sample(pool, k=n_verified_ids)\n",
    "    feedback_ids = random.sample(pool, k=n_feedback_ids)\n",
    "    return verified_ids, feedback_ids\n",
    "\n",
    "\n",
    "# LAB-099, LAB-100\n",
    "def sales_data_generator(n_customers, seed):\n",
    "    '''\n",
    "    Returns a list of sales prices for n customers.\n",
    "    Each customer has 0-6 purchases in their list.\n",
    "    '''\n",
    "    random.seed(seed)\n",
    "    sales = []      \n",
    "    for customer in range(n_customers):\n",
    "        customer_sales = []\n",
    "        n_sales = random.randint(0, 6)  # Random 0-6 number of sales for each cust.\n",
    "        for sale in range(n_sales):     # Each sale price random from a lognormal dist.\n",
    "            customer_sales.append(round(random.lognormvariate(2.5, 1.5), 2))\n",
    "        sales.append(customer_sales)\n",
    "    \n",
    "    return sales"
   ]
  },
  {
   "cell_type": "markdown",
   "id": "4f98457f",
   "metadata": {
    "id": "ggu2qS99icFG",
    "papermill": {
     "duration": 0.004887,
     "end_time": "2025-02-04T04:34:49.223490",
     "exception": false,
     "start_time": "2025-02-04T04:34:49.218603",
     "status": "completed"
    },
    "tags": []
   },
   "source": [
    "## Introduction \n",
    "\n",
    "Your work as a data professional for the U.S. Environmental Protection Agency (EPA) requires you to analyze air quality index data collected from the United States and Mexico.\n",
    "\n",
    "The air quality index (AQI) is a number that runs from 0 to 500. The higher the AQI value, the greater the level of air pollution and the greater the health concern. For example, an AQI value of 50 or below represents good air quality, while an AQI value over 300 represents hazardous air quality. Refer to this guide from [AirNow.gov](https://www.airnow.gov/aqi/aqi-basics/) for more information.\n",
    "\n",
    "In this lab, you will work with NumPy arrays to perform calculations and evaluations with data they contain. Specifically, you'll be working with just the data from the numerical AQI readings.\n"
   ]
  },
  {
   "cell_type": "markdown",
   "id": "cbec921a",
   "metadata": {
    "id": "Jvbr-ML7ijoX",
    "papermill": {
     "duration": 0.00474,
     "end_time": "2025-02-04T04:34:49.233494",
     "exception": false,
     "start_time": "2025-02-04T04:34:49.228754",
     "status": "completed"
    },
    "tags": []
   },
   "source": [
    "## Tips for completing this lab\n",
    "\n",
    "As you navigate this lab, keep the following tips in mind:\n",
    "\n",
    "- `### YOUR CODE HERE ###` indicates where you should write code. Be sure to replace this with your own code before running the code cell.\n",
    "- Feel free to open the hints for additional guidance as you work on each task.\n",
    "- To enter your answer to a question, double-click the markdown cell to edit. Be sure to replace the \"[Double-click to enter your responses here.]\" with your own answer.\n",
    "- You can save your work manually by clicking File and then Save in the menu bar at the top of the notebook.\n",
    "- You can download your work locally by clicking File and then Download and then specifying your preferred file format in the menu bar at the top of the notebook.\n"
   ]
  },
  {
   "cell_type": "markdown",
   "id": "e48281d3",
   "metadata": {
    "id": "W6dEFretirNd",
    "papermill": {
     "duration": 0.004827,
     "end_time": "2025-02-04T04:34:49.243428",
     "exception": false,
     "start_time": "2025-02-04T04:34:49.238601",
     "status": "completed"
    },
    "tags": []
   },
   "source": [
    "# Task 1: Create an array using NumPy\n",
    "\n",
    "The EPA has compiled some AQI data where each AQI report has the state name, county name, and AQI. Refer to the table below as an example.\n",
    "\n",
    "| state_name | county_name | aqi |\n",
    "| ------- | ------- | ------ |\n",
    "| Arizona | Maricopa | 18 |\n",
    "| California | Alameda | 11 |\n",
    "| California | Butte | 6 |\n",
    "| Texas | El Paso | 40 |\n",
    "| Florida | Duval | 15 |\n",
    "\n",
    "<br/>\n"
   ]
  },
  {
   "cell_type": "markdown",
   "id": "05926229",
   "metadata": {
    "id": "r-AI4kdk9fwg",
    "papermill": {
     "duration": 0.004874,
     "end_time": "2025-02-04T04:34:49.253475",
     "exception": false,
     "start_time": "2025-02-04T04:34:49.248601",
     "status": "completed"
    },
    "tags": []
   },
   "source": [
    "## 1a: Import NumPy\n",
    "\n",
    "Import NumPy using its standard alias."
   ]
  },
  {
   "cell_type": "code",
   "execution_count": 2,
   "id": "6e97f578",
   "metadata": {
    "execution": {
     "iopub.execute_input": "2025-02-04T04:34:49.265515Z",
     "iopub.status.busy": "2025-02-04T04:34:49.264983Z",
     "iopub.status.idle": "2025-02-04T04:34:49.269401Z",
     "shell.execute_reply": "2025-02-04T04:34:49.268242Z"
    },
    "id": "iprLwtIliTxu",
    "papermill": {
     "duration": 0.012835,
     "end_time": "2025-02-04T04:34:49.271645",
     "exception": false,
     "start_time": "2025-02-04T04:34:49.258810",
     "status": "completed"
    },
    "tags": []
   },
   "outputs": [],
   "source": [
    "### YOUR CODE HERE ###\n",
    "import numpy as np"
   ]
  },
  {
   "cell_type": "markdown",
   "id": "fdc38e8f",
   "metadata": {
    "id": "Mt7TazgaJyGM",
    "papermill": {
     "duration": 0.004977,
     "end_time": "2025-02-04T04:34:49.282454",
     "exception": false,
     "start_time": "2025-02-04T04:34:49.277477",
     "status": "completed"
    },
    "tags": []
   },
   "source": [
    "<details><summary><h4>Hint 1</h4></summary>\n",
    "\n",
    "You can refer to what you've learned about importing packages.\n",
    "\n",
    "</details>"
   ]
  },
  {
   "cell_type": "markdown",
   "id": "415b750d",
   "metadata": {
    "id": "tzKpsWtmJ0k7",
    "papermill": {
     "duration": 0.004616,
     "end_time": "2025-02-04T04:34:49.292089",
     "exception": false,
     "start_time": "2025-02-04T04:34:49.287473",
     "status": "completed"
    },
    "tags": []
   },
   "source": [
    "<details><summary><h4>Hint 2</h4></summary>\n",
    "\n",
    "Begin with the `import` statement.\n",
    "\n",
    "</details>"
   ]
  },
  {
   "cell_type": "markdown",
   "id": "2f3ff581",
   "metadata": {
    "id": "aC8nWxf_J4kp",
    "papermill": {
     "duration": 0.004844,
     "end_time": "2025-02-04T04:34:49.301951",
     "exception": false,
     "start_time": "2025-02-04T04:34:49.297107",
     "status": "completed"
    },
    "tags": []
   },
   "source": [
    "<details><summary><h4>Hint 3</h4></summary>\n",
    "\n",
    "The conventional alias for NumPy is `np`.\n",
    "\n",
    "</details>"
   ]
  },
  {
   "cell_type": "markdown",
   "id": "a6478e68",
   "metadata": {
    "id": "2PYX8U_C9nFw",
    "papermill": {
     "duration": 0.004725,
     "end_time": "2025-02-04T04:34:49.311719",
     "exception": false,
     "start_time": "2025-02-04T04:34:49.306994",
     "status": "completed"
    },
    "tags": []
   },
   "source": [
    "## 1b: Create an array of AQI data\n",
    "\n",
    "You are given an ordered `list` of AQI readings called `aqi_list`.\n",
    "\n",
    "1. Use a NumPy function to convert the list to an `ndarray`. Assign the result to a variable called `aqi_array`.\n",
    "2. Print the length of `aqi_array`.\n",
    "3. Print the first five elements of `aqi_array`.\n",
    "\n",
    "*Expected result:*\n",
    "\n",
    "```\n",
    "[OUT] 1725\n",
    "      [18.  9. 20. 11.  6.]\n",
    "```"
   ]
  },
  {
   "cell_type": "code",
   "execution_count": 3,
   "id": "7a8adbf5",
   "metadata": {
    "execution": {
     "iopub.execute_input": "2025-02-04T04:34:49.323659Z",
     "iopub.status.busy": "2025-02-04T04:34:49.323222Z",
     "iopub.status.idle": "2025-02-04T04:34:49.414954Z",
     "shell.execute_reply": "2025-02-04T04:34:49.413843Z"
    },
    "id": "vODHtgS094Md",
    "papermill": {
     "duration": 0.100258,
     "end_time": "2025-02-04T04:34:49.417216",
     "exception": false,
     "start_time": "2025-02-04T04:34:49.316958",
     "status": "completed"
    },
    "tags": []
   },
   "outputs": [],
   "source": [
    "### RUN THIS CELL TO IMPORT YOUR DATA\n",
    "#import ada_c2_labs as lab\n",
    "#aqi_list = lab.fetch_epa('aqi')\n",
    "\n",
    "aqi_list = fetch_epa('aqi')"
   ]
  },
  {
   "cell_type": "code",
   "execution_count": 4,
   "id": "028c8aa7",
   "metadata": {
    "execution": {
     "iopub.execute_input": "2025-02-04T04:34:49.429391Z",
     "iopub.status.busy": "2025-02-04T04:34:49.429006Z",
     "iopub.status.idle": "2025-02-04T04:34:49.435139Z",
     "shell.execute_reply": "2025-02-04T04:34:49.434037Z"
    },
    "id": "FHIOmXBpxixx",
    "papermill": {
     "duration": 0.014241,
     "end_time": "2025-02-04T04:34:49.437044",
     "exception": false,
     "start_time": "2025-02-04T04:34:49.422803",
     "status": "completed"
    },
    "tags": []
   },
   "outputs": [
    {
     "name": "stdout",
     "output_type": "stream",
     "text": [
      "1725\n",
      "[18.  9. 20. 11.  6. 11.]\n"
     ]
    }
   ],
   "source": [
    "# 1. ### YOUR CODE HERE ###\n",
    "aqi_array = np.array(aqi_list)\n",
    "\n",
    "# 2. ### YOUR CODE HERE ###\n",
    "print(len(aqi_array))\n",
    "\n",
    "# 3. ### YOUR CODE HERE ###\n",
    "print(aqi_array[:6])"
   ]
  },
  {
   "cell_type": "markdown",
   "id": "cf4b2707",
   "metadata": {
    "id": "F-4Z5jxOKFbH",
    "papermill": {
     "duration": 0.004824,
     "end_time": "2025-02-04T04:34:49.447465",
     "exception": false,
     "start_time": "2025-02-04T04:34:49.442641",
     "status": "completed"
    },
    "tags": []
   },
   "source": [
    "<details><summary><h4>Hint 1</h4></summary>\n",
    "\n",
    "You can refer to what you've learned about creating and slicing arrays.\n",
    "\n",
    "</details>"
   ]
  },
  {
   "cell_type": "markdown",
   "id": "380d6abf",
   "metadata": {
    "id": "39b7vVK5KH9i",
    "papermill": {
     "duration": 0.004752,
     "end_time": "2025-02-04T04:34:49.457392",
     "exception": false,
     "start_time": "2025-02-04T04:34:49.452640",
     "status": "completed"
    },
    "tags": []
   },
   "source": [
    "<details><summary><h4>Hint 2</h4></summary>\n",
    "\n",
    "*  Use the NumPy library you imported earlier. NumPy functions must begin with the alias&mdash;`np`&mdash;that was chosen when you imported the library.\n",
    "\n",
    "*  Built-in Python functions don't need to be prefaced with an alias.\n",
    "\n",
    "*  Use bracket notation for slicing.\n",
    "\n",
    "</details>"
   ]
  },
  {
   "cell_type": "markdown",
   "id": "8d65de57",
   "metadata": {
    "id": "E8jxyJDmKOQi",
    "papermill": {
     "duration": 0.004785,
     "end_time": "2025-02-04T04:34:49.467469",
     "exception": false,
     "start_time": "2025-02-04T04:34:49.462684",
     "status": "completed"
    },
    "tags": []
   },
   "source": [
    "<details><summary><h4>Hint 3</h4></summary>\n",
    "\n",
    "*  To cast `aqi_list` as an `ndarray`, pass the list as an argument to the `np.array()` NumPy function.\n",
    "\n",
    "*  Use the `len()` function to calculate the length of the array. This function is versatile and works on most iterable data structures in Python.\n",
    "\n",
    "</details>"
   ]
  },
  {
   "cell_type": "markdown",
   "id": "292c87f0",
   "metadata": {
    "id": "ugLjdpOGBHZh",
    "papermill": {
     "duration": 0.004736,
     "end_time": "2025-02-04T04:34:49.477282",
     "exception": false,
     "start_time": "2025-02-04T04:34:49.472546",
     "status": "completed"
    },
    "tags": []
   },
   "source": [
    "# Task 2: Calculate summary statistics\n",
    "\n",
    "Now that you have the AQI data stored in an array, use NumPy functions to calculate some summary statistics about it.\n",
    "\n",
    "* Use built-in NumPy functions to print the following values from `aqi_array`:\n",
    "    1. Maximum value\n",
    "    2. Minimum value\n",
    "    3. Median value\n",
    "    4. Standard deviation\n",
    "\n",
    "*Expected result:*\n",
    "\n",
    "```\n",
    "[OUT] Max = 93.0\n",
    "      Min = 0.0\n",
    "      Median = 8.0\n",
    "      Std = 10.382982538847708\n",
    "```"
   ]
  },
  {
   "cell_type": "code",
   "execution_count": 5,
   "id": "3c751a7e",
   "metadata": {
    "execution": {
     "iopub.execute_input": "2025-02-04T04:34:49.488784Z",
     "iopub.status.busy": "2025-02-04T04:34:49.488427Z",
     "iopub.status.idle": "2025-02-04T04:34:49.498390Z",
     "shell.execute_reply": "2025-02-04T04:34:49.497114Z"
    },
    "id": "B5Iqr7BwBf1s",
    "papermill": {
     "duration": 0.017701,
     "end_time": "2025-02-04T04:34:49.500115",
     "exception": false,
     "start_time": "2025-02-04T04:34:49.482414",
     "status": "completed"
    },
    "tags": []
   },
   "outputs": [
    {
     "name": "stdout",
     "output_type": "stream",
     "text": [
      "Max = 93.0\n",
      "Min = 0.0\n",
      "Median = 8.0\n",
      "Std = 10.382982538847708\n"
     ]
    }
   ],
   "source": [
    "### YOUR CODE HERE ###\n",
    "print('Max =', aqi_array.max())\n",
    "print('Min =', aqi_array.min())\n",
    "print('Median =',np.median(aqi_array))\n",
    "print('Std =', aqi_array.std())"
   ]
  },
  {
   "cell_type": "markdown",
   "id": "4b49a990",
   "metadata": {
    "id": "9Bmk3xwNEJ5-",
    "papermill": {
     "duration": 0.004887,
     "end_time": "2025-02-04T04:34:49.510602",
     "exception": false,
     "start_time": "2025-02-04T04:34:49.505715",
     "status": "completed"
    },
    "tags": []
   },
   "source": [
    "<details><summary><h4>Hint 1</h4></summary>\n",
    "\n",
    "Refer to what you've learned about built-in NumPy functions.\n",
    "\n",
    "</details>"
   ]
  },
  {
   "cell_type": "markdown",
   "id": "91870c04",
   "metadata": {
    "id": "44YQl_PuEUX3",
    "papermill": {
     "duration": 0.004877,
     "end_time": "2025-02-04T04:34:49.521069",
     "exception": false,
     "start_time": "2025-02-04T04:34:49.516192",
     "status": "completed"
    },
    "tags": []
   },
   "source": [
    "<details><summary><h4>Hint 2</h4></summary>\n",
    "\n",
    "* Remember, to use a function from the NumPy library, it must begin with the alias you used for NumPy when you imported it.\n",
    "\n",
    "* The function names for these operations are the same as they are for the same built-in Python functions, and they work the same way for 1-dimensional arrays.\n",
    "\n",
    "</details>"
   ]
  },
  {
   "cell_type": "markdown",
   "id": "ac6eb2c3",
   "metadata": {
    "id": "JDC8MuOKEzPA",
    "papermill": {
     "duration": 0.005241,
     "end_time": "2025-02-04T04:34:49.531453",
     "exception": false,
     "start_time": "2025-02-04T04:34:49.526212",
     "status": "completed"
    },
    "tags": []
   },
   "source": [
    "<details><summary><h4>Hint 3</h4></summary>\n",
    "\n",
    "Use `np.max()`, `np.min()`, `np.median()`, `np.std()` to calculate these statistics.\n",
    "\n",
    "</details>"
   ]
  },
  {
   "cell_type": "markdown",
   "id": "a566960a",
   "metadata": {
    "id": "nEn8XcTNaAqr",
    "papermill": {
     "duration": 0.004892,
     "end_time": "2025-02-04T04:34:49.542516",
     "exception": false,
     "start_time": "2025-02-04T04:34:49.537624",
     "status": "completed"
    },
    "tags": []
   },
   "source": [
    "# Task 3: Calculate percentage of readings with cleanest AQI\n",
    "\n",
    "You are interested in how many air quality readings in the data represent the cleanest air, which we'll consider **readings of 5 or less.**\n",
    "\n",
    "To perform this calculation, you'll make use of one of the properties of arrays that make them so powerful: their element-wise operability. For example, when you add an integer to an `ndarray` using the `+` operator, it performs an element-wise addition on the whole array.\n",
    "\n",
    "```\n",
    "[IN]  my_array = np.array([1, 2, 3])\n",
    "      my_array = my_array + 10\n",
    "      print(my_array)\n",
    "\n",
    "[OUT] [11, 12, 13]\n",
    "```\n",
    "\n",
    "**The same concept applies to comparison operators used on an `ndarray`.** With this in mind:\n",
    "\n",
    "* Calculate the percentage of AQI readings that are considered cleanest:\n",
    "    1. Use a comparison statement to get an array of Boolean values that is the same length as `aqi_array`. Assign the result to variable called `boolean_aqi`.\n",
    "    2. Calculate the number of `True` values in the `boolean_aqi` and divide this number by the total number of values in the array. Assign the result to a variable named `percent_under_6` and print it.\n",
    "\n",
    "*Expected result:*\n",
    "\n",
    "```\n",
    "[OUT] 0.3194202898550725\n",
    "```\n",
    "\n",
    "\n"
   ]
  },
  {
   "cell_type": "code",
   "execution_count": 6,
   "id": "6f9aa896",
   "metadata": {
    "execution": {
     "iopub.execute_input": "2025-02-04T04:34:49.554511Z",
     "iopub.status.busy": "2025-02-04T04:34:49.554104Z",
     "iopub.status.idle": "2025-02-04T04:34:49.561727Z",
     "shell.execute_reply": "2025-02-04T04:34:49.560180Z"
    },
    "id": "bIT_DvzW_Pft",
    "papermill": {
     "duration": 0.015504,
     "end_time": "2025-02-04T04:34:49.563518",
     "exception": false,
     "start_time": "2025-02-04T04:34:49.548014",
     "status": "completed"
    },
    "tags": []
   },
   "outputs": [
    {
     "name": "stdout",
     "output_type": "stream",
     "text": [
      "0.3194202898550725\n"
     ]
    }
   ],
   "source": [
    "# 1. ### YOUR CODE HERE ###\n",
    "boolean_aqi = aqi_array <= 5\n",
    "\n",
    "# 2. ### YOUR CODE HERE ###\n",
    "percent_under_6 = sum(boolean_aqi) /len(boolean_aqi)\n",
    "print(percent_under_6)"
   ]
  },
  {
   "cell_type": "markdown",
   "id": "ac8408b2",
   "metadata": {
    "id": "sb6p9qxViwsv",
    "papermill": {
     "duration": 0.005138,
     "end_time": "2025-02-04T04:34:49.574209",
     "exception": false,
     "start_time": "2025-02-04T04:34:49.569071",
     "status": "completed"
    },
    "tags": []
   },
   "source": [
    "<details><summary><h4>Hint 1</h4></summary>\n",
    "\n",
    "1. To create `boolean_aqi`, apply the appropriate comparison expression to `aqi_array`.\n",
    "\n",
    "</details>"
   ]
  },
  {
   "cell_type": "markdown",
   "id": "8cb22e83",
   "metadata": {
    "id": "JjJU0rT5iwka",
    "papermill": {
     "duration": 0.005045,
     "end_time": "2025-02-04T04:34:49.584878",
     "exception": false,
     "start_time": "2025-02-04T04:34:49.579833",
     "status": "completed"
    },
    "tags": []
   },
   "source": [
    "<details><summary><h4>Hint 2</h4></summary>\n",
    "\n",
    "To calculate `percent_under_6`, consider the fact that in Python 3, `True` values always equate with `1`, and `False` values always equate with `0`.\n",
    "\n",
    "</details>"
   ]
  },
  {
   "cell_type": "markdown",
   "id": "4a120534",
   "metadata": {
    "id": "edL1c8Bsn457",
    "papermill": {
     "duration": 0.005447,
     "end_time": "2025-02-04T04:34:49.595798",
     "exception": false,
     "start_time": "2025-02-04T04:34:49.590351",
     "status": "completed"
    },
    "tags": []
   },
   "source": [
    "<details><summary><h4>Hint 3</h4></summary>\n",
    "\n",
    "* Because `True` values always equate with `1` and `False` values always equate with `0`, you can sum a Boolean sequence to find the number of `True` values.\n",
    "\n",
    "* To calculate the length of the full array, remember that the `len()` function works with most iterable objects in Python, including NumPy arrays.\n",
    "\n",
    "</details>"
   ]
  },
  {
   "cell_type": "markdown",
   "id": "b5e06ca3",
   "metadata": {
    "id": "XmR1gE_3i4m8",
    "papermill": {
     "duration": 0.00507,
     "end_time": "2025-02-04T04:34:49.606485",
     "exception": false,
     "start_time": "2025-02-04T04:34:49.601415",
     "status": "completed"
    },
    "tags": []
   },
   "source": [
    "## Conclusion\n",
    "\n",
    "**What are your key takeaways from this lab?**"
   ]
  },
  {
   "cell_type": "markdown",
   "id": "31ea748e",
   "metadata": {
    "id": "7Ahc6avOE-7w",
    "papermill": {
     "duration": 0.005009,
     "end_time": "2025-02-04T04:34:49.616922",
     "exception": false,
     "start_time": "2025-02-04T04:34:49.611913",
     "status": "completed"
    },
    "tags": []
   },
   "source": [
    "* explored various numpy methods\n",
    "* explored various ndarray methods\n",
    "* learned to use aggregate functions in numpy"
   ]
  },
  {
   "cell_type": "markdown",
   "id": "2039226f",
   "metadata": {
    "papermill": {
     "duration": 0.005119,
     "end_time": "2025-02-04T04:34:49.627666",
     "exception": false,
     "start_time": "2025-02-04T04:34:49.622547",
     "status": "completed"
    },
    "tags": []
   },
   "source": [
    "**Congratulations!** You've completed this lab. However, you may not notice a green check mark next to this item on Coursera's platform. Please continue your progress regardless of the check mark. Just click on the \"save\" icon at the top of this notebook to ensure your work has been logged. "
   ]
  }
 ],
 "metadata": {
  "colab": {
   "provenance": []
  },
  "kaggle": {
   "accelerator": "none",
   "dataSources": [],
   "dockerImageVersionId": 30839,
   "isGpuEnabled": false,
   "isInternetEnabled": true,
   "language": "python",
   "sourceType": "notebook"
  },
  "kernelspec": {
   "display_name": "Python 3",
   "language": "python",
   "name": "python3"
  },
  "language_info": {
   "codemirror_mode": {
    "name": "ipython",
    "version": 3
   },
   "file_extension": ".py",
   "mimetype": "text/x-python",
   "name": "python",
   "nbconvert_exporter": "python",
   "pygments_lexer": "ipython3",
   "version": "3.10.12"
  },
  "papermill": {
   "default_parameters": {},
   "duration": 4.844605,
   "end_time": "2025-02-04T04:34:50.254896",
   "environment_variables": {},
   "exception": null,
   "input_path": "__notebook__.ipynb",
   "output_path": "__notebook__.ipynb",
   "parameters": {},
   "start_time": "2025-02-04T04:34:45.410291",
   "version": "2.6.0"
  }
 },
 "nbformat": 4,
 "nbformat_minor": 5
}

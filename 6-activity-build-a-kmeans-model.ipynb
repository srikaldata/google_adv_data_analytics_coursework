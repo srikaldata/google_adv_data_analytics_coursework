{
 "cells": [
  {
   "cell_type": "markdown",
   "id": "4fc6c0d1",
   "metadata": {
    "id": "700acefd-8120-42a9-a650-c610467e2a4c",
    "papermill": {
     "duration": 0.010844,
     "end_time": "2025-02-14T03:57:23.327449",
     "exception": false,
     "start_time": "2025-02-14T03:57:23.316605",
     "status": "completed"
    },
    "tags": []
   },
   "source": [
    "# Activity: Build a K-means model \n",
    "\n",
    "## **Introduction**\n",
    "\n",
    "K-means clustering is very effective when segmenting data and attempting to find patterns. Because clustering is used in a broad array of industries, becoming proficient in this process will help you expand your skillset in a widely applicable way.   \n",
    "\n",
    "In this activity, you are a consultant for a scientific organization that works to support and sustain penguin colonies. You are tasked with helping other staff members learn more about penguins in order to achieve this mission. \n",
    "\n",
    "The data for this activity is in a spreadsheet that includes datapoints across a sample size of 345 penguins, such as species, island, and sex. Your will use a K-means clustering model to group this data and identify patterns that provide important insights about penguins.\n",
    "\n",
    "**Note:** Because this lab uses a real dataset, this notebook will first require basic EDA, data cleaning, and other manipulations to prepare the data for modeling. "
   ]
  },
  {
   "cell_type": "markdown",
   "id": "88282acd",
   "metadata": {
    "id": "b42252b9-b980-4ee0-8cfd-82f4239b6d1a",
    "papermill": {
     "duration": 0.010028,
     "end_time": "2025-02-14T03:57:23.347566",
     "exception": false,
     "start_time": "2025-02-14T03:57:23.337538",
     "status": "completed"
    },
    "tags": []
   },
   "source": [
    "## **Step 1: Imports** \n"
   ]
  },
  {
   "cell_type": "markdown",
   "id": "fca3092b",
   "metadata": {
    "id": "oz38PANKW0ys",
    "papermill": {
     "duration": 0.009737,
     "end_time": "2025-02-14T03:57:23.367076",
     "exception": false,
     "start_time": "2025-02-14T03:57:23.357339",
     "status": "completed"
    },
    "tags": []
   },
   "source": [
    "Import statements including `K-means`, `silhouette_score`, and `StandardScaler`."
   ]
  },
  {
   "cell_type": "code",
   "execution_count": 1,
   "id": "c7ffa312",
   "metadata": {
    "execution": {
     "iopub.execute_input": "2025-02-14T03:57:23.388482Z",
     "iopub.status.busy": "2025-02-14T03:57:23.388125Z",
     "iopub.status.idle": "2025-02-14T03:57:26.242897Z",
     "shell.execute_reply": "2025-02-14T03:57:26.241791Z"
    },
    "id": "aacf7b0d-d652-46c4-a9fc-f1ff377bdd0c",
    "papermill": {
     "duration": 2.867581,
     "end_time": "2025-02-14T03:57:26.244420",
     "exception": false,
     "start_time": "2025-02-14T03:57:23.376839",
     "status": "completed"
    },
    "tags": []
   },
   "outputs": [],
   "source": [
    "# Import standard operational packages.\n",
    "\n",
    "# Important tools for modeling and evaluation.\n",
    "\n",
    "# Import visualization packages.\n",
    "\n",
    "### YOUR CODE HERE ###\n",
    "import numpy as np\n",
    "import pandas as pd\n",
    "\n",
    "from sklearn.cluster import KMeans\n",
    "from sklearn.metrics import silhouette_score\n",
    "from sklearn.preprocessing import StandardScaler\n",
    "\n",
    "import matplotlib.pyplot as plt\n",
    "import seaborn as sns"
   ]
  },
  {
   "cell_type": "markdown",
   "id": "31fd00cd",
   "metadata": {
    "id": "a60990fd-4723-4a2b-a0db-9dfa6c7c881c",
    "papermill": {
     "duration": 0.010027,
     "end_time": "2025-02-14T03:57:26.264678",
     "exception": false,
     "start_time": "2025-02-14T03:57:26.254651",
     "status": "completed"
    },
    "tags": []
   },
   "source": [
    "`Pandas` is used to load the penguins dataset, which is built into the `seaborn` library. The resulting `pandas` DataFrame is saved in a variable named `penguins`. As shown in this cell, the dataset has been automatically loaded in for you. You do not need to download the .csv file, or provide more code, in order to access the dataset and proceed with this lab. Please continue with this activity by completing the following instructions."
   ]
  },
  {
   "cell_type": "code",
   "execution_count": 2,
   "id": "694a5ecf",
   "metadata": {
    "execution": {
     "iopub.execute_input": "2025-02-14T03:57:26.284956Z",
     "iopub.status.busy": "2025-02-14T03:57:26.284537Z",
     "iopub.status.idle": "2025-02-14T03:57:26.301647Z",
     "shell.execute_reply": "2025-02-14T03:57:26.300940Z"
    },
    "id": "80535d2f-8b1a-4715-b07a-f3734d8cc4c5",
    "papermill": {
     "duration": 0.028753,
     "end_time": "2025-02-14T03:57:26.302978",
     "exception": false,
     "start_time": "2025-02-14T03:57:26.274225",
     "status": "completed"
    },
    "tags": []
   },
   "outputs": [],
   "source": [
    "# RUN THIS CELL TO IMPORT YOUR DATA. \n",
    "\n",
    "# Save the `pandas` DataFrame in variable `penguins`. \n",
    "\n",
    "### YOUR CODE HERE ###\n",
    "\n",
    "penguins = pd.read_csv('/kaggle/input/google-adv-data-analytics-advancedml-datasets/6_penguins.csv')"
   ]
  },
  {
   "cell_type": "markdown",
   "id": "9ca4ede5",
   "metadata": {
    "papermill": {
     "duration": 0.009579,
     "end_time": "2025-02-14T03:57:26.322609",
     "exception": false,
     "start_time": "2025-02-14T03:57:26.313030",
     "status": "completed"
    },
    "tags": []
   },
   "source": [
    "<details>\n",
    "  <summary><h4><strong>Hint 1</strong></h4></summary>\n",
    "\n",
    "Use the `load_dataset` function. \n",
    "\n",
    "</details>"
   ]
  },
  {
   "cell_type": "markdown",
   "id": "1e7f83e5",
   "metadata": {
    "id": "0irW2qcaah5S",
    "papermill": {
     "duration": 0.008787,
     "end_time": "2025-02-14T03:57:26.340583",
     "exception": false,
     "start_time": "2025-02-14T03:57:26.331796",
     "status": "completed"
    },
    "tags": []
   },
   "source": [
    "<details>\n",
    "  <summary><h4><strong>Hint 2</strong></h4></summary>\n",
    "\n",
    "The function is from seaborn (`sns`). It should be passed in the dataset name `'penguins'` as a string. \n",
    "\n",
    "</details>"
   ]
  },
  {
   "cell_type": "markdown",
   "id": "b1426a6b",
   "metadata": {
    "id": "46448192-f2f8-4f78-9f76-6e4bb699da7b",
    "papermill": {
     "duration": 0.0089,
     "end_time": "2025-02-14T03:57:26.358733",
     "exception": false,
     "start_time": "2025-02-14T03:57:26.349833",
     "status": "completed"
    },
    "tags": []
   },
   "source": [
    "Now, review the first 10 rows of data.\n"
   ]
  },
  {
   "cell_type": "code",
   "execution_count": 3,
   "id": "0a14e4f4",
   "metadata": {
    "execution": {
     "iopub.execute_input": "2025-02-14T03:57:26.378403Z",
     "iopub.status.busy": "2025-02-14T03:57:26.378058Z",
     "iopub.status.idle": "2025-02-14T03:57:26.405576Z",
     "shell.execute_reply": "2025-02-14T03:57:26.404684Z"
    },
    "id": "U8JZjN-zJwx6",
    "papermill": {
     "duration": 0.038768,
     "end_time": "2025-02-14T03:57:26.406707",
     "exception": false,
     "start_time": "2025-02-14T03:57:26.367939",
     "status": "completed"
    },
    "tags": []
   },
   "outputs": [
    {
     "name": "stderr",
     "output_type": "stream",
     "text": [
      "/usr/local/lib/python3.10/dist-packages/pandas/io/formats/format.py:1458: RuntimeWarning: invalid value encountered in greater\n",
      "  has_large_values = (abs_vals > 1e6).any()\n",
      "/usr/local/lib/python3.10/dist-packages/pandas/io/formats/format.py:1459: RuntimeWarning: invalid value encountered in less\n",
      "  has_small_values = ((abs_vals < 10 ** (-self.digits)) & (abs_vals > 0)).any()\n",
      "/usr/local/lib/python3.10/dist-packages/pandas/io/formats/format.py:1459: RuntimeWarning: invalid value encountered in greater\n",
      "  has_small_values = ((abs_vals < 10 ** (-self.digits)) & (abs_vals > 0)).any()\n"
     ]
    },
    {
     "data": {
      "text/html": [
       "<div>\n",
       "<style scoped>\n",
       "    .dataframe tbody tr th:only-of-type {\n",
       "        vertical-align: middle;\n",
       "    }\n",
       "\n",
       "    .dataframe tbody tr th {\n",
       "        vertical-align: top;\n",
       "    }\n",
       "\n",
       "    .dataframe thead th {\n",
       "        text-align: right;\n",
       "    }\n",
       "</style>\n",
       "<table border=\"1\" class=\"dataframe\">\n",
       "  <thead>\n",
       "    <tr style=\"text-align: right;\">\n",
       "      <th></th>\n",
       "      <th>species</th>\n",
       "      <th>island</th>\n",
       "      <th>bill_length_mm</th>\n",
       "      <th>bill_depth_mm</th>\n",
       "      <th>flipper_length_mm</th>\n",
       "      <th>body_mass_g</th>\n",
       "      <th>sex</th>\n",
       "    </tr>\n",
       "  </thead>\n",
       "  <tbody>\n",
       "    <tr>\n",
       "      <th>0</th>\n",
       "      <td>Adelie</td>\n",
       "      <td>Torgersen</td>\n",
       "      <td>39.1</td>\n",
       "      <td>18.7</td>\n",
       "      <td>181.0</td>\n",
       "      <td>3750.0</td>\n",
       "      <td>male</td>\n",
       "    </tr>\n",
       "    <tr>\n",
       "      <th>1</th>\n",
       "      <td>Adelie</td>\n",
       "      <td>Torgersen</td>\n",
       "      <td>39.5</td>\n",
       "      <td>17.4</td>\n",
       "      <td>186.0</td>\n",
       "      <td>3800.0</td>\n",
       "      <td>female</td>\n",
       "    </tr>\n",
       "    <tr>\n",
       "      <th>2</th>\n",
       "      <td>Adelie</td>\n",
       "      <td>Torgersen</td>\n",
       "      <td>40.3</td>\n",
       "      <td>18.0</td>\n",
       "      <td>195.0</td>\n",
       "      <td>3250.0</td>\n",
       "      <td>female</td>\n",
       "    </tr>\n",
       "    <tr>\n",
       "      <th>3</th>\n",
       "      <td>Adelie</td>\n",
       "      <td>Torgersen</td>\n",
       "      <td>NaN</td>\n",
       "      <td>NaN</td>\n",
       "      <td>NaN</td>\n",
       "      <td>NaN</td>\n",
       "      <td>NaN</td>\n",
       "    </tr>\n",
       "    <tr>\n",
       "      <th>4</th>\n",
       "      <td>Adelie</td>\n",
       "      <td>Torgersen</td>\n",
       "      <td>36.7</td>\n",
       "      <td>19.3</td>\n",
       "      <td>193.0</td>\n",
       "      <td>3450.0</td>\n",
       "      <td>female</td>\n",
       "    </tr>\n",
       "    <tr>\n",
       "      <th>5</th>\n",
       "      <td>Adelie</td>\n",
       "      <td>Torgersen</td>\n",
       "      <td>39.3</td>\n",
       "      <td>20.6</td>\n",
       "      <td>190.0</td>\n",
       "      <td>3650.0</td>\n",
       "      <td>male</td>\n",
       "    </tr>\n",
       "    <tr>\n",
       "      <th>6</th>\n",
       "      <td>Adelie</td>\n",
       "      <td>Torgersen</td>\n",
       "      <td>38.9</td>\n",
       "      <td>17.8</td>\n",
       "      <td>181.0</td>\n",
       "      <td>3625.0</td>\n",
       "      <td>female</td>\n",
       "    </tr>\n",
       "    <tr>\n",
       "      <th>7</th>\n",
       "      <td>Adelie</td>\n",
       "      <td>Torgersen</td>\n",
       "      <td>39.2</td>\n",
       "      <td>19.6</td>\n",
       "      <td>195.0</td>\n",
       "      <td>4675.0</td>\n",
       "      <td>male</td>\n",
       "    </tr>\n",
       "    <tr>\n",
       "      <th>8</th>\n",
       "      <td>Adelie</td>\n",
       "      <td>Torgersen</td>\n",
       "      <td>34.1</td>\n",
       "      <td>18.1</td>\n",
       "      <td>193.0</td>\n",
       "      <td>3475.0</td>\n",
       "      <td>NaN</td>\n",
       "    </tr>\n",
       "    <tr>\n",
       "      <th>9</th>\n",
       "      <td>Adelie</td>\n",
       "      <td>Torgersen</td>\n",
       "      <td>42.0</td>\n",
       "      <td>20.2</td>\n",
       "      <td>190.0</td>\n",
       "      <td>4250.0</td>\n",
       "      <td>NaN</td>\n",
       "    </tr>\n",
       "  </tbody>\n",
       "</table>\n",
       "</div>"
      ],
      "text/plain": [
       "  species     island  bill_length_mm  bill_depth_mm  flipper_length_mm  \\\n",
       "0  Adelie  Torgersen            39.1           18.7              181.0   \n",
       "1  Adelie  Torgersen            39.5           17.4              186.0   \n",
       "2  Adelie  Torgersen            40.3           18.0              195.0   \n",
       "3  Adelie  Torgersen             NaN            NaN                NaN   \n",
       "4  Adelie  Torgersen            36.7           19.3              193.0   \n",
       "5  Adelie  Torgersen            39.3           20.6              190.0   \n",
       "6  Adelie  Torgersen            38.9           17.8              181.0   \n",
       "7  Adelie  Torgersen            39.2           19.6              195.0   \n",
       "8  Adelie  Torgersen            34.1           18.1              193.0   \n",
       "9  Adelie  Torgersen            42.0           20.2              190.0   \n",
       "\n",
       "   body_mass_g     sex  \n",
       "0       3750.0    male  \n",
       "1       3800.0  female  \n",
       "2       3250.0  female  \n",
       "3          NaN     NaN  \n",
       "4       3450.0  female  \n",
       "5       3650.0    male  \n",
       "6       3625.0  female  \n",
       "7       4675.0    male  \n",
       "8       3475.0     NaN  \n",
       "9       4250.0     NaN  "
      ]
     },
     "execution_count": 3,
     "metadata": {},
     "output_type": "execute_result"
    }
   ],
   "source": [
    "# Review the first 10 rows.\n",
    "\n",
    "### YOUR CODE HERE ###\n",
    "penguins.head(10)"
   ]
  },
  {
   "cell_type": "markdown",
   "id": "f9da63ec",
   "metadata": {
    "id": "tooWlpMBHqoi",
    "papermill": {
     "duration": 0.009259,
     "end_time": "2025-02-14T03:57:26.425774",
     "exception": false,
     "start_time": "2025-02-14T03:57:26.416515",
     "status": "completed"
    },
    "tags": []
   },
   "source": [
    "<details>\n",
    "  <summary><h4><strong>Hint 1</strong></h4></summary>\n",
    "\n",
    "Use the `head()` method.\n",
    "\n",
    "</details>"
   ]
  },
  {
   "cell_type": "markdown",
   "id": "691f1d37",
   "metadata": {
    "id": "Fg0PhE51Kiz6",
    "papermill": {
     "duration": 0.009315,
     "end_time": "2025-02-14T03:57:26.444544",
     "exception": false,
     "start_time": "2025-02-14T03:57:26.435229",
     "status": "completed"
    },
    "tags": []
   },
   "source": [
    "<details>\n",
    "  <summary><h4><strong>Hint 2</strong></h4></summary>\n",
    "\n",
    "By default, the method only returns five rows. To change this, specify how many rows `(n = )` you want.\n",
    "\n",
    "</details>"
   ]
  },
  {
   "cell_type": "markdown",
   "id": "6f1e3ac9",
   "metadata": {
    "id": "ec269f85-6622-4f82-bdcd-1874224a4052",
    "papermill": {
     "duration": 0.009168,
     "end_time": "2025-02-14T03:57:26.463283",
     "exception": false,
     "start_time": "2025-02-14T03:57:26.454115",
     "status": "completed"
    },
    "tags": []
   },
   "source": [
    "## **Step 2: Data exploration** \n",
    "\n",
    "After loading the dataset, the next step is to prepare the data to be suitable for clustering. This includes: \n",
    "\n",
    "*   Exploring data\n",
    "*   Checking for missing values\n",
    "*   Encoding data \n",
    "*   Dropping a column\n",
    "*   Scaling the features using `StandardScaler`"
   ]
  },
  {
   "cell_type": "markdown",
   "id": "41a6ad64",
   "metadata": {
    "id": "d7ccd368",
    "papermill": {
     "duration": 0.009072,
     "end_time": "2025-02-14T03:57:26.481627",
     "exception": false,
     "start_time": "2025-02-14T03:57:26.472555",
     "status": "completed"
    },
    "tags": []
   },
   "source": [
    "### Explore data\n",
    "\n",
    "To cluster penguins of multiple different species, determine how many different types of penguin species are in the dataset."
   ]
  },
  {
   "cell_type": "code",
   "execution_count": 4,
   "id": "319516ab",
   "metadata": {
    "execution": {
     "iopub.execute_input": "2025-02-14T03:57:26.501197Z",
     "iopub.status.busy": "2025-02-14T03:57:26.500916Z",
     "iopub.status.idle": "2025-02-14T03:57:26.509845Z",
     "shell.execute_reply": "2025-02-14T03:57:26.508987Z"
    },
    "id": "8098d8a3",
    "papermill": {
     "duration": 0.02043,
     "end_time": "2025-02-14T03:57:26.511237",
     "exception": false,
     "start_time": "2025-02-14T03:57:26.490807",
     "status": "completed"
    },
    "tags": []
   },
   "outputs": [
    {
     "name": "stdout",
     "output_type": "stream",
     "text": [
      "['Adelie' 'Chinstrap' 'Gentoo']\n",
      "3\n"
     ]
    }
   ],
   "source": [
    "# Find out how many penguin types there are.\n",
    "\n",
    "### YOUR CODE HERE ###\n",
    "print(penguins['species'].unique())\n",
    "print(penguins['species'].nunique())"
   ]
  },
  {
   "cell_type": "markdown",
   "id": "775fedbb",
   "metadata": {
    "id": "9221f9a4",
    "papermill": {
     "duration": 0.009638,
     "end_time": "2025-02-14T03:57:26.531319",
     "exception": false,
     "start_time": "2025-02-14T03:57:26.521681",
     "status": "completed"
    },
    "tags": []
   },
   "source": [
    "<details>\n",
    "  <summary><h4><strong>Hint 1</strong></h4></summary>\n",
    "\n",
    "Use the `unique()` method.\n",
    "\n",
    "</details>"
   ]
  },
  {
   "cell_type": "markdown",
   "id": "c5f45c44",
   "metadata": {
    "id": "62d8c90f",
    "papermill": {
     "duration": 0.009856,
     "end_time": "2025-02-14T03:57:26.550948",
     "exception": false,
     "start_time": "2025-02-14T03:57:26.541092",
     "status": "completed"
    },
    "tags": []
   },
   "source": [
    "<details>\n",
    "  <summary><h4><strong>Hint 2</strong></h4></summary>\n",
    "\n",
    "Use the `unique()` method on the column `'species'`.\n",
    "\n",
    "</details>"
   ]
  },
  {
   "cell_type": "code",
   "execution_count": 5,
   "id": "1e01fc4f",
   "metadata": {
    "execution": {
     "iopub.execute_input": "2025-02-14T03:57:26.571843Z",
     "iopub.status.busy": "2025-02-14T03:57:26.571543Z",
     "iopub.status.idle": "2025-02-14T03:57:26.581789Z",
     "shell.execute_reply": "2025-02-14T03:57:26.580454Z"
    },
    "id": "1730341a",
    "papermill": {
     "duration": 0.022078,
     "end_time": "2025-02-14T03:57:26.583027",
     "exception": false,
     "start_time": "2025-02-14T03:57:26.560949",
     "status": "completed"
    },
    "tags": []
   },
   "outputs": [
    {
     "data": {
      "text/plain": [
       "species\n",
       "Adelie       152\n",
       "Gentoo       124\n",
       "Chinstrap     68\n",
       "Name: count, dtype: int64"
      ]
     },
     "execution_count": 5,
     "metadata": {},
     "output_type": "execute_result"
    }
   ],
   "source": [
    "# Find the count of each species type.\n",
    "\n",
    "### YOUR CODE HERE ###\n",
    "penguins['species'].value_counts()"
   ]
  },
  {
   "cell_type": "markdown",
   "id": "d2dca21f",
   "metadata": {
    "id": "74fe9495",
    "papermill": {
     "duration": 0.009335,
     "end_time": "2025-02-14T03:57:26.602958",
     "exception": false,
     "start_time": "2025-02-14T03:57:26.593623",
     "status": "completed"
    },
    "tags": []
   },
   "source": [
    "<details>\n",
    "  <summary><h4><strong>Hint 1</strong></h4></summary>\n",
    "\n",
    "Use the `value_counts()` method.\n",
    "\n",
    "</details>"
   ]
  },
  {
   "cell_type": "markdown",
   "id": "37933e35",
   "metadata": {
    "id": "a65b62e6",
    "papermill": {
     "duration": 0.009897,
     "end_time": "2025-02-14T03:57:26.622640",
     "exception": false,
     "start_time": "2025-02-14T03:57:26.612743",
     "status": "completed"
    },
    "tags": []
   },
   "source": [
    "<details>\n",
    "  <summary><h4><strong>Hint 2</strong></h4></summary>\n",
    "\n",
    "Use the `value_counts()` method on the column `'species'`.\n",
    "\n",
    "</details>"
   ]
  },
  {
   "cell_type": "markdown",
   "id": "b9f1072a",
   "metadata": {
    "id": "a2ae00e8",
    "papermill": {
     "duration": 0.009193,
     "end_time": "2025-02-14T03:57:26.641582",
     "exception": false,
     "start_time": "2025-02-14T03:57:26.632389",
     "status": "completed"
    },
    "tags": []
   },
   "source": [
    "**Question:** How many types of species are present in the dataset?"
   ]
  },
  {
   "cell_type": "markdown",
   "id": "29f9ae13",
   "metadata": {
    "id": "yP0PPSd9dwIy",
    "papermill": {
     "duration": 0.009256,
     "end_time": "2025-02-14T03:57:26.660473",
     "exception": false,
     "start_time": "2025-02-14T03:57:26.651217",
     "status": "completed"
    },
    "tags": []
   },
   "source": [
    "* 3 species --> ['Adelie' 'Chinstrap' 'Gentoo']"
   ]
  },
  {
   "cell_type": "markdown",
   "id": "ea04061b",
   "metadata": {
    "id": "1f175bc9",
    "papermill": {
     "duration": 0.009376,
     "end_time": "2025-02-14T03:57:26.679524",
     "exception": false,
     "start_time": "2025-02-14T03:57:26.670148",
     "status": "completed"
    },
    "tags": []
   },
   "source": [
    "**Question:** Why is it helpful to determine the perfect number of clusters using K-means when you already know how many penguin species the dataset contains?"
   ]
  },
  {
   "cell_type": "markdown",
   "id": "2776dba5",
   "metadata": {
    "id": "yP0PPSd9dwIy",
    "papermill": {
     "duration": 0.009391,
     "end_time": "2025-02-14T03:57:26.698570",
     "exception": false,
     "start_time": "2025-02-14T03:57:26.689179",
     "status": "completed"
    },
    "tags": []
   },
   "source": [
    "* to find out how the clustering model works by considering the target at hand"
   ]
  },
  {
   "cell_type": "markdown",
   "id": "90b35410",
   "metadata": {
    "id": "4222ca54",
    "papermill": {
     "duration": 0.009643,
     "end_time": "2025-02-14T03:57:26.718177",
     "exception": false,
     "start_time": "2025-02-14T03:57:26.708534",
     "status": "completed"
    },
    "tags": []
   },
   "source": [
    "### Check for missing values"
   ]
  },
  {
   "cell_type": "markdown",
   "id": "9dce21f3",
   "metadata": {
    "id": "TgANHJBVxpbI",
    "papermill": {
     "duration": 0.009678,
     "end_time": "2025-02-14T03:57:26.737864",
     "exception": false,
     "start_time": "2025-02-14T03:57:26.728186",
     "status": "completed"
    },
    "tags": []
   },
   "source": [
    "An assumption of K-means is that there are no missing values. Check for missing values in the rows of the data. "
   ]
  },
  {
   "cell_type": "code",
   "execution_count": 6,
   "id": "48a95e0d",
   "metadata": {
    "execution": {
     "iopub.execute_input": "2025-02-14T03:57:26.758726Z",
     "iopub.status.busy": "2025-02-14T03:57:26.758354Z",
     "iopub.status.idle": "2025-02-14T03:57:26.765312Z",
     "shell.execute_reply": "2025-02-14T03:57:26.764560Z"
    },
    "id": "3_SVlY1VpY4h",
    "papermill": {
     "duration": 0.018734,
     "end_time": "2025-02-14T03:57:26.766538",
     "exception": false,
     "start_time": "2025-02-14T03:57:26.747804",
     "status": "completed"
    },
    "tags": []
   },
   "outputs": [
    {
     "data": {
      "text/plain": [
       "species               0\n",
       "island                0\n",
       "bill_length_mm        2\n",
       "bill_depth_mm         2\n",
       "flipper_length_mm     2\n",
       "body_mass_g           2\n",
       "sex                  11\n",
       "dtype: int64"
      ]
     },
     "execution_count": 6,
     "metadata": {},
     "output_type": "execute_result"
    }
   ],
   "source": [
    "# Check for missing values.\n",
    "\n",
    "### YOUR CODE HERE ###\n",
    "penguins.isnull().sum()"
   ]
  },
  {
   "cell_type": "markdown",
   "id": "a1ac12a3",
   "metadata": {
    "id": "ptn9xlIjJOAL",
    "papermill": {
     "duration": 0.009382,
     "end_time": "2025-02-14T03:57:26.785728",
     "exception": false,
     "start_time": "2025-02-14T03:57:26.776346",
     "status": "completed"
    },
    "tags": []
   },
   "source": [
    "<details>\n",
    "  <summary><h4><strong>Hint 1</strong></h4></summary>\n",
    "\n",
    "Use the `isnull` and `sum` methods. \n",
    "\n",
    "</details>"
   ]
  },
  {
   "cell_type": "markdown",
   "id": "7e705409",
   "metadata": {
    "id": "eb005a73-4621-45b9-8114-30472ce20327",
    "papermill": {
     "duration": 0.009806,
     "end_time": "2025-02-14T03:57:26.806613",
     "exception": false,
     "start_time": "2025-02-14T03:57:26.796807",
     "status": "completed"
    },
    "tags": []
   },
   "source": [
    "Now, drop the rows with missing values and save the resulting pandas DataFrame in a variable named `penguins_subset`."
   ]
  },
  {
   "cell_type": "code",
   "execution_count": 7,
   "id": "98141f6c",
   "metadata": {
    "execution": {
     "iopub.execute_input": "2025-02-14T03:57:26.827705Z",
     "iopub.status.busy": "2025-02-14T03:57:26.827352Z",
     "iopub.status.idle": "2025-02-14T03:57:26.836045Z",
     "shell.execute_reply": "2025-02-14T03:57:26.835212Z"
    },
    "id": "1cee438e-8b1f-4855-855e-3723d1958b69",
    "papermill": {
     "duration": 0.020552,
     "end_time": "2025-02-14T03:57:26.837128",
     "exception": false,
     "start_time": "2025-02-14T03:57:26.816576",
     "status": "completed"
    },
    "tags": []
   },
   "outputs": [],
   "source": [
    "# Drop rows with missing values.\n",
    "# Save DataFrame in variable `penguins_subset`.\n",
    "\n",
    "### YOUR CODE HERE ###\n",
    "penguins_subset = penguins.dropna(axis=0).reset_index(drop = True)"
   ]
  },
  {
   "cell_type": "markdown",
   "id": "d5f3c757",
   "metadata": {
    "id": "374b2b21",
    "papermill": {
     "duration": 0.009725,
     "end_time": "2025-02-14T03:57:26.857648",
     "exception": false,
     "start_time": "2025-02-14T03:57:26.847923",
     "status": "completed"
    },
    "tags": []
   },
   "source": [
    "<details>\n",
    "  <summary><h4><strong>Hint 1</strong></h4></summary>\n",
    "\n",
    "Use `dropna`. Note that an axis parameter passed in to this function should be set to 0 if you want to drop rows containing missing values or 1 if you want to drop columns containing missing values. Optionally, `reset_index` may also be used to avoid a SettingWithCopy warning later in the notebook. \n",
    "</details>"
   ]
  },
  {
   "cell_type": "markdown",
   "id": "9fab3661",
   "metadata": {
    "id": "ymfmX-WvW31z",
    "papermill": {
     "duration": 0.011037,
     "end_time": "2025-02-14T03:57:26.878946",
     "exception": false,
     "start_time": "2025-02-14T03:57:26.867909",
     "status": "completed"
    },
    "tags": []
   },
   "source": [
    "Next, check to make sure that `penguins_subset` does not contain any missing values."
   ]
  },
  {
   "cell_type": "code",
   "execution_count": 8,
   "id": "5dfe78e3",
   "metadata": {
    "execution": {
     "iopub.execute_input": "2025-02-14T03:57:26.900841Z",
     "iopub.status.busy": "2025-02-14T03:57:26.900510Z",
     "iopub.status.idle": "2025-02-14T03:57:26.906165Z",
     "shell.execute_reply": "2025-02-14T03:57:26.905498Z"
    },
    "id": "n36d4yztW4BA",
    "papermill": {
     "duration": 0.018106,
     "end_time": "2025-02-14T03:57:26.907381",
     "exception": false,
     "start_time": "2025-02-14T03:57:26.889275",
     "status": "completed"
    },
    "tags": []
   },
   "outputs": [
    {
     "data": {
      "text/plain": [
       "species              0\n",
       "island               0\n",
       "bill_length_mm       0\n",
       "bill_depth_mm        0\n",
       "flipper_length_mm    0\n",
       "body_mass_g          0\n",
       "sex                  0\n",
       "dtype: int64"
      ]
     },
     "execution_count": 8,
     "metadata": {},
     "output_type": "execute_result"
    }
   ],
   "source": [
    "# Check for missing values.\n",
    "\n",
    "### YOUR CODE HERE ###\n",
    "penguins_subset.isna().sum()"
   ]
  },
  {
   "cell_type": "markdown",
   "id": "40f779f5",
   "metadata": {
    "id": "0021b18e-4c93-4628-8d0d-2c55a98cc691",
    "papermill": {
     "duration": 0.009448,
     "end_time": "2025-02-14T03:57:26.927361",
     "exception": false,
     "start_time": "2025-02-14T03:57:26.917913",
     "status": "completed"
    },
    "tags": []
   },
   "source": [
    "Now, review the first 10 rows of the subset."
   ]
  },
  {
   "cell_type": "code",
   "execution_count": 9,
   "id": "5f5364ce",
   "metadata": {
    "execution": {
     "iopub.execute_input": "2025-02-14T03:57:26.988319Z",
     "iopub.status.busy": "2025-02-14T03:57:26.988034Z",
     "iopub.status.idle": "2025-02-14T03:57:26.998413Z",
     "shell.execute_reply": "2025-02-14T03:57:26.997663Z"
    },
    "id": "a58b4d77-6023-428d-89aa-4d2ac52003dc",
    "papermill": {
     "duration": 0.062568,
     "end_time": "2025-02-14T03:57:26.999587",
     "exception": false,
     "start_time": "2025-02-14T03:57:26.937019",
     "status": "completed"
    },
    "tags": []
   },
   "outputs": [
    {
     "data": {
      "text/html": [
       "<div>\n",
       "<style scoped>\n",
       "    .dataframe tbody tr th:only-of-type {\n",
       "        vertical-align: middle;\n",
       "    }\n",
       "\n",
       "    .dataframe tbody tr th {\n",
       "        vertical-align: top;\n",
       "    }\n",
       "\n",
       "    .dataframe thead th {\n",
       "        text-align: right;\n",
       "    }\n",
       "</style>\n",
       "<table border=\"1\" class=\"dataframe\">\n",
       "  <thead>\n",
       "    <tr style=\"text-align: right;\">\n",
       "      <th></th>\n",
       "      <th>species</th>\n",
       "      <th>island</th>\n",
       "      <th>bill_length_mm</th>\n",
       "      <th>bill_depth_mm</th>\n",
       "      <th>flipper_length_mm</th>\n",
       "      <th>body_mass_g</th>\n",
       "      <th>sex</th>\n",
       "    </tr>\n",
       "  </thead>\n",
       "  <tbody>\n",
       "    <tr>\n",
       "      <th>0</th>\n",
       "      <td>Adelie</td>\n",
       "      <td>Torgersen</td>\n",
       "      <td>39.1</td>\n",
       "      <td>18.7</td>\n",
       "      <td>181.0</td>\n",
       "      <td>3750.0</td>\n",
       "      <td>male</td>\n",
       "    </tr>\n",
       "    <tr>\n",
       "      <th>1</th>\n",
       "      <td>Adelie</td>\n",
       "      <td>Torgersen</td>\n",
       "      <td>39.5</td>\n",
       "      <td>17.4</td>\n",
       "      <td>186.0</td>\n",
       "      <td>3800.0</td>\n",
       "      <td>female</td>\n",
       "    </tr>\n",
       "    <tr>\n",
       "      <th>2</th>\n",
       "      <td>Adelie</td>\n",
       "      <td>Torgersen</td>\n",
       "      <td>40.3</td>\n",
       "      <td>18.0</td>\n",
       "      <td>195.0</td>\n",
       "      <td>3250.0</td>\n",
       "      <td>female</td>\n",
       "    </tr>\n",
       "    <tr>\n",
       "      <th>3</th>\n",
       "      <td>Adelie</td>\n",
       "      <td>Torgersen</td>\n",
       "      <td>36.7</td>\n",
       "      <td>19.3</td>\n",
       "      <td>193.0</td>\n",
       "      <td>3450.0</td>\n",
       "      <td>female</td>\n",
       "    </tr>\n",
       "    <tr>\n",
       "      <th>4</th>\n",
       "      <td>Adelie</td>\n",
       "      <td>Torgersen</td>\n",
       "      <td>39.3</td>\n",
       "      <td>20.6</td>\n",
       "      <td>190.0</td>\n",
       "      <td>3650.0</td>\n",
       "      <td>male</td>\n",
       "    </tr>\n",
       "    <tr>\n",
       "      <th>5</th>\n",
       "      <td>Adelie</td>\n",
       "      <td>Torgersen</td>\n",
       "      <td>38.9</td>\n",
       "      <td>17.8</td>\n",
       "      <td>181.0</td>\n",
       "      <td>3625.0</td>\n",
       "      <td>female</td>\n",
       "    </tr>\n",
       "    <tr>\n",
       "      <th>6</th>\n",
       "      <td>Adelie</td>\n",
       "      <td>Torgersen</td>\n",
       "      <td>39.2</td>\n",
       "      <td>19.6</td>\n",
       "      <td>195.0</td>\n",
       "      <td>4675.0</td>\n",
       "      <td>male</td>\n",
       "    </tr>\n",
       "    <tr>\n",
       "      <th>7</th>\n",
       "      <td>Adelie</td>\n",
       "      <td>Torgersen</td>\n",
       "      <td>41.1</td>\n",
       "      <td>17.6</td>\n",
       "      <td>182.0</td>\n",
       "      <td>3200.0</td>\n",
       "      <td>female</td>\n",
       "    </tr>\n",
       "    <tr>\n",
       "      <th>8</th>\n",
       "      <td>Adelie</td>\n",
       "      <td>Torgersen</td>\n",
       "      <td>38.6</td>\n",
       "      <td>21.2</td>\n",
       "      <td>191.0</td>\n",
       "      <td>3800.0</td>\n",
       "      <td>male</td>\n",
       "    </tr>\n",
       "    <tr>\n",
       "      <th>9</th>\n",
       "      <td>Adelie</td>\n",
       "      <td>Torgersen</td>\n",
       "      <td>34.6</td>\n",
       "      <td>21.1</td>\n",
       "      <td>198.0</td>\n",
       "      <td>4400.0</td>\n",
       "      <td>male</td>\n",
       "    </tr>\n",
       "  </tbody>\n",
       "</table>\n",
       "</div>"
      ],
      "text/plain": [
       "  species     island  bill_length_mm  bill_depth_mm  flipper_length_mm  \\\n",
       "0  Adelie  Torgersen            39.1           18.7              181.0   \n",
       "1  Adelie  Torgersen            39.5           17.4              186.0   \n",
       "2  Adelie  Torgersen            40.3           18.0              195.0   \n",
       "3  Adelie  Torgersen            36.7           19.3              193.0   \n",
       "4  Adelie  Torgersen            39.3           20.6              190.0   \n",
       "5  Adelie  Torgersen            38.9           17.8              181.0   \n",
       "6  Adelie  Torgersen            39.2           19.6              195.0   \n",
       "7  Adelie  Torgersen            41.1           17.6              182.0   \n",
       "8  Adelie  Torgersen            38.6           21.2              191.0   \n",
       "9  Adelie  Torgersen            34.6           21.1              198.0   \n",
       "\n",
       "   body_mass_g     sex  \n",
       "0       3750.0    male  \n",
       "1       3800.0  female  \n",
       "2       3250.0  female  \n",
       "3       3450.0  female  \n",
       "4       3650.0    male  \n",
       "5       3625.0  female  \n",
       "6       4675.0    male  \n",
       "7       3200.0  female  \n",
       "8       3800.0    male  \n",
       "9       4400.0    male  "
      ]
     },
     "execution_count": 9,
     "metadata": {},
     "output_type": "execute_result"
    }
   ],
   "source": [
    "# View first 10 rows.\n",
    "\n",
    "### YOUR CODE HERE ###\n",
    "penguins_subset.head(10)"
   ]
  },
  {
   "cell_type": "markdown",
   "id": "5c0b8137",
   "metadata": {
    "id": "d491a508",
    "papermill": {
     "duration": 0.010367,
     "end_time": "2025-02-14T03:57:27.021238",
     "exception": false,
     "start_time": "2025-02-14T03:57:27.010871",
     "status": "completed"
    },
    "tags": []
   },
   "source": [
    "### Encode data\n",
    "\n",
    "Some versions of the penguins dataset have values encoded in the sex column as 'Male' and 'Female' instead of 'MALE' and 'FEMALE'. The code below will make sure all values are ALL CAPS. \n"
   ]
  },
  {
   "cell_type": "code",
   "execution_count": 10,
   "id": "9fbf5d0b",
   "metadata": {
    "execution": {
     "iopub.execute_input": "2025-02-14T03:57:27.043358Z",
     "iopub.status.busy": "2025-02-14T03:57:27.043020Z",
     "iopub.status.idle": "2025-02-14T03:57:27.048188Z",
     "shell.execute_reply": "2025-02-14T03:57:27.047046Z"
    },
    "id": "ofs1fqq9HQ-2",
    "papermill": {
     "duration": 0.017626,
     "end_time": "2025-02-14T03:57:27.049402",
     "exception": false,
     "start_time": "2025-02-14T03:57:27.031776",
     "status": "completed"
    },
    "tags": []
   },
   "outputs": [],
   "source": [
    "penguins_subset['sex'] = penguins_subset['sex'].str.upper()"
   ]
  },
  {
   "cell_type": "markdown",
   "id": "18a9a784",
   "metadata": {
    "id": "EO5fqIwUHOmi",
    "papermill": {
     "duration": 0.01035,
     "end_time": "2025-02-14T03:57:27.070763",
     "exception": false,
     "start_time": "2025-02-14T03:57:27.060413",
     "status": "completed"
    },
    "tags": []
   },
   "source": [
    "K-means needs numeric columns for clustering. Convert the categorical column `'sex'` into numeric. There is no need to convert the `'species'` column because it isn't being used as a feature in the clustering algorithm. "
   ]
  },
  {
   "cell_type": "code",
   "execution_count": 11,
   "id": "dc6d5b1f",
   "metadata": {
    "execution": {
     "iopub.execute_input": "2025-02-14T03:57:27.092287Z",
     "iopub.status.busy": "2025-02-14T03:57:27.091993Z",
     "iopub.status.idle": "2025-02-14T03:57:27.101798Z",
     "shell.execute_reply": "2025-02-14T03:57:27.101114Z"
    },
    "id": "U833roOu1Qf9",
    "papermill": {
     "duration": 0.022128,
     "end_time": "2025-02-14T03:57:27.102983",
     "exception": false,
     "start_time": "2025-02-14T03:57:27.080855",
     "status": "completed"
    },
    "tags": []
   },
   "outputs": [],
   "source": [
    "# Convert `sex` column from categorical to numeric.\n",
    "\n",
    "### YOUR CODE HERE ###\n",
    "penguins_subset = pd.get_dummies(penguins_subset, drop_first = True, columns=['sex'])"
   ]
  },
  {
   "cell_type": "markdown",
   "id": "5db94232",
   "metadata": {
    "id": "d10c6d43",
    "papermill": {
     "duration": 0.009739,
     "end_time": "2025-02-14T03:57:27.123569",
     "exception": false,
     "start_time": "2025-02-14T03:57:27.113830",
     "status": "completed"
    },
    "tags": []
   },
   "source": [
    "<details>\n",
    "  <summary><h4><strong>Hint 1</strong></h4></summary>\n",
    "\n",
    "Use the `get_dummies` function. \n",
    "\n",
    "</details>"
   ]
  },
  {
   "cell_type": "markdown",
   "id": "d4cafa75",
   "metadata": {
    "id": "4ef2e46a",
    "papermill": {
     "duration": 0.009867,
     "end_time": "2025-02-14T03:57:27.143418",
     "exception": false,
     "start_time": "2025-02-14T03:57:27.133551",
     "status": "completed"
    },
    "tags": []
   },
   "source": [
    "<details>\n",
    "  <summary><h4><strong>Hint 2</strong></h4></summary>\n",
    "\n",
    "The `drop_first` parameter should be set to `True`. This removes redundant data. The `columns` parameter can **optionally** be set to `['sex']` to specify that only the `'sex'` column gets this operation performed on it. \n",
    "\n",
    "</details>"
   ]
  },
  {
   "cell_type": "markdown",
   "id": "31fba068",
   "metadata": {
    "id": "725cc2b0",
    "papermill": {
     "duration": 0.00988,
     "end_time": "2025-02-14T03:57:27.163242",
     "exception": false,
     "start_time": "2025-02-14T03:57:27.153362",
     "status": "completed"
    },
    "tags": []
   },
   "source": [
    "### Drop a column\n",
    "\n",
    "Drop the categorical column `island` from the dataset. While it has value, this notebook is trying to confirm if penguins of the same species exhibit different physical characteristics based on sex. This doesn't include location.\n",
    "\n",
    "Note that the `'species'` column is not numeric. Don't drop the `'species'` column for now. It could potentially be used to help understand the clusters later. "
   ]
  },
  {
   "cell_type": "code",
   "execution_count": 12,
   "id": "0ac69cee",
   "metadata": {
    "execution": {
     "iopub.execute_input": "2025-02-14T03:57:27.184308Z",
     "iopub.status.busy": "2025-02-14T03:57:27.184004Z",
     "iopub.status.idle": "2025-02-14T03:57:27.188354Z",
     "shell.execute_reply": "2025-02-14T03:57:27.187542Z"
    },
    "id": "841986cc",
    "papermill": {
     "duration": 0.016531,
     "end_time": "2025-02-14T03:57:27.189736",
     "exception": false,
     "start_time": "2025-02-14T03:57:27.173205",
     "status": "completed"
    },
    "tags": []
   },
   "outputs": [],
   "source": [
    "# Drop the island column.\n",
    "\n",
    "### YOUR CODE HERE ###\n",
    "penguins_subset = penguins_subset.drop(['island'], axis=1)"
   ]
  },
  {
   "cell_type": "markdown",
   "id": "8a447f64",
   "metadata": {
    "id": "Gqs356GLi-OX",
    "papermill": {
     "duration": 0.009889,
     "end_time": "2025-02-14T03:57:27.209678",
     "exception": false,
     "start_time": "2025-02-14T03:57:27.199789",
     "status": "completed"
    },
    "tags": []
   },
   "source": [
    "### Scale the features\n",
    "\n",
    "Because K-means uses distance between observations as its measure of similarity, it's important to scale the data before modeling. Use a third-party tool, such as scikit-learn's `StandardScaler` function. `StandardScaler` scales each point xᵢ by subtracting the mean observed value for that feature and dividing by the standard deviation:\n",
    "\n",
    "x-scaled = (xᵢ – mean(X)) / σ\n",
    "\n",
    "This ensures that all variables have a mean of 0 and variance/standard deviation of 1. \n",
    "\n",
    "**Note:** Because the species column isn't a feature, it doesn't need to be scaled. \n",
    "\n",
    "First, copy all the features except the `'species'` column to a DataFrame `X`. "
   ]
  },
  {
   "cell_type": "code",
   "execution_count": 13,
   "id": "ffda6fc9",
   "metadata": {
    "execution": {
     "iopub.execute_input": "2025-02-14T03:57:27.230385Z",
     "iopub.status.busy": "2025-02-14T03:57:27.230083Z",
     "iopub.status.idle": "2025-02-14T03:57:27.234130Z",
     "shell.execute_reply": "2025-02-14T03:57:27.233300Z"
    },
    "id": "37a93839",
    "papermill": {
     "duration": 0.015768,
     "end_time": "2025-02-14T03:57:27.235253",
     "exception": false,
     "start_time": "2025-02-14T03:57:27.219485",
     "status": "completed"
    },
    "tags": []
   },
   "outputs": [],
   "source": [
    "# Exclude `species` variable from X\n",
    "\n",
    "### YOUR CODE HERE ###\n",
    "X = penguins_subset.drop(['species'], axis=1)"
   ]
  },
  {
   "cell_type": "markdown",
   "id": "ea90598c",
   "metadata": {
    "id": "bc057c97",
    "papermill": {
     "duration": 0.009762,
     "end_time": "2025-02-14T03:57:27.255508",
     "exception": false,
     "start_time": "2025-02-14T03:57:27.245746",
     "status": "completed"
    },
    "tags": []
   },
   "source": [
    "<details>\n",
    "  <summary><h4><strong>Hint 1</strong></h4></summary>\n",
    "\n",
    "Use`drop()`.\n",
    "</details>"
   ]
  },
  {
   "cell_type": "markdown",
   "id": "48dc4d6b",
   "metadata": {
    "id": "059194c4",
    "papermill": {
     "duration": 0.009735,
     "end_time": "2025-02-14T03:57:27.275235",
     "exception": false,
     "start_time": "2025-02-14T03:57:27.265500",
     "status": "completed"
    },
    "tags": []
   },
   "source": [
    "<details>\n",
    "  <summary><h4><strong>Hint 2</strong></h4></summary>\n",
    "\n",
    "Select all columns except `'species'.`The `axis` parameter passed in to this method should be set to `1` if you want to drop columns.\n",
    "</details>"
   ]
  },
  {
   "cell_type": "markdown",
   "id": "4c7c0c60",
   "metadata": {
    "id": "da3acdc9",
    "papermill": {
     "duration": 0.009807,
     "end_time": "2025-02-14T03:57:27.294913",
     "exception": false,
     "start_time": "2025-02-14T03:57:27.285106",
     "status": "completed"
    },
    "tags": []
   },
   "source": [
    "Scale the features in `X` using `StandardScaler`, and assign the scaled data to a new variable `X_scaled`. "
   ]
  },
  {
   "cell_type": "code",
   "execution_count": 14,
   "id": "aeb2b541",
   "metadata": {
    "execution": {
     "iopub.execute_input": "2025-02-14T03:57:27.316787Z",
     "iopub.status.busy": "2025-02-14T03:57:27.316357Z",
     "iopub.status.idle": "2025-02-14T03:57:27.323061Z",
     "shell.execute_reply": "2025-02-14T03:57:27.322328Z"
    },
    "id": "gJRWMdtgkT4g",
    "papermill": {
     "duration": 0.019087,
     "end_time": "2025-02-14T03:57:27.324191",
     "exception": false,
     "start_time": "2025-02-14T03:57:27.305104",
     "status": "completed"
    },
    "tags": []
   },
   "outputs": [],
   "source": [
    "#Scale the features.\n",
    "#Assign the scaled data to variable `X_scaled`.\n",
    "\n",
    "### YOUR CODE HERE ###\n",
    "X_scaled = StandardScaler().fit_transform(X)"
   ]
  },
  {
   "cell_type": "markdown",
   "id": "f2caa15a",
   "metadata": {
    "id": "08a688d3",
    "papermill": {
     "duration": 0.009911,
     "end_time": "2025-02-14T03:57:27.344861",
     "exception": false,
     "start_time": "2025-02-14T03:57:27.334950",
     "status": "completed"
    },
    "tags": []
   },
   "source": [
    "<details>\n",
    "  <summary><h4><strong>Hint 1</strong></h4></summary>\n",
    "\n",
    "Instantiate StandardScaler to transform the data in a single step.\n",
    "</details>"
   ]
  },
  {
   "cell_type": "markdown",
   "id": "65771c51",
   "metadata": {
    "id": "05445583",
    "papermill": {
     "duration": 0.009974,
     "end_time": "2025-02-14T03:57:27.364993",
     "exception": false,
     "start_time": "2025-02-14T03:57:27.355019",
     "status": "completed"
    },
    "tags": []
   },
   "source": [
    "<details>\n",
    "  <summary><h4><strong>Hint 2</strong></h4></summary>\n",
    "\n",
    "Use the `.fit_transform()` method and pass in the data as an argument.\n",
    "</details>"
   ]
  },
  {
   "cell_type": "markdown",
   "id": "53e3ade1",
   "metadata": {
    "id": "beKyGofii-tO",
    "papermill": {
     "duration": 0.00984,
     "end_time": "2025-02-14T03:57:27.384937",
     "exception": false,
     "start_time": "2025-02-14T03:57:27.375097",
     "status": "completed"
    },
    "tags": []
   },
   "source": [
    "## **Step 3: Data modeling** "
   ]
  },
  {
   "cell_type": "markdown",
   "id": "91438b70",
   "metadata": {
    "id": "15120a7e",
    "papermill": {
     "duration": 0.00989,
     "end_time": "2025-02-14T03:57:27.405193",
     "exception": false,
     "start_time": "2025-02-14T03:57:27.395303",
     "status": "completed"
    },
    "tags": []
   },
   "source": [
    "Now, fit K-means and evaluate inertia for different values of k. Because you may not know how many clusters exist in the data, start by fitting K-means and examining the inertia values for different values of k. To do this, write a function called `kmeans_inertia` that takes in `num_clusters` and `x_vals` (`X_scaled`) and returns a list of each k-value's inertia.\n",
    "\n",
    "When using K-means inside the function, set the `random_state` to `42`. This way, others can reproduce your results."
   ]
  },
  {
   "cell_type": "code",
   "execution_count": 15,
   "id": "659d6e2d",
   "metadata": {
    "execution": {
     "iopub.execute_input": "2025-02-14T03:57:27.426701Z",
     "iopub.status.busy": "2025-02-14T03:57:27.426305Z",
     "iopub.status.idle": "2025-02-14T03:57:27.430963Z",
     "shell.execute_reply": "2025-02-14T03:57:27.430266Z"
    },
    "id": "hCq5xkM0hw7n",
    "papermill": {
     "duration": 0.016748,
     "end_time": "2025-02-14T03:57:27.432030",
     "exception": false,
     "start_time": "2025-02-14T03:57:27.415282",
     "status": "completed"
    },
    "tags": []
   },
   "outputs": [],
   "source": [
    "# Fit K-means and evaluate inertia for different values of k.\n",
    "\n",
    "### YOUR CODE HERE ###\n",
    "\n",
    "# iterating clusters from minimum 2 to maximum 10\n",
    "num_clusters = [i for i in range(2, 11)]\n",
    "\n",
    "\n",
    "# function to evaluate inertia\n",
    "def kmeans_inertia(num_clusters, x_vals):\n",
    "    \"\"\"\n",
    "    INPUTS:\n",
    "    num_clusters --> int\n",
    "    x_vals --> dataframe\n",
    "    \n",
    "    creates a model by looping through different num_clusters values \n",
    "    finds the inertia of the generated model and appends in a list\n",
    "    \n",
    "    OUTPUT:\n",
    "    list of inertia values\n",
    "    \"\"\"\n",
    "    # empty list\n",
    "    inertia = []\n",
    "    \n",
    "    # loop though different num_clusters\n",
    "    for num in num_clusters:\n",
    "        \n",
    "        # construct KMeans clustering for the n_cluster\n",
    "        kms = KMeans(n_clusters=num, random_state=42)\n",
    "        \n",
    "        # fit the data\n",
    "        kms.fit(x_vals)\n",
    "        \n",
    "        # extract model's inertia\n",
    "        inertia.append(kms.inertia_)\n",
    "\n",
    "    return inertia"
   ]
  },
  {
   "cell_type": "markdown",
   "id": "c284b476",
   "metadata": {
    "id": "21c96ecc",
    "papermill": {
     "duration": 0.009906,
     "end_time": "2025-02-14T03:57:27.452131",
     "exception": false,
     "start_time": "2025-02-14T03:57:27.442225",
     "status": "completed"
    },
    "tags": []
   },
   "source": [
    "Use the `kmeans_inertia` function to return a list of inertia for k=2 to 10."
   ]
  },
  {
   "cell_type": "code",
   "execution_count": 16,
   "id": "be16779c",
   "metadata": {
    "execution": {
     "iopub.execute_input": "2025-02-14T03:57:27.473460Z",
     "iopub.status.busy": "2025-02-14T03:57:27.473149Z",
     "iopub.status.idle": "2025-02-14T03:57:27.675775Z",
     "shell.execute_reply": "2025-02-14T03:57:27.674012Z"
    },
    "id": "p7dWwBQih0dd",
    "papermill": {
     "duration": 0.215242,
     "end_time": "2025-02-14T03:57:27.677546",
     "exception": false,
     "start_time": "2025-02-14T03:57:27.462304",
     "status": "completed"
    },
    "tags": []
   },
   "outputs": [
    {
     "name": "stderr",
     "output_type": "stream",
     "text": [
      "/usr/local/lib/python3.10/dist-packages/sklearn/cluster/_kmeans.py:870: FutureWarning: The default value of `n_init` will change from 10 to 'auto' in 1.4. Set the value of `n_init` explicitly to suppress the warning\n",
      "  warnings.warn(\n",
      "/usr/local/lib/python3.10/dist-packages/sklearn/cluster/_kmeans.py:870: FutureWarning: The default value of `n_init` will change from 10 to 'auto' in 1.4. Set the value of `n_init` explicitly to suppress the warning\n",
      "  warnings.warn(\n",
      "/usr/local/lib/python3.10/dist-packages/sklearn/cluster/_kmeans.py:870: FutureWarning: The default value of `n_init` will change from 10 to 'auto' in 1.4. Set the value of `n_init` explicitly to suppress the warning\n",
      "  warnings.warn(\n",
      "/usr/local/lib/python3.10/dist-packages/sklearn/cluster/_kmeans.py:870: FutureWarning: The default value of `n_init` will change from 10 to 'auto' in 1.4. Set the value of `n_init` explicitly to suppress the warning\n",
      "  warnings.warn(\n",
      "/usr/local/lib/python3.10/dist-packages/sklearn/cluster/_kmeans.py:870: FutureWarning: The default value of `n_init` will change from 10 to 'auto' in 1.4. Set the value of `n_init` explicitly to suppress the warning\n",
      "  warnings.warn(\n",
      "/usr/local/lib/python3.10/dist-packages/sklearn/cluster/_kmeans.py:870: FutureWarning: The default value of `n_init` will change from 10 to 'auto' in 1.4. Set the value of `n_init` explicitly to suppress the warning\n",
      "  warnings.warn(\n",
      "/usr/local/lib/python3.10/dist-packages/sklearn/cluster/_kmeans.py:870: FutureWarning: The default value of `n_init` will change from 10 to 'auto' in 1.4. Set the value of `n_init` explicitly to suppress the warning\n",
      "  warnings.warn(\n",
      "/usr/local/lib/python3.10/dist-packages/sklearn/cluster/_kmeans.py:870: FutureWarning: The default value of `n_init` will change from 10 to 'auto' in 1.4. Set the value of `n_init` explicitly to suppress the warning\n",
      "  warnings.warn(\n",
      "/usr/local/lib/python3.10/dist-packages/sklearn/cluster/_kmeans.py:870: FutureWarning: The default value of `n_init` will change from 10 to 'auto' in 1.4. Set the value of `n_init` explicitly to suppress the warning\n",
      "  warnings.warn(\n"
     ]
    },
    {
     "data": {
      "text/plain": [
       "[885.622414365225,\n",
       " 578.8284278107235,\n",
       " 386.1453442477329,\n",
       " 284.54648378982887,\n",
       " 217.92858573807678,\n",
       " 201.39287843423267,\n",
       " 185.46131043232305,\n",
       " 173.45452114979852,\n",
       " 164.12001520260708]"
      ]
     },
     "execution_count": 16,
     "metadata": {},
     "output_type": "execute_result"
    }
   ],
   "source": [
    "# Return a list of inertia for k=2 to 10.\n",
    "\n",
    "### YOUR CODE HERE ###\n",
    "inertia = kmeans_inertia(num_clusters, X_scaled)\n",
    "inertia"
   ]
  },
  {
   "cell_type": "markdown",
   "id": "cb2c76c2",
   "metadata": {
    "id": "7e574f05",
    "papermill": {
     "duration": 0.010527,
     "end_time": "2025-02-14T03:57:27.699114",
     "exception": false,
     "start_time": "2025-02-14T03:57:27.688587",
     "status": "completed"
    },
    "tags": []
   },
   "source": [
    "<details>\n",
    "  <summary><h4><strong>Hint 1</strong></h4></summary>\n",
    "\n",
    "Review the material about the `kmeans_inertia` function. \n",
    "</details>"
   ]
  },
  {
   "cell_type": "markdown",
   "id": "3d270bb8",
   "metadata": {
    "id": "fa331d9a",
    "papermill": {
     "duration": 0.010016,
     "end_time": "2025-02-14T03:57:27.719861",
     "exception": false,
     "start_time": "2025-02-14T03:57:27.709845",
     "status": "completed"
    },
    "tags": []
   },
   "source": [
    "Next, create a line plot that shows the relationship between `num_clusters` and `inertia`.\n",
    "Use either seaborn or matplotlib to visualize this relationship. "
   ]
  },
  {
   "cell_type": "code",
   "execution_count": 17,
   "id": "43da80ba",
   "metadata": {
    "execution": {
     "iopub.execute_input": "2025-02-14T03:57:27.741319Z",
     "iopub.status.busy": "2025-02-14T03:57:27.741053Z",
     "iopub.status.idle": "2025-02-14T03:57:27.988786Z",
     "shell.execute_reply": "2025-02-14T03:57:27.987868Z"
    },
    "id": "46yOZCg4h9a4",
    "papermill": {
     "duration": 0.259924,
     "end_time": "2025-02-14T03:57:27.989985",
     "exception": false,
     "start_time": "2025-02-14T03:57:27.730061",
     "status": "completed"
    },
    "tags": []
   },
   "outputs": [
    {
     "name": "stderr",
     "output_type": "stream",
     "text": [
      "/usr/local/lib/python3.10/dist-packages/seaborn/_oldcore.py:1119: FutureWarning: use_inf_as_na option is deprecated and will be removed in a future version. Convert inf values to NaN before operating instead.\n",
      "  with pd.option_context('mode.use_inf_as_na', True):\n",
      "/usr/local/lib/python3.10/dist-packages/seaborn/_oldcore.py:1119: FutureWarning: use_inf_as_na option is deprecated and will be removed in a future version. Convert inf values to NaN before operating instead.\n",
      "  with pd.option_context('mode.use_inf_as_na', True):\n"
     ]
    },
    {
     "data": {
      "text/plain": [
       "Text(0, 0.5, 'Inertia')"
      ]
     },
     "execution_count": 17,
     "metadata": {},
     "output_type": "execute_result"
    },
    {
     "data": {
      "image/png": "[encoded data removed]",
      "text/plain": [
       "<Figure size 640x480 with 1 Axes>"
      ]
     },
     "metadata": {},
     "output_type": "display_data"
    }
   ],
   "source": [
    "# Create a line plot.\n",
    "\n",
    "### YOUR CODE HERE ###\n",
    "\n",
    "# construct a line plot\n",
    "sns.lineplot(x=num_clusters, y=inertia, marker = 'o')\n",
    "\n",
    "# set title, x and y labels\n",
    "plt.title('elbow plot of inertia across diff num_clusters ')\n",
    "plt.xlabel('Number of clusters')\n",
    "plt.ylabel('Inertia')"
   ]
  },
  {
   "cell_type": "markdown",
   "id": "197d59ab",
   "metadata": {
    "id": "011ff9cf",
    "papermill": {
     "duration": 0.010583,
     "end_time": "2025-02-14T03:57:28.011790",
     "exception": false,
     "start_time": "2025-02-14T03:57:28.001207",
     "status": "completed"
    },
    "tags": []
   },
   "source": [
    "<details>\n",
    "  <summary><h4><strong>Hint 1</strong></h4></summary>\n",
    "\n",
    "Use `sns.lineplot`.\n",
    "</details>"
   ]
  },
  {
   "cell_type": "markdown",
   "id": "99137c57",
   "metadata": {
    "id": "19bfddca",
    "papermill": {
     "duration": 0.010659,
     "end_time": "2025-02-14T03:57:28.033234",
     "exception": false,
     "start_time": "2025-02-14T03:57:28.022575",
     "status": "completed"
    },
    "tags": []
   },
   "source": [
    "<details>\n",
    "  <summary><h4><strong>Hint 2</strong></h4></summary>\n",
    "\n",
    "Include `x=num_clusters` and `y=inertia`.\n",
    "</details>"
   ]
  },
  {
   "cell_type": "markdown",
   "id": "9fad5880",
   "metadata": {
    "id": "g-nPzhMPi_oQ",
    "papermill": {
     "duration": 0.010857,
     "end_time": "2025-02-14T03:57:28.055040",
     "exception": false,
     "start_time": "2025-02-14T03:57:28.044183",
     "status": "completed"
    },
    "tags": []
   },
   "source": [
    "**Question:** Where is the elbow in the plot?"
   ]
  },
  {
   "cell_type": "markdown",
   "id": "aa007262",
   "metadata": {
    "id": "RPLSlsyKdtDL",
    "papermill": {
     "duration": 0.010527,
     "end_time": "2025-02-14T03:57:28.076642",
     "exception": false,
     "start_time": "2025-02-14T03:57:28.066115",
     "status": "completed"
    },
    "tags": []
   },
   "source": [
    "* there is NO definite elbow\n",
    "* the optimal num_clusters could be 6 or 7 or 8\n",
    "* we can evaluate silhouette score to zero down on the optimal num_clusters"
   ]
  },
  {
   "cell_type": "markdown",
   "id": "98548ee0",
   "metadata": {
    "id": "fc33c6a3-8610-4b70-b0e9-9b99c345c0ac",
    "papermill": {
     "duration": 0.010445,
     "end_time": "2025-02-14T03:57:28.097533",
     "exception": false,
     "start_time": "2025-02-14T03:57:28.087088",
     "status": "completed"
    },
    "tags": []
   },
   "source": [
    "## **Step 4: Results and evaluation** "
   ]
  },
  {
   "cell_type": "markdown",
   "id": "5f69e61d",
   "metadata": {
    "id": "L0Jmyi8Hi__T",
    "papermill": {
     "duration": 0.010365,
     "end_time": "2025-02-14T03:57:28.118396",
     "exception": false,
     "start_time": "2025-02-14T03:57:28.108031",
     "status": "completed"
    },
    "tags": []
   },
   "source": [
    "Now, evaluate the silhouette score using the `silhouette_score()` function. Silhouette scores are used to study the distance between clusters. "
   ]
  },
  {
   "cell_type": "markdown",
   "id": "7a92bbce",
   "metadata": {
    "id": "64e51814",
    "papermill": {
     "duration": 0.010651,
     "end_time": "2025-02-14T03:57:28.139729",
     "exception": false,
     "start_time": "2025-02-14T03:57:28.129078",
     "status": "completed"
    },
    "tags": []
   },
   "source": [
    "Then, compare the silhouette score of each value of k, from 2 through 10. To do this, write a function called `kmeans_sil` that takes in `num_clusters` and `x_vals` (`X_scaled`) and returns a list of each k-value's silhouette score."
   ]
  },
  {
   "cell_type": "code",
   "execution_count": 18,
   "id": "912aae9f",
   "metadata": {
    "execution": {
     "iopub.execute_input": "2025-02-14T03:57:28.162392Z",
     "iopub.status.busy": "2025-02-14T03:57:28.162122Z",
     "iopub.status.idle": "2025-02-14T03:57:28.166019Z",
     "shell.execute_reply": "2025-02-14T03:57:28.165180Z"
    },
    "id": "nV9ul68GpUhK",
    "papermill": {
     "duration": 0.016649,
     "end_time": "2025-02-14T03:57:28.167208",
     "exception": false,
     "start_time": "2025-02-14T03:57:28.150559",
     "status": "completed"
    },
    "tags": []
   },
   "outputs": [],
   "source": [
    "# Evaluate silhouette score.\n",
    "# Write a function to return a list of each k-value's score.\n",
    "\n",
    "### YOUR CODE HERE ###\n",
    "\n",
    "# function to calculate kmeans silhouette scores\n",
    "def kmeans_silhouette_scores(num_clusters, x_vals):\n",
    "    \"\"\"\n",
    "    Accepts as arguments list of ints and data array. \n",
    "    Fits a KMeans model where k = each value in the list of ints.\n",
    "    Calculates a silhouette score for each k value. \n",
    "    Returns each k-value's silhouette score appended to a list.\n",
    "    \"\"\"\n",
    "    sil_score = []\n",
    "    for num in num_clusters:\n",
    "        kms = KMeans(n_clusters=num, random_state=42)\n",
    "        kms.fit(x_vals)\n",
    "        sil_score.append(silhouette_score(x_vals, kms.labels_))\n",
    "\n",
    "    return sil_score"
   ]
  },
  {
   "cell_type": "code",
   "execution_count": 19,
   "id": "a2fe1b2b",
   "metadata": {
    "execution": {
     "iopub.execute_input": "2025-02-14T03:57:28.189893Z",
     "iopub.status.busy": "2025-02-14T03:57:28.189648Z",
     "iopub.status.idle": "2025-02-14T03:57:28.364778Z",
     "shell.execute_reply": "2025-02-14T03:57:28.363941Z"
    },
    "papermill": {
     "duration": 0.187856,
     "end_time": "2025-02-14T03:57:28.366074",
     "exception": false,
     "start_time": "2025-02-14T03:57:28.178218",
     "status": "completed"
    },
    "tags": []
   },
   "outputs": [
    {
     "name": "stderr",
     "output_type": "stream",
     "text": [
      "/usr/local/lib/python3.10/dist-packages/sklearn/cluster/_kmeans.py:870: FutureWarning: The default value of `n_init` will change from 10 to 'auto' in 1.4. Set the value of `n_init` explicitly to suppress the warning\n",
      "  warnings.warn(\n",
      "/usr/local/lib/python3.10/dist-packages/sklearn/cluster/_kmeans.py:870: FutureWarning: The default value of `n_init` will change from 10 to 'auto' in 1.4. Set the value of `n_init` explicitly to suppress the warning\n",
      "  warnings.warn(\n",
      "/usr/local/lib/python3.10/dist-packages/sklearn/cluster/_kmeans.py:870: FutureWarning: The default value of `n_init` will change from 10 to 'auto' in 1.4. Set the value of `n_init` explicitly to suppress the warning\n",
      "  warnings.warn(\n",
      "/usr/local/lib/python3.10/dist-packages/sklearn/cluster/_kmeans.py:870: FutureWarning: The default value of `n_init` will change from 10 to 'auto' in 1.4. Set the value of `n_init` explicitly to suppress the warning\n",
      "  warnings.warn(\n",
      "/usr/local/lib/python3.10/dist-packages/sklearn/cluster/_kmeans.py:870: FutureWarning: The default value of `n_init` will change from 10 to 'auto' in 1.4. Set the value of `n_init` explicitly to suppress the warning\n",
      "  warnings.warn(\n",
      "/usr/local/lib/python3.10/dist-packages/sklearn/cluster/_kmeans.py:870: FutureWarning: The default value of `n_init` will change from 10 to 'auto' in 1.4. Set the value of `n_init` explicitly to suppress the warning\n",
      "  warnings.warn(\n",
      "/usr/local/lib/python3.10/dist-packages/sklearn/cluster/_kmeans.py:870: FutureWarning: The default value of `n_init` will change from 10 to 'auto' in 1.4. Set the value of `n_init` explicitly to suppress the warning\n",
      "  warnings.warn(\n",
      "/usr/local/lib/python3.10/dist-packages/sklearn/cluster/_kmeans.py:870: FutureWarning: The default value of `n_init` will change from 10 to 'auto' in 1.4. Set the value of `n_init` explicitly to suppress the warning\n",
      "  warnings.warn(\n",
      "/usr/local/lib/python3.10/dist-packages/sklearn/cluster/_kmeans.py:870: FutureWarning: The default value of `n_init` will change from 10 to 'auto' in 1.4. Set the value of `n_init` explicitly to suppress the warning\n",
      "  warnings.warn(\n"
     ]
    },
    {
     "data": {
      "text/plain": [
       "[0.44398088353055243,\n",
       " 0.45101024097188364,\n",
       " 0.5080140996630784,\n",
       " 0.519998574860868,\n",
       " 0.5263224884981605,\n",
       " 0.47774022332151733,\n",
       " 0.42219207326432245,\n",
       " 0.36062890821417276,\n",
       " 0.3617250563420018]"
      ]
     },
     "execution_count": 19,
     "metadata": {},
     "output_type": "execute_result"
    }
   ],
   "source": [
    "# silhouette scores from kmeans for 2 till 10 clusters\n",
    "sil_score = kmeans_silhouette_scores(num_clusters, X_scaled)\n",
    "sil_score"
   ]
  },
  {
   "cell_type": "markdown",
   "id": "b020b60d",
   "metadata": {
    "id": "ed27ba6f",
    "papermill": {
     "duration": 0.011103,
     "end_time": "2025-02-14T03:57:28.388841",
     "exception": false,
     "start_time": "2025-02-14T03:57:28.377738",
     "status": "completed"
    },
    "tags": []
   },
   "source": [
    "<details>\n",
    "  <summary><h4><strong>Hint 1</strong></h4></summary>\n",
    "\n",
    "Review the `kmeans_sil` function video.\n",
    "</details>"
   ]
  },
  {
   "cell_type": "markdown",
   "id": "c036b50d",
   "metadata": {
    "id": "e3d3c989",
    "papermill": {
     "duration": 0.010915,
     "end_time": "2025-02-14T03:57:28.411408",
     "exception": false,
     "start_time": "2025-02-14T03:57:28.400493",
     "status": "completed"
    },
    "tags": []
   },
   "source": [
    "Next, create a line plot that shows the relationship between `num_clusters` and `sil_score`.\n",
    "Use either seaborn or matplotlib to visualize this relationship. "
   ]
  },
  {
   "cell_type": "code",
   "execution_count": 20,
   "id": "38c9c06a",
   "metadata": {
    "execution": {
     "iopub.execute_input": "2025-02-14T03:57:28.435024Z",
     "iopub.status.busy": "2025-02-14T03:57:28.434746Z",
     "iopub.status.idle": "2025-02-14T03:57:28.693649Z",
     "shell.execute_reply": "2025-02-14T03:57:28.692885Z"
    },
    "id": "IyhBJ8qXpbxz",
    "papermill": {
     "duration": 0.272458,
     "end_time": "2025-02-14T03:57:28.694968",
     "exception": false,
     "start_time": "2025-02-14T03:57:28.422510",
     "status": "completed"
    },
    "tags": []
   },
   "outputs": [
    {
     "name": "stderr",
     "output_type": "stream",
     "text": [
      "/usr/local/lib/python3.10/dist-packages/seaborn/_oldcore.py:1119: FutureWarning: use_inf_as_na option is deprecated and will be removed in a future version. Convert inf values to NaN before operating instead.\n",
      "  with pd.option_context('mode.use_inf_as_na', True):\n",
      "/usr/local/lib/python3.10/dist-packages/seaborn/_oldcore.py:1119: FutureWarning: use_inf_as_na option is deprecated and will be removed in a future version. Convert inf values to NaN before operating instead.\n",
      "  with pd.option_context('mode.use_inf_as_na', True):\n"
     ]
    },
    {
     "data": {
      "text/plain": [
       "Text(0, 0.5, 'Silhouette score')"
      ]
     },
     "execution_count": 20,
     "metadata": {},
     "output_type": "execute_result"
    },
    {
     "data": {
      "image/png": "[encoded data removed]",
      "text/plain": [
       "<Figure size 640x480 with 1 Axes>"
      ]
     },
     "metadata": {},
     "output_type": "display_data"
    }
   ],
   "source": [
    "# Create a line plot.\n",
    "\n",
    "### YOUR CODE HERE ###\n",
    "# construct a line plot\n",
    "sns.lineplot(x=num_clusters, y=sil_score, marker = 'o')\n",
    "\n",
    "# set title, x and y labels\n",
    "plt.title('line plot of SILHOUETTE SCORES across diff num_clusters ')\n",
    "plt.xlabel('Number of clusters')\n",
    "plt.ylabel('Silhouette score')"
   ]
  },
  {
   "cell_type": "markdown",
   "id": "7054c1e5",
   "metadata": {
    "id": "045d2a44",
    "papermill": {
     "duration": 0.0122,
     "end_time": "2025-02-14T03:57:28.719456",
     "exception": false,
     "start_time": "2025-02-14T03:57:28.707256",
     "status": "completed"
    },
    "tags": []
   },
   "source": [
    "<details>\n",
    "  <summary><h4><strong>Hint 1</strong></h4></summary>\n",
    "\n",
    "Use `sns.lineplot`.\n",
    "</details>"
   ]
  },
  {
   "cell_type": "markdown",
   "id": "dd96e237",
   "metadata": {
    "id": "9e48cb4c",
    "papermill": {
     "duration": 0.011452,
     "end_time": "2025-02-14T03:57:28.742668",
     "exception": false,
     "start_time": "2025-02-14T03:57:28.731216",
     "status": "completed"
    },
    "tags": []
   },
   "source": [
    "<details>\n",
    "  <summary><h4><strong>Hint 2</strong></h4></summary>\n",
    "\n",
    "Include `x=num_clusters` and `y=sil_score`.\n",
    "</details>"
   ]
  },
  {
   "cell_type": "markdown",
   "id": "1a967ca4",
   "metadata": {
    "id": "5262b500",
    "papermill": {
     "duration": 0.011126,
     "end_time": "2025-02-14T03:57:28.765356",
     "exception": false,
     "start_time": "2025-02-14T03:57:28.754230",
     "status": "completed"
    },
    "tags": []
   },
   "source": [
    "**Question:** What does the graph show?"
   ]
  },
  {
   "cell_type": "markdown",
   "id": "06abc0b5",
   "metadata": {
    "id": "k6XQNuWkdp9t",
    "papermill": {
     "duration": 0.011139,
     "end_time": "2025-02-14T03:57:28.787861",
     "exception": false,
     "start_time": "2025-02-14T03:57:28.776722",
     "status": "completed"
    },
    "tags": []
   },
   "source": [
    "* the Silhouette score peaks at num_clusters = 6 \n",
    "* from the inertia and silhouette scores for different num_clusters we can conclude num_clusters=6 to be perfect to build a clustering model"
   ]
  },
  {
   "cell_type": "markdown",
   "id": "51832a07",
   "metadata": {
    "id": "otSauwzpMXnP",
    "papermill": {
     "duration": 0.011232,
     "end_time": "2025-02-14T03:57:28.810465",
     "exception": false,
     "start_time": "2025-02-14T03:57:28.799233",
     "status": "completed"
    },
    "tags": []
   },
   "source": [
    "### Optimal k-value"
   ]
  },
  {
   "cell_type": "markdown",
   "id": "1485c787",
   "metadata": {
    "id": "7vQnmULGE69B",
    "papermill": {
     "duration": 0.011455,
     "end_time": "2025-02-14T03:57:28.833528",
     "exception": false,
     "start_time": "2025-02-14T03:57:28.822073",
     "status": "completed"
    },
    "tags": []
   },
   "source": [
    "To decide on an optimal k-value, fit a six-cluster model to the dataset. "
   ]
  },
  {
   "cell_type": "code",
   "execution_count": 21,
   "id": "ba0b1c50",
   "metadata": {
    "execution": {
     "iopub.execute_input": "2025-02-14T03:57:28.857877Z",
     "iopub.status.busy": "2025-02-14T03:57:28.857585Z",
     "iopub.status.idle": "2025-02-14T03:57:28.880886Z",
     "shell.execute_reply": "2025-02-14T03:57:28.880086Z"
    },
    "id": "tZhr41e6MXxo",
    "papermill": {
     "duration": 0.036712,
     "end_time": "2025-02-14T03:57:28.881915",
     "exception": false,
     "start_time": "2025-02-14T03:57:28.845203",
     "status": "completed"
    },
    "tags": []
   },
   "outputs": [
    {
     "name": "stderr",
     "output_type": "stream",
     "text": [
      "/usr/local/lib/python3.10/dist-packages/sklearn/cluster/_kmeans.py:870: FutureWarning: The default value of `n_init` will change from 10 to 'auto' in 1.4. Set the value of `n_init` explicitly to suppress the warning\n",
      "  warnings.warn(\n"
     ]
    },
    {
     "data": {
      "text/html": [
       "<style>#sk-container-id-1 {color: black;background-color: white;}#sk-container-id-1 pre{padding: 0;}#sk-container-id-1 div.sk-toggleable {background-color: white;}#sk-container-id-1 label.sk-toggleable__label {cursor: pointer;display: block;width: 100%;margin-bottom: 0;padding: 0.3em;box-sizing: border-box;text-align: center;}#sk-container-id-1 label.sk-toggleable__label-arrow:before {content: \"▸\";float: left;margin-right: 0.25em;color: #696969;}#sk-container-id-1 label.sk-toggleable__label-arrow:hover:before {color: black;}#sk-container-id-1 div.sk-estimator:hover label.sk-toggleable__label-arrow:before {color: black;}#sk-container-id-1 div.sk-toggleable__content {max-height: 0;max-width: 0;overflow: hidden;text-align: left;background-color: #f0f8ff;}#sk-container-id-1 div.sk-toggleable__content pre {margin: 0.2em;color: black;border-radius: 0.25em;background-color: #f0f8ff;}#sk-container-id-1 input.sk-toggleable__control:checked~div.sk-toggleable__content {max-height: 200px;max-width: 100%;overflow: auto;}#sk-container-id-1 input.sk-toggleable__control:checked~label.sk-toggleable__label-arrow:before {content: \"▾\";}#sk-container-id-1 div.sk-estimator input.sk-toggleable__control:checked~label.sk-toggleable__label {background-color: #d4ebff;}#sk-container-id-1 div.sk-label input.sk-toggleable__control:checked~label.sk-toggleable__label {background-color: #d4ebff;}#sk-container-id-1 input.sk-hidden--visually {border: 0;clip: rect(1px 1px 1px 1px);clip: rect(1px, 1px, 1px, 1px);height: 1px;margin: -1px;overflow: hidden;padding: 0;position: absolute;width: 1px;}#sk-container-id-1 div.sk-estimator {font-family: monospace;background-color: #f0f8ff;border: 1px dotted black;border-radius: 0.25em;box-sizing: border-box;margin-bottom: 0.5em;}#sk-container-id-1 div.sk-estimator:hover {background-color: #d4ebff;}#sk-container-id-1 div.sk-parallel-item::after {content: \"\";width: 100%;border-bottom: 1px solid gray;flex-grow: 1;}#sk-container-id-1 div.sk-label:hover label.sk-toggleable__label {background-color: #d4ebff;}#sk-container-id-1 div.sk-serial::before {content: \"\";position: absolute;border-left: 1px solid gray;box-sizing: border-box;top: 0;bottom: 0;left: 50%;z-index: 0;}#sk-container-id-1 div.sk-serial {display: flex;flex-direction: column;align-items: center;background-color: white;padding-right: 0.2em;padding-left: 0.2em;position: relative;}#sk-container-id-1 div.sk-item {position: relative;z-index: 1;}#sk-container-id-1 div.sk-parallel {display: flex;align-items: stretch;justify-content: center;background-color: white;position: relative;}#sk-container-id-1 div.sk-item::before, #sk-container-id-1 div.sk-parallel-item::before {content: \"\";position: absolute;border-left: 1px solid gray;box-sizing: border-box;top: 0;bottom: 0;left: 50%;z-index: -1;}#sk-container-id-1 div.sk-parallel-item {display: flex;flex-direction: column;z-index: 1;position: relative;background-color: white;}#sk-container-id-1 div.sk-parallel-item:first-child::after {align-self: flex-end;width: 50%;}#sk-container-id-1 div.sk-parallel-item:last-child::after {align-self: flex-start;width: 50%;}#sk-container-id-1 div.sk-parallel-item:only-child::after {width: 0;}#sk-container-id-1 div.sk-dashed-wrapped {border: 1px dashed gray;margin: 0 0.4em 0.5em 0.4em;box-sizing: border-box;padding-bottom: 0.4em;background-color: white;}#sk-container-id-1 div.sk-label label {font-family: monospace;font-weight: bold;display: inline-block;line-height: 1.2em;}#sk-container-id-1 div.sk-label-container {text-align: center;}#sk-container-id-1 div.sk-container {/* jupyter's `normalize.less` sets `[hidden] { display: none; }` but bootstrap.min.css set `[hidden] { display: none !important; }` so we also need the `!important` here to be able to override the default hidden behavior on the sphinx rendered scikit-learn.org. See: https://github.com/scikit-learn/scikit-learn/issues/21755 */display: inline-block !important;position: relative;}#sk-container-id-1 div.sk-text-repr-fallback {display: none;}</style><div id=\"sk-container-id-1\" class=\"sk-top-container\"><div class=\"sk-text-repr-fallback\"><pre>KMeans(n_clusters=6, random_state=42)</pre><b>In a Jupyter environment, please rerun this cell to show the HTML representation or trust the notebook. <br />On GitHub, the HTML representation is unable to render, please try loading this page with nbviewer.org.</b></div><div class=\"sk-container\" hidden><div class=\"sk-item\"><div class=\"sk-estimator sk-toggleable\"><input class=\"sk-toggleable__control sk-hidden--visually\" id=\"sk-estimator-id-1\" type=\"checkbox\" checked><label for=\"sk-estimator-id-1\" class=\"sk-toggleable__label sk-toggleable__label-arrow\">KMeans</label><div class=\"sk-toggleable__content\"><pre>KMeans(n_clusters=6, random_state=42)</pre></div></div></div></div></div>"
      ],
      "text/plain": [
       "KMeans(n_clusters=6, random_state=42)"
      ]
     },
     "execution_count": 21,
     "metadata": {},
     "output_type": "execute_result"
    }
   ],
   "source": [
    "# Fit a 6-cluster model.\n",
    "\n",
    "### YOUR CODE HERE ###\n",
    "# instantiate the KMeans with 6 clusters\n",
    "kmeans6 = KMeans(n_clusters=6, random_state=42)\n",
    "\n",
    "# fit the scaled features\n",
    "kmeans6.fit(X_scaled)"
   ]
  },
  {
   "cell_type": "markdown",
   "id": "a61e64c2",
   "metadata": {
    "id": "3f705fde",
    "papermill": {
     "duration": 0.011703,
     "end_time": "2025-02-14T03:57:28.905781",
     "exception": false,
     "start_time": "2025-02-14T03:57:28.894078",
     "status": "completed"
    },
    "tags": []
   },
   "source": [
    "<details>\n",
    "  <summary><h4><strong>Hint 1</strong></h4></summary>\n",
    "\n",
    "Make an instance of the model with `num_clusters = 6` and use the `fit` function on `X_scaled`. \n",
    "</details>\n",
    "\n",
    "\n"
   ]
  },
  {
   "cell_type": "markdown",
   "id": "9814b418",
   "metadata": {
    "id": "49f834ec",
    "papermill": {
     "duration": 0.011637,
     "end_time": "2025-02-14T03:57:28.929118",
     "exception": false,
     "start_time": "2025-02-14T03:57:28.917481",
     "status": "completed"
    },
    "tags": []
   },
   "source": [
    "Print out the unique labels of the fit model."
   ]
  },
  {
   "cell_type": "code",
   "execution_count": 22,
   "id": "da26bba0",
   "metadata": {
    "execution": {
     "iopub.execute_input": "2025-02-14T03:57:28.953651Z",
     "iopub.status.busy": "2025-02-14T03:57:28.953313Z",
     "iopub.status.idle": "2025-02-14T03:57:28.956860Z",
     "shell.execute_reply": "2025-02-14T03:57:28.956140Z"
    },
    "id": "mLB6AyhWMX54",
    "papermill": {
     "duration": 0.017023,
     "end_time": "2025-02-14T03:57:28.957897",
     "exception": false,
     "start_time": "2025-02-14T03:57:28.940874",
     "status": "completed"
    },
    "tags": []
   },
   "outputs": [
    {
     "name": "stdout",
     "output_type": "stream",
     "text": [
      "Unique labels for Kmeans with 6 clusters: [0 1 2 3 4 5]\n"
     ]
    }
   ],
   "source": [
    "# Print unique labels.\n",
    "\n",
    "### YOUR CODE HERE ###\n",
    "print('Unique labels for Kmeans with 6 clusters:', np.unique(kmeans6.labels_))"
   ]
  },
  {
   "cell_type": "markdown",
   "id": "5eef7814",
   "metadata": {
    "id": "080d87e3",
    "papermill": {
     "duration": 0.011708,
     "end_time": "2025-02-14T03:57:28.981684",
     "exception": false,
     "start_time": "2025-02-14T03:57:28.969976",
     "status": "completed"
    },
    "tags": []
   },
   "source": [
    "Now, create a new column `cluster` that indicates cluster assignment in the DataFrame `penguins_subset`. It's important to understand the meaning of each cluster's labels, then decide whether the clustering makes sense. \n",
    "\n",
    "**Note:** This task is done using `penguins_subset` because it is often easier to interpret unscaled data."
   ]
  },
  {
   "cell_type": "code",
   "execution_count": 23,
   "id": "87b59520",
   "metadata": {
    "execution": {
     "iopub.execute_input": "2025-02-14T03:57:29.006214Z",
     "iopub.status.busy": "2025-02-14T03:57:29.005951Z",
     "iopub.status.idle": "2025-02-14T03:57:29.019805Z",
     "shell.execute_reply": "2025-02-14T03:57:29.018656Z"
    },
    "id": "oxS6EJvZM1Ab",
    "papermill": {
     "duration": 0.02754,
     "end_time": "2025-02-14T03:57:29.020936",
     "exception": false,
     "start_time": "2025-02-14T03:57:28.993396",
     "status": "completed"
    },
    "tags": []
   },
   "outputs": [
    {
     "data": {
      "text/html": [
       "<div>\n",
       "<style scoped>\n",
       "    .dataframe tbody tr th:only-of-type {\n",
       "        vertical-align: middle;\n",
       "    }\n",
       "\n",
       "    .dataframe tbody tr th {\n",
       "        vertical-align: top;\n",
       "    }\n",
       "\n",
       "    .dataframe thead th {\n",
       "        text-align: right;\n",
       "    }\n",
       "</style>\n",
       "<table border=\"1\" class=\"dataframe\">\n",
       "  <thead>\n",
       "    <tr style=\"text-align: right;\">\n",
       "      <th></th>\n",
       "      <th>species</th>\n",
       "      <th>bill_length_mm</th>\n",
       "      <th>bill_depth_mm</th>\n",
       "      <th>flipper_length_mm</th>\n",
       "      <th>body_mass_g</th>\n",
       "      <th>sex_MALE</th>\n",
       "      <th>cluster</th>\n",
       "    </tr>\n",
       "  </thead>\n",
       "  <tbody>\n",
       "    <tr>\n",
       "      <th>0</th>\n",
       "      <td>Adelie</td>\n",
       "      <td>39.1</td>\n",
       "      <td>18.7</td>\n",
       "      <td>181.0</td>\n",
       "      <td>3750.0</td>\n",
       "      <td>True</td>\n",
       "      <td>2</td>\n",
       "    </tr>\n",
       "    <tr>\n",
       "      <th>1</th>\n",
       "      <td>Adelie</td>\n",
       "      <td>39.5</td>\n",
       "      <td>17.4</td>\n",
       "      <td>186.0</td>\n",
       "      <td>3800.0</td>\n",
       "      <td>False</td>\n",
       "      <td>1</td>\n",
       "    </tr>\n",
       "    <tr>\n",
       "      <th>2</th>\n",
       "      <td>Adelie</td>\n",
       "      <td>40.3</td>\n",
       "      <td>18.0</td>\n",
       "      <td>195.0</td>\n",
       "      <td>3250.0</td>\n",
       "      <td>False</td>\n",
       "      <td>1</td>\n",
       "    </tr>\n",
       "    <tr>\n",
       "      <th>3</th>\n",
       "      <td>Adelie</td>\n",
       "      <td>36.7</td>\n",
       "      <td>19.3</td>\n",
       "      <td>193.0</td>\n",
       "      <td>3450.0</td>\n",
       "      <td>False</td>\n",
       "      <td>1</td>\n",
       "    </tr>\n",
       "    <tr>\n",
       "      <th>4</th>\n",
       "      <td>Adelie</td>\n",
       "      <td>39.3</td>\n",
       "      <td>20.6</td>\n",
       "      <td>190.0</td>\n",
       "      <td>3650.0</td>\n",
       "      <td>True</td>\n",
       "      <td>2</td>\n",
       "    </tr>\n",
       "    <tr>\n",
       "      <th>...</th>\n",
       "      <td>...</td>\n",
       "      <td>...</td>\n",
       "      <td>...</td>\n",
       "      <td>...</td>\n",
       "      <td>...</td>\n",
       "      <td>...</td>\n",
       "      <td>...</td>\n",
       "    </tr>\n",
       "    <tr>\n",
       "      <th>328</th>\n",
       "      <td>Gentoo</td>\n",
       "      <td>47.2</td>\n",
       "      <td>13.7</td>\n",
       "      <td>214.0</td>\n",
       "      <td>4925.0</td>\n",
       "      <td>False</td>\n",
       "      <td>0</td>\n",
       "    </tr>\n",
       "    <tr>\n",
       "      <th>329</th>\n",
       "      <td>Gentoo</td>\n",
       "      <td>46.8</td>\n",
       "      <td>14.3</td>\n",
       "      <td>215.0</td>\n",
       "      <td>4850.0</td>\n",
       "      <td>False</td>\n",
       "      <td>0</td>\n",
       "    </tr>\n",
       "    <tr>\n",
       "      <th>330</th>\n",
       "      <td>Gentoo</td>\n",
       "      <td>50.4</td>\n",
       "      <td>15.7</td>\n",
       "      <td>222.0</td>\n",
       "      <td>5750.0</td>\n",
       "      <td>True</td>\n",
       "      <td>4</td>\n",
       "    </tr>\n",
       "    <tr>\n",
       "      <th>331</th>\n",
       "      <td>Gentoo</td>\n",
       "      <td>45.2</td>\n",
       "      <td>14.8</td>\n",
       "      <td>212.0</td>\n",
       "      <td>5200.0</td>\n",
       "      <td>False</td>\n",
       "      <td>0</td>\n",
       "    </tr>\n",
       "    <tr>\n",
       "      <th>332</th>\n",
       "      <td>Gentoo</td>\n",
       "      <td>49.9</td>\n",
       "      <td>16.1</td>\n",
       "      <td>213.0</td>\n",
       "      <td>5400.0</td>\n",
       "      <td>True</td>\n",
       "      <td>4</td>\n",
       "    </tr>\n",
       "  </tbody>\n",
       "</table>\n",
       "<p>333 rows × 7 columns</p>\n",
       "</div>"
      ],
      "text/plain": [
       "    species  bill_length_mm  bill_depth_mm  flipper_length_mm  body_mass_g  \\\n",
       "0    Adelie            39.1           18.7              181.0       3750.0   \n",
       "1    Adelie            39.5           17.4              186.0       3800.0   \n",
       "2    Adelie            40.3           18.0              195.0       3250.0   \n",
       "3    Adelie            36.7           19.3              193.0       3450.0   \n",
       "4    Adelie            39.3           20.6              190.0       3650.0   \n",
       "..      ...             ...            ...                ...          ...   \n",
       "328  Gentoo            47.2           13.7              214.0       4925.0   \n",
       "329  Gentoo            46.8           14.3              215.0       4850.0   \n",
       "330  Gentoo            50.4           15.7              222.0       5750.0   \n",
       "331  Gentoo            45.2           14.8              212.0       5200.0   \n",
       "332  Gentoo            49.9           16.1              213.0       5400.0   \n",
       "\n",
       "     sex_MALE  cluster  \n",
       "0        True        2  \n",
       "1       False        1  \n",
       "2       False        1  \n",
       "3       False        1  \n",
       "4        True        2  \n",
       "..        ...      ...  \n",
       "328     False        0  \n",
       "329     False        0  \n",
       "330      True        4  \n",
       "331     False        0  \n",
       "332      True        4  \n",
       "\n",
       "[333 rows x 7 columns]"
      ]
     },
     "execution_count": 23,
     "metadata": {},
     "output_type": "execute_result"
    }
   ],
   "source": [
    "# Create a new column `cluster`.\n",
    "\n",
    "### YOUR CODE HERE ###\n",
    "penguins_subset['cluster'] = kmeans6.labels_\n",
    "penguins_subset"
   ]
  },
  {
   "cell_type": "markdown",
   "id": "53847c7c",
   "metadata": {
    "id": "0c3fe6a3",
    "papermill": {
     "duration": 0.01193,
     "end_time": "2025-02-14T03:57:29.045529",
     "exception": false,
     "start_time": "2025-02-14T03:57:29.033599",
     "status": "completed"
    },
    "tags": []
   },
   "source": [
    "Use `groupby` to verify if any `'cluster'` can be differentiated by `'species'`."
   ]
  },
  {
   "cell_type": "code",
   "execution_count": 24,
   "id": "5b13c566",
   "metadata": {
    "execution": {
     "iopub.execute_input": "2025-02-14T03:57:29.071140Z",
     "iopub.status.busy": "2025-02-14T03:57:29.070882Z",
     "iopub.status.idle": "2025-02-14T03:57:29.078039Z",
     "shell.execute_reply": "2025-02-14T03:57:29.077199Z"
    },
    "id": "051b144d",
    "papermill": {
     "duration": 0.021404,
     "end_time": "2025-02-14T03:57:29.079245",
     "exception": false,
     "start_time": "2025-02-14T03:57:29.057841",
     "status": "completed"
    },
    "tags": []
   },
   "outputs": [
    {
     "data": {
      "text/plain": [
       "cluster  species  \n",
       "0        Gentoo       58\n",
       "1        Adelie       73\n",
       "         Chinstrap     5\n",
       "2        Adelie       71\n",
       "3        Adelie        2\n",
       "         Chinstrap    34\n",
       "4        Gentoo       61\n",
       "5        Chinstrap    29\n",
       "dtype: int64"
      ]
     },
     "execution_count": 24,
     "metadata": {},
     "output_type": "execute_result"
    }
   ],
   "source": [
    "# Verify if any `cluster` can be differentiated by `species`.\n",
    "\n",
    "### YOUR CODE HERE ###\n",
    "penguins_subset.groupby(by=['cluster', 'species']).size()"
   ]
  },
  {
   "cell_type": "markdown",
   "id": "9a9f6833",
   "metadata": {
    "id": "6cb2c53e",
    "papermill": {
     "duration": 0.011864,
     "end_time": "2025-02-14T03:57:29.103481",
     "exception": false,
     "start_time": "2025-02-14T03:57:29.091617",
     "status": "completed"
    },
    "tags": []
   },
   "source": [
    "<details>\n",
    "  <summary><h4><strong>Hint 1</strong></h4></summary>\n",
    "\n",
    "Use `groupby(by=['cluster', 'species'])`. \n",
    "\n",
    "</details>\n"
   ]
  },
  {
   "cell_type": "markdown",
   "id": "c7449790",
   "metadata": {
    "id": "f42d5be4",
    "papermill": {
     "duration": 0.011714,
     "end_time": "2025-02-14T03:57:29.127246",
     "exception": false,
     "start_time": "2025-02-14T03:57:29.115532",
     "status": "completed"
    },
    "tags": []
   },
   "source": [
    "<details>\n",
    "  <summary><h4><strong>Hint 2</strong></h4></summary>\n",
    "\n",
    "\n",
    "Use an aggregation function such as `size`.\n",
    "\n",
    "</details>"
   ]
  },
  {
   "cell_type": "markdown",
   "id": "c21c23b6",
   "metadata": {
    "id": "QACZiuWYM59u",
    "papermill": {
     "duration": 0.01167,
     "end_time": "2025-02-14T03:57:29.150837",
     "exception": false,
     "start_time": "2025-02-14T03:57:29.139167",
     "status": "completed"
    },
    "tags": []
   },
   "source": [
    "Next, interpret the groupby outputs. Although the results of the groupby show that each `'cluster'` can be differentiated by `'species'`, it is useful to visualize these results. The graph shows that each `'cluster'` can be differentiated by `'species'`. \n",
    "\n",
    "**Note:** The code for the graph below is outside the scope of this lab. "
   ]
  },
  {
   "cell_type": "code",
   "execution_count": 25,
   "id": "9b82d443",
   "metadata": {
    "execution": {
     "iopub.execute_input": "2025-02-14T03:57:29.176234Z",
     "iopub.status.busy": "2025-02-14T03:57:29.175943Z",
     "iopub.status.idle": "2025-02-14T03:57:29.390901Z",
     "shell.execute_reply": "2025-02-14T03:57:29.390143Z"
    },
    "executionInfo": {
     "elapsed": 500,
     "status": "ok",
     "timestamp": 1659750070101,
     "user": {
      "displayName": "Gracen Hanley",
      "userId": "14517815644308397440"
     },
     "user_tz": 420
    },
    "id": "ScRX4uWfNqo6",
    "outputId": "ea55e742-e819-49b4-da79-ddb9adf0a398",
    "papermill": {
     "duration": 0.22935,
     "end_time": "2025-02-14T03:57:29.392263",
     "exception": false,
     "start_time": "2025-02-14T03:57:29.162913",
     "status": "completed"
    },
    "tags": []
   },
   "outputs": [
    {
     "data": {
      "image/png": "[encoded data removed]",
      "text/plain": [
       "<Figure size 600x500 with 1 Axes>"
      ]
     },
     "metadata": {},
     "output_type": "display_data"
    }
   ],
   "source": [
    "penguins_subset.groupby(by=['cluster', 'species']).size().plot.bar(title='Clusters differentiated by species',\n",
    "                                                                   figsize=(6, 5),\n",
    "                                                                   ylabel='Size',\n",
    "                                                                   xlabel='(Cluster, Species)');"
   ]
  },
  {
   "cell_type": "markdown",
   "id": "0e130d47",
   "metadata": {
    "id": "f1b82368",
    "papermill": {
     "duration": 0.013911,
     "end_time": "2025-02-14T03:57:29.422229",
     "exception": false,
     "start_time": "2025-02-14T03:57:29.408318",
     "status": "completed"
    },
    "tags": []
   },
   "source": [
    "Use `groupby` to verify if each `'cluster'` can be differentiated by `'species'` AND `'sex_MALE'`."
   ]
  },
  {
   "cell_type": "code",
   "execution_count": 26,
   "id": "b7d94e4a",
   "metadata": {
    "execution": {
     "iopub.execute_input": "2025-02-14T03:57:29.448238Z",
     "iopub.status.busy": "2025-02-14T03:57:29.447950Z",
     "iopub.status.idle": "2025-02-14T03:57:29.455721Z",
     "shell.execute_reply": "2025-02-14T03:57:29.455102Z"
    },
    "id": "2cf5adc2",
    "papermill": {
     "duration": 0.021808,
     "end_time": "2025-02-14T03:57:29.456767",
     "exception": false,
     "start_time": "2025-02-14T03:57:29.434959",
     "status": "completed"
    },
    "tags": []
   },
   "outputs": [
    {
     "data": {
      "text/plain": [
       "cluster  species    sex_MALE\n",
       "1        Adelie     False       73\n",
       "2        Adelie     True        71\n",
       "4        Gentoo     True        61\n",
       "0        Gentoo     False       58\n",
       "3        Chinstrap  True        34\n",
       "5        Chinstrap  False       29\n",
       "1        Chinstrap  False        5\n",
       "3        Adelie     True         2\n",
       "dtype: int64"
      ]
     },
     "execution_count": 26,
     "metadata": {},
     "output_type": "execute_result"
    }
   ],
   "source": [
    "# Verify if each `cluster` can be differentiated by `species' AND `sex_MALE`.\n",
    "\n",
    "### YOUR CODE HERE ###\n",
    "penguins_subset.groupby(by=['cluster','species', 'sex_MALE']).size().sort_values(ascending = False)"
   ]
  },
  {
   "cell_type": "markdown",
   "id": "c294f904",
   "metadata": {
    "id": "f0ad7c32",
    "papermill": {
     "duration": 0.01234,
     "end_time": "2025-02-14T03:57:29.482267",
     "exception": false,
     "start_time": "2025-02-14T03:57:29.469927",
     "status": "completed"
    },
    "tags": []
   },
   "source": [
    "<details>\n",
    "  <summary><h4><strong>Hint 1</strong></h4></summary>\n",
    "\n",
    "Use `groupby(by=['cluster','species', 'sex_MALE'])`. \n",
    "</details>\n"
   ]
  },
  {
   "cell_type": "markdown",
   "id": "f4ac8478",
   "metadata": {
    "id": "d667d4ce",
    "papermill": {
     "duration": 0.012665,
     "end_time": "2025-02-14T03:57:29.507613",
     "exception": false,
     "start_time": "2025-02-14T03:57:29.494948",
     "status": "completed"
    },
    "tags": []
   },
   "source": [
    "<details>\n",
    "  <summary><h4><strong>Hint 2</strong></h4></summary>\n",
    "\n",
    "Use an aggregation function such as `size`.\n",
    "</details>"
   ]
  },
  {
   "cell_type": "markdown",
   "id": "1c067e9e",
   "metadata": {
    "id": "ae471434",
    "papermill": {
     "duration": 0.012395,
     "end_time": "2025-02-14T03:57:29.532413",
     "exception": false,
     "start_time": "2025-02-14T03:57:29.520018",
     "status": "completed"
    },
    "tags": []
   },
   "source": [
    "**Question:** Are the clusters differentiated by `'species'` and `'sex_MALE'`?"
   ]
  },
  {
   "cell_type": "markdown",
   "id": "d0cd915a",
   "metadata": {
    "id": "CRMvvPaKdlRP",
    "papermill": {
     "duration": 0.012325,
     "end_time": "2025-02-14T03:57:29.557192",
     "exception": false,
     "start_time": "2025-02-14T03:57:29.544867",
     "status": "completed"
    },
    "tags": []
   },
   "source": [
    "* yes these clusters are roughly differentiated by sex_MALE and species\n",
    "* with few exceptions: 5 female chinstraps and 2 male adelies misclassified the rest of the clustering did fairly well"
   ]
  },
  {
   "cell_type": "markdown",
   "id": "3380be3e",
   "metadata": {
    "id": "c9dSiWNNcdZH",
    "papermill": {
     "duration": 0.012483,
     "end_time": "2025-02-14T03:57:29.582484",
     "exception": false,
     "start_time": "2025-02-14T03:57:29.570001",
     "status": "completed"
    },
    "tags": []
   },
   "source": [
    "Finally, interpret the groupby outputs and visualize these results. The graph shows that each `'cluster'` can be differentiated by `'species'` and `'sex_MALE'`. Furthermore, each cluster is mostly comprised of one sex and one species. \n",
    "\n",
    "**Note:** The code for the graph below is outside the scope of this lab. "
   ]
  },
  {
   "cell_type": "code",
   "execution_count": 27,
   "id": "48ef50fc",
   "metadata": {
    "execution": {
     "iopub.execute_input": "2025-02-14T03:57:29.608814Z",
     "iopub.status.busy": "2025-02-14T03:57:29.608533Z",
     "iopub.status.idle": "2025-02-14T03:57:29.826961Z",
     "shell.execute_reply": "2025-02-14T03:57:29.826107Z"
    },
    "executionInfo": {
     "elapsed": 649,
     "status": "ok",
     "timestamp": 1659750070746,
     "user": {
      "displayName": "Gracen Hanley",
      "userId": "14517815644308397440"
     },
     "user_tz": 420
    },
    "id": "Xw-g03su8_4Z",
    "outputId": "10c8fe4e-8cfd-4963-f535-7d6029e4d4af",
    "papermill": {
     "duration": 0.233029,
     "end_time": "2025-02-14T03:57:29.828141",
     "exception": false,
     "start_time": "2025-02-14T03:57:29.595112",
     "status": "completed"
    },
    "tags": []
   },
   "outputs": [
    {
     "data": {
      "text/plain": [
       "<matplotlib.legend.Legend at 0x7c22cfa3f3d0>"
      ]
     },
     "execution_count": 27,
     "metadata": {},
     "output_type": "execute_result"
    },
    {
     "data": {
      "image/png": "[encoded data removed]",
      "text/plain": [
       "<Figure size 600x500 with 1 Axes>"
      ]
     },
     "metadata": {},
     "output_type": "display_data"
    }
   ],
   "source": [
    "penguins_subset.groupby(by=['cluster','species','sex_MALE']).size().unstack(level = 'species', fill_value=0).plot.bar(title='Clusters differentiated by species and sex',\n",
    "                                                                                                                      figsize=(6, 5),\n",
    "                                                                                                                      ylabel='Size',\n",
    "                                                                                                                      xlabel='(Cluster, Sex)')\n",
    "plt.legend(bbox_to_anchor=(1.3, 1.0))"
   ]
  },
  {
   "cell_type": "markdown",
   "id": "2394e17f",
   "metadata": {
    "id": "4DRcgiMgM1HP",
    "papermill": {
     "duration": 0.013216,
     "end_time": "2025-02-14T03:57:29.855608",
     "exception": false,
     "start_time": "2025-02-14T03:57:29.842392",
     "status": "completed"
    },
    "tags": []
   },
   "source": [
    "## **Considerations**\n",
    "\n",
    "\n",
    "**What are some key takeaways that you learned during this lab? Consider the process you used, key tools, and the results of your investigation.**\n",
    "\n",
    "* performing EDA for clustering analysis\n",
    "* Normalization techniques to prepare features to cluster\n",
    "* how clusters can naturally group data without labels\n",
    "* find optimal number of clusters using elbow plot for inertia and peak plot for silhouette scores\n",
    "\n",
    "\n",
    "**What summary would you provide to stakeholders?**\n",
    "\n",
    "* K-means clustering can be used when few records of penguins come with an uncertainty on what species of penguin it could be\n",
    "* clustering models can be used to determine or give an idea about exploring unlabeled datasets\n"
   ]
  },
  {
   "cell_type": "markdown",
   "id": "cb34e18b",
   "metadata": {
    "id": "79d85ff6-30a4-469b-8861-5b9b517c89f5",
    "papermill": {
     "duration": 0.014424,
     "end_time": "2025-02-14T03:57:29.886018",
     "exception": false,
     "start_time": "2025-02-14T03:57:29.871594",
     "status": "completed"
    },
    "tags": []
   },
   "source": [
    "### References\n",
    "\n",
    "[Gorman, Kristen B., et al. “Ecological Sexual Dimorphism and Environmental Variability within a Community of Antarctic Penguins (Genus Pygoscelis).” PLOS ONE, vol. 9, no. 3, Mar. 2014, p. e90081. PLoS Journals](https://doi.org/10.1371/journal.pone.0090081)\n",
    "\n",
    "[Sklearn Preprocessing StandardScaler scikit-learn](https://scikit-learn.org/stable/modules/generated/sklearn.preprocessing.StandardScaler.html)"
   ]
  },
  {
   "cell_type": "markdown",
   "id": "c50cda4b",
   "metadata": {
    "papermill": {
     "duration": 0.013624,
     "end_time": "2025-02-14T03:57:29.913972",
     "exception": false,
     "start_time": "2025-02-14T03:57:29.900348",
     "status": "completed"
    },
    "tags": []
   },
   "source": [
    "**Congratulations!** You've completed this lab. However, you may not notice a green check mark next to this item on Coursera's platform. Please continue your progress regardless of the check mark. Just click on the \"save\" icon at the top of this notebook to ensure your work has been logged"
   ]
  }
 ],
 "metadata": {
  "colab": {
   "collapsed_sections": [],
   "provenance": [],
   "toc_visible": true
  },
  "gpuClass": "standard",
  "kaggle": {
   "accelerator": "none",
   "dataSources": [
    {
     "datasetId": 6657876,
     "sourceId": 10745950,
     "sourceType": "datasetVersion"
    }
   ],
   "dockerImageVersionId": 30886,
   "isGpuEnabled": false,
   "isInternetEnabled": true,
   "language": "python",
   "sourceType": "notebook"
  },
  "kernelspec": {
   "display_name": "Python 3",
   "language": "python",
   "name": "python3"
  },
  "language_info": {
   "codemirror_mode": {
    "name": "ipython",
    "version": 3
   },
   "file_extension": ".py",
   "mimetype": "text/x-python",
   "name": "python",
   "nbconvert_exporter": "python",
   "pygments_lexer": "ipython3",
   "version": "3.10.12"
  },
  "papermill": {
   "default_parameters": {},
   "duration": 9.381376,
   "end_time": "2025-02-14T03:57:30.647201",
   "environment_variables": {},
   "exception": null,
   "input_path": "__notebook__.ipynb",
   "output_path": "__notebook__.ipynb",
   "parameters": {},
   "start_time": "2025-02-14T03:57:21.265825",
   "version": "2.6.0"
  }
 },
 "nbformat": 4,
 "nbformat_minor": 5
}

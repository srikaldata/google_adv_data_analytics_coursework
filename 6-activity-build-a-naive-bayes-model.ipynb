{
 "cells": [
  {
   "cell_type": "markdown",
   "id": "6b217f39",
   "metadata": {
    "id": "yugMU9MjJtBl",
    "papermill": {
     "duration": 0.010333,
     "end_time": "2025-02-13T04:45:38.715891",
     "exception": false,
     "start_time": "2025-02-13T04:45:38.705558",
     "status": "completed"
    },
    "tags": []
   },
   "source": [
    "# Activity: Build a Naive Bayes model "
   ]
  },
  {
   "cell_type": "markdown",
   "id": "6de118c4",
   "metadata": {
    "id": "EzWqJunmJotv",
    "papermill": {
     "duration": 0.009392,
     "end_time": "2025-02-13T04:45:38.735207",
     "exception": false,
     "start_time": "2025-02-13T04:45:38.725815",
     "status": "completed"
    },
    "tags": []
   },
   "source": [
    "## Introduction\n",
    "\n",
    "In this activity, you will build your own Naive Bayes model. Naive Bayes models can be valuable to use any time you are doing work with predictions because they give you a way to account for new information. In today's world, where data is constantly evolving, modeling with Naive Bayes can help you adapt quickly and make more accurate predictions about what could occur.\n",
    "\n",
    "For this activity, you work for a firm that provides insights for management and coaches in the National Basketball Association (NBA), a professional basketball league in North America. The league is interested in retaining players who can last in the high-pressure environment of professional basketball and help the team be successful over time. In the previous activity, you analyzed a subset of data that contained information about the NBA players and their performance records. You conducted feature engineering to determine which features would most effectively predict a player's career duration. You will now use those insights to build a model that predicts whether a player will have an NBA career lasting five years or more. \n",
    "\n",
    "The data for this activity consists of performance statistics from each player's rookie year. There are 1,341 observations, and each observation in the data represents a different player in the NBA. Your target variable is a Boolean value that indicates whether a given player will last in the league for five years. Since you previously performed feature engineering on this data, it is now ready for modeling.   "
   ]
  },
  {
   "cell_type": "markdown",
   "id": "63f9a834",
   "metadata": {
    "id": "yTVinL1hJqoy",
    "papermill": {
     "duration": 0.009352,
     "end_time": "2025-02-13T04:45:38.754198",
     "exception": false,
     "start_time": "2025-02-13T04:45:38.744846",
     "status": "completed"
    },
    "tags": []
   },
   "source": [
    "## Step 1: Imports"
   ]
  },
  {
   "cell_type": "markdown",
   "id": "6ae25111",
   "metadata": {
    "id": "DDIRpqkZJ4S8",
    "papermill": {
     "duration": 0.009274,
     "end_time": "2025-02-13T04:45:38.773089",
     "exception": false,
     "start_time": "2025-02-13T04:45:38.763815",
     "status": "completed"
    },
    "tags": []
   },
   "source": [
    "### Import packages\n",
    "\n",
    "Begin with your import statements. Of particular note here are `pandas` and from `sklearn`, `naive_bayes`, `model_selection`, and `metrics`."
   ]
  },
  {
   "cell_type": "code",
   "execution_count": 1,
   "id": "ed5bfd6a",
   "metadata": {
    "execution": {
     "iopub.execute_input": "2025-02-13T04:45:38.793149Z",
     "iopub.status.busy": "2025-02-13T04:45:38.792770Z",
     "iopub.status.idle": "2025-02-13T04:45:41.167178Z",
     "shell.execute_reply": "2025-02-13T04:45:41.166127Z"
    },
    "id": "1nDjAJPa4lVZ",
    "papermill": {
     "duration": 2.386734,
     "end_time": "2025-02-13T04:45:41.169212",
     "exception": false,
     "start_time": "2025-02-13T04:45:38.782478",
     "status": "completed"
    },
    "tags": []
   },
   "outputs": [],
   "source": [
    "# Import relevant libraries and modules.\n",
    "import pandas as pd\n",
    "from sklearn import naive_bayes\n",
    "from sklearn import model_selection\n",
    "from sklearn import metrics"
   ]
  },
  {
   "cell_type": "markdown",
   "id": "1a7cc719",
   "metadata": {
    "id": "hKylHziGzY3X",
    "papermill": {
     "duration": 0.009837,
     "end_time": "2025-02-13T04:45:41.189496",
     "exception": false,
     "start_time": "2025-02-13T04:45:41.179659",
     "status": "completed"
    },
    "tags": []
   },
   "source": [
    "### Load the dataset\n",
    "\n",
    "Recall that in the lab about feature engineering, you outputted features for the NBA player dataset along with the target variable ``target_5yrs``. Data was imported as a DataFrame called `extracted_data`. As shown in this cell, the dataset has been automatically loaded in for you. You do not need to download the .csv file, or provide more code, in order to access the dataset and proceed with this lab. Please continue with this activity by completing the following instructions."
   ]
  },
  {
   "cell_type": "code",
   "execution_count": 2,
   "id": "09c0212f",
   "metadata": {
    "execution": {
     "iopub.execute_input": "2025-02-13T04:45:41.210030Z",
     "iopub.status.busy": "2025-02-13T04:45:41.209565Z",
     "iopub.status.idle": "2025-02-13T04:45:41.232921Z",
     "shell.execute_reply": "2025-02-13T04:45:41.231841Z"
    },
    "id": "4ebqpNcm4BDH",
    "papermill": {
     "duration": 0.035667,
     "end_time": "2025-02-13T04:45:41.234898",
     "exception": false,
     "start_time": "2025-02-13T04:45:41.199231",
     "status": "completed"
    },
    "tags": []
   },
   "outputs": [],
   "source": [
    "# RUN THIS CELL TO IMPORT YOUR DATA.\n",
    "# Load extracted_nba_players_data.csv into a DataFrame called extracted_data.\n",
    "\n",
    "extracted_data = pd.read_csv('/kaggle/input/google-adv-data-analytics-advancedml-datasets/6_extracted_nba_players_data.csv')"
   ]
  },
  {
   "cell_type": "markdown",
   "id": "d67649de",
   "metadata": {
    "id": "yXvtnFn5oBIG",
    "papermill": {
     "duration": 0.009521,
     "end_time": "2025-02-13T04:45:41.254208",
     "exception": false,
     "start_time": "2025-02-13T04:45:41.244687",
     "status": "completed"
    },
    "tags": []
   },
   "source": [
    "### Display the data\n",
    "\n",
    "Review the first 10 rows of data."
   ]
  },
  {
   "cell_type": "code",
   "execution_count": 3,
   "id": "bf733079",
   "metadata": {
    "execution": {
     "iopub.execute_input": "2025-02-13T04:45:41.274525Z",
     "iopub.status.busy": "2025-02-13T04:45:41.274165Z",
     "iopub.status.idle": "2025-02-13T04:45:41.309072Z",
     "shell.execute_reply": "2025-02-13T04:45:41.307913Z"
    },
    "id": "JWu8u19C2sn1",
    "papermill": {
     "duration": 0.047004,
     "end_time": "2025-02-13T04:45:41.310773",
     "exception": false,
     "start_time": "2025-02-13T04:45:41.263769",
     "status": "completed"
    },
    "tags": []
   },
   "outputs": [
    {
     "data": {
      "text/html": [
       "<div>\n",
       "<style scoped>\n",
       "    .dataframe tbody tr th:only-of-type {\n",
       "        vertical-align: middle;\n",
       "    }\n",
       "\n",
       "    .dataframe tbody tr th {\n",
       "        vertical-align: top;\n",
       "    }\n",
       "\n",
       "    .dataframe thead th {\n",
       "        text-align: right;\n",
       "    }\n",
       "</style>\n",
       "<table border=\"1\" class=\"dataframe\">\n",
       "  <thead>\n",
       "    <tr style=\"text-align: right;\">\n",
       "      <th></th>\n",
       "      <th>fg</th>\n",
       "      <th>3p</th>\n",
       "      <th>ft</th>\n",
       "      <th>reb</th>\n",
       "      <th>ast</th>\n",
       "      <th>stl</th>\n",
       "      <th>blk</th>\n",
       "      <th>tov</th>\n",
       "      <th>target_5yrs</th>\n",
       "      <th>total_points</th>\n",
       "      <th>efficiency</th>\n",
       "    </tr>\n",
       "  </thead>\n",
       "  <tbody>\n",
       "    <tr>\n",
       "      <th>0</th>\n",
       "      <td>34.7</td>\n",
       "      <td>25.0</td>\n",
       "      <td>69.9</td>\n",
       "      <td>4.1</td>\n",
       "      <td>1.9</td>\n",
       "      <td>0.4</td>\n",
       "      <td>0.4</td>\n",
       "      <td>1.3</td>\n",
       "      <td>0</td>\n",
       "      <td>266.4</td>\n",
       "      <td>0.270073</td>\n",
       "    </tr>\n",
       "    <tr>\n",
       "      <th>1</th>\n",
       "      <td>29.6</td>\n",
       "      <td>23.5</td>\n",
       "      <td>76.5</td>\n",
       "      <td>2.4</td>\n",
       "      <td>3.7</td>\n",
       "      <td>1.1</td>\n",
       "      <td>0.5</td>\n",
       "      <td>1.6</td>\n",
       "      <td>0</td>\n",
       "      <td>252.0</td>\n",
       "      <td>0.267658</td>\n",
       "    </tr>\n",
       "    <tr>\n",
       "      <th>2</th>\n",
       "      <td>42.2</td>\n",
       "      <td>24.4</td>\n",
       "      <td>67.0</td>\n",
       "      <td>2.2</td>\n",
       "      <td>1.0</td>\n",
       "      <td>0.5</td>\n",
       "      <td>0.3</td>\n",
       "      <td>1.0</td>\n",
       "      <td>0</td>\n",
       "      <td>384.8</td>\n",
       "      <td>0.339869</td>\n",
       "    </tr>\n",
       "    <tr>\n",
       "      <th>3</th>\n",
       "      <td>42.6</td>\n",
       "      <td>22.6</td>\n",
       "      <td>68.9</td>\n",
       "      <td>1.9</td>\n",
       "      <td>0.8</td>\n",
       "      <td>0.6</td>\n",
       "      <td>0.1</td>\n",
       "      <td>1.0</td>\n",
       "      <td>1</td>\n",
       "      <td>330.6</td>\n",
       "      <td>0.491379</td>\n",
       "    </tr>\n",
       "    <tr>\n",
       "      <th>4</th>\n",
       "      <td>52.4</td>\n",
       "      <td>0.0</td>\n",
       "      <td>67.4</td>\n",
       "      <td>2.5</td>\n",
       "      <td>0.3</td>\n",
       "      <td>0.3</td>\n",
       "      <td>0.4</td>\n",
       "      <td>0.8</td>\n",
       "      <td>1</td>\n",
       "      <td>216.0</td>\n",
       "      <td>0.391304</td>\n",
       "    </tr>\n",
       "    <tr>\n",
       "      <th>5</th>\n",
       "      <td>42.3</td>\n",
       "      <td>32.5</td>\n",
       "      <td>73.2</td>\n",
       "      <td>0.8</td>\n",
       "      <td>1.8</td>\n",
       "      <td>0.4</td>\n",
       "      <td>0.0</td>\n",
       "      <td>0.7</td>\n",
       "      <td>0</td>\n",
       "      <td>277.5</td>\n",
       "      <td>0.324561</td>\n",
       "    </tr>\n",
       "    <tr>\n",
       "      <th>6</th>\n",
       "      <td>43.5</td>\n",
       "      <td>50.0</td>\n",
       "      <td>81.1</td>\n",
       "      <td>2.0</td>\n",
       "      <td>0.6</td>\n",
       "      <td>0.2</td>\n",
       "      <td>0.1</td>\n",
       "      <td>0.7</td>\n",
       "      <td>1</td>\n",
       "      <td>409.2</td>\n",
       "      <td>0.605505</td>\n",
       "    </tr>\n",
       "    <tr>\n",
       "      <th>7</th>\n",
       "      <td>41.5</td>\n",
       "      <td>30.0</td>\n",
       "      <td>87.5</td>\n",
       "      <td>1.7</td>\n",
       "      <td>0.2</td>\n",
       "      <td>0.2</td>\n",
       "      <td>0.1</td>\n",
       "      <td>0.7</td>\n",
       "      <td>1</td>\n",
       "      <td>273.6</td>\n",
       "      <td>0.553398</td>\n",
       "    </tr>\n",
       "    <tr>\n",
       "      <th>8</th>\n",
       "      <td>39.2</td>\n",
       "      <td>23.3</td>\n",
       "      <td>71.4</td>\n",
       "      <td>0.8</td>\n",
       "      <td>2.3</td>\n",
       "      <td>0.3</td>\n",
       "      <td>0.0</td>\n",
       "      <td>1.1</td>\n",
       "      <td>0</td>\n",
       "      <td>156.0</td>\n",
       "      <td>0.242424</td>\n",
       "    </tr>\n",
       "    <tr>\n",
       "      <th>9</th>\n",
       "      <td>38.3</td>\n",
       "      <td>21.4</td>\n",
       "      <td>67.8</td>\n",
       "      <td>1.1</td>\n",
       "      <td>0.3</td>\n",
       "      <td>0.2</td>\n",
       "      <td>0.0</td>\n",
       "      <td>0.7</td>\n",
       "      <td>0</td>\n",
       "      <td>155.4</td>\n",
       "      <td>0.435294</td>\n",
       "    </tr>\n",
       "  </tbody>\n",
       "</table>\n",
       "</div>"
      ],
      "text/plain": [
       "     fg    3p    ft  reb  ast  stl  blk  tov  target_5yrs  total_points  \\\n",
       "0  34.7  25.0  69.9  4.1  1.9  0.4  0.4  1.3            0         266.4   \n",
       "1  29.6  23.5  76.5  2.4  3.7  1.1  0.5  1.6            0         252.0   \n",
       "2  42.2  24.4  67.0  2.2  1.0  0.5  0.3  1.0            0         384.8   \n",
       "3  42.6  22.6  68.9  1.9  0.8  0.6  0.1  1.0            1         330.6   \n",
       "4  52.4   0.0  67.4  2.5  0.3  0.3  0.4  0.8            1         216.0   \n",
       "5  42.3  32.5  73.2  0.8  1.8  0.4  0.0  0.7            0         277.5   \n",
       "6  43.5  50.0  81.1  2.0  0.6  0.2  0.1  0.7            1         409.2   \n",
       "7  41.5  30.0  87.5  1.7  0.2  0.2  0.1  0.7            1         273.6   \n",
       "8  39.2  23.3  71.4  0.8  2.3  0.3  0.0  1.1            0         156.0   \n",
       "9  38.3  21.4  67.8  1.1  0.3  0.2  0.0  0.7            0         155.4   \n",
       "\n",
       "   efficiency  \n",
       "0    0.270073  \n",
       "1    0.267658  \n",
       "2    0.339869  \n",
       "3    0.491379  \n",
       "4    0.391304  \n",
       "5    0.324561  \n",
       "6    0.605505  \n",
       "7    0.553398  \n",
       "8    0.242424  \n",
       "9    0.435294  "
      ]
     },
     "execution_count": 3,
     "metadata": {},
     "output_type": "execute_result"
    }
   ],
   "source": [
    "# Display the first 10 rows of data.\n",
    "\n",
    "### YOUR CODE HERE ###\n",
    "extracted_data.head(10)"
   ]
  },
  {
   "cell_type": "markdown",
   "id": "5f014046",
   "metadata": {
    "id": "4zz8claq0Swi",
    "papermill": {
     "duration": 0.009198,
     "end_time": "2025-02-13T04:45:41.330143",
     "exception": false,
     "start_time": "2025-02-13T04:45:41.320945",
     "status": "completed"
    },
    "tags": []
   },
   "source": [
    "## Step 2: Model preparation"
   ]
  },
  {
   "cell_type": "markdown",
   "id": "1e7da5b4",
   "metadata": {
    "id": "8kgPx_MP0cuc",
    "papermill": {
     "duration": 0.009062,
     "end_time": "2025-02-13T04:45:41.348667",
     "exception": false,
     "start_time": "2025-02-13T04:45:41.339605",
     "status": "completed"
    },
    "tags": []
   },
   "source": [
    "### Isolate your target and predictor variables\n",
    "Separately define the target variable (`target_5yrs`) and the features."
   ]
  },
  {
   "cell_type": "code",
   "execution_count": 4,
   "id": "11712cf1",
   "metadata": {
    "execution": {
     "iopub.execute_input": "2025-02-13T04:45:41.368829Z",
     "iopub.status.busy": "2025-02-13T04:45:41.368466Z",
     "iopub.status.idle": "2025-02-13T04:45:41.379137Z",
     "shell.execute_reply": "2025-02-13T04:45:41.377923Z"
    },
    "id": "xO46EzS8oBIG",
    "papermill": {
     "duration": 0.02262,
     "end_time": "2025-02-13T04:45:41.380654",
     "exception": false,
     "start_time": "2025-02-13T04:45:41.358034",
     "status": "completed"
    },
    "tags": []
   },
   "outputs": [],
   "source": [
    "# Define the y (target) variable.\n",
    "\n",
    "### YOUR CODE HERE ###\n",
    "y = extracted_data['target_5yrs']\n",
    "\n",
    "# Define the X (predictor) variables.\n",
    "\n",
    "### YOUR CODE HERE ###\n",
    "X = extracted_data.drop('target_5yrs', axis = 1)"
   ]
  },
  {
   "cell_type": "markdown",
   "id": "43061c78",
   "metadata": {
    "id": "CzQNmlZ75e_Y",
    "papermill": {
     "duration": 0.009325,
     "end_time": "2025-02-13T04:45:41.399685",
     "exception": false,
     "start_time": "2025-02-13T04:45:41.390360",
     "status": "completed"
    },
    "tags": []
   },
   "source": [
    "<details>\n",
    "<summary><h4><strong>Hint 1</strong></h4></summary>\n",
    "\n",
    "Refer to [the content about splitting your data into X and y](https://www.coursera.org/learn/the-nuts-and-bolts-of-machine-learning/lecture/VxbUT/construct-a-naive-bayes-model-with-python).\n",
    "</details>"
   ]
  },
  {
   "cell_type": "markdown",
   "id": "fe744e6b",
   "metadata": {
    "id": "WWXkObsg5gzd",
    "papermill": {
     "duration": 0.009567,
     "end_time": "2025-02-13T04:45:41.418784",
     "exception": false,
     "start_time": "2025-02-13T04:45:41.409217",
     "status": "completed"
    },
    "tags": []
   },
   "source": [
    "<details>\n",
    "<summary><h4><strong>Hint 2</strong></h4></summary>\n",
    "\n",
    "In `pandas`, subset your DataFrame by using square brackets `[]` to specify which column(s) to select.\n",
    "</details>"
   ]
  },
  {
   "cell_type": "markdown",
   "id": "35cf60e0",
   "metadata": {
    "id": "JU9z6ufC5n58",
    "papermill": {
     "duration": 0.009812,
     "end_time": "2025-02-13T04:45:41.438549",
     "exception": false,
     "start_time": "2025-02-13T04:45:41.428737",
     "status": "completed"
    },
    "tags": []
   },
   "source": [
    "<details>\n",
    "<summary><h4><strong>Hint 3</strong></h4></summary>\n",
    "\n",
    "Quickly subset a DataFrame to exclude a particular column by using the `drop()` function and specifying the column to drop.\n",
    "</details>"
   ]
  },
  {
   "cell_type": "markdown",
   "id": "8a6e8d95",
   "metadata": {
    "id": "xj8-Pb0N-rjW",
    "papermill": {
     "duration": 0.009568,
     "end_time": "2025-02-13T04:45:41.458024",
     "exception": false,
     "start_time": "2025-02-13T04:45:41.448456",
     "status": "completed"
    },
    "tags": []
   },
   "source": [
    "### Display the first 10 rows of your target data\n",
    "\n",
    "Display the first 10 rows of your target and predictor variables. This will help you get a sense of how the data is structured."
   ]
  },
  {
   "cell_type": "code",
   "execution_count": 5,
   "id": "d9cca78a",
   "metadata": {
    "execution": {
     "iopub.execute_input": "2025-02-13T04:45:41.478551Z",
     "iopub.status.busy": "2025-02-13T04:45:41.478187Z",
     "iopub.status.idle": "2025-02-13T04:45:41.484270Z",
     "shell.execute_reply": "2025-02-13T04:45:41.483335Z"
    },
    "id": "pivKfaxQ5uHZ",
    "papermill": {
     "duration": 0.0182,
     "end_time": "2025-02-13T04:45:41.485701",
     "exception": false,
     "start_time": "2025-02-13T04:45:41.467501",
     "status": "completed"
    },
    "tags": []
   },
   "outputs": [
    {
     "data": {
      "text/plain": [
       "0    0\n",
       "1    0\n",
       "2    0\n",
       "3    1\n",
       "4    1\n",
       "5    0\n",
       "6    1\n",
       "7    1\n",
       "8    0\n",
       "9    0\n",
       "Name: target_5yrs, dtype: int64"
      ]
     },
     "execution_count": 5,
     "metadata": {},
     "output_type": "execute_result"
    }
   ],
   "source": [
    "# Display the first 10 rows of your target data.\n",
    "\n",
    "### YOUR CODE HERE ###\n",
    "\n",
    "y.head(10)"
   ]
  },
  {
   "cell_type": "markdown",
   "id": "eccc6bba",
   "metadata": {
    "id": "oDls2RifZhu2",
    "papermill": {
     "duration": 0.009398,
     "end_time": "2025-02-13T04:45:41.504865",
     "exception": false,
     "start_time": "2025-02-13T04:45:41.495467",
     "status": "completed"
    },
    "tags": []
   },
   "source": [
    "**Question:** What do you observe about the your target variable?\n"
   ]
  },
  {
   "cell_type": "markdown",
   "id": "89e5ff2e",
   "metadata": {
    "id": "sc4IshYKzENq",
    "papermill": {
     "duration": 0.009373,
     "end_time": "2025-02-13T04:45:41.523974",
     "exception": false,
     "start_time": "2025-02-13T04:45:41.514601",
     "status": "completed"
    },
    "tags": []
   },
   "source": [
    "* the target variable is binary\n",
    "* it will be suitable when a binary classifier is built"
   ]
  },
  {
   "cell_type": "code",
   "execution_count": 6,
   "id": "8b133259",
   "metadata": {
    "execution": {
     "iopub.execute_input": "2025-02-13T04:45:41.544783Z",
     "iopub.status.busy": "2025-02-13T04:45:41.544426Z",
     "iopub.status.idle": "2025-02-13T04:45:41.562335Z",
     "shell.execute_reply": "2025-02-13T04:45:41.561345Z"
    },
    "id": "2kDZK5qe-4B0",
    "papermill": {
     "duration": 0.030105,
     "end_time": "2025-02-13T04:45:41.563793",
     "exception": false,
     "start_time": "2025-02-13T04:45:41.533688",
     "status": "completed"
    },
    "tags": []
   },
   "outputs": [
    {
     "data": {
      "text/html": [
       "<div>\n",
       "<style scoped>\n",
       "    .dataframe tbody tr th:only-of-type {\n",
       "        vertical-align: middle;\n",
       "    }\n",
       "\n",
       "    .dataframe tbody tr th {\n",
       "        vertical-align: top;\n",
       "    }\n",
       "\n",
       "    .dataframe thead th {\n",
       "        text-align: right;\n",
       "    }\n",
       "</style>\n",
       "<table border=\"1\" class=\"dataframe\">\n",
       "  <thead>\n",
       "    <tr style=\"text-align: right;\">\n",
       "      <th></th>\n",
       "      <th>fg</th>\n",
       "      <th>3p</th>\n",
       "      <th>ft</th>\n",
       "      <th>reb</th>\n",
       "      <th>ast</th>\n",
       "      <th>stl</th>\n",
       "      <th>blk</th>\n",
       "      <th>tov</th>\n",
       "      <th>total_points</th>\n",
       "      <th>efficiency</th>\n",
       "    </tr>\n",
       "  </thead>\n",
       "  <tbody>\n",
       "    <tr>\n",
       "      <th>0</th>\n",
       "      <td>34.7</td>\n",
       "      <td>25.0</td>\n",
       "      <td>69.9</td>\n",
       "      <td>4.1</td>\n",
       "      <td>1.9</td>\n",
       "      <td>0.4</td>\n",
       "      <td>0.4</td>\n",
       "      <td>1.3</td>\n",
       "      <td>266.4</td>\n",
       "      <td>0.270073</td>\n",
       "    </tr>\n",
       "    <tr>\n",
       "      <th>1</th>\n",
       "      <td>29.6</td>\n",
       "      <td>23.5</td>\n",
       "      <td>76.5</td>\n",
       "      <td>2.4</td>\n",
       "      <td>3.7</td>\n",
       "      <td>1.1</td>\n",
       "      <td>0.5</td>\n",
       "      <td>1.6</td>\n",
       "      <td>252.0</td>\n",
       "      <td>0.267658</td>\n",
       "    </tr>\n",
       "    <tr>\n",
       "      <th>2</th>\n",
       "      <td>42.2</td>\n",
       "      <td>24.4</td>\n",
       "      <td>67.0</td>\n",
       "      <td>2.2</td>\n",
       "      <td>1.0</td>\n",
       "      <td>0.5</td>\n",
       "      <td>0.3</td>\n",
       "      <td>1.0</td>\n",
       "      <td>384.8</td>\n",
       "      <td>0.339869</td>\n",
       "    </tr>\n",
       "    <tr>\n",
       "      <th>3</th>\n",
       "      <td>42.6</td>\n",
       "      <td>22.6</td>\n",
       "      <td>68.9</td>\n",
       "      <td>1.9</td>\n",
       "      <td>0.8</td>\n",
       "      <td>0.6</td>\n",
       "      <td>0.1</td>\n",
       "      <td>1.0</td>\n",
       "      <td>330.6</td>\n",
       "      <td>0.491379</td>\n",
       "    </tr>\n",
       "    <tr>\n",
       "      <th>4</th>\n",
       "      <td>52.4</td>\n",
       "      <td>0.0</td>\n",
       "      <td>67.4</td>\n",
       "      <td>2.5</td>\n",
       "      <td>0.3</td>\n",
       "      <td>0.3</td>\n",
       "      <td>0.4</td>\n",
       "      <td>0.8</td>\n",
       "      <td>216.0</td>\n",
       "      <td>0.391304</td>\n",
       "    </tr>\n",
       "    <tr>\n",
       "      <th>5</th>\n",
       "      <td>42.3</td>\n",
       "      <td>32.5</td>\n",
       "      <td>73.2</td>\n",
       "      <td>0.8</td>\n",
       "      <td>1.8</td>\n",
       "      <td>0.4</td>\n",
       "      <td>0.0</td>\n",
       "      <td>0.7</td>\n",
       "      <td>277.5</td>\n",
       "      <td>0.324561</td>\n",
       "    </tr>\n",
       "    <tr>\n",
       "      <th>6</th>\n",
       "      <td>43.5</td>\n",
       "      <td>50.0</td>\n",
       "      <td>81.1</td>\n",
       "      <td>2.0</td>\n",
       "      <td>0.6</td>\n",
       "      <td>0.2</td>\n",
       "      <td>0.1</td>\n",
       "      <td>0.7</td>\n",
       "      <td>409.2</td>\n",
       "      <td>0.605505</td>\n",
       "    </tr>\n",
       "    <tr>\n",
       "      <th>7</th>\n",
       "      <td>41.5</td>\n",
       "      <td>30.0</td>\n",
       "      <td>87.5</td>\n",
       "      <td>1.7</td>\n",
       "      <td>0.2</td>\n",
       "      <td>0.2</td>\n",
       "      <td>0.1</td>\n",
       "      <td>0.7</td>\n",
       "      <td>273.6</td>\n",
       "      <td>0.553398</td>\n",
       "    </tr>\n",
       "    <tr>\n",
       "      <th>8</th>\n",
       "      <td>39.2</td>\n",
       "      <td>23.3</td>\n",
       "      <td>71.4</td>\n",
       "      <td>0.8</td>\n",
       "      <td>2.3</td>\n",
       "      <td>0.3</td>\n",
       "      <td>0.0</td>\n",
       "      <td>1.1</td>\n",
       "      <td>156.0</td>\n",
       "      <td>0.242424</td>\n",
       "    </tr>\n",
       "    <tr>\n",
       "      <th>9</th>\n",
       "      <td>38.3</td>\n",
       "      <td>21.4</td>\n",
       "      <td>67.8</td>\n",
       "      <td>1.1</td>\n",
       "      <td>0.3</td>\n",
       "      <td>0.2</td>\n",
       "      <td>0.0</td>\n",
       "      <td>0.7</td>\n",
       "      <td>155.4</td>\n",
       "      <td>0.435294</td>\n",
       "    </tr>\n",
       "  </tbody>\n",
       "</table>\n",
       "</div>"
      ],
      "text/plain": [
       "     fg    3p    ft  reb  ast  stl  blk  tov  total_points  efficiency\n",
       "0  34.7  25.0  69.9  4.1  1.9  0.4  0.4  1.3         266.4    0.270073\n",
       "1  29.6  23.5  76.5  2.4  3.7  1.1  0.5  1.6         252.0    0.267658\n",
       "2  42.2  24.4  67.0  2.2  1.0  0.5  0.3  1.0         384.8    0.339869\n",
       "3  42.6  22.6  68.9  1.9  0.8  0.6  0.1  1.0         330.6    0.491379\n",
       "4  52.4   0.0  67.4  2.5  0.3  0.3  0.4  0.8         216.0    0.391304\n",
       "5  42.3  32.5  73.2  0.8  1.8  0.4  0.0  0.7         277.5    0.324561\n",
       "6  43.5  50.0  81.1  2.0  0.6  0.2  0.1  0.7         409.2    0.605505\n",
       "7  41.5  30.0  87.5  1.7  0.2  0.2  0.1  0.7         273.6    0.553398\n",
       "8  39.2  23.3  71.4  0.8  2.3  0.3  0.0  1.1         156.0    0.242424\n",
       "9  38.3  21.4  67.8  1.1  0.3  0.2  0.0  0.7         155.4    0.435294"
      ]
     },
     "execution_count": 6,
     "metadata": {},
     "output_type": "execute_result"
    }
   ],
   "source": [
    "# Display the first 10 rows of your predictor variables.\n",
    "\n",
    "### YOUR CODE HERE ###\n",
    "X.head(10)"
   ]
  },
  {
   "cell_type": "markdown",
   "id": "6e80d107",
   "metadata": {
    "id": "Albdy39HZwQT",
    "papermill": {
     "duration": 0.00974,
     "end_time": "2025-02-13T04:45:41.583960",
     "exception": false,
     "start_time": "2025-02-13T04:45:41.574220",
     "status": "completed"
    },
    "tags": []
   },
   "source": [
    "**Question:** What do you observe about the your predictor variables?"
   ]
  },
  {
   "cell_type": "markdown",
   "id": "41667007",
   "metadata": {
    "id": "oD5l-FnazDYh",
    "papermill": {
     "duration": 0.009744,
     "end_time": "2025-02-13T04:45:41.604117",
     "exception": false,
     "start_time": "2025-02-13T04:45:41.594373",
     "status": "completed"
    },
    "tags": []
   },
   "source": [
    "* all predictor variables are numeric\n",
    "* we can use binary classifiers which uses numeric independent variables to estimate the targets "
   ]
  },
  {
   "cell_type": "markdown",
   "id": "c404c92a",
   "metadata": {
    "id": "cQ-wo4UOoBII",
    "papermill": {
     "duration": 0.00968,
     "end_time": "2025-02-13T04:45:41.623883",
     "exception": false,
     "start_time": "2025-02-13T04:45:41.614203",
     "status": "completed"
    },
    "tags": []
   },
   "source": [
    "### Perform a split operation on your data\n",
    "\n",
    "Divide your data into a training set (75% of data) and test set (25% of data). This is an important step in the process, as it allows you to reserve a part of the data that the model has not observed. This tests how well the model generalizes—or performs—on new data."
   ]
  },
  {
   "cell_type": "code",
   "execution_count": 7,
   "id": "c663fb51",
   "metadata": {
    "execution": {
     "iopub.execute_input": "2025-02-13T04:45:41.645084Z",
     "iopub.status.busy": "2025-02-13T04:45:41.644717Z",
     "iopub.status.idle": "2025-02-13T04:45:41.651509Z",
     "shell.execute_reply": "2025-02-13T04:45:41.650503Z"
    },
    "id": "pO2AdPR7oBIJ",
    "papermill": {
     "duration": 0.01964,
     "end_time": "2025-02-13T04:45:41.653497",
     "exception": false,
     "start_time": "2025-02-13T04:45:41.633857",
     "status": "completed"
    },
    "tags": []
   },
   "outputs": [],
   "source": [
    "# Perform the split operation on your data.\n",
    "# Assign the outputs as follows: X_train, X_test, y_train, y_test.\n",
    "\n",
    "### YOUR CODE HERE ###\n",
    "X_train, X_test, y_train, y_test = model_selection.train_test_split(X, y, test_size=0.25, random_state=0)"
   ]
  },
  {
   "cell_type": "markdown",
   "id": "51b357fc",
   "metadata": {
    "id": "DgY9icEY2mKn",
    "papermill": {
     "duration": 0.010009,
     "end_time": "2025-02-13T04:45:41.673753",
     "exception": false,
     "start_time": "2025-02-13T04:45:41.663744",
     "status": "completed"
    },
    "tags": []
   },
   "source": [
    "<details>\n",
    "<summary><h4><strong>Hint 1</strong></h4></summary>\n",
    "\n",
    "Refer to [the content about splitting your data between a training and test set](https://www.coursera.org/learn/the-nuts-and-bolts-of-machine-learning/lecture/VxbUT/construct-a-naive-bayes-model-with-python).\n",
    "</details>"
   ]
  },
  {
   "cell_type": "markdown",
   "id": "1d208688",
   "metadata": {
    "id": "pUmzKZUU2mKp",
    "papermill": {
     "duration": 0.009807,
     "end_time": "2025-02-13T04:45:41.694527",
     "exception": false,
     "start_time": "2025-02-13T04:45:41.684720",
     "status": "completed"
    },
    "tags": []
   },
   "source": [
    "<details>\n",
    "<summary><h4><strong>Hint 2</strong></h4></summary>\n",
    "\n",
    "Call the function in the `model_selection` module of `sklearn` on the features and target variable, in order to perform the splitting.\n",
    "</details>"
   ]
  },
  {
   "cell_type": "markdown",
   "id": "2aad8406",
   "metadata": {
    "id": "ORy1MNR62mKq",
    "papermill": {
     "duration": 0.009663,
     "end_time": "2025-02-13T04:45:41.714396",
     "exception": false,
     "start_time": "2025-02-13T04:45:41.704733",
     "status": "completed"
    },
    "tags": []
   },
   "source": [
    "<details>\n",
    "<summary><h4><strong>Hint 3</strong></h4></summary>\n",
    "\n",
    "Call the `model_selection.train_test_split()` function, passing in both `features` and `target`, while configuring the appropriate `test_size`.\n",
    "\n",
    "Assign the output of this split as `X_train`, `X_test`, `y_train`, `y_test`.\n",
    "</details>"
   ]
  },
  {
   "cell_type": "markdown",
   "id": "4ed1aca1",
   "metadata": {
    "id": "Gjasizab0tSL",
    "papermill": {
     "duration": 0.009839,
     "end_time": "2025-02-13T04:45:41.734297",
     "exception": false,
     "start_time": "2025-02-13T04:45:41.724458",
     "status": "completed"
    },
    "tags": []
   },
   "source": [
    "### Print the shape of each output \n",
    "\n",
    "Print the shape of each output from your train-test split. This will verify that the split operated as expected."
   ]
  },
  {
   "cell_type": "code",
   "execution_count": 8,
   "id": "08fac600",
   "metadata": {
    "execution": {
     "iopub.execute_input": "2025-02-13T04:45:41.755794Z",
     "iopub.status.busy": "2025-02-13T04:45:41.755471Z",
     "iopub.status.idle": "2025-02-13T04:45:41.761211Z",
     "shell.execute_reply": "2025-02-13T04:45:41.760086Z"
    },
    "id": "xtxpSjCm4jCa",
    "papermill": {
     "duration": 0.018408,
     "end_time": "2025-02-13T04:45:41.762773",
     "exception": false,
     "start_time": "2025-02-13T04:45:41.744365",
     "status": "completed"
    },
    "tags": []
   },
   "outputs": [
    {
     "name": "stdout",
     "output_type": "stream",
     "text": [
      "(1005, 10)\n",
      "(335, 10)\n",
      "(1005,)\n",
      "(335,)\n"
     ]
    }
   ],
   "source": [
    "# Print the shape (rows, columns) of the output from the train-test split.\n",
    "\n",
    "# Print the shape of X_train.\n",
    "\n",
    "### YOUR CODE HERE ###\n",
    "print(X_train.shape)\n",
    "\n",
    "\n",
    "# Print the shape of X_test.\n",
    "\n",
    "### YOUR CODE HERE ###\n",
    "print(X_test.shape)\n",
    "\n",
    "\n",
    "# Print the shape of y_train.\n",
    "\n",
    "### YOUR CODE HERE ###\n",
    "print(y_train.shape)\n",
    "\n",
    "\n",
    "# Print the shape of y_test.\n",
    "\n",
    "### YOUR CODE HERE ###\n",
    "print(y_test.shape)\n"
   ]
  },
  {
   "cell_type": "markdown",
   "id": "74039b1b",
   "metadata": {
    "id": "dx8DO1Rw2ZBZ",
    "papermill": {
     "duration": 0.009851,
     "end_time": "2025-02-13T04:45:41.782830",
     "exception": false,
     "start_time": "2025-02-13T04:45:41.772979",
     "status": "completed"
    },
    "tags": []
   },
   "source": [
    "<details>\n",
    "<summary><h4><strong>Hint 1</strong></h4></summary>\n",
    "\n",
    "Call the attribute that DataFrames in `pandas` have to get the number of rows and number of columns as a tuple.\n",
    "</details>"
   ]
  },
  {
   "cell_type": "markdown",
   "id": "0f61f2f8",
   "metadata": {
    "id": "G9pDSxlG2di1",
    "papermill": {
     "duration": 0.00987,
     "end_time": "2025-02-13T04:45:41.802714",
     "exception": false,
     "start_time": "2025-02-13T04:45:41.792844",
     "status": "completed"
    },
    "tags": []
   },
   "source": [
    "<details>\n",
    "<summary><h4><strong>Hint 2</strong></h4></summary>\n",
    "\n",
    "Call the `shape` attribute.\n",
    "</details>"
   ]
  },
  {
   "cell_type": "markdown",
   "id": "ff1a1fe0",
   "metadata": {
    "id": "zZndsnPq1UyL",
    "papermill": {
     "duration": 0.00981,
     "end_time": "2025-02-13T04:45:41.822556",
     "exception": false,
     "start_time": "2025-02-13T04:45:41.812746",
     "status": "completed"
    },
    "tags": []
   },
   "source": [
    "**Question:** How many rows are in each of the outputs?\n"
   ]
  },
  {
   "cell_type": "markdown",
   "id": "f33461e0",
   "metadata": {
    "id": "74-KZfWUzBeV",
    "papermill": {
     "duration": 0.009777,
     "end_time": "2025-02-13T04:45:41.842358",
     "exception": false,
     "start_time": "2025-02-13T04:45:41.832581",
     "status": "completed"
    },
    "tags": []
   },
   "source": [
    "* X, y training vars has 1005 rows\n",
    "* X, y testing vars has 335 rows"
   ]
  },
  {
   "cell_type": "markdown",
   "id": "5385b21e",
   "metadata": {
    "id": "_G5xBrJAZwlE",
    "papermill": {
     "duration": 0.009797,
     "end_time": "2025-02-13T04:45:41.862281",
     "exception": false,
     "start_time": "2025-02-13T04:45:41.852484",
     "status": "completed"
    },
    "tags": []
   },
   "source": [
    "**Question:** What was the effect of the train-test split?\n"
   ]
  },
  {
   "cell_type": "markdown",
   "id": "1b7b4217",
   "metadata": {
    "id": "w6MlJiZNzA9A",
    "papermill": {
     "duration": 0.009889,
     "end_time": "2025-02-13T04:45:41.882259",
     "exception": false,
     "start_time": "2025-02-13T04:45:41.872370",
     "status": "completed"
    },
    "tags": []
   },
   "source": [
    "* training set has 70% of the original records \n",
    "* testing/validation/holdout set has 30% of the original records"
   ]
  },
  {
   "cell_type": "markdown",
   "id": "753bb34d",
   "metadata": {
    "id": "MY0rAjlZAheh",
    "papermill": {
     "duration": 0.009941,
     "end_time": "2025-02-13T04:45:41.902353",
     "exception": false,
     "start_time": "2025-02-13T04:45:41.892412",
     "status": "completed"
    },
    "tags": []
   },
   "source": [
    "## Step 3: Model building"
   ]
  },
  {
   "cell_type": "markdown",
   "id": "ec192baa",
   "metadata": {
    "id": "YS06KhTSoBIM",
    "papermill": {
     "duration": 0.010223,
     "end_time": "2025-02-13T04:45:41.922825",
     "exception": false,
     "start_time": "2025-02-13T04:45:41.912602",
     "status": "completed"
    },
    "tags": []
   },
   "source": [
    "**Question:** Which Naive Bayes algorithm should you use?"
   ]
  },
  {
   "cell_type": "markdown",
   "id": "7bf285e3",
   "metadata": {
    "id": "ajt2BYgjzALD",
    "papermill": {
     "duration": 0.010152,
     "end_time": "2025-02-13T04:45:41.943667",
     "exception": false,
     "start_time": "2025-02-13T04:45:41.933515",
     "status": "completed"
    },
    "tags": []
   },
   "source": [
    "* gaussian naive bayes classifier is useful when the predictors are all numeric "
   ]
  },
  {
   "cell_type": "markdown",
   "id": "c74edeec",
   "metadata": {
    "id": "OOBvfCNeoBIM",
    "papermill": {
     "duration": 0.009973,
     "end_time": "2025-02-13T04:45:41.963910",
     "exception": false,
     "start_time": "2025-02-13T04:45:41.953937",
     "status": "completed"
    },
    "tags": []
   },
   "source": [
    "<details>\n",
    "<summary><h4><strong>Hint 1</strong></h4></summary>\n",
    "\n",
    "Refer to [the content about different implementations of the Naive Bayes](https://www.coursera.org/learn/the-nuts-and-bolts-of-machine-learning/supplement/1zfDy/naive-bayes-classifiers) to determine which is appropriate in this situation.\n",
    "</details>"
   ]
  },
  {
   "cell_type": "markdown",
   "id": "b7848cad",
   "metadata": {
    "id": "gzT16WHjoBIM",
    "papermill": {
     "duration": 0.009882,
     "end_time": "2025-02-13T04:45:41.983979",
     "exception": false,
     "start_time": "2025-02-13T04:45:41.974097",
     "status": "completed"
    },
    "tags": []
   },
   "source": [
    "<details>\n",
    "<summary><h4><strong>Hint 2</strong></h4></summary>\n",
    "\n",
    "Note that you are performing binary classification.\n",
    "</details>"
   ]
  },
  {
   "cell_type": "markdown",
   "id": "44078e40",
   "metadata": {
    "id": "IILInxLYoBIN",
    "papermill": {
     "duration": 0.009928,
     "end_time": "2025-02-13T04:45:42.004106",
     "exception": false,
     "start_time": "2025-02-13T04:45:41.994178",
     "status": "completed"
    },
    "tags": []
   },
   "source": [
    "<details>\n",
    "<summary><h4><strong>Hint 3</strong></h4></summary>\n",
    "\n",
    "You can identify the appropriate algorithm to use because you are performing a binary classification and assuming that the features of your model follow a normal distribution.\n",
    "</details>"
   ]
  },
  {
   "cell_type": "markdown",
   "id": "83159d08",
   "metadata": {
    "id": "m5EFtZfXoBIN",
    "papermill": {
     "duration": 0.067484,
     "end_time": "2025-02-13T04:45:42.081932",
     "exception": false,
     "start_time": "2025-02-13T04:45:42.014448",
     "status": "completed"
    },
    "tags": []
   },
   "source": [
    "### Fit your model to your training data and predict on your test data\n",
    "\n",
    "By creating your model, you will be drawing on your feature engineering work by training the classifier on the `X_train` DataFrame. You will use this to predict `target_5yrs` from `y_train`.\n",
    "\n",
    "Start by defining `nb` to be the relevant algorithm from `sklearn`.`naive_bayes`. Then fit your model to your training data. Use this fitted model to create predictions for your test data."
   ]
  },
  {
   "cell_type": "code",
   "execution_count": 9,
   "id": "50bd7f0e",
   "metadata": {
    "execution": {
     "iopub.execute_input": "2025-02-13T04:45:42.103712Z",
     "iopub.status.busy": "2025-02-13T04:45:42.103371Z",
     "iopub.status.idle": "2025-02-13T04:45:42.122548Z",
     "shell.execute_reply": "2025-02-13T04:45:42.121471Z"
    },
    "id": "gUEgzQW_6oMV",
    "papermill": {
     "duration": 0.032395,
     "end_time": "2025-02-13T04:45:42.124546",
     "exception": false,
     "start_time": "2025-02-13T04:45:42.092151",
     "status": "completed"
    },
    "tags": []
   },
   "outputs": [],
   "source": [
    "# Assign `nb` to be the appropriate implementation of Naive Bayes.\n",
    "\n",
    "### YOUR CODE HERE ###\n",
    "nb = naive_bayes.GaussianNB()\n",
    "\n",
    "\n",
    "# Fit the model on your training data.\n",
    "\n",
    "### YOUR CODE HERE ###\n",
    "nb.fit(X_train, y_train)\n",
    "\n",
    "\n",
    "# Apply your model to predict on your test data. Call this \"y_pred\".\n",
    "\n",
    "### YOUR CODE HERE ###\n",
    "y_pred = nb.predict(X_test)\n"
   ]
  },
  {
   "cell_type": "markdown",
   "id": "de340b2a",
   "metadata": {
    "id": "l2vRT5XeoBIN",
    "papermill": {
     "duration": 0.009956,
     "end_time": "2025-02-13T04:45:42.144986",
     "exception": false,
     "start_time": "2025-02-13T04:45:42.135030",
     "status": "completed"
    },
    "tags": []
   },
   "source": [
    "<details>\n",
    "<summary><h4><strong>Hint 1</strong></h4></summary>\n",
    "\n",
    "Refer to [the content about constructing a Naive Bayes](https://www.coursera.org/learn/the-nuts-and-bolts-of-machine-learning/lecture/VxbUT/construct-a-naive-bayes-model-with-python).\n",
    "</details>"
   ]
  },
  {
   "cell_type": "markdown",
   "id": "12f2d4bb",
   "metadata": {
    "id": "Vo1E7RjtoBIN",
    "papermill": {
     "duration": 0.010636,
     "end_time": "2025-02-13T04:45:42.167063",
     "exception": false,
     "start_time": "2025-02-13T04:45:42.156427",
     "status": "completed"
    },
    "tags": []
   },
   "source": [
    "<details>\n",
    "<summary><h4><strong>Hint 2</strong></h4></summary>\n",
    "\n",
    "The appropriate implementation in this case is `naive_bayes`.`GaussianNB()`. Fit this model to your training data and predict on your test data.\n",
    "</details>"
   ]
  },
  {
   "cell_type": "markdown",
   "id": "84eaf15b",
   "metadata": {
    "id": "azSq51xXoBIN",
    "papermill": {
     "duration": 0.010007,
     "end_time": "2025-02-13T04:45:42.187483",
     "exception": false,
     "start_time": "2025-02-13T04:45:42.177476",
     "status": "completed"
    },
    "tags": []
   },
   "source": [
    "<details>\n",
    "<summary><h4><strong>Hint 3</strong></h4></summary>\n",
    "\n",
    "Call `fit()`and pass your training feature set and target variable. Then call `predict()` on your test feature set.\n",
    "</details>"
   ]
  },
  {
   "cell_type": "markdown",
   "id": "e91197dd",
   "metadata": {
    "id": "qgV_6xAQAvgg",
    "papermill": {
     "duration": 0.00978,
     "end_time": "2025-02-13T04:45:42.207880",
     "exception": false,
     "start_time": "2025-02-13T04:45:42.198100",
     "status": "completed"
    },
    "tags": []
   },
   "source": [
    "## Step 4: Results and evaluation\n"
   ]
  },
  {
   "cell_type": "markdown",
   "id": "c9093cae",
   "metadata": {
    "id": "XPswDdr1oBIO",
    "papermill": {
     "duration": 0.009755,
     "end_time": "2025-02-13T04:45:42.228234",
     "exception": false,
     "start_time": "2025-02-13T04:45:42.218479",
     "status": "completed"
    },
    "tags": []
   },
   "source": [
    "### Leverage metrics to evaluate your model's performance\n",
    "\n",
    "To evaluate the data yielded from your model, you can leverage a series of metrics and evaluation techniques from scikit-learn by examining the actual observed values in the test set relative to your model's prediction. Specifically, print the accuracy score, precision score, recall score, and f1 score associated with your test data and predicted values."
   ]
  },
  {
   "cell_type": "code",
   "execution_count": 10,
   "id": "f4055b9b",
   "metadata": {
    "execution": {
     "iopub.execute_input": "2025-02-13T04:45:42.249927Z",
     "iopub.status.busy": "2025-02-13T04:45:42.249602Z",
     "iopub.status.idle": "2025-02-13T04:45:42.268059Z",
     "shell.execute_reply": "2025-02-13T04:45:42.266930Z"
    },
    "id": "INf2Rd_MoBIP",
    "papermill": {
     "duration": 0.031235,
     "end_time": "2025-02-13T04:45:42.269672",
     "exception": false,
     "start_time": "2025-02-13T04:45:42.238437",
     "status": "completed"
    },
    "tags": []
   },
   "outputs": [
    {
     "name": "stdout",
     "output_type": "stream",
     "text": [
      "accuracy score:\n",
      "0.6895522388059702\n",
      "\n",
      "precision score:\n",
      "0.8405797101449275\n",
      "\n",
      "recall score:\n",
      "0.5858585858585859\n",
      "\n",
      "f1 score:\n",
      "0.6904761904761905\n",
      "\n"
     ]
    },
    {
     "data": {
      "text/plain": [
       "(None, None, None)"
      ]
     },
     "execution_count": 10,
     "metadata": {},
     "output_type": "execute_result"
    }
   ],
   "source": [
    "# Print your accuracy score.\n",
    "\n",
    "### YOUR CODE HERE ###\n",
    "print('accuracy score:'), print(metrics.accuracy_score(y_test, y_pred)), print()\n",
    "\n",
    "\n",
    "# Print your precision score.\n",
    "\n",
    "### YOUR CODE HERE ###\n",
    "print('precision score:'), print(metrics.precision_score(y_test, y_pred)), print()\n",
    "\n",
    "\n",
    "# Print your recall score.\n",
    "\n",
    "### YOUR CODE HERE ###\n",
    "print('recall score:'), print(metrics.recall_score(y_test, y_pred)), print()\n",
    "\n",
    "\n",
    "# Print your f1 score.\n",
    "\n",
    "### YOUR CODE HERE ###\n",
    "print('f1 score:'), print(metrics.f1_score(y_test, y_pred)), print()\n"
   ]
  },
  {
   "cell_type": "markdown",
   "id": "c22d4e36",
   "metadata": {
    "id": "mEgb0a2YoBIP",
    "papermill": {
     "duration": 0.010428,
     "end_time": "2025-02-13T04:45:42.290725",
     "exception": false,
     "start_time": "2025-02-13T04:45:42.280297",
     "status": "completed"
    },
    "tags": []
   },
   "source": [
    "<details>\n",
    "<summary><h4><strong>Hint 1</strong></h4></summary>\n",
    "\n",
    "Refer to [the content about model evaluation](https://www.coursera.org/learn/the-nuts-and-bolts-of-machine-learning/lecture/EITmV/key-evaluation-metrics-for-classification-models) for detail on these metrics.\n",
    "</details>"
   ]
  },
  {
   "cell_type": "markdown",
   "id": "806151df",
   "metadata": {
    "id": "oT143KsSoBIP",
    "papermill": {
     "duration": 0.009993,
     "end_time": "2025-02-13T04:45:42.311017",
     "exception": false,
     "start_time": "2025-02-13T04:45:42.301024",
     "status": "completed"
    },
    "tags": []
   },
   "source": [
    "<details>\n",
    "<summary><h4><strong>Hint 2</strong></h4></summary>\n",
    "\n",
    "The `metrics` module in `sklearn` has a function for computing each of these metrics.\n",
    "</details>"
   ]
  },
  {
   "cell_type": "markdown",
   "id": "12255057",
   "metadata": {
    "id": "BECv4a2toBIP",
    "papermill": {
     "duration": 0.010246,
     "end_time": "2025-02-13T04:45:42.331890",
     "exception": false,
     "start_time": "2025-02-13T04:45:42.321644",
     "status": "completed"
    },
    "tags": []
   },
   "source": [
    "<details>\n",
    "<summary><h4><strong>Hint 3</strong></h4></summary>\n",
    "\n",
    "Call `accuracy_score()`, `precision_score()`, `recall_score()`, and `f1_score()`, passing `y_test`, and `y_pred` into each function.\n",
    "</details>"
   ]
  },
  {
   "cell_type": "markdown",
   "id": "b8e20036",
   "metadata": {
    "id": "dDx7rrdNoBIP",
    "papermill": {
     "duration": 0.010298,
     "end_time": "2025-02-13T04:45:42.353029",
     "exception": false,
     "start_time": "2025-02-13T04:45:42.342731",
     "status": "completed"
    },
    "tags": []
   },
   "source": [
    "**Question:** What is the accuracy score for your model, and what does this tell you about the success of the model's performance?\n",
    "\n"
   ]
  },
  {
   "cell_type": "markdown",
   "id": "997c44cf",
   "metadata": {
    "id": "oD9Wu2eEy-CC",
    "papermill": {
     "duration": 0.010134,
     "end_time": "2025-02-13T04:45:42.373664",
     "exception": false,
     "start_time": "2025-02-13T04:45:42.363530",
     "status": "completed"
    },
    "tags": []
   },
   "source": [
    "* accuracy score: 68.96%\n",
    "* approximately 69% of the targets were correctly predicted"
   ]
  },
  {
   "cell_type": "markdown",
   "id": "3cbc24af",
   "metadata": {
    "id": "x3O1G_TIaaGw",
    "papermill": {
     "duration": 0.010264,
     "end_time": "2025-02-13T04:45:42.394376",
     "exception": false,
     "start_time": "2025-02-13T04:45:42.384112",
     "status": "completed"
    },
    "tags": []
   },
   "source": [
    "**Question:** Can you evaluate the success of your model by using the accuracy score exclusively?\n"
   ]
  },
  {
   "cell_type": "markdown",
   "id": "7a7e8cd4",
   "metadata": {
    "id": "Fd9zpsZFy9cP",
    "papermill": {
     "duration": 0.010257,
     "end_time": "2025-02-13T04:45:42.415033",
     "exception": false,
     "start_time": "2025-02-13T04:45:42.404776",
     "status": "completed"
    },
    "tags": []
   },
   "source": [
    "* Accuarcy only provides the overall picture of how well the model is performing\n",
    "* NO, success of any model should not be considered using accuracy as a standalone metric \n",
    "* Especially in unbalanced datasets other metrics such as Precision, Recall and F1 score or F-beta score needs to be prioritized and considered depending on the use cases"
   ]
  },
  {
   "cell_type": "markdown",
   "id": "d6928ebe",
   "metadata": {
    "id": "evpAa_4noBIP",
    "papermill": {
     "duration": 0.010003,
     "end_time": "2025-02-13T04:45:42.435497",
     "exception": false,
     "start_time": "2025-02-13T04:45:42.425494",
     "status": "completed"
    },
    "tags": []
   },
   "source": [
    "**Question:** What are the precision and recall scores for your model, and what do they mean? Is one of these scores more accurate than the other?\n"
   ]
  },
  {
   "cell_type": "markdown",
   "id": "598ebb15",
   "metadata": {
    "id": "Di-uEPDTy8MW",
    "papermill": {
     "duration": 0.010179,
     "end_time": "2025-02-13T04:45:42.456176",
     "exception": false,
     "start_time": "2025-02-13T04:45:42.445997",
     "status": "completed"
    },
    "tags": []
   },
   "source": [
    "* precision score: 0.84 --> THIS IS BETTER\n",
    "* recall score: 0.59 --> THIS IS BAD\n",
    "\n",
    "\n",
    "* Precision indicates us the % of correct predictions out of all those that are predicted as a particular class\n",
    "* Recall tells us the proportion of an actual class being predicted correctly\n",
    "\n",
    "\n",
    "* Precision is preferred when the PPV (Positive predictive value) of a model for a particular class needs to be known\n",
    "* Precision is also prioritized when FPs are much more costlier/important than FNs\n",
    "* Recall is prioritized when FNs are much more costlier/important than FPs"
   ]
  },
  {
   "cell_type": "markdown",
   "id": "21e9e394",
   "metadata": {
    "id": "7ghkTwSUoBIP",
    "papermill": {
     "duration": 0.010169,
     "end_time": "2025-02-13T04:45:42.476742",
     "exception": false,
     "start_time": "2025-02-13T04:45:42.466573",
     "status": "completed"
    },
    "tags": []
   },
   "source": [
    "**Question:** What is the F1 score of your model, and what does this score mean?"
   ]
  },
  {
   "cell_type": "markdown",
   "id": "af1efea4",
   "metadata": {
    "id": "GEUUWvrmy7aE",
    "papermill": {
     "duration": 0.010133,
     "end_time": "2025-02-13T04:45:42.497341",
     "exception": false,
     "start_time": "2025-02-13T04:45:42.487208",
     "status": "completed"
    },
    "tags": []
   },
   "source": [
    "* f1 score: 0.69 --> THIS MEANS THE MODEL IS BAD\n",
    "\n",
    "\n",
    "* F1 score is a combination evaluation metric which uses both Precision and Recall\n",
    "* it can be also said to be the harmonic mean of Precision and Recall\n",
    "* since it is HM, the worse of Precision or Recall will get more weightage dragging the F1 score down\n",
    "* F1 score helps in NOT overestimating a model when one of precision or recall is higher than the other"
   ]
  },
  {
   "cell_type": "markdown",
   "id": "bdee5155",
   "metadata": {
    "id": "mNzDfI3RoBIQ",
    "papermill": {
     "duration": 0.010137,
     "end_time": "2025-02-13T04:45:42.517970",
     "exception": false,
     "start_time": "2025-02-13T04:45:42.507833",
     "status": "completed"
    },
    "tags": []
   },
   "source": [
    "### Gain clarity with the confusion matrix\n",
    "\n",
    "Recall that a confusion matrix is a graphic that shows your model's true and false positives and negatives. It helps to create a visual representation of the components feeding into the metrics.\n",
    "\n",
    "Create a confusion matrix based on your predicted values for the test set."
   ]
  },
  {
   "cell_type": "code",
   "execution_count": 11,
   "id": "7691b8dd",
   "metadata": {
    "execution": {
     "iopub.execute_input": "2025-02-13T04:45:42.540388Z",
     "iopub.status.busy": "2025-02-13T04:45:42.539973Z",
     "iopub.status.idle": "2025-02-13T04:45:42.879029Z",
     "shell.execute_reply": "2025-02-13T04:45:42.878010Z"
    },
    "id": "ntoJ-YG7oBIQ",
    "papermill": {
     "duration": 0.352195,
     "end_time": "2025-02-13T04:45:42.880683",
     "exception": false,
     "start_time": "2025-02-13T04:45:42.528488",
     "status": "completed"
    },
    "tags": []
   },
   "outputs": [
    {
     "name": "stdout",
     "output_type": "stream",
     "text": [
      "[[115  22]\n",
      " [ 82 116]]\n"
     ]
    },
    {
     "data": {
      "text/plain": [
       "<sklearn.metrics._plot.confusion_matrix.ConfusionMatrixDisplay at 0x7bbf80335030>"
      ]
     },
     "execution_count": 11,
     "metadata": {},
     "output_type": "execute_result"
    },
    {
     "data": {
      "image/png": "[encoded data removed]",
      "text/plain": [
       "<Figure size 640x480 with 2 Axes>"
      ]
     },
     "metadata": {},
     "output_type": "display_data"
    }
   ],
   "source": [
    "# Construct and display your confusion matrix.\n",
    "\n",
    "# Construct the confusion matrix for your predicted and test values.\n",
    "\n",
    "### YOUR CODE HERE ###\n",
    "cm = metrics.confusion_matrix(y_test, y_pred)\n",
    "print(cm)\n",
    "\n",
    "# Create the display for your confusion matrix.\n",
    "\n",
    "### YOUR CODE HERE ###\n",
    "disp = metrics.ConfusionMatrixDisplay(confusion_matrix= cm, display_labels= nb.classes_)\n",
    "\n",
    "\n",
    "# Plot the visual in-line.\n",
    "\n",
    "### YOUR CODE HERE ###\n",
    "disp.plot()\n"
   ]
  },
  {
   "cell_type": "markdown",
   "id": "8863f48c",
   "metadata": {
    "id": "b2lqmzQ-oBIQ",
    "papermill": {
     "duration": 0.011064,
     "end_time": "2025-02-13T04:45:42.902931",
     "exception": false,
     "start_time": "2025-02-13T04:45:42.891867",
     "status": "completed"
    },
    "tags": []
   },
   "source": [
    "<details>\n",
    "<summary><h4><strong>Hint 1</strong></h4></summary>\n",
    "\n",
    "The `metrics` module has functions to create a confusion matrix.\n",
    "</details>"
   ]
  },
  {
   "cell_type": "markdown",
   "id": "46515ab8",
   "metadata": {
    "id": "Wi_x2zTDoBIQ",
    "papermill": {
     "duration": 0.011123,
     "end_time": "2025-02-13T04:45:42.925095",
     "exception": false,
     "start_time": "2025-02-13T04:45:42.913972",
     "status": "completed"
    },
    "tags": []
   },
   "source": [
    "<details>\n",
    "<summary><h4><strong>Hint 2</strong></h4></summary>\n",
    "\n",
    "Call `confusion_matrix`, passing in `y_test` and `y_pred`. Then, utilize `ConfusionMatrixDisplay()` to display your confusion matrix.\n",
    "</details>"
   ]
  },
  {
   "cell_type": "markdown",
   "id": "487b236e",
   "metadata": {
    "id": "aLkF5znkNk7m",
    "papermill": {
     "duration": 0.01057,
     "end_time": "2025-02-13T04:45:42.946532",
     "exception": false,
     "start_time": "2025-02-13T04:45:42.935962",
     "status": "completed"
    },
    "tags": []
   },
   "source": [
    "**Question:** What do you notice when observing your confusion matrix, and does this correlate to any of your other calculations?\n"
   ]
  },
  {
   "cell_type": "markdown",
   "id": "414b55b4",
   "metadata": {
    "id": "EA2eAI9Dy6OJ",
    "papermill": {
     "duration": 0.010694,
     "end_time": "2025-02-13T04:45:42.968108",
     "exception": false,
     "start_time": "2025-02-13T04:45:42.957414",
     "status": "completed"
    },
    "tags": []
   },
   "source": [
    "* TP = 116\n",
    "* TN = 115\n",
    "* FP = 22\n",
    "* FN = 82\n",
    "\n",
    "\n",
    "* the precision deals with FP. since the FP is less (22), Precision is high for this NB model\n",
    "* the recall deals with FN. since the FN is more (82 almost 4 times FP), Recall is pretty low for this NB model"
   ]
  },
  {
   "cell_type": "markdown",
   "id": "ee33cad3",
   "metadata": {
    "id": "xur2FC5xAzp0",
    "papermill": {
     "duration": 0.012531,
     "end_time": "2025-02-13T04:45:42.995006",
     "exception": false,
     "start_time": "2025-02-13T04:45:42.982475",
     "status": "completed"
    },
    "tags": []
   },
   "source": [
    "## Considerations\n",
    "\n",
    "**What are some key takeaways that you learned from this lab?**\n",
    "\n",
    "* finding out what type of NB suit for the problem and data at hand\n",
    "* how to use and interpretat evaluation metrics and visualize confusion matrix when classfiers especially Naive Bayes is used \n",
    "\n",
    "\n",
    "**How would you present your results to your team?**\n",
    "\n",
    "* used Gaussian NB model since the independent variables are all numeric (especially continuous)\n",
    "* accuracy: 68.96% pretty low (approximately 69% of the targets were correctly predicted)\n",
    "* F1-score: 0.69 pretty bad. While the precision was better at 0.84, recall is really bad at 0.59\n",
    "\n",
    "\n",
    "Confusion matrix:\n",
    "\n",
    "[[ TN=115  FP=22 ]  \n",
    " [ FN=82   TP=116]]\n",
    "\n",
    "**How would you summarize your findings to stakeholders?**\n",
    "\n",
    "* this is a poorly predicting model\n",
    "* other classifiers can be tested against this to see if there are improvements\n",
    "* This base model can be used in positively predicting most of the players who will likely play for 5 years or more while at the cost of wrongly letting players who won't be playing for more than 5 years also classified that they will \n",
    "* if there are enough resources to spend on and reward MOST players who will have careers >= 5 years and also include FEW players who won't be actually having an NBA career more than 5 years this is an OK model"
   ]
  },
  {
   "cell_type": "markdown",
   "id": "3a3bee92",
   "metadata": {
    "papermill": {
     "duration": 0.010645,
     "end_time": "2025-02-13T04:45:43.017272",
     "exception": false,
     "start_time": "2025-02-13T04:45:43.006627",
     "status": "completed"
    },
    "tags": []
   },
   "source": [
    "**Congratulations!** You've completed this lab. However, you may not notice a green check mark next to this item on Coursera's platform. Please continue your progress regardless of the check mark. Just click on the \"save\" icon at the top of this notebook to ensure your work has been logged"
   ]
  }
 ],
 "metadata": {
  "colab": {
   "collapsed_sections": [],
   "provenance": []
  },
  "kaggle": {
   "accelerator": "none",
   "dataSources": [
    {
     "datasetId": 6657876,
     "sourceId": 10737490,
     "sourceType": "datasetVersion"
    }
   ],
   "dockerImageVersionId": 30886,
   "isGpuEnabled": false,
   "isInternetEnabled": true,
   "language": "python",
   "sourceType": "notebook"
  },
  "kernelspec": {
   "display_name": "Python 3",
   "language": "python",
   "name": "python3"
  },
  "language_info": {
   "codemirror_mode": {
    "name": "ipython",
    "version": 3
   },
   "file_extension": ".py",
   "mimetype": "text/x-python",
   "name": "python",
   "nbconvert_exporter": "python",
   "pygments_lexer": "ipython3",
   "version": "3.10.12"
  },
  "papermill": {
   "default_parameters": {},
   "duration": 7.799071,
   "end_time": "2025-02-13T04:45:43.750080",
   "environment_variables": {},
   "exception": null,
   "input_path": "__notebook__.ipynb",
   "output_path": "__notebook__.ipynb",
   "parameters": {},
   "start_time": "2025-02-13T04:45:35.951009",
   "version": "2.6.0"
  }
 },
 "nbformat": 4,
 "nbformat_minor": 5
}

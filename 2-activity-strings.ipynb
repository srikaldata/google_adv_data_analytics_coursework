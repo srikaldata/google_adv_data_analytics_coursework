{
 "cells": [
  {
   "cell_type": "markdown",
   "id": "577d2b51",
   "metadata": {
    "id": "zdhKGagO-08G",
    "papermill": {
     "duration": 0.007751,
     "end_time": "2025-02-04T04:02:25.860644",
     "exception": false,
     "start_time": "2025-02-04T04:02:25.852893",
     "status": "completed"
    },
    "tags": []
   },
   "source": [
    "<summary><h1>Activity: Work with strings in Python</h1></summary>"
   ]
  },
  {
   "cell_type": "markdown",
   "id": "a70a31a0",
   "metadata": {
    "id": "2Aj2wyhv-4uz",
    "papermill": {
     "duration": 0.005168,
     "end_time": "2025-02-04T04:02:25.871511",
     "exception": false,
     "start_time": "2025-02-04T04:02:25.866343",
     "status": "completed"
    },
    "tags": []
   },
   "source": [
    "## Introduction \n",
    "\n",
    "Data professionals work with a lot of string data. For example, while analyzing the results of a marketing campaign, you may need to review item descriptions or customer names, which is stored as string data. Becoming comfortable working with strings in Python is essential for the work of a data professional.\n",
    "\n",
    "In this lab, you'll practice coding in Python and working with strings. You'll work with a store ID, ZIP Code, and a custom URL for the store you're gathering data on.\n"
   ]
  },
  {
   "cell_type": "markdown",
   "id": "04e42f38",
   "metadata": {
    "id": "yWchTc4RbLdH",
    "papermill": {
     "duration": 0.005068,
     "end_time": "2025-02-04T04:02:25.882052",
     "exception": false,
     "start_time": "2025-02-04T04:02:25.876984",
     "status": "completed"
    },
    "tags": []
   },
   "source": [
    "## Tips for completing this lab\n",
    "\n",
    "As you navigate this lab, keep the following tips in mind:\n",
    "\n",
    "- `### YOUR CODE HERE ###` indicates where you should write code. Be sure to replace this with your own code before running the code cell.\n",
    "- Feel free to open the hints for additional guidance as you work on each task.\n",
    "- To enter your answer to a question, double-click the markdown cell to edit. Be sure to replace the `[Double-click to record your response.]` with your own answers.\n",
    "- You can save your work manually by clicking File and then Save in the menu bar at the top of the notebook.\n",
    "- You can download your work locally by clicking File and then Download and then specifying your preferred file format in the menu bar at the top of the notebook.\n"
   ]
  },
  {
   "cell_type": "markdown",
   "id": "ce6439a3",
   "metadata": {
    "id": "i0uX4za0BkN7",
    "papermill": {
     "duration": 0.005001,
     "end_time": "2025-02-04T04:02:25.892509",
     "exception": false,
     "start_time": "2025-02-04T04:02:25.887508",
     "status": "completed"
    },
    "tags": []
   },
   "source": [
    "## Task 1: Check and change data types\n",
    "\n",
    "Now that you have experience in marketing, you've moved on to market research. Your new task is collecting store data for future analysis. In this task, you're given a four-digit numeric store ID stored in a variable called `store_id`.\n",
    "\n",
    "1.  Convert `store_id` to a string and store the result in the same variable.\n",
    "2.  Confirm the type of `store_id` after the conversion.\n"
   ]
  },
  {
   "cell_type": "code",
   "execution_count": 1,
   "id": "792638dc",
   "metadata": {
    "execution": {
     "iopub.execute_input": "2025-02-04T04:02:25.904866Z",
     "iopub.status.busy": "2025-02-04T04:02:25.904373Z",
     "iopub.status.idle": "2025-02-04T04:02:25.913181Z",
     "shell.execute_reply": "2025-02-04T04:02:25.911704Z"
    },
    "executionInfo": {
     "elapsed": 9,
     "status": "ok",
     "timestamp": 1679944105599,
     "user": {
      "displayName": "Matteo Riotto",
      "userId": "15211004813978485634"
     },
     "user_tz": 420
    },
    "id": "mE4L9dLfAgH5",
    "outputId": "48f48e81-1749-4b6c-a31f-e862318f08f2",
    "papermill": {
     "duration": 0.017206,
     "end_time": "2025-02-04T04:02:25.914975",
     "exception": false,
     "start_time": "2025-02-04T04:02:25.897769",
     "status": "completed"
    },
    "tags": []
   },
   "outputs": [
    {
     "name": "stdout",
     "output_type": "stream",
     "text": [
      "<class 'str'>\n"
     ]
    }
   ],
   "source": [
    "store_id = 1101\n",
    "\n",
    "# 1. ### YOUR CODE HERE ###\n",
    "store_id = str(store_id)\n",
    "\n",
    "# 2. ### YOUR CODE HERE ###\n",
    "print(type(store_id))"
   ]
  },
  {
   "cell_type": "markdown",
   "id": "b00d30c5",
   "metadata": {
    "id": "Xzdl3MEfAgH6",
    "papermill": {
     "duration": 0.005337,
     "end_time": "2025-02-04T04:02:25.926006",
     "exception": false,
     "start_time": "2025-02-04T04:02:25.920669",
     "status": "completed"
    },
    "tags": []
   },
   "source": [
    "<details>\n",
    "    <summary><h4><strong>Hint 1</strong></h4></summary>\n",
    "\n",
    "You can refer back to what you learned about changing data types.\n",
    "\n",
    "</details>"
   ]
  },
  {
   "cell_type": "markdown",
   "id": "284efdd5",
   "metadata": {
    "id": "ixjRc0hYAgH7",
    "papermill": {
     "duration": 0.005629,
     "end_time": "2025-02-04T04:02:25.937591",
     "exception": false,
     "start_time": "2025-02-04T04:02:25.931962",
     "status": "completed"
    },
    "tags": []
   },
   "source": [
    "<details>\n",
    "    <summary><h4><strong>Hint 2</strong></h4></summary>\n",
    "\n",
    "When using Python's built-in functions such as `type()` and `str()`, make sure to pass the variables or data you're converting into the parenthesis.\n",
    "\n",
    "</details>"
   ]
  },
  {
   "cell_type": "markdown",
   "id": "8de5bddd",
   "metadata": {
    "id": "WCBTbgRzAgH7",
    "papermill": {
     "duration": 0.005635,
     "end_time": "2025-02-04T04:02:25.948908",
     "exception": false,
     "start_time": "2025-02-04T04:02:25.943273",
     "status": "completed"
    },
    "tags": []
   },
   "source": [
    "<details>\n",
    "    <summary><h4><strong>Hint 3</strong></h4></summary>\n",
    "\n",
    "Use the `str()` function in Python to convert the initial value of the `store_id` variable into a string.\n",
    "\n",
    "To reassign `store_id` as the same variable, write `store_id`, then the `=` operator, then `str(store_id)` on a new line in the cell.\n",
    "\n",
    "</details>"
   ]
  },
  {
   "cell_type": "markdown",
   "id": "e4d14953",
   "metadata": {
    "id": "hYssqAyqAgH7",
    "papermill": {
     "duration": 0.005346,
     "end_time": "2025-02-04T04:02:25.960103",
     "exception": false,
     "start_time": "2025-02-04T04:02:25.954757",
     "status": "completed"
    },
    "tags": []
   },
   "source": [
    "## Task 2: String concatenation\n",
    "\n",
    "As you continue gathering data, you realize that the `store_id` variable is actually the ZIP Code where the store is located, but the leading `0` has been cut off.\n",
    "\n",
    "*  Define a function called `zip_checker` that accepts the following argument:\n",
    "    *  `zipcode` - a string with either four or five characters\n",
    "\n",
    "*  Return:\n",
    "    *  If `zipcode` has five characters, and the first two characters are NOT `'00'`, return `zipcode` as a string. Otherwise, return `'Invalid ZIP Code.'`. (ZIP Codes do not begin with 00 in the mainland U.S.)\n",
    "    *  If `zipcode` has four characters and the first character is NOT `'0'`, the function must add a zero to the beginning of the string and return the five-character `zipcode` as a string.\n",
    "    *  If `zipcode` has four characters and the first character is `'0'`, the function must return `'Invalid ZIP Code.'`.\n",
    "\n",
    "*Example:*\n",
    "\n",
    "```\n",
    " [IN] zip_checker('02806')\n",
    "[OUT] '02806'\n",
    "\n",
    " [IN] zip_checker('2806')\n",
    "[OUT] '02806'\n",
    "\n",
    " [IN] zip_checker('0280')\n",
    "[OUT] 'Invalid ZIP Code.'\n",
    "\n",
    " [IN] zip_checker('00280')\n",
    "[OUT] 'Invalid ZIP Code.'\n",
    "```\n",
    "\n",
    "**Note that there is more than one way to solve this problem.**"
   ]
  },
  {
   "cell_type": "code",
   "execution_count": 2,
   "id": "cecf57e1",
   "metadata": {
    "execution": {
     "iopub.execute_input": "2025-02-04T04:02:25.973725Z",
     "iopub.status.busy": "2025-02-04T04:02:25.973237Z",
     "iopub.status.idle": "2025-02-04T04:02:25.980057Z",
     "shell.execute_reply": "2025-02-04T04:02:25.978500Z"
    },
    "id": "LpOUeHDaAgH8",
    "papermill": {
     "duration": 0.015756,
     "end_time": "2025-02-04T04:02:25.981887",
     "exception": false,
     "start_time": "2025-02-04T04:02:25.966131",
     "status": "completed"
    },
    "tags": []
   },
   "outputs": [],
   "source": [
    "### YOUR CODE HERE ###\n",
    "def zip_checker(zipcode):\n",
    "    \n",
    "    # if the zipcode length is 5 and if the first 2 digits are not '00'\n",
    "    if len(zipcode) == 5 and zipcode[:2] != '00':\n",
    "        return str(zipcode)\n",
    "    \n",
    "    # if the zipcode length is 4\n",
    "    elif len(zipcode) == 4:\n",
    "            if zipcode[0] != '0':\n",
    "                return '0'+str(zipcode)\n",
    "            elif zipcode[0] == '0':\n",
    "                return 'Invalid ZIP code'\n",
    "    else:\n",
    "        return 'Invalid ZIP code'\n",
    "            "
   ]
  },
  {
   "cell_type": "markdown",
   "id": "9bbbbecb",
   "metadata": {
    "id": "VNUAga8-AgH8",
    "papermill": {
     "duration": 0.005493,
     "end_time": "2025-02-04T04:02:25.993522",
     "exception": false,
     "start_time": "2025-02-04T04:02:25.988029",
     "status": "completed"
    },
    "tags": []
   },
   "source": [
    "<details>\n",
    "    <summary><h4><strong>Hint 1</strong></h4></summary>\n",
    "\n",
    "- Refer to what you learned about defining functions in the \"Define functions and returning values\" video.\n",
    "\n",
    "- Refer to what you learned about `if, elif, else` statements in the \"Use if, elif, else statements to make decisions\" video. \n",
    "\n",
    "</details>"
   ]
  },
  {
   "cell_type": "markdown",
   "id": "e7d26f91",
   "metadata": {
    "id": "z-A02_VwAgH8",
    "papermill": {
     "duration": 0.005599,
     "end_time": "2025-02-04T04:02:26.004890",
     "exception": false,
     "start_time": "2025-02-04T04:02:25.999291",
     "status": "completed"
    },
    "tags": []
   },
   "source": [
    "<details>\n",
    "    <summary><h4><strong>Hint 2</strong></h4></summary>\n",
    "\n",
    "* Use the `len()` function to determine the length of `zipcode`.\n",
    "\n",
    "* One way to concatenate strings is to use the `+` operator.\n",
    "\n",
    "</details>"
   ]
  },
  {
   "cell_type": "markdown",
   "id": "b5b0a127",
   "metadata": {
    "id": "OSsjl5CvAgH9",
    "papermill": {
     "duration": 0.005305,
     "end_time": "2025-02-04T04:02:26.015886",
     "exception": false,
     "start_time": "2025-02-04T04:02:26.010581",
     "status": "completed"
    },
    "tags": []
   },
   "source": [
    "<details>\n",
    "    <summary><h4><strong>Hint 3</strong></h4></summary>\n",
    "\n",
    "One approach is to check the length of `zipcode`.\n",
    "If it's five characters long, check if the first two (indices `[0:2]`) are `'00'`. If they are, return `'Invalid ZIP Code.'`. Otherwise, return `zipcode`.\n",
    "Or else if the first character is not `'0'`, concatenate `'0'` and `zipcode`, then return `zipcode`.\n",
    "Otherwise, return `Invalid ZIP Code.`\n",
    "\n",
    "</details>"
   ]
  },
  {
   "cell_type": "markdown",
   "id": "5eeb87ad",
   "metadata": {
    "id": "tNPNLZLDkG_Y",
    "papermill": {
     "duration": 0.005472,
     "end_time": "2025-02-04T04:02:26.027400",
     "exception": false,
     "start_time": "2025-02-04T04:02:26.021928",
     "status": "completed"
    },
    "tags": []
   },
   "source": [
    "### Test your function\n",
    "Test your function against the following cases by running the cell below."
   ]
  },
  {
   "cell_type": "code",
   "execution_count": 3,
   "id": "cb997b22",
   "metadata": {
    "execution": {
     "iopub.execute_input": "2025-02-04T04:02:26.040824Z",
     "iopub.status.busy": "2025-02-04T04:02:26.040378Z",
     "iopub.status.idle": "2025-02-04T04:02:26.045817Z",
     "shell.execute_reply": "2025-02-04T04:02:26.044662Z"
    },
    "executionInfo": {
     "elapsed": 4,
     "status": "ok",
     "timestamp": 1679946210275,
     "user": {
      "displayName": "Matteo Riotto",
      "userId": "15211004813978485634"
     },
     "user_tz": 420
    },
    "id": "Hw6Zo-yLkGoh",
    "outputId": "bfe0b331-0c79-4028-afae-2b4088b5239b",
    "papermill": {
     "duration": 0.014433,
     "end_time": "2025-02-04T04:02:26.047764",
     "exception": false,
     "start_time": "2025-02-04T04:02:26.033331",
     "status": "completed"
    },
    "tags": []
   },
   "outputs": [
    {
     "name": "stdout",
     "output_type": "stream",
     "text": [
      "02806\n",
      "02806\n",
      "Invalid ZIP code\n",
      "Invalid ZIP code\n"
     ]
    }
   ],
   "source": [
    "print(zip_checker('02806'))     # Should return 02806.\n",
    "print(zip_checker('2806'))      # Should return 02806.\n",
    "print(zip_checker('0280'))      # Should return 'Invalid ZIP Code.'\n",
    "print(zip_checker('00280'))     # Should return 'Invalid ZIP Code.'"
   ]
  },
  {
   "cell_type": "markdown",
   "id": "feafd32c",
   "metadata": {
    "id": "IsRgCMTIAgH9",
    "papermill": {
     "duration": 0.00523,
     "end_time": "2025-02-04T04:02:26.058836",
     "exception": false,
     "start_time": "2025-02-04T04:02:26.053606",
     "status": "completed"
    },
    "tags": []
   },
   "source": [
    "## Task 3: Extract the store ID\n",
    "\n",
    "Now imagine that you've been provided `url`, which is a URL containing the store's actual ID at the end of it.\n",
    "\n",
    "1.  Extract the seven-character store ID from the end of `url` and assign the result to a variable called `id`.\n",
    "2.  Print the contents of `id`."
   ]
  },
  {
   "cell_type": "code",
   "execution_count": 4,
   "id": "1450858a",
   "metadata": {
    "execution": {
     "iopub.execute_input": "2025-02-04T04:02:26.071220Z",
     "iopub.status.busy": "2025-02-04T04:02:26.070850Z",
     "iopub.status.idle": "2025-02-04T04:02:26.076742Z",
     "shell.execute_reply": "2025-02-04T04:02:26.075447Z"
    },
    "executionInfo": {
     "elapsed": 178,
     "status": "ok",
     "timestamp": 1679251352831,
     "user": {
      "displayName": "Arwen Shackelford",
      "userId": "14614635049532489764"
     },
     "user_tz": 300
    },
    "id": "nbWgk78BAgH-",
    "outputId": "80af19c8-c7e3-4cca-a09d-046616d89f38",
    "papermill": {
     "duration": 0.014395,
     "end_time": "2025-02-04T04:02:26.078648",
     "exception": false,
     "start_time": "2025-02-04T04:02:26.064253",
     "status": "completed"
    },
    "tags": []
   },
   "outputs": [
    {
     "name": "stdout",
     "output_type": "stream",
     "text": [
      "r626c36\n"
     ]
    }
   ],
   "source": [
    "url = \"https://exampleURL1.com/r626c36\"\n",
    "\n",
    "# 1. ### YOUR CODE HERE ###\n",
    "id = url[-7:]\n",
    "\n",
    "\n",
    "# 2. ### YOUR CODE HERE ###\n",
    "print(id)"
   ]
  },
  {
   "cell_type": "markdown",
   "id": "3ebd15c2",
   "metadata": {
    "id": "UxMGjPYYAgH-",
    "papermill": {
     "duration": 0.005788,
     "end_time": "2025-02-04T04:02:26.090265",
     "exception": false,
     "start_time": "2025-02-04T04:02:26.084477",
     "status": "completed"
    },
    "tags": []
   },
   "source": [
    "<details>\n",
    "    <summary><h4><strong>Hint 1</strong></h4></summary>\n",
    "\n",
    "Refer back to what you learned about saving strings to variables and string slicing.\n",
    "\n",
    "</details>"
   ]
  },
  {
   "cell_type": "markdown",
   "id": "3f24e543",
   "metadata": {
    "id": "tgauUF4OAgH-",
    "papermill": {
     "duration": 0.005441,
     "end_time": "2025-02-04T04:02:26.101471",
     "exception": false,
     "start_time": "2025-02-04T04:02:26.096030",
     "status": "completed"
    },
    "tags": []
   },
   "source": [
    "<details>\n",
    "    <summary><h4><strong>Hint 2</strong></h4></summary>\n",
    "\n",
    "To slice a string that is stored in a variable, use indexing brackets on the variable. Inside the brackets, specify the starting and stopping values of the array, separated by a colon (`:`).\n",
    "\n",
    "</details>"
   ]
  },
  {
   "cell_type": "markdown",
   "id": "4991c3fc",
   "metadata": {
    "id": "O_3MMwZnAgH-",
    "papermill": {
     "duration": 0.005376,
     "end_time": "2025-02-04T04:02:26.112460",
     "exception": false,
     "start_time": "2025-02-04T04:02:26.107084",
     "status": "completed"
    },
    "tags": []
   },
   "source": [
    "<details>\n",
    "    <summary><h4><strong>Hint 3</strong></h4></summary>\n",
    "\n",
    "*  Note that the store ID `r626c36` is seven characters long. In the brackets containing the string indices, `[-7:]` indicates to extract the last seven characters of the string. There is no stop value in this case because an empty stop value implies `len(string)` (the ending index of the string).\n",
    "\n",
    "*  Use the `print()` function to display the slice.\n",
    "\n",
    "</details>"
   ]
  },
  {
   "cell_type": "markdown",
   "id": "02b4ab11",
   "metadata": {
    "id": "8YuKkGqfAgH-",
    "papermill": {
     "duration": 0.00547,
     "end_time": "2025-02-04T04:02:26.123532",
     "exception": false,
     "start_time": "2025-02-04T04:02:26.118062",
     "status": "completed"
    },
    "tags": []
   },
   "source": [
    "## Task 4: String extraction function\n",
    "\n",
    "You have many URLs that contain store IDs, but many of them are invalid&mdash;either because they use an invalid protocol (the beginning of the URL) or because the store ID is not seven characters long.\n",
    "\n",
    "*  The correct URL protocol is `https:` Anything else is invalid.\n",
    "*  A valid store ID must have exactly seven characters.\n",
    "\n",
    "\n",
    "Define a function called `url_checker` that accepts the following argument:\n",
    "*  `url` - a URL string\n",
    "\n",
    "Return:\n",
    "*  If both the protocol and the store ID are invalid:\n",
    "    * print two lines: <br/>\n",
    "    `'{protocol} is an invalid protocol.'` <br/>\n",
    "    `'{store_id} is an invalid store ID.'` <br/>\n",
    "*  If only the protocol is invalid:\n",
    "    * print: <br/>\n",
    "    `'{protocol} is an invalid protocol.'` <br/>\n",
    "*  If only the store ID is invalid:\n",
    "    * print: <br/>\n",
    "        `'{store_id} is an invalid store ID.'` <br/>\n",
    "*  If both the protocol and the store ID are valid, return the store ID.\n",
    "\n",
    "In the above cases, `{protocol}` is a string of the protocol and `{store_id}` is a string of the store ID.\n",
    "\n",
    "*Example:*\n",
    "\n",
    "```\n",
    " [IN] url_checker('http://exampleURL1.com/r626c3')\n",
    "[OUT] 'http: is an invalid protocol.'\n",
    "      'r626c3 is an invalid store ID.'\n",
    "\n",
    " [IN] url_checker('ftps://exampleURL1.com/r626c36')\n",
    "[OUT] 'ftps: is an invalid protocol.'\n",
    "\n",
    " [IN] url_checker('https://exampleURL1.com/r626c3')\n",
    "[OUT] 'r626c3 is an invalid store ID.'\n",
    "\n",
    " [IN] url_checker('https://exampleURL1.com/r626c36')\n",
    "[OUT] 'r626c36'\n",
    "```\n",
    "\n",
    "**Note that there is more than one way to solve this problem.**"
   ]
  },
  {
   "cell_type": "code",
   "execution_count": 5,
   "id": "97dce40d",
   "metadata": {
    "execution": {
     "iopub.execute_input": "2025-02-04T04:02:26.136639Z",
     "iopub.status.busy": "2025-02-04T04:02:26.136206Z",
     "iopub.status.idle": "2025-02-04T04:02:26.142985Z",
     "shell.execute_reply": "2025-02-04T04:02:26.141539Z"
    },
    "id": "iUHHc1ueigi4",
    "papermill": {
     "duration": 0.016,
     "end_time": "2025-02-04T04:02:26.145232",
     "exception": false,
     "start_time": "2025-02-04T04:02:26.129232",
     "status": "completed"
    },
    "tags": []
   },
   "outputs": [],
   "source": [
    "# Sample valid URL for reference while writing your function:\n",
    "url = 'https://exampleURL1.com/r626c36'\n",
    "\n",
    "### YOUR CODE HERE ###\n",
    "def url_checker(url):\n",
    "    \n",
    "    \n",
    "    # filtering the protocol type\n",
    "    protocol = url.partition('/')[0]\n",
    "    \n",
    "    # filtering out the store id\n",
    "    store_id = url.split('/')[-1]\n",
    "    \n",
    "    #check if both are true\n",
    "    if protocol == 'https:' and len(store_id) == 7:\n",
    "        return store_id\n",
    "    \n",
    "    # check if both are false\n",
    "    elif protocol != 'https:' and len(store_id) !=7:\n",
    "        print(f'{protocol} is an invalid protocol')\n",
    "        print(f'{store_id} is an invalid store ID') \n",
    "    \n",
    "    # checks if protocol alone is false\n",
    "    elif protocol != 'https:':\n",
    "        print(f'{protocol} is an invalid protocol')\n",
    "    \n",
    "    # checks if store id is alone false\n",
    "    elif len(store_id) != 7:\n",
    "        print(f'{store_id} is an invalid store ID')\n",
    "        "
   ]
  },
  {
   "cell_type": "markdown",
   "id": "da362fc1",
   "metadata": {
    "id": "hu5Po0s255b1",
    "papermill": {
     "duration": 0.006789,
     "end_time": "2025-02-04T04:02:26.158702",
     "exception": false,
     "start_time": "2025-02-04T04:02:26.151913",
     "status": "completed"
    },
    "tags": []
   },
   "source": [
    "<details>\n",
    "    <summary><h4><strong>Hint 1</strong></h4></summary>\n",
    "\n",
    "*  Consider using the `split()` method to split `url` into separate elements, then assign the first element and last element to their own variables, so you can check them.\n",
    "Refer to the [str.split() Python documentation](https://docs.python.org/3/library/stdtypes.html#str.split) for more information on this method.\n",
    "\n",
    "</details>"
   ]
  },
  {
   "cell_type": "markdown",
   "id": "2c7e6b84",
   "metadata": {
    "id": "H2m7vOVe7nph",
    "papermill": {
     "duration": 0.005693,
     "end_time": "2025-02-04T04:02:26.170166",
     "exception": false,
     "start_time": "2025-02-04T04:02:26.164473",
     "status": "completed"
    },
    "tags": []
   },
   "source": [
    "<details>\n",
    "    <summary><h4><strong>Hint 2</strong></h4></summary>\n",
    "\n",
    "There are different possible outcomes, so the logic should follow an if, elif, elif, else branching scheme.\n",
    "\n",
    "</details>"
   ]
  },
  {
   "cell_type": "markdown",
   "id": "97d5c2f8",
   "metadata": {
    "id": "ePTBNGhF79sB",
    "papermill": {
     "duration": 0.005399,
     "end_time": "2025-02-04T04:02:26.181105",
     "exception": false,
     "start_time": "2025-02-04T04:02:26.175706",
     "status": "completed"
    },
    "tags": []
   },
   "source": [
    "<details>\n",
    "    <summary><h4><strong>Hint 3</strong></h4></summary>\n",
    "\n",
    "Use string formatting to insert the URL-specific protocol string and store ID string into your print statements.\n",
    "\n",
    "</details>"
   ]
  },
  {
   "cell_type": "markdown",
   "id": "393f46c3",
   "metadata": {
    "id": "qBDtbcLj9n9d",
    "papermill": {
     "duration": 0.005454,
     "end_time": "2025-02-04T04:02:26.192231",
     "exception": false,
     "start_time": "2025-02-04T04:02:26.186777",
     "status": "completed"
    },
    "tags": []
   },
   "source": [
    "### Test your function\n",
    "Test your function against the following cases by running the cell below."
   ]
  },
  {
   "cell_type": "code",
   "execution_count": 6,
   "id": "03345ea0",
   "metadata": {
    "execution": {
     "iopub.execute_input": "2025-02-04T04:02:26.205299Z",
     "iopub.status.busy": "2025-02-04T04:02:26.204916Z",
     "iopub.status.idle": "2025-02-04T04:02:26.214900Z",
     "shell.execute_reply": "2025-02-04T04:02:26.213426Z"
    },
    "executionInfo": {
     "elapsed": 213,
     "status": "ok",
     "timestamp": 1679952730435,
     "user": {
      "displayName": "Matteo Riotto",
      "userId": "15211004813978485634"
     },
     "user_tz": 420
    },
    "id": "vle6y9719n9d",
    "outputId": "bf167846-292e-4e64-fc7c-82e3ca5616ff",
    "papermill": {
     "duration": 0.019206,
     "end_time": "2025-02-04T04:02:26.217030",
     "exception": false,
     "start_time": "2025-02-04T04:02:26.197824",
     "status": "completed"
    },
    "tags": []
   },
   "outputs": [
    {
     "name": "stdout",
     "output_type": "stream",
     "text": [
      "http: is an invalid protocol\n",
      "r626c3 is an invalid store ID\n",
      "\n",
      "ftps: is an invalid protocol\n",
      "\n",
      "r626c3 is an invalid store ID\n",
      "\n"
     ]
    },
    {
     "data": {
      "text/plain": [
       "'r626c36'"
      ]
     },
     "execution_count": 6,
     "metadata": {},
     "output_type": "execute_result"
    }
   ],
   "source": [
    "# RUN THIS CELL TO TEST YOUR FUCTION            # Should return:\n",
    "url_checker('http://exampleURL1.com/r626c3')    # 'http: is an invalid protocol.'\n",
    "print()                                         # 'r626c3 is an invalid store ID.'\n",
    "\n",
    "url_checker('ftps://exampleURL1.com/r626c36')   # 'ftps: is an invalid protocol.\n",
    "print()\n",
    "url_checker('https://exampleURL1.com/r626c3')   # 'r626c3 is an invalid store ID.'\n",
    "print()\n",
    "url_checker('https://exampleURL1.com/r626c36')  # 'r626c36'"
   ]
  },
  {
   "cell_type": "markdown",
   "id": "13bd994e",
   "metadata": {
    "id": "2YkzeLnEAgIA",
    "papermill": {
     "duration": 0.005522,
     "end_time": "2025-02-04T04:02:26.228831",
     "exception": false,
     "start_time": "2025-02-04T04:02:26.223309",
     "status": "completed"
    },
    "tags": []
   },
   "source": [
    "## Conclusions\n",
    "**What are your key takeaways from this lab?**\n",
    "\n"
   ]
  },
  {
   "cell_type": "markdown",
   "id": "b46a5b4f",
   "metadata": {
    "id": "16cy_uBYrvdP",
    "papermill": {
     "duration": 0.005456,
     "end_time": "2025-02-04T04:02:26.240018",
     "exception": false,
     "start_time": "2025-02-04T04:02:26.234562",
     "status": "completed"
    },
    "tags": []
   },
   "source": [
    "* how to wisely nest conditionals when performing string ops\n",
    "* how to parse a string based on the need\n",
    "* format statements in the print functions to feed values of variables"
   ]
  },
  {
   "cell_type": "markdown",
   "id": "93ea7b60",
   "metadata": {
    "papermill": {
     "duration": 0.005563,
     "end_time": "2025-02-04T04:02:26.251580",
     "exception": false,
     "start_time": "2025-02-04T04:02:26.246017",
     "status": "completed"
    },
    "tags": []
   },
   "source": [
    "**Congratulations!** You've completed this lab. However, you may not notice a green check mark next to this item on Coursera's platform. Please continue your progress regardless of the check mark. Just click on the \"save\" icon at the top of this notebook to ensure your work has been logged."
   ]
  }
 ],
 "metadata": {
  "colab": {
   "provenance": []
  },
  "kaggle": {
   "accelerator": "none",
   "dataSources": [],
   "dockerImageVersionId": 30839,
   "isGpuEnabled": false,
   "isInternetEnabled": true,
   "language": "python",
   "sourceType": "notebook"
  },
  "kernelspec": {
   "display_name": "Python 3",
   "language": "python",
   "name": "python3"
  },
  "language_info": {
   "codemirror_mode": {
    "name": "ipython",
    "version": 3
   },
   "file_extension": ".py",
   "mimetype": "text/x-python",
   "name": "python",
   "nbconvert_exporter": "python",
   "pygments_lexer": "ipython3",
   "version": "3.10.12"
  },
  "papermill": {
   "default_parameters": {},
   "duration": 4.235049,
   "end_time": "2025-02-04T04:02:26.882775",
   "environment_variables": {},
   "exception": null,
   "input_path": "__notebook__.ipynb",
   "output_path": "__notebook__.ipynb",
   "parameters": {},
   "start_time": "2025-02-04T04:02:22.647726",
   "version": "2.6.0"
  }
 },
 "nbformat": 4,
 "nbformat_minor": 5
}
